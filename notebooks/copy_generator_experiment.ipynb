{
 "cells": [
  {
   "cell_type": "code",
   "execution_count": 1,
   "metadata": {},
   "outputs": [],
   "source": [
    "from models_and_trainers.copy_gen_transformer import CopyGeneratorTransformer\n",
    "\n",
    "import numpy as np\n",
    "import time\n",
    "import math\n",
    "import torch\n",
    "import torch.nn as nn\n",
    "import torchtext\n",
    "from torchtext.data import Field, BucketIterator\n",
    "\n",
    "from utils.useful_utils import string_split_v3, string_split_v2, string_split_v1\n",
    "from utils.metrics import nltk_bleu\n",
    "from utils.dataset_loaders import SRC_TGT_pairs\n",
    "import utils.beam_search as beam_search\n",
    "import tqdm.notebook as tqdm \n",
    "\n",
    "from models_and_trainers.trainers import Model_Trainer\n",
    "from utils.data2dataset_fns import data2dataset_shared_vocab_with_OOVs, CustomEncode, BERTEncode\n",
    "from utils.evaluate_fns import evaluate, batch_to_output_autorregressive, create_eval_fn\n",
    "\n",
    "from utils.vocab_classes import Shared_Vocab, BERT_Vocab\n",
    "%load_ext line_profiler\n",
    "%load_ext autoreload\n",
    "%autoreload 2"
   ]
  },
  {
   "cell_type": "code",
   "execution_count": 2,
   "metadata": {},
   "outputs": [
    {
     "name": "stdout",
     "output_type": "stream",
     "text": [
      "Using: cuda\n"
     ]
    }
   ],
   "source": [
    "device = torch.device(\"cuda\" if torch.cuda.is_available() else \"cpu\")\n",
    "if device == \"cuda\":\n",
    "    torch.cuda.set_device(0) # choose GPU from nvidia-smi \n",
    "print(\"Using:\", device)"
   ]
  },
  {
   "cell_type": "code",
   "execution_count": 3,
   "metadata": {},
   "outputs": [],
   "source": [
    "src_train_fp = \"datasets/CoNaLa/conala-train.src\"\n",
    "tgt_train_fp = \"datasets/CoNaLa/conala-train.tgt\"\n",
    "src_test_fp = \"datasets/CoNaLa/conala-test.src\"\n",
    "tgt_test_fp = \"datasets/CoNaLa/conala-test.tgt\"\n",
    "\n",
    "max_seq_len = 100\n",
    "\n",
    "train_samples = SRC_TGT_pairs(src_train_fp, tgt_train_fp, max_seq_len=max_seq_len).samples\n",
    "test_samples = SRC_TGT_pairs(src_test_fp, tgt_test_fp, max_seq_len=max_seq_len).samples"
   ]
  },
  {
   "cell_type": "code",
   "execution_count": 4,
   "metadata": {},
   "outputs": [],
   "source": [
    "vocab_size = 850"
   ]
  },
  {
   "cell_type": "code",
   "execution_count": 5,
   "metadata": {},
   "outputs": [],
   "source": [
    "vocab = Shared_Vocab(train_samples, vocab_size, string_split_v3, use_OOVs=True)"
   ]
  },
  {
   "cell_type": "code",
   "execution_count": 6,
   "metadata": {},
   "outputs": [],
   "source": [
    "encode_fn = CustomEncode(vocab)"
   ]
  },
  {
   "cell_type": "code",
   "execution_count": 7,
   "metadata": {},
   "outputs": [],
   "source": [
    "train_dataset = data2dataset_shared_vocab_with_OOVs(train_samples, encode_fn, vocab)\n",
    "test_dataset = data2dataset_shared_vocab_with_OOVs(test_samples, encode_fn, vocab)"
   ]
  },
  {
   "cell_type": "code",
   "execution_count": 8,
   "metadata": {},
   "outputs": [],
   "source": [
    "batch_size = 32\n",
    "\n",
    "train_iterator = BucketIterator(\n",
    "    train_dataset,\n",
    "    batch_size = batch_size,\n",
    "    repeat=True,\n",
    "    shuffle=True,\n",
    "    sort=True,\n",
    "    sort_key = lambda x: len(x.src)+len(x.tgt),\n",
    "    device = device)\n",
    "\n",
    "test_iterator = BucketIterator(\n",
    "    test_dataset,\n",
    "    batch_size = batch_size,\n",
    "    sort=True,\n",
    "    sort_key = lambda x: len(x.src)+len(x.tgt),\n",
    "    device = device)"
   ]
  },
  {
   "cell_type": "code",
   "execution_count": 9,
   "metadata": {},
   "outputs": [
    {
     "data": {
      "text/plain": [
       "'sum ( d * 10 * * i for i , d in enumerate ( x [ : : - 1 ] ) )'"
      ]
     },
     "execution_count": 9,
     "metadata": {},
     "output_type": "execute_result"
    }
   ],
   "source": [
    "sample = next(iter(train_dataset))\n",
    "vocab.decode_input(sample.tgt, sample.OOVs)"
   ]
  },
  {
   "cell_type": "code",
   "execution_count": 10,
   "metadata": {},
   "outputs": [
    {
     "name": "stdout",
     "output_type": "stream",
     "text": [
      "encoder_input    : <sos> reverse a list ` array ` <eos>\n",
      "decoder_input    : <sos> reversed ( array ) <eos> <pad> <pad>\n",
      "\n"
     ]
    }
   ],
   "source": [
    "for i, batch in enumerate(train_iterator):\n",
    "    for idx in range(batch_size):\n",
    "        encoder_input = batch.src.cpu()[:,idx].tolist()\n",
    "        decoder_input = batch.tgt.cpu()[:,idx].tolist()\n",
    "        OOVs = batch.OOVs.cpu()[:,idx].tolist()\n",
    "\n",
    "        print(\"encoder_input    :\",vocab.decode_input(encoder_input, OOVs))\n",
    "        print(\"decoder_input    :\",vocab.decode_output(decoder_input, OOVs))\n",
    "        print()\n",
    "        break\n",
    "    break"
   ]
  },
  {
   "cell_type": "code",
   "execution_count": 11,
   "metadata": {},
   "outputs": [],
   "source": [
    "output_vocab_size = vocab.size+max_seq_len\n",
    "model = CopyGeneratorTransformer(vocab_size=output_vocab_size, embed_dim=512, att_heads=8, layers=4, dim_feedforward=1024).to(device)"
   ]
  },
  {
   "cell_type": "code",
   "execution_count": 12,
   "metadata": {},
   "outputs": [
    {
     "data": {
      "text/plain": [
       "950"
      ]
     },
     "execution_count": 12,
     "metadata": {},
     "output_type": "execute_result"
    }
   ],
   "source": [
    "output_vocab_size"
   ]
  },
  {
   "cell_type": "code",
   "execution_count": 13,
   "metadata": {},
   "outputs": [],
   "source": [
    "criterion = nn.CrossEntropyLoss(ignore_index=vocab.stoi['<pad>'])\n",
    "params = model.parameters()\n",
    "\n",
    "def train_step(batch):\n",
    "    total_loss = 0.\n",
    "    start_time = time.time()\n",
    "    encoder_input = batch.src\n",
    "    decoder_input = batch.tgt[:-1]\n",
    "    targets = batch.tgt[1:]\n",
    "\n",
    "    optimizer.zero_grad()\n",
    "    output = model(encoder_input, decoder_input)\n",
    "\n",
    "    loss = criterion(output.view(-1, output_vocab_size), targets.view(-1))\n",
    "    loss.backward()\n",
    "    torch.nn.utils.clip_grad_norm_(params, 0.5)\n",
    "    optimizer.step()\n",
    "    elapsed = time.time() - start_time\n",
    "    return loss"
   ]
  },
  {
   "cell_type": "code",
   "execution_count": 14,
   "metadata": {},
   "outputs": [],
   "source": [
    "def batch_filter_ids(batch_list):\n",
    "    SOS_token=vocab.stoi[\"<sos>\"]\n",
    "    EOS_token=vocab.stoi[\"<eos>\"]\n",
    "    PAD_token=vocab.stoi[\"<pad>\"]\n",
    "    return [[id for id in l if id not in [SOS_token,EOS_token,PAD_token]] for l in batch_list]\n",
    "\n",
    "def evaluate(iterator):\n",
    "    model.eval() # Turn on the evaluation mode\n",
    "    with torch.no_grad(), open(\"BERT_code_generator.out\", \"w\", encoding=\"utf-8\") as out_fp:\n",
    "        BLEU_scores = []\n",
    "        pbar = tqdm.tqdm(enumerate(iterator), total=len(iterator))\n",
    "        for i, batch in pbar:\n",
    "            batch_size = batch.src.shape[1]\n",
    "            \n",
    "            encoder_inputs = batch.src\n",
    "            predictions = beam_search.beam_search_decode(model,\n",
    "                              batch_encoder_ids=encoder_inputs,\n",
    "                              SOS_token=vocab.stoi[\"<sos>\"],\n",
    "                              EOS_token=vocab.stoi[\"<eos>\"],\n",
    "                              PAD_token=vocab.stoi[\"<pad>\"],\n",
    "                              beam_size=1,\n",
    "                              max_length=max_seq_len,\n",
    "                              num_out=1)\n",
    "            \n",
    "            sources = encoder_inputs.transpose(0,1).cpu().tolist()\n",
    "            sources = batch_filter_ids(sources)\n",
    "            \n",
    "            predictions = [t[0].view(-1).cpu().tolist() for t in predictions]\n",
    "            predictions = batch_filter_ids(predictions)\n",
    "            \n",
    "            targets = batch.tgt.transpose(0,1).cpu().tolist()\n",
    "            targets = batch_filter_ids(targets)\n",
    "            \n",
    "            for j in range(batch_size):\n",
    "                BLEU = nltk_bleu(targets[j], predictions[j])\n",
    "                BLEU_scores.append(BLEU)\n",
    "                OOV_ids = batch.OOVs.cpu()[:,idx].tolist()\n",
    "                \n",
    "                out_fp.write(\"SRC  :\" + vocab.decode(sources[j],OOV_ids) + \"\\n\")\n",
    "                out_fp.write(\"TGT  :\" + vocab.decode(targets[j],OOV_ids) + \"\\n\")\n",
    "                out_fp.write(\"PRED :\" + vocab.decode(predictions[j],OOV_ids) + \"\\n\")\n",
    "                out_fp.write(\"BLEU :\" + str(BLEU) + \"\\n\")\n",
    "                out_fp.write(\"\\n\")\n",
    "            pbar.set_description(f\"BLEU:{np.average(BLEU_scores):5.2f}\")\n",
    "        final_BLEU = np.average(BLEU_scores)\n",
    "        \n",
    "        out_fp.write(\"\\n\\n| EVALUATION | BLEU: {:5.2f} |\\n\".format(final_BLEU))\n",
    "        print(\"| EVALUATION | BLEU: {:5.3f} |\".format(final_BLEU))\n",
    "    return (final_BLEU)"
   ]
  },
  {
   "cell_type": "code",
   "execution_count": 15,
   "metadata": {},
   "outputs": [],
   "source": [
    "eval_fn = create_eval_fn(model, \n",
    "                         test_iterator, \n",
    "                         batch_to_output_autorregressive, \n",
    "                         vocab, \n",
    "                         out_file=\"small_transformer_Custom_tokenizer_CoNaLa.out\", \n",
    "                         max_seq_len=100)"
   ]
  },
  {
   "cell_type": "code",
   "execution_count": 16,
   "metadata": {},
   "outputs": [
    {
     "ename": "AttributeError",
     "evalue": "'SGD' object has no attribute 'stats'",
     "output_type": "error",
     "traceback": [
      "\u001b[0;31m---------------------------------------------------------------------------\u001b[0m",
      "\u001b[0;31mAttributeError\u001b[0m                            Traceback (most recent call last)",
      "\u001b[0;32m<ipython-input-16-5d3ad2f8c20d>\u001b[0m in \u001b[0;36m<module>\u001b[0;34m\u001b[0m\n\u001b[1;32m      3\u001b[0m \u001b[0mscheduler\u001b[0m \u001b[0;34m=\u001b[0m \u001b[0mtorch\u001b[0m\u001b[0;34m.\u001b[0m\u001b[0moptim\u001b[0m\u001b[0;34m.\u001b[0m\u001b[0mlr_scheduler\u001b[0m\u001b[0;34m.\u001b[0m\u001b[0mStepLR\u001b[0m\u001b[0;34m(\u001b[0m\u001b[0moptimizer\u001b[0m\u001b[0;34m,\u001b[0m \u001b[0;36m1.0\u001b[0m\u001b[0;34m,\u001b[0m \u001b[0mgamma\u001b[0m\u001b[0;34m=\u001b[0m\u001b[0;36m0.99\u001b[0m\u001b[0;34m)\u001b[0m\u001b[0;34m\u001b[0m\u001b[0;34m\u001b[0m\u001b[0m\n\u001b[1;32m      4\u001b[0m \u001b[0;34m\u001b[0m\u001b[0m\n\u001b[0;32m----> 5\u001b[0;31m \u001b[0mtrainer\u001b[0m \u001b[0;34m=\u001b[0m \u001b[0mModel_Trainer\u001b[0m\u001b[0;34m(\u001b[0m\u001b[0moptimizer\u001b[0m\u001b[0;34m,\u001b[0m \u001b[0mscheduler\u001b[0m\u001b[0;34m)\u001b[0m\u001b[0;34m\u001b[0m\u001b[0;34m\u001b[0m\u001b[0m\n\u001b[0m",
      "\u001b[0;32m/nfs/phd_by_carlos/notebooks/models_and_trainers/trainers.py\u001b[0m in \u001b[0;36m__init__\u001b[0;34m(self, model, vocab, test_iterator, eval_file)\u001b[0m\n\u001b[1;32m     15\u001b[0m         \u001b[0mself\u001b[0m\u001b[0;34m.\u001b[0m\u001b[0mtest_iterator\u001b[0m \u001b[0;34m=\u001b[0m \u001b[0mtest_iterator\u001b[0m\u001b[0;34m\u001b[0m\u001b[0;34m\u001b[0m\u001b[0m\n\u001b[1;32m     16\u001b[0m         \u001b[0mself\u001b[0m\u001b[0;34m.\u001b[0m\u001b[0meval_file\u001b[0m \u001b[0;34m=\u001b[0m \u001b[0meval_file\u001b[0m\u001b[0;34m\u001b[0m\u001b[0;34m\u001b[0m\u001b[0m\n\u001b[0;32m---> 17\u001b[0;31m         \u001b[0mself\u001b[0m\u001b[0;34m.\u001b[0m\u001b[0mmodel\u001b[0m\u001b[0;34m.\u001b[0m\u001b[0mstats\u001b[0m\u001b[0;34m[\u001b[0m\u001b[0;34m\"train_loss\"\u001b[0m\u001b[0;34m]\u001b[0m \u001b[0;34m=\u001b[0m \u001b[0;34m[\u001b[0m\u001b[0;34m]\u001b[0m\u001b[0;34m\u001b[0m\u001b[0;34m\u001b[0m\u001b[0m\n\u001b[0m\u001b[1;32m     18\u001b[0m         \u001b[0mself\u001b[0m\u001b[0;34m.\u001b[0m\u001b[0mmodel\u001b[0m\u001b[0;34m.\u001b[0m\u001b[0mstats\u001b[0m\u001b[0;34m[\u001b[0m\u001b[0;34m\"eval_scores\"\u001b[0m\u001b[0;34m]\u001b[0m \u001b[0;34m=\u001b[0m \u001b[0;34m[\u001b[0m\u001b[0;34m]\u001b[0m\u001b[0;34m\u001b[0m\u001b[0;34m\u001b[0m\u001b[0m\n\u001b[1;32m     19\u001b[0m \u001b[0;34m\u001b[0m\u001b[0m\n",
      "\u001b[0;31mAttributeError\u001b[0m: 'SGD' object has no attribute 'stats'"
     ]
    }
   ],
   "source": [
    "lr = 0.005 # learning rate\n",
    "optimizer = torch.optim.SGD(model.parameters(), lr=lr)\n",
    "scheduler = torch.optim.lr_scheduler.StepLR(optimizer, 1.0, gamma=0.99)\n",
    "\n",
    "trainer = Model_Trainer(optimizer, scheduler)"
   ]
  },
  {
   "cell_type": "code",
   "execution_count": null,
   "metadata": {},
   "outputs": [],
   "source": [
    "scores = trainer.train(model,train_iterator,train_step,500000,eval_fn=eval_fn, eval_interval=10000)"
   ]
  },
  {
   "cell_type": "code",
   "execution_count": 29,
   "metadata": {},
   "outputs": [
    {
     "data": {
      "image/png": "[encoded data removed]",
      "text/plain": [
       "<Figure size 432x288 with 1 Axes>"
      ]
     },
     "metadata": {
      "needs_background": "light"
     },
     "output_type": "display_data"
    }
   ],
   "source": [
    "import matplotlib.pyplot as plt\n",
    "plt.plot(scores)\n",
    "plt.title(\"4 layer small transformer from scratch on CoNaLa, \\nCustom tokenization, 10k steps per eval\")\n",
    "plt.show()"
   ]
  },
  {
   "cell_type": "markdown",
   "metadata": {},
   "source": [
    "## Performance profiling"
   ]
  },
  {
   "cell_type": "code",
   "execution_count": 37,
   "metadata": {},
   "outputs": [],
   "source": [
    "def func1():\n",
    "    a = 3\n",
    "    time.sleep(0.1)\n",
    "    return a\n",
    "    \n",
    "def func2():\n",
    "    b = \"foo\"\n",
    "    c = func1()\n",
    "    return c"
   ]
  },
  {
   "cell_type": "code",
   "execution_count": 17,
   "metadata": {
    "collapsed": true,
    "jupyter": {
     "outputs_hidden": true
    }
   },
   "outputs": [
    {
     "data": {
      "application/vnd.jupyter.widget-view+json": {
       "model_id": "7d4a0725e60143e98a00748bbc4a27c8",
       "version_major": 2,
       "version_minor": 0
      },
      "text/plain": [
       "HBox(children=(IntProgress(value=0, max=50), HTML(value='')))"
      ]
     },
     "metadata": {},
     "output_type": "display_data"
    },
    {
     "name": "stdout",
     "output_type": "stream",
     "text": [
      "Finished training\n"
     ]
    },
    {
     "data": {
      "text/plain": [
       "Timer unit: 1e-06 s\n",
       "\n",
       "Total time: 0.529808 s\n",
       "File: /nfs/phd_by_carlos/notebooks/models_and_trainers/exposed_transformer.py\n",
       "Function: forward at line 73\n",
       "\n",
       "Line #      Hits         Time  Per Hit   % Time  Line Contents\n",
       "==============================================================\n",
       "    73                                               def forward(self, src, tgt, src_mask=None, tgt_mask=None,\n",
       "    74                                                           memory_mask=None, src_key_padding_mask=None,\n",
       "    75                                                           tgt_key_padding_mask=None, memory_key_padding_mask=None):\n",
       "    76                                                   r\"\"\"Take in and process masked source/target sequences.\n",
       "    77                                           \n",
       "    78                                                   Args:\n",
       "    79                                                       src: the sequence to the encoder (required).\n",
       "    80                                                       tgt: the sequence to the decoder (required).\n",
       "    81                                                       src_mask: the additive mask for the src sequence (optional).\n",
       "    82                                                       tgt_mask: the additive mask for the tgt sequence (optional).\n",
       "    83                                                       memory_mask: the additive mask for the encoder output (optional).\n",
       "    84                                                       src_key_padding_mask: the ByteTensor mask for src keys per batch (optional).\n",
       "    85                                                       tgt_key_padding_mask: the ByteTensor mask for tgt keys per batch (optional).\n",
       "    86                                                       memory_key_padding_mask: the ByteTensor mask for memory keys per batch (optional).\n",
       "    87                                           \n",
       "    88                                                   Shape:\n",
       "    89                                                       - src: :math:`(S, N, E)`.\n",
       "    90                                                       - tgt: :math:`(T, N, E)`.\n",
       "    91                                                       - src_mask: :math:`(S, S)`.\n",
       "    92                                                       - tgt_mask: :math:`(T, T)`.\n",
       "    93                                                       - memory_mask: :math:`(T, S)`.\n",
       "    94                                                       - src_key_padding_mask: :math:`(N, S)`.\n",
       "    95                                                       - tgt_key_padding_mask: :math:`(N, T)`.\n",
       "    96                                                       - memory_key_padding_mask: :math:`(N, S)`.\n",
       "    97                                           \n",
       "    98                                                       Note: [src/tgt/memory]_mask should be filled with\n",
       "    99                                                       float('-inf') for the masked positions and float(0.0) else. These masks\n",
       "   100                                                       ensure that predictions for position i depend only on the unmasked positions\n",
       "   101                                                       j and are applied identically for each sequence in a batch.\n",
       "   102                                                       [src/tgt/memory]_key_padding_mask should be a ByteTensor where True values are positions\n",
       "   103                                                       that should be masked with float('-inf') and False values will be unchanged.\n",
       "   104                                                       This mask ensures that no information will be taken from position i if\n",
       "   105                                                       it is masked, and has a separate mask for each sequence in a batch.\n",
       "   106                                           \n",
       "   107                                                       - output: :math:`(T, N, E)`.\n",
       "   108                                           \n",
       "   109                                                       Note: Due to the multi-head attention architecture in the transformer model,\n",
       "   110                                                       the output sequence length of a transformer is same as the input sequence\n",
       "   111                                                       (i.e. target) length of the decode.\n",
       "   112                                           \n",
       "   113                                                       where S is the source sequence length, T is the target sequence length, N is the\n",
       "   114                                                       batch size, E is the feature number\n",
       "   115                                           \n",
       "   116                                                   Examples:\n",
       "   117                                                       >>> output = transformer_model(src, tgt, src_mask=src_mask, tgt_mask=tgt_mask)\n",
       "   118                                                   \"\"\"\n",
       "   119                                           \n",
       "   120        49        216.0      4.4      0.0          if src.size(1) != tgt.size(1):\n",
       "   121                                                       raise RuntimeError(\"the batch number of src and tgt must be equal\")\n",
       "   122                                           \n",
       "   123        49         85.0      1.7      0.0          if src.size(2) != self.d_model or tgt.size(2) != self.d_model:\n",
       "   124                                                       raise RuntimeError(\"the feature number of src and tgt must be equal to d_model\")\n",
       "   125                                           \n",
       "   126        49     208735.0   4259.9     39.4          memory = self.encoder(src, mask=src_mask, src_key_padding_mask=src_key_padding_mask)\n",
       "   127        49        276.0      5.6      0.1          output, atts = self.decoder(tgt, memory, tgt_mask=tgt_mask, memory_mask=memory_mask,\n",
       "   128        49         25.0      0.5      0.0                                tgt_key_padding_mask=tgt_key_padding_mask,\n",
       "   129        49     320405.0   6538.9     60.5                                memory_key_padding_mask=memory_key_padding_mask)\n",
       "   130        49         66.0      1.3      0.0          return output, atts"
      ]
     },
     "metadata": {},
     "output_type": "display_data"
    }
   ],
   "source": [
    "%lprun -f model.transformer.forward trainer.train(model,train_iterator,train_step,50) "
   ]
  },
  {
   "cell_type": "code",
   "execution_count": 56,
   "metadata": {},
   "outputs": [],
   "source": [
    "it = iter(train_iterator)"
   ]
  },
  {
   "cell_type": "code",
   "execution_count": 52,
   "metadata": {
    "collapsed": true,
    "jupyter": {
     "outputs_hidden": true
    }
   },
   "outputs": [
    {
     "data": {
      "text/plain": [
       "Timer unit: 1e-06 s\n",
       "\n",
       "Total time: 0.14072 s\n",
       "File: /nfs/phd_by_carlos/notebooks/models_and_trainers/copy_gen_transformer.py\n",
       "Function: forward at line 202\n",
       "\n",
       "Line #      Hits         Time  Per Hit   % Time  Line Contents\n",
       "==============================================================\n",
       "   202                                               def forward(self, src, tgt):\n",
       "   203         1      49978.0  49978.0     35.5          self.tgt_mask = self._generate_square_subsequent_mask(len(tgt)).to(self.device) if self.masked_look_ahead_att else None\n",
       "   204                                                   \n",
       "   205                                           \n",
       "   206         1        993.0    993.0      0.7          src_emb = self.src_embedder(src) * math.sqrt(self.embedding_size)\n",
       "   207                                                   \n",
       "   208         1       1350.0   1350.0      1.0          tgt_emb = self.tgt_embedder(tgt) * math.sqrt(self.embedding_size)\n",
       "   209                                                   \n",
       "   210         1      86841.0  86841.0     61.7          output, atts = self.transformer(src_emb, tgt_emb, tgt_mask=self.tgt_mask)\n",
       "   211         1         97.0     97.0      0.1          vocab_output = self.decoder(output)\n",
       "   212                                                   \n",
       "   213         1          2.0      2.0      0.0          if self.use_copy:\n",
       "   214         1          7.0      7.0      0.0              src_scat = src.transpose(0,1)\n",
       "   215         1          6.0      6.0      0.0              src_scat = src_scat.unsqueeze(0)\n",
       "   216         1       1063.0   1063.0      0.8              src_scat = torch.repeat_interleave(src_scat, tgt.shape[0], dim=0)\n",
       "   217                                               #         print(\"src_scat.shqape\", src_scat.shape)\n",
       "   218                                           \n",
       "   219         1        148.0    148.0      0.1              p_gens = self.p_generator(output).sigmoid()\n",
       "   220         1          8.0      8.0      0.0              atts = atts.transpose(0,1)\n",
       "   221                                               #         print(\"att.shqape\", atts.shape)\n",
       "   222         1        101.0    101.0      0.1              atts = atts * (1 - p_gens)\n",
       "   223                                           \n",
       "   224                                           #             output = self.decoder(output)\n",
       "   225                                               #         output[:,:,12:] = -np.inf\n",
       "   226         1         26.0     26.0      0.0              vocab_output = vocab_output.softmax(-1)\n",
       "   227         1         22.0     22.0      0.0              vocab_output = vocab_output * p_gens\n",
       "   228                                           \n",
       "   229         1         45.0     45.0      0.0              vocab_output = vocab_output.scatter_add_(2,src_scat,atts)\n",
       "   230         1         32.0     32.0      0.0              vocab_output = vocab_output.log()\n",
       "   231                                                   \n",
       "   232         1          1.0      1.0      0.0          return vocab_output"
      ]
     },
     "metadata": {},
     "output_type": "display_data"
    }
   ],
   "source": [
    "%lprun -f model.forward train_step(batch) "
   ]
  },
  {
   "cell_type": "code",
   "execution_count": 30,
   "metadata": {},
   "outputs": [
    {
     "data": {
      "application/vnd.jupyter.widget-view+json": {
       "model_id": "011bf55059a6463194268a74320d3847",
       "version_major": 2,
       "version_minor": 0
      },
      "text/plain": [
       "HBox(children=(IntProgress(value=0, max=59), HTML(value='')))"
      ]
     },
     "metadata": {},
     "output_type": "display_data"
    },
    {
     "name": "stdout",
     "output_type": "stream",
     "text": [
      "\n",
      "| EVALUATION | BLEU: 0.233 |\n"
     ]
    },
    {
     "data": {
      "text/plain": [
       "0.23335973817926922"
      ]
     },
     "execution_count": 30,
     "metadata": {},
     "output_type": "execute_result"
    }
   ],
   "source": [
    "evaluate(test_iterator)"
   ]
  },
  {
   "cell_type": "code",
   "execution_count": 28,
   "metadata": {},
   "outputs": [
    {
     "data": {
      "application/vnd.jupyter.widget-view+json": {
       "model_id": "1c9541bc45bf4d9abf1b1e68ea25523b",
       "version_major": 2,
       "version_minor": 0
      },
      "text/plain": [
       "HBox(children=(IntProgress(value=0, max=59), HTML(value='')))"
      ]
     },
     "metadata": {},
     "output_type": "display_data"
    },
    {
     "name": "stdout",
     "output_type": "stream",
     "text": [
      "\n",
      "| EVALUATION | BLEU: 0.233 |\n"
     ]
    },
    {
     "data": {
      "text/plain": [
       "0.23340242687774862"
      ]
     },
     "execution_count": 28,
     "metadata": {},
     "output_type": "execute_result"
    }
   ],
   "source": [
    "evaluate(model, test_iterator, batch_to_output_autorregressive, vocab)"
   ]
  },
  {
   "cell_type": "markdown",
   "metadata": {},
   "source": [
    "# Using updated classes for modularity"
   ]
  },
  {
   "cell_type": "code",
   "execution_count": 1,
   "metadata": {},
   "outputs": [
    {
     "name": "stdout",
     "output_type": "stream",
     "text": [
      "Using: cuda\n"
     ]
    }
   ],
   "source": [
    "from models_and_trainers.autoregressive_transformer import AutoregressiveTransformer\n",
    "from utils.dataset_loaders import SRC_TGT_pairs\n",
    "from utils.vocab_classes import Shared_Vocab, BERT_Vocab\n",
    "from utils.useful_utils import string_split_v3, string_split_v2, string_split_v1\n",
    "from models_and_trainers.trainers import Model_Trainer\n",
    "from models_and_trainers.retrieval import PyLuceneRetriever\n",
    "import torch\n",
    "import torch.nn as nn\n",
    "from torchtext.data import Field, BucketIterator\n",
    "\n",
    "%load_ext autoreload\n",
    "%autoreload 2\n",
    "\n",
    "device = torch.device(\"cuda\" if torch.cuda.is_available() else \"cpu\")\n",
    "if device == \"cuda\":\n",
    "    torch.cuda.set_device(0) # choose GPU from nvidia-smi \n",
    "print(\"Using:\", device)"
   ]
  },
  {
   "cell_type": "code",
   "execution_count": 2,
   "metadata": {},
   "outputs": [],
   "source": [
    "max_seq_len = 50\n",
    "vocab_size = 850\n",
    "batch_size = 32\n",
    "embed_dim = 512\n",
    "att_heads = 8\n",
    "layers = 4\n",
    "dim_feedforward = 1024\n",
    "steps = 500000\n",
    "save_interval=2000\n",
    "eval_interval=400\n",
    "log_interval = 100\n",
    "lr = 0.005\n",
    "eval_file = \"model_eval_outputs.txt\"\n",
    "\n",
    "src_train_fp = \"datasets/django_folds/django.fold1-10.train.src\"\n",
    "tgt_train_fp = \"datasets/django_folds/django.fold1-10.train.tgt\"\n",
    "src_test_fp = \"datasets/django_folds/django.fold1-10.test.src\"\n",
    "tgt_test_fp = \"datasets/django_folds/django.fold1-10.test.tgt\""
   ]
  },
  {
   "cell_type": "code",
   "execution_count": 3,
   "metadata": {},
   "outputs": [],
   "source": [
    "train_samples = SRC_TGT_pairs(src_train_fp, tgt_train_fp, max_seq_len=max_seq_len).samples\n",
    "test_samples = SRC_TGT_pairs(src_test_fp, tgt_test_fp, max_seq_len=max_seq_len).samples"
   ]
  },
  {
   "cell_type": "code",
   "execution_count": 8,
   "metadata": {},
   "outputs": [
    {
     "name": "stdout",
     "output_type": "stream",
     "text": [
      "JVM Running\n"
     ]
    }
   ],
   "source": [
    "retriever = PyLuceneRetriever()\n",
    "src_train_data = [src for src,tgt in train_samples]\n",
    "retriever.add_multiple_docs(src_train_data)\n",
    "\n",
    "train_samples = retriever.augment_src_with_retrieval(train_samples,train_samples, rank_return=1)\n",
    "test_samples = retriever.augment_src_with_retrieval(test_samples,train_samples, rank_return=0)"
   ]
  },
  {
   "cell_type": "code",
   "execution_count": 13,
   "metadata": {},
   "outputs": [
    {
     "data": {
      "text/plain": [
       "('from threading import local into default name space. <CODE> from threading import local',\n",
       " 'from threading import local')"
      ]
     },
     "execution_count": 13,
     "metadata": {},
     "output_type": "execute_result"
    }
   ],
   "source": [
    "test_samples[0]"
   ]
  },
  {
   "cell_type": "code",
   "execution_count": 4,
   "metadata": {},
   "outputs": [],
   "source": [
    "vocab = Shared_Vocab(train_samples, vocab_size, string_split_v3, use_OOVs=True)"
   ]
  },
  {
   "cell_type": "code",
   "execution_count": 5,
   "metadata": {},
   "outputs": [],
   "source": [
    "model = AutoregressiveTransformer(vocab_size=vocab_size, embed_dim=embed_dim, att_heads=att_heads, \\\n",
    "                                  layers=layers, dim_feedforward=dim_feedforward).to(device)\n",
    "model.init_train_params(vocab, lr=lr)"
   ]
  },
  {
   "cell_type": "code",
   "execution_count": 6,
   "metadata": {},
   "outputs": [],
   "source": [
    "train_dataset = model.data2dataset(train_samples, vocab)\n",
    "test_dataset = model.data2dataset(test_samples, vocab)\n",
    "\n",
    "train_iterator = BucketIterator(\n",
    "    train_dataset,\n",
    "    batch_size = batch_size,\n",
    "    repeat=True,\n",
    "    shuffle=True,\n",
    "    sort=True,\n",
    "    sort_key = model.sample_order_fn,\n",
    "    device = device)\n",
    "\n",
    "test_iterator = BucketIterator(\n",
    "    test_dataset,\n",
    "    batch_size = batch_size,\n",
    "    sort=True,\n",
    "    sort_key = model.sample_order_fn,\n",
    "    device = device)"
   ]
  },
  {
   "cell_type": "code",
   "execution_count": 7,
   "metadata": {},
   "outputs": [],
   "source": [
    "trainer = Model_Trainer(model, vocab, test_iterator=test_iterator, eval_file=eval_file)"
   ]
  },
  {
   "cell_type": "code",
   "execution_count": 8,
   "metadata": {},
   "outputs": [
    {
     "data": {
      "application/vnd.jupyter.widget-view+json": {
       "model_id": "119a19070c614d8997fff97fc024525c",
       "version_major": 2,
       "version_minor": 0
      },
      "text/plain": [
       "HBox(children=(IntProgress(value=0, max=500000), HTML(value='')))"
      ]
     },
     "metadata": {},
     "output_type": "display_data"
    },
    {
     "name": "stdout",
     "output_type": "stream",
     "text": [
      "Evaluating model\n"
     ]
    },
    {
     "data": {
      "application/vnd.jupyter.widget-view+json": {
       "model_id": "68fe31371c534bae992b1872c5bba53c",
       "version_major": 2,
       "version_minor": 0
      },
      "text/plain": [
       "HBox(children=(IntProgress(value=0, max=59), HTML(value='')))"
      ]
     },
     "metadata": {},
     "output_type": "display_data"
    },
    {
     "name": "stdout",
     "output_type": "stream",
     "text": [
      "\n",
      "sample_BLEU:0.04460608202004834\n",
      "Evaluating model\n"
     ]
    },
    {
     "data": {
      "application/vnd.jupyter.widget-view+json": {
       "model_id": "42924cbf961d4b42968751513e2bb951",
       "version_major": 2,
       "version_minor": 0
      },
      "text/plain": [
       "HBox(children=(IntProgress(value=0, max=59), HTML(value='')))"
      ]
     },
     "metadata": {},
     "output_type": "display_data"
    },
    {
     "name": "stdout",
     "output_type": "stream",
     "text": [
      "\n",
      "sample_BLEU:0.16494347550121205\n",
      "Evaluating model\n"
     ]
    },
    {
     "data": {
      "application/vnd.jupyter.widget-view+json": {
       "model_id": "9cf768559c0940bc9838fe174600357a",
       "version_major": 2,
       "version_minor": 0
      },
      "text/plain": [
       "HBox(children=(IntProgress(value=0, max=59), HTML(value='')))"
      ]
     },
     "metadata": {},
     "output_type": "display_data"
    },
    {
     "name": "stdout",
     "output_type": "stream",
     "text": [
      "\n",
      "sample_BLEU:0.25489014684604977\n",
      "Evaluating model\n"
     ]
    },
    {
     "data": {
      "application/vnd.jupyter.widget-view+json": {
       "model_id": "0fc3571ac14240f093b7af101884ba7a",
       "version_major": 2,
       "version_minor": 0
      },
      "text/plain": [
       "HBox(children=(IntProgress(value=0, max=59), HTML(value='')))"
      ]
     },
     "metadata": {},
     "output_type": "display_data"
    },
    {
     "name": "stdout",
     "output_type": "stream",
     "text": [
      "\n",
      "sample_BLEU:0.2779596419854888\n",
      "Evaluating model\n"
     ]
    },
    {
     "data": {
      "application/vnd.jupyter.widget-view+json": {
       "model_id": "bd4cdba5220647449664283abfe2f3f9",
       "version_major": 2,
       "version_minor": 0
      },
      "text/plain": [
       "HBox(children=(IntProgress(value=0, max=59), HTML(value='')))"
      ]
     },
     "metadata": {},
     "output_type": "display_data"
    },
    {
     "name": "stdout",
     "output_type": "stream",
     "text": [
      "\n",
      "sample_BLEU:0.22510659825888235\n",
      "Evaluating model\n"
     ]
    },
    {
     "data": {
      "application/vnd.jupyter.widget-view+json": {
       "model_id": "a3068b163d704ef4abb68a8ff95f73ec",
       "version_major": 2,
       "version_minor": 0
      },
      "text/plain": [
       "HBox(children=(IntProgress(value=0, max=59), HTML(value='')))"
      ]
     },
     "metadata": {},
     "output_type": "display_data"
    },
    {
     "name": "stdout",
     "output_type": "stream",
     "text": [
      "\n",
      "sample_BLEU:0.34211886986795614\n",
      "Keyboard Interrupt!\n"
     ]
    },
    {
     "data": {
      "text/plain": [
       "{'train_loss': [2.105891607999802,\n",
       "  2.668328070640564,\n",
       "  2.6332431507110594,\n",
       "  2.9204950976371764,\n",
       "  3.243947837352753,\n",
       "  1.809476807117462,\n",
       "  1.8081236803531646,\n",
       "  1.9365714138746262,\n",
       "  2.254199267625809,\n",
       "  2.692099199295044,\n",
       "  1.8836085060238839,\n",
       "  1.2377749347686768,\n",
       "  1.4642055082321166,\n",
       "  1.8264257127046586,\n",
       "  2.230433555841446,\n",
       "  2.2596227480471134,\n",
       "  0.7450432160496712,\n",
       "  1.1485367369651795,\n",
       "  1.4164473456144333,\n",
       "  1.9218704628944396,\n",
       "  2.6256325888633727,\n",
       "  0.42888784989714623,\n",
       "  1.0191342306137086,\n",
       "  1.1184586790204047,\n",
       "  1.6350519341230392,\n",
       "  2.254453345537186,\n",
       "  0.9546155657246709],\n",
       " 'eval_scores': [{'step': 400, 'sample_BLEU': 0.04460608202004834},\n",
       "  {'step': 800, 'sample_BLEU': 0.16494347550121205},\n",
       "  {'step': 1200, 'sample_BLEU': 0.25489014684604977},\n",
       "  {'step': 1600, 'sample_BLEU': 0.2779596419854888},\n",
       "  {'step': 2000, 'sample_BLEU': 0.22510659825888235},\n",
       "  {'step': 2400, 'sample_BLEU': 0.34211886986795614}]}"
      ]
     },
     "execution_count": 8,
     "metadata": {},
     "output_type": "execute_result"
    }
   ],
   "source": [
    "trainer.train(model, train_iterator, steps, log_interval=log_interval, eval_interval=eval_interval, \\\n",
    "              save_interval=save_interval)"
   ]
  },
  {
   "cell_type": "code",
   "execution_count": null,
   "metadata": {},
   "outputs": [],
   "source": []
  }
 ],
 "metadata": {
  "kernelspec": {
   "display_name": "Python 3",
   "language": "python",
   "name": "python3"
  },
  "language_info": {
   "codemirror_mode": {
    "name": "ipython",
    "version": 3
   },
   "file_extension": ".py",
   "mimetype": "text/x-python",
   "name": "python",
   "nbconvert_exporter": "python",
   "pygments_lexer": "ipython3",
   "version": "3.6.8"
  }
 },
 "nbformat": 4,
 "nbformat_minor": 4
}

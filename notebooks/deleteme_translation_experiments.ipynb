{
 "cells": [
  {
   "cell_type": "markdown",
   "metadata": {},
   "source": [
    "# These are experiments for\n",
    "- django using Parse Trees\n",
    "- django using BPE\n",
    "\n",
    "The experimental setup is: using the same amount of data and the same model configuration what are the performance differences between the parse-tree tokenizer and a regularr BPE tokenizer"
   ]
  },
  {
   "cell_type": "code",
   "execution_count": 2,
   "metadata": {},
   "outputs": [],
   "source": [
    "from src.dataset_loaders import CoNaLa_RawDataLoader, Django_RawDataLoader, Parseable_Django_RawDataLoader\n",
    "from src.DataProcessors import Parse_Tree_Translation_DataProcessor, CodeTrainedBPE_Translation_DataProcessor\n",
    "from src.translation_transformer import Translation_Transformer\n",
    "from src.Experiments import TranslationExperiment\n",
    "from src.tree_sitter_AST_utils import Node_Processor\n",
    "%load_ext autoreload\n",
    "%autoreload 2\n",
    "%load_ext line_profiler"
   ]
  },
  {
   "cell_type": "code",
   "execution_count": 4,
   "metadata": {},
   "outputs": [],
   "source": [
    "%%capture\n",
    "filtered_django_raw_data_loader = Parseable_Django_RawDataLoader()\n",
    "train_pairs = filtered_django_raw_data_loader.english_to_code_for_translation(\"train\")"
   ]
  },
  {
   "cell_type": "markdown",
   "metadata": {},
   "source": [
    "## Pairs are now filtered to those that can be seen by the model\n",
    "## Training with Parse Trees"
   ]
  },
  {
   "cell_type": "code",
   "execution_count": 11,
   "metadata": {},
   "outputs": [],
   "source": [
    "train_dataloader = parse_tree_processor.to_dataloader(32, num_workers=0)"
   ]
  },
  {
   "cell_type": "code",
   "execution_count": 37,
   "metadata": {},
   "outputs": [
    {
     "data": {
      "text/plain": [
       "device(type='cuda', index=0)"
      ]
     },
     "execution_count": 37,
     "metadata": {},
     "output_type": "execute_result"
    }
   ],
   "source": [
    "translator = Translation_Transformer(parse_tree_processor,\n",
    "                                     parse_tree_processor.vocab_size, \n",
    "                                     embed_dim=256, \n",
    "                                     att_heads=4, \n",
    "                                     layers=4, \n",
    "                                     dim_feedforward=1024, \n",
    "                                     max_seq_length=550,\n",
    "                                     use_copy=False)\n",
    "translator.model.to(\"cuda\")\n",
    "translator.model.device"
   ]
  },
  {
   "cell_type": "code",
   "execution_count": 13,
   "metadata": {},
   "outputs": [],
   "source": [
    "translator.load(\"translator_Django_Parse_tree.pytorch\")"
   ]
  },
  {
   "cell_type": "code",
   "execution_count": null,
   "metadata": {},
   "outputs": [],
   "source": [
    "translator.train(100, train_dataloader)"
   ]
  },
  {
   "cell_type": "markdown",
   "metadata": {},
   "source": [
    "## Training with BPE"
   ]
  },
  {
   "cell_type": "code",
   "execution_count": 5,
   "metadata": {},
   "outputs": [
    {
     "data": {
      "application/vnd.jupyter.widget-view+json": {
       "model_id": "889d528c58dc4f84b7f2d844720e3fec",
       "version_major": 2,
       "version_minor": 0
      },
      "text/plain": [
       "HBox(children=(FloatProgress(value=0.0, description='removing long samples', max=8443.0, style=ProgressStyle(d…"
      ]
     },
     "metadata": {},
     "output_type": "display_data"
    },
    {
     "name": "stdout",
     "output_type": "stream",
     "text": [
      "\n"
     ]
    }
   ],
   "source": [
    "BPE_processor = CodeTrainedBPE_Translation_DataProcessor(train_pairs)"
   ]
  },
  {
   "cell_type": "code",
   "execution_count": 7,
   "metadata": {},
   "outputs": [],
   "source": [
    "train_dataloader = parse_tree_processor.to_dataloader(32, num_workers=0)"
   ]
  },
  {
   "cell_type": "code",
   "execution_count": 6,
   "metadata": {},
   "outputs": [
    {
     "data": {
      "text/plain": [
       "device(type='cuda', index=0)"
      ]
     },
     "execution_count": 6,
     "metadata": {},
     "output_type": "execute_result"
    }
   ],
   "source": [
    "translator = Translation_Transformer(BPE_processor,\n",
    "                                     BPE_processor.vocab_size, \n",
    "                                     embed_dim=256, \n",
    "                                     att_heads=4, \n",
    "                                     layers=4, \n",
    "                                     dim_feedforward=1024, \n",
    "                                     max_seq_length=550,\n",
    "                                     use_copy=False)\n",
    "translator.model.to(\"cuda\")\n",
    "translator.model.device"
   ]
  },
  {
   "cell_type": "code",
   "execution_count": 7,
   "metadata": {},
   "outputs": [],
   "source": [
    "translator.load(\"./translator_code_BPE_django.pytorch\")"
   ]
  },
  {
   "cell_type": "code",
   "execution_count": null,
   "metadata": {},
   "outputs": [
    {
     "data": {
      "application/vnd.jupyter.widget-view+json": {
       "model_id": "7711f0c3d19e4ae68a893a8f30d057d7",
       "version_major": 2,
       "version_minor": 0
      },
      "text/plain": [
       "HBox(children=(FloatProgress(value=0.0), HTML(value='')))"
      ]
     },
     "metadata": {},
     "output_type": "display_data"
    }
   ],
   "source": [
    "translator.train(100, train_dataloader)"
   ]
  },
  {
   "cell_type": "markdown",
   "metadata": {},
   "source": [
    "# Evaluating"
   ]
  },
  {
   "cell_type": "code",
   "execution_count": 8,
   "metadata": {},
   "outputs": [
    {
     "data": {
      "text/plain": [
       "['x =', 'foo']"
      ]
     },
     "execution_count": 8,
     "metadata": {},
     "output_type": "execute_result"
    }
   ],
   "source": [
    "translator.raw_batch_predict([\"x was a string `a`\", \"foo is a list\"])"
   ]
  },
  {
   "cell_type": "code",
   "execution_count": 18,
   "metadata": {},
   "outputs": [],
   "source": [
    "def translation_batch_predictor(src_sents):\n",
    "    outputs = translator.raw_batch_predict(src_sents, max_len=250)\n",
    "    return [code for code, tree in outputs]"
   ]
  },
  {
   "cell_type": "code",
   "execution_count": null,
   "metadata": {},
   "outputs": [],
   "source": [
    "test_pairs = filtered_django_raw_data_loader.english_to_code_for_translation(\"test\")"
   ]
  },
  {
   "cell_type": "code",
   "execution_count": 29,
   "metadata": {},
   "outputs": [],
   "source": [
    "Django_experiment = TranslationExperiment(test_pairs[:100])"
   ]
  },
  {
   "cell_type": "code",
   "execution_count": 31,
   "metadata": {},
   "outputs": [
    {
     "data": {
      "application/vnd.jupyter.widget-view+json": {
       "model_id": "683fd0f6efd1447ab2d19bdb978bc1f9",
       "version_major": 2,
       "version_minor": 0
      },
      "text/plain": [
       "HBox(children=(FloatProgress(value=0.0, description='predicting', max=4.0, style=ProgressStyle(description_wid…"
      ]
     },
     "metadata": {},
     "output_type": "display_data"
    },
    {
     "name": "stdout",
     "output_type": "stream",
     "text": [
      "Tree generation terminated\n",
      "Tree generation terminated\n",
      "Tree generation terminated\n",
      "Tree generation terminated\n",
      "Tree generation terminated\n",
      "Tree generation terminated\n",
      "Tree generation terminated\n",
      "Tree generation terminated\n",
      "Tree generation terminated\n",
      "Tree generation terminated\n",
      "Tree generation terminated\n",
      "Tree generation terminated\n",
      "Tree generation terminated\n",
      "Tree generation terminated\n",
      "Tree generation terminated\n",
      "Tree generation terminated\n",
      "Tree generation terminated\n",
      "Tree generation terminated\n",
      "Tree generation terminated\n",
      "Tree generation terminated\n",
      "Tree generation terminated\n",
      "Tree generation terminated\n",
      "Tree generation terminated\n",
      "Tree generation terminated\n",
      "Tree generation terminated\n",
      "Tree generation terminated\n",
      "Tree generation terminated\n",
      "Tree generation terminated\n",
      "Tree generation terminated\n",
      "Tree generation terminated\n",
      "Tree generation terminated\n",
      "Tree generation terminated\n",
      "Tree generation terminated\n",
      "Tree generation terminated\n",
      "Tree generation terminated\n",
      "Tree generation terminated\n",
      "Tree generation terminated\n",
      "Tree generation terminated\n",
      "Tree generation terminated\n",
      "Tree generation terminated\n",
      "Tree generation terminated\n",
      "Tree generation terminated\n",
      "Tree generation terminated\n",
      "Tree generation terminated\n",
      "Tree generation terminated\n",
      "Tree generation terminated\n",
      "Tree generation terminated\n",
      "Tree generation terminated\n",
      "Tree generation terminated\n",
      "Tree generation terminated\n",
      "Tree generation terminated\n",
      "Tree generation terminated\n",
      "Tree generation terminated\n",
      "Tree generation terminated\n",
      "Tree generation terminated\n",
      "Tree generation terminated\n",
      "Tree generation terminated\n",
      "Tree generation terminated\n",
      "Tree generation terminated\n",
      "Tree generation terminated\n",
      "Tree generation terminated\n",
      "Tree generation terminated\n",
      "Tree generation terminated\n",
      "Tree generation terminated\n",
      "Tree generation terminated\n",
      "Tree generation terminated\n",
      "Tree generation terminated\n",
      "Tree generation terminated\n",
      "Tree generation terminated\n",
      "Tree generation terminated\n",
      "Tree generation terminated\n",
      "Tree generation terminated\n",
      "Tree generation terminated\n",
      "Tree generation terminated\n",
      "Tree generation terminated\n",
      "Tree generation terminated\n",
      "Tree generation terminated\n",
      "Tree generation terminated\n",
      "Tree generation terminated\n",
      "Tree generation terminated\n",
      "Tree generation terminated\n",
      "Tree generation terminated\n",
      "Tree generation terminated\n",
      "Tree generation terminated\n",
      "Tree generation terminated\n",
      "Tree generation terminated\n",
      "Tree generation terminated\n",
      "Tree generation terminated\n",
      "Tree generation terminated\n",
      "Tree generation terminated\n",
      "Tree generation terminated\n",
      "Tree generation terminated\n",
      "Tree generation terminated\n",
      "Tree generation terminated\n",
      "Tree generation terminated\n",
      "Tree generation terminated\n",
      "Tree generation terminated\n",
      "Tree generation terminated\n",
      "Tree generation terminated\n",
      "Tree generation terminated\n",
      "Tree generation terminated\n",
      "Tree generation terminated\n",
      "Tree generation terminated\n",
      "Tree generation terminated\n",
      "Tree generation terminated\n",
      "Tree generation terminated\n",
      "Tree generation terminated\n",
      "Tree generation terminated\n",
      "Tree generation terminated\n",
      "Tree generation terminated\n",
      "Tree generation terminated\n",
      "Tree generation terminated\n",
      "Tree generation terminated\n",
      "Tree generation terminated\n",
      "Tree generation terminated\n",
      "Tree generation terminated\n",
      "Tree generation terminated\n",
      "Tree generation terminated\n",
      "Tree generation terminated\n",
      "Tree generation terminated\n",
      "Tree generation terminated\n",
      "Tree generation terminated\n",
      "Tree generation terminated\n",
      "Tree generation terminated\n",
      "Tree generation terminated\n",
      "Tree generation terminated\n",
      "Tree generation terminated\n",
      "Tree generation terminated\n",
      "Tree generation terminated\n",
      "Tree generation terminated\n",
      "Tree generation terminated\n",
      "Tree generation terminated\n",
      "Tree generation terminated\n",
      "Tree generation terminated\n",
      "Tree generation terminated\n",
      "Tree generation terminated\n",
      "Tree generation terminated\n",
      "Tree generation terminated\n",
      "Tree generation terminated\n",
      "Tree generation terminated\n",
      "Tree generation terminated\n",
      "Tree generation terminated\n",
      "Tree generation terminated\n",
      "Tree generation terminated\n",
      "Tree generation terminated\n",
      "Tree generation terminated\n",
      "Tree generation terminated\n",
      "Tree generation terminated\n",
      "Tree generation terminated\n",
      "Tree generation terminated\n",
      "Tree generation terminated\n",
      "Tree generation terminated\n",
      "Tree generation terminated\n",
      "Tree generation terminated\n",
      "Tree generation terminated\n",
      "Tree generation terminated\n",
      "Tree generation terminated\n",
      "Tree generation terminated\n",
      "Tree generation terminated\n",
      "Tree generation terminated\n",
      "Tree generation terminated\n",
      "Tree generation terminated\n",
      "Tree generation terminated\n",
      "Tree generation terminated\n",
      "Tree generation terminated\n",
      "Tree generation terminated\n",
      "Tree generation terminated\n",
      "Tree generation terminated\n",
      "Tree generation terminated\n",
      "Tree generation terminated\n",
      "Tree generation terminated\n",
      "Tree generation terminated\n",
      "Tree generation terminated\n",
      "Tree generation terminated\n",
      "Tree generation terminated\n",
      "Tree generation terminated\n",
      "Tree generation terminated\n",
      "Tree generation terminated\n",
      "Tree generation terminated\n",
      "Tree generation terminated\n",
      "Tree generation terminated\n",
      "Tree generation terminated\n",
      "Tree generation terminated\n",
      "Tree generation terminated\n",
      "Tree generation terminated\n",
      "Tree generation terminated\n",
      "Tree generation terminated\n",
      "Tree generation terminated\n",
      "Tree generation terminated\n",
      "Tree generation terminated\n",
      "Tree generation terminated\n",
      "Tree generation terminated\n",
      "Tree generation terminated\n",
      "Tree generation terminated\n",
      "Tree generation terminated\n",
      "Tree generation terminated\n",
      "Tree generation terminated\n",
      "Tree generation terminated\n",
      "Tree generation terminated\n",
      "Tree generation terminated\n",
      "Tree generation terminated\n",
      "Tree generation terminated\n",
      "Tree generation terminated\n",
      "Tree generation terminated\n",
      "Tree generation terminated\n",
      "Tree generation terminated\n",
      "Tree generation terminated\n",
      "Tree generation terminated\n",
      "Tree generation terminated\n",
      "Tree generation terminated\n",
      "Tree generation terminated\n",
      "Tree generation terminated\n",
      "Tree generation terminated\n",
      "Tree generation terminated\n",
      "Tree generation terminated\n",
      "Tree generation terminated\n",
      "Tree generation terminated\n",
      "Tree generation terminated\n",
      "Tree generation terminated\n",
      "Tree generation terminated\n",
      "Tree generation terminated\n",
      "Tree generation terminated\n",
      "Tree generation terminated\n",
      "Tree generation terminated\n",
      "Tree generation terminated\n",
      "Tree generation terminated\n",
      "Tree generation terminated\n",
      "Tree generation terminated\n",
      "Tree generation terminated\n",
      "Tree generation terminated\n",
      "Tree generation terminated\n",
      "Tree generation terminated\n",
      "Tree generation terminated\n",
      "Tree generation terminated\n",
      "Tree generation terminated\n",
      "Tree generation terminated\n",
      "Tree generation terminated\n",
      "Tree generation terminated\n",
      "Tree generation terminated\n",
      "Tree generation terminated\n",
      "Tree generation terminated\n",
      "Tree generation terminated\n",
      "Tree generation terminated\n",
      "Tree generation terminated\n",
      "Tree generation terminated\n",
      "Tree generation terminated\n",
      "Tree generation terminated\n",
      "Tree generation terminated\n",
      "Tree generation terminated\n",
      "Tree generation terminated\n",
      "Tree generation terminated\n",
      "Tree generation terminated\n",
      "Tree generation terminated\n",
      "Tree generation terminated\n",
      "Tree generation terminated\n",
      "Tree generation terminated\n",
      "Tree generation terminated\n",
      "Tree generation terminated\n",
      "Tree generation terminated\n",
      "Tree generation terminated\n",
      "Tree generation terminated\n",
      "Tree generation terminated\n",
      "Tree generation terminated\n",
      "Tree generation terminated\n",
      "Tree generation terminated\n",
      "Tree generation terminated\n",
      "Tree generation terminated\n",
      "Tree generation terminated\n",
      "Tree generation terminated\n",
      "Tree generation terminated\n",
      "Tree generation terminated\n",
      "Tree generation terminated\n",
      "Tree generation terminated\n",
      "Tree generation terminated\n",
      "Tree generation terminated\n",
      "Tree generation terminated\n",
      "Tree generation terminated\n",
      "Tree generation terminated\n",
      "Tree generation terminated\n",
      "Tree generation terminated\n",
      "Tree generation terminated\n",
      "Tree generation terminated\n",
      "Tree generation terminated\n",
      "Tree generation terminated\n",
      "Tree generation terminated\n",
      "Tree generation terminated\n",
      "Tree generation terminated\n",
      "Tree generation terminated\n",
      "Tree generation terminated\n",
      "Tree generation terminated\n",
      "Tree generation terminated\n",
      "Tree generation terminated\n",
      "Tree generation terminated\n",
      "Tree generation terminated\n",
      "Tree generation terminated\n",
      "Tree generation terminated\n",
      "Tree generation terminated\n",
      "\n"
     ]
    },
    {
     "data": {
      "application/vnd.jupyter.widget-view+json": {
       "model_id": "bd118a26407c4ff9b9f6d55198fc82af",
       "version_major": 2,
       "version_minor": 0
      },
      "text/plain": [
       "HBox(children=(FloatProgress(value=0.0, description='calculating bleu', style=ProgressStyle(description_width=…"
      ]
     },
     "metadata": {},
     "output_type": "display_data"
    },
    {
     "name": "stdout",
     "output_type": "stream",
     "text": [
      "\n",
      "saving translation eval to file: ./translation_eval_Parse_tree.txt\n",
      "| EVALUATION | BLEU: 0.310 |\n"
     ]
    },
    {
     "data": {
      "text/plain": [
       "{'BLEU': 0.3101852808968385}"
      ]
     },
     "execution_count": 31,
     "metadata": {},
     "output_type": "execute_result"
    }
   ],
   "source": [
    "Django_experiment.evaluate(translation_batch_predictor, batched=32, save_dir=\"./\", save_name=\"translation_eval_Parse_tree.txt\")"
   ]
  },
  {
   "cell_type": "code",
   "execution_count": null,
   "metadata": {},
   "outputs": [],
   "source": [
    "0.3101852808968385"
   ]
  }
 ],
 "metadata": {
  "kernelspec": {
   "display_name": "Python 3",
   "language": "python",
   "name": "python3"
  },
  "language_info": {
   "codemirror_mode": {
    "name": "ipython",
    "version": 3
   },
   "file_extension": ".py",
   "mimetype": "text/x-python",
   "name": "python",
   "nbconvert_exporter": "python",
   "pygments_lexer": "ipython3",
   "version": "3.6.9"
  }
 },
 "nbformat": 4,
 "nbformat_minor": 4
}

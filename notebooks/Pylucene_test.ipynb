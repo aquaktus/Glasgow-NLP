{
 "cells": [
  {
   "cell_type": "code",
   "execution_count": 11,
   "metadata": {},
   "outputs": [],
   "source": [
    "#install pylucene from http://lucene.apache.org/pylucene/\n",
    "\n",
    "import sys\n",
    "import lucene\n",
    "import os\n",
    "from java.io import File\n",
    "from java.nio.file import Paths\n",
    "from lucene import JavaError\n",
    "\n",
    "from org.apache.lucene.analysis.standard import StandardAnalyzer\n",
    "from org.apache.lucene.analysis.core import WhitespaceAnalyzer\n",
    "from org.apache.lucene.document import Document, Field, TextField, FieldType\n",
    "from org.apache.lucene.search import FuzzyQuery, MultiTermQuery, IndexSearcher\n",
    "from org.apache.lucene.index import IndexWriter, IndexWriterConfig, DirectoryReader, FieldInfo, IndexOptions,MultiReader, Term\n",
    "from org.apache.lucene.store import RAMDirectory, SimpleFSDirectory\n",
    "from org.apache.lucene.analysis.miscellaneous import LimitTokenCountAnalyzer\n",
    "from org.apache.lucene.search.spans import SpanNearQuery, SpanQuery, SpanTermQuery, SpanMultiTermQueryWrapper\n",
    "from org.apache.lucene.queryparser.classic import MultiFieldQueryParser, QueryParser\n",
    "\n",
    "from org.apache.lucene.search.similarities import BM25Similarity\n",
    "from org.apache.lucene import analysis, document, index, queryparser, search, store, util"
   ]
  },
  {
   "cell_type": "code",
   "execution_count": 2,
   "metadata": {},
   "outputs": [],
   "source": [
    "lucene.initVM(vmargs=['-Djava.awt.headless=true'])\n",
    "# storeDir=os.path.dirname(os.path.abspath(\"/foo\"))\n",
    "# store = SimpleFSDirectory(Paths.get(storeDir))\n",
    "store = store.RAMDirectory()"
   ]
  },
  {
   "cell_type": "code",
   "execution_count": 3,
   "metadata": {},
   "outputs": [],
   "source": [
    "#define field settings\n",
    "t2 = FieldType()\n",
    "t2.setStored(False)\n",
    "t2.setTokenized(True)\n",
    "t2.setIndexOptions(IndexOptions.DOCS_AND_FREQS_AND_POSITIONS)\n",
    "\n",
    "analyzer = StandardAnalyzer()\n",
    "config = IndexWriterConfig(analyzer)\n",
    "config.setOpenMode(IndexWriterConfig.OpenMode.CREATE)\n",
    "writer = IndexWriter(store, config)"
   ]
  },
  {
   "cell_type": "code",
   "execution_count": 4,
   "metadata": {},
   "outputs": [],
   "source": [
    "def addDoc(text, writer):\n",
    "        doc = Document()\n",
    "        doc.add(Field(\"field\", text, t2))        \n",
    "        writer.addDocument(doc)"
   ]
  },
  {
   "cell_type": "code",
   "execution_count": 5,
   "metadata": {},
   "outputs": [],
   "source": [
    "addDoc(\"bananas loose\", writer)\n",
    "addDoc(\"organic bananas with toast\", writer)\n",
    "addDoc(\"kids bananas bread\", writer)\n",
    "writer.commit()\n",
    "writer.close()"
   ]
  },
  {
   "cell_type": "code",
   "execution_count": 6,
   "metadata": {},
   "outputs": [],
   "source": [
    "searcher=IndexSearcher(DirectoryReader.open(store))\n",
    "searcher.setSimilarity(BM25Similarity())"
   ]
  },
  {
   "cell_type": "code",
   "execution_count": 8,
   "metadata": {},
   "outputs": [
    {
     "name": "stdout",
     "output_type": "stream",
     "text": [
      "[<ScoreDoc: doc=0 score=0.5865056 shardIndex=0>, <ScoreDoc: doc=2 score=0.50652754 shardIndex=0>, <ScoreDoc: doc=1 score=0.053412557 shardIndex=0>]\n"
     ]
    }
   ],
   "source": [
    "queryparser.classic.QueryParser( \"fieldname\", analyzer)\n",
    "parser = queryparser.classic.QueryParser(\"field\", analyzer)\n",
    "query = parser.parse(\"loose bananas for kids\")\n",
    "# query = SpanMultiTermQueryWrapper(FuzzyQuery(query))\n",
    "hits = searcher.search(query, 3).scoreDocs\n",
    "print (hits)"
   ]
  },
  {
   "cell_type": "code",
   "execution_count": 12,
   "metadata": {},
   "outputs": [
    {
     "name": "stdout",
     "output_type": "stream",
     "text": [
      "JArray<object>[<ScoreDoc: doc=0 score=0.07027968 shardIndex=0>, <ScoreDoc: doc=2 score=0.060696084 shardIndex=0>, <ScoreDoc: doc=1 score=0.053412557 shardIndex=0>]\n"
     ]
    }
   ],
   "source": [
    "#query in simple way\n",
    "# clauses=[1,2]\n",
    "# clauses[0] =  SpanMultiTermQueryWrapper(FuzzyQuery( Term(\"field\", \"bana3as\")));\n",
    "# clauses[1] =  SpanMultiTermQueryWrapper(FuzzyQuery( Term(\"field\", \"kids\")));\n",
    "query = FuzzyQuery( Term(\"field\", \"bananas\"))\n",
    "hits = searcher.search(query, 3).scoreDocs\n",
    "print (hits)"
   ]
  },
  {
   "cell_type": "code",
   "execution_count": 53,
   "metadata": {},
   "outputs": [
    {
     "name": "stdout",
     "output_type": "stream",
     "text": [
      "JArray<object>[]\n"
     ]
    }
   ],
   "source": [
    "ocr_query=\"orgc bananas\".split()\n",
    "for i, val in enumerate(ocr_query):\n",
    "    ocr_query[i] =  SpanMultiTermQueryWrapper(FuzzyQuery( Term(\"field\", ocr_query[i])));\n",
    "query = SpanNearQuery(ocr_query,50, False)\n",
    "hits = searcher.search(query, 1).scoreDocs\n",
    "print (hits)"
   ]
  },
  {
   "cell_type": "code",
   "execution_count": 21,
   "metadata": {},
   "outputs": [
    {
     "data": {
      "text/plain": [
       "'if \\\\:\\\\: f '"
      ]
     },
     "execution_count": 21,
     "metadata": {},
     "output_type": "execute_result"
    }
   ],
   "source": [
    "QueryParser.escape(\"if :: f \")"
   ]
  },
  {
   "cell_type": "code",
   "execution_count": null,
   "metadata": {},
   "outputs": [],
   "source": []
  }
 ],
 "metadata": {
  "kernelspec": {
   "display_name": "Python 3",
   "language": "python",
   "name": "python3"
  },
  "language_info": {
   "codemirror_mode": {
    "name": "ipython",
    "version": 3
   },
   "file_extension": ".py",
   "mimetype": "text/x-python",
   "name": "python",
   "nbconvert_exporter": "python",
   "pygments_lexer": "ipython3",
   "version": "3.6.9"
  }
 },
 "nbformat": 4,
 "nbformat_minor": 4
}

{
 "cells": [
  {
   "cell_type": "markdown",
   "metadata": {},
   "source": [
    "# Code playground\n",
    "This notebook is a small sandbox where half baked ideas can live. Code snippets that were developed but might be useful saterr can go here."
   ]
  },
  {
   "cell_type": "code",
   "execution_count": 165,
   "metadata": {},
   "outputs": [],
   "source": [
    "import math\n",
    "import torch\n",
    "import torch.nn as nn\n",
    "import torch.nn.functional as F\n",
    "import numpy as np\n",
    "import torchtext\n",
    "import tqdm\n",
    "from torchnlp.metrics import get_moses_multi_bleu\n",
    "from torchtext.data import Field, BucketIterator\n",
    "from nltk.translate.bleu_score import SmoothingFunction, sentence_bleu\n",
    "\n",
    "import tensorflow as tf\n",
    "import tensorflow_datasets as tfds\n",
    "from tokenize import tokenize, untokenize, NUMBER, STRING, NAME, OP\n",
    "from io import BytesIO\n",
    "\n",
    "import matplotlib.pyplot as plt\n",
    "\n",
    "import linecache\n",
    "import sys\n",
    "import os\n",
    "import re\n",
    "import random\n",
    "import time\n",
    "# import streamtologger\n",
    "# streamtologger.redirect(target=\"./logs-playground.log\")"
   ]
  },
  {
   "cell_type": "code",
   "execution_count": 2,
   "metadata": {},
   "outputs": [],
   "source": [
    "from datetime import datetime\n",
    "def super_print(filename):\n",
    "    '''filename is the file where output will be written'''\n",
    "    def wrap(func):\n",
    "        '''func is the function you are \"overriding\", i.e. wrapping'''\n",
    "        def wrapped_func(*args,**kwargs):\n",
    "            '''*args and **kwargs are the arguments supplied \n",
    "            to the overridden function'''\n",
    "            #use with statement to open, write to, and close the file safely\n",
    "            with open(filename,'a') as outputfile:\n",
    "                now = datetime.now()\n",
    "                dt_string = now.strftime(\"%d/%m/%Y %H:%M:%S\")\n",
    "                outputfile.write(\"[{}] \".format(dt_string))\n",
    "                outputfile.write(\" \".join(str(x) for x in args))\n",
    "                outputfile.write(\"\\n\")\n",
    "            #now original function executed with its arguments as normal\n",
    "            return func(*args,**kwargs)\n",
    "        return wrapped_func\n",
    "    return wrap\n",
    "\n",
    "print = super_print('logs-playground.txt')(print)"
   ]
  },
  {
   "cell_type": "code",
   "execution_count": 20,
   "metadata": {},
   "outputs": [
    {
     "data": {
      "text/plain": [
       "tensor([0, 4, 2, 1, 3])"
      ]
     },
     "execution_count": 20,
     "metadata": {},
     "output_type": "execute_result"
    }
   ],
   "source": [
    "torch.tensor([1,4,3,6,2]).argsort()"
   ]
  },
  {
   "cell_type": "code",
   "execution_count": 21,
   "metadata": {},
   "outputs": [
    {
     "data": {
      "text/plain": [
       "torch.Size([20, 32, 512])"
      ]
     },
     "execution_count": 21,
     "metadata": {},
     "output_type": "execute_result"
    }
   ],
   "source": [
    "rand_transformer_model = nn.Transformer().to(\"cuda\") # uses default hyperparameters\n",
    "src = torch.rand((10, 32, 512)).to(\"cuda\") # [src_seq_length, batch_size, embedding_size]\n",
    "tgt = torch.rand((20, 32, 512)).to(\"cuda\") # [tgt_seq_length, batch_size, embedding_size]\n",
    "rand_transformer_model(src, tgt).shape # [tgt_seq_length, batch_size, embedding_size]"
   ]
  },
  {
   "cell_type": "code",
   "execution_count": 22,
   "metadata": {},
   "outputs": [
    {
     "data": {
      "text/plain": [
       "TransformerDecoderLayer(\n",
       "  (self_attn): MultiheadAttention(\n",
       "    (out_proj): Linear(in_features=512, out_features=512, bias=True)\n",
       "  )\n",
       "  (multihead_attn): MultiheadAttention(\n",
       "    (out_proj): Linear(in_features=512, out_features=512, bias=True)\n",
       "  )\n",
       "  (linear1): Linear(in_features=512, out_features=2048, bias=True)\n",
       "  (dropout): Dropout(p=0.1, inplace=False)\n",
       "  (linear2): Linear(in_features=2048, out_features=512, bias=True)\n",
       "  (norm1): LayerNorm((512,), eps=1e-05, elementwise_affine=True)\n",
       "  (norm2): LayerNorm((512,), eps=1e-05, elementwise_affine=True)\n",
       "  (norm3): LayerNorm((512,), eps=1e-05, elementwise_affine=True)\n",
       "  (dropout1): Dropout(p=0.1, inplace=False)\n",
       "  (dropout2): Dropout(p=0.1, inplace=False)\n",
       "  (dropout3): Dropout(p=0.1, inplace=False)\n",
       ")"
      ]
     },
     "execution_count": 22,
     "metadata": {},
     "output_type": "execute_result"
    }
   ],
   "source": [
    "rand_transformer_model.decoder.layers[-1]"
   ]
  },
  {
   "cell_type": "code",
   "execution_count": 31,
   "metadata": {},
   "outputs": [],
   "source": [
    "q = torch.rand((20, 32, 512))\n",
    "k = torch.rand((10, 32, 512))\n",
    "v = torch.rand((10, 32, 512))\n",
    "att = nn.MultiheadAttention(512, 2)\n",
    "attn_output = att(q, k, v)\n",
    "# attn_output"
   ]
  },
  {
   "cell_type": "markdown",
   "metadata": {},
   "source": [
    "## Self-made beam search code\n",
    "This code runs on paralelised batches and beams, it's fast, but doesn't have the appropriate stopping conditions."
   ]
  },
  {
   "cell_type": "code",
   "execution_count": null,
   "metadata": {},
   "outputs": [],
   "source": [
    "def beam_search_decode_batch_ids(encoder_input, beam_size=3, max_seq_length=50):\n",
    "    batch_len = encoder_input.shape[1]\n",
    "    sos_id = TGT_TEXT.vocab.stoi[\"<sos>\"]\n",
    "    decoder_input = torch.zeros((1, beam_size * batch_len), dtype=torch.long, device=device).fill_(sos_id)\n",
    "    log_probs = torch.zeros((beam_size * batch_len,1))\n",
    "    print(\"log_probs:\", log_probs)\n",
    "    vocab_size = len(TGT_TEXT.vocab.itos)\n",
    "    \n",
    "    encoder_input = encoder_input.view(-1,1).repeat(1,beam_size).view(-1,beam_size * batch_len) # this tiles the input to the beam size * batch size\n",
    "    print(\"tiled input:\", encoder_input)\n",
    "    \n",
    "    for i in range(max_seq_length):\n",
    "        output = model(encoder_input, decoder_input)\n",
    "        print(output.shape)\n",
    "        last_pred = output[-1].softmax(1)\n",
    "        print(\"last_pred shape:\", last_pred.shape)\n",
    "        log_predictions = last_pred.log()\n",
    "        seq_log_probs = log_predictions + log_probs.repeat(1,vocab_size)\n",
    "        print(\"seq_log_probs:\", seq_log_probs)\n",
    "        \n",
    "        seq_log_probs_positions = seq_log_probs.view(batch_len,-1).argsort(1)[:,-beam_size:]\n",
    "        print(\"seq_log_probs_positions:\", seq_log_probs_positions)\n",
    "        next_ids = seq_log_probs_positions.reshape(1, batch_len*beam_size) % vocab_size\n",
    "        print(\"next_ids:\", next_ids)\n",
    "        log_probs = seq_log_probs.view(batch_len,-1).gather(1,seq_log_probs_positions).view(beam_size * batch_len,1)\n",
    "        print(\"log_probs:\",log_probs)\n",
    "        \n",
    "        for batch_idx in range(seq_log_probs_positions.shape[0]):\n",
    "            for seq_choice_idx in range(seq_log_probs_positions.shape[1]):\n",
    "                seq_choice = seq_log_probs_positions[batch_idx,seq_choice_idx] // vocab_size\n",
    "                decoder_input[:,batch_idx*batch_len + seq_choice_idx] = decoder_input[:,batch_idx*batch_len + seq_choice]\n",
    "        \n",
    "        decoder_input = torch.cat((decoder_input, next_ids))\n",
    "    return decoder_input\n",
    "        \n",
    "#         last_pred = output[-1].argsort(dim=1)[:,:beam_size]\n",
    "\n",
    "sent1 = [\"<sos>\"] + SRC_TEXT.preprocess(\"create array\") + [\"<eos>\"] + [\"<pad>\"]\n",
    "sent2 = [\"<sos>\"] + SRC_TEXT.preprocess(\"if exists then\") + [\"<eos>\"]\n",
    "src_ids = SRC_TEXT.numericalize([sent1, sent2], device=device)\n",
    "print(\"input ids:\", src_ids)\n",
    "beam_search_decode_batch_ids(src_ids, max_seq_length=5)"
   ]
  },
  {
   "cell_type": "markdown",
   "metadata": {},
   "source": [
    "## Non batch single node beam search\n",
    "This is the original beam search from online simply adapted to suit the transformerr architecture."
   ]
  },
  {
   "cell_type": "code",
   "execution_count": null,
   "metadata": {},
   "outputs": [],
   "source": [
    "class BeamSearchNode(object):\n",
    "    def __init__(self, hiddenstate, previousNode, wordId, logProb, length):\n",
    "        '''\n",
    "        :param hiddenstate:\n",
    "        :param previousNode:\n",
    "        :param wordId:\n",
    "        :param logProb:\n",
    "        :param length:\n",
    "        '''\n",
    "        self.h = hiddenstate\n",
    "        self.prevNode = previousNode\n",
    "        self.wordid = wordId\n",
    "        self.logp = logProb\n",
    "        self.leng = length\n",
    "        \n",
    "    def __lt__(self, other):\n",
    "        return True\n",
    "\n",
    "    def eval(self, alpha=1.0):\n",
    "        reward = 0\n",
    "        beta = 4.0\n",
    "        # Add here a function for shaping a reward\n",
    "\n",
    "        return self.logp / float(self.leng - 1 + 1e-6) + alpha * reward"
   ]
  },
  {
   "cell_type": "code",
   "execution_count": null,
   "metadata": {},
   "outputs": [],
   "source": [
    "def beam_decode(model, encoder_states):\n",
    "    '''\n",
    "    :param target_tensor: target indexes tensor of shape [B, T] where B is the batch size and T is the maximum length of the output sentence\n",
    "    :param decoder_hidden: input tensor of shape [1, B, H] for start of the decoding\n",
    "    :param encoder_outputs: if you are using attention mechanism you can pass encoder outputs, [T, B, H] where T is the maximum length of input sentence\n",
    "    :return: decoded_batch\n",
    "    '''\n",
    "\n",
    "    beam_width = 10\n",
    "    topk = 3  # how many sentence do you want to generate\n",
    "    decoded_batch = []\n",
    "    \n",
    "    SOS_token = TGT_TEXT.vocab.stoi[\"<sos>\"]\n",
    "    EOS_token = TGT_TEXT.vocab.stoi[\"<eos>\"]\n",
    "    MAX_LENGTH = 7\n",
    "    \n",
    "    batch_size = encoder_states.shape[1]\n",
    "\n",
    "    # decoding goes sentence by sentence\n",
    "    for idx in range(batch_size):\n",
    "        encoder_input = encoder_states[:, idx].view(-1,1)\n",
    "        \n",
    "        # Start with the start of the sentence token\n",
    "        decoder_input = torch.LongTensor([[SOS_token]]).to(device)\n",
    "\n",
    "        # Number of sentence to generate\n",
    "        endnodes = []\n",
    "        number_required = min((topk + 1), topk - len(endnodes))\n",
    "\n",
    "        # starting node -  hidden vector, previous node, word id, logp, length\n",
    "        node = BeamSearchNode(decoder_input, None, SOS_token, 0, 1)\n",
    "        nodes = PriorityQueue()\n",
    "\n",
    "        # start the queue\n",
    "        nodes.put((-node.eval(), node))\n",
    "        qsize = 1\n",
    "\n",
    "        # start beam search\n",
    "        while True:\n",
    "            # give up when decoding takes too long\n",
    "            if qsize > 400: break\n",
    "\n",
    "            # fetch the best node\n",
    "            score, n = nodes.get()\n",
    "#             decoder_input = n.wordid\n",
    "            decoder_input = n.h\n",
    "\n",
    "            if n.wordid == EOS_token and n.prevNode != None:\n",
    "                endnodes.append((score, n))\n",
    "                # if we reached maximum # of sentences required\n",
    "                if len(endnodes) >= number_required:\n",
    "                    break\n",
    "                else:\n",
    "                    continue\n",
    "\n",
    "            # decode for one step using decoder\n",
    "#             decoder_output, decoder_hidden = decoder(decoder_input, decoder_hidden, encoder_output)\n",
    "#             print(encoder_input)\n",
    "#             print(decoder_input)\n",
    "            decoder_output = model(encoder_input, decoder_input)\n",
    "            last_token_logits = decoder_output[-1]\n",
    "            last_token_logs = last_token_logits.log_softmax(1)\n",
    "            # PUT HERE REAL BEAM SEARCH OF TOP\n",
    "            log_prob, indexes = torch.topk(last_token_logs, beam_width)\n",
    "            nextnodes = []\n",
    "\n",
    "            for new_k in range(beam_width):\n",
    "                decoded_t = indexes[0][new_k]\n",
    "                log_p = log_prob[0][new_k].item()\n",
    "                decoder_input = torch.cat((decoder_input,decoded_t.view(1,-1)))\n",
    "                node = BeamSearchNode(decoder_input, n, decoded_t.cpu().item(), n.logp + log_p, n.leng + 1)\n",
    "                score = -node.eval()\n",
    "                nextnodes.append((score, node))\n",
    "\n",
    "            # put them into queue\n",
    "            for i in range(len(nextnodes)):\n",
    "                score, nn = nextnodes[i]\n",
    "                nodes.put((score, nn))\n",
    "                # increase qsize\n",
    "            qsize += len(nextnodes) - 1\n",
    "\n",
    "        # choose nbest paths, back trace them\n",
    "        if len(endnodes) == 0:\n",
    "            endnodes = [nodes.get() for _ in range(topk)]\n",
    "\n",
    "        utterances = []\n",
    "        for score, n in sorted(endnodes, key=operator.itemgetter(0)):\n",
    "            utterance = []\n",
    "            utterance.append(n.wordid)\n",
    "            # back trace\n",
    "            while n.prevNode != None:\n",
    "                n = n.prevNode\n",
    "                utterance.append(n.wordid)\n",
    "\n",
    "            utterance = utterance[::-1]\n",
    "            utterances.append(utterance)\n",
    "\n",
    "        decoded_batch.append(utterances)\n",
    "\n",
    "    return decoded_batch\n",
    "\n",
    "sent1 = [\"<sos>\"] + SRC_TEXT.preprocess(\"call the options.get method with string 'CULL_FREQUENCY' and integer 3 as arguments, use the string 'cull_frequency' and previous result as the arguments for the call to the params.get method, substitute the result for cull_frequency.\") + [\"<eos>\"] + [\"<pad>\"]\n",
    "# sent2 = [\"<sos>\"] + SRC_TEXT.preprocess(\"if not,\") + [\"<eos>\"]\n",
    "src_ids = SRC_TEXT.numericalize([sent1], device=device)\n",
    "# print(\"input ids:\", src_ids)\n",
    "outs = beam_decode(model, encoder_states=src_ids)\n",
    "\n",
    "for b in outs:\n",
    "    for sent in b:\n",
    "        print([TGT_TEXT.vocab.itos[id] for id in sent])"
   ]
  },
  {
   "cell_type": "markdown",
   "metadata": {},
   "source": [
    "## Adaptation of node based beam search to parallelise batches\n",
    "This version comes from an already working version for a single batch. But there is a problem since when decodng different batches and passing them to the transformer, they all need to be the same length which doesn't work since there could be a node made in the past with a better probability score.\n",
    "It doesn't look too obvious from what I see to speed it up while rretaining the theoretical benefits of being able to explore the full tree of options.\n",
    "\n",
    "### The solution\n",
    "You just need to add padding to the decoded sequences that are shorter and keep track of the position that you need to take the output token from. easy."
   ]
  },
  {
   "cell_type": "code",
   "execution_count": 3,
   "metadata": {},
   "outputs": [
    {
     "ename": "NameError",
     "evalue": "name 'SRC_TEXT' is not defined",
     "output_type": "error",
     "traceback": [
      "\u001b[0;31m---------------------------------------------------------------------------\u001b[0m",
      "\u001b[0;31mNameError\u001b[0m                                 Traceback (most recent call last)",
      "\u001b[0;32m<ipython-input-3-86d3751bbcca>\u001b[0m in \u001b[0;36m<module>\u001b[0;34m\u001b[0m\n\u001b[1;32m    126\u001b[0m     \u001b[0;32mreturn\u001b[0m \u001b[0mdecoded_batch\u001b[0m\u001b[0;34m\u001b[0m\u001b[0;34m\u001b[0m\u001b[0m\n\u001b[1;32m    127\u001b[0m \u001b[0;34m\u001b[0m\u001b[0m\n\u001b[0;32m--> 128\u001b[0;31m \u001b[0msent1\u001b[0m \u001b[0;34m=\u001b[0m \u001b[0;34m[\u001b[0m\u001b[0;34m\"<sos>\"\u001b[0m\u001b[0;34m]\u001b[0m \u001b[0;34m+\u001b[0m \u001b[0mSRC_TEXT\u001b[0m\u001b[0;34m.\u001b[0m\u001b[0mpreprocess\u001b[0m\u001b[0;34m(\u001b[0m\u001b[0;34m'try,'\u001b[0m\u001b[0;34m)\u001b[0m \u001b[0;34m+\u001b[0m \u001b[0;34m[\u001b[0m\u001b[0;34m\"<eos>\"\u001b[0m\u001b[0;34m]\u001b[0m \u001b[0;34m+\u001b[0m \u001b[0;34m[\u001b[0m\u001b[0;34m\"<pad>\"\u001b[0m\u001b[0;34m]\u001b[0m\u001b[0;34m\u001b[0m\u001b[0;34m\u001b[0m\u001b[0m\n\u001b[0m\u001b[1;32m    129\u001b[0m \u001b[0msent2\u001b[0m \u001b[0;34m=\u001b[0m \u001b[0;34m[\u001b[0m\u001b[0;34m\"<sos>\"\u001b[0m\u001b[0;34m]\u001b[0m \u001b[0;34m+\u001b[0m \u001b[0mSRC_TEXT\u001b[0m\u001b[0;34m.\u001b[0m\u001b[0mpreprocess\u001b[0m\u001b[0;34m(\u001b[0m\u001b[0;34m\"if not,\"\u001b[0m\u001b[0;34m)\u001b[0m \u001b[0;34m+\u001b[0m \u001b[0;34m[\u001b[0m\u001b[0;34m\"<eos>\"\u001b[0m\u001b[0;34m]\u001b[0m\u001b[0;34m\u001b[0m\u001b[0;34m\u001b[0m\u001b[0m\n\u001b[1;32m    130\u001b[0m \u001b[0msrc_ids\u001b[0m \u001b[0;34m=\u001b[0m \u001b[0mSRC_TEXT\u001b[0m\u001b[0;34m.\u001b[0m\u001b[0mnumericalize\u001b[0m\u001b[0;34m(\u001b[0m\u001b[0;34m[\u001b[0m\u001b[0msent1\u001b[0m\u001b[0;34m,\u001b[0m \u001b[0msent2\u001b[0m\u001b[0;34m]\u001b[0m\u001b[0;34m,\u001b[0m \u001b[0mdevice\u001b[0m\u001b[0;34m=\u001b[0m\u001b[0mdevice\u001b[0m\u001b[0;34m)\u001b[0m\u001b[0;34m\u001b[0m\u001b[0;34m\u001b[0m\u001b[0m\n",
      "\u001b[0;31mNameError\u001b[0m: name 'SRC_TEXT' is not defined"
     ]
    }
   ],
   "source": [
    "def beam_decode(model, encoder_states):\n",
    "    '''\n",
    "    :param target_tensor: target indexes tensor of shape [B, T] where B is the batch size and T is the maximum length of the output sentence\n",
    "    :param decoder_hidden: input tensor of shape [1, B, H] for start of the decoding\n",
    "    :param encoder_outputs: if you are using attention mechanism you can pass encoder outputs, [T, B, H] where T is the maximum length of input sentence\n",
    "    :return: decoded_batch\n",
    "    '''\n",
    "\n",
    "    beam_width = 10\n",
    "    topk = 3  # how many sentence do you want to generate\n",
    "    decoded_batch = []\n",
    "    \n",
    "    batch_size = encoder_states.shape[1]\n",
    "    \n",
    "    SOS_token = TGT_TEXT.vocab.stoi[\"<sos>\"]\n",
    "    EOS_token = TGT_TEXT.vocab.stoi[\"<eos>\"]\n",
    "    MAX_LENGTH = 7\n",
    "\n",
    "    # decoding goes all batches at the same time\n",
    "    encoder_input = encoder_states\n",
    "\n",
    "    # Start with the start of the sentence token\n",
    "    decoder_input = torch.LongTensor([[SOS_token]]).to(device)\n",
    "\n",
    "    # Number of sentence to generate\n",
    "    batch_endnodes = [[] for i in range(batch_size)]\n",
    "    number_required = topk\n",
    "\n",
    "    # starting node -  hidden vector, previous node, word id, logp, length\n",
    "    batch_node = [BeamSearchNode(decoder_input, None, SOS_token, 0, 1) for i in range(batch_size)]\n",
    "    batch_nodes = [PriorityQueue() for i in range(batch_size)]\n",
    "\n",
    "    # start the queue\n",
    "    for nodes, node in zip(batch_nodes, batch_node):\n",
    "        nodes.put((-node.eval(), node))\n",
    "        \n",
    "    batch_qsize = [1 for i in range(batch_size)]\n",
    "\n",
    "    # start beam search\n",
    "    while True:\n",
    "        # give up when decoding takes too long for the first batch, placeholder for now\n",
    "        print(batch_qsize)\n",
    "        if batch_qsize[0] > 200: break\n",
    "\n",
    "        # fetch the best node\n",
    "        best_nodes = [nodes.get() for nodes in batch_nodes]\n",
    "#         score, n = nodes.get()\n",
    "#             decoder_input = n.wordid\n",
    "#         decoder_input = n.h\n",
    "        \n",
    "        finished_nodes = [True if n.wordid == EOS_token and n.prevNode != None else False for (score, n) in best_nodes]\n",
    "        print(finished_nodes)\n",
    "        \n",
    "        working_nodes = []\n",
    "        working_node_id = 0\n",
    "        working_nodes_idx = []\n",
    "        for endnodes, (score, n) in zip(batch_endnodes, best_nodes):\n",
    "            if n.wordid == EOS_token and n.prevNode != None and len(endnodes) < number_required:\n",
    "                endnodes.append((score, n))\n",
    "            else:\n",
    "                working_nodes.append((score, n))\n",
    "                working_nodes_idx.append(working_node_id)\n",
    "            working_node_id += 1\n",
    "        \n",
    "        if all([len(endnodes) >= number_required for endnodes in batch_endnodes]):\n",
    "            break\n",
    "        \n",
    "        num_working_nodes = len(working_nodes)\n",
    "        print(working_nodes)\n",
    "        \n",
    "        step_encoder_input = encoder_input[:,:num_working_nodes].view(-1,num_working_nodes)\n",
    "        print(\"[n.h for (score, n) in working_nodes] shape:\", [n.h.shape for (score, n) in working_nodes])\n",
    "        step_decoder_input = torch.cat([n.h for (score, n) in working_nodes],dim=1)\n",
    "#         print(\"step_encoder_input shape:\", step_encoder_input.shape)\n",
    "        step_decoder_output = model(step_encoder_input, step_decoder_input)\n",
    "        step_token_logits = step_decoder_output[-1]\n",
    "        \n",
    "        print(step_token_logits)\n",
    "\n",
    "        # PUT HERE REAL BEAM SEARCH OF TOP\n",
    "        log_prob, indexes = torch.topk(step_token_logits, beam_width)\n",
    "        print(log_prob.shape)\n",
    "        \n",
    "    \n",
    "        nextnodes = []\n",
    "        \n",
    "        for batch_id in working_nodes_idx:\n",
    "            for new_k in range(beam_width):\n",
    "                decoded_t = indexes[batch_id][new_k]\n",
    "                log_p = log_prob[batch_id][new_k].item()\n",
    "#                 print(\"decoder_input shape\", step_decoder_input.shape)\n",
    "#                 print(\"step_decoder_input shape:\", step_decoder_input[:,batch_id].view(-1,1).shape)\n",
    "#                 print(\"decoded_t shape:\", decoded_t.view(1,-1).shape)\n",
    "                decoder_input = torch.cat((step_decoder_input[:,batch_id].view(-1,1),decoded_t.view(1,-1)), dim=0)\n",
    "#                 print(\"decoder_input shape:\", decoder_input.shape)\n",
    "                node = BeamSearchNode(decoder_input, working_nodes[batch_id], decoded_t.cpu().item(), n.logp + log_p, n.leng + 1)\n",
    "                score = -node.eval()\n",
    "                batch_nodes[batch_id].put((score, node))\n",
    "                batch_qsize[batch_id] += 1\n",
    "        \n",
    "        # put them into queue\n",
    "#         for i in range(len(nextnodes)):\n",
    "#             score, nn = nextnodes[i]\n",
    "#             nodes.put((score, nn))\n",
    "#             # increase qsize\n",
    "#         qsize += len(nextnodes) - 1\n",
    "\n",
    "    # choose nbest paths, back trace them\n",
    "    if len(endnodes) == 0:\n",
    "        endnodes = [nodes.get() for _ in range(topk)]\n",
    "\n",
    "    utterances = []\n",
    "    for score, n in sorted(endnodes, key=operator.itemgetter(0)):\n",
    "        utterance = []\n",
    "        utterance.append(n.wordid)\n",
    "        # back trace\n",
    "        while n.prevNode != None:\n",
    "            n = n.prevNode\n",
    "            utterance.append(n.wordid)\n",
    "\n",
    "        utterance = utterance[::-1]\n",
    "        utterances.append(utterance)\n",
    "\n",
    "    decoded_batch.append(utterances)\n",
    "\n",
    "    return decoded_batch\n",
    "\n",
    "sent1 = [\"<sos>\"] + SRC_TEXT.preprocess('try,') + [\"<eos>\"] + [\"<pad>\"]\n",
    "sent2 = [\"<sos>\"] + SRC_TEXT.preprocess(\"if not,\") + [\"<eos>\"]\n",
    "src_ids = SRC_TEXT.numericalize([sent1, sent2], device=device)\n",
    "# print(\"input ids:\", src_ids)\n",
    "[len(x) for x in beam_decode(model, encoder_states=src_ids)[0]]"
   ]
  },
  {
   "cell_type": "markdown",
   "metadata": {},
   "source": [
    "## Debug dataset"
   ]
  },
  {
   "cell_type": "code",
   "execution_count": null,
   "metadata": {},
   "outputs": [],
   "source": [
    "# debug_data = [\n",
    "#     (\"my favourite foods are banana and toast\",\"would you like banana and toast ?\"),\n",
    "#     (\"my favourite foods are eggs and bacon and beans\",\"would you like eggs and bacon and beans ?\"),\n",
    "#     (\"my favourite food is chocolate\",\"would you like chocolate ?\"),\n",
    "#     (\"my favourite food is avocado\",\"would you like avocado ?\")\n",
    "# ]\n",
    "\n",
    "# other_data = [\n",
    "#     (\"what age is she ?\", \"she is 8 years old\"),\n",
    "#     (\"what age is he ?\", \"he is 4 years old\"),\n",
    "#     (\"how old are you ?\", \"i am 22 years old\"),\n",
    "#     (\"how old am i ?\", \"you are 28 years old\")\n",
    "# ]\n",
    "\n",
    "# SRC_TEXT = Field(sequential=True, tokenize=string_split, init_token='<sos>',eos_token='<eos>')\n",
    "# TGT_TEXT = Field(sequential=True, tokenize=string_split, init_token='<sos>',eos_token='<eos>')\n",
    "\n",
    "# train_dataset = val_dataset = samples_to_dataset(other_data, SRC_TEXT, TGT_TEXT)\n",
    "\n",
    "# # train_dataset, val_dataset = dataset.split([0.7,0.3])"
   ]
  },
  {
   "cell_type": "markdown",
   "metadata": {},
   "source": [
    "## Adding Noise to the decoding process during training"
   ]
  },
  {
   "cell_type": "code",
   "execution_count": 85,
   "metadata": {},
   "outputs": [
    {
     "name": "stdout",
     "output_type": "stream",
     "text": [
      "tensor([[1., 0., 0., 0., 0., 0., 0., 0., 0., 0.],\n",
      "        [0., 0., 0., 0., 0., 0., 0., 0., 0., 0.],\n",
      "        [0., 0., 0., 0., 0., 0., 0., 0., 0., 0.],\n",
      "        [0., 0., 0., 0., 0., 0., 0., 0., 0., 0.],\n",
      "        [0., 0., 0., 0., 0., 0., 0., 0., 0., 0.],\n",
      "        [0., 0., 0., 0., 0., 0., 0., 0., 0., 0.],\n",
      "        [0., 0., 0., 0., 0., 0., 0., 0., 0., 0.],\n",
      "        [0., 0., 0., 0., 0., 0., 0., 0., 0., 0.],\n",
      "        [0., 0., 0., 0., 0., 0., 0., 0., 0., 0.],\n",
      "        [0., 0., 0., 0., 0., 0., 0., 0., 0., 0.]])\n"
     ]
    },
    {
     "data": {
      "text/plain": [
       "tensor([[0., -inf, -inf, -inf, -inf, -inf, -inf, -inf, -inf, -inf],\n",
       "        [-inf, 0., -inf, -inf, -inf, -inf, -inf, -inf, -inf, -inf],\n",
       "        [0., 0., 0., -inf, -inf, -inf, -inf, -inf, -inf, -inf],\n",
       "        [0., 0., -inf, -inf, -inf, -inf, -inf, -inf, -inf, -inf],\n",
       "        [0., -inf, -inf, -inf, 0., -inf, -inf, -inf, -inf, -inf],\n",
       "        [-inf, 0., 0., -inf, -inf, 0., -inf, -inf, -inf, -inf],\n",
       "        [0., -inf, 0., 0., -inf, -inf, 0., -inf, -inf, -inf],\n",
       "        [-inf, 0., 0., -inf, 0., 0., 0., 0., -inf, -inf],\n",
       "        [-inf, 0., 0., 0., 0., -inf, 0., -inf, 0., -inf],\n",
       "        [0., -inf, 0., 0., -inf, 0., -inf, 0., -inf, -inf]])"
      ]
     },
     "execution_count": 85,
     "metadata": {},
     "output_type": "execute_result"
    }
   ],
   "source": [
    "noise_e = 0.4\n",
    "noise_mask = (torch.rand(10,10) > noise_e).float()\n",
    "\n",
    "mask = (torch.triu(torch.ones(10,10))).transpose(0, 1)\n",
    "mask = torch.mul(mask, noise_mask)\n",
    "v = (torch.sum(mask, dim=-1) == 0).float()\n",
    "\n",
    "fix_mask = torch.zeros(10,10)\n",
    "fix_mask[:,0] = 1.0\n",
    "v = v.repeat(10, 1).transpose(0,1)\n",
    "fix_mask = torch.mul(fix_mask,v)\n",
    "\n",
    "print(fix_mask)\n",
    "mask += fix_mask\n",
    "\n",
    "\n",
    "mask = mask.float().masked_fill(mask == 0, float('-inf')).masked_fill(mask == 1, float(0.0))\n",
    "mask"
   ]
  },
  {
   "cell_type": "markdown",
   "metadata": {},
   "source": [
    "## Pytorch target masking transformer bug\n",
    "There is a bug in the implementation of the transformer attention mask during decoding. It being produced the other way round, paying attention to parts of the sentence that appear at the end. It is a simple to fix at removing ==1"
   ]
  },
  {
   "cell_type": "code",
   "execution_count": 2,
   "metadata": {},
   "outputs": [
    {
     "data": {
      "text/plain": [
       "tensor([[0., -inf, -inf, -inf],\n",
       "        [0., 0., -inf, -inf],\n",
       "        [0., 0., 0., -inf],\n",
       "        [0., 0., 0., 0.]])"
      ]
     },
     "execution_count": 2,
     "metadata": {},
     "output_type": "execute_result"
    }
   ],
   "source": [
    "model = nn.Transformer()\n",
    "model.generate_square_subsequent_mask(4)"
   ]
  },
  {
   "cell_type": "code",
   "execution_count": 82,
   "metadata": {},
   "outputs": [
    {
     "name": "stdout",
     "output_type": "stream",
     "text": [
      "tensor([[1., 0., 0., 0.],\n",
      "        [1., 1., 0., 0.],\n",
      "        [1., 1., 1., 0.],\n",
      "        [1., 1., 1., 1.]])\n"
     ]
    },
    {
     "data": {
      "text/plain": [
       "tensor([[0., -inf, -inf, -inf],\n",
       "        [0., 0., -inf, -inf],\n",
       "        [0., 0., 0., -inf],\n",
       "        [0., 0., 0., 0.]])"
      ]
     },
     "execution_count": 82,
     "metadata": {},
     "output_type": "execute_result"
    }
   ],
   "source": [
    "sz = 4\n",
    "mask = (torch.triu(torch.ones(sz, sz))==1).transpose(0, 1).float()\n",
    "print(mask)\n",
    "mask = mask.masked_fill(mask == 0, float('-inf')).masked_fill(mask == 1, float(0.0))\n",
    "mask"
   ]
  },
  {
   "cell_type": "code",
   "execution_count": 74,
   "metadata": {},
   "outputs": [
    {
     "data": {
      "text/plain": [
       "tensor([True, True, True, True, True, True, True, True, True, True])"
      ]
     },
     "execution_count": 74,
     "metadata": {},
     "output_type": "execute_result"
    }
   ],
   "source": [
    "a = (torch.ones(10)==1)\n",
    "a.masked_fill(a == 1, float('-inf'))"
   ]
  },
  {
   "cell_type": "code",
   "execution_count": 146,
   "metadata": {},
   "outputs": [
    {
     "data": {
      "text/plain": [
       "tensor(-2)"
      ]
     },
     "execution_count": 146,
     "metadata": {},
     "output_type": "execute_result"
    }
   ],
   "source": [
    "from queue import PriorityQueue\n",
    "a = PriorityQueue()\n",
    "a.put(torch.tensor(1))\n",
    "a.put(torch.tensor(-2))\n",
    "a.get()"
   ]
  },
  {
   "cell_type": "code",
   "execution_count": 128,
   "metadata": {},
   "outputs": [
    {
     "name": "stdout",
     "output_type": "stream",
     "text": [
      "3\n",
      "tensor([[1., 3.],\n",
      "        [2., 4.],\n",
      "        [3., 7.]])\n"
     ]
    }
   ],
   "source": [
    "a = torch.tensor([[1],[2],[3]])\n",
    "b = torch.tensor([[3],[4]])\n",
    "rough_input = [a,b]\n",
    "m = max([t.shape[0] for t in rough_input])\n",
    "print(m)\n",
    "z = torch.zeros((m,2)).fill_(7)\n",
    "for i in range(2):\n",
    "    length = rough_input[i].shape[0]\n",
    "    z[:length,i] = rough_input[i].view(-1)\n",
    "print(z)"
   ]
  },
  {
   "cell_type": "code",
   "execution_count": 140,
   "metadata": {},
   "outputs": [
    {
     "name": "stdout",
     "output_type": "stream",
     "text": [
      "tensor([[1],\n",
      "        [2],\n",
      "        [3],\n",
      "        [4]])\n",
      "tensor([[5],\n",
      "        [6],\n",
      "        [7],\n",
      "        [8]])\n"
     ]
    }
   ],
   "source": [
    "outputs = torch.tensor([[[1],[5]],[[2],[6]],[[3],[7]],[[4],[8]]]).transpose(0,1)\n",
    "p_mask = [2,3]\n",
    "\n",
    "for l in outputs[]:\n",
    "    print(l)"
   ]
  },
  {
   "cell_type": "code",
   "execution_count": 10,
   "metadata": {},
   "outputs": [
    {
     "data": {
      "text/plain": [
       "tensor([0.0259, 0.0705, 0.1917, 0.5210, 0.0095, 0.0095, 0.0095, 0.0095, 0.0095,\n",
       "        0.0095, 0.0095, 0.0095, 0.0095, 0.0095, 0.0095, 0.0095, 0.0095, 0.0095,\n",
       "        0.0095, 0.0095, 0.0095, 0.0095, 0.0095, 0.0095])"
      ]
     },
     "execution_count": 10,
     "metadata": {},
     "output_type": "execute_result"
    }
   ],
   "source": [
    "a = torch.tensor([1.,2,3,4, 0, 0,0,0,0,0,0,0,0,0,0,0,0,0,0,0,0,0,0,0]).softmax(0)\n",
    "a"
   ]
  },
  {
   "cell_type": "code",
   "execution_count": 13,
   "metadata": {},
   "outputs": [
    {
     "name": "stdout",
     "output_type": "stream",
     "text": [
      "atts: tensor([[[0.0248, 0.1017, 0.7406],\n",
      "         [0.8730, 0.7230, 0.6886]],\n",
      "\n",
      "        [[0.0148, 0.6740, 0.0523],\n",
      "         [0.4018, 0.8585, 0.9774]],\n",
      "\n",
      "        [[0.9876, 0.9629, 0.4758],\n",
      "         [0.0139, 0.4103, 0.1767]],\n",
      "\n",
      "        [[0.9024, 0.3109, 0.5361],\n",
      "         [0.5023, 0.6643, 0.6590]]])\n",
      "atts.shape: torch.Size([4, 2, 3])\n",
      "atts: tensor([[[0.0248, 0.1017, 0.7406],\n",
      "         [0.8730, 0.7230, 0.6886]],\n",
      "\n",
      "        [[0.0148, 0.6740, 0.0523],\n",
      "         [0.4018, 0.8585, 0.9774]],\n",
      "\n",
      "        [[0.9876, 0.9629, 0.4758],\n",
      "         [0.0139, 0.4103, 0.1767]],\n",
      "\n",
      "        [[0.9024, 0.3109, 0.5361],\n",
      "         [0.5023, 0.6643, 0.6590]]])\n",
      "src: tensor([[1, 2],\n",
      "        [3, 4],\n",
      "        [5, 6]])\n",
      "src.T: tensor([[1, 3, 5],\n",
      "        [2, 4, 6]])\n",
      "src.unsqueeze: tensor([[[1, 3, 5],\n",
      "         [2, 4, 6]]])\n",
      "src.inter: tensor([[[1, 3, 5],\n",
      "         [2, 4, 6]],\n",
      "\n",
      "        [[1, 3, 5],\n",
      "         [2, 4, 6]],\n",
      "\n",
      "        [[1, 3, 5],\n",
      "         [2, 4, 6]],\n",
      "\n",
      "        [[1, 3, 5],\n",
      "         [2, 4, 6]]])\n",
      "src.inter.shape: torch.Size([4, 2, 3])\n",
      "tensor([[[0.0000, 0.0248, 0.0000, 0.1017, 0.0000, 0.7406, 0.0000, 0.0000,\n",
      "          0.0000, 0.0000],\n",
      "         [0.0000, 0.0000, 0.8730, 0.0000, 0.7230, 0.0000, 0.6886, 0.0000,\n",
      "          0.0000, 0.0000]],\n",
      "\n",
      "        [[0.0000, 0.0148, 0.0000, 0.6740, 0.0000, 0.0523, 0.0000, 0.0000,\n",
      "          0.0000, 0.0000],\n",
      "         [0.0000, 0.0000, 0.4018, 0.0000, 0.8585, 0.0000, 0.9774, 0.0000,\n",
      "          0.0000, 0.0000]],\n",
      "\n",
      "        [[0.0000, 0.9876, 0.0000, 0.9629, 0.0000, 0.4758, 0.0000, 0.0000,\n",
      "          0.0000, 0.0000],\n",
      "         [0.0000, 0.0000, 0.0139, 0.0000, 0.4103, 0.0000, 0.1767, 0.0000,\n",
      "          0.0000, 0.0000]],\n",
      "\n",
      "        [[0.0000, 0.9024, 0.0000, 0.3109, 0.0000, 0.5361, 0.0000, 0.0000,\n",
      "          0.0000, 0.0000],\n",
      "         [0.0000, 0.0000, 0.5023, 0.0000, 0.6643, 0.0000, 0.6590, 0.0000,\n",
      "          0.0000, 0.0000]]])\n"
     ]
    }
   ],
   "source": [
    "atts = torch.rand(2,4,3).transpose(0,1) # [output_seq_length, batch_size, input_seq_length]\n",
    "print(\"atts:\", atts)\n",
    "print(\"atts.shape:\", atts.shape)\n",
    "\n",
    "# atts = atts * torch.tensor([[[0.1],[1]],[[10],[100]],[[1000],[10000]],[[100000],[1000000]]])\n",
    "print(\"atts:\", atts)\n",
    "\n",
    "# src = torch.randint(0, 10, (3,2))\n",
    "src = torch.tensor([[1,2],\n",
    "                    [3,4],\n",
    "                    [5,6]])\n",
    "print(\"src:\", src)\n",
    "src = src.transpose(0,1)\n",
    "print(\"src.T:\", src)\n",
    "src = src.unsqueeze(0)\n",
    "print(\"src.unsqueeze:\", src)\n",
    "src = torch.repeat_interleave(src, 4, dim=0)\n",
    "print(\"src.inter:\", src)\n",
    "print(\"src.inter.shape:\", src.shape)\n",
    "\n",
    "out_dist = torch.zeros(4, 2, 10).scatter_add_(2,src,atts)\n",
    "print(out_dist)"
   ]
  },
  {
   "cell_type": "markdown",
   "metadata": {},
   "source": [
    "# Python AST doodles"
   ]
  },
  {
   "cell_type": "code",
   "execution_count": 4,
   "metadata": {},
   "outputs": [],
   "source": [
    "import ast\n",
    "import astor\n",
    "\n",
    "import execnet\n",
    "import inspect"
   ]
  },
  {
   "cell_type": "code",
   "execution_count": 5,
   "metadata": {},
   "outputs": [],
   "source": [
    "def call_python_version(Version, Module, Function, ArgumentList):\n",
    "    gw      = execnet.makegateway(\"popen//python=python%s\" % Version)\n",
    "    channel = gw.remote_exec(\"\"\"\n",
    "        from %s import %s as the_function\n",
    "        channel.send(the_function(*channel.receive()))\n",
    "    \"\"\" % (Module, Function))\n",
    "    channel.send(ArgumentList)\n",
    "    return channel.receive()"
   ]
  },
  {
   "cell_type": "code",
   "execution_count": 6,
   "metadata": {},
   "outputs": [],
   "source": [
    "def foo(*bar):\n",
    "    print(bar)"
   ]
  },
  {
   "cell_type": "code",
   "execution_count": 7,
   "metadata": {},
   "outputs": [
    {
     "name": "stdout",
     "output_type": "stream",
     "text": [
      "def foo(*bar):\n",
      "    print(bar)\n",
      "\n"
     ]
    }
   ],
   "source": [
    "func_source = inspect.getsource(foo)\n",
    "print(func_source)"
   ]
  },
  {
   "cell_type": "code",
   "execution_count": 8,
   "metadata": {},
   "outputs": [
    {
     "name": "stdout",
     "output_type": "stream",
     "text": [
      "('this', 'is')\n"
     ]
    }
   ],
   "source": [
    "foo(\"this\", \"is\")"
   ]
  },
  {
   "cell_type": "code",
   "execution_count": 9,
   "metadata": {},
   "outputs": [],
   "source": [
    "def run_as_python2(code_string):\n",
    "    gw = execnet.makegateway(\"popen//python=python2\")\n",
    "    channel = gw.remote_exec(f\"\"\"\n",
    "        channel.send(\"the_function(*channel.receive())\")\"\"\")"
   ]
  },
  {
   "cell_type": "code",
   "execution_count": 10,
   "metadata": {},
   "outputs": [
    {
     "name": "stdout",
     "output_type": "stream",
     "text": [
      "Hello Mr Bear!\n"
     ]
    },
    {
     "ename": "RemoteError",
     "evalue": "Traceback (most recent call last):\n  File \"<string>\", line 1084, in executetask\n  File \"<string>\", line 1, in do_exec\n  File \"<remote exec>\", line 3, in <module>\n  File \"<string>\", line 729, in send\n  File \"<string>\", line 1371, in dumps_internal\n  File \"<string>\", line 1389, in save\n  File \"<string>\", line 1405, in _save\nDumpError: can't serialize <class '_ast.Module'>\n",
     "output_type": "error",
     "traceback": [
      "\u001b[0;31m---------------------------------------------------------------------------\u001b[0m",
      "\u001b[0;31mRemoteError\u001b[0m                               Traceback (most recent call last)",
      "\u001b[0;32m<ipython-input-10-aa1903dbbfd6>\u001b[0m in \u001b[0;36m<module>\u001b[0;34m\u001b[0m\n\u001b[1;32m      3\u001b[0m \u001b[0mprint\u001b[0m\u001b[0;34m(\u001b[0m\u001b[0mresult\u001b[0m\u001b[0;34m)\u001b[0m\u001b[0;34m\u001b[0m\u001b[0;34m\u001b[0m\u001b[0m\n\u001b[1;32m      4\u001b[0m result = call_python_version(\"2\", \"python2_code\", \"string_py2_ast\",  \n\u001b[0;32m----> 5\u001b[0;31m                              [\"print 'foo' \"]) \n\u001b[0m\u001b[1;32m      6\u001b[0m \u001b[0mprint\u001b[0m\u001b[0;34m(\u001b[0m\u001b[0mresult\u001b[0m\u001b[0;34m)\u001b[0m\u001b[0;34m\u001b[0m\u001b[0;34m\u001b[0m\u001b[0m\n",
      "\u001b[0;32m<ipython-input-5-7d10cd00bb25>\u001b[0m in \u001b[0;36mcall_python_version\u001b[0;34m(Version, Module, Function, ArgumentList)\u001b[0m\n\u001b[1;32m      6\u001b[0m     \"\"\" % (Module, Function))\n\u001b[1;32m      7\u001b[0m     \u001b[0mchannel\u001b[0m\u001b[0;34m.\u001b[0m\u001b[0msend\u001b[0m\u001b[0;34m(\u001b[0m\u001b[0mArgumentList\u001b[0m\u001b[0;34m)\u001b[0m\u001b[0;34m\u001b[0m\u001b[0;34m\u001b[0m\u001b[0m\n\u001b[0;32m----> 8\u001b[0;31m     \u001b[0;32mreturn\u001b[0m \u001b[0mchannel\u001b[0m\u001b[0;34m.\u001b[0m\u001b[0mreceive\u001b[0m\u001b[0;34m(\u001b[0m\u001b[0;34m)\u001b[0m\u001b[0;34m\u001b[0m\u001b[0;34m\u001b[0m\u001b[0m\n\u001b[0m",
      "\u001b[0;32m/usr/local/lib/python3.6/dist-packages/execnet/gateway_base.py\u001b[0m in \u001b[0;36mreceive\u001b[0;34m(self, timeout)\u001b[0m\n\u001b[1;32m    747\u001b[0m         \u001b[0;32mif\u001b[0m \u001b[0mx\u001b[0m \u001b[0;32mis\u001b[0m \u001b[0mENDMARKER\u001b[0m\u001b[0;34m:\u001b[0m\u001b[0;34m\u001b[0m\u001b[0;34m\u001b[0m\u001b[0m\n\u001b[1;32m    748\u001b[0m             \u001b[0mitemqueue\u001b[0m\u001b[0;34m.\u001b[0m\u001b[0mput\u001b[0m\u001b[0;34m(\u001b[0m\u001b[0mx\u001b[0m\u001b[0;34m)\u001b[0m  \u001b[0;31m# for other receivers\u001b[0m\u001b[0;34m\u001b[0m\u001b[0;34m\u001b[0m\u001b[0m\n\u001b[0;32m--> 749\u001b[0;31m             \u001b[0;32mraise\u001b[0m \u001b[0mself\u001b[0m\u001b[0;34m.\u001b[0m\u001b[0m_getremoteerror\u001b[0m\u001b[0;34m(\u001b[0m\u001b[0;34m)\u001b[0m \u001b[0;32mor\u001b[0m \u001b[0mEOFError\u001b[0m\u001b[0;34m(\u001b[0m\u001b[0;34m)\u001b[0m\u001b[0;34m\u001b[0m\u001b[0;34m\u001b[0m\u001b[0m\n\u001b[0m\u001b[1;32m    750\u001b[0m         \u001b[0;32melse\u001b[0m\u001b[0;34m:\u001b[0m\u001b[0;34m\u001b[0m\u001b[0;34m\u001b[0m\u001b[0m\n\u001b[1;32m    751\u001b[0m             \u001b[0;32mreturn\u001b[0m \u001b[0mx\u001b[0m\u001b[0;34m\u001b[0m\u001b[0;34m\u001b[0m\u001b[0m\n",
      "\u001b[0;31mRemoteError\u001b[0m: Traceback (most recent call last):\n  File \"<string>\", line 1084, in executetask\n  File \"<string>\", line 1, in do_exec\n  File \"<remote exec>\", line 3, in <module>\n  File \"<string>\", line 729, in send\n  File \"<string>\", line 1371, in dumps_internal\n  File \"<string>\", line 1389, in save\n  File \"<string>\", line 1405, in _save\nDumpError: can't serialize <class '_ast.Module'>\n"
     ]
    }
   ],
   "source": [
    "result = call_python_version(\"3\", \"python2_code\", \"my_function\",  \n",
    "                             [\"Mr\", \"Bear\"]) \n",
    "print(result) \n",
    "result = call_python_version(\"2\", \"python2_code\", \"string_py2_ast\",  \n",
    "                             [\"print 'foo' \"]) \n",
    "print(result)"
   ]
  },
  {
   "cell_type": "code",
   "execution_count": 78,
   "metadata": {},
   "outputs": [
    {
     "data": {
      "text/plain": [
       "_ast.Store"
      ]
     },
     "execution_count": 78,
     "metadata": {},
     "output_type": "execute_result"
    }
   ],
   "source": [
    "eval(\"Store\")"
   ]
  },
  {
   "cell_type": "code",
   "execution_count": 65,
   "metadata": {},
   "outputs": [],
   "source": [
    "from collections.abc import Iterable\n",
    "\n",
    "def is_primitive(obj):\n",
    "    return any([isinstance(obj, str),isinstance(obj, int),isinstance(obj, float)])\n",
    "\n",
    "def ast_to_production_rules(tree):\n",
    "    \n",
    "    fields = tree._fields\n",
    "    name = type(tree).__name__\n",
    "    print(name, end =\" \")\n",
    "    \n",
    "    for field in fields:\n",
    "        field_obj = getattr(tree, field)\n",
    "        \n",
    "        if field_obj==None:\n",
    "            continue\n",
    "            \n",
    "        elif is_primitive(field_obj):\n",
    "            print(field, end=\" \")\n",
    "            print(field_obj, end=\" \")\n",
    "            \n",
    "        elif isinstance(field_obj, Iterable):\n",
    "            print(field, end=\" \")\n",
    "            for elem in field_obj:\n",
    "                ast_to_production_rules(elem)\n",
    "            print(\"<end_list>\", end=\" \")\n",
    "        else:\n",
    "            print(field, end=\" \")\n",
    "            ast_to_production_rules(field_obj)\n",
    "        \n",
    "        \n"
   ]
  },
  {
   "cell_type": "code",
   "execution_count": 143,
   "metadata": {},
   "outputs": [
    {
     "name": "stdout",
     "output_type": "stream",
     "text": [
      "Module body Assign targets Name id a ctx Store <end_list> value Num n 0.4 <end_list> "
     ]
    }
   ],
   "source": [
    "ast_to_production_rules(tree)"
   ]
  },
  {
   "cell_type": "code",
   "execution_count": 125,
   "metadata": {},
   "outputs": [
    {
     "data": {
      "text/plain": [
       "\"this ' is\""
      ]
     },
     "execution_count": 125,
     "metadata": {},
     "output_type": "execute_result"
    }
   ],
   "source": [
    "a='this \\' is'\n",
    "a"
   ]
  },
  {
   "cell_type": "code",
   "execution_count": 541,
   "metadata": {},
   "outputs": [
    {
     "name": "stdout",
     "output_type": "stream",
     "text": [
      "Module(body=[If(test=Compare(left=Call(func=Attribute(value=Name(id='p', ctx=Load()), attr='find', ctx=Load()), args=[Str(s=':_(')], keywords=[]), ops=[GtE()], comparators=[Num(n=0)]), body=[Pass()], orelse=[])])\n",
      "\n",
      "if p.find(':_(') >= 0:\n",
      "    pass\n",
      "\n"
     ]
    }
   ],
   "source": [
    "code_string = \"if p . find ( ':_(' ) >= 0 : pass\"\n",
    "tree = ast.parse(code_string)\n",
    "# tree = ast.parse(\"a='foo'\")\n",
    "print(ast.dump(tree))\n",
    "print()\n",
    "print(astor.to_source(tree))"
   ]
  },
  {
   "cell_type": "code",
   "execution_count": 542,
   "metadata": {},
   "outputs": [],
   "source": [
    "def to_num(s):\n",
    "    try:\n",
    "        return int(s)\n",
    "    except ValueError:\n",
    "        return float(s)"
   ]
  },
  {
   "cell_type": "code",
   "execution_count": 545,
   "metadata": {},
   "outputs": [
    {
     "name": "stdout",
     "output_type": "stream",
     "text": [
      "Module(body=[If(test=Compare(left=Call(func=Attribute(value=Name(id='p', ctx=Load()), attr='find', ctx=Load()), args=[Str(s=':_(')], keywords=[]), ops=[GtE()], comparators=[Num(n=0)]), body=[Pass()], orelse=[])])\n",
      "\n",
      "Reduced tree: If(test=Compare(left=Call(func=Attribute(value=Name(id='p', ctx=Load()), attr='find', ctx=Load()), args=[Str(s=':_(')], keywords=[]), ops=[GtE()], comparators=[Num(n=0)]), body=[Pass()], orelse=[])\n",
      "2 Attr string so far: test=Compare(left=Call(func=Attribute(value=Name(id='p', ctx=Load()), attr='find', ctx=Load()), args=[Str(s=':_(')], keywords=[]), ops=[GtE()], comparators=[Num(n=0)]), body=[Pass()], orelse=[]\n",
      "3 attribute name: test\n",
      "6 checking Quote or DQuote: False\n"
     ]
    },
    {
     "ename": "ValueError",
     "evalue": "substring not found",
     "output_type": "error",
     "traceback": [
      "\u001b[0;31m---------------------------------------------------------------------------\u001b[0m",
      "\u001b[0;31mValueError\u001b[0m                                Traceback (most recent call last)",
      "\u001b[0;32m<ipython-input-545-5ad4a88199d6>\u001b[0m in \u001b[0;36m<module>\u001b[0;34m\u001b[0m\n\u001b[1;32m     91\u001b[0m \u001b[0mt\u001b[0m \u001b[0;34m=\u001b[0m \u001b[0mtree\u001b[0m\u001b[0;34m.\u001b[0m\u001b[0mbody\u001b[0m\u001b[0;34m[\u001b[0m\u001b[0;36m0\u001b[0m\u001b[0;34m]\u001b[0m\u001b[0;34m\u001b[0m\u001b[0;34m\u001b[0m\u001b[0m\n\u001b[1;32m     92\u001b[0m \u001b[0mprint\u001b[0m\u001b[0;34m(\u001b[0m\u001b[0;34m\"Reduced tree:\"\u001b[0m\u001b[0;34m,\u001b[0m \u001b[0mast\u001b[0m\u001b[0;34m.\u001b[0m\u001b[0mdump\u001b[0m\u001b[0;34m(\u001b[0m\u001b[0mt\u001b[0m\u001b[0;34m)\u001b[0m\u001b[0;34m)\u001b[0m\u001b[0;34m\u001b[0m\u001b[0;34m\u001b[0m\u001b[0m\n\u001b[0;32m---> 93\u001b[0;31m \u001b[0mnew_ast\u001b[0m \u001b[0;34m=\u001b[0m \u001b[0mnew_dump_to_ast\u001b[0m\u001b[0;34m(\u001b[0m\u001b[0mast\u001b[0m\u001b[0;34m.\u001b[0m\u001b[0mdump\u001b[0m\u001b[0;34m(\u001b[0m\u001b[0mt\u001b[0m\u001b[0;34m)\u001b[0m\u001b[0;34m)\u001b[0m\u001b[0;34m\u001b[0m\u001b[0;34m\u001b[0m\u001b[0m\n\u001b[0m\u001b[1;32m     94\u001b[0m \u001b[0;34m\u001b[0m\u001b[0m\n\u001b[1;32m     95\u001b[0m \u001b[0mprint\u001b[0m\u001b[0;34m(\u001b[0m\u001b[0;34m)\u001b[0m\u001b[0;34m\u001b[0m\u001b[0;34m\u001b[0m\u001b[0m\n",
      "\u001b[0;32m<ipython-input-545-5ad4a88199d6>\u001b[0m in \u001b[0;36mnew_dump_to_ast\u001b[0;34m(dump_string)\u001b[0m\n\u001b[1;32m     79\u001b[0m             \u001b[0mvalue_last_paren\u001b[0m \u001b[0;34m=\u001b[0m \u001b[0mget_paren_index\u001b[0m\u001b[0;34m(\u001b[0m\u001b[0minner_paren\u001b[0m\u001b[0;34m,\u001b[0m \u001b[0mvalue_first_paren\u001b[0m\u001b[0;34m)\u001b[0m\u001b[0;34m\u001b[0m\u001b[0;34m\u001b[0m\u001b[0m\n\u001b[1;32m     80\u001b[0m \u001b[0;31m#             print(9,\"handling Node for: \",inner_paren[equal_idx+1:value_last_paren+1])\u001b[0m\u001b[0;34m\u001b[0m\u001b[0;34m\u001b[0m\u001b[0;34m\u001b[0m\u001b[0m\n\u001b[0;32m---> 81\u001b[0;31m             \u001b[0mvalue_ast\u001b[0m \u001b[0;34m=\u001b[0m \u001b[0mnew_dump_to_ast\u001b[0m\u001b[0;34m(\u001b[0m\u001b[0minner_paren\u001b[0m\u001b[0;34m[\u001b[0m\u001b[0mequal_idx\u001b[0m\u001b[0;34m+\u001b[0m\u001b[0;36m1\u001b[0m\u001b[0;34m:\u001b[0m\u001b[0mvalue_last_paren\u001b[0m\u001b[0;34m+\u001b[0m\u001b[0;36m1\u001b[0m\u001b[0;34m]\u001b[0m\u001b[0;34m)\u001b[0m\u001b[0;34m\u001b[0m\u001b[0;34m\u001b[0m\u001b[0m\n\u001b[0m\u001b[1;32m     82\u001b[0m \u001b[0;31m#             print(10, f\"obtained AST for{attr_string}:\", value_ast)\u001b[0m\u001b[0;34m\u001b[0m\u001b[0;34m\u001b[0m\u001b[0;34m\u001b[0m\u001b[0m\n\u001b[1;32m     83\u001b[0m             \u001b[0msetattr\u001b[0m\u001b[0;34m(\u001b[0m\u001b[0mnode\u001b[0m\u001b[0;34m,\u001b[0m \u001b[0mattr_string\u001b[0m\u001b[0;34m,\u001b[0m \u001b[0mvalue_ast\u001b[0m\u001b[0;34m)\u001b[0m\u001b[0;34m\u001b[0m\u001b[0;34m\u001b[0m\u001b[0m\n",
      "\u001b[0;32m<ipython-input-545-5ad4a88199d6>\u001b[0m in \u001b[0;36mnew_dump_to_ast\u001b[0;34m(dump_string)\u001b[0m\n\u001b[1;32m      2\u001b[0m \u001b[0;34m\u001b[0m\u001b[0m\n\u001b[1;32m      3\u001b[0m \u001b[0;32mdef\u001b[0m \u001b[0mnew_dump_to_ast\u001b[0m\u001b[0;34m(\u001b[0m\u001b[0mdump_string\u001b[0m\u001b[0;34m)\u001b[0m\u001b[0;34m:\u001b[0m\u001b[0;34m\u001b[0m\u001b[0;34m\u001b[0m\u001b[0m\n\u001b[0;32m----> 4\u001b[0;31m     \u001b[0mfirst_paren\u001b[0m \u001b[0;34m=\u001b[0m \u001b[0mdump_string\u001b[0m\u001b[0;34m.\u001b[0m\u001b[0mindex\u001b[0m\u001b[0;34m(\u001b[0m\u001b[0;34m\"(\"\u001b[0m\u001b[0;34m)\u001b[0m\u001b[0;34m\u001b[0m\u001b[0;34m\u001b[0m\u001b[0m\n\u001b[0m\u001b[1;32m      5\u001b[0m     \u001b[0mnode_string\u001b[0m \u001b[0;34m=\u001b[0m \u001b[0mdump_string\u001b[0m\u001b[0;34m[\u001b[0m\u001b[0;34m:\u001b[0m\u001b[0mfirst_paren\u001b[0m\u001b[0;34m]\u001b[0m\u001b[0;34m\u001b[0m\u001b[0;34m\u001b[0m\u001b[0m\n\u001b[1;32m      6\u001b[0m \u001b[0;31m#     print(1, \"creating node type:\", node_string)\u001b[0m\u001b[0;34m\u001b[0m\u001b[0;34m\u001b[0m\u001b[0;34m\u001b[0m\u001b[0m\n",
      "\u001b[0;31mValueError\u001b[0m: substring not found"
     ]
    }
   ],
   "source": [
    "import importlib\n",
    "\n",
    "def new_dump_to_ast(dump_string):\n",
    "    first_paren = dump_string.index(\"(\")\n",
    "    node_string = dump_string[:first_paren]\n",
    "#     print(1, \"creating node type:\", node_string)\n",
    "    module = importlib.import_module(\"ast\")\n",
    "    class_ = getattr(module, node_string)\n",
    "    node = class_()\n",
    "    inner_paren = dump_string[first_paren+1:-1]\n",
    "    \n",
    "    # handle variable length attributes\n",
    "    while len(inner_paren) > 0:\n",
    "        print(2, \"Attr string so far:\", inner_paren)\n",
    "        equal_idx = inner_paren.index(\"=\")\n",
    "        attr_string = inner_paren[:equal_idx]\n",
    "        print(3, \"attribute name:\", attr_string)\n",
    "        \n",
    "        # 5 cases: None, num, string, list, node\n",
    "        # first check if None\n",
    "#         print(4, \"checking None:\", inner_paren[equal_idx+1:equal_idx+5])\n",
    "#         print(5, \"checking number:\", inner_paren[equal_idx+1], inner_paren[equal_idx+1].isnumeric())\n",
    "        print(6, \"checking Quote or DQuote:\", inner_paren[equal_idx+1] == \"'\" or inner_paren[equal_idx+1] == '\"')\n",
    "        \n",
    "        if inner_paren[equal_idx+1:equal_idx+5] == \"None\":\n",
    "            setattr(node, attr_string, None)\n",
    "            inner_paren = inner_paren[equal_idx + 7:]\n",
    "        \n",
    "        elif inner_paren[equal_idx+1:equal_idx+5] == \"True\":\n",
    "            setattr(node, attr_string, True)\n",
    "            inner_paren = inner_paren[equal_idx + 7:]\n",
    "            \n",
    "        elif inner_paren[equal_idx+1:equal_idx+6] == \"False\":\n",
    "            setattr(node, attr_string, False)\n",
    "            inner_paren = inner_paren[equal_idx + 8:]\n",
    "            \n",
    "        # check if first character is a number\n",
    "        elif inner_paren[equal_idx+1].isnumeric():\n",
    "            number_finder = re.compile(\"([0-9]+(.?[0-9]*))( *([a-zA-Z]+))*\")\n",
    "            groups = number_finder.match(inner_paren[equal_idx+1:]).groups()\n",
    "#             print(6, \"Number groups identified:\", groups)\n",
    "            num = to_num(groups[0])\n",
    "#             print(7, \"Number:\", num)\n",
    "            setattr(node, attr_string, num)\n",
    "            inner_paren = inner_paren[equal_idx + len(groups[0])+2:]\n",
    "        \n",
    "        # check if first Character is quote or double quote to see if it's a string\n",
    "        elif inner_paren[equal_idx+1] == \"'\" or inner_paren[equal_idx+1] == '\"':\n",
    "            string_matcher = re.compile(\"['\\\"](.*?)['\\\"]\")\n",
    "            string = temp.findall(inner_paren[equal_idx:])[0]\n",
    "            setattr(node, attr_string, string)\n",
    "            inner_paren = inner_paren[equal_idx + len(string)+5:]\n",
    "        \n",
    "        elif inner_paren[equal_idx+1] == \"'\" or inner_paren[equal_idx+1] == '\"':\n",
    "            string_matcher = re.compile(\"['\\\"](.*?)['\\\"]\")\n",
    "            string = temp.findall(inner_paren[equal_idx:])[0]\n",
    "            setattr(node, attr_string, string)\n",
    "            inner_paren = inner_paren[equal_idx + len(string)+5:]\n",
    "        \n",
    "        # deal with list\n",
    "        elif inner_paren[equal_idx+1] == \"[\":\n",
    "            list_last_square = get_square_index(inner_paren, equal_idx+1)\n",
    "            list_string = inner_paren[equal_idx+2:list_last_square]\n",
    "            \n",
    "            elem_list = []\n",
    "            while len(list_string) > 0:\n",
    "#                 print(8, \"List string so far:\", list_string)\n",
    "                value_first_paren = list_string.index(\"(\")\n",
    "                value_last_paren = get_paren_index(list_string, value_first_paren)\n",
    "                list_value_ast = new_dump_to_ast(list_string[:value_last_paren+1])\n",
    "                elem_list.append(list_value_ast)\n",
    "                list_string = list_string[value_last_paren+3:]\n",
    "            setattr(node, attr_string, elem_list)\n",
    "            inner_paren = inner_paren[list_last_square+3:]\n",
    "        \n",
    "        # deal with node\n",
    "        else:\n",
    "            value_first_paren = inner_paren.index(\"(\")        \n",
    "            value_last_paren = get_paren_index(inner_paren, value_first_paren)\n",
    "#             print(9,\"handling Node for: \",inner_paren[equal_idx+1:value_last_paren+1])\n",
    "            value_ast = new_dump_to_ast(inner_paren[equal_idx+1:value_last_paren+1])\n",
    "#             print(10, f\"obtained AST for{attr_string}:\", value_ast)\n",
    "            setattr(node, attr_string, value_ast)\n",
    "            inner_paren = inner_paren[value_last_paren+3:]\n",
    "    \n",
    "    \n",
    "    return node\n",
    "\n",
    "print(ast.dump(tree))\n",
    "print()\n",
    "t = tree.body[0]\n",
    "print(\"Reduced tree:\", ast.dump(t))\n",
    "new_ast = new_dump_to_ast(ast.dump(t))\n",
    "\n",
    "print()\n",
    "print(ast.dump(new_ast))\n",
    "\n",
    "print()\n",
    "print(f\"OG String    : {code_string}\")\n",
    "print(f\"Code from AST: {astor.to_source(t)}\")\n",
    "print(f\"Rebuilt AST  : {astor.to_source(new_ast)}\")"
   ]
  },
  {
   "cell_type": "code",
   "execution_count": 332,
   "metadata": {},
   "outputs": [
    {
     "data": {
      "text/plain": [
       "_ast.Module"
      ]
     },
     "execution_count": 332,
     "metadata": {},
     "output_type": "execute_result"
    }
   ],
   "source": [
    "import importlib\n",
    "module = importlib.import_module(\"ast\")\n",
    "class_ = getattr(module, \"Module\")\n",
    "instance = class_()\n",
    "type(instance)"
   ]
  },
  {
   "cell_type": "code",
   "execution_count": 538,
   "metadata": {},
   "outputs": [
    {
     "name": "stdout",
     "output_type": "stream",
     "text": [
      "      raise ImproperlyConfigured ( \"You must define a '%s' cache\" % DEFAULT_CACHE_ALIAS )\n",
      " warnings . warn ( \"'get_cache' is deprecated in favor of 'caches'.\" ,  RemovedInDjango19Warning , stacklevel = 2 )\n",
      "                  raise InvalidCacheBackendError ( \"Could not find backend '%s': %s\" % (  backend , e ) )\n",
      "          raise InvalidCacheBackendError (  \"Could not find backend '%s': %s\" % ( backend , e ) )\n",
      "              raise InvalidCacheBackendError (  \"Could not find config for '%s' in settings.CACHES\" % alias  )\n",
      "              raise ValueError ( \"Key '%s' not found\" % key )\n",
      "              raise ValueError ( \"Key '%s' not found\" % key )\n",
      "                      raise EnvironmentError (  \"Cache directory '%s' does not exist \"  \"and could not be created'\" % self . _dir )\n",
      "              raise ValueError ( \"Key '%s' not found\" % key )\n",
      "              raise ValueError ( \"Key '%s' not found\" % key )\n",
      "              raise ValueError ( \"Key '%s' not found\" % key )\n",
      "                          description = \"The '%s' function\" % receiver . __name__\n",
      "                          description = \"An instance of the '%s' class\" % receiver . __class__ . __name__\n",
      "  errors . append (  Error (  \"%s was connected to the '%s' signal \"  \"with a lazy reference to the '%s' sender, \"  \"which has not been installed.\" % (  description , name , '.' . join ( reference )  ) ,  obj = receiver . __module__ ,  hint = None ,  id = 'signals.E001'  )  )\n",
      "  raise AttributeError ( \"Unable to determine the file's size.\" )\n",
      "     if line [ - 1 : ] in ( b'\\n' , b'\\r' ) :\n",
      " while current_chunk != b'' :\n",
      "   return force_text ( name . replace ( '\\\\' , '/' ) )\n",
      " raise NotImplementedError ( \"This backend doesn't support absolute paths.\" )\n",
      "              raise SuspiciousFileOperation ( \"Attempted access to '%s' denied.\" % name )\n",
      "          content = content or b''\n",
      "  raise ValueError ( \"The view %s.%s didn't return an HttpResponse object. It returned None instead.\"  % ( callback . __module__ , view_name ) )\n",
      "                          raise ValueError (  \"%s.process_template_response didn't return an \"  \"HttpResponse object. It returned None instead.\"  % ( middleware_method . __self__ . __class__ . __name__ ) )\n",
      "                      raise ValueError (  \"%s.process_response didn't return an \"  \"HttpResponse object. It returned None instead.\"  % ( middleware_method . __self__ . __class__ . __name__ ) )\n",
      " self . buffer = b''\n",
      "              return b''\n",
      " self . buffer = b''\n",
      " self . buffer = b''\n",
      "          while b'\\n' not in self . buffer and ( size is None or len ( self . buffer ) < size ) :\n",
      "          self . stream . write ( message . message ( ) . as_bytes ( ) + b'\\n' )\n",
      " self . stream . write ( b'-' * 79 )\n",
      " self . stream . write ( b'\\n' )\n",
      "          raise BadHeaderError ( \"Header values can't contain newlines (got %r for header %r)\" % ( val , name ) )\n",
      "  self . replace_header ( 'Content-Type' , 'text/%s; charset=\"%s\"' % ( subtype , charset ) )\n",
      "              assert not isinstance ( to , six . string_types ) , '\"to\" argument must be a list or tuple'\n",
      "              assert not isinstance ( cc , six . string_types ) , '\"cc\" argument must be a list or tuple'\n",
      "              assert not isinstance ( bcc , six . string_types ) , '\"bcc\" argument must be a list or tuple'\n",
      "              usage = [  \"\" ,  \"Type '%s help <subcommand>' for help on a specific subcommand.\" % self . prog_name ,  \"\" ,  \"Available subcommands:\" ,  ]\n",
      " sys . stderr . write ( \"Unknown command: %r\\nType '%s help' for usage.\\n\" %  ( subcommand , self . prog_name ) )\n",
      "              warnings . warn (  '\"requires_model_validation\" is deprecated '  'in favor of \"requires_system_checks\".' ,  RemovedInDjango19Warning )\n",
      "              raise ImproperlyConfigured (  'Command %s defines both \"requires_model_validation\" '  'and \"requires_system_checks\", which is illegal. Use only '  '\"requires_system_checks\".' % self . __class__ . __name__ )\n",
      " parser . add_option ( '--settings' ,  help = 'The Python path to a settings module, e.g. \"myproject.settings.main\". If this isn\\'t provided, the DJANGO_SETTINGS_MODULE environment variable will be used.' )\n",
      " parser . add_option ( '--pythonpath' ,  help = 'A directory to add to the Python path, e.g. \"/home/djangoprojects/myproject\".' ) ,\n",
      " parser . add_option ( '--no-color' , action = 'store_true' , dest = 'no_color' , default = False ,  help = \"Don't colorize the command output.\" )\n",
      "  parser . add_argument ( '--settings' ,  help = 'The Python path to a settings module, e.g. \"myproject.settings.main\". If this isn\\'t provided, the DJANGO_SETTINGS_MODULE environment variable will be used.' )\n",
      " parser . add_argument ( '--pythonpath' ,  help = 'A directory to add to the Python path, e.g. \"/home/djangoprojects/myproject\".' )\n",
      " parser . add_argument ( '--no-color' , action = 'store_true' , dest = 'no_color' , default = False ,  help = \"Don't colorize the command output.\" )\n",
      "                  raise CommandError ( \"Incompatible values of 'leave_locale_alone' \"  \"(%s) and 'can_import_settings' (%s) command \"  \"options.\" % ( self . leave_locale_alone ,  self . can_import_settings ) )\n",
      "                  raise CommandError (  \"AppCommand cannot handle app '%s' in legacy mode \"  \"because it doesn't have a models module.\"  % app_config . label )\n",
      "              raise CommandError ( \"Command doesn't accept any arguments\" )\n",
      " raise CommandError ( 'There is no system check with the \"%s\" tag.' % invalid_tag )\n",
      "  return sample [ : 3 ] == b'\\xef\\xbb\\xbf' or sample . startswith ( codecs . BOM_UTF16_LE ) or sample . startswith ( codecs . BOM_UTF16_BE )\n",
      "              raise CommandError ( \"Can't find %s. Make sure you have GNU gettext \"  \"tools 0.15 or newer installed.\" % self . program )\n",
      " parser . add_argument ( '--database' , action = 'store' , dest = 'database' ,  default = DEFAULT_DB_ALIAS ,  help = 'Nominates a database onto which the cache tables will be '  'installed. Defaults to the \"default\" database.' )\n",
      "                  self . stdout . write ( \"Cache table '%s' already exists.\" % tablename )\n",
      "  full_statement = [ \"CREATE TABLE %s (\" % qn ( tablename ) ]\n",
      "  full_statement . append ( ');' )\n",
      "                      raise CommandError (  \"Cache table '%s' could not be created.\\nThe error was: %s.\" %  ( tablename , force_text ( e ) ) )\n",
      "              self . stdout . write ( \"Cache table '%s' created.\" % tablename )\n",
      "          parser . add_argument ( '--database' , action = 'store' , dest = 'database' ,  default = DEFAULT_DB_ALIAS , help = 'Nominates a database onto which to '  'open a shell. Defaults to the \"default\" database.' )\n",
      "          parser . add_argument ( '--all' , action = 'store_true' , dest = 'all' , default = False ,  help = 'Display all settings, regardless of their value. '  'Default values are prefixed by \"###\".' )\n",
      "      help = ( \"Output the contents of the database as a fixture of the given \"  \"format (using each model's default manager unless --all is \"  \"specified).\" )\n",
      " parser . add_argument ( '--database' , action = 'store' , dest = 'database' ,  default = DEFAULT_DB_ALIAS ,  help = 'Nominates a specific database to dump fixtures from. '  'Defaults to the \"default\" database.' )\n",
      " parser . add_argument ( '-a' , '--all' , action = 'store_true' , dest = 'use_base_manager' , default = False ,  help = \"Use Django's base manager to dump all models stored in the database, \"  \"including those that would otherwise be filtered or modified by a custom manager.\" )\n",
      "              raise CommandError ( \"Can't resolve dependencies for %s in serialized app list.\" %  ', ' . join ( '%s.%s' % ( model . _meta . app_label , model . _meta . object_name )  for model , deps in sorted ( skipped , key = lambda obj : obj [ 0 ] . __name__ ) )  )\n",
      "      help = ( 'Removes ALL DATA from the database, including data added during '  'migrations. Unmigrated apps will also have their initial_data '  'fixture reloaded. Does not achieve a \"fresh install\" state.' )\n",
      " parser . add_argument ( '--database' , action = 'store' , dest = 'database' ,  default = DEFAULT_DB_ALIAS ,  help = 'Nominates a database to flush. Defaults to the \"default\" database.' )\n",
      "              confirm = input ( \"\"\"You have requested a flush of the database. This will IRREVERSIBLY DESTROY all data currently in the %r database, and return each table to an empty state. Are you sure you want to do this?     Type 'yes' to continue, or 'no' to cancel: \"\"\" % connection . settings_dict [ 'NAME' ] )\n",
      "                  new_msg = (  \"Database %s couldn't be flushed. Possible reasons:\\n\"  \"  * The database isn't running or isn't configured correctly.\\n\"  \"  * At least one of the expected database tables doesn't exist.\\n\"  \"  * The SQL was invalid.\\n\"  \"Hint: Look at the output of 'django-admin.py sqlflush'. That's the SQL this command wasn't able to run.\\n\"  \"The full error: %s\" ) % ( connection . settings_dict [ 'NAME' ] , e )\n",
      "          parser . add_argument ( '--database' , action = 'store' , dest = 'database' ,  default = DEFAULT_DB_ALIAS , help = 'Nominates a database to '  'introspect. Defaults to using the \"default\" database.' )\n",
      "              raise CommandError ( \"Database inspection isn't supported for the currently selected database backend.\" )\n",
      " yield \"# You'll have to do the following manually to clean this up:\"\n",
      " yield \"#   * Rearrange models' order\"\n",
      " yield \"# Feel free to rename the models, but don't rename db_table values or field names.\"\n",
      " yield \"# Also note: You'll have to insert the output of 'django-admin.py sqlcustom [app_label]'\"\n",
      "                              field_type = 'ForeignKey(%s' % rel_to\n",
      "                              field_type = \"ForeignKey('%s'\" % rel_to\n",
      "  field_type += '('\n",
      "                          if field_type == 'AutoField(' :\n",
      "  elif field_type == 'IntegerField(' and not connection . features . can_introspect_autofield :\n",
      "                          if field_type == 'BooleanField(' :\n",
      "                              field_type = 'NullBooleanField('\n",
      " if field_type not in ( 'TextField(' , 'CharField(' ) :\n",
      "                          if not field_desc . endswith ( '(' ) :\n",
      "  field_desc += ')'\n",
      "                   field_notes . append ( \"Field renamed because it contained more than one '_' in a row.\" )\n",
      " field_notes . append ( \"Field renamed because it started with '_'.\" )\n",
      " field_notes . append ( \"Field renamed because it ended with '_'.\" )\n",
      " field_notes . append ( \"Field renamed because it wasn't a valid Python identifier.\" )\n",
      " return [ \"\" ,  \"    class Meta:\" ,  \"        managed = False\" ,  \"        db_table = '%s'\" % table_name ]\n",
      " parser . add_argument ( '--database' , action = 'store' , dest = 'database' ,  default = DEFAULT_DB_ALIAS , help = 'Nominates a specific database to load '  'fixtures into. Defaults to the \"default\" database.' )\n",
      "                      self . stdout . write ( \"Installing %s fixture '%s' from %s.\" %  ( ser_fmt , fixture_name , humanize ( fixture_dir ) ) )\n",
      "                      e . args = ( \"Problem installing fixture '%s': %s\" % ( fixture_file , e ) , )\n",
      "                  warnings . warn (  \"No fixture data found for '%s'. (File format may be \"  \"invalid.)\" % fixture_name ,  RuntimeWarning  )\n",
      "              self . stdout . write ( \"Loading '%s' fixtures...\" % fixture_name )\n",
      "                  self . stdout . write ( \"No fixture '%s' in %s.\" %  ( fixture_name , humanize ( fixture_dir ) ) )\n",
      "                  raise CommandError (  \"Multiple fixtures named '%s' in %s. Aborting.\" %  ( fixture_name , humanize ( fixture_dir ) ) )\n",
      "               warnings . warn ( \"No fixture named '%s' found.\" % fixture_name )\n",
      "                  raise CommandError (  \"Problem installing fixture '%s': %s is not a known \"  \"serialization format.\" % ( '' . join ( parts [ : - 1 ] ) , parts [ - 1 ] ) )\n",
      "      return \"'%s'\" % dirname if dirname else 'absolute path'\n",
      "  plural_forms_re = re . compile ( r'^(?P<value>\"Plural-Forms.+?\\\\n\")\\s*$' , re . MULTILINE | re . DOTALL )\n",
      "              raise CommandError ( \"Can't find %s. Make sure you have GNU \"  \"gettext tools 0.15 or newer installed.\" % program )\n",
      " parser . add_argument ( '--domain' , '-d' , default = 'django' , dest = 'domain' ,  help = 'The domain of the message files (default: \"django\").' )\n",
      " parser . add_argument ( '--extension' , '-e' , dest = 'extensions' ,  help = 'The file extension(s) to examine (default: \"html,txt\", or \"js\" '  'if the domain is \"djangojs\"). Separate multiple extensions with '  'commas, or use -e multiple times.' ,  action = 'append' )\n",
      " parser . add_argument ( '--no-default-ignore' , action = 'store_false' , dest = 'use_default_ignore_patterns' ,  default = True , help = \"Don't ignore the common glob-style patterns 'CVS', '.*', '*~' and '*.pyc'.\" )\n",
      " parser . add_argument ( '--no-wrap' , action = 'store_true' , dest = 'no_wrap' ,  default = False , help = \"Don't break long message lines into several lines.\" )\n",
      " parser . add_argument ( '--no-location' , action = 'store_true' , dest = 'no_location' ,  default = False , help = \"Don't write '#: filename:line' lines.\" )\n",
      "              raise CommandError ( \"currently makemessages only supports domains \"  \"'django' and 'djangojs'\" )\n",
      "              raise CommandError ( \"Type '%s help %s' for usage information.\" % (  os . path . basename ( sys . argv [ 0 ] ) , sys . argv [ 1 ] ) )\n",
      " parser . add_argument ( '--dry-run' , action = 'store_true' , dest = 'dry_run' , default = False ,  help = \"Just show what migrations would be made; don't actually write them.\" )\n",
      "                  self . stderr . write ( \"App '%s' could not be found. Is it in INSTALLED_APPS?\" % app_label )\n",
      " raise CommandError ( \"Conflicting migrations detected (%s).\\nTo fix them run 'python manage.py makemigrations --merge'\" % name_str )\n",
      "                  self . stdout . write ( \"No changes detected in app '%s'\" % app_labels . pop ( ) )\n",
      "                  self . stdout . write ( \"No changes detected in apps '%s'\" % ( \"', '\" . join ( app_labels ) ) )\n",
      "                  self . stdout . write ( self . style . MIGRATE_HEADING ( \"Migrations for '%s':\" % app_label ) + \"\\n\" )\n",
      "                         self . stdout . write ( self . style . MIGRATE_HEADING ( \"Full migrations file '%s':\" % writer . filename ) + \"\\n\" )\n",
      " parser . add_argument ( '--database' , action = 'store' , dest = 'database' ,  default = DEFAULT_DB_ALIAS , help = 'Nominates a database to synchronize. '  'Defaults to the \"default\" database.' )\n",
      " raise CommandError ( \"Conflicting migrations detected (%s).\\nTo fix them run 'python manage.py makemigrations --merge'\" % name_str )\n",
      "                  raise CommandError ( \"App '%s' does not have migrations (you cannot selectively sync unmigrated apps)\" % app_label )\n",
      "                      raise CommandError ( \"More than one migration matches '%s' in app '%s'. Please be more specific.\" % (  migration_name , app_label ) )\n",
      "                      raise CommandError ( \"Cannot find a migration matching '%s' from app '%s'.\" % (  migration_name , app_label ) )\n",
      "                  raise CommandError ( \"App '%s' does not have migrations (you cannot selectively sync unmigrated apps)\" % app_label )\n",
      "                      self . stdout . write ( self . style . NOTICE ( \"  Your models have changes that are not yet reflected in a migration, and so won't be applied.\" ) )\n",
      " self . stdout . write ( self . style . NOTICE ( \"  Run 'manage.py makemigrations' to make new migrations, and then re-run 'manage.py migrate' to apply them.\" ) )\n",
      "                  raise CommandError ( '\"%s\" is not a valid port number '  'or address:port pair.' % options [ 'addrport' ] )\n",
      "                      raise CommandError ( '\"%s\" is not a valid IPv6 address.' % self . addr )\n",
      "               ERRORS = {  errno . EACCES : \"You don't have permission to access that port.\" ,  errno . EADDRINUSE : \"That port is already in use.\" ,  errno . EADDRNOTAVAIL : \"That IP address can't be assigned-to.\" ,  }\n",
      " self . stdout . write ( self . style . NOTICE ( \"Run 'python manage.py migrate' to apply them.\\n\" ) )\n",
      " parser . add_argument ( '-i' , '--interface' , choices = self . shells , dest = 'interface' ,  help = 'Specify an interactive interpreter interface. Available options: \"ipython\" and \"bpython\"' )\n",
      " parser . add_argument ( '--database' , default = DEFAULT_DB_ALIAS ,  help = 'Nominates a database to print the SQL for. Defaults to the '  '\"default\" database.' )\n",
      " parser . add_argument ( '--database' , default = DEFAULT_DB_ALIAS ,  help = 'Nominates a database to print the SQL for. Defaults to the '  '\"default\" database.' )\n",
      " parser . add_argument ( '--database' , default = DEFAULT_DB_ALIAS ,  help = 'Nominates a database to print the SQL for. Defaults to the '  '\"default\" database.' )\n",
      " parser . add_argument ( '--database' , default = DEFAULT_DB_ALIAS ,  help = 'Nominates a database to print the SQL for. Defaults to the '  '\"default\" database.' )\n",
      " parser . add_argument ( '--database' , default = DEFAULT_DB_ALIAS ,  help = 'Nominates a database to print the SQL for. Defaults to the '  '\"default\" database.' )\n",
      " parser . add_argument ( '--database' , default = DEFAULT_DB_ALIAS ,  help = 'Nominates a database to print the SQL for. Defaults to the '  '\"default\" database.' )\n",
      " parser . add_argument ( '--database' , default = DEFAULT_DB_ALIAS ,  help = 'Nominates a database to print the SQL for. Defaults to the '  '\"default\" database.' )\n",
      " parser . add_argument ( '--database' , default = DEFAULT_DB_ALIAS ,  help = 'Nominates a database to create SQL for. Defaults to the '  '\"default\" database.' )\n",
      "              raise CommandError ( \"App '%s' does not have migrations\" % app_label )\n",
      "              raise CommandError ( \"More than one migration matches '%s' in app '%s'. Please be more specific.\" % (  migration_name , app_label ) )\n",
      "              raise CommandError ( \"Cannot find a migration matching '%s' from app '%s'. Is it in INSTALLED_APPS?\" % (  migration_name , app_label ) )\n",
      " parser . add_argument ( '--database' , default = DEFAULT_DB_ALIAS ,  help = 'Nominates a database to print the SQL for. Defaults to the '  '\"default\" database.' )\n",
      "              raise CommandError ( \"App '%s' does not have migrations (so squashmigrations on it makes no sense)\" % app_label )\n",
      "              raise CommandError ( \"More than one migration matches '%s' in app '%s'. Please be more specific.\" % ( migration_name , app_label ) )\n",
      "              raise CommandError ( \"Cannot find a migration matching '%s' from app '%s'.\" % ( migration_name , app_label ) )\n",
      "      help = \"Deprecated - use 'migrate' instead.\"\n",
      " parser . add_argument ( '--database' , default = DEFAULT_DB_ALIAS ,  help = 'Nominates a database to synchronize. Defaults to the \"default\" database.' )\n",
      "              msg = ( \"\\nYou have installed Django's auth system, and \"  \"don't have any superusers defined.\\nWould you like to create one \"  \"now? (yes/no): \" )\n",
      "                      confirm = input ( 'Please enter either \"yes\" or \"no\": ' )\n",
      "      help = 'Deprecated. Use \"check\" command instead. ' + CheckCommand . help\n",
      "          warnings . warn ( '\"validate\" has been deprecated in favor of \"check\".' ,  RemovedInDjango19Warning )\n",
      "          raise CommandError ( \"App '%s' has migrations. Only the sqlmigrate and sqlflush commands can be used when an app has migrations.\" % app_config . label )\n",
      "            raise CommandError ( \"Django doesn't know which syntax to use for your SQL statements,\\n\" +  \"because you haven't properly specified the ENGINE setting for the database.\\n\" +  \"see: https://docs.djangoproject.com/en/dev/ref/settings/#databases\" )\n",
      "       comment_re = re . compile ( r\"^((?:'[^']*'|[^'])*?)--.*$\" )\n",
      "          warnings . warn ( \"Custom SQL location '<app_label>/models/sql' is \"  \"deprecated, use '<app_label>/sql' instead.\" ,  RemovedInDjango19Warning )\n",
      " parser . add_argument ( '--extension' , '-e' , dest = 'extensions' ,  action = 'append' , default = [ 'py' ] ,  help = 'The file extension(s) to render (default: \"py\"). '  'Separate multiple extensions with commas, or use '  '-e multiple times.' )\n",
      "                      message = \"'%s' already exists\" % top_dir\n",
      "                  raise CommandError ( \"Destination directory '%s' does not \"  \"exist, please create it first.\" % top_dir )\n",
      "                      raise CommandError ( \"%s already exists, overlaying a \"  \"project or app into an existing \"  \"directory won't replace conflicting \"  \"files\" % new_path )\n",
      "                      self . stderr . write (  \"Notice: Couldn't set permission bits on %s. You're \"  \"probably using an uncommon filesystem setup. No \"  \"problem.\" % new_path , self . style . NOTICE )\n",
      "    raise CommandError ( \"couldn't handle %s template %s.\" %  ( self . app_or_project , template ) )\n",
      "              raise CommandError ( \"couldn't download URL %s to %s: %s\" %  ( url , filename , e ) )\n",
      "              raise CommandError ( \"couldn't extract file %s to %s: %s\" %  ( filename , tempdir , e ) )\n",
      " global _serializers\n",
      "  self . stream . write ( \"[\" )\n",
      "  self . stream . write ( \"]\" )\n",
      "                  raise ValueError ( \"JSON can't represent timezone-aware times.\" )\n",
      "          raise base . DeserializationError ( \"Invalid model identifier: '%s'\" % model_identifier )\n",
      "                  raise base . DeserializationError ( \"<field> node is missing the 'name' attribute\" )\n",
      "              raise base . DeserializationError (  \"<%s> node is missing the required '%s' attribute\"  % ( node . nodeName , attr ) )\n",
      "              raise base . DeserializationError (  \"<%s> node has invalid model identifier: '%s'\"  % ( node . nodeName , model_identifier ) )\n",
      "          tpl = \"DTDForbidden(name='{}', system_id={!r}, public_id={!r})\"\n",
      "          tpl = \"EntitiesForbidden(name='{}', system_id={!r}, public_id={!r})\"\n",
      "          tpl = \"ExternalReferenceForbidden(system_id='{}', public_id={})\"\n",
      "          msg = (  \"WSGI application '%(app_path)s' could not be loaded; \"  \"Error importing module: '%(exception)s'\" % ( {  'app_path' : app_path ,  'exception' : e ,  } )  )\n",
      " sys . stderr . write ( \"  http://www.saddi.com/software/flup/   If you've already\\n\" )\n",
      "          print ( \"Can't import flup.\" + flup_module )\n",
      "      return base64 . urlsafe_b64encode ( s ) . strip ( b'=' )\n",
      "      pad = b'=' * ( - len ( s ) % 4 )\n",
      " return Signer ( b'django.http.cookies' + key , salt = salt )\n",
      "          base64d = b'.' + base64d\n",
      " if base64d [ : 1 ] == b'.' :\n",
      "              raise BadSignature ( 'No \"%s\" found in value' % self . sep )\n",
      "  raise BadSignature ( 'Signature \"%s\" does not match' % sig )\n",
      "              raise ImportError (  \"Could not import '%s'. The path must be fully qualified.\" %  lookup_view )\n",
      "                  raise ViewDoesNotExist (  \"Could not import '%s'. Parent module %s does not exist.\" %  ( lookup_view , mod_name ) )\n",
      "                  raise ViewDoesNotExist (  \"Could not import '%s'. View does not exist in module %s.\" %  ( lookup_view , mod_name ) )\n",
      "                   raise ViewDoesNotExist (  \"Could not import '%s.%s'. View is not callable.\" %  ( mod_name , func_name ) )\n",
      "                  raise ImproperlyConfigured (  '\"%s\" is not a valid regular expression: %s' %  ( regex , six . text_type ( e ) ) )\n",
      "              msg = (  \"The included urlconf '{name}' does not appear to have any \"  \"patterns in it. If you see valid patterns in the file then \"  \"the issue is probably caused by a circular import.\"  )\n",
      "              raise ValueError ( \"Don't mix *args and **kwargs in call to reverse()!\" )\n",
      "              raise NoReverseMatch ( \"Error importing '%s': %s.\" % ( lookup_view , e ) )\n",
      " raise NoReverseMatch ( \"Reverse for '%s' with arguments '%s' and keyword \"  \"arguments '%s' not found. %d pattern(s) tried: %s\" %  ( lookup_view_s , args , kwargs , len ( patterns ) , patterns ) )\n",
      "                      raise NoReverseMatch (  \"%s is not a registered namespace inside '%s'\" %  ( key , ':' . join ( resolved_path ) ) )\n",
      " user_regex = re . compile (  r\"(^[-!#$%&'*+/=?^_`{}|~0-9A-Z]+(\\.[-!#$%&'*+/=?^_`{}|~0-9A-Z]+)*$\"  r'|^\"([\\001-\\010\\013\\014\\016-\\037!#-\\[\\]-\\177]|\\\\[\\001-\\011\\013\\014\\016-\\177])*\"$)' ,  re . IGNORECASE )\n",
      " validate_slug = RegexValidator ( slug_re , _ ( \"Enter a valid 'slug' consisting of letters, numbers, underscores or hyphens.\" ) , 'invalid' )\n",
      "          raise ValueError (  \"You can only use `unpack_ipv4` if `protocol` is set to 'both'\" )\n",
      "          raise ValueError ( \"The protocol '%s' is unknown. Supported: %s\"  % ( protocol , list ( ip_address_validator_map ) ) )\n",
      "  elif char == '\\\\' :\n",
      "              raise KeyError (  \"Key %r not found in '%s'\" % ( name , self . __class__ . __name__ ) )\n",
      "                      html_class_attr = ' class=\"%s\"' % css_classes\n",
      " return self . _html_output (  normal_row = '<tr%(html_class_attr)s><th>%(label)s</th><td>%(errors)s%(field)s%(help_text)s</td></tr>' ,  error_row = '<tr><td colspan=\"2\">%s</td></tr>' ,  row_ender = '</td></tr>' ,  help_text_html = '<br /><span class=\"helptext\">%s</span>' ,  errors_on_separate_row = False )\n",
      " return self . _html_output (  normal_row = '<li%(html_class_attr)s>%(errors)s%(label)s %(field)s%(help_text)s</li>' ,  error_row = '<li>%s</li>' ,  row_ender = '</li>' ,  help_text_html = ' <span class=\"helptext\">%s</span>' ,  errors_on_separate_row = False )\n",
      " return self . _html_output (  normal_row = '<p%(html_class_attr)s>%(label)s %(field)s%(help_text)s</p>' ,  error_row = '%s' ,  row_ender = '</p>' ,  help_text_html = ' <span class=\"helptext\">%s</span>' ,  errors_on_separate_row = True )\n",
      "                      raise ValueError (  \"'%s' has no field named '%s'.\" % ( self . __class__ . __name__ , field ) )\n",
      "              raise AttributeError ( \"'%s' object has no attribute 'cleaned_data'\" % self . __class__ . __name__ )\n",
      "              raise AttributeError ( \"'%s' object has no attribute 'ordered_forms'\" % self . __class__ . __name__ )\n",
      "          raise ValueError ( \"The %s could not be %s because the data didn't\"  \" validate.\" % ( opts . object_name , fail_message ) )\n",
      "                  msg = ( \"%(model)s.Meta.%(opt)s cannot be a string. \"  \"Did you mean to type: ('%(value)s',)?\" % {  'model' : new_class . __name__ ,  'opt' : opt ,  'value' : value ,  } )\n",
      "                  raise ImproperlyConfigured (  \"Creating a ModelForm without either the 'fields' attribute \"  \"or the 'exclude' attribute is prohibited; form %s \"  \"needs updating.\" % name  )\n",
      "          raise ImproperlyConfigured (  \"Calling modelform_factory without defining 'fields' or \"  \"'exclude' explicitly is prohibited.\"  )\n",
      "          raise ImproperlyConfigured (  \"Calling modelformset_factory without defining 'fields' or \"  \"'exclude' explicitly is prohibited.\"  )\n",
      "                  raise ValueError (  \"fk_name '%s' is not a ForeignKey to '%s.%'.\"  % ( fk_name , parent_model . _meta . app_label , parent_model . _meta . object_name ) )\n",
      "              raise ValueError (  \"'%s.%s' has no field named '%s'.\"  % ( model . _meta . app_label , model . _meta . object_name , fk_name ) )\n",
      "  raise ValueError (  \"'%s.%s' has no ForeignKey to '%s.%s'.\"  % ( model . _meta . app_label , model . _meta . object_name , parent_model . _meta . app_label , parent_model . _meta . object_name ) )\n",
      "              raise ValueError (  \"'%s.%s' has more than one ForeignKey to '%s.%s'.\"  % ( model . _meta . app_label , model . _meta . object_name , parent_model . _meta . app_label , parent_model . _meta . object_name ) )\n",
      " default_error_messages = {  'list' : _ ( 'Enter a list of values.' ) ,  'invalid_choice' : _ ( 'Select a valid choice. %(value)s is not one of the'  ' available choices.' ) ,  'invalid_pk_value' : _ ( '\"%(pk)s\" is not a valid value for a primary key.' )  }\n",
      "    return (  format_html_join ( '' , ' {0}=\"{1}\"' , sorted ( attrs . items ( ) ) ) +  format_html_join ( '' , ' {0}' , sorted ( boolean_attrs ) )  )\n",
      "  return format_html (  '<ul class=\"errorlist\">{0}</ul>' ,  format_html_join ( '' , '<li>{0}{1}</li>' , ( ( k , force_text ( v ) ) for k , v in self . items ( ) ) )  )\n",
      "   return format_html (  '<ul class=\"{0}\">{1}</ul>' ,  self . error_class ,  format_html_join ( '' , '<li>{0}</li>' , ( ( force_text ( e ) , ) for e in self ) )  )\n",
      "              message = _ (  '%(datetime)s couldn\\'t be interpreted '  'in time zone %(current_timezone)s; it '  'may be ambiguous or it may not exist.'  )\n",
      "          return [ format_html ( '<script type=\"text/javascript\" src=\"{0}\"></script>' , self . absolute_path ( path ) ) for path in self . _js ]\n",
      " return chain ( * [  [ format_html ( '<link href=\"{0}\" type=\"text/css\" media=\"{1}\" rel=\"stylesheet\" />' , self . absolute_path ( path ) , medium )  for path in self . _css [ medium ] ]  for medium in media ] )\n",
      "  raise KeyError ( 'Unknown media type \"%s\"' % name )\n",
      "  template_with_clear = '%(clear)s <label for=\"%(clear_checkbox_id)s\">%(clear_checkbox_label)s</label>'\n",
      "  url_markup_template = '<a href=\"{0}\">{1}</a>'\n",
      "              selected_html = mark_safe ( ' selected=\"selected\"' )\n",
      "  return format_html ( '<option value=\"{0}\"{1}>{2}</option>' ,  option_value ,  selected_html ,  force_text ( option_label ) )\n",
      "                  output . append ( format_html ( '<optgroup label=\"{0}\">' , force_text ( option_value ) ) )\n",
      " output = [ format_html ( '<select multiple=\"multiple\"{0}>' , flatatt ( final_attrs ) ) ]\n",
      "              label_for = format_html ( ' for=\"{0}\"' , self . id_for_label )\n",
      "   return format_html ( self . outer_html ,  id_attr = format_html ( ' id=\"{0}\"' , id_ ) if id_ else '' ,  content = mark_safe ( '\\n' . join ( output ) ) )\n",
      "    _cookie_encodes_correctly = http_cookies . SimpleCookie ( ) . value_encode ( ';' ) == ( ';' , '\"\\\\073\"' )\n",
      "   if \"\\\\\" in encoded and not encoded . startswith ( '\"' ) :\n",
      " return filename and filename [ filename . rfind ( \"\\\\\" ) + 1 : ] . strip ( )\n",
      " self . _leftover = b''\n",
      "                  yield b'' . join ( self )\n",
      "    out = b'' . join ( parts ( ) )\n",
      " self . _leftover = b''\n",
      " self . _leftover = b'' . join ( [ bytes , self . _leftover ] )\n",
      "              raise SuspiciousMultipartForm (  \"The multipart parser got stuck, which shouldn't happen with\"  \" normal uploaded files. Check for malicious upload activity;\"  \" if there is none, report this to the Django developers.\"  )\n",
      "   chunk = b'' . join ( chunks )\n",
      " if data [ last : last + 1 ] == b'\\n' :\n",
      " if data [ last : last + 1 ] == b'\\r' :\n",
      "     header_end = chunk . find ( b'\\r\\n\\r\\n' )\n",
      "   for line in header . split ( b'\\r\\n' ) :\n",
      " self . _separator = b'--' + boundary\n",
      " plist = _parse_header_params ( b';' + line )\n",
      "          i = p . find ( b'=' )\n",
      " if len ( value ) >= 2 and value [ : 1 ] == value [ - 1 : ] == b'\"' :\n",
      " value = value . replace ( b'\\\\\\\\' , b'\\\\' ) . replace ( b'\\\\\"' , b'\"' )\n",
      " while s [ : 1 ] == b';' :\n",
      " end = s . find ( b';' )\n",
      " while end > 0 and s . count ( b'\"' , 0 , end ) % 2 :\n",
      "              end = s . find ( b';' , end + 1 )\n",
      "                  raise RawPostDataException ( \"You cannot access body after reading from request's data stream\" )\n",
      "   if host [ - 1 ] == ']' :\n",
      "    REASON_PHRASES = {  100 : 'CONTINUE' ,  101 : 'SWITCHING PROTOCOLS' ,  102 : 'PROCESSING' ,  200 : 'OK' ,  201 : 'CREATED' ,  202 : 'ACCEPTED' ,  203 : 'NON-AUTHORITATIVE INFORMATION' ,  204 : 'NO CONTENT' ,  205 : 'RESET CONTENT' ,  206 : 'PARTIAL CONTENT' ,  207 : 'MULTI-STATUS' ,  208 : 'ALREADY REPORTED' ,  226 : 'IM USED' ,  300 : 'MULTIPLE CHOICES' ,  301 : 'MOVED PERMANENTLY' ,  302 : 'FOUND' ,  303 : 'SEE OTHER' ,  304 : 'NOT MODIFIED' ,  305 : 'USE PROXY' ,  306 : 'RESERVED' ,  307 : 'TEMPORARY REDIRECT' ,  308 : 'PERMANENT REDIRECT' ,  400 : 'BAD REQUEST' ,  401 : 'UNAUTHORIZED' ,  402 : 'PAYMENT REQUIRED' ,  403 : 'FORBIDDEN' ,  404 : 'NOT FOUND' ,  405 : 'METHOD NOT ALLOWED' ,  406 : 'NOT ACCEPTABLE' ,  407 : 'PROXY AUTHENTICATION REQUIRED' ,  408 : 'REQUEST TIMEOUT' ,  409 : 'CONFLICT' ,  410 : 'GONE' ,  411 : 'LENGTH REQUIRED' ,  412 : 'PRECONDITION FAILED' ,  413 : 'REQUEST ENTITY TOO LARGE' ,  414 : 'REQUEST-URI TOO LONG' ,  415 : 'UNSUPPORTED MEDIA TYPE' ,  416 : 'REQUESTED RANGE NOT SATISFIABLE' ,  417 : 'EXPECTATION FAILED' ,  418 : \"I'M A TEAPOT\" ,  422 : 'UNPROCESSABLE ENTITY' ,  423 : 'LOCKED' ,  424 : 'FAILED DEPENDENCY' ,  426 : 'UPGRADE REQUIRED' ,  428 : 'PRECONDITION REQUIRED' ,  429 : 'TOO MANY REQUESTS' ,  431 : 'REQUEST HEADER FIELDS TOO LARGE' ,  500 : 'INTERNAL SERVER ERROR' ,  501 : 'NOT IMPLEMENTED' ,  502 : 'BAD GATEWAY' ,  503 : 'SERVICE UNAVAILABLE' ,  504 : 'GATEWAY TIMEOUT' ,  505 : 'HTTP VERSION NOT SUPPORTED' ,  506 : 'VARIANT ALSO NEGOTIATES' ,  507 : 'INSUFFICIENT STORAGE' ,  508 : 'LOOP DETECTED' ,  510 : 'NOT EXTENDED' ,  511 : 'NETWORK AUTHENTICATION REQUIRED' ,  }\n",
      "   headers = [  ( b': ' . join ( [ to_bytes ( key , 'ascii' ) , to_bytes ( value , 'latin-1' ) ] ) )  for key , value in self . _headers . values ( )  ]\n",
      " return b'\\r\\n' . join ( headers )\n",
      "              raise BadHeaderError ( \"Header values can't contain newlines (got %r)\" % value )\n",
      "  def __init__ ( self , content = b'' , * args , ** kwargs ) :\n",
      " return self . serialize_headers ( ) + b'\\r\\n\\r\\n' + self . content\n",
      "          return b'' . join ( self . _container )\n",
      "  value = b'' . join ( self . make_bytes ( chunk ) for chunk in value )\n",
      "              raise DisallowedRedirect ( \"Unsafe redirect to URL with protocol '%s'\" % parsed . scheme )\n",
      "              response . content = b''\n",
      "              response . content = b''\n",
      " return ( '<%s token: \"%s...\">' %  ( token_name , self . contents [ : 20 ] . replace ( '\\n' , '' ) ) )\n",
      "               if bit . startswith ( '_(\"' ) or bit . startswith ( \"_('\" ) :\n",
      "                  sentinal = bit [ 2 ] + ')'\n",
      "              raise self . error ( token , \"Invalid block tag: '%s', expected %s\" %  ( command , get_text_list ( [ \"'%s'\" % p for p in parse_until ] ) ) )\n",
      "  raise self . error ( token , \"Invalid block tag: '%s'\" % command )\n",
      "              raise TemplateSyntaxError ( \"Invalid filter: '%s'\" % filter_name )\n",
      "        constant_string = r\"\"\" (?:%(i18n_open)s%(strdq)s%(i18n_close)s| %(i18n_open)s%(strsq)s%(i18n_close)s| %(strdq)s| %(strsq)s) \"\"\" % {  'strdq' : r'\"[^\"\\\\]*(?:\\\\.[^\"\\\\]*)*\"' ,  'strsq' : r\"'[^'\\\\]*(?:\\\\.[^'\\\\]*)*'\" ,  'i18n_open' : re . escape ( \"_(\" ) ,  'i18n_close' : re . escape ( \")\" ) ,  }\n",
      "              raise TemplateSyntaxError ( \"Could not parse the remainder: '%s' \"  \"from '%s'\" % ( token [ upto : ] , token ) )\n",
      "                          global invalid_var_format_string\n",
      "               if var . startswith ( '_(' ) and var . endswith ( ')' ) :\n",
      "                      raise TemplateSyntaxError ( \"Variables and attributes may \"  \"not begin with underscores: '%s'\" %  var )\n",
      "          return force_str ( \"<Text Node: '%s'>\" % self . s [ : 25 ] , 'ascii' ,  errors = 'replace' )\n",
      "              raise TemplateSyntaxError (  \"'%s' is decorated with takes_context=True so it must \"  \"have a first argument of 'context'\" % name )\n",
      "                   raise TemplateSyntaxError (  \"'%s' received unexpected keyword argument '%s'\" %  ( name , param ) )\n",
      "                   raise TemplateSyntaxError (  \"'%s' received multiple values for keyword argument '%s'\" %  ( name , param ) )\n",
      "                  raise TemplateSyntaxError (  \"'%s' received some positional argument(s) after some \"  \"keyword argument(s)\" % name )\n",
      "                          raise TemplateSyntaxError (  \"'%s' received too many positional arguments\" %  name )\n",
      "           raise TemplateSyntaxError (  \"'%s' did not receive value(s) for the argument(s): %s\" %  ( name , \", \" . join ( \"'%s'\" % p for p in unhandled_params ) ) )\n",
      "                      raise TemplateSyntaxError (  \"'%s' tag takes at least 2 arguments and the \"  \"second last argument must be 'as'\" % function_name )\n",
      "          raise InvalidTemplateLibrary ( \"Template library %s does not have \"  \"a variable named 'register'\" %  taglib_module )\n",
      " global templatetags_modules\n",
      " global _standard_context_processors\n",
      " msg = \"Unclosed tag '%s'. Looking for one of: %s \" % ( command , ', ' . join ( parse_until ) )\n",
      " return value . replace ( '\\\\' , '\\\\\\\\' ) . replace ( '\"' , '\\\\\"' ) . replace ( \"'\" , \"\\\\'\" )\n",
      "           pos_inf = 1e200 * 1e200\n",
      " neg_inf = - 1e200 * 1e200\n",
      " nan = ( 1e200 * 1e200 ) // ( 1e200 * 1e200 )\n",
      " t = re . sub ( \"([a-z])'([A-Z])\" , lambda m : m . group ( 0 ) . lower ( ) , value . title ( ) )\n",
      "                  return format_html ( \"<input type='hidden' name='csrfmiddlewaretoken' value='{0}' />\" , csrf_token )\n",
      "                  return \"[Didn't have permission to include file]\"\n",
      "          raise TemplateSyntaxError ( \"'autoescape' tag requires exactly one argument.\" )\n",
      "          raise TemplateSyntaxError ( \"'autoescape' argument should be 'on' or 'off'\" )\n",
      "          raise TemplateSyntaxError ( \"'cycle' tag requires at least two arguments\" )\n",
      "            args [ 1 : 2 ] = [ '\"%s\"' % arg for arg in args [ 1 ] . split ( \",\" ) ]\n",
      "              raise TemplateSyntaxError ( \"No named cycles in template. '%s' is not defined\" % name )\n",
      "              raise TemplateSyntaxError ( \"Named cycle '%s' does not exist\" % name )\n",
      "                  raise TemplateSyntaxError ( \"Only 'silent' flag is allowed after cycle's name, not '%s'.\" % args [ - 1 ] )\n",
      "              raise TemplateSyntaxError ( '\"filter %s\" is not permitted.  Use the \"autoescape\" tag instead.' % filter_name )\n",
      "          raise TemplateSyntaxError ( \"'firstof' statement requires at least one argument\" )\n",
      "          raise TemplateSyntaxError ( \"'for' statements should have at least four\"  \" words: %s\" % token . contents )\n",
      "          raise TemplateSyntaxError ( \"'for' statements should use the format\"  \" 'for x in y': %s\" % token . contents )\n",
      "              raise TemplateSyntaxError ( \"'for' tag received an invalid argument:\"  \" %s\" % token . contents )\n",
      "          raise TemplateSyntaxError ( \"'ssi' tag takes one argument: the path to\"  \" the file to be included\" )\n",
      "              raise TemplateSyntaxError ( \"Second (optional) argument to %s tag\"  \" must be 'parsed'\" % bits [ 0 ] )\n",
      "              raise TemplateSyntaxError ( \"'%s' is not a valid tag library: %s\" %  ( taglib , e ) )\n",
      "                      raise TemplateSyntaxError ( \"'%s' is not a valid tag or filter in tag library '%s'\" %  ( name , taglib ) )\n",
      "                  raise TemplateSyntaxError ( \"'%s' is not a valid tag library: %s\" %  ( taglib , e ) )\n",
      "          raise TemplateSyntaxError ( \"'now' statement takes one argument\" )\n",
      "          raise TemplateSyntaxError ( \"'regroup' tag takes five arguments\" )\n",
      "          raise TemplateSyntaxError ( \"second argument to 'regroup' tag must be 'by'\" )\n",
      "          raise TemplateSyntaxError ( \"next-to-last argument to 'regroup' tag must\"  \" be 'as'\" )\n",
      "          raise TemplateSyntaxError ( \"'templatetag' statement takes one argument\" )\n",
      "          raise TemplateSyntaxError ( \"Invalid templatetag argument: '%s'.\"  \" Must be one of: %s\" %  ( tag , list ( TemplateTagNode . mapping ) ) )\n",
      "          raise TemplateSyntaxError ( \"'%s' takes at least one argument\"  \" (path to a view)\" % bits [ 0 ] )\n",
      "              raise TemplateSyntaxError ( \"Invalid syntax in widthratio tag. Expecting 'as' keyword\" )\n",
      "                  raise ImproperlyConfigured ( \"Error importing template source loader %s - can't pass arguments to function-based loader.\" % loader )\n",
      " warnings . warn ( \"Your TEMPLATE_LOADERS setting includes %r, but your Python installation doesn't support that type of template loading. Consider removing that line from TEMPLATE_LOADERS.\" % loader )\n",
      "          raise ImproperlyConfigured ( 'Loader does not define a \"load_template\" callable template source loader' )\n",
      "         global template_source_loaders\n",
      "              error_msg = \"Invalid template name in 'extends' tag: %r.\" % parent\n",
      "                  error_msg += \" Got this from the '%s' variable.\" % self . parent_name . token\n",
      "          raise TemplateSyntaxError ( \"'%s' tag takes only one argument\" % bits [ 0 ] )\n",
      "              raise TemplateSyntaxError ( \"'%s' tag with name '%s' appears more than once\" % ( bits [ 0 ] , block_name ) )\n",
      "          raise TemplateSyntaxError ( \"'%s' takes one argument\" % bits [ 0 ] )\n",
      "          raise TemplateSyntaxError ( \"'%s' cannot appear more than once in the same template\" % bits [ 0 ] )\n",
      "                  raise TemplateSyntaxError ( '\"with\" in %r tag needs at least '  'one keyword argument.' % bits [ 0 ] )\n",
      "           raise parser . error_class (  \"Not expecting '%s' in this position in if tag.\" % self . id  )\n",
      "           raise parser . error_class (  \"Not expecting '%s' as infix operator in if tag.\" % self . id  )\n",
      " return \"(\" + \" \" . join ( out ) + \")\"\n",
      "              raise self . error_class ( \"Unused '%s' at end of if expression.\" %  self . current_token . display ( ) )\n",
      " PATTERN = \"\"\"     classdef< 'class' any+ ':'               suite< any*                      funcdef< 'def' unifunc='__unicode__'                               parameters< '(' NAME ')' > any+ >                      any* > >     \"\"\"\n",
      " path = path . lstrip ( '/' ) . lstrip ( '\\\\' )\n",
      " if '/' in path and ( ( '\\\\' in path and path . find ( '/' ) < path . find ( '\\\\' ) )  or '\\\\' not in path ) :\n",
      "  elif '\\\\' in path :\n",
      "              return path . split ( '\\\\' , 1 )\n",
      "  if filename . endswith ( ( '/' , '\\\\' ) ) :\n",
      "    global _cached_modules , _cached_filenames\n",
      "      global _mtimes , _win\n",
      "              args = [ '\"%s\"' % arg for arg in args ]\n",
      "          response [ 'ETag' ] = '\"%s\"' % hashlib . md5 ( response . content ) . hexdigest ( )\n",
      "      \"\"\"     Adds (or updates) the \"Vary\" header in the given HttpResponse object.     newheaders is a list of header names that should be in \"Vary\". Existing     headers in \"Vary\" aren't removed.     \"\"\"\n",
      "  password += b'\\x00' * ( inner . block_size - len ( password ) )\n",
      "              u = salt + struct . pack ( b'>I' , i )\n",
      " return b'' . join ( T ) + F ( l ) [ : r ]\n",
      "              raise ValueError ( \"dictionary doesn't specify a version\" )\n",
      "                  if \"'format'\" not in str ( te ) :\n",
      "              if \"'stream'\" not in str ( te ) :\n",
      "              raise ValueError ( \"@python_2_unicode_compatible cannot be applied \"  \"to %s because it doesn't define __str__().\" %  klass . __name__ )\n",
      "                     return b' ' . join ( [ force_bytes ( arg , encoding , strings_only ,  errors ) for arg in s ] )\n",
      "  return quote ( force_bytes ( iri ) , safe = b\"/#%[]=:;$&()+,!?*@'~\" )\n",
      "    return quote ( force_bytes ( path ) . replace ( b\"\\\\\" , b\"/\" ) , safe = b\"/~!*()'\" )\n",
      " global _format_cache , _format_modules_cache\n",
      "              raise TypeError ( \"can't delete _wrapped.\" )\n",
      "    TRAILING_PUNCTUATION = [ '.' , ',' , ':' , ';' , '.)' , '\"' , '\\'' ]\n",
      " simple_url_re = re . compile ( r'^https?://\\[?\\w' , re . IGNORECASE )\n",
      " html_gunk_re = re . compile ( r'(?:<br clear=\"all\">|<i><\\/i>|<b><\\/b>|<em><\\/em>|<strong><\\/strong>|<\\/?smallcaps>|<\\/?uppercase>)' , re . IGNORECASE )\n",
      "  _js_escapes = {  ord ( '\\\\' ) : '\\\\u005C' ,  ord ( '\\'' ) : '\\\\u0027' ,  ord ( '\"' ) : '\\\\u0022' ,  ord ( '>' ) : '\\\\u003E' ,  ord ( '<' ) : '\\\\u003C' ,  ord ( '&' ) : '\\\\u0026' ,  ord ( '=' ) : '\\\\u003D' ,  ord ( '-' ) : '\\\\u002D' ,  ord ( ';' ) : '\\\\u003B' ,  ord ( '\\u2028' ) : '\\\\u2028' ,  ord ( '\\u2029' ) : '\\\\u2029'  }\n",
      "  url = quote ( url , safe = b'!*\\'();:@&=+$,/?#[]~' )\n",
      " nofollow_attr = ' rel=\"nofollow\"' if nofollow else ''\n",
      "  middle = '<a href=\"%s\"%s>%s</a>' % ( url , nofollow_attr , trimmed )\n",
      "  ETAG_MATCH = re . compile ( r'(?:W/)?\"((?:\\\\.|[^\"])*)\"' )\n",
      " return base64 . urlsafe_b64encode ( s ) . rstrip ( b'\\n=' )\n",
      "          return base64 . urlsafe_b64decode ( s . ljust ( len ( s ) + len ( s ) % 4 , b'=' ) )\n",
      " return '\"%s\"' % etag . replace ( '\\\\' , '\\\\\\\\' ) . replace ( '\"' , '\\\\\"' )\n",
      "   url = url . replace ( '\\\\' , '/' )\n",
      "          raise ValueError ( \"'package' not set to a string\" )\n",
      "                  raise TypeError ( \"relative imports require the 'package' argument\" )\n",
      "               both_before = [  Tok ( \"comment\" , r\"/\\*(.|\\n)*?\\*/\" ) ,  Tok ( \"linecomment\" , r\"//.*?$\" ) ,  Tok ( \"ws\" , r\"\\s+\" ) ,  Tok ( \"keyword\" , literals ( \"\"\"                            break case catch class const continue debugger                            default delete do else enum export extends                            finally for function if import in instanceof                            new return super switch this throw try typeof                            var void while with                            \"\"\" , suffix = r\"\\b\" ) , next = 'reg' ) ,  Tok ( \"reserved\" , literals ( \"null true false\" , suffix = r\"\\b\" ) , next = 'div' ) ,  Tok ( \"id\" , r\"\"\"                   ([a-zA-Z_$   ]|\\\\u[0-9a-fA-Z]{4})   # first char                   ([a-zA-Z_$0-9]|\\\\u[0-9a-fA-F]{4})*  # rest chars                   \"\"\" , next = 'div' ) ,  Tok ( \"hnum\" , r\"0[xX][0-9a-fA-F]+\" , next = 'div' ) ,  Tok ( \"onum\" , r\"0[0-7]+\" ) ,  Tok ( \"dnum\" , r\"\"\"                     (   (0|[1-9][0-9]*)     # DecimalIntegerLiteral                         \\.                  # dot                         [0-9]*              # DecimalDigits-opt                         ([eE][-+]?[0-9]+)?  # ExponentPart-opt                     |                         \\.                  # dot                         [0-9]+              # DecimalDigits                         ([eE][-+]?[0-9]+)?  # ExponentPart-opt                     |                         (0|[1-9][0-9]*)     # DecimalIntegerLiteral                         ([eE][-+]?[0-9]+)?  # ExponentPart-opt                     )                     \"\"\" , next = 'div' ) ,  Tok ( \"punct\" , literals ( \"\"\"                          >>>= === !== >>> <<= >>= <= >= == != << >> &&                          || += -= *= %= &= |= ^=                          \"\"\" ) , next = \"reg\" ) ,  Tok ( \"punct\" , literals ( \"++ -- ) ]\" ) , next = 'div' ) ,  Tok ( \"punct\" , literals ( \"{ } ( [ . ; , < > + - * % & | ^ ! ~ ? : =\" ) , next = 'reg' ) ,  Tok ( \"string\" , r'\"([^\"\\\\]|(\\\\(.|\\n)))*?\"' , next = 'div' ) ,  Tok ( \"string\" , r\"'([^'\\\\]|(\\\\(.|\\n)))*?'\" , next = 'div' ) ,  ]\n",
      "                tok = '\"REGEX\"'\n",
      "                 tok = tok . replace ( \"\\\\\" , \"U\" )\n",
      "          msg = \"%s doesn't look like a module path\" % dotted_path\n",
      "          msg = 'Module \"%s\" does not define a \"%s\" attribute/class' % (  dotted_path , class_name )\n",
      "          msg = '%sError importing module %s: \"%s\"' % (  error_prefix , dotted_path , e )\n",
      "  elif ch == ')' :\n",
      "  elif ch == '[' :\n",
      " while escaped or ch != ']' :\n",
      "   elif ch == '(' :\n",
      "                            raise ValueError ( \"Non-reversible reg-exp portion: '(?%s'\" % ch )\n",
      "                              raise ValueError ( \"Non-reversible reg-exp portion: '(?P%s'\" % ch )\n",
      "                              terminal_char = ')'\n",
      "   if terminal_char != ')' :\n",
      "          if ch != '\\\\' :\n",
      " if ch == '(' :\n",
      "  elif ch == '(' :\n",
      "  elif ch == ')' :\n",
      "          return unicode ( s . replace ( r'\\\\' , r'\\\\\\\\' ) , \"unicode_escape\" )\n",
      "  return '%s%s' % ( ( '\\x1b[%sm' % ';' . join ( code_list ) ) , text or '' )\n",
      "          ret = b'' . join ( self . vals )\n",
      "  s = s . replace ( '\\\\' , '\\\\\\\\' )\n",
      "    smart_split_re = re . compile ( r\"\"\"     ((?:         [^\\s'\"]*         (?:             (?:\"(?:[^\"\\\\]|\\\\.)*\" | '(?:[^'\\\\]|\\\\.)*')             [^\\s'\"]*         )+     ) | \\S+) \"\"\" , re . VERBOSE )\n",
      " if s [ 0 ] not in \"\\\"'\" or s [ - 1 ] != s [ 0 ] :\n",
      " return s [ 1 : - 1 ] . replace ( r'\\%s' % quote , quote ) . replace ( r'\\\\' , '\\\\' )\n",
      " global _localtime\n",
      "                          raise KeyError ( 'Your dictionary lacks key \\'%s\\'. '  'Please provide it, because it is required to '  'determine whether string is singular or plural.'  % number )\n",
      "    accept_language_re = re . compile ( r'''         ([A-Za-z]{1,8}(?:-[A-Za-z0-9]{1,8})*|\\*)      # \"en\", \"en-au\", \"x-y-z\", \"es-419\", \"*\"         (?:\\s*;\\s*q=(0(?:\\.\\d{,3})?|1(?:.0{,3})?))?   # Optional \"q=1.00\", \"q=0.8\"         (?:\\s*,\\s*|$)                                 # Multiple accepts per header.         ''' , re . VERBOSE )\n",
      "          global _supported\n",
      "              raise AppRegistryNotReady (  \"The translation infrastructure cannot be initialized before the \"  \"apps registry is ready. Check that you don't make non-lazy \"  \"gettext calls at import time.\" )\n",
      " global _translations\n",
      "          msg = ( \"The use of the language code '%s' is deprecated. \"  \"Please use the '%s' translation instead.\" )\n",
      " global _default\n",
      " global _default\n",
      "      global _default\n",
      " global _supported\n",
      " global _supported\n",
      "    context_re = re . compile ( r\"\"\"^\\s+.*context\\s+((?:\"[^\"]*?\")|(?:'[^']*?'))\\s*\"\"\" )\n",
      " inline_re = re . compile ( r\"\"\"^\\s*trans\\s+((?:\"[^\"]*?\")|(?:'[^']*?'))(\\s+.*context\\s+((?:\"[^\"]*?\")|(?:'[^']*?')))?\\s*\"\"\" )\n",
      " block_re = re . compile ( r\"\"\"^\\s*blocktrans(\\s+.*context\\s+((?:\"[^\"]*?\")|(?:'[^']*?')))?(?:\\s+|$)\"\"\" )\n",
      " constant_re = re . compile ( r\"\"\"_\\(((?:\".*?\")|(?:'.*?'))\\)\"\"\" )\n",
      "  warn_msg = ( \"The translator-targeted comment '%s' \"  \"(%sline %d) was ignored, because it wasn't the last item \"  \"on the line.\" ) % ( c , filemsg , comment_lineno_cache )\n",
      "                      if p . find ( ':_(' ) >= 0 :\n",
      "18388/18805 = 97.78%\n"
     ]
    }
   ],
   "source": [
    "with open(\"datasets/all.code\", \"r\") as f:\n",
    "    count = 0\n",
    "    all_lines = 0\n",
    "    for line in f.readlines():\n",
    "        all_lines+=1\n",
    "        try:\n",
    "            can_code = canonicalize_code(line[:-1])\n",
    "            code_ast = ast.parse(can_code)\n",
    "            new_ast = new_dump_to_ast(ast.dump(code_ast))\n",
    "            can_code_ast = astor.to_source(new_ast)\n",
    "\n",
    "            de_can_code_ast = de_canonicalize_code(can_code_ast, code)\n",
    "            de_can_code_ast = re.sub(r'\\n', '', de_can_code_ast)\n",
    "            count += 1\n",
    "        except:\n",
    "            print(line[:-1])\n",
    "            pass\n",
    "print(f\"{count}/{all_lines} = {count*100/all_lines:.2f}%\")"
   ]
  },
  {
   "cell_type": "code",
   "execution_count": 523,
   "metadata": {},
   "outputs": [
    {
     "name": "stdout",
     "output_type": "stream",
     "text": [
      "  else :\n",
      "if True: pass\n",
      "else :pass\n",
      "if True:else:\n"
     ]
    }
   ],
   "source": [
    "p_elif = re.compile(r'^elif\\s?')\n",
    "p_else = re.compile(r'^else\\s?')\n",
    "p_try = re.compile(r'^try\\s?')\n",
    "p_except = re.compile(r'^except\\s?')\n",
    "p_finally = re.compile(r'^finally\\s?')\n",
    "p_decorator = re.compile(r'^@.*')\n",
    "\n",
    "\n",
    "def canonicalize_code(code):\n",
    "    code = code.strip()\n",
    "    if p_elif.match(code):\n",
    "        code = 'if True: pass\\n' + code\n",
    "\n",
    "    if p_else.match(code):\n",
    "        code = 'if True: pass\\n' + code\n",
    "\n",
    "    if p_try.match(code):\n",
    "        code = code + 'pass\\nexcept: pass'\n",
    "    elif p_except.match(code):\n",
    "        code = 'try: pass\\n' + code\n",
    "    elif p_finally.match(code):\n",
    "        code = 'try: pass\\n' + code\n",
    "\n",
    "    if p_decorator.match(code):\n",
    "        code = code + '\\ndef dummy(): pass'\n",
    "\n",
    "    if code[-1] == ':':\n",
    "        code = code + 'pass'\n",
    "\n",
    "    return code\n",
    "\n",
    "\n",
    "def de_canonicalize_code(code, ref_raw_code):\n",
    "    if code.endswith('def dummy():\\n    pass'):\n",
    "        code = code.replace('def dummy():\\n    pass', '').strip()\n",
    "\n",
    "    if p_elif.match(ref_raw_code):\n",
    "        # remove leading if true\n",
    "        code = code.replace('if True:\\n    pass', '').strip()\n",
    "    elif p_else.match(ref_raw_code):\n",
    "        # remove leading if true\n",
    "        code = code.replace('if True:\\n    pass', '').strip()\n",
    "\n",
    "    # try/catch/except stuff\n",
    "    if p_try.match(ref_raw_code):\n",
    "        code = code.replace('except:\\n    pass', '').strip()\n",
    "    elif p_except.match(ref_raw_code):\n",
    "        code = code.replace('try:\\n    pass', '').strip()\n",
    "    elif p_finally.match(ref_raw_code):\n",
    "        code = code.replace('try:\\n    pass', '').strip()\n",
    "\n",
    "    # remove ending pass\n",
    "    if code.endswith(':\\n    pass\\n'):\n",
    "        code = code.replace('\\n    pass', '').strip()\n",
    "\n",
    "    return code\n",
    "\n",
    "code = linecache.getline(\"datasets/all.code\", 18345).rstrip()\n",
    "print(code)\n",
    "# code = \"eol_message = message . replace ( str ( '\\r\\n' ) , str ( '\\n' ) ) . replace ( str ( '\\r' ) , str ( '\\n' ) )\"\n",
    "can_code = canonicalize_code(code)\n",
    "print(can_code)\n",
    "code_ast = ast.parse(can_code)\n",
    "new_ast = new_dump_to_ast(ast.dump(code_ast))\n",
    "can_code_ast = astor.to_source(new_ast)\n",
    "\n",
    "de_can_code_ast = de_canonicalize_code(can_code_ast, code)\n",
    "de_can_code_ast = re.sub(r'\\n', '', de_can_code_ast)\n",
    "print(de_can_code_ast)"
   ]
  },
  {
   "cell_type": "code",
   "execution_count": 478,
   "metadata": {},
   "outputs": [
    {
     "data": {
      "text/plain": [
       "9"
      ]
     },
     "execution_count": 478,
     "metadata": {},
     "output_type": "execute_result"
    }
   ],
   "source": [
    "get_square_index(\"[()th[]is]\", 0)"
   ]
  },
  {
   "cell_type": "code",
   "execution_count": 493,
   "metadata": {},
   "outputs": [
    {
     "name": "stdout",
     "output_type": "stream",
     "text": [
      "eol_message = message.replace(str('\\r\\n'), str('\\n')).replace(str('\\r'),    str('\\n'))\n"
     ]
    }
   ],
   "source": [
    "print(re.sub(r'\\n', '', can_code_ast))"
   ]
  },
  {
   "cell_type": "code",
   "execution_count": 355,
   "metadata": {},
   "outputs": [
    {
     "data": {
      "text/plain": [
       "('3.3', '.3', None, None)"
      ]
     },
     "execution_count": 355,
     "metadata": {},
     "output_type": "execute_result"
    }
   ],
   "source": [
    "temp = re.compile(\"([0-9]+(.?[0-9]*))( *([a-zA-Z]+))*\") \n",
    "temp.match(\"3.3.dfd0\").groups()"
   ]
  },
  {
   "cell_type": "code",
   "execution_count": 558,
   "metadata": {},
   "outputs": [
    {
     "name": "stdout",
     "output_type": "stream",
     "text": [
      "this is a \" test\"\n"
     ]
    },
    {
     "data": {
      "text/plain": [
       "['\"\\'firstof\\' statement requires at least one argument\"']"
      ]
     },
     "execution_count": 558,
     "metadata": {},
     "output_type": "execute_result"
    }
   ],
   "source": [
    "temp = re.compile('\"(?:\\\\\"|.)*?\"')\n",
    "print('this is a \\\" test\"')\n",
    "temp.findall('\"\\'firstof\\' statement requires at least one argument\" foo bar')"
   ]
  },
  {
   "cell_type": "code",
   "execution_count": 326,
   "metadata": {},
   "outputs": [],
   "source": [
    "from ast import Num"
   ]
  },
  {
   "cell_type": "code",
   "execution_count": 81,
   "metadata": {},
   "outputs": [
    {
     "name": "stdout",
     "output_type": "stream",
     "text": [
      "[ABC[23]][89], 0: 8\n",
      "[ABC[23]][89], 4: 7\n",
      "[ABC[23]][89], 9: 12\n",
      "[ABC[23]][89], 1: -1\n"
     ]
    }
   ],
   "source": [
    "from collections import deque \n",
    "  \n",
    "def get_square_index(s, i): \n",
    "    if s[i] != '[': \n",
    "        return -1\n",
    "  \n",
    "    d = deque() \n",
    "    for k in range(i, len(s)): \n",
    "        if s[k] == ']': \n",
    "            d.popleft() \n",
    "\n",
    "        elif s[k] == '[': \n",
    "            d.append(s[i]) \n",
    "\n",
    "        if not d: \n",
    "            return k \n",
    "    return -1\n",
    "\n",
    "def get_paren_index(s, i): \n",
    "    if s[i] != '(': \n",
    "        return -1\n",
    "  \n",
    "    d = deque() \n",
    "    for k in range(i, len(s)): \n",
    "        if s[k] == ')': \n",
    "            d.popleft() \n",
    "\n",
    "        elif s[k] == '(': \n",
    "            d.append(s[i]) \n",
    "\n",
    "        if not d: \n",
    "            return k \n",
    "    return -1\n",
    "  \n",
    "# Driver code to test above method. \n",
    "def test(s, i): \n",
    "    matching_index = get_square_index(s, i) \n",
    "    print(s + \", \" + str(i) + \": \" + str(matching_index)) \n",
    "  \n",
    "def main(): \n",
    "    test(\"[ABC[23]][89]\", 0) # should be 8 \n",
    "    test(\"[ABC[23]][89]\", 4) # should be 7 \n",
    "    test(\"[ABC[23]][89]\", 9) # should be 12 \n",
    "    test(\"[ABC[23]][89]\", 1) # No matching bracket \n",
    "  \n",
    "if __name__ == \"__main__\": \n",
    "    main() "
   ]
  },
  {
   "cell_type": "code",
   "execution_count": 65,
   "metadata": {},
   "outputs": [
    {
     "data": {
      "text/plain": [
       "'run_as_python2'"
      ]
     },
     "execution_count": 65,
     "metadata": {},
     "output_type": "execute_result"
    }
   ],
   "source": [
    "tree.body[0]."
   ]
  },
  {
   "cell_type": "code",
   "execution_count": 17,
   "metadata": {},
   "outputs": [
    {
     "name": "stderr",
     "output_type": "stream",
     "text": [
      "/usr/local/lib/python3.6/dist-packages/ipykernel_launcher.py:1: DeprecationWarning: astor.codetoast is deprecated.  Please use astor.code_to_ast.\n",
      "  \"\"\"Entry point for launching an IPython kernel.\n"
     ]
    },
    {
     "ename": "AttributeError",
     "evalue": "'Module' object has no attribute '__code__'",
     "output_type": "error",
     "traceback": [
      "\u001b[0;31m---------------------------------------------------------------------------\u001b[0m",
      "\u001b[0;31mAttributeError\u001b[0m                            Traceback (most recent call last)",
      "\u001b[0;32m<ipython-input-17-3213daa51757>\u001b[0m in \u001b[0;36m<module>\u001b[0;34m\u001b[0m\n\u001b[0;32m----> 1\u001b[0;31m \u001b[0mastor\u001b[0m\u001b[0;34m.\u001b[0m\u001b[0mcodetoast\u001b[0m\u001b[0;34m(\u001b[0m\u001b[0mtree\u001b[0m\u001b[0;34m)\u001b[0m\u001b[0;34m\u001b[0m\u001b[0;34m\u001b[0m\u001b[0m\n\u001b[0m",
      "\u001b[0;32m/usr/local/lib/python3.6/dist-packages/astor/__init__.py\u001b[0m in \u001b[0;36mnewfunc\u001b[0;34m(*args, **kwarg)\u001b[0m\n\u001b[1;32m     53\u001b[0m             \u001b[0;32mdef\u001b[0m \u001b[0mnewfunc\u001b[0m\u001b[0;34m(\u001b[0m\u001b[0;34m*\u001b[0m\u001b[0margs\u001b[0m\u001b[0;34m,\u001b[0m \u001b[0;34m**\u001b[0m\u001b[0mkwarg\u001b[0m\u001b[0;34m)\u001b[0m\u001b[0;34m:\u001b[0m\u001b[0;34m\u001b[0m\u001b[0;34m\u001b[0m\u001b[0m\n\u001b[1;32m     54\u001b[0m                 \u001b[0mwarnings\u001b[0m\u001b[0;34m.\u001b[0m\u001b[0mwarn\u001b[0m\u001b[0;34m(\u001b[0m\u001b[0mmsg\u001b[0m\u001b[0;34m,\u001b[0m \u001b[0mDeprecationWarning\u001b[0m\u001b[0;34m,\u001b[0m \u001b[0mstacklevel\u001b[0m\u001b[0;34m=\u001b[0m\u001b[0;36m2\u001b[0m\u001b[0;34m)\u001b[0m\u001b[0;34m\u001b[0m\u001b[0;34m\u001b[0m\u001b[0m\n\u001b[0;32m---> 55\u001b[0;31m                 \u001b[0;32mreturn\u001b[0m \u001b[0mtarget_func\u001b[0m\u001b[0;34m(\u001b[0m\u001b[0;34m*\u001b[0m\u001b[0margs\u001b[0m\u001b[0;34m,\u001b[0m \u001b[0;34m**\u001b[0m\u001b[0mkwarg\u001b[0m\u001b[0;34m)\u001b[0m\u001b[0;34m\u001b[0m\u001b[0;34m\u001b[0m\u001b[0m\n\u001b[0m\u001b[1;32m     56\u001b[0m         \u001b[0;32melse\u001b[0m\u001b[0;34m:\u001b[0m\u001b[0;34m\u001b[0m\u001b[0;34m\u001b[0m\u001b[0m\n\u001b[1;32m     57\u001b[0m             \u001b[0;32mclass\u001b[0m \u001b[0mModProxy\u001b[0m\u001b[0;34m:\u001b[0m\u001b[0;34m\u001b[0m\u001b[0;34m\u001b[0m\u001b[0m\n",
      "\u001b[0;32m/usr/local/lib/python3.6/dist-packages/astor/file_util.py\u001b[0m in \u001b[0;36m__call__\u001b[0;34m(self, codeobj)\u001b[0m\n\u001b[1;32m     96\u001b[0m     \u001b[0;32mdef\u001b[0m \u001b[0m__call__\u001b[0m\u001b[0;34m(\u001b[0m\u001b[0mself\u001b[0m\u001b[0;34m,\u001b[0m \u001b[0mcodeobj\u001b[0m\u001b[0;34m)\u001b[0m\u001b[0;34m:\u001b[0m\u001b[0;34m\u001b[0m\u001b[0;34m\u001b[0m\u001b[0m\n\u001b[1;32m     97\u001b[0m         \u001b[0mcache\u001b[0m \u001b[0;34m=\u001b[0m \u001b[0mself\u001b[0m\u001b[0;34m.\u001b[0m\u001b[0mcache\u001b[0m\u001b[0;34m\u001b[0m\u001b[0;34m\u001b[0m\u001b[0m\n\u001b[0;32m---> 98\u001b[0;31m         \u001b[0mkey\u001b[0m \u001b[0;34m=\u001b[0m \u001b[0mself\u001b[0m\u001b[0;34m.\u001b[0m\u001b[0mget_file_info\u001b[0m\u001b[0;34m(\u001b[0m\u001b[0mcodeobj\u001b[0m\u001b[0;34m)\u001b[0m\u001b[0;34m\u001b[0m\u001b[0;34m\u001b[0m\u001b[0m\n\u001b[0m\u001b[1;32m     99\u001b[0m         \u001b[0mresult\u001b[0m \u001b[0;34m=\u001b[0m \u001b[0mcache\u001b[0m\u001b[0;34m.\u001b[0m\u001b[0mget\u001b[0m\u001b[0;34m(\u001b[0m\u001b[0mkey\u001b[0m\u001b[0;34m)\u001b[0m\u001b[0;34m\u001b[0m\u001b[0;34m\u001b[0m\u001b[0m\n\u001b[1;32m    100\u001b[0m         \u001b[0;32mif\u001b[0m \u001b[0mresult\u001b[0m \u001b[0;32mis\u001b[0m \u001b[0;32mnot\u001b[0m \u001b[0;32mNone\u001b[0m\u001b[0;34m:\u001b[0m\u001b[0;34m\u001b[0m\u001b[0;34m\u001b[0m\u001b[0m\n",
      "\u001b[0;32m/usr/local/lib/python3.6/dist-packages/astor/file_util.py\u001b[0m in \u001b[0;36mget_file_info\u001b[0;34m(codeobj)\u001b[0m\n\u001b[1;32m     85\u001b[0m         \u001b[0mlinenum\u001b[0m \u001b[0;34m=\u001b[0m \u001b[0;36m0\u001b[0m\u001b[0;34m\u001b[0m\u001b[0;34m\u001b[0m\u001b[0m\n\u001b[1;32m     86\u001b[0m         \u001b[0;32mif\u001b[0m \u001b[0mfname\u001b[0m \u001b[0;32mis\u001b[0m \u001b[0;32mNone\u001b[0m\u001b[0;34m:\u001b[0m\u001b[0;34m\u001b[0m\u001b[0;34m\u001b[0m\u001b[0m\n\u001b[0;32m---> 87\u001b[0;31m             \u001b[0mfunc_code\u001b[0m \u001b[0;34m=\u001b[0m \u001b[0mcodeobj\u001b[0m\u001b[0;34m.\u001b[0m\u001b[0m__code__\u001b[0m\u001b[0;34m\u001b[0m\u001b[0;34m\u001b[0m\u001b[0m\n\u001b[0m\u001b[1;32m     88\u001b[0m             \u001b[0mfname\u001b[0m \u001b[0;34m=\u001b[0m \u001b[0mfunc_code\u001b[0m\u001b[0;34m.\u001b[0m\u001b[0mco_filename\u001b[0m\u001b[0;34m\u001b[0m\u001b[0;34m\u001b[0m\u001b[0m\n\u001b[1;32m     89\u001b[0m             \u001b[0mlinenum\u001b[0m \u001b[0;34m=\u001b[0m \u001b[0mfunc_code\u001b[0m\u001b[0;34m.\u001b[0m\u001b[0mco_firstlineno\u001b[0m\u001b[0;34m\u001b[0m\u001b[0;34m\u001b[0m\u001b[0m\n",
      "\u001b[0;31mAttributeError\u001b[0m: 'Module' object has no attribute '__code__'"
     ]
    }
   ],
   "source": [
    "astor.codetoast(\"print('foo')\")"
   ]
  },
  {
   "cell_type": "code",
   "execution_count": 24,
   "metadata": {},
   "outputs": [],
   "source": [
    "from copy_gen_transformer import Transformer\n",
    "model = Transformer()"
   ]
  },
  {
   "cell_type": "markdown",
   "metadata": {},
   "source": [
    "## Playing with covariance"
   ]
  },
  {
   "cell_type": "code",
   "execution_count": 269,
   "metadata": {},
   "outputs": [
    {
     "name": "stdout",
     "output_type": "stream",
     "text": [
      "(2, 1000)\n"
     ]
    },
    {
     "data": {
      "text/plain": [
       "<matplotlib.collections.PathCollection at 0x7f3994062278>"
      ]
     },
     "execution_count": 269,
     "metadata": {},
     "output_type": "execute_result"
    },
    {
     "data": {
      "image/png": "[encoded data removed]",
      "text/plain": [
       "<Figure size 432x288 with 1 Axes>"
      ]
     },
     "metadata": {
      "needs_background": "light"
     },
     "output_type": "display_data"
    }
   ],
   "source": [
    "points = np.random.rand(2,100)\n",
    "\n",
    "mean = [0, 0]\n",
    "cov = [[1, -0.9], \n",
    "       [-0.9, 1]]\n",
    "points = np.random.multivariate_normal(mean, cov, 1000).T\n",
    "print(points.shape)\n",
    "\n",
    "plt.axis('equal')\n",
    "plt.scatter(points[0,:],points[1,:], alpha=0.1)"
   ]
  },
  {
   "cell_type": "code",
   "execution_count": 270,
   "metadata": {},
   "outputs": [
    {
     "name": "stdout",
     "output_type": "stream",
     "text": [
      "[[-0.70806111  0.70615116]\n",
      " [-0.70615116 -0.70806111]]\n",
      "[-0.70806111  0.70615116]\n"
     ]
    },
    {
     "data": {
      "image/png": "[encoded data removed]",
      "text/plain": [
       "<Figure size 432x288 with 1 Axes>"
      ]
     },
     "metadata": {
      "needs_background": "light"
     },
     "output_type": "display_data"
    }
   ],
   "source": [
    "d_cov = (points @ points.T) / 1000\n",
    "w, v = np.linalg.eig(d_cov)\n",
    "# v = (v*w)\n",
    "print(v)\n",
    "plt.axis('equal')\n",
    "plt.scatter(points[0,:],points[1,:], alpha=0.1)\n",
    "plt.quiver([0,0],[0,0], v[0], v[1], scale_units='dots')\n",
    "print(v[0])"
   ]
  },
  {
   "cell_type": "code",
   "execution_count": 237,
   "metadata": {},
   "outputs": [
    {
     "data": {
      "text/plain": [
       "array([[0]])"
      ]
     },
     "execution_count": 237,
     "metadata": {},
     "output_type": "execute_result"
    }
   ],
   "source": [
    "a = np.array([[0],\n",
    "              [4]])\n",
    "M = [[0, -1], \n",
    "     [1, 0]]\n",
    "a.T @ M @ a"
   ]
  },
  {
   "cell_type": "code",
   "execution_count": null,
   "metadata": {},
   "outputs": [],
   "source": []
  }
 ],
 "metadata": {
  "kernelspec": {
   "display_name": "Python 3",
   "language": "python",
   "name": "python3"
  },
  "language_info": {
   "codemirror_mode": {
    "name": "ipython",
    "version": 3
   },
   "file_extension": ".py",
   "mimetype": "text/x-python",
   "name": "python",
   "nbconvert_exporter": "python",
   "pygments_lexer": "ipython3",
   "version": "3.6.9"
  }
 },
 "nbformat": 4,
 "nbformat_minor": 4
}

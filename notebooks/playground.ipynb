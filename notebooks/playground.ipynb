{
 "cells": [
  {
   "cell_type": "markdown",
   "metadata": {},
   "source": [
    "# Code playground\n",
    "This notebook is a small sandbox where half baked ideas can live. Code snippets that were developed but might be useful saterr can go here."
   ]
  },
  {
   "cell_type": "code",
   "execution_count": 3,
   "metadata": {},
   "outputs": [],
   "source": [
    "import math\n",
    "import torch\n",
    "import torch.nn as nn\n",
    "import torch.nn.functional as F\n",
    "import numpy as np\n",
    "import torchtext\n",
    "import tqdm\n",
    "from torchnlp.metrics import get_moses_multi_bleu\n",
    "from torchtext.data import Field, BucketIterator\n",
    "from nltk.translate.bleu_score import SmoothingFunction, sentence_bleu\n",
    "\n",
    "import tensorflow as tf\n",
    "import tensorflow_datasets as tfds\n",
    "from tokenize import tokenize, untokenize, NUMBER, STRING, NAME, OP\n",
    "from io import BytesIO\n",
    "\n",
    "import linecache\n",
    "import sys\n",
    "import os\n",
    "import re\n",
    "import random\n",
    "import time"
   ]
  },
  {
   "cell_type": "code",
   "execution_count": 4,
   "metadata": {},
   "outputs": [
    {
     "data": {
      "text/plain": [
       "tensor([0, 4, 2, 1, 3])"
      ]
     },
     "execution_count": 4,
     "metadata": {},
     "output_type": "execute_result"
    }
   ],
   "source": [
    "torch.tensor([1,4,3,6,2]).argsort()"
   ]
  },
  {
   "cell_type": "markdown",
   "metadata": {},
   "source": [
    "## Self-made beam search code\n",
    "This code runs on paralelised batches and beams, it's fast, but doesn't have the appropriate stopping conditions."
   ]
  },
  {
   "cell_type": "code",
   "execution_count": null,
   "metadata": {},
   "outputs": [],
   "source": [
    "def beam_search_decode_batch_ids(encoder_input, beam_size=3, max_seq_length=50):\n",
    "    batch_len = encoder_input.shape[1]\n",
    "    sos_id = TGT_TEXT.vocab.stoi[\"<sos>\"]\n",
    "    decoder_input = torch.zeros((1, beam_size * batch_len), dtype=torch.long, device=device).fill_(sos_id)\n",
    "    log_probs = torch.zeros((beam_size * batch_len,1))\n",
    "    print(\"log_probs:\", log_probs)\n",
    "    vocab_size = len(TGT_TEXT.vocab.itos)\n",
    "    \n",
    "    encoder_input = encoder_input.view(-1,1).repeat(1,beam_size).view(-1,beam_size * batch_len) # this tiles the input to the beam size * batch size\n",
    "    print(\"tiled input:\", encoder_input)\n",
    "    \n",
    "    for i in range(max_seq_length):\n",
    "        output = model(encoder_input, decoder_input)\n",
    "        print(output.shape)\n",
    "        last_pred = output[-1].softmax(1)\n",
    "        print(\"last_pred shape:\", last_pred.shape)\n",
    "        log_predictions = last_pred.log()\n",
    "        seq_log_probs = log_predictions + log_probs.repeat(1,vocab_size)\n",
    "        print(\"seq_log_probs:\", seq_log_probs)\n",
    "        \n",
    "        seq_log_probs_positions = seq_log_probs.view(batch_len,-1).argsort(1)[:,-beam_size:]\n",
    "        print(\"seq_log_probs_positions:\", seq_log_probs_positions)\n",
    "        next_ids = seq_log_probs_positions.reshape(1, batch_len*beam_size) % vocab_size\n",
    "        print(\"next_ids:\", next_ids)\n",
    "        log_probs = seq_log_probs.view(batch_len,-1).gather(1,seq_log_probs_positions).view(beam_size * batch_len,1)\n",
    "        print(\"log_probs:\",log_probs)\n",
    "        \n",
    "        for batch_idx in range(seq_log_probs_positions.shape[0]):\n",
    "            for seq_choice_idx in range(seq_log_probs_positions.shape[1]):\n",
    "                seq_choice = seq_log_probs_positions[batch_idx,seq_choice_idx] // vocab_size\n",
    "                decoder_input[:,batch_idx*batch_len + seq_choice_idx] = decoder_input[:,batch_idx*batch_len + seq_choice]\n",
    "        \n",
    "        decoder_input = torch.cat((decoder_input, next_ids))\n",
    "    return decoder_input\n",
    "        \n",
    "#         last_pred = output[-1].argsort(dim=1)[:,:beam_size]\n",
    "\n",
    "sent1 = [\"<sos>\"] + SRC_TEXT.preprocess(\"create array\") + [\"<eos>\"] + [\"<pad>\"]\n",
    "sent2 = [\"<sos>\"] + SRC_TEXT.preprocess(\"if exists then\") + [\"<eos>\"]\n",
    "src_ids = SRC_TEXT.numericalize([sent1, sent2], device=device)\n",
    "print(\"input ids:\", src_ids)\n",
    "beam_search_decode_batch_ids(src_ids, max_seq_length=5)"
   ]
  }
 ],
 "metadata": {
  "kernelspec": {
   "display_name": "Python 3",
   "language": "python",
   "name": "python3"
  },
  "language_info": {
   "codemirror_mode": {
    "name": "ipython",
    "version": 3
   },
   "file_extension": ".py",
   "mimetype": "text/x-python",
   "name": "python",
   "nbconvert_exporter": "python",
   "pygments_lexer": "ipython3",
   "version": "3.6.8"
  }
 },
 "nbformat": 4,
 "nbformat_minor": 4
}

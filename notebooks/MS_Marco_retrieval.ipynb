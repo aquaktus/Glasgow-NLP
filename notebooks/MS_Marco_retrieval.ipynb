{
 "cells": [
  {
   "cell_type": "markdown",
   "metadata": {},
   "source": [
    "# Weighting query terms to improve BM25 retrieval"
   ]
  },
  {
   "cell_type": "code",
   "execution_count": 31,
   "metadata": {},
   "outputs": [],
   "source": [
    "import csv\n",
    "import matplotlib.pyplot as plt\n",
    "from src.retrieval import PyLuceneRetriever, ReCodeRetriever, OracleBLEURetriever\n",
    "%matplotlib inline  "
   ]
  },
  {
   "cell_type": "code",
   "execution_count": 45,
   "metadata": {},
   "outputs": [],
   "source": [
    "# takes a few seconds\n",
    "collection = {}\n",
    "with open('datasets/MS_Marco/collection.tsv') as tsvfile:\n",
    "    reader = csv.reader(tsvfile, delimiter='\\t')\n",
    "    for i, row in enumerate(reader):\n",
    "        passage_id, passage_text = row\n",
    "        collection[int(passage_id)] = passage_text"
   ]
  },
  {
   "cell_type": "code",
   "execution_count": 46,
   "metadata": {},
   "outputs": [],
   "source": [
    "train_queries = {}\n",
    "with open('datasets/MS_Marco/queries.train.tsv') as tsvfile:\n",
    "    reader = csv.reader(tsvfile, delimiter='\\t')\n",
    "    for i, row in enumerate(reader):\n",
    "        q_id, q_text = row\n",
    "        train_queries[int(q_id)] = q_text"
   ]
  },
  {
   "cell_type": "code",
   "execution_count": 47,
   "metadata": {},
   "outputs": [],
   "source": [
    "train_q_rels = {}\n",
    "with open('datasets/MS_Marco/qrels.train.tsv') as tsvfile:\n",
    "    reader = csv.reader(tsvfile, delimiter='\\t')\n",
    "    for i, row in enumerate(reader):\n",
    "        q_id, _, passage_id, _ = row\n",
    "        if int(q_id) in train_q_rels:\n",
    "            train_q_rels[int(q_id)].append(int(passage_id))\n",
    "        else:\n",
    "            train_q_rels[int(q_id)] = [int(passage_id)]"
   ]
  },
  {
   "cell_type": "code",
   "execution_count": 48,
   "metadata": {},
   "outputs": [
    {
     "data": {
      "text/plain": [
       "(array([4.7758e+05, 2.1868e+04, 0.0000e+00, 2.7180e+03, 0.0000e+00,\n",
       "        6.1200e+02, 1.3100e+02, 0.0000e+00, 2.2000e+01, 8.0000e+00]),\n",
       " array([1. , 1.6, 2.2, 2.8, 3.4, 4. , 4.6, 5.2, 5.8, 6.4, 7. ]),\n",
       " <a list of 10 Patch objects>)"
      ]
     },
     "execution_count": 48,
     "metadata": {},
     "output_type": "execute_result"
    },
    {
     "data": {
      "image/png": "[encoded data removed]",
      "text/plain": [
       "<Figure size 432x288 with 1 Axes>"
      ]
     },
     "metadata": {
      "needs_background": "light"
     },
     "output_type": "display_data"
    }
   ],
   "source": [
    "plt.title('Num relevant passages per query')\n",
    "plt.hist([len(rel_passages) for q_id, rel_passages in train_q_rels.items()],log=True)"
   ]
  },
  {
   "cell_type": "markdown",
   "metadata": {},
   "source": [
    "## Importing passages into PyLucene"
   ]
  },
  {
   "cell_type": "code",
   "execution_count": 106,
   "metadata": {},
   "outputs": [],
   "source": [
    "ordered_passages = [v for k, v in sorted(collection.items(), key=lambda item: item[0])]"
   ]
  },
  {
   "cell_type": "code",
   "execution_count": 107,
   "metadata": {},
   "outputs": [
    {
     "name": "stdout",
     "output_type": "stream",
     "text": [
      "All passages 8841823\n"
     ]
    }
   ],
   "source": [
    "print(f\"All passages {len(ordered_passages)}\")"
   ]
  },
  {
   "cell_type": "code",
   "execution_count": 108,
   "metadata": {},
   "outputs": [
    {
     "name": "stdout",
     "output_type": "stream",
     "text": [
      "JVM Running\n",
      "CPU times: user 801 ms, sys: 674 ms, total: 1.47 s\n",
      "Wall time: 370 ms\n"
     ]
    }
   ],
   "source": [
    "%%time\n",
    "retriever = PyLuceneRetriever()\n",
    "retriever.add_multiple_docs(ordered_passages[:10_000])"
   ]
  },
  {
   "cell_type": "code",
   "execution_count": 109,
   "metadata": {},
   "outputs": [
    {
     "name": "stdout",
     "output_type": "stream",
     "text": [
      "100 results\n",
      "Answers.com Â® WikiAnswers Â® Categories History, Politics & Society History War and Military History US Civil War US Civil War Battles Second Battle of Bull Run Where did the battle of second Manassas take place?\n",
      "\n",
      "British declaration of war in WW1 In WW1 Britain declared war on Germany on 4 August 1914 shortly after German troops entered Belgium. British declaration of war in WW2 In â¦ WW2 Britain declared war on Germany on 3 September 1939.The British Prime Minister, Neville Chamberlain, declared war on Germany on September 3, 1939, two days after the Nazi Germans invaded and attacked Poland.Obviously, he did so with the backing of Parliament.3rd September 1939. It was a joint declaration of war by Britain and France.reat Britain declared war on Germany and did not come to the rescue of Poland as they had intended to do. They did try to help France defeat the Nazi Germans. It was a failur â¦ e. There was a period of about 4 months duration (I believe it was that long) that was called the Phony War.\n",
      "\n",
      "Publisher. A+E Networks. On the afternoon of this day in 1914, two days after declaring war on Russia, Germany declares war on France, moving ahead with a long-held strategy, conceived by the former chief of staff of the German army, Alfred von Schlieffen, for a two-front war against France and Russia.ublisher. A+E Networks. On the afternoon of this day in 1914, two days after declaring war on Russia, Germany declares war on France, moving ahead with a long-held strategy, conceived by the former chief of staff of the German army, Alfred von Schlieffen, for a two-front war against France and Russia.\n",
      "\n"
     ]
    }
   ],
   "source": [
    "k = 3\n",
    "results = retriever.search(\"war\", max_retrieved_docs=100)\n",
    "print(f\"{len(results)} results\")\n",
    "top_k_passages = [ordered_passages[passage_id] for passage_id, sccore in results[:k]]\n",
    "for p in top_k_passages:\n",
    "    print(p)\n",
    "    print()"
   ]
  },
  {
   "cell_type": "code",
   "execution_count": null,
   "metadata": {},
   "outputs": [],
   "source": []
  },
  {
   "cell_type": "code",
   "execution_count": 116,
   "metadata": {},
   "outputs": [
    {
     "data": {
      "text/plain": [
       "')what was the immediate impact of the success of the manhattan project?'"
      ]
     },
     "execution_count": 116,
     "metadata": {},
     "output_type": "execute_result"
    }
   ],
   "source": [
    "train_queries[1185869]"
   ]
  },
  {
   "cell_type": "code",
   "execution_count": null,
   "metadata": {},
   "outputs": [],
   "source": []
  }
 ],
 "metadata": {
  "kernelspec": {
   "display_name": "Python 3",
   "language": "python",
   "name": "python3"
  },
  "language_info": {
   "codemirror_mode": {
    "name": "ipython",
    "version": 3
   },
   "file_extension": ".py",
   "mimetype": "text/x-python",
   "name": "python",
   "nbconvert_exporter": "python",
   "pygments_lexer": "ipython3",
   "version": "3.6.9"
  }
 },
 "nbformat": 4,
 "nbformat_minor": 4
}

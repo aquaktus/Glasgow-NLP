{
 "cells": [
  {
   "cell_type": "markdown",
   "metadata": {},
   "source": [
    "# Weighting query terms to improve BM25 retrieval"
   ]
  },
  {
   "cell_type": "code",
   "execution_count": 1,
   "metadata": {},
   "outputs": [],
   "source": [
    "import csv\n",
    "import matplotlib.pyplot as plt\n",
    "from src.retrieval import PyLuceneRetriever, ReCodeRetriever, OracleBLEURetriever\n",
    "import tqdm.notebook as tqdm \n",
    "from hyperopt import hp, fmin, tpe, space_eval\n",
    "%matplotlib inline  \n",
    "%load_ext autoreload\n",
    "%autoreload 2"
   ]
  },
  {
   "cell_type": "code",
   "execution_count": 2,
   "metadata": {},
   "outputs": [],
   "source": [
    "# takes a few seconds\n",
    "collection = {}\n",
    "with open('datasets/MS_Marco/collection.tsv') as tsvfile:\n",
    "    reader = csv.reader(tsvfile, delimiter='\\t')\n",
    "    for i, row in enumerate(reader):\n",
    "        passage_id, passage_text = row\n",
    "        collection[int(passage_id)] = passage_text"
   ]
  },
  {
   "cell_type": "code",
   "execution_count": 3,
   "metadata": {},
   "outputs": [],
   "source": [
    "train_queries = {}\n",
    "with open('datasets/MS_Marco/queries.train.tsv') as tsvfile:\n",
    "    reader = csv.reader(tsvfile, delimiter='\\t')\n",
    "    for i, row in enumerate(reader):\n",
    "        q_id, q_text = row\n",
    "        train_queries[int(q_id)] = q_text"
   ]
  },
  {
   "cell_type": "code",
   "execution_count": 4,
   "metadata": {},
   "outputs": [],
   "source": [
    "train_q_rels = {}\n",
    "with open('datasets/MS_Marco/qrels.train.tsv') as tsvfile:\n",
    "    reader = csv.reader(tsvfile, delimiter='\\t')\n",
    "    for i, row in enumerate(reader):\n",
    "        q_id, _, passage_id, _ = row\n",
    "        if int(q_id) in train_q_rels:\n",
    "            train_q_rels[int(q_id)].append(int(passage_id))\n",
    "        else:\n",
    "            train_q_rels[int(q_id)] = [int(passage_id)]"
   ]
  },
  {
   "cell_type": "code",
   "execution_count": 5,
   "metadata": {},
   "outputs": [
    {
     "data": {
      "text/plain": [
       "(array([4.7758e+05, 2.1868e+04, 0.0000e+00, 2.7180e+03, 0.0000e+00,\n",
       "        6.1200e+02, 1.3100e+02, 0.0000e+00, 2.2000e+01, 8.0000e+00]),\n",
       " array([1. , 1.6, 2.2, 2.8, 3.4, 4. , 4.6, 5.2, 5.8, 6.4, 7. ]),\n",
       " <a list of 10 Patch objects>)"
      ]
     },
     "execution_count": 5,
     "metadata": {},
     "output_type": "execute_result"
    },
    {
     "data": {
      "image/png": "[encoded data removed]",
      "text/plain": [
       "<Figure size 432x288 with 1 Axes>"
      ]
     },
     "metadata": {
      "needs_background": "light"
     },
     "output_type": "display_data"
    }
   ],
   "source": [
    "plt.title('Num relevant passages per query')\n",
    "plt.hist([len(rel_passages) for q_id, rel_passages in train_q_rels.items()],log=True)"
   ]
  },
  {
   "cell_type": "markdown",
   "metadata": {},
   "source": [
    "## Importing passages into PyLucene"
   ]
  },
  {
   "cell_type": "code",
   "execution_count": 6,
   "metadata": {},
   "outputs": [],
   "source": [
    "ordered_passages = [v for k, v in sorted(collection.items(), key=lambda item: item[0])]"
   ]
  },
  {
   "cell_type": "code",
   "execution_count": 7,
   "metadata": {},
   "outputs": [
    {
     "name": "stdout",
     "output_type": "stream",
     "text": [
      "All passages 8841823\n"
     ]
    }
   ],
   "source": [
    "print(f\"All passages {len(ordered_passages)}\")"
   ]
  },
  {
   "cell_type": "code",
   "execution_count": 69,
   "metadata": {},
   "outputs": [
    {
     "name": "stdout",
     "output_type": "stream",
     "text": [
      "JVM Running\n",
      "CPU times: user 290 ms, sys: 11 ms, total: 301 ms\n",
      "Wall time: 299 ms\n"
     ]
    }
   ],
   "source": [
    "%%time\n",
    "retriever = PyLuceneRetriever()\n",
    "retriever.add_multiple_docs(ordered_passages[:10_000])"
   ]
  },
  {
   "cell_type": "code",
   "execution_count": 70,
   "metadata": {},
   "outputs": [
    {
     "data": {
      "text/plain": [
       "<RAMDirectory: RAMDirectory@5f0c0573 lockFactory=org.apache.lucene.store.SingleInstanceLockFactory@2018c2c5>"
      ]
     },
     "execution_count": 70,
     "metadata": {},
     "output_type": "execute_result"
    }
   ],
   "source": [
    "retriever.store"
   ]
  },
  {
   "cell_type": "code",
   "execution_count": 71,
   "metadata": {},
   "outputs": [
    {
     "name": "stdout",
     "output_type": "stream",
     "text": [
      "french pastries foo\n",
      "65 results\n",
      "Locations farthest away from Salt Lake City. 1  Amsterdam Island, French Southern Territories, 11,894 mi. 2  Port-aux-Francais, French Southern Territories, 11,829 mi. 3  Ãle de la Possession, Crozet Islands, French Southern Territories, 11,532 mi.  Port Mathurin (Rodrigues), Mauritius, 10,952 1  mi. Saint-Pierre, RÃ©union (French), 10,903  mi.\n",
      "\n",
      "Meaning of Eleanor. French name. In French, the name Eleanor means - A variant of Helen introduced into Britain in 12th century AD by King Henry IIs wife, Eleanor of Aquitaine.. Other origins for the name Eleanor include - French, Greek, English.The name Eleanor is most often used as a girl name or female name. French Name Meaning - A variant of Helen introduced into Britain in 12th century AD by King Henry IIs wife, Eleanor of Aquitaine. Origin - French.\n",
      "\n",
      "Origin of Goins, Meaning of Goins. Origin: The name is french meaning GOD's friend. Has many variations to the name, Goin, Goings, Gains, Goines. All derived from the french.\n",
      "\n"
     ]
    }
   ],
   "source": [
    "k = 3\n",
    "results = retriever.search(\"french pastries\", max_retrieved_docs=100)\n",
    "print(f\"{len(results)} results\")\n",
    "top_k_passages = [ordered_passages[passage_id] for passage_id, sccore in results[:k]]\n",
    "for p in top_k_passages:\n",
    "    print(p)\n",
    "    print()"
   ]
  },
  {
   "cell_type": "markdown",
   "metadata": {},
   "source": [
    "# Creating the experimental setup"
   ]
  },
  {
   "cell_type": "code",
   "execution_count": 7,
   "metadata": {},
   "outputs": [],
   "source": [
    "from src.dataset_loaders import MS_Marco_RawDataLoader"
   ]
  },
  {
   "cell_type": "code",
   "execution_count": 8,
   "metadata": {},
   "outputs": [
    {
     "data": {
      "application/vnd.jupyter.widget-view+json": {
       "model_id": "993283ff02cb4df1a3e546b83f3dcb63",
       "version_major": 2,
       "version_minor": 0
      },
      "text/plain": [
       "HBox(children=(FloatProgress(value=1.0, bar_style='info', max=1.0), HTML(value='')))"
      ]
     },
     "metadata": {},
     "output_type": "display_data"
    },
    {
     "name": "stdout",
     "output_type": "stream",
     "text": [
      "\n"
     ]
    },
    {
     "data": {
      "application/vnd.jupyter.widget-view+json": {
       "model_id": "3db0dc841040420294888a82ac7bbbab",
       "version_major": 2,
       "version_minor": 0
      },
      "text/plain": [
       "HBox(children=(FloatProgress(value=1.0, bar_style='info', max=1.0), HTML(value='')))"
      ]
     },
     "metadata": {},
     "output_type": "display_data"
    },
    {
     "name": "stdout",
     "output_type": "stream",
     "text": [
      "\n"
     ]
    },
    {
     "data": {
      "application/vnd.jupyter.widget-view+json": {
       "model_id": "f31e4f23896b4904b53bdaffd47d3bbe",
       "version_major": 2,
       "version_minor": 0
      },
      "text/plain": [
       "HBox(children=(FloatProgress(value=1.0, bar_style='info', max=1.0), HTML(value='')))"
      ]
     },
     "metadata": {},
     "output_type": "display_data"
    },
    {
     "name": "stdout",
     "output_type": "stream",
     "text": [
      "\n"
     ]
    },
    {
     "data": {
      "application/vnd.jupyter.widget-view+json": {
       "model_id": "3cf228fa1dd3433fbff3a2fc80a36004",
       "version_major": 2,
       "version_minor": 0
      },
      "text/plain": [
       "HBox(children=(FloatProgress(value=1.0, bar_style='info', max=1.0), HTML(value='')))"
      ]
     },
     "metadata": {},
     "output_type": "display_data"
    },
    {
     "name": "stdout",
     "output_type": "stream",
     "text": [
      "\n"
     ]
    }
   ],
   "source": [
    "marco_raw_dataloader = MS_Marco_RawDataLoader()"
   ]
  },
  {
   "cell_type": "code",
   "execution_count": 9,
   "metadata": {},
   "outputs": [],
   "source": [
    "from src.Experiments import Experiment\n",
    "import numpy as np"
   ]
  },
  {
   "cell_type": "code",
   "execution_count": 10,
   "metadata": {},
   "outputs": [],
   "source": [
    "class IR_Experiment(Experiment):\n",
    "    def __init__(self, doc_collection, query_collection, q_rels, at=1000):\n",
    "        \"\"\"\n",
    "        doc_collection: {doc_id:str}: document collection\n",
    "        query_collection: {q_id:str}: query collection \n",
    "        q_rels: {q_id:[doc_id,...]}: link from a split between the doc_colllection and the query_collection\n",
    "        \"\"\"\n",
    "        self.doc_collection = doc_collection\n",
    "        self.query_collection = query_collection\n",
    "        self.q_rels = q_rels\n",
    "        self.at = at\n",
    "    \n",
    "    def evaluate(self, prediction_fn):\n",
    "        \"\"\"\n",
    "        This function should compute all relevant metrics to the task,\n",
    "        prediction_fn: (q_id, doc_collection, query_collection) -> ([doc_id,...]): input is the query and the output is a \n",
    "                                                                                predicted ordered list for document relevance\n",
    "        returns: dict: metrics\n",
    "        \"\"\"\n",
    "        results = {'NDCG':[]}\n",
    "        for q_id, relevant_docs in tqdm.tqdm(self.q_rels.items()):\n",
    "            pred_relevant_docs = prediction_fn(q_id, self.doc_collection, self.query_collection)[:self.at]\n",
    "            NDCG = self.calc_NDCG(pred_relevant_docs, relevant_docs)\n",
    "            results[\"NDCG\"].append(NDCG)\n",
    "        results[\"NDCG\"] = np.average(results[\"NDCG\"])\n",
    "        return results\n",
    "    \n",
    "    def calc_NDCG(self, pred_relevant_docs, relevant_docs):\n",
    "        DCG = 0\n",
    "        for i, pred_doc_id in enumerate(pred_relevant_docs):\n",
    "            if pred_doc_id in relevant_docs:\n",
    "                DCG += 1/np.log2(2+i)\n",
    "        IDCG = sum(1/np.log(np.arange(1, len(relevant_docs)+1)+1))\n",
    "        return DCG/IDCG\n",
    "    \n",
    "    \n",
    "    def single_eval(self, prediction_fn, q_id=None):\n",
    "        q_id = q_id if q_id else sorted(list(self.q_rels.keys()))[0]\n",
    "        assert q_id in self.q_rels, f\"q_id: {q_id} not found!\"\n",
    "        pred_relevant_docs = prediction_fn(q_id, self.doc_collection, self.query_collection)[:self.at]\n",
    "        relevant_docs = self.q_rels[q_id]\n",
    "        NDCG = self.calc_NDCG(pred_relevant_docs, relevant_docs)\n",
    "        return NDCG"
   ]
  },
  {
   "cell_type": "code",
   "execution_count": 11,
   "metadata": {},
   "outputs": [
    {
     "data": {
      "application/vnd.jupyter.widget-view+json": {
       "model_id": "9b9d1669549c4b5c8a7e6f63074a342e",
       "version_major": 2,
       "version_minor": 0
      },
      "text/plain": [
       "HBox(children=(FloatProgress(value=1.0, bar_style='info', max=1.0), HTML(value='')))"
      ]
     },
     "metadata": {},
     "output_type": "display_data"
    },
    {
     "name": "stdout",
     "output_type": "stream",
     "text": [
      "\n"
     ]
    }
   ],
   "source": [
    "collection = marco_raw_dataloader.collection\n",
    "queries = marco_raw_dataloader.queries\n",
    "dev_qrels = marco_raw_dataloader.q_rels(\"dev\")\n",
    "small_dev_qrels = {k:v for k, v in list(dev_qrels.items()) if all(i < 100_000 for i in v)}\n",
    "\n",
    "IR_exp = IR_Experiment(collection, queries, small_dev_qrels)"
   ]
  },
  {
   "cell_type": "code",
   "execution_count": 12,
   "metadata": {},
   "outputs": [
    {
     "data": {
      "text/plain": [
       "[1063674,\n",
       " 1045185,\n",
       " 1044632,\n",
       " 1036748,\n",
       " 1033126,\n",
       " 1029622,\n",
       " 1027373,\n",
       " 1020842,\n",
       " 1019783,\n",
       " 1012331,\n",
       " 1006287,\n",
       " 993871,\n",
       " 1099098,\n",
       " 988605,\n",
       " 988044,\n",
       " 985348,\n",
       " 985259,\n",
       " 281388,\n",
       " 316195]"
      ]
     },
     "execution_count": 12,
     "metadata": {},
     "output_type": "execute_result"
    }
   ],
   "source": [
    "list(small_dev_qrels.keys())[11:30]"
   ]
  },
  {
   "cell_type": "code",
   "execution_count": 14,
   "metadata": {},
   "outputs": [],
   "source": [
    "def dummy_ranker(q_id, doc_collection, query_collection):\n",
    "    return np.random.randint(3000, size=100)"
   ]
  },
  {
   "cell_type": "code",
   "execution_count": 15,
   "metadata": {},
   "outputs": [
    {
     "data": {
      "application/vnd.jupyter.widget-view+json": {
       "model_id": "80061b3735424ff39c38c6c6669741a6",
       "version_major": 2,
       "version_minor": 0
      },
      "text/plain": [
       "HBox(children=(FloatProgress(value=0.0, max=200.0), HTML(value='')))"
      ]
     },
     "metadata": {},
     "output_type": "display_data"
    },
    {
     "name": "stdout",
     "output_type": "stream",
     "text": [
      "\n"
     ]
    },
    {
     "data": {
      "text/plain": [
       "{'NDCG': 0.0}"
      ]
     },
     "execution_count": 15,
     "metadata": {},
     "output_type": "execute_result"
    }
   ],
   "source": [
    "IR_exp.evaluate(dummy_ranker)"
   ]
  },
  {
   "cell_type": "code",
   "execution_count": 13,
   "metadata": {},
   "outputs": [],
   "source": [
    "class BM25_Ranker():\n",
    "    def __init__(self, doc_collection, index_path = None, max_docs=None):\n",
    "        ordered_passages = [v for k, v in sorted(doc_collection.items(), key=lambda item: item[0])]\n",
    "        self.retriever = PyLuceneRetriever(index_path)\n",
    "        self.retriever.add_multiple_docs(ordered_passages[:max_docs])\n",
    "        \n",
    "    def __call__(self, q_id, _, query_collection):\n",
    "        results = self.retriever.search(query_collection[q_id], max_retrieved_docs=1000)\n",
    "        return [passage_id for passage_id, sccore in results]\n",
    "\n",
    "bm25_ranker = BM25_Ranker(collection, index_path=\"/tmp/bm25\", max_docs=100_000)"
   ]
  },
  {
   "cell_type": "code",
   "execution_count": 14,
   "metadata": {},
   "outputs": [
    {
     "data": {
      "application/vnd.jupyter.widget-view+json": {
       "model_id": "f96f9b2a766b497890b8306833577347",
       "version_major": 2,
       "version_minor": 0
      },
      "text/plain": [
       "HBox(children=(FloatProgress(value=0.0, max=200.0), HTML(value='')))"
      ]
     },
     "metadata": {},
     "output_type": "display_data"
    },
    {
     "name": "stdout",
     "output_type": "stream",
     "text": [
      "\n"
     ]
    },
    {
     "data": {
      "text/plain": [
       "{'NDCG': 0.2950855867262168}"
      ]
     },
     "execution_count": 14,
     "metadata": {},
     "output_type": "execute_result"
    }
   ],
   "source": [
    "IR_exp.evaluate(bm25_ranker)"
   ]
  },
  {
   "cell_type": "code",
   "execution_count": 147,
   "metadata": {},
   "outputs": [
    {
     "data": {
      "text/plain": [
       "[58039, 6654, 53499, 53496, 6660, 46966, 58037, 97447, 85237, 58041]"
      ]
     },
     "execution_count": 147,
     "metadata": {},
     "output_type": "execute_result"
    }
   ],
   "source": [
    "bm25_ranker(760804, None, queries)[:10]"
   ]
  },
  {
   "cell_type": "code",
   "execution_count": 144,
   "metadata": {},
   "outputs": [
    {
     "data": {
      "text/plain": [
       "[6660, 6654]"
      ]
     },
     "execution_count": 144,
     "metadata": {},
     "output_type": "execute_result"
    }
   ],
   "source": [
    "small_dev_qrels[760804]"
   ]
  },
  {
   "cell_type": "code",
   "execution_count": 210,
   "metadata": {},
   "outputs": [
    {
     "data": {
      "text/plain": [
       "'what is irrigation runoff'"
      ]
     },
     "execution_count": 210,
     "metadata": {},
     "output_type": "execute_result"
    }
   ],
   "source": [
    "queries[760803]"
   ]
  },
  {
   "cell_type": "code",
   "execution_count": 182,
   "metadata": {},
   "outputs": [
    {
     "data": {
      "text/plain": [
       "0.4325588584676279"
      ]
     },
     "execution_count": 182,
     "metadata": {},
     "output_type": "execute_result"
    }
   ],
   "source": [
    "IR_exp.calc_NDCG(bm25_ranker(760804, None, queries)[:10], small_dev_qrels[760804])"
   ]
  },
  {
   "cell_type": "code",
   "execution_count": 246,
   "metadata": {},
   "outputs": [
    {
     "name": "stdout",
     "output_type": "stream",
     "text": [
      "CPU times: user 17 ms, sys: 0 ns, total: 17 ms\n",
      "Wall time: 16.4 ms\n"
     ]
    },
    {
     "data": {
      "text/plain": [
       "0.0"
      ]
     },
     "execution_count": 246,
     "metadata": {},
     "output_type": "execute_result"
    }
   ],
   "source": [
    "%%time\n",
    "IR_exp.single_eval(bm25_ranker, 261941)"
   ]
  },
  {
   "cell_type": "markdown",
   "metadata": {},
   "source": [
    "# Using Hyperopt to optimise"
   ]
  },
  {
   "cell_type": "code",
   "execution_count": 21,
   "metadata": {},
   "outputs": [
    {
     "name": "stdout",
     "output_type": "stream",
     "text": [
      "Testing: how much does it cost to own a horse ranch per year\n",
      "100%|██████████| 200/200 [00:09<00:00, 21.67trial/s, best loss: -86.58539962768555]\n",
      "Original score: -0.1554339745143924 , new score: -0.2681459326263225\n"
     ]
    },
    {
     "data": {
      "text/plain": [
       "([1, 7, 5, 9, 9, 4, 0, 7, 9, 0, 7, 5],\n",
       " 'how^1.0 much^7.0 does^5.0 it^9.0 cost^9.0 to^4.0 own^0.0 a^7.0 horse^9.0 ranch^0.0 per^7.0 year^5.0',\n",
       " -0.2681459326263225,\n",
       " -0.1554339745143924)"
      ]
     },
     "execution_count": 21,
     "metadata": {},
     "output_type": "execute_result"
    }
   ],
   "source": [
    "def best_weights(q_id):\n",
    "    print(f\"Testing: {queries[q_id]}\")\n",
    "    query = queries[q_id].split(\" \")\n",
    "#     space = tuple([hp.uniform(str(i), 1, 10) for i in range(len(query))])\n",
    "    space = tuple([hp.randint(str(i), 10) for i in range(len(query))])\n",
    "    \n",
    "    def NDCG_weight_objective(weights):\n",
    "        weighted_q = \" \".join([f'{word}^{weight}' for word, weight in zip(query, weights)])\n",
    "        results = bm25_ranker.retriever.search(weighted_q, max_retrieved_docs=10000, k1=3.44, b=0.87)\n",
    "        preds = [passage_id for passage_id, sccore in results]\n",
    "        NDCG = IR_exp.calc_NDCG(preds, small_dev_qrels[q_id])\n",
    "        return -NDCG\n",
    "    \n",
    "    def BM25_weight_objective(weights):\n",
    "        weighted_q = \" \".join([f'{word}^{weight}' for word, weight in zip(query, weights)])\n",
    "        results = bm25_ranker.retriever.search(weighted_q, max_retrieved_docs=10000)\n",
    "        passage_ids = [passage_id for passage_id, score in results]\n",
    "        try:\n",
    "            last_index = max([passage_ids.index(doc_id) for doc_id in small_dev_qrels[q_id] if doc_id in passage_ids]) \n",
    "        except:\n",
    "            last_index = -1\n",
    "        BM25_score = [score if passage_id in small_dev_qrels[q_id] else -score/len(results[:last_index]) for passage_id, score in results[:last_index]]\n",
    "        return sum(BM25_score)\n",
    "    \n",
    "    best = fmin(BM25_weight_objective, space, algo=tpe.suggest, max_evals=200)\n",
    "    ordered_weights = [t[1] for t in sorted(best.items(), key=lambda x: int(x[0]))]\n",
    "    best_weighted_q = \" \".join([f'{word}^{weight:.1f}' for word, weight in zip(query, ordered_weights)])\n",
    "    og_score = NDCG_weight_objective([1]*len(query))\n",
    "    new_score = NDCG_weight_objective(ordered_weights)\n",
    "    print(\"Original score:\", NDCG_weight_objective([1]*len(query)), \", new score:\", NDCG_weight_objective(ordered_weights))\n",
    "    return ordered_weights, best_weighted_q, new_score, og_score\n",
    "    \n",
    "best_weights(316195)"
   ]
  },
  {
   "cell_type": "code",
   "execution_count": null,
   "metadata": {},
   "outputs": [],
   "source": [
    "'how^0 much^1 does^1 it^2 cost^2 to^3 own^3 a^4 horse^6 ranch^0 per^9 year^0',\n",
    "'how^0 much^1 does^1 it^2 cost^2 to^3 own^3 a^4 horse^6 ranch^0 per^9 year^0',\n",
    "'how^3 much^9 does^2 it^4 cost^9 to^8 own^3 a^5 horse^9 ranch^0 per^9 year^1',\n",
    "'how^8 much^0 does^0 it^8 cost^9 to^9 own^0 a^8 horse^9 ranch^9 per^9 year^9'"
   ]
  },
  {
   "cell_type": "code",
   "execution_count": 36,
   "metadata": {},
   "outputs": [
    {
     "data": {
      "text/plain": [
       "[(98297, 47.76103591918945),\n",
       " (3742, 46.94272994995117),\n",
       " (98298, 46.936119079589844),\n",
       " (98295, 46.589046478271484),\n",
       " (98301, 46.36630630493164),\n",
       " (96573, 46.0514030456543),\n",
       " (98300, 45.48631286621094),\n",
       " (3743, 43.65251922607422),\n",
       " (3740, 43.40089797973633),\n",
       " (10896, 40.31120681762695),\n",
       " (98294, 39.940582275390625),\n",
       " (78075, 39.068275451660156),\n",
       " (3741, 38.7597770690918),\n",
       " (80178, 34.96807861328125),\n",
       " (12462, 33.975624084472656)]"
      ]
     },
     "execution_count": 36,
     "metadata": {},
     "output_type": "execute_result"
    }
   ],
   "source": [
    "bm25_ranker.retriever.search('how^0 much^1 does^1 it^2 cost^2 to^3 own^3 a^4 horse^6 ranch^0 per^9 year^0', max_retrieved_docs=15)"
   ]
  },
  {
   "cell_type": "code",
   "execution_count": 35,
   "metadata": {},
   "outputs": [
    {
     "data": {
      "text/plain": [
       "[(98294, 12.363020896911621),\n",
       " (17181, 11.739583969116211),\n",
       " (86281, 11.581016540527344),\n",
       " (17184, 11.38760757446289),\n",
       " (75587, 11.209770202636719),\n",
       " (92637, 11.196121215820312),\n",
       " (17178, 11.137279510498047),\n",
       " (99671, 10.87394905090332),\n",
       " (99667, 10.51490592956543),\n",
       " (29336, 10.417116165161133),\n",
       " (40564, 10.37366771697998),\n",
       " (98298, 10.327714920043945),\n",
       " (84810, 10.102272033691406),\n",
       " (98300, 9.94822883605957),\n",
       " (91561, 9.874801635742188),\n",
       " (40559, 9.85165023803711),\n",
       " (26342, 9.714899063110352),\n",
       " (96573, 9.70451545715332),\n",
       " (78078, 9.679361343383789),\n",
       " (39935, 9.571218490600586)]"
      ]
     },
     "execution_count": 35,
     "metadata": {},
     "output_type": "execute_result"
    }
   ],
   "source": [
    "bm25_ranker.retriever.search('how much does it cost to own a horse ranch per year', max_retrieved_docs=20)"
   ]
  },
  {
   "cell_type": "code",
   "execution_count": 34,
   "metadata": {},
   "outputs": [
    {
     "name": "stdout",
     "output_type": "stream",
     "text": [
      "[98297]\n",
      "how much does it cost to own a horse ranch per year\n"
     ]
    }
   ],
   "source": [
    "q_id = 316195\n",
    "print(small_dev_qrels[q_id])\n",
    "print(queries[q_id])"
   ]
  },
  {
   "cell_type": "code",
   "execution_count": 19,
   "metadata": {},
   "outputs": [
    {
     "name": "stdout",
     "output_type": "stream",
     "text": [
      "100%|██████████| 100/100 [00:00<00:00, 365.71trial/s, best loss: 9.455269061822387e-07]\n",
      "{'a': 1, 'c2': -0.0009723820782913672}\n",
      "('case 2', -0.0009723820782913672)\n"
     ]
    }
   ],
   "source": [
    "# define an objective function\n",
    "def objective(args):\n",
    "    case, val = args\n",
    "    if case == 'case 1':\n",
    "        return val\n",
    "    else:\n",
    "        return val ** 2\n",
    "\n",
    "# define a search space\n",
    "from hyperopt import hp\n",
    "space = hp.choice('a',\n",
    "    [\n",
    "        ('case 1', 1 + hp.lognormal('c1', 0, 1)),\n",
    "        ('case 2', hp.uniform('c2', -10, 10))\n",
    "    ])\n",
    "\n",
    "# minimize the objective over the space\n",
    "from hyperopt import fmin, tpe, space_eval\n",
    "best = fmin(objective, space, algo=tpe.suggest, max_evals=100)\n",
    "\n",
    "print(best)\n",
    "# -> {'a': 1, 'c2': 0.01420615366247227}\n",
    "print(space_eval(space, best))\n",
    "# -> ('case 2', 0.01420615366247227}"
   ]
  },
  {
   "cell_type": "code",
   "execution_count": null,
   "metadata": {},
   "outputs": [],
   "source": []
  }
 ],
 "metadata": {
  "kernelspec": {
   "display_name": "Python 3",
   "language": "python",
   "name": "python3"
  },
  "language_info": {
   "codemirror_mode": {
    "name": "ipython",
    "version": 3
   },
   "file_extension": ".py",
   "mimetype": "text/x-python",
   "name": "python",
   "nbconvert_exporter": "python",
   "pygments_lexer": "ipython3",
   "version": "3.6.9"
  }
 },
 "nbformat": 4,
 "nbformat_minor": 4
}

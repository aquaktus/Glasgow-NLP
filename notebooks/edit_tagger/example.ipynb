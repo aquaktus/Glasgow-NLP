{
 "cells": [
  {
   "cell_type": "code",
   "execution_count": 58,
   "metadata": {},
   "outputs": [
    {
     "name": "stdout",
     "output_type": "stream",
     "text": [
      "The autoreload extension is already loaded. To reload it, use:\n",
      "  %reload_ext autoreload\n",
      "['K', 'I', 'K', 'K', 'R', 'K', 'I', 'I']\n",
      "(['K', 'K', 'K', 'R', 'K'], [2, 0, 0, 0, 2], ['<N>', '<N>', '<N>', 'e', '<N>'])\n",
      "['<sos>', '<gen>', '<gen>', 'print', '(', 'e', ')', '<gen>', '<gen>']\n",
      "(['K', 'D', 'R', 'K', 'K', 'K', 'K', 'R', 'R'], [0, 0, 0, 0, 0, 0, 0, 0, 0], ['<N>', '<N>', 'foo', '<N>', '<N>', '<N>', '<N>', 'foo', 'foo'])\n",
      "['<sos>', 'foo', 'print', '(', 'e', ')', 'foo', 'foo']\n"
     ]
    }
   ],
   "source": [
    "from edit_tagger import *\n",
    "%load_ext autoreload\n",
    "%autoreload 2\n",
    "\n",
    "x = [\"<sos>\", \"print\", \"(\", \"r\", \")\"]\n",
    "y = [\"print\", \"(\", \"b\", \",\", \"a\", \")\", \".\", \"get\", \"(\", \")\"]\n",
    "y2 = [\"<sos>\", \"foo\", \"print\", \"(\",\"e\", \")\", \"foo\", \"foo\"]\n",
    "\n",
    "#, a).get()\n",
    "\n",
    "# The build_matrix function creates the levenstein distance matrix for the two lists\n",
    "matrix = build_matrix(x, y2)\n",
    "\n",
    "# The get_tags function instead navigates through the matrix to extract the tags\n",
    "# needed to go from one string to the other. The \"priority\" is K/R then I or D\n",
    "print(get_tags(matrix))\n",
    "\n",
    "edits = single_step_edits(x, y2, token_insertions=2)\n",
    "print(edits)\n",
    "\n",
    "x = perform_edits(x, edits)\n",
    "print(x)\n",
    "\n",
    "edits = single_step_edits(x, y2, token_insertions=2)\n",
    "print(edits)\n",
    "\n",
    "x = perform_edits(x, edits)\n",
    "print(x)"
   ]
  },
  {
   "cell_type": "code",
   "execution_count": 33,
   "metadata": {},
   "outputs": [
    {
     "data": {
      "text/plain": [
       "[3, 2, 3, 4, 0, 0, 3]"
      ]
     },
     "execution_count": 33,
     "metadata": {},
     "output_type": "execute_result"
    }
   ],
   "source": [
    "listzero = [1,0,0,2]\n",
    "a = [3 if x!=0 else 0 for x in listzero]\n",
    "a[1:1] = [2,3,4]\n",
    "a"
   ]
  },
  {
   "cell_type": "code",
   "execution_count": 6,
   "metadata": {},
   "outputs": [
    {
     "ename": "IndexError",
     "evalue": "list assignment index out of range",
     "output_type": "error",
     "traceback": [
      "\u001b[0;31m---------------------------------------------------------------------------\u001b[0m",
      "\u001b[0;31mIndexError\u001b[0m                                Traceback (most recent call last)",
      "\u001b[0;32m<ipython-input-6-7eb757e3496a>\u001b[0m in \u001b[0;36m<module>\u001b[0;34m\u001b[0m\n\u001b[0;32m----> 1\u001b[0;31m \u001b[0mtag_sequencer\u001b[0m\u001b[0;34m(\u001b[0m\u001b[0mx\u001b[0m\u001b[0;34m,\u001b[0m \u001b[0my2\u001b[0m\u001b[0;34m)\u001b[0m\u001b[0;34m\u001b[0m\u001b[0;34m\u001b[0m\u001b[0m\n\u001b[0m",
      "\u001b[0;32m/my_shared/notebooks/edit_tagger/edit_tagger.py\u001b[0m in \u001b[0;36mtag_sequencer\u001b[0;34m(s1, s2)\u001b[0m\n\u001b[1;32m     68\u001b[0m     \u001b[0mnew_s1\u001b[0m \u001b[0;34m=\u001b[0m \u001b[0ms1\u001b[0m\u001b[0;34m.\u001b[0m\u001b[0mcopy\u001b[0m\u001b[0;34m(\u001b[0m\u001b[0;34m)\u001b[0m\u001b[0;34m\u001b[0m\u001b[0;34m\u001b[0m\u001b[0m\n\u001b[1;32m     69\u001b[0m     \u001b[0;32mfor\u001b[0m \u001b[0mi\u001b[0m \u001b[0;32min\u001b[0m \u001b[0mindices\u001b[0m\u001b[0;34m:\u001b[0m\u001b[0;34m\u001b[0m\u001b[0;34m\u001b[0m\u001b[0m\n\u001b[0;32m---> 70\u001b[0;31m         \u001b[0mnew_s1\u001b[0m\u001b[0;34m[\u001b[0m\u001b[0mi\u001b[0m\u001b[0;34m]\u001b[0m \u001b[0;34m=\u001b[0m \u001b[0mtoks\u001b[0m\u001b[0;34m[\u001b[0m\u001b[0mi\u001b[0m\u001b[0;34m]\u001b[0m\u001b[0;34m\u001b[0m\u001b[0;34m\u001b[0m\u001b[0m\n\u001b[0m\u001b[1;32m     71\u001b[0m \u001b[0;34m\u001b[0m\u001b[0m\n\u001b[1;32m     72\u001b[0m     \u001b[0;32mwhile\u001b[0m \u001b[0mi\u001b[0m \u001b[0;34m<\u001b[0m \u001b[0mlen\u001b[0m\u001b[0;34m(\u001b[0m\u001b[0mtags\u001b[0m\u001b[0;34m)\u001b[0m\u001b[0;34m:\u001b[0m\u001b[0;34m\u001b[0m\u001b[0;34m\u001b[0m\u001b[0m\n",
      "\u001b[0;31mIndexError\u001b[0m: list assignment index out of range"
     ]
    }
   ],
   "source": [
    "tag_sequencer(x, y2)"
   ]
  },
  {
   "cell_type": "code",
   "execution_count": null,
   "metadata": {},
   "outputs": [],
   "source": []
  }
 ],
 "metadata": {
  "kernelspec": {
   "display_name": "Python 3",
   "language": "python",
   "name": "python3"
  },
  "language_info": {
   "codemirror_mode": {
    "name": "ipython",
    "version": 3
   },
   "file_extension": ".py",
   "mimetype": "text/x-python",
   "name": "python",
   "nbconvert_exporter": "python",
   "pygments_lexer": "ipython3",
   "version": "3.6.9"
  }
 },
 "nbformat": 4,
 "nbformat_minor": 4
}

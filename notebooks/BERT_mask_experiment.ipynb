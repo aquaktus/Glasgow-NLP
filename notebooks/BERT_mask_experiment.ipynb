{
 "cells": [
  {
   "cell_type": "code",
   "execution_count": 1,
   "metadata": {},
   "outputs": [
    {
     "data": {
      "text/plain": [
       "'2.0.0-rc1'"
      ]
     },
     "execution_count": 1,
     "metadata": {},
     "output_type": "execute_result"
    }
   ],
   "source": [
    "import tensorflow as tf\n",
    "tf.__version__"
   ]
  },
  {
   "cell_type": "code",
   "execution_count": 5,
   "metadata": {},
   "outputs": [],
   "source": [
    "def _local_perm(inputs, targets, is_masked, perm_size, seq_len):\n",
    "  \"\"\"Samples a permutation of the factorization order.\n",
    "     Creates perm_mask and target_mask accordingly.\n",
    "  Args:\n",
    "    inputs: int64 Tensor in shape [seq_len], input ids.\n",
    "    targets: int64 Tensor in shape [seq_len], target ids.\n",
    "    is_masked: bool Tensor in shape [seq_len]. True means being selected for\n",
    "      partial prediction.\n",
    "    perm_size: the length of longest permutation. Could be set to be reuse_len.\n",
    "      Should not be larger than reuse_len or there will be data leaks.\n",
    "    seq_len: int, sequence length.\n",
    "  Returns:\n",
    "    perm_mask: float32 Tensor in shape [seq_len, seq_len] consisted of 0 and 1.\n",
    "    If perm_mask[i][j] == 1, it means the ith token (in original order) cannot\n",
    "    attend to the jth token\n",
    "    (in original order). This case will happen only when the ith token's\n",
    "    permutated position <= the jth token's permutated position,\n",
    "    and the jth token is masked or is func token. If perm_mask[i][j] == 0, it\n",
    "    means the ith token (in original order) can attend to the jth token\n",
    "    (in original order). Note that non-masked tokens can be attended by all\n",
    "    other tokens, which is different from the description in original paper.\n",
    "    new_targets: int64 Tensor in shape [seq_len], target token ids to be\n",
    "    predicted in XLNet.\n",
    "    In XLNet, target doesn't need to be shifted one position.\n",
    "    target_mask: float32 Tensor in shape [seq_len] consisted of 0 and 1. If\n",
    "    target_mask[i] == 1,\n",
    "    the ith token needs to be predicted and mask will be used as input. This\n",
    "    token will count for loss.\n",
    "    If target_mask[i] == 0, token (or [SEP], [CLS]) will be used as input. This\n",
    "    token will not count for loss.\n",
    "    inputs_k: int64 Tensor in shape [seq_len], input ids.\n",
    "    inputs_q: float32 Tensor in shape [seq_len], the same as target_mask.\n",
    "  \"\"\"\n",
    "\n",
    "  # Generate permutation indices\n",
    "  index = tf.range(seq_len, dtype=tf.int64)\n",
    "  index = tf.transpose(tf.reshape(index, [-1, perm_size]))\n",
    "  index = tf.random.shuffle(index)\n",
    "  index = tf.reshape(tf.transpose(index), [-1])\n",
    "\n",
    "  # `perm_mask` and `target_mask`\n",
    "  # non-functional tokens\n",
    "  non_func_tokens = tf.logical_not(\n",
    "      tf.logical_or(tf.equal(inputs, 0), tf.equal(inputs, 1)))\n",
    "\n",
    "  non_mask_tokens = tf.logical_and(tf.logical_not(is_masked), non_func_tokens)\n",
    "  masked_or_func_tokens = tf.logical_not(non_mask_tokens)\n",
    "\n",
    "  # Set the permutation indices of non-masked (& non-funcional) tokens to the\n",
    "  # smallest index (-1):\n",
    "  # (1) they can be seen by all other positions\n",
    "  # (2) they cannot see masked positions, so there won\"t be information leak\n",
    "  smallest_index = -tf.ones([seq_len], dtype=tf.int64)\n",
    "  rev_index = tf.where(non_mask_tokens, smallest_index, index)\n",
    "\n",
    "  # Create `target_mask`: non-funcional and masked tokens\n",
    "  # 1: use mask as input and have loss\n",
    "  # 0: use token (or [SEP], [CLS]) as input and do not have loss\n",
    "  target_tokens = tf.logical_and(masked_or_func_tokens, non_func_tokens)\n",
    "  target_mask = tf.cast(target_tokens, tf.float32)\n",
    "\n",
    "  # Create `perm_mask`\n",
    "  # `target_tokens` cannot see themselves\n",
    "  self_rev_index = tf.where(target_tokens, rev_index, rev_index + 1)\n",
    "\n",
    "  # 1: cannot attend if i <= j and j is not non-masked (masked_or_func_tokens)\n",
    "  # 0: can attend if i > j or j is non-masked\n",
    "  perm_mask = tf.logical_and(self_rev_index[:, None] <= rev_index[None, :],\n",
    "                             masked_or_func_tokens)\n",
    "  perm_mask = tf.cast(perm_mask, tf.float32)\n",
    "\n",
    "  # new target: [next token] for LM and [curr token] (self) for PLM\n",
    "  new_targets = tf.concat([inputs[0:1], targets[:-1]], axis=0)\n",
    "\n",
    "  # construct inputs_k\n",
    "  inputs_k = inputs\n",
    "\n",
    "  # construct inputs_q\n",
    "  inputs_q = target_mask\n",
    "\n",
    "  return perm_mask, new_targets, target_mask, inputs_k, inputs_q"
   ]
  },
  {
   "cell_type": "code",
   "execution_count": 8,
   "metadata": {},
   "outputs": [
    {
     "data": {
      "text/plain": [
       "(<tf.Tensor: id=142, shape=(6, 6), dtype=float32, numpy=\n",
       " array([[0., 1., 0., 1., 1., 0.],\n",
       "        [0., 1., 0., 1., 1., 0.],\n",
       "        [0., 1., 0., 1., 1., 0.],\n",
       "        [0., 0., 0., 0., 1., 0.],\n",
       "        [0., 0., 0., 0., 0., 0.],\n",
       "        [0., 1., 0., 1., 1., 0.]], dtype=float32)>,\n",
       " <tf.Tensor: id=146, shape=(6,), dtype=int32, numpy=array([2, 2, 3, 4, 5, 6], dtype=int32)>,\n",
       " <tf.Tensor: id=128, shape=(6,), dtype=float32, numpy=array([0., 1., 0., 0., 0., 0.], dtype=float32)>,\n",
       " [2, 3, 4, 5, 6, 7],\n",
       " <tf.Tensor: id=128, shape=(6,), dtype=float32, numpy=array([0., 1., 0., 0., 0., 0.], dtype=float32)>)"
      ]
     },
     "execution_count": 8,
     "metadata": {},
     "output_type": "execute_result"
    }
   ],
   "source": [
    "inputs = [2,3,4,5,6,7]\n",
    "targets = [2,3,4,5,6,7]\n",
    "is_masked = [False, True, False, False, True, False]\n",
    "perm_size = 2\n",
    "seq_len = 6\n",
    "_local_perm(inputs, targets, is_masked, perm_size, seq_len)"
   ]
  },
  {
   "cell_type": "code",
   "execution_count": null,
   "metadata": {},
   "outputs": [],
   "source": []
  }
 ],
 "metadata": {
  "kernelspec": {
   "display_name": "Python 3",
   "language": "python",
   "name": "python3"
  },
  "language_info": {
   "codemirror_mode": {
    "name": "ipython",
    "version": 3
   },
   "file_extension": ".py",
   "mimetype": "text/x-python",
   "name": "python",
   "nbconvert_exporter": "python",
   "pygments_lexer": "ipython3",
   "version": "3.6.8"
  }
 },
 "nbformat": 4,
 "nbformat_minor": 4
}

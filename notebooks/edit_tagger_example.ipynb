{
 "cells": [
  {
   "cell_type": "code",
   "execution_count": 2,
   "metadata": {},
   "outputs": [
    {
     "name": "stdout",
     "output_type": "stream",
     "text": [
      "The autoreload extension is already loaded. To reload it, use:\n",
      "  %reload_ext autoreload\n",
      "['K', 'I', 'K', 'K', 'R', 'K', 'I', 'I']\n",
      "(['K', 'K', 'K', 'R', 'K'], [2, 0, 0, 0, 2], ['<N>', '<N>', '<N>', 'e', '<N>'])\n",
      "['<sos>', '<gen>', '<gen>', 'print', '(', 'e', ')', '<gen>', '<gen>']\n",
      "(['K', 'D', 'R', 'K', 'K', 'K', 'K', 'R', 'R'], [0, 0, 0, 0, 0, 0, 0, 0, 0], ['<N>', '<N>', 'foo', '<N>', '<N>', '<N>', '<N>', 'foo', 'foo'])\n",
      "['<sos>', 'foo', 'print', '(', 'e', ')', 'foo', 'foo']\n"
     ]
    }
   ],
   "source": [
    "from utils.edit_tagger import build_matrix, single_step_edits, perform_edits, get_tags\n",
    "%load_ext autoreload\n",
    "%autoreload 2\n",
    "\n",
    "x = [\"<sos>\", \"print\", \"(\", \"r\", \")\"]\n",
    "y = [\"print\", \"(\", \"b\", \",\", \"a\", \")\", \".\", \"get\", \"(\", \")\"]\n",
    "y2 = [\"<sos>\", \"foo\", \"print\", \"(\",\"e\", \")\", \"foo\", \"foo\"]\n",
    "\n",
    "#, a).get()\n",
    "\n",
    "# The build_matrix function creates the levenstein distance matrix for the two lists\n",
    "matrix = build_matrix(x, y2)\n",
    "\n",
    "# The get_tags function instead navigates through the matrix to extract the tags\n",
    "# needed to go from one string to the other. The \"priority\" is K/R then I or D\n",
    "print(get_tags(matrix))\n",
    "\n",
    "edits = single_step_edits(x, y2, token_insertions=2)\n",
    "print(edits)\n",
    "\n",
    "x = perform_edits(x, edits)\n",
    "print(x)\n",
    "\n",
    "edits = single_step_edits(x, y2, token_insertions=2)\n",
    "print(edits)\n",
    "\n",
    "x = perform_edits(x, edits)\n",
    "print(x)"
   ]
  },
  {
   "cell_type": "code",
   "execution_count": 3,
   "metadata": {},
   "outputs": [
    {
     "data": {
      "text/plain": [
       "[3, 2, 3, 4, 0, 0, 3]"
      ]
     },
     "execution_count": 3,
     "metadata": {},
     "output_type": "execute_result"
    }
   ],
   "source": [
    "listzero = [1,0,0,2]\n",
    "a = [3 if x!=0 else 0 for x in listzero]\n",
    "a[1:1] = [2,3,4]\n",
    "a"
   ]
  },
  {
   "cell_type": "code",
   "execution_count": 5,
   "metadata": {},
   "outputs": [
    {
     "name": "stdout",
     "output_type": "stream",
     "text": [
      "print(foo)\n",
      "print(<gen>foo)<gen>\n",
      "print(<gen>(foo))\n",
      "print(get(foo))\n"
     ]
    }
   ],
   "source": [
    "s1 = [\"print\",\"(\",\"foo\",\")\"]\n",
    "s2 = [\"print\",\"(\",\"get\",\"(\",\"foo\",\")\",\")\"]\n",
    "\n",
    "print(\"\".join(s1))\n",
    "while s1 != s2:\n",
    "    edits = single_step_edits(s1, s2, token_insertions=1)\n",
    "    s1 = perform_edits(s1, edits)\n",
    "    print(\"\".join(s1))"
   ]
  },
  {
   "cell_type": "code",
   "execution_count": null,
   "metadata": {},
   "outputs": [],
   "source": []
  }
 ],
 "metadata": {
  "kernelspec": {
   "display_name": "Python 3",
   "language": "python",
   "name": "python3"
  },
  "language_info": {
   "codemirror_mode": {
    "name": "ipython",
    "version": 3
   },
   "file_extension": ".py",
   "mimetype": "text/x-python",
   "name": "python",
   "nbconvert_exporter": "python",
   "pygments_lexer": "ipython3",
   "version": "3.6.9"
  }
 },
 "nbformat": 4,
 "nbformat_minor": 4
}

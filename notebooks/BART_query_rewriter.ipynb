{
 "cells": [
  {
   "cell_type": "code",
   "execution_count": 64,
   "metadata": {},
   "outputs": [
    {
     "name": "stdout",
     "output_type": "stream",
     "text": [
      "The autoreload extension is already loaded. To reload it, use:\n",
      "  %reload_ext autoreload\n",
      "The line_profiler extension is already loaded. To reload it, use:\n",
      "  %reload_ext line_profiler\n"
     ]
    }
   ],
   "source": [
    "from src.RawDataLoaders import CAsT_RawDataLoader\n",
    "from src.models_and_transforms.text_transforms import Rewriter_Query_Resolver_Transform, Rewriter_Context_Query_Merge_Transform, \\\n",
    "                                                      BART_Numericalise_Transform, Rewriter_Context_Target_Transform, Query_Cleaner_Transform\n",
    "from src.models_and_transforms.complex_transforms import BART_Query_Rewriter_Transform, BART_Full_Conversational_Rewriter_Transform\n",
    "from src.pipe_datasets import CAsT_Query_ReWriting_Dataset\n",
    "from src.models_and_transforms.BART_models import BART_Query_ReWriter\n",
    "from src.trainers import Model_Trainer\n",
    "\n",
    "from transformers import BertTokenizer, BartTokenizer\n",
    "from pytorch_lightning import Trainer, Callback, seed_everything\n",
    "from pytorch_lightning.callbacks import ModelCheckpoint\n",
    "from pytorch_lightning.loggers import WandbLogger\n",
    "import torch\n",
    "from tqdm.auto import tqdm \n",
    "import  random\n",
    "import os\n",
    "import jsonlines\n",
    "import numpy as np\n",
    "%load_ext autoreload\n",
    "%autoreload 2\n",
    "%load_ext line_profiler"
   ]
  },
  {
   "cell_type": "code",
   "execution_count": 2,
   "metadata": {},
   "outputs": [
    {
     "data": {
      "text/plain": [
       "42"
      ]
     },
     "execution_count": 2,
     "metadata": {},
     "output_type": "execute_result"
    }
   ],
   "source": [
    "seed_everything(42)"
   ]
  },
  {
   "cell_type": "code",
   "execution_count": 44,
   "metadata": {},
   "outputs": [],
   "source": [
    "raw_data_loader = CAsT_RawDataLoader()\n",
    "get_query_fn = raw_data_loader.get_query\n",
    "get_doc_fn = raw_data_loader.get_doc"
   ]
  },
  {
   "cell_type": "code",
   "execution_count": 17,
   "metadata": {},
   "outputs": [],
   "source": [
    "train_raw_samples = raw_data_loader.get_topics(\"train\", ignore_missing_q_rels=True)"
   ]
  },
  {
   "cell_type": "code",
   "execution_count": 18,
   "metadata": {},
   "outputs": [
    {
     "data": {
      "text/plain": [
       "376"
      ]
     },
     "execution_count": 18,
     "metadata": {},
     "output_type": "execute_result"
    }
   ],
   "source": [
    "len(train_raw_samples)"
   ]
  },
  {
   "cell_type": "code",
   "execution_count": 6,
   "metadata": {},
   "outputs": [
    {
     "data": {
      "text/plain": [
       "[1]"
      ]
     },
     "execution_count": 6,
     "metadata": {},
     "output_type": "execute_result"
    }
   ],
   "source": [
    "[1,2,3][:1]"
   ]
  },
  {
   "cell_type": "code",
   "execution_count": 19,
   "metadata": {},
   "outputs": [],
   "source": [
    "train_samples = Rewriter_Query_Resolver_Transform(get_query_fn)(train_raw_samples)\n",
    "train_samples = Rewriter_Context_Query_Merge_Transform()(train_samples)\n",
    "train_samples = Rewriter_Context_Target_Transform()(train_samples)\n",
    "train_samples = BART_Numericalise_Transform(fields=[('input_text', 'input_ids'), ('target_text', 'target_ids')])(train_samples)"
   ]
  },
  {
   "cell_type": "code",
   "execution_count": 20,
   "metadata": {},
   "outputs": [
    {
     "data": {
      "application/vnd.jupyter.widget-view+json": {
       "model_id": "584d95dd5c534479b885419866827390",
       "version_major": 2,
       "version_minor": 0
      },
      "text/plain": [
       "HBox(children=(FloatProgress(value=0.0, max=1.0), HTML(value='')))"
      ]
     },
     "metadata": {},
     "output_type": "display_data"
    },
    {
     "name": "stdout",
     "output_type": "stream",
     "text": [
      "\n"
     ]
    }
   ],
   "source": [
    "train_dataset = CAsT_Query_ReWriting_Dataset(train_samples, get_query_fn, merge_mode=\"full_context_rewrite\")"
   ]
  },
  {
   "cell_type": "code",
   "execution_count": 10,
   "metadata": {
    "collapsed": true,
    "jupyter": {
     "outputs_hidden": true
    }
   },
   "outputs": [
    {
     "data": {
      "text/plain": [
       "{'prev_turns': ['31_1', '31_2', '31_3', '31_4'],\n",
       " 'q_id': '31_5',\n",
       " 'q_rel': ['MARCO_2509296'],\n",
       " 'unresolved_query': 'Can it spread to the throat?',\n",
       " 'previous_queries': ['What is throat cancer?',\n",
       "  'Is throat cancer treatable?',\n",
       "  'Tell me about lung cancer.',\n",
       "  \"What are lung cancer's symptoms?\"],\n",
       " 'resolved_query': 'Can lung cancer spread to the throat?',\n",
       " 'input_text': \"What is throat cancer? Is throat cancer treatable? Tell me about lung cancer. What are lung cancer's symptoms? query: Can it spread to the throat?\",\n",
       " 'target_text': \"What is throat cancer? Is throat cancer treatable? Tell me about lung cancer. What are lung cancer's symptoms? query: Can lung cancer spread to the throat?\",\n",
       " 'input_ids': [0,\n",
       "  2264,\n",
       "  16,\n",
       "  14599,\n",
       "  1668,\n",
       "  116,\n",
       "  1534,\n",
       "  14599,\n",
       "  1668,\n",
       "  3951,\n",
       "  868,\n",
       "  116,\n",
       "  11378,\n",
       "  162,\n",
       "  59,\n",
       "  10665,\n",
       "  1668,\n",
       "  4,\n",
       "  653,\n",
       "  32,\n",
       "  10665,\n",
       "  1668,\n",
       "  18,\n",
       "  5298,\n",
       "  116,\n",
       "  25860,\n",
       "  35,\n",
       "  2615,\n",
       "  24,\n",
       "  2504,\n",
       "  7,\n",
       "  5,\n",
       "  14599,\n",
       "  116,\n",
       "  2],\n",
       " 'target_ids': [0,\n",
       "  2264,\n",
       "  16,\n",
       "  14599,\n",
       "  1668,\n",
       "  116,\n",
       "  1534,\n",
       "  14599,\n",
       "  1668,\n",
       "  3951,\n",
       "  868,\n",
       "  116,\n",
       "  11378,\n",
       "  162,\n",
       "  59,\n",
       "  10665,\n",
       "  1668,\n",
       "  4,\n",
       "  653,\n",
       "  32,\n",
       "  10665,\n",
       "  1668,\n",
       "  18,\n",
       "  5298,\n",
       "  116,\n",
       "  25860,\n",
       "  35,\n",
       "  2615,\n",
       "  10665,\n",
       "  1668,\n",
       "  2504,\n",
       "  7,\n",
       "  5,\n",
       "  14599,\n",
       "  116,\n",
       "  2]}"
      ]
     },
     "execution_count": 10,
     "metadata": {},
     "output_type": "execute_result"
    }
   ],
   "source": [
    "train_dataset[4]"
   ]
  },
  {
   "cell_type": "code",
   "execution_count": 11,
   "metadata": {},
   "outputs": [],
   "source": [
    "train_dataloader = train_dataset.to_dataloader(16)"
   ]
  },
  {
   "cell_type": "code",
   "execution_count": 9,
   "metadata": {},
   "outputs": [],
   "source": [
    "batch = list(iter(train_dataloader))[17]"
   ]
  },
  {
   "cell_type": "code",
   "execution_count": 10,
   "metadata": {
    "collapsed": true,
    "jupyter": {
     "outputs_hidden": true
    }
   },
   "outputs": [
    {
     "data": {
      "text/plain": [
       "{'input_ids': tensor([[    0, 35438,   162,  ...,     1,     1,     1],\n",
       "         [    0, 35438,   162,  ...,     1,     1,     1],\n",
       "         [    0, 25860,    35,  ...,     1,     1,     1],\n",
       "         ...,\n",
       "         [    0,  2264,    16,  ...,     1,     1,     1],\n",
       "         [    0,  2264,    16,  ...,     1,     1,     1],\n",
       "         [    0,  2264,    16,  ...,     1,     1,     1]]),\n",
       " 'input_attention_mask': tensor([[1., 1., 1.,  ..., 0., 0., 0.],\n",
       "         [1., 1., 1.,  ..., 0., 0., 0.],\n",
       "         [1., 1., 1.,  ..., 0., 0., 0.],\n",
       "         ...,\n",
       "         [1., 1., 1.,  ..., 0., 0., 0.],\n",
       "         [1., 1., 1.,  ..., 0., 0., 0.],\n",
       "         [1., 1., 1.,  ..., 0., 0., 0.]]),\n",
       " 'decoder_input_ids': tensor([[    0, 35438,   162,  ...,     1,     1,     1],\n",
       "         [    0, 35438,   162,  ...,     1,     1,     1],\n",
       "         [    0, 25860,    35,  ...,     1,     1,     1],\n",
       "         ...,\n",
       "         [    0,  2264,    16,  ...,     1,     1,     1],\n",
       "         [    0,  2264,    16,  ...,     1,     1,     1],\n",
       "         [    0,  2264,    16,  ...,     1,     1,     1]]),\n",
       " 'decoder_target_ids': tensor([[35438,   162,    59,  ...,     1,     1,     1],\n",
       "         [35438,   162,    59,  ...,     1,     1,     1],\n",
       "         [25860,    35,  3394,  ...,     1,     1,     1],\n",
       "         ...,\n",
       "         [ 2264,    16,     5,  ...,     1,     1,     1],\n",
       "         [ 2264,    16,     5,  ...,     1,     1,     1],\n",
       "         [ 2264,    16,     5,  ...,     1,     1,     1]]),\n",
       " 'target_attention_mask': tensor([[1., 1., 1.,  ..., 0., 0., 0.],\n",
       "         [1., 1., 1.,  ..., 0., 0., 0.],\n",
       "         [1., 1., 1.,  ..., 0., 0., 0.],\n",
       "         ...,\n",
       "         [1., 1., 1.,  ..., 0., 0., 0.],\n",
       "         [1., 1., 1.,  ..., 0., 0., 0.],\n",
       "         [1., 1., 1.,  ..., 0., 0., 0.]])}"
      ]
     },
     "execution_count": 10,
     "metadata": {},
     "output_type": "execute_result"
    }
   ],
   "source": [
    "os.path.join"
   ]
  },
  {
   "cell_type": "code",
   "execution_count": 13,
   "metadata": {},
   "outputs": [
    {
     "data": {
      "application/vnd.jupyter.widget-view+json": {
       "model_id": "5c31916f1400429087bacc611ff9c45e",
       "version_major": 2,
       "version_minor": 0
      },
      "text/plain": [
       "HBox(children=(FloatProgress(value=0.0, max=1.0), HTML(value='')))"
      ]
     },
     "metadata": {},
     "output_type": "display_data"
    },
    {
     "name": "stdout",
     "output_type": "stream",
     "text": [
      "\n"
     ]
    }
   ],
   "source": [
    "val_raw_samples = raw_data_loader.get_topics(\"dev\", ignore_missing_q_rels=True)\n",
    "val_dataset = CAsT_Query_ReWriting_Dataset(val_raw_samples, get_query_fn, merge_mode=\"full_context_rewrite\")\n",
    "val_dataloader = val_dataset.to_dataloader(32)"
   ]
  },
  {
   "cell_type": "code",
   "execution_count": 14,
   "metadata": {},
   "outputs": [
    {
     "data": {
      "text/plain": [
       "103"
      ]
     },
     "execution_count": 14,
     "metadata": {},
     "output_type": "execute_result"
    }
   ],
   "source": [
    "len(val_dataset)"
   ]
  },
  {
   "cell_type": "code",
   "execution_count": 28,
   "metadata": {},
   "outputs": [
    {
     "name": "stderr",
     "output_type": "stream",
     "text": [
      "Some weights of BartForConditionalGeneration were not initialized from the model checkpoint at facebook/bart-large-cnn and are newly initialized: ['final_logits_bias']\n",
      "You should probably TRAIN this model on a down-stream task to be able to use it for predictions and inference.\n"
     ]
    }
   ],
   "source": [
    "model = BART_Query_ReWriter()"
   ]
  },
  {
   "cell_type": "code",
   "execution_count": 29,
   "metadata": {},
   "outputs": [],
   "source": [
    "checkpoint_callback = ModelCheckpoint(\n",
    "    filepath=os.path.join(os.getcwd(),\"saved_models/BART_Rewriter/\"),\n",
    "    save_top_k=3,\n",
    "    verbose=True,\n",
    "    monitor='val_loss',\n",
    "    mode='max',\n",
    "    prefix=''\n",
    ")"
   ]
  },
  {
   "cell_type": "code",
   "execution_count": 30,
   "metadata": {
    "collapsed": true,
    "jupyter": {
     "outputs_hidden": true
    }
   },
   "outputs": [
    {
     "name": "stderr",
     "output_type": "stream",
     "text": [
      "GPU available: True, used: True\n",
      "TPU available: False, using: 0 TPU cores\n",
      "CUDA_VISIBLE_DEVICES: [0]\n",
      "\n",
      "  | Name | Type                         | Params\n",
      "------------------------------------------------------\n",
      "0 | BART | BartForConditionalGeneration | 406 M \n",
      "/usr/local/lib/python3.6/dist-packages/pytorch_lightning/utilities/distributed.py:25: UserWarning: The dataloader, val dataloader 0, does not have many workers which may be a bottleneck. Consider increasing the value of the `num_workers` argument` (try 32 which is the number of cpus on this machine) in the `DataLoader` init to improve performance.\n",
      "  warnings.warn(*args, **kwargs)\n"
     ]
    },
    {
     "data": {
      "application/vnd.jupyter.widget-view+json": {
       "model_id": "",
       "version_major": 2,
       "version_minor": 0
      },
      "text/plain": [
       "HBox(children=(FloatProgress(value=1.0, bar_style='info', description='Validation sanity check', layout=Layout…"
      ]
     },
     "metadata": {},
     "output_type": "display_data"
    },
    {
     "name": "stdout",
     "output_type": "stream",
     "text": [
      "{'BLEU': 0.25714959565972084}\n",
      "-----EXAMPLE-0------\n",
      "Input Text: 'What are mammals? What are mammals' key characteristics? How many legs do mammals have? What is the largest mammal on land? What is the largest mammal in the world? What is the largest mammal in the UK? What about the largest mammal to ever walk the earth? Tell me about Blue whales. query: How much do they weigh?'\n",
      "      Pred: 'What are mammals? What are mammals' key characteristics? How many legs do mammals have? What is the largest mammal on land? What about the largest mammals to ever walk the earth? Tell me about Blue whales. How much do they weigh? What do they look like? How big are they?'\n",
      "    Target: ' How much do Blue whales weigh?'\n",
      "------------------\n",
      "-----EXAMPLE-1------\n",
      "Input Text: 'What are important literary elements? query: What is the difference between them and literary devices?'\n",
      "      Pred: ' What is the difference between them and literary devices? What are the differences between literary devices and literary elements in a novel? What is a literary device? What do you mean by a literary element? What does it mean to be a literary character?'\n",
      "    Target: ' What is the difference between literary elements and literary devices?'\n",
      "------------------\n",
      "-----EXAMPLE-2------\n",
      "Input Text: 'What do Spanish people do on Christmas day? What do Spanish people eat for Christmas dinner? What do Spanish people eat on Christmas eve? query: What is the Christmas Lottery?'\n",
      "      Pred: 'What do Spanish people do on Christmas day? What do they eat for Christmas dinner? What they eat on Christmas eve? What is the Christmas Lottery? And what do they do for Christmas on Christmas Eve? What are they like to do on the day after Christmas?'\n",
      "    Target: ' What is the Spanish Christmas Lottery?'\n",
      "------------------\n"
     ]
    },
    {
     "name": "stderr",
     "output_type": "stream",
     "text": [
      "/usr/local/lib/python3.6/dist-packages/pytorch_lightning/utilities/distributed.py:25: UserWarning: The dataloader, train dataloader, does not have many workers which may be a bottleneck. Consider increasing the value of the `num_workers` argument` (try 32 which is the number of cpus on this machine) in the `DataLoader` init to improve performance.\n",
      "  warnings.warn(*args, **kwargs)\n"
     ]
    },
    {
     "data": {
      "application/vnd.jupyter.widget-view+json": {
       "model_id": "7d5cdcaf9c4b4906b1c3a277d882883b",
       "version_major": 2,
       "version_minor": 0
      },
      "text/plain": [
       "HBox(children=(FloatProgress(value=1.0, bar_style='info', description='Training', layout=Layout(flex='2'), max…"
      ]
     },
     "metadata": {},
     "output_type": "display_data"
    },
    {
     "data": {
      "application/vnd.jupyter.widget-view+json": {
       "model_id": "",
       "version_major": 2,
       "version_minor": 0
      },
      "text/plain": [
       "HBox(children=(FloatProgress(value=1.0, bar_style='info', description='Validating', layout=Layout(flex='2'), m…"
      ]
     },
     "metadata": {},
     "output_type": "display_data"
    },
    {
     "name": "stderr",
     "output_type": "stream",
     "text": [
      "/usr/local/lib/python3.6/dist-packages/pytorch_lightning/utilities/distributed.py:25: RuntimeWarning: The metric you returned 0.3599902714572068 must be a `torch.Tensor` instance, checkpoint not saved HINT: what is the value of val_loss in validation_epoch_end()?\n",
      "  warnings.warn(*args, **kwargs)\n",
      "\n",
      "Epoch 00000: val_loss reached 0.35999 (best 0.35999), saving model to /nfs/phd_by_carlos/notebooks/saved_models/BART_Rewriter/epoch=0.ckpt as top 3\n"
     ]
    },
    {
     "name": "stdout",
     "output_type": "stream",
     "text": [
      "{'BLEU': 0.3599902714572068}\n",
      "-----EXAMPLE-0------\n",
      "Input Text: 'What are important literary elements? What is the difference between literary elements and literary devices? What is a literary genre? What are the most important literary genres? What is a trope? What are important examples of tropes in fantasy? What is the definition of allegory? What are some important modern uses of allegory? query: What are the different types of foreshadowing?'\n",
      "      Pred: 'What are important literary elements and literary devices? What is a literary genre? What are the most important literary genres? What's a trope and what are important examples of tropes in fantasy? How are the different types of foreshadowing used in fantasy novels? How is allegory defined and used in modern fiction?'\n",
      "    Target: ' What are the different types of foreshadowing?'\n",
      "------------------\n",
      "-----EXAMPLE-1------\n",
      "Input Text: 'What is taught in sociology? What is the main contribution of Auguste Comte to sociology? What is the role of positivism in sociology? query: What is Herbert Spencer known for?'\n",
      "      Pred: ' What is Herbert Spencer known for? Click here to read the full text of the questions and answers. For confidential support call the Samaritans in the UK on 08457 90 90 90, visit a local Samaritans branch or click here for details.'\n",
      "    Target: ' What is Herbert Spencer known for in sociology?'\n",
      "------------------\n",
      "-----EXAMPLE-2------\n",
      "Input Text: 'What is the keto diet? Why was keto diet originally developed? What is ketosis? query: What is paleo?'\n",
      "      Pred: ' What is paleo? How is keto different from the paleo diet and why was it developed? How does keto differ from the Paleo diet? What are ketosis and ketoosis?'\n",
      "    Target: ' What is paleo diet?'\n",
      "------------------\n"
     ]
    },
    {
     "data": {
      "application/vnd.jupyter.widget-view+json": {
       "model_id": "",
       "version_major": 2,
       "version_minor": 0
      },
      "text/plain": [
       "HBox(children=(FloatProgress(value=1.0, bar_style='info', description='Validating', layout=Layout(flex='2'), m…"
      ]
     },
     "metadata": {},
     "output_type": "display_data"
    },
    {
     "name": "stderr",
     "output_type": "stream",
     "text": [
      "/usr/local/lib/python3.6/dist-packages/pytorch_lightning/utilities/distributed.py:25: RuntimeWarning: The metric you returned 0.40798647741132643 must be a `torch.Tensor` instance, checkpoint not saved HINT: what is the value of val_loss in validation_epoch_end()?\n",
      "  warnings.warn(*args, **kwargs)\n",
      "\n",
      "Epoch 00001: val_loss reached 0.40799 (best 0.40799), saving model to /nfs/phd_by_carlos/notebooks/saved_models/BART_Rewriter/epoch=1.ckpt as top 3\n"
     ]
    },
    {
     "name": "stdout",
     "output_type": "stream",
     "text": [
      "{'BLEU': 0.40798647741132643}\n",
      "-----EXAMPLE-0------\n",
      "Input Text: 'What are the pros and cons of electric cars? Tell me more about Tesla the car company. Why did Elon Musk start Tesla? What Tesla car models are available? What is the best selling Tesla car model? What is unique about the Tesla Model 3? What are the safety features of Tesla Model 3? Why is Tesla building Gigafactories? query: What makes the batteries unique?'\n",
      "      Pred: ' What makes the batteries unique?'\n",
      "    Target: ' What makes the Tesla batteries unique?'\n",
      "------------------\n",
      "-----EXAMPLE-1------\n",
      "Input Text: 'Who is the most successful pirate of all time? Who is the most famous female pirate? query: Tell me more about Ching Shih.'\n",
      "      Pred: ' Tell me moreabout ChingShih.Who is theMost successful pirate? Who are the most famousfemale pirate? Question: Tellme more about Ching Shie.'\n",
      "    Target: ' Tell me more about Ching Shih.'\n",
      "------------------\n",
      "-----EXAMPLE-2------\n",
      "Input Text: 'What is taught in sociology? What is the main contribution of Auguste Comte to sociology? query: What is the role of positivism in it?'\n",
      "      Pred: ' What is the role of positivism in it? Have you ever considered yourself a sociologist? If so, what do you think the role of sociology is in the modern world?'\n",
      "    Target: ' What is the role of positivism in sociology?'\n",
      "------------------\n"
     ]
    },
    {
     "data": {
      "application/vnd.jupyter.widget-view+json": {
       "model_id": "",
       "version_major": 2,
       "version_minor": 0
      },
      "text/plain": [
       "HBox(children=(FloatProgress(value=1.0, bar_style='info', description='Validating', layout=Layout(flex='2'), m…"
      ]
     },
     "metadata": {},
     "output_type": "display_data"
    },
    {
     "name": "stderr",
     "output_type": "stream",
     "text": [
      "/usr/local/lib/python3.6/dist-packages/pytorch_lightning/utilities/distributed.py:25: RuntimeWarning: The metric you returned 0.42353821827189836 must be a `torch.Tensor` instance, checkpoint not saved HINT: what is the value of val_loss in validation_epoch_end()?\n",
      "  warnings.warn(*args, **kwargs)\n",
      "\n",
      "Epoch 00002: val_loss reached 0.42354 (best 0.42354), saving model to /nfs/phd_by_carlos/notebooks/saved_models/BART_Rewriter/epoch=2.ckpt as top 3\n"
     ]
    },
    {
     "name": "stdout",
     "output_type": "stream",
     "text": [
      "{'BLEU': 0.42353821827189836}\n",
      "-----EXAMPLE-0------\n",
      "Input Text: 'What's the difference between soup and stew? Is chilli a stew? Is goulash a stew? What are popular stews in France? How is cassoulet made? Tell me about feijoada and its significance. How is feijoada similar or different from cassoulet? query: Tell about Bigos stew.'\n",
      "      Pred: ' Tell about Bigos stew.'\n",
      "    Target: ' Tell about Bigos stew.'\n",
      "------------------\n",
      "-----EXAMPLE-1------\n",
      "Input Text: 'What are mammals? What are mammals' key characteristics? How many legs do mammals have? What is the largest mammal on land? What is the largest mammal in the world? What is the largest mammal in the UK? query: What about the largest to ever walk the earth?'\n",
      "      Pred: ' What about the largest to ever walk the earth?'\n",
      "    Target: ' What about the largest mammal to ever walk the earth?'\n",
      "------------------\n",
      "-----EXAMPLE-2------\n",
      "Input Text: 'Who is the most successful pirate of all time? Who is the most famous female pirate? Tell me more about Ching Shih. What were Ching Shih's code of laws? How did Ching Shih die? query: Who was Anne Bonny?'\n",
      "      Pred: ' Who was Anne Bonny?'\n",
      "    Target: ' Who was Anne Bonny?'\n",
      "------------------\n"
     ]
    },
    {
     "data": {
      "application/vnd.jupyter.widget-view+json": {
       "model_id": "",
       "version_major": 2,
       "version_minor": 0
      },
      "text/plain": [
       "HBox(children=(FloatProgress(value=1.0, bar_style='info', description='Validating', layout=Layout(flex='2'), m…"
      ]
     },
     "metadata": {},
     "output_type": "display_data"
    },
    {
     "name": "stderr",
     "output_type": "stream",
     "text": [
      "/usr/local/lib/python3.6/dist-packages/pytorch_lightning/utilities/distributed.py:25: RuntimeWarning: The metric you returned 0.4240712774151438 must be a `torch.Tensor` instance, checkpoint not saved HINT: what is the value of val_loss in validation_epoch_end()?\n",
      "  warnings.warn(*args, **kwargs)\n",
      "\n",
      "Epoch 00003: val_loss reached 0.42407 (best 0.42407), saving model to /nfs/phd_by_carlos/notebooks/saved_models/BART_Rewriter/epoch=3.ckpt as top 3\n"
     ]
    },
    {
     "name": "stdout",
     "output_type": "stream",
     "text": [
      "{'BLEU': 0.4240712774151438}\n",
      "-----EXAMPLE-0------\n",
      "Input Text: 'What are important literary elements? What is the difference between literary elements and literary devices? What is a literary genre? What are the most important literary genres? What is a trope? What are important examples of tropes in fantasy? What is the definition of allegory? query: What are some important modern uses?'\n",
      "      Pred: ' What are some important modern uses?'\n",
      "    Target: ' What are some important modern uses of allegory?'\n",
      "------------------\n",
      "-----EXAMPLE-1------\n",
      "Input Text: 'What's the difference between soup and stew? Is chilli a stew? query: How about goulash?'\n",
      "      Pred: ' How about goulash? What is a stew and what is a soup? What are the differences between chilli and soup? How do you know if chilli is in a soup or stew?'\n",
      "    Target: ' Is goulash a stew?'\n",
      "------------------\n",
      "-----EXAMPLE-2------\n",
      "Input Text: ' query: Who is the most successful pirate of all time?'\n",
      "      Pred: ' Who is the most successful pirate of all time? Have you ever been a pirate? If so, please tell us how you came to be a pirate. If not, please explain how you became a pirate in the form of a character. Have you been to a pirate's home? Please tell me how you got there.'\n",
      "    Target: ' Who is the most successful pirate of all time?'\n",
      "------------------\n"
     ]
    },
    {
     "data": {
      "application/vnd.jupyter.widget-view+json": {
       "model_id": "",
       "version_major": 2,
       "version_minor": 0
      },
      "text/plain": [
       "HBox(children=(FloatProgress(value=1.0, bar_style='info', description='Validating', layout=Layout(flex='2'), m…"
      ]
     },
     "metadata": {},
     "output_type": "display_data"
    },
    {
     "name": "stderr",
     "output_type": "stream",
     "text": [
      "/usr/local/lib/python3.6/dist-packages/pytorch_lightning/utilities/distributed.py:25: RuntimeWarning: The metric you returned 0.4411163190627699 must be a `torch.Tensor` instance, checkpoint not saved HINT: what is the value of val_loss in validation_epoch_end()?\n",
      "  warnings.warn(*args, **kwargs)\n",
      "\n",
      "Epoch 00004: val_loss reached 0.44112 (best 0.44112), saving model to /nfs/phd_by_carlos/notebooks/saved_models/BART_Rewriter/epoch=4.ckpt as top 3\n"
     ]
    },
    {
     "name": "stdout",
     "output_type": "stream",
     "text": [
      "{'BLEU': 0.4411163190627699}\n",
      "-----EXAMPLE-0------\n",
      "Input Text: 'What are mammals? What are mammals' key characteristics? query: How many legs do they have?'\n",
      "      Pred: ' How much hair do mammals have?\" query\": What are mammal's key characteristics?\"'\n",
      "    Target: ' How many legs do mammals have?'\n",
      "------------------\n",
      "-----EXAMPLE-1------\n",
      "Input Text: 'Why do turkey and Turkey share the same name? Where are turkeys from? What was the importance of turkey in native cultures? When and how were turkeys domesticated? Can turkeys fly? Why did Ben Franklin want turkey to be the national symbol? How did Ben Franklin cook turkey? query: Why is it eaten on Thanksgiving?'\n",
      "      Pred: ' Why is it eaten on Thanksgiving?'\n",
      "    Target: ' Why is turkey eaten on Thanksgiving?'\n",
      "------------------\n",
      "-----EXAMPLE-2------\n",
      "Input Text: 'What are mammals? What are mammals' key characteristics? How many legs do mammals have? What is the largest mammal on land? What is the largest mammal in the world? What is the largest mammal in the UK? What about the largest mammal to ever walk the earth? Tell me about Blue whales. How much do Blue whales weigh? Where do blue whales live? What do blue whales eat? query: Where can we see them?'\n",
      "      Pred: ' Where can we see blue whales? Tell me about Blue whales. How much do Blue whales weigh?'\n",
      "    Target: ' Where can we see blue whales?'\n",
      "------------------\n"
     ]
    },
    {
     "data": {
      "application/vnd.jupyter.widget-view+json": {
       "model_id": "",
       "version_major": 2,
       "version_minor": 0
      },
      "text/plain": [
       "HBox(children=(FloatProgress(value=1.0, bar_style='info', description='Validating', layout=Layout(flex='2'), m…"
      ]
     },
     "metadata": {},
     "output_type": "display_data"
    },
    {
     "name": "stderr",
     "output_type": "stream",
     "text": [
      "/usr/local/lib/python3.6/dist-packages/pytorch_lightning/utilities/distributed.py:25: RuntimeWarning: The metric you returned 0.44417834703098036 must be a `torch.Tensor` instance, checkpoint not saved HINT: what is the value of val_loss in validation_epoch_end()?\n",
      "  warnings.warn(*args, **kwargs)\n",
      "\n",
      "Epoch 00005: val_loss reached 0.44418 (best 0.44418), saving model to /nfs/phd_by_carlos/notebooks/saved_models/BART_Rewriter/epoch=5.ckpt as top 3\n"
     ]
    },
    {
     "name": "stdout",
     "output_type": "stream",
     "text": [
      "{'BLEU': 0.44417834703098036}\n",
      "-----EXAMPLE-0------\n",
      "Input Text: 'What are important literary elements? What is the difference between literary elements and literary devices? What is a literary genre? What are the most important literary genres? What is a trope? What are important examples of tropes in fantasy? What is the definition of allegory? query: What are some important modern uses?'\n",
      "      Pred: ' What are some important modern uses?'\n",
      "    Target: ' What are some important modern uses of allegory?'\n",
      "------------------\n",
      "-----EXAMPLE-1------\n",
      "Input Text: 'Who is the most successful pirate of all time? Who is the most famous female pirate? Tell me more about Ching Shih. What were Ching Shih's code of laws? How did Ching Shih die? Who was Anne Bonny? What was Anne Bonny famous for? Who was Anne Bonny married to? How did Calico Jack die? query: What happened to Anne?'\n",
      "      Pred: ' What happened to Anne?'\n",
      "    Target: ' What happened to Anne Bonny?'\n",
      "------------------\n",
      "-----EXAMPLE-2------\n",
      "Input Text: 'Why do turkey and Turkey share the same name? Where are turkeys from? What was the importance of turkey in native cultures? query: When and how were they domesticated?'\n",
      "      Pred: ' When and how were turkeys domesticated? turkey and turkey share the name \"Turkey\" where turkeys are from? Where turkeys come from? When turkeys were domesticated?\"'\n",
      "    Target: ' When and how were turkeys domesticated?'\n",
      "------------------\n"
     ]
    },
    {
     "data": {
      "application/vnd.jupyter.widget-view+json": {
       "model_id": "",
       "version_major": 2,
       "version_minor": 0
      },
      "text/plain": [
       "HBox(children=(FloatProgress(value=1.0, bar_style='info', description='Validating', layout=Layout(flex='2'), m…"
      ]
     },
     "metadata": {},
     "output_type": "display_data"
    },
    {
     "name": "stderr",
     "output_type": "stream",
     "text": [
      "/usr/local/lib/python3.6/dist-packages/pytorch_lightning/utilities/distributed.py:25: RuntimeWarning: The metric you returned 0.4585503915096958 must be a `torch.Tensor` instance, checkpoint not saved HINT: what is the value of val_loss in validation_epoch_end()?\n",
      "  warnings.warn(*args, **kwargs)\n",
      "\n",
      "Epoch 00006: val_loss reached 0.45855 (best 0.45855), saving model to /nfs/phd_by_carlos/notebooks/saved_models/BART_Rewriter/epoch=6.ckpt as top 3\n"
     ]
    },
    {
     "name": "stdout",
     "output_type": "stream",
     "text": [
      "{'BLEU': 0.4585503915096958}\n",
      "-----EXAMPLE-0------\n",
      "Input Text: 'What is the keto diet? Why was keto diet originally developed? What is ketosis? What is paleo diet? What do paleo diet and keto diet have in common? query: How are they different?'\n",
      "      Pred: ' How are they different?\" paleo diet\"? How are paleo diets different from keto diets?\"'\n",
      "    Target: ' How are paleo diet and keto diet different?'\n",
      "------------------\n",
      "-----EXAMPLE-1------\n",
      "Input Text: ' query: What is taught in sociology?'\n",
      "      Pred: ' What is taught in sociology? The answer is varied and varied. The answers range from \"soliciting\" to \"sociology\" The answers differ depending on the type of sociology being taught. The answer to the question is varied. What is being taught in Sociology?'\n",
      "    Target: ' What is taught in sociology?'\n",
      "------------------\n",
      "-----EXAMPLE-2------\n",
      "Input Text: 'What are the pros and cons of electric cars? Tell me more about Tesla the car company. Why did Elon Musk start Tesla? What Tesla car models are available? What is the best selling Tesla car model? What is unique about the Tesla Model 3? What are the safety features of Tesla Model 3? Why is Tesla building Gigafactories? What makes the Tesla batteries unique? How long can Tesla car batteries last? query: Tell me more about autopilot.'\n",
      "      Pred: ' Tellme more about autopilot.'\n",
      "    Target: ' Tell me more about autopilot in Tesla cars.'\n",
      "------------------\n"
     ]
    },
    {
     "data": {
      "application/vnd.jupyter.widget-view+json": {
       "model_id": "",
       "version_major": 2,
       "version_minor": 0
      },
      "text/plain": [
       "HBox(children=(FloatProgress(value=1.0, bar_style='info', description='Validating', layout=Layout(flex='2'), m…"
      ]
     },
     "metadata": {},
     "output_type": "display_data"
    },
    {
     "name": "stderr",
     "output_type": "stream",
     "text": [
      "/usr/local/lib/python3.6/dist-packages/pytorch_lightning/utilities/distributed.py:25: RuntimeWarning: The metric you returned 0.46294244141082214 must be a `torch.Tensor` instance, checkpoint not saved HINT: what is the value of val_loss in validation_epoch_end()?\n",
      "  warnings.warn(*args, **kwargs)\n",
      "\n",
      "Epoch 00007: val_loss reached 0.46294 (best 0.46294), saving model to /nfs/phd_by_carlos/notebooks/saved_models/BART_Rewriter/epoch=7.ckpt as top 3\n"
     ]
    },
    {
     "name": "stdout",
     "output_type": "stream",
     "text": [
      "{'BLEU': 0.46294244141082214}\n",
      "-----EXAMPLE-0------\n",
      "Input Text: 'What's the difference between soup and stew? Is chilli a stew? Is goulash a stew? What are popular stews in France? query: How is cassoulet made?'\n",
      "      Pred: ' How is cassoulet made?\" What's the  difference between soup and stew? What's the difference between soups and stews?\"'\n",
      "    Target: ' How is cassoulet made?'\n",
      "------------------\n",
      "-----EXAMPLE-1------\n",
      "Input Text: 'Who is the most successful pirate of all time? Who is the most famous female pirate? Tell me more about Ching Shih. What were Ching Shih's code of laws? query: How did she die?'\n",
      "      Pred: ' How did she die? Question: Where did Chingshih die?'\n",
      "    Target: ' How did Ching Shih die?'\n",
      "------------------\n",
      "-----EXAMPLE-2------\n",
      "Input Text: 'What do Spanish people do on Christmas day? What do Spanish people eat for Christmas dinner? What do Spanish people eat on Christmas eve? What is the Spanish Christmas Lottery? How does the Spanish Christmas Lottery drawing work? How are the Spanish Christmas Lottery tickets sold? query: What is Tió de Nadal?'\n",
      "      Pred: ' What is Tió de Nadal?'\n",
      "    Target: ' What is Tió de Nadal?'\n",
      "------------------\n"
     ]
    },
    {
     "data": {
      "application/vnd.jupyter.widget-view+json": {
       "model_id": "",
       "version_major": 2,
       "version_minor": 0
      },
      "text/plain": [
       "HBox(children=(FloatProgress(value=1.0, bar_style='info', description='Validating', layout=Layout(flex='2'), m…"
      ]
     },
     "metadata": {},
     "output_type": "display_data"
    },
    {
     "name": "stderr",
     "output_type": "stream",
     "text": [
      "/usr/local/lib/python3.6/dist-packages/pytorch_lightning/utilities/distributed.py:25: RuntimeWarning: The metric you returned 0.49945194492340134 must be a `torch.Tensor` instance, checkpoint not saved HINT: what is the value of val_loss in validation_epoch_end()?\n",
      "  warnings.warn(*args, **kwargs)\n",
      "\n",
      "Epoch 00008: val_loss reached 0.49945 (best 0.49945), saving model to /nfs/phd_by_carlos/notebooks/saved_models/BART_Rewriter/epoch=8.ckpt as top 3\n"
     ]
    },
    {
     "name": "stdout",
     "output_type": "stream",
     "text": [
      "{'BLEU': 0.49945194492340134}\n",
      "-----EXAMPLE-0------\n",
      "Input Text: 'What is the keto diet? Why was keto diet originally developed? query: What is ketosis?'\n",
      "      Pred: ' Where's the Ketosis?'\n",
      "    Target: ' What is ketosis?'\n",
      "------------------\n",
      "-----EXAMPLE-1------\n",
      "Input Text: 'What is the keto diet? query: Why was it original developed?'\n",
      "      Pred: ' Where's the original development?'\n",
      "    Target: ' Why was keto diet originally developed?'\n",
      "------------------\n",
      "-----EXAMPLE-2------\n",
      "Input Text: 'Why do turkey and Turkey share the same name? Where are turkeys from? What was the importance of turkey in native cultures? When and how were turkeys domesticated? query: Can they fly?'\n",
      "      Pred: ' Can turkeys fly? turkeys from Turkey?\", asks CNN's Peter Bergen.'\n",
      "    Target: ' Can turkeys fly?'\n",
      "------------------\n"
     ]
    },
    {
     "data": {
      "application/vnd.jupyter.widget-view+json": {
       "model_id": "",
       "version_major": 2,
       "version_minor": 0
      },
      "text/plain": [
       "HBox(children=(FloatProgress(value=1.0, bar_style='info', description='Validating', layout=Layout(flex='2'), m…"
      ]
     },
     "metadata": {},
     "output_type": "display_data"
    },
    {
     "name": "stderr",
     "output_type": "stream",
     "text": [
      "/usr/local/lib/python3.6/dist-packages/pytorch_lightning/utilities/distributed.py:25: RuntimeWarning: The metric you returned 0.4917093196543205 must be a `torch.Tensor` instance, checkpoint not saved HINT: what is the value of val_loss in validation_epoch_end()?\n",
      "  warnings.warn(*args, **kwargs)\n",
      "\n",
      "Epoch 00009: val_loss reached 0.49171 (best 0.49945), saving model to /nfs/phd_by_carlos/notebooks/saved_models/BART_Rewriter/epoch=9.ckpt as top 3\n"
     ]
    },
    {
     "name": "stdout",
     "output_type": "stream",
     "text": [
      "{'BLEU': 0.4917093196543205}\n",
      "-----EXAMPLE-0------\n",
      "Input Text: ' query: What are the pros and cons of electric cars?'\n",
      "      Pred: ' What are the pros and cons of electric cars? Questioned about the safety of electric vehicles in the U.S. The answers ranged from \"calls for help\" to \"no comment\" The answers were varied and varied, depending on who the question was aimed at.'\n",
      "    Target: ' What are the pros and cons of electric cars?'\n",
      "------------------\n",
      "-----EXAMPLE-1------\n",
      "Input Text: ' query: What were the purposes of the Lewis and Clark expedition?'\n",
      "      Pred: ' What were the purposes of the Lewis and Clark expedition? Questioned about the fate of the American explorers. The answers ranged from positive to negative, depending on who you asked. For confidential support call the Samaritans in the UK on 08457 90 90 90, visit a local Samaritans branch or click here for details.'\n",
      "    Target: ' What were the purposes of the Lewis and Clark expedition?'\n",
      "------------------\n",
      "-----EXAMPLE-2------\n",
      "Input Text: ' query: What do Spanish people do on Christmas day?'\n",
      "      Pred: ' What do Spanish people do on Christmas day? CNN.com readers weigh in. Do you know what Spanish people in Spain do onChristmas day? Send photos and videos to CNN iReporter@CNN.com. Send photos, videos of Christmas Day in Spain and send news stories.'\n",
      "    Target: ' What do Spanish people do on Christmas day?'\n",
      "------------------\n"
     ]
    },
    {
     "data": {
      "application/vnd.jupyter.widget-view+json": {
       "model_id": "",
       "version_major": 2,
       "version_minor": 0
      },
      "text/plain": [
       "HBox(children=(FloatProgress(value=1.0, bar_style='info', description='Validating', layout=Layout(flex='2'), m…"
      ]
     },
     "metadata": {},
     "output_type": "display_data"
    },
    {
     "name": "stderr",
     "output_type": "stream",
     "text": [
      "/usr/local/lib/python3.6/dist-packages/pytorch_lightning/utilities/distributed.py:25: RuntimeWarning: The metric you returned 0.49811878175149576 must be a `torch.Tensor` instance, checkpoint not saved HINT: what is the value of val_loss in validation_epoch_end()?\n",
      "  warnings.warn(*args, **kwargs)\n",
      "\n",
      "Epoch 00010: val_loss reached 0.49812 (best 0.49945), saving model to /nfs/phd_by_carlos/notebooks/saved_models/BART_Rewriter/epoch=10.ckpt as top 3\n"
     ]
    },
    {
     "name": "stdout",
     "output_type": "stream",
     "text": [
      "{'BLEU': 0.49811878175149576}\n",
      "-----EXAMPLE-0------\n",
      "Input Text: 'What do Spanish people do on Christmas day? What do Spanish people eat for Christmas dinner? What do Spanish people eat on Christmas eve? query: What is the Christmas Lottery?'\n",
      "      Pred: ' What is the Christmas Lottery? Spanish people eating Christmas dinner on Christmas Eve? What does Spanish people eat on Christmas  Eve?'\n",
      "    Target: ' What is the Spanish Christmas Lottery?'\n",
      "------------------\n",
      "-----EXAMPLE-1------\n",
      "Input Text: 'Who is the most successful pirate of all time? Who is the most famous female pirate? Tell me more about Ching Shih. What were Ching Shih's code of laws? How did Ching Shih die? Who was Anne Bonny? What was Anne Bonny famous for? query: Who was she married to?'\n",
      "      Pred: ' Who wasAnne Bonny married to?'\n",
      "    Target: ' Who was Anne Bonny married to?'\n",
      "------------------\n",
      "-----EXAMPLE-2------\n",
      "Input Text: 'What were the purposes of the Lewis and Clark expedition? What were important plants and animals Lewis and Clark discovered? What were the diplomatic objectives of the Lewis and Clark expedition? What were the Native American tribes that Lewis and Clark encountered? How did Sacagawea help Lewis and Clark? Did Lewis and Clark find the Northwest Passage? What was the purpose of Fort Mandan in the Lewis and Clark expedition? How did Lewis and Clark spend the next winter? What happened to Fort Clatsop? query: What was the impact of the expedition?'\n",
      "      Pred: ' What was the impact of the expedition?'\n",
      "    Target: ' What was the impact of the Lewis and Clark expedition?'\n",
      "------------------\n"
     ]
    },
    {
     "data": {
      "application/vnd.jupyter.widget-view+json": {
       "model_id": "",
       "version_major": 2,
       "version_minor": 0
      },
      "text/plain": [
       "HBox(children=(FloatProgress(value=1.0, bar_style='info', description='Validating', layout=Layout(flex='2'), m…"
      ]
     },
     "metadata": {},
     "output_type": "display_data"
    },
    {
     "name": "stderr",
     "output_type": "stream",
     "text": [
      "/usr/local/lib/python3.6/dist-packages/pytorch_lightning/utilities/distributed.py:25: RuntimeWarning: The metric you returned 0.5048028170455051 must be a `torch.Tensor` instance, checkpoint not saved HINT: what is the value of val_loss in validation_epoch_end()?\n",
      "  warnings.warn(*args, **kwargs)\n",
      "\n",
      "Epoch 00011: val_loss reached 0.50480 (best 0.50480), saving model to /nfs/phd_by_carlos/notebooks/saved_models/BART_Rewriter/epoch=11.ckpt as top 3\n"
     ]
    },
    {
     "name": "stdout",
     "output_type": "stream",
     "text": [
      "{'BLEU': 0.5048028170455051}\n",
      "-----EXAMPLE-0------\n",
      "Input Text: 'Who is the most successful pirate of all time? Who is the most famous female pirate? Tell me more about Ching Shih. What were Ching Shih's code of laws? How did Ching Shih die? Who was Anne Bonny? What was Anne Bonny famous for? query: Who was she married to?'\n",
      "      Pred: ' Who wasAnne Bonny married to?'\n",
      "    Target: ' Who was Anne Bonny married to?'\n",
      "------------------\n",
      "-----EXAMPLE-1------\n",
      "Input Text: 'What is the keto diet? Why was keto diet originally developed? What is ketosis? What is paleo diet? query: What do they have in common?'\n",
      "      Pred: ' Where do keto and paleo diets share the same characteristics?'\n",
      "    Target: ' What do paleo diet and keto diet have in common?'\n",
      "------------------\n",
      "-----EXAMPLE-2------\n",
      "Input Text: 'What are mammals? What are mammals' key characteristics? How many legs do mammals have? What is the largest mammal on land? What is the largest mammal in the world? What is the largest mammal in the UK? What about the largest mammal to ever walk the earth? Tell me about Blue whales. How much do Blue whales weigh? Where do blue whales live? What do blue whales eat? query: Where can we see them?'\n",
      "      Pred: ' Where can we see blue whales?'\n",
      "    Target: ' Where can we see blue whales?'\n",
      "------------------\n"
     ]
    },
    {
     "data": {
      "application/vnd.jupyter.widget-view+json": {
       "model_id": "",
       "version_major": 2,
       "version_minor": 0
      },
      "text/plain": [
       "HBox(children=(FloatProgress(value=1.0, bar_style='info', description='Validating', layout=Layout(flex='2'), m…"
      ]
     },
     "metadata": {},
     "output_type": "display_data"
    },
    {
     "name": "stderr",
     "output_type": "stream",
     "text": [
      "/usr/local/lib/python3.6/dist-packages/pytorch_lightning/utilities/distributed.py:25: RuntimeWarning: The metric you returned 0.5021435516105909 must be a `torch.Tensor` instance, checkpoint not saved HINT: what is the value of val_loss in validation_epoch_end()?\n",
      "  warnings.warn(*args, **kwargs)\n",
      "\n",
      "Epoch 00012: val_loss reached 0.50214 (best 0.50480), saving model to /nfs/phd_by_carlos/notebooks/saved_models/BART_Rewriter/epoch=12.ckpt as top 3\n"
     ]
    },
    {
     "name": "stdout",
     "output_type": "stream",
     "text": [
      "{'BLEU': 0.5021435516105909}\n",
      "-----EXAMPLE-0------\n",
      "Input Text: 'What is the keto diet? Why was keto diet originally developed? What is ketosis? What is paleo diet? query: What do they have in common?'\n",
      "      Pred: ' Where do keto and paleo diets share the same characteristics?'\n",
      "    Target: ' What do paleo diet and keto diet have in common?'\n",
      "------------------\n",
      "-----EXAMPLE-1------\n",
      "Input Text: 'What is the keto diet? Why was keto diet originally developed? What is ketosis? What is paleo diet? What do paleo diet and keto diet have in common? How are paleo diet and keto diet different? What is intermittent fasting? How is intermittent fasting related to keto? query: What is the 16/8 method?'\n",
      "      Pred: ' What is the 16/8 method?'\n",
      "    Target: ' What is the 16_8 method in intermittent fasting?'\n",
      "------------------\n",
      "-----EXAMPLE-2------\n",
      "Input Text: 'What's the difference between soup and stew? Is chilli a stew? Is goulash a stew? What are popular stews in France? How is cassoulet made? query: Tell me about feijoada and its significance.'\n",
      "      Pred: ' Tell me about feijoada and its significance in French culture, among others.'\n",
      "    Target: ' Tell me about feijoada and its significance.'\n",
      "------------------\n"
     ]
    },
    {
     "data": {
      "application/vnd.jupyter.widget-view+json": {
       "model_id": "",
       "version_major": 2,
       "version_minor": 0
      },
      "text/plain": [
       "HBox(children=(FloatProgress(value=1.0, bar_style='info', description='Validating', layout=Layout(flex='2'), m…"
      ]
     },
     "metadata": {},
     "output_type": "display_data"
    },
    {
     "name": "stderr",
     "output_type": "stream",
     "text": [
      "/usr/local/lib/python3.6/dist-packages/pytorch_lightning/utilities/distributed.py:25: RuntimeWarning: The metric you returned 0.506286590983694 must be a `torch.Tensor` instance, checkpoint not saved HINT: what is the value of val_loss in validation_epoch_end()?\n",
      "  warnings.warn(*args, **kwargs)\n",
      "\n",
      "Epoch 00013: val_loss reached 0.50629 (best 0.50629), saving model to /nfs/phd_by_carlos/notebooks/saved_models/BART_Rewriter/epoch=13.ckpt as top 3\n"
     ]
    },
    {
     "name": "stdout",
     "output_type": "stream",
     "text": [
      "{'BLEU': 0.506286590983694}\n",
      "-----EXAMPLE-0------\n",
      "Input Text: 'What is the keto diet? Why was keto diet originally developed? What is ketosis? query: What is paleo?'\n",
      "      Pred: ''\n",
      "    Target: ' What is paleo diet?'\n",
      "------------------\n",
      "-----EXAMPLE-1------\n",
      "Input Text: ' query: What are mammals?'\n",
      "      Pred: ' What are mammals? The answer: The animals of the world. The response: \"The animals of Earth.\" The response:\"What are mammals?\" The reply: The mammals of the Earth.\"The response:\"The mammals of Earth,\" the answer: \"the animals of humans\"'\n",
      "    Target: ' What are mammals?'\n",
      "------------------\n",
      "-----EXAMPLE-2------\n",
      "Input Text: 'What are mammals? What are mammals' key characteristics? How many legs do mammals have? What is the largest mammal on land? What is the largest mammal in the world? query: What about in the UK?'\n",
      "      Pred: ' What about in the UK? The \"Mammal Question\": What are the key characteristics of mammals?'\n",
      "    Target: ' What is the largest mammal in the UK?'\n",
      "------------------\n"
     ]
    },
    {
     "data": {
      "application/vnd.jupyter.widget-view+json": {
       "model_id": "",
       "version_major": 2,
       "version_minor": 0
      },
      "text/plain": [
       "HBox(children=(FloatProgress(value=1.0, bar_style='info', description='Validating', layout=Layout(flex='2'), m…"
      ]
     },
     "metadata": {},
     "output_type": "display_data"
    },
    {
     "name": "stderr",
     "output_type": "stream",
     "text": [
      "/usr/local/lib/python3.6/dist-packages/pytorch_lightning/utilities/distributed.py:25: RuntimeWarning: The metric you returned 0.49575580790819124 must be a `torch.Tensor` instance, checkpoint not saved HINT: what is the value of val_loss in validation_epoch_end()?\n",
      "  warnings.warn(*args, **kwargs)\n",
      "\n",
      "Epoch 00014: val_loss  was not in top 3\n"
     ]
    },
    {
     "name": "stdout",
     "output_type": "stream",
     "text": [
      "{'BLEU': 0.49575580790819124}\n",
      "-----EXAMPLE-0------\n",
      "Input Text: 'What are important literary elements? What is the difference between literary elements and literary devices? What is a literary genre? What are the most important literary genres? What is a trope? query: What are important examples in fantasy?'\n",
      "      Pred: ' What are important examples in fantasy in fantasy? \"What is the literary genre of a fictional character?\"'\n",
      "    Target: ' What are important examples of tropes in fantasy?'\n",
      "------------------\n",
      "-----EXAMPLE-1------\n",
      "Input Text: 'What is taught in sociology? What is the main contribution of Auguste Comte to sociology? What is the role of positivism in sociology? What is Herbert Spencer known for in sociology? How is Herbert Spencer's work related to Comte? query: What is the functionalist theory?'\n",
      "      Pred: ' What's the functionalist theory?'\n",
      "    Target: ' What is the functionalist theory in sociology?'\n",
      "------------------\n",
      "-----EXAMPLE-2------\n",
      "Input Text: ' query: What's the difference between soup and stew?'\n",
      "      Pred: ' What's the difference between soup and stew? The answer: \"Soup and stew\" The response: \"It's a soup and a stew.\" The reply: \"Yes, soup and Stew\" The reply:\"Soup or stew?\" The response:\"S soup or stew\"? The answer:\"Yes\"'\n",
      "    Target: ' What's the difference between soup and stew?'\n",
      "------------------\n"
     ]
    },
    {
     "data": {
      "application/vnd.jupyter.widget-view+json": {
       "model_id": "",
       "version_major": 2,
       "version_minor": 0
      },
      "text/plain": [
       "HBox(children=(FloatProgress(value=1.0, bar_style='info', description='Validating', layout=Layout(flex='2'), m…"
      ]
     },
     "metadata": {},
     "output_type": "display_data"
    },
    {
     "name": "stderr",
     "output_type": "stream",
     "text": [
      "/usr/local/lib/python3.6/dist-packages/pytorch_lightning/utilities/distributed.py:25: RuntimeWarning: The metric you returned 0.5063027902500169 must be a `torch.Tensor` instance, checkpoint not saved HINT: what is the value of val_loss in validation_epoch_end()?\n",
      "  warnings.warn(*args, **kwargs)\n",
      "\n",
      "Epoch 00015: val_loss reached 0.50630 (best 0.50630), saving model to /nfs/phd_by_carlos/notebooks/saved_models/BART_Rewriter/epoch=15.ckpt as top 3\n"
     ]
    },
    {
     "name": "stdout",
     "output_type": "stream",
     "text": [
      "{'BLEU': 0.5063027902500169}\n",
      "-----EXAMPLE-0------\n",
      "Input Text: 'What is taught in sociology? What is the main contribution of Auguste Comte to sociology? What is the role of positivism in sociology? What is Herbert Spencer known for in sociology? query: How is his work related to Comte?'\n",
      "      Pred: ' How is Spencer's work related to Comte. What is taught in Sociology and how is sociology taught?'\n",
      "    Target: ' How is Herbert Spencer's work related to Comte?'\n",
      "------------------\n",
      "-----EXAMPLE-1------\n",
      "Input Text: 'What are mammals? What are mammals' key characteristics? How many legs do mammals have? What is the largest mammal on land? What is the largest mammal in the world? query: What about in the UK?'\n",
      "      Pred: ' What about in the UK? rev McIntosh: What are the key characteristics of mammals?'\n",
      "    Target: ' What is the largest mammal in the UK?'\n",
      "------------------\n",
      "-----EXAMPLE-2------\n",
      "Input Text: 'Who is the most successful pirate of all time? Who is the most famous female pirate? Tell me more about Ching Shih. What were Ching Shih's code of laws? How did Ching Shih die? Who was Anne Bonny? What was Anne Bonny famous for? Who was Anne Bonny married to? query: How did Calico Jack die?'\n",
      "      Pred: ' How did Calico Jack die?'\n",
      "    Target: ' How did Calico Jack die?'\n",
      "------------------\n"
     ]
    },
    {
     "data": {
      "application/vnd.jupyter.widget-view+json": {
       "model_id": "",
       "version_major": 2,
       "version_minor": 0
      },
      "text/plain": [
       "HBox(children=(FloatProgress(value=1.0, bar_style='info', description='Validating', layout=Layout(flex='2'), m…"
      ]
     },
     "metadata": {},
     "output_type": "display_data"
    },
    {
     "name": "stderr",
     "output_type": "stream",
     "text": [
      "/usr/local/lib/python3.6/dist-packages/pytorch_lightning/utilities/distributed.py:25: RuntimeWarning: The metric you returned 0.4974695069626414 must be a `torch.Tensor` instance, checkpoint not saved HINT: what is the value of val_loss in validation_epoch_end()?\n",
      "  warnings.warn(*args, **kwargs)\n",
      "\n",
      "Epoch 00016: val_loss  was not in top 3\n"
     ]
    },
    {
     "name": "stdout",
     "output_type": "stream",
     "text": [
      "{'BLEU': 0.4974695069626414}\n",
      "-----EXAMPLE-0------\n",
      "Input Text: 'What do Spanish people do on Christmas day? What do Spanish people eat for Christmas dinner? What do Spanish people eat on Christmas eve? What is the Spanish Christmas Lottery? How does the Spanish Christmas Lottery drawing work? query: How are the tickets sold?'\n",
      "      Pred: ' How are the tickets sold in Spain?'\n",
      "    Target: ' How are the Spanish Christmas Lottery tickets sold?'\n",
      "------------------\n",
      "-----EXAMPLE-1------\n",
      "Input Text: 'Why do turkey and Turkey share the same name? Where are turkeys from? What was the importance of turkey in native cultures? When and how were turkeys domesticated? Can turkeys fly? query: Why did Ben Franklin want it to be the national symbol?'\n",
      "      Pred: ' Why did Ben Franklin want turkey to be the national symbol?'\n",
      "    Target: ' Why did Ben Franklin want turkey to be the national symbol?'\n",
      "------------------\n",
      "-----EXAMPLE-2------\n",
      "Input Text: 'Who is the most successful pirate of all time? Who is the most famous female pirate? Tell me more about Ching Shih. What were Ching Shih's code of laws? How did Ching Shih die? Who was Anne Bonny? What was Anne Bonny famous for? Who was Anne Bonny married to? query: How did Calico Jack die?'\n",
      "      Pred: ' How did Calico Jack die?'\n",
      "    Target: ' How did Calico Jack die?'\n",
      "------------------\n"
     ]
    },
    {
     "data": {
      "application/vnd.jupyter.widget-view+json": {
       "model_id": "",
       "version_major": 2,
       "version_minor": 0
      },
      "text/plain": [
       "HBox(children=(FloatProgress(value=1.0, bar_style='info', description='Validating', layout=Layout(flex='2'), m…"
      ]
     },
     "metadata": {},
     "output_type": "display_data"
    },
    {
     "name": "stderr",
     "output_type": "stream",
     "text": [
      "/usr/local/lib/python3.6/dist-packages/pytorch_lightning/utilities/distributed.py:25: RuntimeWarning: The metric you returned 0.5080553126169516 must be a `torch.Tensor` instance, checkpoint not saved HINT: what is the value of val_loss in validation_epoch_end()?\n",
      "  warnings.warn(*args, **kwargs)\n",
      "\n",
      "Epoch 00017: val_loss reached 0.50806 (best 0.50806), saving model to /nfs/phd_by_carlos/notebooks/saved_models/BART_Rewriter/epoch=17.ckpt as top 3\n"
     ]
    },
    {
     "name": "stdout",
     "output_type": "stream",
     "text": [
      "{'BLEU': 0.5080553126169516}\n",
      "-----EXAMPLE-0------\n",
      "Input Text: 'Who is the most successful pirate of all time? Who is the most famous female pirate? Tell me more about Ching Shih. What were Ching Shih's code of laws? query: How did she die?'\n",
      "      Pred: ' How did ChingShih die? The mystery of Ching shih's death.'\n",
      "    Target: ' How did Ching Shih die?'\n",
      "------------------\n",
      "-----EXAMPLE-1------\n",
      "Input Text: 'What is the keto diet? Why was keto diet originally developed? What is ketosis? What is paleo diet? What do paleo diet and keto diet have in common? How are paleo diet and keto diet different? What is intermittent fasting? query: How is it related to keto?'\n",
      "      Pred: ' How is intermittent fasting related to keto?'\n",
      "    Target: ' How is intermittent fasting related to keto?'\n",
      "------------------\n",
      "-----EXAMPLE-2------\n",
      "Input Text: 'What are important literary elements? query: What is the difference between them and literary devices?'\n",
      "      Pred: ' What is the difference between literary devices and literary devices? Hannah Anderson: What are the literary elements in \"The Lord's Prayer\" The American novel \"The Godfather\" among other works of fiction. Hannah Anderson's fictional novel \"Lord of the Flies\" among others.'\n",
      "    Target: ' What is the difference between literary elements and literary devices?'\n",
      "------------------\n"
     ]
    },
    {
     "data": {
      "application/vnd.jupyter.widget-view+json": {
       "model_id": "",
       "version_major": 2,
       "version_minor": 0
      },
      "text/plain": [
       "HBox(children=(FloatProgress(value=1.0, bar_style='info', description='Validating', layout=Layout(flex='2'), m…"
      ]
     },
     "metadata": {},
     "output_type": "display_data"
    },
    {
     "name": "stderr",
     "output_type": "stream",
     "text": [
      "/usr/local/lib/python3.6/dist-packages/pytorch_lightning/utilities/distributed.py:25: RuntimeWarning: The metric you returned 0.5035225655684932 must be a `torch.Tensor` instance, checkpoint not saved HINT: what is the value of val_loss in validation_epoch_end()?\n",
      "  warnings.warn(*args, **kwargs)\n",
      "\n",
      "Epoch 00018: val_loss  was not in top 3\n"
     ]
    },
    {
     "name": "stdout",
     "output_type": "stream",
     "text": [
      "{'BLEU': 0.5035225655684932}\n",
      "-----EXAMPLE-0------\n",
      "Input Text: 'Why do turkey and Turkey share the same name? Where are turkeys from? What was the importance of turkey in native cultures? When and how were turkeys domesticated? Can turkeys fly? Why did Ben Franklin want turkey to be the national symbol? query: How did he cook it?'\n",
      "      Pred: ' How did Franklin cook turkey?'\n",
      "    Target: ' How did Ben Franklin cook turkey?'\n",
      "------------------\n",
      "-----EXAMPLE-1------\n",
      "Input Text: 'What were the purposes of the Lewis and Clark expedition? What were important plants and animals Lewis and Clark discovered? What were the diplomatic objectives of the Lewis and Clark expedition? What were the Native American tribes that Lewis and Clark encountered? How did Sacagawea help Lewis and Clark? Did Lewis and Clark find the Northwest Passage? What was the purpose of Fort Mandan in the Lewis and Clark expedition? How did Lewis and Clark spend the next winter? What happened to Fort Clatsop? query: What was the impact of the expedition?'\n",
      "      Pred: ' What was the impact of the expedition?'\n",
      "    Target: ' What was the impact of the Lewis and Clark expedition?'\n",
      "------------------\n",
      "-----EXAMPLE-2------\n",
      "Input Text: 'What are mammals? What are mammals' key characteristics? How many legs do mammals have? What is the largest mammal on land? What is the largest mammal in the world? What is the largest mammal in the UK? What about the largest mammal to ever walk the earth? Tell me about Blue whales. How much do Blue whales weigh? query: Where do they live?'\n",
      "      Pred: ' Where do Blue whale live?'\n",
      "    Target: ' Where do blue whales live?'\n",
      "------------------\n"
     ]
    },
    {
     "data": {
      "application/vnd.jupyter.widget-view+json": {
       "model_id": "",
       "version_major": 2,
       "version_minor": 0
      },
      "text/plain": [
       "HBox(children=(FloatProgress(value=1.0, bar_style='info', description='Validating', layout=Layout(flex='2'), m…"
      ]
     },
     "metadata": {},
     "output_type": "display_data"
    },
    {
     "name": "stderr",
     "output_type": "stream",
     "text": [
      "/usr/local/lib/python3.6/dist-packages/pytorch_lightning/utilities/distributed.py:25: RuntimeWarning: The metric you returned 0.5079458051384673 must be a `torch.Tensor` instance, checkpoint not saved HINT: what is the value of val_loss in validation_epoch_end()?\n",
      "  warnings.warn(*args, **kwargs)\n",
      "\n",
      "Epoch 00019: val_loss reached 0.50795 (best 0.50806), saving model to /nfs/phd_by_carlos/notebooks/saved_models/BART_Rewriter/epoch=19.ckpt as top 3\n"
     ]
    },
    {
     "name": "stdout",
     "output_type": "stream",
     "text": [
      "{'BLEU': 0.5079458051384673}\n",
      "-----EXAMPLE-0------\n",
      "Input Text: 'What are important literary elements? What is the difference between literary elements and literary devices? What is a literary genre? What are the most important literary genres? What is a trope? What are important examples of tropes in fantasy? What is the definition of allegory? query: What are some important modern uses?'\n",
      "      Pred: ' What are some important modern literary devices' modern uses?'\n",
      "    Target: ' What are some important modern uses of allegory?'\n",
      "------------------\n",
      "-----EXAMPLE-1------\n",
      "Input Text: 'Why do turkey and Turkey share the same name? Where are turkeys from? What was the importance of turkey in native cultures? When and how were turkeys domesticated? Can turkeys fly? Why did Ben Franklin want turkey to be the national symbol? How did Ben Franklin cook turkey? Why is turkey eaten on Thanksgiving? query: How did it become traditional for Christmas dinner in Britain? '\n",
      "      Pred: ' How did turkey become traditional for Christmas dinner in Britain?'\n",
      "    Target: ' How did turkeys become traditional for Christmas dinner in Britain?'\n",
      "------------------\n",
      "-----EXAMPLE-2------\n",
      "Input Text: ' query: Why do turkey and Turkey share the same name?'\n",
      "      Pred: ' Why do turkey and Turkey share the same name? The Answer: It's a sign of respect and love for the dead. The answer: It may be a sign that the dead are dead or alive. The response: What's the name of the dead body?'\n",
      "    Target: ' Why do turkey and Turkey share the same name?'\n",
      "------------------\n"
     ]
    },
    {
     "data": {
      "application/vnd.jupyter.widget-view+json": {
       "model_id": "",
       "version_major": 2,
       "version_minor": 0
      },
      "text/plain": [
       "HBox(children=(FloatProgress(value=1.0, bar_style='info', description='Validating', layout=Layout(flex='2'), m…"
      ]
     },
     "metadata": {},
     "output_type": "display_data"
    },
    {
     "name": "stderr",
     "output_type": "stream",
     "text": [
      "/usr/local/lib/python3.6/dist-packages/pytorch_lightning/utilities/distributed.py:25: RuntimeWarning: The metric you returned 0.5030887843972177 must be a `torch.Tensor` instance, checkpoint not saved HINT: what is the value of val_loss in validation_epoch_end()?\n",
      "  warnings.warn(*args, **kwargs)\n",
      "\n",
      "Epoch 00020: val_loss  was not in top 3\n"
     ]
    },
    {
     "name": "stdout",
     "output_type": "stream",
     "text": [
      "{'BLEU': 0.5030887843972177}\n",
      "-----EXAMPLE-0------\n",
      "Input Text: 'What are the pros and cons of electric cars? Tell me more about Tesla the car company. Why did Elon Musk start Tesla? What Tesla car models are available? What is the best selling Tesla car model? query: What is unique about the Model 3?'\n",
      "      Pred: ' What is unique about the Model 3? The \"spuriousuriousroadameenda'\n",
      "    Target: ' What is unique about the Tesla Model 3?'\n",
      "------------------\n",
      "-----EXAMPLE-1------\n",
      "Input Text: 'What are the pros and cons of electric cars? Tell me more about Tesla the car company. query: Why did Elon Musk start it?'\n",
      "      Pred: ' Why did Elon Musk start Tesla the cars company? Questions from readers in the U.S., Europe, and the Middle East. Have a story to tell about electric cars in the United States?'\n",
      "    Target: ' Why did Elon Musk start Tesla?'\n",
      "------------------\n",
      "-----EXAMPLE-2------\n",
      "Input Text: 'What do Spanish people do on Christmas day? What do Spanish people eat for Christmas dinner? What do Spanish people eat on Christmas eve? query: What is the Christmas Lottery?'\n",
      "      Pred: ' What is the Christmas Lottery in Spain, the Spanish people eating on Christmas Eve? The Spanish people in Spain eat Christmas dinner on Christmas Day?'\n",
      "    Target: ' What is the Spanish Christmas Lottery?'\n",
      "------------------\n"
     ]
    },
    {
     "data": {
      "application/vnd.jupyter.widget-view+json": {
       "model_id": "",
       "version_major": 2,
       "version_minor": 0
      },
      "text/plain": [
       "HBox(children=(FloatProgress(value=1.0, bar_style='info', description='Validating', layout=Layout(flex='2'), m…"
      ]
     },
     "metadata": {},
     "output_type": "display_data"
    },
    {
     "name": "stderr",
     "output_type": "stream",
     "text": [
      "/usr/local/lib/python3.6/dist-packages/pytorch_lightning/utilities/distributed.py:25: RuntimeWarning: The metric you returned 0.503201308426452 must be a `torch.Tensor` instance, checkpoint not saved HINT: what is the value of val_loss in validation_epoch_end()?\n",
      "  warnings.warn(*args, **kwargs)\n",
      "\n",
      "Epoch 00021: val_loss  was not in top 3\n"
     ]
    },
    {
     "name": "stdout",
     "output_type": "stream",
     "text": [
      "{'BLEU': 0.503201308426452}\n",
      "-----EXAMPLE-0------\n",
      "Input Text: ' query: What's the difference between soup and stew?'\n",
      "      Pred: ' What's the difference between soup and stew? The answer: \"Soup and stew\" The response: \"The soup is a stew.\" The reply: \"It's a soup and a stew?\" The answers: \"Yes, soup and Stew\" The responses: \"No, soup or stew?\"'\n",
      "    Target: ' What's the difference between soup and stew?'\n",
      "------------------\n",
      "-----EXAMPLE-1------\n",
      "Input Text: 'Why do turkey and Turkey share the same name? Where are turkeys from? What was the importance of turkey in native cultures? query: When and how were they domesticated?'\n",
      "      Pred: ' When and how were turkeys domesticated? turkeys in native culture in ancient times. When did turkeys become domesticated in the Middle Ages?'\n",
      "    Target: ' When and how were turkeys domesticated?'\n",
      "------------------\n",
      "-----EXAMPLE-2------\n",
      "Input Text: 'What are mammals? What are mammals' key characteristics? How many legs do mammals have? What is the largest mammal on land? query: What is the largest in the world?'\n",
      "      Pred: ' What isThe largest mammal in the world? The \"spuriousuriousameroadenda The'\n",
      "    Target: ' What is the largest mammal in the world?'\n",
      "------------------\n"
     ]
    },
    {
     "data": {
      "application/vnd.jupyter.widget-view+json": {
       "model_id": "",
       "version_major": 2,
       "version_minor": 0
      },
      "text/plain": [
       "HBox(children=(FloatProgress(value=1.0, bar_style='info', description='Validating', layout=Layout(flex='2'), m…"
      ]
     },
     "metadata": {},
     "output_type": "display_data"
    },
    {
     "name": "stderr",
     "output_type": "stream",
     "text": [
      "/usr/local/lib/python3.6/dist-packages/pytorch_lightning/utilities/distributed.py:25: RuntimeWarning: The metric you returned 0.4928244631964762 must be a `torch.Tensor` instance, checkpoint not saved HINT: what is the value of val_loss in validation_epoch_end()?\n",
      "  warnings.warn(*args, **kwargs)\n",
      "\n",
      "Epoch 00022: val_loss  was not in top 3\n"
     ]
    },
    {
     "name": "stdout",
     "output_type": "stream",
     "text": [
      "{'BLEU': 0.4928244631964762}\n",
      "-----EXAMPLE-0------\n",
      "Input Text: 'What is taught in sociology? query: What is the main contribution of Auguste Comte?'\n",
      "      Pred: ' What is the main contribution of Auguste Comte? The focus of 'Sociology' in the U.S., the focus of \"Sociosexuality\" in the UK. The focus on sociology in sociology is the focus on the role of the social elite in society.'\n",
      "    Target: ' What is the main contribution of Auguste Comte to sociology?'\n",
      "------------------\n",
      "-----EXAMPLE-1------\n",
      "Input Text: 'Who is the most successful pirate of all time? Who is the most famous female pirate? Tell me more about Ching Shih. What were Ching Shih's code of laws? query: How did she die?'\n",
      "      Pred: ' How did ChingShih die? The focus of this article.'\n",
      "    Target: ' How did Ching Shih die?'\n",
      "------------------\n",
      "-----EXAMPLE-2------\n",
      "Input Text: 'What is the keto diet? Why was keto diet originally developed? What is ketosis? What is paleo diet? What do paleo diet and keto diet have in common? query: How are they different?'\n",
      "      Pred: ' How are paleo diets and ketos diet different from each other?'\n",
      "    Target: ' How are paleo diet and keto diet different?'\n",
      "------------------\n"
     ]
    },
    {
     "data": {
      "application/vnd.jupyter.widget-view+json": {
       "model_id": "",
       "version_major": 2,
       "version_minor": 0
      },
      "text/plain": [
       "HBox(children=(FloatProgress(value=1.0, bar_style='info', description='Validating', layout=Layout(flex='2'), m…"
      ]
     },
     "metadata": {},
     "output_type": "display_data"
    },
    {
     "name": "stderr",
     "output_type": "stream",
     "text": [
      "/usr/local/lib/python3.6/dist-packages/pytorch_lightning/utilities/distributed.py:25: RuntimeWarning: The metric you returned 0.49992905318073866 must be a `torch.Tensor` instance, checkpoint not saved HINT: what is the value of val_loss in validation_epoch_end()?\n",
      "  warnings.warn(*args, **kwargs)\n",
      "\n",
      "Epoch 00023: val_loss  was not in top 3\n"
     ]
    },
    {
     "name": "stdout",
     "output_type": "stream",
     "text": [
      "{'BLEU': 0.49992905318073866}\n",
      "-----EXAMPLE-0------\n",
      "Input Text: 'What were the purposes of the Lewis and Clark expedition? What were important plants and animals Lewis and Clark discovered? What were the diplomatic objectives of the Lewis and Clark expedition? What were the Native American tribes that Lewis and Clark encountered? How did Sacagawea help Lewis and Clark? query: Did they find the Northwest Passage?'\n",
      "      Pred: ' Did they find the Northwest Passage?'\n",
      "    Target: ' Did Lewis and Clark find the Northwest Passage?'\n",
      "------------------\n",
      "-----EXAMPLE-1------\n",
      "Input Text: ' query: What were the purposes of the Lewis and Clark expedition?'\n",
      "      Pred: ' What were the purposes of the Lewis and Clark expedition? The focus of the search in the U.S., among other places in the world. What are the aims and aims of the expedition for the Lewis and Clark expedition in the United States? The answers from the search for Lewis Clark's Lewis and Clark expedition?'\n",
      "    Target: ' What were the purposes of the Lewis and Clark expedition?'\n",
      "------------------\n",
      "-----EXAMPLE-2------\n",
      "Input Text: ' query: What were the purposes of the Lewis and Clark expedition?'\n",
      "      Pred: ' What were the purposes of the Lewis and Clark expedition? The focus of the search in the U.S., among other places in the world. What are the aims and aims of the expedition for the Lewis and Clark expedition in the United States? The answers from the search for Lewis Clark's Lewis and Clark expedition?'\n",
      "    Target: ' What were the purposes of the Lewis and Clark expedition?'\n",
      "------------------\n"
     ]
    },
    {
     "data": {
      "application/vnd.jupyter.widget-view+json": {
       "model_id": "",
       "version_major": 2,
       "version_minor": 0
      },
      "text/plain": [
       "HBox(children=(FloatProgress(value=1.0, bar_style='info', description='Validating', layout=Layout(flex='2'), m…"
      ]
     },
     "metadata": {},
     "output_type": "display_data"
    },
    {
     "name": "stderr",
     "output_type": "stream",
     "text": [
      "/usr/local/lib/python3.6/dist-packages/pytorch_lightning/utilities/distributed.py:25: RuntimeWarning: The metric you returned 0.5160451027534548 must be a `torch.Tensor` instance, checkpoint not saved HINT: what is the value of val_loss in validation_epoch_end()?\n",
      "  warnings.warn(*args, **kwargs)\n",
      "\n",
      "Epoch 00024: val_loss reached 0.51605 (best 0.51605), saving model to /nfs/phd_by_carlos/notebooks/saved_models/BART_Rewriter/epoch=24.ckpt as top 3\n"
     ]
    },
    {
     "name": "stdout",
     "output_type": "stream",
     "text": [
      "{'BLEU': 0.5160451027534548}\n",
      "-----EXAMPLE-0------\n",
      "Input Text: 'What are the pros and cons of electric cars? Tell me more about Tesla the car company. query: Why did Elon Musk start it?'\n",
      "      Pred: ' Why did Elon Musk start Tesla car company? The focus of the interview with CNN's David Acheson in the U.S.: Are electric cars the future of motor vehicles?'\n",
      "    Target: ' Why did Elon Musk start Tesla?'\n",
      "------------------\n",
      "-----EXAMPLE-1------\n",
      "Input Text: 'What is taught in sociology? What is the main contribution of Auguste Comte to sociology? What is the role of positivism in sociology? What is Herbert Spencer known for in sociology? How is Herbert Spencer's work related to Comte? What is the functionalist theory in sociology? What is the main criticism of functionalist theory in sociology? query: How does it compare to conflict theory?'\n",
      "      Pred: ' How does functionalist theories compare to conflict theory?'\n",
      "    Target: ' How does functionalist theory compare to conflict theory?'\n",
      "------------------\n",
      "-----EXAMPLE-2------\n",
      "Input Text: 'Who is the most successful pirate of all time? Who is the most famous female pirate? Tell me more about Ching Shih. What were Ching Shih's code of laws? How did Ching Shih die? Who was Anne Bonny? What was Anne Bonny famous for? Who was Anne Bonny married to? How did Calico Jack die? query: What happened to Anne?'\n",
      "      Pred: ' What happened to Anne Bonney?'\n",
      "    Target: ' What happened to Anne Bonny?'\n",
      "------------------\n"
     ]
    },
    {
     "data": {
      "application/vnd.jupyter.widget-view+json": {
       "model_id": "",
       "version_major": 2,
       "version_minor": 0
      },
      "text/plain": [
       "HBox(children=(FloatProgress(value=1.0, bar_style='info', description='Validating', layout=Layout(flex='2'), m…"
      ]
     },
     "metadata": {},
     "output_type": "display_data"
    },
    {
     "name": "stderr",
     "output_type": "stream",
     "text": [
      "/usr/local/lib/python3.6/dist-packages/pytorch_lightning/utilities/distributed.py:25: RuntimeWarning: The metric you returned 0.5271026753882043 must be a `torch.Tensor` instance, checkpoint not saved HINT: what is the value of val_loss in validation_epoch_end()?\n",
      "  warnings.warn(*args, **kwargs)\n",
      "\n",
      "Epoch 00025: val_loss reached 0.52710 (best 0.52710), saving model to /nfs/phd_by_carlos/notebooks/saved_models/BART_Rewriter/epoch=25.ckpt as top 3\n"
     ]
    },
    {
     "name": "stdout",
     "output_type": "stream",
     "text": [
      "{'BLEU': 0.5271026753882043}\n",
      "-----EXAMPLE-0------\n",
      "Input Text: 'What are important literary elements? What is the difference between literary elements and literary devices? What is a literary genre? What are the most important literary genres? What is a trope? query: What are important examples in fantasy?'\n",
      "      Pred: ' What are important examples of literary devices in fantasy? The restroad!\", among others.'\n",
      "    Target: ' What are important examples of tropes in fantasy?'\n",
      "------------------\n",
      "-----EXAMPLE-1------\n",
      "Input Text: 'What are mammals? What are mammals' key characteristics? How many legs do mammals have? What is the largest mammal on land? What is the largest mammal in the world? What is the largest mammal in the UK? What about the largest mammal to ever walk the earth? query: Tell me about Blue whales. '\n",
      "      Pred: ' Tell me about Blue whales.'\n",
      "    Target: ' Tell me about Blue whales.'\n",
      "------------------\n",
      "-----EXAMPLE-2------\n",
      "Input Text: 'What is the keto diet? Why was keto diet originally developed? What is ketosis? What is paleo diet? What do paleo diet and keto diet have in common? How are paleo diet and keto diet different? What is intermittent fasting? How is intermittent fasting related to keto? What is the 16_8 method in intermittent fasting? query: What is the best for weight loss?'\n",
      "      Pred: ' What is the best for weight loss?'\n",
      "    Target: ' What is the best method for weight loss?'\n",
      "------------------\n"
     ]
    },
    {
     "data": {
      "application/vnd.jupyter.widget-view+json": {
       "model_id": "",
       "version_major": 2,
       "version_minor": 0
      },
      "text/plain": [
       "HBox(children=(FloatProgress(value=1.0, bar_style='info', description='Validating', layout=Layout(flex='2'), m…"
      ]
     },
     "metadata": {},
     "output_type": "display_data"
    },
    {
     "name": "stderr",
     "output_type": "stream",
     "text": [
      "/usr/local/lib/python3.6/dist-packages/pytorch_lightning/utilities/distributed.py:25: RuntimeWarning: The metric you returned 0.5212954187389618 must be a `torch.Tensor` instance, checkpoint not saved HINT: what is the value of val_loss in validation_epoch_end()?\n",
      "  warnings.warn(*args, **kwargs)\n",
      "\n",
      "Epoch 00026: val_loss reached 0.52130 (best 0.52710), saving model to /nfs/phd_by_carlos/notebooks/saved_models/BART_Rewriter/epoch=26.ckpt as top 3\n"
     ]
    },
    {
     "name": "stdout",
     "output_type": "stream",
     "text": [
      "{'BLEU': 0.5212954187389618}\n",
      "-----EXAMPLE-0------\n",
      "Input Text: 'What is taught in sociology? What is the main contribution of Auguste Comte to sociology? What is the role of positivism in sociology? What is Herbert Spencer known for in sociology? query: How is his work related to Comte?'\n",
      "      Pred: ' How is Spencer's work related to Comte? The focus on sociology in the U.S.'\n",
      "    Target: ' How is Herbert Spencer's work related to Comte?'\n",
      "------------------\n",
      "-----EXAMPLE-1------\n",
      "Input Text: 'What were the purposes of the Lewis and Clark expedition? query: What were important plants and animals they discovered?'\n",
      "      Pred: ' What were important plants and animals they discovered? TheroadameRegistration'shulhuenseenda moves from the Lewis and Clark expedition in the U.S.''\n",
      "    Target: ' What were important plants and animals Lewis and Clark discovered?'\n",
      "------------------\n",
      "-----EXAMPLE-2------\n",
      "Input Text: 'What is taught in sociology? What is the main contribution of Auguste Comte to sociology? What is the role of positivism in sociology? What is Herbert Spencer known for in sociology? How is Herbert Spencer's work related to Comte? What is the functionalist theory in sociology? What is the main criticism of functionalist theory in sociology? query: How does it compare to conflict theory?'\n",
      "      Pred: ' How does functionalist theories compare to conflict theory?'\n",
      "    Target: ' How does functionalist theory compare to conflict theory?'\n",
      "------------------\n"
     ]
    },
    {
     "data": {
      "application/vnd.jupyter.widget-view+json": {
       "model_id": "",
       "version_major": 2,
       "version_minor": 0
      },
      "text/plain": [
       "HBox(children=(FloatProgress(value=1.0, bar_style='info', description='Validating', layout=Layout(flex='2'), m…"
      ]
     },
     "metadata": {},
     "output_type": "display_data"
    },
    {
     "name": "stderr",
     "output_type": "stream",
     "text": [
      "/usr/local/lib/python3.6/dist-packages/pytorch_lightning/utilities/distributed.py:25: RuntimeWarning: The metric you returned 0.5260441348900755 must be a `torch.Tensor` instance, checkpoint not saved HINT: what is the value of val_loss in validation_epoch_end()?\n",
      "  warnings.warn(*args, **kwargs)\n",
      "\n",
      "Epoch 00027: val_loss reached 0.52604 (best 0.52710), saving model to /nfs/phd_by_carlos/notebooks/saved_models/BART_Rewriter/epoch=27.ckpt as top 3\n"
     ]
    },
    {
     "name": "stdout",
     "output_type": "stream",
     "text": [
      "{'BLEU': 0.5260441348900755}\n",
      "-----EXAMPLE-0------\n",
      "Input Text: 'Who is the most successful pirate of all time? Who is the most famous female pirate? Tell me more about Ching Shih. What were Ching Shih's code of laws? How did Ching Shih die? Who was Anne Bonny? What was Anne Bonny famous for? Who was Anne Bonny married to? How did Calico Jack die? query: What happened to Anne?'\n",
      "      Pred: ' What happened to AnneBonNY?'\n",
      "    Target: ' What happened to Anne Bonny?'\n",
      "------------------\n",
      "-----EXAMPLE-1------\n",
      "Input Text: 'What are the pros and cons of electric cars? query: Tell me more about Tesla.'\n",
      "      Pred: ' Tell me more about Tesla. Theroad st 'gRegistrationemMagicendaulhuep istg among other electric cars''\n",
      "    Target: ' Tell me more about Tesla the car company.'\n",
      "------------------\n",
      "-----EXAMPLE-2------\n",
      "Input Text: ' query: What were the purposes of the Lewis and Clark expedition?'\n",
      "      Pred: ' What were the purposes of the Lewis and Clark expedition? The focus of the search in the U.S., among other places in the world. What are the aims and aims of the expedition in the United States? The search for the Lewis and Clark expedition in America?'\n",
      "    Target: ' What were the purposes of the Lewis and Clark expedition?'\n",
      "------------------\n"
     ]
    },
    {
     "data": {
      "application/vnd.jupyter.widget-view+json": {
       "model_id": "",
       "version_major": 2,
       "version_minor": 0
      },
      "text/plain": [
       "HBox(children=(FloatProgress(value=1.0, bar_style='info', description='Validating', layout=Layout(flex='2'), m…"
      ]
     },
     "metadata": {},
     "output_type": "display_data"
    },
    {
     "name": "stderr",
     "output_type": "stream",
     "text": [
      "/usr/local/lib/python3.6/dist-packages/pytorch_lightning/utilities/distributed.py:25: RuntimeWarning: The metric you returned 0.5362586090925081 must be a `torch.Tensor` instance, checkpoint not saved HINT: what is the value of val_loss in validation_epoch_end()?\n",
      "  warnings.warn(*args, **kwargs)\n",
      "\n",
      "Epoch 00028: val_loss reached 0.53626 (best 0.53626), saving model to /nfs/phd_by_carlos/notebooks/saved_models/BART_Rewriter/epoch=28.ckpt as top 3\n"
     ]
    },
    {
     "name": "stdout",
     "output_type": "stream",
     "text": [
      "{'BLEU': 0.5362586090925081}\n",
      "-----EXAMPLE-0------\n",
      "Input Text: 'What is the keto diet? Why was keto diet originally developed? What is ketosis? What is paleo diet? What do paleo diet and keto diet have in common? How are paleo diet and keto diet different? What is intermittent fasting? How is intermittent fasting related to keto? query: What is the 16/8 method?'\n",
      "      Pred: ' What is the 16/8 method?'\n",
      "    Target: ' What is the 16_8 method in intermittent fasting?'\n",
      "------------------\n",
      "-----EXAMPLE-1------\n",
      "Input Text: 'Why do turkey and Turkey share the same name? Where are turkeys from? What was the importance of turkey in native cultures? When and how were turkeys domesticated? Can turkeys fly? Why did Ben Franklin want turkey to be the national symbol? How did Ben Franklin cook turkey? Why is turkey eaten on Thanksgiving? query: How did it become traditional for Christmas dinner in Britain? '\n",
      "      Pred: ' How did turkey become traditional for Christmas dinner in Britain?'\n",
      "    Target: ' How did turkeys become traditional for Christmas dinner in Britain?'\n",
      "------------------\n",
      "-----EXAMPLE-2------\n",
      "Input Text: 'What's the difference between soup and stew? query: Is chilli a stew?'\n",
      "      Pred: ' Is chilli a stew? The Answer: Is soup or stew in the U.S., the Answer: Soup or stew? When the answer is \"Soup or Stew,\" the answer: \"Stick or stew?\"'\n",
      "    Target: ' Is chilli a stew?'\n",
      "------------------\n"
     ]
    },
    {
     "data": {
      "application/vnd.jupyter.widget-view+json": {
       "model_id": "",
       "version_major": 2,
       "version_minor": 0
      },
      "text/plain": [
       "HBox(children=(FloatProgress(value=1.0, bar_style='info', description='Validating', layout=Layout(flex='2'), m…"
      ]
     },
     "metadata": {},
     "output_type": "display_data"
    },
    {
     "name": "stderr",
     "output_type": "stream",
     "text": [
      "/usr/local/lib/python3.6/dist-packages/pytorch_lightning/utilities/distributed.py:25: RuntimeWarning: The metric you returned 0.5465303204859746 must be a `torch.Tensor` instance, checkpoint not saved HINT: what is the value of val_loss in validation_epoch_end()?\n",
      "  warnings.warn(*args, **kwargs)\n",
      "\n",
      "Epoch 00029: val_loss reached 0.54653 (best 0.54653), saving model to /nfs/phd_by_carlos/notebooks/saved_models/BART_Rewriter/epoch=29.ckpt as top 3\n"
     ]
    },
    {
     "name": "stdout",
     "output_type": "stream",
     "text": [
      "{'BLEU': 0.5465303204859746}\n",
      "-----EXAMPLE-0------\n",
      "Input Text: 'What are the pros and cons of electric cars? Tell me more about Tesla the car company. Why did Elon Musk start Tesla? What Tesla car models are available? What is the best selling Tesla car model? What is unique about the Tesla Model 3? What are the safety features of Tesla Model 3? Why is Tesla building Gigafactories? What makes the Tesla batteries unique? query: How long can they last?'\n",
      "      Pred: ' How long can the batteries of Tesla cars last?'\n",
      "    Target: ' How long can Tesla car batteries last?'\n",
      "------------------\n",
      "-----EXAMPLE-1------\n",
      "Input Text: ' query: What are the pros and cons of electric cars?'\n",
      "      Pred: ' What are the pros and cons of electric cars? The focus of the search: Are electric cars in the U.S. viable options for electric cars or are there other ways of making electric cars available to the public? The 'groademRegistrationend!\",'\n",
      "    Target: ' What are the pros and cons of electric cars?'\n",
      "------------------\n",
      "-----EXAMPLE-2------\n",
      "Input Text: 'What are important literary elements? What is the difference between literary elements and literary devices? What is a literary genre? What are the most important literary genres? query: What is a trope?'\n",
      "      Pred: ' What is a trope? revulhu Theendaroad!\", among others.'\n",
      "    Target: ' What is a trope?'\n",
      "------------------\n"
     ]
    },
    {
     "data": {
      "application/vnd.jupyter.widget-view+json": {
       "model_id": "",
       "version_major": 2,
       "version_minor": 0
      },
      "text/plain": [
       "HBox(children=(FloatProgress(value=1.0, bar_style='info', description='Validating', layout=Layout(flex='2'), m…"
      ]
     },
     "metadata": {},
     "output_type": "display_data"
    },
    {
     "name": "stderr",
     "output_type": "stream",
     "text": [
      "/usr/local/lib/python3.6/dist-packages/pytorch_lightning/utilities/distributed.py:25: RuntimeWarning: The metric you returned 0.5529969733624677 must be a `torch.Tensor` instance, checkpoint not saved HINT: what is the value of val_loss in validation_epoch_end()?\n",
      "  warnings.warn(*args, **kwargs)\n",
      "\n",
      "Epoch 00030: val_loss reached 0.55300 (best 0.55300), saving model to /nfs/phd_by_carlos/notebooks/saved_models/BART_Rewriter/epoch=30.ckpt as top 3\n"
     ]
    },
    {
     "name": "stdout",
     "output_type": "stream",
     "text": [
      "{'BLEU': 0.5529969733624677}\n",
      "-----EXAMPLE-0------\n",
      "Input Text: 'What were the purposes of the Lewis and Clark expedition? What were important plants and animals Lewis and Clark discovered? What were the diplomatic objectives of the Lewis and Clark expedition? query: What were the Native American tribes that they encountered?'\n",
      "      Pred: ' What were the Native American tribes that the Lewis and Clark encountered on their Lewis expedition?'\n",
      "    Target: ' What were the Native American tribes that Lewis and Clark encountered?'\n",
      "------------------\n",
      "-----EXAMPLE-1------\n",
      "Input Text: 'Who is the most successful pirate of all time? Who is the most famous female pirate? Tell me more about Ching Shih. What were Ching Shih's code of laws? How did Ching Shih die? Who was Anne Bonny? What was Anne Bonny famous for? Who was Anne Bonny married to? How did Calico Jack die? query: What happened to Anne?'\n",
      "      Pred: ' What happened to AnneBonNY?'\n",
      "    Target: ' What happened to Anne Bonny?'\n",
      "------------------\n",
      "-----EXAMPLE-2------\n",
      "Input Text: 'Why do turkey and Turkey share the same name? query: Where are turkeys from?'\n",
      "      Pred: ' Where are turkeys from? turkeys in the U.S. The Answer: Where do turkeys share the name Turkey and Turkey in the United Arab Emirates? Turkishroad 'Where are turkey and Turkey?\"'\n",
      "    Target: ' Where are turkeys from?'\n",
      "------------------\n"
     ]
    },
    {
     "data": {
      "application/vnd.jupyter.widget-view+json": {
       "model_id": "",
       "version_major": 2,
       "version_minor": 0
      },
      "text/plain": [
       "HBox(children=(FloatProgress(value=1.0, bar_style='info', description='Validating', layout=Layout(flex='2'), m…"
      ]
     },
     "metadata": {},
     "output_type": "display_data"
    },
    {
     "name": "stderr",
     "output_type": "stream",
     "text": [
      "/usr/local/lib/python3.6/dist-packages/pytorch_lightning/utilities/distributed.py:25: RuntimeWarning: The metric you returned 0.5521220540890043 must be a `torch.Tensor` instance, checkpoint not saved HINT: what is the value of val_loss in validation_epoch_end()?\n",
      "  warnings.warn(*args, **kwargs)\n",
      "\n",
      "Epoch 00031: val_loss reached 0.55212 (best 0.55300), saving model to /nfs/phd_by_carlos/notebooks/saved_models/BART_Rewriter/epoch=31.ckpt as top 3\n"
     ]
    },
    {
     "name": "stdout",
     "output_type": "stream",
     "text": [
      "{'BLEU': 0.5521220540890043}\n",
      "-----EXAMPLE-0------\n",
      "Input Text: 'What's the difference between soup and stew? Is chilli a stew? Is goulash a stew? What are popular stews in France? How is cassoulet made? Tell me about feijoada and its significance. How is feijoada similar or different from cassoulet? Tell about Bigos stew. query: Why is it important?'\n",
      "      Pred: ' Why is Bigos Stew important?'\n",
      "    Target: ' Why is Bigos stew important?'\n",
      "------------------\n",
      "-----EXAMPLE-1------\n",
      "Input Text: ' query: What's the difference between soup and stew?'\n",
      "      Pred: ' What's the difference between soup and stew? revroadpmwikisy415Registration'stenseangaemepend \"sterebitlegend among other names\"'\n",
      "    Target: ' What's the difference between soup and stew?'\n",
      "------------------\n",
      "-----EXAMPLE-2------\n",
      "Input Text: 'Who is the most successful pirate of all time? Who is the most famous female pirate? Tell me more about Ching Shih. What were Ching Shih's code of laws? How did Ching Shih die? Who was Anne Bonny? What was Anne Bonny famous for? query: Who was she married to?'\n",
      "      Pred: ' Who wasAnne Bonny married to?'\n",
      "    Target: ' Who was Anne Bonny married to?'\n",
      "------------------\n"
     ]
    },
    {
     "data": {
      "application/vnd.jupyter.widget-view+json": {
       "model_id": "",
       "version_major": 2,
       "version_minor": 0
      },
      "text/plain": [
       "HBox(children=(FloatProgress(value=1.0, bar_style='info', description='Validating', layout=Layout(flex='2'), m…"
      ]
     },
     "metadata": {},
     "output_type": "display_data"
    },
    {
     "name": "stderr",
     "output_type": "stream",
     "text": [
      "/usr/local/lib/python3.6/dist-packages/pytorch_lightning/utilities/distributed.py:25: RuntimeWarning: The metric you returned 0.5584734830980194 must be a `torch.Tensor` instance, checkpoint not saved HINT: what is the value of val_loss in validation_epoch_end()?\n",
      "  warnings.warn(*args, **kwargs)\n",
      "\n",
      "Epoch 00032: val_loss reached 0.55847 (best 0.55847), saving model to /nfs/phd_by_carlos/notebooks/saved_models/BART_Rewriter/epoch=32.ckpt as top 3\n"
     ]
    },
    {
     "name": "stdout",
     "output_type": "stream",
     "text": [
      "{'BLEU': 0.5584734830980194}\n",
      "-----EXAMPLE-0------\n",
      "Input Text: 'What's the difference between soup and stew? Is chilli a stew? Is goulash a stew? What are popular stews in France? How is cassoulet made? Tell me about feijoada and its significance. query: How is it similar or different from cassoulet?'\n",
      "      Pred: ' How is feijroada similar or different from cassoulets?'\n",
      "    Target: ' How is feijoada similar or different from cassoulet?'\n",
      "------------------\n",
      "-----EXAMPLE-1------\n",
      "Input Text: 'Who is the most successful pirate of all time? Who is the most famous female pirate? Tell me more about Ching Shih. What were Ching Shih's code of laws? How did Ching Shih die? Who was Anne Bonny? query: What was she famous for?'\n",
      "      Pred: ' What was AnneBonny famous for?'\n",
      "    Target: ' What was Anne Bonny famous for?'\n",
      "------------------\n",
      "-----EXAMPLE-2------\n",
      "Input Text: 'What's the difference between soup and stew? Is chilli a stew? Is goulash a stew? What are popular stews in France? How is cassoulet made? Tell me about feijoada and its significance. query: How is it similar or different from cassoulet?'\n",
      "      Pred: ' How is feijroada similar or different from cassoulets?'\n",
      "    Target: ' How is feijoada similar or different from cassoulet?'\n",
      "------------------\n"
     ]
    },
    {
     "data": {
      "application/vnd.jupyter.widget-view+json": {
       "model_id": "",
       "version_major": 2,
       "version_minor": 0
      },
      "text/plain": [
       "HBox(children=(FloatProgress(value=1.0, bar_style='info', description='Validating', layout=Layout(flex='2'), m…"
      ]
     },
     "metadata": {},
     "output_type": "display_data"
    },
    {
     "name": "stderr",
     "output_type": "stream",
     "text": [
      "/usr/local/lib/python3.6/dist-packages/pytorch_lightning/utilities/distributed.py:25: RuntimeWarning: The metric you returned 0.5500219952168534 must be a `torch.Tensor` instance, checkpoint not saved HINT: what is the value of val_loss in validation_epoch_end()?\n",
      "  warnings.warn(*args, **kwargs)\n",
      "\n",
      "Epoch 00033: val_loss  was not in top 3\n"
     ]
    },
    {
     "name": "stdout",
     "output_type": "stream",
     "text": [
      "{'BLEU': 0.5500219952168534}\n",
      "-----EXAMPLE-0------\n",
      "Input Text: 'What is taught in sociology? What is the main contribution of Auguste Comte to sociology? What is the role of positivism in sociology? query: What is Herbert Spencer known for?'\n",
      "      Pred: ' What is Herbert Spencer known for as a \"sociopath?\", among other factors in the history of sociology?'\n",
      "    Target: ' What is Herbert Spencer known for in sociology?'\n",
      "------------------\n",
      "-----EXAMPLE-1------\n",
      "Input Text: 'Who is the most successful pirate of all time? Who is the most famous female pirate? Tell me more about Ching Shih. What were Ching Shih's code of laws? How did Ching Shih die? Who was Anne Bonny? query: What was she famous for?'\n",
      "      Pred: ' What was AnneBonny famous for?'\n",
      "    Target: ' What was Anne Bonny famous for?'\n",
      "------------------\n",
      "-----EXAMPLE-2------\n",
      "Input Text: 'What are important literary elements? What is the difference between literary elements and literary devices? What is a literary genre? What are the most important literary genres? What is a trope? What are important examples of tropes in fantasy? What is the definition of allegory? query: What are some important modern uses?'\n",
      "      Pred: ' What are some important modern uses of allegor?'\n",
      "    Target: ' What are some important modern uses of allegory?'\n",
      "------------------\n"
     ]
    },
    {
     "data": {
      "application/vnd.jupyter.widget-view+json": {
       "model_id": "",
       "version_major": 2,
       "version_minor": 0
      },
      "text/plain": [
       "HBox(children=(FloatProgress(value=1.0, bar_style='info', description='Validating', layout=Layout(flex='2'), m…"
      ]
     },
     "metadata": {},
     "output_type": "display_data"
    },
    {
     "name": "stderr",
     "output_type": "stream",
     "text": [
      "/usr/local/lib/python3.6/dist-packages/pytorch_lightning/utilities/distributed.py:25: RuntimeWarning: The metric you returned 0.5641590275784989 must be a `torch.Tensor` instance, checkpoint not saved HINT: what is the value of val_loss in validation_epoch_end()?\n",
      "  warnings.warn(*args, **kwargs)\n",
      "\n",
      "Epoch 00034: val_loss reached 0.56416 (best 0.56416), saving model to /nfs/phd_by_carlos/notebooks/saved_models/BART_Rewriter/epoch=34.ckpt as top 3\n"
     ]
    },
    {
     "name": "stdout",
     "output_type": "stream",
     "text": [
      "{'BLEU': 0.5641590275784989}\n",
      "-----EXAMPLE-0------\n",
      "Input Text: 'What is the keto diet? Why was keto diet originally developed? What is ketosis? What is paleo diet? What do paleo diet and keto diet have in common? How are paleo diet and keto diet different? What is intermittent fasting? How is intermittent fasting related to keto? What is the 16_8 method in intermittent fasting? query: What is the best for weight loss?'\n",
      "      Pred: ' What is the best for weight loss?'\n",
      "    Target: ' What is the best method for weight loss?'\n",
      "------------------\n",
      "-----EXAMPLE-1------\n",
      "Input Text: 'What do Spanish people do on Christmas day? What do Spanish people eat for Christmas dinner? What do Spanish people eat on Christmas eve? What is the Spanish Christmas Lottery? How does the Spanish Christmas Lottery drawing work? How are the Spanish Christmas Lottery tickets sold? query: What is Tió de Nadal?'\n",
      "      Pred: ' What is Tió de Nadal?'\n",
      "    Target: ' What is Tió de Nadal?'\n",
      "------------------\n",
      "-----EXAMPLE-2------\n",
      "Input Text: 'What are important literary elements? What is the difference between literary elements and literary devices? What is a literary genre? What are the most important literary genres? What is a trope? What are important examples of tropes in fantasy? query: What is the definition of allegory?'\n",
      "      Pred: ' What isThe definition of allegory?'\n",
      "    Target: ' What is the definition of allegory?'\n",
      "------------------\n"
     ]
    },
    {
     "data": {
      "application/vnd.jupyter.widget-view+json": {
       "model_id": "",
       "version_major": 2,
       "version_minor": 0
      },
      "text/plain": [
       "HBox(children=(FloatProgress(value=1.0, bar_style='info', description='Validating', layout=Layout(flex='2'), m…"
      ]
     },
     "metadata": {},
     "output_type": "display_data"
    },
    {
     "name": "stderr",
     "output_type": "stream",
     "text": [
      "/usr/local/lib/python3.6/dist-packages/pytorch_lightning/utilities/distributed.py:25: RuntimeWarning: The metric you returned 0.5748461212253844 must be a `torch.Tensor` instance, checkpoint not saved HINT: what is the value of val_loss in validation_epoch_end()?\n",
      "  warnings.warn(*args, **kwargs)\n",
      "\n",
      "Epoch 00035: val_loss reached 0.57485 (best 0.57485), saving model to /nfs/phd_by_carlos/notebooks/saved_models/BART_Rewriter/epoch=35.ckpt as top 3\n"
     ]
    },
    {
     "name": "stdout",
     "output_type": "stream",
     "text": [
      "{'BLEU': 0.5748461212253844}\n",
      "-----EXAMPLE-0------\n",
      "Input Text: 'What's the difference between soup and stew? query: Is chilli a stew?'\n",
      "      Pred: ' Is chilli a stew?pmwikiroadameanga'stulhu Theense stenda moves from the past to the present.'\n",
      "    Target: ' Is chilli a stew?'\n",
      "------------------\n",
      "-----EXAMPLE-1------\n",
      "Input Text: 'Why do turkey and Turkey share the same name? Where are turkeys from? query: What was their importance in native cultures?'\n",
      "      Pred: ' What was the importance of turkeys in native cultures in ancient cultures? Theroad?\",415 st'sy moves from the past to the present''\n",
      "    Target: ' What was the importance of turkey in native cultures?'\n",
      "------------------\n",
      "-----EXAMPLE-2------\n",
      "Input Text: 'Who is the most successful pirate of all time? Who is the most famous female pirate? Tell me more about Ching Shih. What were Ching Shih's code of laws? How did Ching Shih die? Who was Anne Bonny? What was Anne Bonny famous for? query: Who was she married to?'\n",
      "      Pred: ' Who wasAnne Bonny married to?'\n",
      "    Target: ' Who was Anne Bonny married to?'\n",
      "------------------\n"
     ]
    },
    {
     "data": {
      "application/vnd.jupyter.widget-view+json": {
       "model_id": "",
       "version_major": 2,
       "version_minor": 0
      },
      "text/plain": [
       "HBox(children=(FloatProgress(value=1.0, bar_style='info', description='Validating', layout=Layout(flex='2'), m…"
      ]
     },
     "metadata": {},
     "output_type": "display_data"
    },
    {
     "name": "stderr",
     "output_type": "stream",
     "text": [
      "/usr/local/lib/python3.6/dist-packages/pytorch_lightning/utilities/distributed.py:25: RuntimeWarning: The metric you returned 0.5607829417558057 must be a `torch.Tensor` instance, checkpoint not saved HINT: what is the value of val_loss in validation_epoch_end()?\n",
      "  warnings.warn(*args, **kwargs)\n",
      "\n",
      "Epoch 00036: val_loss reached 0.56078 (best 0.57485), saving model to /nfs/phd_by_carlos/notebooks/saved_models/BART_Rewriter/epoch=36.ckpt as top 3\n"
     ]
    },
    {
     "name": "stdout",
     "output_type": "stream",
     "text": [
      "{'BLEU': 0.5607829417558057}\n",
      "-----EXAMPLE-0------\n",
      "Input Text: 'What is the keto diet? query: Why was it original developed?'\n",
      "      Pred: ' Why was the Keto diet original developed? The��road?\",Registration st 'gutsyameenda moves from past to present\"?'\n",
      "    Target: ' Why was keto diet originally developed?'\n",
      "------------------\n",
      "-----EXAMPLE-1------\n",
      "Input Text: 'What is taught in sociology? What is the main contribution of Auguste Comte to sociology? What is the role of positivism in sociology? What is Herbert Spencer known for in sociology? How is Herbert Spencer's work related to Comte? What is the functionalist theory in sociology? What is the main criticism of functionalist theory in sociology? How does functionalist theory compare to conflict theory? query: What are modern examples of conflict theory?'\n",
      "      Pred: ' What does functionalist theory compare to conflict theory in sociologist's theory?'\n",
      "    Target: ' What are modern examples of conflict theory?'\n",
      "------------------\n",
      "-----EXAMPLE-2------\n",
      "Input Text: 'What are mammals? What are mammals' key characteristics? How many legs do mammals have? What is the largest mammal on land? What is the largest mammal in the world? What is the largest mammal in the UK? query: What about the largest to ever walk the earth?'\n",
      "      Pred: ' What about the largest to ever walk the earth?'\n",
      "    Target: ' What about the largest mammal to ever walk the earth?'\n",
      "------------------\n"
     ]
    },
    {
     "data": {
      "application/vnd.jupyter.widget-view+json": {
       "model_id": "",
       "version_major": 2,
       "version_minor": 0
      },
      "text/plain": [
       "HBox(children=(FloatProgress(value=1.0, bar_style='info', description='Validating', layout=Layout(flex='2'), m…"
      ]
     },
     "metadata": {},
     "output_type": "display_data"
    },
    {
     "name": "stderr",
     "output_type": "stream",
     "text": [
      "/usr/local/lib/python3.6/dist-packages/pytorch_lightning/utilities/distributed.py:25: RuntimeWarning: The metric you returned 0.5649373912536954 must be a `torch.Tensor` instance, checkpoint not saved HINT: what is the value of val_loss in validation_epoch_end()?\n",
      "  warnings.warn(*args, **kwargs)\n",
      "\n",
      "Epoch 00037: val_loss reached 0.56494 (best 0.57485), saving model to /nfs/phd_by_carlos/notebooks/saved_models/BART_Rewriter/epoch=37.ckpt as top 3\n"
     ]
    },
    {
     "name": "stdout",
     "output_type": "stream",
     "text": [
      "{'BLEU': 0.5649373912536954}\n",
      "-----EXAMPLE-0------\n",
      "Input Text: 'What's the difference between soup and stew? Is chilli a stew? query: How about goulash?'\n",
      "      Pred: ' How does chilli make goulash, a soup or stew? The U.S.'stroadanga!\", among other moves from the past.'\n",
      "    Target: ' Is goulash a stew?'\n",
      "------------------\n",
      "-----EXAMPLE-1------\n",
      "Input Text: 'What were the purposes of the Lewis and Clark expedition? What were important plants and animals Lewis and Clark discovered? What were the diplomatic objectives of the Lewis and Clark expedition? What were the Native American tribes that Lewis and Clark encountered? How did Sacagawea help Lewis and Clark? Did Lewis and Clark find the Northwest Passage? What was the purpose of Fort Mandan in the Lewis and Clark expedition? How did Lewis and Clark spend the next winter? query: What happened to Fort Clatsop?'\n",
      "      Pred: ' What happened to Fort Clatsop in Lewis Clark's expedition?'\n",
      "    Target: ' What happened to Fort Clatsop?'\n",
      "------------------\n",
      "-----EXAMPLE-2------\n",
      "Input Text: 'What are important literary elements? What is the difference between literary elements and literary devices? What is a literary genre? What are the most important literary genres? What is a trope? What are important examples of tropes in fantasy? What is the definition of allegory? query: What are some important modern uses?'\n",
      "      Pred: ' What are some important modern uses of allegories?'\n",
      "    Target: ' What are some important modern uses of allegory?'\n",
      "------------------\n"
     ]
    },
    {
     "data": {
      "application/vnd.jupyter.widget-view+json": {
       "model_id": "",
       "version_major": 2,
       "version_minor": 0
      },
      "text/plain": [
       "HBox(children=(FloatProgress(value=1.0, bar_style='info', description='Validating', layout=Layout(flex='2'), m…"
      ]
     },
     "metadata": {},
     "output_type": "display_data"
    },
    {
     "name": "stderr",
     "output_type": "stream",
     "text": [
      "/usr/local/lib/python3.6/dist-packages/pytorch_lightning/utilities/distributed.py:25: RuntimeWarning: The metric you returned 0.5638134296469054 must be a `torch.Tensor` instance, checkpoint not saved HINT: what is the value of val_loss in validation_epoch_end()?\n",
      "  warnings.warn(*args, **kwargs)\n",
      "\n",
      "Epoch 00038: val_loss  was not in top 3\n"
     ]
    },
    {
     "name": "stdout",
     "output_type": "stream",
     "text": [
      "{'BLEU': 0.5638134296469054}\n",
      "-----EXAMPLE-0------\n",
      "Input Text: 'What are the pros and cons of electric cars? Tell me more about Tesla the car company. Why did Elon Musk start Tesla? What Tesla car models are available? What is the best selling Tesla car model? What is unique about the Tesla Model 3? What are the safety features of Tesla Model 3? Why is Tesla building Gigafactories? query: What makes the batteries unique?'\n",
      "      Pred: ' What makes the Tesla batteries unique?'\n",
      "    Target: ' What makes the Tesla batteries unique?'\n",
      "------------------\n",
      "-----EXAMPLE-1------\n",
      "Input Text: 'What's the difference between soup and stew? Is chilli a stew? query: How about goulash?'\n",
      "      Pred: ' How does chilli make goulash, a soup or stew? The U.S.'stroadangaRegistrationem!\",'\n",
      "    Target: ' Is goulash a stew?'\n",
      "------------------\n",
      "-----EXAMPLE-2------\n",
      "Input Text: ' query: What are mammals?'\n",
      "      Pred: ' What are mammals? The��roadRegistrationMagicsy 'gamebitwiseangaenseulhuemepend \"gastone?\",'\n",
      "    Target: ' What are mammals?'\n",
      "------------------\n"
     ]
    },
    {
     "data": {
      "application/vnd.jupyter.widget-view+json": {
       "model_id": "",
       "version_major": 2,
       "version_minor": 0
      },
      "text/plain": [
       "HBox(children=(FloatProgress(value=1.0, bar_style='info', description='Validating', layout=Layout(flex='2'), m…"
      ]
     },
     "metadata": {},
     "output_type": "display_data"
    },
    {
     "name": "stderr",
     "output_type": "stream",
     "text": [
      "/usr/local/lib/python3.6/dist-packages/pytorch_lightning/utilities/distributed.py:25: RuntimeWarning: The metric you returned 0.5581035099718809 must be a `torch.Tensor` instance, checkpoint not saved HINT: what is the value of val_loss in validation_epoch_end()?\n",
      "  warnings.warn(*args, **kwargs)\n",
      "\n",
      "Epoch 00039: val_loss  was not in top 3\n"
     ]
    },
    {
     "name": "stdout",
     "output_type": "stream",
     "text": [
      "{'BLEU': 0.5581035099718809}\n",
      "-----EXAMPLE-0------\n",
      "Input Text: 'Who is the most successful pirate of all time? Who is the most famous female pirate? Tell me more about Ching Shih. What were Ching Shih's code of laws? How did Ching Shih die? Who was Anne Bonny? query: What was she famous for?'\n",
      "      Pred: ' What was AnneBonny famous for?'\n",
      "    Target: ' What was Anne Bonny famous for?'\n",
      "------------------\n",
      "-----EXAMPLE-1------\n",
      "Input Text: 'What are the pros and cons of electric cars? Tell me more about Tesla the car company. Why did Elon Musk start Tesla? What Tesla car models are available? What is the best selling Tesla car model? query: What is unique about the Model 3?'\n",
      "      Pred: ' What is unique about Tesla's Model 3 vehicles?'\n",
      "    Target: ' What is unique about the Tesla Model 3?'\n",
      "------------------\n",
      "-----EXAMPLE-2------\n",
      "Input Text: ' query: What do Spanish people do on Christmas day?'\n",
      "      Pred: ' What do Spanish people do on Christmas day? Theroad ?\",RegistrationMagicsy 'gulhuenseemendanga \"g 'What do Spanishpeople do onChristmas day?'\n",
      "    Target: ' What do Spanish people do on Christmas day?'\n",
      "------------------\n"
     ]
    },
    {
     "data": {
      "application/vnd.jupyter.widget-view+json": {
       "model_id": "",
       "version_major": 2,
       "version_minor": 0
      },
      "text/plain": [
       "HBox(children=(FloatProgress(value=1.0, bar_style='info', description='Validating', layout=Layout(flex='2'), m…"
      ]
     },
     "metadata": {},
     "output_type": "display_data"
    },
    {
     "name": "stderr",
     "output_type": "stream",
     "text": [
      "/usr/local/lib/python3.6/dist-packages/pytorch_lightning/utilities/distributed.py:25: RuntimeWarning: The metric you returned 0.5592809684790094 must be a `torch.Tensor` instance, checkpoint not saved HINT: what is the value of val_loss in validation_epoch_end()?\n",
      "  warnings.warn(*args, **kwargs)\n",
      "\n",
      "Epoch 00040: val_loss  was not in top 3\n"
     ]
    },
    {
     "name": "stdout",
     "output_type": "stream",
     "text": [
      "{'BLEU': 0.5592809684790094}\n",
      "-----EXAMPLE-0------\n",
      "Input Text: ' query: What are the pros and cons of electric cars?'\n",
      "      Pred: ' What are the pros and cons of electric cars? Theroad415?\",Registration 'angaem!\",syone movesendetchenseenda \"g 'What are thePros and Cons of electric car?'\n",
      "    Target: ' What are the pros and cons of electric cars?'\n",
      "------------------\n",
      "-----EXAMPLE-1------\n",
      "Input Text: 'What were the purposes of the Lewis and Clark expedition? What were important plants and animals Lewis and Clark discovered? What were the diplomatic objectives of the Lewis and Clark expedition? What were the Native American tribes that Lewis and Clark encountered? How did Sacagawea help Lewis and Clark? Did Lewis and Clark find the Northwest Passage? What was the purpose of Fort Mandan in the Lewis and Clark expedition? How did Lewis and Clark spend the next winter? What happened to Fort Clatsop? query: What was the impact of the expedition?'\n",
      "      Pred: ' What was the impact of the expedition on the Native American tribes that Lewis, Clark encountered? How did Sacagawea help Lewis and Clarke? Did Lewis and Lewis find the Northwest Passage? What wasThe purpose of Fort Mandan in the Lewis & Clark expedition and How did Lewis and Camp spend the next winter? What about Fort Clatingsop?'\n",
      "    Target: ' What was the impact of the Lewis and Clark expedition?'\n",
      "------------------\n",
      "-----EXAMPLE-2------\n",
      "Input Text: 'What's the difference between soup and stew? query: Is chilli a stew?'\n",
      "      Pred: ' Is chilli a stew?pmwikiroadanga The'stulhuameense stenda?\", moves from the'\n",
      "    Target: ' Is chilli a stew?'\n",
      "------------------\n"
     ]
    },
    {
     "data": {
      "application/vnd.jupyter.widget-view+json": {
       "model_id": "",
       "version_major": 2,
       "version_minor": 0
      },
      "text/plain": [
       "HBox(children=(FloatProgress(value=1.0, bar_style='info', description='Validating', layout=Layout(flex='2'), m…"
      ]
     },
     "metadata": {},
     "output_type": "display_data"
    },
    {
     "name": "stderr",
     "output_type": "stream",
     "text": [
      "/usr/local/lib/python3.6/dist-packages/pytorch_lightning/utilities/distributed.py:25: RuntimeWarning: The metric you returned 0.5502080093707455 must be a `torch.Tensor` instance, checkpoint not saved HINT: what is the value of val_loss in validation_epoch_end()?\n",
      "  warnings.warn(*args, **kwargs)\n",
      "\n",
      "Epoch 00041: val_loss  was not in top 3\n"
     ]
    },
    {
     "name": "stdout",
     "output_type": "stream",
     "text": [
      "{'BLEU': 0.5502080093707455}\n",
      "-----EXAMPLE-0------\n",
      "Input Text: 'What are the pros and cons of electric cars? Tell me more about Tesla the car company. Why did Elon Musk start Tesla? What Tesla car models are available? What is the best selling Tesla car model? What is unique about the Tesla Model 3? What are the safety features of Tesla Model 3? Why is Tesla building Gigafactories? query: What makes the batteries unique?'\n",
      "      Pred: ' Why is Tesla building Gigafactories?'\n",
      "    Target: ' What makes the Tesla batteries unique?'\n",
      "------------------\n",
      "-----EXAMPLE-1------\n",
      "Input Text: 'What are mammals? What are mammals' key characteristics? How many legs do mammals have? What is the largest mammal on land? What is the largest mammal in the world? What is the largest mammal in the UK? query: What about the largest to ever walk the earth?'\n",
      "      Pred: ' What about the largest to ever walk the earth?'\n",
      "    Target: ' What about the largest mammal to ever walk the earth?'\n",
      "------------------\n",
      "-----EXAMPLE-2------\n",
      "Input Text: 'Who is the most successful pirate of all time? Who is the most famous female pirate? Tell me more about Ching Shih. What were Ching Shih's code of laws? How did Ching Shih die? Who was Anne Bonny? What was Anne Bonny famous for? Who was Anne Bonny married to? query: How did Calico Jack die?'\n",
      "      Pred: ' How did Calico Jack die?'\n",
      "    Target: ' How did Calico Jack die?'\n",
      "------------------\n"
     ]
    },
    {
     "data": {
      "application/vnd.jupyter.widget-view+json": {
       "model_id": "",
       "version_major": 2,
       "version_minor": 0
      },
      "text/plain": [
       "HBox(children=(FloatProgress(value=1.0, bar_style='info', description='Validating', layout=Layout(flex='2'), m…"
      ]
     },
     "metadata": {},
     "output_type": "display_data"
    },
    {
     "name": "stderr",
     "output_type": "stream",
     "text": [
      "/usr/local/lib/python3.6/dist-packages/pytorch_lightning/utilities/distributed.py:25: RuntimeWarning: The metric you returned 0.5658047268882309 must be a `torch.Tensor` instance, checkpoint not saved HINT: what is the value of val_loss in validation_epoch_end()?\n",
      "  warnings.warn(*args, **kwargs)\n",
      "\n",
      "Epoch 00042: val_loss reached 0.56580 (best 0.57485), saving model to /nfs/phd_by_carlos/notebooks/saved_models/BART_Rewriter/epoch=42.ckpt as top 3\n"
     ]
    },
    {
     "name": "stdout",
     "output_type": "stream",
     "text": [
      "{'BLEU': 0.5658047268882309}\n",
      "-----EXAMPLE-0------\n",
      "Input Text: 'What are mammals? What are mammals' key characteristics? How many legs do mammals have? What is the largest mammal on land? What is the largest mammal in the world? What is the largest mammal in the UK? What about the largest mammal to ever walk the earth? query: Tell me about Blue whales. '\n",
      "      Pred: ' Tell me about Blue whales.'\n",
      "    Target: ' Tell me about Blue whales.'\n",
      "------------------\n",
      "-----EXAMPLE-1------\n",
      "Input Text: ' query: Why do turkey and Turkey share the same name?'\n",
      "      Pred: ' Why do turkey and Turkey share the same name? Theroad415?\",RegistrationsyMagic \" 'angaense among the turkeys and Turkey in the U.S.'\n",
      "    Target: ' Why do turkey and Turkey share the same name?'\n",
      "------------------\n",
      "-----EXAMPLE-2------\n",
      "Input Text: 'What are important literary elements? What is the difference between literary elements and literary devices? What is a literary genre? What are the most important literary genres? What is a trope? query: What are important examples in fantasy?'\n",
      "      Pred: ' What are important examples of literary devices in fantasy?  Theroad!\",'\n",
      "    Target: ' What are important examples of tropes in fantasy?'\n",
      "------------------\n"
     ]
    },
    {
     "data": {
      "application/vnd.jupyter.widget-view+json": {
       "model_id": "",
       "version_major": 2,
       "version_minor": 0
      },
      "text/plain": [
       "HBox(children=(FloatProgress(value=1.0, bar_style='info', description='Validating', layout=Layout(flex='2'), m…"
      ]
     },
     "metadata": {},
     "output_type": "display_data"
    },
    {
     "name": "stderr",
     "output_type": "stream",
     "text": [
      "/usr/local/lib/python3.6/dist-packages/pytorch_lightning/utilities/distributed.py:25: RuntimeWarning: The metric you returned 0.5526492652023967 must be a `torch.Tensor` instance, checkpoint not saved HINT: what is the value of val_loss in validation_epoch_end()?\n",
      "  warnings.warn(*args, **kwargs)\n",
      "\n",
      "Epoch 00043: val_loss  was not in top 3\n"
     ]
    },
    {
     "name": "stdout",
     "output_type": "stream",
     "text": [
      "{'BLEU': 0.5526492652023967}\n",
      "-----EXAMPLE-0------\n",
      "Input Text: 'What is taught in sociology? What is the main contribution of Auguste Comte to sociology? What is the role of positivism in sociology? What is Herbert Spencer known for in sociology? How is Herbert Spencer's work related to Comte? What is the functionalist theory in sociology? What is the main criticism of functionalist theory in sociology? How does functionalist theory compare to conflict theory? query: What are modern examples of conflict theory?'\n",
      "      Pred: ' What are modern examples of conflict theory in modern sociology?'\n",
      "    Target: ' What are modern examples of conflict theory?'\n",
      "------------------\n",
      "-----EXAMPLE-1------\n",
      "Input Text: 'What are important literary elements? What is the difference between literary elements and literary devices? What is a literary genre? What are the most important literary genres? What is a trope? What are important examples of tropes in fantasy? What is the definition of allegory? query: What are some important modern uses?'\n",
      "      Pred: ' What are some important modern uses of allegor?'\n",
      "    Target: ' What are some important modern uses of allegory?'\n",
      "------------------\n",
      "-----EXAMPLE-2------\n",
      "Input Text: 'What are mammals? What are mammals' key characteristics? query: How many legs do they have?'\n",
      "      Pred: ' How many legs do mammals have?  The '?\",roademangaRegistrationetch \" moves from'\n",
      "    Target: ' How many legs do mammals have?'\n",
      "------------------\n"
     ]
    },
    {
     "data": {
      "application/vnd.jupyter.widget-view+json": {
       "model_id": "",
       "version_major": 2,
       "version_minor": 0
      },
      "text/plain": [
       "HBox(children=(FloatProgress(value=1.0, bar_style='info', description='Validating', layout=Layout(flex='2'), m…"
      ]
     },
     "metadata": {},
     "output_type": "display_data"
    },
    {
     "name": "stderr",
     "output_type": "stream",
     "text": [
      "/usr/local/lib/python3.6/dist-packages/pytorch_lightning/utilities/distributed.py:25: RuntimeWarning: The metric you returned 0.5572741744467237 must be a `torch.Tensor` instance, checkpoint not saved HINT: what is the value of val_loss in validation_epoch_end()?\n",
      "  warnings.warn(*args, **kwargs)\n",
      "\n",
      "Epoch 00044: val_loss  was not in top 3\n"
     ]
    },
    {
     "name": "stdout",
     "output_type": "stream",
     "text": [
      "{'BLEU': 0.5572741744467237}\n",
      "-----EXAMPLE-0------\n",
      "Input Text: ' query: What are important literary elements?'\n",
      "      Pred: ' What are important literary elements in the novel \"Cinderella's Gone?\",road Rep?\", among other literary 'gem moves from \"cindbit Theanga \"c Regardless of the literary elements?'\n",
      "    Target: ' What are important literary elements?'\n",
      "------------------\n",
      "-----EXAMPLE-1------\n",
      "Input Text: ' query: What are important literary elements?'\n",
      "      Pred: ' What are important literary elements in the novel \"Cinderella's Gone?\",road Rep?\", among other literary 'gem moves from \"cindbit Theanga \"c Regardless of the literary elements?'\n",
      "    Target: ' What are important literary elements?'\n",
      "------------------\n",
      "-----EXAMPLE-2------\n",
      "Input Text: ' query: What are important literary elements?'\n",
      "      Pred: ' What are important literary elements in the novel \"Cinderella's Gone?\",road Rep?\", among other literary 'gem moves from \"cindbit Theanga \"c Regardless of the literary elements?'\n",
      "    Target: ' What are important literary elements?'\n",
      "------------------\n"
     ]
    },
    {
     "data": {
      "application/vnd.jupyter.widget-view+json": {
       "model_id": "",
       "version_major": 2,
       "version_minor": 0
      },
      "text/plain": [
       "HBox(children=(FloatProgress(value=1.0, bar_style='info', description='Validating', layout=Layout(flex='2'), m…"
      ]
     },
     "metadata": {},
     "output_type": "display_data"
    },
    {
     "name": "stderr",
     "output_type": "stream",
     "text": [
      "/usr/local/lib/python3.6/dist-packages/pytorch_lightning/utilities/distributed.py:25: RuntimeWarning: The metric you returned 0.5771906953889736 must be a `torch.Tensor` instance, checkpoint not saved HINT: what is the value of val_loss in validation_epoch_end()?\n",
      "  warnings.warn(*args, **kwargs)\n",
      "\n",
      "Epoch 00045: val_loss reached 0.57719 (best 0.57719), saving model to /nfs/phd_by_carlos/notebooks/saved_models/BART_Rewriter/epoch=45.ckpt as top 3\n"
     ]
    },
    {
     "name": "stdout",
     "output_type": "stream",
     "text": [
      "{'BLEU': 0.5771906953889736}\n",
      "-----EXAMPLE-0------\n",
      "Input Text: 'What are mammals? What are mammals' key characteristics? How many legs do mammals have? What is the largest mammal on land? What is the largest mammal in the world? query: What about in the UK?'\n",
      "      Pred: ' What about mammal in the UK? TheRegistrationroadem!\",'\n",
      "    Target: ' What is the largest mammal in the UK?'\n",
      "------------------\n",
      "-----EXAMPLE-1------\n",
      "Input Text: 'What were the purposes of the Lewis and Clark expedition? What were important plants and animals Lewis and Clark discovered? query: What were the diplomatic objectives?'\n",
      "      Pred: ' What were the diplomatic objectives of the the Lewis and Clark expedit reroad?\", The!\",angaRegistrationem \"'moves from the'\n",
      "    Target: ' What were the diplomatic objectives of the Lewis and Clark expedition?'\n",
      "------------------\n",
      "-----EXAMPLE-2------\n",
      "Input Text: 'What is the keto diet? Why was keto diet originally developed? What is ketosis? What is paleo diet? What do paleo diet and keto diet have in common? How are paleo diet and keto diet different? query: What is intermittent fasting?'\n",
      "      Pred: ' What is intermittent fasting?'\n",
      "    Target: ' What is intermittent fasting?'\n",
      "------------------\n"
     ]
    },
    {
     "data": {
      "application/vnd.jupyter.widget-view+json": {
       "model_id": "",
       "version_major": 2,
       "version_minor": 0
      },
      "text/plain": [
       "HBox(children=(FloatProgress(value=1.0, bar_style='info', description='Validating', layout=Layout(flex='2'), m…"
      ]
     },
     "metadata": {},
     "output_type": "display_data"
    },
    {
     "name": "stderr",
     "output_type": "stream",
     "text": [
      "/usr/local/lib/python3.6/dist-packages/pytorch_lightning/utilities/distributed.py:25: RuntimeWarning: The metric you returned 0.5694459653084943 must be a `torch.Tensor` instance, checkpoint not saved HINT: what is the value of val_loss in validation_epoch_end()?\n",
      "  warnings.warn(*args, **kwargs)\n",
      "\n",
      "Epoch 00046: val_loss reached 0.56945 (best 0.57719), saving model to /nfs/phd_by_carlos/notebooks/saved_models/BART_Rewriter/epoch=46.ckpt as top 3\n"
     ]
    },
    {
     "name": "stdout",
     "output_type": "stream",
     "text": [
      "{'BLEU': 0.5694459653084943}\n",
      "-----EXAMPLE-0------\n",
      "Input Text: 'What were the purposes of the Lewis and Clark expedition? What were important plants and animals Lewis and Clark discovered? What were the diplomatic objectives of the Lewis and Clark expedition? What were the Native American tribes that Lewis and Clark encountered? How did Sacagawea help Lewis and Clark? Did Lewis and Clark find the Northwest Passage? What was the purpose of Fort Mandan in the Lewis and Clark expedition? How did Lewis and Clark spend the next winter? What happened to Fort Clatsop? query: What was the impact of the expedition?'\n",
      "      Pred: ' What was the impact of the expedition on the Native American tribes? How did Sacagawea help Lewis or Clark? Did Lewis and Clarke find the Northwest Passage? What wasThe purpose of Fort Mandan in the Lewis & Clark expedition and How did Lewis and Camp spend the next winter? What did Lewis orClark spend thenext winter?'\n",
      "    Target: ' What was the impact of the Lewis and Clark expedition?'\n",
      "------------------\n",
      "-----EXAMPLE-1------\n",
      "Input Text: 'What are mammals? What are mammals' key characteristics? How many legs do mammals have? What is the largest mammal on land? What is the largest mammal in the world? What is the largest mammal in the UK? What about the largest mammal to ever walk the earth? Tell me about Blue whales. How much do Blue whales weigh? query: Where do they live?'\n",
      "      Pred: ' Where do Blue whale's live?'\n",
      "    Target: ' Where do blue whales live?'\n",
      "------------------\n",
      "-----EXAMPLE-2------\n",
      "Input Text: 'What is taught in sociology? What is the main contribution of Auguste Comte to sociology? query: What is the role of positivism in it?'\n",
      "      Pred: ' What's the role of positivism in sociology and where is it in the history of sociological theory? The ' road?\",!\",!\".'\n",
      "    Target: ' What is the role of positivism in sociology?'\n",
      "------------------\n"
     ]
    },
    {
     "data": {
      "application/vnd.jupyter.widget-view+json": {
       "model_id": "",
       "version_major": 2,
       "version_minor": 0
      },
      "text/plain": [
       "HBox(children=(FloatProgress(value=1.0, bar_style='info', description='Validating', layout=Layout(flex='2'), m…"
      ]
     },
     "metadata": {},
     "output_type": "display_data"
    },
    {
     "name": "stderr",
     "output_type": "stream",
     "text": [
      "/usr/local/lib/python3.6/dist-packages/pytorch_lightning/utilities/distributed.py:25: RuntimeWarning: The metric you returned 0.5615990815837507 must be a `torch.Tensor` instance, checkpoint not saved HINT: what is the value of val_loss in validation_epoch_end()?\n",
      "  warnings.warn(*args, **kwargs)\n",
      "\n",
      "Epoch 00047: val_loss  was not in top 3\n"
     ]
    },
    {
     "name": "stdout",
     "output_type": "stream",
     "text": [
      "{'BLEU': 0.5615990815837507}\n",
      "-----EXAMPLE-0------\n",
      "Input Text: 'What are mammals? What are mammals' key characteristics? How many legs do mammals have? What is the largest mammal on land? query: What is the largest in the world?'\n",
      "      Pred: ' What isThe largest mammal in the world? The \"sp�� Theroad?\", Registrationem'moves from the'\n",
      "    Target: ' What is the largest mammal in the world?'\n",
      "------------------\n",
      "-----EXAMPLE-1------\n",
      "Input Text: 'What is the keto diet? Why was keto diet originally developed? query: What is ketosis?'\n",
      "      Pred: ' What is ketosis? The ?\",road!\",Registrationem 'anga in The'\n",
      "    Target: ' What is ketosis?'\n",
      "------------------\n",
      "-----EXAMPLE-2------\n",
      "Input Text: 'What are mammals? What are mammals' key characteristics? How many legs do mammals have? What is the largest mammal on land? What is the largest mammal in the world? query: What about in the UK?'\n",
      "      Pred: ' What about mammal in the UK? Registrationroad The!\",'\n",
      "    Target: ' What is the largest mammal in the UK?'\n",
      "------------------\n"
     ]
    },
    {
     "data": {
      "application/vnd.jupyter.widget-view+json": {
       "model_id": "",
       "version_major": 2,
       "version_minor": 0
      },
      "text/plain": [
       "HBox(children=(FloatProgress(value=1.0, bar_style='info', description='Validating', layout=Layout(flex='2'), m…"
      ]
     },
     "metadata": {},
     "output_type": "display_data"
    },
    {
     "name": "stderr",
     "output_type": "stream",
     "text": [
      "/usr/local/lib/python3.6/dist-packages/pytorch_lightning/utilities/distributed.py:25: RuntimeWarning: The metric you returned 0.5614286697586376 must be a `torch.Tensor` instance, checkpoint not saved HINT: what is the value of val_loss in validation_epoch_end()?\n",
      "  warnings.warn(*args, **kwargs)\n",
      "\n",
      "Epoch 00048: val_loss  was not in top 3\n"
     ]
    },
    {
     "name": "stdout",
     "output_type": "stream",
     "text": [
      "{'BLEU': 0.5614286697586376}\n",
      "-----EXAMPLE-0------\n",
      "Input Text: 'What is the keto diet? Why was keto diet originally developed? query: What is ketosis?'\n",
      "      Pred: ' What is ketosis?  TheroadRegistration!\",?\",415 st \" 'g eatingem!\".'\n",
      "    Target: ' What is ketosis?'\n",
      "------------------\n",
      "-----EXAMPLE-1------\n",
      "Input Text: 'What do Spanish people do on Christmas day? What do Spanish people eat for Christmas dinner? What do Spanish people eat on Christmas eve? What is the Spanish Christmas Lottery? How does the Spanish Christmas Lottery drawing work? How are the Spanish Christmas Lottery tickets sold? What is Tió de Nadal? How did the tradition of Tió de Nadal start? query: How do they celebrate Three Kings Day?'\n",
      "      Pred: ' How do Spanish celebrate Three Kings Day?'\n",
      "    Target: ' How do Spanish people celebrate Three Kings Day?'\n",
      "------------------\n",
      "-----EXAMPLE-2------\n",
      "Input Text: 'What are the pros and cons of electric cars? Tell me more about Tesla the car company. Why did Elon Musk start Tesla? What Tesla car models are available? What is the best selling Tesla car model? What is unique about the Tesla Model 3? What are the safety features of Tesla Model 3? Why is Tesla building Gigafactories? query: What makes the batteries unique?'\n",
      "      Pred: ' Why is Tesla building Gigafactories?'\n",
      "    Target: ' What makes the Tesla batteries unique?'\n",
      "------------------\n"
     ]
    },
    {
     "data": {
      "application/vnd.jupyter.widget-view+json": {
       "model_id": "",
       "version_major": 2,
       "version_minor": 0
      },
      "text/plain": [
       "HBox(children=(FloatProgress(value=1.0, bar_style='info', description='Validating', layout=Layout(flex='2'), m…"
      ]
     },
     "metadata": {},
     "output_type": "display_data"
    },
    {
     "name": "stderr",
     "output_type": "stream",
     "text": [
      "/usr/local/lib/python3.6/dist-packages/pytorch_lightning/utilities/distributed.py:25: RuntimeWarning: The metric you returned 0.562654347085362 must be a `torch.Tensor` instance, checkpoint not saved HINT: what is the value of val_loss in validation_epoch_end()?\n",
      "  warnings.warn(*args, **kwargs)\n",
      "\n",
      "Epoch 00049: val_loss  was not in top 3\n"
     ]
    },
    {
     "name": "stdout",
     "output_type": "stream",
     "text": [
      "{'BLEU': 0.562654347085362}\n",
      "-----EXAMPLE-0------\n",
      "Input Text: 'What is taught in sociology? What is the main contribution of Auguste Comte to sociology? What is the role of positivism in sociology? What is Herbert Spencer known for in sociology? How is Herbert Spencer's work related to Comte? What is the functionalist theory in sociology? What is the main criticism of functionalist theory in sociology? How does functionalist theory compare to conflict theory? query: What are modern examples of conflict theory?'\n",
      "      Pred: ' What does functionalist theory compare to conflict theory and how does it differ from conflict theories?'\n",
      "    Target: ' What are modern examples of conflict theory?'\n",
      "------------------\n",
      "-----EXAMPLE-1------\n",
      "Input Text: 'What is taught in sociology? What is the main contribution of Auguste Comte to sociology? What is the role of positivism in sociology? What is Herbert Spencer known for in sociology? How is Herbert Spencer's work related to Comte? What is the functionalist theory in sociology? What is the main criticism of functionalist theory in sociology? query: How does it compare to conflict theory?'\n",
      "      Pred: ' How doesfunctionalist theory compare to conflict theory?'\n",
      "    Target: ' How does functionalist theory compare to conflict theory?'\n",
      "------------------\n",
      "-----EXAMPLE-2------\n",
      "Input Text: 'Why do turkey and Turkey share the same name? Where are turkeys from? What was the importance of turkey in native cultures? When and how were turkeys domesticated? query: Can they fly?'\n",
      "      Pred: ' Can turkeys fly? The ?\",roadRegistration!\".'\n",
      "    Target: ' Can turkeys fly?'\n",
      "------------------\n"
     ]
    },
    {
     "data": {
      "application/vnd.jupyter.widget-view+json": {
       "model_id": "",
       "version_major": 2,
       "version_minor": 0
      },
      "text/plain": [
       "HBox(children=(FloatProgress(value=1.0, bar_style='info', description='Validating', layout=Layout(flex='2'), m…"
      ]
     },
     "metadata": {},
     "output_type": "display_data"
    },
    {
     "name": "stderr",
     "output_type": "stream",
     "text": [
      "/usr/local/lib/python3.6/dist-packages/pytorch_lightning/utilities/distributed.py:25: RuntimeWarning: The metric you returned 0.5573386624223547 must be a `torch.Tensor` instance, checkpoint not saved HINT: what is the value of val_loss in validation_epoch_end()?\n",
      "  warnings.warn(*args, **kwargs)\n",
      "\n",
      "Epoch 00050: val_loss  was not in top 3\n"
     ]
    },
    {
     "name": "stdout",
     "output_type": "stream",
     "text": [
      "{'BLEU': 0.5573386624223547}\n",
      "-----EXAMPLE-0------\n",
      "Input Text: 'What are mammals? What are mammals' key characteristics? How many legs do mammals have? query: What is the largest one on land?'\n",
      "      Pred: ' What is the largest leg of a mammal on land on land?  The '?\",!\",Registrationroadem inanga!\".'\n",
      "    Target: ' What is the largest mammal on land?'\n",
      "------------------\n",
      "-----EXAMPLE-1------\n",
      "Input Text: 'What were the purposes of the Lewis and Clark expedition? What were important plants and animals Lewis and Clark discovered? What were the diplomatic objectives of the Lewis and Clark expedition? What were the Native American tribes that Lewis and Clark encountered? query: How did Sacagawea help them?'\n",
      "      Pred: ' How did Sacagawea help the Lewis 'Clark expedition?'\n",
      "    Target: ' How did Sacagawea help Lewis and Clark?'\n",
      "------------------\n",
      "-----EXAMPLE-2------\n",
      "Input Text: 'What are mammals? What are mammals' key characteristics? How many legs do mammals have? What is the largest mammal on land? What is the largest mammal in the world? What is the largest mammal in the UK? What about the largest mammal to ever walk the earth? Tell me about Blue whales. How much do Blue whales weigh? Where do blue whales live? query: What do they eat?'\n",
      "      Pred: ' What doBlue whales eat?'\n",
      "    Target: ' What do blue whales eat?'\n",
      "------------------\n"
     ]
    },
    {
     "data": {
      "application/vnd.jupyter.widget-view+json": {
       "model_id": "",
       "version_major": 2,
       "version_minor": 0
      },
      "text/plain": [
       "HBox(children=(FloatProgress(value=1.0, bar_style='info', description='Validating', layout=Layout(flex='2'), m…"
      ]
     },
     "metadata": {},
     "output_type": "display_data"
    },
    {
     "name": "stderr",
     "output_type": "stream",
     "text": [
      "/usr/local/lib/python3.6/dist-packages/pytorch_lightning/utilities/distributed.py:25: RuntimeWarning: The metric you returned 0.5651355689926458 must be a `torch.Tensor` instance, checkpoint not saved HINT: what is the value of val_loss in validation_epoch_end()?\n",
      "  warnings.warn(*args, **kwargs)\n",
      "\n",
      "Epoch 00051: val_loss  was not in top 3\n"
     ]
    },
    {
     "name": "stdout",
     "output_type": "stream",
     "text": [
      "{'BLEU': 0.5651355689926458}\n",
      "-----EXAMPLE-0------\n",
      "Input Text: 'What is the keto diet? Why was keto diet originally developed? What is ketosis? What is paleo diet? What do paleo diet and keto diet have in common? How are paleo diet and keto diet different? What is intermittent fasting? query: How is it related to keto?'\n",
      "      Pred: ' How is intermittent fasting related to keto?'\n",
      "    Target: ' How is intermittent fasting related to keto?'\n",
      "------------------\n",
      "-----EXAMPLE-1------\n",
      "Input Text: 'What do Spanish people do on Christmas day? What do Spanish people eat for Christmas dinner? What do Spanish people eat on Christmas eve? What is the Spanish Christmas Lottery? query: How does the drawing work?'\n",
      "      Pred: ' How does the drawing work for the SpanishChristmas Lottery in the Spanish holiday tradition?'\n",
      "    Target: ' How does the Spanish Christmas Lottery drawing work?'\n",
      "------------------\n",
      "-----EXAMPLE-2------\n",
      "Input Text: 'Who is the most successful pirate of all time? Who is the most famous female pirate? Tell me more about Ching Shih. What were Ching Shih's code of laws? How did Ching Shih die? Who was Anne Bonny? What was Anne Bonny famous for? Who was Anne Bonny married to? query: How did Calico Jack die?'\n",
      "      Pred: ' How did Calico Jack die?'\n",
      "    Target: ' How did Calico Jack die?'\n",
      "------------------\n"
     ]
    },
    {
     "data": {
      "application/vnd.jupyter.widget-view+json": {
       "model_id": "",
       "version_major": 2,
       "version_minor": 0
      },
      "text/plain": [
       "HBox(children=(FloatProgress(value=1.0, bar_style='info', description='Validating', layout=Layout(flex='2'), m…"
      ]
     },
     "metadata": {},
     "output_type": "display_data"
    },
    {
     "name": "stderr",
     "output_type": "stream",
     "text": [
      "/usr/local/lib/python3.6/dist-packages/pytorch_lightning/utilities/distributed.py:25: RuntimeWarning: The metric you returned 0.5673192632488164 must be a `torch.Tensor` instance, checkpoint not saved HINT: what is the value of val_loss in validation_epoch_end()?\n",
      "  warnings.warn(*args, **kwargs)\n",
      "\n",
      "Epoch 00052: val_loss  was not in top 3\n"
     ]
    },
    {
     "name": "stdout",
     "output_type": "stream",
     "text": [
      "{'BLEU': 0.5673192632488164}\n",
      "-----EXAMPLE-0------\n",
      "Input Text: 'What are mammals? What are mammals' key characteristics? How many legs do mammals have? query: What is the largest one on land?'\n",
      "      Pred: ' What is the largest leg of a mammal on land on land?  The '?\",Registrationroademanga!\",'\n",
      "    Target: ' What is the largest mammal on land?'\n",
      "------------------\n",
      "-----EXAMPLE-1------\n",
      "Input Text: 'What were the purposes of the Lewis and Clark expedition? query: What were important plants and animals they discovered?'\n",
      "      Pred: ' What were important plants and animals that the Lewis & Clark expedition discovered? The  '?\",angaroad!\",Registrationem The 'g eating moves from'\n",
      "    Target: ' What were important plants and animals Lewis and Clark discovered?'\n",
      "------------------\n",
      "-----EXAMPLE-2------\n",
      "Input Text: 'Why do turkey and Turkey share the same name? Where are turkeys from? What was the importance of turkey in native cultures? When and how were turkeys domesticated? query: Can they fly?'\n",
      "      Pred: ' Can turkeys domesticicated or can they fly? The road '!\",!\".'\n",
      "    Target: ' Can turkeys fly?'\n",
      "------------------\n"
     ]
    },
    {
     "data": {
      "application/vnd.jupyter.widget-view+json": {
       "model_id": "",
       "version_major": 2,
       "version_minor": 0
      },
      "text/plain": [
       "HBox(children=(FloatProgress(value=1.0, bar_style='info', description='Validating', layout=Layout(flex='2'), m…"
      ]
     },
     "metadata": {},
     "output_type": "display_data"
    },
    {
     "name": "stderr",
     "output_type": "stream",
     "text": [
      "/usr/local/lib/python3.6/dist-packages/pytorch_lightning/utilities/distributed.py:25: RuntimeWarning: The metric you returned 0.5749937195035234 must be a `torch.Tensor` instance, checkpoint not saved HINT: what is the value of val_loss in validation_epoch_end()?\n",
      "  warnings.warn(*args, **kwargs)\n",
      "\n",
      "Epoch 00053: val_loss reached 0.57499 (best 0.57719), saving model to /nfs/phd_by_carlos/notebooks/saved_models/BART_Rewriter/epoch=53.ckpt as top 3\n"
     ]
    },
    {
     "name": "stdout",
     "output_type": "stream",
     "text": [
      "{'BLEU': 0.5749937195035234}\n",
      "-----EXAMPLE-0------\n",
      "Input Text: 'What do Spanish people do on Christmas day? query: What do they eat for dinner?'\n",
      "      Pred: ' What do Spanishpeople eat for dinner on Christmas Day? ' ?\", TheRegistrationroademense!\",angaoneend \"g 'What do people in Spain eat for Christmas day?\"'\n",
      "    Target: ' What do Spanish people eat for Christmas dinner?'\n",
      "------------------\n",
      "-----EXAMPLE-1------\n",
      "Input Text: ' query: What were the purposes of the Lewis and Clark expedition?'\n",
      "      Pred: ' What were the purposes of the Lewis and Clark expedition? The road?\", 'Registrationem!\",angasyone The 'gbit movesetch \"'\n",
      "    Target: ' What were the purposes of the Lewis and Clark expedition?'\n",
      "------------------\n",
      "-----EXAMPLE-2------\n",
      "Input Text: 'What were the purposes of the Lewis and Clark expedition? What were important plants and animals Lewis and Clark discovered? query: What were the diplomatic objectives?'\n",
      "      Pred: ' What were the diplomatic objectives of the the Lewis and Clark expedition? The ?\",Registrationroadem!\",anga'moves from the'\n",
      "    Target: ' What were the diplomatic objectives of the Lewis and Clark expedition?'\n",
      "------------------\n"
     ]
    },
    {
     "data": {
      "application/vnd.jupyter.widget-view+json": {
       "model_id": "",
       "version_major": 2,
       "version_minor": 0
      },
      "text/plain": [
       "HBox(children=(FloatProgress(value=1.0, bar_style='info', description='Validating', layout=Layout(flex='2'), m…"
      ]
     },
     "metadata": {},
     "output_type": "display_data"
    },
    {
     "name": "stderr",
     "output_type": "stream",
     "text": [
      "/usr/local/lib/python3.6/dist-packages/pytorch_lightning/utilities/distributed.py:25: RuntimeWarning: The metric you returned 0.5765115526980101 must be a `torch.Tensor` instance, checkpoint not saved HINT: what is the value of val_loss in validation_epoch_end()?\n",
      "  warnings.warn(*args, **kwargs)\n",
      "\n",
      "Epoch 00054: val_loss reached 0.57651 (best 0.57719), saving model to /nfs/phd_by_carlos/notebooks/saved_models/BART_Rewriter/epoch=54.ckpt as top 3\n"
     ]
    },
    {
     "name": "stdout",
     "output_type": "stream",
     "text": [
      "{'BLEU': 0.5765115526980101}\n",
      "-----EXAMPLE-0------\n",
      "Input Text: 'What were the purposes of the Lewis and Clark expedition? What were important plants and animals Lewis and Clark discovered? What were the diplomatic objectives of the Lewis and Clark expedition? What were the Native American tribes that Lewis and Clark encountered? query: How did Sacagawea help them?'\n",
      "      Pred: ' How did Sacagawea help the Lewis&Clark expedition?'\n",
      "    Target: ' How did Sacagawea help Lewis and Clark?'\n",
      "------------------\n",
      "-----EXAMPLE-1------\n",
      "Input Text: 'What's the difference between soup and stew? Is chilli a stew? Is goulash a stew? What are popular stews in France? query: How is cassoulet made?'\n",
      "      Pred: ' How is cassoulet made?  Theroad?\",Registration st'st!\",'\n",
      "    Target: ' How is cassoulet made?'\n",
      "------------------\n",
      "-----EXAMPLE-2------\n",
      "Input Text: 'What is the keto diet? Why was keto diet originally developed? What is ketosis? query: What is paleo?'\n",
      "      Pred: ' What is paleo? The ' ?\",road!\",Registrationem in'\n",
      "    Target: ' What is paleo diet?'\n",
      "------------------\n"
     ]
    },
    {
     "data": {
      "application/vnd.jupyter.widget-view+json": {
       "model_id": "",
       "version_major": 2,
       "version_minor": 0
      },
      "text/plain": [
       "HBox(children=(FloatProgress(value=1.0, bar_style='info', description='Validating', layout=Layout(flex='2'), m…"
      ]
     },
     "metadata": {},
     "output_type": "display_data"
    },
    {
     "name": "stderr",
     "output_type": "stream",
     "text": [
      "/usr/local/lib/python3.6/dist-packages/pytorch_lightning/utilities/distributed.py:25: RuntimeWarning: The metric you returned 0.5766084486321384 must be a `torch.Tensor` instance, checkpoint not saved HINT: what is the value of val_loss in validation_epoch_end()?\n",
      "  warnings.warn(*args, **kwargs)\n",
      "\n",
      "Epoch 00055: val_loss reached 0.57661 (best 0.57719), saving model to /nfs/phd_by_carlos/notebooks/saved_models/BART_Rewriter/epoch=55.ckpt as top 3\n"
     ]
    },
    {
     "name": "stdout",
     "output_type": "stream",
     "text": [
      "{'BLEU': 0.5766084486321384}\n",
      "-----EXAMPLE-0------\n",
      "Input Text: 'Who is the most successful pirate of all time? Who is the most famous female pirate? Tell me more about Ching Shih. What were Ching Shih's code of laws? How did Ching Shih die? Who was Anne Bonny? What was Anne Bonny famous for? query: Who was she married to?'\n",
      "      Pred: ' Who wasAnne Bonny married to?'\n",
      "    Target: ' Who was Anne Bonny married to?'\n",
      "------------------\n",
      "-----EXAMPLE-1------\n",
      "Input Text: 'Why do turkey and Turkey share the same name? Where are turkeys from? What was the importance of turkey in native cultures? When and how were turkeys domesticated? Can turkeys fly? Why did Ben Franklin want turkey to be the national symbol? How did Ben Franklin cook turkey? Why is turkey eaten on Thanksgiving? query: How did it become traditional for Christmas dinner in Britain? '\n",
      "      Pred: ' How did turkey become traditional for Christmas dinner in Britain?'\n",
      "    Target: ' How did turkeys become traditional for Christmas dinner in Britain?'\n",
      "------------------\n",
      "-----EXAMPLE-2------\n",
      "Input Text: 'What were the purposes of the Lewis and Clark expedition? What were important plants and animals Lewis and Clark discovered? query: What were the diplomatic objectives?'\n",
      "      Pred: ' What were the diplomatic objectives of theLewis and Clark expedit The ?\",Registrationroad!\", 'emangaetch in'\n",
      "    Target: ' What were the diplomatic objectives of the Lewis and Clark expedition?'\n",
      "------------------\n"
     ]
    },
    {
     "data": {
      "application/vnd.jupyter.widget-view+json": {
       "model_id": "",
       "version_major": 2,
       "version_minor": 0
      },
      "text/plain": [
       "HBox(children=(FloatProgress(value=1.0, bar_style='info', description='Validating', layout=Layout(flex='2'), m…"
      ]
     },
     "metadata": {},
     "output_type": "display_data"
    },
    {
     "name": "stderr",
     "output_type": "stream",
     "text": [
      "/usr/local/lib/python3.6/dist-packages/pytorch_lightning/utilities/distributed.py:25: RuntimeWarning: The metric you returned 0.5654630732966409 must be a `torch.Tensor` instance, checkpoint not saved HINT: what is the value of val_loss in validation_epoch_end()?\n",
      "  warnings.warn(*args, **kwargs)\n",
      "\n",
      "Epoch 00056: val_loss  was not in top 3\n"
     ]
    },
    {
     "name": "stdout",
     "output_type": "stream",
     "text": [
      "{'BLEU': 0.5654630732966409}\n",
      "-----EXAMPLE-0------\n",
      "Input Text: 'What are the pros and cons of electric cars? Tell me more about Tesla the car company. query: Why did Elon Musk start it?'\n",
      "      Pred: ' Why did Elon Musk start the Tesla car company? The  'roadem?\",!\",Registration The 'gulhu don in from the'\n",
      "    Target: ' Why did Elon Musk start Tesla?'\n",
      "------------------\n",
      "-----EXAMPLE-1------\n",
      "Input Text: 'What are mammals? What are mammals' key characteristics? How many legs do mammals have? What is the largest mammal on land? What is the largest mammal in the world? query: What about in the UK?'\n",
      "      Pred: ' What about in the UK? The ?\",Registrationroadem'moves from from the'\n",
      "    Target: ' What is the largest mammal in the UK?'\n",
      "------------------\n",
      "-----EXAMPLE-2------\n",
      "Input Text: 'What are important literary elements? What is the difference between literary elements and literary devices? What is a literary genre? What are the most important literary genres? What is a trope? query: What are important examples in fantasy?'\n",
      "      Pred: ' What are important examples of literary devices in fantasy?  The '?\",!\",RegistrationroadMagicem in \" moves from from the'\n",
      "    Target: ' What are important examples of tropes in fantasy?'\n",
      "------------------\n"
     ]
    },
    {
     "data": {
      "application/vnd.jupyter.widget-view+json": {
       "model_id": "",
       "version_major": 2,
       "version_minor": 0
      },
      "text/plain": [
       "HBox(children=(FloatProgress(value=1.0, bar_style='info', description='Validating', layout=Layout(flex='2'), m…"
      ]
     },
     "metadata": {},
     "output_type": "display_data"
    },
    {
     "name": "stderr",
     "output_type": "stream",
     "text": [
      "/usr/local/lib/python3.6/dist-packages/pytorch_lightning/utilities/distributed.py:25: RuntimeWarning: The metric you returned 0.5669730168668191 must be a `torch.Tensor` instance, checkpoint not saved HINT: what is the value of val_loss in validation_epoch_end()?\n",
      "  warnings.warn(*args, **kwargs)\n",
      "\n",
      "Epoch 00057: val_loss  was not in top 3\n"
     ]
    },
    {
     "name": "stdout",
     "output_type": "stream",
     "text": [
      "{'BLEU': 0.5669730168668191}\n",
      "-----EXAMPLE-0------\n",
      "Input Text: 'What do Spanish people do on Christmas day? What do Spanish people eat for Christmas dinner? What do Spanish people eat on Christmas eve? What is the Spanish Christmas Lottery? How does the Spanish Christmas Lottery drawing work? How are the Spanish Christmas Lottery tickets sold? What is Tió de Nadal? query: How did this tradition start?'\n",
      "      Pred: ' How did this tradition of Spanish ChristmasLottery ticket sales start?'\n",
      "    Target: ' How did the tradition of Tió de Nadal start?'\n",
      "------------------\n",
      "-----EXAMPLE-1------\n",
      "Input Text: 'What were the purposes of the Lewis and Clark expedition? What were important plants and animals Lewis and Clark discovered? What were the diplomatic objectives of the Lewis and Clark expedition? What were the Native American tribes that Lewis and Clark encountered? How did Sacagawea help Lewis and Clark? Did Lewis and Clark find the Northwest Passage? What was the purpose of Fort Mandan in the Lewis and Clark expedition? How did Lewis and Clark spend the next winter? What happened to Fort Clatsop? query: What was the impact of the expedition?'\n",
      "      Pred: ' What wasThe impact of the expedition on the Native Americans?'\n",
      "    Target: ' What was the impact of the Lewis and Clark expedition?'\n",
      "------------------\n",
      "-----EXAMPLE-2------\n",
      "Input Text: 'What are mammals? What are mammals' key characteristics? How many legs do mammals have? What is the largest mammal on land? What is the largest mammal in the world? query: What about in the UK?'\n",
      "      Pred: ' What about in the UK?  TheRegistrationroadem?\", '!\",anga moves from the UK to'\n",
      "    Target: ' What is the largest mammal in the UK?'\n",
      "------------------\n"
     ]
    },
    {
     "data": {
      "application/vnd.jupyter.widget-view+json": {
       "model_id": "",
       "version_major": 2,
       "version_minor": 0
      },
      "text/plain": [
       "HBox(children=(FloatProgress(value=1.0, bar_style='info', description='Validating', layout=Layout(flex='2'), m…"
      ]
     },
     "metadata": {},
     "output_type": "display_data"
    },
    {
     "name": "stderr",
     "output_type": "stream",
     "text": [
      "/usr/local/lib/python3.6/dist-packages/pytorch_lightning/utilities/distributed.py:25: RuntimeWarning: The metric you returned 0.5769597970933852 must be a `torch.Tensor` instance, checkpoint not saved HINT: what is the value of val_loss in validation_epoch_end()?\n",
      "  warnings.warn(*args, **kwargs)\n",
      "\n",
      "Epoch 00058: val_loss reached 0.57696 (best 0.57719), saving model to /nfs/phd_by_carlos/notebooks/saved_models/BART_Rewriter/epoch=58.ckpt as top 3\n"
     ]
    },
    {
     "name": "stdout",
     "output_type": "stream",
     "text": [
      "{'BLEU': 0.5769597970933852}\n",
      "-----EXAMPLE-0------\n",
      "Input Text: 'What's the difference between soup and stew? Is chilli a stew? Is goulash a stew? What are popular stews in France? How is cassoulet made? Tell me about feijoada and its significance. How is feijoada similar or different from cassoulet? Tell about Bigos stew. query: Why is it important?'\n",
      "      Pred: ' Why is Bigos Stew important?'\n",
      "    Target: ' Why is Bigos stew important?'\n",
      "------------------\n",
      "-----EXAMPLE-1------\n",
      "Input Text: 'Why do turkey and Turkey share the same name? Where are turkeys from? What was the importance of turkey in native cultures? query: When and how were they domesticated?'\n",
      "      Pred: ' When and how were turkeys domesticated?  The?\", 'roademRegistration!\".'\n",
      "    Target: ' When and how were turkeys domesticated?'\n",
      "------------------\n",
      "-----EXAMPLE-2------\n",
      "Input Text: 'Why do turkey and Turkey share the same name? query: Where are turkeys from?'\n",
      "      Pred: ' Where are turkeys from? The Answer: Where do turkeys in the U.S. and Turkey in the UK come from? Cy 'em ?\",road The'\n",
      "    Target: ' Where are turkeys from?'\n",
      "------------------\n"
     ]
    },
    {
     "data": {
      "application/vnd.jupyter.widget-view+json": {
       "model_id": "",
       "version_major": 2,
       "version_minor": 0
      },
      "text/plain": [
       "HBox(children=(FloatProgress(value=1.0, bar_style='info', description='Validating', layout=Layout(flex='2'), m…"
      ]
     },
     "metadata": {},
     "output_type": "display_data"
    },
    {
     "name": "stderr",
     "output_type": "stream",
     "text": [
      "/usr/local/lib/python3.6/dist-packages/pytorch_lightning/utilities/distributed.py:25: RuntimeWarning: The metric you returned 0.5803984428629447 must be a `torch.Tensor` instance, checkpoint not saved HINT: what is the value of val_loss in validation_epoch_end()?\n",
      "  warnings.warn(*args, **kwargs)\n",
      "\n",
      "Epoch 00059: val_loss reached 0.58040 (best 0.58040), saving model to /nfs/phd_by_carlos/notebooks/saved_models/BART_Rewriter/epoch=59.ckpt as top 3\n"
     ]
    },
    {
     "name": "stdout",
     "output_type": "stream",
     "text": [
      "{'BLEU': 0.5803984428629447}\n",
      "-----EXAMPLE-0------\n",
      "Input Text: 'What are the pros and cons of electric cars? query: Tell me more about Tesla.'\n",
      "      Pred: ' Tell me more about Tesla. ' ?\", TheroademRegistrationanga!\", \"ortenseetchulhuMagicEnlargeene moves from theTesla to'\n",
      "    Target: ' Tell me more about Tesla the car company.'\n",
      "------------------\n",
      "-----EXAMPLE-1------\n",
      "Input Text: 'Why do turkey and Turkey share the same name? Where are turkeys from? What was the importance of turkey in native cultures? When and how were turkeys domesticated? Can turkeys fly? Why did Ben Franklin want turkey to be the national symbol? How did Ben Franklin cook turkey? Why is turkey eaten on Thanksgiving? query: How did it become traditional for Christmas dinner in Britain? '\n",
      "      Pred: ' How did turkey become traditional for Christmas dinner in Britain?'\n",
      "    Target: ' How did turkeys become traditional for Christmas dinner in Britain?'\n",
      "------------------\n",
      "-----EXAMPLE-2------\n",
      "Input Text: 'What were the purposes of the Lewis and Clark expedition? What were important plants and animals Lewis and Clark discovered? What were the diplomatic objectives of the Lewis and Clark expedition? query: What were the Native American tribes that they encountered?'\n",
      "      Pred: ' What were the Native American tribes that the Lewis & Clark encountered on their Lewis expedition?'\n",
      "    Target: ' What were the Native American tribes that Lewis and Clark encountered?'\n",
      "------------------\n"
     ]
    },
    {
     "data": {
      "application/vnd.jupyter.widget-view+json": {
       "model_id": "",
       "version_major": 2,
       "version_minor": 0
      },
      "text/plain": [
       "HBox(children=(FloatProgress(value=1.0, bar_style='info', description='Validating', layout=Layout(flex='2'), m…"
      ]
     },
     "metadata": {},
     "output_type": "display_data"
    },
    {
     "name": "stderr",
     "output_type": "stream",
     "text": [
      "/usr/local/lib/python3.6/dist-packages/pytorch_lightning/utilities/distributed.py:25: RuntimeWarning: The metric you returned 0.5802676275748061 must be a `torch.Tensor` instance, checkpoint not saved HINT: what is the value of val_loss in validation_epoch_end()?\n",
      "  warnings.warn(*args, **kwargs)\n",
      "\n",
      "Epoch 00060: val_loss reached 0.58027 (best 0.58040), saving model to /nfs/phd_by_carlos/notebooks/saved_models/BART_Rewriter/epoch=60.ckpt as top 3\n"
     ]
    },
    {
     "name": "stdout",
     "output_type": "stream",
     "text": [
      "{'BLEU': 0.5802676275748061}\n",
      "-----EXAMPLE-0------\n",
      "Input Text: 'Why do turkey and Turkey share the same name? Where are turkeys from? What was the importance of turkey in native cultures? When and how were turkeys domesticated? query: Can they fly?'\n",
      "      Pred: ' Can turkeys fly? The ' ?\",road!\".'\n",
      "    Target: ' Can turkeys fly?'\n",
      "------------------\n",
      "-----EXAMPLE-1------\n",
      "Input Text: 'Why do turkey and Turkey share the same name? Where are turkeys from? What was the importance of turkey in native cultures? When and how were turkeys domesticated? Can turkeys fly? Why did Ben Franklin want turkey to be the national symbol? How did Ben Franklin cook turkey? query: Why is it eaten on Thanksgiving?'\n",
      "      Pred: ' Why is turkey eaten on Thanksgiving?'\n",
      "    Target: ' Why is turkey eaten on Thanksgiving?'\n",
      "------------------\n",
      "-----EXAMPLE-2------\n",
      "Input Text: ' query: What is taught in sociology?'\n",
      "      Pred: ' What is taught in sociology in the U.S. The Answer: What are the qualities of a \"s�� 'Theroadem?\",Registrationangaoneense'\n",
      "    Target: ' What is taught in sociology?'\n",
      "------------------\n"
     ]
    },
    {
     "data": {
      "application/vnd.jupyter.widget-view+json": {
       "model_id": "",
       "version_major": 2,
       "version_minor": 0
      },
      "text/plain": [
       "HBox(children=(FloatProgress(value=1.0, bar_style='info', description='Validating', layout=Layout(flex='2'), m…"
      ]
     },
     "metadata": {},
     "output_type": "display_data"
    },
    {
     "name": "stderr",
     "output_type": "stream",
     "text": [
      "/usr/local/lib/python3.6/dist-packages/pytorch_lightning/utilities/distributed.py:25: RuntimeWarning: The metric you returned 0.5751506897620995 must be a `torch.Tensor` instance, checkpoint not saved HINT: what is the value of val_loss in validation_epoch_end()?\n",
      "  warnings.warn(*args, **kwargs)\n",
      "\n",
      "Epoch 00061: val_loss  was not in top 3\n"
     ]
    },
    {
     "name": "stdout",
     "output_type": "stream",
     "text": [
      "{'BLEU': 0.5751506897620995}\n",
      "-----EXAMPLE-0------\n",
      "Input Text: 'What's the difference between soup and stew? Is chilli a stew? Is goulash a stew? What are popular stews in France? How is cassoulet made? query: Tell me about feijoada and its significance.'\n",
      "      Pred: ' Tell me about feijoada and its significance in French stews.'\n",
      "    Target: ' Tell me about feijoada and its significance.'\n",
      "------------------\n",
      "-----EXAMPLE-1------\n",
      "Input Text: 'What are the pros and cons of electric cars? Tell me more about Tesla the car company. Why did Elon Musk start Tesla? What Tesla car models are available? What is the best selling Tesla car model? What is unique about the Tesla Model 3? What are the safety features of Tesla Model 3? Why is Tesla building Gigafactories? query: What makes the batteries unique?'\n",
      "      Pred: ' Why is Tesla building Gigafactories?'\n",
      "    Target: ' What makes the Tesla batteries unique?'\n",
      "------------------\n",
      "-----EXAMPLE-2------\n",
      "Input Text: 'What are mammals? query: What are their key characteristics?'\n",
      "      Pred: ' What are the key characteristics of mammals? The ?\", 'roadem!\",angaRegistrationsy in \" The are mammals?\"'\n",
      "    Target: ' What are mammals' key characteristics?'\n",
      "------------------\n"
     ]
    },
    {
     "data": {
      "application/vnd.jupyter.widget-view+json": {
       "model_id": "",
       "version_major": 2,
       "version_minor": 0
      },
      "text/plain": [
       "HBox(children=(FloatProgress(value=1.0, bar_style='info', description='Validating', layout=Layout(flex='2'), m…"
      ]
     },
     "metadata": {},
     "output_type": "display_data"
    },
    {
     "name": "stderr",
     "output_type": "stream",
     "text": [
      "/usr/local/lib/python3.6/dist-packages/pytorch_lightning/utilities/distributed.py:25: RuntimeWarning: The metric you returned 0.5655407108155267 must be a `torch.Tensor` instance, checkpoint not saved HINT: what is the value of val_loss in validation_epoch_end()?\n",
      "  warnings.warn(*args, **kwargs)\n",
      "\n",
      "Epoch 00062: val_loss  was not in top 3\n"
     ]
    },
    {
     "name": "stdout",
     "output_type": "stream",
     "text": [
      "{'BLEU': 0.5655407108155267}\n",
      "-----EXAMPLE-0------\n",
      "Input Text: 'What is taught in sociology? What is the main contribution of Auguste Comte to sociology? What is the role of positivism in sociology? query: What is Herbert Spencer known for?'\n",
      "      Pred: ' What is Herbert Spencer known for as a sociologist, besides positivism? Cy The 'road?\",Registrationanga!\",inventoryQuantity \" moves!\".'\n",
      "    Target: ' What is Herbert Spencer known for in sociology?'\n",
      "------------------\n",
      "-----EXAMPLE-1------\n",
      "Input Text: 'What are the pros and cons of electric cars? Tell me more about Tesla the car company. Why did Elon Musk start Tesla? What Tesla car models are available? What is the best selling Tesla car model? What is unique about the Tesla Model 3? What are the safety features of Tesla Model 3? Why is Tesla building Gigafactories? query: What makes the batteries unique?'\n",
      "      Pred: ' Why is Tesla building Gigafactories?'\n",
      "    Target: ' What makes the Tesla batteries unique?'\n",
      "------------------\n",
      "-----EXAMPLE-2------\n",
      "Input Text: 'What were the purposes of the Lewis and Clark expedition? What were important plants and animals Lewis and Clark discovered? What were the diplomatic objectives of the Lewis and Clark expedition? query: What were the Native American tribes that they encountered?'\n",
      "      Pred: ' What were the Native American tribes that the Lewis & Clark encountered on their Lewis expedition?'\n",
      "    Target: ' What were the Native American tribes that Lewis and Clark encountered?'\n",
      "------------------\n"
     ]
    },
    {
     "data": {
      "application/vnd.jupyter.widget-view+json": {
       "model_id": "",
       "version_major": 2,
       "version_minor": 0
      },
      "text/plain": [
       "HBox(children=(FloatProgress(value=1.0, bar_style='info', description='Validating', layout=Layout(flex='2'), m…"
      ]
     },
     "metadata": {},
     "output_type": "display_data"
    },
    {
     "name": "stderr",
     "output_type": "stream",
     "text": [
      "/usr/local/lib/python3.6/dist-packages/pytorch_lightning/utilities/distributed.py:25: RuntimeWarning: The metric you returned 0.5886129040191294 must be a `torch.Tensor` instance, checkpoint not saved HINT: what is the value of val_loss in validation_epoch_end()?\n",
      "  warnings.warn(*args, **kwargs)\n",
      "\n",
      "Epoch 00063: val_loss reached 0.58861 (best 0.58861), saving model to /nfs/phd_by_carlos/notebooks/saved_models/BART_Rewriter/epoch=63.ckpt as top 3\n"
     ]
    },
    {
     "name": "stdout",
     "output_type": "stream",
     "text": [
      "{'BLEU': 0.5886129040191294}\n",
      "-----EXAMPLE-0------\n",
      "Input Text: 'What are mammals? query: What are their key characteristics?'\n",
      "      Pred: ' What are the key characteristics of mammals? The ?\",angaroadem '!\",Registrationsy \"enseetch in'\n",
      "    Target: ' What are mammals' key characteristics?'\n",
      "------------------\n",
      "-----EXAMPLE-1------\n",
      "Input Text: 'What do Spanish people do on Christmas day? What do Spanish people eat for Christmas dinner? What do Spanish people eat on Christmas eve? What is the Spanish Christmas Lottery? query: How does the drawing work?'\n",
      "      Pred: ' How does the drawing work for the Christmas Lotter in the Spanish signal system?'\n",
      "    Target: ' How does the Spanish Christmas Lottery drawing work?'\n",
      "------------------\n",
      "-----EXAMPLE-2------\n",
      "Input Text: 'What are mammals? query: What are their key characteristics?'\n",
      "      Pred: ' What are the key characteristics of mammals? The ?\",angaroadem '!\",Registrationsy \"enseetch in'\n",
      "    Target: ' What are mammals' key characteristics?'\n",
      "------------------\n"
     ]
    },
    {
     "data": {
      "application/vnd.jupyter.widget-view+json": {
       "model_id": "",
       "version_major": 2,
       "version_minor": 0
      },
      "text/plain": [
       "HBox(children=(FloatProgress(value=1.0, bar_style='info', description='Validating', layout=Layout(flex='2'), m…"
      ]
     },
     "metadata": {},
     "output_type": "display_data"
    },
    {
     "name": "stderr",
     "output_type": "stream",
     "text": [
      "/usr/local/lib/python3.6/dist-packages/pytorch_lightning/utilities/distributed.py:25: RuntimeWarning: The metric you returned 0.5747445175184478 must be a `torch.Tensor` instance, checkpoint not saved HINT: what is the value of val_loss in validation_epoch_end()?\n",
      "  warnings.warn(*args, **kwargs)\n",
      "\n",
      "Epoch 00064: val_loss  was not in top 3\n"
     ]
    },
    {
     "name": "stdout",
     "output_type": "stream",
     "text": [
      "{'BLEU': 0.5747445175184478}\n",
      "-----EXAMPLE-0------\n",
      "Input Text: ' query: What do Spanish people do on Christmas day?'\n",
      "      Pred: ' What do Spanish people do on Christmas day?  'roadRegistration?\", TheMagicense!\",angaspend in \"gbit part of the'\n",
      "    Target: ' What do Spanish people do on Christmas day?'\n",
      "------------------\n",
      "-----EXAMPLE-1------\n",
      "Input Text: 'What do Spanish people do on Christmas day? What do Spanish people eat for Christmas dinner? What do Spanish people eat on Christmas eve? What is the Spanish Christmas Lottery? How does the Spanish Christmas Lottery drawing work? query: How are the tickets sold?'\n",
      "      Pred: ' How are the tickets sold in Spain on Christmas Day and Christmas Eve?'\n",
      "    Target: ' How are the Spanish Christmas Lottery tickets sold?'\n",
      "------------------\n",
      "-----EXAMPLE-2------\n",
      "Input Text: 'What do Spanish people do on Christmas day? query: What do they eat for dinner?'\n",
      "      Pred: ' What do Spanishpeople eat for dinner on Christmas Day? ' road?\",Registration Theenseem \"anga!\",'\n",
      "    Target: ' What do Spanish people eat for Christmas dinner?'\n",
      "------------------\n"
     ]
    },
    {
     "data": {
      "application/vnd.jupyter.widget-view+json": {
       "model_id": "",
       "version_major": 2,
       "version_minor": 0
      },
      "text/plain": [
       "HBox(children=(FloatProgress(value=1.0, bar_style='info', description='Validating', layout=Layout(flex='2'), m…"
      ]
     },
     "metadata": {},
     "output_type": "display_data"
    },
    {
     "name": "stderr",
     "output_type": "stream",
     "text": [
      "/usr/local/lib/python3.6/dist-packages/pytorch_lightning/utilities/distributed.py:25: RuntimeWarning: The metric you returned 0.5585010273455056 must be a `torch.Tensor` instance, checkpoint not saved HINT: what is the value of val_loss in validation_epoch_end()?\n",
      "  warnings.warn(*args, **kwargs)\n",
      "\n",
      "Epoch 00065: val_loss  was not in top 3\n"
     ]
    },
    {
     "name": "stdout",
     "output_type": "stream",
     "text": [
      "{'BLEU': 0.5585010273455056}\n",
      "-----EXAMPLE-0------\n",
      "Input Text: 'What are the pros and cons of electric cars? Tell me more about Tesla the car company. Why did Elon Musk start Tesla? What Tesla car models are available? What is the best selling Tesla car model? What is unique about the Tesla Model 3? What are the safety features of Tesla Model 3? Why is Tesla building Gigafactories? What makes the Tesla batteries unique? How long can Tesla car batteries last? query: Tell me more about autopilot.'\n",
      "      Pred: ' Tell me about autopilot.'\n",
      "    Target: ' Tell me more about autopilot in Tesla cars.'\n",
      "------------------\n",
      "-----EXAMPLE-1------\n",
      "Input Text: 'What do Spanish people do on Christmas day? query: What do they eat for dinner?'\n",
      "      Pred: ' What do Spanishpeople eat for dinner on Christmas Day? ' ?\",Registrationroad Theenseem \"anga!\",'\n",
      "    Target: ' What do Spanish people eat for Christmas dinner?'\n",
      "------------------\n",
      "-----EXAMPLE-2------\n",
      "Input Text: 'What's the difference between soup and stew? Is chilli a stew? Is goulash a stew? query: What are popular ones in France?'\n",
      "      Pred: ' What are popular French types of soups in France? rev  Theroad?\",Registrationem st!\", \" 'goulash being a stew?\"'\n",
      "    Target: ' What are popular stews in France?'\n",
      "------------------\n"
     ]
    },
    {
     "data": {
      "application/vnd.jupyter.widget-view+json": {
       "model_id": "",
       "version_major": 2,
       "version_minor": 0
      },
      "text/plain": [
       "HBox(children=(FloatProgress(value=1.0, bar_style='info', description='Validating', layout=Layout(flex='2'), m…"
      ]
     },
     "metadata": {},
     "output_type": "display_data"
    },
    {
     "name": "stderr",
     "output_type": "stream",
     "text": [
      "/usr/local/lib/python3.6/dist-packages/pytorch_lightning/utilities/distributed.py:25: RuntimeWarning: The metric you returned 0.5635661023605504 must be a `torch.Tensor` instance, checkpoint not saved HINT: what is the value of val_loss in validation_epoch_end()?\n",
      "  warnings.warn(*args, **kwargs)\n",
      "\n",
      "Epoch 00066: val_loss  was not in top 3\n"
     ]
    },
    {
     "name": "stdout",
     "output_type": "stream",
     "text": [
      "{'BLEU': 0.5635661023605504}\n",
      "-----EXAMPLE-0------\n",
      "Input Text: 'Who is the most successful pirate of all time? Who is the most famous female pirate? Tell me more about Ching Shih. What were Ching Shih's code of laws? query: How did she die?'\n",
      "      Pred: ' How did ChingShih the pirate of the 1800s die?'\n",
      "    Target: ' How did Ching Shih die?'\n",
      "------------------\n",
      "-----EXAMPLE-1------\n",
      "Input Text: ' query: Who is the most successful pirate of all time?'\n",
      "      Pred: ' Who is the most successful pirate of all time?  The?\", 'roadRegistration!\",angaemsyMagicenseetchendone \"'\n",
      "    Target: ' Who is the most successful pirate of all time?'\n",
      "------------------\n",
      "-----EXAMPLE-2------\n",
      "Input Text: 'What are mammals? What are mammals' key characteristics? How many legs do mammals have? What is the largest mammal on land? What is the largest mammal in the world? What is the largest mammal in the UK? What about the largest mammal to ever walk the earth? Tell me about Blue whales. How much do Blue whales weigh? query: Where do they live?'\n",
      "      Pred: ' Where do Blue whale's live?'\n",
      "    Target: ' Where do blue whales live?'\n",
      "------------------\n"
     ]
    },
    {
     "name": "stderr",
     "output_type": "stream",
     "text": [
      "/usr/local/lib/python3.6/dist-packages/pytorch_lightning/utilities/distributed.py:25: UserWarning: Detected KeyboardInterrupt, attempting graceful shutdown...\n",
      "  warnings.warn(*args, **kwargs)\n"
     ]
    },
    {
     "name": "stdout",
     "output_type": "stream",
     "text": [
      "\n"
     ]
    },
    {
     "data": {
      "text/plain": [
       "1"
      ]
     },
     "execution_count": 30,
     "metadata": {},
     "output_type": "execute_result"
    }
   ],
   "source": [
    "trainer = Trainer(gpus=1, gradient_clip_val=0.5, check_val_every_n_epoch=0.5,checkpoint_callback=checkpoint_callback)\n",
    "trainer.fit(model, train_dataloader, val_dataloader)"
   ]
  },
  {
   "cell_type": "code",
   "execution_count": 32,
   "metadata": {},
   "outputs": [],
   "source": [
    "torch.save(model.state_dict(), \"saved_models/BART_Rewriter/BART_save_dict.ckpt\")"
   ]
  },
  {
   "cell_type": "code",
   "execution_count": 35,
   "metadata": {},
   "outputs": [
    {
     "name": "stderr",
     "output_type": "stream",
     "text": [
      "Some weights of BartForConditionalGeneration were not initialized from the model checkpoint at facebook/bart-large-cnn and are newly initialized: ['final_logits_bias']\n",
      "You should probably TRAIN this model on a down-stream task to be able to use it for predictions and inference.\n"
     ]
    },
    {
     "ename": "KeyError",
     "evalue": "'state_dict'",
     "output_type": "error",
     "traceback": [
      "\u001b[0;31m---------------------------------------------------------------------------\u001b[0m",
      "\u001b[0;31mKeyError\u001b[0m                                  Traceback (most recent call last)",
      "\u001b[0;32m<ipython-input-35-745939209b22>\u001b[0m in \u001b[0;36m<module>\u001b[0;34m\u001b[0m\n\u001b[0;32m----> 1\u001b[0;31m \u001b[0mmodel\u001b[0m\u001b[0;34m.\u001b[0m\u001b[0mload_from_checkpoint\u001b[0m\u001b[0;34m(\u001b[0m\u001b[0mcheckpoint_path\u001b[0m\u001b[0;34m=\u001b[0m\u001b[0;34m\"saved_models/BART_Rewriter/BART_save_dict.ckpt\"\u001b[0m\u001b[0;34m)\u001b[0m\u001b[0;34m\u001b[0m\u001b[0;34m\u001b[0m\u001b[0m\n\u001b[0m",
      "\u001b[0;32m/usr/local/lib/python3.6/dist-packages/pytorch_lightning/core/saving.py\u001b[0m in \u001b[0;36mload_from_checkpoint\u001b[0;34m(cls, checkpoint_path, map_location, hparams_file, tags_csv, *args, **kwargs)\u001b[0m\n\u001b[1;32m    167\u001b[0m         \u001b[0mcheckpoint\u001b[0m\u001b[0;34m[\u001b[0m\u001b[0mcls\u001b[0m\u001b[0;34m.\u001b[0m\u001b[0mCHECKPOINT_HYPER_PARAMS_KEY\u001b[0m\u001b[0;34m]\u001b[0m\u001b[0;34m.\u001b[0m\u001b[0mupdate\u001b[0m\u001b[0;34m(\u001b[0m\u001b[0mkwargs\u001b[0m\u001b[0;34m)\u001b[0m\u001b[0;34m\u001b[0m\u001b[0;34m\u001b[0m\u001b[0m\n\u001b[1;32m    168\u001b[0m \u001b[0;34m\u001b[0m\u001b[0m\n\u001b[0;32m--> 169\u001b[0;31m         \u001b[0mmodel\u001b[0m \u001b[0;34m=\u001b[0m \u001b[0mcls\u001b[0m\u001b[0;34m.\u001b[0m\u001b[0m_load_model_state\u001b[0m\u001b[0;34m(\u001b[0m\u001b[0mcheckpoint\u001b[0m\u001b[0;34m,\u001b[0m \u001b[0;34m*\u001b[0m\u001b[0margs\u001b[0m\u001b[0;34m,\u001b[0m \u001b[0;34m**\u001b[0m\u001b[0mkwargs\u001b[0m\u001b[0;34m)\u001b[0m\u001b[0;34m\u001b[0m\u001b[0;34m\u001b[0m\u001b[0m\n\u001b[0m\u001b[1;32m    170\u001b[0m         \u001b[0;32mreturn\u001b[0m \u001b[0mmodel\u001b[0m\u001b[0;34m\u001b[0m\u001b[0;34m\u001b[0m\u001b[0m\n\u001b[1;32m    171\u001b[0m \u001b[0;34m\u001b[0m\u001b[0m\n",
      "\u001b[0;32m/usr/local/lib/python3.6/dist-packages/pytorch_lightning/core/saving.py\u001b[0m in \u001b[0;36m_load_model_state\u001b[0;34m(cls, checkpoint, *cls_args, **cls_kwargs)\u001b[0m\n\u001b[1;32m    205\u001b[0m         \u001b[0mmodel\u001b[0m \u001b[0;34m=\u001b[0m \u001b[0mcls\u001b[0m\u001b[0;34m(\u001b[0m\u001b[0;34m*\u001b[0m\u001b[0mcls_args\u001b[0m\u001b[0;34m,\u001b[0m \u001b[0;34m**\u001b[0m\u001b[0mcls_kwargs\u001b[0m\u001b[0;34m)\u001b[0m\u001b[0;34m\u001b[0m\u001b[0;34m\u001b[0m\u001b[0m\n\u001b[1;32m    206\u001b[0m         \u001b[0;31m# load the state_dict on the model automatically\u001b[0m\u001b[0;34m\u001b[0m\u001b[0;34m\u001b[0m\u001b[0;34m\u001b[0m\u001b[0m\n\u001b[0;32m--> 207\u001b[0;31m         \u001b[0mmodel\u001b[0m\u001b[0;34m.\u001b[0m\u001b[0mload_state_dict\u001b[0m\u001b[0;34m(\u001b[0m\u001b[0mcheckpoint\u001b[0m\u001b[0;34m[\u001b[0m\u001b[0;34m'state_dict'\u001b[0m\u001b[0;34m]\u001b[0m\u001b[0;34m)\u001b[0m\u001b[0;34m\u001b[0m\u001b[0;34m\u001b[0m\u001b[0m\n\u001b[0m\u001b[1;32m    208\u001b[0m \u001b[0;34m\u001b[0m\u001b[0m\n\u001b[1;32m    209\u001b[0m         \u001b[0;31m# give model a chance to load something\u001b[0m\u001b[0;34m\u001b[0m\u001b[0;34m\u001b[0m\u001b[0;34m\u001b[0m\u001b[0m\n",
      "\u001b[0;31mKeyError\u001b[0m: 'state_dict'"
     ]
    }
   ],
   "source": [
    "model.load_from_checkpoint(checkpoint_path=\"saved_models/BART_Rewriter/BART_save_dict.ckpt\")"
   ]
  },
  {
   "cell_type": "code",
   "execution_count": 13,
   "metadata": {
    "collapsed": true,
    "jupyter": {
     "outputs_hidden": true
    }
   },
   "outputs": [
    {
     "name": "stdout",
     "output_type": "stream",
     "text": [
      "Detected 8 GPUS available, using [3].\n"
     ]
    },
    {
     "data": {
      "application/vnd.jupyter.widget-view+json": {
       "model_id": "bcc84515c2dc4711b1fffe4e019bd6f9",
       "version_major": 2,
       "version_minor": 0
      },
      "text/plain": [
       "HBox(children=(FloatProgress(value=0.0, max=5.0), HTML(value='')))"
      ]
     },
     "metadata": {},
     "output_type": "display_data"
    },
    {
     "name": "stdout",
     "output_type": "stream",
     "text": [
      "\n"
     ]
    },
    {
     "data": {
      "application/vnd.jupyter.widget-view+json": {
       "model_id": "5fe3bef0f1a8403c8daf35a12aff3660",
       "version_major": 2,
       "version_minor": 0
      },
      "text/plain": [
       "HBox(children=(FloatProgress(value=0.0, max=5.0), HTML(value='')))"
      ]
     },
     "metadata": {},
     "output_type": "display_data"
    },
    {
     "name": "stdout",
     "output_type": "stream",
     "text": [
      "\n"
     ]
    },
    {
     "data": {
      "application/vnd.jupyter.widget-view+json": {
       "model_id": "b4816e2c5732402388876ef62b0a770c",
       "version_major": 2,
       "version_minor": 0
      },
      "text/plain": [
       "HBox(children=(FloatProgress(value=0.0, max=5.0), HTML(value='')))"
      ]
     },
     "metadata": {},
     "output_type": "display_data"
    },
    {
     "name": "stdout",
     "output_type": "stream",
     "text": [
      "\n"
     ]
    },
    {
     "data": {
      "application/vnd.jupyter.widget-view+json": {
       "model_id": "cae2d2405e6f4bfebd79fad2730eb08a",
       "version_major": 2,
       "version_minor": 0
      },
      "text/plain": [
       "HBox(children=(FloatProgress(value=0.0, max=5.0), HTML(value='')))"
      ]
     },
     "metadata": {},
     "output_type": "display_data"
    },
    {
     "name": "stdout",
     "output_type": "stream",
     "text": [
      "\n"
     ]
    },
    {
     "data": {
      "application/vnd.jupyter.widget-view+json": {
       "model_id": "2542f0ddc71a4bf89f32ae79364affbe",
       "version_major": 2,
       "version_minor": 0
      },
      "text/plain": [
       "HBox(children=(FloatProgress(value=0.0, max=5.0), HTML(value='')))"
      ]
     },
     "metadata": {},
     "output_type": "display_data"
    },
    {
     "name": "stdout",
     "output_type": "stream",
     "text": [
      "\n"
     ]
    },
    {
     "data": {
      "application/vnd.jupyter.widget-view+json": {
       "model_id": "403ca200312945ad9b61cd6302168269",
       "version_major": 2,
       "version_minor": 0
      },
      "text/plain": [
       "HBox(children=(FloatProgress(value=0.0, max=5.0), HTML(value='')))"
      ]
     },
     "metadata": {},
     "output_type": "display_data"
    },
    {
     "name": "stdout",
     "output_type": "stream",
     "text": [
      "\n"
     ]
    },
    {
     "data": {
      "application/vnd.jupyter.widget-view+json": {
       "model_id": "122b3040b0594b01aeb985aecbb28984",
       "version_major": 2,
       "version_minor": 0
      },
      "text/plain": [
       "HBox(children=(FloatProgress(value=0.0, max=5.0), HTML(value='')))"
      ]
     },
     "metadata": {},
     "output_type": "display_data"
    },
    {
     "name": "stdout",
     "output_type": "stream",
     "text": [
      "\n"
     ]
    },
    {
     "data": {
      "application/vnd.jupyter.widget-view+json": {
       "model_id": "6d4020fb767d411586274c3e8e40eaa1",
       "version_major": 2,
       "version_minor": 0
      },
      "text/plain": [
       "HBox(children=(FloatProgress(value=0.0, max=5.0), HTML(value='')))"
      ]
     },
     "metadata": {},
     "output_type": "display_data"
    },
    {
     "name": "stdout",
     "output_type": "stream",
     "text": [
      "\n"
     ]
    },
    {
     "data": {
      "application/vnd.jupyter.widget-view+json": {
       "model_id": "d70b78f8f0584cf5a38d09917dce86f4",
       "version_major": 2,
       "version_minor": 0
      },
      "text/plain": [
       "HBox(children=(FloatProgress(value=0.0, max=5.0), HTML(value='')))"
      ]
     },
     "metadata": {},
     "output_type": "display_data"
    },
    {
     "name": "stdout",
     "output_type": "stream",
     "text": [
      "\n"
     ]
    },
    {
     "data": {
      "application/vnd.jupyter.widget-view+json": {
       "model_id": "abb0161542c04aef9c139dd90e8e0b3e",
       "version_major": 2,
       "version_minor": 0
      },
      "text/plain": [
       "HBox(children=(FloatProgress(value=0.0, max=5.0), HTML(value='')))"
      ]
     },
     "metadata": {},
     "output_type": "display_data"
    },
    {
     "name": "stdout",
     "output_type": "stream",
     "text": [
      "\n"
     ]
    },
    {
     "data": {
      "application/vnd.jupyter.widget-view+json": {
       "model_id": "b932848da2964c87a8d52f6df24e2ad2",
       "version_major": 2,
       "version_minor": 0
      },
      "text/plain": [
       "HBox(children=(FloatProgress(value=0.0, max=5.0), HTML(value='')))"
      ]
     },
     "metadata": {},
     "output_type": "display_data"
    },
    {
     "name": "stdout",
     "output_type": "stream",
     "text": [
      "\n"
     ]
    },
    {
     "data": {
      "application/vnd.jupyter.widget-view+json": {
       "model_id": "4c2641e599d84be8a1ae4057fcbf8ae4",
       "version_major": 2,
       "version_minor": 0
      },
      "text/plain": [
       "HBox(children=(FloatProgress(value=0.0, max=5.0), HTML(value='')))"
      ]
     },
     "metadata": {},
     "output_type": "display_data"
    },
    {
     "name": "stdout",
     "output_type": "stream",
     "text": [
      "\n"
     ]
    },
    {
     "data": {
      "application/vnd.jupyter.widget-view+json": {
       "model_id": "7a5df0600a1f48a980517ff2dc096d25",
       "version_major": 2,
       "version_minor": 0
      },
      "text/plain": [
       "HBox(children=(FloatProgress(value=0.0, max=5.0), HTML(value='')))"
      ]
     },
     "metadata": {},
     "output_type": "display_data"
    },
    {
     "name": "stdout",
     "output_type": "stream",
     "text": [
      "\n"
     ]
    },
    {
     "data": {
      "application/vnd.jupyter.widget-view+json": {
       "model_id": "43575dab285c4bf3a13670571bfb8323",
       "version_major": 2,
       "version_minor": 0
      },
      "text/plain": [
       "HBox(children=(FloatProgress(value=0.0, max=5.0), HTML(value='')))"
      ]
     },
     "metadata": {},
     "output_type": "display_data"
    },
    {
     "name": "stdout",
     "output_type": "stream",
     "text": [
      "\n"
     ]
    },
    {
     "data": {
      "application/vnd.jupyter.widget-view+json": {
       "model_id": "960e2e0ad23b4534b2246cefee89288e",
       "version_major": 2,
       "version_minor": 0
      },
      "text/plain": [
       "HBox(children=(FloatProgress(value=0.0, max=5.0), HTML(value='')))"
      ]
     },
     "metadata": {},
     "output_type": "display_data"
    },
    {
     "name": "stdout",
     "output_type": "stream",
     "text": [
      "\n"
     ]
    },
    {
     "data": {
      "application/vnd.jupyter.widget-view+json": {
       "model_id": "4959008b99124c7cb42d747c2b7b0c44",
       "version_major": 2,
       "version_minor": 0
      },
      "text/plain": [
       "HBox(children=(FloatProgress(value=0.0, max=5.0), HTML(value='')))"
      ]
     },
     "metadata": {},
     "output_type": "display_data"
    },
    {
     "name": "stdout",
     "output_type": "stream",
     "text": [
      "\n",
      "Keyboard Interrupt!\n"
     ]
    }
   ],
   "source": [
    "my_trainer = Model_Trainer(gpus=[3])\n",
    "nan_batch = my_trainer.train(model, train_dataloader)"
   ]
  },
  {
   "cell_type": "code",
   "execution_count": 28,
   "metadata": {},
   "outputs": [
    {
     "name": "stderr",
     "output_type": "stream",
     "text": [
      "Some weights of BartForConditionalGeneration were not initialized from the model checkpoint at facebook/bart-large-cnn and are newly initialized: ['final_logits_bias']\n",
      "You should probably TRAIN this model on a down-stream task to be able to use it for predictions and inference.\n"
     ]
    },
    {
     "name": "stdout",
     "output_type": "stream",
     "text": [
      "BERT ReRanker initialised on cuda. Batch size 1\n"
     ]
    }
   ],
   "source": [
    "BART_query_rewriter_transform = BART_Query_Rewriter_Transform(\"saved_models/BART_Rewriter/BART_save_dict.ckpt\")"
   ]
  },
  {
   "cell_type": "code",
   "execution_count": 37,
   "metadata": {},
   "outputs": [
    {
     "data": {
      "application/vnd.jupyter.widget-view+json": {
       "model_id": "47067dfc300943bca58e9d354be52f01",
       "version_major": 2,
       "version_minor": 0
      },
      "text/plain": [
       "HBox(children=(FloatProgress(value=0.0, description='Re-Writing queries', max=1.0, style=ProgressStyle(descrip…"
      ]
     },
     "metadata": {},
     "output_type": "display_data"
    },
    {
     "name": "stdout",
     "output_type": "stream",
     "text": [
      "\n"
     ]
    }
   ],
   "source": [
    "test_samples = [{'unresolved_query':'how do they compare?', 'previous_queries':['How do you know when your cable is going bad?',\n",
    "                                                                               'Now it stopped working. Why?',\n",
    "                                                                               'how much does a lock cost?',\n",
    "                                                                               'can they be hacked?']}]\n",
    "test_samples = BART_query_rewriter_transform(test_samples)\n",
    "test_samples = Query_Cleaner_Transform(fields=[('rewritten_query','clean_rewritten_query')])(test_samples)"
   ]
  },
  {
   "cell_type": "code",
   "execution_count": 38,
   "metadata": {},
   "outputs": [
    {
     "data": {
      "text/plain": [
       "' how do lock types compare to a cable and cable go bad?'"
      ]
     },
     "execution_count": 38,
     "metadata": {},
     "output_type": "execute_result"
    }
   ],
   "source": [
    "test_samples[0][\"clean_rewritten_query\"]"
   ]
  },
  {
   "cell_type": "code",
   "execution_count": 59,
   "metadata": {},
   "outputs": [],
   "source": [
    "eval_raw_samples = raw_data_loader.get_topics(\"all\", ignore_missing_q_rels=True)\n",
    "eval_raw_samples = Rewriter_Query_Resolver_Transform(get_query_fn, prev_queries_utter_type=\"raw_utterance\")(eval_raw_samples)"
   ]
  },
  {
   "cell_type": "code",
   "execution_count": 60,
   "metadata": {},
   "outputs": [
    {
     "data": {
      "text/plain": [
       "479"
      ]
     },
     "execution_count": 60,
     "metadata": {},
     "output_type": "execute_result"
    }
   ],
   "source": [
    "len(eval_raw_samples)"
   ]
  },
  {
   "cell_type": "code",
   "execution_count": 62,
   "metadata": {},
   "outputs": [
    {
     "data": {
      "text/plain": [
       "{'prev_turns': ['31_1', '31_2', '31_3', '31_4'],\n",
       " 'q_id': '31_5',\n",
       " 'q_rel': ['MARCO_2509296'],\n",
       " 'unresolved_query': 'Can it spread to the throat?',\n",
       " 'previous_queries': ['What is throat cancer?',\n",
       "  'Is it treatable?',\n",
       "  'Tell me about lung cancer.',\n",
       "  'What are its symptoms? '],\n",
       " 'resolved_query': 'Can lung cancer spread to the throat?',\n",
       " 'full_rewritten_queries': [' What is throat cancer?',\n",
       "  ' Is throat cancer treatable?',\n",
       "  ' Tell me about lung cancer. What is throat cancer?',\n",
       "  \" What are lung cancer's symptoms?\",\n",
       "  ' Can lung cancer spread to the throat?'],\n",
       " 'rewritten_query': ' Can lung cancer spread to the throat?'}"
      ]
     },
     "execution_count": 62,
     "metadata": {},
     "output_type": "execute_result"
    }
   ],
   "source": [
    "eval_raw_samples[4]"
   ]
  },
  {
   "cell_type": "code",
   "execution_count": 103,
   "metadata": {},
   "outputs": [
    {
     "data": {
      "application/vnd.jupyter.widget-view+json": {
       "model_id": "cf08ec589deb4ec6aab3f95698e05b1e",
       "version_major": 2,
       "version_minor": 0
      },
      "text/plain": [
       "HBox(children=(FloatProgress(value=0.0, description='Re-Writing queries', max=479.0, style=ProgressStyle(descr…"
      ]
     },
     "metadata": {},
     "output_type": "display_data"
    },
    {
     "name": "stdout",
     "output_type": "stream",
     "text": [
      "\n"
     ]
    }
   ],
   "source": [
    "eval_raw_samples = BART_query_rewriter_transform(eval_raw_samples)\n",
    "eval_raw_samples = Query_Cleaner_Transform(fields=[('rewritten_query','clean_rewritten_query')])(eval_raw_samples)"
   ]
  },
  {
   "cell_type": "code",
   "execution_count": 104,
   "metadata": {},
   "outputs": [],
   "source": [
    "for sample in eval_raw_samples:\n",
    "    del sample[\"q_rel\"]\n",
    "    del sample[\"input_ids\"]\n",
    "    del sample[\"pred_ids\"]"
   ]
  },
  {
   "cell_type": "code",
   "execution_count": 105,
   "metadata": {},
   "outputs": [
    {
     "data": {
      "text/plain": [
       "{'prev_turns': ['31_1', '31_2', '31_3', '31_4'],\n",
       " 'q_id': '31_5',\n",
       " 'unresolved_query': 'Can it spread to the throat?',\n",
       " 'previous_queries': ['What is throat cancer?',\n",
       "  'Is throat cancer treatable?',\n",
       "  'Tell me about lung cancer.',\n",
       "  \"What are lung cancer's symptoms?\"],\n",
       " 'resolved_query': 'Can lung cancer spread to the throat?',\n",
       " 'input_text': \"What is throat cancer? Is throat cancer treatable? Tell me about lung cancer. What are lung cancer's symptoms? query: Can it spread to the throat?\",\n",
       " 'rewritten_query': 'What is throat cancer? Is throat cancer treatable? Tell me about lung cancer. What are lung cancer\\'s symptoms? query: Can lung cancer spread to the throat? The \\'\\xa0?\",Registrationem and',\n",
       " 'clean_rewritten_query': ' Can lung cancer spread to the throat?'}"
      ]
     },
     "execution_count": 105,
     "metadata": {},
     "output_type": "execute_result"
    }
   ],
   "source": [
    "eval_raw_samples[4]"
   ]
  },
  {
   "cell_type": "code",
   "execution_count": 63,
   "metadata": {},
   "outputs": [],
   "source": [
    "import csv\n",
    "keys = eval_raw_samples[0].keys()\n",
    "with open('saved_models/BART_Rewriter/BART_y1_self_rewrites.csv', 'w', newline='')  as output_file:\n",
    "    dict_writer = csv.DictWriter(output_file, keys)\n",
    "    dict_writer.writeheader()\n",
    "    dict_writer.writerows(eval_raw_samples)"
   ]
  },
  {
   "cell_type": "code",
   "execution_count": 55,
   "metadata": {},
   "outputs": [
    {
     "name": "stderr",
     "output_type": "stream",
     "text": [
      "Some weights of BartForConditionalGeneration were not initialized from the model checkpoint at facebook/bart-large-cnn and are newly initialized: ['final_logits_bias']\n",
      "You should probably TRAIN this model on a down-stream task to be able to use it for predictions and inference.\n"
     ]
    },
    {
     "name": "stdout",
     "output_type": "stream",
     "text": [
      "BERT ReRanker initialised on cuda. Batch size 1\n"
     ]
    }
   ],
   "source": [
    "BART_conv_transform = BART_Full_Conversational_Rewriter_Transform(\"saved_models/BART_Rewriter/BART_save_dict.ckpt\")"
   ]
  },
  {
   "cell_type": "code",
   "execution_count": 61,
   "metadata": {},
   "outputs": [
    {
     "data": {
      "application/vnd.jupyter.widget-view+json": {
       "model_id": "172a0a0fb3de4d1791969c89ba4edebb",
       "version_major": 2,
       "version_minor": 0
      },
      "text/plain": [
       "HBox(children=(FloatProgress(value=0.0, description='BART self feeding rewrites', max=479.0, style=ProgressSty…"
      ]
     },
     "metadata": {},
     "output_type": "display_data"
    },
    {
     "name": "stdout",
     "output_type": "stream",
     "text": [
      "\n"
     ]
    }
   ],
   "source": [
    "test_samples = [{'unresolved_query':'How do they compare?', 'previous_queries':['How do you know when your skateboard is going bad?',\n",
    "                                                                               'Now it stopped working. Why?',\n",
    "                                                                               'how much does a lock cost?',\n",
    "                                                                               'can they be hacked?']}]\n",
    "eval_raw_samples = BART_conv_transform(eval_raw_samples)"
   ]
  },
  {
   "cell_type": "code",
   "execution_count": 65,
   "metadata": {},
   "outputs": [],
   "source": [
    "with jsonlines.open('BART_y1_self_rewrites.jsonl', mode='w') as writer:\n",
    "    writer.write(eval_raw_samples)"
   ]
  },
  {
   "cell_type": "code",
   "execution_count": null,
   "metadata": {},
   "outputs": [],
   "source": []
  }
 ],
 "metadata": {
  "kernelspec": {
   "display_name": "Python 3",
   "language": "python",
   "name": "python3"
  },
  "language_info": {
   "codemirror_mode": {
    "name": "ipython",
    "version": 3
   },
   "file_extension": ".py",
   "mimetype": "text/x-python",
   "name": "python",
   "nbconvert_exporter": "python",
   "pygments_lexer": "ipython3",
   "version": "3.6.9"
  }
 },
 "nbformat": 4,
 "nbformat_minor": 4
}

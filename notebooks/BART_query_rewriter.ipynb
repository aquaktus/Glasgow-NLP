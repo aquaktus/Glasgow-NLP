{
 "cells": [
  {
   "cell_type": "code",
   "execution_count": 1,
   "metadata": {},
   "outputs": [],
   "source": [
    "from src.RawDataLoaders import CAsT_RawDataLoader\n",
    "from src.models_and_transforms.text_transforms import Rewriter_Query_Resolver_Transform, Rewriter_Context_Query_Merge_Transform, \\\n",
    "                                                      BART_Numericalise_Transform\n",
    "from src.pipe_datasets import CAsT_Query_ReWriting_Dataset\n",
    "from src.models_and_transforms.BART_models import BART_Query_ReWriter\n",
    "from src.trainers import Model_Trainer\n",
    "\n",
    "from transformers import BertTokenizer, BartTokenizer\n",
    "from pytorch_lightning import Trainer, Callback\n",
    "from pytorch_lightning.loggers import WandbLogger\n",
    "from tqdm.auto import tqdm \n",
    "%load_ext autoreload\n",
    "%autoreload 2\n",
    "%load_ext line_profiler"
   ]
  },
  {
   "cell_type": "code",
   "execution_count": 2,
   "metadata": {},
   "outputs": [],
   "source": [
    "raw_data_loader = CAsT_RawDataLoader()\n",
    "get_query_fn = raw_data_loader.get_query\n",
    "get_doc_fn = raw_data_loader.get_doc"
   ]
  },
  {
   "cell_type": "code",
   "execution_count": 3,
   "metadata": {},
   "outputs": [],
   "source": [
    "train_raw_samples = raw_data_loader.get_topics(\"train\")"
   ]
  },
  {
   "cell_type": "code",
   "execution_count": 4,
   "metadata": {},
   "outputs": [],
   "source": [
    "train_samples = Rewriter_Query_Resolver_Transform(get_query_fn)(train_raw_samples)\n",
    "train_samples = Rewriter_Context_Query_Merge_Transform()(train_samples)\n",
    "train_samples = BART_Numericalise_Transform(fields=[('input_text', 'input_ids'), ('resolved_query', 'target_ids')])(train_samples)"
   ]
  },
  {
   "cell_type": "code",
   "execution_count": 5,
   "metadata": {},
   "outputs": [
    {
     "data": {
      "application/vnd.jupyter.widget-view+json": {
       "model_id": "f08cadcce6834e9fa08ef16be52dfb01",
       "version_major": 2,
       "version_minor": 0
      },
      "text/plain": [
       "HBox(children=(FloatProgress(value=0.0, max=1.0), HTML(value='')))"
      ]
     },
     "metadata": {},
     "output_type": "display_data"
    },
    {
     "name": "stdout",
     "output_type": "stream",
     "text": [
      "\n"
     ]
    }
   ],
   "source": [
    "train_dataset = CAsT_Query_ReWriting_Dataset(train_samples, get_query_fn)"
   ]
  },
  {
   "cell_type": "code",
   "execution_count": 6,
   "metadata": {},
   "outputs": [],
   "source": [
    "train_dataloader = train_dataset.to_dataloader(2)"
   ]
  },
  {
   "cell_type": "code",
   "execution_count": 7,
   "metadata": {},
   "outputs": [
    {
     "name": "stdout",
     "output_type": "stream",
     "text": [
      "{'input_ids': tensor([[    0, 25860,    35,   653,    16, 14599,  1668,   116,     2,     1,\n",
      "             1,     1,     1,     1],\n",
      "        [    0,  2264,    16, 14599,  1668,   116, 25860,    35,  1534,    24,\n",
      "          3951,   868,   116,     2]]), 'input_attention_mask': tensor([[1., 1., 1., 1., 1., 1., 1., 1., 1., 0., 0., 0., 0., 0.],\n",
      "        [1., 1., 1., 1., 1., 1., 1., 1., 1., 1., 1., 1., 1., 1.]]), 'decoder_input_ids': tensor([[    0,  2264,    16, 14599,  1668,   116,     1],\n",
      "        [    0,  6209, 14599,  1668,  3951,   868,   116]]), 'decoder_target_ids': tensor([[ 2264,    16, 14599,  1668,   116,     2,     1],\n",
      "        [ 6209, 14599,  1668,  3951,   868,   116,     2]]), 'target_attention_mask': tensor([[1., 1., 1., 1., 1., 1., 0.],\n",
      "        [1., 1., 1., 1., 1., 1., 1.]])}\n"
     ]
    }
   ],
   "source": [
    "for batch in train_dataloader:\n",
    "    print(batch)\n",
    "    break"
   ]
  },
  {
   "cell_type": "code",
   "execution_count": 8,
   "metadata": {},
   "outputs": [
    {
     "data": {
      "text/plain": [
       "torch.Size([2, 14])"
      ]
     },
     "execution_count": 8,
     "metadata": {},
     "output_type": "execute_result"
    }
   ],
   "source": [
    "batch['input_ids'].shape"
   ]
  },
  {
   "cell_type": "code",
   "execution_count": 9,
   "metadata": {},
   "outputs": [
    {
     "name": "stderr",
     "output_type": "stream",
     "text": [
      "Some weights of the model checkpoint at facebook/bart-large were not used when initializing BartForConditionalGeneration: ['encoder.version', 'decoder.version']\n",
      "- This IS expected if you are initializing BartForConditionalGeneration from the checkpoint of a model trained on another task or with another architecture (e.g. initializing a BertForSequenceClassification model from a BertForPretraining model).\n",
      "- This IS NOT expected if you are initializing BartForConditionalGeneration from the checkpoint of a model that you expect to be exactly identical (initializing a BertForSequenceClassification model from a BertForSequenceClassification model).\n",
      "Some weights of BartForConditionalGeneration were not initialized from the model checkpoint at facebook/bart-large and are newly initialized: ['final_logits_bias']\n",
      "You should probably TRAIN this model on a down-stream task to be able to use it for predictions and inference.\n"
     ]
    }
   ],
   "source": [
    "model = BART_Query_ReWriter()"
   ]
  },
  {
   "cell_type": "code",
   "execution_count": 10,
   "metadata": {},
   "outputs": [
    {
     "data": {
      "text/plain": [
       "{'loss': tensor(6.2256, grad_fn=<NllLossBackward>)}"
      ]
     },
     "execution_count": 10,
     "metadata": {},
     "output_type": "execute_result"
    }
   ],
   "source": [
    "model.training_step(batch,0)"
   ]
  },
  {
   "cell_type": "code",
   "execution_count": 13,
   "metadata": {},
   "outputs": [
    {
     "name": "stdout",
     "output_type": "stream",
     "text": [
      "Detected 1 GPUS available, using [0].\n",
      "Main device is: cuda:0\n"
     ]
    },
    {
     "data": {
      "application/vnd.jupyter.widget-view+json": {
       "model_id": "9f3e3757b55b45c6b2af516bae840d55",
       "version_major": 2,
       "version_minor": 0
      },
      "text/plain": [
       "HBox(children=(FloatProgress(value=0.0, max=67.0), HTML(value='')))"
      ]
     },
     "metadata": {},
     "output_type": "display_data"
    },
    {
     "name": "stdout",
     "output_type": "stream",
     "text": [
      "\n"
     ]
    },
    {
     "data": {
      "application/vnd.jupyter.widget-view+json": {
       "model_id": "93ba1e0f56ef4b2dba5b7eeb3b5eeaef",
       "version_major": 2,
       "version_minor": 0
      },
      "text/plain": [
       "HBox(children=(FloatProgress(value=0.0, max=67.0), HTML(value='')))"
      ]
     },
     "metadata": {},
     "output_type": "display_data"
    },
    {
     "name": "stdout",
     "output_type": "stream",
     "text": [
      "\n"
     ]
    },
    {
     "data": {
      "application/vnd.jupyter.widget-view+json": {
       "model_id": "4bd3e0f0398247909c25843eaedad129",
       "version_major": 2,
       "version_minor": 0
      },
      "text/plain": [
       "HBox(children=(FloatProgress(value=0.0, max=67.0), HTML(value='')))"
      ]
     },
     "metadata": {},
     "output_type": "display_data"
    },
    {
     "name": "stdout",
     "output_type": "stream",
     "text": [
      "\n"
     ]
    },
    {
     "data": {
      "application/vnd.jupyter.widget-view+json": {
       "model_id": "c7b2424dce354bc7b6276648c1889193",
       "version_major": 2,
       "version_minor": 0
      },
      "text/plain": [
       "HBox(children=(FloatProgress(value=0.0, max=67.0), HTML(value='')))"
      ]
     },
     "metadata": {},
     "output_type": "display_data"
    },
    {
     "name": "stdout",
     "output_type": "stream",
     "text": [
      "\n",
      "Keyboard Interrupt!\n"
     ]
    },
    {
     "data": {
      "text/plain": [
       "{'train_loss': [tensor(6.2180, device='cuda:0', grad_fn=<NllLossBackward>),\n",
       "  tensor(4.8902, device='cuda:0', grad_fn=<NllLossBackward>),\n",
       "  tensor(6.8974, device='cuda:0', grad_fn=<NllLossBackward>),\n",
       "  tensor(4.1799, device='cuda:0', grad_fn=<NllLossBackward>),\n",
       "  tensor(5.9533, device='cuda:0', grad_fn=<NllLossBackward>),\n",
       "  tensor(5.7294, device='cuda:0', grad_fn=<NllLossBackward>),\n",
       "  tensor(4.4888, device='cuda:0', grad_fn=<NllLossBackward>),\n",
       "  tensor(5.6775, device='cuda:0', grad_fn=<NllLossBackward>),\n",
       "  tensor(5.5300, device='cuda:0', grad_fn=<NllLossBackward>),\n",
       "  tensor(8.7157, device='cuda:0', grad_fn=<NllLossBackward>),\n",
       "  tensor(3.4128, device='cuda:0', grad_fn=<NllLossBackward>),\n",
       "  tensor(5.1156, device='cuda:0', grad_fn=<NllLossBackward>),\n",
       "  tensor(5.8400, device='cuda:0', grad_fn=<NllLossBackward>),\n",
       "  tensor(4.7003, device='cuda:0', grad_fn=<NllLossBackward>),\n",
       "  tensor(4.4362, device='cuda:0', grad_fn=<NllLossBackward>),\n",
       "  tensor(6.0768, device='cuda:0', grad_fn=<NllLossBackward>),\n",
       "  tensor(4.4512, device='cuda:0', grad_fn=<NllLossBackward>),\n",
       "  tensor(7.9902, device='cuda:0', grad_fn=<NllLossBackward>),\n",
       "  tensor(3.7799, device='cuda:0', grad_fn=<NllLossBackward>),\n",
       "  tensor(nan, device='cuda:0', grad_fn=<NllLossBackward>),\n",
       "  tensor(nan, device='cuda:0', grad_fn=<NllLossBackward>),\n",
       "  tensor(nan, device='cuda:0', grad_fn=<NllLossBackward>),\n",
       "  tensor(nan, device='cuda:0', grad_fn=<NllLossBackward>),\n",
       "  tensor(nan, device='cuda:0', grad_fn=<NllLossBackward>),\n",
       "  tensor(nan, device='cuda:0', grad_fn=<NllLossBackward>),\n",
       "  tensor(4.5808, device='cuda:0', grad_fn=<NllLossBackward>),\n",
       "  tensor(nan, device='cuda:0', grad_fn=<NllLossBackward>),\n",
       "  tensor(4.8860, device='cuda:0', grad_fn=<NllLossBackward>),\n",
       "  tensor(nan, device='cuda:0', grad_fn=<NllLossBackward>),\n",
       "  tensor(5.5593, device='cuda:0', grad_fn=<NllLossBackward>),\n",
       "  tensor(6.1930, device='cuda:0', grad_fn=<NllLossBackward>),\n",
       "  tensor(4.6674, device='cuda:0', grad_fn=<NllLossBackward>),\n",
       "  tensor(4.9399, device='cuda:0', grad_fn=<NllLossBackward>),\n",
       "  tensor(4.0541, device='cuda:0', grad_fn=<NllLossBackward>),\n",
       "  tensor(5.7549, device='cuda:0', grad_fn=<NllLossBackward>),\n",
       "  tensor(5.3103, device='cuda:0', grad_fn=<NllLossBackward>),\n",
       "  tensor(6.7108, device='cuda:0', grad_fn=<NllLossBackward>),\n",
       "  tensor(4.3888, device='cuda:0', grad_fn=<NllLossBackward>),\n",
       "  tensor(4.5449, device='cuda:0', grad_fn=<NllLossBackward>),\n",
       "  tensor(5.1579, device='cuda:0', grad_fn=<NllLossBackward>),\n",
       "  tensor(4.1683, device='cuda:0', grad_fn=<NllLossBackward>),\n",
       "  tensor(2.2436, device='cuda:0', grad_fn=<NllLossBackward>),\n",
       "  tensor(4.9141, device='cuda:0', grad_fn=<NllLossBackward>),\n",
       "  tensor(5.2617, device='cuda:0', grad_fn=<NllLossBackward>),\n",
       "  tensor(6.0856, device='cuda:0', grad_fn=<NllLossBackward>),\n",
       "  tensor(4.0155, device='cuda:0', grad_fn=<NllLossBackward>),\n",
       "  tensor(4.9634, device='cuda:0', grad_fn=<NllLossBackward>),\n",
       "  tensor(6.4383, device='cuda:0', grad_fn=<NllLossBackward>),\n",
       "  tensor(5.2410, device='cuda:0', grad_fn=<NllLossBackward>),\n",
       "  tensor(6.1162, device='cuda:0', grad_fn=<NllLossBackward>),\n",
       "  tensor(6.5136, device='cuda:0', grad_fn=<NllLossBackward>),\n",
       "  tensor(5.5933, device='cuda:0', grad_fn=<NllLossBackward>),\n",
       "  tensor(5.5537, device='cuda:0', grad_fn=<NllLossBackward>),\n",
       "  tensor(5.7299, device='cuda:0', grad_fn=<NllLossBackward>),\n",
       "  tensor(5.9754, device='cuda:0', grad_fn=<NllLossBackward>),\n",
       "  tensor(6.9917, device='cuda:0', grad_fn=<NllLossBackward>),\n",
       "  tensor(3.4465, device='cuda:0', grad_fn=<NllLossBackward>),\n",
       "  tensor(3.4188, device='cuda:0', grad_fn=<NllLossBackward>),\n",
       "  tensor(4.9120, device='cuda:0', grad_fn=<NllLossBackward>),\n",
       "  tensor(7.6962, device='cuda:0', grad_fn=<NllLossBackward>),\n",
       "  tensor(4.6303, device='cuda:0', grad_fn=<NllLossBackward>),\n",
       "  tensor(nan, device='cuda:0', grad_fn=<NllLossBackward>),\n",
       "  tensor(6.4481, device='cuda:0', grad_fn=<NllLossBackward>),\n",
       "  tensor(5.8240, device='cuda:0', grad_fn=<NllLossBackward>),\n",
       "  tensor(4.1558, device='cuda:0', grad_fn=<NllLossBackward>),\n",
       "  tensor(5.2530, device='cuda:0', grad_fn=<NllLossBackward>),\n",
       "  tensor(4.1550, device='cuda:0', grad_fn=<NllLossBackward>),\n",
       "  tensor(5.3996, device='cuda:0', grad_fn=<NllLossBackward>),\n",
       "  tensor(4.4435, device='cuda:0', grad_fn=<NllLossBackward>),\n",
       "  tensor(6.8733, device='cuda:0', grad_fn=<NllLossBackward>),\n",
       "  tensor(4.5114, device='cuda:0', grad_fn=<NllLossBackward>),\n",
       "  tensor(5.8593, device='cuda:0', grad_fn=<NllLossBackward>),\n",
       "  tensor(6.0202, device='cuda:0', grad_fn=<NllLossBackward>),\n",
       "  tensor(4.7303, device='cuda:0', grad_fn=<NllLossBackward>),\n",
       "  tensor(5.1533, device='cuda:0', grad_fn=<NllLossBackward>),\n",
       "  tensor(5.3476, device='cuda:0', grad_fn=<NllLossBackward>),\n",
       "  tensor(7.8737, device='cuda:0', grad_fn=<NllLossBackward>),\n",
       "  tensor(2.8294, device='cuda:0', grad_fn=<NllLossBackward>),\n",
       "  tensor(5.1089, device='cuda:0', grad_fn=<NllLossBackward>),\n",
       "  tensor(5.8762, device='cuda:0', grad_fn=<NllLossBackward>),\n",
       "  tensor(4.2544, device='cuda:0', grad_fn=<NllLossBackward>),\n",
       "  tensor(4.1474, device='cuda:0', grad_fn=<NllLossBackward>),\n",
       "  tensor(5.8210, device='cuda:0', grad_fn=<NllLossBackward>),\n",
       "  tensor(3.6907, device='cuda:0', grad_fn=<NllLossBackward>),\n",
       "  tensor(7.4673, device='cuda:0', grad_fn=<NllLossBackward>),\n",
       "  tensor(4.1446, device='cuda:0', grad_fn=<NllLossBackward>),\n",
       "  tensor(6.9685, device='cuda:0', grad_fn=<NllLossBackward>),\n",
       "  tensor(4.1223, device='cuda:0', grad_fn=<NllLossBackward>),\n",
       "  tensor(6.7155, device='cuda:0', grad_fn=<NllLossBackward>),\n",
       "  tensor(4.5968, device='cuda:0', grad_fn=<NllLossBackward>),\n",
       "  tensor(4.8077, device='cuda:0', grad_fn=<NllLossBackward>),\n",
       "  tensor(5.8040, device='cuda:0', grad_fn=<NllLossBackward>),\n",
       "  tensor(4.2234, device='cuda:0', grad_fn=<NllLossBackward>),\n",
       "  tensor(3.9326, device='cuda:0', grad_fn=<NllLossBackward>),\n",
       "  tensor(4.9472, device='cuda:0', grad_fn=<NllLossBackward>),\n",
       "  tensor(3.7115, device='cuda:0', grad_fn=<NllLossBackward>),\n",
       "  tensor(5.8170, device='cuda:0', grad_fn=<NllLossBackward>),\n",
       "  tensor(6.2537, device='cuda:0', grad_fn=<NllLossBackward>),\n",
       "  tensor(5.2524, device='cuda:0', grad_fn=<NllLossBackward>),\n",
       "  tensor(4.8425, device='cuda:0', grad_fn=<NllLossBackward>),\n",
       "  tensor(4.0692, device='cuda:0', grad_fn=<NllLossBackward>),\n",
       "  tensor(5.4687, device='cuda:0', grad_fn=<NllLossBackward>),\n",
       "  tensor(6.5807, device='cuda:0', grad_fn=<NllLossBackward>),\n",
       "  tensor(5.8346, device='cuda:0', grad_fn=<NllLossBackward>),\n",
       "  tensor(3.5616, device='cuda:0', grad_fn=<NllLossBackward>),\n",
       "  tensor(3.7409, device='cuda:0', grad_fn=<NllLossBackward>),\n",
       "  tensor(4.5290, device='cuda:0', grad_fn=<NllLossBackward>),\n",
       "  tensor(4.6360, device='cuda:0', grad_fn=<NllLossBackward>),\n",
       "  tensor(2.2905, device='cuda:0', grad_fn=<NllLossBackward>),\n",
       "  tensor(4.8205, device='cuda:0', grad_fn=<NllLossBackward>),\n",
       "  tensor(5.4467, device='cuda:0', grad_fn=<NllLossBackward>),\n",
       "  tensor(6.1754, device='cuda:0', grad_fn=<NllLossBackward>),\n",
       "  tensor(4.3941, device='cuda:0', grad_fn=<NllLossBackward>),\n",
       "  tensor(4.9220, device='cuda:0', grad_fn=<NllLossBackward>),\n",
       "  tensor(7.6969, device='cuda:0', grad_fn=<NllLossBackward>),\n",
       "  tensor(4.6699, device='cuda:0', grad_fn=<NllLossBackward>),\n",
       "  tensor(4.8739, device='cuda:0', grad_fn=<NllLossBackward>),\n",
       "  tensor(6.4454, device='cuda:0', grad_fn=<NllLossBackward>),\n",
       "  tensor(5.8681, device='cuda:0', grad_fn=<NllLossBackward>),\n",
       "  tensor(6.0780, device='cuda:0', grad_fn=<NllLossBackward>),\n",
       "  tensor(5.2761, device='cuda:0', grad_fn=<NllLossBackward>),\n",
       "  tensor(5.7968, device='cuda:0', grad_fn=<NllLossBackward>),\n",
       "  tensor(6.9356, device='cuda:0', grad_fn=<NllLossBackward>),\n",
       "  tensor(3.7975, device='cuda:0', grad_fn=<NllLossBackward>),\n",
       "  tensor(3.9378, device='cuda:0', grad_fn=<NllLossBackward>),\n",
       "  tensor(4.6955, device='cuda:0', grad_fn=<NllLossBackward>),\n",
       "  tensor(7.2894, device='cuda:0', grad_fn=<NllLossBackward>),\n",
       "  tensor(4.3803, device='cuda:0', grad_fn=<NllLossBackward>),\n",
       "  tensor(6.8772, device='cuda:0', grad_fn=<NllLossBackward>),\n",
       "  tensor(6.1295, device='cuda:0', grad_fn=<NllLossBackward>),\n",
       "  tensor(5.8640, device='cuda:0', grad_fn=<NllLossBackward>),\n",
       "  tensor(4.3913, device='cuda:0', grad_fn=<NllLossBackward>),\n",
       "  tensor(4.7335, device='cuda:0', grad_fn=<NllLossBackward>),\n",
       "  tensor(3.5687, device='cuda:0', grad_fn=<NllLossBackward>),\n",
       "  tensor(6.8699, device='cuda:0', grad_fn=<NllLossBackward>),\n",
       "  tensor(4.2458, device='cuda:0', grad_fn=<NllLossBackward>),\n",
       "  tensor(6.6100, device='cuda:0', grad_fn=<NllLossBackward>),\n",
       "  tensor(3.9779, device='cuda:0', grad_fn=<NllLossBackward>),\n",
       "  tensor(5.4972, device='cuda:0', grad_fn=<NllLossBackward>),\n",
       "  tensor(6.0973, device='cuda:0', grad_fn=<NllLossBackward>),\n",
       "  tensor(4.7920, device='cuda:0', grad_fn=<NllLossBackward>),\n",
       "  tensor(5.7765, device='cuda:0', grad_fn=<NllLossBackward>),\n",
       "  tensor(5.0675, device='cuda:0', grad_fn=<NllLossBackward>),\n",
       "  tensor(9.0590, device='cuda:0', grad_fn=<NllLossBackward>),\n",
       "  tensor(3.0481, device='cuda:0', grad_fn=<NllLossBackward>),\n",
       "  tensor(5.1819, device='cuda:0', grad_fn=<NllLossBackward>),\n",
       "  tensor(6.0238, device='cuda:0', grad_fn=<NllLossBackward>),\n",
       "  tensor(4.5970, device='cuda:0', grad_fn=<NllLossBackward>),\n",
       "  tensor(3.9262, device='cuda:0', grad_fn=<NllLossBackward>),\n",
       "  tensor(5.7600, device='cuda:0', grad_fn=<NllLossBackward>),\n",
       "  tensor(3.6583, device='cuda:0', grad_fn=<NllLossBackward>),\n",
       "  tensor(7.5950, device='cuda:0', grad_fn=<NllLossBackward>),\n",
       "  tensor(4.2165, device='cuda:0', grad_fn=<NllLossBackward>),\n",
       "  tensor(6.7839, device='cuda:0', grad_fn=<NllLossBackward>),\n",
       "  tensor(3.8701, device='cuda:0', grad_fn=<NllLossBackward>),\n",
       "  tensor(6.3840, device='cuda:0', grad_fn=<NllLossBackward>),\n",
       "  tensor(4.4349, device='cuda:0', grad_fn=<NllLossBackward>),\n",
       "  tensor(5.3474, device='cuda:0', grad_fn=<NllLossBackward>),\n",
       "  tensor(5.1068, device='cuda:0', grad_fn=<NllLossBackward>),\n",
       "  tensor(4.2209, device='cuda:0', grad_fn=<NllLossBackward>),\n",
       "  tensor(4.1122, device='cuda:0', grad_fn=<NllLossBackward>),\n",
       "  tensor(4.6331, device='cuda:0', grad_fn=<NllLossBackward>),\n",
       "  tensor(3.6431, device='cuda:0', grad_fn=<NllLossBackward>),\n",
       "  tensor(5.7855, device='cuda:0', grad_fn=<NllLossBackward>),\n",
       "  tensor(5.8935, device='cuda:0', grad_fn=<NllLossBackward>),\n",
       "  tensor(4.2429, device='cuda:0', grad_fn=<NllLossBackward>),\n",
       "  tensor(4.8596, device='cuda:0', grad_fn=<NllLossBackward>),\n",
       "  tensor(4.0099, device='cuda:0', grad_fn=<NllLossBackward>),\n",
       "  tensor(6.0733, device='cuda:0', grad_fn=<NllLossBackward>),\n",
       "  tensor(7.1379, device='cuda:0', grad_fn=<NllLossBackward>),\n",
       "  tensor(5.7811, device='cuda:0', grad_fn=<NllLossBackward>),\n",
       "  tensor(4.0828, device='cuda:0', grad_fn=<NllLossBackward>),\n",
       "  tensor(6.9113, device='cuda:0', grad_fn=<NllLossBackward>),\n",
       "  tensor(5.8065, device='cuda:0', grad_fn=<NllLossBackward>),\n",
       "  tensor(4.1600, device='cuda:0', grad_fn=<NllLossBackward>),\n",
       "  tensor(2.0353, device='cuda:0', grad_fn=<NllLossBackward>),\n",
       "  tensor(5.1331, device='cuda:0', grad_fn=<NllLossBackward>),\n",
       "  tensor(6.0657, device='cuda:0', grad_fn=<NllLossBackward>),\n",
       "  tensor(6.2906, device='cuda:0', grad_fn=<NllLossBackward>),\n",
       "  tensor(4.9376, device='cuda:0', grad_fn=<NllLossBackward>),\n",
       "  tensor(5.2165, device='cuda:0', grad_fn=<NllLossBackward>),\n",
       "  tensor(8.6918, device='cuda:0', grad_fn=<NllLossBackward>),\n",
       "  tensor(4.7824, device='cuda:0', grad_fn=<NllLossBackward>),\n",
       "  tensor(4.8313, device='cuda:0', grad_fn=<NllLossBackward>),\n",
       "  tensor(6.5286, device='cuda:0', grad_fn=<NllLossBackward>),\n",
       "  tensor(5.0803, device='cuda:0', grad_fn=<NllLossBackward>),\n",
       "  tensor(6.4206, device='cuda:0', grad_fn=<NllLossBackward>),\n",
       "  tensor(5.8940, device='cuda:0', grad_fn=<NllLossBackward>),\n",
       "  tensor(6.7561, device='cuda:0', grad_fn=<NllLossBackward>),\n",
       "  tensor(6.5339, device='cuda:0', grad_fn=<NllLossBackward>),\n",
       "  tensor(3.5483, device='cuda:0', grad_fn=<NllLossBackward>),\n",
       "  tensor(3.8924, device='cuda:0', grad_fn=<NllLossBackward>),\n",
       "  tensor(4.2615, device='cuda:0', grad_fn=<NllLossBackward>),\n",
       "  tensor(7.4222, device='cuda:0', grad_fn=<NllLossBackward>),\n",
       "  tensor(6.5432, device='cuda:0', grad_fn=<NllLossBackward>),\n",
       "  tensor(6.7693, device='cuda:0', grad_fn=<NllLossBackward>),\n",
       "  tensor(6.6780, device='cuda:0', grad_fn=<NllLossBackward>),\n",
       "  tensor(5.9950, device='cuda:0', grad_fn=<NllLossBackward>),\n",
       "  tensor(4.4040, device='cuda:0', grad_fn=<NllLossBackward>),\n",
       "  tensor(5.1075, device='cuda:0', grad_fn=<NllLossBackward>),\n",
       "  tensor(3.2458, device='cuda:0', grad_fn=<NllLossBackward>),\n",
       "  tensor(5.5911, device='cuda:0', grad_fn=<NllLossBackward>),\n",
       "  tensor(4.8604, device='cuda:0', grad_fn=<NllLossBackward>),\n",
       "  tensor(7.4344, device='cuda:0', grad_fn=<NllLossBackward>),\n",
       "  tensor(4.3082, device='cuda:0', grad_fn=<NllLossBackward>),\n",
       "  tensor(5.5242, device='cuda:0', grad_fn=<NllLossBackward>),\n",
       "  tensor(5.1237, device='cuda:0', grad_fn=<NllLossBackward>),\n",
       "  tensor(4.9306, device='cuda:0', grad_fn=<NllLossBackward>),\n",
       "  tensor(5.5994, device='cuda:0', grad_fn=<NllLossBackward>),\n",
       "  tensor(5.3197, device='cuda:0', grad_fn=<NllLossBackward>),\n",
       "  tensor(8.7842, device='cuda:0', grad_fn=<NllLossBackward>),\n",
       "  tensor(3.2965, device='cuda:0', grad_fn=<NllLossBackward>),\n",
       "  tensor(5.4584, device='cuda:0', grad_fn=<NllLossBackward>),\n",
       "  tensor(5.6098, device='cuda:0', grad_fn=<NllLossBackward>),\n",
       "  tensor(4.9675, device='cuda:0', grad_fn=<NllLossBackward>),\n",
       "  tensor(3.7566, device='cuda:0', grad_fn=<NllLossBackward>),\n",
       "  tensor(5.6448, device='cuda:0', grad_fn=<NllLossBackward>),\n",
       "  tensor(3.8230, device='cuda:0', grad_fn=<NllLossBackward>),\n",
       "  tensor(7.3723, device='cuda:0', grad_fn=<NllLossBackward>),\n",
       "  tensor(3.6264, device='cuda:0', grad_fn=<NllLossBackward>),\n",
       "  tensor(6.5128, device='cuda:0', grad_fn=<NllLossBackward>),\n",
       "  tensor(3.5389, device='cuda:0', grad_fn=<NllLossBackward>),\n",
       "  tensor(5.6214, device='cuda:0', grad_fn=<NllLossBackward>),\n",
       "  tensor(4.7249, device='cuda:0', grad_fn=<NllLossBackward>)],\n",
       " 'eval_scores': []}"
      ]
     },
     "execution_count": 13,
     "metadata": {},
     "output_type": "execute_result"
    }
   ],
   "source": [
    "my_trainer = Model_Trainer(gpus=[0])\n",
    "my_trainer.train(model, train_dataloader)"
   ]
  },
  {
   "cell_type": "code",
   "execution_count": 43,
   "metadata": {},
   "outputs": [
    {
     "name": "stderr",
     "output_type": "stream",
     "text": [
      "GPU available: True, used: True\n",
      "TPU available: False, using: 0 TPU cores\n",
      "CUDA_VISIBLE_DEVICES: [0]\n",
      "\n",
      "  | Name | Type                         | Params\n",
      "------------------------------------------------------\n",
      "0 | BART | BartForConditionalGeneration | 406 M \n"
     ]
    },
    {
     "data": {
      "application/vnd.jupyter.widget-view+json": {
       "model_id": "85382cce74d348bcae627a9882775475",
       "version_major": 2,
       "version_minor": 0
      },
      "text/plain": [
       "HBox(children=(FloatProgress(value=1.0, bar_style='info', description='Training', layout=Layout(flex='2'), max…"
      ]
     },
     "metadata": {},
     "output_type": "display_data"
    },
    {
     "name": "stdout",
     "output_type": "stream",
     "text": [
      "\n"
     ]
    },
    {
     "data": {
      "text/plain": [
       "1"
      ]
     },
     "execution_count": 43,
     "metadata": {},
     "output_type": "execute_result"
    }
   ],
   "source": [
    "trainer = Trainer(gpus=1, gradient_clip_val=0.5)\n",
    "trainer.fit(model, train_dataloader)"
   ]
  },
  {
   "cell_type": "code",
   "execution_count": null,
   "metadata": {},
   "outputs": [],
   "source": []
  }
 ],
 "metadata": {
  "kernelspec": {
   "display_name": "Python 3",
   "language": "python",
   "name": "python3"
  },
  "language_info": {
   "codemirror_mode": {
    "name": "ipython",
    "version": 3
   },
   "file_extension": ".py",
   "mimetype": "text/x-python",
   "name": "python",
   "nbconvert_exporter": "python",
   "pygments_lexer": "ipython3",
   "version": "3.6.9"
  }
 },
 "nbformat": 4,
 "nbformat_minor": 4
}

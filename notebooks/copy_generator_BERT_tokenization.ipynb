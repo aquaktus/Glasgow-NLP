{
 "cells": [
  {
   "cell_type": "code",
   "execution_count": 1,
   "metadata": {},
   "outputs": [],
   "source": [
    "from models_and_trainers.copy_gen_transformer import CopyGeneratorTransformer\n",
    "\n",
    "import numpy as np\n",
    "import time\n",
    "import math\n",
    "import torch\n",
    "import torch.nn as nn\n",
    "import torchtext\n",
    "from torchtext.data import Field, BucketIterator\n",
    "\n",
    "from utils.useful_utils import string_split_v3, string_split_v2, string_split_v1\n",
    "from utils.metrics import nltk_bleu\n",
    "from utils.dataset_loaders import SRC_TGT_pairs\n",
    "import utils.beam_search as beam_search\n",
    "import tqdm.notebook as tqdm \n",
    "\n",
    "from models_and_trainers.trainers import Model_Trainer\n",
    "from utils.data2dataset_fns import data2dataset_shared_vocab_with_OOVs, CustomEncode, BERTEncode\n",
    "from utils.evaluate_fns import evaluate, batch_to_output_autorregressive, create_eval_fn\n",
    "\n",
    "from utils.vocab_classes import Shared_Vocab, BERT_Vocab\n",
    "%load_ext line_profiler\n",
    "%load_ext autoreload\n",
    "%autoreload 2"
   ]
  },
  {
   "cell_type": "code",
   "execution_count": 2,
   "metadata": {},
   "outputs": [
    {
     "name": "stdout",
     "output_type": "stream",
     "text": [
      "Using: cuda\n"
     ]
    }
   ],
   "source": [
    "device = torch.device(\"cuda\" if torch.cuda.is_available() else \"cpu\")\n",
    "if device == \"cuda\":\n",
    "    torch.cuda.set_device(0) # choose GPU from nvidia-smi \n",
    "print(\"Using:\", device)"
   ]
  },
  {
   "cell_type": "code",
   "execution_count": 3,
   "metadata": {},
   "outputs": [],
   "source": [
    "src_train_fp = \"datasets/CoNaLa/conala-train.src\"\n",
    "tgt_train_fp = \"datasets/CoNaLa/conala-train.tgt\"\n",
    "src_test_fp = \"datasets/CoNaLa/conala-test.src\"\n",
    "tgt_test_fp = \"datasets/CoNaLa/conala-test.tgt\"\n",
    "\n",
    "max_seq_len = 100\n",
    "\n",
    "train_samples = SRC_TGT_pairs(src_train_fp, tgt_train_fp, max_seq_len=max_seq_len).samples\n",
    "test_samples = SRC_TGT_pairs(src_test_fp, tgt_test_fp, max_seq_len=max_seq_len).samples"
   ]
  },
  {
   "cell_type": "code",
   "execution_count": 4,
   "metadata": {},
   "outputs": [],
   "source": [
    "vocab = BERT_Vocab()"
   ]
  },
  {
   "cell_type": "code",
   "execution_count": 5,
   "metadata": {},
   "outputs": [],
   "source": [
    "encode_fn = BERTEncode(vocab)"
   ]
  },
  {
   "cell_type": "code",
   "execution_count": 6,
   "metadata": {},
   "outputs": [],
   "source": [
    "train_dataset = data2dataset_shared_vocab_with_OOVs(train_samples, encode_fn, vocab)\n",
    "test_dataset = data2dataset_shared_vocab_with_OOVs(test_samples, encode_fn, vocab)"
   ]
  },
  {
   "cell_type": "code",
   "execution_count": 7,
   "metadata": {},
   "outputs": [],
   "source": [
    "batch_size = 32\n",
    "\n",
    "train_iterator = BucketIterator(\n",
    "    train_dataset,\n",
    "    batch_size = batch_size,\n",
    "    repeat=True,\n",
    "    shuffle=True,\n",
    "    sort=True,\n",
    "    sort_key = lambda x: len(x.src)+len(x.tgt),\n",
    "    device = device)\n",
    "\n",
    "test_iterator = BucketIterator(\n",
    "    test_dataset,\n",
    "    batch_size = batch_size,\n",
    "    sort=True,\n",
    "    sort_key = lambda x: len(x.src)+len(x.tgt),\n",
    "    device = device)"
   ]
  },
  {
   "cell_type": "code",
   "execution_count": 8,
   "metadata": {},
   "outputs": [
    {
     "data": {
      "text/plain": [
       "'sum ( d * 10 * * i for i , d in en ##ume ##rate ( x [ : : - 1 ] ) )'"
      ]
     },
     "execution_count": 8,
     "metadata": {},
     "output_type": "execute_result"
    }
   ],
   "source": [
    "sample = next(iter(train_dataset))\n",
    "vocab.decode_input(sample.tgt, [])"
   ]
  },
  {
   "cell_type": "code",
   "execution_count": 9,
   "metadata": {},
   "outputs": [
    {
     "name": "stdout",
     "output_type": "stream",
     "text": [
      "encoder_input    : [unused0] make a 60 seconds time delay [unused1] [PAD]\n",
      "decoder_input    : [unused0] time . sleep ( 60 ) [unused1] [PAD] [PAD]\n",
      "\n"
     ]
    }
   ],
   "source": [
    "for i, batch in enumerate(train_iterator):\n",
    "    for idx in range(batch_size):\n",
    "        encoder_input = batch.src.cpu()[:,idx].tolist()\n",
    "        decoder_input = batch.tgt.cpu()[:,idx].tolist()\n",
    "        OOVs = batch.OOVs.cpu()[:,idx].tolist()\n",
    "\n",
    "        print(\"encoder_input    :\",vocab.decode_input(encoder_input, OOVs))\n",
    "        print(\"decoder_input    :\",vocab.decode_output(decoder_input, OOVs))\n",
    "        print()\n",
    "        break\n",
    "    break"
   ]
  },
  {
   "cell_type": "code",
   "execution_count": 10,
   "metadata": {},
   "outputs": [],
   "source": [
    "model = CopyGeneratorTransformer(embed_dim=512, att_heads=8, layers=4, dim_feedforward=1024, max_seq_length=max_seq_len).to(device)"
   ]
  },
  {
   "cell_type": "code",
   "execution_count": 11,
   "metadata": {},
   "outputs": [],
   "source": [
    "criterion = nn.CrossEntropyLoss(ignore_index=vocab.PAD)\n",
    "params = model.parameters()\n",
    "\n",
    "def train_step(batch):\n",
    "    total_loss = 0.\n",
    "    start_time = time.time()\n",
    "    encoder_input = batch.src\n",
    "    decoder_input = batch.tgt[:-1]\n",
    "    targets = batch.tgt[1:]\n",
    "\n",
    "    optimizer.zero_grad()\n",
    "    output = model(encoder_input, decoder_input)\n",
    "\n",
    "    loss = criterion(output.view(-1, vocab.vocab_size), targets.view(-1))\n",
    "    loss.backward()\n",
    "    torch.nn.utils.clip_grad_norm_(params, 0.5)\n",
    "    optimizer.step()\n",
    "    elapsed = time.time() - start_time\n",
    "    return loss"
   ]
  },
  {
   "cell_type": "code",
   "execution_count": 12,
   "metadata": {},
   "outputs": [],
   "source": [
    "lr = 0.005 # learning rate\n",
    "optimizer = torch.optim.SGD(model.parameters(), lr=lr)\n",
    "scheduler = torch.optim.lr_scheduler.StepLR(optimizer, 1.0, gamma=0.99)\n",
    "\n",
    "trainer = Model_Trainer(optimizer, scheduler)"
   ]
  },
  {
   "cell_type": "code",
   "execution_count": 14,
   "metadata": {},
   "outputs": [],
   "source": [
    "eval_fn = create_eval_fn(model, \n",
    "                         test_iterator, \n",
    "                         batch_to_output_autorregressive, \n",
    "                         vocab, \n",
    "                         out_file=\"small_transformer_BERT_tokenizer_CoNaLa.out\", \n",
    "                         max_seq_len=100)"
   ]
  },
  {
   "cell_type": "code",
   "execution_count": 16,
   "metadata": {},
   "outputs": [
    {
     "data": {
      "application/vnd.jupyter.widget-view+json": {
       "model_id": "35f5a678a0cc4451af46b746360eef9a",
       "version_major": 2,
       "version_minor": 0
      },
      "text/plain": [
       "HBox(children=(IntProgress(value=0, max=500000), HTML(value='')))"
      ]
     },
     "metadata": {},
     "output_type": "display_data"
    },
    {
     "name": "stdout",
     "output_type": "stream",
     "text": [
      "Evaluating model\n"
     ]
    },
    {
     "data": {
      "application/vnd.jupyter.widget-view+json": {
       "model_id": "38a1b130d0724373b3eefd028d9bd572",
       "version_major": 2,
       "version_minor": 0
      },
      "text/plain": [
       "HBox(children=(IntProgress(value=0, max=16), HTML(value='')))"
      ]
     },
     "metadata": {},
     "output_type": "display_data"
    },
    {
     "name": "stdout",
     "output_type": "stream",
     "text": [
      "\n",
      "| EVALUATION | BLEU: 0.096 |\n",
      "Evaluating model\n"
     ]
    },
    {
     "data": {
      "application/vnd.jupyter.widget-view+json": {
       "model_id": "32222a509c3a4147b56abcbc9ce4ae9a",
       "version_major": 2,
       "version_minor": 0
      },
      "text/plain": [
       "HBox(children=(IntProgress(value=0, max=16), HTML(value='')))"
      ]
     },
     "metadata": {},
     "output_type": "display_data"
    },
    {
     "name": "stdout",
     "output_type": "stream",
     "text": [
      "\n",
      "| EVALUATION | BLEU: 0.142 |\n",
      "Evaluating model\n"
     ]
    },
    {
     "data": {
      "application/vnd.jupyter.widget-view+json": {
       "model_id": "e520317ce5504edba679f2c6551dda41",
       "version_major": 2,
       "version_minor": 0
      },
      "text/plain": [
       "HBox(children=(IntProgress(value=0, max=16), HTML(value='')))"
      ]
     },
     "metadata": {},
     "output_type": "display_data"
    },
    {
     "name": "stdout",
     "output_type": "stream",
     "text": [
      "\n",
      "| EVALUATION | BLEU: 0.152 |\n",
      "Evaluating model\n"
     ]
    },
    {
     "data": {
      "application/vnd.jupyter.widget-view+json": {
       "model_id": "900a5fd5600043b6aa255d2c766ed5d3",
       "version_major": 2,
       "version_minor": 0
      },
      "text/plain": [
       "HBox(children=(IntProgress(value=0, max=16), HTML(value='')))"
      ]
     },
     "metadata": {},
     "output_type": "display_data"
    },
    {
     "name": "stdout",
     "output_type": "stream",
     "text": [
      "\n",
      "| EVALUATION | BLEU: 0.156 |\n",
      "Evaluating model\n"
     ]
    },
    {
     "data": {
      "application/vnd.jupyter.widget-view+json": {
       "model_id": "396b4b656a624830bc9de69516fe769f",
       "version_major": 2,
       "version_minor": 0
      },
      "text/plain": [
       "HBox(children=(IntProgress(value=0, max=16), HTML(value='')))"
      ]
     },
     "metadata": {},
     "output_type": "display_data"
    },
    {
     "name": "stdout",
     "output_type": "stream",
     "text": [
      "\n",
      "| EVALUATION | BLEU: 0.176 |\n",
      "Evaluating model\n"
     ]
    },
    {
     "data": {
      "application/vnd.jupyter.widget-view+json": {
       "model_id": "0b38421bab53434cbb4b63c9d736db58",
       "version_major": 2,
       "version_minor": 0
      },
      "text/plain": [
       "HBox(children=(IntProgress(value=0, max=16), HTML(value='')))"
      ]
     },
     "metadata": {},
     "output_type": "display_data"
    },
    {
     "name": "stdout",
     "output_type": "stream",
     "text": [
      "\n",
      "| EVALUATION | BLEU: 0.188 |\n",
      "Evaluating model\n"
     ]
    },
    {
     "data": {
      "application/vnd.jupyter.widget-view+json": {
       "model_id": "7fadafa3f1664e59967c2e8971035570",
       "version_major": 2,
       "version_minor": 0
      },
      "text/plain": [
       "HBox(children=(IntProgress(value=0, max=16), HTML(value='')))"
      ]
     },
     "metadata": {},
     "output_type": "display_data"
    },
    {
     "name": "stdout",
     "output_type": "stream",
     "text": [
      "\n",
      "| EVALUATION | BLEU: 0.185 |\n",
      "Evaluating model\n"
     ]
    },
    {
     "data": {
      "application/vnd.jupyter.widget-view+json": {
       "model_id": "4dd8758de0244fbfbcbb6d7412a852d4",
       "version_major": 2,
       "version_minor": 0
      },
      "text/plain": [
       "HBox(children=(IntProgress(value=0, max=16), HTML(value='')))"
      ]
     },
     "metadata": {},
     "output_type": "display_data"
    },
    {
     "name": "stdout",
     "output_type": "stream",
     "text": [
      "\n",
      "| EVALUATION | BLEU: 0.185 |\n",
      "Evaluating model\n"
     ]
    },
    {
     "data": {
      "application/vnd.jupyter.widget-view+json": {
       "model_id": "9329b1cc402b46e4971c3bc6affe6883",
       "version_major": 2,
       "version_minor": 0
      },
      "text/plain": [
       "HBox(children=(IntProgress(value=0, max=16), HTML(value='')))"
      ]
     },
     "metadata": {},
     "output_type": "display_data"
    },
    {
     "name": "stdout",
     "output_type": "stream",
     "text": [
      "\n",
      "| EVALUATION | BLEU: 0.193 |\n",
      "Evaluating model\n"
     ]
    },
    {
     "data": {
      "application/vnd.jupyter.widget-view+json": {
       "model_id": "adc8761d82494a63be355b9915ef6781",
       "version_major": 2,
       "version_minor": 0
      },
      "text/plain": [
       "HBox(children=(IntProgress(value=0, max=16), HTML(value='')))"
      ]
     },
     "metadata": {},
     "output_type": "display_data"
    },
    {
     "name": "stdout",
     "output_type": "stream",
     "text": [
      "\n",
      "| EVALUATION | BLEU: 0.188 |\n",
      "Evaluating model\n"
     ]
    },
    {
     "data": {
      "application/vnd.jupyter.widget-view+json": {
       "model_id": "ddab575b40154b92a5893fbcab6efaf9",
       "version_major": 2,
       "version_minor": 0
      },
      "text/plain": [
       "HBox(children=(IntProgress(value=0, max=16), HTML(value='')))"
      ]
     },
     "metadata": {},
     "output_type": "display_data"
    },
    {
     "name": "stdout",
     "output_type": "stream",
     "text": [
      "\n",
      "| EVALUATION | BLEU: 0.185 |\n",
      "Evaluating model\n"
     ]
    },
    {
     "data": {
      "application/vnd.jupyter.widget-view+json": {
       "model_id": "fbd2488c8ea94574b1c9c691fac366aa",
       "version_major": 2,
       "version_minor": 0
      },
      "text/plain": [
       "HBox(children=(IntProgress(value=0, max=16), HTML(value='')))"
      ]
     },
     "metadata": {},
     "output_type": "display_data"
    },
    {
     "name": "stdout",
     "output_type": "stream",
     "text": [
      "\n",
      "| EVALUATION | BLEU: 0.183 |\n",
      "Evaluating model\n"
     ]
    },
    {
     "data": {
      "application/vnd.jupyter.widget-view+json": {
       "model_id": "3bdcdfc7f77b4f3a8f20e5e80d82bda8",
       "version_major": 2,
       "version_minor": 0
      },
      "text/plain": [
       "HBox(children=(IntProgress(value=0, max=16), HTML(value='')))"
      ]
     },
     "metadata": {},
     "output_type": "display_data"
    },
    {
     "name": "stdout",
     "output_type": "stream",
     "text": [
      "\n",
      "| EVALUATION | BLEU: 0.185 |\n",
      "Evaluating model\n"
     ]
    },
    {
     "data": {
      "application/vnd.jupyter.widget-view+json": {
       "model_id": "4231ade523184f238d26a3b54cb603c9",
       "version_major": 2,
       "version_minor": 0
      },
      "text/plain": [
       "HBox(children=(IntProgress(value=0, max=16), HTML(value='')))"
      ]
     },
     "metadata": {},
     "output_type": "display_data"
    },
    {
     "name": "stdout",
     "output_type": "stream",
     "text": [
      "\n",
      "| EVALUATION | BLEU: 0.193 |\n",
      "Evaluating model\n"
     ]
    },
    {
     "data": {
      "application/vnd.jupyter.widget-view+json": {
       "model_id": "ff30fa8d59eb48b59fc259aa8b6a499f",
       "version_major": 2,
       "version_minor": 0
      },
      "text/plain": [
       "HBox(children=(IntProgress(value=0, max=16), HTML(value='')))"
      ]
     },
     "metadata": {},
     "output_type": "display_data"
    },
    {
     "name": "stdout",
     "output_type": "stream",
     "text": [
      "\n",
      "| EVALUATION | BLEU: 0.188 |\n",
      "Evaluating model\n"
     ]
    },
    {
     "data": {
      "application/vnd.jupyter.widget-view+json": {
       "model_id": "6f261b7d5cd948dd96eef8b5c6709ae2",
       "version_major": 2,
       "version_minor": 0
      },
      "text/plain": [
       "HBox(children=(IntProgress(value=0, max=16), HTML(value='')))"
      ]
     },
     "metadata": {},
     "output_type": "display_data"
    },
    {
     "name": "stdout",
     "output_type": "stream",
     "text": [
      "\n",
      "| EVALUATION | BLEU: 0.190 |\n",
      "Evaluating model\n"
     ]
    },
    {
     "data": {
      "application/vnd.jupyter.widget-view+json": {
       "model_id": "392477c8f16c445a8ba29de724348816",
       "version_major": 2,
       "version_minor": 0
      },
      "text/plain": [
       "HBox(children=(IntProgress(value=0, max=16), HTML(value='')))"
      ]
     },
     "metadata": {},
     "output_type": "display_data"
    },
    {
     "name": "stdout",
     "output_type": "stream",
     "text": [
      "\n",
      "| EVALUATION | BLEU: 0.183 |\n",
      "Evaluating model\n"
     ]
    },
    {
     "data": {
      "application/vnd.jupyter.widget-view+json": {
       "model_id": "b1d2d7a9e8784942940b1c4d86f3cea2",
       "version_major": 2,
       "version_minor": 0
      },
      "text/plain": [
       "HBox(children=(IntProgress(value=0, max=16), HTML(value='')))"
      ]
     },
     "metadata": {},
     "output_type": "display_data"
    },
    {
     "name": "stdout",
     "output_type": "stream",
     "text": [
      "\n",
      "| EVALUATION | BLEU: 0.189 |\n",
      "Evaluating model\n"
     ]
    },
    {
     "data": {
      "application/vnd.jupyter.widget-view+json": {
       "model_id": "42fd507bcc96485684ed5202557a36f5",
       "version_major": 2,
       "version_minor": 0
      },
      "text/plain": [
       "HBox(children=(IntProgress(value=0, max=16), HTML(value='')))"
      ]
     },
     "metadata": {},
     "output_type": "display_data"
    },
    {
     "name": "stdout",
     "output_type": "stream",
     "text": [
      "\n",
      "| EVALUATION | BLEU: 0.191 |\n",
      "Evaluating model\n"
     ]
    },
    {
     "data": {
      "application/vnd.jupyter.widget-view+json": {
       "model_id": "a2afb9e2b3794b99b90def638971732b",
       "version_major": 2,
       "version_minor": 0
      },
      "text/plain": [
       "HBox(children=(IntProgress(value=0, max=16), HTML(value='')))"
      ]
     },
     "metadata": {},
     "output_type": "display_data"
    },
    {
     "name": "stdout",
     "output_type": "stream",
     "text": [
      "\n",
      "| EVALUATION | BLEU: 0.184 |\n",
      "Evaluating model\n"
     ]
    },
    {
     "data": {
      "application/vnd.jupyter.widget-view+json": {
       "model_id": "2a62a99fd859411eac9fdc5c56ce1a43",
       "version_major": 2,
       "version_minor": 0
      },
      "text/plain": [
       "HBox(children=(IntProgress(value=0, max=16), HTML(value='')))"
      ]
     },
     "metadata": {},
     "output_type": "display_data"
    },
    {
     "name": "stdout",
     "output_type": "stream",
     "text": [
      "\n",
      "| EVALUATION | BLEU: 0.186 |\n",
      "Evaluating model\n"
     ]
    },
    {
     "data": {
      "application/vnd.jupyter.widget-view+json": {
       "model_id": "4e1a6fd7b53145dd9b6ad581eebcfa4b",
       "version_major": 2,
       "version_minor": 0
      },
      "text/plain": [
       "HBox(children=(IntProgress(value=0, max=16), HTML(value='')))"
      ]
     },
     "metadata": {},
     "output_type": "display_data"
    },
    {
     "name": "stdout",
     "output_type": "stream",
     "text": [
      "\n",
      "| EVALUATION | BLEU: 0.185 |\n",
      "Evaluating model\n"
     ]
    },
    {
     "data": {
      "application/vnd.jupyter.widget-view+json": {
       "model_id": "ecfc37eef64b4110bfcd478d0cdbd767",
       "version_major": 2,
       "version_minor": 0
      },
      "text/plain": [
       "HBox(children=(IntProgress(value=0, max=16), HTML(value='')))"
      ]
     },
     "metadata": {},
     "output_type": "display_data"
    },
    {
     "name": "stdout",
     "output_type": "stream",
     "text": [
      "\n",
      "| EVALUATION | BLEU: 0.189 |\n",
      "Evaluating model\n"
     ]
    },
    {
     "data": {
      "application/vnd.jupyter.widget-view+json": {
       "model_id": "cfb7c2bfbd7747eeabe5f5230540c3b5",
       "version_major": 2,
       "version_minor": 0
      },
      "text/plain": [
       "HBox(children=(IntProgress(value=0, max=16), HTML(value='')))"
      ]
     },
     "metadata": {},
     "output_type": "display_data"
    },
    {
     "name": "stdout",
     "output_type": "stream",
     "text": [
      "\n",
      "| EVALUATION | BLEU: 0.190 |\n",
      "Evaluating model\n"
     ]
    },
    {
     "data": {
      "application/vnd.jupyter.widget-view+json": {
       "model_id": "71339f2776114e11a5396840a5ec333f",
       "version_major": 2,
       "version_minor": 0
      },
      "text/plain": [
       "HBox(children=(IntProgress(value=0, max=16), HTML(value='')))"
      ]
     },
     "metadata": {},
     "output_type": "display_data"
    },
    {
     "name": "stdout",
     "output_type": "stream",
     "text": [
      "\n",
      "| EVALUATION | BLEU: 0.183 |\n",
      "Keyboard Interrupt!\n"
     ]
    }
   ],
   "source": [
    "scores = trainer.train(model,train_iterator,train_step,500000,eval_fn=eval_fn, eval_interval=10000)"
   ]
  },
  {
   "cell_type": "code",
   "execution_count": 18,
   "metadata": {},
   "outputs": [
    {
     "data": {
      "application/vnd.jupyter.widget-view+json": {
       "model_id": "00a1a6be10c64930bb1c9d7426d2b38b",
       "version_major": 2,
       "version_minor": 0
      },
      "text/plain": [
       "HBox(children=(IntProgress(value=0, max=16), HTML(value='')))"
      ]
     },
     "metadata": {},
     "output_type": "display_data"
    },
    {
     "name": "stdout",
     "output_type": "stream",
     "text": [
      "\n",
      "| EVALUATION | BLEU: 0.180 |\n"
     ]
    },
    {
     "data": {
      "text/plain": [
       "0.18003576003198324"
      ]
     },
     "execution_count": 18,
     "metadata": {},
     "output_type": "execute_result"
    }
   ],
   "source": [
    "evaluate(model, test_iterator, batch_to_output_autorregressive, vocab, out_file=\"small_transformer_BERT_tokenizer_CoNaLa.out\", max_seq_len=100)"
   ]
  },
  {
   "cell_type": "code",
   "execution_count": 19,
   "metadata": {},
   "outputs": [
    {
     "data": {
      "application/vnd.jupyter.widget-view+json": {
       "model_id": "8792f3b428454b688c8855dc50890b6c",
       "version_major": 2,
       "version_minor": 0
      },
      "text/plain": [
       "HBox(children=(IntProgress(value=0, max=16), HTML(value='')))"
      ]
     },
     "metadata": {},
     "output_type": "display_data"
    },
    {
     "name": "stdout",
     "output_type": "stream",
     "text": [
      "\n",
      "| EVALUATION | BLEU: 0.180 |\n"
     ]
    },
    {
     "data": {
      "text/plain": [
       "0.18003576003198324"
      ]
     },
     "execution_count": 19,
     "metadata": {},
     "output_type": "execute_result"
    }
   ],
   "source": [
    "eval_fn()"
   ]
  },
  {
   "cell_type": "code",
   "execution_count": 21,
   "metadata": {},
   "outputs": [
    {
     "data": {
      "image/png": "[encoded data removed]",
      "text/plain": [
       "<Figure size 432x288 with 1 Axes>"
      ]
     },
     "metadata": {
      "needs_background": "light"
     },
     "output_type": "display_data"
    }
   ],
   "source": [
    "import matplotlib.pyplot as plt\n",
    "plt.plot(scores)\n",
    "plt.title(\"4 layer small transformer from scratch on CoNaLa, \\nBERT tokenization, 10k steps per eval\")\n",
    "plt.show()"
   ]
  },
  {
   "cell_type": "code",
   "execution_count": 58,
   "metadata": {},
   "outputs": [
    {
     "data": {
      "text/plain": [
       "[0.12189497651120583,\n",
       " 0.16164382049810583,\n",
       " 0.19916312269773348,\n",
       " 0.3275679586537674,\n",
       " 0.4185609025169002,\n",
       " 0.4560380848256558,\n",
       " 0.468132137640055,\n",
       " 0.4760777393032713,\n",
       " 0.49848235463022156,\n",
       " 0.5062434648007607,\n",
       " 0.537119487378111,\n",
       " 0.5415516251436668,\n",
       " 0.5394365487661673,\n",
       " 0.5603091683851253,\n",
       " 0.5723141458093121,\n",
       " 0.5840777264451252,\n",
       " 0.5825225306143944,\n",
       " 0.5848905875785066,\n",
       " 0.5875649567913926,\n",
       " 0.6015076712290225,\n",
       " 0.5865396971798923,\n",
       " 0.6188437291719454,\n",
       " 0.6046434237945905,\n",
       " 0.6226226983188139,\n",
       " 0.6224113138810076,\n",
       " 0.6208680726302651,\n",
       " 0.6342416698927907,\n",
       " 0.6349380773503491,\n",
       " 0.6343420143620567,\n",
       " 0.6325407361705313,\n",
       " 0.6441319543341005,\n",
       " 0.6349255666047922,\n",
       " 0.6471959466818391,\n",
       " 0.6558042464920979,\n",
       " 0.6398247148548276,\n",
       " 0.6379952814404132,\n",
       " 0.6560204413950823,\n",
       " 0.6378531162715102,\n",
       " 0.6528098299021486,\n",
       " 0.6678708806300966,\n",
       " 0.6611406607210502,\n",
       " 0.6610034111756722,\n",
       " 0.6554407852509508,\n",
       " 0.6559579512891057,\n",
       " 0.660632455011257,\n",
       " 0.6735112380816468,\n",
       " 0.6668364026129088,\n",
       " 0.6737181652499474,\n",
       " 0.6678675482066763,\n",
       " 0.6754148940247331,\n",
       " 0.669062053115048,\n",
       " 0.6712871859130507,\n",
       " 0.6751427970800137,\n",
       " 0.6853286942887862,\n",
       " 0.6706712616610823,\n",
       " 0.6722320476639339,\n",
       " 0.6754796647074824,\n",
       " 0.6808653405688967,\n",
       " 0.6815531998054051,\n",
       " 0.6789895264641486,\n",
       " 0.6758340956677819,\n",
       " 0.6775615312665829,\n",
       " 0.6802740966894866,\n",
       " 0.6810556534586562,\n",
       " 0.6814230626713699,\n",
       " 0.6770024874409886,\n",
       " 0.6782381801169239,\n",
       " 0.6805754249679622,\n",
       " 0.6842896992520751,\n",
       " 0.6823009191305802,\n",
       " 0.6798529641272837,\n",
       " 0.6762594243963986,\n",
       " 0.67738276002944,\n",
       " 0.684782582972847,\n",
       " 0.6769768086996588,\n",
       " 0.6807093654710317,\n",
       " 0.6821493010720235,\n",
       " 0.6966794771795815,\n",
       " 0.6898547784361928,\n",
       " 0.6940652729146053,\n",
       " 0.679584189375828,\n",
       " 0.6892669592421099,\n",
       " 0.6718430862035987,\n",
       " 0.6780797964686844,\n",
       " 0.6855218371070779,\n",
       " 0.6836688821131823,\n",
       " 0.67682960281185,\n",
       " 0.6802714733394615,\n",
       " 0.6920246794984519,\n",
       " 0.6856875950967342,\n",
       " 0.6937118520801595,\n",
       " 0.6858569281973136,\n",
       " 0.6946582589671514,\n",
       " 0.6950864590846252,\n",
       " 0.6800435882965106,\n",
       " 0.6744704770940613,\n",
       " 0.691377205207799,\n",
       " 0.6926493129525426,\n",
       " 0.6958497528415578,\n",
       " 0.6977676841396212,\n",
       " 0.6900469122030218,\n",
       " 0.6856099571956229,\n",
       " 0.691854279352739,\n",
       " 0.6962158381953903,\n",
       " 0.6936705097672583]"
      ]
     },
     "execution_count": 58,
     "metadata": {},
     "output_type": "execute_result"
    }
   ],
   "source": [
    "[0.12180583,\n",
    " 0.16160583,\n",
    " 0.19913348,\n",
    " 0.3275674,\n",
    " 0.4185002,\n",
    " 0.4560558,\n",
    " 0.468155,\n",
    " 0.4760713,\n",
    " 0.49842156,\n",
    " 0.5062607,\n",
    " 0.537111,\n",
    " 0.5415668,\n",
    " 0.5394673,\n",
    " 0.5603253,\n",
    " 0.5723121,\n",
    " 0.5840252,\n",
    " 0.5825944,\n",
    " 0.5848066,\n",
    " 0.5875926,\n",
    " 0.6015225,\n",
    " 0.5865923,\n",
    " 0.6188454,\n",
    " 0.6046905,\n",
    " 0.6226139,\n",
    " 0.6224076,\n",
    " 0.6208651,\n",
    " 0.6342907,\n",
    " 0.6349491,\n",
    " 0.6343567,\n",
    " 0.6325313,\n",
    " 0.6441005,\n",
    " 0.6349922,\n",
    " 0.6471391,\n",
    " 0.6558979,\n",
    " 0.6398276,\n",
    " 0.6379132,\n",
    " 0.6560823,\n",
    " 0.6378102,\n",
    " 0.6528486,\n",
    " 0.6678966,\n",
    " 0.6611502,\n",
    " 0.6610722,\n",
    " 0.6554508,\n",
    " 0.6559057,\n",
    " 0.660657,\n",
    " 0.6735468,\n",
    " 0.6668088,\n",
    " 0.6737474,\n",
    " 0.6678763,\n",
    " 0.6754331,\n",
    " 0.669048,\n",
    " 0.6712507,\n",
    " 0.6751137,\n",
    " 0.6853862,\n",
    " 0.6706823,\n",
    " 0.6722339,\n",
    " 0.6754824,\n",
    " 0.6808967,\n",
    " 0.6815051,\n",
    " 0.6789486,\n",
    " 0.6758819,\n",
    " 0.6775829,\n",
    " 0.6802866,\n",
    " 0.6810562,\n",
    " 0.6814699,\n",
    " 0.6770886,\n",
    " 0.6782239,\n",
    " 0.6805622,\n",
    " 0.6842751,\n",
    " 0.6823802,\n",
    " 0.6798837,\n",
    " 0.6762986,\n",
    " 0.67734,\n",
    " 0.684747,\n",
    " 0.6769588,\n",
    " 0.6807317,\n",
    " 0.6821235,\n",
    " 0.6966815,\n",
    " 0.6898928,\n",
    " 0.6940053,\n",
    " 0.679528,\n",
    " 0.6892099,\n",
    " 0.6718987,\n",
    " 0.6780844,\n",
    " 0.6855779,\n",
    " 0.6836823,\n",
    " 0.67685,\n",
    " 0.6802615,\n",
    " 0.6920519,\n",
    " 0.6856342,\n",
    " 0.6937595,\n",
    " 0.6858136,\n",
    " 0.6946514,\n",
    " 0.6950252,\n",
    " 0.6800106,\n",
    " 0.6744613,\n",
    " 0.691399,\n",
    " 0.6926426,\n",
    " 0.6958578,\n",
    " 0.6977212,\n",
    " 0.6900218,\n",
    " 0.6856229,\n",
    " 0.691839,\n",
    " 0.6962903,\n",
    " 0.6936583]"
   ]
  },
  {
   "cell_type": "code",
   "execution_count": null,
   "metadata": {},
   "outputs": [],
   "source": []
  }
 ],
 "metadata": {
  "kernelspec": {
   "display_name": "Python 3",
   "language": "python",
   "name": "python3"
  },
  "language_info": {
   "codemirror_mode": {
    "name": "ipython",
    "version": 3
   },
   "file_extension": ".py",
   "mimetype": "text/x-python",
   "name": "python",
   "nbconvert_exporter": "python",
   "pygments_lexer": "ipython3",
   "version": "3.6.8"
  }
 },
 "nbformat": 4,
 "nbformat_minor": 4
}

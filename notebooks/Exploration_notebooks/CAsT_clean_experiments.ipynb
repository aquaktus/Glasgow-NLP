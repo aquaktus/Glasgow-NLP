{
 "cells": [
  {
   "cell_type": "code",
   "execution_count": 1,
   "metadata": {},
   "outputs": [],
   "source": [
    "from src.RawDataLoaders import *\n",
    "from src.pipe_datasets import *\n",
    "from src.models_and_transforms.run_file_models import Run_File_Searcher\n",
    "from src.models_and_transforms.BERT_models import BERT_Reranker\n",
    "from src.models_and_transforms.Longformer_models import Longformer_Reranker\n",
    "from src.models_and_transforms.BM25_models import BM25_Ranker\n",
    "from src.Experiments import CAsT_experiment, Ranking_Experiment, RUN_File_Transform_Exporter\n",
    "from src.trainers import Model_Trainer\n",
    "from src.models_and_transforms.complex_transforms import *\n",
    "from src.models_and_transforms.text_transforms import *\n",
    "from src.models_and_transforms.complex_transforms import BART_Query_Rewriter_Transform, BART_Full_Conversational_Rewriter_Transform\n",
    "\n",
    "from transformers import LongformerConfig, LongformerModel, LongformerTokenizer, BertTokenizer, BertModel, BertForSequenceClassification\n",
    "from pytorch_lightning import Trainer, Callback, seed_everything\n",
    "import pickle\n",
    "import random\n",
    "import numpy as np\n",
    "import json\n",
    "import os\n",
    "from pytorch_lightning.loggers import WandbLogger\n",
    "from pytorch_lightning.callbacks import ModelCheckpoint\n",
    "import torch\n",
    "import jsonlines\n",
    "seed_everything(42)\n",
    "\n",
    "from tqdm.auto import tqdm \n",
    "%load_ext autoreload\n",
    "%autoreload 2\n",
    "%load_ext line_profiler"
   ]
  },
  {
   "cell_type": "markdown",
   "metadata": {},
   "source": [
    "# Creating the collection"
   ]
  },
  {
   "cell_type": "code",
   "execution_count": 2,
   "metadata": {},
   "outputs": [],
   "source": [
    "CAsT_raw_data_loader = CAsT_RawDataLoader()\n",
    "get_query_fn = CAsT_raw_data_loader.get_query\n",
    "get_doc_fn = CAsT_raw_data_loader.get_doc\n",
    "CAsT_q_rels = CAsT_raw_data_loader.q_rels"
   ]
  },
  {
   "cell_type": "markdown",
   "metadata": {},
   "source": [
    "# Manual BM25 @ 1k"
   ]
  },
  {
   "cell_type": "markdown",
   "metadata": {},
   "source": [
    "### Y1 data"
   ]
  },
  {
   "cell_type": "code",
   "execution_count": 5,
   "metadata": {},
   "outputs": [
    {
     "data": {
      "application/vnd.jupyter.widget-view+json": {
       "model_id": "91786e4906674c38998fc208c12b7194",
       "version_major": 2,
       "version_minor": 0
      },
      "text/plain": [
       "HBox(children=(FloatProgress(value=0.0, description='Searching queries', max=163.0, style=ProgressStyle(descri…"
      ]
     },
     "metadata": {},
     "output_type": "display_data"
    },
    {
     "name": "stdout",
     "output_type": "stream",
     "text": [
      "\n",
      "Manual Y1 BM25 @ 1k results\n",
      "['map:0.198', 'recip_rank:0.448', 'ndcg_cut_3:0.289', 'set_recall:0.844']\n"
     ]
    },
    {
     "data": {
      "application/vnd.jupyter.widget-view+json": {
       "model_id": "",
       "version_major": 2,
       "version_minor": 0
      },
      "text/plain": [
       "HBox(children=(FloatProgress(value=0.0, description='Writing to RUN file', max=163.0, style=ProgressStyle(desc…"
      ]
     },
     "metadata": {},
     "output_type": "display_data"
    },
    {
     "name": "stdout",
     "output_type": "stream",
     "text": [
      "Successfully written 163000 samples from 163 queries run to: saved_models/BM25/y1_manual_BM25_1k.run\n"
     ]
    }
   ],
   "source": [
    "samples = CAsT_raw_data_loader.get_topics(\"all\")\n",
    "samples = Query_Resolver_Transform(get_query_fn, utterance_type=\"manual_rewritten_utterance\")(samples)\n",
    "samples = BM25_Search_Transform(index_dir='datasets/TREC_CAsT/CAsT_collection_with_meta.index', \n",
    "                                          key_fields={'query_field':'query', 'target_field':'search_results'},\n",
    "                                          hits=1000)(samples)\n",
    "expr = Ranking_Experiment(CAsT_q_rels)\n",
    "print(\"Manual Y1 BM25 @ 1k results\")\n",
    "print([f\"{metric}:{score:.3f}\"for metric, score in expr(samples).items()])\n",
    "run_file_exporter = RUN_File_Transform_Exporter('saved_models/BM25/y1_manual_BM25_1k.run', model_name='manual_BM25')\n",
    "run_file_exporter(samples)"
   ]
  },
  {
   "cell_type": "markdown",
   "metadata": {},
   "source": [
    "### Y2 data"
   ]
  },
  {
   "cell_type": "code",
   "execution_count": 8,
   "metadata": {},
   "outputs": [
    {
     "data": {
      "application/vnd.jupyter.widget-view+json": {
       "model_id": "425c55ede6864e30b54b7ef72a8d0a10",
       "version_major": 2,
       "version_minor": 0
      },
      "text/plain": [
       "HBox(children=(FloatProgress(value=0.0, description='Searching queries', max=216.0, style=ProgressStyle(descri…"
      ]
     },
     "metadata": {},
     "output_type": "display_data"
    },
    {
     "name": "stdout",
     "output_type": "stream",
     "text": [
      "\n"
     ]
    },
    {
     "data": {
      "application/vnd.jupyter.widget-view+json": {
       "model_id": "",
       "version_major": 2,
       "version_minor": 0
      },
      "text/plain": [
       "HBox(children=(FloatProgress(value=0.0, description='Writing to RUN file', max=216.0, style=ProgressStyle(desc…"
      ]
     },
     "metadata": {},
     "output_type": "display_data"
    },
    {
     "name": "stdout",
     "output_type": "stream",
     "text": [
      "Successfully written 216000 samples from 216 queries run to: saved_models/BM25/y2_manual_BM25_1k.run\n"
     ]
    }
   ],
   "source": [
    "samples = CAsT_raw_data_loader.get_topics(\"eval\")\n",
    "samples = Query_Resolver_Transform(get_query_fn, utterance_type=\"manual_rewritten_utterance\")(samples)\n",
    "samples = BM25_Search_Transform(index_dir='datasets/TREC_CAsT/CAsT_collection_with_meta.index', \n",
    "                                          key_fields={'query_field':'query', 'target_field':'search_results'},\n",
    "                                          hits=1000)(samples)\n",
    "\n",
    "run_file_exporter = RUN_File_Transform_Exporter('saved_models/BM25/y2_manual_BM25_1k.run', model_name='manual_BM25')\n",
    "run_file_exporter(samples)"
   ]
  },
  {
   "cell_type": "markdown",
   "metadata": {},
   "source": [
    "# Manual BM25@1k + monoBERT"
   ]
  },
  {
   "cell_type": "markdown",
   "metadata": {},
   "source": [
    "### Y1 data"
   ]
  },
  {
   "cell_type": "code",
   "execution_count": 11,
   "metadata": {},
   "outputs": [
    {
     "data": {
      "application/vnd.jupyter.widget-view+json": {
       "model_id": "7f805de854724c7a8e32ab37d450d4c3",
       "version_major": 2,
       "version_minor": 0
      },
      "text/plain": [
       "HBox(children=(FloatProgress(value=0.0, description='Searching queries', max=3.0, style=ProgressStyle(descript…"
      ]
     },
     "metadata": {},
     "output_type": "display_data"
    },
    {
     "name": "stdout",
     "output_type": "stream",
     "text": [
      "\n",
      "Loading chekcpoint from saved_models/monoBERT/\n",
      "MonoBERT ReRanker initialised on device cuda:0. Batch size 100\n"
     ]
    },
    {
     "data": {
      "application/vnd.jupyter.widget-view+json": {
       "model_id": "cb5f64a2fd3c4a02b3084c02ca95a325",
       "version_major": 2,
       "version_minor": 0
      },
      "text/plain": [
       "HBox(children=(FloatProgress(value=0.0, description='Reranking queries', max=3.0, style=ProgressStyle(descript…"
      ]
     },
     "metadata": {},
     "output_type": "display_data"
    },
    {
     "name": "stdout",
     "output_type": "stream",
     "text": [
      "\n",
      "Manual BM25+monoBERT @ 1k results\n",
      "['map:0.480', 'recip_rank:0.833', 'ndcg_cut_3:0.844', 'set_recall:0.884']\n"
     ]
    },
    {
     "data": {
      "application/vnd.jupyter.widget-view+json": {
       "model_id": "",
       "version_major": 2,
       "version_minor": 0
      },
      "text/plain": [
       "HBox(children=(FloatProgress(value=0.0, description='Writing to RUN file', max=3.0, style=ProgressStyle(descri…"
      ]
     },
     "metadata": {},
     "output_type": "display_data"
    },
    {
     "name": "stdout",
     "output_type": "stream",
     "text": [
      "Successfully written 3000 samples from 3 queries run to: saved_models/monoBERT/y1_manual_BM25_monoBERT_1k.run\n"
     ]
    }
   ],
   "source": [
    "samples = CAsT_raw_data_loader.get_topics(\"all\")\n",
    "samples = Query_Resolver_Transform(get_query_fn, utterance_type=\"manual_rewritten_utterance\")(samples)\n",
    "samples = BM25_Search_Transform(index_dir='datasets/TREC_CAsT/CAsT_collection_with_meta.index', \n",
    "                                          key_fields={'query_field':'query', 'target_field':'search_results'},\n",
    "                                          hits=1000)(samples)\n",
    "samples = MonoBERT_ReRanker_Transform('saved_models/monoBERT/', get_doc_fn, device=\"cuda:0\", \n",
    "                                                          key_fields={'query_field':'query', 'target_field':'search_results'},\n",
    "                                                          batch_size=100)(samples)\n",
    "expr = Ranking_Experiment(CAsT_q_rels)\n",
    "print(\"Manual BM25+monoBERT @ 1k results\")\n",
    "print([f\"{metric}:{score:.3f}\"for metric, score in expr(samples).items()])\n",
    "run_file_exporter = RUN_File_Transform_Exporter('saved_models/monoBERT/y1_manual_BM25_monoBERT_1k.run', model_name='manual_BM25_monoBERT')\n",
    "run_file_exporter(samples)"
   ]
  },
  {
   "cell_type": "markdown",
   "metadata": {},
   "source": [
    "Manual BM25+monoBERT @ 1k results\n",
    "['map:0.352', 'recip_rank:0.658', 'ndcg_cut_3:0.511', 'set_recall:0.844']"
   ]
  },
  {
   "cell_type": "markdown",
   "metadata": {},
   "source": [
    "### Y2 data"
   ]
  },
  {
   "cell_type": "code",
   "execution_count": null,
   "metadata": {},
   "outputs": [],
   "source": [
    "samples = CAsT_raw_data_loader.get_topics(\"eval\")\n",
    "samples = Query_Resolver_Transform(get_query_fn, utterance_type=\"manual_rewritten_utterance\")(samples)\n",
    "samples = BM25_Search_Transform(index_dir='datasets/TREC_CAsT/CAsT_collection_with_meta.index', \n",
    "                                          key_fields={'query_field':'query', 'target_field':'search_results'},\n",
    "                                          hits=1000)(samples)\n",
    "samples = MonoBERT_ReRanker_Transform('saved_models/monoBERT/', get_doc_fn, device=\"cuda:0\", \n",
    "                                                          key_fields={'query_field':'query', 'target_field':'search_results'},\n",
    "                                                          batch_size=100)(samples)\n",
    "\n",
    "run_file_exporter = RUN_File_Transform_Exporter('saved_models/monoBERT/y2_manual_BM25_monoBERT_1k.run', model_name='manual_BM25_monoBERT')\n",
    "run_file_exporter(samples)"
   ]
  },
  {
   "cell_type": "markdown",
   "metadata": {},
   "source": [
    "# Manual BM25@1k + monoBERT + DuoBERT"
   ]
  },
  {
   "cell_type": "markdown",
   "metadata": {},
   "source": [
    "### Y1"
   ]
  },
  {
   "cell_type": "code",
   "execution_count": 3,
   "metadata": {
    "collapsed": true,
    "jupyter": {
     "outputs_hidden": true
    }
   },
   "outputs": [
    {
     "ename": "NameError",
     "evalue": "name 'CAsT_raw_data_loader' is not defined",
     "output_type": "error",
     "traceback": [
      "\u001b[0;31m---------------------------------------------------------------------------\u001b[0m",
      "\u001b[0;31mNameError\u001b[0m                                 Traceback (most recent call last)",
      "\u001b[0;32m<ipython-input-3-5480fb5333b4>\u001b[0m in \u001b[0;36m<module>\u001b[0;34m\u001b[0m\n\u001b[0;32m----> 1\u001b[0;31m \u001b[0msamples\u001b[0m \u001b[0;34m=\u001b[0m \u001b[0mCAsT_raw_data_loader\u001b[0m\u001b[0;34m.\u001b[0m\u001b[0mget_topics\u001b[0m\u001b[0;34m(\u001b[0m\u001b[0;34m\"all\"\u001b[0m\u001b[0;34m)\u001b[0m\u001b[0;34m\u001b[0m\u001b[0;34m\u001b[0m\u001b[0m\n\u001b[0m\u001b[1;32m      2\u001b[0m \u001b[0msamples\u001b[0m \u001b[0;34m=\u001b[0m \u001b[0mQuery_Resolver_Transform\u001b[0m\u001b[0;34m(\u001b[0m\u001b[0mget_query_fn\u001b[0m\u001b[0;34m,\u001b[0m \u001b[0mutterance_type\u001b[0m\u001b[0;34m=\u001b[0m\u001b[0;34m\"manual_rewritten_utterance\"\u001b[0m\u001b[0;34m)\u001b[0m\u001b[0;34m(\u001b[0m\u001b[0msamples\u001b[0m\u001b[0;34m)\u001b[0m\u001b[0;34m\u001b[0m\u001b[0;34m\u001b[0m\u001b[0m\n\u001b[1;32m      3\u001b[0m \u001b[0msamples\u001b[0m \u001b[0;34m=\u001b[0m \u001b[0mRUN_File_Search_Transform\u001b[0m\u001b[0;34m(\u001b[0m\u001b[0;34m'saved_models/monoBERT/y1_manual_BM25_monoBERT_1k.run'\u001b[0m\u001b[0;34m,\u001b[0m \u001b[0mhits\u001b[0m\u001b[0;34m=\u001b[0m\u001b[0;36m1000\u001b[0m\u001b[0;34m)\u001b[0m\u001b[0;34m(\u001b[0m\u001b[0msamples\u001b[0m\u001b[0;34m)\u001b[0m\u001b[0;34m\u001b[0m\u001b[0;34m\u001b[0m\u001b[0m\n\u001b[1;32m      4\u001b[0m \u001b[0;34m\u001b[0m\u001b[0m\n\u001b[1;32m      5\u001b[0m \u001b[0msamples\u001b[0m \u001b[0;34m=\u001b[0m \u001b[0mDuoBERT_ReRanker_Transform\u001b[0m\u001b[0;34m(\u001b[0m\u001b[0;34m\"saved_models/duoBERT/\"\u001b[0m\u001b[0;34m,\u001b[0m \u001b[0mget_doc_fn\u001b[0m\u001b[0;34m,\u001b[0m \u001b[0mrerank_top\u001b[0m\u001b[0;34m=\u001b[0m\u001b[0;36m10\u001b[0m\u001b[0;34m,\u001b[0m \u001b[0mdevice\u001b[0m\u001b[0;34m=\u001b[0m\u001b[0;34m\"cuda:1\"\u001b[0m\u001b[0;34m)\u001b[0m\u001b[0;34m(\u001b[0m\u001b[0msamples\u001b[0m\u001b[0;34m)\u001b[0m\u001b[0;34m\u001b[0m\u001b[0;34m\u001b[0m\u001b[0m\n",
      "\u001b[0;31mNameError\u001b[0m: name 'CAsT_raw_data_loader' is not defined"
     ]
    }
   ],
   "source": [
    "samples = CAsT_raw_data_loader.get_topics(\"all\")\n",
    "samples = Query_Resolver_Transform(get_query_fn, utterance_type=\"manual_rewritten_utterance\")(samples)\n",
    "samples = RUN_File_Search_Transform('saved_models/monoBERT/y1_manual_BM25_monoBERT_1k.run', hits=1000)(samples)\n",
    "\n",
    "samples = DuoBERT_ReRanker_Transform(\"saved_models/duoBERT/\", get_doc_fn, rerank_top=10, device=\"cuda:1\")(samples)\n",
    "for sample in samples:\n",
    "    sample[\"search_results\"] = sample[\"reranked_results\"]\n",
    "\n",
    "expr = Ranking_Experiment(CAsT_q_rels)\n",
    "print(\"Manual BM25+monoBERT+duoBERT @ 1k results\")\n",
    "print([f\"{metric}:{score:.3f}\"for metric, score in expr(samples).items()])\n",
    "run_file_exporter = RUN_File_Transform_Exporter('saved_models/duoBERT/y1_manual_BM25_mono_duoBERT_1k.run', model_name='manual_BM25_mono_duoBERT')\n",
    "run_file_exporter(samples)"
   ]
  },
  {
   "cell_type": "markdown",
   "metadata": {},
   "source": [
    "Manual BM25+monoBERT+duoBERT @ 1k results\n",
    "['map:0.322', 'recip_rank:0.681', 'ndcg_cut_3:0.556', 'set_recall:0.844']"
   ]
  },
  {
   "cell_type": "markdown",
   "metadata": {},
   "source": [
    "### Y2"
   ]
  },
  {
   "cell_type": "code",
   "execution_count": 9,
   "metadata": {},
   "outputs": [
    {
     "data": {
      "application/vnd.jupyter.widget-view+json": {
       "model_id": "f25fffd5b6624997bd0e7d15da4742be",
       "version_major": 2,
       "version_minor": 0
      },
      "text/plain": [
       "HBox(children=(FloatProgress(value=0.0, description='Searching queries', max=2.0, style=ProgressStyle(descript…"
      ]
     },
     "metadata": {},
     "output_type": "display_data"
    },
    {
     "name": "stdout",
     "output_type": "stream",
     "text": [
      "\n",
      "Loading chekcpoint from saved_models/duoBERT/\n",
      "DuoBERT ReRanker initialised on cuda. Batch size 32\n"
     ]
    },
    {
     "data": {
      "application/vnd.jupyter.widget-view+json": {
       "model_id": "86bd47c3ba4742688fa0a71fca0c9c4b",
       "version_major": 2,
       "version_minor": 0
      },
      "text/plain": [
       "HBox(children=(FloatProgress(value=0.0, description='Reranking queries', max=2.0, style=ProgressStyle(descript…"
      ]
     },
     "metadata": {},
     "output_type": "display_data"
    },
    {
     "name": "stdout",
     "output_type": "stream",
     "text": [
      "\n"
     ]
    },
    {
     "data": {
      "application/vnd.jupyter.widget-view+json": {
       "model_id": "",
       "version_major": 2,
       "version_minor": 0
      },
      "text/plain": [
       "HBox(children=(FloatProgress(value=0.0, description='Writing to RUN file', max=2.0, style=ProgressStyle(descri…"
      ]
     },
     "metadata": {},
     "output_type": "display_data"
    },
    {
     "name": "stdout",
     "output_type": "stream",
     "text": [
      "Successfully written 2000 samples from 2 queries run to: saved_models/duoBERT/y2_manual_BM25_mono_duoBERT_1k.run\n"
     ]
    }
   ],
   "source": [
    "samples = CAsT_raw_data_loader.get_topics(\"eval\")\n",
    "samples = Query_Resolver_Transform(get_query_fn, utterance_type=\"manual_rewritten_utterance\")(samples)\n",
    "samples = RUN_File_Search_Transform('saved_models/monoBERT/y2_manual_BM25_monoBERT_1k.run', hits=1000)(samples)\n",
    "\n",
    "samples = DuoBERT_ReRanker_Transform(\"saved_models/duoBERT/\", get_doc_fn, rerank_top=10, device=\"cuda:2\")(samples)\n",
    "for sample in samples:\n",
    "    sample[\"search_results\"] = sample[\"reranked_results\"]\n",
    "\n",
    "run_file_exporter = RUN_File_Transform_Exporter('saved_models/duoBERT/y2_manual_BM25_mono_duoBERT_1k.run', model_name='manual_BM25_mono_duoBERT')\n",
    "run_file_exporter(samples)"
   ]
  },
  {
   "cell_type": "markdown",
   "metadata": {},
   "source": [
    "# Relevance Models query rewrites"
   ]
  },
  {
   "cell_type": "markdown",
   "metadata": {},
   "source": [
    "### Y1"
   ]
  },
  {
   "cell_type": "code",
   "execution_count": 14,
   "metadata": {},
   "outputs": [
    {
     "data": {
      "application/vnd.jupyter.widget-view+json": {
       "model_id": "78e52a7c972a4d0d8d67914465321cad",
       "version_major": 2,
       "version_minor": 0
      },
      "text/plain": [
       "HBox(children=(FloatProgress(value=0.0, description='Searching queries', max=163.0, style=ProgressStyle(descri…"
      ]
     },
     "metadata": {},
     "output_type": "display_data"
    },
    {
     "name": "stdout",
     "output_type": "stream",
     "text": [
      "\n"
     ]
    },
    {
     "data": {
      "application/vnd.jupyter.widget-view+json": {
       "model_id": "81115515a7ce4014b1ac1cd48b8ef2b9",
       "version_major": 2,
       "version_minor": 0
      },
      "text/plain": [
       "HBox(children=(FloatProgress(value=0.0, description='Relevance Model', max=163.0, style=ProgressStyle(descript…"
      ]
     },
     "metadata": {},
     "output_type": "display_data"
    },
    {
     "name": "stdout",
     "output_type": "stream",
     "text": [
      "\n"
     ]
    }
   ],
   "source": [
    "samples = CAsT_raw_data_loader.get_topics(\"all\")\n",
    "samples = Query_Resolver_Transform(get_query_fn, utterance_type=\"manual_rewritten_utterance\")(samples)\n",
    "samples = RUN_File_Search_Transform('saved_models/duoBERT/y1_manual_BM25_mono_duoBERT_1k.run', hits=1000)(samples)\n",
    "\n",
    "samples = Relevance_Model_Transform(get_doc_fn, top_k=20)(samples)\n",
    "samples = Simple_Query_Expansion_Transform(top_k=20)(samples)\n",
    "\n",
    "json.dump(samples, open('saved_models/Relevance Models CAsT/y1_manual_duoBERT_Relevance_Terms.json', 'w'))"
   ]
  },
  {
   "cell_type": "markdown",
   "metadata": {},
   "source": [
    "### Y2"
   ]
  },
  {
   "cell_type": "code",
   "execution_count": 16,
   "metadata": {},
   "outputs": [
    {
     "data": {
      "application/vnd.jupyter.widget-view+json": {
       "model_id": "50e7212343bf422b8c0defa6a5b8b848",
       "version_major": 2,
       "version_minor": 0
      },
      "text/plain": [
       "HBox(children=(FloatProgress(value=0.0, description='Searching queries', max=216.0, style=ProgressStyle(descri…"
      ]
     },
     "metadata": {},
     "output_type": "display_data"
    },
    {
     "name": "stdout",
     "output_type": "stream",
     "text": [
      "\n"
     ]
    },
    {
     "data": {
      "application/vnd.jupyter.widget-view+json": {
       "model_id": "840885d9baa44ef5a49ab04baca88683",
       "version_major": 2,
       "version_minor": 0
      },
      "text/plain": [
       "HBox(children=(FloatProgress(value=0.0, description='Relevance Model', max=216.0, style=ProgressStyle(descript…"
      ]
     },
     "metadata": {},
     "output_type": "display_data"
    },
    {
     "name": "stdout",
     "output_type": "stream",
     "text": [
      "\n"
     ]
    }
   ],
   "source": [
    "samples = CAsT_raw_data_loader.get_topics(\"eval\")\n",
    "samples = Query_Resolver_Transform(get_query_fn, utterance_type=\"manual_rewritten_utterance\")(samples)\n",
    "samples = RUN_File_Search_Transform('saved_models/duoBERT/y2_manual_BM25_mono_duoBERT_1k.run', hits=1000)(samples)\n",
    "\n",
    "samples = Relevance_Model_Transform(get_doc_fn, top_k=20)(samples)\n",
    "samples = Simple_Query_Expansion_Transform(top_k=20)(samples)\n",
    "\n",
    "json.dump(samples, open('saved_models/Relevance Models CAsT/y2_manual_duoBERT_Relevance_Terms.json', 'w'))"
   ]
  },
  {
   "cell_type": "markdown",
   "metadata": {},
   "source": [
    "# Jeff SDM runs on monoBERT and duoBERT"
   ]
  },
  {
   "cell_type": "markdown",
   "metadata": {},
   "source": [
    "### Y1"
   ]
  },
  {
   "cell_type": "code",
   "execution_count": 20,
   "metadata": {},
   "outputs": [
    {
     "data": {
      "application/vnd.jupyter.widget-view+json": {
       "model_id": "cd2ccaa0410d4e75a7e0207e143c3fda",
       "version_major": 2,
       "version_minor": 0
      },
      "text/plain": [
       "HBox(children=(FloatProgress(value=0.0, description='Searching queries', max=2.0, style=ProgressStyle(descript…"
      ]
     },
     "metadata": {},
     "output_type": "display_data"
    },
    {
     "name": "stdout",
     "output_type": "stream",
     "text": [
      "\n",
      "Loading chekcpoint from saved_models/monoBERT/\n",
      "MonoBERT ReRanker initialised on device cuda:0. Batch size 100\n"
     ]
    },
    {
     "data": {
      "application/vnd.jupyter.widget-view+json": {
       "model_id": "64c88942aaa34ae69ede6b5624361d44",
       "version_major": 2,
       "version_minor": 0
      },
      "text/plain": [
       "HBox(children=(FloatProgress(value=0.0, description='Reranking queries', max=2.0, style=ProgressStyle(descript…"
      ]
     },
     "metadata": {},
     "output_type": "display_data"
    },
    {
     "name": "stdout",
     "output_type": "stream",
     "text": [
      "\n",
      "Loading chekcpoint from saved_models/duoBERT/\n",
      "DuoBERT ReRanker initialised on cuda:0. Batch size 32\n"
     ]
    },
    {
     "data": {
      "application/vnd.jupyter.widget-view+json": {
       "model_id": "cc36351c55e34dbaa34f6f0b6fcde68b",
       "version_major": 2,
       "version_minor": 0
      },
      "text/plain": [
       "HBox(children=(FloatProgress(value=0.0, description='Reranking queries', max=2.0, style=ProgressStyle(descript…"
      ]
     },
     "metadata": {},
     "output_type": "display_data"
    },
    {
     "name": "stdout",
     "output_type": "stream",
     "text": [
      "\n",
      "Manual Jeff SDM+monoBERT+duoBERT @ 1k results\n",
      "['map:0.476', 'recip_rank:1.000', 'ndcg_cut_3:1.000', 'set_recall:0.804']\n"
     ]
    },
    {
     "data": {
      "application/vnd.jupyter.widget-view+json": {
       "model_id": "",
       "version_major": 2,
       "version_minor": 0
      },
      "text/plain": [
       "HBox(children=(FloatProgress(value=0.0, description='Writing to RUN file', max=2.0, style=ProgressStyle(descri…"
      ]
     },
     "metadata": {},
     "output_type": "display_data"
    },
    {
     "name": "stdout",
     "output_type": "stream",
     "text": [
      "Successfully written 2000 samples from 2 queries run to: saved_models/Jeff_SDM/y1_manual_SDM_mono_duoBERT_1k.run\n"
     ]
    }
   ],
   "source": [
    "samples = CAsT_raw_data_loader.get_topics(\"all\")\n",
    "samples = Query_Resolver_Transform(get_query_fn, utterance_type=\"manual_rewritten_utterance\")(samples)\n",
    "samples = RUN_File_Search_Transform('saved_models/Jeff_SDM/y1_test_manual_cur_turn_sdm.run', hits=1000)(samples)\n",
    "samples = MonoBERT_ReRanker_Transform('saved_models/monoBERT/', get_doc_fn, device=\"cuda:0\", \n",
    "                                                          key_fields={'query_field':'query', 'target_field':'search_results'},\n",
    "                                                          batch_size=100)(samples)\n",
    "samples = DuoBERT_ReRanker_Transform(\"saved_models/duoBERT/\", get_doc_fn, rerank_top=10, device=\"cuda:0\")(samples)\n",
    "for sample in samples:\n",
    "    sample[\"search_results\"] = sample[\"reranked_results\"]\n",
    "\n",
    "expr = Ranking_Experiment(CAsT_q_rels)\n",
    "print(\"Manual Jeff SDM+monoBERT+duoBERT @ 1k results\")\n",
    "print([f\"{metric}:{score:.3f}\"for metric, score in expr(samples).items()])\n",
    "run_file_exporter = RUN_File_Transform_Exporter('saved_models/Jeff_SDM/y1_manual_SDM_mono_duoBERT_1k.run', model_name='manual_SDM_mono_duoBERT')\n",
    "run_file_exporter(samples)"
   ]
  },
  {
   "cell_type": "markdown",
   "metadata": {},
   "source": [
    "Manual Jeff SDM + mono + duoBERT @ 1k results\n",
    "['map:0.311', 'recip_rank:0.673', 'ndcg_cut_3:0.550', 'set_recall:0.867']"
   ]
  },
  {
   "cell_type": "markdown",
   "metadata": {},
   "source": [
    "### Y2"
   ]
  },
  {
   "cell_type": "code",
   "execution_count": null,
   "metadata": {},
   "outputs": [
    {
     "data": {
      "application/vnd.jupyter.widget-view+json": {
       "model_id": "2a4c78e583544f888e9227feb960c6d5",
       "version_major": 2,
       "version_minor": 0
      },
      "text/plain": [
       "HBox(children=(FloatProgress(value=0.0, description='Searching queries', max=216.0, style=ProgressStyle(descri…"
      ]
     },
     "metadata": {},
     "output_type": "display_data"
    },
    {
     "name": "stdout",
     "output_type": "stream",
     "text": [
      "\n",
      "Loading chekcpoint from saved_models/monoBERT/\n",
      "MonoBERT ReRanker initialised on device cuda:2. Batch size 100\n"
     ]
    },
    {
     "data": {
      "application/vnd.jupyter.widget-view+json": {
       "model_id": "3ef55e7923a54e23b4c5f66e15b7a91a",
       "version_major": 2,
       "version_minor": 0
      },
      "text/plain": [
       "HBox(children=(FloatProgress(value=0.0, description='Reranking queries', max=216.0, style=ProgressStyle(descri…"
      ]
     },
     "metadata": {},
     "output_type": "display_data"
    }
   ],
   "source": [
    "samples = CAsT_raw_data_loader.get_topics(\"eval\")\n",
    "samples = Query_Resolver_Transform(get_query_fn, utterance_type=\"manual_rewritten_utterance\")(samples)\n",
    "samples = RUN_File_Search_Transform('saved_models/Jeff_SDM/y2_test_manual_cur_turn_sdm.run', hits=1000)(samples)\n",
    "samples = MonoBERT_ReRanker_Transform('saved_models/monoBERT/', get_doc_fn, device=\"cuda:2\", \n",
    "                                                          key_fields={'query_field':'query', 'target_field':'search_results'},\n",
    "                                                          batch_size=100)(samples)\n",
    "samples = DuoBERT_ReRanker_Transform(\"saved_models/duoBERT/\", get_doc_fn, rerank_top=10, device=\"cuda:2\")(samples)\n",
    "for sample in samples:\n",
    "    sample[\"search_results\"] = sample[\"reranked_results\"]\n",
    "\n",
    "run_file_exporter = RUN_File_Transform_Exporter('saved_models/Jeff_SDM/y2_manual_SDM_mono_duoBERT_1k.run', model_name='manual_SDM_mono_duoBERT')\n",
    "run_file_exporter(samples)"
   ]
  },
  {
   "cell_type": "markdown",
   "metadata": {},
   "source": [
    "# mono and duoBERT on Jeff y2_test_automatic_cur_turn_first_prevrm3.run"
   ]
  },
  {
   "cell_type": "code",
   "execution_count": 5,
   "metadata": {},
   "outputs": [
    {
     "data": {
      "application/vnd.jupyter.widget-view+json": {
       "model_id": "e494b066094445a29f5d32cde3a42d1c",
       "version_major": 2,
       "version_minor": 0
      },
      "text/plain": [
       "HBox(children=(FloatProgress(value=0.0, description='Searching queries', max=216.0, style=ProgressStyle(descri…"
      ]
     },
     "metadata": {},
     "output_type": "display_data"
    },
    {
     "name": "stdout",
     "output_type": "stream",
     "text": [
      "\n",
      "Loading chekcpoint from saved_models/monoBERT/\n",
      "MonoBERT ReRanker initialised on device cuda:0. Batch size 100\n"
     ]
    },
    {
     "data": {
      "application/vnd.jupyter.widget-view+json": {
       "model_id": "72658acf8d754ca4bb5fb93ba7005356",
       "version_major": 2,
       "version_minor": 0
      },
      "text/plain": [
       "HBox(children=(FloatProgress(value=0.0, description='Reranking queries', max=216.0, style=ProgressStyle(descri…"
      ]
     },
     "metadata": {},
     "output_type": "display_data"
    },
    {
     "name": "stdout",
     "output_type": "stream",
     "text": [
      "\n"
     ]
    },
    {
     "data": {
      "application/vnd.jupyter.widget-view+json": {
       "model_id": "",
       "version_major": 2,
       "version_minor": 0
      },
      "text/plain": [
       "HBox(children=(FloatProgress(value=0.0, description='Writing to RUN file', max=216.0, style=ProgressStyle(desc…"
      ]
     },
     "metadata": {},
     "output_type": "display_data"
    },
    {
     "name": "stdout",
     "output_type": "stream",
     "text": [
      "Successfully written 216000 samples from 216 queries run to: saved_models/Jeff_SDM/y2_auto_cleanBART_SDM_context_fuse_monoBERT_1k.run\n",
      "Loading chekcpoint from saved_models/duoBERT/\n",
      "DuoBERT ReRanker initialised on cuda:0. Batch size 32\n"
     ]
    },
    {
     "data": {
      "application/vnd.jupyter.widget-view+json": {
       "model_id": "d368c08d8b414b339cbe965002f608b6",
       "version_major": 2,
       "version_minor": 0
      },
      "text/plain": [
       "HBox(children=(FloatProgress(value=0.0, description='Reranking queries', max=216.0, style=ProgressStyle(descri…"
      ]
     },
     "metadata": {},
     "output_type": "display_data"
    },
    {
     "name": "stdout",
     "output_type": "stream",
     "text": [
      "\n"
     ]
    },
    {
     "data": {
      "application/vnd.jupyter.widget-view+json": {
       "model_id": "",
       "version_major": 2,
       "version_minor": 0
      },
      "text/plain": [
       "HBox(children=(FloatProgress(value=0.0, description='Writing to RUN file', max=216.0, style=ProgressStyle(desc…"
      ]
     },
     "metadata": {},
     "output_type": "display_data"
    },
    {
     "name": "stdout",
     "output_type": "stream",
     "text": [
      "Successfully written 216000 samples from 216 queries run to: saved_models/Jeff_SDM/y2_auto_cleanBART_SDM_context_fuse_duoBERT_1k.run\n"
     ]
    }
   ],
   "source": [
    "with jsonlines.open('saved_models/BART_Rewriter/clean_BART_y2_self_rewrites.jsonl') as reader:\n",
    "    samples = []\n",
    "    for sample_obj in reader:\n",
    "        sample_obj[\"query\"] = sample_obj[\"clean_rewritten_query\"]\n",
    "        samples.append(sample_obj)\n",
    "samples = RUN_File_Search_Transform('saved_models/Jeff_SDM/y2_test_manual_cur_turn_sdm.run', hits=1000)(samples)\n",
    "\n",
    "samples = MonoBERT_ReRanker_Transform('saved_models/monoBERT/', get_doc_fn, device=\"cuda:0\", \n",
    "                                                          key_fields={'query_field':'query', 'target_field':'search_results'},\n",
    "                                                          batch_size=100)(samples)\n",
    "run_file_exporter = RUN_File_Transform_Exporter('saved_models/Jeff_SDM/y2_auto_cleanBART_SDM_context_fuse_monoBERT_1k.run', model_name='grill_fuseMono')\n",
    "run_file_exporter(samples)\n",
    "\n",
    "samples = DuoBERT_ReRanker_Transform(\"saved_models/duoBERT/\", get_doc_fn, rerank_top=10, device=\"cuda:0\")(samples)\n",
    "for sample in samples:\n",
    "    sample[\"search_results\"] = sample[\"reranked_results\"]\n",
    "\n",
    "run_file_exporter = RUN_File_Transform_Exporter('saved_models/Jeff_SDM/y2_auto_cleanBART_SDM_context_fuse_duoBERT_1k.run', model_name='grill_fuseDuo')\n",
    "run_file_exporter(samples)"
   ]
  },
  {
   "cell_type": "markdown",
   "metadata": {},
   "source": [
    "# y2 auto -> cleanBART -> BM25 -> monoBERT -> duoBERT"
   ]
  },
  {
   "cell_type": "code",
   "execution_count": 3,
   "metadata": {},
   "outputs": [
    {
     "data": {
      "application/vnd.jupyter.widget-view+json": {
       "model_id": "aed183d6ed154e5c9eb5b4e89c99445f",
       "version_major": 2,
       "version_minor": 0
      },
      "text/plain": [
       "HBox(children=(FloatProgress(value=0.0, description='Searching queries', max=216.0, style=ProgressStyle(descri…"
      ]
     },
     "metadata": {},
     "output_type": "display_data"
    },
    {
     "name": "stdout",
     "output_type": "stream",
     "text": [
      "\n",
      "Loading chekcpoint from saved_models/monoBERT/\n",
      "MonoBERT ReRanker initialised on device cuda:2. Batch size 100\n"
     ]
    },
    {
     "data": {
      "application/vnd.jupyter.widget-view+json": {
       "model_id": "e8e56e6e656f428fad8a96bdb46647f8",
       "version_major": 2,
       "version_minor": 0
      },
      "text/plain": [
       "HBox(children=(FloatProgress(value=0.0, description='Reranking queries', max=216.0, style=ProgressStyle(descri…"
      ]
     },
     "metadata": {},
     "output_type": "display_data"
    },
    {
     "name": "stdout",
     "output_type": "stream",
     "text": [
      "\n"
     ]
    },
    {
     "data": {
      "application/vnd.jupyter.widget-view+json": {
       "model_id": "",
       "version_major": 2,
       "version_minor": 0
      },
      "text/plain": [
       "HBox(children=(FloatProgress(value=0.0, description='Writing to RUN file', max=216.0, style=ProgressStyle(desc…"
      ]
     },
     "metadata": {},
     "output_type": "display_data"
    },
    {
     "name": "stdout",
     "output_type": "stream",
     "text": [
      "Successfully written 216000 samples from 216 queries run to: saved_models/monoBERT/y2_auto_cleanBART_BM25_monoBERT_1k.run\n",
      "Loading chekcpoint from saved_models/duoBERT/\n",
      "DuoBERT ReRanker initialised on cuda:2. Batch size 32\n"
     ]
    },
    {
     "data": {
      "application/vnd.jupyter.widget-view+json": {
       "model_id": "523cc8e7c46140dc84867daf5df3f2b1",
       "version_major": 2,
       "version_minor": 0
      },
      "text/plain": [
       "HBox(children=(FloatProgress(value=0.0, description='Reranking queries', max=216.0, style=ProgressStyle(descri…"
      ]
     },
     "metadata": {},
     "output_type": "display_data"
    },
    {
     "name": "stdout",
     "output_type": "stream",
     "text": [
      "\n"
     ]
    },
    {
     "data": {
      "application/vnd.jupyter.widget-view+json": {
       "model_id": "",
       "version_major": 2,
       "version_minor": 0
      },
      "text/plain": [
       "HBox(children=(FloatProgress(value=0.0, description='Writing to RUN file', max=216.0, style=ProgressStyle(desc…"
      ]
     },
     "metadata": {},
     "output_type": "display_data"
    },
    {
     "name": "stdout",
     "output_type": "stream",
     "text": [
      "Successfully written 216000 samples from 216 queries run to: saved_models/monoBERT/y2_auto_cleanBART_BM25_mono_duoBERT_1k.run\n"
     ]
    }
   ],
   "source": [
    "with jsonlines.open('saved_models/BART_Rewriter/clean_BART_y2_self_rewrites.jsonl') as reader:\n",
    "    samples = []\n",
    "    for sample_obj in reader:\n",
    "        sample_obj[\"query\"] = sample_obj[\"clean_rewritten_query\"]\n",
    "        samples.append(sample_obj)\n",
    "        \n",
    "\n",
    "samples = BM25_Search_Transform(index_dir='datasets/TREC_CAsT/CAsT_collection_with_meta.index', \n",
    "                                          key_fields={'query_field':'query', 'target_field':'search_results'},\n",
    "                                          hits=1000)(samples)\n",
    "samples = MonoBERT_ReRanker_Transform('saved_models/monoBERT/', get_doc_fn, device=\"cuda:2\", \n",
    "                                                          key_fields={'query_field':'query', 'target_field':'search_results'},\n",
    "                                                          batch_size=100)(samples)\n",
    "run_file_exporter = RUN_File_Transform_Exporter('saved_models/monoBERT/y2_auto_cleanBART_BM25_monoBERT_1k.run', model_name='grill_auto_monobart')\n",
    "run_file_exporter(samples)\n",
    "\n",
    "samples = DuoBERT_ReRanker_Transform(\"saved_models/duoBERT/\", get_doc_fn, rerank_top=10, device=\"cuda:2\")(samples)\n",
    "for sample in samples:\n",
    "    sample[\"search_results\"] = sample[\"reranked_results\"]\n",
    "run_file_exporter = RUN_File_Transform_Exporter('saved_models/duoBERT/y2_auto_cleanBART_BM25_mono_duoBERT_1k.run', model_name='grill_auto_duobart')\n",
    "run_file_exporter(samples)"
   ]
  },
  {
   "cell_type": "code",
   "execution_count": null,
   "metadata": {},
   "outputs": [],
   "source": []
  },
  {
   "cell_type": "code",
   "execution_count": null,
   "metadata": {},
   "outputs": [],
   "source": []
  },
  {
   "cell_type": "code",
   "execution_count": null,
   "metadata": {},
   "outputs": [],
   "source": []
  },
  {
   "cell_type": "code",
   "execution_count": null,
   "metadata": {},
   "outputs": [],
   "source": []
  },
  {
   "cell_type": "markdown",
   "metadata": {},
   "source": [
    "# Fully automatic single query run"
   ]
  },
  {
   "cell_type": "code",
   "execution_count": 3,
   "metadata": {},
   "outputs": [
    {
     "name": "stdout",
     "output_type": "stream",
     "text": [
      "Loading chekcpoint from saved_models/monoBERT/\n",
      "MonoBERT ReRanker initialised on device cuda:0. Batch size 100\n",
      "Loading chekcpoint from saved_models/duoBERT/\n",
      "DuoBERT ReRanker initialised on cuda:0. Batch size 32\n",
      "BERT ReRanker initialised on cuda:0. Batch size 1\n"
     ]
    }
   ],
   "source": [
    "BM25_transform = BM25_Search_Transform(index_dir='datasets/TREC_CAsT/CAsT_collection_with_meta.index', \n",
    "                                          key_fields={'query_field':'query', 'target_field':'search_results'},\n",
    "                                          hits=500)\n",
    "MonoBERT_transform = MonoBERT_ReRanker_Transform('saved_models/monoBERT/', get_doc_fn, device=\"cuda:0\", \n",
    "                                                          key_fields={'query_field':'query', 'target_field':'search_results'},\n",
    "                                                          batch_size=100)\n",
    "DuoBERT_transform = DuoBERT_ReRanker_Transform(\"saved_models/duoBERT/\", get_doc_fn, rerank_top=10, device=\"cuda:0\")\n",
    "BART_conv_transform = BART_Full_Conversational_Rewriter_Transform(\"saved_models/BART_Rewriter/BART_save_dict.ckpt\", device=\"cuda:0\")"
   ]
  },
  {
   "cell_type": "code",
   "execution_count": null,
   "metadata": {},
   "outputs": [],
   "source": []
  },
  {
   "cell_type": "code",
   "execution_count": null,
   "metadata": {},
   "outputs": [],
   "source": []
  },
  {
   "cell_type": "code",
   "execution_count": null,
   "metadata": {},
   "outputs": [],
   "source": []
  },
  {
   "cell_type": "code",
   "execution_count": null,
   "metadata": {},
   "outputs": [],
   "source": []
  },
  {
   "cell_type": "code",
   "execution_count": null,
   "metadata": {},
   "outputs": [],
   "source": []
  },
  {
   "cell_type": "code",
   "execution_count": null,
   "metadata": {},
   "outputs": [],
   "source": []
  },
  {
   "cell_type": "code",
   "execution_count": 15,
   "metadata": {},
   "outputs": [
    {
     "data": {
      "application/vnd.jupyter.widget-view+json": {
       "model_id": "e0bd21f047cd4ea29283c716563758dc",
       "version_major": 2,
       "version_minor": 0
      },
      "text/plain": [
       "HBox(children=(FloatProgress(value=0.0, description='BART self feeding rewrites', max=1.0, style=ProgressStyle…"
      ]
     },
     "metadata": {},
     "output_type": "display_data"
    },
    {
     "name": "stdout",
     "output_type": "stream",
     "text": [
      "\n",
      "Output:  Can strawberry jam be made without pectin?\n"
     ]
    }
   ],
   "source": [
    "# Is there a chunky recipe?\n",
    "test_samples = [{'previous_queries':['how do you make strawberry  jam?'],\n",
    "                'unresolved_query':'Can it be made without pectin?'}]\n",
    "eval_raw_samples = BART_conv_transform(test_samples)\n",
    "resolved_query = eval_raw_samples[0]['full_rewritten_queries'][-1]\n",
    "print(\"Output:\", resolved_query)"
   ]
  },
  {
   "cell_type": "code",
   "execution_count": 14,
   "metadata": {},
   "outputs": [
    {
     "data": {
      "application/vnd.jupyter.widget-view+json": {
       "model_id": "58039ba317ce4f9aacb3595a747793d8",
       "version_major": 2,
       "version_minor": 0
      },
      "text/plain": [
       "HBox(children=(FloatProgress(value=0.0, description='Searching queries', max=1.0, style=ProgressStyle(descript…"
      ]
     },
     "metadata": {},
     "output_type": "display_data"
    },
    {
     "name": "stdout",
     "output_type": "stream",
     "text": [
      "\n"
     ]
    },
    {
     "data": {
      "application/vnd.jupyter.widget-view+json": {
       "model_id": "f5ea0579c53b49c280d1f2aded2ff27c",
       "version_major": 2,
       "version_minor": 0
      },
      "text/plain": [
       "HBox(children=(FloatProgress(value=0.0, description='Reranking queries', max=1.0, style=ProgressStyle(descript…"
      ]
     },
     "metadata": {},
     "output_type": "display_data"
    },
    {
     "name": "stdout",
     "output_type": "stream",
     "text": [
      "\n"
     ]
    },
    {
     "data": {
      "application/vnd.jupyter.widget-view+json": {
       "model_id": "599a53b802554bccb7a7e47227600478",
       "version_major": 2,
       "version_minor": 0
      },
      "text/plain": [
       "HBox(children=(FloatProgress(value=0.0, description='Reranking queries', max=1.0, style=ProgressStyle(descript…"
      ]
     },
     "metadata": {},
     "output_type": "display_data"
    },
    {
     "name": "stdout",
     "output_type": "stream",
     "text": [
      "\n"
     ]
    },
    {
     "data": {
      "text/plain": [
       "'For example, a peanut butter and jelly sandwich made with chunky peanut butter and strawberry jam on wheat bread is quite a bit different than one made with smooth peanut butter, grape jelly and white bread with the crusts cut off.'"
      ]
     },
     "execution_count": 14,
     "metadata": {},
     "output_type": "execute_result"
    }
   ],
   "source": [
    "samples = [{'query':resolved_query}]\n",
    "samples = BM25_transform(samples)\n",
    "samples = MonoBERT_transform(samples)\n",
    "samples = DuoBERT_transform(samples)\n",
    "get_doc_fn(samples[0]['reranked_results'][0][0])"
   ]
  },
  {
   "cell_type": "code",
   "execution_count": null,
   "metadata": {},
   "outputs": [],
   "source": []
  }
 ],
 "metadata": {
  "kernelspec": {
   "display_name": "Python 3",
   "language": "python",
   "name": "python3"
  },
  "language_info": {
   "codemirror_mode": {
    "name": "ipython",
    "version": 3
   },
   "file_extension": ".py",
   "mimetype": "text/x-python",
   "name": "python",
   "nbconvert_exporter": "python",
   "pygments_lexer": "ipython3",
   "version": "3.6.9"
  }
 },
 "nbformat": 4,
 "nbformat_minor": 4
}

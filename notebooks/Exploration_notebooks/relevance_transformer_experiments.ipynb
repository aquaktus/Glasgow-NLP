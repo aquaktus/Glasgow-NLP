{
 "cells": [
  {
   "cell_type": "markdown",
   "metadata": {},
   "source": [
    "# Relevance Transformer Experiments"
   ]
  },
  {
   "cell_type": "code",
   "execution_count": 195,
   "metadata": {},
   "outputs": [
    {
     "name": "stdout",
     "output_type": "stream",
     "text": [
      "The autoreload extension is already loaded. To reload it, use:\n",
      "  %reload_ext autoreload\n"
     ]
    }
   ],
   "source": [
    "from src.autoregressive_transformer import AutoregressiveTransformer\n",
    "from src.dataset_loaders import SRC_TGT_pairs\n",
    "from src.vocab_classes import Shared_Vocab, BERT_Vocab\n",
    "from src.useful_utils import string_split_v3, string_split_v2, string_split_v1\n",
    "from src.trainers import Model_Trainer\n",
    "from src.retrieval import PyLuceneRetriever, OracleBLEURetriever\n",
    "import torch\n",
    "import torch.nn as nn\n",
    "from torchtext.data import Field, BucketIterator\n",
    "import numpy as np\n",
    "import dotmap\n",
    "from collections import Counter\n",
    "%load_ext autoreload\n",
    "%autoreload 2"
   ]
  },
  {
   "cell_type": "code",
   "execution_count": 223,
   "metadata": {},
   "outputs": [],
   "source": [
    "# for CoNaLa\n",
    "src_train_fp = \"datasets/CoNaLa/conala-train.src\"\n",
    "tgt_train_fp = \"datasets/CoNaLa/conala-train.tgt\"\n",
    "src_valid_fp = \"datasets/CoNaLa/conala-valid.src\"\n",
    "tgt_valid_fp = \"datasets/CoNaLa/conala-valid.tgt\"\n",
    "src_test_fp = \"datasets/CoNaLa/conala-test.src\"\n",
    "tgt_test_fp = \"datasets/CoNaLa/conala-test.tgt\"\n",
    "\n",
    "model_save_file = \"conala-tiny-transformer-valid-testing/model_file_step_195000.torch\"\n",
    "output_dir = \"conala-retrieval-testing\"\n",
    "max_seq_len = 75"
   ]
  },
  {
   "cell_type": "code",
   "execution_count": 284,
   "metadata": {},
   "outputs": [],
   "source": [
    "# for Hearthstone\n",
    "src_train_fp = \"datasets/HS/train_hs.in\"\n",
    "tgt_train_fp = \"datasets/HS/train_hs.out\"\n",
    "src_valid_fp = \"datasets/HS/valid_hs.in\"\n",
    "tgt_valid_fp = \"datasets/HS/valid_hs.out\"\n",
    "src_test_fp = \"datasets/HS/test_hs.in\"\n",
    "tgt_test_fp = \"datasets/HS/test_hs.out\"\n",
    "\n",
    "model_save_file = \"hearthstone-tiny-transformer-valid-testing/model_file_step_195000.torch\"\n",
    "output_dir = \"hearthstone-retrieval-testing\"\n",
    "max_seq_len = 400"
   ]
  },
  {
   "cell_type": "code",
   "execution_count": 324,
   "metadata": {},
   "outputs": [],
   "source": [
    "# for Django\n",
    "src_train_fp = \"datasets/django_folds/django.fold1-10.full_train.src\"\n",
    "tgt_train_fp = \"datasets/django_folds/django.fold1-10.full_train.tgt\"\n",
    "src_valid_fp = \"datasets/django_folds/django.fold1-10.valid.src\"\n",
    "tgt_valid_fp = \"datasets/django_folds/django.fold1-10.valid.tgt\"\n",
    "src_test_fp = \"datasets/django_folds/django.fold1-10.test.src\"\n",
    "tgt_test_fp = \"datasets/django_folds/django.fold1-10.test.tgt\"\n",
    "\n",
    "model_save_file = \"django-tiny-transformer-custom-tok-50-seq-len-850-vocab-shuffled-data/model_file_step_195000.torch\"\n",
    "output_dir = \"django-retrieval-testing\"\n",
    "max_seq_len = 50"
   ]
  },
  {
   "cell_type": "code",
   "execution_count": 325,
   "metadata": {},
   "outputs": [],
   "source": [
    "# hyperparams\n",
    "vocab_size = 850\n",
    "embed_dim = 512\n",
    "att_heads = 4\n",
    "layers = 2\n",
    "batch_size = 32\n",
    "dim_feedforward = 1024"
   ]
  },
  {
   "cell_type": "code",
   "execution_count": 326,
   "metadata": {},
   "outputs": [
    {
     "name": "stdout",
     "output_type": "stream",
     "text": [
      "'output_dir' not defined, training and model outputs won't be saved.\n"
     ]
    }
   ],
   "source": [
    "device = torch.device(\"cuda\" if torch.cuda.is_available() else \"cpu\")\n",
    "\n",
    "train_samples = SRC_TGT_pairs(src_train_fp, tgt_train_fp, max_seq_len=max_seq_len).samples\n",
    "valid_samples = SRC_TGT_pairs(src_valid_fp, tgt_valid_fp, max_seq_len=max_seq_len).samples\n",
    "test_samples = SRC_TGT_pairs(src_test_fp, tgt_test_fp, max_seq_len=max_seq_len).samples\n",
    "\n",
    "vocab = Shared_Vocab(train_samples, vocab_size, string_split_v3, use_OOVs=True)\n",
    "\n",
    "\n",
    "model = AutoregressiveTransformer(vocab_size=vocab_size, embed_dim=embed_dim, att_heads=att_heads, \\\n",
    "                                  layers=layers, dim_feedforward=dim_feedforward, max_seq_length=max_seq_len).to(device)\n",
    "test_dataset = model.data2dataset(test_samples, vocab)\n",
    "test_iterator = BucketIterator(\n",
    "    test_dataset,\n",
    "    batch_size = batch_size,\n",
    "    sort=True,\n",
    "    sort_key = model.sample_order_fn,\n",
    "    device = device)\n",
    "\n",
    "valid_dataset = model.data2dataset(valid_samples, vocab)\n",
    "valid_iterator = BucketIterator(\n",
    "    valid_dataset,\n",
    "    batch_size = batch_size,\n",
    "    sort=True,\n",
    "    sort_key = model.sample_order_fn,\n",
    "    device = device)\n",
    "\n",
    "model.load_model(model_save_file)\n",
    "trainer = Model_Trainer(model, vocab, test_iterator=test_iterator)"
   ]
  },
  {
   "cell_type": "code",
   "execution_count": 327,
   "metadata": {},
   "outputs": [
    {
     "data": {
      "application/vnd.jupyter.widget-view+json": {
       "model_id": "4fa9767c22ff4efc9df57f9e696c8925",
       "version_major": 2,
       "version_minor": 0
      },
      "text/plain": [
       "HBox(children=(IntProgress(value=0, max=59), HTML(value='')))"
      ]
     },
     "metadata": {},
     "output_type": "display_data"
    },
    {
     "name": "stdout",
     "output_type": "stream",
     "text": [
      "\n",
      "Small Copy Transformer BLEU: 78.74\n"
     ]
    }
   ],
   "source": [
    "outputs = trainer.evaluate(test_iterator)\n",
    "regular_results = [out[\"BLEU\"] for out in outputs]\n",
    "avg_BLEU = np.average(regular_results)\n",
    "print(f\"Small Copy Transformer BLEU: {avg_BLEU*100:.2f}\")"
   ]
  },
  {
   "cell_type": "markdown",
   "metadata": {},
   "source": [
    "## Retrieval decoding"
   ]
  },
  {
   "cell_type": "code",
   "execution_count": 155,
   "metadata": {},
   "outputs": [],
   "source": [
    "def retrieval_output_nudging_creator(oracle=False, relevance_interpol=0.0005, k_docs=10, k_words=10, peak_scaling_factor=40.0, \\\n",
    "                                     num_stop_words=10, verbose=False):\n",
    "    src_train_samples = [src for src, tgt in train_samples]\n",
    "    tgt_train_samples = [tgt for src, tgt in train_samples]\n",
    "    if oracle:\n",
    "        retriever = OracleBLEURetriever(ids_to_keep=k_docs)\n",
    "        retriever.add_multiple_docs(train_samples)\n",
    "    else:\n",
    "        retriever = PyLuceneRetriever()\n",
    "        retriever.add_multiple_docs(src_train_samples)\n",
    "    \n",
    "    counts = Counter(string_split_v3(\" \".join(tgt_train_samples))).most_common(num_stop_words)\n",
    "    stop_words = [x[0] for x in counts]\n",
    "    \n",
    "    def nudge_fn(last_token_log_probs, single_decoder_input, batch_encoder_ids, batch_decoder_truth_ids, OOVs):\n",
    "        OOVs = OOVs.cpu().tolist()\n",
    "        src_sent = vocab.decode_input(batch_encoder_ids, OOVs, copy_marker=\"\")\n",
    "        tgt_sent = vocab.decode_output(batch_decoder_truth_ids, OOVs, copy_marker=\"\")\n",
    "        current_pred = vocab.decode_output(single_decoder_input, OOVs, copy_marker=\"\")\n",
    "        top_5_ids = torch.argsort(last_token_log_probs.cpu(), descending=True)[:5]\n",
    "        top_5_words = [vocab.decode_output([idx], OOVs, copy_marker=\"\") for idx in top_5_ids]\n",
    "        if verbose:\n",
    "            print(\"## DECODE STEP ##\")\n",
    "            print(f\"SRC input:      {src_sent}\")\n",
    "            print(f\"TGT truth:      {tgt_sent}\")\n",
    "            print(f\"decoded so far: {current_pred}\")\n",
    "            print(f\"top words     : {' | '.join(top_5_words)}\")\n",
    "            print()\n",
    "        if oracle:\n",
    "            doc_ranking = retriever.search(src_sent, tgt_sent, max_retrieved_docs=k_docs)\n",
    "        else:\n",
    "            doc_ranking = retriever.search(src_sent, max_retrieved_docs=k_docs)\n",
    "            \n",
    "        retrieved_samples = [(tgt_train_samples[doc_id], score) for doc_id, score in doc_ranking]\n",
    "        scoring_dict = {}\n",
    "        for sample, score in retrieved_samples:\n",
    "            if verbose:\n",
    "                print(f\"DOC: {sample}\")\n",
    "            sample_toks = string_split_v3(sample)\n",
    "            for tok in sample_toks:\n",
    "                if tok in scoring_dict:\n",
    "                    scoring_dict[tok] += (peak_scaling_factor * score)/len(sample_toks)\n",
    "                else:\n",
    "                    scoring_dict[tok] = (peak_scaling_factor * score)/len(sample_toks)\n",
    "        top_retrieved_words = [tok for tok in sorted(scoring_dict.items(), key=lambda item: -item[1]) if tok[0] not in stop_words][:k_words]\n",
    "        if verbose:\n",
    "            print(f\"RETRIEVAL top words: {[tok for tok, score in top_retrieved_words]}\")\n",
    "            print()\n",
    "            print()\n",
    "        top_retrieved_ids = [(vocab.encode_output(tok, OOVs)[0], score) for tok, score in top_retrieved_words]\n",
    "        top_retrieved_ids = [(i, s) for i, s in top_retrieved_ids if i != vocab.UNK]\n",
    "        \n",
    "        num_relevant_terms = len(list(set(batch_decoder_truth_ids.cpu().tolist()).intersection([x[0] for x in top_retrieved_ids])))\n",
    "        total_relevant_terms.append(num_relevant_terms)\n",
    "        \n",
    "        relevance_vector = torch.zeros_like(last_token_log_probs).fill_(-5000.0)\n",
    "        for idx, score in top_retrieved_ids:\n",
    "            if idx not in single_decoder_input:\n",
    "                relevance_vector[idx] = score\n",
    "        relevance_vector.softmax(-1)\n",
    "        \n",
    "        if top_5_ids[0] == vocab.EOS:\n",
    "            new_probs = last_token_log_probs\n",
    "        else:\n",
    "            new_probs = (1-relevance_interpol) * last_token_log_probs + relevance_interpol * relevance_vector\n",
    "        \n",
    "        new_top_pred = torch.argmax(new_probs)\n",
    "        if verbose:\n",
    "            if top_5_ids[0] != new_top_pred:\n",
    "                print(\"Relevance impact:\")\n",
    "                print(f\"SRC input:      {src_sent}\")\n",
    "                print(f\"TGT truth:      {tgt_sent}\")\n",
    "                print(f\"decoded so far: {current_pred}\")\n",
    "                print(f\"RETRIEVAL top words: {[tok for tok, score in top_retrieved_words][:]}\")\n",
    "                print(f\"Prerdicted {vocab.decode_output([new_top_pred], OOVs)} over {top_5_words[0]}\")\n",
    "                print(num_relevant_terms)\n",
    "                print()\n",
    "            \n",
    "        return new_probs\n",
    "    \n",
    "    return nudge_fn\n"
   ]
  },
  {
   "cell_type": "code",
   "execution_count": 250,
   "metadata": {},
   "outputs": [],
   "source": [
    "retrieval_decoder_fn = retrieval_output_nudging_creator(oracle=False, \n",
    "                                                        relevance_interpol=0.0003, \n",
    "                                                        k_docs=1, \n",
    "                                                        k_words=10,  \n",
    "                                                        peak_scaling_factor=10.0, \n",
    "                                                        num_stop_words=10)\n",
    "\n",
    "model = AutoregressiveTransformer(vocab_size=vocab_size, embed_dim=embed_dim, att_heads=att_heads, \\\n",
    "                                  layers=layers, dim_feedforward=dim_feedforward, max_seq_length=max_seq_len, \\\n",
    "                                  output_nudge_fn=retrieval_decoder_fn).to(device)\n",
    "model.eval()\n",
    "model.load_model(model_save_file)"
   ]
  },
  {
   "cell_type": "code",
   "execution_count": 146,
   "metadata": {},
   "outputs": [
    {
     "data": {
      "text/plain": [
       "[{'BLEU': 0.0698819818549069,\n",
       "  'SRC': 'plot(COPY) dataframe(COPY) `(COPY) df(COPY) `(COPY) without a legend(COPY)',\n",
       "  'TGT': 'df(COPY) . plot(COPY) ( legend(COPY) = False )',\n",
       "  'PRED': '<unk> ( dataframe(COPY) )'}]"
      ]
     },
     "execution_count": 146,
     "metadata": {},
     "output_type": "execute_result"
    }
   ],
   "source": [
    "src = \"plot dataframe ` df ` without a legend \"\n",
    "src_ids, OOVs = vocab.encode_input(src)\n",
    "\n",
    "tgt = \"df . plot ( legend = False ) \"\n",
    "tgt_ids = vocab.encode_output(tgt, OOVs)\n",
    "\n",
    "batch = dotmap.DotMap()\n",
    "batch.src = torch.tensor([vocab.SOS] + src_ids + [vocab.EOS]).unsqueeze(1).to(device)\n",
    "batch.tgt = torch.tensor([vocab.SOS] + tgt_ids + [vocab.EOS]).unsqueeze(1).to(device)\n",
    "batch.OOVs = torch.tensor(OOVs).unsqueeze(1).to(device)\n",
    "\n",
    "# OVERRIDE\n",
    "# batch = next(iter(test_iterator))\n",
    "\n",
    "model.eval_step(batch, vocab)"
   ]
  },
  {
   "cell_type": "code",
   "execution_count": 147,
   "metadata": {},
   "outputs": [
    {
     "name": "stdout",
     "output_type": "stream",
     "text": [
      "Writing logs to: django-retrieval-testing/logs.txt\n"
     ]
    },
    {
     "data": {
      "application/vnd.jupyter.widget-view+json": {
       "model_id": "d9c1b4a81e9c4abbacfdeef69a27f2a6",
       "version_major": 2,
       "version_minor": 0
      },
      "text/plain": [
       "HBox(children=(IntProgress(value=0, max=59), HTML(value='')))"
      ]
     },
     "metadata": {},
     "output_type": "display_data"
    },
    {
     "name": "stdout",
     "output_type": "stream",
     "text": [
      "\n",
      "Relevance Transformer BLEU: 82.22\n",
      "Average relevant terms: 0.7146699109944291\n"
     ]
    }
   ],
   "source": [
    "trainer = Model_Trainer(model, vocab, output_dir=output_dir)\n",
    "outputs = trainer.evaluate(test_iterator, save_file=\"eval_test_samples.txt\")\n",
    "avg_BLEU = np.average([out[\"BLEU\"] for out in outputs])\n",
    "print(f\"Relevance Transformer BLEU: {avg_BLEU*100:.2f}\")\n",
    "print(f\"Average relevant terms: {np.average(total_relevant_terms)}\")"
   ]
  },
  {
   "cell_type": "markdown",
   "metadata": {},
   "source": [
    "## Checking relevance"
   ]
  },
  {
   "cell_type": "code",
   "execution_count": 157,
   "metadata": {},
   "outputs": [
    {
     "name": "stdout",
     "output_type": "stream",
     "text": [
      "JVM Running\n",
      "Writing logs to: hearthstone-retrieval-testing/logs.txt\n"
     ]
    },
    {
     "data": {
      "application/vnd.jupyter.widget-view+json": {
       "model_id": "2b2e4a93ff3e4bd6b7c22433aa562dc6",
       "version_major": 2,
       "version_minor": 0
      },
      "text/plain": [
       "HBox(children=(IntProgress(value=0, max=3), HTML(value='')))"
      ]
     },
     "metadata": {},
     "output_type": "display_data"
    },
    {
     "name": "stdout",
     "output_type": "stream",
     "text": [
      "\n",
      "Relevance Transformer BLEU: 73.97\n",
      "Average relevant terms: 6.780221811460259\n",
      "JVM Running\n",
      "Writing logs to: hearthstone-retrieval-testing/logs.txt\n"
     ]
    },
    {
     "data": {
      "application/vnd.jupyter.widget-view+json": {
       "model_id": "684bd4f862914eed99fe9d978fe7009f",
       "version_major": 2,
       "version_minor": 0
      },
      "text/plain": [
       "HBox(children=(IntProgress(value=0, max=3), HTML(value='')))"
      ]
     },
     "metadata": {},
     "output_type": "display_data"
    },
    {
     "name": "stdout",
     "output_type": "stream",
     "text": [
      "\n",
      "Relevance Transformer BLEU: 73.91\n",
      "Average relevant terms: 9.15061133753242\n",
      "JVM Running\n",
      "Writing logs to: hearthstone-retrieval-testing/logs.txt\n"
     ]
    },
    {
     "data": {
      "application/vnd.jupyter.widget-view+json": {
       "model_id": "f89f84ee4f9242489b6b9854ac636c64",
       "version_major": 2,
       "version_minor": 0
      },
      "text/plain": [
       "HBox(children=(IntProgress(value=0, max=3), HTML(value='')))"
      ]
     },
     "metadata": {},
     "output_type": "display_data"
    },
    {
     "name": "stdout",
     "output_type": "stream",
     "text": [
      "\n",
      "Relevance Transformer BLEU: 74.05\n",
      "Average relevant terms: 9.170876671619613\n",
      "JVM Running\n",
      "Writing logs to: hearthstone-retrieval-testing/logs.txt\n"
     ]
    },
    {
     "data": {
      "application/vnd.jupyter.widget-view+json": {
       "model_id": "e494bc6aad9a4ce7866f722a224e4214",
       "version_major": 2,
       "version_minor": 0
      },
      "text/plain": [
       "HBox(children=(IntProgress(value=0, max=3), HTML(value='')))"
      ]
     },
     "metadata": {},
     "output_type": "display_data"
    },
    {
     "name": "stdout",
     "output_type": "stream",
     "text": [
      "\n",
      "Relevance Transformer BLEU: 74.04\n",
      "Average relevant terms: 9.190900649953575\n",
      "JVM Running\n",
      "Writing logs to: hearthstone-retrieval-testing/logs.txt\n"
     ]
    },
    {
     "data": {
      "application/vnd.jupyter.widget-view+json": {
       "model_id": "4fd0798837044b1097fc5645f28e6549",
       "version_major": 2,
       "version_minor": 0
      },
      "text/plain": [
       "HBox(children=(IntProgress(value=0, max=3), HTML(value='')))"
      ]
     },
     "metadata": {},
     "output_type": "display_data"
    },
    {
     "name": "stdout",
     "output_type": "stream",
     "text": [
      "\n",
      "Relevance Transformer BLEU: 73.89\n",
      "Average relevant terms: 8.898982423681776\n",
      "JVM Running\n",
      "Writing logs to: hearthstone-retrieval-testing/logs.txt\n"
     ]
    },
    {
     "data": {
      "application/vnd.jupyter.widget-view+json": {
       "model_id": "42214f97d7314142b8034a0dd2fe70b0",
       "version_major": 2,
       "version_minor": 0
      },
      "text/plain": [
       "HBox(children=(IntProgress(value=0, max=3), HTML(value='')))"
      ]
     },
     "metadata": {},
     "output_type": "display_data"
    },
    {
     "name": "stdout",
     "output_type": "stream",
     "text": [
      "\n",
      "Relevance Transformer BLEU: 74.00\n",
      "Average relevant terms: 8.950082888193037\n",
      "JVM Running\n",
      "Writing logs to: hearthstone-retrieval-testing/logs.txt\n"
     ]
    },
    {
     "data": {
      "application/vnd.jupyter.widget-view+json": {
       "model_id": "a9c1b78bf27a4d4f8df5bd314621b8e2",
       "version_major": 2,
       "version_minor": 0
      },
      "text/plain": [
       "HBox(children=(IntProgress(value=0, max=3), HTML(value='')))"
      ]
     },
     "metadata": {},
     "output_type": "display_data"
    },
    {
     "name": "stdout",
     "output_type": "stream",
     "text": [
      "\n",
      "Relevance Transformer BLEU: 74.00\n",
      "Average relevant terms: 8.837170749677657\n",
      "JVM Running\n",
      "Writing logs to: hearthstone-retrieval-testing/logs.txt\n"
     ]
    },
    {
     "data": {
      "application/vnd.jupyter.widget-view+json": {
       "model_id": "e4d7caad403a4bb7b4665c1fab65a9f3",
       "version_major": 2,
       "version_minor": 0
      },
      "text/plain": [
       "HBox(children=(IntProgress(value=0, max=3), HTML(value='')))"
      ]
     },
     "metadata": {},
     "output_type": "display_data"
    },
    {
     "name": "stdout",
     "output_type": "stream",
     "text": [
      "\n",
      "Relevance Transformer BLEU: 74.00\n",
      "Average relevant terms: 8.86240559955793\n",
      "JVM Running\n",
      "Writing logs to: hearthstone-retrieval-testing/logs.txt\n"
     ]
    },
    {
     "data": {
      "application/vnd.jupyter.widget-view+json": {
       "model_id": "3a6a2378e0a043249cfad4ff2fba88a3",
       "version_major": 2,
       "version_minor": 0
      },
      "text/plain": [
       "HBox(children=(IntProgress(value=0, max=3), HTML(value='')))"
      ]
     },
     "metadata": {},
     "output_type": "display_data"
    },
    {
     "name": "stdout",
     "output_type": "stream",
     "text": [
      "\n",
      "Relevance Transformer BLEU: 74.00\n",
      "Average relevant terms: 8.840117885430098\n"
     ]
    }
   ],
   "source": [
    "for k in [1,5,10,20,40,60,100,150,200]:\n",
    "\n",
    "    total_relevant_terms = []\n",
    "    retrieval_decoder_fn = retrieval_output_nudging_creator(oracle=False, \n",
    "                                                        relevance_interpol=0.0003, \n",
    "                                                        k_docs=k, \n",
    "                                                        k_words=10,  \n",
    "                                                        peak_scaling_factor=10.0, \n",
    "                                                        num_stop_words=10)\n",
    "\n",
    "    model = AutoregressiveTransformer(vocab_size=vocab_size, embed_dim=embed_dim, att_heads=att_heads, \\\n",
    "                                      layers=layers, dim_feedforward=dim_feedforward, max_seq_length=max_seq_len, \\\n",
    "                                      output_nudge_fn=retrieval_decoder_fn).to(device)\n",
    "    model.eval()\n",
    "    model.load_model(model_save_file)\n",
    "    trainer = Model_Trainer(model, vocab, output_dir=output_dir)\n",
    "    outputs = trainer.evaluate(test_iterator, save_file=\"eval_test_samples.txt\")\n",
    "    avg_BLEU = np.average([out[\"BLEU\"] for out in outputs])\n",
    "    print(f\"Relevance Transformer BLEU: {avg_BLEU*100:.2f}\")\n",
    "    print(f\"Average relevant terms: {np.average(total_relevant_terms)}\")"
   ]
  },
  {
   "cell_type": "markdown",
   "metadata": {},
   "source": [
    "## Random parameter sarch"
   ]
  },
  {
   "cell_type": "code",
   "execution_count": 46,
   "metadata": {},
   "outputs": [],
   "source": [
    "\n",
    "def test_model(relevance_interpol, k_docs, k_words, peak_scaling_factor, num_stop_words):\n",
    "    tgt_train_samples = [tgt for src, tgt in train_samples]\n",
    "\n",
    "    counts = Counter(string_split_v3(\" \".join(tgt_train_samples))).most_common(30)\n",
    "    stop_words = [x[0] for x in counts]\n",
    "    \n",
    "    retrieval_decoder_fn = retrieval_output_nudging_creator(oracle=False, \n",
    "                                                            relevance_interpol=relevance_interpol, \n",
    "                                                            k_docs=k_docs, \n",
    "                                                            k_words=k_words, \n",
    "                                                            peak_scaling_factor=peak_scaling_factor)\n",
    "\n",
    "    model = AutoregressiveTransformer(vocab_size=vocab_size, embed_dim=embed_dim, att_heads=att_heads, \\\n",
    "                                      layers=layers, dim_feedforward=dim_feedforward, max_seq_length=max_seq_len, \\\n",
    "                                      output_nudge_fn=retrieval_decoder_fn).to(device)\n",
    "    model.eval()\n",
    "    model.load_model(model_save_file)\n",
    "    \n",
    "    trainer = Model_Trainer(model, vocab, output_dir=output_dir)\n",
    "    outputs = trainer.evaluate(valid_iterator)\n",
    "    avg_BLEU = np.average([out[\"BLEU\"] for out in outputs])\n",
    "    return avg_BLEU"
   ]
  },
  {
   "cell_type": "code",
   "execution_count": 47,
   "metadata": {},
   "outputs": [],
   "source": [
    "search_results = []\n",
    "def random_search():\n",
    "    relevance_interpol = np.random.uniform(0.001, 0.00005)\n",
    "    k_docs = np.random.randint(1,50)\n",
    "    k_words = np.random.randint(1,50)\n",
    "    peak_scaling_factor = np.random.uniform(0.5, 100.0)\n",
    "    num_stop_words = np.random.randint(3,50)\n",
    "    \n",
    "    avg_BLEU = test_model(relevance_interpol, k_docs, k_words, peak_scaling_factor, num_stop_words)\n",
    "    return ((relevance_interpol, k_docs, k_words, peak_scaling_factor, num_stop_words), avg_BLEU)"
   ]
  },
  {
   "cell_type": "code",
   "execution_count": 50,
   "metadata": {},
   "outputs": [],
   "source": [
    "search_results = []"
   ]
  },
  {
   "cell_type": "code",
   "execution_count": null,
   "metadata": {},
   "outputs": [
    {
     "data": {
      "application/vnd.jupyter.widget-view+json": {
       "model_id": "73e66908793946138aa7c954d51360bd",
       "version_major": 2,
       "version_minor": 0
      },
      "text/plain": [
       "HBox(children=(IntProgress(value=0, max=750), HTML(value='')))"
      ]
     },
     "metadata": {},
     "output_type": "display_data"
    },
    {
     "name": "stdout",
     "output_type": "stream",
     "text": [
      "JVM Running\n",
      "Writing logs to: django-retrieval-testing/logs.txt\n"
     ]
    },
    {
     "data": {
      "application/vnd.jupyter.widget-view+json": {
       "model_id": "fed7d8f58f9c407c932baec4b6c02841",
       "version_major": 2,
       "version_minor": 0
      },
      "text/plain": [
       "HBox(children=(IntProgress(value=0, max=27), HTML(value='')))"
      ]
     },
     "metadata": {},
     "output_type": "display_data"
    }
   ],
   "source": [
    "import tqdm.notebook as tqdm \n",
    "iters = 750\n",
    "for i in tqdm.tqdm(range(iters)):\n",
    "    result = random_search()\n",
    "    search_results.append(result)"
   ]
  },
  {
   "cell_type": "code",
   "execution_count": 54,
   "metadata": {
    "collapsed": true,
    "jupyter": {
     "outputs_hidden": true
    }
   },
   "outputs": [
    {
     "data": {
      "text/plain": [
       "[((0.00027132764995628045, 28, 17, 92.62807027519402, 3), 0.8242841085725205),\n",
       " ((0.00031631203678050704, 16, 15, 86.6994295528835, 26), 0.8238846502939439),\n",
       " ((0.0003436605959209651, 38, 38, 27.178666113265393, 49), 0.8199692004342154),\n",
       " ((0.0006881683563104867, 41, 25, 66.41908383318608, 24), 0.8024939538387946),\n",
       " ((0.0009053637508599583, 5, 37, 16.639937417495496, 45), 0.8042001087480264),\n",
       " ((5.567529626851529e-05, 49, 31, 15.225977444649727, 40), 0.8215407590067793),\n",
       " ((0.0006100539203266688, 28, 49, 25.098293836787544, 16), 0.8076904059900123),\n",
       " ((0.00041730675022604903, 22, 24, 92.75634677146452, 40), 0.8214348646617602),\n",
       " ((0.0009377920884179971, 15, 42, 26.877549587443877, 30), 0.7946313615804381),\n",
       " ((0.000993562057673889, 16, 24, 3.4886702890685406, 26), 0.7921574670166104),\n",
       " ((0.00016703763619177025, 17, 4, 52.553586304792546, 3), 0.8229666615318995),\n",
       " ((0.0005905587961810301, 24, 1, 33.45229385021521, 37), 0.8188397421491495),\n",
       " ((0.0004111915306344078, 31, 1, 43.41196618222845, 36), 0.8204174054624191),\n",
       " ((0.00036155082436256766, 13, 21, 93.1581625469971, 30), 0.8214934210282965),\n",
       " ((0.000531416365048549, 43, 46, 47.41561502325555, 15), 0.8134030858593829),\n",
       " ((0.0005918931041177344, 43, 11, 57.35780906358382, 24), 0.8108094897121345),\n",
       " ((0.00028629131150663466, 46, 4, 68.91356254750798, 6), 0.8244337256376744),\n",
       " ((0.0001696755105953558, 1, 37, 2.570494383183766, 39), 0.8230612271902952),\n",
       " ((0.0005520819855502656, 13, 20, 53.21646083940902, 4), 0.8167422268919482),\n",
       " ((0.0009479889190703005, 8, 44, 51.24658747744212, 14), 0.7988290865356514),\n",
       " ((0.0003218590621474251, 49, 11, 79.58191470273931, 36), 0.820082657252881),\n",
       " ((0.0006020011179643964, 21, 11, 53.86682254634847, 35), 0.8148527848943634),\n",
       " ((0.0002854191874850924, 20, 18, 36.28111973919687, 34), 0.825453313781894),\n",
       " ((0.0008004891126370356, 5, 1, 90.14233288060453, 40), 0.8134801238274174),\n",
       " ((0.0003593472782765163, 41, 41, 88.34818717222987, 35), 0.8184438608178093),\n",
       " ((0.0009679090770384217, 10, 28, 28.757250549568813, 27), 0.7942537950837323),\n",
       " ((0.000950761680260911, 10, 1, 28.652414119256417, 11), 0.8097911402796837),\n",
       " ((0.00016604610617139946, 48, 6, 44.86139698266782, 41), 0.8231872603881639),\n",
       " ((0.0005609250975216009, 29, 44, 53.93895230003044, 44), 0.8122654514568519),\n",
       " ((0.0003204267203404034, 4, 32, 93.36855677937696, 27), 0.8243588411461602),\n",
       " ((0.00026421664844921767, 25, 22, 6.987731549236193, 38), 0.8241968303697651),\n",
       " ((0.0006527608828701991, 10, 35, 15.842616601690041, 14), 0.8129907348438008),\n",
       " ((0.0006085992278369908, 27, 49, 13.262764634707054, 16), 0.8080875666653518),\n",
       " ((0.0005308824475388891, 39, 19, 62.98209130227662, 33), 0.8140420380875397),\n",
       " ((0.0001871880534070272, 28, 11, 46.408330692380716, 23), 0.8248317222826342),\n",
       " ((0.0007183712231876888, 2, 6, 27.488323195704513, 13), 0.8217098572454804),\n",
       " ((0.0004986936667096374, 20, 14, 18.641071910653498, 15), 0.8205341682452002),\n",
       " ((0.0007252025073121175, 38, 28, 65.51037797947504, 41), 0.8016200419509196),\n",
       " ((0.0008116133957720288, 28, 43, 77.16954149686043, 4), 0.7938343233492955),\n",
       " ((0.0004372368779669688, 29, 15, 44.44865566700444, 28), 0.8188461992758086),\n",
       " ((0.0003682572525197243, 31, 41, 91.43502851817311, 44), 0.8214392598180283),\n",
       " ((0.0004593182670351863, 47, 48, 57.10963448673035, 20), 0.8159325757811361),\n",
       " ((0.0008354182526330572, 27, 24, 92.43719724883591, 8), 0.7940312079988944),\n",
       " ((0.00031760739242803356, 6, 10, 24.57233693500234, 34), 0.8248658304487682),\n",
       " ((0.0003214426700608857, 25, 14, 81.64897085209701, 40), 0.8236224433784182),\n",
       " ((0.0003811614049201882, 2, 16, 67.82021904156686, 3), 0.8250707696801759),\n",
       " ((0.00042167385697897955, 43, 2, 47.18185175906489, 31), 0.820128942486979),\n",
       " ((8.562202795620347e-05, 28, 45, 21.792980852508556, 6), 0.8232743081974302),\n",
       " ((0.0007500268125610378, 46, 43, 70.49020915988845, 22), 0.7960312556444388),\n",
       " ((0.0006573720995410978, 20, 19, 99.3502441463827, 42), 0.8111297486774569),\n",
       " ((0.0007076237572759016, 22, 16, 52.15706627410904, 33), 0.8127621442503602),\n",
       " ((0.0007839485185464226, 26, 38, 85.80899116149132, 9), 0.7941167863713626),\n",
       " ((0.00010209859831351712, 13, 41, 4.126199494009379, 23), 0.8234983171702832),\n",
       " ((0.0006934126095803153, 4, 2, 45.46990892288191, 11), 0.8186780648751241),\n",
       " ((0.0007639589203217008, 28, 10, 25.334377219295448, 46), 0.8078424677841549),\n",
       " ((0.00033773079081067157, 19, 20, 34.28928669267094, 26), 0.8230946358644582),\n",
       " ((0.0008105624911280577, 24, 43, 49.66671079389582, 12), 0.7975686291828636),\n",
       " ((0.0008035866134390397, 35, 8, 72.35776291105485, 33), 0.7970104726109619),\n",
       " ((0.00019897514676777501, 49, 12, 64.03584373769208, 19), 0.8228852984064111),\n",
       " ((0.0006528489420768422, 46, 46, 9.449816606423305, 30), 0.8101122583853271),\n",
       " ((0.0008184326021992711, 43, 44, 48.05576848812233, 47), 0.7934996070028183),\n",
       " ((0.0005641662203677607, 5, 29, 97.66761402150712, 49), 0.8184049471684025),\n",
       " ((0.0008111203957694852, 48, 9, 12.338282627983615, 7), 0.8048806639341006),\n",
       " ((0.00016973932515823478, 22, 48, 11.099577476091742, 12),\n",
       "  0.8221821010815259),\n",
       " ((0.0007462593955272143, 21, 11, 12.510598564312778, 42), 0.8135200458640168),\n",
       " ((0.00038013321548873076, 4, 36, 52.67947306636898, 42), 0.8221683178606781),\n",
       " ((0.0007223944274057301, 15, 32, 72.39515021635152, 25), 0.8090672551928125),\n",
       " ((0.0006065722845051131, 25, 30, 30.536040081804416, 31), 0.8129460108002114),\n",
       " ((0.0005425263385540843, 28, 14, 58.1691707993348, 44), 0.8167725122090126),\n",
       " ((0.00023104314284551862, 41, 46, 79.74481360711282, 22), 0.8233077985567369),\n",
       " ((0.0004156543260004355, 26, 35, 75.03439350803816, 38), 0.8194359776979665),\n",
       " ((0.0006196284940562151, 21, 14, 70.07276420332265, 33), 0.8150654382736526),\n",
       " ((0.0004165122158716638, 26, 9, 8.484526373560191, 41), 0.8188435914507384),\n",
       " ((0.00043546312485443265, 15, 41, 62.50009973516209, 6), 0.8203041428708377),\n",
       " ((0.00048299124923332603, 14, 40, 73.21635979371491, 41), 0.8178383823535974),\n",
       " ((7.949678351583866e-05, 18, 42, 49.23659720720545, 44), 0.8217364805876592),\n",
       " ((0.00018102004867070077, 30, 40, 63.353272075028286, 9), 0.8242077250100539),\n",
       " ((0.0008762444567449375, 36, 1, 43.52441612411918, 32), 0.8091645393771374),\n",
       " ((0.0006285759705078196, 6, 32, 0.6410864340704694, 28), 0.817776939189452),\n",
       " ((0.0003440732184812219, 1, 10, 21.55506651614649, 41), 0.8227396817658694),\n",
       " ((0.0003433735732464383, 40, 43, 89.457782581074, 43), 0.8185245374403628),\n",
       " ((0.0008066481929666148, 19, 32, 41.1316054346253, 25), 0.8025482488913477),\n",
       " ((0.0008288325547368531, 31, 5, 17.62428359438761, 7), 0.8057030270088238),\n",
       " ((0.0008002463529469606, 24, 47, 68.08231418579767, 3), 0.7963424885602464),\n",
       " ((0.0003572337072245224, 8, 11, 37.71952242556522, 37), 0.8237465546671571),\n",
       " ((0.0007374406756195296, 35, 41, 76.49177526332332, 44), 0.7978058056031571),\n",
       " ((0.0007083146855666667, 3, 6, 42.831104517843926, 17), 0.8228671211847179),\n",
       " ((0.000977705420605911, 39, 39, 45.65872780623925, 49), 0.7815346943205127),\n",
       " ((0.00018483439735998784, 9, 19, 23.36602997373593, 39), 0.8235245141808887),\n",
       " ((0.0003966429920573922, 1, 17, 44.437680197487715, 44), 0.8227867627002436),\n",
       " ((0.00015327767737606513, 23, 26, 80.19002150074711, 12), 0.8246509375897904),\n",
       " ((0.00015157487451157104, 45, 40, 67.4077530248953, 38), 0.8233151917081073),\n",
       " ((0.0006793794025509797, 48, 21, 77.49863033956329, 10), 0.8007987883902636),\n",
       " ((0.000689027733878464, 25, 18, 92.70383254817371, 5), 0.8068323869844107),\n",
       " ((0.0005729136800978346, 28, 30, 76.63022068182421, 30), 0.8132446276614469),\n",
       " ((0.00022787687318667597, 36, 5, 15.674353530282103, 24), 0.8233762587658631),\n",
       " ((0.0003724179867723741, 46, 29, 56.320840796901074, 20), 0.8186926711624056),\n",
       " ((0.0005714872086055307, 42, 45, 10.335013316510679, 39), 0.8113787144786533),\n",
       " ((0.00023747023593408394, 49, 32, 68.641893455932, 4), 0.8229894351350836),\n",
       " ((0.0008571913066149462, 46, 31, 35.00957677324258, 13), 0.7980223951797418),\n",
       " ((0.0009852901120982675, 10, 36, 1.8643874520707582, 31), 0.793183558468722),\n",
       " ((0.00013171150648867193, 35, 33, 65.43412502246888, 45), 0.8241306088061),\n",
       " ((0.0006971045900048694, 4, 4, 70.74054838960403, 42), 0.8187837357176347),\n",
       " ((0.00020307303960726323, 13, 43, 98.66478561832949, 31), 0.8225847028059687),\n",
       " ((5.458188112052501e-05, 11, 36, 9.764368864307425, 44), 0.8215179734452385),\n",
       " ((0.0007238207705879867, 42, 10, 28.1420359470584, 29), 0.8093294333200274),\n",
       " ((0.00023206854235582083, 16, 1, 89.11478549988438, 47), 0.8239616951146753),\n",
       " ((0.0005249732929928086, 2, 35, 2.2445542927404847, 18), 0.8236662898393126),\n",
       " ((0.0005842546993336199, 22, 22, 32.50456775445861, 49), 0.8163706886167669),\n",
       " ((0.0005054784142963374, 44, 41, 87.2957057512218, 20), 0.8117195000220712),\n",
       " ((0.0003754744907219892, 8, 45, 22.281856175895957, 35), 0.8222477950302092),\n",
       " ((0.0002499640621348106, 37, 7, 3.670717687990552, 26), 0.8234612282920127),\n",
       " ((0.0009402096005101082, 4, 17, 97.17919213217489, 45), 0.7994961270206867),\n",
       " ((0.0004092291039219872, 39, 44, 73.75864597521559, 43), 0.8176537634073743),\n",
       " ((0.00025386611347827533, 48, 36, 75.97565410910732, 19), 0.8235212487780804),\n",
       " ((0.0007136497664004383, 9, 42, 96.96360835753237, 46), 0.8100280633817862),\n",
       " ((0.0001112097745124169, 42, 41, 2.925929543245755, 38), 0.8234513350110522),\n",
       " ((0.0004348604999400244, 13, 10, 65.1262918425388, 26), 0.8220944483217325),\n",
       " ((0.00084279482795969, 13, 48, 35.297681212652996, 3), 0.8022363226312741),\n",
       " ((0.00011462939548016933, 36, 24, 6.553793268023251, 10), 0.8238515150343524),\n",
       " ((0.00034507033744183755, 46, 42, 14.198448918005848, 11), 0.821646864943966),\n",
       " ((0.00023625370165418827, 28, 49, 44.684028731711564, 41),\n",
       "  0.8216207194807729),\n",
       " ((0.0004898386743568964, 16, 32, 20.219861414105225, 25), 0.8163259921136966),\n",
       " ((0.0009075046012506902, 15, 22, 20.43690159861197, 32), 0.7992394157802819),\n",
       " ((0.0005611675229776916, 4, 23, 28.634779235278145, 37), 0.8187635103717188),\n",
       " ((0.0008117328022864607, 9, 32, 46.63912140396533, 39), 0.8062676676037149),\n",
       " ((0.000750036960496137, 45, 43, 15.164418840455422, 17), 0.8060576854354852),\n",
       " ((0.0006822815378887224, 8, 41, 50.95267928382681, 26), 0.8139453045370456),\n",
       " ((0.0003322006384900341, 11, 46, 77.34499088051037, 5), 0.8231094868162416),\n",
       " ((0.0009054555711731672, 49, 37, 69.26253961138104, 12), 0.7824902839310288),\n",
       " ((0.0002790670168174508, 1, 14, 61.220572609336934, 3), 0.8231534862989098),\n",
       " ((0.000796558210321508, 12, 31, 5.612730507127247, 38), 0.8073129189106251),\n",
       " ((0.0005101265801694479, 5, 15, 26.883937481503896, 47), 0.8201077602025117),\n",
       " ((0.0007453039313612148, 37, 39, 99.58744064600009, 44), 0.7918945442171769),\n",
       " ((0.0007553870912150631, 25, 11, 6.623388027726299, 26), 0.8107193475064003),\n",
       " ((0.0003363705694652806, 18, 39, 77.67421556694063, 44), 0.8211530384195088),\n",
       " ((0.0002165439957736566, 30, 31, 78.58479002281271, 24), 0.8240481252911269),\n",
       " ((0.0004519534590138656, 21, 11, 49.843574954022245, 33), 0.8203946526899617),\n",
       " ((0.0009418601470399937, 43, 34, 23.489643798038692, 36), 0.7919902767180991),\n",
       " ((0.00042254967465323175, 16, 36, 41.808514256333176, 27),\n",
       "  0.8194028515226566),\n",
       " ((0.0006036536569440317, 27, 16, 15.510806713264175, 16), 0.8137180279432021),\n",
       " ((0.00023861377100810267, 36, 1, 16.012192116863424, 20), 0.8239214028330157),\n",
       " ((0.0008726844784101474, 49, 2, 96.88875132330473, 3), 0.7842642023724177),\n",
       " ((0.0008754727121938666, 21, 28, 59.90098884220188, 16), 0.7963645901476654),\n",
       " ((0.0008831376678345943, 23, 26, 54.99767625952386, 37), 0.797264997181576),\n",
       " ((0.0004904273466553852, 27, 24, 96.93862630409252, 49), 0.8157779619365024),\n",
       " ((0.0009025732045676931, 42, 16, 10.1817551297448, 48), 0.7988752376664652),\n",
       " ((0.000521290371675994, 35, 33, 95.32538587283432, 47), 0.8115741493921718),\n",
       " ((0.000670770990411698, 42, 35, 62.42846905267346, 38), 0.8046588944963111),\n",
       " ((0.00033479991868356617, 40, 26, 22.355401770879833, 36),\n",
       "  0.8212853209710469),\n",
       " ((0.0005915343463570965, 13, 27, 85.54499231791534, 15), 0.8124599103816116),\n",
       " ((0.00042515788086553135, 24, 2, 34.694059947642025, 41), 0.8224620535327792),\n",
       " ((0.00010311261461968407, 46, 41, 41.516605979926524, 34),\n",
       "  0.8237986853527747),\n",
       " ((0.0007448869130935672, 49, 29, 73.84632311905419, 34), 0.7955866792368237),\n",
       " ((0.000610123598815871, 30, 31, 37.32197644583947, 36), 0.8106788483334566),\n",
       " ((0.0005389724763802731, 26, 46, 97.32373394503094, 13), 0.8112470504211249),\n",
       " ((0.0003689634456843138, 44, 26, 41.723682374570856, 36), 0.8186860766990857),\n",
       " ((0.00046849365874588635, 14, 14, 13.690790371425424, 47), 0.821788618127354),\n",
       " ((0.0006859623281663448, 32, 16, 56.06727424845337, 49), 0.8083605930821006),\n",
       " ((0.00031379154798777983, 34, 46, 15.802546741242551, 30),\n",
       "  0.8227098326720265),\n",
       " ((0.00026486062691049553, 22, 48, 72.01942372345671, 18), 0.8221736834828876),\n",
       " ((0.0002026730866980036, 15, 20, 15.089574516911963, 39), 0.8243554363760173),\n",
       " ((0.00021574832335165685, 6, 36, 33.42809795071341, 18), 0.8227745239828238),\n",
       " ((0.0006229729353407471, 29, 36, 71.2316310956519, 30), 0.8098329992068759),\n",
       " ((0.0009653466914480023, 11, 39, 2.056895926687896, 19), 0.7944952181336301),\n",
       " ((0.0006922337897566325, 14, 28, 40.86957248664617, 14), 0.811807153611589),\n",
       " ((0.0006742629759934103, 34, 19, 94.29383890243868, 48), 0.8029502822076015),\n",
       " ((0.0009291193113158314, 24, 25, 22.50403447239971, 13), 0.7971919803511208),\n",
       " ((0.000204495005324461, 3, 1, 44.46500069227047, 47), 0.8231968395046659),\n",
       " ((0.0006579794712421351, 17, 10, 63.70154194045368, 25), 0.8148301210605458),\n",
       " ((0.000851503953319193, 16, 28, 98.96659079017475, 5), 0.7954542258970517),\n",
       " ((0.0009037477347735422, 10, 4, 5.405564406124942, 27), 0.8060755756992047),\n",
       " ((0.0005926421829109305, 34, 27, 84.93438485497448, 24), 0.8081458798765205),\n",
       " ((0.0005564465274899969, 5, 35, 97.56207091818897, 5), 0.8184049471684025),\n",
       " ((0.00022268762284856922, 19, 8, 12.751775876465981, 39), 0.8242177036056861),\n",
       " ((0.0002957673909764298, 23, 25, 57.51329700403997, 27), 0.8239863443279918),\n",
       " ((0.0008859405728327598, 23, 23, 1.2926285414317977, 42), 0.8022692401899415),\n",
       " ((0.0004566745791184213, 5, 23, 29.27045823843639, 10), 0.8205711183882313),\n",
       " ((0.0009712952193290308, 37, 3, 95.2854874516437, 23), 0.7827811748792062),\n",
       " ((0.000644037432611344, 13, 44, 89.83577008959217, 39), 0.8113559219416128),\n",
       " ((0.0007401137265968607, 2, 4, 27.431253038107883, 35), 0.8212561906135032),\n",
       " ((0.0009899661909891567, 14, 21, 67.64944139105437, 29), 0.7862922592533811),\n",
       " ((0.0004962555943190418, 41, 37, 13.128926344874614, 30), 0.8142741059773354),\n",
       " ((0.00037485823821179593, 34, 2, 93.11901470132673, 29), 0.8202068228483959),\n",
       " ((0.0008036971357880522, 44, 46, 29.835712216992082, 48), 0.7990019593810542),\n",
       " ((0.00029736161822609944, 8, 38, 45.44969421402289, 21), 0.824013992790367),\n",
       " ((0.0009863471670946843, 45, 42, 49.12982116799099, 41), 0.7741678936943956),\n",
       " ((0.00034153448484961857, 7, 24, 20.689765996011758, 19), 0.8248285204587152),\n",
       " ((0.0005624789554980996, 15, 40, 98.24425079520375, 29), 0.8149711810774943),\n",
       " ((0.000260656670057652, 13, 6, 60.62882891227004, 11), 0.8223918579394287),\n",
       " ((0.0008682659325552993, 39, 12, 99.11763327149838, 3), 0.782041543126411),\n",
       " ((0.00017632519874514986, 25, 5, 42.47516445900514, 22), 0.8233417727039501),\n",
       " ((0.00023284334283528755, 20, 26, 29.641638382274557, 18),\n",
       "  0.8231335766193623),\n",
       " ((0.000285792668397205, 14, 15, 96.01759375086385, 17), 0.825971766581015),\n",
       " ((0.0008254699855294999, 37, 37, 86.26891696467888, 29), 0.7900648835021497),\n",
       " ((0.0009907647831034515, 43, 46, 95.6078759312893, 40), 0.7589256841886873),\n",
       " ((0.0005982030303936863, 20, 43, 61.815159695639124, 46), 0.8100957746014961),\n",
       " ((0.0002036755630996463, 10, 49, 75.0550255590359, 25), 0.8229439490417643),\n",
       " ((0.0003084607858402657, 46, 25, 32.221214187086616, 18), 0.8227695332063645),\n",
       " ((0.0003826083482547642, 45, 12, 16.90180716960369, 6), 0.8181479372092607),\n",
       " ((0.0001237658110064771, 22, 38, 66.21495479192376, 48), 0.822778670857847),\n",
       " ((0.0005011389206822233, 43, 42, 12.675660056643652, 48), 0.8151969425486704),\n",
       " ((0.00046303577687149063, 28, 12, 26.60651866567756, 30), 0.8180863335722842),\n",
       " ((0.00029043732063967784, 28, 48, 23.89701785890436, 36), 0.8225313822695577),\n",
       " ((0.00036318973519289775, 3, 12, 84.42998813011613, 28), 0.8238721836648326),\n",
       " ((0.0007953453352744411, 44, 46, 16.92882510867653, 40), 0.8002239329533143),\n",
       " ((5.467928583980416e-05, 18, 32, 9.165145800906918, 13), 0.8215266879916594),\n",
       " ((0.0008139824801296174, 40, 48, 97.38038800798276, 4), 0.7851686348633139),\n",
       " ((7.902846571471254e-05, 1, 12, 89.12403895375977, 13), 0.8231964171259466),\n",
       " ((0.00031808947683127544, 44, 10, 29.145299921890235, 41),\n",
       "  0.8223441920949364),\n",
       " ((0.0004651832751780085, 28, 34, 49.73352323521369, 35), 0.8168438983253918),\n",
       " ((0.0003358433095673422, 34, 34, 56.030037819254765, 47), 0.8206265271632127),\n",
       " ((0.0007467382656091384, 11, 35, 41.49240343377268, 34), 0.809284005104431),\n",
       " ((0.0004543590832461311, 29, 30, 90.78386803918193, 34), 0.8172072574938075),\n",
       " ((0.0009351401788414696, 47, 13, 0.6792130733003889, 12), 0.7992022071375443),\n",
       " ((0.0004564421592162918, 15, 11, 17.034557421739574, 5), 0.8214296426239522),\n",
       " ((9.292137128576281e-05, 29, 46, 66.37475944417316, 36), 0.8233701633131676),\n",
       " ((0.0001468715317626217, 45, 20, 64.4062720237773, 10), 0.8235703187415548),\n",
       " ((0.0007548634494613695, 6, 27, 22.19470245079479, 37), 0.8129234758415853),\n",
       " ((0.0004875911958989593, 8, 43, 92.30612896522072, 22), 0.8203436091995222),\n",
       " ((0.0005813274439168315, 24, 36, 76.1645541106617, 39), 0.8123624860445694),\n",
       " ((0.0003966665812935125, 25, 16, 95.98980413460026, 45), 0.8222921636628244),\n",
       " ((0.0009087094800791772, 34, 1, 74.9330118480007, 26), 0.8037970491584611),\n",
       " ((0.0005852124611361786, 9, 37, 10.20119791022087, 46), 0.8156046460979871),\n",
       " ((0.00010988501208998092, 11, 21, 41.03804519439615, 31), 0.8243409060043416),\n",
       " ((0.0006902298185973107, 16, 40, 47.07140551604857, 47), 0.8114701728153195),\n",
       " ((0.0005317364512081664, 28, 38, 73.58408007778331, 17), 0.8143488008650474),\n",
       " ((0.000899342731033522, 5, 41, 15.490318361526963, 19), 0.8042001087480264),\n",
       " ((0.000529505691181074, 35, 46, 88.36532488402433, 46), 0.8103693112858622),\n",
       " ((0.00027926794187635646, 26, 5, 30.172645504381457, 37), 0.8233086525636256),\n",
       " ((0.00042760691415942456, 18, 34, 31.259558493563162, 49),\n",
       "  0.8177603186392779),\n",
       " ((8.612661007444263e-05, 38, 12, 94.40672824049838, 23), 0.8243188651386698),\n",
       " ((0.0005430170801003635, 39, 49, 59.17430846021431, 39), 0.8111313154436652),\n",
       " ((0.0003254540875386739, 9, 8, 93.5511773902322, 37), 0.8247901972704229),\n",
       " ((0.0008443449597148823, 1, 9, 86.16628260943007, 42), 0.8205196009711183),\n",
       " ((8.220145356879988e-05, 13, 17, 75.01131138945888, 40), 0.8227311255324613),\n",
       " ((0.0004668174494878234, 41, 37, 41.15253464510438, 41), 0.8147297421871261),\n",
       " ((0.0002414901834753017, 9, 43, 67.16579132387415, 9), 0.8232881794963667),\n",
       " ((0.00029043122647778245, 37, 38, 41.0375455201057, 4), 0.8243754650794717),\n",
       " ((0.00011068697790748766, 43, 35, 48.9359348237447, 27), 0.8237103065263918),\n",
       " ((0.0009422100463369609, 45, 12, 85.91669671897425, 28), 0.770683617356635),\n",
       " ((0.0009974863338156077, 15, 1, 55.57981128094355, 9), 0.8071097072783565),\n",
       " ((0.0009668639647239815, 28, 21, 31.23338214358829, 22), 0.7958100762484205),\n",
       " ((0.0003507171540372521, 45, 47, 8.637250240271069, 43), 0.8214032922343004),\n",
       " ((0.0009884091242655594, 23, 8, 45.35052224314876, 26), 0.7965256968917622),\n",
       " ((0.0007517784919278674, 20, 27, 55.14660313764736, 38), 0.8060068067809557),\n",
       " ((0.0005754250017157899, 1, 16, 20.55952747356482, 6), 0.8215164882239611),\n",
       " ((0.0003479801069474522, 35, 1, 54.484673649679344, 27), 0.8224551130982207),\n",
       " ((0.0009473046219107593, 16, 23, 75.65462345530092, 25), 0.7907254587355167),\n",
       " ((0.0004503266507883025, 7, 13, 20.243862990390628, 27), 0.8206983560294205),\n",
       " ((0.0009041571294219394, 11, 5, 58.39892841872501, 36), 0.8052336008377731),\n",
       " ((0.000798071063707407, 48, 1, 98.15029205650289, 12), 0.8026958971753376),\n",
       " ((0.00032096679432754656, 23, 17, 26.607831016472755, 49),\n",
       "  0.8250101617287259),\n",
       " ((0.0008655537527725954, 27, 1, 60.011071826989635, 26), 0.8099340773940571),\n",
       " ((0.00032424676068573287, 44, 9, 98.32140497042185, 7), 0.820585711813112),\n",
       " ((0.0007358049339257839, 18, 16, 24.77031598523937, 40), 0.8128315160050321),\n",
       " ((0.0009399101477673719, 9, 6, 88.04184080906408, 17), 0.8005333520053974),\n",
       " ((0.0009280506892212726, 1, 34, 29.698353505788994, 26), 0.8200097267086162),\n",
       " ((0.00022729096212889056, 16, 16, 41.4507717713868, 44), 0.8236949437248718),\n",
       " ((0.00044764013211470266, 5, 49, 47.57894952318015, 7), 0.8203552484111544),\n",
       " ((0.0003874444655238039, 35, 24, 92.7721334807552, 29), 0.8185027057239861),\n",
       " ((0.0002001551591264781, 28, 30, 42.71944725778872, 3), 0.8235063381640242),\n",
       " ((0.0006029857345530645, 27, 28, 29.780453790492167, 33), 0.8124283197535538),\n",
       " ((0.0005693123632082063, 46, 22, 22.698859329997767, 26), 0.8135921198514521),\n",
       " ((0.0006555441481332421, 16, 30, 72.98111619723782, 48), 0.8100744778434055),\n",
       " ((0.00012267030919623217, 10, 47, 6.4160163857571035, 21),\n",
       "  0.8230713854239686),\n",
       " ((0.0006935530495208824, 17, 2, 93.32791567141228, 36), 0.8131423083479314),\n",
       " ((0.00020357384626784353, 18, 49, 54.81296133972743, 12), 0.8227298405412925),\n",
       " ((0.0004477662777662968, 46, 35, 84.70158924583556, 31), 0.8131746922677672),\n",
       " ((0.00016217951519072898, 49, 2, 42.457990930746014, 25), 0.825759837306872),\n",
       " ((0.00014646158433438878, 39, 28, 46.775606907918345, 30),\n",
       "  0.8232768598149725),\n",
       " ((0.0005622569909449916, 39, 28, 55.99395928521784, 45), 0.8120275314297256),\n",
       " ((0.0007452872674971105, 15, 24, 59.16748573382364, 5), 0.8089905052003699),\n",
       " ((0.0006811838236608768, 43, 13, 73.2121046382582, 30), 0.8031060228335989),\n",
       " ((0.000967141539191426, 35, 36, 67.94966410649796, 5), 0.7755689096966059),\n",
       " ((0.00010272275277178574, 5, 9, 35.35034086815426, 44), 0.8249657009849548),\n",
       " ((0.0007416621962736505, 10, 10, 1.9521034822135799, 48), 0.8155194628610185),\n",
       " ((0.0004805111850809358, 27, 31, 35.14212962890298, 20), 0.8166545369219911),\n",
       " ((0.0009445425795533805, 30, 17, 10.616668784584371, 39), 0.8003796376691443),\n",
       " ((0.0008398565218076687, 15, 7, 51.39223056198751, 6), 0.8086385794792834),\n",
       " ((0.000937312178631474, 18, 30, 88.70362398327501, 45), 0.7854672356047983),\n",
       " ((0.0004713631644549306, 4, 46, 97.0573107174255, 13), 0.8207162630975922),\n",
       " ((0.00048321679037808456, 37, 14, 42.79647387185929, 39), 0.8166891392398291),\n",
       " ((0.00033867953632250956, 48, 12, 58.16548931667446, 14), 0.8197748700266244),\n",
       " ((0.0006413404258037928, 33, 8, 97.63008691699028, 42), 0.806254871481019),\n",
       " ((0.0005510558597428506, 10, 35, 85.22800191029964, 14), 0.8169746934323804),\n",
       " ((0.000716253324820832, 35, 25, 16.45215412517921, 4), 0.8082262721993843),\n",
       " ((0.0009959370892132235, 21, 5, 58.639785705217754, 45), 0.7897899223311518),\n",
       " ((0.0001586935594090381, 32, 25, 88.99424596393715, 7), 0.8239173786605316),\n",
       " ((0.0007426117986939398, 2, 26, 39.30768215610064, 6), 0.8214631468237196),\n",
       " ((8.974295802986201e-05, 45, 38, 50.5155369638087, 48), 0.8235399423294993),\n",
       " ((0.00012799963260422308, 15, 24, 13.770032179905176, 17),\n",
       "  0.8241099685793822),\n",
       " ((0.0004434256947677737, 17, 29, 51.49991314387308, 22), 0.8194863534228607),\n",
       " ((0.00016576369857630735, 33, 30, 24.892013363396323, 38), 0.82372196350264),\n",
       " ((0.0008520567170359625, 19, 3, 58.4568605624425, 15), 0.8044000016959147),\n",
       " ((0.0005565132626874462, 11, 22, 28.56007979275306, 19), 0.8167993137860262),\n",
       " ((0.0003221145082837719, 15, 10, 74.51932919837532, 26), 0.8245802320749561),\n",
       " ((0.0004315291475045352, 17, 19, 36.34019373970762, 41), 0.821362947046244),\n",
       " ((0.00043372115562998663, 22, 28, 57.8101276974819, 26), 0.8190834966036377),\n",
       " ((0.0004943581316276915, 38, 43, 59.00983199505551, 22), 0.8144904011238029),\n",
       " ((0.0007998914643712363, 9, 45, 47.57323193804329, 19), 0.8063791582221982),\n",
       " ((0.0003820780021510724, 42, 7, 64.62565180203256, 7), 0.8162616627667771),\n",
       " ((0.00040278031522696794, 13, 49, 48.12404681456317, 7), 0.8195890282879813),\n",
       " ((0.00023405981258138608, 4, 13, 79.42561697292982, 5), 0.8231580568928916),\n",
       " ((0.0004281152346161446, 11, 30, 63.08605078507616, 45), 0.8207350509099031),\n",
       " ((0.000882196575506859, 14, 9, 54.90567596688812, 26), 0.8086675557296328),\n",
       " ((0.0008931221411193173, 1, 47, 87.33048324298403, 47), 0.8200097267086162),\n",
       " ((0.0005782955239059937, 30, 19, 92.32265854222902, 20), 0.8115190218896238),\n",
       " ((0.0007450724812782747, 21, 47, 10.36841745571049, 21), 0.8070174752222465),\n",
       " ((0.0007566405447066794, 31, 11, 1.5120876515800936, 9), 0.8108366416984768),\n",
       " ((0.0007275734641941817, 11, 1, 88.70576098211747, 39), 0.8147023415095389),\n",
       " ((0.000840685836917615, 33, 40, 43.46917766955029, 20), 0.7952492820526238),\n",
       " ((0.00017804209196498955, 34, 12, 3.8314383372782093, 10),\n",
       "  0.8251022952128286),\n",
       " ((0.0004402974208682723, 11, 6, 4.110310590749632, 44), 0.8216556198144664),\n",
       " ((0.000856190619597951, 40, 30, 25.50606801257434, 24), 0.8007419511445993),\n",
       " ((0.0004774971438041665, 3, 24, 81.64447020991356, 28), 0.8214112664213247),\n",
       " ((0.0005972293478391901, 31, 43, 19.301033760869178, 15), 0.810110112254565),\n",
       " ((0.000630940963696721, 49, 48, 61.18655175366807, 24), 0.8059052110197494),\n",
       " ((0.0005911604765730614, 5, 30, 85.79720408601345, 21), 0.8181853550323194),\n",
       " ((0.00014548067910671566, 9, 10, 2.783912531284533, 33), 0.8247069140033421),\n",
       " ((0.00046984833688963807, 44, 40, 81.82334410027504, 18), 0.8128878735500716),\n",
       " ((0.0005087641784658097, 13, 30, 57.66991917935537, 18), 0.8166335018780038),\n",
       " ((0.00031280226707212694, 23, 5, 45.637725484464966, 14), 0.8229023653170113),\n",
       " ((0.0008184596630415355, 30, 32, 74.19311333456844, 11), 0.794605124644772),\n",
       " ((0.000876946052160004, 44, 3, 31.90011695164462, 17), 0.8063355904910968),\n",
       " ((0.0005183528302047152, 49, 10, 79.04889028675728, 48), 0.8090196114295465),\n",
       " ((0.00046828778344092147, 34, 11, 82.79496161278966, 14), 0.8151102171411687),\n",
       " ((0.0009408982293190131, 12, 28, 20.953383503574948, 22), 0.7952716763685486),\n",
       " ((0.0007180110092049189, 41, 16, 26.972874498079637, 19), 0.8096595661352967),\n",
       " ((0.0009038104639093105, 38, 18, 73.09945087238012, 46), 0.7859082341850971),\n",
       " ((0.0006596676993051885, 29, 22, 35.58331514745322, 9), 0.8121550839598805),\n",
       " ((0.0008565966020919214, 21, 29, 78.07179676094707, 20), 0.795540138448497),\n",
       " ((0.0004891649759721129, 38, 2, 24.06124003313233, 43), 0.8196388343599328),\n",
       " ((0.0004847795734973278, 2, 48, 38.12350938618875, 37), 0.8236135829250291),\n",
       " ((0.00033758233065227824, 23, 2, 84.82627979114375, 46), 0.8242083639300365),\n",
       " ((0.00047603140790112295, 47, 3, 48.94470367580993, 22), 0.8168582975442338),\n",
       " ((5.398762123564097e-05, 47, 1, 27.20615097346861, 32), 0.8218125209479422),\n",
       " ((0.0004663114416551255, 18, 28, 12.249805877474945, 40), 0.818962898554182),\n",
       " ((0.000672800457796748, 12, 7, 78.66585503215607, 24), 0.8154103624735245),\n",
       " ((0.0006719494172113584, 36, 6, 38.4233710007704, 17), 0.8123704931515994),\n",
       " ((0.00047805006674247444, 2, 49, 77.21642825777064, 44), 0.8236135829250291),\n",
       " ((0.0009659415030197646, 7, 9, 44.784743488027985, 32), 0.8062074852593377),\n",
       " ((0.0008184719370305266, 43, 44, 64.23087515933162, 41), 0.790933774851688),\n",
       " ((0.0004029280780654975, 12, 6, 45.25818383358479, 12), 0.821163124099809),\n",
       " ((0.0009895847073899274, 29, 35, 22.910702884039235, 12), 0.7889561205907452),\n",
       " ((0.0005527561906999883, 14, 41, 8.786192027703185, 7), 0.8165254038986209),\n",
       " ((0.0002359262880925585, 21, 16, 82.59724687444056, 39), 0.8245564852651994),\n",
       " ((0.00030677848980615414, 39, 42, 99.10439274720136, 11), 0.8215793305619997),\n",
       " ((0.00041726893820138284, 36, 3, 97.76965681367828, 47), 0.8176789211840026),\n",
       " ((0.00047421481752119954, 48, 44, 39.70101635619305, 13), 0.8164463298930466),\n",
       " ((0.0008874627637427592, 13, 48, 28.517896003534833, 5), 0.8001408284488188),\n",
       " ((0.0004774931657153754, 31, 27, 24.54829620973087, 3), 0.8180640900976361),\n",
       " ((0.00034535570920259887, 22, 13, 54.47288216165968, 39), 0.8228016114002745),\n",
       " ((0.0009625296506369784, 2, 12, 98.56852958359455, 18), 0.8149875063686193),\n",
       " ((0.0007134022829794731, 29, 4, 58.073189373255815, 3), 0.80794950846562),\n",
       " ((0.00026252972669503396, 37, 22, 10.2931391517077, 49), 0.8239963936762709),\n",
       " ((0.00035039428603772093, 10, 25, 75.34604968068258, 44), 0.8220441658504812),\n",
       " ((0.0007446973224659484, 11, 6, 57.776499353759355, 49), 0.8141830069058567),\n",
       " ((6.835467483770987e-05, 13, 32, 98.23250581785865, 6), 0.8218793747864549),\n",
       " ((0.0002454497080342092, 39, 18, 74.2326263792124, 33), 0.8238661197813165),\n",
       " ((0.0009746797082629153, 22, 17, 71.1579541026663, 10), 0.7856546199933317),\n",
       " ((0.0002118919910464005, 31, 43, 57.09784449733594, 39), 0.8241730866280907),\n",
       " ((0.0007728431646031786, 3, 46, 50.52760870839493, 23), 0.8161181299033489),\n",
       " ((0.0008470245914784423, 28, 7, 84.47903842770253, 30), 0.7918746101620381),\n",
       " ((0.0009570850140323911, 29, 24, 14.850076199015579, 16), 0.7988849866740497),\n",
       " ((0.00043109533162713227, 16, 29, 11.494846580225687, 35),\n",
       "  0.8191573096363556),\n",
       " ((0.0004140314290073323, 46, 49, 20.688700737772987, 16), 0.8178212119984216),\n",
       " ((0.00010464844478208881, 29, 36, 93.0390512737902, 47), 0.8243271831968435),\n",
       " ((0.0005289743183397196, 19, 17, 37.79873552039009, 21), 0.8178565623488367),\n",
       " ((0.00036016512402349446, 7, 2, 9.141607725437046, 17), 0.8244417684014066),\n",
       " ((0.0006609301688862446, 29, 5, 60.621625474740654, 4), 0.8103308736494501),\n",
       " ((0.000331898620227184, 31, 19, 91.81090064874665, 17), 0.8228334385653294),\n",
       " ((0.0008153551482286707, 38, 18, 80.65447492640156, 24), 0.7929916924150098),\n",
       " ((0.0006799482875946537, 36, 4, 15.052633974540827, 29), 0.8128523108188751),\n",
       " ((0.0002519413123142711, 31, 18, 55.851165770273205, 27), 0.8251119949121434),\n",
       " ((9.93773073313058e-05, 41, 35, 29.68078233905787, 24), 0.823759954171066),\n",
       " ((0.0007344105391987376, 29, 12, 24.014991694635533, 5), 0.8097806394632183),\n",
       " ((9.706209668750812e-05, 29, 47, 59.906221942559036, 19), 0.8233701633131676),\n",
       " ((0.0007261646382794994, 14, 11, 38.93789874457009, 16), 0.8148299093295153),\n",
       " ((0.0009061965269681246, 2, 5, 55.455882553845214, 30), 0.8204940316552511),\n",
       " ((0.00043182415942901093, 31, 26, 70.88595379580958, 15), 0.8198203181743344),\n",
       " ((0.00045241831144306383, 11, 26, 54.105725798472314, 14),\n",
       "  0.8200439348502141),\n",
       " ((0.0003128030953021289, 31, 33, 43.98018617558776, 46), 0.8242146922047593),\n",
       " ((0.0006994635807931182, 41, 21, 42.5430240691996, 39), 0.8088386832782393),\n",
       " ((8.187990232158147e-05, 38, 28, 22.089921854023515, 11), 0.8234608117414646),\n",
       " ((0.00016118095181560845, 12, 5, 79.05585181861596, 6), 0.8231516072886016),\n",
       " ((0.0007191898242406424, 5, 24, 87.36482925999636, 9), 0.8131792288116089),\n",
       " ((0.0008155950751159842, 5, 33, 69.3464376371569, 37), 0.8082496826853347),\n",
       " ((0.0008123823829301824, 10, 14, 92.63431975267962, 8), 0.8061774132404469),\n",
       " ((0.00028228406963324193, 45, 32, 79.76488956934195, 14), 0.8233657061254143),\n",
       " ((0.00020861726516020805, 19, 12, 47.53291188796496, 8), 0.8243717743064259),\n",
       " ((0.0009860545613240143, 29, 27, 15.655990456441996, 28), 0.7942256761482496),\n",
       " ((0.0007071862266504725, 10, 27, 2.1474602791822495, 29), 0.812075755407562),\n",
       " ((0.00044447320835539937, 12, 48, 18.374349739819916, 29),\n",
       "  0.8201083671361515),\n",
       " ((0.00039463414010579474, 8, 43, 65.34888462656966, 5), 0.821161220356249),\n",
       " ((0.00013414564148529838, 2, 11, 20.712685906337484, 29), 0.8247212114163445),\n",
       " ((0.0007646087929564648, 4, 44, 25.6512588443143, 14), 0.8123932553337021),\n",
       " ((0.00027661225818521363, 9, 24, 25.09337586710034, 21), 0.8228632619117249),\n",
       " ((0.0007813454433977541, 45, 9, 13.620417928586928, 38), 0.8065791767336673),\n",
       " ((0.00028149980589145453, 33, 43, 75.89056885519967, 36), 0.8236542005507395),\n",
       " ((0.0007513736462333958, 27, 40, 2.172751164357421, 13), 0.8080374231726861),\n",
       " ((0.0007831382681917039, 20, 16, 6.689751097022041, 25), 0.8099832029372376),\n",
       " ((0.0009359166232477262, 36, 35, 99.70285667936054, 4), 0.7721395555562328),\n",
       " ((0.0009452710391445784, 21, 4, 68.51263182107957, 47), 0.7947271009407766),\n",
       " ((0.0005638730817126994, 19, 9, 66.85183349969729, 30), 0.8175961091513613),\n",
       " ((0.0005317531107619866, 20, 14, 87.27873874794354, 10), 0.8197422803056449),\n",
       " ((9.554491943187507e-05, 1, 37, 19.557001583305745, 19), 0.8231964171259466),\n",
       " ((0.0007040785343513825, 36, 28, 52.255503474109446, 3), 0.807796222320623),\n",
       " ((0.0006334422782908627, 11, 23, 65.40976283897618, 4), 0.813024881915613),\n",
       " ((0.0007184318927146648, 19, 19, 20.20333793908955, 12), 0.8120556016356469),\n",
       " ((0.0009932826040755373, 6, 28, 36.54609353396849, 21), 0.7981365412526387),\n",
       " ((0.0008019626363962629, 29, 43, 76.93169543133872, 32), 0.7939146687129254),\n",
       " ((0.0005882256072345438, 45, 26, 47.99503788945656, 43), 0.8117312176175863),\n",
       " ((0.0008057196200635427, 31, 10, 71.20083567900386, 30), 0.7980373142680336),\n",
       " ((0.0009436364062531726, 9, 42, 9.029608906367399, 43), 0.7985142815390381),\n",
       " ((0.0006154356457585125, 40, 44, 66.84036325497163, 39), 0.8076255871260414),\n",
       " ((0.0008609322703809485, 3, 21, 28.504353300594616, 13), 0.8116903592682535),\n",
       " ((0.0004312838619114624, 27, 10, 87.29256318181282, 9), 0.8178544486241702),\n",
       " ((0.0005237862000927959, 13, 27, 72.47476897148364, 5), 0.8181732956550057),\n",
       " ((0.0004272212174676324, 26, 6, 16.844621357535203, 49), 0.8195700421391817),\n",
       " ((0.000691341713494265, 28, 47, 51.47002773754125, 27), 0.8071357419769074),\n",
       " ((0.0008433635656239088, 41, 13, 52.70152232645084, 36), 0.7958017646329935),\n",
       " ((0.00017819850698598733, 48, 23, 58.25285588085475, 20), 0.8232788794113438),\n",
       " ((0.00011878449991589908, 9, 25, 24.174794456626707, 28), 0.8236569222732514),\n",
       " ((5.719073763283745e-05, 35, 5, 51.8190404483573, 47), 0.823097760554384),\n",
       " ((0.0008571656414924231, 48, 24, 18.865724622789497, 7), 0.799832491231224),\n",
       " ((0.0006306970990123471, 33, 40, 22.109610319620273, 3), 0.8097591613061935),\n",
       " ((0.0006788785872384023, 43, 48, 2.6281540186907466, 43), 0.8081571945143863),\n",
       " ((0.0006788091482552449, 19, 22, 69.18018497854548, 38), 0.811626014037689),\n",
       " ((0.0009839135300432282, 6, 27, 24.996957832091233, 35), 0.800239580318739),\n",
       " ((0.000529790934807463, 37, 29, 24.47884139071278, 31), 0.8158545504053096),\n",
       " ((0.0007386726397877357, 41, 23, 26.482194927450152, 7), 0.8076162654751986),\n",
       " ((0.0004749817281908677, 21, 2, 32.135436926109705, 29), 0.8211051539916305),\n",
       " ((0.00016944253384210248, 35, 9, 75.35963985055767, 38), 0.8246192331732335),\n",
       " ((0.00041445299447388935, 1, 26, 18.16061239608895, 35), 0.8225430215339489),\n",
       " ((0.0006000866220595036, 45, 40, 98.98403551080162, 26), 0.8023393943567076),\n",
       " ((0.0009228635057204404, 9, 22, 97.00272457896126, 27), 0.794900979736785),\n",
       " ((0.0008878958777220676, 8, 41, 57.7544748899872, 22), 0.8030765223939175),\n",
       " ((0.0006200841938761145, 35, 18, 87.68719938489326, 7), 0.8072511311564882),\n",
       " ((0.0008308273868659032, 3, 29, 18.343839571876725, 19), 0.8137065081112017),\n",
       " ((0.0004853316825743678, 35, 16, 76.66143118046708, 24), 0.8149852267343666),\n",
       " ((0.00011192013608150766, 45, 47, 47.80006910512701, 41), 0.8234161519333354),\n",
       " ((6.488508905114112e-05, 8, 12, 76.99964625225473, 47), 0.8231466016476001),\n",
       " ((0.000723868020845903, 10, 14, 77.60190732145844, 6), 0.8114136369735477),\n",
       " ((0.0004400881721140535, 26, 27, 20.57157054062323, 30), 0.8182254670994134),\n",
       " ((0.0006208789991494173, 21, 18, 36.18442577364734, 34), 0.8151197907147584),\n",
       " ((0.00027076569304587163, 7, 47, 53.6541247310196, 22), 0.8241992303842979),\n",
       " ((0.00058221411197706, 13, 15, 2.6455900508837704, 31), 0.8180781071394303),\n",
       " ((0.0008590622156019008, 8, 19, 58.80391586048717, 46), 0.8044902858457458),\n",
       " ((0.0005168408662703027, 5, 42, 81.78502184597842, 21), 0.8192854798415015),\n",
       " ((0.00030003050686461404, 15, 17, 87.44847343364488, 15), 0.825174725571307),\n",
       " ((0.0008313626571430542, 8, 17, 4.052298073107728, 8), 0.8070757815147102),\n",
       " ((0.0007362093587147528, 37, 29, 56.66564234477418, 25), 0.8034117257711165),\n",
       " ((0.00010541724080323609, 49, 36, 86.39554036621969, 8), 0.824100311887039),\n",
       " ((9.584211335631452e-05, 8, 7, 66.57214944497032, 6), 0.8249200173406833),\n",
       " ((0.00035945725966991457, 34, 12, 56.271920372533266, 39),\n",
       "  0.8200167588991478),\n",
       " ((0.00015122872961619786, 38, 23, 16.884458910500054, 34),\n",
       "  0.8242773137951129),\n",
       " ((0.00020644878528288074, 36, 13, 73.2524726044512, 4), 0.8259355281504805),\n",
       " ((0.0002775961581463511, 41, 30, 70.57208990598713, 40), 0.8239090581418644),\n",
       " ((0.0005503896037958086, 13, 20, 32.49262948574828, 31), 0.8166134537307536),\n",
       " ((0.0008435074292171639, 6, 5, 89.01970526642707, 16), 0.8118520313979236),\n",
       " ((0.0007277463661031818, 46, 38, 87.79236246427908, 9), 0.7938446183497521),\n",
       " ((0.00010852218177990884, 34, 47, 34.055377892952464, 11),\n",
       "  0.8236273313759385),\n",
       " ((0.0006212153015112951, 8, 4, 10.737749150762827, 28), 0.8154193506903838),\n",
       " ((0.0007166603352495076, 17, 10, 87.77146588925265, 42), 0.8110443890263109),\n",
       " ((0.000264383584057525, 15, 32, 18.222136058444583, 35), 0.82239346593305),\n",
       " ((0.0009824509433677944, 32, 21, 36.24932775002605, 21), 0.7902884846870143),\n",
       " ((0.00069688840928296, 5, 21, 86.34831036165434, 34), 0.8150664791553492),\n",
       " ((0.0008480694758502231, 7, 12, 98.64503709916958, 46), 0.8091321862408345),\n",
       " ((0.00040662737530212543, 14, 10, 71.47594717996536, 26), 0.8229770218719097),\n",
       " ((0.0005755944497322768, 39, 39, 88.31348557399103, 23), 0.8066354368336449),\n",
       " ((0.00013300044244403972, 46, 35, 18.105601097155702, 37),\n",
       "  0.8235007537427483),\n",
       " ((0.00040185703843242037, 17, 26, 72.56432764173351, 11), 0.820843028951234),\n",
       " ((0.0001026334897695129, 12, 42, 70.7281264262209, 12), 0.8233094922160984),\n",
       " ((0.0007395868946953766, 21, 32, 65.59508007837375, 4), 0.8061714787094746),\n",
       " ((0.0004331847942616756, 48, 5, 2.261333348498646, 19), 0.8184712228927717),\n",
       " ((0.00021341046162458104, 27, 35, 97.0176893146876, 23), 0.8242010931654781),\n",
       " ((0.0005550751396761503, 27, 43, 50.21950482868234, 45), 0.8110809537657743),\n",
       " ((0.0007177404135061187, 7, 41, 92.2948251977029, 44), 0.811646715550173),\n",
       " ((0.0006704601129033702, 1, 8, 7.92308132386215, 31), 0.8216986875160912),\n",
       " ((0.00035704008847662976, 2, 24, 39.45570852955691, 37), 0.8258700656578835),\n",
       " ((0.000983909400028018, 11, 14, 46.28768865103395, 30), 0.7990854874682558),\n",
       " ((0.000757018248464774, 36, 7, 96.54948702588483, 9), 0.7953963630585072),\n",
       " ((0.0006915501410761265, 9, 2, 69.17808153686977, 43), 0.8140487614101013),\n",
       " ((0.000834578704669663, 30, 36, 14.583823013547896, 41), 0.7995499138410996),\n",
       " ((0.00035188090321180076, 25, 44, 4.687789189432072, 12), 0.8199317539746047),\n",
       " ((0.0009535876164191576, 44, 12, 97.65697283232275, 8), 0.7655187304097826),\n",
       " ((0.0009922507085078042, 32, 42, 67.01471731388374, 47), 0.7725946922875511),\n",
       " ((0.0003954867104678598, 7, 45, 84.15577049965079, 23), 0.8226734545996596),\n",
       " ((0.00046172251948387055, 37, 26, 53.80454964134387, 16), 0.8168201910280128),\n",
       " ((0.0006104364356937274, 17, 4, 94.2644877826585, 16), 0.8122707936282914),\n",
       " ((0.0003275666545443359, 43, 20, 48.83696750705454, 49), 0.8200349375817055),\n",
       " ((0.0004956720704696926, 39, 24, 21.5308204134685, 47), 0.8146673313285725),\n",
       " ((0.0007826066722570438, 45, 5, 58.00054917584859, 25), 0.8010321098670712),\n",
       " ((0.0001438815561061442, 36, 10, 85.23091512002728, 4), 0.8259548161170615),\n",
       " ((0.00048012909522560413, 49, 32, 93.81938724862653, 13), 0.8112112469078535),\n",
       " ((0.00023737256140308831, 30, 34, 36.39194761816992, 30), 0.8239085668382334),\n",
       " ((0.000495392922299375, 15, 12, 75.80586806648563, 45), 0.8204313151431231),\n",
       " ((0.00025852312665611103, 15, 9, 75.21005471541548, 21), 0.8255502923212548),\n",
       " ((0.00011264581780832895, 2, 6, 42.05482284513795, 13), 0.8243459804308759),\n",
       " ((0.0002209418244436995, 33, 28, 37.03648456449401, 12), 0.8235670874927564),\n",
       " ((0.00013562182277331372, 37, 22, 27.036827244067798, 32),\n",
       "  0.8238972236141032),\n",
       " ((0.0009470225225204139, 27, 31, 20.38161044141036, 43), 0.7950605768765969),\n",
       " ((0.0003654477804607123, 49, 32, 89.39877942884102, 32), 0.8174038229569747),\n",
       " ((0.0004934016675120293, 36, 44, 11.00945633448574, 49), 0.8150481477908593),\n",
       " ((0.0006905459280894567, 10, 48, 26.5482572148021, 4), 0.8129361536835136),\n",
       " ((0.00044206040336194213, 6, 47, 4.001838297209477, 7), 0.8219573233294277),\n",
       " ((0.00038068772336233444, 14, 38, 75.8312652660817, 45), 0.8199007831521159),\n",
       " ((0.00021382756487704508, 5, 45, 23.4035104070641, 36), 0.823025856220878),\n",
       " ((0.00042979410757137406, 49, 2, 41.720652870250774, 9), 0.8203359716229155),\n",
       " ((0.0004342367583600117, 45, 26, 62.97210395241887, 36), 0.815222975447302),\n",
       " ((0.0009435033461602005, 28, 5, 51.44522536408589, 45), 0.7931283005025548),\n",
       " ((6.672345972270303e-05, 16, 17, 4.244528562168805, 47), 0.8229289403153631),\n",
       " ((0.00042822747393301153, 47, 28, 84.01210999036202, 38), 0.8135578571316454),\n",
       " ((0.0007997094882615587, 3, 31, 8.005140020028051, 43), 0.8154716980954887),\n",
       " ((0.0008983082892047533, 12, 8, 10.10410701052171, 35), 0.8077109130072787),\n",
       " ((0.00039408653337448204, 39, 13, 72.44856755812162, 16), 0.8183732309738982),\n",
       " ((0.00027151690634492475, 42, 18, 58.710154568538414, 8), 0.82408054374361),\n",
       " ((0.0008455170541957401, 47, 30, 37.01857014477183, 17), 0.7972132530690162),\n",
       " ((0.00028588987353566145, 3, 35, 62.34260314072803, 32), 0.8247045304034578),\n",
       " ((0.0003282948465003294, 15, 16, 54.76780080569752, 24), 0.8247450087027858),\n",
       " ((9.904054373205482e-05, 14, 37, 30.888598439873395, 48), 0.8223273790043124),\n",
       " ((0.0006247292449966962, 14, 28, 4.240441086480737, 3), 0.8128496482840791),\n",
       " ((0.0008503154470337155, 22, 23, 78.03442039519, 18), 0.7969855536417734),\n",
       " ((0.0007200688863792225, 39, 12, 83.30947880134681, 47), 0.7974019722558207),\n",
       " ((0.0008882816778563948, 39, 11, 42.705438026382794, 10), 0.7927062890929691),\n",
       " ((0.0009643126049427135, 23, 10, 63.413399114107186, 36), 0.7890140509868205),\n",
       " ((0.0007353426476587183, 26, 33, 12.631320588041891, 8), 0.8088955089694718),\n",
       " ((8.193913923233611e-05, 45, 10, 14.40455561237337, 31), 0.8231089655374091),\n",
       " ((0.0007672117498848732, 14, 10, 98.8309569525325, 43), 0.8077649854240414),\n",
       " ((0.0008042230617322087, 43, 4, 11.759981293300582, 34), 0.8130447258836382),\n",
       " ((0.000310088196075604, 18, 33, 52.32740256576588, 18), 0.8226809991729799),\n",
       " ((0.00035988833460677116, 44, 23, 84.6563295426194, 46), 0.8186399672867031),\n",
       " ((0.00024158835979838221, 14, 44, 64.98559834278161, 38), 0.8231419145759515),\n",
       " ((0.0007894748686375892, 39, 9, 45.67107522512027, 33), 0.8033912528044828),\n",
       " ((0.0008256523459156154, 2, 25, 49.77786572743663, 9), 0.8200709897791586),\n",
       " ((0.0004641686136548324, 22, 10, 38.86158212382637, 43), 0.8193553292737792),\n",
       " ((0.0001808010461958118, 26, 31, 46.20222909049778, 12), 0.8241603526651021),\n",
       " ((0.0009385169652662369, 8, 21, 60.88513426289691, 11), 0.797340066467113),\n",
       " ((0.0006358274485943344, 14, 23, 60.36481466398091, 24), 0.8124264098088089),\n",
       " ((0.00037014354990012475, 20, 28, 64.46935290007114, 4), 0.8198547842890359),\n",
       " ((0.0008954629475386995, 30, 40, 57.66595804576516, 6), 0.7886465257745366),\n",
       " ((0.0007628862886382307, 41, 17, 38.851747202729115, 15), 0.8040313500426565),\n",
       " ((0.0006906517775853772, 8, 31, 15.64565089233104, 19), 0.8146486873459288),\n",
       " ((8.787877893460302e-05, 46, 34, 73.5943645686128, 23), 0.8234613088492339),\n",
       " ((0.0006849880680317878, 19, 49, 6.917443558901054, 24), 0.8103123543324174),\n",
       " ((0.0007778115133119636, 33, 49, 98.85611651425405, 44), 0.789585521863303),\n",
       " ((0.0009945144251650383, 36, 8, 5.979048445350915, 36), 0.797979015191624),\n",
       " ((0.000663406534674175, 19, 41, 84.06636762811122, 39), 0.809633695364065),\n",
       " ((0.0006030966315227846, 39, 44, 89.77556400799423, 42), 0.8044396308895048),\n",
       " ((0.0004475863085442261, 48, 49, 14.535897338075289, 11), 0.8169460479261802),\n",
       " ((0.0009426050315161937, 49, 17, 54.20960373721948, 9), 0.7827431037659713),\n",
       " ((0.0009194065548992391, 12, 14, 40.45081085567028, 3), 0.8022974631493476),\n",
       " ((0.0005552745285056499, 4, 22, 72.21251297339155, 48), 0.8188691110406844),\n",
       " ((0.00032383080045010853, 29, 47, 38.7412487145846, 18), 0.8222209375225304),\n",
       " ((0.0009056621669344305, 49, 26, 71.00592051709548, 41), 0.7821531993321903),\n",
       " ((0.00025387591202049697, 16, 37, 71.708254277466, 35), 0.8224568899105035),\n",
       " ((0.0006327236962533422, 13, 41, 76.44593915562282, 19), 0.8117227787831264),\n",
       " ((0.0009147102731510766, 35, 41, 88.90593964442449, 42), 0.7781510658523356),\n",
       " ((0.0008073611098508395, 23, 42, 63.79715535219479, 3), 0.7966207158140454),\n",
       " ((0.0003872634675309803, 8, 23, 34.62590030164922, 23), 0.8216390195678708),\n",
       " ((0.000980599863158557, 34, 17, 23.135052792059785, 27), 0.7929564270492123),\n",
       " ((0.0005940690890113337, 35, 11, 98.88765626003118, 19), 0.8059361066983157),\n",
       " ((0.0008373540257763782, 13, 11, 50.95335332955611, 36), 0.8104002431000235),\n",
       " ((0.0003669696357749071, 12, 10, 10.336365830467484, 41), 0.8242897650109163),\n",
       " ((0.0004915896509083011, 11, 43, 73.79830311573907, 13), 0.8181077036652901),\n",
       " ((0.0007711342684125082, 7, 14, 1.4035810264643498, 28), 0.8108944093542754),\n",
       " ((5.023845961125409e-05, 35, 39, 88.74416266203048, 6), 0.8232962361120462),\n",
       " ((0.0009824109979731654, 17, 8, 95.1743254945278, 14), 0.7874416283477047),\n",
       " ((0.0008373700134440221, 39, 45, 54.27245673840585, 46), 0.7909159444031365),\n",
       " ((0.0005722635612055345, 13, 12, 49.5580733563516, 28), 0.8199418457815465),\n",
       " ((0.0004490450241977261, 29, 1, 99.36754774839285, 36), 0.8171340850070874),\n",
       " ((0.00016137991889316546, 22, 21, 34.10935264528282, 4), 0.8249054770429886),\n",
       " ((0.0008841376612165929, 4, 4, 39.44212178437686, 23), 0.8147599742683137),\n",
       " ((0.000565708272667693, 33, 45, 59.45391335608946, 41), 0.8102143753328112),\n",
       " ((0.00017238924850047595, 18, 17, 19.82845136923792, 8), 0.8240701105154643),\n",
       " ((0.000731718212673703, 5, 49, 84.08726671439027, 46), 0.8125322019945248),\n",
       " ((0.0007721957915777305, 17, 3, 17.024061649886686, 14), 0.8134176223421539),\n",
       " ((0.000731072610343178, 9, 10, 74.11333188758897, 37), 0.8140302711926466),\n",
       " ((8.203916746041739e-05, 8, 17, 72.24881734900197, 3), 0.8222974843372096),\n",
       " ((0.0004063755538831818, 27, 40, 85.1043599929762, 3), 0.8212722011341674),\n",
       " ((0.00048290847947103676, 44, 24, 97.63171304911457, 40), 0.8106559193741245),\n",
       " ((0.00042492777654110526, 1, 41, 60.77370457358152, 42), 0.8224208338769373),\n",
       " ((0.00028640053316609496, 5, 46, 94.87047866036018, 45), 0.8236635998749814),\n",
       " ((0.0004475689411521476, 1, 10, 28.844135740932675, 21), 0.8225373761692845),\n",
       " ((0.0002687658735231027, 3, 44, 39.65029555634745, 36), 0.8238738425214531),\n",
       " ((0.0007765830296695814, 15, 28, 84.74413717896715, 41), 0.803818585972891),\n",
       " ((0.0001636130333354329, 4, 33, 81.53994343265579, 31), 0.8235046926147034),\n",
       " ((8.773299268649321e-05, 7, 3, 66.65856268630256, 28), 0.8235508861841041),\n",
       " ((0.0009702315980605595, 10, 49, 70.02690306021081, 49), 0.7890402196944194),\n",
       " ((0.00024235713192861876, 21, 26, 26.096407914793144, 29),\n",
       "  0.8236596919077686),\n",
       " ((0.00010298987083271979, 15, 3, 61.46825651771365, 42), 0.8258183132572974),\n",
       " ((0.0007536638586927817, 29, 4, 57.37596052028859, 38), 0.805168088429725),\n",
       " ((0.00044905908753028025, 4, 1, 91.69783052549556, 19), 0.820869932361241),\n",
       " ((0.0005400380777850202, 35, 5, 39.8750065687166, 38), 0.8147054874118069),\n",
       " ((0.0008563461036099524, 34, 12, 48.97907341148786, 27), 0.7969726652238621),\n",
       " ((0.0001841925044464924, 2, 42, 31.916794555527098, 5), 0.8246411119792522),\n",
       " ((0.00013396074380890967, 2, 3, 77.75622532198612, 38), 0.8234598934997125),\n",
       " ((0.0007117368985222819, 35, 37, 35.567106164444965, 7), 0.8068658042032201),\n",
       " ((0.0009045482584936513, 20, 10, 91.29826602412838, 10), 0.7940314840377186),\n",
       " ((0.0004103237958430012, 3, 15, 89.66843533209943, 24), 0.8225282886857365),\n",
       " ((0.000614682774432101, 15, 37, 98.08102881029141, 49), 0.8118591348648189),\n",
       " ((0.0008479894418815364, 32, 20, 41.58964381505093, 15), 0.7996809936344432),\n",
       " ((0.0009679766353438611, 10, 10, 36.15197513130655, 44), 0.8010152538436395),\n",
       " ((0.0006871550140132844, 39, 14, 85.97857345906509, 28), 0.8011565673691735),\n",
       " ((0.0006413063718204669, 39, 23, 62.242623847852805, 49), 0.80926651060951),\n",
       " ((0.0005506260176585527, 9, 26, 21.588371650501927, 24), 0.8169165794809932),\n",
       " ((6.924870092093506e-05, 44, 11, 88.15021265869666, 22), 0.8228356413171967),\n",
       " ((0.0003678954514058163, 38, 42, 81.53044760707225, 12), 0.8199760942999557),\n",
       " ((0.000390124042629206, 18, 13, 85.37107223868789, 15), 0.8217034541380128),\n",
       " ((0.0007355062588917812, 37, 30, 85.42113957699809, 32), 0.795862241272198),\n",
       " ((0.00023836266295908324, 42, 8, 18.041664660912904, 6), 0.822482710160076),\n",
       " ((0.0005195152174240923, 13, 18, 14.893634783052478, 32), 0.8178443435377781),\n",
       " ((0.0005879000501900675, 25, 6, 46.88048429540935, 14), 0.8164691099803335),\n",
       " ((0.0008843492355769222, 46, 46, 50.752723990234756, 35), 0.7874101376734226),\n",
       " ((0.0009817644255904613, 31, 10, 58.702184369926925, 4), 0.7827233889291065),\n",
       " ((0.00015575539399976276, 31, 26, 16.171156980257436, 5), 0.8251159469309618),\n",
       " ((0.0006284984365606528, 6, 11, 69.81446006586317, 15), 0.8186940311925032),\n",
       " ((0.0006904845258022839, 9, 46, 20.70628412604804, 18), 0.8134453787475491),\n",
       " ((0.0002596843805062303, 12, 43, 17.871489303316586, 3), 0.8223020231646412),\n",
       " ((0.0006028721339353553, 47, 28, 65.06677561041654, 8), 0.8066824277959694),\n",
       " ((0.0006117061098349063, 13, 23, 88.51688012116644, 43), 0.8126574712687938),\n",
       " ((0.0005308029543880574, 32, 41, 42.56565154406461, 18), 0.8134495897732338),\n",
       " ((0.0004961144502016536, 46, 48, 45.36688600589216, 28), 0.8150907167888636),\n",
       " ((0.0006664781678502041, 29, 7, 65.83242166852884, 10), 0.8110996857205454),\n",
       " ((0.0001950598055390682, 48, 42, 68.93835448867726, 47), 0.8235729616377886),\n",
       " ((0.0007714812325164821, 49, 5, 38.906733603645336, 36), 0.8074965408261484),\n",
       " ((0.0002942331868267629, 35, 40, 51.356560732728724, 12), 0.8240661519804171),\n",
       " ((0.0009439462207523391, 32, 32, 66.37011918048877, 16), 0.7813381927492212),\n",
       " ((0.00036065280231358725, 31, 10, 81.85216023564986, 38), 0.8205618910903455),\n",
       " ((0.0004991419407731227, 35, 39, 48.15205380592661, 7), 0.8158852603122175),\n",
       " ((0.0005175461197619909, 14, 5, 35.94374906329993, 46), 0.8176711128351317),\n",
       " ((0.00031181232681261556, 14, 2, 9.367312418462532, 38), 0.8254426187380545),\n",
       " ((0.000943634228395701, 19, 13, 36.3415224921425, 38), 0.80159616312427),\n",
       " ((0.0002209315396301942, 25, 23, 77.6420582386958, 43), 0.8245466425128654),\n",
       " ((0.000788970194671338, 21, 20, 37.180652518008955, 38), 0.8066228289242607),\n",
       " ((0.0004448705950970424, 20, 14, 32.691777760040054, 39), 0.8210630260507855),\n",
       " ((0.0002883729881478478, 1, 42, 84.14075112612302, 30), 0.823457078771387),\n",
       " ((0.00045693998008590974, 37, 19, 81.52609287856691, 13), 0.8157992892439379),\n",
       " ((0.00047465465883587954, 11, 44, 71.8171599792251, 12), 0.8184414494371938),\n",
       " ((0.00030035168994653884, 24, 5, 87.07415973456658, 9), 0.8211601848984688),\n",
       " ((0.0005567481117652283, 24, 43, 17.51959047301348, 11), 0.811088246377819),\n",
       " ((0.00014472138480203876, 38, 43, 15.271362937664424, 15),\n",
       "  0.8236762578657315),\n",
       " ((0.0006818012412066806, 33, 15, 91.62162394546012, 10), 0.8020830937799999),\n",
       " ((0.0008845713602356725, 22, 26, 31.219263712475456, 9), 0.8009098282239365),\n",
       " ((0.0007717076258533119, 22, 44, 37.943995043902675, 26), 0.8032841776954374),\n",
       " ((0.0006227688597753235, 16, 44, 58.67142131661055, 46), 0.812029783673559),\n",
       " ((0.00021709889936372693, 38, 3, 90.5873298960731, 38), 0.8257894208959716),\n",
       " ((0.00024957103114310554, 25, 31, 67.91463265703396, 29), 0.8245388477812367),\n",
       " ((0.00015421110525161636, 49, 8, 40.88846119185796, 4), 0.8228994433786768),\n",
       " ((0.0008149430801344883, 42, 42, 45.50523624263331, 41), 0.7953789631960867)]"
      ]
     },
     "execution_count": 54,
     "metadata": {},
     "output_type": "execute_result"
    }
   ],
   "source": [
    "search_results"
   ]
  },
  {
   "cell_type": "markdown",
   "metadata": {},
   "source": [
    "# T-test stuff"
   ]
  },
  {
   "cell_type": "code",
   "execution_count": 305,
   "metadata": {},
   "outputs": [
    {
     "name": "stdout",
     "output_type": "stream",
     "text": [
      "Writing logs to: django-retrieval-testing/logs.txt\n"
     ]
    }
   ],
   "source": [
    "model = AutoregressiveTransformer(vocab_size=vocab_size, embed_dim=embed_dim, att_heads=att_heads, \\\n",
    "                                  layers=layers, dim_feedforward=dim_feedforward, max_seq_length=50, \\\n",
    "                                  output_nudge_fn=retrieval_decoder_fn).to(device)\n",
    "model.eval()\n",
    "model.load_model(model_save_file)\n",
    "trainer = Model_Trainer(model, vocab, output_dir=output_dir)"
   ]
  },
  {
   "cell_type": "code",
   "execution_count": 306,
   "metadata": {},
   "outputs": [
    {
     "data": {
      "application/vnd.jupyter.widget-view+json": {
       "model_id": "61c06cbd18f3434ab8c76ec82832ac21",
       "version_major": 2,
       "version_minor": 0
      },
      "text/plain": [
       "HBox(children=(IntProgress(value=0, max=59), HTML(value='')))"
      ]
     },
     "metadata": {},
     "output_type": "display_data"
    },
    {
     "name": "stdout",
     "output_type": "stream",
     "text": [
      "\n"
     ]
    }
   ],
   "source": [
    "outputs = trainer.evaluate(test_iterator)"
   ]
  },
  {
   "cell_type": "code",
   "execution_count": 330,
   "metadata": {},
   "outputs": [
    {
     "data": {
      "text/plain": [
       "0.7873712048124596"
      ]
     },
     "execution_count": 330,
     "metadata": {},
     "output_type": "execute_result"
    }
   ],
   "source": [
    "relev_results = [out[\"BLEU\"] for out in outputs]\n",
    "np.average(relev_results)"
   ]
  },
  {
   "cell_type": "code",
   "execution_count": 210,
   "metadata": {},
   "outputs": [
    {
     "data": {
      "text/plain": [
       "0.17308943249100314"
      ]
     },
     "execution_count": 210,
     "metadata": {},
     "output_type": "execute_result"
    }
   ],
   "source": [
    "base_results = [out[\"BLEU\"] for out in outputs]\n",
    "np.average(base_results)"
   ]
  },
  {
   "cell_type": "code",
   "execution_count": 331,
   "metadata": {},
   "outputs": [
    {
     "data": {
      "text/plain": [
       "Ttest_indResult(statistic=0.0, pvalue=1.0)"
      ]
     },
     "execution_count": 331,
     "metadata": {},
     "output_type": "execute_result"
    }
   ],
   "source": [
    "from scipy import stats\n",
    "stats.ttest_ind(regular_results,relev_results)"
   ]
  },
  {
   "cell_type": "code",
   "execution_count": 304,
   "metadata": {},
   "outputs": [
    {
     "name": "stdout",
     "output_type": "stream",
     "text": [
      "JVM Running\n"
     ]
    }
   ],
   "source": [
    "retrieval_decoder_fn = retrieval_output_nudging_creator(oracle=False, \n",
    "                                                        relevance_interpol=0.0003, \n",
    "                                                        k_docs=10, \n",
    "                                                        k_words=10,  \n",
    "                                                        peak_scaling_factor=96.0, \n",
    "                                                        num_stop_words=17)"
   ]
  },
  {
   "cell_type": "code",
   "execution_count": null,
   "metadata": {},
   "outputs": [],
   "source": []
  }
 ],
 "metadata": {
  "kernelspec": {
   "display_name": "Python 3",
   "language": "python",
   "name": "python3"
  },
  "language_info": {
   "codemirror_mode": {
    "name": "ipython",
    "version": 3
   },
   "file_extension": ".py",
   "mimetype": "text/x-python",
   "name": "python",
   "nbconvert_exporter": "python",
   "pygments_lexer": "ipython3",
   "version": "3.6.9"
  }
 },
 "nbformat": 4,
 "nbformat_minor": 4
}

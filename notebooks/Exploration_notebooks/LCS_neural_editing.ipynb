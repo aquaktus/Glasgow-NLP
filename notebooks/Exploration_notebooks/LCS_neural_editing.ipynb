{
 "cells": [
  {
   "cell_type": "code",
   "execution_count": 1,
   "metadata": {},
   "outputs": [],
   "source": [
    "from src.edit_tagger import lcs, lcs_traceback, bi_directional_traceback, perform_edit, random_edit\n",
    "import torchtext\n",
    "from torchtext.data import Field, BucketIterator\n",
    "from src.vocab_classes import Shared_Vocab\n",
    "import torch\n",
    "import torch.nn as nn\n",
    "from src.BERT_style_modules import BERTStyleEncoder, BERTStyleDecoder\n",
    "from src.exposed_transformer import Transformer\n",
    "from torch.nn.modules.activation import MultiheadAttention\n",
    "import math\n",
    "import numpy as np\n",
    "from src.trainers import Model_Trainer\n",
    "import random\n",
    "\n",
    "%load_ext autoreload\n",
    "%autoreload 2"
   ]
  },
  {
   "cell_type": "code",
   "execution_count": 32,
   "metadata": {},
   "outputs": [
    {
     "data": {
      "text/plain": [
       "tensor([[0.7083, 1.0442, 0.4933],\n",
       "        [0.5611, 1.1759, 0.7063],\n",
       "        [0.4835, 0.7634, 0.4113]])"
      ]
     },
     "execution_count": 32,
     "metadata": {},
     "output_type": "execute_result"
    }
   ],
   "source": [
    "a = torch.rand(3,3) # B x D\n",
    "b = torch.rand(3,3).T # B x D\n",
    "torch.mm(a,b)"
   ]
  },
  {
   "cell_type": "code",
   "execution_count": 36,
   "metadata": {},
   "outputs": [],
   "source": [
    "import tensorflow as tf"
   ]
  },
  {
   "cell_type": "code",
   "execution_count": 39,
   "metadata": {},
   "outputs": [
    {
     "data": {
      "text/plain": [
       "<tf.Tensor: id=6, shape=(), dtype=float32, numpy=4.0>"
      ]
     },
     "execution_count": 39,
     "metadata": {},
     "output_type": "execute_result"
    }
   ],
   "source": [
    "tf_a = tf.constant([1.0,2,3,4])\n",
    "tf.reduce_max(tf_a)"
   ]
  },
  {
   "cell_type": "code",
   "execution_count": 38,
   "metadata": {},
   "outputs": [
    {
     "data": {
      "text/plain": [
       "<tf.Tensor: id=3, shape=(4,), dtype=float32, numpy=array([1., 2., 3., 4.], dtype=float32)>"
      ]
     },
     "execution_count": 38,
     "metadata": {},
     "output_type": "execute_result"
    }
   ],
   "source": [
    "tf.maximum(0., tf_a)"
   ]
  },
  {
   "cell_type": "code",
   "execution_count": 41,
   "metadata": {},
   "outputs": [
    {
     "data": {
      "text/plain": [
       "tensor([[0.5794, 0.1694, 0.9146],\n",
       "        [0.0839, 0.7236, 0.6458],\n",
       "        [0.4473, 0.2983, 0.3775]])"
      ]
     },
     "execution_count": 41,
     "metadata": {},
     "output_type": "execute_result"
    }
   ],
   "source": [
    "a"
   ]
  },
  {
   "cell_type": "code",
   "execution_count": 42,
   "metadata": {},
   "outputs": [
    {
     "data": {
      "text/plain": [
       "tensor([0.5794, 0.7236, 0.3775])"
      ]
     },
     "execution_count": 42,
     "metadata": {},
     "output_type": "execute_result"
    }
   ],
   "source": [
    "torch.diagonal(a)"
   ]
  },
  {
   "cell_type": "code",
   "execution_count": 33,
   "metadata": {},
   "outputs": [],
   "source": [
    "neg_matrix = torch.diag(tensor.new_full((3,), float('-inf')))"
   ]
  },
  {
   "cell_type": "code",
   "execution_count": 40,
   "metadata": {},
   "outputs": [
    {
     "data": {
      "text/plain": [
       "torch.return_types.max(\n",
       "values=tensor([0.9146, 0.6458, 0.4473]),\n",
       "indices=tensor([2, 2, 0]))"
      ]
     },
     "execution_count": 40,
     "metadata": {},
     "output_type": "execute_result"
    }
   ],
   "source": [
    "torch.max(torch.relu(a+neg_matrix), dim=-1)"
   ]
  },
  {
   "cell_type": "code",
   "execution_count": 27,
   "metadata": {},
   "outputs": [
    {
     "data": {
      "text/plain": [
       "torch.return_types.max(\n",
       "values=tensor([[0.9518],\n",
       "        [0.9623],\n",
       "        [0.9947]]),\n",
       "indices=tensor([[1],\n",
       "        [2],\n",
       "        [0]]))"
      ]
     },
     "execution_count": 27,
     "metadata": {},
     "output_type": "execute_result"
    }
   ],
   "source": [
    "torch.max(a, dim=-1, keepdim=True)"
   ]
  },
  {
   "cell_type": "code",
   "execution_count": 24,
   "metadata": {},
   "outputs": [
    {
     "data": {
      "text/plain": [
       "tensor([[-inf, 0., 0.],\n",
       "        [0., -inf, 0.],\n",
       "        [0., 0., -inf]])"
      ]
     },
     "execution_count": 24,
     "metadata": {},
     "output_type": "execute_result"
    }
   ],
   "source": [
    "tensor = torch.ones(())\n",
    "torch.diag(tensor.new_full((3,), float('-inf')))"
   ]
  },
  {
   "cell_type": "code",
   "execution_count": 2,
   "metadata": {},
   "outputs": [
    {
     "data": {
      "text/plain": [
       "[('Insert', 'C', 0), ('Delete', 'A', 0)]"
      ]
     },
     "execution_count": 2,
     "metadata": {},
     "output_type": "execute_result"
    }
   ],
   "source": [
    "start  = \"ABC\"\n",
    "target = \"CBC\"\n",
    "bi_directional_traceback(start, target)"
   ]
  },
  {
   "cell_type": "code",
   "execution_count": 3,
   "metadata": {},
   "outputs": [
    {
     "data": {
      "text/plain": [
       "['B', 'B', 'C', 'C']"
      ]
     },
     "execution_count": 3,
     "metadata": {},
     "output_type": "execute_result"
    }
   ],
   "source": [
    "perform_edit(\"BBC\",('Insert', 'C', 3))"
   ]
  },
  {
   "cell_type": "code",
   "execution_count": 4,
   "metadata": {},
   "outputs": [
    {
     "data": {
      "text/plain": [
       "['B', 'B', 'A', 'C']"
      ]
     },
     "execution_count": 4,
     "metadata": {},
     "output_type": "execute_result"
    }
   ],
   "source": [
    "random_edit(\"BBC\",[\"A\",\"B\",\"C\"])"
   ]
  },
  {
   "cell_type": "code",
   "execution_count": 5,
   "metadata": {},
   "outputs": [],
   "source": [
    "def sample_random_edits(seq, edit_depth=2, num_samples=100):\n",
    "    samples = []\n",
    "    for i in range(num_samples):\n",
    "        edit_seq = seq[:]\n",
    "        for j in range(edit_depth):\n",
    "            edit_seq = random_edit(edit_seq,[\"A\",\"B\",\"C\",\"D\",\"E\"])\n",
    "        samples.append(edit_seq)\n",
    "    return samples"
   ]
  },
  {
   "cell_type": "code",
   "execution_count": 6,
   "metadata": {},
   "outputs": [],
   "source": [
    "def only_unique(list_data):\n",
    "    return list(map(list, set(map(lambda i: tuple(i), list_data))))"
   ]
  },
  {
   "cell_type": "code",
   "execution_count": 7,
   "metadata": {},
   "outputs": [],
   "source": [
    "def balance_actions(list_data):\n",
    "    only_deletes = [x for x in list_data if x[2][0] == \"Delete\"]\n",
    "    only_inserts = [x for x in list_data if x[2][0] == \"Insert\"]\n",
    "    equal_deletes = only_deletes[:len(only_inserts)]\n",
    "    equal_inserts = only_inserts[:len(only_deletes)]\n",
    "    balanced_data = equal_inserts + equal_deletes\n",
    "    random.shuffle(balanced_data)\n",
    "    return balanced_data"
   ]
  },
  {
   "cell_type": "code",
   "execution_count": 9,
   "metadata": {},
   "outputs": [],
   "source": [
    "target_seq = [\"B\",\"B\",\"C\"]\n",
    "moving_starting_points = only_unique(sample_random_edits(target_seq, edit_depth=4, num_samples=1000))\n",
    "\n",
    "edit_dataset = []\n",
    "for start_seq in moving_starting_points:\n",
    "    edits = bi_directional_traceback(start_seq, target_seq)\n",
    "    for edit in edits:\n",
    "        sample = (start_seq, target_seq, edit)\n",
    "        edit_dataset.append(sample)\n",
    "edit_dataset = balance_actions(edit_dataset)"
   ]
  },
  {
   "cell_type": "code",
   "execution_count": 10,
   "metadata": {},
   "outputs": [
    {
     "name": "stdout",
     "output_type": "stream",
     "text": [
      "filtered edit dataset size: 444\n"
     ]
    },
    {
     "data": {
      "text/plain": [
       "[(['A', 'B', 'B', 'C', 'B'], ['B', 'B', 'C'], ('Delete', 'A', 0)),\n",
       " (['B', 'C', 'D', 'D'], ['B', 'B', 'C'], ('Insert', 'B', 0)),\n",
       " (['B', 'B', 'A', 'B'], ['B', 'B', 'C'], ('Insert', 'C', 2)),\n",
       " (['D', 'B', 'E'], ['B', 'B', 'C'], ('Insert', 'C', 2)),\n",
       " (['B', 'B'], ['B', 'B', 'C'], ('Insert', 'C', 2)),\n",
       " (['E', 'B', 'C', 'B', 'B'], ['B', 'B', 'C'], ('Delete', 'C', 2)),\n",
       " (['C', 'E', 'B', 'C', 'A'], ['B', 'B', 'C'], ('Insert', 'B', 2)),\n",
       " (['C', 'B', 'E', 'B', 'B'], ['B', 'B', 'C'], ('Insert', 'C', 4)),\n",
       " (['B'], ['B', 'B', 'C'], ('Insert', 'C', 1)),\n",
       " (['B', 'B', 'E', 'B', 'D'], ['B', 'B', 'C'], ('Delete', 'D', 4))]"
      ]
     },
     "execution_count": 10,
     "metadata": {},
     "output_type": "execute_result"
    }
   ],
   "source": [
    "print(f\"filtered edit dataset size: {len(edit_dataset)}\")\n",
    "edit_dataset[:10]"
   ]
  },
  {
   "cell_type": "code",
   "execution_count": 11,
   "metadata": {},
   "outputs": [],
   "source": [
    "class Simple_Edit_Vocab():\n",
    "    def __init__(self, vocab_tokens, tokenizer_fn):\n",
    "        self.tokenizer_fn = tokenizer_fn\n",
    "        \n",
    "        self.action_stoi = {\"Delete\":0, \"Insert\":1, \"None\":2}\n",
    "        self.action_itos = [\"Delete\", \"Insert\", \"None\"]\n",
    "        self.token_stoi = {\"[PAD]\":0, \"[EOS]\":1}\n",
    "        self.token_itos = [\"[PAD]\",\"[EOS]\"]\n",
    "        for tok in vocab_tokens:\n",
    "            self.token_stoi[tok] = len(self.token_stoi)\n",
    "            self.token_itos.append(tok)\n",
    "        \n",
    "        self.PAD = self.token_stoi[\"[PAD]\"]\n",
    "        self.EOS = self.token_stoi[\"[EOS]\"]\n",
    "        self.action_size = len(self.action_stoi)\n",
    "        self.token_size = len(self.token_stoi)\n",
    "    \n",
    "    def encode_sent(self, string):\n",
    "        words = self.tokenizer_fn(string)\n",
    "        return encode_list(words)\n",
    "    \n",
    "    def encode_list(self, l):\n",
    "        IDs = []\n",
    "        for word in l:\n",
    "            id = self.token_stoi[word]\n",
    "            IDs.append(id)\n",
    "        return IDs\n",
    "    \n",
    "    def encode_edit(self, edit, OOV_ids=[]):\n",
    "        action, tok, pos = edit\n",
    "        if pos == None:\n",
    "            pos = -1\n",
    "        return (self.action_stoi[action], self.token_stoi[tok], pos)\n",
    "    \n",
    "    def decode_sent(self,ids):\n",
    "        return \" \".join([self.stoi[idx] for idx in ids])\n",
    "    \n",
    "    def decode_edit(self,edit):\n",
    "        action_id, tok_id, pos = edit\n",
    "        return (self.action_itos[action_id], self.token_itos[tok_id], pos)"
   ]
  },
  {
   "cell_type": "code",
   "execution_count": 12,
   "metadata": {},
   "outputs": [],
   "source": [
    "vocab = Simple_Edit_Vocab([\"A\",\"B\",\"C\",\"D\",\"E\"],tokenizer_fn=str.split)"
   ]
  },
  {
   "cell_type": "code",
   "execution_count": 13,
   "metadata": {},
   "outputs": [
    {
     "name": "stdout",
     "output_type": "stream",
     "text": [
      "(['A', 'B', 'C', 'D'], ['B', 'B', 'C'], ('Insert', 'B', 1))\n"
     ]
    },
    {
     "data": {
      "text/plain": [
       "(1, 3, 1)"
      ]
     },
     "execution_count": 13,
     "metadata": {},
     "output_type": "execute_result"
    }
   ],
   "source": [
    "sample = edit_dataset[11]\n",
    "print(sample)\n",
    "\n",
    "start, target, edit = sample\n",
    "vocab.encode_edit(edit)"
   ]
  },
  {
   "cell_type": "code",
   "execution_count": 40,
   "metadata": {},
   "outputs": [],
   "source": [
    "class EditTransformer(nn.Module):\n",
    "\n",
    "    def __init__(self, action_vocab_size=2, token_vocab_size=1000, embed_dim=768, att_heads=8, layers=4, dim_feedforward=1024, dropout=0.1):\n",
    "        super(EditTransformer, self).__init__()\n",
    "        self.action_vocab_size = action_vocab_size\n",
    "        self.token_vocab_size = token_vocab_size\n",
    "        self.embedding_size = embed_dim\n",
    "        self.bert_encoder_model = BERTStyleEncoder(vocab_size=token_vocab_size, dim_model=embed_dim, nhead=att_heads, \\\n",
    "                 num_encoder_layers=layers, d_feed=dim_feedforward, dropout=dropout)\n",
    "        \n",
    "        self.src_embedder = self.bert_encoder_model.embedder\n",
    "        self.src_encoder = self.bert_encoder_model.encoder\n",
    "        \n",
    "        self.bert_decoder_model = BERTStyleDecoder(vocab_size=token_vocab_size, dim_model=embed_dim, nhead=att_heads, \\\n",
    "                 num_encoder_layers=layers, d_feed=dim_feedforward, dropout=dropout)\n",
    "        \n",
    "        self.tgt_embedder = self.bert_encoder_model.embedder # nn.Embedding(vocab_size, embed_dim)\n",
    "        self.tgt_decoder = self.bert_decoder_model.decoder\n",
    "        \n",
    "        ACT = torch.tensor(np.random.rand(embed_dim)*1e-2, \\\n",
    "                                requires_grad=True, \\\n",
    "                                dtype=torch.float32)\n",
    "        self.ACT = torch.nn.Parameter(ACT)\n",
    "        \n",
    "        self.action_attn = MultiheadAttention(embed_dim, 1, dropout=dropout)\n",
    "        \n",
    "        self.transformer = Transformer(d_model=embed_dim,\n",
    "                                       nhead=att_heads, \n",
    "                                       num_encoder_layers=layers, \n",
    "                                       num_decoder_layers=layers, \n",
    "                                       dim_feedforward=dim_feedforward,\n",
    "                                       custom_encoder=self.src_encoder,\n",
    "                                       custom_decoder=self.tgt_decoder)\n",
    "        self.action_decoder = nn.Linear(embed_dim, action_vocab_size)\n",
    "        self.token_decoder = nn.Linear(embed_dim, token_vocab_size)\n",
    "        self.device = torch.device(\"cuda\" if torch.cuda.is_available() else \"cpu\")\n",
    "        self.params = self.parameters()\n",
    "        self.stats = {}\n",
    "        self.init_weights()\n",
    "    \n",
    "    def init_train_params(self, vocab, lr=0.005, gamma=0.99):\n",
    "        self.action_criterion = nn.CrossEntropyLoss()\n",
    "        self.token_criterion = nn.CrossEntropyLoss(ignore_index=vocab.PAD)\n",
    "        self.position_criterion = nn.CrossEntropyLoss(ignore_index=-1)\n",
    "        self.optimizer = torch.optim.SGD(self.params, lr=lr)\n",
    "        self.scheduler = torch.optim.lr_scheduler.StepLR(self.optimizer, 1.0, gamma=gamma)\n",
    "\n",
    "    def init_weights(self):\n",
    "        initrange = 0.1\n",
    "        \n",
    "        self.action_decoder.bias.data.zero_()\n",
    "        self.action_decoder.weight.data.uniform_(-initrange, initrange)\n",
    "        self.token_decoder.bias.data.zero_()\n",
    "        self.token_decoder.weight.data.uniform_(-initrange, initrange)\n",
    "        \n",
    "\n",
    "    def forward(self, src, tgt):        \n",
    "        src_emb = self.src_embedder(src) * math.sqrt(self.embedding_size)\n",
    "        tgt_emb = self.tgt_embedder(tgt) * math.sqrt(self.embedding_size)\n",
    "        \n",
    "        output, _ = self.transformer(src_emb, tgt_emb)\n",
    "        batch_size = output.shape[1]\n",
    "        action_embed = self.ACT.repeat(1,batch_size,1)\n",
    "        action_out, atts = self.action_attn(action_embed, output, output)\n",
    "        action_dist = self.action_decoder(action_out).squeeze(0)\n",
    "        token_dist = self.token_decoder(action_out).squeeze(0)\n",
    "        atts = atts.squeeze(1)\n",
    "        \n",
    "        return action_dist, token_dist, atts\n",
    "    \n",
    "    def train_step(self, batch):\n",
    "        encoder_input = batch.target\n",
    "        decoder_input = batch.start\n",
    "        action_id = batch.action_id\n",
    "        token_id = batch.token_id\n",
    "        action_pos = batch.action_pos\n",
    "        batch_max_seq_len = decoder_input.shape[0]\n",
    "        \n",
    "        self.optimizer.zero_grad()\n",
    "        actions, tokens, positions = self(encoder_input, decoder_input)\n",
    "        \n",
    "        action_loss = self.action_criterion(actions.view(-1, self.action_vocab_size), action_id.view(-1))\n",
    "        token_loss = self.token_criterion(tokens.view(-1, self.token_vocab_size), token_id.view(-1))\n",
    "        position_loss = self.position_criterion(positions.view(-1, batch_max_seq_len), action_pos.view(-1))\n",
    "        loss = action_loss + token_loss + position_loss\n",
    "        loss.backward()\n",
    "        torch.nn.utils.clip_grad_norm_(self.params, 0.5)\n",
    "        self.optimizer.step()\n",
    "        return loss\n",
    "    \n",
    "    def data2dataset(self, data, vocab):\n",
    "        TEXT_FIELD = Field(sequential=True, use_vocab=False, pad_token=vocab.PAD)\n",
    "        POS_FIELD = Field(sequential=True, use_vocab=False, pad_token=-1)\n",
    "\n",
    "        examples = []\n",
    "\n",
    "        for (start, target, edit) in data:\n",
    "            start_ids = vocab.encode_list(start) + [vocab.EOS]\n",
    "            target_ids = vocab.encode_list(target)\n",
    "            action_id, token_id, action_pos = vocab.encode_edit(edit)\n",
    "            if action_id == vocab.action_stoi[\"Delete\"]:\n",
    "                token_id = vocab.PAD\n",
    "\n",
    "            example = torchtext.data.Example.fromdict({\"start\":start_ids, \n",
    "                                                   \"target\":target_ids, \n",
    "                                                   \"action_id\":[action_id],\n",
    "                                                   \"token_id\":[token_id],\n",
    "                                                   \"action_pos\":[action_pos]}, \n",
    "                                                        fields={\"start\":(\"start\",TEXT_FIELD), \n",
    "                                                                \"target\":(\"target\",TEXT_FIELD), \n",
    "                                                                \"action_id\":(\"action_id\", TEXT_FIELD),\n",
    "                                                                \"token_id\":(\"token_id\", TEXT_FIELD),\n",
    "                                                                \"action_pos\":(\"action_pos\", POS_FIELD)})\n",
    "            examples.append(example)\n",
    "        fields = {\"start\":TEXT_FIELD, \"target\":TEXT_FIELD, \"action_id\":TEXT_FIELD, \"token_id\":TEXT_FIELD, \"action_pos\":POS_FIELD}\n",
    "        dataset = torchtext.data.Dataset(examples,fields=fields)\n",
    "        return dataset"
   ]
  },
  {
   "cell_type": "code",
   "execution_count": null,
   "metadata": {},
   "outputs": [],
   "source": []
  },
  {
   "cell_type": "code",
   "execution_count": 41,
   "metadata": {},
   "outputs": [],
   "source": [
    "model = EditTransformer(action_vocab_size=vocab.action_size, token_vocab_size=vocab.token_size).to(\"cuda\")\n",
    "model.init_train_params(vocab)"
   ]
  },
  {
   "cell_type": "code",
   "execution_count": 42,
   "metadata": {},
   "outputs": [],
   "source": [
    "dataset = model.data2dataset(edit_dataset, vocab)"
   ]
  },
  {
   "cell_type": "code",
   "execution_count": 43,
   "metadata": {},
   "outputs": [],
   "source": [
    "train_iterator = BucketIterator(\n",
    "    dataset,\n",
    "    batch_size = 16,\n",
    "    repeat=True,\n",
    "    shuffle=True,\n",
    "    device = \"cuda\")"
   ]
  },
  {
   "cell_type": "code",
   "execution_count": 44,
   "metadata": {},
   "outputs": [
    {
     "name": "stdout",
     "output_type": "stream",
     "text": [
      "start: tensor([[6, 3, 4, 3, 4, 3, 3, 4, 3, 2, 4, 4, 3, 4, 3, 4],\n",
      "        [3, 2, 3, 3, 3, 3, 4, 3, 4, 3, 4, 5, 6, 2, 4, 5],\n",
      "        [6, 4, 4, 5, 3, 3, 5, 3, 5, 5, 3, 4, 6, 5, 5, 3],\n",
      "        [1, 4, 5, 4, 3, 4, 5, 2, 4, 3, 4, 3, 4, 1, 5, 3],\n",
      "        [0, 3, 1, 6, 1, 2, 1, 1, 1, 4, 5, 3, 4, 0, 4, 4],\n",
      "        [0, 1, 0, 4, 0, 2, 0, 0, 0, 1, 1, 5, 1, 0, 1, 6],\n",
      "        [0, 0, 0, 1, 0, 1, 0, 0, 0, 0, 0, 4, 0, 0, 0, 3],\n",
      "        [0, 0, 0, 0, 0, 0, 0, 0, 0, 0, 0, 1, 0, 0, 0, 1]], device='cuda:0')\n",
      "target: tensor([[3, 3, 3, 3, 3, 3, 3, 3, 3, 3, 3, 3, 3, 3, 3, 3],\n",
      "        [3, 3, 3, 3, 3, 3, 3, 3, 3, 3, 3, 3, 3, 3, 3, 3],\n",
      "        [4, 4, 4, 4, 4, 4, 4, 4, 4, 4, 4, 4, 4, 4, 4, 4]], device='cuda:0')\n",
      "action_id: tensor([[1, 0, 1, 0, 1, 0, 1, 1, 1, 0, 1, 0, 0, 0, 0, 0]], device='cuda:0')\n",
      "token_id: tensor([[4, 0, 3, 0, 4, 0, 3, 4, 3, 0, 3, 0, 0, 0, 0, 0]], device='cuda:0')\n",
      "action_pos: tensor([[2, 2, 1, 2, 3, 2, 0, 3, 2, 2, 2, 5, 3, 2, 1, 6]], device='cuda:0')\n"
     ]
    }
   ],
   "source": [
    "for batch in train_iterator:\n",
    "    print(f\"start: {batch.start}\")\n",
    "    print(f\"target: {batch.target}\")\n",
    "    print(f\"action_id: {batch.action_id}\")\n",
    "    print(f\"token_id: {batch.token_id}\")\n",
    "    print(f\"action_pos: {batch.action_pos}\")\n",
    "    break"
   ]
  },
  {
   "cell_type": "code",
   "execution_count": 45,
   "metadata": {},
   "outputs": [
    {
     "name": "stdout",
     "output_type": "stream",
     "text": [
      "tensor([[6, 3, 6, 2, 2, 1, 4, 3, 3, 3, 5, 3, 6, 3, 3, 6],\n",
      "        [4, 3, 3, 3, 3, 0, 6, 5, 2, 3, 3, 2, 3, 5, 2, 3],\n",
      "        [1, 3, 2, 4, 2, 0, 3, 1, 3, 2, 6, 2, 4, 1, 3, 2],\n",
      "        [0, 4, 1, 4, 4, 0, 3, 0, 1, 3, 3, 2, 5, 0, 6, 2],\n",
      "        [0, 1, 0, 2, 4, 0, 6, 0, 0, 6, 1, 3, 2, 0, 3, 4],\n",
      "        [0, 0, 0, 1, 1, 0, 1, 0, 0, 1, 0, 1, 1, 0, 4, 1],\n",
      "        [0, 0, 0, 0, 0, 0, 0, 0, 0, 0, 0, 0, 0, 0, 4, 0],\n",
      "        [0, 0, 0, 0, 0, 0, 0, 0, 0, 0, 0, 0, 0, 0, 1, 0]], device='cuda:0') tensor([[3, 3, 3, 3, 3, 3, 3, 3, 3, 3, 3, 3, 3, 3, 3, 3],\n",
      "        [3, 3, 3, 3, 3, 3, 3, 3, 3, 3, 3, 3, 3, 3, 3, 3],\n",
      "        [4, 4, 4, 4, 4, 4, 4, 4, 4, 4, 4, 4, 4, 4, 4, 4]], device='cuda:0')\n",
      "torch.Size([16, 3]) torch.Size([16, 7])\n"
     ]
    }
   ],
   "source": [
    "it = iter(train_iterator)\n",
    "batch = next(it)\n",
    "start = batch.start\n",
    "target = batch.target\n",
    "print(start, target)\n",
    "outputs = model(target, start)\n",
    "print(outputs[0].shape, outputs[1].shape)"
   ]
  },
  {
   "cell_type": "code",
   "execution_count": 46,
   "metadata": {},
   "outputs": [
    {
     "data": {
      "text/plain": [
       "tensor(5.7881, device='cuda:0', grad_fn=<AddBackward0>)"
      ]
     },
     "execution_count": 46,
     "metadata": {},
     "output_type": "execute_result"
    }
   ],
   "source": [
    "model.train_step(batch)"
   ]
  },
  {
   "cell_type": "code",
   "execution_count": 47,
   "metadata": {},
   "outputs": [
    {
     "name": "stdout",
     "output_type": "stream",
     "text": [
      "'output_dir' not defined, training and model outputs won't be saved.\n"
     ]
    }
   ],
   "source": [
    "trainer = Model_Trainer(model, vocab)"
   ]
  },
  {
   "cell_type": "code",
   "execution_count": 63,
   "metadata": {
    "collapsed": true,
    "jupyter": {
     "outputs_hidden": true
    }
   },
   "outputs": [
    {
     "data": {
      "application/vnd.jupyter.widget-view+json": {
       "model_id": "6c8b9d20cbb8405991c3dee0f67dc7b7",
       "version_major": 2,
       "version_minor": 0
      },
      "text/plain": [
       "HBox(children=(FloatProgress(value=0.0, max=10000.0), HTML(value='')))"
      ]
     },
     "metadata": {},
     "output_type": "display_data"
    },
    {
     "ename": "KeyboardInterrupt",
     "evalue": "",
     "output_type": "error",
     "traceback": [
      "\u001b[0;31m---------------------------------------------------------------------------\u001b[0m",
      "\u001b[0;31mKeyboardInterrupt\u001b[0m                         Traceback (most recent call last)",
      "\u001b[0;32m<ipython-input-63-3ac8d328c817>\u001b[0m in \u001b[0;36m<module>\u001b[0;34m\u001b[0m\n\u001b[0;32m----> 1\u001b[0;31m \u001b[0mtrain_logs\u001b[0m \u001b[0;34m=\u001b[0m \u001b[0mtrainer\u001b[0m\u001b[0;34m.\u001b[0m\u001b[0mtrain\u001b[0m\u001b[0;34m(\u001b[0m\u001b[0mmodel\u001b[0m\u001b[0;34m,\u001b[0m \u001b[0mtrain_iterator\u001b[0m\u001b[0;34m,\u001b[0m \u001b[0;36m10000\u001b[0m\u001b[0;34m,\u001b[0m \u001b[0msave_interval\u001b[0m\u001b[0;34m=\u001b[0m\u001b[0;36m10000000\u001b[0m\u001b[0;34m)\u001b[0m\u001b[0;34m\u001b[0m\u001b[0;34m\u001b[0m\u001b[0m\n\u001b[0m",
      "\u001b[0;32m/nfs/phd_by_carlos/notebooks/src/trainers.py\u001b[0m in \u001b[0;36mtrain\u001b[0;34m(self, model, iterator, steps, log_interval, eval_interval, save_interval, learning_interval)\u001b[0m\n\u001b[1;32m     47\u001b[0m         \u001b[0mpbar\u001b[0m \u001b[0;34m=\u001b[0m \u001b[0mtqdm\u001b[0m\u001b[0;34m.\u001b[0m\u001b[0mtqdm\u001b[0m\u001b[0;34m(\u001b[0m\u001b[0miterator\u001b[0m\u001b[0;34m,\u001b[0m \u001b[0mtotal\u001b[0m\u001b[0;34m=\u001b[0m\u001b[0msteps\u001b[0m\u001b[0;34m)\u001b[0m\u001b[0;34m\u001b[0m\u001b[0;34m\u001b[0m\u001b[0m\n\u001b[1;32m     48\u001b[0m         \u001b[0;32mfor\u001b[0m \u001b[0mbatch\u001b[0m \u001b[0;32min\u001b[0m \u001b[0mpbar\u001b[0m\u001b[0;34m:\u001b[0m\u001b[0;34m\u001b[0m\u001b[0;34m\u001b[0m\u001b[0m\n\u001b[0;32m---> 49\u001b[0;31m             \u001b[0mloss\u001b[0m \u001b[0;34m=\u001b[0m \u001b[0mself\u001b[0m\u001b[0;34m.\u001b[0m\u001b[0mmodel\u001b[0m\u001b[0;34m.\u001b[0m\u001b[0mtrain_step\u001b[0m\u001b[0;34m(\u001b[0m\u001b[0mbatch\u001b[0m\u001b[0;34m)\u001b[0m\u001b[0;34m\u001b[0m\u001b[0;34m\u001b[0m\u001b[0m\n\u001b[0m\u001b[1;32m     50\u001b[0m             \u001b[0mtotal_loss\u001b[0m \u001b[0;34m+=\u001b[0m \u001b[0mloss\u001b[0m\u001b[0;34m.\u001b[0m\u001b[0mitem\u001b[0m\u001b[0;34m(\u001b[0m\u001b[0;34m)\u001b[0m\u001b[0;34m\u001b[0m\u001b[0;34m\u001b[0m\u001b[0m\n\u001b[1;32m     51\u001b[0m \u001b[0;34m\u001b[0m\u001b[0m\n",
      "\u001b[0;32m<ipython-input-40-b0b586cef2c9>\u001b[0m in \u001b[0;36mtrain_step\u001b[0;34m(self, batch)\u001b[0m\n\u001b[1;32m     78\u001b[0m \u001b[0;34m\u001b[0m\u001b[0m\n\u001b[1;32m     79\u001b[0m         \u001b[0mself\u001b[0m\u001b[0;34m.\u001b[0m\u001b[0moptimizer\u001b[0m\u001b[0;34m.\u001b[0m\u001b[0mzero_grad\u001b[0m\u001b[0;34m(\u001b[0m\u001b[0;34m)\u001b[0m\u001b[0;34m\u001b[0m\u001b[0;34m\u001b[0m\u001b[0m\n\u001b[0;32m---> 80\u001b[0;31m         \u001b[0mactions\u001b[0m\u001b[0;34m,\u001b[0m \u001b[0mtokens\u001b[0m\u001b[0;34m,\u001b[0m \u001b[0mpositions\u001b[0m \u001b[0;34m=\u001b[0m \u001b[0mself\u001b[0m\u001b[0;34m(\u001b[0m\u001b[0mencoder_input\u001b[0m\u001b[0;34m,\u001b[0m \u001b[0mdecoder_input\u001b[0m\u001b[0;34m)\u001b[0m\u001b[0;34m\u001b[0m\u001b[0;34m\u001b[0m\u001b[0m\n\u001b[0m\u001b[1;32m     81\u001b[0m \u001b[0;34m\u001b[0m\u001b[0m\n\u001b[1;32m     82\u001b[0m         \u001b[0maction_loss\u001b[0m \u001b[0;34m=\u001b[0m \u001b[0mself\u001b[0m\u001b[0;34m.\u001b[0m\u001b[0maction_criterion\u001b[0m\u001b[0;34m(\u001b[0m\u001b[0mactions\u001b[0m\u001b[0;34m.\u001b[0m\u001b[0mview\u001b[0m\u001b[0;34m(\u001b[0m\u001b[0;34m-\u001b[0m\u001b[0;36m1\u001b[0m\u001b[0;34m,\u001b[0m \u001b[0mself\u001b[0m\u001b[0;34m.\u001b[0m\u001b[0maction_vocab_size\u001b[0m\u001b[0;34m)\u001b[0m\u001b[0;34m,\u001b[0m \u001b[0maction_id\u001b[0m\u001b[0;34m.\u001b[0m\u001b[0mview\u001b[0m\u001b[0;34m(\u001b[0m\u001b[0;34m-\u001b[0m\u001b[0;36m1\u001b[0m\u001b[0;34m)\u001b[0m\u001b[0;34m)\u001b[0m\u001b[0;34m\u001b[0m\u001b[0;34m\u001b[0m\u001b[0m\n",
      "\u001b[0;32m/usr/local/lib/python3.6/dist-packages/torch/nn/modules/module.py\u001b[0m in \u001b[0;36m__call__\u001b[0;34m(self, *input, **kwargs)\u001b[0m\n\u001b[1;32m    530\u001b[0m             \u001b[0mresult\u001b[0m \u001b[0;34m=\u001b[0m \u001b[0mself\u001b[0m\u001b[0;34m.\u001b[0m\u001b[0m_slow_forward\u001b[0m\u001b[0;34m(\u001b[0m\u001b[0;34m*\u001b[0m\u001b[0minput\u001b[0m\u001b[0;34m,\u001b[0m \u001b[0;34m**\u001b[0m\u001b[0mkwargs\u001b[0m\u001b[0;34m)\u001b[0m\u001b[0;34m\u001b[0m\u001b[0;34m\u001b[0m\u001b[0m\n\u001b[1;32m    531\u001b[0m         \u001b[0;32melse\u001b[0m\u001b[0;34m:\u001b[0m\u001b[0;34m\u001b[0m\u001b[0;34m\u001b[0m\u001b[0m\n\u001b[0;32m--> 532\u001b[0;31m             \u001b[0mresult\u001b[0m \u001b[0;34m=\u001b[0m \u001b[0mself\u001b[0m\u001b[0;34m.\u001b[0m\u001b[0mforward\u001b[0m\u001b[0;34m(\u001b[0m\u001b[0;34m*\u001b[0m\u001b[0minput\u001b[0m\u001b[0;34m,\u001b[0m \u001b[0;34m**\u001b[0m\u001b[0mkwargs\u001b[0m\u001b[0;34m)\u001b[0m\u001b[0;34m\u001b[0m\u001b[0;34m\u001b[0m\u001b[0m\n\u001b[0m\u001b[1;32m    533\u001b[0m         \u001b[0;32mfor\u001b[0m \u001b[0mhook\u001b[0m \u001b[0;32min\u001b[0m \u001b[0mself\u001b[0m\u001b[0;34m.\u001b[0m\u001b[0m_forward_hooks\u001b[0m\u001b[0;34m.\u001b[0m\u001b[0mvalues\u001b[0m\u001b[0;34m(\u001b[0m\u001b[0;34m)\u001b[0m\u001b[0;34m:\u001b[0m\u001b[0;34m\u001b[0m\u001b[0;34m\u001b[0m\u001b[0m\n\u001b[1;32m    534\u001b[0m             \u001b[0mhook_result\u001b[0m \u001b[0;34m=\u001b[0m \u001b[0mhook\u001b[0m\u001b[0;34m(\u001b[0m\u001b[0mself\u001b[0m\u001b[0;34m,\u001b[0m \u001b[0minput\u001b[0m\u001b[0;34m,\u001b[0m \u001b[0mresult\u001b[0m\u001b[0;34m)\u001b[0m\u001b[0;34m\u001b[0m\u001b[0;34m\u001b[0m\u001b[0m\n",
      "\u001b[0;32m<ipython-input-40-b0b586cef2c9>\u001b[0m in \u001b[0;36mforward\u001b[0;34m(self, src, tgt)\u001b[0m\n\u001b[1;32m     59\u001b[0m         \u001b[0mtgt_emb\u001b[0m \u001b[0;34m=\u001b[0m \u001b[0mself\u001b[0m\u001b[0;34m.\u001b[0m\u001b[0mtgt_embedder\u001b[0m\u001b[0;34m(\u001b[0m\u001b[0mtgt\u001b[0m\u001b[0;34m)\u001b[0m \u001b[0;34m*\u001b[0m \u001b[0mmath\u001b[0m\u001b[0;34m.\u001b[0m\u001b[0msqrt\u001b[0m\u001b[0;34m(\u001b[0m\u001b[0mself\u001b[0m\u001b[0;34m.\u001b[0m\u001b[0membedding_size\u001b[0m\u001b[0;34m)\u001b[0m\u001b[0;34m\u001b[0m\u001b[0;34m\u001b[0m\u001b[0m\n\u001b[1;32m     60\u001b[0m \u001b[0;34m\u001b[0m\u001b[0m\n\u001b[0;32m---> 61\u001b[0;31m         \u001b[0moutput\u001b[0m\u001b[0;34m,\u001b[0m \u001b[0m_\u001b[0m \u001b[0;34m=\u001b[0m \u001b[0mself\u001b[0m\u001b[0;34m.\u001b[0m\u001b[0mtransformer\u001b[0m\u001b[0;34m(\u001b[0m\u001b[0msrc_emb\u001b[0m\u001b[0;34m,\u001b[0m \u001b[0mtgt_emb\u001b[0m\u001b[0;34m)\u001b[0m\u001b[0;34m\u001b[0m\u001b[0;34m\u001b[0m\u001b[0m\n\u001b[0m\u001b[1;32m     62\u001b[0m         \u001b[0mbatch_size\u001b[0m \u001b[0;34m=\u001b[0m \u001b[0moutput\u001b[0m\u001b[0;34m.\u001b[0m\u001b[0mshape\u001b[0m\u001b[0;34m[\u001b[0m\u001b[0;36m1\u001b[0m\u001b[0;34m]\u001b[0m\u001b[0;34m\u001b[0m\u001b[0;34m\u001b[0m\u001b[0m\n\u001b[1;32m     63\u001b[0m         \u001b[0maction_embed\u001b[0m \u001b[0;34m=\u001b[0m \u001b[0mself\u001b[0m\u001b[0;34m.\u001b[0m\u001b[0mACT\u001b[0m\u001b[0;34m.\u001b[0m\u001b[0mrepeat\u001b[0m\u001b[0;34m(\u001b[0m\u001b[0;36m1\u001b[0m\u001b[0;34m,\u001b[0m\u001b[0mbatch_size\u001b[0m\u001b[0;34m,\u001b[0m\u001b[0;36m1\u001b[0m\u001b[0;34m)\u001b[0m\u001b[0;34m\u001b[0m\u001b[0;34m\u001b[0m\u001b[0m\n",
      "\u001b[0;32m/usr/local/lib/python3.6/dist-packages/torch/nn/modules/module.py\u001b[0m in \u001b[0;36m__call__\u001b[0;34m(self, *input, **kwargs)\u001b[0m\n\u001b[1;32m    530\u001b[0m             \u001b[0mresult\u001b[0m \u001b[0;34m=\u001b[0m \u001b[0mself\u001b[0m\u001b[0;34m.\u001b[0m\u001b[0m_slow_forward\u001b[0m\u001b[0;34m(\u001b[0m\u001b[0;34m*\u001b[0m\u001b[0minput\u001b[0m\u001b[0;34m,\u001b[0m \u001b[0;34m**\u001b[0m\u001b[0mkwargs\u001b[0m\u001b[0;34m)\u001b[0m\u001b[0;34m\u001b[0m\u001b[0;34m\u001b[0m\u001b[0m\n\u001b[1;32m    531\u001b[0m         \u001b[0;32melse\u001b[0m\u001b[0;34m:\u001b[0m\u001b[0;34m\u001b[0m\u001b[0;34m\u001b[0m\u001b[0m\n\u001b[0;32m--> 532\u001b[0;31m             \u001b[0mresult\u001b[0m \u001b[0;34m=\u001b[0m \u001b[0mself\u001b[0m\u001b[0;34m.\u001b[0m\u001b[0mforward\u001b[0m\u001b[0;34m(\u001b[0m\u001b[0;34m*\u001b[0m\u001b[0minput\u001b[0m\u001b[0;34m,\u001b[0m \u001b[0;34m**\u001b[0m\u001b[0mkwargs\u001b[0m\u001b[0;34m)\u001b[0m\u001b[0;34m\u001b[0m\u001b[0;34m\u001b[0m\u001b[0m\n\u001b[0m\u001b[1;32m    533\u001b[0m         \u001b[0;32mfor\u001b[0m \u001b[0mhook\u001b[0m \u001b[0;32min\u001b[0m \u001b[0mself\u001b[0m\u001b[0;34m.\u001b[0m\u001b[0m_forward_hooks\u001b[0m\u001b[0;34m.\u001b[0m\u001b[0mvalues\u001b[0m\u001b[0;34m(\u001b[0m\u001b[0;34m)\u001b[0m\u001b[0;34m:\u001b[0m\u001b[0;34m\u001b[0m\u001b[0;34m\u001b[0m\u001b[0m\n\u001b[1;32m    534\u001b[0m             \u001b[0mhook_result\u001b[0m \u001b[0;34m=\u001b[0m \u001b[0mhook\u001b[0m\u001b[0;34m(\u001b[0m\u001b[0mself\u001b[0m\u001b[0;34m,\u001b[0m \u001b[0minput\u001b[0m\u001b[0;34m,\u001b[0m \u001b[0mresult\u001b[0m\u001b[0;34m)\u001b[0m\u001b[0;34m\u001b[0m\u001b[0;34m\u001b[0m\u001b[0m\n",
      "\u001b[0;32m/nfs/phd_by_carlos/notebooks/src/exposed_transformer.py\u001b[0m in \u001b[0;36mforward\u001b[0;34m(self, src, tgt, src_mask, tgt_mask, memory_mask, src_key_padding_mask, tgt_key_padding_mask, memory_key_padding_mask)\u001b[0m\n\u001b[1;32m    124\u001b[0m             \u001b[0;32mraise\u001b[0m \u001b[0mRuntimeError\u001b[0m\u001b[0;34m(\u001b[0m\u001b[0;34m\"the feature number of src and tgt must be equal to d_model\"\u001b[0m\u001b[0;34m)\u001b[0m\u001b[0;34m\u001b[0m\u001b[0;34m\u001b[0m\u001b[0m\n\u001b[1;32m    125\u001b[0m \u001b[0;34m\u001b[0m\u001b[0m\n\u001b[0;32m--> 126\u001b[0;31m         \u001b[0mmemory\u001b[0m \u001b[0;34m=\u001b[0m \u001b[0mself\u001b[0m\u001b[0;34m.\u001b[0m\u001b[0mencoder\u001b[0m\u001b[0;34m(\u001b[0m\u001b[0msrc\u001b[0m\u001b[0;34m,\u001b[0m \u001b[0mmask\u001b[0m\u001b[0;34m=\u001b[0m\u001b[0msrc_mask\u001b[0m\u001b[0;34m,\u001b[0m \u001b[0msrc_key_padding_mask\u001b[0m\u001b[0;34m=\u001b[0m\u001b[0msrc_key_padding_mask\u001b[0m\u001b[0;34m)\u001b[0m\u001b[0;34m\u001b[0m\u001b[0;34m\u001b[0m\u001b[0m\n\u001b[0m\u001b[1;32m    127\u001b[0m         output, atts = self.decoder(tgt, memory, tgt_mask=tgt_mask, memory_mask=memory_mask,\n\u001b[1;32m    128\u001b[0m                               \u001b[0mtgt_key_padding_mask\u001b[0m\u001b[0;34m=\u001b[0m\u001b[0mtgt_key_padding_mask\u001b[0m\u001b[0;34m,\u001b[0m\u001b[0;34m\u001b[0m\u001b[0;34m\u001b[0m\u001b[0m\n",
      "\u001b[0;32m/usr/local/lib/python3.6/dist-packages/torch/nn/modules/module.py\u001b[0m in \u001b[0;36m__call__\u001b[0;34m(self, *input, **kwargs)\u001b[0m\n\u001b[1;32m    530\u001b[0m             \u001b[0mresult\u001b[0m \u001b[0;34m=\u001b[0m \u001b[0mself\u001b[0m\u001b[0;34m.\u001b[0m\u001b[0m_slow_forward\u001b[0m\u001b[0;34m(\u001b[0m\u001b[0;34m*\u001b[0m\u001b[0minput\u001b[0m\u001b[0;34m,\u001b[0m \u001b[0;34m**\u001b[0m\u001b[0mkwargs\u001b[0m\u001b[0;34m)\u001b[0m\u001b[0;34m\u001b[0m\u001b[0;34m\u001b[0m\u001b[0m\n\u001b[1;32m    531\u001b[0m         \u001b[0;32melse\u001b[0m\u001b[0;34m:\u001b[0m\u001b[0;34m\u001b[0m\u001b[0;34m\u001b[0m\u001b[0m\n\u001b[0;32m--> 532\u001b[0;31m             \u001b[0mresult\u001b[0m \u001b[0;34m=\u001b[0m \u001b[0mself\u001b[0m\u001b[0;34m.\u001b[0m\u001b[0mforward\u001b[0m\u001b[0;34m(\u001b[0m\u001b[0;34m*\u001b[0m\u001b[0minput\u001b[0m\u001b[0;34m,\u001b[0m \u001b[0;34m**\u001b[0m\u001b[0mkwargs\u001b[0m\u001b[0;34m)\u001b[0m\u001b[0;34m\u001b[0m\u001b[0;34m\u001b[0m\u001b[0m\n\u001b[0m\u001b[1;32m    533\u001b[0m         \u001b[0;32mfor\u001b[0m \u001b[0mhook\u001b[0m \u001b[0;32min\u001b[0m \u001b[0mself\u001b[0m\u001b[0;34m.\u001b[0m\u001b[0m_forward_hooks\u001b[0m\u001b[0;34m.\u001b[0m\u001b[0mvalues\u001b[0m\u001b[0;34m(\u001b[0m\u001b[0;34m)\u001b[0m\u001b[0;34m:\u001b[0m\u001b[0;34m\u001b[0m\u001b[0;34m\u001b[0m\u001b[0m\n\u001b[1;32m    534\u001b[0m             \u001b[0mhook_result\u001b[0m \u001b[0;34m=\u001b[0m \u001b[0mhook\u001b[0m\u001b[0;34m(\u001b[0m\u001b[0mself\u001b[0m\u001b[0;34m,\u001b[0m \u001b[0minput\u001b[0m\u001b[0;34m,\u001b[0m \u001b[0mresult\u001b[0m\u001b[0;34m)\u001b[0m\u001b[0;34m\u001b[0m\u001b[0;34m\u001b[0m\u001b[0m\n",
      "\u001b[0;32m/usr/local/lib/python3.6/dist-packages/torch/nn/modules/transformer.py\u001b[0m in \u001b[0;36mforward\u001b[0;34m(self, src, mask, src_key_padding_mask)\u001b[0m\n\u001b[1;32m    174\u001b[0m         \u001b[0;32mfor\u001b[0m \u001b[0mi\u001b[0m \u001b[0;32min\u001b[0m \u001b[0mrange\u001b[0m\u001b[0;34m(\u001b[0m\u001b[0mself\u001b[0m\u001b[0;34m.\u001b[0m\u001b[0mnum_layers\u001b[0m\u001b[0;34m)\u001b[0m\u001b[0;34m:\u001b[0m\u001b[0;34m\u001b[0m\u001b[0;34m\u001b[0m\u001b[0m\n\u001b[1;32m    175\u001b[0m             output = self.layers[i](output, src_mask=mask,\n\u001b[0;32m--> 176\u001b[0;31m                                     src_key_padding_mask=src_key_padding_mask)\n\u001b[0m\u001b[1;32m    177\u001b[0m \u001b[0;34m\u001b[0m\u001b[0m\n\u001b[1;32m    178\u001b[0m         \u001b[0;32mif\u001b[0m \u001b[0mself\u001b[0m\u001b[0;34m.\u001b[0m\u001b[0mnorm\u001b[0m\u001b[0;34m:\u001b[0m\u001b[0;34m\u001b[0m\u001b[0;34m\u001b[0m\u001b[0m\n",
      "\u001b[0;32m/usr/local/lib/python3.6/dist-packages/torch/nn/modules/module.py\u001b[0m in \u001b[0;36m__call__\u001b[0;34m(self, *input, **kwargs)\u001b[0m\n\u001b[1;32m    530\u001b[0m             \u001b[0mresult\u001b[0m \u001b[0;34m=\u001b[0m \u001b[0mself\u001b[0m\u001b[0;34m.\u001b[0m\u001b[0m_slow_forward\u001b[0m\u001b[0;34m(\u001b[0m\u001b[0;34m*\u001b[0m\u001b[0minput\u001b[0m\u001b[0;34m,\u001b[0m \u001b[0;34m**\u001b[0m\u001b[0mkwargs\u001b[0m\u001b[0;34m)\u001b[0m\u001b[0;34m\u001b[0m\u001b[0;34m\u001b[0m\u001b[0m\n\u001b[1;32m    531\u001b[0m         \u001b[0;32melse\u001b[0m\u001b[0;34m:\u001b[0m\u001b[0;34m\u001b[0m\u001b[0;34m\u001b[0m\u001b[0m\n\u001b[0;32m--> 532\u001b[0;31m             \u001b[0mresult\u001b[0m \u001b[0;34m=\u001b[0m \u001b[0mself\u001b[0m\u001b[0;34m.\u001b[0m\u001b[0mforward\u001b[0m\u001b[0;34m(\u001b[0m\u001b[0;34m*\u001b[0m\u001b[0minput\u001b[0m\u001b[0;34m,\u001b[0m \u001b[0;34m**\u001b[0m\u001b[0mkwargs\u001b[0m\u001b[0;34m)\u001b[0m\u001b[0;34m\u001b[0m\u001b[0;34m\u001b[0m\u001b[0m\n\u001b[0m\u001b[1;32m    533\u001b[0m         \u001b[0;32mfor\u001b[0m \u001b[0mhook\u001b[0m \u001b[0;32min\u001b[0m \u001b[0mself\u001b[0m\u001b[0;34m.\u001b[0m\u001b[0m_forward_hooks\u001b[0m\u001b[0;34m.\u001b[0m\u001b[0mvalues\u001b[0m\u001b[0;34m(\u001b[0m\u001b[0;34m)\u001b[0m\u001b[0;34m:\u001b[0m\u001b[0;34m\u001b[0m\u001b[0;34m\u001b[0m\u001b[0m\n\u001b[1;32m    534\u001b[0m             \u001b[0mhook_result\u001b[0m \u001b[0;34m=\u001b[0m \u001b[0mhook\u001b[0m\u001b[0;34m(\u001b[0m\u001b[0mself\u001b[0m\u001b[0;34m,\u001b[0m \u001b[0minput\u001b[0m\u001b[0;34m,\u001b[0m \u001b[0mresult\u001b[0m\u001b[0;34m)\u001b[0m\u001b[0;34m\u001b[0m\u001b[0;34m\u001b[0m\u001b[0m\n",
      "\u001b[0;32m/usr/local/lib/python3.6/dist-packages/torch/nn/modules/transformer.py\u001b[0m in \u001b[0;36mforward\u001b[0;34m(self, src, src_mask, src_key_padding_mask)\u001b[0m\n\u001b[1;32m    281\u001b[0m         \"\"\"\n\u001b[1;32m    282\u001b[0m         src2 = self.self_attn(src, src, src, attn_mask=src_mask,\n\u001b[0;32m--> 283\u001b[0;31m                               key_padding_mask=src_key_padding_mask)[0]\n\u001b[0m\u001b[1;32m    284\u001b[0m         \u001b[0msrc\u001b[0m \u001b[0;34m=\u001b[0m \u001b[0msrc\u001b[0m \u001b[0;34m+\u001b[0m \u001b[0mself\u001b[0m\u001b[0;34m.\u001b[0m\u001b[0mdropout1\u001b[0m\u001b[0;34m(\u001b[0m\u001b[0msrc2\u001b[0m\u001b[0;34m)\u001b[0m\u001b[0;34m\u001b[0m\u001b[0;34m\u001b[0m\u001b[0m\n\u001b[1;32m    285\u001b[0m         \u001b[0msrc\u001b[0m \u001b[0;34m=\u001b[0m \u001b[0mself\u001b[0m\u001b[0;34m.\u001b[0m\u001b[0mnorm1\u001b[0m\u001b[0;34m(\u001b[0m\u001b[0msrc\u001b[0m\u001b[0;34m)\u001b[0m\u001b[0;34m\u001b[0m\u001b[0;34m\u001b[0m\u001b[0m\n",
      "\u001b[0;32m/usr/local/lib/python3.6/dist-packages/torch/nn/modules/module.py\u001b[0m in \u001b[0;36m__call__\u001b[0;34m(self, *input, **kwargs)\u001b[0m\n\u001b[1;32m    530\u001b[0m             \u001b[0mresult\u001b[0m \u001b[0;34m=\u001b[0m \u001b[0mself\u001b[0m\u001b[0;34m.\u001b[0m\u001b[0m_slow_forward\u001b[0m\u001b[0;34m(\u001b[0m\u001b[0;34m*\u001b[0m\u001b[0minput\u001b[0m\u001b[0;34m,\u001b[0m \u001b[0;34m**\u001b[0m\u001b[0mkwargs\u001b[0m\u001b[0;34m)\u001b[0m\u001b[0;34m\u001b[0m\u001b[0;34m\u001b[0m\u001b[0m\n\u001b[1;32m    531\u001b[0m         \u001b[0;32melse\u001b[0m\u001b[0;34m:\u001b[0m\u001b[0;34m\u001b[0m\u001b[0;34m\u001b[0m\u001b[0m\n\u001b[0;32m--> 532\u001b[0;31m             \u001b[0mresult\u001b[0m \u001b[0;34m=\u001b[0m \u001b[0mself\u001b[0m\u001b[0;34m.\u001b[0m\u001b[0mforward\u001b[0m\u001b[0;34m(\u001b[0m\u001b[0;34m*\u001b[0m\u001b[0minput\u001b[0m\u001b[0;34m,\u001b[0m \u001b[0;34m**\u001b[0m\u001b[0mkwargs\u001b[0m\u001b[0;34m)\u001b[0m\u001b[0;34m\u001b[0m\u001b[0;34m\u001b[0m\u001b[0m\n\u001b[0m\u001b[1;32m    533\u001b[0m         \u001b[0;32mfor\u001b[0m \u001b[0mhook\u001b[0m \u001b[0;32min\u001b[0m \u001b[0mself\u001b[0m\u001b[0;34m.\u001b[0m\u001b[0m_forward_hooks\u001b[0m\u001b[0;34m.\u001b[0m\u001b[0mvalues\u001b[0m\u001b[0;34m(\u001b[0m\u001b[0;34m)\u001b[0m\u001b[0;34m:\u001b[0m\u001b[0;34m\u001b[0m\u001b[0;34m\u001b[0m\u001b[0m\n\u001b[1;32m    534\u001b[0m             \u001b[0mhook_result\u001b[0m \u001b[0;34m=\u001b[0m \u001b[0mhook\u001b[0m\u001b[0;34m(\u001b[0m\u001b[0mself\u001b[0m\u001b[0;34m,\u001b[0m \u001b[0minput\u001b[0m\u001b[0;34m,\u001b[0m \u001b[0mresult\u001b[0m\u001b[0;34m)\u001b[0m\u001b[0;34m\u001b[0m\u001b[0;34m\u001b[0m\u001b[0m\n",
      "\u001b[0;32m/usr/local/lib/python3.6/dist-packages/torch/nn/modules/activation.py\u001b[0m in \u001b[0;36mforward\u001b[0;34m(self, query, key, value, key_padding_mask, need_weights, attn_mask)\u001b[0m\n\u001b[1;32m    817\u001b[0m                 \u001b[0mtraining\u001b[0m\u001b[0;34m=\u001b[0m\u001b[0mself\u001b[0m\u001b[0;34m.\u001b[0m\u001b[0mtraining\u001b[0m\u001b[0;34m,\u001b[0m\u001b[0;34m\u001b[0m\u001b[0;34m\u001b[0m\u001b[0m\n\u001b[1;32m    818\u001b[0m                 \u001b[0mkey_padding_mask\u001b[0m\u001b[0;34m=\u001b[0m\u001b[0mkey_padding_mask\u001b[0m\u001b[0;34m,\u001b[0m \u001b[0mneed_weights\u001b[0m\u001b[0;34m=\u001b[0m\u001b[0mneed_weights\u001b[0m\u001b[0;34m,\u001b[0m\u001b[0;34m\u001b[0m\u001b[0;34m\u001b[0m\u001b[0m\n\u001b[0;32m--> 819\u001b[0;31m                 attn_mask=attn_mask)\n\u001b[0m\u001b[1;32m    820\u001b[0m \u001b[0;34m\u001b[0m\u001b[0m\n\u001b[1;32m    821\u001b[0m \u001b[0;34m\u001b[0m\u001b[0m\n",
      "\u001b[0;32m/usr/local/lib/python3.6/dist-packages/torch/nn/functional.py\u001b[0m in \u001b[0;36mmulti_head_attention_forward\u001b[0;34m(query, key, value, embed_dim_to_check, num_heads, in_proj_weight, in_proj_bias, bias_k, bias_v, add_zero_attn, dropout_p, out_proj_weight, out_proj_bias, training, key_padding_mask, need_weights, attn_mask, use_separate_proj_weight, q_proj_weight, k_proj_weight, v_proj_weight, static_k, static_v)\u001b[0m\n\u001b[1;32m   3218\u001b[0m \u001b[0;34m\u001b[0m\u001b[0m\n\u001b[1;32m   3219\u001b[0m     \u001b[0;32mif\u001b[0m \u001b[0;32mnot\u001b[0m \u001b[0muse_separate_proj_weight\u001b[0m\u001b[0;34m:\u001b[0m\u001b[0;34m\u001b[0m\u001b[0;34m\u001b[0m\u001b[0m\n\u001b[0;32m-> 3220\u001b[0;31m         \u001b[0;32mif\u001b[0m \u001b[0mtorch\u001b[0m\u001b[0;34m.\u001b[0m\u001b[0mequal\u001b[0m\u001b[0;34m(\u001b[0m\u001b[0mquery\u001b[0m\u001b[0;34m,\u001b[0m \u001b[0mkey\u001b[0m\u001b[0;34m)\u001b[0m \u001b[0;32mand\u001b[0m \u001b[0mtorch\u001b[0m\u001b[0;34m.\u001b[0m\u001b[0mequal\u001b[0m\u001b[0;34m(\u001b[0m\u001b[0mkey\u001b[0m\u001b[0;34m,\u001b[0m \u001b[0mvalue\u001b[0m\u001b[0;34m)\u001b[0m\u001b[0;34m:\u001b[0m\u001b[0;34m\u001b[0m\u001b[0;34m\u001b[0m\u001b[0m\n\u001b[0m\u001b[1;32m   3221\u001b[0m             \u001b[0;31m# self-attention\u001b[0m\u001b[0;34m\u001b[0m\u001b[0;34m\u001b[0m\u001b[0;34m\u001b[0m\u001b[0m\n\u001b[1;32m   3222\u001b[0m             \u001b[0mq\u001b[0m\u001b[0;34m,\u001b[0m \u001b[0mk\u001b[0m\u001b[0;34m,\u001b[0m \u001b[0mv\u001b[0m \u001b[0;34m=\u001b[0m \u001b[0mlinear\u001b[0m\u001b[0;34m(\u001b[0m\u001b[0mquery\u001b[0m\u001b[0;34m,\u001b[0m \u001b[0min_proj_weight\u001b[0m\u001b[0;34m,\u001b[0m \u001b[0min_proj_bias\u001b[0m\u001b[0;34m)\u001b[0m\u001b[0;34m.\u001b[0m\u001b[0mchunk\u001b[0m\u001b[0;34m(\u001b[0m\u001b[0;36m3\u001b[0m\u001b[0;34m,\u001b[0m \u001b[0mdim\u001b[0m\u001b[0;34m=\u001b[0m\u001b[0;34m-\u001b[0m\u001b[0;36m1\u001b[0m\u001b[0;34m)\u001b[0m\u001b[0;34m\u001b[0m\u001b[0;34m\u001b[0m\u001b[0m\n",
      "\u001b[0;31mKeyboardInterrupt\u001b[0m: "
     ]
    }
   ],
   "source": [
    "train_logs = trainer.train(model, train_iterator, 10000, save_interval=10000000)"
   ]
  },
  {
   "cell_type": "code",
   "execution_count": 64,
   "metadata": {},
   "outputs": [],
   "source": [
    "def predict_edit(start, target):\n",
    "    start = torch.tensor(vocab.encode_list(start) + [vocab.EOS], dtype=torch.long).unsqueeze(1).to(\"cuda\")\n",
    "    target = torch.tensor(vocab.encode_list(target), dtype=torch.long).unsqueeze(1).to(\"cuda\")\n",
    "    model.eval()\n",
    "    actions, tokens, positions = model(target, start)\n",
    "    model.train()\n",
    "    best_act = torch.argmax(actions, dim=-1).cpu().tolist()[0]\n",
    "    best_tok = torch.argmax(tokens, dim=-1).cpu().tolist()[0]\n",
    "    best_pos = torch.argmax(positions, dim=-1).cpu().tolist()[0]\n",
    "    edit = vocab.decode_edit((best_act, best_tok, best_pos))\n",
    "    return edit"
   ]
  },
  {
   "cell_type": "code",
   "execution_count": 65,
   "metadata": {},
   "outputs": [
    {
     "name": "stdout",
     "output_type": "stream",
     "text": [
      "['A', 'A', 'C'] ['B', 'B', 'C']\n",
      "Possible actions: [('Insert', 'B', 1), ('Delete', 'A', 0), ('Delete', 'A', 1)]\n"
     ]
    },
    {
     "data": {
      "text/plain": [
       "('Insert', 'B', 2)"
      ]
     },
     "execution_count": 65,
     "metadata": {},
     "output_type": "execute_result"
    }
   ],
   "source": [
    "start  = list(\"AAC\")\n",
    "target = list(\"BBC\")\n",
    "edits = bi_directional_traceback(start, target)\n",
    "print(start, target)\n",
    "print(f\"Possible actions: {edits}\")\n",
    "\n",
    "predict_edit(start, target)"
   ]
  },
  {
   "cell_type": "code",
   "execution_count": 66,
   "metadata": {},
   "outputs": [],
   "source": [
    "def multi_edit_animation(start, target, rounds=15, interval=0.2):\n",
    "    print(f\"TARGET: {target}\")\n",
    "    print(f\"START : {start}\")\n",
    "    for r in range(rounds):\n",
    "        edit = predict_edit(start, target)\n",
    "        print(f\"Predicted EDIT: {edit}\")\n",
    "        start = perform_edit(start, edit)\n",
    "        print(f\"STEP {r}: {start}\")\n",
    "        print()\n",
    "    return start"
   ]
  },
  {
   "cell_type": "code",
   "execution_count": 67,
   "metadata": {},
   "outputs": [
    {
     "name": "stdout",
     "output_type": "stream",
     "text": [
      "TARGET: ['B', 'B', 'C']\n",
      "START : ['A', 'A', 'C']\n",
      "Predicted EDIT: ('Insert', 'B', 2)\n",
      "STEP 0: ['A', 'A', 'B', 'C']\n",
      "\n",
      "Predicted EDIT: ('Insert', 'B', 3)\n",
      "STEP 1: ['A', 'A', 'B', 'B', 'C']\n",
      "\n",
      "Predicted EDIT: ('Delete', 'C', 1)\n",
      "STEP 2: ['A', 'B', 'B', 'C']\n",
      "\n",
      "Predicted EDIT: ('Delete', 'C', 3)\n",
      "STEP 3: ['A', 'B', 'B']\n",
      "\n",
      "Predicted EDIT: ('Insert', 'C', 0)\n",
      "STEP 4: ['C', 'A', 'B', 'B']\n",
      "\n",
      "Predicted EDIT: ('Insert', 'C', 1)\n",
      "STEP 5: ['C', 'C', 'A', 'B', 'B']\n",
      "\n",
      "Predicted EDIT: ('Insert', 'C', 2)\n",
      "STEP 6: ['C', 'C', 'C', 'A', 'B', 'B']\n",
      "\n",
      "Predicted EDIT: ('Delete', 'B', 3)\n",
      "STEP 7: ['C', 'C', 'C', 'B', 'B']\n",
      "\n",
      "Predicted EDIT: ('Delete', 'C', 2)\n",
      "STEP 8: ['C', 'C', 'B', 'B']\n",
      "\n",
      "Predicted EDIT: ('Insert', 'C', 1)\n",
      "STEP 9: ['C', 'C', 'C', 'B', 'B']\n",
      "\n",
      "Predicted EDIT: ('Delete', 'C', 2)\n",
      "STEP 10: ['C', 'C', 'B', 'B']\n",
      "\n",
      "Predicted EDIT: ('Insert', 'C', 1)\n",
      "STEP 11: ['C', 'C', 'C', 'B', 'B']\n",
      "\n",
      "Predicted EDIT: ('Delete', 'C', 2)\n",
      "STEP 12: ['C', 'C', 'B', 'B']\n",
      "\n",
      "Predicted EDIT: ('Insert', 'C', 1)\n",
      "STEP 13: ['C', 'C', 'C', 'B', 'B']\n",
      "\n",
      "Predicted EDIT: ('Delete', 'C', 2)\n",
      "STEP 14: ['C', 'C', 'B', 'B']\n",
      "\n"
     ]
    },
    {
     "data": {
      "text/plain": [
       "['C', 'C', 'B', 'B']"
      ]
     },
     "execution_count": 67,
     "metadata": {},
     "output_type": "execute_result"
    }
   ],
   "source": [
    "multi_edit_animation(start, target)"
   ]
  },
  {
   "cell_type": "code",
   "execution_count": null,
   "metadata": {},
   "outputs": [],
   "source": []
  }
 ],
 "metadata": {
  "kernelspec": {
   "display_name": "Python 3",
   "language": "python",
   "name": "python3"
  },
  "language_info": {
   "codemirror_mode": {
    "name": "ipython",
    "version": 3
   },
   "file_extension": ".py",
   "mimetype": "text/x-python",
   "name": "python",
   "nbconvert_exporter": "python",
   "pygments_lexer": "ipython3",
   "version": "3.6.9"
  }
 },
 "nbformat": 4,
 "nbformat_minor": 4
}

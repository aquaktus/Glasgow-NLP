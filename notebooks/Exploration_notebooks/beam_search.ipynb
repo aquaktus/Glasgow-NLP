{
 "cells": [
  {
   "cell_type": "markdown",
   "metadata": {},
   "source": [
    "# This notebooks is a test notebook to develoop the Beam Search function\n",
    "It should probably be deleted in the future since the function should be put into the utilities folder."
   ]
  },
  {
   "cell_type": "code",
   "execution_count": 48,
   "metadata": {},
   "outputs": [],
   "source": [
    "from  heapq import heappush, heappop, nsmallest\n",
    "import numpy as np"
   ]
  },
  {
   "cell_type": "code",
   "execution_count": 45,
   "metadata": {},
   "outputs": [],
   "source": [
    "def beam_search(inputs_to_ids_fn, starting_state, starting_id, stop_condition_fn, beam_width=3, \\\n",
    "                num_states_returned=3, top_k=10, top_p=1.0, num_dist_samples=-1, temperature=1.0):\n",
    "    \"\"\"\n",
    "    Searches a space using a beam constrrained tree to find the most likely outcomes.\n",
    "    \n",
    "    inputs_to_ids_fn: (state, id)->(new_state, [float]): the prediction function returning an \n",
    "                                            array of probabilities corresponding to the next valid ids\n",
    "    starting_cache: an object containing the state of the prediction fn before being passed a new id\n",
    "    starting_id: int: the integer used to prime the first distribution\n",
    "    stop_condition_fn: (state)->bool: a function determining if the sequence should be stopped,\n",
    "                                      this could include maximum length reached.\n",
    "    beam_width: int: number of active beams to search at any particular point.\n",
    "    \n",
    "    returns: [state]: most probable terminated states\n",
    "    \"\"\"\n",
    "    terminated_states = []\n",
    "    active_states = [(0.0, starting_state, starting_id)] # we use log probabilities, and thus sum future log probs. log(p==1) = 0\n",
    "    \n",
    "    while len(terminated_states) < beam_width:\n",
    "        p, best_state, best_next_id = heappop(active_states)\n",
    "        new_state, next_id_probs = inputs_to_ids_fn(best_state, best_next_id)\n",
    "        \n",
    "        if stop_condition_fn(new_state):\n",
    "            terminated_states.append((p, new_state))\n",
    "            continue\n",
    "        \n",
    "        # choose best IDs to add to tree\n",
    "        next_id_probs = np.array(next_id_probs)\n",
    "        sorted_ids = np.argsort(next_id_probs)\n",
    "        cumulative_probs = np.cumsum(next_ids[sorted_ids])\n",
    "        top_p_ids = [idx for idx, cumulative_p in zip(sorted_ids,cumulative_probs) if cumulative_p<top_p]\n",
    "        top_k_ids = top_p_ids[:top_k]\n",
    "        \n",
    "        if num_dist_samples<1:\n",
    "            sampled_ids = top_k_ids[:beam_width]\n",
    "        else:\n",
    "            preds = np.log(next_id_probs[top_k_ids]) / temperature\n",
    "            exp_preds = np.exp(preds)\n",
    "            preds = exp_preds / np.sum(exp_preds)\n",
    "            sampled_ids = np.random.choice(next_id_probs[top_k_ids], num_dist_samples, p=preds)\n",
    "            \n",
    "        for idx in sampled_ids:\n",
    "            new_prob = p+np.log(next_id_probs[idx])\n",
    "            heappush(active_states, (new_prob, best_state, idx))\n",
    "        \n",
    "        while len(active_states) > beam_width:\n",
    "            heappop(active_states)\n",
    "        \n",
    "    return terminated_states"
   ]
  },
  {
   "cell_type": "code",
   "execution_count": 18,
   "metadata": {},
   "outputs": [
    {
     "data": {
      "text/plain": [
       "array([0.1, 0.3, 0.6, 1. ])"
      ]
     },
     "execution_count": 18,
     "metadata": {},
     "output_type": "execute_result"
    }
   ],
   "source": [
    "a = np.array([0.4,0.2,0.3,0.1])\n",
    "np.cumsum(a[np.argsort(a)])"
   ]
  },
  {
   "cell_type": "code",
   "execution_count": 22,
   "metadata": {},
   "outputs": [],
   "source": [
    "assert 0 not in np.array([0.4,0.1])"
   ]
  },
  {
   "cell_type": "code",
   "execution_count": 44,
   "metadata": {},
   "outputs": [
    {
     "data": {
      "text/plain": [
       "array([[0, 2, 0],\n",
       "       [2, 0, 0]])"
      ]
     },
     "execution_count": 44,
     "metadata": {},
     "output_type": "execute_result"
    }
   ],
   "source": [
    "np.random.multinomial(2, [0.3,0.5,0.4], 2)"
   ]
  },
  {
   "cell_type": "code",
   "execution_count": 49,
   "metadata": {},
   "outputs": [
    {
     "data": {
      "text/plain": [
       "[2, 3]"
      ]
     },
     "execution_count": 49,
     "metadata": {},
     "output_type": "execute_result"
    }
   ],
   "source": [
    "b = [3,5,4,2]\n",
    "nsmallest(2,b)"
   ]
  },
  {
   "cell_type": "code",
   "execution_count": 62,
   "metadata": {},
   "outputs": [],
   "source": [
    "from anytree import Node, RenderTree, AsciiStyle, find_by_attr\n",
    "f = Node(\"f\")\n",
    "b = Node(\"b\", parent=f, foo=None)"
   ]
  },
  {
   "cell_type": "code",
   "execution_count": 63,
   "metadata": {},
   "outputs": [],
   "source": [
    "a = find_by_attr(f, name=\"foo\", value=None)"
   ]
  },
  {
   "cell_type": "code",
   "execution_count": 64,
   "metadata": {},
   "outputs": [
    {
     "name": "stdout",
     "output_type": "stream",
     "text": [
      "Node('/f/b', foo=None)\n"
     ]
    }
   ],
   "source": [
    "print(b)"
   ]
  },
  {
   "cell_type": "code",
   "execution_count": null,
   "metadata": {},
   "outputs": [],
   "source": []
  }
 ],
 "metadata": {
  "kernelspec": {
   "display_name": "Python 3",
   "language": "python",
   "name": "python3"
  },
  "language_info": {
   "codemirror_mode": {
    "name": "ipython",
    "version": 3
   },
   "file_extension": ".py",
   "mimetype": "text/x-python",
   "name": "python",
   "nbconvert_exporter": "python",
   "pygments_lexer": "ipython3",
   "version": "3.6.9"
  }
 },
 "nbformat": 4,
 "nbformat_minor": 4
}

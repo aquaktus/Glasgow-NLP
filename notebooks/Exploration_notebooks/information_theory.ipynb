{
 "cells": [
  {
   "cell_type": "markdown",
   "metadata": {},
   "source": [
    "# KL Divergence, playing with numbers"
   ]
  },
  {
   "cell_type": "code",
   "execution_count": 278,
   "metadata": {},
   "outputs": [],
   "source": [
    "import numpy as np\n",
    "np.set_printoptions(formatter={'float': lambda x: \"{0:0.3f}\".format(x)})\n",
    "\n",
    "import matplotlib.pyplot as plt\n",
    "import random\n",
    "%matplotlib inline"
   ]
  },
  {
   "cell_type": "markdown",
   "metadata": {},
   "source": [
    "We can think of the information contatined in a distribution as $$H(x)=\\sum_{i=0}^{n} p(x_i) log(\\frac{1}{p(x_i)})$$ where the $H(x)$ gives the amount of bits or questions we need to ask on average in order to find out what the next symbol will be.\n",
    "\n",
    "From what I understand, the KL divergence is a way of expressing the amount of information we loose when we approximate a distribution with another. We can think of it as \"how many bits of information do I expect to loose?\". We will always loose some or no bits of information since a loss of no bits means the distributions are equal.\n",
    "$$D_{KL}(p||q) = \\sum_{i=0}^{n} p(x_i)\\cdot(log(p(x_i)) - log(q(x_i)))$$"
   ]
  },
  {
   "cell_type": "code",
   "execution_count": 350,
   "metadata": {},
   "outputs": [
    {
     "data": {
      "text/plain": [
       "<BarContainer object of 4 artists>"
      ]
     },
     "execution_count": 350,
     "metadata": {},
     "output_type": "execute_result"
    },
    {
     "data": {
      "image/png": "[encoded data removed]",
      "text/plain": [
       "<Figure size 432x288 with 1 Axes>"
      ]
     },
     "metadata": {
      "needs_background": "light"
     },
     "output_type": "display_data"
    }
   ],
   "source": [
    "observed = np.array([1,3,4,1])\n",
    "values = np.arange(len(observed))\n",
    "plt.bar(values,observed)"
   ]
  },
  {
   "cell_type": "markdown",
   "metadata": {},
   "source": [
    "We can convert observed numbers to probabilities by dividing each value by the total sum. We can use the exponential function to accentuate dominant values."
   ]
  },
  {
   "cell_type": "code",
   "execution_count": 6,
   "metadata": {},
   "outputs": [],
   "source": [
    "def softmax(x):\n",
    "    e_x = np.exp(x)\n",
    "    return e_x/np.sum(e_x)"
   ]
  },
  {
   "cell_type": "code",
   "execution_count": 37,
   "metadata": {},
   "outputs": [],
   "source": [
    "def normalize(x):\n",
    "    return x/np.sum(x)"
   ]
  },
  {
   "cell_type": "code",
   "execution_count": 120,
   "metadata": {},
   "outputs": [],
   "source": [
    "def entropy(p):\n",
    "    p = np.array(p)\n",
    "    return -np.sum(p*np.log2(p, where=p!=0))"
   ]
  },
  {
   "cell_type": "code",
   "execution_count": 126,
   "metadata": {},
   "outputs": [],
   "source": [
    "def self_information(p):\n",
    "    p = np.array(p)\n",
    "    return -np.log2(p, where=p!=0)"
   ]
  },
  {
   "cell_type": "code",
   "execution_count": 240,
   "metadata": {},
   "outputs": [],
   "source": [
    "def KL_divergence(p, q):\n",
    "    p = np.array(p)\n",
    "    q = np.array(q)\n",
    "    p_mask = p!=0\n",
    "    q_mask = q!=0\n",
    "    mask = p_mask & q_mask\n",
    "    return np.sum(p[mask]*(np.log2(p[mask])-np.log2(q[mask])))"
   ]
  },
  {
   "cell_type": "code",
   "execution_count": 140,
   "metadata": {},
   "outputs": [],
   "source": [
    "def sigmoid(x):\n",
    "    return 1/(1+np.exp(-x))"
   ]
  },
  {
   "cell_type": "code",
   "execution_count": 170,
   "metadata": {},
   "outputs": [],
   "source": [
    "def cross_entropy(p,q):\n",
    "    return entropy(p) + KL_divergence(p, q)"
   ]
  },
  {
   "cell_type": "code",
   "execution_count": 339,
   "metadata": {},
   "outputs": [],
   "source": [
    "def perplexity(H):\n",
    "    return 2**H"
   ]
  },
  {
   "cell_type": "markdown",
   "metadata": {},
   "source": [
    "### The effect of Softmax"
   ]
  },
  {
   "cell_type": "code",
   "execution_count": 144,
   "metadata": {},
   "outputs": [
    {
     "data": {
      "text/plain": [
       "<BarContainer object of 4 artists>"
      ]
     },
     "execution_count": 144,
     "metadata": {},
     "output_type": "execute_result"
    },
    {
     "data": {
      "image/png": "[encoded data removed]",
      "text/plain": [
       "<Figure size 432x288 with 1 Axes>"
      ]
     },
     "metadata": {
      "needs_background": "light"
     },
     "output_type": "display_data"
    }
   ],
   "source": [
    "p_obs = softmax(observed)\n",
    "plt.bar(values,p_obs)"
   ]
  },
  {
   "cell_type": "code",
   "execution_count": 145,
   "metadata": {},
   "outputs": [
    {
     "data": {
      "text/plain": [
       "<BarContainer object of 4 artists>"
      ]
     },
     "execution_count": 145,
     "metadata": {},
     "output_type": "execute_result"
    },
    {
     "data": {
      "image/png": "[encoded data removed]",
      "text/plain": [
       "<Figure size 432x288 with 1 Axes>"
      ]
     },
     "metadata": {
      "needs_background": "light"
     },
     "output_type": "display_data"
    }
   ],
   "source": [
    "p_sig = sigmoid(normalize(observed))\n",
    "plt.bar(values,p_sig)"
   ]
  },
  {
   "cell_type": "code",
   "execution_count": 344,
   "metadata": {},
   "outputs": [
    {
     "name": "stdout",
     "output_type": "stream",
     "text": [
      "normalised p: [0.854 0.012 0.122 0.012]\n",
      "normalised q: [0.495 0.005 0.495 0.005]\n"
     ]
    }
   ],
   "source": [
    "p = [7,0.1,1,0.1]\n",
    "q = [100,1,100,1]\n",
    "\n",
    "p = normalize(p)\n",
    "q = normalize(q)\n",
    "print(f\"normalised p: {p}\")\n",
    "print(f\"normalised q: {q}\")"
   ]
  },
  {
   "cell_type": "code",
   "execution_count": 345,
   "metadata": {},
   "outputs": [
    {
     "name": "stdout",
     "output_type": "stream",
     "text": [
      "entropy of p: 0.7201240517519705\n",
      "entropy of q: 1.0801360473312753\n"
     ]
    }
   ],
   "source": [
    "print(\"entropy of p:\",entropy(p))\n",
    "print(\"entropy of q:\",entropy(q))"
   ]
  },
  {
   "cell_type": "code",
   "execution_count": 346,
   "metadata": {},
   "outputs": [
    {
     "name": "stdout",
     "output_type": "stream",
     "text": [
      "self information of p: [1.014 7.658 1.014 7.658]\n"
     ]
    }
   ],
   "source": [
    "print(\"self information of p:\",self_information(normalize(q)))"
   ]
  },
  {
   "cell_type": "code",
   "execution_count": 347,
   "metadata": {},
   "outputs": [
    {
     "data": {
      "text/plain": [
       "0.45627651414643444"
      ]
     },
     "execution_count": 347,
     "metadata": {},
     "output_type": "execute_result"
    }
   ],
   "source": [
    "KL_divergence(p,q)"
   ]
  },
  {
   "cell_type": "code",
   "execution_count": 348,
   "metadata": {},
   "outputs": [
    {
     "data": {
      "text/plain": [
       "1.176400565898405"
      ]
     },
     "execution_count": 348,
     "metadata": {},
     "output_type": "execute_result"
    }
   ],
   "source": [
    "cross_entropy(p,q)"
   ]
  },
  {
   "cell_type": "code",
   "execution_count": 349,
   "metadata": {},
   "outputs": [
    {
     "data": {
      "text/plain": [
       "2.114235445867362"
      ]
     },
     "execution_count": 349,
     "metadata": {},
     "output_type": "execute_result"
    }
   ],
   "source": [
    "perplexity(entropy(q))"
   ]
  },
  {
   "cell_type": "markdown",
   "metadata": {},
   "source": [
    "## Making a language model"
   ]
  },
  {
   "cell_type": "code",
   "execution_count": 327,
   "metadata": {},
   "outputs": [],
   "source": [
    "class LanguageGenerator():\n",
    "    def __init__(self):\n",
    "        self.vocab = [\"A\",\"B\"]\n",
    "    \n",
    "    def generate(self, \n",
    "                 n, seq=\"\"):\n",
    "        for i in range(n):\n",
    "            if seq ==\"\":\n",
    "                seq += random.choice(self.vocab)\n",
    "            elif seq[-1] == \"A\":\n",
    "                seq += np.random.choice(self.vocab, 1, p=normalize([0.05,0.45]))[0]\n",
    "            elif seq[-1] == \"B\":\n",
    "                seq += np.random.choice(self.vocab, 1, p=normalize([0.45,0.05]))[0]\n",
    "        return seq"
   ]
  },
  {
   "cell_type": "code",
   "execution_count": 328,
   "metadata": {},
   "outputs": [],
   "source": [
    "language = LanguageGenerator()"
   ]
  },
  {
   "cell_type": "code",
   "execution_count": 330,
   "metadata": {},
   "outputs": [
    {
     "data": {
      "text/plain": [
       "'ABABABABABABAABBABABABABABAABABABABABABAABABAABABA'"
      ]
     },
     "execution_count": 330,
     "metadata": {},
     "output_type": "execute_result"
    }
   ],
   "source": [
    "language.generate(50)"
   ]
  },
  {
   "cell_type": "code",
   "execution_count": 331,
   "metadata": {},
   "outputs": [
    {
     "data": {
      "text/plain": [
       "array([[0.050, 0.450],\n",
       "       [0.450, 0.050]])"
      ]
     },
     "execution_count": 331,
     "metadata": {},
     "output_type": "execute_result"
    }
   ],
   "source": [
    "normalize([[1,9],[9,1]])"
   ]
  },
  {
   "cell_type": "code",
   "execution_count": null,
   "metadata": {},
   "outputs": [],
   "source": []
  }
 ],
 "metadata": {
  "kernelspec": {
   "display_name": "Python 3",
   "language": "python",
   "name": "python3"
  },
  "language_info": {
   "codemirror_mode": {
    "name": "ipython",
    "version": 3
   },
   "file_extension": ".py",
   "mimetype": "text/x-python",
   "name": "python",
   "nbconvert_exporter": "python",
   "pygments_lexer": "ipython3",
   "version": "3.6.9"
  }
 },
 "nbformat": 4,
 "nbformat_minor": 4
}

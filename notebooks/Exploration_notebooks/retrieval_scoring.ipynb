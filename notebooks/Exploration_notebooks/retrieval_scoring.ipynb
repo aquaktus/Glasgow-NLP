{
 "cells": [
  {
   "cell_type": "code",
   "execution_count": 17,
   "metadata": {},
   "outputs": [
    {
     "name": "stdout",
     "output_type": "stream",
     "text": [
      "The autoreload extension is already loaded. To reload it, use:\n",
      "  %reload_ext autoreload\n"
     ]
    }
   ],
   "source": [
    "from src.retrieval import PyLuceneRetriever, ReCodeRetriever, OracleBLEURetriever\n",
    "from nltk.translate.bleu_score import SmoothingFunction, sentence_bleu\n",
    "from src.BERT_style_modules import BERTStyleEncoder, BertTokenizer\n",
    "\n",
    "from src.useful_utils import string_split_v3, string_split_v2, string_split_v1\n",
    "from src.metrics import nltk_bleu\n",
    "from src.dataset_loaders import SRC_TGT_pairs\n",
    "from src.vocab_classes import Shared_Vocab\n",
    "import numpy as np\n",
    "import tqdm.notebook as tqdm \n",
    "%load_ext autoreload\n",
    "%autoreload 2"
   ]
  },
  {
   "cell_type": "code",
   "execution_count": 2,
   "metadata": {},
   "outputs": [],
   "source": [
    "num_folds = 10"
   ]
  },
  {
   "cell_type": "code",
   "execution_count": 3,
   "metadata": {},
   "outputs": [
    {
     "ename": "SyntaxError",
     "evalue": "non-default argument follows default argument (<ipython-input-3-e7b695c25420>, line 1)",
     "output_type": "error",
     "traceback": [
      "\u001b[0;36m  File \u001b[0;32m\"<ipython-input-3-e7b695c25420>\"\u001b[0;36m, line \u001b[0;32m1\u001b[0m\n\u001b[0;31m    def fold_iterator(file_format=\"datasets/django_folds/django.fold<FOLD>-10.<MODE>.<EXT>\", folds, train_mode=\"train\", test_mode=\"test\", src=\"src\", tgt=\"tgt\"):\u001b[0m\n\u001b[0m                     ^\u001b[0m\n\u001b[0;31mSyntaxError\u001b[0m\u001b[0;31m:\u001b[0m non-default argument follows default argument\n"
     ]
    }
   ],
   "source": [
    "def fold_iterator(file_format=\"datasets/django_folds/django.fold<FOLD>-10.<MODE>.<EXT>\", folds, train_mode=\"train\", test_mode=\"test\", src=\"src\", tgt=\"tgt\"):\n",
    "    for fold_idx in range(folds):\n",
    "        src_train_fp = file_format.replace()\n",
    "        tgt_train_fp\n",
    "        src_test_fp\n",
    "        tgt_test_fp\n",
    "        test_samples = SRC_TGT_pairs(args.src_test_fp, args.tgt_test_fp).samples"
   ]
  },
  {
   "cell_type": "code",
   "execution_count": 4,
   "metadata": {},
   "outputs": [
    {
     "data": {
      "text/plain": [
       "0.7071067811865476"
      ]
     },
     "execution_count": 4,
     "metadata": {},
     "output_type": "execute_result"
    }
   ],
   "source": [
    "nltk_bleu([\"foo\",\"bar\"], [\"foo\",\"baz\"])"
   ]
  },
  {
   "cell_type": "code",
   "execution_count": 17,
   "metadata": {},
   "outputs": [
    {
     "data": {
      "text/plain": [
       "0.8091067115702212"
      ]
     },
     "execution_count": 17,
     "metadata": {},
     "output_type": "execute_result"
    }
   ],
   "source": [
    "nltk_bleu(\"foo bar\", \"foo baz\")"
   ]
  },
  {
   "cell_type": "code",
   "execution_count": 11,
   "metadata": {},
   "outputs": [
    {
     "data": {
      "text/plain": [
       "[5333, 2019, 6453, 1997, 2465, 3643, 2121, 29165, 1010, 2007, 5164]"
      ]
     },
     "execution_count": 11,
     "metadata": {},
     "output_type": "execute_result"
    }
   ],
   "source": [
    "tokenizer = BertTokenizer.from_pretrained('bert-base-uncased')\n",
    "tokenizer.encode(\"raise an exception of class ValueError, with string\")[1:-1]"
   ]
  },
  {
   "cell_type": "code",
   "execution_count": 30,
   "metadata": {},
   "outputs": [],
   "source": [
    "a = time.time()"
   ]
  },
  {
   "cell_type": "code",
   "execution_count": 40,
   "metadata": {},
   "outputs": [
    {
     "data": {
      "text/plain": [
       "'2 days, 2:35:29.742432'"
      ]
     },
     "execution_count": 40,
     "metadata": {},
     "output_type": "execute_result"
    }
   ],
   "source": [
    "import datetime\n",
    "\n",
    "b = time.time() - a\n",
    "b = b*800\n",
    "str(datetime.timedelta(seconds=b))"
   ]
  },
  {
   "cell_type": "code",
   "execution_count": 24,
   "metadata": {},
   "outputs": [
    {
     "name": "stdout",
     "output_type": "stream",
     "text": [
      "JVM Running\n"
     ]
    },
    {
     "data": {
      "text/plain": [
       "[(0, 0.3150669038295746), (3, 0.2858338952064514), (2, 0.0)]"
      ]
     },
     "execution_count": 24,
     "metadata": {},
     "output_type": "execute_result"
    }
   ],
   "source": [
    "retriever = PyLuceneRetriever()\n",
    "retriever.add_multiple_docs([\"potatoes come from ireland\", \"i love potatoes\", \"starch comes from potatoes\", \"there is starch in ireland\"])\n",
    "retriever.search(\"starch^0 ireland^1\")"
   ]
  },
  {
   "cell_type": "code",
   "execution_count": 48,
   "metadata": {},
   "outputs": [
    {
     "data": {
      "application/vnd.jupyter.widget-view+json": {
       "model_id": "29f14e6bbc9140509b6b9dba3ed8e3a1",
       "version_major": 2,
       "version_minor": 0
      },
      "text/plain": [
       "HBox(children=(IntProgress(value=0, max=1881), HTML(value='')))"
      ]
     },
     "metadata": {},
     "output_type": "display_data"
    },
    {
     "name": "stdout",
     "output_type": "stream",
     "text": [
      "\n",
      "custom_BLEUs 0.5449556561713716\n"
     ]
    },
    {
     "ename": "NameError",
     "evalue": "name 'BERT_BLEUs' is not defined",
     "output_type": "error",
     "traceback": [
      "\u001b[0;31m---------------------------------------------------------------------------\u001b[0m",
      "\u001b[0;31mNameError\u001b[0m                                 Traceback (most recent call last)",
      "\u001b[0;32m<ipython-input-48-77962f2aff76>\u001b[0m in \u001b[0;36m<module>\u001b[0;34m\u001b[0m\n\u001b[1;32m     53\u001b[0m \u001b[0;34m\u001b[0m\u001b[0m\n\u001b[1;32m     54\u001b[0m \u001b[0mprint\u001b[0m\u001b[0;34m(\u001b[0m\u001b[0;34m\"custom_BLEUs\"\u001b[0m\u001b[0;34m,\u001b[0m \u001b[0mnp\u001b[0m\u001b[0;34m.\u001b[0m\u001b[0maverage\u001b[0m\u001b[0;34m(\u001b[0m\u001b[0mcustom_BLEUs\u001b[0m\u001b[0;34m)\u001b[0m\u001b[0;34m)\u001b[0m\u001b[0;34m\u001b[0m\u001b[0;34m\u001b[0m\u001b[0m\n\u001b[0;32m---> 55\u001b[0;31m \u001b[0mprint\u001b[0m\u001b[0;34m(\u001b[0m\u001b[0;34m\"BERT_BLEUs\"\u001b[0m\u001b[0;34m,\u001b[0m \u001b[0mnp\u001b[0m\u001b[0;34m.\u001b[0m\u001b[0maverage\u001b[0m\u001b[0;34m(\u001b[0m\u001b[0mBERT_BLEUs\u001b[0m\u001b[0;34m)\u001b[0m\u001b[0;34m)\u001b[0m\u001b[0;34m\u001b[0m\u001b[0;34m\u001b[0m\u001b[0m\n\u001b[0m\u001b[1;32m     56\u001b[0m \u001b[0mprint\u001b[0m\u001b[0;34m(\u001b[0m\u001b[0;34m\"char_BLEUs\"\u001b[0m\u001b[0;34m,\u001b[0m \u001b[0mnp\u001b[0m\u001b[0;34m.\u001b[0m\u001b[0maverage\u001b[0m\u001b[0;34m(\u001b[0m\u001b[0mchar_BLEUs\u001b[0m\u001b[0;34m)\u001b[0m\u001b[0;34m)\u001b[0m\u001b[0;34m\u001b[0m\u001b[0;34m\u001b[0m\u001b[0m\n",
      "\u001b[0;31mNameError\u001b[0m: name 'BERT_BLEUs' is not defined"
     ]
    }
   ],
   "source": [
    "def retriever_eval(src_train_fp, tgt_train_fp, src_test_fp, tgt_test_fp, k1=1.2, b=0.75):\n",
    "    train_samples = SRC_TGT_pairs(src_train_fp, tgt_train_fp,max_seq_len=1000).samples\n",
    "    test_samples = SRC_TGT_pairs(src_test_fp, tgt_test_fp,max_seq_len=1000).samples\n",
    "    \n",
    "#     retriever = PyLuceneRetriever()\n",
    "    retriever = OracleBLEURetriever()\n",
    "\n",
    "    src_train_data = [string_split_v3(src) for src,tgt in train_samples]\n",
    "    tgt_train_data = [tgt for src,tgt in train_samples]\n",
    "    retriever.add_multiple_docs(train_samples)\n",
    "    \n",
    "    custom_BLEUs = []\n",
    "#     BERT_BLEUs = []\n",
    "#     char_BLEUs = []\n",
    "    for src, tgt in tqdm.tqdm(test_samples):\n",
    "#         doc_ranking = retriever.BM25_search(src, k1=k1, b=b)\n",
    "        doc_ranking = retriever.search(src, tgt)\n",
    "#         doc_ids = [x.doc for x in doc_ranking]\n",
    "        doc_ids = doc_ranking\n",
    "        retrieved_samples = [tgt_train_data[i] for i, s in doc_ids]\n",
    "        \n",
    "#         top_code = tgt_train_data[doc_ranking[0].doc] if len(doc_ranking)>0 else \"\"\n",
    "        top_code = tgt_train_data[doc_ranking[0][0]] if len(doc_ranking)>0 else \"\"\n",
    "\n",
    "        custom_BLEU = nltk_bleu(string_split_v3(top_code), string_split_v3(tgt))\n",
    "#         BERT_BLEU = nltk_bleu(tokenizer.encode(top_code)[1:-1], tokenizer.encode(tgt)[1:-1])\n",
    "#         char_BLEU = nltk_bleu(top_code, tgt)\n",
    "        \n",
    "        custom_BLEUs.append(custom_BLEU)\n",
    "#         BERT_BLEUs.append(BERT_BLEU)\n",
    "#         char_BLEUs.append(char_BLEU)\n",
    "        \n",
    "#         print(tgt, \"||||||\", top_code, \"|||| BLEU\", BLEU)\n",
    "    return custom_BLEUs\n",
    "    \n",
    "    \n",
    "# src_train_fp = \"datasets/merged/merged_Dj_HS_Co.train.src\"\n",
    "# tgt_train_fp = \"datasets/merged/merged_Dj_HS_Co.train.tgt\"\n",
    "# src_test_fp = \"datasets/HS/test_hs.in\"\n",
    "# tgt_test_fp = \"datasets/HS/test_hs.out\"\n",
    "\n",
    "src_train_fp = \"datasets/django_folds/django.fold1-10.full_train.src\"\n",
    "tgt_train_fp = \"datasets/django_folds/django.fold1-10.full_train.tgt\"\n",
    "src_test_fp = \"datasets/django_folds/django.fold1-10.test.src\"\n",
    "tgt_test_fp = \"datasets/django_folds/django.fold1-10.test.tgt\"\n",
    "\n",
    "# src_train_fp = \"datasets/CoNaLa/conala-train.src\"\n",
    "# tgt_train_fp = \"datasets/CoNaLa/conala-train.tgt\"\n",
    "# src_test_fp = \"datasets/CoNaLa/conala-test.src\"\n",
    "# tgt_test_fp = \"datasets/CoNaLa/conala-test.tgt\"\n",
    "\n",
    "custom_BLEUs = retriever_eval(src_train_fp, tgt_train_fp, src_test_fp, tgt_test_fp, k1=3.27, b=1.0)\n",
    "\n",
    "print(\"custom_BLEUs\", np.average(custom_BLEUs))\n",
    "print(\"BERT_BLEUs\", np.average(BERT_BLEUs))\n",
    "print(\"char_BLEUs\", np.average(char_BLEUs))"
   ]
  },
  {
   "cell_type": "code",
   "execution_count": 30,
   "metadata": {},
   "outputs": [
    {
     "name": "stdout",
     "output_type": "stream",
     "text": [
      "JVM Running\n",
      "query: return . url encode s .\n",
      "code : return self . s\n",
      "[(13309, 6.537010669708252), (10445, 5.287431716918945), (3308, 4.803297996520996)]\n",
      "('return six.text_type(s).encode(encoding, errors).', 'return six . text_type ( s ) . encode ( encoding , errors )') 6.537010669708252\n",
      "('return url.', 'return url') 5.287431716918945\n",
      "('raise an CommandError exception with an argument string \"couldn\\'t download URL %s to %s: %s\", where \\'%s\\' is replaced with url,', 'raise CommandError ( \"couldn\\'t download URL %s to %s: %s\" %  ( url , filename , e ) )') 4.803297996520996\n"
     ]
    }
   ],
   "source": [
    "src_train_fp = \"datasets/django_folds/django.fold1-10.train.src\"\n",
    "tgt_train_fp = \"datasets/django_folds/django.fold1-10.train.tgt\"\n",
    "src_test_fp = \"datasets/django_folds/django.fold1-10.test.src\"\n",
    "tgt_test_fp = \"datasets/django_folds/django.fold1-10.test.tgt\"\n",
    "\n",
    "train_samples = SRC_TGT_pairs(src_train_fp, tgt_train_fp,max_seq_len=50).samples\n",
    "test_samples = SRC_TGT_pairs(src_test_fp, tgt_test_fp,max_seq_len=50).samples\n",
    "\n",
    "src_train_data = [src for src,tgt in train_samples]\n",
    "tgt_train_data = [tgt for src,tgt in train_samples]\n",
    "\n",
    "\n",
    "retriever = PyLuceneRetriever()\n",
    "retriever.add_multiple_docs(src_train_data)\n",
    "\n",
    "src, tgt = test_samples[200]\n",
    "\n",
    "src = \"return . url encode s .\"\n",
    "tgt = \"return self . s\"\n",
    "\n",
    "print(\"query:\",src)\n",
    "print(\"code :\", tgt)\n",
    "\n",
    "results = retriever.search(src)\n",
    "print(results)\n",
    "for i, score in results:\n",
    "    print(train_samples[i], score)"
   ]
  },
  {
   "cell_type": "markdown",
   "metadata": {},
   "source": [
    "Django from train merged = 43.5\n",
    "HS from train merged = 60.6\n",
    "CoNaLa from train merged = 13.6\n",
    "AVG = "
   ]
  },
  {
   "cell_type": "code",
   "execution_count": 45,
   "metadata": {},
   "outputs": [
    {
     "data": {
      "application/vnd.jupyter.widget-view+json": {
       "model_id": "2586552b14104652bb9d90105a5772d3",
       "version_major": 2,
       "version_minor": 0
      },
      "text/plain": [
       "HBox(children=(IntProgress(value=0, max=10), HTML(value='')))"
      ]
     },
     "metadata": {},
     "output_type": "display_data"
    },
    {
     "name": "stdout",
     "output_type": "stream",
     "text": [
      "JVM Running\n",
      "JVM Running\n",
      "JVM Running\n",
      "JVM Running\n",
      "JVM Running\n",
      "JVM Running\n",
      "JVM Running\n",
      "JVM Running\n",
      "JVM Running\n",
      "JVM Running\n",
      "\n"
     ]
    },
    {
     "data": {
      "text/plain": [
       "0.4306389213076508"
      ]
     },
     "execution_count": 45,
     "metadata": {},
     "output_type": "execute_result"
    }
   ],
   "source": [
    "fold_BLEUs = []\n",
    "for i in tqdm.tqdm(range(1,11)):\n",
    "    src_train_fp = \"datasets/django_folds/django.fold<NBR>-10.train.src\".replace(\"<NBR>\", str(i))\n",
    "    tgt_train_fp = \"datasets/django_folds/django.fold<NBR>-10.train.tgt\".replace(\"<NBR>\", str(i))\n",
    "    src_test_fp = \"datasets/django_folds/django.fold<NBR>-10.test.src\".replace(\"<NBR>\", str(i))\n",
    "    tgt_test_fp = \"datasets/django_folds/django.fold<NBR>-10.test.tgt\".replace(\"<NBR>\", str(i))\n",
    "    \n",
    "    fold_BLEUs = fold_BLEUs + retriever_eval(src_train_fp, tgt_train_fp, src_test_fp, tgt_test_fp, k1=4.03, b=0.99)\n",
    "np.average(fold_BLEUs)"
   ]
  },
  {
   "cell_type": "markdown",
   "metadata": {},
   "source": [
    "## hyperparam search"
   ]
  },
  {
   "cell_type": "code",
   "execution_count": 104,
   "metadata": {},
   "outputs": [
    {
     "name": "stdout",
     "output_type": "stream",
     "text": [
      "JVM Running\n",
      "k1=4.42 | b=0.68 | BLEU=0.407\n",
      "JVM Running\n",
      "k1=0.55 | b=0.21 | BLEU=0.345\n"
     ]
    },
    {
     "ename": "KeyboardInterrupt",
     "evalue": "",
     "output_type": "error",
     "traceback": [
      "\u001b[0;31m---------------------------------------------------------------------------\u001b[0m",
      "\u001b[0;31mKeyboardInterrupt\u001b[0m                         Traceback (most recent call last)",
      "\u001b[0;32m<ipython-input-104-975a7e68fca0>\u001b[0m in \u001b[0;36m<module>\u001b[0;34m\u001b[0m\n\u001b[1;32m     19\u001b[0m     \u001b[0mk1\u001b[0m \u001b[0;34m=\u001b[0m \u001b[0mnp\u001b[0m\u001b[0;34m.\u001b[0m\u001b[0mrandom\u001b[0m\u001b[0;34m.\u001b[0m\u001b[0muniform\u001b[0m\u001b[0;34m(\u001b[0m\u001b[0;36m0\u001b[0m\u001b[0;34m,\u001b[0m\u001b[0;36m5\u001b[0m\u001b[0;34m)\u001b[0m\u001b[0;34m\u001b[0m\u001b[0;34m\u001b[0m\u001b[0m\n\u001b[1;32m     20\u001b[0m     \u001b[0mb\u001b[0m \u001b[0;34m=\u001b[0m \u001b[0mnp\u001b[0m\u001b[0;34m.\u001b[0m\u001b[0mrandom\u001b[0m\u001b[0;34m.\u001b[0m\u001b[0muniform\u001b[0m\u001b[0;34m(\u001b[0m\u001b[0;36m0\u001b[0m\u001b[0;34m,\u001b[0m\u001b[0;36m1\u001b[0m\u001b[0;34m)\u001b[0m\u001b[0;34m\u001b[0m\u001b[0;34m\u001b[0m\u001b[0m\n\u001b[0;32m---> 21\u001b[0;31m     \u001b[0mscores\u001b[0m \u001b[0;34m=\u001b[0m \u001b[0mretriever_eval\u001b[0m\u001b[0;34m(\u001b[0m\u001b[0msrc_train_fp\u001b[0m\u001b[0;34m,\u001b[0m \u001b[0mtgt_train_fp\u001b[0m\u001b[0;34m,\u001b[0m \u001b[0msrc_test_fp\u001b[0m\u001b[0;34m,\u001b[0m \u001b[0mtgt_test_fp\u001b[0m\u001b[0;34m,\u001b[0m \u001b[0mk1\u001b[0m\u001b[0;34m=\u001b[0m\u001b[0mk1\u001b[0m\u001b[0;34m,\u001b[0m \u001b[0mb\u001b[0m\u001b[0;34m=\u001b[0m\u001b[0mb\u001b[0m\u001b[0;34m)\u001b[0m\u001b[0;34m\u001b[0m\u001b[0;34m\u001b[0m\u001b[0m\n\u001b[0m\u001b[1;32m     22\u001b[0m     \u001b[0mBLEU_score\u001b[0m \u001b[0;34m=\u001b[0m \u001b[0mnp\u001b[0m\u001b[0;34m.\u001b[0m\u001b[0maverage\u001b[0m\u001b[0;34m(\u001b[0m\u001b[0mscores\u001b[0m\u001b[0;34m)\u001b[0m\u001b[0;34m\u001b[0m\u001b[0;34m\u001b[0m\u001b[0m\n\u001b[1;32m     23\u001b[0m     \u001b[0mprint\u001b[0m\u001b[0;34m(\u001b[0m\u001b[0;34mf\"k1={k1:.2f} | b={b:.2f} | BLEU={BLEU_score:.3f}\"\u001b[0m\u001b[0;34m)\u001b[0m\u001b[0;34m\u001b[0m\u001b[0;34m\u001b[0m\u001b[0m\n",
      "\u001b[0;32m<ipython-input-102-a351b640c541>\u001b[0m in \u001b[0;36mretriever_eval\u001b[0;34m(src_train_fp, tgt_train_fp, src_test_fp, tgt_test_fp, k1, b)\u001b[0m\n\u001b[1;32m      1\u001b[0m \u001b[0;32mdef\u001b[0m \u001b[0mretriever_eval\u001b[0m\u001b[0;34m(\u001b[0m\u001b[0msrc_train_fp\u001b[0m\u001b[0;34m,\u001b[0m \u001b[0mtgt_train_fp\u001b[0m\u001b[0;34m,\u001b[0m \u001b[0msrc_test_fp\u001b[0m\u001b[0;34m,\u001b[0m \u001b[0mtgt_test_fp\u001b[0m\u001b[0;34m,\u001b[0m \u001b[0mk1\u001b[0m\u001b[0;34m=\u001b[0m\u001b[0;36m1.2\u001b[0m\u001b[0;34m,\u001b[0m \u001b[0mb\u001b[0m\u001b[0;34m=\u001b[0m\u001b[0;36m0.75\u001b[0m\u001b[0;34m)\u001b[0m\u001b[0;34m:\u001b[0m\u001b[0;34m\u001b[0m\u001b[0;34m\u001b[0m\u001b[0m\n\u001b[0;32m----> 2\u001b[0;31m     \u001b[0mtrain_samples\u001b[0m \u001b[0;34m=\u001b[0m \u001b[0mSRC_TGT_pairs\u001b[0m\u001b[0;34m(\u001b[0m\u001b[0msrc_train_fp\u001b[0m\u001b[0;34m,\u001b[0m \u001b[0mtgt_train_fp\u001b[0m\u001b[0;34m,\u001b[0m\u001b[0mmax_seq_len\u001b[0m\u001b[0;34m=\u001b[0m\u001b[0;36m1000\u001b[0m\u001b[0;34m)\u001b[0m\u001b[0;34m.\u001b[0m\u001b[0msamples\u001b[0m\u001b[0;34m\u001b[0m\u001b[0;34m\u001b[0m\u001b[0m\n\u001b[0m\u001b[1;32m      3\u001b[0m     \u001b[0mtest_samples\u001b[0m \u001b[0;34m=\u001b[0m \u001b[0mSRC_TGT_pairs\u001b[0m\u001b[0;34m(\u001b[0m\u001b[0msrc_test_fp\u001b[0m\u001b[0;34m,\u001b[0m \u001b[0mtgt_test_fp\u001b[0m\u001b[0;34m,\u001b[0m\u001b[0mmax_seq_len\u001b[0m\u001b[0;34m=\u001b[0m\u001b[0;36m1000\u001b[0m\u001b[0;34m)\u001b[0m\u001b[0;34m.\u001b[0m\u001b[0msamples\u001b[0m\u001b[0;34m\u001b[0m\u001b[0;34m\u001b[0m\u001b[0m\n\u001b[1;32m      4\u001b[0m \u001b[0;34m\u001b[0m\u001b[0m\n\u001b[1;32m      5\u001b[0m     \u001b[0mretriever\u001b[0m \u001b[0;34m=\u001b[0m \u001b[0mPyLuceneRetriever\u001b[0m\u001b[0;34m(\u001b[0m\u001b[0;34m)\u001b[0m\u001b[0;34m\u001b[0m\u001b[0;34m\u001b[0m\u001b[0m\n",
      "\u001b[0;32m/nfs/phd_by_carlos/notebooks/utils/dataset_loaders.py\u001b[0m in \u001b[0;36m__init__\u001b[0;34m(self, src_fp, tgt_fp, max_seq_len, split_fn)\u001b[0m\n\u001b[1;32m      9\u001b[0m     \u001b[0;32mdef\u001b[0m \u001b[0m__init__\u001b[0m\u001b[0;34m(\u001b[0m\u001b[0mself\u001b[0m\u001b[0;34m,\u001b[0m \u001b[0msrc_fp\u001b[0m\u001b[0;34m,\u001b[0m \u001b[0mtgt_fp\u001b[0m\u001b[0;34m,\u001b[0m \u001b[0mmax_seq_len\u001b[0m\u001b[0;34m=\u001b[0m\u001b[0;36m50\u001b[0m\u001b[0;34m,\u001b[0m \u001b[0msplit_fn\u001b[0m\u001b[0;34m=\u001b[0m\u001b[0mstring_split_v3\u001b[0m\u001b[0;34m)\u001b[0m\u001b[0;34m:\u001b[0m\u001b[0;34m\u001b[0m\u001b[0;34m\u001b[0m\u001b[0m\n\u001b[1;32m     10\u001b[0m         \u001b[0mself\u001b[0m\u001b[0;34m.\u001b[0m\u001b[0msamples\u001b[0m \u001b[0;34m=\u001b[0m \u001b[0mcorpus_to_array\u001b[0m\u001b[0;34m(\u001b[0m\u001b[0msrc_fp\u001b[0m\u001b[0;34m,\u001b[0m \u001b[0mtgt_fp\u001b[0m\u001b[0;34m)\u001b[0m\u001b[0;34m\u001b[0m\u001b[0;34m\u001b[0m\u001b[0m\n\u001b[0;32m---> 11\u001b[0;31m         \u001b[0mself\u001b[0m\u001b[0;34m.\u001b[0m\u001b[0msamples\u001b[0m \u001b[0;34m=\u001b[0m \u001b[0mfilter_corpus\u001b[0m\u001b[0;34m(\u001b[0m\u001b[0mself\u001b[0m\u001b[0;34m.\u001b[0m\u001b[0msamples\u001b[0m\u001b[0;34m,\u001b[0m \u001b[0mmax_seq_len\u001b[0m\u001b[0;34m,\u001b[0m \u001b[0mtokenizer\u001b[0m\u001b[0;34m=\u001b[0m\u001b[0msplit_fn\u001b[0m\u001b[0;34m)\u001b[0m\u001b[0;34m\u001b[0m\u001b[0;34m\u001b[0m\u001b[0m\n\u001b[0m\u001b[1;32m     12\u001b[0m         \u001b[0mself\u001b[0m\u001b[0;34m.\u001b[0m\u001b[0msamples\u001b[0m \u001b[0;34m=\u001b[0m \u001b[0mclean_samples\u001b[0m\u001b[0;34m(\u001b[0m\u001b[0mself\u001b[0m\u001b[0;34m.\u001b[0m\u001b[0msamples\u001b[0m\u001b[0;34m)\u001b[0m\u001b[0;34m\u001b[0m\u001b[0;34m\u001b[0m\u001b[0m\n\u001b[1;32m     13\u001b[0m \u001b[0;34m\u001b[0m\u001b[0m\n",
      "\u001b[0;32m/nfs/phd_by_carlos/notebooks/utils/useful_utils.py\u001b[0m in \u001b[0;36mfilter_corpus\u001b[0;34m(data, max_seq_length, tokenizer)\u001b[0m\n\u001b[1;32m     38\u001b[0m         \u001b[0mdata\u001b[0m\u001b[0;34m:\u001b[0m \u001b[0;34m[\u001b[0m\u001b[0;34m(\u001b[0m\u001b[0mstr\u001b[0m\u001b[0;34m,\u001b[0m\u001b[0mstr\u001b[0m\u001b[0;34m)\u001b[0m\u001b[0;34m]\u001b[0m\u001b[0;34m:\u001b[0m \u001b[0mthe\u001b[0m \u001b[0mfiltered\u001b[0m \u001b[0mlist\u001b[0m\u001b[0;34m\u001b[0m\u001b[0;34m\u001b[0m\u001b[0m\n\u001b[1;32m     39\u001b[0m     '''\n\u001b[0;32m---> 40\u001b[0;31m     \u001b[0;32mreturn\u001b[0m \u001b[0;34m[\u001b[0m\u001b[0;34m(\u001b[0m\u001b[0msrc\u001b[0m\u001b[0;34m,\u001b[0m \u001b[0mtgt\u001b[0m\u001b[0;34m)\u001b[0m \u001b[0;32mfor\u001b[0m \u001b[0msrc\u001b[0m\u001b[0;34m,\u001b[0m \u001b[0mtgt\u001b[0m \u001b[0;32min\u001b[0m \u001b[0mdata\u001b[0m \u001b[0;32mif\u001b[0m \u001b[0mlen\u001b[0m\u001b[0;34m(\u001b[0m\u001b[0mtokenizer\u001b[0m\u001b[0;34m(\u001b[0m\u001b[0msrc\u001b[0m\u001b[0;34m)\u001b[0m\u001b[0;34m)\u001b[0m \u001b[0;34m<=\u001b[0m \u001b[0mmax_seq_length\u001b[0m \u001b[0;32mand\u001b[0m \u001b[0mlen\u001b[0m\u001b[0;34m(\u001b[0m\u001b[0mtokenizer\u001b[0m\u001b[0;34m(\u001b[0m\u001b[0mtgt\u001b[0m\u001b[0;34m)\u001b[0m\u001b[0;34m)\u001b[0m \u001b[0;34m<=\u001b[0m \u001b[0mmax_seq_length\u001b[0m\u001b[0;34m]\u001b[0m\u001b[0;34m\u001b[0m\u001b[0;34m\u001b[0m\u001b[0m\n\u001b[0m\u001b[1;32m     41\u001b[0m \u001b[0;34m\u001b[0m\u001b[0m\n\u001b[1;32m     42\u001b[0m \u001b[0;32mdef\u001b[0m \u001b[0mclean_samples\u001b[0m\u001b[0;34m(\u001b[0m\u001b[0mdata\u001b[0m\u001b[0;34m)\u001b[0m\u001b[0;34m:\u001b[0m\u001b[0;34m\u001b[0m\u001b[0;34m\u001b[0m\u001b[0m\n",
      "\u001b[0;32m/nfs/phd_by_carlos/notebooks/utils/useful_utils.py\u001b[0m in \u001b[0;36m<listcomp>\u001b[0;34m(.0)\u001b[0m\n\u001b[1;32m     38\u001b[0m         \u001b[0mdata\u001b[0m\u001b[0;34m:\u001b[0m \u001b[0;34m[\u001b[0m\u001b[0;34m(\u001b[0m\u001b[0mstr\u001b[0m\u001b[0;34m,\u001b[0m\u001b[0mstr\u001b[0m\u001b[0;34m)\u001b[0m\u001b[0;34m]\u001b[0m\u001b[0;34m:\u001b[0m \u001b[0mthe\u001b[0m \u001b[0mfiltered\u001b[0m \u001b[0mlist\u001b[0m\u001b[0;34m\u001b[0m\u001b[0;34m\u001b[0m\u001b[0m\n\u001b[1;32m     39\u001b[0m     '''\n\u001b[0;32m---> 40\u001b[0;31m     \u001b[0;32mreturn\u001b[0m \u001b[0;34m[\u001b[0m\u001b[0;34m(\u001b[0m\u001b[0msrc\u001b[0m\u001b[0;34m,\u001b[0m \u001b[0mtgt\u001b[0m\u001b[0;34m)\u001b[0m \u001b[0;32mfor\u001b[0m \u001b[0msrc\u001b[0m\u001b[0;34m,\u001b[0m \u001b[0mtgt\u001b[0m \u001b[0;32min\u001b[0m \u001b[0mdata\u001b[0m \u001b[0;32mif\u001b[0m \u001b[0mlen\u001b[0m\u001b[0;34m(\u001b[0m\u001b[0mtokenizer\u001b[0m\u001b[0;34m(\u001b[0m\u001b[0msrc\u001b[0m\u001b[0;34m)\u001b[0m\u001b[0;34m)\u001b[0m \u001b[0;34m<=\u001b[0m \u001b[0mmax_seq_length\u001b[0m \u001b[0;32mand\u001b[0m \u001b[0mlen\u001b[0m\u001b[0;34m(\u001b[0m\u001b[0mtokenizer\u001b[0m\u001b[0;34m(\u001b[0m\u001b[0mtgt\u001b[0m\u001b[0;34m)\u001b[0m\u001b[0;34m)\u001b[0m \u001b[0;34m<=\u001b[0m \u001b[0mmax_seq_length\u001b[0m\u001b[0;34m]\u001b[0m\u001b[0;34m\u001b[0m\u001b[0;34m\u001b[0m\u001b[0m\n\u001b[0m\u001b[1;32m     41\u001b[0m \u001b[0;34m\u001b[0m\u001b[0m\n\u001b[1;32m     42\u001b[0m \u001b[0;32mdef\u001b[0m \u001b[0mclean_samples\u001b[0m\u001b[0;34m(\u001b[0m\u001b[0mdata\u001b[0m\u001b[0;34m)\u001b[0m\u001b[0;34m:\u001b[0m\u001b[0;34m\u001b[0m\u001b[0;34m\u001b[0m\u001b[0m\n",
      "\u001b[0;32m/nfs/phd_by_carlos/notebooks/utils/useful_utils.py\u001b[0m in \u001b[0;36mstring_split_v3\u001b[0;34m(s)\u001b[0m\n\u001b[1;32m     81\u001b[0m     \u001b[0;34m[\u001b[0m\u001b[0;34m'create'\u001b[0m\u001b[0;34m,\u001b[0m \u001b[0;34m'variable'\u001b[0m\u001b[0;34m,\u001b[0m \u001b[0;34m'student_names'\u001b[0m\u001b[0;34m,\u001b[0m \u001b[0;34m'with'\u001b[0m\u001b[0;34m,\u001b[0m \u001b[0;34m'string'\u001b[0m\u001b[0;34m,\u001b[0m \u001b[0;34m\"'foo bar baz'\"\u001b[0m\u001b[0;34m]\u001b[0m\u001b[0;34m\u001b[0m\u001b[0;34m\u001b[0m\u001b[0m\n\u001b[1;32m     82\u001b[0m     '''\n\u001b[0;32m---> 83\u001b[0;31m     \u001b[0;32mreturn\u001b[0m \u001b[0mlist\u001b[0m\u001b[0;34m(\u001b[0m\u001b[0mfilter\u001b[0m\u001b[0;34m(\u001b[0m\u001b[0;32mlambda\u001b[0m \u001b[0mx\u001b[0m\u001b[0;34m:\u001b[0m \u001b[0mx\u001b[0m \u001b[0;34m!=\u001b[0m \u001b[0;34m''\u001b[0m \u001b[0;32mand\u001b[0m \u001b[0mx\u001b[0m \u001b[0;34m!=\u001b[0m \u001b[0;34m\"\\n\"\u001b[0m \u001b[0;32mand\u001b[0m \u001b[0;32mnot\u001b[0m \u001b[0mx\u001b[0m\u001b[0;34m.\u001b[0m\u001b[0misspace\u001b[0m\u001b[0;34m(\u001b[0m\u001b[0;34m)\u001b[0m\u001b[0;34m,\u001b[0m \u001b[0mre\u001b[0m\u001b[0;34m.\u001b[0m\u001b[0msplit\u001b[0m\u001b[0;34m(\u001b[0m\u001b[0;34m'(\\\\\\'.*?\\\\\\'|\\\\\\\".*?\\\\\\\"|\\W)'\u001b[0m\u001b[0;34m,\u001b[0m \u001b[0ms\u001b[0m\u001b[0;34m)\u001b[0m\u001b[0;34m)\u001b[0m\u001b[0;34m)\u001b[0m\u001b[0;34m\u001b[0m\u001b[0;34m\u001b[0m\u001b[0m\n\u001b[0m\u001b[1;32m     84\u001b[0m \u001b[0;34m\u001b[0m\u001b[0m\n\u001b[1;32m     85\u001b[0m \u001b[0;32mdef\u001b[0m \u001b[0msamples_to_dataset\u001b[0m\u001b[0;34m(\u001b[0m\u001b[0msamples\u001b[0m\u001b[0;34m)\u001b[0m\u001b[0;34m:\u001b[0m\u001b[0;34m\u001b[0m\u001b[0;34m\u001b[0m\u001b[0m\n",
      "\u001b[0;32m/nfs/phd_by_carlos/notebooks/utils/useful_utils.py\u001b[0m in \u001b[0;36m<lambda>\u001b[0;34m(x)\u001b[0m\n\u001b[1;32m     81\u001b[0m     \u001b[0;34m[\u001b[0m\u001b[0;34m'create'\u001b[0m\u001b[0;34m,\u001b[0m \u001b[0;34m'variable'\u001b[0m\u001b[0;34m,\u001b[0m \u001b[0;34m'student_names'\u001b[0m\u001b[0;34m,\u001b[0m \u001b[0;34m'with'\u001b[0m\u001b[0;34m,\u001b[0m \u001b[0;34m'string'\u001b[0m\u001b[0;34m,\u001b[0m \u001b[0;34m\"'foo bar baz'\"\u001b[0m\u001b[0;34m]\u001b[0m\u001b[0;34m\u001b[0m\u001b[0;34m\u001b[0m\u001b[0m\n\u001b[1;32m     82\u001b[0m     '''\n\u001b[0;32m---> 83\u001b[0;31m     \u001b[0;32mreturn\u001b[0m \u001b[0mlist\u001b[0m\u001b[0;34m(\u001b[0m\u001b[0mfilter\u001b[0m\u001b[0;34m(\u001b[0m\u001b[0;32mlambda\u001b[0m \u001b[0mx\u001b[0m\u001b[0;34m:\u001b[0m \u001b[0mx\u001b[0m \u001b[0;34m!=\u001b[0m \u001b[0;34m''\u001b[0m \u001b[0;32mand\u001b[0m \u001b[0mx\u001b[0m \u001b[0;34m!=\u001b[0m \u001b[0;34m\"\\n\"\u001b[0m \u001b[0;32mand\u001b[0m \u001b[0;32mnot\u001b[0m \u001b[0mx\u001b[0m\u001b[0;34m.\u001b[0m\u001b[0misspace\u001b[0m\u001b[0;34m(\u001b[0m\u001b[0;34m)\u001b[0m\u001b[0;34m,\u001b[0m \u001b[0mre\u001b[0m\u001b[0;34m.\u001b[0m\u001b[0msplit\u001b[0m\u001b[0;34m(\u001b[0m\u001b[0;34m'(\\\\\\'.*?\\\\\\'|\\\\\\\".*?\\\\\\\"|\\W)'\u001b[0m\u001b[0;34m,\u001b[0m \u001b[0ms\u001b[0m\u001b[0;34m)\u001b[0m\u001b[0;34m)\u001b[0m\u001b[0;34m)\u001b[0m\u001b[0;34m\u001b[0m\u001b[0;34m\u001b[0m\u001b[0m\n\u001b[0m\u001b[1;32m     84\u001b[0m \u001b[0;34m\u001b[0m\u001b[0m\n\u001b[1;32m     85\u001b[0m \u001b[0;32mdef\u001b[0m \u001b[0msamples_to_dataset\u001b[0m\u001b[0;34m(\u001b[0m\u001b[0msamples\u001b[0m\u001b[0;34m)\u001b[0m\u001b[0;34m:\u001b[0m\u001b[0;34m\u001b[0m\u001b[0;34m\u001b[0m\u001b[0m\n",
      "\u001b[0;31mKeyboardInterrupt\u001b[0m: "
     ]
    }
   ],
   "source": [
    "rand_iters = 30\n",
    "\n",
    "# src_train_fp = \"datasets/django_folds/django.fold1-10.train.src\"\n",
    "# tgt_train_fp = \"datasets/django_folds/django.fold1-10.train.tgt\"\n",
    "# src_test_fp = \"datasets/django_folds/django.fold1-10.test.src\"\n",
    "# tgt_test_fp = \"datasets/django_folds/django.fold1-10.test.tgt\"\n",
    "\n",
    "# src_train_fp = \"datasets/CoNaLa/conala-train.src\"\n",
    "# tgt_train_fp = \"datasets/CoNaLa/conala-train.tgt\"\n",
    "# src_test_fp = \"datasets/CoNaLa/conala-test.src\"\n",
    "# tgt_test_fp = \"datasets/CoNaLa/conala-test.tgt\"\n",
    "\n",
    "src_train_fp = \"datasets/merged/merged_Dj_HS_Co.train.src\"\n",
    "tgt_train_fp = \"datasets/merged/merged_Dj_HS_Co.train.tgt\"\n",
    "src_test_fp = \"datasets/django_folds/django.fold1-10.test.src\"\n",
    "tgt_test_fp = \"datasets/django_folds/django.fold1-10.test.tgt\"\n",
    "\n",
    "for i in range(rand_iters):\n",
    "    k1 = np.random.uniform(0,5)\n",
    "    b = np.random.uniform(0,1)\n",
    "    scores = retriever_eval(src_train_fp, tgt_train_fp, src_test_fp, tgt_test_fp, k1=k1, b=b)\n",
    "    BLEU_score = np.average(scores)\n",
    "    print(f\"k1={k1:.2f} | b={b:.2f} | BLEU={BLEU_score:.3f}\")"
   ]
  },
  {
   "cell_type": "code",
   "execution_count": null,
   "metadata": {},
   "outputs": [],
   "source": [
    "from joblib import Parallel, delayed\n",
    "import multiprocessing"
   ]
  },
  {
   "cell_type": "code",
   "execution_count": 65,
   "metadata": {},
   "outputs": [
    {
     "data": {
      "application/vnd.jupyter.widget-view+json": {
       "model_id": "5f40d37f629b477391c1c98612667eed",
       "version_major": 2,
       "version_minor": 0
      },
      "text/plain": [
       "HBox(children=(IntProgress(value=0), HTML(value='')))"
      ]
     },
     "metadata": {},
     "output_type": "display_data"
    },
    {
     "name": "stdout",
     "output_type": "stream",
     "text": [
      "\n"
     ]
    }
   ],
   "source": [
    "def BLEU_oracle(src_train_fp, tgt_train_fp, src_test_fp, tgt_test_fp):\n",
    "    train_samples = SRC_TGT_pairs(src_train_fp, tgt_train_fp).samples\n",
    "    test_samples = SRC_TGT_pairs(src_test_fp, tgt_test_fp).samples[:100]\n",
    "    \n",
    "    num_cores = multiprocessing.cpu_count()\n",
    "    inputs = tqdm.tqdm([tgt for src, tgt in test_samples])\n",
    "    \n",
    "    \n",
    "    BLEUs = []\n",
    "#     for test_src, test_tgt in tqdm.tqdm(test_samples):\n",
    "    def calc_bleu(test_tgt):\n",
    "        best_BLEUs = []\n",
    "        for train_src, train_tgt in train_samples:\n",
    "            BLEU = nltk_bleu(string_split_v3(train_tgt), string_split_v3(test_tgt))\n",
    "            best_BLEUs.append(BLEU)\n",
    "#         BLEUs.append(max(best_BLEUs))\n",
    "        return max(best_BLEUs)\n",
    "    \n",
    "    processed_list = Parallel(n_jobs=num_cores)(delayed(calc_bleu)(i) for i in inputs)\n",
    "\n",
    "    return processed_list\n",
    "\n",
    "scores = BLEU_oracle(src_train_fp, tgt_train_fp, src_test_fp, tgt_test_fp)"
   ]
  },
  {
   "cell_type": "code",
   "execution_count": 66,
   "metadata": {
    "collapsed": true,
    "jupyter": {
     "outputs_hidden": true
    }
   },
   "outputs": [
    {
     "data": {
      "text/plain": [
       "[0.21364350319811704,\n",
       " 0.7071067811865476,\n",
       " 1.0,\n",
       " 0.537284965911771,\n",
       " 0.24808415001701817,\n",
       " 0.5266403878479265,\n",
       " 0.537284965911771,\n",
       " 0.7506238537503395,\n",
       " 0.39763536438352537,\n",
       " 0.7071067811865476,\n",
       " 0.30739407647563216,\n",
       " 0.39763536438352537,\n",
       " 1.0,\n",
       " 0.537284965911771,\n",
       " 0.24808415001701817,\n",
       " 0.6147881529512643,\n",
       " 0.537284965911771,\n",
       " 0.7506238537503395,\n",
       " 0.39763536438352537,\n",
       " 0.7071067811865476,\n",
       " 0.30739407647563216,\n",
       " 0.35930411196308426,\n",
       " 0.35930411196308426,\n",
       " 0.30739407647563216,\n",
       " 0.35930411196308426,\n",
       " 0.37991784282579627,\n",
       " 0.4518010018049224,\n",
       " 0.41113361690051975,\n",
       " 0.42728700639623407,\n",
       " 1.0,\n",
       " 0.41113361690051975,\n",
       " 0.39763536438352537,\n",
       " 1.0,\n",
       " 0.668740304976422,\n",
       " 1.0,\n",
       " 0.41113361690051975,\n",
       " 0.5859059370151705,\n",
       " 1.0,\n",
       " 0.30739407647563216,\n",
       " 1.0,\n",
       " 0.3972418603247485,\n",
       " 0.3303164318013807,\n",
       " 1.0,\n",
       " 0.33277145517762347,\n",
       " 0.4347208719449914,\n",
       " 0.23793665482062612,\n",
       " 0.3551292228499906,\n",
       " 0.3945881255591767,\n",
       " 0.18216041731535024,\n",
       " 0.20164945583740662,\n",
       " 1.0,\n",
       " 0.5081327481546147,\n",
       " 0.21364350319811704,\n",
       " 0.6147881529512643,\n",
       " 0.5081327481546147,\n",
       " 0.38260294162784475,\n",
       " 0.6147881529512643,\n",
       " 0.2730120862709067,\n",
       " 0.45180100180492244,\n",
       " 0.2730120862709067,\n",
       " 0.537284965911771,\n",
       " 0.2730120862709067,\n",
       " 0.4172261448611506,\n",
       " 1.0,\n",
       " 0.2730120862709067,\n",
       " 0.6147881529512643,\n",
       " 0.5555238068023582,\n",
       " 0.21364350319811704,\n",
       " 0.5266403878479265,\n",
       " 0.5555238068023582,\n",
       " 0.21364350319811704,\n",
       " 0.4854917717073234,\n",
       " 1.0,\n",
       " 1.0,\n",
       " 1.0,\n",
       " 0.43361890903486755,\n",
       " 0.19804854714851308,\n",
       " 0.0711352861308538,\n",
       " 0.3237722713145643,\n",
       " 0.2777619034011791,\n",
       " 0.5491004867761125,\n",
       " 0.21004850229269248,\n",
       " 0.10934883431625593,\n",
       " 0.21364350319811704,\n",
       " 0.537284965911771,\n",
       " 0.16515821590069035,\n",
       " 0.6389431042462724,\n",
       " 0.22115966812339868,\n",
       " 0.10934883431625593,\n",
       " 0.18503199561392897,\n",
       " 0.6147881529512643,\n",
       " 0.39962332754792124,\n",
       " 0.537284965911771,\n",
       " 1.0,\n",
       " 0.13919269541647367,\n",
       " 0.537284965911771,\n",
       " 0.16515821590069035,\n",
       " 0.16515821590069035,\n",
       " 0.35082163205156314,\n",
       " 0.537284965911771]"
      ]
     },
     "execution_count": 66,
     "metadata": {},
     "output_type": "execute_result"
    }
   ],
   "source": [
    "scores"
   ]
  },
  {
   "cell_type": "code",
   "execution_count": 67,
   "metadata": {},
   "outputs": [
    {
     "data": {
      "text/plain": [
       "0.48330251599852075"
      ]
     },
     "execution_count": 67,
     "metadata": {},
     "output_type": "execute_result"
    }
   ],
   "source": [
    "np.average(scores)"
   ]
  },
  {
   "cell_type": "code",
   "execution_count": 42,
   "metadata": {},
   "outputs": [
    {
     "name": "stderr",
     "output_type": "stream",
     "text": [
      "\n",
      "\n",
      "\n",
      "100%|██████████| 4/4 [00:00<00:00, 4841.91it/s]\n"
     ]
    },
    {
     "ename": "TypeError",
     "evalue": "myfunction() takes 2 positional arguments but 3 were given",
     "output_type": "error",
     "traceback": [
      "\u001b[0;31m---------------------------------------------------------------------------\u001b[0m",
      "\u001b[0;31m_RemoteTraceback\u001b[0m                          Traceback (most recent call last)",
      "\u001b[0;31m_RemoteTraceback\u001b[0m: \n\"\"\"\nTraceback (most recent call last):\n  File \"/usr/local/lib/python3.6/dist-packages/joblib/externals/loky/process_executor.py\", line 418, in _process_worker\n    r = call_item()\n  File \"/usr/local/lib/python3.6/dist-packages/joblib/externals/loky/process_executor.py\", line 272, in __call__\n    return self.fn(*self.args, **self.kwargs)\n  File \"/usr/local/lib/python3.6/dist-packages/joblib/_parallel_backends.py\", line 608, in __call__\n    return self.func(*args, **kwargs)\n  File \"/usr/local/lib/python3.6/dist-packages/joblib/parallel.py\", line 256, in __call__\n    for func, args, kwargs in self.items]\n  File \"/usr/local/lib/python3.6/dist-packages/joblib/parallel.py\", line 256, in <listcomp>\n    for func, args, kwargs in self.items]\nTypeError: myfunction() takes 2 positional arguments but 3 were given\n\"\"\"",
      "\nThe above exception was the direct cause of the following exception:\n",
      "\u001b[0;31mTypeError\u001b[0m                                 Traceback (most recent call last)",
      "\u001b[0;32m<ipython-input-42-b874c681391d>\u001b[0m in \u001b[0;36m<module>\u001b[0;34m\u001b[0m\n\u001b[1;32m     13\u001b[0m \u001b[0mparameters\u001b[0m \u001b[0;34m=\u001b[0m \u001b[0;34m[\u001b[0m\u001b[0;36m100\u001b[0m\u001b[0;34m,\u001b[0m \u001b[0;36m5\u001b[0m\u001b[0;34m]\u001b[0m\u001b[0;34m\u001b[0m\u001b[0;34m\u001b[0m\u001b[0m\n\u001b[1;32m     14\u001b[0m \u001b[0;34m\u001b[0m\u001b[0m\n\u001b[0;32m---> 15\u001b[0;31m \u001b[0mprocessed_list\u001b[0m \u001b[0;34m=\u001b[0m \u001b[0mParallel\u001b[0m\u001b[0;34m(\u001b[0m\u001b[0mn_jobs\u001b[0m\u001b[0;34m=\u001b[0m\u001b[0mnum_cores\u001b[0m\u001b[0;34m)\u001b[0m\u001b[0;34m(\u001b[0m\u001b[0mdelayed\u001b[0m\u001b[0;34m(\u001b[0m\u001b[0mmyfunction\u001b[0m\u001b[0;34m)\u001b[0m\u001b[0;34m(\u001b[0m\u001b[0mi\u001b[0m\u001b[0;34m,\u001b[0m\u001b[0;34m*\u001b[0m\u001b[0mparameters\u001b[0m\u001b[0;34m)\u001b[0m \u001b[0;32mfor\u001b[0m \u001b[0mi\u001b[0m \u001b[0;32min\u001b[0m \u001b[0minputs\u001b[0m\u001b[0;34m)\u001b[0m\u001b[0;34m\u001b[0m\u001b[0;34m\u001b[0m\u001b[0m\n\u001b[0m\u001b[1;32m     16\u001b[0m \u001b[0mprocessed_list\u001b[0m\u001b[0;34m\u001b[0m\u001b[0;34m\u001b[0m\u001b[0m\n",
      "\u001b[0;32m/usr/local/lib/python3.6/dist-packages/joblib/parallel.py\u001b[0m in \u001b[0;36m__call__\u001b[0;34m(self, iterable)\u001b[0m\n\u001b[1;32m   1015\u001b[0m \u001b[0;34m\u001b[0m\u001b[0m\n\u001b[1;32m   1016\u001b[0m             \u001b[0;32mwith\u001b[0m \u001b[0mself\u001b[0m\u001b[0;34m.\u001b[0m\u001b[0m_backend\u001b[0m\u001b[0;34m.\u001b[0m\u001b[0mretrieval_context\u001b[0m\u001b[0;34m(\u001b[0m\u001b[0;34m)\u001b[0m\u001b[0;34m:\u001b[0m\u001b[0;34m\u001b[0m\u001b[0;34m\u001b[0m\u001b[0m\n\u001b[0;32m-> 1017\u001b[0;31m                 \u001b[0mself\u001b[0m\u001b[0;34m.\u001b[0m\u001b[0mretrieve\u001b[0m\u001b[0;34m(\u001b[0m\u001b[0;34m)\u001b[0m\u001b[0;34m\u001b[0m\u001b[0;34m\u001b[0m\u001b[0m\n\u001b[0m\u001b[1;32m   1018\u001b[0m             \u001b[0;31m# Make sure that we get a last message telling us we are done\u001b[0m\u001b[0;34m\u001b[0m\u001b[0;34m\u001b[0m\u001b[0;34m\u001b[0m\u001b[0m\n\u001b[1;32m   1019\u001b[0m             \u001b[0melapsed_time\u001b[0m \u001b[0;34m=\u001b[0m \u001b[0mtime\u001b[0m\u001b[0;34m.\u001b[0m\u001b[0mtime\u001b[0m\u001b[0;34m(\u001b[0m\u001b[0;34m)\u001b[0m \u001b[0;34m-\u001b[0m \u001b[0mself\u001b[0m\u001b[0;34m.\u001b[0m\u001b[0m_start_time\u001b[0m\u001b[0;34m\u001b[0m\u001b[0;34m\u001b[0m\u001b[0m\n",
      "\u001b[0;32m/usr/local/lib/python3.6/dist-packages/joblib/parallel.py\u001b[0m in \u001b[0;36mretrieve\u001b[0;34m(self)\u001b[0m\n\u001b[1;32m    907\u001b[0m             \u001b[0;32mtry\u001b[0m\u001b[0;34m:\u001b[0m\u001b[0;34m\u001b[0m\u001b[0;34m\u001b[0m\u001b[0m\n\u001b[1;32m    908\u001b[0m                 \u001b[0;32mif\u001b[0m \u001b[0mgetattr\u001b[0m\u001b[0;34m(\u001b[0m\u001b[0mself\u001b[0m\u001b[0;34m.\u001b[0m\u001b[0m_backend\u001b[0m\u001b[0;34m,\u001b[0m \u001b[0;34m'supports_timeout'\u001b[0m\u001b[0;34m,\u001b[0m \u001b[0;32mFalse\u001b[0m\u001b[0;34m)\u001b[0m\u001b[0;34m:\u001b[0m\u001b[0;34m\u001b[0m\u001b[0;34m\u001b[0m\u001b[0m\n\u001b[0;32m--> 909\u001b[0;31m                     \u001b[0mself\u001b[0m\u001b[0;34m.\u001b[0m\u001b[0m_output\u001b[0m\u001b[0;34m.\u001b[0m\u001b[0mextend\u001b[0m\u001b[0;34m(\u001b[0m\u001b[0mjob\u001b[0m\u001b[0;34m.\u001b[0m\u001b[0mget\u001b[0m\u001b[0;34m(\u001b[0m\u001b[0mtimeout\u001b[0m\u001b[0;34m=\u001b[0m\u001b[0mself\u001b[0m\u001b[0;34m.\u001b[0m\u001b[0mtimeout\u001b[0m\u001b[0;34m)\u001b[0m\u001b[0;34m)\u001b[0m\u001b[0;34m\u001b[0m\u001b[0;34m\u001b[0m\u001b[0m\n\u001b[0m\u001b[1;32m    910\u001b[0m                 \u001b[0;32melse\u001b[0m\u001b[0;34m:\u001b[0m\u001b[0;34m\u001b[0m\u001b[0;34m\u001b[0m\u001b[0m\n\u001b[1;32m    911\u001b[0m                     \u001b[0mself\u001b[0m\u001b[0;34m.\u001b[0m\u001b[0m_output\u001b[0m\u001b[0;34m.\u001b[0m\u001b[0mextend\u001b[0m\u001b[0;34m(\u001b[0m\u001b[0mjob\u001b[0m\u001b[0;34m.\u001b[0m\u001b[0mget\u001b[0m\u001b[0;34m(\u001b[0m\u001b[0;34m)\u001b[0m\u001b[0;34m)\u001b[0m\u001b[0;34m\u001b[0m\u001b[0;34m\u001b[0m\u001b[0m\n",
      "\u001b[0;32m/usr/local/lib/python3.6/dist-packages/joblib/_parallel_backends.py\u001b[0m in \u001b[0;36mwrap_future_result\u001b[0;34m(future, timeout)\u001b[0m\n\u001b[1;32m    560\u001b[0m         AsyncResults.get from multiprocessing.\"\"\"\n\u001b[1;32m    561\u001b[0m         \u001b[0;32mtry\u001b[0m\u001b[0;34m:\u001b[0m\u001b[0;34m\u001b[0m\u001b[0;34m\u001b[0m\u001b[0m\n\u001b[0;32m--> 562\u001b[0;31m             \u001b[0;32mreturn\u001b[0m \u001b[0mfuture\u001b[0m\u001b[0;34m.\u001b[0m\u001b[0mresult\u001b[0m\u001b[0;34m(\u001b[0m\u001b[0mtimeout\u001b[0m\u001b[0;34m=\u001b[0m\u001b[0mtimeout\u001b[0m\u001b[0;34m)\u001b[0m\u001b[0;34m\u001b[0m\u001b[0;34m\u001b[0m\u001b[0m\n\u001b[0m\u001b[1;32m    563\u001b[0m         \u001b[0;32mexcept\u001b[0m \u001b[0mLokyTimeoutError\u001b[0m\u001b[0;34m:\u001b[0m\u001b[0;34m\u001b[0m\u001b[0;34m\u001b[0m\u001b[0m\n\u001b[1;32m    564\u001b[0m             \u001b[0;32mraise\u001b[0m \u001b[0mTimeoutError\u001b[0m\u001b[0;34m(\u001b[0m\u001b[0;34m)\u001b[0m\u001b[0;34m\u001b[0m\u001b[0;34m\u001b[0m\u001b[0m\n",
      "\u001b[0;32m/usr/lib/python3.6/concurrent/futures/_base.py\u001b[0m in \u001b[0;36mresult\u001b[0;34m(self, timeout)\u001b[0m\n\u001b[1;32m    430\u001b[0m                 \u001b[0;32mraise\u001b[0m \u001b[0mCancelledError\u001b[0m\u001b[0;34m(\u001b[0m\u001b[0;34m)\u001b[0m\u001b[0;34m\u001b[0m\u001b[0;34m\u001b[0m\u001b[0m\n\u001b[1;32m    431\u001b[0m             \u001b[0;32melif\u001b[0m \u001b[0mself\u001b[0m\u001b[0;34m.\u001b[0m\u001b[0m_state\u001b[0m \u001b[0;34m==\u001b[0m \u001b[0mFINISHED\u001b[0m\u001b[0;34m:\u001b[0m\u001b[0;34m\u001b[0m\u001b[0;34m\u001b[0m\u001b[0m\n\u001b[0;32m--> 432\u001b[0;31m                 \u001b[0;32mreturn\u001b[0m \u001b[0mself\u001b[0m\u001b[0;34m.\u001b[0m\u001b[0m__get_result\u001b[0m\u001b[0;34m(\u001b[0m\u001b[0;34m)\u001b[0m\u001b[0;34m\u001b[0m\u001b[0;34m\u001b[0m\u001b[0m\n\u001b[0m\u001b[1;32m    433\u001b[0m             \u001b[0;32melse\u001b[0m\u001b[0;34m:\u001b[0m\u001b[0;34m\u001b[0m\u001b[0;34m\u001b[0m\u001b[0m\n\u001b[1;32m    434\u001b[0m                 \u001b[0;32mraise\u001b[0m \u001b[0mTimeoutError\u001b[0m\u001b[0;34m(\u001b[0m\u001b[0;34m)\u001b[0m\u001b[0;34m\u001b[0m\u001b[0;34m\u001b[0m\u001b[0m\n",
      "\u001b[0;32m/usr/lib/python3.6/concurrent/futures/_base.py\u001b[0m in \u001b[0;36m__get_result\u001b[0;34m(self)\u001b[0m\n\u001b[1;32m    382\u001b[0m     \u001b[0;32mdef\u001b[0m \u001b[0m__get_result\u001b[0m\u001b[0;34m(\u001b[0m\u001b[0mself\u001b[0m\u001b[0;34m)\u001b[0m\u001b[0;34m:\u001b[0m\u001b[0;34m\u001b[0m\u001b[0;34m\u001b[0m\u001b[0m\n\u001b[1;32m    383\u001b[0m         \u001b[0;32mif\u001b[0m \u001b[0mself\u001b[0m\u001b[0;34m.\u001b[0m\u001b[0m_exception\u001b[0m\u001b[0;34m:\u001b[0m\u001b[0;34m\u001b[0m\u001b[0;34m\u001b[0m\u001b[0m\n\u001b[0;32m--> 384\u001b[0;31m             \u001b[0;32mraise\u001b[0m \u001b[0mself\u001b[0m\u001b[0;34m.\u001b[0m\u001b[0m_exception\u001b[0m\u001b[0;34m\u001b[0m\u001b[0;34m\u001b[0m\u001b[0m\n\u001b[0m\u001b[1;32m    385\u001b[0m         \u001b[0;32melse\u001b[0m\u001b[0;34m:\u001b[0m\u001b[0;34m\u001b[0m\u001b[0;34m\u001b[0m\u001b[0m\n\u001b[1;32m    386\u001b[0m             \u001b[0;32mreturn\u001b[0m \u001b[0mself\u001b[0m\u001b[0;34m.\u001b[0m\u001b[0m_result\u001b[0m\u001b[0;34m\u001b[0m\u001b[0;34m\u001b[0m\u001b[0m\n",
      "\u001b[0;31mTypeError\u001b[0m: myfunction() takes 2 positional arguments but 3 were given"
     ]
    }
   ],
   "source": [
    "import multiprocessing\n",
    "from joblib import Parallel, delayed\n",
    "from tqdm import tqdm\n",
    "\n",
    "myList = [1,2,3,4]\n",
    "\n",
    "def myfunction(val, c):\n",
    "    return val*3 + c + a\n",
    "\n",
    "num_cores = multiprocessing.cpu_count()\n",
    "inputs = tqdm(myList)\n",
    "\n",
    "parameters = [100, 5]\n",
    "\n",
    "processed_list = Parallel(n_jobs=num_cores)(delayed(myfunction)(i,*parameters) for i in inputs)\n",
    "processed_list"
   ]
  },
  {
   "cell_type": "code",
   "execution_count": null,
   "metadata": {},
   "outputs": [],
   "source": []
  }
 ],
 "metadata": {
  "kernelspec": {
   "display_name": "Python 3",
   "language": "python",
   "name": "python3"
  },
  "language_info": {
   "codemirror_mode": {
    "name": "ipython",
    "version": 3
   },
   "file_extension": ".py",
   "mimetype": "text/x-python",
   "name": "python",
   "nbconvert_exporter": "python",
   "pygments_lexer": "ipython3",
   "version": "3.6.9"
  }
 },
 "nbformat": 4,
 "nbformat_minor": 4
}

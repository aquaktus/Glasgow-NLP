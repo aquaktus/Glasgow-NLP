{
 "cells": [
  {
   "cell_type": "markdown",
   "metadata": {},
   "source": [
    "# Scratch Pad: A symbolic playground for Seq2Seq models\n",
    "\n",
    "```\n",
    "what does Henry do? <scratch_pad> search('Henry') -> ['Henry is a School Psychologist'] </scratch_pad> School Psychologist\n",
    "\n",
    "what is 556 - 301? <scratch_pad> 556 - 301 -> 255 </scratch_pad> 255\n",
    "```"
   ]
  },
  {
   "cell_type": "code",
   "execution_count": 1219,
   "metadata": {},
   "outputs": [
    {
     "name": "stdout",
     "output_type": "stream",
     "text": [
      "The autoreload extension is already loaded. To reload it, use:\n",
      "  %reload_ext autoreload\n",
      "The line_profiler extension is already loaded. To reload it, use:\n",
      "  %reload_ext line_profiler\n",
      "The memory_profiler extension is already loaded. To reload it, use:\n",
      "  %reload_ext memory_profiler\n"
     ]
    }
   ],
   "source": [
    "from rank_bm25 import BM25Okapi\n",
    "from src.models_and_transforms.BERT_models import AlphaBERT\n",
    "from src.models_and_transforms.text_transforms import Numericalise_Transform, Scratch_Pad_Sequence_Policy_Creator_Transform, \\\n",
    "                                                        Rename_Transform, Class_Rebalance_Transform\n",
    "from src.pipe_datasets import Scratch_Pad_Policy_Dataset\n",
    "import re\n",
    "from transformers import GPT2LMHeadModel, GPT2Config, GPT2Tokenizer, GPT2TokenizerFast\n",
    "from transformers import BertConfig, BertTokenizerFast, BertForMaskedLM\n",
    "from tokenizers import processors, Tokenizer\n",
    "import torch\n",
    "from torch import nn\n",
    "from torch.utils.data import Dataset, DataLoader\n",
    "from pytorch_lightning import Trainer, Callback, seed_everything\n",
    "import numpy as np\n",
    "import json\n",
    "from itertools import compress as mask\n",
    "import sys\n",
    "import tqdm\n",
    "from time import perf_counter \n",
    "import random\n",
    "import copy\n",
    "\n",
    "from src.ScratchPad import ScratchPadGame, EpisodeUtility\n",
    "from src.FastMCTS import FastMCTS\n",
    "from src.FasterMCTS import FasterMCTS\n",
    "from dotmap import DotMap\n",
    "import numpy as np\n",
    "from time import perf_counter\n",
    "\n",
    "from src.useful_utils import chunks\n",
    "from src.models_and_transforms.GPT2_models import GPT2_Scratch_Pad_Model\n",
    "sys.path.insert(0,\"src/external_repos/pyfuzz/\")\n",
    "\n",
    "%load_ext autoreload\n",
    "%autoreload 2\n",
    "%load_ext line_profiler\n",
    "%load_ext memory_profiler"
   ]
  },
  {
   "cell_type": "markdown",
   "metadata": {},
   "source": [
    "## Searching function"
   ]
  },
  {
   "cell_type": "code",
   "execution_count": 7,
   "metadata": {},
   "outputs": [],
   "source": [
    "corpus = [\n",
    "    \"Hello there good man!\",\n",
    "    \"It is quite windy in London\",\n",
    "    \"How is the weather today?\"\n",
    "]\n",
    "tokenized_corpus = [re.findall(r\"[\\w']+|[.,!?;]\", doc) for doc in corpus]\n",
    "bm25 = BM25Okapi(tokenized_corpus)"
   ]
  },
  {
   "cell_type": "code",
   "execution_count": 8,
   "metadata": {},
   "outputs": [],
   "source": [
    "def search(q, n=1):\n",
    "    return bm25.get_top_n(q.split(), corpus, n=n)"
   ]
  },
  {
   "cell_type": "markdown",
   "metadata": {},
   "source": [
    "## Using BERT for AlphaZero style learning\n",
    "The model will be both responsible for state $s$ evaluation into a value $v$ and polilcy $\\textbf{p}$\n",
    "\n",
    "\\begin{equation*}\n",
    "(v,\\textbf{p})=f(s|\\theta)\n",
    "\\end{equation*}"
   ]
  },
  {
   "cell_type": "code",
   "execution_count": 2,
   "metadata": {},
   "outputs": [],
   "source": [
    "config = BertConfig()\n",
    "tokenizer = Tokenizer.from_file('datasets/ScratchPad/tokenizer_simple.json')"
   ]
  },
  {
   "cell_type": "code",
   "execution_count": 3,
   "metadata": {},
   "outputs": [],
   "source": [
    "config.num_attention_heads = 1\n",
    "config.hidden_size = 10\n",
    "config.num_hidden_layers = 3\n",
    "config.intermediate_size = 16\n",
    "config.n_ctx = 512\n",
    "config.n_positions = 512\n",
    "config.vocab_size = len(tokenizer.get_vocab())\n",
    "config.position_embedding_type = 'relative_key_query'"
   ]
  },
  {
   "cell_type": "code",
   "execution_count": 9,
   "metadata": {},
   "outputs": [],
   "source": [
    "model = AlphaBERT(config, mask_token_id=tokenizer.token_to_id('[MASK]'), \n",
    "                  value_token_id=tokenizer.token_to_id('[VALUE]'), \n",
    "                  pad_token_id=tokenizer.token_to_id('[PAD]'))"
   ]
  },
  {
   "cell_type": "code",
   "execution_count": 13,
   "metadata": {},
   "outputs": [
    {
     "name": "stdout",
     "output_type": "stream",
     "text": [
      "Input tokens: tensor([[77, 86, 86]])\n"
     ]
    },
    {
     "data": {
      "text/plain": [
       "torch.Size([1, 270])"
      ]
     },
     "execution_count": 13,
     "metadata": {},
     "output_type": "execute_result"
    }
   ],
   "source": [
    "tokens = torch.tensor([i.ids for i in tokenizer.encode_batch(['foo'])], dtype=torch.long)\n",
    "print(\"Input tokens: \"+ str(tokens))\n",
    "model(tokens)[0].shape"
   ]
  },
  {
   "cell_type": "code",
   "execution_count": 6,
   "metadata": {},
   "outputs": [],
   "source": [
    "batch = {'input_ids':tokens, \n",
    "         'target_policy':torch.tensor([[33409]]), \n",
    "#          'target_value':torch.tensor([[1.0]]),\n",
    "         'attention_mask':torch.ones_like(tokens)}"
   ]
  },
  {
   "cell_type": "code",
   "execution_count": 9,
   "metadata": {},
   "outputs": [
    {
     "data": {
      "text/plain": [
       "{'loss': tensor(10.0868, grad_fn=<AddBackward0>),\n",
       " 'log': {'train_loss': tensor(10.0868, grad_fn=<AddBackward0>)}}"
      ]
     },
     "execution_count": 9,
     "metadata": {},
     "output_type": "execute_result"
    }
   ],
   "source": [
    "model.training_step(batch,0)"
   ]
  },
  {
   "cell_type": "markdown",
   "metadata": {},
   "source": [
    "## Monte Carlos Tree Search and simulation"
   ]
  },
  {
   "cell_type": "code",
   "execution_count": 173,
   "metadata": {},
   "outputs": [],
   "source": [
    "tokenizer = Tokenizer.from_file('datasets/ScratchPad/tokenizer_simple.json')\n",
    "SPGame = ScratchPadGame(tokenizer)\n",
    "config = BertConfig()\n",
    "config.num_attention_heads = 1\n",
    "config.hidden_size = 10\n",
    "config.num_hidden_layers = 3\n",
    "config.intermediate_size = 32\n",
    "config.n_ctx = 512\n",
    "config.n_positions = 512\n",
    "config.temp = 1\n",
    "config.vocab_size = len(tokenizer.get_vocab())\n",
    "config.position_embedding_type = 'relative_key_query'\n",
    "model = AlphaBERT(config, mask_token_id=tokenizer.token_to_id('[MASK]'), \n",
    "                  value_token_id=tokenizer.token_to_id('[VALUE]'), \n",
    "                  pad_token_id=tokenizer.token_to_id('[PAD]'))\n",
    "\n",
    "args = {'num_episodes':3,\n",
    "        'num_sims_per_turn':10,\n",
    "        'policy_exploration_weight':0.5}"
   ]
  },
  {
   "cell_type": "code",
   "execution_count": 15,
   "metadata": {},
   "outputs": [],
   "source": [
    "explorer = EpisodeUtility(SPGame, **args)"
   ]
  },
  {
   "cell_type": "code",
   "execution_count": 11,
   "metadata": {},
   "outputs": [
    {
     "name": "stderr",
     "output_type": "stream",
     "text": [
      "Exploring env: 100%|██████████| 3/3 [00:03<00:00,  1.10s/it]"
     ]
    },
    {
     "name": "stdout",
     "output_type": "stream",
     "text": [
      "Performed 3 episodes in 3.31s. 0 positive\n",
      "------------------\n",
      "What is 3+4?7[EOS]\n",
      "What is 3+4? Moines polymorphTHER Butter Moinesxffxff Moinesowskixff136OH\n",
      "Top 3 next actions: ['ennial', ' irony', ' borrowed']\n",
      "Current reward: -1\n",
      "\n",
      "What is 2+3?5[EOS]\n",
      "What is 2+3? borrowed Moines Moines Moinesowski136136 partic thwarted places polymorph MoinesWould irony\n",
      "Top 3 next actions: [' Moines', ' Acceler', ' polymorph']\n",
      "Current reward: -1\n",
      "\n"
     ]
    },
    {
     "name": "stderr",
     "output_type": "stream",
     "text": [
      "\n"
     ]
    }
   ],
   "source": [
    "explored_examples = explorer.explore(model)"
   ]
  },
  {
   "cell_type": "code",
   "execution_count": 15,
   "metadata": {},
   "outputs": [
    {
     "name": "stdout",
     "output_type": "stream",
     "text": [
      "{'current_state': tensor([ 2061,   318,   513,    10,    19,    30, 50260,    18,    10,    19,\n",
      "        33409,    22, 50259, 50261,    22, 50257]), 'target_state': tensor([ 2061,   318,   513,    10,    19,    30,    22, 50257])}\n",
      "{'canonical_state': {'current_state': tensor([2061,  318,  513,   10]), 'target_state': tensor([ 2061,   318,   513,    10,    19,    30,    22, 50257])}, 'pi': tensor([0., 0., 0.,  ..., 0., 0., 0.]), 'id': 'custom', 'reward': 1}\n"
     ]
    }
   ],
   "source": [
    "ideal_answer = \"What is 3+4?<ScratchPad>3+4>>>7\\n</ScratchPad>7[EOS]\"\n",
    "target = \"What is 3+4?7[EOS]\"\n",
    "ideal_canon_state = SPGame.toCanonical(ideal_answer, target)\n",
    "print(ideal_canon_state)\n",
    "custom_examples = explorer.decomposePositiveEpisode(ideal_canon_state)\n",
    "print(custom_examples[4])"
   ]
  },
  {
   "cell_type": "code",
   "execution_count": 16,
   "metadata": {},
   "outputs": [
    {
     "data": {
      "text/plain": [
       "{'canonical_state': {'current_state': tensor([], dtype=torch.int64),\n",
       "  'target_state': tensor([ 2061,   318,   513,    10,    19,    30,    22, 50257])},\n",
       " 'pi': tensor([0., 0., 0.,  ..., 0., 0., 0.]),\n",
       " 'id': 'custom',\n",
       " 'reward': 1,\n",
       " 'input_ids': tensor([[50263, 50262]])}"
      ]
     },
     "execution_count": 16,
     "metadata": {},
     "output_type": "execute_result"
    }
   ],
   "source": [
    "train_samples = copy.deepcopy(custom_examples)\n",
    "train_samples = explorer.prepExamplesForModel_Transform(train_samples)\n",
    "train_samples[0]"
   ]
  },
  {
   "cell_type": "code",
   "execution_count": 17,
   "metadata": {},
   "outputs": [],
   "source": [
    "train_samples = Class_Rebalance_Transform(field='reward')(train_samples)"
   ]
  },
  {
   "cell_type": "code",
   "execution_count": 18,
   "metadata": {},
   "outputs": [],
   "source": [
    "train_samples = Rename_Transform(fields=[('pi','target_policy'),('reward','target_value')])(train_samples)"
   ]
  },
  {
   "cell_type": "code",
   "execution_count": 19,
   "metadata": {},
   "outputs": [
    {
     "data": {
      "application/vnd.jupyter.widget-view+json": {
       "model_id": "0095109beb054f73bfadd21569d96b97",
       "version_major": 2,
       "version_minor": 0
      },
      "text/plain": [
       "HBox(children=(HTML(value=''), FloatProgress(value=1.0, bar_style='info', layout=Layout(width='20px'), max=1.0…"
      ]
     },
     "metadata": {},
     "output_type": "display_data"
    },
    {
     "name": "stdout",
     "output_type": "stream",
     "text": [
      "\n"
     ]
    }
   ],
   "source": [
    "train_dataset = Scratch_Pad_Policy_Dataset(train_samples, slow_pipe=[], real_time_pipe=[])"
   ]
  },
  {
   "cell_type": "code",
   "execution_count": 20,
   "metadata": {},
   "outputs": [
    {
     "data": {
      "text/plain": [
       "{'input_ids': tensor([[ 2061,   318,   513,    10,    19,    30, 50260,    18,    10,    19,\n",
       "          33409,    22, 50259, 50261,    22, 50263, 50262],\n",
       "         [    0,     0,     0,     0,     0,     0,     0,     0,     0,     0,\n",
       "              0,     0,     0,     0,  2061, 50263, 50262]]),\n",
       " 'attention_mask': tensor([[1., 1., 1., 1., 1., 1., 1., 1., 1., 1., 1., 1., 1., 1., 1., 1., 1.],\n",
       "         [0., 0., 0., 0., 0., 0., 0., 0., 0., 0., 0., 0., 0., 0., 1., 1., 1.]]),\n",
       " 'target_policy': tensor([[0., 0., 0.,  ..., 0., 0., 0.],\n",
       "         [0., 0., 0.,  ..., 0., 0., 0.]]),\n",
       " 'target_value': tensor([1., 1.])}"
      ]
     },
     "execution_count": 20,
     "metadata": {},
     "output_type": "execute_result"
    }
   ],
   "source": [
    "train_dataloader = train_dataset.to_dataloader(2, shuffle=True)\n",
    "batch = next(iter(train_dataloader))\n",
    "batch"
   ]
  },
  {
   "cell_type": "code",
   "execution_count": 21,
   "metadata": {},
   "outputs": [
    {
     "data": {
      "text/plain": [
       "tensor(50257)"
      ]
     },
     "execution_count": 21,
     "metadata": {},
     "output_type": "execute_result"
    }
   ],
   "source": [
    "batch['target_policy'][0].argmax()"
   ]
  },
  {
   "cell_type": "code",
   "execution_count": 22,
   "metadata": {},
   "outputs": [
    {
     "name": "stderr",
     "output_type": "stream",
     "text": [
      "GPU available: True, used: True\n",
      "TPU available: False, using: 0 TPU cores\n",
      "CUDA_VISIBLE_DEVICES: [0]\n",
      "/usr/local/lib/python3.6/dist-packages/pytorch_lightning/utilities/distributed.py:37: UserWarning: Could not log computational graph since the `model.example_input_array` attribute is not set or `input_array` was not given\n",
      "  warnings.warn(*args, **kwargs)\n",
      "\n",
      "  | Name        | Type      | Params\n",
      "------------------------------------------\n",
      "0 | BERT        | BertModel | 542 K \n",
      "1 | dropout     | Dropout   | 0     \n",
      "2 | value_layer | Linear    | 11    \n",
      "3 | LM_layer    | Linear    | 552 K \n",
      "/usr/local/lib/python3.6/dist-packages/pytorch_lightning/utilities/distributed.py:37: UserWarning: The dataloader, train dataloader, does not have many workers which may be a bottleneck. Consider increasing the value of the `num_workers` argument` (try 32 which is the number of cpus on this machine) in the `DataLoader` init to improve performance.\n",
      "  warnings.warn(*args, **kwargs)\n"
     ]
    },
    {
     "data": {
      "application/vnd.jupyter.widget-view+json": {
       "model_id": "ed0ad67359334c68bbb699184997bb59",
       "version_major": 2,
       "version_minor": 0
      },
      "text/plain": [
       "HBox(children=(HTML(value='Training'), FloatProgress(value=1.0, bar_style='info', layout=Layout(flex='2'), max…"
      ]
     },
     "metadata": {},
     "output_type": "display_data"
    },
    {
     "name": "stderr",
     "output_type": "stream",
     "text": [
      "/usr/local/lib/python3.6/dist-packages/pytorch_lightning/utilities/distributed.py:37: UserWarning: Detected KeyboardInterrupt, attempting graceful shutdown...\n",
      "  warnings.warn(*args, **kwargs)\n",
      "Saving latest checkpoint..\n"
     ]
    },
    {
     "name": "stdout",
     "output_type": "stream",
     "text": [
      "\n"
     ]
    },
    {
     "data": {
      "text/plain": [
       "1"
      ]
     },
     "execution_count": 22,
     "metadata": {},
     "output_type": "execute_result"
    }
   ],
   "source": [
    "trainer = Trainer(gpus=1, gradient_clip_val=1.0, amp_level='O1')\n",
    "trainer.fit(model, train_dataloader)"
   ]
  },
  {
   "cell_type": "code",
   "execution_count": 88,
   "metadata": {},
   "outputs": [],
   "source": [
    "policy_logit = torch.tensor([[0.03, 0.4, -2, 0.9],\n",
    "                             [0.1,  0.2, 0.6, -3]])\n",
    "target = torch.tensor([1, 3])\n",
    "one_hot_target = torch.tensor([[0,1.0,0,0],\n",
    "                               [0,0,0,1.0]])"
   ]
  },
  {
   "cell_type": "code",
   "execution_count": 89,
   "metadata": {},
   "outputs": [
    {
     "data": {
      "text/plain": [
       "tensor(2.8337)"
      ]
     },
     "execution_count": 89,
     "metadata": {},
     "output_type": "execute_result"
    }
   ],
   "source": [
    "nn.CrossEntropyLoss()(policy_logit.view(-1,4), target.view(-1))"
   ]
  },
  {
   "cell_type": "code",
   "execution_count": 90,
   "metadata": {},
   "outputs": [
    {
     "data": {
      "text/plain": [
       "tensor(2.8337)"
      ]
     },
     "execution_count": 90,
     "metadata": {},
     "output_type": "execute_result"
    }
   ],
   "source": [
    "-torch.dot(one_hot_target.view(-1)**1, torch.log(policy_logit.softmax(-1)).view(-1))/policy_logit.shape[0]"
   ]
  },
  {
   "cell_type": "code",
   "execution_count": 23,
   "metadata": {},
   "outputs": [
    {
     "name": "stdout",
     "output_type": "stream",
     "text": [
      "tensor(50257)\n"
     ]
    },
    {
     "data": {
      "text/plain": [
       "tensor([  513,  2061,    19,   318,    10,    18, 50261, 50257,    22, 50260])"
      ]
     },
     "execution_count": 23,
     "metadata": {},
     "output_type": "execute_result"
    }
   ],
   "source": [
    "batch_idx = 0\n",
    "print(batch['target_policy'][batch_idx].argmax())\n",
    "model.eval()\n",
    "model.predict(torch.tensor([[2061,   318]]))[0][batch_idx].argsort(descending=True)[:10]"
   ]
  },
  {
   "cell_type": "markdown",
   "metadata": {},
   "source": [
    "## Creating prompts and answers"
   ]
  },
  {
   "cell_type": "code",
   "execution_count": 388,
   "metadata": {},
   "outputs": [],
   "source": [
    "def customPromptsAndAnswers(prompt_type, n=100):\n",
    "    '''\n",
    "    Generate n prompt-answer pairs of type prompt_type.\n",
    "    prompt_type: str: 'simple_addition'\n",
    "    \n",
    "    returns: [(str: prompt string, str: prompt and answer string)]\n",
    "    '''\n",
    "    if prompt_type == 'simple_addition':\n",
    "        pairs = []\n",
    "        for i in range(n):\n",
    "            a = random.randrange(0,30)\n",
    "            b = random.randrange(0,30)\n",
    "            prompt = f'What is {a}+{b}?'\n",
    "            target = f'What is {a}+{b}?{a+b}[EOS]'\n",
    "            pairs.append((prompt, target))\n",
    "        return pairs\n",
    "    if prompt_type == 'simple_addition_with_answer_level_0':\n",
    "        pairs = []\n",
    "        for i in range(n):\n",
    "            a = random.randrange(0,30)\n",
    "            b = random.randrange(0,30)\n",
    "            prompt = f'What is {a}+{b}?[SP]{a}+{b}>>>{a+b}\\n[ESP]'\n",
    "            target = f'What is {a}+{b}?{a+b}[EOS]'\n",
    "            pairs.append((prompt, target))\n",
    "        return pairs\n",
    "    else:\n",
    "        raise f'{prompt_type} not recognised'"
   ]
  },
  {
   "cell_type": "code",
   "execution_count": 389,
   "metadata": {},
   "outputs": [
    {
     "data": {
      "text/plain": [
       "[('What is 25+18?[SP]25+18>>>43\\n[ESP]', 'What is 25+18?43[EOS]'),\n",
       " ('What is 15+10?[SP]15+10>>>25\\n[ESP]', 'What is 15+10?25[EOS]'),\n",
       " ('What is 25+14?[SP]25+14>>>39\\n[ESP]', 'What is 25+14?39[EOS]'),\n",
       " ('What is 4+15?[SP]4+15>>>19\\n[ESP]', 'What is 4+15?19[EOS]')]"
      ]
     },
     "execution_count": 389,
     "metadata": {},
     "output_type": "execute_result"
    }
   ],
   "source": [
    "customPromptsAndAnswers('simple_addition_with_answer_level_0', 4)"
   ]
  },
  {
   "cell_type": "code",
   "execution_count": 390,
   "metadata": {},
   "outputs": [],
   "source": [
    "custom_positive_pairs = [('What is 3+4?[SP]3+4>>>7\\n[ESP]7[EOS]', 'What is 3+4?7[EOS]'),\n",
    "                         ('What is 17+5?[SP]17+5>>>22\\n[ESP]22[EOS]', 'What is 17+5?22[EOS]'),\n",
    "                         ('What is 22+1?[SP]22+1>>>23\\n[ESP]23[EOS]', 'What is 22+1?23[EOS]')]"
   ]
  },
  {
   "cell_type": "code",
   "execution_count": 385,
   "metadata": {
    "collapsed": true,
    "jupyter": {
     "outputs_hidden": true
    }
   },
   "outputs": [
    {
     "ename": "NameError",
     "evalue": "name 'stmnt_out' is not defined",
     "output_type": "error",
     "traceback": [
      "\u001b[0;31m---------------------------------------------------------------------------\u001b[0m",
      "\u001b[0;31mNameError\u001b[0m                                 Traceback (most recent call last)",
      "\u001b[0;32m<ipython-input-385-630ba727c9dd>\u001b[0m in \u001b[0;36m<module>\u001b[0;34m\u001b[0m\n\u001b[1;32m      9\u001b[0m \u001b[0mcustom_positive_examples\u001b[0m \u001b[0;34m=\u001b[0m \u001b[0;34m[\u001b[0m\u001b[0;34m]\u001b[0m\u001b[0;34m\u001b[0m\u001b[0;34m\u001b[0m\u001b[0m\n\u001b[1;32m     10\u001b[0m \u001b[0;32mfor\u001b[0m \u001b[0mprompt\u001b[0m\u001b[0;34m,\u001b[0m \u001b[0mideal_target\u001b[0m \u001b[0;32min\u001b[0m \u001b[0mcustom_positive_pairs\u001b[0m\u001b[0;34m:\u001b[0m\u001b[0;34m\u001b[0m\u001b[0;34m\u001b[0m\u001b[0m\n\u001b[0;32m---> 11\u001b[0;31m     \u001b[0mcustom_positive_examples\u001b[0m \u001b[0;34m+=\u001b[0m \u001b[0mepisode_utility\u001b[0m\u001b[0;34m.\u001b[0m\u001b[0mdecomposePositiveEpisode\u001b[0m\u001b[0;34m(\u001b[0m\u001b[0;34m(\u001b[0m\u001b[0mSPGame\u001b[0m\u001b[0;34m.\u001b[0m\u001b[0mtoCanonical\u001b[0m\u001b[0;34m(\u001b[0m\u001b[0mprompt\u001b[0m\u001b[0;34m,\u001b[0m \u001b[0mideal_target\u001b[0m\u001b[0;34m)\u001b[0m\u001b[0;34m)\u001b[0m\u001b[0;34m)\u001b[0m\u001b[0;34m\u001b[0m\u001b[0;34m\u001b[0m\u001b[0m\n\u001b[0m\u001b[1;32m     12\u001b[0m \u001b[0mcustom_positive_examples\u001b[0m \u001b[0;34m=\u001b[0m \u001b[0mRename_Transform\u001b[0m\u001b[0;34m(\u001b[0m\u001b[0mfields\u001b[0m\u001b[0;34m=\u001b[0m\u001b[0;34m[\u001b[0m\u001b[0;34m(\u001b[0m\u001b[0;34m'pi'\u001b[0m\u001b[0;34m,\u001b[0m\u001b[0;34m'target_policy'\u001b[0m\u001b[0;34m)\u001b[0m\u001b[0;34m,\u001b[0m\u001b[0;34m(\u001b[0m\u001b[0;34m'reward'\u001b[0m\u001b[0;34m,\u001b[0m\u001b[0;34m'target_value'\u001b[0m\u001b[0;34m)\u001b[0m\u001b[0;34m]\u001b[0m\u001b[0;34m)\u001b[0m\u001b[0;34m(\u001b[0m\u001b[0mcustom_positive_examples\u001b[0m\u001b[0;34m)\u001b[0m\u001b[0;34m\u001b[0m\u001b[0;34m\u001b[0m\u001b[0m\n",
      "\u001b[0;32m/nfs/phd_by_carlos/notebooks/src/ScratchPad.py\u001b[0m in \u001b[0;36mtoCanonical\u001b[0;34m(self, start_string, target_string)\u001b[0m\n\u001b[1;32m     51\u001b[0m \u001b[0;34m\u001b[0m\u001b[0m\n\u001b[1;32m     52\u001b[0m     \u001b[0;32mdef\u001b[0m \u001b[0mtoCanonical\u001b[0m\u001b[0;34m(\u001b[0m\u001b[0mself\u001b[0m\u001b[0;34m,\u001b[0m \u001b[0mstart_string\u001b[0m\u001b[0;34m,\u001b[0m \u001b[0mtarget_string\u001b[0m\u001b[0;34m)\u001b[0m\u001b[0;34m:\u001b[0m\u001b[0;34m\u001b[0m\u001b[0;34m\u001b[0m\u001b[0m\n\u001b[0;32m---> 53\u001b[0;31m         \u001b[0mstart_state\u001b[0m \u001b[0;34m=\u001b[0m \u001b[0mtorch\u001b[0m\u001b[0;34m.\u001b[0m\u001b[0mtensor\u001b[0m\u001b[0;34m(\u001b[0m\u001b[0mself\u001b[0m\u001b[0;34m.\u001b[0m\u001b[0mtokenizer\u001b[0m\u001b[0;34m.\u001b[0m\u001b[0mencode\u001b[0m\u001b[0;34m(\u001b[0m\u001b[0mstmnt_out\u001b[0m \u001b[0;34m+\u001b[0m \u001b[0;34m'\\n'\u001b[0m\u001b[0;34m)\u001b[0m\u001b[0;34m,\u001b[0m \u001b[0mdevice\u001b[0m\u001b[0;34m=\u001b[0m\u001b[0mself\u001b[0m\u001b[0;34m.\u001b[0m\u001b[0mdevice\u001b[0m\u001b[0;34m)\u001b[0m\u001b[0;34m\u001b[0m\u001b[0;34m\u001b[0m\u001b[0m\n\u001b[0m\u001b[1;32m     54\u001b[0m         \u001b[0mtarget_state\u001b[0m \u001b[0;34m=\u001b[0m \u001b[0mtorch\u001b[0m\u001b[0;34m.\u001b[0m\u001b[0mtensor\u001b[0m\u001b[0;34m(\u001b[0m\u001b[0mself\u001b[0m\u001b[0;34m.\u001b[0m\u001b[0mtokenizer\u001b[0m\u001b[0;34m.\u001b[0m\u001b[0mencode\u001b[0m\u001b[0;34m(\u001b[0m\u001b[0mstmnt_out\u001b[0m \u001b[0;34m+\u001b[0m \u001b[0;34m'\\n'\u001b[0m\u001b[0;34m)\u001b[0m\u001b[0;34m,\u001b[0m \u001b[0mdevice\u001b[0m\u001b[0;34m=\u001b[0m\u001b[0mself\u001b[0m\u001b[0;34m.\u001b[0m\u001b[0mdevice\u001b[0m\u001b[0;34m)\u001b[0m\u001b[0;34m\u001b[0m\u001b[0;34m\u001b[0m\u001b[0m\n\u001b[1;32m     55\u001b[0m         \u001b[0;32mreturn\u001b[0m \u001b[0;34m{\u001b[0m\u001b[0;34m'current_state'\u001b[0m\u001b[0;34m:\u001b[0m\u001b[0mstart_state\u001b[0m\u001b[0;34m,\u001b[0m \u001b[0;34m'target_state'\u001b[0m\u001b[0;34m:\u001b[0m\u001b[0mtarget_state\u001b[0m\u001b[0;34m}\u001b[0m\u001b[0;34m\u001b[0m\u001b[0;34m\u001b[0m\u001b[0m\n",
      "\u001b[0;31mNameError\u001b[0m: name 'stmnt_out' is not defined"
     ]
    }
   ],
   "source": [
    "prompt_and_answers = customPromptsAndAnswers('simple_addition_with_answer_level_0', 200)\n",
    "SPGame = ScratchPadGame(tokenizer, prompt_target_pairs=prompt_and_answers, device='cpu')\n",
    "\n",
    "args = {'num_episodes':1000,\n",
    "        'num_sims_per_turn':2,\n",
    "        'policy_exploration_weight':0.5}\n",
    "episode_utility = EpisodeUtility(SPGame, **args)\n",
    "\n",
    "custom_positive_examples = []\n",
    "for prompt, ideal_target in custom_positive_pairs:\n",
    "    custom_positive_examples += episode_utility.decomposePositiveEpisode((SPGame.toCanonical(prompt, ideal_target)))\n",
    "custom_positive_examples = Rename_Transform(fields=[('pi','target_policy'),('reward','target_value')])(custom_positive_examples)"
   ]
  },
  {
   "cell_type": "code",
   "execution_count": 380,
   "metadata": {
    "collapsed": true,
    "jupyter": {
     "outputs_hidden": true
    }
   },
   "outputs": [
    {
     "ename": "ValueError",
     "evalue": "max() arg is an empty sequence",
     "output_type": "error",
     "traceback": [
      "\u001b[0;31m---------------------------------------------------------------------------\u001b[0m",
      "\u001b[0;31mValueError\u001b[0m                                Traceback (most recent call last)",
      "\u001b[0;32m<ipython-input-380-4ed135e544c8>\u001b[0m in \u001b[0;36m<module>\u001b[0;34m\u001b[0m\n\u001b[0;32m----> 1\u001b[0;31m \u001b[0mepisode_utility\u001b[0m\u001b[0;34m.\u001b[0m\u001b[0mfullLoopTrainer\u001b[0m\u001b[0;34m(\u001b[0m\u001b[0mmodel\u001b[0m\u001b[0;34m,\u001b[0m \u001b[0mcustom_examples\u001b[0m\u001b[0;34m=\u001b[0m\u001b[0mcustom_positive_examples\u001b[0m\u001b[0;34m,\u001b[0m \u001b[0mmax_epochs\u001b[0m\u001b[0;34m=\u001b[0m\u001b[0;36m100\u001b[0m\u001b[0;34m)\u001b[0m\u001b[0;34m\u001b[0m\u001b[0;34m\u001b[0m\u001b[0m\n\u001b[0m",
      "\u001b[0;32m/nfs/phd_by_carlos/notebooks/src/ScratchPad.py\u001b[0m in \u001b[0;36mfullLoopTrainer\u001b[0;34m(self, model, steps, custom_examples, max_epochs)\u001b[0m\n\u001b[1;32m    388\u001b[0m             \u001b[0mtrain_samples\u001b[0m \u001b[0;34m=\u001b[0m \u001b[0mcopy\u001b[0m\u001b[0;34m.\u001b[0m\u001b[0mdeepcopy\u001b[0m\u001b[0;34m(\u001b[0m\u001b[0mexplored_examples\u001b[0m \u001b[0;34m+\u001b[0m \u001b[0mcustom_examples\u001b[0m\u001b[0;34m)\u001b[0m\u001b[0;34m\u001b[0m\u001b[0;34m\u001b[0m\u001b[0m\n\u001b[1;32m    389\u001b[0m             \u001b[0mtrain_samples\u001b[0m \u001b[0;34m=\u001b[0m \u001b[0mself\u001b[0m\u001b[0;34m.\u001b[0m\u001b[0mprepExamplesForModel_Transform\u001b[0m\u001b[0;34m(\u001b[0m\u001b[0mtrain_samples\u001b[0m\u001b[0;34m)\u001b[0m\u001b[0;34m\u001b[0m\u001b[0;34m\u001b[0m\u001b[0m\n\u001b[0;32m--> 390\u001b[0;31m             \u001b[0mtrain_samples\u001b[0m \u001b[0;34m=\u001b[0m \u001b[0mClass_Rebalance_Transform\u001b[0m\u001b[0;34m(\u001b[0m\u001b[0mfield\u001b[0m\u001b[0;34m=\u001b[0m\u001b[0;34m'target_value'\u001b[0m\u001b[0;34m)\u001b[0m\u001b[0;34m(\u001b[0m\u001b[0mtrain_samples\u001b[0m\u001b[0;34m)\u001b[0m\u001b[0;34m\u001b[0m\u001b[0;34m\u001b[0m\u001b[0m\n\u001b[0m\u001b[1;32m    391\u001b[0m             \u001b[0mtrain_dataset\u001b[0m \u001b[0;34m=\u001b[0m \u001b[0mScratch_Pad_Policy_Dataset\u001b[0m\u001b[0;34m(\u001b[0m\u001b[0mtrain_samples\u001b[0m\u001b[0;34m,\u001b[0m \u001b[0mslow_pipe\u001b[0m\u001b[0;34m=\u001b[0m\u001b[0;34m[\u001b[0m\u001b[0;34m]\u001b[0m\u001b[0;34m,\u001b[0m \u001b[0mreal_time_pipe\u001b[0m\u001b[0;34m=\u001b[0m\u001b[0;34m[\u001b[0m\u001b[0;34m]\u001b[0m\u001b[0;34m)\u001b[0m\u001b[0;34m\u001b[0m\u001b[0;34m\u001b[0m\u001b[0m\n\u001b[1;32m    392\u001b[0m             \u001b[0mtrain_dataloader\u001b[0m \u001b[0;34m=\u001b[0m \u001b[0mtrain_dataset\u001b[0m\u001b[0;34m.\u001b[0m\u001b[0mto_dataloader\u001b[0m\u001b[0;34m(\u001b[0m\u001b[0;36m3\u001b[0m\u001b[0;34m,\u001b[0m \u001b[0mshuffle\u001b[0m\u001b[0;34m=\u001b[0m\u001b[0;32mTrue\u001b[0m\u001b[0;34m)\u001b[0m\u001b[0;34m\u001b[0m\u001b[0;34m\u001b[0m\u001b[0m\n",
      "\u001b[0;32m/nfs/phd_by_carlos/notebooks/src/models_and_transforms/text_transforms.py\u001b[0m in \u001b[0;36m__call__\u001b[0;34m(self, samples, **kwargs)\u001b[0m\n\u001b[1;32m    718\u001b[0m             \u001b[0mclass_sizes\u001b[0m\u001b[0;34m[\u001b[0m\u001b[0msample_obj\u001b[0m\u001b[0;34m[\u001b[0m\u001b[0mself\u001b[0m\u001b[0;34m.\u001b[0m\u001b[0mfield\u001b[0m\u001b[0;34m]\u001b[0m\u001b[0;34m]\u001b[0m \u001b[0;34m+=\u001b[0m\u001b[0;36m1\u001b[0m\u001b[0;34m\u001b[0m\u001b[0;34m\u001b[0m\u001b[0m\n\u001b[1;32m    719\u001b[0m \u001b[0;34m\u001b[0m\u001b[0m\n\u001b[0;32m--> 720\u001b[0;31m         \u001b[0mmaximal_class_len\u001b[0m \u001b[0;34m=\u001b[0m \u001b[0mmax\u001b[0m\u001b[0;34m(\u001b[0m\u001b[0;34m[\u001b[0m\u001b[0mclass_size\u001b[0m \u001b[0;32mfor\u001b[0m \u001b[0mclass_size\u001b[0m \u001b[0;32min\u001b[0m \u001b[0mclass_sizes\u001b[0m\u001b[0;34m.\u001b[0m\u001b[0mvalues\u001b[0m\u001b[0;34m(\u001b[0m\u001b[0;34m)\u001b[0m\u001b[0;34m]\u001b[0m\u001b[0;34m)\u001b[0m\u001b[0;34m\u001b[0m\u001b[0;34m\u001b[0m\u001b[0m\n\u001b[0m\u001b[1;32m    721\u001b[0m         \u001b[0;32mfor\u001b[0m \u001b[0mclass_val\u001b[0m \u001b[0;32min\u001b[0m \u001b[0mclasses\u001b[0m\u001b[0;34m.\u001b[0m\u001b[0mkeys\u001b[0m\u001b[0;34m(\u001b[0m\u001b[0;34m)\u001b[0m\u001b[0;34m:\u001b[0m\u001b[0;34m\u001b[0m\u001b[0;34m\u001b[0m\u001b[0m\n\u001b[1;32m    722\u001b[0m             \u001b[0msamples\u001b[0m \u001b[0;34m+=\u001b[0m \u001b[0;34m[\u001b[0m\u001b[0mself\u001b[0m\u001b[0;34m.\u001b[0m\u001b[0mdict_deepcopy\u001b[0m\u001b[0;34m(\u001b[0m\u001b[0ms\u001b[0m\u001b[0;34m)\u001b[0m \u001b[0;32mfor\u001b[0m \u001b[0ms\u001b[0m \u001b[0;32min\u001b[0m \u001b[0mrandom\u001b[0m\u001b[0;34m.\u001b[0m\u001b[0mchoices\u001b[0m\u001b[0;34m(\u001b[0m\u001b[0mclasses\u001b[0m\u001b[0;34m[\u001b[0m\u001b[0mclass_val\u001b[0m\u001b[0;34m]\u001b[0m\u001b[0;34m,\u001b[0m \u001b[0mk\u001b[0m\u001b[0;34m=\u001b[0m\u001b[0mmaximal_class_len\u001b[0m\u001b[0;34m-\u001b[0m\u001b[0mclass_sizes\u001b[0m\u001b[0;34m[\u001b[0m\u001b[0mclass_val\u001b[0m\u001b[0;34m]\u001b[0m\u001b[0;34m)\u001b[0m\u001b[0;34m]\u001b[0m\u001b[0;34m\u001b[0m\u001b[0;34m\u001b[0m\u001b[0m\n",
      "\u001b[0;31mValueError\u001b[0m: max() arg is an empty sequence"
     ]
    }
   ],
   "source": [
    "episode_utility.fullLoopTrainer(model, custom_examples=custom_positive_examples, max_epochs=100)"
   ]
  },
  {
   "cell_type": "code",
   "execution_count": 33,
   "metadata": {
    "collapsed": true,
    "jupyter": {
     "outputs_hidden": true
    }
   },
   "outputs": [
    {
     "name": "stderr",
     "output_type": "stream",
     "text": [
      "Exploring env: 100%|██████████| 1000/1000 [01:17<00:00, 12.83it/s]"
     ]
    },
    {
     "name": "stdout",
     "output_type": "stream",
     "text": [
      "Performed 1000 episodes in 77.96s. 0 positive\n",
      "------------------\n",
      "What is 3+3?6[EOS]\n",
      "What is 3+3?<ScratchPad>3+3>>>6\n",
      "</ScratchPad> Somehow Exclusive\n",
      "Top 3 next actions: [' Hercules', ' Exclusive', ' UPS']\n",
      "Current reward: -1\n",
      "\n",
      "What is 6+2?8[EOS]\n",
      "What is 6+2?<ScratchPad>6+2>>>8\n",
      "</ScratchPad>lb\n",
      "Top 3 next actions: [' comprehensive', 'lb', ' driveway']\n",
      "Current reward: -1\n",
      "\n"
     ]
    },
    {
     "name": "stderr",
     "output_type": "stream",
     "text": [
      "\n"
     ]
    }
   ],
   "source": [
    "exs = episode_utility.explore(model)"
   ]
  },
  {
   "cell_type": "markdown",
   "metadata": {},
   "source": [
    "## Performance profiling"
   ]
  },
  {
   "cell_type": "code",
   "execution_count": 124,
   "metadata": {},
   "outputs": [
    {
     "data": {
      "text/plain": [
       "tensor([[50263, 50262]])"
      ]
     },
     "execution_count": 124,
     "metadata": {},
     "output_type": "execute_result"
    }
   ],
   "source": [
    "custom_positive_examples[0]['canonical_state']['input_ids']"
   ]
  },
  {
   "cell_type": "code",
   "execution_count": 271,
   "metadata": {},
   "outputs": [
    {
     "data": {
      "text/plain": [
       "tensor([[1, 8, 3],\n",
       "        [4, 5, 9]])"
      ]
     },
     "execution_count": 271,
     "metadata": {},
     "output_type": "execute_result"
    }
   ],
   "source": [
    "a = torch.tensor([[1,2,3],[4,5,6]])\n",
    "a[torch.tensor([0,1]), torch.tensor([1,2])] = torch.tensor([8,9])\n",
    "a"
   ]
  },
  {
   "cell_type": "code",
   "execution_count": 8,
   "metadata": {
    "collapsed": true,
    "jupyter": {
     "outputs_hidden": true
    }
   },
   "outputs": [
    {
     "ename": "KeyError",
     "evalue": "'input_ids'",
     "output_type": "error",
     "traceback": [
      "\u001b[0;31m---------------------------------------------------------------------------\u001b[0m",
      "\u001b[0;31mKeyError\u001b[0m                                  Traceback (most recent call last)",
      "\u001b[0;32m<ipython-input-8-b2dc7a843ce6>\u001b[0m in \u001b[0;36m<module>\u001b[0;34m\u001b[0m\n\u001b[0;32m----> 1\u001b[0;31m current_states = torch.nn.utils.rnn.pad_sequence([sample['canonical_state'][\"input_ids\"].flip(1)[0] for sample in custom_positive_examples[:3]], \n\u001b[0m\u001b[1;32m      2\u001b[0m                                                  padding_value=50258, batch_first=True).flip(1)\n\u001b[1;32m      3\u001b[0m \u001b[0mtarget_strings\u001b[0m \u001b[0;34m=\u001b[0m \u001b[0;34m[\u001b[0m\u001b[0msample\u001b[0m\u001b[0;34m[\u001b[0m\u001b[0;34m'canonical_state'\u001b[0m\u001b[0;34m]\u001b[0m\u001b[0;34m[\u001b[0m\u001b[0;34m\"string_rep\"\u001b[0m\u001b[0;34m]\u001b[0m \u001b[0;32mfor\u001b[0m \u001b[0msample\u001b[0m \u001b[0;32min\u001b[0m \u001b[0mcustom_positive_examples\u001b[0m\u001b[0;34m[\u001b[0m\u001b[0;34m:\u001b[0m\u001b[0;36m3\u001b[0m\u001b[0;34m]\u001b[0m\u001b[0;34m]\u001b[0m\u001b[0;34m\u001b[0m\u001b[0;34m\u001b[0m\u001b[0m\n",
      "\u001b[0;32m<ipython-input-8-b2dc7a843ce6>\u001b[0m in \u001b[0;36m<listcomp>\u001b[0;34m(.0)\u001b[0m\n\u001b[0;32m----> 1\u001b[0;31m current_states = torch.nn.utils.rnn.pad_sequence([sample['canonical_state'][\"input_ids\"].flip(1)[0] for sample in custom_positive_examples[:3]], \n\u001b[0m\u001b[1;32m      2\u001b[0m                                                  padding_value=50258, batch_first=True).flip(1)\n\u001b[1;32m      3\u001b[0m \u001b[0mtarget_strings\u001b[0m \u001b[0;34m=\u001b[0m \u001b[0;34m[\u001b[0m\u001b[0msample\u001b[0m\u001b[0;34m[\u001b[0m\u001b[0;34m'canonical_state'\u001b[0m\u001b[0;34m]\u001b[0m\u001b[0;34m[\u001b[0m\u001b[0;34m\"string_rep\"\u001b[0m\u001b[0;34m]\u001b[0m \u001b[0;32mfor\u001b[0m \u001b[0msample\u001b[0m \u001b[0;32min\u001b[0m \u001b[0mcustom_positive_examples\u001b[0m\u001b[0;34m[\u001b[0m\u001b[0;34m:\u001b[0m\u001b[0;36m3\u001b[0m\u001b[0;34m]\u001b[0m\u001b[0;34m]\u001b[0m\u001b[0;34m\u001b[0m\u001b[0;34m\u001b[0m\u001b[0m\n",
      "\u001b[0;31mKeyError\u001b[0m: 'input_ids'"
     ]
    }
   ],
   "source": [
    "current_states = torch.nn.utils.rnn.pad_sequence([sample['canonical_state'][\"input_ids\"].flip(1)[0] for sample in custom_positive_examples[:3]], \n",
    "                                                 padding_value=50258, batch_first=True).flip(1)\n",
    "target_strings = [sample['canonical_state'][\"string_rep\"] for sample in custom_positive_examples[:3]]"
   ]
  },
  {
   "cell_type": "code",
   "execution_count": 8,
   "metadata": {},
   "outputs": [],
   "source": [
    "current_states = torch.tensor(tokenizer.encode('What is 3+4?').ids, dtype=torch.long, device='cpu').unsqueeze(0)"
   ]
  },
  {
   "cell_type": "code",
   "execution_count": 9,
   "metadata": {},
   "outputs": [
    {
     "data": {
      "text/plain": [
       "torch.Size([1, 7])"
      ]
     },
     "execution_count": 9,
     "metadata": {},
     "output_type": "execute_result"
    }
   ],
   "source": [
    "current_states.shape"
   ]
  },
  {
   "cell_type": "code",
   "execution_count": 10,
   "metadata": {},
   "outputs": [],
   "source": [
    "target_strings = ['What is 3+4?7[EOS]']"
   ]
  },
  {
   "cell_type": "code",
   "execution_count": 11,
   "metadata": {},
   "outputs": [],
   "source": [
    "_ = model.eval()\n",
    "_ = model.to(\"cpu\")"
   ]
  },
  {
   "cell_type": "code",
   "execution_count": 375,
   "metadata": {
    "collapsed": true,
    "jupyter": {
     "outputs_hidden": true
    }
   },
   "outputs": [
    {
     "data": {
      "text/plain": [
       "[('What is 3+4?',\n",
       "  {'state': tensor([268, 267, 228,  26,  18,  27,  38]),\n",
       "   'N': tensor([1161.]),\n",
       "   'Qa': tensor(indices=tensor([[  0,   1,   2,   3,   4,   5,   6,   7,   8,   9,  10,\n",
       "                            11,  12,  13,  14,  15,  16,  17,  18,  19,  20,  21,\n",
       "                            22,  23,  24,  25,  26,  27,  28,  29,  30,  31,  32,\n",
       "                            33,  34,  35,  36,  37,  38,  39,  40,  41,  42,  43,\n",
       "                            44,  45,  46,  47,  48,  49,  50,  51,  52,  53,  54,\n",
       "                            55,  56,  57,  58,  59,  60,  61,  62,  63,  64,  65,\n",
       "                            66,  67,  68,  69,  70,  71,  72,  73,  74,  75,  76,\n",
       "                            77,  78,  79,  80,  81,  82,  83,  84,  85,  86,  87,\n",
       "                            88,  89,  90,  91,  92,  93,  94,  95,  96,  97,  98,\n",
       "                            99, 100, 101, 102, 103, 104, 105, 106, 107, 108, 109,\n",
       "                           110, 111, 112, 113, 114, 115, 116, 117, 118, 119, 120,\n",
       "                           121, 122, 123, 124, 125, 126, 127, 128, 129, 130, 131,\n",
       "                           132, 133, 134, 135, 136, 137, 138, 139, 140, 141, 142,\n",
       "                           143, 144, 145, 146, 147, 148, 149, 150, 151, 152, 153,\n",
       "                           154, 155, 156, 157, 158, 159, 160, 161, 162, 163, 164,\n",
       "                           165, 166, 167, 168, 169, 170, 171, 172, 173, 174, 175,\n",
       "                           176, 177, 178, 179, 180, 181, 182, 183, 184, 185, 186,\n",
       "                           187, 188, 189, 190, 191, 192, 193, 194, 195, 196, 197,\n",
       "                           198, 199, 200, 201, 202, 203, 204, 205, 206, 207, 208,\n",
       "                           209, 210, 211, 212, 213, 214, 215, 216, 217, 218, 219,\n",
       "                           220, 221, 222, 223, 224, 225, 226, 227, 228, 229, 230,\n",
       "                           231, 232, 233, 234, 235, 236, 237, 238, 239, 240, 241,\n",
       "                           242, 243, 244, 245, 246, 247, 248, 249, 250, 251, 252,\n",
       "                           253, 254, 255, 256, 257, 258, 259, 260, 261, 262, 263,\n",
       "                           264, 265, 266, 267, 268, 269]]),\n",
       "          values=tensor([-0.3770, -0.6142, -0.2554, -0.6136, -0.2236, -0.7603,\n",
       "                         -0.2240, -0.2879, -0.5505, -0.4918, -0.6494, -0.2534,\n",
       "                         -0.3826, -0.2481, -0.2990, -0.2100, -0.2882, -0.2879,\n",
       "                         -0.2598, -0.2329, -0.3360, -0.3728, -0.2624, -0.2870,\n",
       "                         -0.2282, -0.2801, -0.5676, -0.2466, -0.2292, -0.2673,\n",
       "                         -0.2884, -0.2271, -0.2348, -0.5027, -0.2883, -0.3441,\n",
       "                         -0.3872, -0.2892, -0.4348, -0.2151, -0.3837, -0.3121,\n",
       "                         -0.2173, -0.2167, -0.3312, -0.3625, -0.3263, -0.3120,\n",
       "                         -0.5803, -0.2792, -0.3578, -0.2353, -0.2460, -0.2880,\n",
       "                         -0.2254, -0.2891, -0.2551, -0.2875, -0.5927, -0.2301,\n",
       "                         -0.2877, -0.6096, -0.3847, -0.2869, -0.2866, -0.2986,\n",
       "                         -0.3813, -0.2647, -0.2401, -0.7615, -0.2198, -0.3001,\n",
       "                         -0.2305, -0.2870, -0.3825, -0.2487, -0.4526, -0.2160,\n",
       "                         -0.3423, -0.2887, -0.2403, -0.2492, -0.2649, -0.2613,\n",
       "                         -0.2801, -0.2773, -0.2204, -0.3846, -0.3628, -0.3409,\n",
       "                         -0.2343, -0.3154, -0.3882, -0.3656, -0.2752, -0.2851,\n",
       "                         -0.7603, -0.3716, -0.2973, -0.3201, -0.3627, -0.2227,\n",
       "                         -0.2467, -0.3650, -0.2479, -0.2994, -0.2757, -0.2854,\n",
       "                         -0.2871, -0.4177, -0.2773, -0.3066, -0.3628, -0.4312,\n",
       "                         -0.2521, -0.2616, -0.3828, -0.2349, -0.2423, -0.2450,\n",
       "                         -0.3850, -0.2879, -0.2889, -0.2875, -0.2608, -0.2872,\n",
       "                         -0.2853, -0.2531, -0.2417, -0.2155, -0.2662, -0.2851,\n",
       "                         -0.3828, -0.2866, -0.3452, -0.2700, -0.5496, -0.2155,\n",
       "                         -0.2404, -0.2209, -0.2448, -0.3942, -0.6661, -0.4280,\n",
       "                         -0.2155, -0.3459, -0.6488, -0.2861, -0.3624, -0.5716,\n",
       "                         -0.2327, -0.2249, -0.3023, -0.3145, -0.2598, -0.3832,\n",
       "                         -0.2603, -0.2865, -0.3079, -0.4274, -0.2502, -0.2306,\n",
       "                         -0.2975, -0.2477, -0.2886, -0.2943, -0.2211, -0.2908,\n",
       "                         -0.2375, -0.2498, -0.2206, -0.2608, -0.2350, -0.2872,\n",
       "                         -0.2873, -0.2168, -0.2524, -0.3320, -0.2498, -0.4322,\n",
       "                         -0.2984, -0.2423, -0.2792, -0.2433, -0.2883, -0.4891,\n",
       "                         -0.3504, -0.6298, -0.3814, -0.2878, -0.2876, -0.2346,\n",
       "                         -0.3821, -0.2367, -0.2592, -0.3491, -0.6075, -0.2203,\n",
       "                         -0.2661, -0.2180, -0.3122, -0.5447, -0.7502, -0.3716,\n",
       "                         -0.3308, -0.2225, -0.2262, -0.2411, -0.2468, -0.2265,\n",
       "                         -0.2233, -0.2241, -0.5647, -0.2282, -0.6489, -0.2859,\n",
       "                         -0.2234, -0.3408, -0.2149, -0.2216, -0.3783, -0.3736,\n",
       "                         -0.2875, -0.4884, -0.2250, -0.3839, -0.3002, -0.3161,\n",
       "                         -0.2339, -0.2857, -0.2354, -0.2920, -0.2416, -0.4327,\n",
       "                         -0.2875, -0.2882, -0.3833, -0.2783, -0.5487, -0.2883,\n",
       "                         -0.3452, -0.3585, -0.3829, -0.2242, -0.3153, -0.3737,\n",
       "                         -0.3402, -0.2883, -0.2868, -0.6260, -0.2871, -0.2349,\n",
       "                         -0.6774, -0.2417, -0.4661, -0.6100, -0.2725, -0.2371,\n",
       "                         -0.2670, -0.3149, -0.2175, -0.6496, -0.4199, -0.4381,\n",
       "                         -0.3028, -0.3838, -0.2170, -0.2379, -0.2175, -0.2211]),\n",
       "          size=(270,), nnz=270, layout=torch.sparse_coo),\n",
       "   'Na': tensor(indices=tensor([[  0,   1,   2,   3,   4,   5,   6,   7,   8,   9,  10,\n",
       "                            11,  12,  13,  14,  15,  16,  17,  18,  19,  20,  21,\n",
       "                            22,  23,  24,  25,  26,  27,  28,  29,  30,  31,  32,\n",
       "                            33,  34,  35,  36,  37,  38,  39,  40,  41,  42,  43,\n",
       "                            44,  45,  46,  47,  48,  49,  50,  51,  52,  53,  54,\n",
       "                            55,  56,  57,  58,  59,  60,  61,  62,  63,  64,  65,\n",
       "                            66,  67,  68,  69,  70,  71,  72,  73,  74,  75,  76,\n",
       "                            77,  78,  79,  80,  81,  82,  83,  84,  85,  86,  87,\n",
       "                            88,  89,  90,  91,  92,  93,  94,  95,  96,  97,  98,\n",
       "                            99, 100, 101, 102, 103, 104, 105, 106, 107, 108, 109,\n",
       "                           110, 111, 112, 113, 114, 115, 116, 117, 118, 119, 120,\n",
       "                           121, 122, 123, 124, 125, 126, 127, 128, 129, 130, 131,\n",
       "                           132, 133, 134, 135, 136, 137, 138, 139, 140, 141, 142,\n",
       "                           143, 144, 145, 146, 147, 148, 149, 150, 151, 152, 153,\n",
       "                           154, 155, 156, 157, 158, 159, 160, 161, 162, 163, 164,\n",
       "                           165, 166, 167, 168, 169, 170, 171, 172, 173, 174, 175,\n",
       "                           176, 177, 178, 179, 180, 181, 182, 183, 184, 185, 186,\n",
       "                           187, 188, 189, 190, 191, 192, 193, 194, 195, 196, 197,\n",
       "                           198, 199, 200, 201, 202, 203, 204, 205, 206, 207, 208,\n",
       "                           209, 210, 211, 212, 213, 214, 215, 216, 217, 218, 219,\n",
       "                           220, 221, 222, 223, 224, 225, 226, 227, 228, 229, 230,\n",
       "                           231, 232, 233, 234, 235, 236, 237, 238, 239, 240, 241,\n",
       "                           242, 243, 244, 245, 246, 247, 248, 249, 250, 251, 252,\n",
       "                           253, 254, 255, 256, 257, 258, 259, 260, 261, 262, 263,\n",
       "                           264, 265, 266, 267, 268, 269]]),\n",
       "          values=tensor([ 5.,  1.,  1.,  1., 19.,  1., 14.,  1.,  1.,  1.,  1.,\n",
       "                          2.,  1.,  1.,  2., 48.,  1.,  2.,  2.,  9.,  2.,  1.,\n",
       "                          6.,  1., 23.,  1.,  1.,  2., 18.,  2.,  1.,  2.,  2.,\n",
       "                          2.,  1.,  2.,  2.,  1.,  1., 12.,  3.,  1.,  5., 17.,\n",
       "                          2.,  1.,  1.,  1.,  1.,  1.,  2., 15.,  2.,  1., 20.,\n",
       "                          1.,  5.,  1.,  1.,  1.,  3.,  1.,  1.,  1.,  1.,  1.,\n",
       "                          1.,  2.,  1.,  1., 11.,  2.,  3.,  1.,  1.,  1.,  1.,\n",
       "                         15.,  3.,  1.,  8.,  1.,  7.,  2.,  1.,  1., 11.,  1.,\n",
       "                          1.,  2.,  7.,  1.,  2.,  1.,  1.,  1.,  1.,  1.,  2.,\n",
       "                          2.,  1., 10.,  4.,  1.,  1.,  1.,  6.,  1.,  1.,  1.,\n",
       "                          3.,  1.,  1.,  1.,  2.,  5.,  1., 15.,  7.,  6.,  2.,\n",
       "                          1.,  1.,  1.,  2.,  1.,  1.,  3.,  6., 38.,  3.,  2.,\n",
       "                          1.,  1.,  2.,  3.,  1., 29., 11.,  4.,  3.,  2.,  1.,\n",
       "                          2.,  4.,  3.,  1.,  1.,  1.,  1.,  1., 16.,  3.,  1.,\n",
       "                          2.,  1.,  7.,  1.,  5.,  2.,  2.,  4.,  1.,  6.,  1.,\n",
       "                          2., 11.,  2.,  4.,  8., 13.,  2.,  5.,  5.,  1., 13.,\n",
       "                          4.,  1.,  3.,  1.,  1.,  5.,  1.,  4.,  1.,  1.,  2.,\n",
       "                          1.,  1.,  1.,  1.,  3.,  1.,  3.,  1.,  1.,  1., 16.,\n",
       "                          2., 20.,  1.,  1.,  1.,  1.,  2.,  7., 14.,  3.,  1.,\n",
       "                          9., 21.,  9.,  1.,  6.,  1.,  1., 13.,  1., 33., 10.,\n",
       "                          1.,  1.,  1.,  1.,  5.,  1.,  1.,  1., 21.,  1.,  8.,\n",
       "                          5.,  1.,  1.,  1.,  1.,  1.,  1.,  1.,  1.,  2.,  3.,\n",
       "                          1.,  5.,  1.,  1.,  2.,  2.,  1.,  1.,  1.,  8.,  1.,\n",
       "                          3.,  1.,  1.,  4.,  3.,  3.,  1., 61.,  1.,  2.,  1.,\n",
       "                          1.,  1., 26., 12., 17., 21.]),\n",
       "          size=(270,), nnz=270, layout=torch.sparse_coo),\n",
       "   'eV': tensor(-0.1727)}),\n",
       " ('What is 3+4?�',\n",
       "  {'state': tensor([268, 267, 228,  26,  18,  27,  38, 169]),\n",
       "   'N': tensor([492.]),\n",
       "   'Qa': tensor(indices=tensor([[  0,   1,   2,   3,   4,   5,   6,   7,   8,   9,  10,\n",
       "                            11,  12,  13,  14,  15,  16,  17,  18,  19,  20,  21,\n",
       "                            22,  23,  24,  25,  26,  27,  28,  29,  30,  31,  32,\n",
       "                            33,  34,  35,  36,  37,  38,  39,  40,  41,  42,  43,\n",
       "                            44,  45,  46,  47,  48,  49,  50,  51,  52,  53,  54,\n",
       "                            55,  56,  57,  58,  59,  60,  61,  62,  63,  64,  65,\n",
       "                            66,  67,  68,  69,  70,  71,  72,  73,  74,  75,  76,\n",
       "                            77,  78,  79,  80,  81,  82,  83,  84,  85,  86,  87,\n",
       "                            88,  89,  90,  91,  92,  93,  94,  95,  96,  97,  98,\n",
       "                            99, 100, 101, 102, 103, 104, 105, 106, 107, 108, 109,\n",
       "                           110, 111, 112, 113, 114, 115, 116, 117, 118, 119, 120,\n",
       "                           121, 122, 123, 124, 125, 126, 127, 128, 129, 130, 131,\n",
       "                           132, 133, 134, 135, 136, 137, 138, 139, 140, 141, 142,\n",
       "                           143, 144, 145, 146, 147, 148, 149, 150, 151, 152, 153,\n",
       "                           154, 155, 156, 157, 158, 159, 160, 161, 162, 163, 164,\n",
       "                           165, 166, 167, 168, 169, 170, 171, 172, 173, 174, 175,\n",
       "                           176, 177, 178, 179, 180, 181, 182, 183, 184, 185, 186,\n",
       "                           187, 188, 189, 190, 191, 192, 193, 194, 195, 196, 197,\n",
       "                           198, 199, 200, 201, 202, 203, 204, 205, 206, 207, 208,\n",
       "                           209, 210, 211, 212, 213, 214, 215, 216, 217, 218, 219,\n",
       "                           220, 221, 222, 223, 224, 225, 226, 227, 228, 229, 230,\n",
       "                           231, 232, 233, 234, 235, 236, 237, 238, 239, 240, 241,\n",
       "                           242, 243, 244, 245, 246, 247, 248, 249, 250, 251, 252,\n",
       "                           253, 254, 255, 256, 257, 258, 259, 260, 261, 262, 263,\n",
       "                           264, 265, 266, 267, 268, 269]]),\n",
       "          values=tensor([-0.2592, -0.2876, -0.1866, -0.3529, -0.3132, -0.2873,\n",
       "                         -0.2564, -0.2144, -0.2872, -0.6260, -0.3821, -0.2098,\n",
       "                         -0.3828, -0.3213, -0.2043, -0.1915, -0.3160, -0.6226,\n",
       "                         -0.1818, -0.2793, -0.2883, -0.5271, -0.2440, -0.2792,\n",
       "                         -0.2098, -0.2989, -0.2748, -0.4177, -0.2871, -0.1841,\n",
       "                         -0.2006, -0.3493, -0.2392, -0.2886, -0.2250, -0.2886,\n",
       "                         -0.2853, -0.2034, -0.3716, -0.2338, -0.2278, -0.3369,\n",
       "                         -0.2887, -0.4397, -0.3398, -0.2835, -0.1803, -0.3320,\n",
       "                         -0.1849, -0.2883, -0.2868, -0.2842, -0.2918, -0.5412,\n",
       "                         -0.3401, -0.3926, -0.2888, -0.3246, -0.2891, -0.6489,\n",
       "                         -0.1657, -0.3832, -0.2984, -0.2875, -0.2991, -0.3256,\n",
       "                         -0.2324, -0.2539, -0.1729, -0.5716, -0.4327, -0.1734,\n",
       "                         -0.2081, -0.3776, -0.2894, -0.3873, -0.2854, -0.2632,\n",
       "                         -0.2886, -0.1664, -0.6100, -0.2793, -0.2705, -0.1825,\n",
       "                         -0.2337, -0.3624, -0.1760, -0.2876, -0.1850, -0.2097,\n",
       "                         -0.4168, -0.3153, -0.2323, -0.2151, -0.3650, -0.2063,\n",
       "                         -0.3737, -0.2285, -0.1673, -0.3066, -0.1874, -0.2877,\n",
       "                         -0.2134, -0.2096, -0.2224, -0.2136, -0.1726, -0.5487,\n",
       "                         -0.1803, -0.3739, -0.3814, -0.1734, -0.2354, -0.2030,\n",
       "                         -0.6200, -0.2270, -0.2790, -0.2879, -0.2871, -0.3812,\n",
       "                         -0.2077, -0.3628, -0.4411, -0.3038, -0.1867, -0.2882,\n",
       "                         -0.1875, -0.4312, -0.6148, -0.6488, -0.2038, -0.2333,\n",
       "                         -0.2327, -0.4322, -0.6496, -0.2881, -0.5218, -0.1783,\n",
       "                         -0.1977, -0.2975, -0.6059, -0.3606, -0.2889, -0.3080,\n",
       "                         -0.2873, -0.2871, -0.2089, -0.2020, -0.2865, -0.3491,\n",
       "                         -0.4132, -0.3833, -0.3145, -0.3035, -0.2592, -0.2905,\n",
       "                         -0.2280, -0.3260, -0.1935, -0.2488, -0.2074, -0.6774,\n",
       "                         -0.2885, -0.1814, -0.1974, -0.1943, -0.4939, -0.4661,\n",
       "                         -0.2883, -0.6298, -0.2166, -0.2883, -0.7617, -0.2858,\n",
       "                         -0.5795, -0.1690, -0.3509, -0.1641, -0.3785, -0.2249,\n",
       "                         -0.5973, -0.2879, -0.2330, -0.1907, -0.3828, -0.2896,\n",
       "                         -0.2241, -0.2479, -0.2988, -0.2315, -0.4902, -0.2874,\n",
       "                         -0.1960, -0.2886, -0.2021, -0.5496, -0.5708, -0.2416,\n",
       "                         -0.3472, -0.3896, -0.2533, -0.3829, -0.1893, -0.2113,\n",
       "                         -0.5398, -0.5868, -0.2878, -0.1800, -0.2867, -0.2876,\n",
       "                         -0.6148, -0.1938, -0.2021, -0.2861, -0.2562, -0.2471,\n",
       "                         -0.1904, -0.1921, -0.4934, -0.4381, -0.3712, -0.2866,\n",
       "                         -0.6872, -0.1935, -0.4579, -0.2873, -0.3408, -0.2994,\n",
       "                         -0.2161, -0.1844, -0.1842, -0.3739, -0.2558, -0.2985,\n",
       "                         -0.3115, -0.2872, -0.2041, -0.2353, -0.2847, -0.6612,\n",
       "                         -0.2482, -0.2212, -0.3107, -0.4623, -0.6935, -0.2870,\n",
       "                         -0.2874, -0.2095, -0.2793, -0.3005, -0.2045, -0.2223,\n",
       "                         -0.3305, -0.2191, -0.2870, -0.6504, -0.2783, -0.2883,\n",
       "                         -0.4891, -0.2875, -0.1865, -0.3149, -0.2635, -0.4284,\n",
       "                         -0.3125, -0.2066, -0.2569, -0.2142, -0.1738, -0.1757]),\n",
       "          size=(270,), nnz=270, layout=torch.sparse_coo),\n",
       "   'Na': tensor(indices=tensor([[  0,   1,   2,   3,   4,   5,   6,   7,   8,   9,  10,\n",
       "                            11,  12,  13,  14,  15,  16,  17,  18,  19,  20,  21,\n",
       "                            22,  23,  24,  25,  26,  27,  28,  29,  30,  31,  32,\n",
       "                            33,  34,  35,  36,  37,  38,  39,  40,  41,  42,  43,\n",
       "                            44,  45,  46,  47,  48,  49,  50,  51,  52,  53,  54,\n",
       "                            55,  56,  57,  58,  59,  60,  61,  62,  63,  64,  65,\n",
       "                            66,  67,  68,  69,  70,  71,  72,  73,  74,  75,  76,\n",
       "                            77,  78,  79,  80,  81,  82,  83,  84,  85,  86,  87,\n",
       "                            88,  89,  90,  91,  92,  93,  94,  95,  96,  97,  98,\n",
       "                            99, 100, 101, 102, 103, 104, 105, 106, 107, 108, 109,\n",
       "                           110, 111, 112, 113, 114, 115, 116, 117, 118, 119, 120,\n",
       "                           121, 122, 123, 124, 125, 126, 127, 128, 129, 130, 131,\n",
       "                           132, 133, 134, 135, 136, 137, 138, 139, 140, 141, 142,\n",
       "                           143, 144, 145, 146, 147, 148, 149, 150, 151, 152, 153,\n",
       "                           154, 155, 156, 157, 158, 159, 160, 161, 162, 163, 164,\n",
       "                           165, 166, 167, 168, 169, 170, 171, 172, 173, 174, 175,\n",
       "                           176, 177, 178, 179, 180, 181, 182, 183, 184, 185, 186,\n",
       "                           187, 188, 189, 190, 191, 192, 193, 194, 195, 196, 197,\n",
       "                           198, 199, 200, 201, 202, 203, 204, 205, 206, 207, 208,\n",
       "                           209, 210, 211, 212, 213, 214, 215, 216, 217, 218, 219,\n",
       "                           220, 221, 222, 223, 224, 225, 226, 227, 228, 229, 230,\n",
       "                           231, 232, 233, 234, 235, 236, 237, 238, 239, 240, 241,\n",
       "                           242, 243, 244, 245, 246, 247, 248, 249, 250, 251, 252,\n",
       "                           253, 254, 255, 256, 257, 258, 259, 260, 261, 262, 263,\n",
       "                           264, 265, 266, 267, 268, 269]]),\n",
       "          values=tensor([ 1.,  1.,  4.,  2.,  1.,  1.,  1.,  1.,  1.,  1.,  1.,\n",
       "                          1.,  1.,  1.,  3.,  7.,  1.,  1.,  5.,  1.,  1.,  1.,\n",
       "                          4.,  1.,  1.,  1.,  4.,  1.,  1.,  6.,  4.,  1.,  1.,\n",
       "                          1.,  2.,  1.,  1.,  1.,  1.,  1.,  1.,  1.,  1.,  1.,\n",
       "                          1.,  2.,  3.,  1.,  2.,  1.,  1.,  2.,  2.,  1.,  2.,\n",
       "                          2.,  1.,  1.,  1.,  1., 12.,  1.,  1.,  1.,  1.,  1.,\n",
       "                          3.,  1.,  5.,  1.,  1., 14.,  2.,  1.,  1.,  1.,  1.,\n",
       "                          1.,  1., 10.,  1.,  1.,  2.,  1.,  1.,  1.,  6.,  1.,\n",
       "                          1.,  1.,  1.,  1.,  1.,  2.,  1.,  8.,  1.,  2., 18.,\n",
       "                          1.,  2.,  1.,  2.,  1.,  1.,  3.,  2.,  1.,  2.,  1.,\n",
       "                          1.,  9.,  1.,  1.,  1.,  3.,  1.,  1.,  1.,  1.,  3.,\n",
       "                          1.,  1.,  2.,  4.,  1.,  2.,  1.,  1.,  1.,  1.,  1.,\n",
       "                          1.,  1.,  1.,  1.,  1.,  4.,  1.,  1.,  1.,  2.,  1.,\n",
       "                          1.,  1.,  1.,  1.,  1.,  1.,  1.,  2.,  1.,  1.,  2.,\n",
       "                          1.,  1.,  1.,  2.,  3.,  2.,  3.,  1.,  1.,  1.,  4.,\n",
       "                          2.,  1.,  1.,  1.,  1.,  1.,  1.,  1.,  2.,  1.,  6.,\n",
       "                          1.,  2.,  2.,  1.,  1.,  1.,  1.,  3.,  1.,  3.,  1.,\n",
       "                          1.,  1.,  1.,  1.,  1.,  4.,  1.,  1.,  1.,  1.,  1.,\n",
       "                          2.,  2.,  4.,  1.,  3.,  1.,  1.,  1.,  1.,  2.,  1.,\n",
       "                          1.,  1.,  4.,  1.,  1.,  1.,  1.,  2.,  2.,  1.,  1.,\n",
       "                          1.,  1.,  1.,  2.,  1.,  1.,  1.,  1.,  5.,  1.,  2.,\n",
       "                          1.,  1.,  1.,  2.,  1.,  7.,  3.,  1.,  1.,  1.,  5.,\n",
       "                          1.,  1.,  1.,  1.,  1.,  3.,  1.,  1.,  3.,  1.,  1.,\n",
       "                          3.,  1.,  1.,  1.,  1.,  1.,  1.,  1.,  1.,  2.,  1.,\n",
       "                          3.,  2.,  2.,  3.,  8.,  5.]),\n",
       "          size=(270,), nnz=270, layout=torch.sparse_coo),\n",
       "   'eV': tensor(0.1002)}),\n",
       " ('What is 3+4?��',\n",
       "  {'state': tensor([268, 267, 228,  26,  18,  27,  38, 115, 115]),\n",
       "   'N': tensor([165.]),\n",
       "   'Qa': tensor(indices=tensor([[  0,   1,   5,   8,   9,  10,  11,  12,  14,  20,  23,\n",
       "                            24,  26,  27,  33,  34,  36,  37,  40,  43,  47,  48,\n",
       "                            50,  51,  54,  55,  61,  62,  63,  66,  67,  69,  70,\n",
       "                            71,  76,  79,  80,  82,  85,  86,  87,  89,  91,  92,\n",
       "                            94,  95,  96,  97,  98,  99, 102, 103, 105, 107, 110,\n",
       "                           111, 112, 115, 117, 118, 121, 124, 125, 126, 127, 128,\n",
       "                           129, 130, 131, 132, 133, 134, 135, 137, 139, 140, 141,\n",
       "                           142, 145, 146, 149, 151, 152, 153, 154, 156, 157, 158,\n",
       "                           159, 161, 167, 168, 169, 171, 172, 173, 174, 175, 178,\n",
       "                           181, 183, 185, 186, 187, 188, 189, 191, 193, 195, 197,\n",
       "                           198, 199, 201, 206, 209, 211, 212, 213, 216, 219, 220,\n",
       "                           221, 225, 227, 228, 230, 233, 237, 240, 242, 244, 245,\n",
       "                           247, 250, 253, 254, 255, 256, 258, 259, 261, 262, 264,\n",
       "                           265, 266, 267, 269]]),\n",
       "          values=tensor([-0.2224, -0.0261, -0.2883, -0.6504, -0.2847, -0.2973,\n",
       "                         -0.2021, -0.1293, -0.1171, -0.6298, -0.2020, -0.2790,\n",
       "                         -0.2224, -0.3115, -0.3487, -0.2035, -0.5973, -0.2549,\n",
       "                         -0.2420, -0.0950, -0.3154, -0.4323, -0.2228, -0.3107,\n",
       "                         -0.2241, -0.2905, -0.0766, -0.4312, -0.3752, -0.2330,\n",
       "                         -0.2984, -0.2975, -0.3812, -0.5496, -0.2315, -0.2099,\n",
       "                         -0.2873, -0.5218, -0.6612, -0.2875, -0.2354, -0.4308,\n",
       "                         -0.1386, -0.2882, -0.1865, -0.1833, -0.7617, -0.3145,\n",
       "                         -0.3509, -0.0792, -0.2881, -0.4227, -0.0971, -0.2133,\n",
       "                         -0.2988, -0.0645, -0.1917, -0.2319, -0.0950, -0.2107,\n",
       "                         -0.1649, -0.0052, -0.2793, -0.4501, -0.3509, -0.6599,\n",
       "                         -0.0812, -0.5877, -0.3491, -0.0099, -0.2393, -0.1091,\n",
       "                         -0.6059, -0.0781, -0.5965, -0.2880, -0.2883, -0.3727,\n",
       "                         -0.3107, -0.3814, -0.2327, -0.3080, -0.1338, -0.3149,\n",
       "                         -0.2874, -0.2879, -0.3005, -0.2879, -0.2223, -0.2880,\n",
       "                         -0.5487, -0.2166, -0.4661, -0.4904, -0.2544, -0.1132,\n",
       "                         -0.4896, -0.2332, -0.3833, -0.5795, -0.3828, -0.6496,\n",
       "                         -0.2871, -0.0588, -0.0660, -0.2592, -0.2142, -0.1527,\n",
       "                         -0.1624, -0.4501, -0.1814, -0.3628, -0.4891, -0.2881,\n",
       "                         -0.0372, -0.6620, -0.2871, -0.1343, -0.1977, -0.4411,\n",
       "                         -0.2977, -0.6774, -0.2333, -0.2096, -0.2558, -0.2482,\n",
       "                         -0.2357, -0.4902, -0.5105, -0.2280, -0.2166, -0.2546,\n",
       "                         -0.0950, -0.2885, -0.2886, -0.3469, -0.2882, -0.4322,\n",
       "                         -0.2089, -0.2479, -0.2889, -0.2783, -0.0533, -0.0555,\n",
       "                         -0.1174, -0.1422, -0.1665]),\n",
       "          size=(270,), nnz=147, layout=torch.sparse_coo),\n",
       "   'Na': tensor(indices=tensor([[  0,   1,   5,   8,   9,  10,  11,  12,  14,  20,  23,\n",
       "                            24,  26,  27,  33,  34,  36,  37,  40,  43,  47,  48,\n",
       "                            50,  51,  54,  55,  61,  62,  63,  66,  67,  69,  70,\n",
       "                            71,  76,  79,  80,  82,  85,  86,  87,  89,  91,  92,\n",
       "                            94,  95,  96,  97,  98,  99, 102, 103, 105, 107, 110,\n",
       "                           111, 112, 115, 117, 118, 121, 124, 125, 126, 127, 128,\n",
       "                           129, 130, 131, 132, 133, 134, 135, 137, 139, 140, 141,\n",
       "                           142, 145, 146, 149, 151, 152, 153, 154, 156, 157, 158,\n",
       "                           159, 161, 167, 168, 169, 171, 172, 173, 174, 175, 178,\n",
       "                           181, 183, 185, 186, 187, 188, 189, 191, 193, 195, 197,\n",
       "                           198, 199, 201, 206, 209, 211, 212, 213, 216, 219, 220,\n",
       "                           221, 225, 227, 228, 230, 233, 237, 240, 242, 244, 245,\n",
       "                           247, 250, 253, 254, 255, 256, 258, 259, 261, 262, 264,\n",
       "                           265, 266, 267, 269]]),\n",
       "          values=tensor([1., 1., 1., 1., 1., 1., 1., 2., 1., 1., 1., 1., 1., 2.,\n",
       "                         1., 1., 1., 1., 2., 1., 1., 1., 1., 1., 1., 1., 1., 1.,\n",
       "                         1., 1., 1., 1., 1., 1., 1., 1., 1., 1., 1., 1., 1., 1.,\n",
       "                         1., 1., 1., 1., 1., 1., 1., 3., 1., 1., 1., 1., 1., 1.,\n",
       "                         1., 1., 1., 1., 1., 2., 1., 1., 1., 1., 2., 1., 1., 1.,\n",
       "                         1., 2., 1., 1., 1., 1., 1., 1., 1., 1., 1., 1., 2., 1.,\n",
       "                         1., 1., 1., 1., 1., 1., 1., 1., 1., 1., 1., 3., 1., 1.,\n",
       "                         1., 1., 1., 1., 1., 1., 2., 1., 1., 1., 2., 1., 1., 1.,\n",
       "                         1., 1., 2., 1., 1., 1., 1., 1., 1., 1., 1., 1., 1., 1.,\n",
       "                         1., 1., 1., 1., 1., 1., 1., 1., 1., 3., 1., 1., 1., 1.,\n",
       "                         1., 1., 2., 1., 1., 1., 1.]),\n",
       "          size=(270,), nnz=147, layout=torch.sparse_coo),\n",
       "   'eV': tensor(-0.1038)}),\n",
       " ('What is 3+4?���',\n",
       "  {'state': tensor([268, 267, 228,  26,  18,  27,  38, 152, 185, 115]),\n",
       "   'N': tensor([70.]),\n",
       "   'Qa': tensor(indices=tensor([[  5,   8,  14,  20,  34,  40,  51,  54,  62,  69,  70,\n",
       "                            71,  76,  86,  92,  95,  97,  99, 110, 111, 115, 117,\n",
       "                           118, 121, 127, 129, 131, 134, 137, 141, 142, 146, 149,\n",
       "                           152, 153, 156, 158, 159, 167, 169, 178, 181, 183, 185,\n",
       "                           186, 188, 189, 198, 201, 206, 221, 225, 227, 230, 242,\n",
       "                           247, 256, 258, 261, 262, 264, 265, 266]]),\n",
       "          values=tensor([-0.3727, -0.2393, -0.2886, -0.0971, -0.2880, -0.2874,\n",
       "                         -0.6496, -0.2879, -0.1527, -0.4896, -0.1917, -0.1624,\n",
       "                         -0.2166, -0.3833, -0.4322, -0.2544, -0.3828, -0.0781,\n",
       "                         -0.2544, -0.2793, -0.2879, -0.2332, -0.3814, -0.2142,\n",
       "                         -0.2332, -0.2871, -0.2880, -0.1132, -0.5965, -0.2783,\n",
       "                         -0.0588, -0.0099, -0.2882, -0.2592, -0.5487, -0.0660,\n",
       "                         -0.5795, -0.4227, -0.2357, -0.0645, -0.0052, -0.2569,\n",
       "                         -0.2546, -0.3149, -0.1649, -0.2327, -0.2479, -0.4904,\n",
       "                         -0.2883, -0.2223, -0.3107, -0.2988, -0.2249, -0.2482,\n",
       "                         -0.0107, -0.3756, -0.4902, -0.2418, -0.3005, -0.5877,\n",
       "                         -0.6059, -0.4661, -0.3080]),\n",
       "          size=(270,), nnz=63, layout=torch.sparse_coo),\n",
       "   'Na': tensor(indices=tensor([[  5,   8,  14,  20,  34,  40,  51,  54,  62,  69,  70,\n",
       "                            71,  76,  86,  92,  95,  97,  99, 110, 111, 115, 117,\n",
       "                           118, 121, 127, 129, 131, 134, 137, 141, 142, 146, 149,\n",
       "                           152, 153, 156, 158, 159, 167, 169, 178, 181, 183, 185,\n",
       "                           186, 188, 189, 198, 201, 206, 221, 225, 227, 230, 242,\n",
       "                           247, 256, 258, 261, 262, 264, 265, 266]]),\n",
       "          values=tensor([1., 1., 1., 1., 1., 1., 1., 1., 1., 1., 1., 2., 1., 1.,\n",
       "                         1., 1., 1., 1., 1., 1., 1., 1., 1., 1., 1., 1., 1., 3.,\n",
       "                         1., 1., 1., 1., 1., 1., 1., 2., 1., 1., 1., 1., 2., 1.,\n",
       "                         1., 1., 1., 1., 1., 1., 1., 1., 1., 1., 1., 1., 1., 1.,\n",
       "                         1., 2., 1., 1., 1., 1., 1.]),\n",
       "          size=(270,), nnz=63, layout=torch.sparse_coo),\n",
       "   'eV': tensor(-0.2319)}),\n",
       " ('What is 3+4?(',\n",
       "  {'state': tensor([268, 267, 228,  26,  18,  27,  38,  15]),\n",
       "   'N': tensor([48.]),\n",
       "   'Qa': tensor(indices=tensor([[  5,  14,  40,  51,  54,  69,  86,  92,  97,  99, 110,\n",
       "                           115, 117, 118, 129, 131, 134, 141, 146, 152, 153, 156,\n",
       "                           158, 167, 169, 178, 185, 186, 201, 206, 225, 227, 230,\n",
       "                           242, 256, 258, 261, 264, 265, 266]]),\n",
       "          values=tensor([-0.2854, -0.5120, -0.0419, -0.2489, -0.1814, -0.2160,\n",
       "                         -0.1346, -0.2784, -0.0439, -0.2861, -0.1392, -0.1362,\n",
       "                         -0.0756, -0.0602, -0.3829, -0.0308, -0.0989, -0.1412,\n",
       "                         -0.2894, -0.1674, -0.2893, -0.2870, -0.3105, -0.2112,\n",
       "                         -0.0916, -0.2175, -0.1165, -0.7611, -0.2537, -0.0883,\n",
       "                         -0.3809, -0.1588, -0.1976, -0.2872, -0.4359, -0.2126,\n",
       "                         -0.2898, -0.3729, -0.2670, -0.2872]),\n",
       "          size=(270,), nnz=40, layout=torch.sparse_coo),\n",
       "   'Na': tensor(indices=tensor([[  5,  14,  40,  51,  54,  69,  86,  92,  97,  99, 110,\n",
       "                           115, 117, 118, 129, 131, 134, 141, 146, 152, 153, 156,\n",
       "                           158, 167, 169, 178, 185, 186, 201, 206, 225, 227, 230,\n",
       "                           242, 256, 258, 261, 264, 265, 266]]),\n",
       "          values=tensor([1., 1., 1., 1., 1., 1., 1., 1., 1., 1., 1., 1., 1., 2.,\n",
       "                         1., 3., 3., 1., 1., 2., 1., 1., 1., 1., 1., 1., 2., 1.,\n",
       "                         1., 1., 1., 1., 1., 1., 1., 1., 1., 1., 1., 1.]),\n",
       "          size=(270,), nnz=40, layout=torch.sparse_coo),\n",
       "   'eV': tensor(-0.2090)}),\n",
       " ('What is 3+4?\\n',\n",
       "  {'state': tensor([268, 267, 228,  26,  18,  27,  38, 206]),\n",
       "   'N': tensor([33.]),\n",
       "   'Qa': tensor(indices=tensor([[ 14,  40,  50,  51,  54,  97,  99, 110, 115, 117, 118,\n",
       "                           129, 134, 137, 141, 146, 152, 153, 156, 158, 169, 178,\n",
       "                           185, 201, 206, 225, 242, 258, 266]]),\n",
       "          values=tensor([-0.2862, -0.0023, -0.1594, -0.0129, -0.0086, -0.1000,\n",
       "                         -0.3839, -0.1369, -0.2878, -0.6060, -0.2501, -0.2401,\n",
       "                         -0.1512, -0.7488, -0.1387, -0.0973, -0.2552, -0.2853,\n",
       "                         -0.3154, -0.2114, -0.0743, -0.2357, -0.4730, -0.2895,\n",
       "                         -0.3102, -0.1357, -0.2160, -0.2782, -0.2870]),\n",
       "          size=(270,), nnz=29, layout=torch.sparse_coo),\n",
       "   'Na': tensor(indices=tensor([[ 14,  40,  50,  51,  54,  97,  99, 110, 115, 117, 118,\n",
       "                           129, 134, 137, 141, 146, 152, 153, 156, 158, 169, 178,\n",
       "                           185, 201, 206, 225, 242, 258, 266]]),\n",
       "          values=tensor([1., 1., 1., 1., 2., 1., 1., 1., 1., 1., 1., 1., 1., 1.,\n",
       "                         2., 1., 1., 1., 1., 1., 2., 1., 1., 1., 1., 1., 1., 1.,\n",
       "                         1.]),\n",
       "          size=(270,), nnz=29, layout=torch.sparse_coo),\n",
       "   'eV': tensor(-0.2151)}),\n",
       " ('What is 3+4?\\x16',\n",
       "  {'state': tensor([268, 267, 228,  26,  18,  27,  38, 218]),\n",
       "   'N': tensor([33.]),\n",
       "   'Qa': tensor(indices=tensor([[ 14,  51,  54,  92,  97,  99, 110, 115, 118, 129, 134,\n",
       "                           137, 141, 146, 151, 152, 156, 158, 169, 185, 189, 199,\n",
       "                           201, 206, 225, 228, 242, 256, 258, 265, 266]]),\n",
       "          values=tensor([-0.0005, -0.1634, -0.0791, -0.2881, -0.1646, -0.2877,\n",
       "                         -0.2330, -0.2087, -0.1225, -0.3737, -0.2551, -0.3133,\n",
       "                         -0.2294, -0.0897, -0.3743, -0.2976, -0.2990, -0.0789,\n",
       "                         -0.1821, -0.0978, -0.2982, -0.2367, -0.2889, -0.2871,\n",
       "                         -0.1829, -0.4489, -0.1379, -0.1491, -0.2228, -0.3820,\n",
       "                         -0.1838]),\n",
       "          size=(270,), nnz=31, layout=torch.sparse_coo),\n",
       "   'Na': tensor(indices=tensor([[ 14,  51,  54,  92,  97,  99, 110, 115, 118, 129, 134,\n",
       "                           137, 141, 146, 151, 152, 156, 158, 169, 185, 189, 199,\n",
       "                           201, 206, 225, 228, 242, 256, 258, 265, 266]]),\n",
       "          values=tensor([1., 1., 1., 1., 1., 1., 1., 1., 2., 1., 1., 1., 1., 1.,\n",
       "                         1., 1., 1., 1., 1., 1., 1., 1., 1., 1., 1., 1., 1., 1.,\n",
       "                         1., 1., 1.]),\n",
       "          size=(270,), nnz=31, layout=torch.sparse_coo),\n",
       "   'eV': tensor(-0.0113)}),\n",
       " ('What is 3+4?����',\n",
       "  {'state': tensor([268, 267, 228,  26,  18,  27,  38, 259, 261, 153, 185]),\n",
       "   'N': tensor([32.]),\n",
       "   'Qa': tensor(indices=tensor([[ 14,  40,  51,  54,  76,  92,  97,  99, 115, 118, 129,\n",
       "                           134, 141, 146, 152, 156, 158, 169, 185, 201, 225, 242,\n",
       "                           258, 264, 265, 266]]),\n",
       "          values=tensor([-0.2783, -0.2793, -0.2482, -0.5795, -0.4227, -0.2357,\n",
       "                         -0.0660, -0.0588, -0.2871, -0.5877, -0.2569, -0.2142,\n",
       "                         -0.3756,  0.0087, -0.1649, -0.2882, -0.2327, -0.2546,\n",
       "                         -0.0052, -0.2592, -0.5487, -0.5965, -0.0645, -0.4902,\n",
       "                         -0.2569, -0.2479]),\n",
       "          size=(270,), nnz=26, layout=torch.sparse_coo),\n",
       "   'Na': tensor(indices=tensor([[ 14,  40,  51,  54,  76,  92,  97,  99, 115, 118, 129,\n",
       "                           134, 141, 146, 152, 156, 158, 169, 185, 201, 225, 242,\n",
       "                           258, 264, 265, 266]]),\n",
       "          values=tensor([1., 1., 1., 1., 1., 1., 2., 1., 1., 1., 1., 1., 1., 3.,\n",
       "                         1., 1., 1., 1., 2., 1., 1., 1., 2., 1., 1., 1.]),\n",
       "          size=(270,), nnz=26, layout=torch.sparse_coo),\n",
       "   'eV': tensor(-0.3149)}),\n",
       " ('What is 3+4?(�',\n",
       "  {'state': tensor([268, 267, 228,  26,  18,  27,  38,  15, 115]),\n",
       "   'N': tensor([30.]),\n",
       "   'Qa': tensor(indices=tensor([[ 14,  51,  54,  97, 115, 118, 129, 131, 134, 137, 141,\n",
       "                           152, 156, 158, 169, 185, 201, 225, 242, 258, 264, 266]]),\n",
       "          values=tensor([-0.2126, -0.1165, -0.0308, -0.0602, -0.3105, -0.7611,\n",
       "                         -0.2894, -0.4359, -0.3829, -0.1392, -0.0989, -0.2870,\n",
       "                         -0.2175, -0.2893, -0.0916, -0.2898, -0.1412, -0.0756,\n",
       "                         -0.1976, -0.1674, -0.2112, -0.2872]),\n",
       "          size=(270,), nnz=22, layout=torch.sparse_coo),\n",
       "   'Na': tensor(indices=tensor([[ 14,  51,  54,  97, 115, 118, 129, 131, 134, 137, 141,\n",
       "                           152, 156, 158, 169, 185, 201, 225, 242, 258, 264, 266]]),\n",
       "          values=tensor([1., 2., 3., 2., 1., 1., 1., 1., 1., 1., 3., 1., 1., 1.,\n",
       "                         1., 1., 1., 1., 1., 2., 1., 1.]),\n",
       "          size=(270,), nnz=22, layout=torch.sparse_coo),\n",
       "   'eV': tensor(-0.1362)}),\n",
       " ('What is 3+4?is',\n",
       "  {'state': tensor([268, 267, 228,  26,  18,  27,  38, 266]),\n",
       "   'N': tensor([26.]),\n",
       "   'Qa': tensor(indices=tensor([[ 14,  51,  54,  97,  99, 115, 118, 129, 131, 141, 152,\n",
       "                           156, 158, 169, 185, 201, 225, 242, 258]]),\n",
       "          values=tensor([-0.0441, -0.2883, -0.3822, -0.3428, -0.2703, -0.2123,\n",
       "                         -0.0934, -0.5888, -0.3437, -0.1589, -0.7259, -0.2098,\n",
       "                         -0.0606, -0.2972, -0.0778,  0.0027, -0.2876, -0.2890,\n",
       "                         -0.1099]),\n",
       "          size=(270,), nnz=19, layout=torch.sparse_coo),\n",
       "   'Na': tensor(indices=tensor([[ 14,  51,  54,  97,  99, 115, 118, 129, 131, 141, 152,\n",
       "                           156, 158, 169, 185, 201, 225, 242, 258]]),\n",
       "          values=tensor([4., 1., 1., 2., 1., 1., 2., 1., 1., 1., 1., 1., 1., 1.,\n",
       "                         1., 2., 1., 1., 1.]),\n",
       "          size=(270,), nnz=19, layout=torch.sparse_coo),\n",
       "   'eV': tensor(-0.2974)})]"
      ]
     },
     "execution_count": 375,
     "metadata": {},
     "output_type": "execute_result"
    }
   ],
   "source": [
    "sorted(list(faster_MCTS.cache.items()), key=lambda s: s[1]['N'], reverse=True)[:10]"
   ]
  },
  {
   "cell_type": "code",
   "execution_count": 174,
   "metadata": {},
   "outputs": [
    {
     "name": "stdout",
     "output_type": "stream",
     "text": [
      "visited\n"
     ]
    },
    {
     "data": {
      "text/plain": [
       "tensor([-0.1727])"
      ]
     },
     "execution_count": 174,
     "metadata": {},
     "output_type": "execute_result"
    }
   ],
   "source": [
    "faster_MCTS = FasterMCTS(SPGame, model)\n",
    "faster_MCTS.batchSearch(current_states, target_strings, sample=False)"
   ]
  },
  {
   "cell_type": "code",
   "execution_count": 374,
   "metadata": {
    "collapsed": true,
    "jupyter": {
     "outputs_hidden": true
    }
   },
   "outputs": [
    {
     "data": {
      "text/plain": [
       "tensor(indices=tensor([[  0,   1,   2,   3,   4,   5,   6,   7,   8,   9,  10,\n",
       "                         11,  12,  13,  14,  15,  16,  17,  18,  19,  20,  21,\n",
       "                         22,  23,  24,  25,  26,  27,  28,  29,  30,  31,  32,\n",
       "                         33,  34,  35,  36,  37,  38,  39,  40,  41,  42,  43,\n",
       "                         44,  45,  46,  47,  48,  49,  50,  51,  52,  53,  54,\n",
       "                         55,  56,  57,  58,  59,  60,  61,  62,  63,  64,  65,\n",
       "                         66,  67,  68,  69,  70,  71,  72,  73,  74,  75,  76,\n",
       "                         77,  78,  79,  80,  81,  82,  83,  84,  85,  86,  87,\n",
       "                         88,  89,  90,  91,  92,  93,  94,  95,  96,  97,  98,\n",
       "                         99, 100, 101, 102, 103, 104, 105, 106, 107, 108, 109,\n",
       "                        110, 111, 112, 113, 114, 115, 116, 117, 118, 119, 120,\n",
       "                        121, 122, 123, 124, 125, 126, 127, 128, 129, 130, 131,\n",
       "                        132, 133, 134, 135, 136, 137, 138, 139, 140, 141, 142,\n",
       "                        143, 144, 145, 146, 147, 148, 149, 150, 151, 152, 153,\n",
       "                        154, 155, 156, 157, 158, 159, 160, 161, 162, 163, 164,\n",
       "                        165, 166, 167, 168, 169, 170, 171, 172, 173, 174, 175,\n",
       "                        176, 177, 178, 179, 180, 181, 182, 183, 184, 185, 186,\n",
       "                        187, 188, 189, 190, 191, 192, 193, 194, 195, 196, 197,\n",
       "                        198, 199, 200, 201, 202, 203, 204, 205, 206, 207, 208,\n",
       "                        209, 210, 211, 212, 213, 214, 215, 216, 217, 218, 219,\n",
       "                        220, 221, 222, 223, 224, 225, 226, 227, 228, 229, 230,\n",
       "                        231, 232, 233, 234, 235, 236, 237, 238, 239, 240, 241,\n",
       "                        242, 243, 244, 245, 246, 247, 248, 249, 250, 251, 252,\n",
       "                        253, 254, 255, 256, 257, 258, 259, 260, 261, 262, 263,\n",
       "                        264, 265, 266, 267, 268, 269]]),\n",
       "       values=tensor([ 5.,  1.,  1.,  1., 19.,  1., 14.,  1.,  1.,  1.,  1.,\n",
       "                       2.,  1.,  1.,  2., 48.,  1.,  2.,  2.,  9.,  2.,  1.,\n",
       "                       6.,  1., 23.,  1.,  1.,  2., 18.,  2.,  1.,  2.,  2.,\n",
       "                       2.,  1.,  2.,  2.,  1.,  1., 12.,  3.,  1.,  5., 17.,\n",
       "                       2.,  1.,  1.,  1.,  1.,  1.,  2., 15.,  2.,  1., 20.,\n",
       "                       1.,  5.,  1.,  1.,  1.,  3.,  1.,  1.,  1.,  1.,  1.,\n",
       "                       1.,  2.,  1.,  1., 11.,  2.,  3.,  1.,  1.,  1.,  1.,\n",
       "                      15.,  3.,  1.,  8.,  1.,  7.,  2.,  1.,  1., 11.,  1.,\n",
       "                       1.,  2.,  7.,  1.,  2.,  1.,  1.,  1.,  1.,  1.,  2.,\n",
       "                       2.,  1., 10.,  4.,  1.,  1.,  1.,  6.,  1.,  1.,  1.,\n",
       "                       3.,  1.,  1.,  1.,  2.,  5.,  1., 15.,  7.,  6.,  2.,\n",
       "                       1.,  1.,  1.,  2.,  1.,  1.,  3.,  6., 38.,  3.,  2.,\n",
       "                       1.,  1.,  2.,  3.,  1., 29., 11.,  4.,  3.,  2.,  1.,\n",
       "                       2.,  4.,  3.,  1.,  1.,  1.,  1.,  1., 16.,  3.,  1.,\n",
       "                       2.,  1.,  7.,  1.,  5.,  2.,  2.,  4.,  1.,  6.,  1.,\n",
       "                       2., 11.,  2.,  4.,  8., 13.,  2.,  5.,  5.,  1., 13.,\n",
       "                       4.,  1.,  3.,  1.,  1.,  5.,  1.,  4.,  1.,  1.,  2.,\n",
       "                       1.,  1.,  1.,  1.,  3.,  1.,  3.,  1.,  1.,  1., 16.,\n",
       "                       2., 20.,  1.,  1.,  1.,  1.,  2.,  7., 14.,  3.,  1.,\n",
       "                       9., 21.,  9.,  1.,  6.,  1.,  1., 13.,  1., 33., 10.,\n",
       "                       1.,  1.,  1.,  1.,  5.,  1.,  1.,  1., 21.,  1.,  8.,\n",
       "                       5.,  1.,  1.,  1.,  1.,  1.,  1.,  1.,  1.,  2.,  3.,\n",
       "                       1.,  5.,  1.,  1.,  2.,  2.,  1.,  1.,  1.,  8.,  1.,\n",
       "                       3.,  1.,  1.,  4.,  3.,  3.,  1., 61.,  1.,  2.,  1.,\n",
       "                       1.,  1., 26., 12., 17., 21.]),\n",
       "       size=(270,), nnz=270, layout=torch.sparse_coo)"
      ]
     },
     "execution_count": 374,
     "metadata": {},
     "output_type": "execute_result"
    }
   ],
   "source": [
    "faster_MCTS.cache['What is 3+4?']['Na']"
   ]
  },
  {
   "cell_type": "code",
   "execution_count": 381,
   "metadata": {
    "collapsed": true,
    "jupyter": {
     "outputs_hidden": true
    }
   },
   "outputs": [
    {
     "data": {
      "text/plain": [
       "[<matplotlib.lines.Line2D at 0x7f5c169cce48>]"
      ]
     },
     "execution_count": 381,
     "metadata": {},
     "output_type": "execute_result"
    },
    {
     "data": {
      "image/png": "[encoded data removed]",
      "text/plain": [
       "<Figure size 432x288 with 1 Axes>"
      ]
     },
     "metadata": {
      "needs_background": "light"
     },
     "output_type": "display_data"
    }
   ],
   "source": [
    "probs = faster_MCTS.getActionProb(current_states, temp=5)\n",
    "plt.plot(range(270), probs[0])"
   ]
  },
  {
   "cell_type": "code",
   "execution_count": 355,
   "metadata": {
    "collapsed": true,
    "jupyter": {
     "outputs_hidden": true
    }
   },
   "outputs": [
    {
     "data": {
      "text/plain": [
       "[<matplotlib.lines.Line2D at 0x7f5c17070c88>]"
      ]
     },
     "execution_count": 355,
     "metadata": {},
     "output_type": "execute_result"
    },
    {
     "data": {
      "image/png": "[encoded data removed]",
      "text/plain": [
       "<Figure size 432x288 with 1 Axes>"
      ]
     },
     "metadata": {
      "needs_background": "light"
     },
     "output_type": "display_data"
    }
   ],
   "source": [
    "plt.plot(range(270), faster_MCTS.cache['What is 3+4?']['Na'].to_dense())"
   ]
  },
  {
   "cell_type": "code",
   "execution_count": 333,
   "metadata": {},
   "outputs": [
    {
     "data": {
      "text/plain": [
       "tensor([-0.4327])"
      ]
     },
     "execution_count": 333,
     "metadata": {},
     "output_type": "execute_result"
    }
   ],
   "source": [
    "faster_MCTS.batchSearch(current_states, target_strings, sample=False)"
   ]
  },
  {
   "cell_type": "code",
   "execution_count": 336,
   "metadata": {},
   "outputs": [],
   "source": [
    "for i in range(500):\n",
    "    faster_MCTS.batchSearch(current_states, target_strings, sample=False)"
   ]
  },
  {
   "cell_type": "code",
   "execution_count": 358,
   "metadata": {},
   "outputs": [
    {
     "data": {
      "text/plain": [
       "tensor([[268, 267, 228,  26,  18,  27,  38]])"
      ]
     },
     "execution_count": 358,
     "metadata": {},
     "output_type": "execute_result"
    }
   ],
   "source": [
    "current_states"
   ]
  },
  {
   "cell_type": "code",
   "execution_count": 379,
   "metadata": {},
   "outputs": [
    {
     "data": {
      "text/plain": [
       "' '"
      ]
     },
     "execution_count": 379,
     "metadata": {},
     "output_type": "execute_result"
    }
   ],
   "source": [
    "tokenizer.decode([228])"
   ]
  },
  {
   "cell_type": "code",
   "execution_count": 330,
   "metadata": {},
   "outputs": [
    {
     "name": "stdout",
     "output_type": "stream",
     "text": [
      "visited\n",
      "top nex actions tensor([[108, 201, 117, 163, 106, 156,  54, 206, 138, 150]]) for states tensor([[268, 267, 228,  26,  18,  27,  38]])\n",
      "selecting action tensor([[108]]) for states tensor([[268, 267, 228,  26,  18,  27,  38]])\n",
      "visited\n",
      "top nex actions tensor([[116,  23, 220,  14,  52,  16,  10,  73, 108, 201]]) for states tensor([[268, 267, 228,  26,  18,  27,  38, 108]])\n",
      "selecting action tensor([[156]]) for states tensor([[268, 267, 228,  26,  18,  27,  38, 108]])\n",
      "visited\n",
      "returned_values tensor([-0.4261])\n",
      "pre Na tensor(indices=tensor([], size=(1, 0)),\n",
      "       values=tensor([], size=(0,)),\n",
      "       size=(270,), nnz=0, layout=torch.sparse_coo) for a tensor([156])\n",
      "post Na tensor(indices=tensor([[156]]),\n",
      "       values=tensor([1.]),\n",
      "       size=(270,), nnz=1, layout=torch.sparse_coo) for a tensor([156])\n",
      "returned_values tensor([-0.4261])\n",
      "pre Na tensor(indices=tensor([[ 10,  14,  16,  23,  52,  73, 116, 220]]),\n",
      "       values=tensor([1., 1., 1., 1., 1., 1., 1., 1.]),\n",
      "       size=(270,), nnz=8, layout=torch.sparse_coo) for a tensor([108])\n",
      "post Na tensor(indices=tensor([[ 10,  14,  16,  23,  52,  73, 108, 116, 220]]),\n",
      "       values=tensor([1., 1., 1., 1., 1., 1., 1., 1., 1.]),\n",
      "       size=(270,), nnz=9, layout=torch.sparse_coo) for a tensor([108])\n"
     ]
    },
    {
     "data": {
      "text/plain": [
       "tensor([-0.4261])"
      ]
     },
     "execution_count": 330,
     "metadata": {},
     "output_type": "execute_result"
    }
   ],
   "source": [
    "faster_MCTS.batchSearch(current_states, target_strings, sample=False)"
   ]
  },
  {
   "cell_type": "code",
   "execution_count": 318,
   "metadata": {},
   "outputs": [
    {
     "name": "stdout",
     "output_type": "stream",
     "text": [
      "> \u001b[0;32m/nfs/phd_by_carlos/notebooks/src/FasterMCTS.py\u001b[0m(118)\u001b[0;36mbatchSearch\u001b[0;34m()\u001b[0m\n",
      "\u001b[0;32m    116 \u001b[0;31m            \u001b[0mself\u001b[0m\u001b[0;34m.\u001b[0m\u001b[0mcache\u001b[0m\u001b[0;34m[\u001b[0m\u001b[0mstring_reps\u001b[0m\u001b[0;34m[\u001b[0m\u001b[0mi\u001b[0m\u001b[0;34m]\u001b[0m\u001b[0;34m]\u001b[0m\u001b[0;34m[\u001b[0m\u001b[0;34m'Qa'\u001b[0m\u001b[0;34m]\u001b[0m \u001b[0;34m=\u001b[0m \u001b[0mdense_Qa\u001b[0m\u001b[0;34m.\u001b[0m\u001b[0mto_sparse\u001b[0m\u001b[0;34m(\u001b[0m\u001b[0;34m)\u001b[0m\u001b[0;34m\u001b[0m\u001b[0;34m\u001b[0m\u001b[0m\n",
      "\u001b[0m\u001b[0;32m    117 \u001b[0;31m\u001b[0;31m#             print('Qa', self.cache[string_reps[i]]['Qa'], 'for a', a[i])\u001b[0m\u001b[0;34m\u001b[0m\u001b[0;34m\u001b[0m\u001b[0;34m\u001b[0m\u001b[0m\n",
      "\u001b[0m\u001b[0;32m--> 118 \u001b[0;31m\u001b[0;34m\u001b[0m\u001b[0m\n",
      "\u001b[0m\u001b[0;32m    119 \u001b[0;31m            \u001b[0mprint\u001b[0m\u001b[0;34m(\u001b[0m\u001b[0;34m'pre Na'\u001b[0m\u001b[0;34m,\u001b[0m \u001b[0mself\u001b[0m\u001b[0;34m.\u001b[0m\u001b[0mcache\u001b[0m\u001b[0;34m[\u001b[0m\u001b[0mstring_reps\u001b[0m\u001b[0;34m[\u001b[0m\u001b[0mi\u001b[0m\u001b[0;34m]\u001b[0m\u001b[0;34m]\u001b[0m\u001b[0;34m[\u001b[0m\u001b[0;34m'Na'\u001b[0m\u001b[0;34m]\u001b[0m\u001b[0;34m,\u001b[0m \u001b[0;34m'for a'\u001b[0m\u001b[0;34m,\u001b[0m \u001b[0ma\u001b[0m\u001b[0;34m[\u001b[0m\u001b[0mi\u001b[0m\u001b[0;34m]\u001b[0m\u001b[0;34m)\u001b[0m\u001b[0;34m\u001b[0m\u001b[0;34m\u001b[0m\u001b[0m\n",
      "\u001b[0m\u001b[0;32m    120 \u001b[0;31m            \u001b[0mdense_Na\u001b[0m\u001b[0;34m[\u001b[0m\u001b[0ma\u001b[0m\u001b[0;34m[\u001b[0m\u001b[0mi\u001b[0m\u001b[0;34m]\u001b[0m\u001b[0;34m]\u001b[0m \u001b[0;34m+=\u001b[0m \u001b[0;36m1\u001b[0m\u001b[0;34m\u001b[0m\u001b[0;34m\u001b[0m\u001b[0m\n",
      "\u001b[0m\n"
     ]
    },
    {
     "name": "stdin",
     "output_type": "stream",
     "text": [
      "ipdb>  exit\n"
     ]
    }
   ],
   "source": [
    "%debug"
   ]
  },
  {
   "cell_type": "code",
   "execution_count": 302,
   "metadata": {},
   "outputs": [
    {
     "data": {
      "text/plain": [
       "tensor(indices=tensor([[ 10,  14,  16,  23,  52,  73, 108, 116, 220]]),\n",
       "       values=tensor([1., 1., 1., 1., 1., 1., 1., 1., 1.]),\n",
       "       size=(270,), nnz=9, layout=torch.sparse_coo)"
      ]
     },
     "execution_count": 302,
     "metadata": {},
     "output_type": "execute_result"
    }
   ],
   "source": [
    "faster_MCTS.cache['What is 3+4?']['Na']"
   ]
  },
  {
   "cell_type": "code",
   "execution_count": 304,
   "metadata": {},
   "outputs": [],
   "source": [
    "dense_Na = faster_MCTS.cache['What is 3+4?']['Na'].to_dense()\n",
    "dense_Na[73] += 1\n",
    "faster_MCTS.cache['What is 3+4?']['Na'] = dense_Na.to_sparse()"
   ]
  },
  {
   "cell_type": "code",
   "execution_count": 305,
   "metadata": {},
   "outputs": [
    {
     "data": {
      "text/plain": [
       "tensor(indices=tensor([[ 10,  14,  16,  23,  52,  73, 108, 116, 220]]),\n",
       "       values=tensor([1., 1., 1., 1., 1., 2., 1., 1., 1.]),\n",
       "       size=(270,), nnz=9, layout=torch.sparse_coo)"
      ]
     },
     "execution_count": 305,
     "metadata": {},
     "output_type": "execute_result"
    }
   ],
   "source": [
    "faster_MCTS.cache['What is 3+4?']['Na']"
   ]
  },
  {
   "cell_type": "code",
   "execution_count": null,
   "metadata": {},
   "outputs": [],
   "source": []
  },
  {
   "cell_type": "code",
   "execution_count": 12,
   "metadata": {
    "collapsed": true,
    "jupyter": {
     "outputs_hidden": true
    }
   },
   "outputs": [
    {
     "name": "stdout",
     "output_type": "stream",
     "text": [
      "visited\n",
      "visited\n",
      "visited\n",
      "\n"
     ]
    },
    {
     "data": {
      "text/plain": [
       "Filename: /nfs/phd_by_carlos/notebooks/src/FasterMCTS.py\n",
       "\n",
       "Line #    Mem usage    Increment  Occurences   Line Contents\n",
       "============================================================\n",
       "    43   7647.7 MiB   5228.6 MiB           3       def batchSearch(self, current_states, target_strings, sim_action_select_temp=1, sample=True):\n",
       "    44                                                 '''\n",
       "    45                                                 current_states: padded Long tensor: [N, seq_len]\n",
       "    46                                                 target_states: [str]: [N]\n",
       "    47                                                 '''\n",
       "    48   7647.7 MiB      0.0 MiB           3           N = current_states.shape[0]\n",
       "    49   7647.7 MiB      0.0 MiB           3           vocab_size = self.game.getActionSize()\n",
       "    50   7647.7 MiB      0.0 MiB           3           string_reps = self.game.batchStringRep(current_states) # [str*N]\n",
       "    51   7647.7 MiB      0.1 MiB           3           game_states = self.game.batchGameEnded(current_states, target_strings) # torch.tensor([N]) -1 or 0(game not finished) or 1\n",
       "    52   7647.7 MiB      0.0 MiB           3           print('visited')\n",
       "    53                                                 # policies [N, vocab_size], values [N]\n",
       "    54   7680.2 MiB    990.9 MiB           3           policies, values = self.model.predict(current_states)\n",
       "    55   7680.2 MiB      0.0 MiB           3           values = values.squeeze(1)\n",
       "    56                                                         \n",
       "    57                                                 # assume all states are new\n",
       "    58   7680.2 MiB      0.2 MiB           3           states_visited = torch.zeros_like(game_states)\n",
       "    59   7680.2 MiB      0.0 MiB        5173           for i in range(N):\n",
       "    60   7680.2 MiB      0.2 MiB        5170               if string_reps[i] in self.cache:\n",
       "    61   7549.0 MiB      0.0 MiB        3170                   states_visited[i] = 1\n",
       "    62                                                 \n",
       "    63   7680.2 MiB      0.0 MiB           3           returned_values = game_states # set finished states into returned_values\n",
       "    64                                                 \n",
       "    65                                                 # game_states that are terminal (-1 or +1) or non visited states\n",
       "    66   7680.2 MiB      0.0 MiB           3           is_leaf_node_mask = (game_states!=0) | (states_visited==0) \n",
       "    67                                                 # game_states that are still going (0) or non visited states\n",
       "    68   7680.2 MiB      0.0 MiB           3           non_terminal_leaf_states_mask = (game_states==0) & (states_visited==0) \n",
       "    69                                                 # add non terminal leaf node values to returned_values\n",
       "    70   7680.2 MiB      0.0 MiB           3           returned_values[non_terminal_leaf_states_mask] = values[non_terminal_leaf_states_mask] \n",
       "    71                                                 \n",
       "    72   7680.2 MiB      0.0 MiB           3           leaf_node_indices = torch.arange(N)[is_leaf_node_mask]\n",
       "    73   7680.2 MiB      0.0 MiB        3003           for i in leaf_node_indices:\n",
       "    74                                                     self.cache[string_reps[i]] = {\n",
       "    75   7680.2 MiB      0.2 MiB        3000                   'N': torch.tensor([0.0]),\n",
       "    76   7680.2 MiB      0.0 MiB        3000                   'Qa': torch.zeros(vocab_size).to_sparse(),\n",
       "    77   7680.2 MiB      0.3 MiB        3000                   'Na': torch.zeros(vocab_size).to_sparse()\n",
       "    78                                                     }\n",
       "    79                                                 # return since all states have values\n",
       "    80   7680.2 MiB      0.0 MiB           3           if is_leaf_node_mask.all():\n",
       "    81   7680.2 MiB      0.0 MiB           1               return returned_values\n",
       "    82                                                 \n",
       "    83   7549.5 MiB      0.0 MiB           2           is_branch_node_mask = ~is_leaf_node_mask\n",
       "    84   7549.6 MiB      0.1 MiB        2176           Ns = torch.stack([self.cache[string_reps[i]]['N'] for i in torch.arange(N)[is_branch_node_mask]])\n",
       "    85   7582.2 MiB    417.3 MiB        2176           Qas = torch.stack([self.cache[string_reps[i]]['Qa'].to_dense() for i in torch.arange(N)[is_branch_node_mask]])\n",
       "    86   7614.8 MiB    416.8 MiB        2176           Nas = torch.stack([self.cache[string_reps[i]]['Na'].to_dense() for i in torch.arange(N)[is_branch_node_mask]])\n",
       "    87                                                 \n",
       "    88                                                 # initialise all to be in exploration mode since the actions haven't been taken yet to exploit\n",
       "    89   7647.9 MiB    414.3 MiB           2           UCB = self.cpuct * policies[is_branch_node_mask] * Ns.sqrt()\n",
       "    90   7648.4 MiB     98.5 MiB           2           prev_taken_a_mask = Qas != 0 # select previouslly taken actions since it will have a valid exploitation value\n",
       "    91   7648.4 MiB     27.7 MiB           2           UCB[prev_taken_a_mask] = Qas[prev_taken_a_mask] + \\\n",
       "    92   7647.9 MiB     85.4 MiB           2           self.cpuct * Qas[prev_taken_a_mask] * Ns.repeat(1,vocab_size)[prev_taken_a_mask] / (1 + Nas[prev_taken_a_mask])\n",
       "    93                                                 \n",
       "    94                                                 # Before sampling we can sharrpen the prob of selecting the best actions\n",
       "    95   7647.7 MiB     -0.2 MiB           2           UCB = torch.softmax(UCB/sim_action_select_temp, dim=1) # then renormalise     temp~0 sharpen maximally, almost argmax     temp > 1 flatten\n",
       "    96                                                 \n",
       "    97                                                 # a [N,1]\n",
       "    98   7647.7 MiB      0.0 MiB           2           a = UCB.multinomial(1) if sample else UCB.argmax(1).unsqueeze(1) # sellect next action for each state by either sampling or argmaxing\n",
       "    99   7647.7 MiB      0.0 MiB           2           branch_next_states = self.game.batchNextStates(current_states[is_branch_node_mask], a) # get next state for the branch nodes\n",
       "   100                                                 \n",
       "   101   7647.7 MiB      0.0 MiB        2176           branch_target_strings = [target_strings[i] for i in torch.arange(N)[is_branch_node_mask]]\n",
       "   102                                                 \n",
       "   103   7647.8 MiB   -130.3 MiB           2           returned_values[is_branch_node_mask] = self.batchSearch(branch_next_states, branch_target_strings)\n",
       "   104                                                 \n",
       "   105   7647.8 MiB -961258.2 MiB        2172           for i in torch.arange(N)[is_branch_node_mask]:\n",
       "   106   7647.8 MiB -960778.5 MiB        2170               self.cache[string_reps[i]]['N'] += 1\n",
       "   107   7647.8 MiB -960777.6 MiB        2170               dense_Na = self.cache[string_reps[i]]['Na'].to_dense()\n",
       "   108   7647.8 MiB -960777.6 MiB        2170               dense_Na[a] += 1\n",
       "   109   7647.8 MiB -960777.6 MiB        2170               self.cache[string_reps[i]]['Na'] = dense_Na.to_sparse()\n",
       "   110   7647.8 MiB -960776.9 MiB        2170               dense_Qa = self.cache[string_reps[i]]['Qa'].to_dense()\n",
       "   111   7647.8 MiB -960776.9 MiB        2170               dense_Qa[a] = (dense_Na[a] * dense_Qa[a] + values[i]) / (dense_Na[a] + 1)\n",
       "   112   7647.8 MiB -960776.9 MiB        2170               self.cache[string_reps[i]]['Qa'] = dense_Qa.to_sparse()\n",
       "   113   7647.8 MiB -960776.9 MiB        2170               del dense_Qa\n",
       "   114   7647.8 MiB -960776.9 MiB        2170               del dense_Na\n",
       "   115   7264.3 MiB  -1438.4 MiB           2           del policies\n",
       "   116   7264.3 MiB   -671.4 MiB           2           return returned_values"
      ]
     },
     "metadata": {},
     "output_type": "display_data"
    }
   ],
   "source": [
    "%mprun -f faster_MCTS.batchSearch faster_MCTS.batchSearch(current_states, target_strings)"
   ]
  },
  {
   "cell_type": "code",
   "execution_count": 37,
   "metadata": {},
   "outputs": [
    {
     "ename": "RuntimeError",
     "evalue": "All input tensors must be on the same device. Received cuda:0 and cpu",
     "output_type": "error",
     "traceback": [
      "\u001b[0;31m---------------------------------------------------------------------------\u001b[0m",
      "\u001b[0;31mRuntimeError\u001b[0m                              Traceback (most recent call last)",
      "\u001b[0;32m<ipython-input-37-d6ebea50ad73>\u001b[0m in \u001b[0;36m<module>\u001b[0;34m\u001b[0m\n\u001b[0;32m----> 1\u001b[0;31m \u001b[0mSPGame\u001b[0m\u001b[0;34m.\u001b[0m\u001b[0mbatchGameEnded\u001b[0m\u001b[0;34m(\u001b[0m\u001b[0mcurrent_states\u001b[0m\u001b[0;34m,\u001b[0m \u001b[0mtarget_strings\u001b[0m\u001b[0;34m)\u001b[0m\u001b[0;34m\u001b[0m\u001b[0;34m\u001b[0m\u001b[0m\n\u001b[0m",
      "\u001b[0;32m/nfs/phd_by_carlos/notebooks/src/ScratchPad.py\u001b[0m in \u001b[0;36mbatchGameEnded\u001b[0;34m(self, states, target_strings)\u001b[0m\n\u001b[1;32m    201\u001b[0m         '''\n\u001b[1;32m    202\u001b[0m         \u001b[0mN\u001b[0m \u001b[0;34m=\u001b[0m \u001b[0mstates\u001b[0m\u001b[0;34m.\u001b[0m\u001b[0mshape\u001b[0m\u001b[0;34m[\u001b[0m\u001b[0;36m0\u001b[0m\u001b[0;34m]\u001b[0m\u001b[0;34m\u001b[0m\u001b[0;34m\u001b[0m\u001b[0m\n\u001b[0;32m--> 203\u001b[0;31m         \u001b[0mSP_mask\u001b[0m \u001b[0;34m=\u001b[0m \u001b[0mself\u001b[0m\u001b[0;34m.\u001b[0m\u001b[0mscratchPadMask\u001b[0m\u001b[0;34m(\u001b[0m\u001b[0mstates\u001b[0m\u001b[0;34m)\u001b[0m \u001b[0;31m# scratchPad tokens are True\u001b[0m\u001b[0;34m\u001b[0m\u001b[0;34m\u001b[0m\u001b[0m\n\u001b[0m\u001b[1;32m    204\u001b[0m         \u001b[0mpad_mask\u001b[0m \u001b[0;34m=\u001b[0m \u001b[0mstates\u001b[0m\u001b[0;34m==\u001b[0m\u001b[0mself\u001b[0m\u001b[0;34m.\u001b[0m\u001b[0mtokenizer\u001b[0m\u001b[0;34m.\u001b[0m\u001b[0mpad_token_id\u001b[0m \u001b[0;31m# pad tokens are True\u001b[0m\u001b[0;34m\u001b[0m\u001b[0;34m\u001b[0m\u001b[0m\n\u001b[1;32m    205\u001b[0m         \u001b[0mtrue_token_mask\u001b[0m \u001b[0;34m=\u001b[0m \u001b[0;34m~\u001b[0m\u001b[0;34m(\u001b[0m\u001b[0mSP_mask\u001b[0m \u001b[0;34m|\u001b[0m \u001b[0mpad_mask\u001b[0m\u001b[0;34m)\u001b[0m \u001b[0;31m# scratchPad and pad tokens are False\u001b[0m\u001b[0;34m\u001b[0m\u001b[0;34m\u001b[0m\u001b[0m\n",
      "\u001b[0;32m/nfs/phd_by_carlos/notebooks/src/ScratchPad.py\u001b[0m in \u001b[0;36mscratchPadMask\u001b[0;34m(self, current_states)\u001b[0m\n\u001b[1;32m    171\u001b[0m         \u001b[0mis_SP_start_tok\u001b[0m \u001b[0;34m=\u001b[0m \u001b[0mcurrent_states\u001b[0m \u001b[0;34m==\u001b[0m \u001b[0mself\u001b[0m\u001b[0;34m.\u001b[0m\u001b[0mstart_scratch_pad_id\u001b[0m\u001b[0;34m\u001b[0m\u001b[0;34m\u001b[0m\u001b[0m\n\u001b[1;32m    172\u001b[0m         \u001b[0mis_SP_end_tok\u001b[0m \u001b[0;34m=\u001b[0m \u001b[0mcurrent_states\u001b[0m \u001b[0;34m==\u001b[0m \u001b[0mself\u001b[0m\u001b[0;34m.\u001b[0m\u001b[0mend_scratch_pad_id\u001b[0m\u001b[0;34m\u001b[0m\u001b[0;34m\u001b[0m\u001b[0m\n\u001b[0;32m--> 173\u001b[0;31m         \u001b[0mis_SP_end_tok\u001b[0m \u001b[0;34m=\u001b[0m \u001b[0mtorch\u001b[0m\u001b[0;34m.\u001b[0m\u001b[0mcat\u001b[0m\u001b[0;34m(\u001b[0m\u001b[0;34m(\u001b[0m\u001b[0mtorch\u001b[0m\u001b[0;34m.\u001b[0m\u001b[0mtensor\u001b[0m\u001b[0;34m(\u001b[0m\u001b[0;34m[\u001b[0m\u001b[0;34m[\u001b[0m\u001b[0;32mFalse\u001b[0m\u001b[0;34m]\u001b[0m\u001b[0;34m]\u001b[0m\u001b[0;34m*\u001b[0m\u001b[0mN\u001b[0m\u001b[0;34m,\u001b[0m \u001b[0mdevice\u001b[0m\u001b[0;34m=\u001b[0m\u001b[0mself\u001b[0m\u001b[0;34m.\u001b[0m\u001b[0mdevice\u001b[0m\u001b[0;34m)\u001b[0m\u001b[0;34m,\u001b[0m \u001b[0mis_SP_end_tok\u001b[0m\u001b[0;34m[\u001b[0m\u001b[0;34m:\u001b[0m\u001b[0;34m,\u001b[0m\u001b[0;34m:\u001b[0m\u001b[0;34m-\u001b[0m\u001b[0;36m1\u001b[0m\u001b[0;34m]\u001b[0m\u001b[0;34m)\u001b[0m\u001b[0;34m,\u001b[0m \u001b[0mdim\u001b[0m\u001b[0;34m=\u001b[0m\u001b[0;36m1\u001b[0m\u001b[0;34m)\u001b[0m\u001b[0;34m\u001b[0m\u001b[0;34m\u001b[0m\u001b[0m\n\u001b[0m\u001b[1;32m    174\u001b[0m \u001b[0;34m\u001b[0m\u001b[0m\n\u001b[1;32m    175\u001b[0m         \u001b[0mSP_toks\u001b[0m \u001b[0;34m=\u001b[0m \u001b[0mis_SP_start_tok\u001b[0m \u001b[0;34m+\u001b[0m \u001b[0mis_SP_end_tok\u001b[0m\u001b[0;34m\u001b[0m\u001b[0;34m\u001b[0m\u001b[0m\n",
      "\u001b[0;31mRuntimeError\u001b[0m: All input tensors must be on the same device. Received cuda:0 and cpu"
     ]
    }
   ],
   "source": [
    "SPGame.batchGameEnded(current_states, target_strings)"
   ]
  },
  {
   "cell_type": "markdown",
   "metadata": {},
   "source": [
    "## Trying out tokenizers"
   ]
  },
  {
   "cell_type": "code",
   "execution_count": 24,
   "metadata": {},
   "outputs": [
    {
     "name": "stdout",
     "output_type": "stream",
     "text": [
      "[2, 268, 267, 269, 18, 27, 38, 5, 26, 18, 27, 7, 30, 4, 6, 30, 1]\n",
      "['[VALUE]', 'What', 'Ġis', 'Ġ8', '+', '4', '?', '[SP]', '3', '+', '4', '>>>', '7', '\\n', '[ESP]', '7', '[EOS]']\n"
     ]
    },
    {
     "data": {
      "text/plain": [
       "'[VALUE]What is 8+4?[SP]3+4>>>7\\n[ESP]7[EOS]'"
      ]
     },
     "execution_count": 24,
     "metadata": {},
     "output_type": "execute_result"
    }
   ],
   "source": [
    "from tokenizers import ByteLevelBPETokenizer, Tokenizer\n",
    "tokenizer = ByteLevelBPETokenizer(add_prefix_space=False)\n",
    "\n",
    "# And then train\n",
    "tokenizer.train(\n",
    "    [\"datasets/ScratchPad/samples.txt\"],\n",
    "    vocab_size=1000,\n",
    "    min_frequency=2,\n",
    "    show_progress=True,\n",
    "    special_tokens=['[PAD]','[EOS]','[VALUE]','[MASK]','\\n','[SP]', '[ESP]','>>>'],\n",
    ")\n",
    "tokenizer.enable_padding(direction='left')\n",
    "\n",
    "tokenizer.save('datasets/ScratchPad/tokenizer_simple.json')\n",
    "tokenizer = Tokenizer.from_file('datasets/ScratchPad/tokenizer_simple.json')\n",
    "\n",
    "inputs = tokenizer.encode('[VALUE]What is 8+4?[SP]3+4>>>7\\n[ESP]7[EOS]')\n",
    "print(inputs.ids)\n",
    "print(inputs.tokens)\n",
    "tokenizer.decode(inputs.ids, skip_special_tokens=False)"
   ]
  },
  {
   "cell_type": "markdown",
   "metadata": {},
   "source": [
    "## Clean Environment"
   ]
  },
  {
   "cell_type": "code",
   "execution_count": 967,
   "metadata": {},
   "outputs": [],
   "source": [
    "from src.environments import Scratch_Pad_Environment\n",
    "from src.FasterMCTS import FasterMCTS\n",
    "from src.RL_trainer import AlphaZero_Trainer"
   ]
  },
  {
   "cell_type": "code",
   "execution_count": 1310,
   "metadata": {},
   "outputs": [],
   "source": [
    "tokenizer = Tokenizer.from_file('datasets/ScratchPad/tokenizer_simple.json')\n",
    "env = Scratch_Pad_Environment(tokenizer, device='cpu')\n",
    "\n",
    "args = {'num_episodes':1000,\n",
    "        'num_sims_per_turn':2,\n",
    "        'policy_exploration_weight':0.5}\n",
    "# trainer = EpisodeUtility(SPGame, **args)\n"
   ]
  },
  {
   "cell_type": "code",
   "execution_count": 1279,
   "metadata": {},
   "outputs": [],
   "source": [
    "config = BertConfig()\n",
    "config.num_attention_heads = 1\n",
    "config.hidden_size = 10\n",
    "config.num_hidden_layers = 3\n",
    "config.intermediate_size = 32\n",
    "config.n_ctx = 512\n",
    "config.n_positions = 512\n",
    "config.temp = 1\n",
    "config.vocab_size = len(tokenizer.get_vocab())\n",
    "config.position_embedding_type = 'relative_key_query'\n",
    "model = AlphaBERT(config, mask_token_id=tokenizer.token_to_id('[MASK]'), \n",
    "                  value_token_id=tokenizer.token_to_id('[VALUE]'), \n",
    "                  pad_token_id=tokenizer.token_to_id('[PAD]'))"
   ]
  },
  {
   "cell_type": "code",
   "execution_count": 1200,
   "metadata": {},
   "outputs": [
    {
     "name": "stdout",
     "output_type": "stream",
     "text": [
      "tensor([[268, 267, 228,  26,  18,  27,  38,   5,  26,  18,  27]])\n"
     ]
    },
    {
     "data": {
      "text/plain": [
       "tensor([[268, 267, 228,  26,  18,  27,  38,   5,  26,  18,  27]])"
      ]
     },
     "execution_count": 1200,
     "metadata": {},
     "output_type": "execute_result"
    }
   ],
   "source": [
    "print(env.strings_to_state(['What is 3+4?[SP]3+4']))\n",
    "current_states = env.strings_to_state(['What is 3+4?[SP]3+4'])\n",
    "target_strings = np.array(['What is 3+4?7[EOS]'])\n",
    "current_states"
   ]
  },
  {
   "cell_type": "code",
   "execution_count": 1285,
   "metadata": {},
   "outputs": [],
   "source": [
    "_ = model.cuda()\n",
    "_ = model.eval()"
   ]
  },
  {
   "cell_type": "code",
   "execution_count": 1241,
   "metadata": {},
   "outputs": [
    {
     "name": "stdout",
     "output_type": "stream",
     "text": [
      "10\n",
      "['What is 18+1?', 'What is 13+15?', 'What is 18+0?']\n"
     ]
    },
    {
     "data": {
      "text/plain": [
       "torch.Size([3, 9])"
      ]
     },
     "execution_count": 1241,
     "metadata": {},
     "output_type": "execute_result"
    }
   ],
   "source": [
    "seed_everything(10)\n",
    "current_states, target_strings = env.random_states(3, 'simple_addition',seed=10)\n",
    "current_states, target_strings = current_states, target_strings\n",
    "print(env.to_hash(current_states))\n",
    "current_states.shape"
   ]
  },
  {
   "cell_type": "code",
   "execution_count": 1242,
   "metadata": {},
   "outputs": [],
   "source": [
    "mcts = FasterMCTS(model, env)"
   ]
  },
  {
   "cell_type": "code",
   "execution_count": 1078,
   "metadata": {},
   "outputs": [
    {
     "data": {
      "text/plain": [
       "tensor([0.4950, 0.4951, 0.4952, 0.4949, 0.4953, 0.4952, 0.4956, 0.4952, 0.4952,\n",
       "        0.4954])"
      ]
     },
     "execution_count": 1078,
     "metadata": {},
     "output_type": "execute_result"
    }
   ],
   "source": [
    "forced_trajectory = torch.tensor([[6,  30,   1]])\n",
    "mcts.search(current_states, target_strings, forced_trajectory=None)[:10]"
   ]
  },
  {
   "cell_type": "code",
   "execution_count": 1203,
   "metadata": {
    "collapsed": true,
    "jupyter": {
     "outputs_hidden": true
    }
   },
   "outputs": [
    {
     "name": "stderr",
     "output_type": "stream",
     "text": [
      "  1%|          | 5/500 [00:00<00:12, 39.71it/s]"
     ]
    },
    {
     "name": "stdout",
     "output_type": "stream",
     "text": [
      "['What is 3+4?[SP]3+4'] tensor([True])\n",
      "['What is 3+4?[SP]3+4'] tensor([False])\n",
      "['What is 3+4?[SP]3+4�'] tensor([True])\n",
      "['What is 3+4?[SP]3+4'] tensor([False])\n",
      "['What is 3+4?[SP]3+4�'] tensor([False])\n",
      "['What is 3+4?[SP]3+4��'] tensor([True])\n",
      "['What is 3+4?[SP]3+4'] tensor([False])\n",
      "['What is 3+4?[SP]3+4�'] tensor([False])\n",
      "['What is 3+4?[SP]3+4��'] tensor([False])\n",
      "['What is 3+4?[SP]3+4���'] tensor([True])\n",
      "['What is 3+4?[SP]3+4'] tensor([False])\n",
      "['What is 3+4?[SP]3+4�'] tensor([False])\n",
      "['What is 3+4?[SP]3+4��'] tensor([False])\n",
      "['What is 3+4?[SP]3+4���'] tensor([False])\n",
      "['What is 3+4?[SP]3+4����'] tensor([True])\n",
      "['What is 3+4?[SP]3+4'] tensor([False])\n",
      "['What is 3+4?[SP]3+4�'] tensor([False])\n",
      "['What is 3+4?[SP]3+4��'] tensor([False])\n",
      "['What is 3+4?[SP]3+4���'] tensor([False])\n",
      "['What is 3+4?[SP]3+4����'] tensor([False])\n",
      "['What is 3+4?[SP]3+4�����'] tensor([True])\n",
      "['What is 3+4?[SP]3+4'] tensor([False])\n",
      "['What is 3+4?[SP]3+4�'] tensor([False])\n",
      "['What is 3+4?[SP]3+4��'] tensor([False])\n",
      "['What is 3+4?[SP]3+4���'] tensor([False])\n",
      "['What is 3+4?[SP]3+4����'] tensor([False])\n",
      "['What is 3+4?[SP]3+4�����'] tensor([False])\n",
      "['What is 3+4?[SP]3+4������'] tensor([True])\n",
      "['What is 3+4?[SP]3+4'] tensor([False])\n",
      "['What is 3+4?[SP]3+4�'] tensor([False])\n",
      "['What is 3+4?[SP]3+4��'] tensor([False])\n",
      "['What is 3+4?[SP]3+4���'] tensor([False])\n"
     ]
    },
    {
     "name": "stderr",
     "output_type": "stream",
     "text": [
      "  2%|▏         | 10/500 [00:00<00:18, 25.91it/s]"
     ]
    },
    {
     "name": "stdout",
     "output_type": "stream",
     "text": [
      "['What is 3+4?[SP]3+4����'] tensor([False])\n",
      "['What is 3+4?[SP]3+4�����'] tensor([False])\n",
      "['What is 3+4?[SP]3+4������'] tensor([False])\n",
      "['What is 3+4?[SP]3+4�������'] tensor([True])\n",
      "['What is 3+4?[SP]3+4'] tensor([False])\n",
      "['What is 3+4?[SP]3+4�'] tensor([False])\n",
      "['What is 3+4?[SP]3+4��'] tensor([False])\n",
      "['What is 3+4?[SP]3+4���'] tensor([False])\n",
      "['What is 3+4?[SP]3+4����'] tensor([False])\n",
      "['What is 3+4?[SP]3+4�����'] tensor([False])\n",
      "['What is 3+4?[SP]3+4������'] tensor([False])\n",
      "['What is 3+4?[SP]3+4�������'] tensor([False])\n",
      "['What is 3+4?[SP]3+4��������'] tensor([True])\n",
      "['What is 3+4?[SP]3+4'] tensor([False])\n",
      "['What is 3+4?[SP]3+4�'] tensor([False])\n",
      "['What is 3+4?[SP]3+4��'] tensor([False])\n",
      "['What is 3+4?[SP]3+4���'] tensor([False])\n",
      "['What is 3+4?[SP]3+4����'] tensor([False])\n",
      "['What is 3+4?[SP]3+4�����'] tensor([False])\n",
      "['What is 3+4?[SP]3+4������'] tensor([False])\n",
      "['What is 3+4?[SP]3+4�������'] tensor([False])\n",
      "['What is 3+4?[SP]3+4��������'] tensor([False])\n",
      "['What is 3+4?[SP]3+4'] tensor([False])\n",
      "['What is 3+4?[SP]3+4�'] tensor([False])\n",
      "['What is 3+4?[SP]3+4��'] tensor([False])\n",
      "['What is 3+4?[SP]3+4���'] tensor([False])\n",
      "['What is 3+4?[SP]3+4����'] tensor([False])\n",
      "['What is 3+4?[SP]3+4�����'] tensor([False])\n",
      "['What is 3+4?[SP]3+4������'] tensor([False])\n",
      "['What is 3+4?[SP]3+4������\\t'] tensor([True])\n",
      "['What is 3+4?[SP]3+4'] tensor([False])\n",
      "['What is 3+4?[SP]3+4�'] tensor([False])\n"
     ]
    },
    {
     "name": "stderr",
     "output_type": "stream",
     "text": [
      "  3%|▎         | 14/500 [00:00<00:23, 20.63it/s]"
     ]
    },
    {
     "name": "stdout",
     "output_type": "stream",
     "text": [
      "['What is 3+4?[SP]3+4��'] tensor([False])\n",
      "['What is 3+4?[SP]3+4���'] tensor([False])\n",
      "['What is 3+4?[SP]3+4����'] tensor([False])\n",
      "['What is 3+4?[SP]3+4�����'] tensor([False])\n",
      "['What is 3+4?[SP]3+4������'] tensor([False])\n",
      "['What is 3+4?[SP]3+4������\\t'] tensor([False])\n",
      "['What is 3+4?[SP]3+4������\\t�'] tensor([True])\n",
      "['What is 3+4?[SP]3+4'] tensor([False])\n",
      "['What is 3+4?[SP]3+4�'] tensor([False])\n",
      "['What is 3+4?[SP]3+4��'] tensor([False])\n",
      "['What is 3+4?[SP]3+4���'] tensor([False])\n",
      "['What is 3+4?[SP]3+4����'] tensor([False])\n",
      "['What is 3+4?[SP]3+4�����'] tensor([False])\n",
      "['What is 3+4?[SP]3+4������'] tensor([False])\n",
      "['What is 3+4?[SP]3+4������\\t'] tensor([False])\n",
      "['What is 3+4?[SP]3+4������\\t�'] tensor([False])\n",
      "['What is 3+4?[SP]3+4'] tensor([False])\n",
      "['What is 3+4?[SP]3+4�'] tensor([False])\n",
      "['What is 3+4?[SP]3+4��'] tensor([False])\n",
      "['What is 3+4?[SP]3+4���'] tensor([False])\n",
      "['What is 3+4?[SP]3+4����'] tensor([False])\n",
      "['What is 3+4?[SP]3+4�����'] tensor([False])\n",
      "['What is 3+4?[SP]3+4������'] tensor([False])\n",
      "['What is 3+4?[SP]3+4�������'] tensor([False])\n",
      "['What is 3+4?[SP]3+4�������\\t'] tensor([True])\n",
      "['What is 3+4?[SP]3+4'] tensor([False])\n",
      "['What is 3+4?[SP]3+4�'] tensor([False])\n",
      "['What is 3+4?[SP]3+4��'] tensor([False])\n",
      "['What is 3+4?[SP]3+4���'] tensor([False])\n"
     ]
    },
    {
     "name": "stderr",
     "output_type": "stream",
     "text": [
      "  4%|▎         | 18/500 [00:00<00:25, 18.95it/s]"
     ]
    },
    {
     "name": "stdout",
     "output_type": "stream",
     "text": [
      "['What is 3+4?[SP]3+4����'] tensor([False])\n",
      "['What is 3+4?[SP]3+4�����'] tensor([False])\n",
      "['What is 3+4?[SP]3+4������'] tensor([False])\n",
      "['What is 3+4?[SP]3+4�������'] tensor([False])\n",
      "['What is 3+4?[SP]3+4�������\\t'] tensor([False])\n",
      "['What is 3+4?[SP]3+4'] tensor([False])\n",
      "['What is 3+4?[SP]3+4�'] tensor([False])\n",
      "['What is 3+4?[SP]3+4��'] tensor([False])\n",
      "['What is 3+4?[SP]3+4���'] tensor([False])\n",
      "['What is 3+4?[SP]3+4����'] tensor([False])\n",
      "['What is 3+4?[SP]3+4�����'] tensor([False])\n",
      "['What is 3+4?[SP]3+4�����\\t'] tensor([True])\n",
      "['What is 3+4?[SP]3+4'] tensor([False])\n",
      "['What is 3+4?[SP]3+4�'] tensor([False])\n",
      "['What is 3+4?[SP]3+4��'] tensor([False])\n",
      "['What is 3+4?[SP]3+4���'] tensor([False])\n",
      "['What is 3+4?[SP]3+4����'] tensor([False])\n",
      "['What is 3+4?[SP]3+4�����'] tensor([False])\n",
      "['What is 3+4?[SP]3+4�����\\t'] tensor([False])\n",
      "['What is 3+4?[SP]3+4�����\\t�'] tensor([True])\n",
      "['What is 3+4?[SP]3+4'] tensor([False])\n",
      "['What is 3+4?[SP]3+4�'] tensor([False])\n",
      "['What is 3+4?[SP]3+4��'] tensor([False])\n",
      "['What is 3+4?[SP]3+4���'] tensor([False])\n",
      "['What is 3+4?[SP]3+4����'] tensor([False])\n",
      "['What is 3+4?[SP]3+4�����'] tensor([False])\n",
      "['What is 3+4?[SP]3+4�����\\t'] tensor([False])\n",
      "['What is 3+4?[SP]3+4�����\\t�'] tensor([False])\n",
      "['What is 3+4?[SP]3+4�����\\t��'] tensor([True])\n",
      "['What is 3+4?[SP]3+4'] tensor([False])\n",
      "['What is 3+4?[SP]3+4�'] tensor([False])\n"
     ]
    },
    {
     "name": "stderr",
     "output_type": "stream",
     "text": [
      "  4%|▍         | 20/500 [00:00<00:26, 18.38it/s]"
     ]
    },
    {
     "name": "stdout",
     "output_type": "stream",
     "text": [
      "['What is 3+4?[SP]3+4��'] tensor([False])\n",
      "['What is 3+4?[SP]3+4���'] tensor([False])\n",
      "['What is 3+4?[SP]3+4����'] tensor([False])\n",
      "['What is 3+4?[SP]3+4�����'] tensor([False])\n",
      "['What is 3+4?[SP]3+4�����\\t'] tensor([False])\n",
      "['What is 3+4?[SP]3+4�����\\t�'] tensor([False])\n",
      "['What is 3+4?[SP]3+4�����\\t��'] tensor([False])\n",
      "['What is 3+4?[SP]3+4'] tensor([False])\n",
      "['What is 3+4?[SP]3+4�'] tensor([False])\n",
      "['What is 3+4?[SP]3+4��'] tensor([False])\n",
      "['What is 3+4?[SP]3+4���'] tensor([False])\n",
      "['What is 3+4?[SP]3+4����'] tensor([False])\n",
      "['What is 3+4?[SP]3+4�����'] tensor([False])\n",
      "['What is 3+4?[SP]3+4�����\\t'] tensor([False])\n",
      "['What is 3+4?[SP]3+4�����\\t\\t'] tensor([True])\n",
      "['What is 3+4?[SP]3+4'] tensor([False])\n",
      "['What is 3+4?[SP]3+4�'] tensor([False])\n",
      "['What is 3+4?[SP]3+4��'] tensor([False])\n",
      "['What is 3+4?[SP]3+4���'] tensor([False])\n",
      "['What is 3+4?[SP]3+4����'] tensor([False])\n",
      "['What is 3+4?[SP]3+4�����'] tensor([False])\n",
      "['What is 3+4?[SP]3+4�����\\t'] tensor([False])\n",
      "['What is 3+4?[SP]3+4�����\\t\\t'] tensor([False])\n",
      "['What is 3+4?[SP]3+4�����\\t\\t�'] tensor([True])\n",
      "['What is 3+4?[SP]3+4'] tensor([False])\n",
      "['What is 3+4?[SP]3+4�'] tensor([False])\n",
      "['What is 3+4?[SP]3+4��'] tensor([False])\n",
      "['What is 3+4?[SP]3+4���'] tensor([False])\n",
      "['What is 3+4?[SP]3+4����'] tensor([False])\n",
      "['What is 3+4?[SP]3+4�����'] tensor([False])\n",
      "['What is 3+4?[SP]3+4�����\\t'] tensor([False])\n"
     ]
    },
    {
     "name": "stderr",
     "output_type": "stream",
     "text": [
      "  5%|▌         | 25/500 [00:01<00:26, 18.09it/s]"
     ]
    },
    {
     "name": "stdout",
     "output_type": "stream",
     "text": [
      "['What is 3+4?[SP]3+4�����\\t\\t'] tensor([False])\n",
      "['What is 3+4?[SP]3+4�����\\t\\t�'] tensor([False])\n",
      "['What is 3+4?[SP]3+4'] tensor([False])\n",
      "['What is 3+4?[SP]3+4�'] tensor([False])\n",
      "['What is 3+4?[SP]3+4��'] tensor([False])\n",
      "['What is 3+4?[SP]3+4���'] tensor([False])\n",
      "['What is 3+4?[SP]3+4����'] tensor([False])\n",
      "['What is 3+4?[SP]3+4����\\t'] tensor([True])\n",
      "['What is 3+4?[SP]3+4'] tensor([False])\n",
      "['What is 3+4?[SP]3+4�'] tensor([False])\n",
      "['What is 3+4?[SP]3+4��'] tensor([False])\n",
      "['What is 3+4?[SP]3+4���'] tensor([False])\n",
      "['What is 3+4?[SP]3+4����'] tensor([False])\n",
      "['What is 3+4?[SP]3+4����\\t'] tensor([False])\n",
      "['What is 3+4?[SP]3+4����\\t�'] tensor([True])\n",
      "['What is 3+4?[SP]3+4'] tensor([False])\n",
      "['What is 3+4?[SP]3+4�'] tensor([False])\n",
      "['What is 3+4?[SP]3+4��'] tensor([False])\n",
      "['What is 3+4?[SP]3+4���'] tensor([False])\n",
      "['What is 3+4?[SP]3+4����'] tensor([False])\n",
      "['What is 3+4?[SP]3+4����\\t'] tensor([False])\n",
      "['What is 3+4?[SP]3+4����\\t�'] tensor([False])\n",
      "['What is 3+4?[SP]3+4����\\t��'] tensor([True])\n",
      "['What is 3+4?[SP]3+4'] tensor([False])\n",
      "['What is 3+4?[SP]3+4�'] tensor([False])\n",
      "['What is 3+4?[SP]3+4��'] tensor([False])\n",
      "['What is 3+4?[SP]3+4���'] tensor([False])\n"
     ]
    },
    {
     "name": "stderr",
     "output_type": "stream",
     "text": [
      "  5%|▌         | 27/500 [00:01<00:27, 17.33it/s]"
     ]
    },
    {
     "name": "stdout",
     "output_type": "stream",
     "text": [
      "['What is 3+4?[SP]3+4����'] tensor([False])\n",
      "['What is 3+4?[SP]3+4����\\t'] tensor([False])\n",
      "['What is 3+4?[SP]3+4����\\t�'] tensor([False])\n",
      "['What is 3+4?[SP]3+4����\\t��'] tensor([False])\n",
      "['What is 3+4?[SP]3+4����\\t���'] tensor([True])\n",
      "['What is 3+4?[SP]3+4'] tensor([False])\n",
      "['What is 3+4?[SP]3+4�'] tensor([False])\n",
      "['What is 3+4?[SP]3+4��'] tensor([False])\n",
      "['What is 3+4?[SP]3+4���'] tensor([False])\n",
      "['What is 3+4?[SP]3+4����'] tensor([False])\n",
      "['What is 3+4?[SP]3+4����\\t'] tensor([False])\n",
      "['What is 3+4?[SP]3+4����\\t�'] tensor([False])\n",
      "['What is 3+4?[SP]3+4����\\t��'] tensor([False])\n",
      "['What is 3+4?[SP]3+4����\\t���'] tensor([False])\n",
      "['What is 3+4?[SP]3+4'] tensor([False])\n",
      "['What is 3+4?[SP]3+4�'] tensor([False])\n",
      "['What is 3+4?[SP]3+4��'] tensor([False])\n",
      "['What is 3+4?[SP]3+4���'] tensor([False])\n",
      "['What is 3+4?[SP]3+4����'] tensor([False])\n",
      "['What is 3+4?[SP]3+4����\\t'] tensor([False])\n",
      "['What is 3+4?[SP]3+4����\\t�'] tensor([False])\n",
      "['What is 3+4?[SP]3+4����\\t�\\t'] tensor([True])\n",
      "['What is 3+4?[SP]3+4'] tensor([False])\n",
      "['What is 3+4?[SP]3+4�'] tensor([False])\n",
      "['What is 3+4?[SP]3+4��'] tensor([False])\n",
      "['What is 3+4?[SP]3+4���'] tensor([False])\n",
      "['What is 3+4?[SP]3+4����'] tensor([False])\n",
      "['What is 3+4?[SP]3+4����\\t'] tensor([False])\n",
      "['What is 3+4?[SP]3+4����\\t�'] tensor([False])\n"
     ]
    },
    {
     "name": "stderr",
     "output_type": "stream",
     "text": [
      "  6%|▌         | 31/500 [00:01<00:27, 17.24it/s]"
     ]
    },
    {
     "name": "stdout",
     "output_type": "stream",
     "text": [
      "['What is 3+4?[SP]3+4����\\t�\\t'] tensor([False])\n",
      "['What is 3+4?[SP]3+4����\\t�\\t�'] tensor([True])\n",
      "['What is 3+4?[SP]3+4'] tensor([False])\n",
      "['What is 3+4?[SP]3+4�'] tensor([False])\n",
      "['What is 3+4?[SP]3+4��'] tensor([False])\n",
      "['What is 3+4?[SP]3+4���'] tensor([False])\n",
      "['What is 3+4?[SP]3+4����'] tensor([False])\n",
      "['What is 3+4?[SP]3+4����\\t'] tensor([False])\n",
      "['What is 3+4?[SP]3+4����\\t�'] tensor([False])\n",
      "['What is 3+4?[SP]3+4����\\t�\\t'] tensor([False])\n",
      "['What is 3+4?[SP]3+4����\\t�\\t�'] tensor([False])\n",
      "['What is 3+4?[SP]3+4'] tensor([False])\n",
      "['What is 3+4?[SP]3+4�'] tensor([False])\n",
      "['What is 3+4?[SP]3+4��'] tensor([False])\n",
      "['What is 3+4?[SP]3+4���'] tensor([False])\n",
      "['What is 3+4?[SP]3+4����'] tensor([False])\n",
      "['What is 3+4?[SP]3+4����\\t'] tensor([False])\n",
      "['What is 3+4?[SP]3+4����\\t�'] tensor([False])\n",
      "['What is 3+4?[SP]3+4����\\t��'] tensor([False])\n",
      "['What is 3+4?[SP]3+4����\\t��\\t'] tensor([True])\n",
      "['What is 3+4?[SP]3+4'] tensor([False])\n",
      "['What is 3+4?[SP]3+4�'] tensor([False])\n",
      "['What is 3+4?[SP]3+4��'] tensor([False])\n",
      "['What is 3+4?[SP]3+4���'] tensor([False])\n",
      "['What is 3+4?[SP]3+4����'] tensor([False])\n",
      "['What is 3+4?[SP]3+4����\\t'] tensor([False])\n",
      "['What is 3+4?[SP]3+4����\\t�'] tensor([False])\n",
      "['What is 3+4?[SP]3+4����\\t��'] tensor([False])\n",
      "['What is 3+4?[SP]3+4����\\t��\\t'] tensor([False])\n",
      "['What is 3+4?[SP]3+4'] tensor([False])\n"
     ]
    },
    {
     "name": "stderr",
     "output_type": "stream",
     "text": [
      "  7%|▋         | 36/500 [00:01<00:24, 19.07it/s]"
     ]
    },
    {
     "name": "stdout",
     "output_type": "stream",
     "text": [
      "['What is 3+4?[SP]3+4�'] tensor([False])\n",
      "['What is 3+4?[SP]3+4��'] tensor([False])\n",
      "['What is 3+4?[SP]3+4���'] tensor([False])\n",
      "['What is 3+4?[SP]3+4���\\t'] tensor([True])\n",
      "['What is 3+4?[SP]3+4'] tensor([False])\n",
      "['What is 3+4?[SP]3+4�'] tensor([False])\n",
      "['What is 3+4?[SP]3+4��'] tensor([False])\n",
      "['What is 3+4?[SP]3+4���'] tensor([False])\n",
      "['What is 3+4?[SP]3+4���\\t'] tensor([False])\n",
      "['What is 3+4?[SP]3+4���\\t�'] tensor([True])\n",
      "['What is 3+4?[SP]3+4'] tensor([False])\n",
      "['What is 3+4?[SP]3+4�'] tensor([False])\n",
      "['What is 3+4?[SP]3+4��'] tensor([False])\n",
      "['What is 3+4?[SP]3+4���'] tensor([False])\n",
      "['What is 3+4?[SP]3+4���\\t'] tensor([False])\n",
      "['What is 3+4?[SP]3+4���\\t�'] tensor([False])\n",
      "['What is 3+4?[SP]3+4���\\t��'] tensor([True])\n",
      "['What is 3+4?[SP]3+4'] tensor([False])\n",
      "['What is 3+4?[SP]3+4�'] tensor([False])\n",
      "['What is 3+4?[SP]3+4��'] tensor([False])\n",
      "['What is 3+4?[SP]3+4���'] tensor([False])\n",
      "['What is 3+4?[SP]3+4���\\t'] tensor([False])\n",
      "['What is 3+4?[SP]3+4���\\t�'] tensor([False])\n",
      "['What is 3+4?[SP]3+4���\\t��'] tensor([False])\n",
      "['What is 3+4?[SP]3+4���\\t���'] tensor([True])\n",
      "['What is 3+4?[SP]3+4'] tensor([False])\n",
      "['What is 3+4?[SP]3+4�'] tensor([False])\n",
      "['What is 3+4?[SP]3+4��'] tensor([False])\n",
      "['What is 3+4?[SP]3+4���'] tensor([False])\n",
      "['What is 3+4?[SP]3+4���\\t'] tensor([False])\n",
      "['What is 3+4?[SP]3+4���\\t�'] tensor([False])\n"
     ]
    },
    {
     "name": "stderr",
     "output_type": "stream",
     "text": [
      "  8%|▊         | 40/500 [00:02<00:25, 17.97it/s]"
     ]
    },
    {
     "name": "stdout",
     "output_type": "stream",
     "text": [
      "['What is 3+4?[SP]3+4���\\t��'] tensor([False])\n",
      "['What is 3+4?[SP]3+4���\\t���'] tensor([False])\n",
      "['What is 3+4?[SP]3+4���\\t����'] tensor([True])\n",
      "['What is 3+4?[SP]3+4'] tensor([False])\n",
      "['What is 3+4?[SP]3+4�'] tensor([False])\n",
      "['What is 3+4?[SP]3+4��'] tensor([False])\n",
      "['What is 3+4?[SP]3+4���'] tensor([False])\n",
      "['What is 3+4?[SP]3+4���\\t'] tensor([False])\n",
      "['What is 3+4?[SP]3+4���\\t�'] tensor([False])\n",
      "['What is 3+4?[SP]3+4���\\t��'] tensor([False])\n",
      "['What is 3+4?[SP]3+4���\\t���'] tensor([False])\n",
      "['What is 3+4?[SP]3+4���\\t����'] tensor([False])\n",
      "['What is 3+4?[SP]3+4'] tensor([False])\n",
      "['What is 3+4?[SP]3+4�'] tensor([False])\n",
      "['What is 3+4?[SP]3+4��'] tensor([False])\n",
      "['What is 3+4?[SP]3+4���'] tensor([False])\n",
      "['What is 3+4?[SP]3+4���\\t'] tensor([False])\n",
      "['What is 3+4?[SP]3+4���\\t�'] tensor([False])\n",
      "['What is 3+4?[SP]3+4���\\t��'] tensor([False])\n",
      "['What is 3+4?[SP]3+4���\\t��\\t'] tensor([True])\n",
      "['What is 3+4?[SP]3+4'] tensor([False])\n",
      "['What is 3+4?[SP]3+4�'] tensor([False])\n",
      "['What is 3+4?[SP]3+4��'] tensor([False])\n",
      "['What is 3+4?[SP]3+4���'] tensor([False])\n",
      "['What is 3+4?[SP]3+4���\\t'] tensor([False])\n",
      "['What is 3+4?[SP]3+4���\\t�'] tensor([False])\n",
      "['What is 3+4?[SP]3+4���\\t��'] tensor([False])\n",
      "['What is 3+4?[SP]3+4���\\t��\\t'] tensor([False])\n",
      "['What is 3+4?[SP]3+4���\\t��\\t�'] tensor([True])\n",
      "['What is 3+4?[SP]3+4'] tensor([False])\n",
      "['What is 3+4?[SP]3+4�'] "
     ]
    },
    {
     "name": "stderr",
     "output_type": "stream",
     "text": [
      "  8%|▊         | 42/500 [00:02<00:25, 17.71it/s]"
     ]
    },
    {
     "name": "stdout",
     "output_type": "stream",
     "text": [
      "tensor([False])\n",
      "['What is 3+4?[SP]3+4��'] tensor([False])\n",
      "['What is 3+4?[SP]3+4���'] tensor([False])\n",
      "['What is 3+4?[SP]3+4���\\t'] tensor([False])\n",
      "['What is 3+4?[SP]3+4���\\t�'] tensor([False])\n",
      "['What is 3+4?[SP]3+4���\\t��'] tensor([False])\n",
      "['What is 3+4?[SP]3+4���\\t��\\t'] tensor([False])\n",
      "['What is 3+4?[SP]3+4���\\t��\\t�'] tensor([False])\n",
      "['What is 3+4?[SP]3+4'] tensor([False])\n",
      "['What is 3+4?[SP]3+4�'] tensor([False])\n",
      "['What is 3+4?[SP]3+4��'] tensor([False])\n",
      "['What is 3+4?[SP]3+4���'] tensor([False])\n",
      "['What is 3+4?[SP]3+4���\\t'] tensor([False])\n",
      "['What is 3+4?[SP]3+4���\\t�'] tensor([False])\n",
      "['What is 3+4?[SP]3+4���\\t��'] tensor([False])\n",
      "['What is 3+4?[SP]3+4���\\t���'] tensor([False])\n",
      "['What is 3+4?[SP]3+4���\\t���\\t'] tensor([True])\n",
      "['What is 3+4?[SP]3+4'] tensor([False])\n",
      "['What is 3+4?[SP]3+4�'] tensor([False])\n",
      "['What is 3+4?[SP]3+4��'] tensor([False])\n",
      "['What is 3+4?[SP]3+4���'] tensor([False])\n",
      "['What is 3+4?[SP]3+4���\\t'] tensor([False])\n",
      "['What is 3+4?[SP]3+4���\\t�'] tensor([False])\n",
      "['What is 3+4?[SP]3+4���\\t��'] tensor([False])\n",
      "['What is 3+4?[SP]3+4���\\t���'] tensor([False])\n",
      "['What is 3+4?[SP]3+4���\\t���\\t'] tensor([False])\n",
      "['What is 3+4?[SP]3+4'] tensor([False])\n",
      "['What is 3+4?[SP]3+4�'] tensor([False])\n",
      "['What is 3+4?[SP]3+4��'] tensor([False])\n",
      "['What is 3+4?[SP]3+4��\\t'] tensor([True])\n"
     ]
    },
    {
     "name": "stderr",
     "output_type": "stream",
     "text": [
      " 10%|▉         | 48/500 [00:02<00:22, 19.98it/s]"
     ]
    },
    {
     "name": "stdout",
     "output_type": "stream",
     "text": [
      "['What is 3+4?[SP]3+4'] tensor([False])\n",
      "['What is 3+4?[SP]3+4�'] tensor([False])\n",
      "['What is 3+4?[SP]3+4��'] tensor([False])\n",
      "['What is 3+4?[SP]3+4��\\t'] tensor([False])\n",
      "['What is 3+4?[SP]3+4��\\t�'] tensor([True])\n",
      "['What is 3+4?[SP]3+4'] tensor([False])\n",
      "['What is 3+4?[SP]3+4�'] tensor([False])\n",
      "['What is 3+4?[SP]3+4��'] tensor([False])\n",
      "['What is 3+4?[SP]3+4��\\t'] tensor([False])\n",
      "['What is 3+4?[SP]3+4��\\t�'] tensor([False])\n",
      "['What is 3+4?[SP]3+4��\\t��'] tensor([True])\n",
      "['What is 3+4?[SP]3+4'] tensor([False])\n",
      "['What is 3+4?[SP]3+4�'] tensor([False])\n",
      "['What is 3+4?[SP]3+4��'] tensor([False])\n",
      "['What is 3+4?[SP]3+4��\\t'] tensor([False])\n",
      "['What is 3+4?[SP]3+4��\\t�'] tensor([False])\n",
      "['What is 3+4?[SP]3+4��\\t��'] tensor([False])\n",
      "['What is 3+4?[SP]3+4��\\t���'] tensor([True])\n",
      "['What is 3+4?[SP]3+4'] tensor([False])\n",
      "['What is 3+4?[SP]3+4�'] tensor([False])\n",
      "['What is 3+4?[SP]3+4��'] tensor([False])\n",
      "['What is 3+4?[SP]3+4��\\t'] tensor([False])\n",
      "['What is 3+4?[SP]3+4��\\t�'] tensor([False])\n",
      "['What is 3+4?[SP]3+4��\\t��'] tensor([False])\n",
      "['What is 3+4?[SP]3+4��\\t���'] tensor([False])\n",
      "['What is 3+4?[SP]3+4��\\t����'] tensor([True])\n",
      "['What is 3+4?[SP]3+4'] tensor([False])\n",
      "['What is 3+4?[SP]3+4�'] tensor([False])\n",
      "['What is 3+4?[SP]3+4��'] tensor([False])\n"
     ]
    },
    {
     "name": "stderr",
     "output_type": "stream",
     "text": [
      " 10%|█         | 51/500 [00:02<00:24, 18.38it/s]"
     ]
    },
    {
     "name": "stdout",
     "output_type": "stream",
     "text": [
      "['What is 3+4?[SP]3+4��\\t'] tensor([False])\n",
      "['What is 3+4?[SP]3+4��\\t�'] tensor([False])\n",
      "['What is 3+4?[SP]3+4��\\t��'] tensor([False])\n",
      "['What is 3+4?[SP]3+4��\\t���'] tensor([False])\n",
      "['What is 3+4?[SP]3+4��\\t����'] tensor([False])\n",
      "['What is 3+4?[SP]3+4��\\t�����'] tensor([True])\n",
      "['What is 3+4?[SP]3+4'] tensor([False])\n",
      "['What is 3+4?[SP]3+4�'] tensor([False])\n",
      "['What is 3+4?[SP]3+4��'] tensor([False])\n",
      "['What is 3+4?[SP]3+4��\\t'] tensor([False])\n",
      "['What is 3+4?[SP]3+4��\\t�'] tensor([False])\n",
      "['What is 3+4?[SP]3+4��\\t��'] tensor([False])\n",
      "['What is 3+4?[SP]3+4��\\t���'] tensor([False])\n",
      "['What is 3+4?[SP]3+4��\\t����'] tensor([False])\n",
      "['What is 3+4?[SP]3+4��\\t�����'] tensor([False])\n",
      "['What is 3+4?[SP]3+4'] tensor([False])\n",
      "['What is 3+4?[SP]3+4�'] tensor([False])\n",
      "['What is 3+4?[SP]3+4��'] tensor([False])\n",
      "['What is 3+4?[SP]3+4��\\t'] tensor([False])\n",
      "['What is 3+4?[SP]3+4��\\t�'] tensor([False])\n",
      "['What is 3+4?[SP]3+4��\\t��'] tensor([False])\n",
      "['What is 3+4?[SP]3+4��\\t���'] tensor([False])\n",
      "['What is 3+4?[SP]3+4��\\t���\\t'] tensor([True])\n",
      "['What is 3+4?[SP]3+4'] tensor([False])\n",
      "['What is 3+4?[SP]3+4�'] tensor([False])\n",
      "['What is 3+4?[SP]3+4��'] tensor([False])\n",
      "['What is 3+4?[SP]3+4��\\t'] tensor([False])\n",
      "['What is 3+4?[SP]3+4��\\t�'] tensor([False])\n",
      "['What is 3+4?[SP]3+4��\\t��'] tensor([False])\n",
      "['What is 3+4?[SP]3+4��\\t���'] tensor([False])\n"
     ]
    },
    {
     "name": "stderr",
     "output_type": "stream",
     "text": [
      " 11%|█         | 55/500 [00:02<00:25, 17.57it/s]"
     ]
    },
    {
     "name": "stdout",
     "output_type": "stream",
     "text": [
      "['What is 3+4?[SP]3+4��\\t���\\t'] tensor([False])\n",
      "['What is 3+4?[SP]3+4��\\t���\\t�'] tensor([True])\n",
      "['What is 3+4?[SP]3+4'] tensor([False])\n",
      "['What is 3+4?[SP]3+4�'] tensor([False])\n",
      "['What is 3+4?[SP]3+4��'] tensor([False])\n",
      "['What is 3+4?[SP]3+4��\\t'] tensor([False])\n",
      "['What is 3+4?[SP]3+4��\\t�'] tensor([False])\n",
      "['What is 3+4?[SP]3+4��\\t��'] tensor([False])\n",
      "['What is 3+4?[SP]3+4��\\t���'] tensor([False])\n",
      "['What is 3+4?[SP]3+4��\\t���\\t'] tensor([False])\n",
      "['What is 3+4?[SP]3+4��\\t���\\t�'] tensor([False])\n",
      "['What is 3+4?[SP]3+4'] tensor([False])\n",
      "['What is 3+4?[SP]3+4�'] tensor([False])\n",
      "['What is 3+4?[SP]3+4��'] tensor([False])\n",
      "['What is 3+4?[SP]3+4��\\t'] tensor([False])\n",
      "['What is 3+4?[SP]3+4��\\t�'] tensor([False])\n",
      "['What is 3+4?[SP]3+4��\\t��'] tensor([False])\n",
      "['What is 3+4?[SP]3+4��\\t���'] tensor([False])\n",
      "['What is 3+4?[SP]3+4��\\t����'] tensor([False])\n",
      "['What is 3+4?[SP]3+4��\\t����\\t'] tensor([True])\n",
      "['What is 3+4?[SP]3+4'] tensor([False])\n",
      "['What is 3+4?[SP]3+4�'] tensor([False])\n",
      "['What is 3+4?[SP]3+4��'] tensor([False])\n",
      "['What is 3+4?[SP]3+4��\\t'] tensor([False])\n",
      "['What is 3+4?[SP]3+4��\\t�'] tensor([False])\n",
      "['What is 3+4?[SP]3+4��\\t��'] tensor([False])\n",
      "['What is 3+4?[SP]3+4��\\t���'] tensor([False])\n",
      "['What is 3+4?[SP]3+4��\\t����'] tensor([False])\n",
      "['What is 3+4?[SP]3+4��\\t����\\t'] tensor([False])\n",
      "['What is 3+4?[SP]3+4'] tensor([False])\n",
      "['What is 3+4?[SP]3+4�'] tensor([False])\n"
     ]
    },
    {
     "name": "stderr",
     "output_type": "stream",
     "text": [
      " 12%|█▏        | 59/500 [00:02<00:21, 20.45it/s]"
     ]
    },
    {
     "name": "stdout",
     "output_type": "stream",
     "text": [
      "['What is 3+4?[SP]3+4�\\t'] tensor([True])\n",
      "['What is 3+4?[SP]3+4'] tensor([False])\n",
      "['What is 3+4?[SP]3+4�'] tensor([False])\n",
      "['What is 3+4?[SP]3+4�\\t'] tensor([False])\n",
      "['What is 3+4?[SP]3+4�\\t�'] tensor([True])\n",
      "['What is 3+4?[SP]3+4'] tensor([False])\n",
      "['What is 3+4?[SP]3+4�'] tensor([False])\n",
      "['What is 3+4?[SP]3+4�\\t'] tensor([False])\n",
      "['What is 3+4?[SP]3+4�\\t�'] tensor([False])\n",
      "['What is 3+4?[SP]3+4�\\t��'] tensor([True])\n",
      "['What is 3+4?[SP]3+4'] tensor([False])\n",
      "['What is 3+4?[SP]3+4�'] tensor([False])\n",
      "['What is 3+4?[SP]3+4�\\t'] tensor([False])\n",
      "['What is 3+4?[SP]3+4�\\t�'] tensor([False])\n",
      "['What is 3+4?[SP]3+4�\\t��'] tensor([False])\n",
      "['What is 3+4?[SP]3+4�\\t���'] tensor([True])\n",
      "['What is 3+4?[SP]3+4'] tensor([False])\n",
      "['What is 3+4?[SP]3+4�'] tensor([False])\n",
      "['What is 3+4?[SP]3+4�\\t'] tensor([False])\n",
      "['What is 3+4?[SP]3+4�\\t�'] tensor([False])\n",
      "['What is 3+4?[SP]3+4�\\t��'] tensor([False])\n",
      "['What is 3+4?[SP]3+4�\\t���'] tensor([False])\n",
      "['What is 3+4?[SP]3+4�\\t����'] tensor([True])\n",
      "['What is 3+4?[SP]3+4'] tensor([False])\n",
      "['What is 3+4?[SP]3+4�'] tensor([False])\n",
      "['What is 3+4?[SP]3+4�\\t'] tensor([False])\n",
      "['What is 3+4?[SP]3+4�\\t�'] tensor([False])\n"
     ]
    },
    {
     "name": "stderr",
     "output_type": "stream",
     "text": [
      " 12%|█▏        | 62/500 [00:03<00:23, 19.01it/s]"
     ]
    },
    {
     "name": "stdout",
     "output_type": "stream",
     "text": [
      "['What is 3+4?[SP]3+4�\\t��'] tensor([False])\n",
      "['What is 3+4?[SP]3+4�\\t���'] tensor([False])\n",
      "['What is 3+4?[SP]3+4�\\t����'] tensor([False])\n",
      "['What is 3+4?[SP]3+4�\\t�����'] tensor([True])\n",
      "['What is 3+4?[SP]3+4'] tensor([False])\n",
      "['What is 3+4?[SP]3+4�'] tensor([False])\n",
      "['What is 3+4?[SP]3+4�\\t'] tensor([False])\n",
      "['What is 3+4?[SP]3+4�\\t�'] tensor([False])\n",
      "['What is 3+4?[SP]3+4�\\t��'] tensor([False])\n",
      "['What is 3+4?[SP]3+4�\\t���'] tensor([False])\n",
      "['What is 3+4?[SP]3+4�\\t����'] tensor([False])\n",
      "['What is 3+4?[SP]3+4�\\t�����'] tensor([False])\n",
      "['What is 3+4?[SP]3+4�\\t������'] tensor([True])\n",
      "['What is 3+4?[SP]3+4'] tensor([False])\n",
      "['What is 3+4?[SP]3+4�'] tensor([False])\n",
      "['What is 3+4?[SP]3+4�\\t'] tensor([False])\n",
      "['What is 3+4?[SP]3+4�\\t�'] tensor([False])\n",
      "['What is 3+4?[SP]3+4�\\t��'] tensor([False])\n",
      "['What is 3+4?[SP]3+4�\\t���'] tensor([False])\n",
      "['What is 3+4?[SP]3+4�\\t����'] tensor([False])\n",
      "['What is 3+4?[SP]3+4�\\t�����'] tensor([False])\n",
      "['What is 3+4?[SP]3+4�\\t������'] tensor([False])\n",
      "['What is 3+4?[SP]3+4'] tensor([False])\n",
      "['What is 3+4?[SP]3+4�'] tensor([False])\n",
      "['What is 3+4?[SP]3+4�\\t'] tensor([False])\n",
      "['What is 3+4?[SP]3+4�\\t�'] tensor([False])\n",
      "['What is 3+4?[SP]3+4�\\t��'] tensor([False])\n",
      "['What is 3+4?[SP]3+4�\\t���'] tensor([False])\n"
     ]
    },
    {
     "name": "stderr",
     "output_type": "stream",
     "text": [
      " 13%|█▎        | 67/500 [00:03<00:25, 17.21it/s]"
     ]
    },
    {
     "name": "stdout",
     "output_type": "stream",
     "text": [
      "['What is 3+4?[SP]3+4�\\t����'] tensor([False])\n",
      "['What is 3+4?[SP]3+4�\\t����\\t'] tensor([True])\n",
      "['What is 3+4?[SP]3+4'] tensor([False])\n",
      "['What is 3+4?[SP]3+4�'] tensor([False])\n",
      "['What is 3+4?[SP]3+4�\\t'] tensor([False])\n",
      "['What is 3+4?[SP]3+4�\\t�'] tensor([False])\n",
      "['What is 3+4?[SP]3+4�\\t��'] tensor([False])\n",
      "['What is 3+4?[SP]3+4�\\t���'] tensor([False])\n",
      "['What is 3+4?[SP]3+4�\\t����'] tensor([False])\n",
      "['What is 3+4?[SP]3+4�\\t����\\t'] tensor([False])\n",
      "['What is 3+4?[SP]3+4�\\t����\\t�'] tensor([True])\n",
      "['What is 3+4?[SP]3+4'] tensor([False])\n",
      "['What is 3+4?[SP]3+4�'] tensor([False])\n",
      "['What is 3+4?[SP]3+4�\\t'] tensor([False])\n",
      "['What is 3+4?[SP]3+4�\\t�'] tensor([False])\n",
      "['What is 3+4?[SP]3+4�\\t��'] tensor([False])\n",
      "['What is 3+4?[SP]3+4�\\t���'] tensor([False])\n",
      "['What is 3+4?[SP]3+4�\\t����'] tensor([False])\n",
      "['What is 3+4?[SP]3+4�\\t����\\t'] tensor([False])\n",
      "['What is 3+4?[SP]3+4�\\t����\\t�'] tensor([False])\n",
      "['What is 3+4?[SP]3+4'] tensor([False])\n",
      "['What is 3+4?[SP]3+4�'] tensor([False])\n",
      "['What is 3+4?[SP]3+4�\\t'] tensor([False])\n",
      "['What is 3+4?[SP]3+4�\\t�'] tensor([False])\n",
      "['What is 3+4?[SP]3+4�\\t��'] tensor([False])\n",
      "['What is 3+4?[SP]3+4�\\t���'] tensor([False])\n",
      "['What is 3+4?[SP]3+4�\\t����'] tensor([False])\n",
      "['What is 3+4?[SP]3+4�\\t�����'] tensor([False])\n",
      "['What is 3+4?[SP]3+4�\\t�����\\t'] tensor([True])\n"
     ]
    },
    {
     "name": "stderr",
     "output_type": "stream",
     "text": [
      " 14%|█▍        | 71/500 [00:03<00:21, 20.28it/s]"
     ]
    },
    {
     "name": "stdout",
     "output_type": "stream",
     "text": [
      "['What is 3+4?[SP]3+4'] tensor([False])\n",
      "['What is 3+4?[SP]3+4�'] tensor([False])\n",
      "['What is 3+4?[SP]3+4�\\t'] tensor([False])\n",
      "['What is 3+4?[SP]3+4�\\t�'] tensor([False])\n",
      "['What is 3+4?[SP]3+4�\\t��'] tensor([False])\n",
      "['What is 3+4?[SP]3+4�\\t���'] tensor([False])\n",
      "['What is 3+4?[SP]3+4�\\t����'] tensor([False])\n",
      "['What is 3+4?[SP]3+4�\\t�����'] tensor([False])\n",
      "['What is 3+4?[SP]3+4�\\t�����\\t'] tensor([False])\n",
      "['What is 3+4?[SP]3+4'] tensor([False])\n",
      "['What is 3+4?[SP]3+4\\t'] tensor([True])\n",
      "['What is 3+4?[SP]3+4'] tensor([False])\n",
      "['What is 3+4?[SP]3+4\\t'] tensor([False])\n",
      "['What is 3+4?[SP]3+4\\t�'] tensor([True])\n",
      "['What is 3+4?[SP]3+4'] tensor([False])\n",
      "['What is 3+4?[SP]3+4\\t'] tensor([False])\n",
      "['What is 3+4?[SP]3+4\\t�'] tensor([False])\n",
      "['What is 3+4?[SP]3+4\\t��'] tensor([True])\n",
      "['What is 3+4?[SP]3+4'] tensor([False])\n",
      "['What is 3+4?[SP]3+4\\t'] tensor([False])\n",
      "['What is 3+4?[SP]3+4\\t�'] tensor([False])\n",
      "['What is 3+4?[SP]3+4\\t��'] tensor([False])\n",
      "['What is 3+4?[SP]3+4\\t���'] tensor([True])\n",
      "['What is 3+4?[SP]3+4'] tensor([False])\n",
      "['What is 3+4?[SP]3+4\\t'] tensor([False])\n",
      "['What is 3+4?[SP]3+4\\t�'] tensor([False])\n",
      "['What is 3+4?[SP]3+4\\t��'] tensor([False])\n",
      "['What is 3+4?[SP]3+4\\t���'] tensor([False])\n",
      "['What is 3+4?[SP]3+4\\t����'] tensor([True])\n",
      "['What is 3+4?[SP]3+4'] tensor([False])\n",
      "['What is 3+4?[SP]3+4\\t'] tensor([False])\n",
      "['What is 3+4?[SP]3+4\\t�'] tensor([False])\n"
     ]
    },
    {
     "name": "stderr",
     "output_type": "stream",
     "text": [
      " 15%|█▌        | 77/500 [00:03<00:20, 20.17it/s]"
     ]
    },
    {
     "name": "stdout",
     "output_type": "stream",
     "text": [
      "['What is 3+4?[SP]3+4\\t��'] tensor([False])\n",
      "['What is 3+4?[SP]3+4\\t���'] tensor([False])\n",
      "['What is 3+4?[SP]3+4\\t����'] tensor([False])\n",
      "['What is 3+4?[SP]3+4\\t�����'] tensor([True])\n",
      "['What is 3+4?[SP]3+4'] tensor([False])\n",
      "['What is 3+4?[SP]3+4\\t'] tensor([False])\n",
      "['What is 3+4?[SP]3+4\\t�'] tensor([False])\n",
      "['What is 3+4?[SP]3+4\\t��'] tensor([False])\n",
      "['What is 3+4?[SP]3+4\\t���'] tensor([False])\n",
      "['What is 3+4?[SP]3+4\\t����'] tensor([False])\n",
      "['What is 3+4?[SP]3+4\\t�����'] tensor([False])\n",
      "['What is 3+4?[SP]3+4\\t������'] tensor([True])\n",
      "['What is 3+4?[SP]3+4'] tensor([False])\n",
      "['What is 3+4?[SP]3+4\\t'] tensor([False])\n",
      "['What is 3+4?[SP]3+4\\t�'] tensor([False])\n",
      "['What is 3+4?[SP]3+4\\t��'] tensor([False])\n",
      "['What is 3+4?[SP]3+4\\t���'] tensor([False])\n",
      "['What is 3+4?[SP]3+4\\t����'] tensor([False])\n",
      "['What is 3+4?[SP]3+4\\t�����'] tensor([False])\n",
      "['What is 3+4?[SP]3+4\\t������'] tensor([False])\n",
      "['What is 3+4?[SP]3+4\\t�������'] tensor([True])\n",
      "['What is 3+4?[SP]3+4'] tensor([False])\n",
      "['What is 3+4?[SP]3+4\\t'] tensor([False])\n",
      "['What is 3+4?[SP]3+4\\t�'] tensor([False])\n",
      "['What is 3+4?[SP]3+4\\t��'] tensor([False])\n",
      "['What is 3+4?[SP]3+4\\t���'] tensor([False])\n",
      "['What is 3+4?[SP]3+4\\t����'] tensor([False])\n",
      "['What is 3+4?[SP]3+4\\t�����'] tensor([False])\n",
      "['What is 3+4?[SP]3+4\\t������'] tensor([False])\n",
      "['What is 3+4?[SP]3+4\\t�������'] tensor([False])\n",
      "['What is 3+4?[SP]3+4'] tensor([False])\n"
     ]
    },
    {
     "name": "stderr",
     "output_type": "stream",
     "text": [
      " 16%|█▌        | 80/500 [00:04<00:21, 19.31it/s]"
     ]
    },
    {
     "name": "stdout",
     "output_type": "stream",
     "text": [
      "['What is 3+4?[SP]3+4\\t'] tensor([False])\n",
      "['What is 3+4?[SP]3+4\\t�'] tensor([False])\n",
      "['What is 3+4?[SP]3+4\\t��'] tensor([False])\n",
      "['What is 3+4?[SP]3+4\\t���'] tensor([False])\n",
      "['What is 3+4?[SP]3+4\\t����'] tensor([False])\n",
      "['What is 3+4?[SP]3+4\\t�����'] tensor([False])\n",
      "['What is 3+4?[SP]3+4\\t�����\\t'] tensor([True])\n",
      "['What is 3+4?[SP]3+4'] tensor([False])\n",
      "['What is 3+4?[SP]3+4\\t'] tensor([False])\n",
      "['What is 3+4?[SP]3+4\\t�'] tensor([False])\n",
      "['What is 3+4?[SP]3+4\\t��'] tensor([False])\n",
      "['What is 3+4?[SP]3+4\\t���'] tensor([False])\n",
      "['What is 3+4?[SP]3+4\\t����'] tensor([False])\n",
      "['What is 3+4?[SP]3+4\\t�����'] tensor([False])\n",
      "['What is 3+4?[SP]3+4\\t�����\\t'] tensor([False])\n",
      "['What is 3+4?[SP]3+4\\t�����\\t�'] tensor([True])\n",
      "['What is 3+4?[SP]3+4'] tensor([False])\n",
      "['What is 3+4?[SP]3+4\\t'] tensor([False])\n",
      "['What is 3+4?[SP]3+4\\t�'] tensor([False])\n",
      "['What is 3+4?[SP]3+4\\t��'] tensor([False])\n",
      "['What is 3+4?[SP]3+4\\t���'] tensor([False])\n",
      "['What is 3+4?[SP]3+4\\t����'] tensor([False])\n",
      "['What is 3+4?[SP]3+4\\t�����'] tensor([False])\n",
      "['What is 3+4?[SP]3+4\\t�����\\t'] tensor([False])\n",
      "['What is 3+4?[SP]3+4\\t�����\\t�'] tensor([False])\n",
      "['What is 3+4?[SP]3+4'] tensor([False])\n",
      "['What is 3+4?[SP]3+4\\t'] tensor([False])\n",
      "['What is 3+4?[SP]3+4\\t�'] tensor([False])\n",
      "['What is 3+4?[SP]3+4\\t��'] tensor([False])\n",
      "['What is 3+4?[SP]3+4\\t���'] tensor([False])\n",
      "['What is 3+4?[SP]3+4\\t����'] tensor([False])\n",
      "['What is 3+4?[SP]3+4\\t�����'] tensor([False])\n",
      "['What is 3+4?[SP]3+4\\t������'] tensor([False])\n"
     ]
    },
    {
     "name": "stderr",
     "output_type": "stream",
     "text": [
      " 17%|█▋        | 83/500 [00:04<00:21, 18.99it/s]"
     ]
    },
    {
     "name": "stdout",
     "output_type": "stream",
     "text": [
      "['What is 3+4?[SP]3+4\\t������\\t'] tensor([True])\n",
      "['What is 3+4?[SP]3+4'] tensor([False])\n",
      "['What is 3+4?[SP]3+4\\t'] tensor([False])\n",
      "['What is 3+4?[SP]3+4\\t�'] tensor([False])\n",
      "['What is 3+4?[SP]3+4\\t��'] tensor([False])\n",
      "['What is 3+4?[SP]3+4\\t���'] tensor([False])\n",
      "['What is 3+4?[SP]3+4\\t����'] tensor([False])\n",
      "['What is 3+4?[SP]3+4\\t�����'] tensor([False])\n",
      "['What is 3+4?[SP]3+4\\t������'] tensor([False])\n",
      "['What is 3+4?[SP]3+4\\t������\\t'] tensor([False])\n",
      "['What is 3+4?[SP]3+4'] tensor([False])\n",
      "['What is 3+4?[SP]3+4\\t'] tensor([False])\n",
      "['What is 3+4?[SP]3+4\\t�'] tensor([False])\n",
      "['What is 3+4?[SP]3+4\\t��'] tensor([False])\n",
      "['What is 3+4?[SP]3+4\\t���'] tensor([False])\n",
      "['What is 3+4?[SP]3+4\\t����'] tensor([False])\n",
      "['What is 3+4?[SP]3+4\\t����\\t'] tensor([True])\n",
      "['What is 3+4?[SP]3+4'] tensor([False])\n",
      "['What is 3+4?[SP]3+4\\t'] tensor([False])\n",
      "['What is 3+4?[SP]3+4\\t�'] tensor([False])\n",
      "['What is 3+4?[SP]3+4\\t��'] tensor([False])\n",
      "['What is 3+4?[SP]3+4\\t���'] tensor([False])\n",
      "['What is 3+4?[SP]3+4\\t����'] tensor([False])\n",
      "['What is 3+4?[SP]3+4\\t����\\t'] tensor([False])\n",
      "['What is 3+4?[SP]3+4\\t����\\t�'] tensor([True])\n",
      "['What is 3+4?[SP]3+4'] tensor([False])\n",
      "['What is 3+4?[SP]3+4\\t'] tensor([False])\n",
      "['What is 3+4?[SP]3+4\\t�'] tensor([False])\n",
      "['What is 3+4?[SP]3+4\\t��'] tensor([False])\n",
      "['What is 3+4?[SP]3+4\\t���'] tensor([False])\n",
      "['What is 3+4?[SP]3+4\\t����'] tensor([False])\n",
      "['What is 3+4?[SP]3+4\\t����\\t'] tensor([False])\n"
     ]
    },
    {
     "name": "stderr",
     "output_type": "stream",
     "text": [
      " 17%|█▋        | 87/500 [00:04<00:22, 18.59it/s]"
     ]
    },
    {
     "name": "stdout",
     "output_type": "stream",
     "text": [
      "['What is 3+4?[SP]3+4\\t����\\t�'] tensor([False])\n",
      "['What is 3+4?[SP]3+4\\t����\\t��'] tensor([True])\n",
      "['What is 3+4?[SP]3+4'] tensor([False])\n",
      "['What is 3+4?[SP]3+4\\t'] tensor([False])\n",
      "['What is 3+4?[SP]3+4\\t�'] tensor([False])\n",
      "['What is 3+4?[SP]3+4\\t��'] tensor([False])\n",
      "['What is 3+4?[SP]3+4\\t���'] tensor([False])\n",
      "['What is 3+4?[SP]3+4\\t����'] tensor([False])\n",
      "['What is 3+4?[SP]3+4\\t����\\t'] tensor([False])\n",
      "['What is 3+4?[SP]3+4\\t����\\t�'] tensor([False])\n",
      "['What is 3+4?[SP]3+4\\t����\\t��'] tensor([False])\n",
      "['What is 3+4?[SP]3+4'] tensor([False])\n",
      "['What is 3+4?[SP]3+4\\t'] tensor([False])\n",
      "['What is 3+4?[SP]3+4\\t�'] tensor([False])\n",
      "['What is 3+4?[SP]3+4\\t��'] tensor([False])\n",
      "['What is 3+4?[SP]3+4\\t���'] tensor([False])\n",
      "['What is 3+4?[SP]3+4\\t����'] tensor([False])\n",
      "['What is 3+4?[SP]3+4\\t����\\t'] tensor([False])\n",
      "['What is 3+4?[SP]3+4\\t����\\t\\t'] tensor([True])\n",
      "['What is 3+4?[SP]3+4'] tensor([False])\n",
      "['What is 3+4?[SP]3+4\\t'] tensor([False])\n",
      "['What is 3+4?[SP]3+4\\t�'] tensor([False])\n",
      "['What is 3+4?[SP]3+4\\t��'] tensor([False])\n",
      "['What is 3+4?[SP]3+4\\t���'] tensor([False])\n",
      "['What is 3+4?[SP]3+4\\t����'] tensor([False])\n",
      "['What is 3+4?[SP]3+4\\t����\\t'] tensor([False])\n",
      "['What is 3+4?[SP]3+4\\t����\\t\\t'] tensor([False])\n",
      "['What is 3+4?[SP]3+4\\t����\\t\\t�'] tensor([True])\n",
      "['What is 3+4?[SP]3+4'] tensor([False])\n",
      "['What is 3+4?[SP]3+4\\t'] tensor([False])\n",
      "['What is 3+4?[SP]3+4\\t�'] tensor([False])\n"
     ]
    },
    {
     "name": "stderr",
     "output_type": "stream",
     "text": [
      " 18%|█▊        | 92/500 [00:04<00:21, 19.40it/s]"
     ]
    },
    {
     "name": "stdout",
     "output_type": "stream",
     "text": [
      "['What is 3+4?[SP]3+4\\t��'] tensor([False])\n",
      "['What is 3+4?[SP]3+4\\t���'] tensor([False])\n",
      "['What is 3+4?[SP]3+4\\t����'] tensor([False])\n",
      "['What is 3+4?[SP]3+4\\t����\\t'] tensor([False])\n",
      "['What is 3+4?[SP]3+4\\t����\\t\\t'] tensor([False])\n",
      "['What is 3+4?[SP]3+4\\t����\\t\\t�'] tensor([False])\n",
      "['What is 3+4?[SP]3+4'] tensor([False])\n",
      "['What is 3+4?[SP]3+4\\t'] tensor([False])\n",
      "['What is 3+4?[SP]3+4\\t�'] tensor([False])\n",
      "['What is 3+4?[SP]3+4\\t��'] tensor([False])\n",
      "['What is 3+4?[SP]3+4\\t���'] tensor([False])\n",
      "['What is 3+4?[SP]3+4\\t���\\t'] tensor([True])\n",
      "['What is 3+4?[SP]3+4'] tensor([False])\n",
      "['What is 3+4?[SP]3+4\\t'] tensor([False])\n",
      "['What is 3+4?[SP]3+4\\t�'] tensor([False])\n",
      "['What is 3+4?[SP]3+4\\t��'] tensor([False])\n",
      "['What is 3+4?[SP]3+4\\t���'] tensor([False])\n",
      "['What is 3+4?[SP]3+4\\t���\\t'] tensor([False])\n",
      "['What is 3+4?[SP]3+4\\t���\\t�'] tensor([True])\n",
      "['What is 3+4?[SP]3+4'] tensor([False])\n",
      "['What is 3+4?[SP]3+4\\t'] tensor([False])\n",
      "['What is 3+4?[SP]3+4\\t�'] tensor([False])\n",
      "['What is 3+4?[SP]3+4\\t��'] tensor([False])\n",
      "['What is 3+4?[SP]3+4\\t���'] tensor([False])\n",
      "['What is 3+4?[SP]3+4\\t���\\t'] tensor([False])\n",
      "['What is 3+4?[SP]3+4\\t���\\t�'] tensor([False])\n",
      "['What is 3+4?[SP]3+4\\t���\\t��'] tensor([True])\n",
      "['What is 3+4?[SP]3+4'] tensor([False])\n",
      "['What is 3+4?[SP]3+4\\t'] tensor([False])\n",
      "['What is 3+4?[SP]3+4\\t�'] tensor([False])\n",
      "['What is 3+4?[SP]3+4\\t��'] tensor([False])\n",
      "['What is 3+4?[SP]3+4\\t���'] tensor([False])\n"
     ]
    },
    {
     "name": "stderr",
     "output_type": "stream",
     "text": [
      " 19%|█▉        | 96/500 [00:04<00:21, 18.53it/s]"
     ]
    },
    {
     "name": "stdout",
     "output_type": "stream",
     "text": [
      "['What is 3+4?[SP]3+4\\t���\\t'] tensor([False])\n",
      "['What is 3+4?[SP]3+4\\t���\\t�'] tensor([False])\n",
      "['What is 3+4?[SP]3+4\\t���\\t��'] tensor([False])\n",
      "['What is 3+4?[SP]3+4\\t���\\t���'] tensor([True])\n",
      "['What is 3+4?[SP]3+4'] tensor([False])\n",
      "['What is 3+4?[SP]3+4\\t'] tensor([False])\n",
      "['What is 3+4?[SP]3+4\\t�'] tensor([False])\n",
      "['What is 3+4?[SP]3+4\\t��'] tensor([False])\n",
      "['What is 3+4?[SP]3+4\\t���'] tensor([False])\n",
      "['What is 3+4?[SP]3+4\\t���\\t'] tensor([False])\n",
      "['What is 3+4?[SP]3+4\\t���\\t�'] tensor([False])\n",
      "['What is 3+4?[SP]3+4\\t���\\t��'] tensor([False])\n",
      "['What is 3+4?[SP]3+4\\t���\\t���'] tensor([False])\n",
      "['What is 3+4?[SP]3+4'] tensor([False])\n",
      "['What is 3+4?[SP]3+4\\t'] tensor([False])\n",
      "['What is 3+4?[SP]3+4\\t�'] tensor([False])\n",
      "['What is 3+4?[SP]3+4\\t��'] tensor([False])\n",
      "['What is 3+4?[SP]3+4\\t���'] tensor([False])\n",
      "['What is 3+4?[SP]3+4\\t���\\t'] tensor([False])\n",
      "['What is 3+4?[SP]3+4\\t���\\t�'] tensor([False])\n",
      "['What is 3+4?[SP]3+4\\t���\\t�\\t'] tensor([True])\n",
      "['What is 3+4?[SP]3+4'] tensor([False])\n",
      "['What is 3+4?[SP]3+4\\t'] tensor([False])\n",
      "['What is 3+4?[SP]3+4\\t�'] tensor([False])\n",
      "['What is 3+4?[SP]3+4\\t��'] tensor([False])\n",
      "['What is 3+4?[SP]3+4\\t���'] tensor([False])\n",
      "['What is 3+4?[SP]3+4\\t���\\t'] tensor([False])\n",
      "['What is 3+4?[SP]3+4\\t���\\t�'] tensor([False])\n",
      "['What is 3+4?[SP]3+4\\t���\\t�\\t'] tensor([False])\n",
      "['What is 3+4?[SP]3+4\\t���\\t�\\t�'] tensor([True])\n",
      "['What is 3+4?[SP]3+4'] tensor([False])\n"
     ]
    },
    {
     "name": "stderr",
     "output_type": "stream",
     "text": [
      " 20%|█▉        | 98/500 [00:05<00:21, 18.48it/s]"
     ]
    },
    {
     "name": "stdout",
     "output_type": "stream",
     "text": [
      "['What is 3+4?[SP]3+4\\t'] tensor([False])\n",
      "['What is 3+4?[SP]3+4\\t�'] tensor([False])\n",
      "['What is 3+4?[SP]3+4\\t��'] tensor([False])\n",
      "['What is 3+4?[SP]3+4\\t���'] tensor([False])\n",
      "['What is 3+4?[SP]3+4\\t���\\t'] tensor([False])\n",
      "['What is 3+4?[SP]3+4\\t���\\t�'] tensor([False])\n",
      "['What is 3+4?[SP]3+4\\t���\\t�\\t'] tensor([False])\n",
      "['What is 3+4?[SP]3+4\\t���\\t�\\t�'] tensor([False])\n",
      "['What is 3+4?[SP]3+4'] tensor([False])\n",
      "['What is 3+4?[SP]3+4�'] tensor([False])\n",
      "['What is 3+4?[SP]3+4�\\t'] tensor([False])\n",
      "['What is 3+4?[SP]3+4�\\t�'] tensor([False])\n",
      "['What is 3+4?[SP]3+4�\\t��'] tensor([False])\n",
      "['What is 3+4?[SP]3+4�\\t���'] tensor([False])\n",
      "['What is 3+4?[SP]3+4�\\t���\\t'] tensor([True])\n",
      "['What is 3+4?[SP]3+4'] tensor([False])\n",
      "['What is 3+4?[SP]3+4�'] tensor([False])\n",
      "['What is 3+4?[SP]3+4�\\t'] tensor([False])\n",
      "['What is 3+4?[SP]3+4�\\t�'] tensor([False])\n",
      "['What is 3+4?[SP]3+4�\\t��'] tensor([False])\n",
      "['What is 3+4?[SP]3+4�\\t���'] tensor([False])\n",
      "['What is 3+4?[SP]3+4�\\t���\\t'] tensor([False])\n",
      "['What is 3+4?[SP]3+4�\\t���\\t�'] tensor([True])\n",
      "['What is 3+4?[SP]3+4'] tensor([False])\n",
      "['What is 3+4?[SP]3+4�'] tensor([False])\n",
      "['What is 3+4?[SP]3+4�\\t'] tensor([False])\n",
      "['What is 3+4?[SP]3+4�\\t�'] tensor([False])\n",
      "['What is 3+4?[SP]3+4�\\t��'] tensor([False])\n",
      "['What is 3+4?[SP]3+4�\\t���'] tensor([False])\n",
      "['What is 3+4?[SP]3+4�\\t���\\t'] tensor([False])\n"
     ]
    },
    {
     "name": "stderr",
     "output_type": "stream",
     "text": [
      " 20%|██        | 102/500 [00:05<00:22, 17.70it/s]"
     ]
    },
    {
     "name": "stdout",
     "output_type": "stream",
     "text": [
      "['What is 3+4?[SP]3+4�\\t���\\t�'] tensor([False])\n",
      "['What is 3+4?[SP]3+4�\\t���\\t��'] tensor([True])\n",
      "['What is 3+4?[SP]3+4'] tensor([False])\n",
      "['What is 3+4?[SP]3+4�'] tensor([False])\n",
      "['What is 3+4?[SP]3+4�\\t'] tensor([False])\n",
      "['What is 3+4?[SP]3+4�\\t�'] tensor([False])\n",
      "['What is 3+4?[SP]3+4�\\t��'] tensor([False])\n",
      "['What is 3+4?[SP]3+4�\\t���'] tensor([False])\n",
      "['What is 3+4?[SP]3+4�\\t���\\t'] tensor([False])\n",
      "['What is 3+4?[SP]3+4�\\t���\\t�'] tensor([False])\n",
      "['What is 3+4?[SP]3+4�\\t���\\t��'] tensor([False])\n",
      "['What is 3+4?[SP]3+4'] tensor([False])\n",
      "['What is 3+4?[SP]3+4�'] tensor([False])\n",
      "['What is 3+4?[SP]3+4�\\t'] tensor([False])\n",
      "['What is 3+4?[SP]3+4�\\t�'] tensor([False])\n",
      "['What is 3+4?[SP]3+4�\\t��'] tensor([False])\n",
      "['What is 3+4?[SP]3+4�\\t���'] tensor([False])\n",
      "['What is 3+4?[SP]3+4�\\t���\\t'] tensor([False])\n",
      "['What is 3+4?[SP]3+4�\\t���\\t\\t'] tensor([True])\n",
      "['What is 3+4?[SP]3+4'] tensor([False])\n",
      "['What is 3+4?[SP]3+4�'] tensor([False])\n",
      "['What is 3+4?[SP]3+4�\\t'] tensor([False])\n",
      "['What is 3+4?[SP]3+4�\\t�'] tensor([False])\n",
      "['What is 3+4?[SP]3+4�\\t��'] tensor([False])\n",
      "['What is 3+4?[SP]3+4�\\t���'] tensor([False])\n",
      "['What is 3+4?[SP]3+4�\\t���\\t'] tensor([False])\n",
      "['What is 3+4?[SP]3+4�\\t���\\t\\t'] tensor([False])\n",
      "['What is 3+4?[SP]3+4�\\t���\\t\\t�'] tensor([True])\n",
      "['What is 3+4?[SP]3+4'] tensor([False])\n"
     ]
    },
    {
     "name": "stderr",
     "output_type": "stream",
     "text": [
      " 21%|██        | 106/500 [00:05<00:22, 17.18it/s]"
     ]
    },
    {
     "name": "stdout",
     "output_type": "stream",
     "text": [
      "['What is 3+4?[SP]3+4�'] tensor([False])\n",
      "['What is 3+4?[SP]3+4�\\t'] tensor([False])\n",
      "['What is 3+4?[SP]3+4�\\t�'] tensor([False])\n",
      "['What is 3+4?[SP]3+4�\\t��'] tensor([False])\n",
      "['What is 3+4?[SP]3+4�\\t���'] tensor([False])\n",
      "['What is 3+4?[SP]3+4�\\t���\\t'] tensor([False])\n",
      "['What is 3+4?[SP]3+4�\\t���\\t\\t'] tensor([False])\n",
      "['What is 3+4?[SP]3+4�\\t���\\t\\t�'] tensor([False])\n",
      "['What is 3+4?[SP]3+4'] tensor([False])\n",
      "['What is 3+4?[SP]3+4�'] tensor([False])\n",
      "['What is 3+4?[SP]3+4�\\t'] tensor([False])\n",
      "['What is 3+4?[SP]3+4�\\t�'] tensor([False])\n",
      "['What is 3+4?[SP]3+4�\\t��'] tensor([False])\n",
      "['What is 3+4?[SP]3+4�\\t��\\t'] tensor([True])\n",
      "['What is 3+4?[SP]3+4'] tensor([False])\n",
      "['What is 3+4?[SP]3+4�'] tensor([False])\n",
      "['What is 3+4?[SP]3+4�\\t'] tensor([False])\n",
      "['What is 3+4?[SP]3+4�\\t�'] tensor([False])\n",
      "['What is 3+4?[SP]3+4�\\t��'] tensor([False])\n",
      "['What is 3+4?[SP]3+4�\\t��\\t'] tensor([False])\n",
      "['What is 3+4?[SP]3+4�\\t��\\t�'] tensor([True])\n",
      "['What is 3+4?[SP]3+4'] tensor([False])\n",
      "['What is 3+4?[SP]3+4�'] tensor([False])\n",
      "['What is 3+4?[SP]3+4�\\t'] tensor([False])\n",
      "['What is 3+4?[SP]3+4�\\t�'] tensor([False])\n"
     ]
    },
    {
     "name": "stderr",
     "output_type": "stream",
     "text": [
      " 22%|██▏       | 108/500 [00:05<00:24, 16.30it/s]"
     ]
    },
    {
     "name": "stdout",
     "output_type": "stream",
     "text": [
      "['What is 3+4?[SP]3+4�\\t��'] tensor([False])\n",
      "['What is 3+4?[SP]3+4�\\t��\\t'] tensor([False])\n",
      "['What is 3+4?[SP]3+4�\\t��\\t�'] tensor([False])\n",
      "['What is 3+4?[SP]3+4�\\t��\\t��'] tensor([True])\n",
      "['What is 3+4?[SP]3+4'] tensor([False])\n",
      "['What is 3+4?[SP]3+4�'] tensor([False])\n",
      "['What is 3+4?[SP]3+4�\\t'] tensor([False])\n",
      "['What is 3+4?[SP]3+4�\\t�'] tensor([False])\n",
      "['What is 3+4?[SP]3+4�\\t��'] tensor([False])\n",
      "['What is 3+4?[SP]3+4�\\t��\\t'] tensor([False])\n",
      "['What is 3+4?[SP]3+4�\\t��\\t�'] tensor([False])\n",
      "['What is 3+4?[SP]3+4�\\t��\\t��'] tensor([False])\n",
      "['What is 3+4?[SP]3+4�\\t��\\t���'] tensor([True])\n",
      "['What is 3+4?[SP]3+4'] tensor([False])\n",
      "['What is 3+4?[SP]3+4�'] tensor([False])\n",
      "['What is 3+4?[SP]3+4�\\t'] tensor([False])\n",
      "['What is 3+4?[SP]3+4�\\t�'] tensor([False])\n",
      "['What is 3+4?[SP]3+4�\\t��'] tensor([False])\n",
      "['What is 3+4?[SP]3+4�\\t��\\t'] tensor([False])\n",
      "['What is 3+4?[SP]3+4�\\t��\\t�'] tensor([False])\n",
      "['What is 3+4?[SP]3+4�\\t��\\t��'] tensor([False])\n",
      "['What is 3+4?[SP]3+4�\\t��\\t���'] tensor([False])\n",
      "['What is 3+4?[SP]3+4'] tensor([False])\n",
      "['What is 3+4?[SP]3+4�'] tensor([False])\n",
      "['What is 3+4?[SP]3+4�\\t'] tensor([False])\n",
      "['What is 3+4?[SP]3+4�\\t�'] tensor([False])\n",
      "['What is 3+4?[SP]3+4�\\t��'] tensor([False])\n",
      "['What is 3+4?[SP]3+4�\\t��\\t'] tensor([False])\n"
     ]
    },
    {
     "name": "stderr",
     "output_type": "stream",
     "text": [
      " 23%|██▎       | 113/500 [00:05<00:20, 18.97it/s]"
     ]
    },
    {
     "name": "stdout",
     "output_type": "stream",
     "text": [
      "['What is 3+4?[SP]3+4�\\t��\\t�'] tensor([False])\n",
      "['What is 3+4?[SP]3+4�\\t��\\t�\\t'] tensor([True])\n",
      "['What is 3+4?[SP]3+4'] tensor([False])\n",
      "['What is 3+4?[SP]3+4�'] tensor([False])\n",
      "['What is 3+4?[SP]3+4�\\t'] tensor([False])\n",
      "['What is 3+4?[SP]3+4�\\t�'] tensor([False])\n",
      "['What is 3+4?[SP]3+4�\\t��'] tensor([False])\n",
      "['What is 3+4?[SP]3+4�\\t��\\t'] tensor([False])\n",
      "['What is 3+4?[SP]3+4�\\t��\\t�'] tensor([False])\n",
      "['What is 3+4?[SP]3+4�\\t��\\t�\\t'] tensor([False])\n",
      "['What is 3+4?[SP]3+4�\\t��\\t�\\t�'] tensor([True])\n",
      "['What is 3+4?[SP]3+4'] tensor([False])\n",
      "['What is 3+4?[SP]3+4�'] tensor([False])\n",
      "['What is 3+4?[SP]3+4�\\t'] tensor([False])\n",
      "['What is 3+4?[SP]3+4�\\t�'] tensor([False])\n",
      "['What is 3+4?[SP]3+4�\\t��'] tensor([False])\n",
      "['What is 3+4?[SP]3+4�\\t��\\t'] tensor([False])\n",
      "['What is 3+4?[SP]3+4�\\t��\\t�'] tensor([False])\n",
      "['What is 3+4?[SP]3+4�\\t��\\t�\\t'] tensor([False])\n",
      "['What is 3+4?[SP]3+4�\\t��\\t�\\t�'] tensor([False])\n",
      "['What is 3+4?[SP]3+4'] tensor([False])\n",
      "['What is 3+4?[SP]3+4�'] tensor([False])\n",
      "['What is 3+4?[SP]3+4��'] tensor([False])\n",
      "['What is 3+4?[SP]3+4��\\t'] tensor([False])\n",
      "['What is 3+4?[SP]3+4��\\t�'] tensor([False])\n",
      "['What is 3+4?[SP]3+4��\\t��'] tensor([False])\n",
      "['What is 3+4?[SP]3+4��\\t��\\t'] tensor([True])\n",
      "['What is 3+4?[SP]3+4'] tensor([False])\n",
      "['What is 3+4?[SP]3+4�'] tensor([False])\n",
      "['What is 3+4?[SP]3+4��'] tensor([False])\n",
      "['What is 3+4?[SP]3+4��\\t'] tensor([False])\n"
     ]
    },
    {
     "name": "stderr",
     "output_type": "stream",
     "text": [
      "\n"
     ]
    },
    {
     "name": "stdout",
     "output_type": "stream",
     "text": [
      "*** KeyboardInterrupt exception caught in code being profiled."
     ]
    },
    {
     "data": {
      "text/plain": [
       "Timer unit: 1e-06 s\n",
       "\n",
       "Total time: 0.115841 s\n",
       "File: /nfs/phd_by_carlos/notebooks/src/environments.py\n",
       "Function: scratchPadMask at line 69\n",
       "\n",
       "Line #      Hits         Time  Per Hit   % Time  Line Contents\n",
       "==============================================================\n",
       "    69                                               def scratchPadMask(self, current_states):\n",
       "    70      1572       2171.0      1.4      1.9          N = current_states.shape[0]\n",
       "    71      1572      14999.0      9.5     12.9          is_SP_start_tok = current_states == self.SP_id\n",
       "    72      1572       7692.0      4.9      6.6          is_SP_end_tok = current_states == self.ESP_id\n",
       "    73      1572      37580.0     23.9     32.4          is_SP_end_tok = torch.cat((torch.tensor([[False]]*N, device=self.device), is_SP_end_tok[:,:-1]), dim=1)\n",
       "    74                                                   \n",
       "    75      1572       9769.0      6.2      8.4          SP_toks = is_SP_start_tok + is_SP_end_tok\n",
       "    76      1572      42739.0     27.2     36.9          SP_mask = torch.cumsum(SP_toks.to(torch.int), dim=1) % 2 == 1\n",
       "    77      1572        891.0      0.6      0.8          return SP_mask"
      ]
     },
     "metadata": {},
     "output_type": "display_data"
    }
   ],
   "source": [
    "%lprun -f env.scratchPadMask for i in tqdm.tqdm(range(500)): mcts.search(current_states, target_strings)"
   ]
  },
  {
   "cell_type": "code",
   "execution_count": 1039,
   "metadata": {
    "collapsed": true,
    "jupyter": {
     "outputs_hidden": true
    }
   },
   "outputs": [
    {
     "data": {
      "text/plain": [
       "[('What is 3+4?[SP]3+4',\n",
       "  {'state': tensor([  0,   0,   0,   0,   0,   0,   0, 268, 267, 228,  26,  18,  27,  38,\n",
       "             5,  26,  18,  27]),\n",
       "   'N': tensor([3.]),\n",
       "   'Qa': tensor([0.0000, 0.0000, 0.0000, 0.0000, 0.0000, 0.0000, 0.0000, 0.0000, 0.0000,\n",
       "           0.0000, 0.0000, 0.0000, 0.0000, 0.0000, 0.0000, 0.0000, 0.0000, 0.0000,\n",
       "           0.0000, 0.0000, 0.0000, 0.0000, 0.0000, 0.0000, 0.0000, 0.0000, 0.0000,\n",
       "           0.0000, 0.0000, 0.0000, 0.0000, 0.0000, 0.0000, 0.0000, 0.0000, 0.0000,\n",
       "           0.0000, 0.0000, 0.0000, 0.0000, 0.0000, 0.0000, 0.0000, 0.0000, 0.0000,\n",
       "           0.0000, 0.0000, 0.0000, 0.0000, 0.0000, 0.0000, 0.0000, 0.0000, 0.0000,\n",
       "           0.0000, 0.0000, 0.0000, 0.0000, 0.0000, 0.0000, 0.0000, 0.0000, 0.0000,\n",
       "           0.0000, 0.0000, 0.0000, 0.0000, 0.0000, 0.0000, 0.0000, 0.0000, 0.0000,\n",
       "           0.0000, 0.0000, 0.0000, 0.0000, 0.0000, 0.0000, 0.0000, 0.0000, 0.0000,\n",
       "           0.0000, 0.0000, 0.0000, 0.0000, 0.0000, 0.0000, 0.0000, 0.0000, 0.0000,\n",
       "           0.0000, 0.0000, 0.0000, 0.0000, 0.0000, 0.0000, 0.0000, 0.0000, 0.0000,\n",
       "           0.0000, 0.0000, 0.0000, 0.0000, 0.0000, 0.0000, 0.0000, 0.0000, 0.0000,\n",
       "           0.0000, 0.0000, 0.0000, 0.0000, 0.0000, 0.0000, 0.0000, 0.0000, 0.0000,\n",
       "           0.0000, 0.0000, 0.0000, 0.0000, 0.0000, 0.0000, 0.0000, 0.0000, 0.0000,\n",
       "           0.0000, 0.0000, 0.0000, 0.0000, 0.0000, 0.0000, 0.0000, 0.0000, 0.0000,\n",
       "           0.0000, 0.0000, 0.0000, 0.0000, 0.0000, 0.0000, 0.0000, 0.0000, 0.0000,\n",
       "           0.0000, 0.0000, 0.0000, 0.0000, 0.0000, 0.0000, 0.0000, 0.0000, 0.0000,\n",
       "           0.0000, 0.0000, 0.0000, 0.0000, 0.0000, 0.0000, 0.0000, 0.0000, 0.0000,\n",
       "           0.0000, 0.0000, 0.0000, 0.0000, 0.0000, 0.0000, 0.0000, 0.0000, 0.0000,\n",
       "           0.0000, 0.0000, 0.0000, 0.0000, 0.0000, 0.0000, 0.0000, 0.0000, 0.0000,\n",
       "           0.0000, 0.0000, 0.0000, 0.0000, 0.0000, 0.0000, 0.0000, 0.0000, 0.0000,\n",
       "           0.0000, 0.0000, 0.0000, 0.0000, 0.0000, 0.0000, 0.0000, 0.0000, 0.0000,\n",
       "           0.0000, 0.0000, 0.0000, 0.0000, 0.0000, 0.0000, 0.0000, 0.0000, 0.0000,\n",
       "           0.0000, 0.0000, 0.0000, 0.0000, 0.0000, 0.0000, 0.0000, 0.0000, 0.0000,\n",
       "           0.0000, 0.0000, 0.0000, 0.0000, 0.0000, 0.0000, 0.0000, 0.0000, 0.0000,\n",
       "           0.0000, 0.0000, 0.0000, 0.0000, 0.0000, 0.0000, 0.0000, 0.0000, 0.0000,\n",
       "           0.0000, 0.0000, 0.0000, 0.0000, 0.0000, 0.0000, 0.0000, 0.0000, 0.0000,\n",
       "           0.0000, 0.0000, 0.0000, 0.0000, 0.0000, 0.0000, 0.0000, 0.0000, 0.0000,\n",
       "           0.0000, 0.4950, 0.0000, 0.0000, 0.0000, 0.0000, 0.0000, 0.0000, 0.0000,\n",
       "           0.0000, 0.0000, 0.0000, 0.0000, 0.0000, 0.0000, 0.0000, 0.0000, 0.0000]),\n",
       "   'Na': tensor([0., 0., 0., 0., 0., 0., 0., 0., 0., 0., 0., 0., 0., 0., 0., 0., 0., 0.,\n",
       "           0., 0., 0., 0., 0., 0., 0., 0., 0., 0., 0., 0., 0., 0., 0., 0., 0., 0.,\n",
       "           0., 0., 0., 0., 0., 0., 0., 0., 0., 0., 0., 0., 0., 0., 0., 0., 0., 0.,\n",
       "           0., 0., 0., 0., 0., 0., 0., 0., 0., 0., 0., 0., 0., 0., 0., 0., 0., 0.,\n",
       "           0., 0., 0., 0., 0., 0., 0., 0., 0., 0., 0., 0., 0., 0., 0., 0., 0., 0.,\n",
       "           0., 0., 0., 0., 0., 0., 0., 0., 0., 0., 0., 0., 0., 0., 0., 0., 0., 0.,\n",
       "           0., 0., 0., 0., 0., 0., 0., 0., 0., 0., 0., 0., 0., 0., 0., 0., 0., 0.,\n",
       "           0., 0., 0., 0., 0., 0., 0., 0., 0., 0., 0., 0., 0., 0., 0., 0., 0., 0.,\n",
       "           0., 0., 0., 0., 0., 0., 0., 0., 0., 0., 0., 0., 0., 0., 0., 0., 0., 0.,\n",
       "           0., 0., 0., 0., 0., 0., 0., 0., 0., 0., 0., 0., 0., 0., 0., 0., 0., 0.,\n",
       "           0., 0., 0., 0., 0., 0., 0., 0., 0., 0., 0., 0., 0., 0., 0., 0., 0., 0.,\n",
       "           0., 0., 0., 0., 0., 0., 0., 0., 0., 0., 0., 0., 0., 0., 0., 0., 0., 0.,\n",
       "           0., 0., 0., 0., 0., 0., 0., 0., 0., 0., 0., 0., 0., 0., 0., 0., 0., 0.,\n",
       "           0., 0., 0., 0., 0., 0., 0., 0., 0., 0., 0., 0., 0., 0., 0., 0., 0., 0.,\n",
       "           0., 2., 0., 0., 0., 0., 0., 0., 0., 0., 0., 0., 0., 0., 0., 0., 0., 0.]),\n",
       "   'pred_V': tensor(0.4950),\n",
       "   'avg_V': tensor([0.3300])}),\n",
       " ('What is 3+4?[SP]3+44444444',\n",
       "  {'state': tensor([268, 267, 228,  26,  18,  27,  38,   5,  26,  18,  27,  27,  27,  27,\n",
       "            27,  27,  27,  27]),\n",
       "   'N': tensor([3.]),\n",
       "   'Qa': tensor([ 0.0000,  0.0000,  0.0000,  0.0000,  0.0000,  0.0000,  0.0000,  0.0000,\n",
       "            0.0000,  0.0000,  0.0000,  0.0000,  0.0000,  0.0000,  0.0000,  0.0000,\n",
       "            0.0000,  0.0000,  0.0000,  0.0000,  0.0000,  0.0000,  0.0000,  0.0000,\n",
       "            0.0000,  0.0000,  0.0000,  0.0000,  0.0000,  0.0000,  0.0000,  0.0000,\n",
       "            0.0000,  0.0000,  0.0000,  0.0000,  0.0000,  0.0000,  0.0000,  0.0000,\n",
       "            0.0000,  0.0000,  0.0000,  0.0000,  0.0000,  0.0000,  0.0000,  0.0000,\n",
       "            0.0000,  0.0000,  0.0000,  0.0000,  0.0000,  0.0000,  0.0000,  0.0000,\n",
       "            0.0000,  0.0000,  0.0000,  0.0000,  0.0000,  0.0000,  0.0000,  0.0000,\n",
       "            0.0000,  0.0000,  0.0000,  0.0000,  0.0000,  0.0000,  0.0000,  0.0000,\n",
       "            0.0000,  0.0000,  0.0000,  0.0000,  0.0000,  0.0000,  0.0000,  0.0000,\n",
       "            0.0000,  0.0000,  0.0000,  0.0000,  0.0000,  0.0000,  0.0000,  0.0000,\n",
       "            0.0000,  0.0000,  0.0000,  0.0000,  0.0000,  0.0000,  0.0000,  0.0000,\n",
       "            0.0000,  0.0000,  0.0000,  0.0000,  0.0000,  0.0000,  0.0000,  0.0000,\n",
       "            0.0000,  0.0000,  0.0000,  0.0000,  0.0000,  0.0000,  0.0000,  0.0000,\n",
       "            0.0000,  0.0000,  0.0000,  0.0000,  0.0000,  0.0000,  0.0000,  0.0000,\n",
       "            0.0000,  0.0000,  0.0000,  0.0000,  0.0000,  0.0000,  0.0000,  0.0000,\n",
       "            0.0000,  0.0000,  0.0000,  0.0000,  0.0000,  0.0000,  0.0000,  0.0000,\n",
       "            0.0000,  0.0000,  0.0000,  0.0000,  0.0000,  0.0000,  0.0000,  0.0000,\n",
       "            0.0000,  0.0000,  0.0000,  0.0000,  0.0000,  0.0000,  0.0000,  0.0000,\n",
       "            0.0000,  0.0000,  0.0000,  0.0000,  0.0000,  0.0000,  0.0000,  0.0000,\n",
       "            0.0000,  0.0000,  0.0000,  0.0000,  0.0000,  0.0000,  0.0000,  0.0000,\n",
       "            0.0000,  0.0000,  0.0000,  0.0000,  0.0000,  0.0000,  0.0000,  0.0000,\n",
       "            0.0000,  0.0000,  0.0000,  0.0000,  0.0000,  0.0000,  0.0000,  0.0000,\n",
       "            0.0000,  0.0000,  0.0000,  0.0000,  0.0000,  0.0000,  0.0000,  0.0000,\n",
       "            0.0000,  0.0000,  0.0000,  0.0000,  0.0000,  0.0000,  0.0000,  0.0000,\n",
       "            0.0000,  0.0000,  0.0000,  0.0000,  0.0000,  0.0000,  0.0000,  0.0000,\n",
       "            0.0000,  0.0000,  0.0000,  0.0000,  0.0000,  0.0000,  0.0000,  0.0000,\n",
       "            0.0000,  0.0000,  0.0000,  0.0000,  0.0000,  0.0000,  0.0000,  0.0000,\n",
       "            0.0000,  0.0000,  0.0000,  0.0000,  0.0000,  0.0000,  0.0000,  0.0000,\n",
       "            0.0000,  0.0000,  0.0000,  0.0000,  0.0000,  0.0000,  0.0000,  0.0000,\n",
       "            0.0000,  0.0000,  0.0000,  0.0000,  0.0000,  0.0000,  0.0000,  0.0000,\n",
       "            0.0000,  0.0000,  0.0000,  0.0000,  0.0000, -0.2528,  0.0000,  0.0000,\n",
       "            0.0000,  0.0000,  0.0000,  0.0000,  0.0000,  0.0000,  0.0000,  0.0000,\n",
       "            0.0000,  0.0000,  0.0000,  0.0000,  0.0000,  0.0000]),\n",
       "   'Na': tensor([0., 0., 0., 0., 0., 0., 0., 0., 0., 0., 0., 0., 0., 0., 0., 0., 0., 0.,\n",
       "           0., 0., 0., 0., 0., 0., 0., 0., 0., 0., 0., 0., 0., 0., 0., 0., 0., 0.,\n",
       "           0., 0., 0., 0., 0., 0., 0., 0., 0., 0., 0., 0., 0., 0., 0., 0., 0., 0.,\n",
       "           0., 0., 0., 0., 0., 0., 0., 0., 0., 0., 0., 0., 0., 0., 0., 0., 0., 0.,\n",
       "           0., 0., 0., 0., 0., 0., 0., 0., 0., 0., 0., 0., 0., 0., 0., 0., 0., 0.,\n",
       "           0., 0., 0., 0., 0., 0., 0., 0., 0., 0., 0., 0., 0., 0., 0., 0., 0., 0.,\n",
       "           0., 0., 0., 0., 0., 0., 0., 0., 0., 0., 0., 0., 0., 0., 0., 0., 0., 0.,\n",
       "           0., 0., 0., 0., 0., 0., 0., 0., 0., 0., 0., 0., 0., 0., 0., 0., 0., 0.,\n",
       "           0., 0., 0., 0., 0., 0., 0., 0., 0., 0., 0., 0., 0., 0., 0., 0., 0., 0.,\n",
       "           0., 0., 0., 0., 0., 0., 0., 0., 0., 0., 0., 0., 0., 0., 0., 0., 0., 0.,\n",
       "           0., 0., 0., 0., 0., 0., 0., 0., 0., 0., 0., 0., 0., 0., 0., 0., 0., 0.,\n",
       "           0., 0., 0., 0., 0., 0., 0., 0., 0., 0., 0., 0., 0., 0., 0., 0., 0., 0.,\n",
       "           0., 0., 0., 0., 0., 0., 0., 0., 0., 0., 0., 0., 0., 0., 0., 0., 0., 0.,\n",
       "           0., 0., 0., 0., 0., 0., 0., 0., 0., 0., 0., 0., 0., 0., 0., 0., 0., 0.,\n",
       "           0., 2., 0., 0., 0., 0., 0., 0., 0., 0., 0., 0., 0., 0., 0., 0., 0., 0.]),\n",
       "   'pred_V': tensor(0.4943),\n",
       "   'avg_V': tensor([-0.1685])}),\n",
       " ('What is 3+4?[SP]3+4�',\n",
       "  {'state': tensor([  0,   0,   0,   0,   0,   0,   0, 268, 267, 228,  26,  18,  27,  38,\n",
       "             5,  26,  18,  27, 253]),\n",
       "   'N': tensor([2.]),\n",
       "   'Qa': tensor([0.0000, 0.0000, 0.0000, 0.0000, 0.0000, 0.0000, 0.0000, 0.0000, 0.0000,\n",
       "           0.0000, 0.0000, 0.0000, 0.0000, 0.0000, 0.0000, 0.0000, 0.0000, 0.0000,\n",
       "           0.0000, 0.0000, 0.0000, 0.0000, 0.0000, 0.0000, 0.0000, 0.0000, 0.0000,\n",
       "           0.0000, 0.0000, 0.0000, 0.0000, 0.0000, 0.0000, 0.0000, 0.0000, 0.0000,\n",
       "           0.0000, 0.0000, 0.0000, 0.0000, 0.0000, 0.0000, 0.0000, 0.0000, 0.0000,\n",
       "           0.0000, 0.0000, 0.0000, 0.0000, 0.0000, 0.0000, 0.0000, 0.0000, 0.0000,\n",
       "           0.0000, 0.0000, 0.0000, 0.0000, 0.0000, 0.0000, 0.0000, 0.0000, 0.0000,\n",
       "           0.0000, 0.0000, 0.0000, 0.0000, 0.0000, 0.0000, 0.0000, 0.0000, 0.0000,\n",
       "           0.0000, 0.0000, 0.0000, 0.0000, 0.0000, 0.0000, 0.0000, 0.0000, 0.0000,\n",
       "           0.0000, 0.0000, 0.0000, 0.0000, 0.0000, 0.0000, 0.0000, 0.0000, 0.0000,\n",
       "           0.0000, 0.0000, 0.0000, 0.0000, 0.0000, 0.0000, 0.0000, 0.0000, 0.0000,\n",
       "           0.0000, 0.0000, 0.0000, 0.0000, 0.0000, 0.0000, 0.0000, 0.0000, 0.0000,\n",
       "           0.0000, 0.0000, 0.0000, 0.0000, 0.0000, 0.0000, 0.0000, 0.0000, 0.0000,\n",
       "           0.0000, 0.0000, 0.0000, 0.0000, 0.0000, 0.0000, 0.0000, 0.0000, 0.0000,\n",
       "           0.0000, 0.0000, 0.0000, 0.0000, 0.0000, 0.0000, 0.0000, 0.0000, 0.0000,\n",
       "           0.0000, 0.0000, 0.0000, 0.0000, 0.0000, 0.0000, 0.0000, 0.0000, 0.0000,\n",
       "           0.0000, 0.0000, 0.0000, 0.0000, 0.0000, 0.0000, 0.0000, 0.0000, 0.0000,\n",
       "           0.0000, 0.0000, 0.0000, 0.0000, 0.0000, 0.0000, 0.0000, 0.0000, 0.0000,\n",
       "           0.0000, 0.0000, 0.0000, 0.0000, 0.0000, 0.0000, 0.0000, 0.0000, 0.0000,\n",
       "           0.0000, 0.0000, 0.0000, 0.0000, 0.0000, 0.0000, 0.0000, 0.0000, 0.0000,\n",
       "           0.0000, 0.0000, 0.0000, 0.0000, 0.0000, 0.0000, 0.0000, 0.0000, 0.0000,\n",
       "           0.0000, 0.0000, 0.0000, 0.0000, 0.0000, 0.0000, 0.0000, 0.0000, 0.0000,\n",
       "           0.0000, 0.0000, 0.0000, 0.0000, 0.0000, 0.0000, 0.0000, 0.0000, 0.0000,\n",
       "           0.0000, 0.0000, 0.0000, 0.0000, 0.0000, 0.0000, 0.0000, 0.0000, 0.0000,\n",
       "           0.0000, 0.0000, 0.0000, 0.0000, 0.0000, 0.0000, 0.0000, 0.0000, 0.0000,\n",
       "           0.0000, 0.0000, 0.0000, 0.0000, 0.0000, 0.0000, 0.0000, 0.0000, 0.0000,\n",
       "           0.0000, 0.0000, 0.0000, 0.0000, 0.0000, 0.0000, 0.0000, 0.0000, 0.0000,\n",
       "           0.0000, 0.0000, 0.0000, 0.0000, 0.0000, 0.0000, 0.0000, 0.0000, 0.0000,\n",
       "           0.0000, 0.4950, 0.0000, 0.0000, 0.0000, 0.0000, 0.0000, 0.0000, 0.0000,\n",
       "           0.0000, 0.0000, 0.0000, 0.0000, 0.0000, 0.0000, 0.0000, 0.0000, 0.0000]),\n",
       "   'Na': tensor([0., 0., 0., 0., 0., 0., 0., 0., 0., 0., 0., 0., 0., 0., 0., 0., 0., 0.,\n",
       "           0., 0., 0., 0., 0., 0., 0., 0., 0., 0., 0., 0., 0., 0., 0., 0., 0., 0.,\n",
       "           0., 0., 0., 0., 0., 0., 0., 0., 0., 0., 0., 0., 0., 0., 0., 0., 0., 0.,\n",
       "           0., 0., 0., 0., 0., 0., 0., 0., 0., 0., 0., 0., 0., 0., 0., 0., 0., 0.,\n",
       "           0., 0., 0., 0., 0., 0., 0., 0., 0., 0., 0., 0., 0., 0., 0., 0., 0., 0.,\n",
       "           0., 0., 0., 0., 0., 0., 0., 0., 0., 0., 0., 0., 0., 0., 0., 0., 0., 0.,\n",
       "           0., 0., 0., 0., 0., 0., 0., 0., 0., 0., 0., 0., 0., 0., 0., 0., 0., 0.,\n",
       "           0., 0., 0., 0., 0., 0., 0., 0., 0., 0., 0., 0., 0., 0., 0., 0., 0., 0.,\n",
       "           0., 0., 0., 0., 0., 0., 0., 0., 0., 0., 0., 0., 0., 0., 0., 0., 0., 0.,\n",
       "           0., 0., 0., 0., 0., 0., 0., 0., 0., 0., 0., 0., 0., 0., 0., 0., 0., 0.,\n",
       "           0., 0., 0., 0., 0., 0., 0., 0., 0., 0., 0., 0., 0., 0., 0., 0., 0., 0.,\n",
       "           0., 0., 0., 0., 0., 0., 0., 0., 0., 0., 0., 0., 0., 0., 0., 0., 0., 0.,\n",
       "           0., 0., 0., 0., 0., 0., 0., 0., 0., 0., 0., 0., 0., 0., 0., 0., 0., 0.,\n",
       "           0., 0., 0., 0., 0., 0., 0., 0., 0., 0., 0., 0., 0., 0., 0., 0., 0., 0.,\n",
       "           0., 1., 0., 0., 0., 0., 0., 0., 0., 0., 0., 0., 0., 0., 0., 0., 0., 0.]),\n",
       "   'pred_V': tensor(0.4950),\n",
       "   'avg_V': tensor([0.2475])}),\n",
       " ('What is 3+4?[SP]3+44444444�',\n",
       "  {'state': tensor([268, 267, 228,  26,  18,  27,  38,   5,  26,  18,  27,  27,  27,  27,\n",
       "            27,  27,  27,  27, 253]),\n",
       "   'N': tensor([2.]),\n",
       "   'Qa': tensor([ 0.,  0.,  0.,  0.,  0.,  0.,  0.,  0.,  0.,  0.,  0.,  0.,  0.,  0.,\n",
       "            0.,  0.,  0.,  0.,  0.,  0.,  0.,  0.,  0.,  0.,  0.,  0.,  0.,  0.,\n",
       "            0.,  0.,  0.,  0.,  0.,  0.,  0.,  0.,  0.,  0.,  0.,  0.,  0.,  0.,\n",
       "            0.,  0.,  0.,  0.,  0.,  0.,  0.,  0.,  0.,  0.,  0.,  0.,  0.,  0.,\n",
       "            0.,  0.,  0.,  0.,  0.,  0.,  0.,  0.,  0.,  0.,  0.,  0.,  0.,  0.,\n",
       "            0.,  0.,  0.,  0.,  0.,  0.,  0.,  0.,  0.,  0.,  0.,  0.,  0.,  0.,\n",
       "            0.,  0.,  0.,  0.,  0.,  0.,  0.,  0.,  0.,  0.,  0.,  0.,  0.,  0.,\n",
       "            0.,  0.,  0.,  0.,  0.,  0.,  0.,  0.,  0.,  0.,  0.,  0.,  0.,  0.,\n",
       "            0.,  0.,  0.,  0.,  0.,  0.,  0.,  0.,  0.,  0.,  0.,  0.,  0.,  0.,\n",
       "            0.,  0.,  0.,  0.,  0.,  0.,  0.,  0.,  0.,  0.,  0.,  0.,  0.,  0.,\n",
       "            0.,  0.,  0.,  0.,  0.,  0.,  0.,  0.,  0.,  0.,  0.,  0.,  0.,  0.,\n",
       "            0.,  0.,  0.,  0.,  0.,  0.,  0.,  0.,  0.,  0.,  0.,  0.,  0.,  0.,\n",
       "            0.,  0.,  0.,  0.,  0.,  0.,  0.,  0.,  0.,  0.,  0.,  0.,  0.,  0.,\n",
       "            0.,  0.,  0.,  0.,  0.,  0.,  0.,  0.,  0.,  0.,  0.,  0.,  0.,  0.,\n",
       "            0.,  0.,  0.,  0.,  0.,  0.,  0.,  0.,  0.,  0.,  0.,  0.,  0.,  0.,\n",
       "            0.,  0.,  0.,  0.,  0.,  0.,  0.,  0.,  0.,  0.,  0.,  0.,  0.,  0.,\n",
       "            0.,  0.,  0.,  0.,  0.,  0.,  0.,  0.,  0.,  0.,  0.,  0.,  0.,  0.,\n",
       "            0.,  0.,  0.,  0.,  0.,  0.,  0.,  0.,  0.,  0.,  0.,  0.,  0.,  0.,\n",
       "            0., -1.,  0.,  0.,  0.,  0.,  0.,  0.,  0.,  0.,  0.,  0.,  0.,  0.,\n",
       "            0.,  0.,  0.,  0.]),\n",
       "   'Na': tensor([0., 0., 0., 0., 0., 0., 0., 0., 0., 0., 0., 0., 0., 0., 0., 0., 0., 0.,\n",
       "           0., 0., 0., 0., 0., 0., 0., 0., 0., 0., 0., 0., 0., 0., 0., 0., 0., 0.,\n",
       "           0., 0., 0., 0., 0., 0., 0., 0., 0., 0., 0., 0., 0., 0., 0., 0., 0., 0.,\n",
       "           0., 0., 0., 0., 0., 0., 0., 0., 0., 0., 0., 0., 0., 0., 0., 0., 0., 0.,\n",
       "           0., 0., 0., 0., 0., 0., 0., 0., 0., 0., 0., 0., 0., 0., 0., 0., 0., 0.,\n",
       "           0., 0., 0., 0., 0., 0., 0., 0., 0., 0., 0., 0., 0., 0., 0., 0., 0., 0.,\n",
       "           0., 0., 0., 0., 0., 0., 0., 0., 0., 0., 0., 0., 0., 0., 0., 0., 0., 0.,\n",
       "           0., 0., 0., 0., 0., 0., 0., 0., 0., 0., 0., 0., 0., 0., 0., 0., 0., 0.,\n",
       "           0., 0., 0., 0., 0., 0., 0., 0., 0., 0., 0., 0., 0., 0., 0., 0., 0., 0.,\n",
       "           0., 0., 0., 0., 0., 0., 0., 0., 0., 0., 0., 0., 0., 0., 0., 0., 0., 0.,\n",
       "           0., 0., 0., 0., 0., 0., 0., 0., 0., 0., 0., 0., 0., 0., 0., 0., 0., 0.,\n",
       "           0., 0., 0., 0., 0., 0., 0., 0., 0., 0., 0., 0., 0., 0., 0., 0., 0., 0.,\n",
       "           0., 0., 0., 0., 0., 0., 0., 0., 0., 0., 0., 0., 0., 0., 0., 0., 0., 0.,\n",
       "           0., 0., 0., 0., 0., 0., 0., 0., 0., 0., 0., 0., 0., 0., 0., 0., 0., 0.,\n",
       "           0., 1., 0., 0., 0., 0., 0., 0., 0., 0., 0., 0., 0., 0., 0., 0., 0., 0.]),\n",
       "   'pred_V': tensor(0.4944),\n",
       "   'avg_V': tensor([-0.5000])}),\n",
       " ('What is 3+4?[SP]3+4��',\n",
       "  {'state': tensor([  0,   0,   0,   0,   0,   0,   0, 268, 267, 228,  26,  18,  27,  38,\n",
       "             5,  26,  18,  27, 253, 253]),\n",
       "   'N': tensor([1.]),\n",
       "   'Qa': tensor([0., 0., 0., 0., 0., 0., 0., 0., 0., 0., 0., 0., 0., 0., 0., 0., 0., 0., 0., 0., 0., 0., 0., 0.,\n",
       "           0., 0., 0., 0., 0., 0., 0., 0., 0., 0., 0., 0., 0., 0., 0., 0., 0., 0., 0., 0., 0., 0., 0., 0.,\n",
       "           0., 0., 0., 0., 0., 0., 0., 0., 0., 0., 0., 0., 0., 0., 0., 0., 0., 0., 0., 0., 0., 0., 0., 0.,\n",
       "           0., 0., 0., 0., 0., 0., 0., 0., 0., 0., 0., 0., 0., 0., 0., 0., 0., 0., 0., 0., 0., 0., 0., 0.,\n",
       "           0., 0., 0., 0., 0., 0., 0., 0., 0., 0., 0., 0., 0., 0., 0., 0., 0., 0., 0., 0., 0., 0., 0., 0.,\n",
       "           0., 0., 0., 0., 0., 0., 0., 0., 0., 0., 0., 0., 0., 0., 0., 0., 0., 0., 0., 0., 0., 0., 0., 0.,\n",
       "           0., 0., 0., 0., 0., 0., 0., 0., 0., 0., 0., 0., 0., 0., 0., 0., 0., 0., 0., 0., 0., 0., 0., 0.,\n",
       "           0., 0., 0., 0., 0., 0., 0., 0., 0., 0., 0., 0., 0., 0., 0., 0., 0., 0., 0., 0., 0., 0., 0., 0.,\n",
       "           0., 0., 0., 0., 0., 0., 0., 0., 0., 0., 0., 0., 0., 0., 0., 0., 0., 0., 0., 0., 0., 0., 0., 0.,\n",
       "           0., 0., 0., 0., 0., 0., 0., 0., 0., 0., 0., 0., 0., 0., 0., 0., 0., 0., 0., 0., 0., 0., 0., 0.,\n",
       "           0., 0., 0., 0., 0., 0., 0., 0., 0., 0., 0., 0., 0., 0., 0., 0., 0., 0., 0., 0., 0., 0., 0., 0.,\n",
       "           0., 0., 0., 0., 0., 0.]),\n",
       "   'Na': tensor([0., 0., 0., 0., 0., 0., 0., 0., 0., 0., 0., 0., 0., 0., 0., 0., 0., 0., 0., 0., 0., 0., 0., 0.,\n",
       "           0., 0., 0., 0., 0., 0., 0., 0., 0., 0., 0., 0., 0., 0., 0., 0., 0., 0., 0., 0., 0., 0., 0., 0.,\n",
       "           0., 0., 0., 0., 0., 0., 0., 0., 0., 0., 0., 0., 0., 0., 0., 0., 0., 0., 0., 0., 0., 0., 0., 0.,\n",
       "           0., 0., 0., 0., 0., 0., 0., 0., 0., 0., 0., 0., 0., 0., 0., 0., 0., 0., 0., 0., 0., 0., 0., 0.,\n",
       "           0., 0., 0., 0., 0., 0., 0., 0., 0., 0., 0., 0., 0., 0., 0., 0., 0., 0., 0., 0., 0., 0., 0., 0.,\n",
       "           0., 0., 0., 0., 0., 0., 0., 0., 0., 0., 0., 0., 0., 0., 0., 0., 0., 0., 0., 0., 0., 0., 0., 0.,\n",
       "           0., 0., 0., 0., 0., 0., 0., 0., 0., 0., 0., 0., 0., 0., 0., 0., 0., 0., 0., 0., 0., 0., 0., 0.,\n",
       "           0., 0., 0., 0., 0., 0., 0., 0., 0., 0., 0., 0., 0., 0., 0., 0., 0., 0., 0., 0., 0., 0., 0., 0.,\n",
       "           0., 0., 0., 0., 0., 0., 0., 0., 0., 0., 0., 0., 0., 0., 0., 0., 0., 0., 0., 0., 0., 0., 0., 0.,\n",
       "           0., 0., 0., 0., 0., 0., 0., 0., 0., 0., 0., 0., 0., 0., 0., 0., 0., 0., 0., 0., 0., 0., 0., 0.,\n",
       "           0., 0., 0., 0., 0., 0., 0., 0., 0., 0., 0., 0., 0., 0., 0., 0., 0., 0., 0., 0., 0., 0., 0., 0.,\n",
       "           0., 0., 0., 0., 0., 0.]),\n",
       "   'pred_V': tensor(0.4950),\n",
       "   'avg_V': tensor([0.])})]"
      ]
     },
     "execution_count": 1039,
     "metadata": {},
     "output_type": "execute_result"
    }
   ],
   "source": [
    "sorted(list(mcts.cache.items()), key=lambda s: s[1]['N'], reverse=True)[:10]"
   ]
  },
  {
   "cell_type": "code",
   "execution_count": null,
   "metadata": {},
   "outputs": [
    {
     "name": "stderr",
     "output_type": "stream",
     "text": [
      "Sims for 250 episodes:   0%|          | 0/1600 [00:00<?, ?it/s]"
     ]
    },
    {
     "name": "stdout",
     "output_type": "stream",
     "text": [
      "For 250 episodes found 250 unique.\n"
     ]
    },
    {
     "name": "stderr",
     "output_type": "stream",
     "text": [
      "Sims for 250 episodes: 100%|██████████| 1600/1600 [04:23<00:00,  6.07it/s]\n",
      "Sims for 124 episodes:   0%|          | 2/1600 [00:00<02:24, 11.08it/s]"
     ]
    },
    {
     "name": "stdout",
     "output_type": "stream",
     "text": [
      "126 terminated, 124 left.\n"
     ]
    },
    {
     "name": "stderr",
     "output_type": "stream",
     "text": [
      "Sims for 124 episodes: 100%|██████████| 1600/1600 [02:17<00:00, 11.64it/s]\n",
      "Sims for 25 episodes:   0%|          | 3/1600 [00:00<00:58, 27.50it/s]"
     ]
    },
    {
     "name": "stdout",
     "output_type": "stream",
     "text": [
      "99 terminated, 25 left.\n"
     ]
    },
    {
     "name": "stderr",
     "output_type": "stream",
     "text": [
      "Sims for 25 episodes:  49%|████▉     | 788/1600 [00:25<00:26, 31.13it/s]"
     ]
    }
   ],
   "source": [
    "trainer = AlphaZero_Trainer(model, env)\n",
    "examples = trainer.execute_episodes(episodes=250, simulations=1600,seed=10, problem_type='simple_addition_with_answer_level_0')"
   ]
  },
  {
   "cell_type": "code",
   "execution_count": 1309,
   "metadata": {},
   "outputs": [],
   "source": [
    "positive_strings = ['What is 3+4?[SP]3+4>>>7\\n[ESP]7[EOS]',\n",
    "                    'What is 17+5?[SP]17+5>>>22\\n[ESP]22[EOS]',\n",
    "                    'What is 22+1?[SP]22+1>>>23\\n[ESP]23[EOS]']\n",
    "target_strings = ['What is 3+4?7[EOS]',\n",
    "                    'What is 17+5?22[EOS]',\n",
    "                    'What is 22+1?23[EOS]']\n",
    "positive_states = env.strings_to_state(positive_strings)"
   ]
  },
  {
   "cell_type": "code",
   "execution_count": 1318,
   "metadata": {
    "collapsed": true,
    "jupyter": {
     "outputs_hidden": true
    }
   },
   "outputs": [
    {
     "data": {
      "text/plain": [
       "[{'current_state': tensor([], dtype=torch.int64),\n",
       "  'target_string': 'What is 3+4?7[EOS]',\n",
       "  'pi': tensor([0., 0., 0., 0., 0., 0., 0., 0., 0., 0., 0., 0., 0., 0., 0., 0., 0., 0.,\n",
       "          0., 0., 0., 0., 0., 0., 0., 0., 0., 0., 0., 0., 0., 0., 0., 0., 0., 0.,\n",
       "          0., 0., 0., 0., 0., 0., 0., 0., 0., 0., 0., 0., 0., 0., 0., 0., 0., 0.,\n",
       "          0., 0., 0., 0., 0., 0., 0., 0., 0., 0., 0., 0., 0., 0., 0., 0., 0., 0.,\n",
       "          0., 0., 0., 0., 0., 0., 0., 0., 0., 0., 0., 0., 0., 0., 0., 0., 0., 0.,\n",
       "          0., 0., 0., 0., 0., 0., 0., 0., 0., 0., 0., 0., 0., 0., 0., 0., 0., 0.,\n",
       "          0., 0., 0., 0., 0., 0., 0., 0., 0., 0., 0., 0., 0., 0., 0., 0., 0., 0.,\n",
       "          0., 0., 0., 0., 0., 0., 0., 0., 0., 0., 0., 0., 0., 0., 0., 0., 0., 0.,\n",
       "          0., 0., 0., 0., 0., 0., 0., 0., 0., 0., 0., 0., 0., 0., 0., 0., 0., 0.,\n",
       "          0., 0., 0., 0., 0., 0., 0., 0., 0., 0., 0., 0., 0., 0., 0., 0., 0., 0.,\n",
       "          0., 0., 0., 0., 0., 0., 0., 0., 0., 0., 0., 0., 0., 0., 0., 0., 0., 0.,\n",
       "          0., 0., 0., 0., 0., 0., 0., 0., 0., 0., 0., 0., 0., 0., 0., 0., 0., 0.,\n",
       "          0., 0., 0., 0., 0., 0., 0., 0., 0., 0., 0., 0., 0., 0., 0., 0., 0., 0.,\n",
       "          0., 0., 0., 0., 0., 0., 0., 0., 0., 0., 0., 0., 0., 0., 0., 0., 0., 0.,\n",
       "          0., 0., 0., 0., 0., 0., 0., 0., 0., 0., 0., 0., 0., 0., 0., 0., 1., 0.]),\n",
       "  'id': 'custom',\n",
       "  'reward': 1},\n",
       " {'current_state': tensor([268]),\n",
       "  'target_string': 'What is 3+4?7[EOS]',\n",
       "  'pi': tensor([0., 0., 0., 0., 0., 0., 0., 0., 0., 0., 0., 0., 0., 0., 0., 0., 0., 0.,\n",
       "          0., 0., 0., 0., 0., 0., 0., 0., 0., 0., 0., 0., 0., 0., 0., 0., 0., 0.,\n",
       "          0., 0., 0., 0., 0., 0., 0., 0., 0., 0., 0., 0., 0., 0., 0., 0., 0., 0.,\n",
       "          0., 0., 0., 0., 0., 0., 0., 0., 0., 0., 0., 0., 0., 0., 0., 0., 0., 0.,\n",
       "          0., 0., 0., 0., 0., 0., 0., 0., 0., 0., 0., 0., 0., 0., 0., 0., 0., 0.,\n",
       "          0., 0., 0., 0., 0., 0., 0., 0., 0., 0., 0., 0., 0., 0., 0., 0., 0., 0.,\n",
       "          0., 0., 0., 0., 0., 0., 0., 0., 0., 0., 0., 0., 0., 0., 0., 0., 0., 0.,\n",
       "          0., 0., 0., 0., 0., 0., 0., 0., 0., 0., 0., 0., 0., 0., 0., 0., 0., 0.,\n",
       "          0., 0., 0., 0., 0., 0., 0., 0., 0., 0., 0., 0., 0., 0., 0., 0., 0., 0.,\n",
       "          0., 0., 0., 0., 0., 0., 0., 0., 0., 0., 0., 0., 0., 0., 0., 0., 0., 0.,\n",
       "          0., 0., 0., 0., 0., 0., 0., 0., 0., 0., 0., 0., 0., 0., 0., 0., 0., 0.,\n",
       "          0., 0., 0., 0., 0., 0., 0., 0., 0., 0., 0., 0., 0., 0., 0., 0., 0., 0.,\n",
       "          0., 0., 0., 0., 0., 0., 0., 0., 0., 0., 0., 0., 0., 0., 0., 0., 0., 0.,\n",
       "          0., 0., 0., 0., 0., 0., 0., 0., 0., 0., 0., 0., 0., 0., 0., 0., 0., 0.,\n",
       "          0., 0., 0., 0., 0., 0., 0., 0., 0., 0., 0., 0., 0., 0., 0., 1., 0., 0.]),\n",
       "  'id': 'custom',\n",
       "  'reward': 1},\n",
       " {'current_state': tensor([268, 267]),\n",
       "  'target_string': 'What is 3+4?7[EOS]',\n",
       "  'pi': tensor([0., 0., 0., 0., 0., 0., 0., 0., 0., 0., 0., 0., 0., 0., 0., 0., 0., 0.,\n",
       "          0., 0., 0., 0., 0., 0., 0., 0., 0., 0., 0., 0., 0., 0., 0., 0., 0., 0.,\n",
       "          0., 0., 0., 0., 0., 0., 0., 0., 0., 0., 0., 0., 0., 0., 0., 0., 0., 0.,\n",
       "          0., 0., 0., 0., 0., 0., 0., 0., 0., 0., 0., 0., 0., 0., 0., 0., 0., 0.,\n",
       "          0., 0., 0., 0., 0., 0., 0., 0., 0., 0., 0., 0., 0., 0., 0., 0., 0., 0.,\n",
       "          0., 0., 0., 0., 0., 0., 0., 0., 0., 0., 0., 0., 0., 0., 0., 0., 0., 0.,\n",
       "          0., 0., 0., 0., 0., 0., 0., 0., 0., 0., 0., 0., 0., 0., 0., 0., 0., 0.,\n",
       "          0., 0., 0., 0., 0., 0., 0., 0., 0., 0., 0., 0., 0., 0., 0., 0., 0., 0.,\n",
       "          0., 0., 0., 0., 0., 0., 0., 0., 0., 0., 0., 0., 0., 0., 0., 0., 0., 0.,\n",
       "          0., 0., 0., 0., 0., 0., 0., 0., 0., 0., 0., 0., 0., 0., 0., 0., 0., 0.,\n",
       "          0., 0., 0., 0., 0., 0., 0., 0., 0., 0., 0., 0., 0., 0., 0., 0., 0., 0.,\n",
       "          0., 0., 0., 0., 0., 0., 0., 0., 0., 0., 0., 0., 0., 0., 0., 0., 0., 0.,\n",
       "          0., 0., 0., 0., 0., 0., 0., 0., 0., 0., 0., 0., 1., 0., 0., 0., 0., 0.,\n",
       "          0., 0., 0., 0., 0., 0., 0., 0., 0., 0., 0., 0., 0., 0., 0., 0., 0., 0.,\n",
       "          0., 0., 0., 0., 0., 0., 0., 0., 0., 0., 0., 0., 0., 0., 0., 0., 0., 0.]),\n",
       "  'id': 'custom',\n",
       "  'reward': 1},\n",
       " {'current_state': tensor([268, 267, 228]),\n",
       "  'target_string': 'What is 3+4?7[EOS]',\n",
       "  'pi': tensor([0., 0., 0., 0., 0., 0., 0., 0., 0., 0., 0., 0., 0., 0., 0., 0., 0., 0.,\n",
       "          0., 0., 0., 0., 0., 0., 0., 0., 1., 0., 0., 0., 0., 0., 0., 0., 0., 0.,\n",
       "          0., 0., 0., 0., 0., 0., 0., 0., 0., 0., 0., 0., 0., 0., 0., 0., 0., 0.,\n",
       "          0., 0., 0., 0., 0., 0., 0., 0., 0., 0., 0., 0., 0., 0., 0., 0., 0., 0.,\n",
       "          0., 0., 0., 0., 0., 0., 0., 0., 0., 0., 0., 0., 0., 0., 0., 0., 0., 0.,\n",
       "          0., 0., 0., 0., 0., 0., 0., 0., 0., 0., 0., 0., 0., 0., 0., 0., 0., 0.,\n",
       "          0., 0., 0., 0., 0., 0., 0., 0., 0., 0., 0., 0., 0., 0., 0., 0., 0., 0.,\n",
       "          0., 0., 0., 0., 0., 0., 0., 0., 0., 0., 0., 0., 0., 0., 0., 0., 0., 0.,\n",
       "          0., 0., 0., 0., 0., 0., 0., 0., 0., 0., 0., 0., 0., 0., 0., 0., 0., 0.,\n",
       "          0., 0., 0., 0., 0., 0., 0., 0., 0., 0., 0., 0., 0., 0., 0., 0., 0., 0.,\n",
       "          0., 0., 0., 0., 0., 0., 0., 0., 0., 0., 0., 0., 0., 0., 0., 0., 0., 0.,\n",
       "          0., 0., 0., 0., 0., 0., 0., 0., 0., 0., 0., 0., 0., 0., 0., 0., 0., 0.,\n",
       "          0., 0., 0., 0., 0., 0., 0., 0., 0., 0., 0., 0., 0., 0., 0., 0., 0., 0.,\n",
       "          0., 0., 0., 0., 0., 0., 0., 0., 0., 0., 0., 0., 0., 0., 0., 0., 0., 0.,\n",
       "          0., 0., 0., 0., 0., 0., 0., 0., 0., 0., 0., 0., 0., 0., 0., 0., 0., 0.]),\n",
       "  'id': 'custom',\n",
       "  'reward': 1},\n",
       " {'current_state': tensor([268, 267, 228,  26]),\n",
       "  'target_string': 'What is 3+4?7[EOS]',\n",
       "  'pi': tensor([0., 0., 0., 0., 0., 0., 0., 0., 0., 0., 0., 0., 0., 0., 0., 0., 0., 0.,\n",
       "          1., 0., 0., 0., 0., 0., 0., 0., 0., 0., 0., 0., 0., 0., 0., 0., 0., 0.,\n",
       "          0., 0., 0., 0., 0., 0., 0., 0., 0., 0., 0., 0., 0., 0., 0., 0., 0., 0.,\n",
       "          0., 0., 0., 0., 0., 0., 0., 0., 0., 0., 0., 0., 0., 0., 0., 0., 0., 0.,\n",
       "          0., 0., 0., 0., 0., 0., 0., 0., 0., 0., 0., 0., 0., 0., 0., 0., 0., 0.,\n",
       "          0., 0., 0., 0., 0., 0., 0., 0., 0., 0., 0., 0., 0., 0., 0., 0., 0., 0.,\n",
       "          0., 0., 0., 0., 0., 0., 0., 0., 0., 0., 0., 0., 0., 0., 0., 0., 0., 0.,\n",
       "          0., 0., 0., 0., 0., 0., 0., 0., 0., 0., 0., 0., 0., 0., 0., 0., 0., 0.,\n",
       "          0., 0., 0., 0., 0., 0., 0., 0., 0., 0., 0., 0., 0., 0., 0., 0., 0., 0.,\n",
       "          0., 0., 0., 0., 0., 0., 0., 0., 0., 0., 0., 0., 0., 0., 0., 0., 0., 0.,\n",
       "          0., 0., 0., 0., 0., 0., 0., 0., 0., 0., 0., 0., 0., 0., 0., 0., 0., 0.,\n",
       "          0., 0., 0., 0., 0., 0., 0., 0., 0., 0., 0., 0., 0., 0., 0., 0., 0., 0.,\n",
       "          0., 0., 0., 0., 0., 0., 0., 0., 0., 0., 0., 0., 0., 0., 0., 0., 0., 0.,\n",
       "          0., 0., 0., 0., 0., 0., 0., 0., 0., 0., 0., 0., 0., 0., 0., 0., 0., 0.,\n",
       "          0., 0., 0., 0., 0., 0., 0., 0., 0., 0., 0., 0., 0., 0., 0., 0., 0., 0.]),\n",
       "  'id': 'custom',\n",
       "  'reward': 1},\n",
       " {'current_state': tensor([268, 267, 228,  26,  18]),\n",
       "  'target_string': 'What is 3+4?7[EOS]',\n",
       "  'pi': tensor([0., 0., 0., 0., 0., 0., 0., 0., 0., 0., 0., 0., 0., 0., 0., 0., 0., 0.,\n",
       "          0., 0., 0., 0., 0., 0., 0., 0., 0., 1., 0., 0., 0., 0., 0., 0., 0., 0.,\n",
       "          0., 0., 0., 0., 0., 0., 0., 0., 0., 0., 0., 0., 0., 0., 0., 0., 0., 0.,\n",
       "          0., 0., 0., 0., 0., 0., 0., 0., 0., 0., 0., 0., 0., 0., 0., 0., 0., 0.,\n",
       "          0., 0., 0., 0., 0., 0., 0., 0., 0., 0., 0., 0., 0., 0., 0., 0., 0., 0.,\n",
       "          0., 0., 0., 0., 0., 0., 0., 0., 0., 0., 0., 0., 0., 0., 0., 0., 0., 0.,\n",
       "          0., 0., 0., 0., 0., 0., 0., 0., 0., 0., 0., 0., 0., 0., 0., 0., 0., 0.,\n",
       "          0., 0., 0., 0., 0., 0., 0., 0., 0., 0., 0., 0., 0., 0., 0., 0., 0., 0.,\n",
       "          0., 0., 0., 0., 0., 0., 0., 0., 0., 0., 0., 0., 0., 0., 0., 0., 0., 0.,\n",
       "          0., 0., 0., 0., 0., 0., 0., 0., 0., 0., 0., 0., 0., 0., 0., 0., 0., 0.,\n",
       "          0., 0., 0., 0., 0., 0., 0., 0., 0., 0., 0., 0., 0., 0., 0., 0., 0., 0.,\n",
       "          0., 0., 0., 0., 0., 0., 0., 0., 0., 0., 0., 0., 0., 0., 0., 0., 0., 0.,\n",
       "          0., 0., 0., 0., 0., 0., 0., 0., 0., 0., 0., 0., 0., 0., 0., 0., 0., 0.,\n",
       "          0., 0., 0., 0., 0., 0., 0., 0., 0., 0., 0., 0., 0., 0., 0., 0., 0., 0.,\n",
       "          0., 0., 0., 0., 0., 0., 0., 0., 0., 0., 0., 0., 0., 0., 0., 0., 0., 0.]),\n",
       "  'id': 'custom',\n",
       "  'reward': 1},\n",
       " {'current_state': tensor([268, 267, 228,  26,  18,  27]),\n",
       "  'target_string': 'What is 3+4?7[EOS]',\n",
       "  'pi': tensor([0., 0., 0., 0., 0., 0., 0., 0., 0., 0., 0., 0., 0., 0., 0., 0., 0., 0.,\n",
       "          0., 0., 0., 0., 0., 0., 0., 0., 0., 0., 0., 0., 0., 0., 0., 0., 0., 0.,\n",
       "          0., 0., 1., 0., 0., 0., 0., 0., 0., 0., 0., 0., 0., 0., 0., 0., 0., 0.,\n",
       "          0., 0., 0., 0., 0., 0., 0., 0., 0., 0., 0., 0., 0., 0., 0., 0., 0., 0.,\n",
       "          0., 0., 0., 0., 0., 0., 0., 0., 0., 0., 0., 0., 0., 0., 0., 0., 0., 0.,\n",
       "          0., 0., 0., 0., 0., 0., 0., 0., 0., 0., 0., 0., 0., 0., 0., 0., 0., 0.,\n",
       "          0., 0., 0., 0., 0., 0., 0., 0., 0., 0., 0., 0., 0., 0., 0., 0., 0., 0.,\n",
       "          0., 0., 0., 0., 0., 0., 0., 0., 0., 0., 0., 0., 0., 0., 0., 0., 0., 0.,\n",
       "          0., 0., 0., 0., 0., 0., 0., 0., 0., 0., 0., 0., 0., 0., 0., 0., 0., 0.,\n",
       "          0., 0., 0., 0., 0., 0., 0., 0., 0., 0., 0., 0., 0., 0., 0., 0., 0., 0.,\n",
       "          0., 0., 0., 0., 0., 0., 0., 0., 0., 0., 0., 0., 0., 0., 0., 0., 0., 0.,\n",
       "          0., 0., 0., 0., 0., 0., 0., 0., 0., 0., 0., 0., 0., 0., 0., 0., 0., 0.,\n",
       "          0., 0., 0., 0., 0., 0., 0., 0., 0., 0., 0., 0., 0., 0., 0., 0., 0., 0.,\n",
       "          0., 0., 0., 0., 0., 0., 0., 0., 0., 0., 0., 0., 0., 0., 0., 0., 0., 0.,\n",
       "          0., 0., 0., 0., 0., 0., 0., 0., 0., 0., 0., 0., 0., 0., 0., 0., 0., 0.]),\n",
       "  'id': 'custom',\n",
       "  'reward': 1},\n",
       " {'current_state': tensor([268, 267, 228,  26,  18,  27,  38]),\n",
       "  'target_string': 'What is 3+4?7[EOS]',\n",
       "  'pi': tensor([0., 0., 0., 0., 0., 1., 0., 0., 0., 0., 0., 0., 0., 0., 0., 0., 0., 0.,\n",
       "          0., 0., 0., 0., 0., 0., 0., 0., 0., 0., 0., 0., 0., 0., 0., 0., 0., 0.,\n",
       "          0., 0., 0., 0., 0., 0., 0., 0., 0., 0., 0., 0., 0., 0., 0., 0., 0., 0.,\n",
       "          0., 0., 0., 0., 0., 0., 0., 0., 0., 0., 0., 0., 0., 0., 0., 0., 0., 0.,\n",
       "          0., 0., 0., 0., 0., 0., 0., 0., 0., 0., 0., 0., 0., 0., 0., 0., 0., 0.,\n",
       "          0., 0., 0., 0., 0., 0., 0., 0., 0., 0., 0., 0., 0., 0., 0., 0., 0., 0.,\n",
       "          0., 0., 0., 0., 0., 0., 0., 0., 0., 0., 0., 0., 0., 0., 0., 0., 0., 0.,\n",
       "          0., 0., 0., 0., 0., 0., 0., 0., 0., 0., 0., 0., 0., 0., 0., 0., 0., 0.,\n",
       "          0., 0., 0., 0., 0., 0., 0., 0., 0., 0., 0., 0., 0., 0., 0., 0., 0., 0.,\n",
       "          0., 0., 0., 0., 0., 0., 0., 0., 0., 0., 0., 0., 0., 0., 0., 0., 0., 0.,\n",
       "          0., 0., 0., 0., 0., 0., 0., 0., 0., 0., 0., 0., 0., 0., 0., 0., 0., 0.,\n",
       "          0., 0., 0., 0., 0., 0., 0., 0., 0., 0., 0., 0., 0., 0., 0., 0., 0., 0.,\n",
       "          0., 0., 0., 0., 0., 0., 0., 0., 0., 0., 0., 0., 0., 0., 0., 0., 0., 0.,\n",
       "          0., 0., 0., 0., 0., 0., 0., 0., 0., 0., 0., 0., 0., 0., 0., 0., 0., 0.,\n",
       "          0., 0., 0., 0., 0., 0., 0., 0., 0., 0., 0., 0., 0., 0., 0., 0., 0., 0.]),\n",
       "  'id': 'custom',\n",
       "  'reward': 1},\n",
       " {'current_state': tensor([268, 267, 228,  26,  18,  27,  38,   5]),\n",
       "  'target_string': 'What is 3+4?7[EOS]',\n",
       "  'pi': tensor([0., 0., 0., 0., 0., 0., 0., 0., 0., 0., 0., 0., 0., 0., 0., 0., 0., 0.,\n",
       "          0., 0., 0., 0., 0., 0., 0., 0., 1., 0., 0., 0., 0., 0., 0., 0., 0., 0.,\n",
       "          0., 0., 0., 0., 0., 0., 0., 0., 0., 0., 0., 0., 0., 0., 0., 0., 0., 0.,\n",
       "          0., 0., 0., 0., 0., 0., 0., 0., 0., 0., 0., 0., 0., 0., 0., 0., 0., 0.,\n",
       "          0., 0., 0., 0., 0., 0., 0., 0., 0., 0., 0., 0., 0., 0., 0., 0., 0., 0.,\n",
       "          0., 0., 0., 0., 0., 0., 0., 0., 0., 0., 0., 0., 0., 0., 0., 0., 0., 0.,\n",
       "          0., 0., 0., 0., 0., 0., 0., 0., 0., 0., 0., 0., 0., 0., 0., 0., 0., 0.,\n",
       "          0., 0., 0., 0., 0., 0., 0., 0., 0., 0., 0., 0., 0., 0., 0., 0., 0., 0.,\n",
       "          0., 0., 0., 0., 0., 0., 0., 0., 0., 0., 0., 0., 0., 0., 0., 0., 0., 0.,\n",
       "          0., 0., 0., 0., 0., 0., 0., 0., 0., 0., 0., 0., 0., 0., 0., 0., 0., 0.,\n",
       "          0., 0., 0., 0., 0., 0., 0., 0., 0., 0., 0., 0., 0., 0., 0., 0., 0., 0.,\n",
       "          0., 0., 0., 0., 0., 0., 0., 0., 0., 0., 0., 0., 0., 0., 0., 0., 0., 0.,\n",
       "          0., 0., 0., 0., 0., 0., 0., 0., 0., 0., 0., 0., 0., 0., 0., 0., 0., 0.,\n",
       "          0., 0., 0., 0., 0., 0., 0., 0., 0., 0., 0., 0., 0., 0., 0., 0., 0., 0.,\n",
       "          0., 0., 0., 0., 0., 0., 0., 0., 0., 0., 0., 0., 0., 0., 0., 0., 0., 0.]),\n",
       "  'id': 'custom',\n",
       "  'reward': 1},\n",
       " {'current_state': tensor([268, 267, 228,  26,  18,  27,  38,   5,  26]),\n",
       "  'target_string': 'What is 3+4?7[EOS]',\n",
       "  'pi': tensor([0., 0., 0., 0., 0., 0., 0., 0., 0., 0., 0., 0., 0., 0., 0., 0., 0., 0.,\n",
       "          1., 0., 0., 0., 0., 0., 0., 0., 0., 0., 0., 0., 0., 0., 0., 0., 0., 0.,\n",
       "          0., 0., 0., 0., 0., 0., 0., 0., 0., 0., 0., 0., 0., 0., 0., 0., 0., 0.,\n",
       "          0., 0., 0., 0., 0., 0., 0., 0., 0., 0., 0., 0., 0., 0., 0., 0., 0., 0.,\n",
       "          0., 0., 0., 0., 0., 0., 0., 0., 0., 0., 0., 0., 0., 0., 0., 0., 0., 0.,\n",
       "          0., 0., 0., 0., 0., 0., 0., 0., 0., 0., 0., 0., 0., 0., 0., 0., 0., 0.,\n",
       "          0., 0., 0., 0., 0., 0., 0., 0., 0., 0., 0., 0., 0., 0., 0., 0., 0., 0.,\n",
       "          0., 0., 0., 0., 0., 0., 0., 0., 0., 0., 0., 0., 0., 0., 0., 0., 0., 0.,\n",
       "          0., 0., 0., 0., 0., 0., 0., 0., 0., 0., 0., 0., 0., 0., 0., 0., 0., 0.,\n",
       "          0., 0., 0., 0., 0., 0., 0., 0., 0., 0., 0., 0., 0., 0., 0., 0., 0., 0.,\n",
       "          0., 0., 0., 0., 0., 0., 0., 0., 0., 0., 0., 0., 0., 0., 0., 0., 0., 0.,\n",
       "          0., 0., 0., 0., 0., 0., 0., 0., 0., 0., 0., 0., 0., 0., 0., 0., 0., 0.,\n",
       "          0., 0., 0., 0., 0., 0., 0., 0., 0., 0., 0., 0., 0., 0., 0., 0., 0., 0.,\n",
       "          0., 0., 0., 0., 0., 0., 0., 0., 0., 0., 0., 0., 0., 0., 0., 0., 0., 0.,\n",
       "          0., 0., 0., 0., 0., 0., 0., 0., 0., 0., 0., 0., 0., 0., 0., 0., 0., 0.]),\n",
       "  'id': 'custom',\n",
       "  'reward': 1},\n",
       " {'current_state': tensor([268, 267, 228,  26,  18,  27,  38,   5,  26,  18]),\n",
       "  'target_string': 'What is 3+4?7[EOS]',\n",
       "  'pi': tensor([0., 0., 0., 0., 0., 0., 0., 0., 0., 0., 0., 0., 0., 0., 0., 0., 0., 0.,\n",
       "          0., 0., 0., 0., 0., 0., 0., 0., 0., 1., 0., 0., 0., 0., 0., 0., 0., 0.,\n",
       "          0., 0., 0., 0., 0., 0., 0., 0., 0., 0., 0., 0., 0., 0., 0., 0., 0., 0.,\n",
       "          0., 0., 0., 0., 0., 0., 0., 0., 0., 0., 0., 0., 0., 0., 0., 0., 0., 0.,\n",
       "          0., 0., 0., 0., 0., 0., 0., 0., 0., 0., 0., 0., 0., 0., 0., 0., 0., 0.,\n",
       "          0., 0., 0., 0., 0., 0., 0., 0., 0., 0., 0., 0., 0., 0., 0., 0., 0., 0.,\n",
       "          0., 0., 0., 0., 0., 0., 0., 0., 0., 0., 0., 0., 0., 0., 0., 0., 0., 0.,\n",
       "          0., 0., 0., 0., 0., 0., 0., 0., 0., 0., 0., 0., 0., 0., 0., 0., 0., 0.,\n",
       "          0., 0., 0., 0., 0., 0., 0., 0., 0., 0., 0., 0., 0., 0., 0., 0., 0., 0.,\n",
       "          0., 0., 0., 0., 0., 0., 0., 0., 0., 0., 0., 0., 0., 0., 0., 0., 0., 0.,\n",
       "          0., 0., 0., 0., 0., 0., 0., 0., 0., 0., 0., 0., 0., 0., 0., 0., 0., 0.,\n",
       "          0., 0., 0., 0., 0., 0., 0., 0., 0., 0., 0., 0., 0., 0., 0., 0., 0., 0.,\n",
       "          0., 0., 0., 0., 0., 0., 0., 0., 0., 0., 0., 0., 0., 0., 0., 0., 0., 0.,\n",
       "          0., 0., 0., 0., 0., 0., 0., 0., 0., 0., 0., 0., 0., 0., 0., 0., 0., 0.,\n",
       "          0., 0., 0., 0., 0., 0., 0., 0., 0., 0., 0., 0., 0., 0., 0., 0., 0., 0.]),\n",
       "  'id': 'custom',\n",
       "  'reward': 1},\n",
       " {'current_state': tensor([268, 267, 228,  26,  18,  27,  38,   5,  26,  18,  27]),\n",
       "  'target_string': 'What is 3+4?7[EOS]',\n",
       "  'pi': tensor([0., 0., 0., 0., 0., 0., 0., 1., 0., 0., 0., 0., 0., 0., 0., 0., 0., 0.,\n",
       "          0., 0., 0., 0., 0., 0., 0., 0., 0., 0., 0., 0., 0., 0., 0., 0., 0., 0.,\n",
       "          0., 0., 0., 0., 0., 0., 0., 0., 0., 0., 0., 0., 0., 0., 0., 0., 0., 0.,\n",
       "          0., 0., 0., 0., 0., 0., 0., 0., 0., 0., 0., 0., 0., 0., 0., 0., 0., 0.,\n",
       "          0., 0., 0., 0., 0., 0., 0., 0., 0., 0., 0., 0., 0., 0., 0., 0., 0., 0.,\n",
       "          0., 0., 0., 0., 0., 0., 0., 0., 0., 0., 0., 0., 0., 0., 0., 0., 0., 0.,\n",
       "          0., 0., 0., 0., 0., 0., 0., 0., 0., 0., 0., 0., 0., 0., 0., 0., 0., 0.,\n",
       "          0., 0., 0., 0., 0., 0., 0., 0., 0., 0., 0., 0., 0., 0., 0., 0., 0., 0.,\n",
       "          0., 0., 0., 0., 0., 0., 0., 0., 0., 0., 0., 0., 0., 0., 0., 0., 0., 0.,\n",
       "          0., 0., 0., 0., 0., 0., 0., 0., 0., 0., 0., 0., 0., 0., 0., 0., 0., 0.,\n",
       "          0., 0., 0., 0., 0., 0., 0., 0., 0., 0., 0., 0., 0., 0., 0., 0., 0., 0.,\n",
       "          0., 0., 0., 0., 0., 0., 0., 0., 0., 0., 0., 0., 0., 0., 0., 0., 0., 0.,\n",
       "          0., 0., 0., 0., 0., 0., 0., 0., 0., 0., 0., 0., 0., 0., 0., 0., 0., 0.,\n",
       "          0., 0., 0., 0., 0., 0., 0., 0., 0., 0., 0., 0., 0., 0., 0., 0., 0., 0.,\n",
       "          0., 0., 0., 0., 0., 0., 0., 0., 0., 0., 0., 0., 0., 0., 0., 0., 0., 0.]),\n",
       "  'id': 'custom',\n",
       "  'reward': 1},\n",
       " {'current_state': tensor([268, 267, 228,  26,  18,  27,  38,   5,  26,  18,  27,   7,  30,   4]),\n",
       "  'target_string': 'What is 3+4?7[EOS]',\n",
       "  'pi': tensor([0., 0., 0., 0., 0., 0., 1., 0., 0., 0., 0., 0., 0., 0., 0., 0., 0., 0.,\n",
       "          0., 0., 0., 0., 0., 0., 0., 0., 0., 0., 0., 0., 0., 0., 0., 0., 0., 0.,\n",
       "          0., 0., 0., 0., 0., 0., 0., 0., 0., 0., 0., 0., 0., 0., 0., 0., 0., 0.,\n",
       "          0., 0., 0., 0., 0., 0., 0., 0., 0., 0., 0., 0., 0., 0., 0., 0., 0., 0.,\n",
       "          0., 0., 0., 0., 0., 0., 0., 0., 0., 0., 0., 0., 0., 0., 0., 0., 0., 0.,\n",
       "          0., 0., 0., 0., 0., 0., 0., 0., 0., 0., 0., 0., 0., 0., 0., 0., 0., 0.,\n",
       "          0., 0., 0., 0., 0., 0., 0., 0., 0., 0., 0., 0., 0., 0., 0., 0., 0., 0.,\n",
       "          0., 0., 0., 0., 0., 0., 0., 0., 0., 0., 0., 0., 0., 0., 0., 0., 0., 0.,\n",
       "          0., 0., 0., 0., 0., 0., 0., 0., 0., 0., 0., 0., 0., 0., 0., 0., 0., 0.,\n",
       "          0., 0., 0., 0., 0., 0., 0., 0., 0., 0., 0., 0., 0., 0., 0., 0., 0., 0.,\n",
       "          0., 0., 0., 0., 0., 0., 0., 0., 0., 0., 0., 0., 0., 0., 0., 0., 0., 0.,\n",
       "          0., 0., 0., 0., 0., 0., 0., 0., 0., 0., 0., 0., 0., 0., 0., 0., 0., 0.,\n",
       "          0., 0., 0., 0., 0., 0., 0., 0., 0., 0., 0., 0., 0., 0., 0., 0., 0., 0.,\n",
       "          0., 0., 0., 0., 0., 0., 0., 0., 0., 0., 0., 0., 0., 0., 0., 0., 0., 0.,\n",
       "          0., 0., 0., 0., 0., 0., 0., 0., 0., 0., 0., 0., 0., 0., 0., 0., 0., 0.]),\n",
       "  'id': 'custom',\n",
       "  'reward': 1},\n",
       " {'current_state': tensor([268, 267, 228,  26,  18,  27,  38,   5,  26,  18,  27,   7,  30,   4,\n",
       "            6]),\n",
       "  'target_string': 'What is 3+4?7[EOS]',\n",
       "  'pi': tensor([0., 0., 0., 0., 0., 0., 0., 0., 0., 0., 0., 0., 0., 0., 0., 0., 0., 0.,\n",
       "          0., 0., 0., 0., 0., 0., 0., 0., 0., 0., 0., 0., 1., 0., 0., 0., 0., 0.,\n",
       "          0., 0., 0., 0., 0., 0., 0., 0., 0., 0., 0., 0., 0., 0., 0., 0., 0., 0.,\n",
       "          0., 0., 0., 0., 0., 0., 0., 0., 0., 0., 0., 0., 0., 0., 0., 0., 0., 0.,\n",
       "          0., 0., 0., 0., 0., 0., 0., 0., 0., 0., 0., 0., 0., 0., 0., 0., 0., 0.,\n",
       "          0., 0., 0., 0., 0., 0., 0., 0., 0., 0., 0., 0., 0., 0., 0., 0., 0., 0.,\n",
       "          0., 0., 0., 0., 0., 0., 0., 0., 0., 0., 0., 0., 0., 0., 0., 0., 0., 0.,\n",
       "          0., 0., 0., 0., 0., 0., 0., 0., 0., 0., 0., 0., 0., 0., 0., 0., 0., 0.,\n",
       "          0., 0., 0., 0., 0., 0., 0., 0., 0., 0., 0., 0., 0., 0., 0., 0., 0., 0.,\n",
       "          0., 0., 0., 0., 0., 0., 0., 0., 0., 0., 0., 0., 0., 0., 0., 0., 0., 0.,\n",
       "          0., 0., 0., 0., 0., 0., 0., 0., 0., 0., 0., 0., 0., 0., 0., 0., 0., 0.,\n",
       "          0., 0., 0., 0., 0., 0., 0., 0., 0., 0., 0., 0., 0., 0., 0., 0., 0., 0.,\n",
       "          0., 0., 0., 0., 0., 0., 0., 0., 0., 0., 0., 0., 0., 0., 0., 0., 0., 0.,\n",
       "          0., 0., 0., 0., 0., 0., 0., 0., 0., 0., 0., 0., 0., 0., 0., 0., 0., 0.,\n",
       "          0., 0., 0., 0., 0., 0., 0., 0., 0., 0., 0., 0., 0., 0., 0., 0., 0., 0.]),\n",
       "  'id': 'custom',\n",
       "  'reward': 1},\n",
       " {'current_state': tensor([268, 267, 228,  26,  18,  27,  38,   5,  26,  18,  27,   7,  30,   4,\n",
       "            6,  30]),\n",
       "  'target_string': 'What is 3+4?7[EOS]',\n",
       "  'pi': tensor([0., 1., 0., 0., 0., 0., 0., 0., 0., 0., 0., 0., 0., 0., 0., 0., 0., 0.,\n",
       "          0., 0., 0., 0., 0., 0., 0., 0., 0., 0., 0., 0., 0., 0., 0., 0., 0., 0.,\n",
       "          0., 0., 0., 0., 0., 0., 0., 0., 0., 0., 0., 0., 0., 0., 0., 0., 0., 0.,\n",
       "          0., 0., 0., 0., 0., 0., 0., 0., 0., 0., 0., 0., 0., 0., 0., 0., 0., 0.,\n",
       "          0., 0., 0., 0., 0., 0., 0., 0., 0., 0., 0., 0., 0., 0., 0., 0., 0., 0.,\n",
       "          0., 0., 0., 0., 0., 0., 0., 0., 0., 0., 0., 0., 0., 0., 0., 0., 0., 0.,\n",
       "          0., 0., 0., 0., 0., 0., 0., 0., 0., 0., 0., 0., 0., 0., 0., 0., 0., 0.,\n",
       "          0., 0., 0., 0., 0., 0., 0., 0., 0., 0., 0., 0., 0., 0., 0., 0., 0., 0.,\n",
       "          0., 0., 0., 0., 0., 0., 0., 0., 0., 0., 0., 0., 0., 0., 0., 0., 0., 0.,\n",
       "          0., 0., 0., 0., 0., 0., 0., 0., 0., 0., 0., 0., 0., 0., 0., 0., 0., 0.,\n",
       "          0., 0., 0., 0., 0., 0., 0., 0., 0., 0., 0., 0., 0., 0., 0., 0., 0., 0.,\n",
       "          0., 0., 0., 0., 0., 0., 0., 0., 0., 0., 0., 0., 0., 0., 0., 0., 0., 0.,\n",
       "          0., 0., 0., 0., 0., 0., 0., 0., 0., 0., 0., 0., 0., 0., 0., 0., 0., 0.,\n",
       "          0., 0., 0., 0., 0., 0., 0., 0., 0., 0., 0., 0., 0., 0., 0., 0., 0., 0.,\n",
       "          0., 0., 0., 0., 0., 0., 0., 0., 0., 0., 0., 0., 0., 0., 0., 0., 0., 0.]),\n",
       "  'id': 'custom',\n",
       "  'reward': 1},\n",
       " {'current_state': tensor([], dtype=torch.int64),\n",
       "  'target_string': 'What is 17+5?22[EOS]',\n",
       "  'pi': tensor([0., 0., 0., 0., 0., 0., 0., 0., 0., 0., 0., 0., 0., 0., 0., 0., 0., 0.,\n",
       "          0., 0., 0., 0., 0., 0., 0., 0., 0., 0., 0., 0., 0., 0., 0., 0., 0., 0.,\n",
       "          0., 0., 0., 0., 0., 0., 0., 0., 0., 0., 0., 0., 0., 0., 0., 0., 0., 0.,\n",
       "          0., 0., 0., 0., 0., 0., 0., 0., 0., 0., 0., 0., 0., 0., 0., 0., 0., 0.,\n",
       "          0., 0., 0., 0., 0., 0., 0., 0., 0., 0., 0., 0., 0., 0., 0., 0., 0., 0.,\n",
       "          0., 0., 0., 0., 0., 0., 0., 0., 0., 0., 0., 0., 0., 0., 0., 0., 0., 0.,\n",
       "          0., 0., 0., 0., 0., 0., 0., 0., 0., 0., 0., 0., 0., 0., 0., 0., 0., 0.,\n",
       "          0., 0., 0., 0., 0., 0., 0., 0., 0., 0., 0., 0., 0., 0., 0., 0., 0., 0.,\n",
       "          0., 0., 0., 0., 0., 0., 0., 0., 0., 0., 0., 0., 0., 0., 0., 0., 0., 0.,\n",
       "          0., 0., 0., 0., 0., 0., 0., 0., 0., 0., 0., 0., 0., 0., 0., 0., 0., 0.,\n",
       "          0., 0., 0., 0., 0., 0., 0., 0., 0., 0., 0., 0., 0., 0., 0., 0., 0., 0.,\n",
       "          0., 0., 0., 0., 0., 0., 0., 0., 0., 0., 0., 0., 0., 0., 0., 0., 0., 0.,\n",
       "          0., 0., 0., 0., 0., 0., 0., 0., 0., 0., 0., 0., 0., 0., 0., 0., 0., 0.,\n",
       "          0., 0., 0., 0., 0., 0., 0., 0., 0., 0., 0., 0., 0., 0., 0., 0., 0., 0.,\n",
       "          0., 0., 0., 0., 0., 0., 0., 0., 0., 0., 0., 0., 0., 0., 0., 0., 1., 0.]),\n",
       "  'id': 'custom',\n",
       "  'reward': 1},\n",
       " {'current_state': tensor([268]),\n",
       "  'target_string': 'What is 17+5?22[EOS]',\n",
       "  'pi': tensor([0., 0., 0., 0., 0., 0., 0., 0., 0., 0., 0., 0., 0., 0., 0., 0., 0., 0.,\n",
       "          0., 0., 0., 0., 0., 0., 0., 0., 0., 0., 0., 0., 0., 0., 0., 0., 0., 0.,\n",
       "          0., 0., 0., 0., 0., 0., 0., 0., 0., 0., 0., 0., 0., 0., 0., 0., 0., 0.,\n",
       "          0., 0., 0., 0., 0., 0., 0., 0., 0., 0., 0., 0., 0., 0., 0., 0., 0., 0.,\n",
       "          0., 0., 0., 0., 0., 0., 0., 0., 0., 0., 0., 0., 0., 0., 0., 0., 0., 0.,\n",
       "          0., 0., 0., 0., 0., 0., 0., 0., 0., 0., 0., 0., 0., 0., 0., 0., 0., 0.,\n",
       "          0., 0., 0., 0., 0., 0., 0., 0., 0., 0., 0., 0., 0., 0., 0., 0., 0., 0.,\n",
       "          0., 0., 0., 0., 0., 0., 0., 0., 0., 0., 0., 0., 0., 0., 0., 0., 0., 0.,\n",
       "          0., 0., 0., 0., 0., 0., 0., 0., 0., 0., 0., 0., 0., 0., 0., 0., 0., 0.,\n",
       "          0., 0., 0., 0., 0., 0., 0., 0., 0., 0., 0., 0., 0., 0., 0., 0., 0., 0.,\n",
       "          0., 0., 0., 0., 0., 0., 0., 0., 0., 0., 0., 0., 0., 0., 0., 0., 0., 0.,\n",
       "          0., 0., 0., 0., 0., 0., 0., 0., 0., 0., 0., 0., 0., 0., 0., 0., 0., 0.,\n",
       "          0., 0., 0., 0., 0., 0., 0., 0., 0., 0., 0., 0., 0., 0., 0., 0., 0., 0.,\n",
       "          0., 0., 0., 0., 0., 0., 0., 0., 0., 0., 0., 0., 0., 0., 0., 0., 0., 0.,\n",
       "          0., 0., 0., 0., 0., 0., 0., 0., 0., 0., 0., 0., 0., 0., 0., 1., 0., 0.]),\n",
       "  'id': 'custom',\n",
       "  'reward': 1},\n",
       " {'current_state': tensor([268, 267]),\n",
       "  'target_string': 'What is 17+5?22[EOS]',\n",
       "  'pi': tensor([0., 0., 0., 0., 0., 0., 0., 0., 0., 0., 0., 0., 0., 0., 0., 0., 0., 0.,\n",
       "          0., 0., 0., 0., 0., 0., 0., 0., 0., 0., 0., 0., 0., 0., 0., 0., 0., 0.,\n",
       "          0., 0., 0., 0., 0., 0., 0., 0., 0., 0., 0., 0., 0., 0., 0., 0., 0., 0.,\n",
       "          0., 0., 0., 0., 0., 0., 0., 0., 0., 0., 0., 0., 0., 0., 0., 0., 0., 0.,\n",
       "          0., 0., 0., 0., 0., 0., 0., 0., 0., 0., 0., 0., 0., 0., 0., 0., 0., 0.,\n",
       "          0., 0., 0., 0., 0., 0., 0., 0., 0., 0., 0., 0., 0., 0., 0., 0., 0., 0.,\n",
       "          0., 0., 0., 0., 0., 0., 0., 0., 0., 0., 0., 0., 0., 0., 0., 0., 0., 0.,\n",
       "          0., 0., 0., 0., 0., 0., 0., 0., 0., 0., 0., 0., 0., 0., 0., 0., 0., 0.,\n",
       "          0., 0., 0., 0., 0., 0., 0., 0., 0., 0., 0., 0., 0., 0., 0., 0., 0., 0.,\n",
       "          0., 0., 0., 0., 0., 0., 0., 0., 0., 0., 0., 0., 0., 0., 0., 0., 0., 0.,\n",
       "          0., 0., 0., 0., 0., 0., 0., 0., 0., 0., 0., 0., 0., 0., 0., 0., 0., 0.,\n",
       "          0., 0., 0., 0., 0., 0., 0., 0., 0., 0., 0., 0., 0., 0., 0., 0., 0., 0.,\n",
       "          0., 0., 0., 0., 0., 0., 0., 0., 0., 0., 0., 0., 1., 0., 0., 0., 0., 0.,\n",
       "          0., 0., 0., 0., 0., 0., 0., 0., 0., 0., 0., 0., 0., 0., 0., 0., 0., 0.,\n",
       "          0., 0., 0., 0., 0., 0., 0., 0., 0., 0., 0., 0., 0., 0., 0., 0., 0., 0.]),\n",
       "  'id': 'custom',\n",
       "  'reward': 1},\n",
       " {'current_state': tensor([268, 267, 228]),\n",
       "  'target_string': 'What is 17+5?22[EOS]',\n",
       "  'pi': tensor([0., 0., 0., 0., 0., 0., 0., 0., 0., 0., 0., 0., 0., 0., 0., 0., 0., 0.,\n",
       "          0., 0., 0., 0., 0., 0., 1., 0., 0., 0., 0., 0., 0., 0., 0., 0., 0., 0.,\n",
       "          0., 0., 0., 0., 0., 0., 0., 0., 0., 0., 0., 0., 0., 0., 0., 0., 0., 0.,\n",
       "          0., 0., 0., 0., 0., 0., 0., 0., 0., 0., 0., 0., 0., 0., 0., 0., 0., 0.,\n",
       "          0., 0., 0., 0., 0., 0., 0., 0., 0., 0., 0., 0., 0., 0., 0., 0., 0., 0.,\n",
       "          0., 0., 0., 0., 0., 0., 0., 0., 0., 0., 0., 0., 0., 0., 0., 0., 0., 0.,\n",
       "          0., 0., 0., 0., 0., 0., 0., 0., 0., 0., 0., 0., 0., 0., 0., 0., 0., 0.,\n",
       "          0., 0., 0., 0., 0., 0., 0., 0., 0., 0., 0., 0., 0., 0., 0., 0., 0., 0.,\n",
       "          0., 0., 0., 0., 0., 0., 0., 0., 0., 0., 0., 0., 0., 0., 0., 0., 0., 0.,\n",
       "          0., 0., 0., 0., 0., 0., 0., 0., 0., 0., 0., 0., 0., 0., 0., 0., 0., 0.,\n",
       "          0., 0., 0., 0., 0., 0., 0., 0., 0., 0., 0., 0., 0., 0., 0., 0., 0., 0.,\n",
       "          0., 0., 0., 0., 0., 0., 0., 0., 0., 0., 0., 0., 0., 0., 0., 0., 0., 0.,\n",
       "          0., 0., 0., 0., 0., 0., 0., 0., 0., 0., 0., 0., 0., 0., 0., 0., 0., 0.,\n",
       "          0., 0., 0., 0., 0., 0., 0., 0., 0., 0., 0., 0., 0., 0., 0., 0., 0., 0.,\n",
       "          0., 0., 0., 0., 0., 0., 0., 0., 0., 0., 0., 0., 0., 0., 0., 0., 0., 0.]),\n",
       "  'id': 'custom',\n",
       "  'reward': 1},\n",
       " {'current_state': tensor([268, 267, 228,  24]),\n",
       "  'target_string': 'What is 17+5?22[EOS]',\n",
       "  'pi': tensor([0., 0., 0., 0., 0., 0., 0., 0., 0., 0., 0., 0., 0., 0., 0., 0., 0., 0.,\n",
       "          0., 0., 0., 0., 0., 0., 0., 0., 0., 0., 0., 0., 1., 0., 0., 0., 0., 0.,\n",
       "          0., 0., 0., 0., 0., 0., 0., 0., 0., 0., 0., 0., 0., 0., 0., 0., 0., 0.,\n",
       "          0., 0., 0., 0., 0., 0., 0., 0., 0., 0., 0., 0., 0., 0., 0., 0., 0., 0.,\n",
       "          0., 0., 0., 0., 0., 0., 0., 0., 0., 0., 0., 0., 0., 0., 0., 0., 0., 0.,\n",
       "          0., 0., 0., 0., 0., 0., 0., 0., 0., 0., 0., 0., 0., 0., 0., 0., 0., 0.,\n",
       "          0., 0., 0., 0., 0., 0., 0., 0., 0., 0., 0., 0., 0., 0., 0., 0., 0., 0.,\n",
       "          0., 0., 0., 0., 0., 0., 0., 0., 0., 0., 0., 0., 0., 0., 0., 0., 0., 0.,\n",
       "          0., 0., 0., 0., 0., 0., 0., 0., 0., 0., 0., 0., 0., 0., 0., 0., 0., 0.,\n",
       "          0., 0., 0., 0., 0., 0., 0., 0., 0., 0., 0., 0., 0., 0., 0., 0., 0., 0.,\n",
       "          0., 0., 0., 0., 0., 0., 0., 0., 0., 0., 0., 0., 0., 0., 0., 0., 0., 0.,\n",
       "          0., 0., 0., 0., 0., 0., 0., 0., 0., 0., 0., 0., 0., 0., 0., 0., 0., 0.,\n",
       "          0., 0., 0., 0., 0., 0., 0., 0., 0., 0., 0., 0., 0., 0., 0., 0., 0., 0.,\n",
       "          0., 0., 0., 0., 0., 0., 0., 0., 0., 0., 0., 0., 0., 0., 0., 0., 0., 0.,\n",
       "          0., 0., 0., 0., 0., 0., 0., 0., 0., 0., 0., 0., 0., 0., 0., 0., 0., 0.]),\n",
       "  'id': 'custom',\n",
       "  'reward': 1},\n",
       " {'current_state': tensor([268, 267, 228,  24,  30]),\n",
       "  'target_string': 'What is 17+5?22[EOS]',\n",
       "  'pi': tensor([0., 0., 0., 0., 0., 0., 0., 0., 0., 0., 0., 0., 0., 0., 0., 0., 0., 0.,\n",
       "          1., 0., 0., 0., 0., 0., 0., 0., 0., 0., 0., 0., 0., 0., 0., 0., 0., 0.,\n",
       "          0., 0., 0., 0., 0., 0., 0., 0., 0., 0., 0., 0., 0., 0., 0., 0., 0., 0.,\n",
       "          0., 0., 0., 0., 0., 0., 0., 0., 0., 0., 0., 0., 0., 0., 0., 0., 0., 0.,\n",
       "          0., 0., 0., 0., 0., 0., 0., 0., 0., 0., 0., 0., 0., 0., 0., 0., 0., 0.,\n",
       "          0., 0., 0., 0., 0., 0., 0., 0., 0., 0., 0., 0., 0., 0., 0., 0., 0., 0.,\n",
       "          0., 0., 0., 0., 0., 0., 0., 0., 0., 0., 0., 0., 0., 0., 0., 0., 0., 0.,\n",
       "          0., 0., 0., 0., 0., 0., 0., 0., 0., 0., 0., 0., 0., 0., 0., 0., 0., 0.,\n",
       "          0., 0., 0., 0., 0., 0., 0., 0., 0., 0., 0., 0., 0., 0., 0., 0., 0., 0.,\n",
       "          0., 0., 0., 0., 0., 0., 0., 0., 0., 0., 0., 0., 0., 0., 0., 0., 0., 0.,\n",
       "          0., 0., 0., 0., 0., 0., 0., 0., 0., 0., 0., 0., 0., 0., 0., 0., 0., 0.,\n",
       "          0., 0., 0., 0., 0., 0., 0., 0., 0., 0., 0., 0., 0., 0., 0., 0., 0., 0.,\n",
       "          0., 0., 0., 0., 0., 0., 0., 0., 0., 0., 0., 0., 0., 0., 0., 0., 0., 0.,\n",
       "          0., 0., 0., 0., 0., 0., 0., 0., 0., 0., 0., 0., 0., 0., 0., 0., 0., 0.,\n",
       "          0., 0., 0., 0., 0., 0., 0., 0., 0., 0., 0., 0., 0., 0., 0., 0., 0., 0.]),\n",
       "  'id': 'custom',\n",
       "  'reward': 1},\n",
       " {'current_state': tensor([268, 267, 228,  24,  30,  18]),\n",
       "  'target_string': 'What is 17+5?22[EOS]',\n",
       "  'pi': tensor([0., 0., 0., 0., 0., 0., 0., 0., 0., 0., 0., 0., 0., 0., 0., 0., 0., 0.,\n",
       "          0., 0., 0., 0., 0., 0., 0., 0., 0., 0., 1., 0., 0., 0., 0., 0., 0., 0.,\n",
       "          0., 0., 0., 0., 0., 0., 0., 0., 0., 0., 0., 0., 0., 0., 0., 0., 0., 0.,\n",
       "          0., 0., 0., 0., 0., 0., 0., 0., 0., 0., 0., 0., 0., 0., 0., 0., 0., 0.,\n",
       "          0., 0., 0., 0., 0., 0., 0., 0., 0., 0., 0., 0., 0., 0., 0., 0., 0., 0.,\n",
       "          0., 0., 0., 0., 0., 0., 0., 0., 0., 0., 0., 0., 0., 0., 0., 0., 0., 0.,\n",
       "          0., 0., 0., 0., 0., 0., 0., 0., 0., 0., 0., 0., 0., 0., 0., 0., 0., 0.,\n",
       "          0., 0., 0., 0., 0., 0., 0., 0., 0., 0., 0., 0., 0., 0., 0., 0., 0., 0.,\n",
       "          0., 0., 0., 0., 0., 0., 0., 0., 0., 0., 0., 0., 0., 0., 0., 0., 0., 0.,\n",
       "          0., 0., 0., 0., 0., 0., 0., 0., 0., 0., 0., 0., 0., 0., 0., 0., 0., 0.,\n",
       "          0., 0., 0., 0., 0., 0., 0., 0., 0., 0., 0., 0., 0., 0., 0., 0., 0., 0.,\n",
       "          0., 0., 0., 0., 0., 0., 0., 0., 0., 0., 0., 0., 0., 0., 0., 0., 0., 0.,\n",
       "          0., 0., 0., 0., 0., 0., 0., 0., 0., 0., 0., 0., 0., 0., 0., 0., 0., 0.,\n",
       "          0., 0., 0., 0., 0., 0., 0., 0., 0., 0., 0., 0., 0., 0., 0., 0., 0., 0.,\n",
       "          0., 0., 0., 0., 0., 0., 0., 0., 0., 0., 0., 0., 0., 0., 0., 0., 0., 0.]),\n",
       "  'id': 'custom',\n",
       "  'reward': 1},\n",
       " {'current_state': tensor([268, 267, 228,  24,  30,  18,  28]),\n",
       "  'target_string': 'What is 17+5?22[EOS]',\n",
       "  'pi': tensor([0., 0., 0., 0., 0., 0., 0., 0., 0., 0., 0., 0., 0., 0., 0., 0., 0., 0.,\n",
       "          0., 0., 0., 0., 0., 0., 0., 0., 0., 0., 0., 0., 0., 0., 0., 0., 0., 0.,\n",
       "          0., 0., 1., 0., 0., 0., 0., 0., 0., 0., 0., 0., 0., 0., 0., 0., 0., 0.,\n",
       "          0., 0., 0., 0., 0., 0., 0., 0., 0., 0., 0., 0., 0., 0., 0., 0., 0., 0.,\n",
       "          0., 0., 0., 0., 0., 0., 0., 0., 0., 0., 0., 0., 0., 0., 0., 0., 0., 0.,\n",
       "          0., 0., 0., 0., 0., 0., 0., 0., 0., 0., 0., 0., 0., 0., 0., 0., 0., 0.,\n",
       "          0., 0., 0., 0., 0., 0., 0., 0., 0., 0., 0., 0., 0., 0., 0., 0., 0., 0.,\n",
       "          0., 0., 0., 0., 0., 0., 0., 0., 0., 0., 0., 0., 0., 0., 0., 0., 0., 0.,\n",
       "          0., 0., 0., 0., 0., 0., 0., 0., 0., 0., 0., 0., 0., 0., 0., 0., 0., 0.,\n",
       "          0., 0., 0., 0., 0., 0., 0., 0., 0., 0., 0., 0., 0., 0., 0., 0., 0., 0.,\n",
       "          0., 0., 0., 0., 0., 0., 0., 0., 0., 0., 0., 0., 0., 0., 0., 0., 0., 0.,\n",
       "          0., 0., 0., 0., 0., 0., 0., 0., 0., 0., 0., 0., 0., 0., 0., 0., 0., 0.,\n",
       "          0., 0., 0., 0., 0., 0., 0., 0., 0., 0., 0., 0., 0., 0., 0., 0., 0., 0.,\n",
       "          0., 0., 0., 0., 0., 0., 0., 0., 0., 0., 0., 0., 0., 0., 0., 0., 0., 0.,\n",
       "          0., 0., 0., 0., 0., 0., 0., 0., 0., 0., 0., 0., 0., 0., 0., 0., 0., 0.]),\n",
       "  'id': 'custom',\n",
       "  'reward': 1},\n",
       " {'current_state': tensor([268, 267, 228,  24,  30,  18,  28,  38]),\n",
       "  'target_string': 'What is 17+5?22[EOS]',\n",
       "  'pi': tensor([0., 0., 0., 0., 0., 1., 0., 0., 0., 0., 0., 0., 0., 0., 0., 0., 0., 0.,\n",
       "          0., 0., 0., 0., 0., 0., 0., 0., 0., 0., 0., 0., 0., 0., 0., 0., 0., 0.,\n",
       "          0., 0., 0., 0., 0., 0., 0., 0., 0., 0., 0., 0., 0., 0., 0., 0., 0., 0.,\n",
       "          0., 0., 0., 0., 0., 0., 0., 0., 0., 0., 0., 0., 0., 0., 0., 0., 0., 0.,\n",
       "          0., 0., 0., 0., 0., 0., 0., 0., 0., 0., 0., 0., 0., 0., 0., 0., 0., 0.,\n",
       "          0., 0., 0., 0., 0., 0., 0., 0., 0., 0., 0., 0., 0., 0., 0., 0., 0., 0.,\n",
       "          0., 0., 0., 0., 0., 0., 0., 0., 0., 0., 0., 0., 0., 0., 0., 0., 0., 0.,\n",
       "          0., 0., 0., 0., 0., 0., 0., 0., 0., 0., 0., 0., 0., 0., 0., 0., 0., 0.,\n",
       "          0., 0., 0., 0., 0., 0., 0., 0., 0., 0., 0., 0., 0., 0., 0., 0., 0., 0.,\n",
       "          0., 0., 0., 0., 0., 0., 0., 0., 0., 0., 0., 0., 0., 0., 0., 0., 0., 0.,\n",
       "          0., 0., 0., 0., 0., 0., 0., 0., 0., 0., 0., 0., 0., 0., 0., 0., 0., 0.,\n",
       "          0., 0., 0., 0., 0., 0., 0., 0., 0., 0., 0., 0., 0., 0., 0., 0., 0., 0.,\n",
       "          0., 0., 0., 0., 0., 0., 0., 0., 0., 0., 0., 0., 0., 0., 0., 0., 0., 0.,\n",
       "          0., 0., 0., 0., 0., 0., 0., 0., 0., 0., 0., 0., 0., 0., 0., 0., 0., 0.,\n",
       "          0., 0., 0., 0., 0., 0., 0., 0., 0., 0., 0., 0., 0., 0., 0., 0., 0., 0.]),\n",
       "  'id': 'custom',\n",
       "  'reward': 1},\n",
       " {'current_state': tensor([268, 267, 228,  24,  30,  18,  28,  38,   5]),\n",
       "  'target_string': 'What is 17+5?22[EOS]',\n",
       "  'pi': tensor([0., 0., 0., 0., 0., 0., 0., 0., 0., 0., 0., 0., 0., 0., 0., 0., 0., 0.,\n",
       "          0., 0., 0., 0., 0., 0., 1., 0., 0., 0., 0., 0., 0., 0., 0., 0., 0., 0.,\n",
       "          0., 0., 0., 0., 0., 0., 0., 0., 0., 0., 0., 0., 0., 0., 0., 0., 0., 0.,\n",
       "          0., 0., 0., 0., 0., 0., 0., 0., 0., 0., 0., 0., 0., 0., 0., 0., 0., 0.,\n",
       "          0., 0., 0., 0., 0., 0., 0., 0., 0., 0., 0., 0., 0., 0., 0., 0., 0., 0.,\n",
       "          0., 0., 0., 0., 0., 0., 0., 0., 0., 0., 0., 0., 0., 0., 0., 0., 0., 0.,\n",
       "          0., 0., 0., 0., 0., 0., 0., 0., 0., 0., 0., 0., 0., 0., 0., 0., 0., 0.,\n",
       "          0., 0., 0., 0., 0., 0., 0., 0., 0., 0., 0., 0., 0., 0., 0., 0., 0., 0.,\n",
       "          0., 0., 0., 0., 0., 0., 0., 0., 0., 0., 0., 0., 0., 0., 0., 0., 0., 0.,\n",
       "          0., 0., 0., 0., 0., 0., 0., 0., 0., 0., 0., 0., 0., 0., 0., 0., 0., 0.,\n",
       "          0., 0., 0., 0., 0., 0., 0., 0., 0., 0., 0., 0., 0., 0., 0., 0., 0., 0.,\n",
       "          0., 0., 0., 0., 0., 0., 0., 0., 0., 0., 0., 0., 0., 0., 0., 0., 0., 0.,\n",
       "          0., 0., 0., 0., 0., 0., 0., 0., 0., 0., 0., 0., 0., 0., 0., 0., 0., 0.,\n",
       "          0., 0., 0., 0., 0., 0., 0., 0., 0., 0., 0., 0., 0., 0., 0., 0., 0., 0.,\n",
       "          0., 0., 0., 0., 0., 0., 0., 0., 0., 0., 0., 0., 0., 0., 0., 0., 0., 0.]),\n",
       "  'id': 'custom',\n",
       "  'reward': 1},\n",
       " {'current_state': tensor([268, 267, 228,  24,  30,  18,  28,  38,   5,  24]),\n",
       "  'target_string': 'What is 17+5?22[EOS]',\n",
       "  'pi': tensor([0., 0., 0., 0., 0., 0., 0., 0., 0., 0., 0., 0., 0., 0., 0., 0., 0., 0.,\n",
       "          0., 0., 0., 0., 0., 0., 0., 0., 0., 0., 0., 0., 1., 0., 0., 0., 0., 0.,\n",
       "          0., 0., 0., 0., 0., 0., 0., 0., 0., 0., 0., 0., 0., 0., 0., 0., 0., 0.,\n",
       "          0., 0., 0., 0., 0., 0., 0., 0., 0., 0., 0., 0., 0., 0., 0., 0., 0., 0.,\n",
       "          0., 0., 0., 0., 0., 0., 0., 0., 0., 0., 0., 0., 0., 0., 0., 0., 0., 0.,\n",
       "          0., 0., 0., 0., 0., 0., 0., 0., 0., 0., 0., 0., 0., 0., 0., 0., 0., 0.,\n",
       "          0., 0., 0., 0., 0., 0., 0., 0., 0., 0., 0., 0., 0., 0., 0., 0., 0., 0.,\n",
       "          0., 0., 0., 0., 0., 0., 0., 0., 0., 0., 0., 0., 0., 0., 0., 0., 0., 0.,\n",
       "          0., 0., 0., 0., 0., 0., 0., 0., 0., 0., 0., 0., 0., 0., 0., 0., 0., 0.,\n",
       "          0., 0., 0., 0., 0., 0., 0., 0., 0., 0., 0., 0., 0., 0., 0., 0., 0., 0.,\n",
       "          0., 0., 0., 0., 0., 0., 0., 0., 0., 0., 0., 0., 0., 0., 0., 0., 0., 0.,\n",
       "          0., 0., 0., 0., 0., 0., 0., 0., 0., 0., 0., 0., 0., 0., 0., 0., 0., 0.,\n",
       "          0., 0., 0., 0., 0., 0., 0., 0., 0., 0., 0., 0., 0., 0., 0., 0., 0., 0.,\n",
       "          0., 0., 0., 0., 0., 0., 0., 0., 0., 0., 0., 0., 0., 0., 0., 0., 0., 0.,\n",
       "          0., 0., 0., 0., 0., 0., 0., 0., 0., 0., 0., 0., 0., 0., 0., 0., 0., 0.]),\n",
       "  'id': 'custom',\n",
       "  'reward': 1},\n",
       " {'current_state': tensor([268, 267, 228,  24,  30,  18,  28,  38,   5,  24,  30]),\n",
       "  'target_string': 'What is 17+5?22[EOS]',\n",
       "  'pi': tensor([0., 0., 0., 0., 0., 0., 0., 0., 0., 0., 0., 0., 0., 0., 0., 0., 0., 0.,\n",
       "          1., 0., 0., 0., 0., 0., 0., 0., 0., 0., 0., 0., 0., 0., 0., 0., 0., 0.,\n",
       "          0., 0., 0., 0., 0., 0., 0., 0., 0., 0., 0., 0., 0., 0., 0., 0., 0., 0.,\n",
       "          0., 0., 0., 0., 0., 0., 0., 0., 0., 0., 0., 0., 0., 0., 0., 0., 0., 0.,\n",
       "          0., 0., 0., 0., 0., 0., 0., 0., 0., 0., 0., 0., 0., 0., 0., 0., 0., 0.,\n",
       "          0., 0., 0., 0., 0., 0., 0., 0., 0., 0., 0., 0., 0., 0., 0., 0., 0., 0.,\n",
       "          0., 0., 0., 0., 0., 0., 0., 0., 0., 0., 0., 0., 0., 0., 0., 0., 0., 0.,\n",
       "          0., 0., 0., 0., 0., 0., 0., 0., 0., 0., 0., 0., 0., 0., 0., 0., 0., 0.,\n",
       "          0., 0., 0., 0., 0., 0., 0., 0., 0., 0., 0., 0., 0., 0., 0., 0., 0., 0.,\n",
       "          0., 0., 0., 0., 0., 0., 0., 0., 0., 0., 0., 0., 0., 0., 0., 0., 0., 0.,\n",
       "          0., 0., 0., 0., 0., 0., 0., 0., 0., 0., 0., 0., 0., 0., 0., 0., 0., 0.,\n",
       "          0., 0., 0., 0., 0., 0., 0., 0., 0., 0., 0., 0., 0., 0., 0., 0., 0., 0.,\n",
       "          0., 0., 0., 0., 0., 0., 0., 0., 0., 0., 0., 0., 0., 0., 0., 0., 0., 0.,\n",
       "          0., 0., 0., 0., 0., 0., 0., 0., 0., 0., 0., 0., 0., 0., 0., 0., 0., 0.,\n",
       "          0., 0., 0., 0., 0., 0., 0., 0., 0., 0., 0., 0., 0., 0., 0., 0., 0., 0.]),\n",
       "  'id': 'custom',\n",
       "  'reward': 1},\n",
       " {'current_state': tensor([268, 267, 228,  24,  30,  18,  28,  38,   5,  24,  30,  18]),\n",
       "  'target_string': 'What is 17+5?22[EOS]',\n",
       "  'pi': tensor([0., 0., 0., 0., 0., 0., 0., 0., 0., 0., 0., 0., 0., 0., 0., 0., 0., 0.,\n",
       "          0., 0., 0., 0., 0., 0., 0., 0., 0., 0., 1., 0., 0., 0., 0., 0., 0., 0.,\n",
       "          0., 0., 0., 0., 0., 0., 0., 0., 0., 0., 0., 0., 0., 0., 0., 0., 0., 0.,\n",
       "          0., 0., 0., 0., 0., 0., 0., 0., 0., 0., 0., 0., 0., 0., 0., 0., 0., 0.,\n",
       "          0., 0., 0., 0., 0., 0., 0., 0., 0., 0., 0., 0., 0., 0., 0., 0., 0., 0.,\n",
       "          0., 0., 0., 0., 0., 0., 0., 0., 0., 0., 0., 0., 0., 0., 0., 0., 0., 0.,\n",
       "          0., 0., 0., 0., 0., 0., 0., 0., 0., 0., 0., 0., 0., 0., 0., 0., 0., 0.,\n",
       "          0., 0., 0., 0., 0., 0., 0., 0., 0., 0., 0., 0., 0., 0., 0., 0., 0., 0.,\n",
       "          0., 0., 0., 0., 0., 0., 0., 0., 0., 0., 0., 0., 0., 0., 0., 0., 0., 0.,\n",
       "          0., 0., 0., 0., 0., 0., 0., 0., 0., 0., 0., 0., 0., 0., 0., 0., 0., 0.,\n",
       "          0., 0., 0., 0., 0., 0., 0., 0., 0., 0., 0., 0., 0., 0., 0., 0., 0., 0.,\n",
       "          0., 0., 0., 0., 0., 0., 0., 0., 0., 0., 0., 0., 0., 0., 0., 0., 0., 0.,\n",
       "          0., 0., 0., 0., 0., 0., 0., 0., 0., 0., 0., 0., 0., 0., 0., 0., 0., 0.,\n",
       "          0., 0., 0., 0., 0., 0., 0., 0., 0., 0., 0., 0., 0., 0., 0., 0., 0., 0.,\n",
       "          0., 0., 0., 0., 0., 0., 0., 0., 0., 0., 0., 0., 0., 0., 0., 0., 0., 0.]),\n",
       "  'id': 'custom',\n",
       "  'reward': 1},\n",
       " {'current_state': tensor([268, 267, 228,  24,  30,  18,  28,  38,   5,  24,  30,  18,  28]),\n",
       "  'target_string': 'What is 17+5?22[EOS]',\n",
       "  'pi': tensor([0., 0., 0., 0., 0., 0., 0., 1., 0., 0., 0., 0., 0., 0., 0., 0., 0., 0.,\n",
       "          0., 0., 0., 0., 0., 0., 0., 0., 0., 0., 0., 0., 0., 0., 0., 0., 0., 0.,\n",
       "          0., 0., 0., 0., 0., 0., 0., 0., 0., 0., 0., 0., 0., 0., 0., 0., 0., 0.,\n",
       "          0., 0., 0., 0., 0., 0., 0., 0., 0., 0., 0., 0., 0., 0., 0., 0., 0., 0.,\n",
       "          0., 0., 0., 0., 0., 0., 0., 0., 0., 0., 0., 0., 0., 0., 0., 0., 0., 0.,\n",
       "          0., 0., 0., 0., 0., 0., 0., 0., 0., 0., 0., 0., 0., 0., 0., 0., 0., 0.,\n",
       "          0., 0., 0., 0., 0., 0., 0., 0., 0., 0., 0., 0., 0., 0., 0., 0., 0., 0.,\n",
       "          0., 0., 0., 0., 0., 0., 0., 0., 0., 0., 0., 0., 0., 0., 0., 0., 0., 0.,\n",
       "          0., 0., 0., 0., 0., 0., 0., 0., 0., 0., 0., 0., 0., 0., 0., 0., 0., 0.,\n",
       "          0., 0., 0., 0., 0., 0., 0., 0., 0., 0., 0., 0., 0., 0., 0., 0., 0., 0.,\n",
       "          0., 0., 0., 0., 0., 0., 0., 0., 0., 0., 0., 0., 0., 0., 0., 0., 0., 0.,\n",
       "          0., 0., 0., 0., 0., 0., 0., 0., 0., 0., 0., 0., 0., 0., 0., 0., 0., 0.,\n",
       "          0., 0., 0., 0., 0., 0., 0., 0., 0., 0., 0., 0., 0., 0., 0., 0., 0., 0.,\n",
       "          0., 0., 0., 0., 0., 0., 0., 0., 0., 0., 0., 0., 0., 0., 0., 0., 0., 0.,\n",
       "          0., 0., 0., 0., 0., 0., 0., 0., 0., 0., 0., 0., 0., 0., 0., 0., 0., 0.]),\n",
       "  'id': 'custom',\n",
       "  'reward': 1},\n",
       " {'current_state': tensor([268, 267, 228,  24,  30,  18,  28,  38,   5,  24,  30,  18,  28,   7,\n",
       "           25,  25,   4]),\n",
       "  'target_string': 'What is 17+5?22[EOS]',\n",
       "  'pi': tensor([0., 0., 0., 0., 0., 0., 1., 0., 0., 0., 0., 0., 0., 0., 0., 0., 0., 0.,\n",
       "          0., 0., 0., 0., 0., 0., 0., 0., 0., 0., 0., 0., 0., 0., 0., 0., 0., 0.,\n",
       "          0., 0., 0., 0., 0., 0., 0., 0., 0., 0., 0., 0., 0., 0., 0., 0., 0., 0.,\n",
       "          0., 0., 0., 0., 0., 0., 0., 0., 0., 0., 0., 0., 0., 0., 0., 0., 0., 0.,\n",
       "          0., 0., 0., 0., 0., 0., 0., 0., 0., 0., 0., 0., 0., 0., 0., 0., 0., 0.,\n",
       "          0., 0., 0., 0., 0., 0., 0., 0., 0., 0., 0., 0., 0., 0., 0., 0., 0., 0.,\n",
       "          0., 0., 0., 0., 0., 0., 0., 0., 0., 0., 0., 0., 0., 0., 0., 0., 0., 0.,\n",
       "          0., 0., 0., 0., 0., 0., 0., 0., 0., 0., 0., 0., 0., 0., 0., 0., 0., 0.,\n",
       "          0., 0., 0., 0., 0., 0., 0., 0., 0., 0., 0., 0., 0., 0., 0., 0., 0., 0.,\n",
       "          0., 0., 0., 0., 0., 0., 0., 0., 0., 0., 0., 0., 0., 0., 0., 0., 0., 0.,\n",
       "          0., 0., 0., 0., 0., 0., 0., 0., 0., 0., 0., 0., 0., 0., 0., 0., 0., 0.,\n",
       "          0., 0., 0., 0., 0., 0., 0., 0., 0., 0., 0., 0., 0., 0., 0., 0., 0., 0.,\n",
       "          0., 0., 0., 0., 0., 0., 0., 0., 0., 0., 0., 0., 0., 0., 0., 0., 0., 0.,\n",
       "          0., 0., 0., 0., 0., 0., 0., 0., 0., 0., 0., 0., 0., 0., 0., 0., 0., 0.,\n",
       "          0., 0., 0., 0., 0., 0., 0., 0., 0., 0., 0., 0., 0., 0., 0., 0., 0., 0.]),\n",
       "  'id': 'custom',\n",
       "  'reward': 1},\n",
       " {'current_state': tensor([268, 267, 228,  24,  30,  18,  28,  38,   5,  24,  30,  18,  28,   7,\n",
       "           25,  25,   4,   6]),\n",
       "  'target_string': 'What is 17+5?22[EOS]',\n",
       "  'pi': tensor([0., 0., 0., 0., 0., 0., 0., 0., 0., 0., 0., 0., 0., 0., 0., 0., 0., 0.,\n",
       "          0., 0., 0., 0., 0., 0., 0., 1., 0., 0., 0., 0., 0., 0., 0., 0., 0., 0.,\n",
       "          0., 0., 0., 0., 0., 0., 0., 0., 0., 0., 0., 0., 0., 0., 0., 0., 0., 0.,\n",
       "          0., 0., 0., 0., 0., 0., 0., 0., 0., 0., 0., 0., 0., 0., 0., 0., 0., 0.,\n",
       "          0., 0., 0., 0., 0., 0., 0., 0., 0., 0., 0., 0., 0., 0., 0., 0., 0., 0.,\n",
       "          0., 0., 0., 0., 0., 0., 0., 0., 0., 0., 0., 0., 0., 0., 0., 0., 0., 0.,\n",
       "          0., 0., 0., 0., 0., 0., 0., 0., 0., 0., 0., 0., 0., 0., 0., 0., 0., 0.,\n",
       "          0., 0., 0., 0., 0., 0., 0., 0., 0., 0., 0., 0., 0., 0., 0., 0., 0., 0.,\n",
       "          0., 0., 0., 0., 0., 0., 0., 0., 0., 0., 0., 0., 0., 0., 0., 0., 0., 0.,\n",
       "          0., 0., 0., 0., 0., 0., 0., 0., 0., 0., 0., 0., 0., 0., 0., 0., 0., 0.,\n",
       "          0., 0., 0., 0., 0., 0., 0., 0., 0., 0., 0., 0., 0., 0., 0., 0., 0., 0.,\n",
       "          0., 0., 0., 0., 0., 0., 0., 0., 0., 0., 0., 0., 0., 0., 0., 0., 0., 0.,\n",
       "          0., 0., 0., 0., 0., 0., 0., 0., 0., 0., 0., 0., 0., 0., 0., 0., 0., 0.,\n",
       "          0., 0., 0., 0., 0., 0., 0., 0., 0., 0., 0., 0., 0., 0., 0., 0., 0., 0.,\n",
       "          0., 0., 0., 0., 0., 0., 0., 0., 0., 0., 0., 0., 0., 0., 0., 0., 0., 0.]),\n",
       "  'id': 'custom',\n",
       "  'reward': 1},\n",
       " {'current_state': tensor([268, 267, 228,  24,  30,  18,  28,  38,   5,  24,  30,  18,  28,   7,\n",
       "           25,  25,   4,   6,  25]),\n",
       "  'target_string': 'What is 17+5?22[EOS]',\n",
       "  'pi': tensor([0., 0., 0., 0., 0., 0., 0., 0., 0., 0., 0., 0., 0., 0., 0., 0., 0., 0.,\n",
       "          0., 0., 0., 0., 0., 0., 0., 1., 0., 0., 0., 0., 0., 0., 0., 0., 0., 0.,\n",
       "          0., 0., 0., 0., 0., 0., 0., 0., 0., 0., 0., 0., 0., 0., 0., 0., 0., 0.,\n",
       "          0., 0., 0., 0., 0., 0., 0., 0., 0., 0., 0., 0., 0., 0., 0., 0., 0., 0.,\n",
       "          0., 0., 0., 0., 0., 0., 0., 0., 0., 0., 0., 0., 0., 0., 0., 0., 0., 0.,\n",
       "          0., 0., 0., 0., 0., 0., 0., 0., 0., 0., 0., 0., 0., 0., 0., 0., 0., 0.,\n",
       "          0., 0., 0., 0., 0., 0., 0., 0., 0., 0., 0., 0., 0., 0., 0., 0., 0., 0.,\n",
       "          0., 0., 0., 0., 0., 0., 0., 0., 0., 0., 0., 0., 0., 0., 0., 0., 0., 0.,\n",
       "          0., 0., 0., 0., 0., 0., 0., 0., 0., 0., 0., 0., 0., 0., 0., 0., 0., 0.,\n",
       "          0., 0., 0., 0., 0., 0., 0., 0., 0., 0., 0., 0., 0., 0., 0., 0., 0., 0.,\n",
       "          0., 0., 0., 0., 0., 0., 0., 0., 0., 0., 0., 0., 0., 0., 0., 0., 0., 0.,\n",
       "          0., 0., 0., 0., 0., 0., 0., 0., 0., 0., 0., 0., 0., 0., 0., 0., 0., 0.,\n",
       "          0., 0., 0., 0., 0., 0., 0., 0., 0., 0., 0., 0., 0., 0., 0., 0., 0., 0.,\n",
       "          0., 0., 0., 0., 0., 0., 0., 0., 0., 0., 0., 0., 0., 0., 0., 0., 0., 0.,\n",
       "          0., 0., 0., 0., 0., 0., 0., 0., 0., 0., 0., 0., 0., 0., 0., 0., 0., 0.]),\n",
       "  'id': 'custom',\n",
       "  'reward': 1},\n",
       " {'current_state': tensor([268, 267, 228,  24,  30,  18,  28,  38,   5,  24,  30,  18,  28,   7,\n",
       "           25,  25,   4,   6,  25,  25]),\n",
       "  'target_string': 'What is 17+5?22[EOS]',\n",
       "  'pi': tensor([0., 1., 0., 0., 0., 0., 0., 0., 0., 0., 0., 0., 0., 0., 0., 0., 0., 0.,\n",
       "          0., 0., 0., 0., 0., 0., 0., 0., 0., 0., 0., 0., 0., 0., 0., 0., 0., 0.,\n",
       "          0., 0., 0., 0., 0., 0., 0., 0., 0., 0., 0., 0., 0., 0., 0., 0., 0., 0.,\n",
       "          0., 0., 0., 0., 0., 0., 0., 0., 0., 0., 0., 0., 0., 0., 0., 0., 0., 0.,\n",
       "          0., 0., 0., 0., 0., 0., 0., 0., 0., 0., 0., 0., 0., 0., 0., 0., 0., 0.,\n",
       "          0., 0., 0., 0., 0., 0., 0., 0., 0., 0., 0., 0., 0., 0., 0., 0., 0., 0.,\n",
       "          0., 0., 0., 0., 0., 0., 0., 0., 0., 0., 0., 0., 0., 0., 0., 0., 0., 0.,\n",
       "          0., 0., 0., 0., 0., 0., 0., 0., 0., 0., 0., 0., 0., 0., 0., 0., 0., 0.,\n",
       "          0., 0., 0., 0., 0., 0., 0., 0., 0., 0., 0., 0., 0., 0., 0., 0., 0., 0.,\n",
       "          0., 0., 0., 0., 0., 0., 0., 0., 0., 0., 0., 0., 0., 0., 0., 0., 0., 0.,\n",
       "          0., 0., 0., 0., 0., 0., 0., 0., 0., 0., 0., 0., 0., 0., 0., 0., 0., 0.,\n",
       "          0., 0., 0., 0., 0., 0., 0., 0., 0., 0., 0., 0., 0., 0., 0., 0., 0., 0.,\n",
       "          0., 0., 0., 0., 0., 0., 0., 0., 0., 0., 0., 0., 0., 0., 0., 0., 0., 0.,\n",
       "          0., 0., 0., 0., 0., 0., 0., 0., 0., 0., 0., 0., 0., 0., 0., 0., 0., 0.,\n",
       "          0., 0., 0., 0., 0., 0., 0., 0., 0., 0., 0., 0., 0., 0., 0., 0., 0., 0.]),\n",
       "  'id': 'custom',\n",
       "  'reward': 1},\n",
       " {'current_state': tensor([], dtype=torch.int64),\n",
       "  'target_string': 'What is 22+1?23[EOS]',\n",
       "  'pi': tensor([0., 0., 0., 0., 0., 0., 0., 0., 0., 0., 0., 0., 0., 0., 0., 0., 0., 0.,\n",
       "          0., 0., 0., 0., 0., 0., 0., 0., 0., 0., 0., 0., 0., 0., 0., 0., 0., 0.,\n",
       "          0., 0., 0., 0., 0., 0., 0., 0., 0., 0., 0., 0., 0., 0., 0., 0., 0., 0.,\n",
       "          0., 0., 0., 0., 0., 0., 0., 0., 0., 0., 0., 0., 0., 0., 0., 0., 0., 0.,\n",
       "          0., 0., 0., 0., 0., 0., 0., 0., 0., 0., 0., 0., 0., 0., 0., 0., 0., 0.,\n",
       "          0., 0., 0., 0., 0., 0., 0., 0., 0., 0., 0., 0., 0., 0., 0., 0., 0., 0.,\n",
       "          0., 0., 0., 0., 0., 0., 0., 0., 0., 0., 0., 0., 0., 0., 0., 0., 0., 0.,\n",
       "          0., 0., 0., 0., 0., 0., 0., 0., 0., 0., 0., 0., 0., 0., 0., 0., 0., 0.,\n",
       "          0., 0., 0., 0., 0., 0., 0., 0., 0., 0., 0., 0., 0., 0., 0., 0., 0., 0.,\n",
       "          0., 0., 0., 0., 0., 0., 0., 0., 0., 0., 0., 0., 0., 0., 0., 0., 0., 0.,\n",
       "          0., 0., 0., 0., 0., 0., 0., 0., 0., 0., 0., 0., 0., 0., 0., 0., 0., 0.,\n",
       "          0., 0., 0., 0., 0., 0., 0., 0., 0., 0., 0., 0., 0., 0., 0., 0., 0., 0.,\n",
       "          0., 0., 0., 0., 0., 0., 0., 0., 0., 0., 0., 0., 0., 0., 0., 0., 0., 0.,\n",
       "          0., 0., 0., 0., 0., 0., 0., 0., 0., 0., 0., 0., 0., 0., 0., 0., 0., 0.,\n",
       "          0., 0., 0., 0., 0., 0., 0., 0., 0., 0., 0., 0., 0., 0., 0., 0., 1., 0.]),\n",
       "  'id': 'custom',\n",
       "  'reward': 1},\n",
       " {'current_state': tensor([268]),\n",
       "  'target_string': 'What is 22+1?23[EOS]',\n",
       "  'pi': tensor([0., 0., 0., 0., 0., 0., 0., 0., 0., 0., 0., 0., 0., 0., 0., 0., 0., 0.,\n",
       "          0., 0., 0., 0., 0., 0., 0., 0., 0., 0., 0., 0., 0., 0., 0., 0., 0., 0.,\n",
       "          0., 0., 0., 0., 0., 0., 0., 0., 0., 0., 0., 0., 0., 0., 0., 0., 0., 0.,\n",
       "          0., 0., 0., 0., 0., 0., 0., 0., 0., 0., 0., 0., 0., 0., 0., 0., 0., 0.,\n",
       "          0., 0., 0., 0., 0., 0., 0., 0., 0., 0., 0., 0., 0., 0., 0., 0., 0., 0.,\n",
       "          0., 0., 0., 0., 0., 0., 0., 0., 0., 0., 0., 0., 0., 0., 0., 0., 0., 0.,\n",
       "          0., 0., 0., 0., 0., 0., 0., 0., 0., 0., 0., 0., 0., 0., 0., 0., 0., 0.,\n",
       "          0., 0., 0., 0., 0., 0., 0., 0., 0., 0., 0., 0., 0., 0., 0., 0., 0., 0.,\n",
       "          0., 0., 0., 0., 0., 0., 0., 0., 0., 0., 0., 0., 0., 0., 0., 0., 0., 0.,\n",
       "          0., 0., 0., 0., 0., 0., 0., 0., 0., 0., 0., 0., 0., 0., 0., 0., 0., 0.,\n",
       "          0., 0., 0., 0., 0., 0., 0., 0., 0., 0., 0., 0., 0., 0., 0., 0., 0., 0.,\n",
       "          0., 0., 0., 0., 0., 0., 0., 0., 0., 0., 0., 0., 0., 0., 0., 0., 0., 0.,\n",
       "          0., 0., 0., 0., 0., 0., 0., 0., 0., 0., 0., 0., 0., 0., 0., 0., 0., 0.,\n",
       "          0., 0., 0., 0., 0., 0., 0., 0., 0., 0., 0., 0., 0., 0., 0., 0., 0., 0.,\n",
       "          0., 0., 0., 0., 0., 0., 0., 0., 0., 0., 0., 0., 0., 0., 0., 1., 0., 0.]),\n",
       "  'id': 'custom',\n",
       "  'reward': 1},\n",
       " {'current_state': tensor([268, 267]),\n",
       "  'target_string': 'What is 22+1?23[EOS]',\n",
       "  'pi': tensor([0., 0., 0., 0., 0., 0., 0., 0., 0., 0., 0., 0., 0., 0., 0., 0., 0., 0.,\n",
       "          0., 0., 0., 0., 0., 0., 0., 0., 0., 0., 0., 0., 0., 0., 0., 0., 0., 0.,\n",
       "          0., 0., 0., 0., 0., 0., 0., 0., 0., 0., 0., 0., 0., 0., 0., 0., 0., 0.,\n",
       "          0., 0., 0., 0., 0., 0., 0., 0., 0., 0., 0., 0., 0., 0., 0., 0., 0., 0.,\n",
       "          0., 0., 0., 0., 0., 0., 0., 0., 0., 0., 0., 0., 0., 0., 0., 0., 0., 0.,\n",
       "          0., 0., 0., 0., 0., 0., 0., 0., 0., 0., 0., 0., 0., 0., 0., 0., 0., 0.,\n",
       "          0., 0., 0., 0., 0., 0., 0., 0., 0., 0., 0., 0., 0., 0., 0., 0., 0., 0.,\n",
       "          0., 0., 0., 0., 0., 0., 0., 0., 0., 0., 0., 0., 0., 0., 0., 0., 0., 0.,\n",
       "          0., 0., 0., 0., 0., 0., 0., 0., 0., 0., 0., 0., 0., 0., 0., 0., 0., 0.,\n",
       "          0., 0., 0., 0., 0., 0., 0., 0., 0., 0., 0., 0., 0., 0., 0., 0., 0., 0.,\n",
       "          0., 0., 0., 0., 0., 0., 0., 0., 0., 0., 0., 0., 0., 0., 0., 0., 0., 0.,\n",
       "          0., 0., 0., 0., 0., 0., 0., 0., 0., 0., 0., 0., 0., 0., 0., 0., 0., 0.,\n",
       "          0., 0., 0., 0., 0., 0., 0., 0., 0., 0., 0., 0., 1., 0., 0., 0., 0., 0.,\n",
       "          0., 0., 0., 0., 0., 0., 0., 0., 0., 0., 0., 0., 0., 0., 0., 0., 0., 0.,\n",
       "          0., 0., 0., 0., 0., 0., 0., 0., 0., 0., 0., 0., 0., 0., 0., 0., 0., 0.]),\n",
       "  'id': 'custom',\n",
       "  'reward': 1},\n",
       " {'current_state': tensor([268, 267, 228]),\n",
       "  'target_string': 'What is 22+1?23[EOS]',\n",
       "  'pi': tensor([0., 0., 0., 0., 0., 0., 0., 0., 0., 0., 0., 0., 0., 0., 0., 0., 0., 0.,\n",
       "          0., 0., 0., 0., 0., 0., 0., 1., 0., 0., 0., 0., 0., 0., 0., 0., 0., 0.,\n",
       "          0., 0., 0., 0., 0., 0., 0., 0., 0., 0., 0., 0., 0., 0., 0., 0., 0., 0.,\n",
       "          0., 0., 0., 0., 0., 0., 0., 0., 0., 0., 0., 0., 0., 0., 0., 0., 0., 0.,\n",
       "          0., 0., 0., 0., 0., 0., 0., 0., 0., 0., 0., 0., 0., 0., 0., 0., 0., 0.,\n",
       "          0., 0., 0., 0., 0., 0., 0., 0., 0., 0., 0., 0., 0., 0., 0., 0., 0., 0.,\n",
       "          0., 0., 0., 0., 0., 0., 0., 0., 0., 0., 0., 0., 0., 0., 0., 0., 0., 0.,\n",
       "          0., 0., 0., 0., 0., 0., 0., 0., 0., 0., 0., 0., 0., 0., 0., 0., 0., 0.,\n",
       "          0., 0., 0., 0., 0., 0., 0., 0., 0., 0., 0., 0., 0., 0., 0., 0., 0., 0.,\n",
       "          0., 0., 0., 0., 0., 0., 0., 0., 0., 0., 0., 0., 0., 0., 0., 0., 0., 0.,\n",
       "          0., 0., 0., 0., 0., 0., 0., 0., 0., 0., 0., 0., 0., 0., 0., 0., 0., 0.,\n",
       "          0., 0., 0., 0., 0., 0., 0., 0., 0., 0., 0., 0., 0., 0., 0., 0., 0., 0.,\n",
       "          0., 0., 0., 0., 0., 0., 0., 0., 0., 0., 0., 0., 0., 0., 0., 0., 0., 0.,\n",
       "          0., 0., 0., 0., 0., 0., 0., 0., 0., 0., 0., 0., 0., 0., 0., 0., 0., 0.,\n",
       "          0., 0., 0., 0., 0., 0., 0., 0., 0., 0., 0., 0., 0., 0., 0., 0., 0., 0.]),\n",
       "  'id': 'custom',\n",
       "  'reward': 1},\n",
       " {'current_state': tensor([268, 267, 228,  25]),\n",
       "  'target_string': 'What is 22+1?23[EOS]',\n",
       "  'pi': tensor([0., 0., 0., 0., 0., 0., 0., 0., 0., 0., 0., 0., 0., 0., 0., 0., 0., 0.,\n",
       "          0., 0., 0., 0., 0., 0., 0., 1., 0., 0., 0., 0., 0., 0., 0., 0., 0., 0.,\n",
       "          0., 0., 0., 0., 0., 0., 0., 0., 0., 0., 0., 0., 0., 0., 0., 0., 0., 0.,\n",
       "          0., 0., 0., 0., 0., 0., 0., 0., 0., 0., 0., 0., 0., 0., 0., 0., 0., 0.,\n",
       "          0., 0., 0., 0., 0., 0., 0., 0., 0., 0., 0., 0., 0., 0., 0., 0., 0., 0.,\n",
       "          0., 0., 0., 0., 0., 0., 0., 0., 0., 0., 0., 0., 0., 0., 0., 0., 0., 0.,\n",
       "          0., 0., 0., 0., 0., 0., 0., 0., 0., 0., 0., 0., 0., 0., 0., 0., 0., 0.,\n",
       "          0., 0., 0., 0., 0., 0., 0., 0., 0., 0., 0., 0., 0., 0., 0., 0., 0., 0.,\n",
       "          0., 0., 0., 0., 0., 0., 0., 0., 0., 0., 0., 0., 0., 0., 0., 0., 0., 0.,\n",
       "          0., 0., 0., 0., 0., 0., 0., 0., 0., 0., 0., 0., 0., 0., 0., 0., 0., 0.,\n",
       "          0., 0., 0., 0., 0., 0., 0., 0., 0., 0., 0., 0., 0., 0., 0., 0., 0., 0.,\n",
       "          0., 0., 0., 0., 0., 0., 0., 0., 0., 0., 0., 0., 0., 0., 0., 0., 0., 0.,\n",
       "          0., 0., 0., 0., 0., 0., 0., 0., 0., 0., 0., 0., 0., 0., 0., 0., 0., 0.,\n",
       "          0., 0., 0., 0., 0., 0., 0., 0., 0., 0., 0., 0., 0., 0., 0., 0., 0., 0.,\n",
       "          0., 0., 0., 0., 0., 0., 0., 0., 0., 0., 0., 0., 0., 0., 0., 0., 0., 0.]),\n",
       "  'id': 'custom',\n",
       "  'reward': 1},\n",
       " {'current_state': tensor([268, 267, 228,  25,  25]),\n",
       "  'target_string': 'What is 22+1?23[EOS]',\n",
       "  'pi': tensor([0., 0., 0., 0., 0., 0., 0., 0., 0., 0., 0., 0., 0., 0., 0., 0., 0., 0.,\n",
       "          1., 0., 0., 0., 0., 0., 0., 0., 0., 0., 0., 0., 0., 0., 0., 0., 0., 0.,\n",
       "          0., 0., 0., 0., 0., 0., 0., 0., 0., 0., 0., 0., 0., 0., 0., 0., 0., 0.,\n",
       "          0., 0., 0., 0., 0., 0., 0., 0., 0., 0., 0., 0., 0., 0., 0., 0., 0., 0.,\n",
       "          0., 0., 0., 0., 0., 0., 0., 0., 0., 0., 0., 0., 0., 0., 0., 0., 0., 0.,\n",
       "          0., 0., 0., 0., 0., 0., 0., 0., 0., 0., 0., 0., 0., 0., 0., 0., 0., 0.,\n",
       "          0., 0., 0., 0., 0., 0., 0., 0., 0., 0., 0., 0., 0., 0., 0., 0., 0., 0.,\n",
       "          0., 0., 0., 0., 0., 0., 0., 0., 0., 0., 0., 0., 0., 0., 0., 0., 0., 0.,\n",
       "          0., 0., 0., 0., 0., 0., 0., 0., 0., 0., 0., 0., 0., 0., 0., 0., 0., 0.,\n",
       "          0., 0., 0., 0., 0., 0., 0., 0., 0., 0., 0., 0., 0., 0., 0., 0., 0., 0.,\n",
       "          0., 0., 0., 0., 0., 0., 0., 0., 0., 0., 0., 0., 0., 0., 0., 0., 0., 0.,\n",
       "          0., 0., 0., 0., 0., 0., 0., 0., 0., 0., 0., 0., 0., 0., 0., 0., 0., 0.,\n",
       "          0., 0., 0., 0., 0., 0., 0., 0., 0., 0., 0., 0., 0., 0., 0., 0., 0., 0.,\n",
       "          0., 0., 0., 0., 0., 0., 0., 0., 0., 0., 0., 0., 0., 0., 0., 0., 0., 0.,\n",
       "          0., 0., 0., 0., 0., 0., 0., 0., 0., 0., 0., 0., 0., 0., 0., 0., 0., 0.]),\n",
       "  'id': 'custom',\n",
       "  'reward': 1},\n",
       " {'current_state': tensor([268, 267, 228,  25,  25,  18]),\n",
       "  'target_string': 'What is 22+1?23[EOS]',\n",
       "  'pi': tensor([0., 0., 0., 0., 0., 0., 0., 0., 0., 0., 0., 0., 0., 0., 0., 0., 0., 0.,\n",
       "          0., 0., 0., 0., 0., 0., 1., 0., 0., 0., 0., 0., 0., 0., 0., 0., 0., 0.,\n",
       "          0., 0., 0., 0., 0., 0., 0., 0., 0., 0., 0., 0., 0., 0., 0., 0., 0., 0.,\n",
       "          0., 0., 0., 0., 0., 0., 0., 0., 0., 0., 0., 0., 0., 0., 0., 0., 0., 0.,\n",
       "          0., 0., 0., 0., 0., 0., 0., 0., 0., 0., 0., 0., 0., 0., 0., 0., 0., 0.,\n",
       "          0., 0., 0., 0., 0., 0., 0., 0., 0., 0., 0., 0., 0., 0., 0., 0., 0., 0.,\n",
       "          0., 0., 0., 0., 0., 0., 0., 0., 0., 0., 0., 0., 0., 0., 0., 0., 0., 0.,\n",
       "          0., 0., 0., 0., 0., 0., 0., 0., 0., 0., 0., 0., 0., 0., 0., 0., 0., 0.,\n",
       "          0., 0., 0., 0., 0., 0., 0., 0., 0., 0., 0., 0., 0., 0., 0., 0., 0., 0.,\n",
       "          0., 0., 0., 0., 0., 0., 0., 0., 0., 0., 0., 0., 0., 0., 0., 0., 0., 0.,\n",
       "          0., 0., 0., 0., 0., 0., 0., 0., 0., 0., 0., 0., 0., 0., 0., 0., 0., 0.,\n",
       "          0., 0., 0., 0., 0., 0., 0., 0., 0., 0., 0., 0., 0., 0., 0., 0., 0., 0.,\n",
       "          0., 0., 0., 0., 0., 0., 0., 0., 0., 0., 0., 0., 0., 0., 0., 0., 0., 0.,\n",
       "          0., 0., 0., 0., 0., 0., 0., 0., 0., 0., 0., 0., 0., 0., 0., 0., 0., 0.,\n",
       "          0., 0., 0., 0., 0., 0., 0., 0., 0., 0., 0., 0., 0., 0., 0., 0., 0., 0.]),\n",
       "  'id': 'custom',\n",
       "  'reward': 1},\n",
       " {'current_state': tensor([268, 267, 228,  25,  25,  18,  24]),\n",
       "  'target_string': 'What is 22+1?23[EOS]',\n",
       "  'pi': tensor([0., 0., 0., 0., 0., 0., 0., 0., 0., 0., 0., 0., 0., 0., 0., 0., 0., 0.,\n",
       "          0., 0., 0., 0., 0., 0., 0., 0., 0., 0., 0., 0., 0., 0., 0., 0., 0., 0.,\n",
       "          0., 0., 1., 0., 0., 0., 0., 0., 0., 0., 0., 0., 0., 0., 0., 0., 0., 0.,\n",
       "          0., 0., 0., 0., 0., 0., 0., 0., 0., 0., 0., 0., 0., 0., 0., 0., 0., 0.,\n",
       "          0., 0., 0., 0., 0., 0., 0., 0., 0., 0., 0., 0., 0., 0., 0., 0., 0., 0.,\n",
       "          0., 0., 0., 0., 0., 0., 0., 0., 0., 0., 0., 0., 0., 0., 0., 0., 0., 0.,\n",
       "          0., 0., 0., 0., 0., 0., 0., 0., 0., 0., 0., 0., 0., 0., 0., 0., 0., 0.,\n",
       "          0., 0., 0., 0., 0., 0., 0., 0., 0., 0., 0., 0., 0., 0., 0., 0., 0., 0.,\n",
       "          0., 0., 0., 0., 0., 0., 0., 0., 0., 0., 0., 0., 0., 0., 0., 0., 0., 0.,\n",
       "          0., 0., 0., 0., 0., 0., 0., 0., 0., 0., 0., 0., 0., 0., 0., 0., 0., 0.,\n",
       "          0., 0., 0., 0., 0., 0., 0., 0., 0., 0., 0., 0., 0., 0., 0., 0., 0., 0.,\n",
       "          0., 0., 0., 0., 0., 0., 0., 0., 0., 0., 0., 0., 0., 0., 0., 0., 0., 0.,\n",
       "          0., 0., 0., 0., 0., 0., 0., 0., 0., 0., 0., 0., 0., 0., 0., 0., 0., 0.,\n",
       "          0., 0., 0., 0., 0., 0., 0., 0., 0., 0., 0., 0., 0., 0., 0., 0., 0., 0.,\n",
       "          0., 0., 0., 0., 0., 0., 0., 0., 0., 0., 0., 0., 0., 0., 0., 0., 0., 0.]),\n",
       "  'id': 'custom',\n",
       "  'reward': 1},\n",
       " {'current_state': tensor([268, 267, 228,  25,  25,  18,  24,  38]),\n",
       "  'target_string': 'What is 22+1?23[EOS]',\n",
       "  'pi': tensor([0., 0., 0., 0., 0., 1., 0., 0., 0., 0., 0., 0., 0., 0., 0., 0., 0., 0.,\n",
       "          0., 0., 0., 0., 0., 0., 0., 0., 0., 0., 0., 0., 0., 0., 0., 0., 0., 0.,\n",
       "          0., 0., 0., 0., 0., 0., 0., 0., 0., 0., 0., 0., 0., 0., 0., 0., 0., 0.,\n",
       "          0., 0., 0., 0., 0., 0., 0., 0., 0., 0., 0., 0., 0., 0., 0., 0., 0., 0.,\n",
       "          0., 0., 0., 0., 0., 0., 0., 0., 0., 0., 0., 0., 0., 0., 0., 0., 0., 0.,\n",
       "          0., 0., 0., 0., 0., 0., 0., 0., 0., 0., 0., 0., 0., 0., 0., 0., 0., 0.,\n",
       "          0., 0., 0., 0., 0., 0., 0., 0., 0., 0., 0., 0., 0., 0., 0., 0., 0., 0.,\n",
       "          0., 0., 0., 0., 0., 0., 0., 0., 0., 0., 0., 0., 0., 0., 0., 0., 0., 0.,\n",
       "          0., 0., 0., 0., 0., 0., 0., 0., 0., 0., 0., 0., 0., 0., 0., 0., 0., 0.,\n",
       "          0., 0., 0., 0., 0., 0., 0., 0., 0., 0., 0., 0., 0., 0., 0., 0., 0., 0.,\n",
       "          0., 0., 0., 0., 0., 0., 0., 0., 0., 0., 0., 0., 0., 0., 0., 0., 0., 0.,\n",
       "          0., 0., 0., 0., 0., 0., 0., 0., 0., 0., 0., 0., 0., 0., 0., 0., 0., 0.,\n",
       "          0., 0., 0., 0., 0., 0., 0., 0., 0., 0., 0., 0., 0., 0., 0., 0., 0., 0.,\n",
       "          0., 0., 0., 0., 0., 0., 0., 0., 0., 0., 0., 0., 0., 0., 0., 0., 0., 0.,\n",
       "          0., 0., 0., 0., 0., 0., 0., 0., 0., 0., 0., 0., 0., 0., 0., 0., 0., 0.]),\n",
       "  'id': 'custom',\n",
       "  'reward': 1},\n",
       " {'current_state': tensor([268, 267, 228,  25,  25,  18,  24,  38,   5]),\n",
       "  'target_string': 'What is 22+1?23[EOS]',\n",
       "  'pi': tensor([0., 0., 0., 0., 0., 0., 0., 0., 0., 0., 0., 0., 0., 0., 0., 0., 0., 0.,\n",
       "          0., 0., 0., 0., 0., 0., 0., 1., 0., 0., 0., 0., 0., 0., 0., 0., 0., 0.,\n",
       "          0., 0., 0., 0., 0., 0., 0., 0., 0., 0., 0., 0., 0., 0., 0., 0., 0., 0.,\n",
       "          0., 0., 0., 0., 0., 0., 0., 0., 0., 0., 0., 0., 0., 0., 0., 0., 0., 0.,\n",
       "          0., 0., 0., 0., 0., 0., 0., 0., 0., 0., 0., 0., 0., 0., 0., 0., 0., 0.,\n",
       "          0., 0., 0., 0., 0., 0., 0., 0., 0., 0., 0., 0., 0., 0., 0., 0., 0., 0.,\n",
       "          0., 0., 0., 0., 0., 0., 0., 0., 0., 0., 0., 0., 0., 0., 0., 0., 0., 0.,\n",
       "          0., 0., 0., 0., 0., 0., 0., 0., 0., 0., 0., 0., 0., 0., 0., 0., 0., 0.,\n",
       "          0., 0., 0., 0., 0., 0., 0., 0., 0., 0., 0., 0., 0., 0., 0., 0., 0., 0.,\n",
       "          0., 0., 0., 0., 0., 0., 0., 0., 0., 0., 0., 0., 0., 0., 0., 0., 0., 0.,\n",
       "          0., 0., 0., 0., 0., 0., 0., 0., 0., 0., 0., 0., 0., 0., 0., 0., 0., 0.,\n",
       "          0., 0., 0., 0., 0., 0., 0., 0., 0., 0., 0., 0., 0., 0., 0., 0., 0., 0.,\n",
       "          0., 0., 0., 0., 0., 0., 0., 0., 0., 0., 0., 0., 0., 0., 0., 0., 0., 0.,\n",
       "          0., 0., 0., 0., 0., 0., 0., 0., 0., 0., 0., 0., 0., 0., 0., 0., 0., 0.,\n",
       "          0., 0., 0., 0., 0., 0., 0., 0., 0., 0., 0., 0., 0., 0., 0., 0., 0., 0.]),\n",
       "  'id': 'custom',\n",
       "  'reward': 1},\n",
       " {'current_state': tensor([268, 267, 228,  25,  25,  18,  24,  38,   5,  25]),\n",
       "  'target_string': 'What is 22+1?23[EOS]',\n",
       "  'pi': tensor([0., 0., 0., 0., 0., 0., 0., 0., 0., 0., 0., 0., 0., 0., 0., 0., 0., 0.,\n",
       "          0., 0., 0., 0., 0., 0., 0., 1., 0., 0., 0., 0., 0., 0., 0., 0., 0., 0.,\n",
       "          0., 0., 0., 0., 0., 0., 0., 0., 0., 0., 0., 0., 0., 0., 0., 0., 0., 0.,\n",
       "          0., 0., 0., 0., 0., 0., 0., 0., 0., 0., 0., 0., 0., 0., 0., 0., 0., 0.,\n",
       "          0., 0., 0., 0., 0., 0., 0., 0., 0., 0., 0., 0., 0., 0., 0., 0., 0., 0.,\n",
       "          0., 0., 0., 0., 0., 0., 0., 0., 0., 0., 0., 0., 0., 0., 0., 0., 0., 0.,\n",
       "          0., 0., 0., 0., 0., 0., 0., 0., 0., 0., 0., 0., 0., 0., 0., 0., 0., 0.,\n",
       "          0., 0., 0., 0., 0., 0., 0., 0., 0., 0., 0., 0., 0., 0., 0., 0., 0., 0.,\n",
       "          0., 0., 0., 0., 0., 0., 0., 0., 0., 0., 0., 0., 0., 0., 0., 0., 0., 0.,\n",
       "          0., 0., 0., 0., 0., 0., 0., 0., 0., 0., 0., 0., 0., 0., 0., 0., 0., 0.,\n",
       "          0., 0., 0., 0., 0., 0., 0., 0., 0., 0., 0., 0., 0., 0., 0., 0., 0., 0.,\n",
       "          0., 0., 0., 0., 0., 0., 0., 0., 0., 0., 0., 0., 0., 0., 0., 0., 0., 0.,\n",
       "          0., 0., 0., 0., 0., 0., 0., 0., 0., 0., 0., 0., 0., 0., 0., 0., 0., 0.,\n",
       "          0., 0., 0., 0., 0., 0., 0., 0., 0., 0., 0., 0., 0., 0., 0., 0., 0., 0.,\n",
       "          0., 0., 0., 0., 0., 0., 0., 0., 0., 0., 0., 0., 0., 0., 0., 0., 0., 0.]),\n",
       "  'id': 'custom',\n",
       "  'reward': 1},\n",
       " {'current_state': tensor([268, 267, 228,  25,  25,  18,  24,  38,   5,  25,  25]),\n",
       "  'target_string': 'What is 22+1?23[EOS]',\n",
       "  'pi': tensor([0., 0., 0., 0., 0., 0., 0., 0., 0., 0., 0., 0., 0., 0., 0., 0., 0., 0.,\n",
       "          1., 0., 0., 0., 0., 0., 0., 0., 0., 0., 0., 0., 0., 0., 0., 0., 0., 0.,\n",
       "          0., 0., 0., 0., 0., 0., 0., 0., 0., 0., 0., 0., 0., 0., 0., 0., 0., 0.,\n",
       "          0., 0., 0., 0., 0., 0., 0., 0., 0., 0., 0., 0., 0., 0., 0., 0., 0., 0.,\n",
       "          0., 0., 0., 0., 0., 0., 0., 0., 0., 0., 0., 0., 0., 0., 0., 0., 0., 0.,\n",
       "          0., 0., 0., 0., 0., 0., 0., 0., 0., 0., 0., 0., 0., 0., 0., 0., 0., 0.,\n",
       "          0., 0., 0., 0., 0., 0., 0., 0., 0., 0., 0., 0., 0., 0., 0., 0., 0., 0.,\n",
       "          0., 0., 0., 0., 0., 0., 0., 0., 0., 0., 0., 0., 0., 0., 0., 0., 0., 0.,\n",
       "          0., 0., 0., 0., 0., 0., 0., 0., 0., 0., 0., 0., 0., 0., 0., 0., 0., 0.,\n",
       "          0., 0., 0., 0., 0., 0., 0., 0., 0., 0., 0., 0., 0., 0., 0., 0., 0., 0.,\n",
       "          0., 0., 0., 0., 0., 0., 0., 0., 0., 0., 0., 0., 0., 0., 0., 0., 0., 0.,\n",
       "          0., 0., 0., 0., 0., 0., 0., 0., 0., 0., 0., 0., 0., 0., 0., 0., 0., 0.,\n",
       "          0., 0., 0., 0., 0., 0., 0., 0., 0., 0., 0., 0., 0., 0., 0., 0., 0., 0.,\n",
       "          0., 0., 0., 0., 0., 0., 0., 0., 0., 0., 0., 0., 0., 0., 0., 0., 0., 0.,\n",
       "          0., 0., 0., 0., 0., 0., 0., 0., 0., 0., 0., 0., 0., 0., 0., 0., 0., 0.]),\n",
       "  'id': 'custom',\n",
       "  'reward': 1},\n",
       " {'current_state': tensor([268, 267, 228,  25,  25,  18,  24,  38,   5,  25,  25,  18]),\n",
       "  'target_string': 'What is 22+1?23[EOS]',\n",
       "  'pi': tensor([0., 0., 0., 0., 0., 0., 0., 0., 0., 0., 0., 0., 0., 0., 0., 0., 0., 0.,\n",
       "          0., 0., 0., 0., 0., 0., 1., 0., 0., 0., 0., 0., 0., 0., 0., 0., 0., 0.,\n",
       "          0., 0., 0., 0., 0., 0., 0., 0., 0., 0., 0., 0., 0., 0., 0., 0., 0., 0.,\n",
       "          0., 0., 0., 0., 0., 0., 0., 0., 0., 0., 0., 0., 0., 0., 0., 0., 0., 0.,\n",
       "          0., 0., 0., 0., 0., 0., 0., 0., 0., 0., 0., 0., 0., 0., 0., 0., 0., 0.,\n",
       "          0., 0., 0., 0., 0., 0., 0., 0., 0., 0., 0., 0., 0., 0., 0., 0., 0., 0.,\n",
       "          0., 0., 0., 0., 0., 0., 0., 0., 0., 0., 0., 0., 0., 0., 0., 0., 0., 0.,\n",
       "          0., 0., 0., 0., 0., 0., 0., 0., 0., 0., 0., 0., 0., 0., 0., 0., 0., 0.,\n",
       "          0., 0., 0., 0., 0., 0., 0., 0., 0., 0., 0., 0., 0., 0., 0., 0., 0., 0.,\n",
       "          0., 0., 0., 0., 0., 0., 0., 0., 0., 0., 0., 0., 0., 0., 0., 0., 0., 0.,\n",
       "          0., 0., 0., 0., 0., 0., 0., 0., 0., 0., 0., 0., 0., 0., 0., 0., 0., 0.,\n",
       "          0., 0., 0., 0., 0., 0., 0., 0., 0., 0., 0., 0., 0., 0., 0., 0., 0., 0.,\n",
       "          0., 0., 0., 0., 0., 0., 0., 0., 0., 0., 0., 0., 0., 0., 0., 0., 0., 0.,\n",
       "          0., 0., 0., 0., 0., 0., 0., 0., 0., 0., 0., 0., 0., 0., 0., 0., 0., 0.,\n",
       "          0., 0., 0., 0., 0., 0., 0., 0., 0., 0., 0., 0., 0., 0., 0., 0., 0., 0.]),\n",
       "  'id': 'custom',\n",
       "  'reward': 1},\n",
       " {'current_state': tensor([268, 267, 228,  25,  25,  18,  24,  38,   5,  25,  25,  18,  24]),\n",
       "  'target_string': 'What is 22+1?23[EOS]',\n",
       "  'pi': tensor([0., 0., 0., 0., 0., 0., 0., 1., 0., 0., 0., 0., 0., 0., 0., 0., 0., 0.,\n",
       "          0., 0., 0., 0., 0., 0., 0., 0., 0., 0., 0., 0., 0., 0., 0., 0., 0., 0.,\n",
       "          0., 0., 0., 0., 0., 0., 0., 0., 0., 0., 0., 0., 0., 0., 0., 0., 0., 0.,\n",
       "          0., 0., 0., 0., 0., 0., 0., 0., 0., 0., 0., 0., 0., 0., 0., 0., 0., 0.,\n",
       "          0., 0., 0., 0., 0., 0., 0., 0., 0., 0., 0., 0., 0., 0., 0., 0., 0., 0.,\n",
       "          0., 0., 0., 0., 0., 0., 0., 0., 0., 0., 0., 0., 0., 0., 0., 0., 0., 0.,\n",
       "          0., 0., 0., 0., 0., 0., 0., 0., 0., 0., 0., 0., 0., 0., 0., 0., 0., 0.,\n",
       "          0., 0., 0., 0., 0., 0., 0., 0., 0., 0., 0., 0., 0., 0., 0., 0., 0., 0.,\n",
       "          0., 0., 0., 0., 0., 0., 0., 0., 0., 0., 0., 0., 0., 0., 0., 0., 0., 0.,\n",
       "          0., 0., 0., 0., 0., 0., 0., 0., 0., 0., 0., 0., 0., 0., 0., 0., 0., 0.,\n",
       "          0., 0., 0., 0., 0., 0., 0., 0., 0., 0., 0., 0., 0., 0., 0., 0., 0., 0.,\n",
       "          0., 0., 0., 0., 0., 0., 0., 0., 0., 0., 0., 0., 0., 0., 0., 0., 0., 0.,\n",
       "          0., 0., 0., 0., 0., 0., 0., 0., 0., 0., 0., 0., 0., 0., 0., 0., 0., 0.,\n",
       "          0., 0., 0., 0., 0., 0., 0., 0., 0., 0., 0., 0., 0., 0., 0., 0., 0., 0.,\n",
       "          0., 0., 0., 0., 0., 0., 0., 0., 0., 0., 0., 0., 0., 0., 0., 0., 0., 0.]),\n",
       "  'id': 'custom',\n",
       "  'reward': 1},\n",
       " {'current_state': tensor([268, 267, 228,  25,  25,  18,  24,  38,   5,  25,  25,  18,  24,   7,\n",
       "           25,  26,   4]),\n",
       "  'target_string': 'What is 22+1?23[EOS]',\n",
       "  'pi': tensor([0., 0., 0., 0., 0., 0., 1., 0., 0., 0., 0., 0., 0., 0., 0., 0., 0., 0.,\n",
       "          0., 0., 0., 0., 0., 0., 0., 0., 0., 0., 0., 0., 0., 0., 0., 0., 0., 0.,\n",
       "          0., 0., 0., 0., 0., 0., 0., 0., 0., 0., 0., 0., 0., 0., 0., 0., 0., 0.,\n",
       "          0., 0., 0., 0., 0., 0., 0., 0., 0., 0., 0., 0., 0., 0., 0., 0., 0., 0.,\n",
       "          0., 0., 0., 0., 0., 0., 0., 0., 0., 0., 0., 0., 0., 0., 0., 0., 0., 0.,\n",
       "          0., 0., 0., 0., 0., 0., 0., 0., 0., 0., 0., 0., 0., 0., 0., 0., 0., 0.,\n",
       "          0., 0., 0., 0., 0., 0., 0., 0., 0., 0., 0., 0., 0., 0., 0., 0., 0., 0.,\n",
       "          0., 0., 0., 0., 0., 0., 0., 0., 0., 0., 0., 0., 0., 0., 0., 0., 0., 0.,\n",
       "          0., 0., 0., 0., 0., 0., 0., 0., 0., 0., 0., 0., 0., 0., 0., 0., 0., 0.,\n",
       "          0., 0., 0., 0., 0., 0., 0., 0., 0., 0., 0., 0., 0., 0., 0., 0., 0., 0.,\n",
       "          0., 0., 0., 0., 0., 0., 0., 0., 0., 0., 0., 0., 0., 0., 0., 0., 0., 0.,\n",
       "          0., 0., 0., 0., 0., 0., 0., 0., 0., 0., 0., 0., 0., 0., 0., 0., 0., 0.,\n",
       "          0., 0., 0., 0., 0., 0., 0., 0., 0., 0., 0., 0., 0., 0., 0., 0., 0., 0.,\n",
       "          0., 0., 0., 0., 0., 0., 0., 0., 0., 0., 0., 0., 0., 0., 0., 0., 0., 0.,\n",
       "          0., 0., 0., 0., 0., 0., 0., 0., 0., 0., 0., 0., 0., 0., 0., 0., 0., 0.]),\n",
       "  'id': 'custom',\n",
       "  'reward': 1},\n",
       " {'current_state': tensor([268, 267, 228,  25,  25,  18,  24,  38,   5,  25,  25,  18,  24,   7,\n",
       "           25,  26,   4,   6]),\n",
       "  'target_string': 'What is 22+1?23[EOS]',\n",
       "  'pi': tensor([0., 0., 0., 0., 0., 0., 0., 0., 0., 0., 0., 0., 0., 0., 0., 0., 0., 0.,\n",
       "          0., 0., 0., 0., 0., 0., 0., 1., 0., 0., 0., 0., 0., 0., 0., 0., 0., 0.,\n",
       "          0., 0., 0., 0., 0., 0., 0., 0., 0., 0., 0., 0., 0., 0., 0., 0., 0., 0.,\n",
       "          0., 0., 0., 0., 0., 0., 0., 0., 0., 0., 0., 0., 0., 0., 0., 0., 0., 0.,\n",
       "          0., 0., 0., 0., 0., 0., 0., 0., 0., 0., 0., 0., 0., 0., 0., 0., 0., 0.,\n",
       "          0., 0., 0., 0., 0., 0., 0., 0., 0., 0., 0., 0., 0., 0., 0., 0., 0., 0.,\n",
       "          0., 0., 0., 0., 0., 0., 0., 0., 0., 0., 0., 0., 0., 0., 0., 0., 0., 0.,\n",
       "          0., 0., 0., 0., 0., 0., 0., 0., 0., 0., 0., 0., 0., 0., 0., 0., 0., 0.,\n",
       "          0., 0., 0., 0., 0., 0., 0., 0., 0., 0., 0., 0., 0., 0., 0., 0., 0., 0.,\n",
       "          0., 0., 0., 0., 0., 0., 0., 0., 0., 0., 0., 0., 0., 0., 0., 0., 0., 0.,\n",
       "          0., 0., 0., 0., 0., 0., 0., 0., 0., 0., 0., 0., 0., 0., 0., 0., 0., 0.,\n",
       "          0., 0., 0., 0., 0., 0., 0., 0., 0., 0., 0., 0., 0., 0., 0., 0., 0., 0.,\n",
       "          0., 0., 0., 0., 0., 0., 0., 0., 0., 0., 0., 0., 0., 0., 0., 0., 0., 0.,\n",
       "          0., 0., 0., 0., 0., 0., 0., 0., 0., 0., 0., 0., 0., 0., 0., 0., 0., 0.,\n",
       "          0., 0., 0., 0., 0., 0., 0., 0., 0., 0., 0., 0., 0., 0., 0., 0., 0., 0.]),\n",
       "  'id': 'custom',\n",
       "  'reward': 1},\n",
       " {'current_state': tensor([268, 267, 228,  25,  25,  18,  24,  38,   5,  25,  25,  18,  24,   7,\n",
       "           25,  26,   4,   6,  25]),\n",
       "  'target_string': 'What is 22+1?23[EOS]',\n",
       "  'pi': tensor([0., 0., 0., 0., 0., 0., 0., 0., 0., 0., 0., 0., 0., 0., 0., 0., 0., 0.,\n",
       "          0., 0., 0., 0., 0., 0., 0., 0., 1., 0., 0., 0., 0., 0., 0., 0., 0., 0.,\n",
       "          0., 0., 0., 0., 0., 0., 0., 0., 0., 0., 0., 0., 0., 0., 0., 0., 0., 0.,\n",
       "          0., 0., 0., 0., 0., 0., 0., 0., 0., 0., 0., 0., 0., 0., 0., 0., 0., 0.,\n",
       "          0., 0., 0., 0., 0., 0., 0., 0., 0., 0., 0., 0., 0., 0., 0., 0., 0., 0.,\n",
       "          0., 0., 0., 0., 0., 0., 0., 0., 0., 0., 0., 0., 0., 0., 0., 0., 0., 0.,\n",
       "          0., 0., 0., 0., 0., 0., 0., 0., 0., 0., 0., 0., 0., 0., 0., 0., 0., 0.,\n",
       "          0., 0., 0., 0., 0., 0., 0., 0., 0., 0., 0., 0., 0., 0., 0., 0., 0., 0.,\n",
       "          0., 0., 0., 0., 0., 0., 0., 0., 0., 0., 0., 0., 0., 0., 0., 0., 0., 0.,\n",
       "          0., 0., 0., 0., 0., 0., 0., 0., 0., 0., 0., 0., 0., 0., 0., 0., 0., 0.,\n",
       "          0., 0., 0., 0., 0., 0., 0., 0., 0., 0., 0., 0., 0., 0., 0., 0., 0., 0.,\n",
       "          0., 0., 0., 0., 0., 0., 0., 0., 0., 0., 0., 0., 0., 0., 0., 0., 0., 0.,\n",
       "          0., 0., 0., 0., 0., 0., 0., 0., 0., 0., 0., 0., 0., 0., 0., 0., 0., 0.,\n",
       "          0., 0., 0., 0., 0., 0., 0., 0., 0., 0., 0., 0., 0., 0., 0., 0., 0., 0.,\n",
       "          0., 0., 0., 0., 0., 0., 0., 0., 0., 0., 0., 0., 0., 0., 0., 0., 0., 0.]),\n",
       "  'id': 'custom',\n",
       "  'reward': 1},\n",
       " {'current_state': tensor([268, 267, 228,  25,  25,  18,  24,  38,   5,  25,  25,  18,  24,   7,\n",
       "           25,  26,   4,   6,  25,  26]),\n",
       "  'target_string': 'What is 22+1?23[EOS]',\n",
       "  'pi': tensor([0., 1., 0., 0., 0., 0., 0., 0., 0., 0., 0., 0., 0., 0., 0., 0., 0., 0.,\n",
       "          0., 0., 0., 0., 0., 0., 0., 0., 0., 0., 0., 0., 0., 0., 0., 0., 0., 0.,\n",
       "          0., 0., 0., 0., 0., 0., 0., 0., 0., 0., 0., 0., 0., 0., 0., 0., 0., 0.,\n",
       "          0., 0., 0., 0., 0., 0., 0., 0., 0., 0., 0., 0., 0., 0., 0., 0., 0., 0.,\n",
       "          0., 0., 0., 0., 0., 0., 0., 0., 0., 0., 0., 0., 0., 0., 0., 0., 0., 0.,\n",
       "          0., 0., 0., 0., 0., 0., 0., 0., 0., 0., 0., 0., 0., 0., 0., 0., 0., 0.,\n",
       "          0., 0., 0., 0., 0., 0., 0., 0., 0., 0., 0., 0., 0., 0., 0., 0., 0., 0.,\n",
       "          0., 0., 0., 0., 0., 0., 0., 0., 0., 0., 0., 0., 0., 0., 0., 0., 0., 0.,\n",
       "          0., 0., 0., 0., 0., 0., 0., 0., 0., 0., 0., 0., 0., 0., 0., 0., 0., 0.,\n",
       "          0., 0., 0., 0., 0., 0., 0., 0., 0., 0., 0., 0., 0., 0., 0., 0., 0., 0.,\n",
       "          0., 0., 0., 0., 0., 0., 0., 0., 0., 0., 0., 0., 0., 0., 0., 0., 0., 0.,\n",
       "          0., 0., 0., 0., 0., 0., 0., 0., 0., 0., 0., 0., 0., 0., 0., 0., 0., 0.,\n",
       "          0., 0., 0., 0., 0., 0., 0., 0., 0., 0., 0., 0., 0., 0., 0., 0., 0., 0.,\n",
       "          0., 0., 0., 0., 0., 0., 0., 0., 0., 0., 0., 0., 0., 0., 0., 0., 0., 0.,\n",
       "          0., 0., 0., 0., 0., 0., 0., 0., 0., 0., 0., 0., 0., 0., 0., 0., 0., 0.]),\n",
       "  'id': 'custom',\n",
       "  'reward': 1}]"
      ]
     },
     "execution_count": 1318,
     "metadata": {},
     "output_type": "execute_result"
    }
   ],
   "source": [
    "trainer.decomposePositiveEpisodes(positive_states, target_strings)"
   ]
  },
  {
   "cell_type": "code",
   "execution_count": null,
   "metadata": {},
   "outputs": [],
   "source": []
  }
 ],
 "metadata": {
  "kernelspec": {
   "display_name": "Python 3",
   "language": "python",
   "name": "python3"
  },
  "language_info": {
   "codemirror_mode": {
    "name": "ipython",
    "version": 3
   },
   "file_extension": ".py",
   "mimetype": "text/x-python",
   "name": "python",
   "nbconvert_exporter": "python",
   "pygments_lexer": "ipython3",
   "version": "3.6.9"
  }
 },
 "nbformat": 4,
 "nbformat_minor": 4
}

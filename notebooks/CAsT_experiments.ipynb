{
 "cells": [
  {
   "cell_type": "code",
   "execution_count": null,
   "metadata": {},
   "outputs": [],
   "source": [
    "from src.RawDataLoaders import MS_Marco_RawDataLoader, CAsT_RawDataLoader\n",
    "from src.pipe_datasets import Manual_Query_BM25_Reranking_Dataset, Reranking_Validation_Dataset, Manual_Query_RUN_File_Reranking_Dataset\n",
    "from src.models_and_transforms.run_file_models import Run_File_Searcher\n",
    "from src.models_and_transforms.BERT_models import BERT_Reranker\n",
    "from src.models_and_transforms.BM25_models import BM25_Ranker\n",
    "from src.Experiments import CAsT_experiment, Ranking_Experiment, RUN_File_Transform_Exporter\n",
    "from src.trainers import Model_Trainer\n",
    "from src.models_and_transforms.complex_transforms import BERT_Score_Transform, BERT_ReRanker_Transform, BM25_Search_Transform, \\\n",
    "                                                        Oracle_ReRanker_Transform, RUN_File_Search_Transform\n",
    "from src.models_and_transforms.text_transforms import Query_Resolver_Transform, Document_Resolver_Transform\n",
    "\n",
    "from transformers import LongformerConfig, LongformerModel, LongformerTokenizer, BertTokenizer, BertModel\n",
    "from pytorch_lightning import Trainer, Callback\n",
    "import pickle\n",
    "import random\n",
    "import numpy as np\n",
    "import os\n",
    "from pytorch_lightning.loggers import WandbLogger\n",
    "from pytorch_lightning.callbacks import ModelCheckpoint\n",
    "import torch\n",
    "\n",
    "from tqdm.auto import tqdm \n",
    "%load_ext autoreload\n",
    "%autoreload 2\n",
    "%load_ext line_profiler"
   ]
  },
  {
   "cell_type": "code",
   "execution_count": 2,
   "metadata": {},
   "outputs": [],
   "source": [
    "def seed_everything(seed=1234):\n",
    "    random.seed(seed)\n",
    "    os.environ['PYTHONHASHSEED'] = str(seed)\n",
    "    np.random.seed(seed)\n",
    "    torch.manual_seed(seed)\n",
    "    torch.cuda.manual_seed(seed)\n",
    "    torch.backends.cudnn.deterministic = True\n",
    "seed_everything()"
   ]
  },
  {
   "cell_type": "code",
   "execution_count": 10,
   "metadata": {},
   "outputs": [
    {
     "data": {
      "application/vnd.jupyter.widget-view+json": {
       "model_id": "",
       "version_major": 2,
       "version_minor": 0
      },
      "text/plain": [
       "HBox(children=(FloatProgress(value=1.0, bar_style='info', description='loading train queries', max=1.0, style=…"
      ]
     },
     "metadata": {},
     "output_type": "display_data"
    },
    {
     "data": {
      "application/vnd.jupyter.widget-view+json": {
       "model_id": "",
       "version_major": 2,
       "version_minor": 0
      },
      "text/plain": [
       "HBox(children=(FloatProgress(value=1.0, bar_style='info', description='loading dev queries', max=1.0, style=Pr…"
      ]
     },
     "metadata": {},
     "output_type": "display_data"
    },
    {
     "data": {
      "application/vnd.jupyter.widget-view+json": {
       "model_id": "",
       "version_major": 2,
       "version_minor": 0
      },
      "text/plain": [
       "HBox(children=(FloatProgress(value=1.0, bar_style='info', description='loading eval queries', max=1.0, style=P…"
      ]
     },
     "metadata": {},
     "output_type": "display_data"
    }
   ],
   "source": [
    "raw_data_loader = MS_Marco_RawDataLoader(from_pickle=True)\n",
    "get_query_fn = raw_data_loader.get_query\n",
    "get_doc_fn = raw_data_loader.get_doc"
   ]
  },
  {
   "cell_type": "code",
   "execution_count": 4,
   "metadata": {},
   "outputs": [
    {
     "data": {
      "application/vnd.jupyter.widget-view+json": {
       "model_id": "",
       "version_major": 2,
       "version_minor": 0
      },
      "text/plain": [
       "HBox(children=(FloatProgress(value=1.0, bar_style='info', description='loading train queries', max=1.0, style=…"
      ]
     },
     "metadata": {},
     "output_type": "display_data"
    },
    {
     "data": {
      "application/vnd.jupyter.widget-view+json": {
       "model_id": "",
       "version_major": 2,
       "version_minor": 0
      },
      "text/plain": [
       "HBox(children=(FloatProgress(value=1.0, bar_style='info', description='loading q_rels', max=1.0, style=Progres…"
      ]
     },
     "metadata": {},
     "output_type": "display_data"
    }
   ],
   "source": [
    "train_raw_samples = raw_data_loader.get_topics(\"train\")"
   ]
  },
  {
   "cell_type": "code",
   "execution_count": 5,
   "metadata": {},
   "outputs": [],
   "source": [
    "searcher = Run_File_Searcher(\"saved_models/MARCO_train_BM25_full.run\")"
   ]
  },
  {
   "cell_type": "code",
   "execution_count": 8,
   "metadata": {},
   "outputs": [],
   "source": [
    "bm25_searcher = BM25_Ranker(\"datasets/MS_MARCO/MARCO_anserini\")"
   ]
  },
  {
   "cell_type": "code",
   "execution_count": 20,
   "metadata": {},
   "outputs": [
    {
     "data": {
      "text/plain": [
       "[]"
      ]
     },
     "execution_count": 20,
     "metadata": {},
     "output_type": "execute_result"
    }
   ],
   "source": [
    "bm25_searcher.predict('wonderful.in.spanish')"
   ]
  },
  {
   "cell_type": "markdown",
   "metadata": {},
   "source": [
    "#### Removing probllematic samples"
   ]
  },
  {
   "cell_type": "code",
   "execution_count": 6,
   "metadata": {},
   "outputs": [],
   "source": [
    "bad_samples = [sample for sample in train_raw_samples if sample['q_id'] not in searcher.query_doc_mapping]"
   ]
  },
  {
   "cell_type": "code",
   "execution_count": 7,
   "metadata": {},
   "outputs": [
    {
     "name": "stdout",
     "output_type": "stream",
     "text": [
      "{'q_id': '140329', 'q_rel': ['MARCO_6542451']}\n",
      "{'q_id': '1078982', 'q_rel': ['MARCO_4115897']}\n",
      "{'q_id': '502557', 'q_rel': ['MARCO_1271975']}\n",
      "{'q_id': '48509', 'q_rel': ['MARCO_2063851']}\n",
      "{'q_id': '56573', 'q_rel': ['MARCO_3198289']}\n",
      "{'q_id': '129844', 'q_rel': ['MARCO_7817031']}\n",
      "{'q_id': '197820', 'q_rel': ['MARCO_5510763']}\n",
      "{'q_id': '522517', 'q_rel': ['MARCO_3075528']}\n",
      "{'q_id': '205266', 'q_rel': ['MARCO_5143713']}\n"
     ]
    }
   ],
   "source": [
    "for sample in bad_samples:\n",
    "    print(sample)\n",
    "    train_raw_samples.remove(sample)"
   ]
  },
  {
   "cell_type": "code",
   "execution_count": 10,
   "metadata": {},
   "outputs": [
    {
     "data": {
      "text/plain": [
       "0"
      ]
     },
     "execution_count": 10,
     "metadata": {},
     "output_type": "execute_result"
    }
   ],
   "source": [
    "len(bad_samples)"
   ]
  },
  {
   "cell_type": "code",
   "execution_count": 8,
   "metadata": {},
   "outputs": [
    {
     "data": {
      "application/vnd.jupyter.widget-view+json": {
       "model_id": "582914c09fed4f90ad6a25208740c0ce",
       "version_major": 2,
       "version_minor": 0
      },
      "text/plain": [
       "HBox(children=(FloatProgress(value=0.0, max=3.0), HTML(value='')))"
      ]
     },
     "metadata": {},
     "output_type": "display_data"
    },
    {
     "data": {
      "application/vnd.jupyter.widget-view+json": {
       "model_id": "9ab31037e9594b4da89dd60eccd0336e",
       "version_major": 2,
       "version_minor": 0
      },
      "text/plain": [
       "HBox(children=(FloatProgress(value=0.0, description='Searching queries', max=502930.0, style=ProgressStyle(des…"
      ]
     },
     "metadata": {},
     "output_type": "display_data"
    },
    {
     "name": "stdout",
     "output_type": "stream",
     "text": [
      "\n"
     ]
    },
    {
     "data": {
      "application/vnd.jupyter.widget-view+json": {
       "model_id": "c267b869d67d436dbeee06ab740cad38",
       "version_major": 2,
       "version_minor": 0
      },
      "text/plain": [
       "HBox(children=(FloatProgress(value=0.0, description='Sampling ± query-doc pairs', max=502930.0, style=Progress…"
      ]
     },
     "metadata": {},
     "output_type": "display_data"
    },
    {
     "name": "stdout",
     "output_type": "stream",
     "text": [
      "\n",
      "\n"
     ]
    }
   ],
   "source": [
    "train_dataset = Manual_Query_RUN_File_Reranking_Dataset(train_raw_samples, get_query_fn, get_doc_fn, \"saved_models/MARCO_train_BM25_full.run\", hits=100, num_neg_samples=50)"
   ]
  },
  {
   "cell_type": "code",
   "execution_count": 37,
   "metadata": {
    "collapsed": true,
    "jupyter": {
     "outputs_hidden": true
    }
   },
   "outputs": [
    {
     "data": {
      "text/plain": [
       "{'q_id': '700091',\n",
       " 'q_rel': ['MARCO_1725292'],\n",
       " 'query': 'what is a simulcast',\n",
       " 'd_id': 'MARCO_1725292',\n",
       " 'label': 1,\n",
       " 'doc': 'Simulcast Simulcast refers to the process of transmitting the same signal from different tower locations over the same frequency at the same time. For public safety communications, this typically means multiple towers: configured to transmit the exact same communications, on the exact same frequencies, at precisely the same time.',\n",
       " 'input_text': 'what is a simulcast [SEP] Simulcast Simulcast refers to the process of transmitting the same signal from different tower locations over the same frequency at the same time. For public safety communications, this typically means multiple towers: configured to transmit the exact same communications, on the exact same frequencies, at precisely the same time.',\n",
       " 'input_ids': [101,\n",
       "  2054,\n",
       "  2003,\n",
       "  1037,\n",
       "  20525,\n",
       "  102,\n",
       "  20525,\n",
       "  20525,\n",
       "  5218,\n",
       "  2000,\n",
       "  1996,\n",
       "  2832,\n",
       "  1997,\n",
       "  23820,\n",
       "  1996,\n",
       "  2168,\n",
       "  4742,\n",
       "  2013,\n",
       "  2367,\n",
       "  3578,\n",
       "  5269,\n",
       "  2058,\n",
       "  1996,\n",
       "  2168,\n",
       "  6075,\n",
       "  2012,\n",
       "  1996,\n",
       "  2168,\n",
       "  2051,\n",
       "  1012,\n",
       "  2005,\n",
       "  2270,\n",
       "  3808,\n",
       "  4806,\n",
       "  1010,\n",
       "  2023,\n",
       "  4050,\n",
       "  2965,\n",
       "  3674,\n",
       "  7626,\n",
       "  1024,\n",
       "  26928,\n",
       "  2000,\n",
       "  19818,\n",
       "  1996,\n",
       "  6635,\n",
       "  2168,\n",
       "  4806,\n",
       "  1010,\n",
       "  2006,\n",
       "  1996,\n",
       "  6635,\n",
       "  2168,\n",
       "  13139,\n",
       "  1010,\n",
       "  2012,\n",
       "  10785,\n",
       "  1996,\n",
       "  2168,\n",
       "  2051,\n",
       "  1012,\n",
       "  102],\n",
       " 'q_id_ascii': [55,\n",
       "  48,\n",
       "  48,\n",
       "  48,\n",
       "  57,\n",
       "  49,\n",
       "  -1,\n",
       "  -1,\n",
       "  -1,\n",
       "  -1,\n",
       "  -1,\n",
       "  -1,\n",
       "  -1,\n",
       "  -1,\n",
       "  -1,\n",
       "  -1,\n",
       "  -1,\n",
       "  -1,\n",
       "  -1,\n",
       "  -1,\n",
       "  -1,\n",
       "  -1,\n",
       "  -1,\n",
       "  -1,\n",
       "  -1,\n",
       "  -1,\n",
       "  -1,\n",
       "  -1,\n",
       "  -1,\n",
       "  -1,\n",
       "  -1,\n",
       "  -1,\n",
       "  -1,\n",
       "  -1,\n",
       "  -1,\n",
       "  -1,\n",
       "  -1,\n",
       "  -1,\n",
       "  -1,\n",
       "  -1,\n",
       "  -1,\n",
       "  -1,\n",
       "  -1,\n",
       "  -1,\n",
       "  -1,\n",
       "  -1,\n",
       "  -1,\n",
       "  -1,\n",
       "  -1,\n",
       "  -1,\n",
       "  -1,\n",
       "  -1,\n",
       "  -1,\n",
       "  -1,\n",
       "  -1,\n",
       "  -1,\n",
       "  -1,\n",
       "  -1,\n",
       "  -1,\n",
       "  -1,\n",
       "  -1,\n",
       "  -1,\n",
       "  -1,\n",
       "  -1],\n",
       " 'd_id_ascii': [77,\n",
       "  65,\n",
       "  82,\n",
       "  67,\n",
       "  79,\n",
       "  95,\n",
       "  49,\n",
       "  55,\n",
       "  50,\n",
       "  53,\n",
       "  50,\n",
       "  57,\n",
       "  50,\n",
       "  -1,\n",
       "  -1,\n",
       "  -1,\n",
       "  -1,\n",
       "  -1,\n",
       "  -1,\n",
       "  -1,\n",
       "  -1,\n",
       "  -1,\n",
       "  -1,\n",
       "  -1,\n",
       "  -1,\n",
       "  -1,\n",
       "  -1,\n",
       "  -1,\n",
       "  -1,\n",
       "  -1,\n",
       "  -1,\n",
       "  -1,\n",
       "  -1,\n",
       "  -1,\n",
       "  -1,\n",
       "  -1,\n",
       "  -1,\n",
       "  -1,\n",
       "  -1,\n",
       "  -1,\n",
       "  -1,\n",
       "  -1,\n",
       "  -1,\n",
       "  -1,\n",
       "  -1,\n",
       "  -1,\n",
       "  -1,\n",
       "  -1,\n",
       "  -1,\n",
       "  -1,\n",
       "  -1,\n",
       "  -1,\n",
       "  -1,\n",
       "  -1,\n",
       "  -1,\n",
       "  -1,\n",
       "  -1,\n",
       "  -1,\n",
       "  -1,\n",
       "  -1,\n",
       "  -1,\n",
       "  -1,\n",
       "  -1,\n",
       "  -1]}"
      ]
     },
     "execution_count": 37,
     "metadata": {},
     "output_type": "execute_result"
    }
   ],
   "source": [
    "train_dataset[500001]"
   ]
  },
  {
   "cell_type": "code",
   "execution_count": null,
   "metadata": {},
   "outputs": [
    {
     "data": {
      "application/vnd.jupyter.widget-view+json": {
       "model_id": "06d9e03f99fc4d5fb4f2925b8bf66c09",
       "version_major": 2,
       "version_minor": 0
      },
      "text/plain": [
       "HBox(children=(FloatProgress(value=0.0, max=3.0), HTML(value='')))"
      ]
     },
     "metadata": {},
     "output_type": "display_data"
    },
    {
     "data": {
      "application/vnd.jupyter.widget-view+json": {
       "model_id": "199503e2793240f699f9cbc1f648d393",
       "version_major": 2,
       "version_minor": 0
      },
      "text/plain": [
       "HBox(children=(FloatProgress(value=0.0, description='Searching queries', max=502939.0, style=ProgressStyle(des…"
      ]
     },
     "metadata": {},
     "output_type": "display_data"
    }
   ],
   "source": [
    "train_dataset = Manual_Query_BM25_Reranking_Dataset(train_raw_samples[:2000000], get_query_fn, get_doc_fn, hits=150, num_neg_samples=100, index_dir=\"datasets/MS_MARCO/MARCO_anserini\")"
   ]
  },
  {
   "cell_type": "code",
   "execution_count": 28,
   "metadata": {},
   "outputs": [],
   "source": [
    "train_dataloader = train_dataset.to_dataloader(16, num_workers=32, shuffle=True)"
   ]
  },
  {
   "cell_type": "code",
   "execution_count": 27,
   "metadata": {},
   "outputs": [],
   "source": [
    "model = BERT_Reranker()"
   ]
  },
  {
   "cell_type": "code",
   "execution_count": null,
   "metadata": {},
   "outputs": [],
   "source": [
    "torch.save(model.state_dict(), \"saved_models/BERT_ReRanker_MARCO.ckpt\")"
   ]
  },
  {
   "cell_type": "code",
   "execution_count": 30,
   "metadata": {},
   "outputs": [
    {
     "data": {
      "text/plain": [
       "<All keys matched successfully>"
      ]
     },
     "execution_count": 30,
     "metadata": {},
     "output_type": "execute_result"
    }
   ],
   "source": [
    "model.load_state_dict(torch.load(\"saved_models/BERT_reranker_q100k_h100_checkpoints/BERT_ReRanker_MARCO_from_valid_0.38551378521302254.ckpt\"))"
   ]
  },
  {
   "cell_type": "code",
   "execution_count": 53,
   "metadata": {},
   "outputs": [
    {
     "name": "stdout",
     "output_type": "stream",
     "text": [
      "<All keys matched successfully>\n",
      "BERT ReRanker initialised on cuda. Batch size 64\n"
     ]
    },
    {
     "data": {
      "text/plain": [
       "[{'input_ids': [55, 66, 33], 'score': 0.044405270367860794},\n",
       " {'input_ids': [45, 76, 33], 'score': 0.044405270367860794}]"
      ]
     },
     "execution_count": 53,
     "metadata": {},
     "output_type": "execute_result"
    }
   ],
   "source": [
    "samples = [{\"input_ids\":[55,66,33]},{\"input_ids\":[45,76,33]}]\n",
    "score_transform = BERT_Score_Transform(\"saved_models/BERT_ReRanker_MARCO.ckpt\")\n",
    "score_transform(samples)"
   ]
  },
  {
   "cell_type": "code",
   "execution_count": 132,
   "metadata": {},
   "outputs": [
    {
     "name": "stdout",
     "output_type": "stream",
     "text": [
      "<All keys matched successfully>\n",
      "BERT ReRanker initialised on cuda. Batch size 64\n"
     ]
    },
    {
     "data": {
      "application/vnd.jupyter.widget-view+json": {
       "model_id": "4aef655b04824edcb52c528b5889c4ff",
       "version_major": 2,
       "version_minor": 0
      },
      "text/plain": [
       "HBox(children=(FloatProgress(value=0.0, description='Reranking queries', max=1.0, style=ProgressStyle(descript…"
      ]
     },
     "metadata": {},
     "output_type": "display_data"
    },
    {
     "name": "stdout",
     "output_type": "stream",
     "text": [
      "\n"
     ]
    },
    {
     "data": {
      "text/plain": [
       "[{'q_id': '121352',\n",
       "  'query': 'define extreme',\n",
       "  'search_results': [('MARCO_6237152', 0.6), ('MARCO_2912794', 0.6)],\n",
       "  'reranked_results': [('MARCO_2912794', 0.992748498916626),\n",
       "   ('MARCO_6237152', -0.01869625225663185)]}]"
      ]
     },
     "execution_count": 132,
     "metadata": {},
     "output_type": "execute_result"
    }
   ],
   "source": [
    "samples = [{'q_id':\"121352\",\"query\":\"define extreme\", 'search_results':[('MARCO_6237152', 0.6), ('MARCO_2912794', 0.6)]}]\n",
    "rerank_transform = BERT_ReRanker_Transform(\"saved_models/BERT_reranker_q10k_h100_checkpoints/BERT_ReRanker_MARCO_from_valid_0.3465380570542395.ckpt\", get_doc_fn)\n",
    "rerank_transform(samples)"
   ]
  },
  {
   "cell_type": "code",
   "execution_count": 11,
   "metadata": {},
   "outputs": [
    {
     "data": {
      "application/vnd.jupyter.widget-view+json": {
       "model_id": "",
       "version_major": 2,
       "version_minor": 0
      },
      "text/plain": [
       "HBox(children=(FloatProgress(value=1.0, bar_style='info', description='loading q_rels', max=1.0, style=Progres…"
      ]
     },
     "metadata": {},
     "output_type": "display_data"
    },
    {
     "data": {
      "application/vnd.jupyter.widget-view+json": {
       "model_id": "",
       "version_major": 2,
       "version_minor": 0
      },
      "text/plain": [
       "HBox(children=(FloatProgress(value=1.0, bar_style='info', description='loading dev queries', max=1.0, style=Pr…"
      ]
     },
     "metadata": {},
     "output_type": "display_data"
    },
    {
     "data": {
      "application/vnd.jupyter.widget-view+json": {
       "model_id": "",
       "version_major": 2,
       "version_minor": 0
      },
      "text/plain": [
       "HBox(children=(FloatProgress(value=1.0, bar_style='info', description='loading q_rels', max=1.0, style=Progres…"
      ]
     },
     "metadata": {},
     "output_type": "display_data"
    },
    {
     "data": {
      "application/vnd.jupyter.widget-view+json": {
       "model_id": "a8ef7ef1493544cda31358cebc1b5279",
       "version_major": 2,
       "version_minor": 0
      },
      "text/plain": [
       "HBox(children=(FloatProgress(value=0.0, description='Searching queries', max=400.0, style=ProgressStyle(descri…"
      ]
     },
     "metadata": {},
     "output_type": "display_data"
    },
    {
     "name": "stdout",
     "output_type": "stream",
     "text": [
      "\n"
     ]
    },
    {
     "data": {
      "application/vnd.jupyter.widget-view+json": {
       "model_id": "8b98b4a4feeb483d82f9a0a05c5f3d08",
       "version_major": 2,
       "version_minor": 0
      },
      "text/plain": [
       "HBox(children=(FloatProgress(value=0.0, max=1.0), HTML(value='')))"
      ]
     },
     "metadata": {},
     "output_type": "display_data"
    },
    {
     "data": {
      "application/vnd.jupyter.widget-view+json": {
       "model_id": "e1ad2eb0692d46a98605ecc8e5d4a6e8",
       "version_major": 2,
       "version_minor": 0
      },
      "text/plain": [
       "HBox(children=(FloatProgress(value=0.0, description='Flattening search results', max=400.0, style=ProgressStyl…"
      ]
     },
     "metadata": {},
     "output_type": "display_data"
    },
    {
     "name": "stdout",
     "output_type": "stream",
     "text": [
      "\n",
      "\n"
     ]
    }
   ],
   "source": [
    "valid_q_rels = raw_data_loader.q_rels(\"dev\")\n",
    "valid_raw_samples = raw_data_loader.get_topics(\"dev\")[:400]\n",
    "valid_samples = Query_Resolver_Transform(get_query_fn)(valid_raw_samples)\n",
    "valid_BM25_results = RUN_File_Search_Transform('saved_models/MARCO_dev_BM25.run', hits=100)(valid_raw_samples)\n",
    "val_dataset = Reranking_Validation_Dataset(valid_BM25_results, get_query_fn, get_doc_fn)\n",
    "val_dataloader = val_dataset.to_dataloader(128, num_workers=32, shuffle=False)"
   ]
  },
  {
   "cell_type": "code",
   "execution_count": 12,
   "metadata": {},
   "outputs": [
    {
     "name": "stdout",
     "output_type": "stream",
     "text": [
      "BM25 results\n",
      "{'map': 0.18098515570583398, 'recip_rank': 0.18098515570583398, 'ndcg': 0.27305565934364895, 'set_recall': 0.645}\n",
      "ORACLE results\n",
      "{'map': 0.645, 'recip_rank': 0.645, 'ndcg': 0.645, 'set_recall': 0.645}\n",
      "BERT+BM25 results\n",
      "cpu\n",
      "<All keys matched successfully>\n",
      "BERT ReRanker initialised on cuda:2. Batch size 256\n"
     ]
    },
    {
     "data": {
      "application/vnd.jupyter.widget-view+json": {
       "model_id": "237d83b55cb84ac0aabd4a07cd431d8a",
       "version_major": 2,
       "version_minor": 0
      },
      "text/plain": [
       "HBox(children=(FloatProgress(value=0.0, description='Reranking queries', max=400.0, style=ProgressStyle(descri…"
      ]
     },
     "metadata": {},
     "output_type": "display_data"
    },
    {
     "name": "stdout",
     "output_type": "stream",
     "text": [
      "\n",
      "{'map': 0.3138712999797035, 'recip_rank': 0.3138712999797035, 'ndcg': 0.38551378521302254, 'set_recall': 0.645}\n"
     ]
    }
   ],
   "source": [
    "# experiment\n",
    "expr = Ranking_Experiment(valid_q_rels)\n",
    "print(\"BM25 results\")\n",
    "print(expr(valid_BM25_results))\n",
    "\n",
    "print(\"ORACLE results\")\n",
    "valid_oracle_rerank_results = Oracle_ReRanker_Transform(valid_q_rels)(valid_BM25_results)\n",
    "for sample in valid_oracle_rerank_results:\n",
    "    sample[\"search_results\"] = sample[\"reranked_results\"]\n",
    "print(expr(valid_oracle_rerank_results))\n",
    "\n",
    "print(\"BERT+BM25 results\")\n",
    "valid_BERT_rerank_results = BERT_ReRanker_Transform(\"saved_models/BERT_reranker_q100k_h100_checkpoints/BERT_ReRanker_MARCO_from_valid_0.38551378521302254.ckpt\", get_doc_fn, device=\"cuda:2\", batch_size=256)(valid_BM25_results)\n",
    "for sample in valid_BERT_rerank_results:\n",
    "    sample[\"search_results\"] = sample[\"reranked_results\"]\n",
    "print(expr(valid_BERT_rerank_results))"
   ]
  },
  {
   "cell_type": "code",
   "execution_count": 17,
   "metadata": {},
   "outputs": [
    {
     "ename": "TypeError",
     "evalue": "Unable to resolve all measures.",
     "output_type": "error",
     "traceback": [
      "\u001b[0;31m---------------------------------------------------------------------------\u001b[0m",
      "\u001b[0;31mTypeError\u001b[0m                                 Traceback (most recent call last)",
      "\u001b[0;32m<ipython-input-17-e4723f569656>\u001b[0m in \u001b[0;36m<module>\u001b[0;34m\u001b[0m\n\u001b[0;32m----> 1\u001b[0;31m \u001b[0mexpr\u001b[0m \u001b[0;34m=\u001b[0m \u001b[0mRanking_Experiment\u001b[0m\u001b[0;34m(\u001b[0m\u001b[0mvalid_q_rels\u001b[0m\u001b[0;34m)\u001b[0m\u001b[0;34m\u001b[0m\u001b[0;34m\u001b[0m\u001b[0m\n\u001b[0m\u001b[1;32m      2\u001b[0m \u001b[0mprint\u001b[0m\u001b[0;34m(\u001b[0m\u001b[0mexpr\u001b[0m\u001b[0;34m(\u001b[0m\u001b[0mvalid_BERT_rerank_results\u001b[0m\u001b[0;34m)\u001b[0m\u001b[0;34m)\u001b[0m\u001b[0;34m\u001b[0m\u001b[0;34m\u001b[0m\u001b[0m\n",
      "\u001b[0;32m/nfs/phd_by_carlos/notebooks/src/Experiments.py\u001b[0m in \u001b[0;36m__init__\u001b[0;34m(self, q_rels, save_dir, save_name)\u001b[0m\n\u001b[1;32m    139\u001b[0m         \u001b[0;32mfor\u001b[0m \u001b[0mq_id\u001b[0m\u001b[0;34m,\u001b[0m \u001b[0md_ids\u001b[0m \u001b[0;32min\u001b[0m \u001b[0mq_rels\u001b[0m\u001b[0;34m.\u001b[0m\u001b[0mitems\u001b[0m\u001b[0;34m(\u001b[0m\u001b[0;34m)\u001b[0m\u001b[0;34m:\u001b[0m\u001b[0;34m\u001b[0m\u001b[0;34m\u001b[0m\u001b[0m\n\u001b[1;32m    140\u001b[0m             \u001b[0mpytrec_q_rels\u001b[0m\u001b[0;34m[\u001b[0m\u001b[0mq_id\u001b[0m\u001b[0;34m]\u001b[0m \u001b[0;34m=\u001b[0m \u001b[0;34m{\u001b[0m\u001b[0md_id\u001b[0m\u001b[0;34m:\u001b[0m\u001b[0;36m1\u001b[0m \u001b[0;32mfor\u001b[0m \u001b[0md_id\u001b[0m \u001b[0;32min\u001b[0m \u001b[0md_ids\u001b[0m\u001b[0;34m}\u001b[0m\u001b[0;34m\u001b[0m\u001b[0;34m\u001b[0m\u001b[0m\n\u001b[0;32m--> 141\u001b[0;31m         \u001b[0mself\u001b[0m\u001b[0;34m.\u001b[0m\u001b[0mevaluator\u001b[0m \u001b[0;34m=\u001b[0m \u001b[0mpytrec_eval\u001b[0m\u001b[0;34m.\u001b[0m\u001b[0mRelevanceEvaluator\u001b[0m\u001b[0;34m(\u001b[0m\u001b[0mpytrec_q_rels\u001b[0m\u001b[0;34m,\u001b[0m \u001b[0;34m{\u001b[0m\u001b[0;34m'map'\u001b[0m\u001b[0;34m,\u001b[0m \u001b[0;34m'ndcg'\u001b[0m\u001b[0;34m,\u001b[0m \u001b[0;34m'set_recall'\u001b[0m\u001b[0;34m,\u001b[0m \u001b[0;34m'recip_rank'\u001b[0m\u001b[0;34m,\u001b[0m \u001b[0;34m'map@5'\u001b[0m\u001b[0;34m}\u001b[0m\u001b[0;34m)\u001b[0m\u001b[0;34m\u001b[0m\u001b[0;34m\u001b[0m\u001b[0m\n\u001b[0m\u001b[1;32m    142\u001b[0m \u001b[0;34m\u001b[0m\u001b[0m\n\u001b[1;32m    143\u001b[0m     \u001b[0;32mdef\u001b[0m \u001b[0mdict_mean\u001b[0m\u001b[0;34m(\u001b[0m\u001b[0mself\u001b[0m\u001b[0;34m,\u001b[0m \u001b[0mdict_list\u001b[0m\u001b[0;34m)\u001b[0m\u001b[0;34m:\u001b[0m\u001b[0;34m\u001b[0m\u001b[0;34m\u001b[0m\u001b[0m\n",
      "\u001b[0;31mTypeError\u001b[0m: Unable to resolve all measures."
     ]
    }
   ],
   "source": [
    "expr = Ranking_Experiment(valid_q_rels)\n",
    "print(expr(valid_BERT_rerank_results))"
   ]
  },
  {
   "cell_type": "code",
   "execution_count": 1,
   "metadata": {},
   "outputs": [
    {
     "name": "stderr",
     "output_type": "stream",
     "text": [
      "ERROR:root:No traceback has been produced, nothing to debug.\n"
     ]
    }
   ],
   "source": [
    "%debug"
   ]
  },
  {
   "cell_type": "code",
   "execution_count": 32,
   "metadata": {
    "collapsed": true,
    "jupyter": {
     "outputs_hidden": true
    }
   },
   "outputs": [
    {
     "name": "stdout",
     "output_type": "stream",
     "text": [
      "Detected 8 GPUS available, using [0].\n",
      "Main device is: cuda:0\n"
     ]
    },
    {
     "data": {
      "application/vnd.jupyter.widget-view+json": {
       "model_id": "718bb72ed0bb4e81897358dddb651f2d",
       "version_major": 2,
       "version_minor": 0
      },
      "text/plain": [
       "HBox(children=(FloatProgress(value=0.0, max=12417.0), HTML(value='')))"
      ]
     },
     "metadata": {},
     "output_type": "display_data"
    },
    {
     "name": "stdout",
     "output_type": "stream",
     "text": [
      "\n",
      "Keyboard Interrupt!\n"
     ]
    },
    {
     "data": {
      "text/plain": [
       "{'train_loss': [tensor(0.7658, device='cuda:0', grad_fn=<MseLossBackward>),\n",
       "  tensor(0.5080, device='cuda:0', grad_fn=<MseLossBackward>),\n",
       "  tensor(0.3244, device='cuda:0', grad_fn=<MseLossBackward>),\n",
       "  tensor(0.3060, device='cuda:0', grad_fn=<MseLossBackward>),\n",
       "  tensor(0.2623, device='cuda:0', grad_fn=<MseLossBackward>),\n",
       "  tensor(0.4784, device='cuda:0', grad_fn=<MseLossBackward>),\n",
       "  tensor(0.5412, device='cuda:0', grad_fn=<MseLossBackward>),\n",
       "  tensor(0.4063, device='cuda:0', grad_fn=<MseLossBackward>),\n",
       "  tensor(0.4163, device='cuda:0', grad_fn=<MseLossBackward>),\n",
       "  tensor(0.5151, device='cuda:0', grad_fn=<MseLossBackward>),\n",
       "  tensor(0.3588, device='cuda:0', grad_fn=<MseLossBackward>),\n",
       "  tensor(0.4145, device='cuda:0', grad_fn=<MseLossBackward>),\n",
       "  tensor(0.3521, device='cuda:0', grad_fn=<MseLossBackward>),\n",
       "  tensor(0.2835, device='cuda:0', grad_fn=<MseLossBackward>),\n",
       "  tensor(0.3656, device='cuda:0', grad_fn=<MseLossBackward>),\n",
       "  tensor(0.5360, device='cuda:0', grad_fn=<MseLossBackward>),\n",
       "  tensor(0.2494, device='cuda:0', grad_fn=<MseLossBackward>),\n",
       "  tensor(0.4271, device='cuda:0', grad_fn=<MseLossBackward>),\n",
       "  tensor(0.4802, device='cuda:0', grad_fn=<MseLossBackward>),\n",
       "  tensor(0.3109, device='cuda:0', grad_fn=<MseLossBackward>),\n",
       "  tensor(0.2279, device='cuda:0', grad_fn=<MseLossBackward>),\n",
       "  tensor(0.3391, device='cuda:0', grad_fn=<MseLossBackward>),\n",
       "  tensor(0.1601, device='cuda:0', grad_fn=<MseLossBackward>),\n",
       "  tensor(0.3683, device='cuda:0', grad_fn=<MseLossBackward>),\n",
       "  tensor(0.3277, device='cuda:0', grad_fn=<MseLossBackward>),\n",
       "  tensor(0.5099, device='cuda:0', grad_fn=<MseLossBackward>),\n",
       "  tensor(0.2978, device='cuda:0', grad_fn=<MseLossBackward>),\n",
       "  tensor(0.3543, device='cuda:0', grad_fn=<MseLossBackward>),\n",
       "  tensor(0.1950, device='cuda:0', grad_fn=<MseLossBackward>),\n",
       "  tensor(0.3583, device='cuda:0', grad_fn=<MseLossBackward>),\n",
       "  tensor(0.3799, device='cuda:0', grad_fn=<MseLossBackward>),\n",
       "  tensor(0.4830, device='cuda:0', grad_fn=<MseLossBackward>),\n",
       "  tensor(0.4738, device='cuda:0', grad_fn=<MseLossBackward>),\n",
       "  tensor(0.1928, device='cuda:0', grad_fn=<MseLossBackward>),\n",
       "  tensor(0.3293, device='cuda:0', grad_fn=<MseLossBackward>),\n",
       "  tensor(0.3836, device='cuda:0', grad_fn=<MseLossBackward>),\n",
       "  tensor(0.2438, device='cuda:0', grad_fn=<MseLossBackward>),\n",
       "  tensor(0.4738, device='cuda:0', grad_fn=<MseLossBackward>),\n",
       "  tensor(0.3896, device='cuda:0', grad_fn=<MseLossBackward>),\n",
       "  tensor(0.3432, device='cuda:0', grad_fn=<MseLossBackward>),\n",
       "  tensor(0.3711, device='cuda:0', grad_fn=<MseLossBackward>),\n",
       "  tensor(0.3397, device='cuda:0', grad_fn=<MseLossBackward>),\n",
       "  tensor(0.2808, device='cuda:0', grad_fn=<MseLossBackward>),\n",
       "  tensor(0.5506, device='cuda:0', grad_fn=<MseLossBackward>),\n",
       "  tensor(0.2479, device='cuda:0', grad_fn=<MseLossBackward>),\n",
       "  tensor(0.3068, device='cuda:0', grad_fn=<MseLossBackward>),\n",
       "  tensor(0.2484, device='cuda:0', grad_fn=<MseLossBackward>),\n",
       "  tensor(0.3382, device='cuda:0', grad_fn=<MseLossBackward>),\n",
       "  tensor(0.2625, device='cuda:0', grad_fn=<MseLossBackward>),\n",
       "  tensor(0.2396, device='cuda:0', grad_fn=<MseLossBackward>),\n",
       "  tensor(0.3105, device='cuda:0', grad_fn=<MseLossBackward>),\n",
       "  tensor(0.3180, device='cuda:0', grad_fn=<MseLossBackward>),\n",
       "  tensor(0.3752, device='cuda:0', grad_fn=<MseLossBackward>),\n",
       "  tensor(0.4213, device='cuda:0', grad_fn=<MseLossBackward>),\n",
       "  tensor(0.6027, device='cuda:0', grad_fn=<MseLossBackward>),\n",
       "  tensor(0.3905, device='cuda:0', grad_fn=<MseLossBackward>),\n",
       "  tensor(0.4183, device='cuda:0', grad_fn=<MseLossBackward>),\n",
       "  tensor(0.3678, device='cuda:0', grad_fn=<MseLossBackward>),\n",
       "  tensor(0.3097, device='cuda:0', grad_fn=<MseLossBackward>),\n",
       "  tensor(0.3932, device='cuda:0', grad_fn=<MseLossBackward>),\n",
       "  tensor(0.1772, device='cuda:0', grad_fn=<MseLossBackward>),\n",
       "  tensor(0.2136, device='cuda:0', grad_fn=<MseLossBackward>),\n",
       "  tensor(0.2638, device='cuda:0', grad_fn=<MseLossBackward>),\n",
       "  tensor(0.3671, device='cuda:0', grad_fn=<MseLossBackward>),\n",
       "  tensor(0.1999, device='cuda:0', grad_fn=<MseLossBackward>),\n",
       "  tensor(0.4269, device='cuda:0', grad_fn=<MseLossBackward>),\n",
       "  tensor(0.3285, device='cuda:0', grad_fn=<MseLossBackward>),\n",
       "  tensor(0.2336, device='cuda:0', grad_fn=<MseLossBackward>),\n",
       "  tensor(0.4135, device='cuda:0', grad_fn=<MseLossBackward>),\n",
       "  tensor(0.2706, device='cuda:0', grad_fn=<MseLossBackward>),\n",
       "  tensor(0.4337, device='cuda:0', grad_fn=<MseLossBackward>),\n",
       "  tensor(0.4084, device='cuda:0', grad_fn=<MseLossBackward>),\n",
       "  tensor(0.4217, device='cuda:0', grad_fn=<MseLossBackward>),\n",
       "  tensor(0.3005, device='cuda:0', grad_fn=<MseLossBackward>),\n",
       "  tensor(0.3748, device='cuda:0', grad_fn=<MseLossBackward>),\n",
       "  tensor(0.1969, device='cuda:0', grad_fn=<MseLossBackward>),\n",
       "  tensor(0.1951, device='cuda:0', grad_fn=<MseLossBackward>),\n",
       "  tensor(0.3550, device='cuda:0', grad_fn=<MseLossBackward>),\n",
       "  tensor(0.2108, device='cuda:0', grad_fn=<MseLossBackward>),\n",
       "  tensor(0.3006, device='cuda:0', grad_fn=<MseLossBackward>),\n",
       "  tensor(0.2845, device='cuda:0', grad_fn=<MseLossBackward>),\n",
       "  tensor(0.3861, device='cuda:0', grad_fn=<MseLossBackward>),\n",
       "  tensor(0.3684, device='cuda:0', grad_fn=<MseLossBackward>),\n",
       "  tensor(0.1606, device='cuda:0', grad_fn=<MseLossBackward>),\n",
       "  tensor(0.3839, device='cuda:0', grad_fn=<MseLossBackward>),\n",
       "  tensor(0.2355, device='cuda:0', grad_fn=<MseLossBackward>),\n",
       "  tensor(0.4261, device='cuda:0', grad_fn=<MseLossBackward>),\n",
       "  tensor(0.2911, device='cuda:0', grad_fn=<MseLossBackward>),\n",
       "  tensor(0.3309, device='cuda:0', grad_fn=<MseLossBackward>),\n",
       "  tensor(0.4149, device='cuda:0', grad_fn=<MseLossBackward>),\n",
       "  tensor(0.2853, device='cuda:0', grad_fn=<MseLossBackward>),\n",
       "  tensor(0.3215, device='cuda:0', grad_fn=<MseLossBackward>),\n",
       "  tensor(0.3885, device='cuda:0', grad_fn=<MseLossBackward>),\n",
       "  tensor(0.4405, device='cuda:0', grad_fn=<MseLossBackward>),\n",
       "  tensor(0.2206, device='cuda:0', grad_fn=<MseLossBackward>),\n",
       "  tensor(0.3192, device='cuda:0', grad_fn=<MseLossBackward>),\n",
       "  tensor(0.2625, device='cuda:0', grad_fn=<MseLossBackward>),\n",
       "  tensor(0.2099, device='cuda:0', grad_fn=<MseLossBackward>),\n",
       "  tensor(0.2676, device='cuda:0', grad_fn=<MseLossBackward>),\n",
       "  tensor(0.3018, device='cuda:0', grad_fn=<MseLossBackward>),\n",
       "  tensor(0.3630, device='cuda:0', grad_fn=<MseLossBackward>),\n",
       "  tensor(0.2186, device='cuda:0', grad_fn=<MseLossBackward>),\n",
       "  tensor(0.4459, device='cuda:0', grad_fn=<MseLossBackward>),\n",
       "  tensor(0.2196, device='cuda:0', grad_fn=<MseLossBackward>),\n",
       "  tensor(0.3754, device='cuda:0', grad_fn=<MseLossBackward>),\n",
       "  tensor(0.3112, device='cuda:0', grad_fn=<MseLossBackward>),\n",
       "  tensor(0.2775, device='cuda:0', grad_fn=<MseLossBackward>),\n",
       "  tensor(0.4219, device='cuda:0', grad_fn=<MseLossBackward>),\n",
       "  tensor(0.3242, device='cuda:0', grad_fn=<MseLossBackward>),\n",
       "  tensor(0.3344, device='cuda:0', grad_fn=<MseLossBackward>),\n",
       "  tensor(0.3524, device='cuda:0', grad_fn=<MseLossBackward>),\n",
       "  tensor(0.2933, device='cuda:0', grad_fn=<MseLossBackward>),\n",
       "  tensor(0.3107, device='cuda:0', grad_fn=<MseLossBackward>),\n",
       "  tensor(0.3483, device='cuda:0', grad_fn=<MseLossBackward>),\n",
       "  tensor(0.1969, device='cuda:0', grad_fn=<MseLossBackward>),\n",
       "  tensor(0.2551, device='cuda:0', grad_fn=<MseLossBackward>),\n",
       "  tensor(0.2591, device='cuda:0', grad_fn=<MseLossBackward>),\n",
       "  tensor(0.3121, device='cuda:0', grad_fn=<MseLossBackward>),\n",
       "  tensor(0.3809, device='cuda:0', grad_fn=<MseLossBackward>),\n",
       "  tensor(0.3569, device='cuda:0', grad_fn=<MseLossBackward>),\n",
       "  tensor(0.1917, device='cuda:0', grad_fn=<MseLossBackward>),\n",
       "  tensor(0.2572, device='cuda:0', grad_fn=<MseLossBackward>),\n",
       "  tensor(0.2487, device='cuda:0', grad_fn=<MseLossBackward>),\n",
       "  tensor(0.2477, device='cuda:0', grad_fn=<MseLossBackward>),\n",
       "  tensor(0.2399, device='cuda:0', grad_fn=<MseLossBackward>),\n",
       "  tensor(0.3560, device='cuda:0', grad_fn=<MseLossBackward>),\n",
       "  tensor(0.2019, device='cuda:0', grad_fn=<MseLossBackward>),\n",
       "  tensor(0.2635, device='cuda:0', grad_fn=<MseLossBackward>),\n",
       "  tensor(0.2318, device='cuda:0', grad_fn=<MseLossBackward>),\n",
       "  tensor(0.2856, device='cuda:0', grad_fn=<MseLossBackward>),\n",
       "  tensor(0.1371, device='cuda:0', grad_fn=<MseLossBackward>),\n",
       "  tensor(0.3036, device='cuda:0', grad_fn=<MseLossBackward>),\n",
       "  tensor(0.3278, device='cuda:0', grad_fn=<MseLossBackward>),\n",
       "  tensor(0.3458, device='cuda:0', grad_fn=<MseLossBackward>),\n",
       "  tensor(0.2402, device='cuda:0', grad_fn=<MseLossBackward>),\n",
       "  tensor(0.1621, device='cuda:0', grad_fn=<MseLossBackward>),\n",
       "  tensor(0.2304, device='cuda:0', grad_fn=<MseLossBackward>),\n",
       "  tensor(0.2975, device='cuda:0', grad_fn=<MseLossBackward>),\n",
       "  tensor(0.2967, device='cuda:0', grad_fn=<MseLossBackward>),\n",
       "  tensor(0.2360, device='cuda:0', grad_fn=<MseLossBackward>),\n",
       "  tensor(0.1747, device='cuda:0', grad_fn=<MseLossBackward>),\n",
       "  tensor(0.4213, device='cuda:0', grad_fn=<MseLossBackward>),\n",
       "  tensor(0.2490, device='cuda:0', grad_fn=<MseLossBackward>),\n",
       "  tensor(0.3707, device='cuda:0', grad_fn=<MseLossBackward>),\n",
       "  tensor(0.2917, device='cuda:0', grad_fn=<MseLossBackward>),\n",
       "  tensor(0.3143, device='cuda:0', grad_fn=<MseLossBackward>),\n",
       "  tensor(0.2834, device='cuda:0', grad_fn=<MseLossBackward>),\n",
       "  tensor(0.3015, device='cuda:0', grad_fn=<MseLossBackward>),\n",
       "  tensor(0.2074, device='cuda:0', grad_fn=<MseLossBackward>),\n",
       "  tensor(0.3201, device='cuda:0', grad_fn=<MseLossBackward>),\n",
       "  tensor(0.2528, device='cuda:0', grad_fn=<MseLossBackward>),\n",
       "  tensor(0.2398, device='cuda:0', grad_fn=<MseLossBackward>),\n",
       "  tensor(0.2085, device='cuda:0', grad_fn=<MseLossBackward>),\n",
       "  tensor(0.2477, device='cuda:0', grad_fn=<MseLossBackward>),\n",
       "  tensor(0.3101, device='cuda:0', grad_fn=<MseLossBackward>),\n",
       "  tensor(0.2464, device='cuda:0', grad_fn=<MseLossBackward>),\n",
       "  tensor(0.3237, device='cuda:0', grad_fn=<MseLossBackward>),\n",
       "  tensor(0.3700, device='cuda:0', grad_fn=<MseLossBackward>),\n",
       "  tensor(0.2300, device='cuda:0', grad_fn=<MseLossBackward>),\n",
       "  tensor(0.3307, device='cuda:0', grad_fn=<MseLossBackward>),\n",
       "  tensor(0.3241, device='cuda:0', grad_fn=<MseLossBackward>),\n",
       "  tensor(0.2660, device='cuda:0', grad_fn=<MseLossBackward>),\n",
       "  tensor(0.2074, device='cuda:0', grad_fn=<MseLossBackward>),\n",
       "  tensor(0.2789, device='cuda:0', grad_fn=<MseLossBackward>),\n",
       "  tensor(0.2245, device='cuda:0', grad_fn=<MseLossBackward>),\n",
       "  tensor(0.2423, device='cuda:0', grad_fn=<MseLossBackward>),\n",
       "  tensor(0.1819, device='cuda:0', grad_fn=<MseLossBackward>),\n",
       "  tensor(0.2291, device='cuda:0', grad_fn=<MseLossBackward>),\n",
       "  tensor(0.3347, device='cuda:0', grad_fn=<MseLossBackward>),\n",
       "  tensor(0.2903, device='cuda:0', grad_fn=<MseLossBackward>),\n",
       "  tensor(0.3216, device='cuda:0', grad_fn=<MseLossBackward>),\n",
       "  tensor(0.2212, device='cuda:0', grad_fn=<MseLossBackward>),\n",
       "  tensor(0.1940, device='cuda:0', grad_fn=<MseLossBackward>),\n",
       "  tensor(0.2545, device='cuda:0', grad_fn=<MseLossBackward>),\n",
       "  tensor(0.1857, device='cuda:0', grad_fn=<MseLossBackward>),\n",
       "  tensor(0.2261, device='cuda:0', grad_fn=<MseLossBackward>),\n",
       "  tensor(0.2389, device='cuda:0', grad_fn=<MseLossBackward>),\n",
       "  tensor(0.2307, device='cuda:0', grad_fn=<MseLossBackward>),\n",
       "  tensor(0.1908, device='cuda:0', grad_fn=<MseLossBackward>),\n",
       "  tensor(0.2320, device='cuda:0', grad_fn=<MseLossBackward>),\n",
       "  tensor(0.2609, device='cuda:0', grad_fn=<MseLossBackward>),\n",
       "  tensor(0.1990, device='cuda:0', grad_fn=<MseLossBackward>),\n",
       "  tensor(0.2497, device='cuda:0', grad_fn=<MseLossBackward>),\n",
       "  tensor(0.2277, device='cuda:0', grad_fn=<MseLossBackward>),\n",
       "  tensor(0.2110, device='cuda:0', grad_fn=<MseLossBackward>),\n",
       "  tensor(0.2598, device='cuda:0', grad_fn=<MseLossBackward>),\n",
       "  tensor(0.2699, device='cuda:0', grad_fn=<MseLossBackward>),\n",
       "  tensor(0.1746, device='cuda:0', grad_fn=<MseLossBackward>),\n",
       "  tensor(0.3150, device='cuda:0', grad_fn=<MseLossBackward>),\n",
       "  tensor(0.3433, device='cuda:0', grad_fn=<MseLossBackward>),\n",
       "  tensor(0.3400, device='cuda:0', grad_fn=<MseLossBackward>),\n",
       "  tensor(0.2153, device='cuda:0', grad_fn=<MseLossBackward>),\n",
       "  tensor(0.3354, device='cuda:0', grad_fn=<MseLossBackward>),\n",
       "  tensor(0.2770, device='cuda:0', grad_fn=<MseLossBackward>),\n",
       "  tensor(0.3343, device='cuda:0', grad_fn=<MseLossBackward>),\n",
       "  tensor(0.3049, device='cuda:0', grad_fn=<MseLossBackward>),\n",
       "  tensor(0.1849, device='cuda:0', grad_fn=<MseLossBackward>),\n",
       "  tensor(0.2907, device='cuda:0', grad_fn=<MseLossBackward>),\n",
       "  tensor(0.2776, device='cuda:0', grad_fn=<MseLossBackward>),\n",
       "  tensor(0.2843, device='cuda:0', grad_fn=<MseLossBackward>),\n",
       "  tensor(0.2661, device='cuda:0', grad_fn=<MseLossBackward>),\n",
       "  tensor(0.2137, device='cuda:0', grad_fn=<MseLossBackward>),\n",
       "  tensor(0.2825, device='cuda:0', grad_fn=<MseLossBackward>),\n",
       "  tensor(0.2899, device='cuda:0', grad_fn=<MseLossBackward>),\n",
       "  tensor(0.2132, device='cuda:0', grad_fn=<MseLossBackward>),\n",
       "  tensor(0.2307, device='cuda:0', grad_fn=<MseLossBackward>),\n",
       "  tensor(0.2622, device='cuda:0', grad_fn=<MseLossBackward>),\n",
       "  tensor(0.1932, device='cuda:0', grad_fn=<MseLossBackward>),\n",
       "  tensor(0.2090, device='cuda:0', grad_fn=<MseLossBackward>),\n",
       "  tensor(0.2497, device='cuda:0', grad_fn=<MseLossBackward>),\n",
       "  tensor(0.3014, device='cuda:0', grad_fn=<MseLossBackward>),\n",
       "  tensor(0.2447, device='cuda:0', grad_fn=<MseLossBackward>),\n",
       "  tensor(0.2782, device='cuda:0', grad_fn=<MseLossBackward>),\n",
       "  tensor(0.2562, device='cuda:0', grad_fn=<MseLossBackward>),\n",
       "  tensor(0.2142, device='cuda:0', grad_fn=<MseLossBackward>),\n",
       "  tensor(0.2617, device='cuda:0', grad_fn=<MseLossBackward>),\n",
       "  tensor(0.2043, device='cuda:0', grad_fn=<MseLossBackward>),\n",
       "  tensor(0.2425, device='cuda:0', grad_fn=<MseLossBackward>),\n",
       "  tensor(0.2287, device='cuda:0', grad_fn=<MseLossBackward>),\n",
       "  tensor(0.2669, device='cuda:0', grad_fn=<MseLossBackward>),\n",
       "  tensor(0.2275, device='cuda:0', grad_fn=<MseLossBackward>),\n",
       "  tensor(0.2598, device='cuda:0', grad_fn=<MseLossBackward>),\n",
       "  tensor(0.2844, device='cuda:0', grad_fn=<MseLossBackward>),\n",
       "  tensor(0.1747, device='cuda:0', grad_fn=<MseLossBackward>),\n",
       "  tensor(0.1906, device='cuda:0', grad_fn=<MseLossBackward>),\n",
       "  tensor(0.2025, device='cuda:0', grad_fn=<MseLossBackward>),\n",
       "  tensor(0.3412, device='cuda:0', grad_fn=<MseLossBackward>),\n",
       "  tensor(0.2961, device='cuda:0', grad_fn=<MseLossBackward>),\n",
       "  tensor(0.1897, device='cuda:0', grad_fn=<MseLossBackward>),\n",
       "  tensor(0.3337, device='cuda:0', grad_fn=<MseLossBackward>),\n",
       "  tensor(0.1770, device='cuda:0', grad_fn=<MseLossBackward>),\n",
       "  tensor(0.2511, device='cuda:0', grad_fn=<MseLossBackward>),\n",
       "  tensor(0.2750, device='cuda:0', grad_fn=<MseLossBackward>),\n",
       "  tensor(0.2164, device='cuda:0', grad_fn=<MseLossBackward>),\n",
       "  tensor(0.1743, device='cuda:0', grad_fn=<MseLossBackward>),\n",
       "  tensor(0.2569, device='cuda:0', grad_fn=<MseLossBackward>),\n",
       "  tensor(0.2790, device='cuda:0', grad_fn=<MseLossBackward>),\n",
       "  tensor(0.2076, device='cuda:0', grad_fn=<MseLossBackward>),\n",
       "  tensor(0.2581, device='cuda:0', grad_fn=<MseLossBackward>),\n",
       "  tensor(0.1903, device='cuda:0', grad_fn=<MseLossBackward>),\n",
       "  tensor(0.3397, device='cuda:0', grad_fn=<MseLossBackward>),\n",
       "  tensor(0.2338, device='cuda:0', grad_fn=<MseLossBackward>),\n",
       "  tensor(0.2793, device='cuda:0', grad_fn=<MseLossBackward>),\n",
       "  tensor(0.3206, device='cuda:0', grad_fn=<MseLossBackward>),\n",
       "  tensor(0.2503, device='cuda:0', grad_fn=<MseLossBackward>),\n",
       "  tensor(0.2480, device='cuda:0', grad_fn=<MseLossBackward>),\n",
       "  tensor(0.2675, device='cuda:0', grad_fn=<MseLossBackward>),\n",
       "  tensor(0.1852, device='cuda:0', grad_fn=<MseLossBackward>),\n",
       "  tensor(0.2331, device='cuda:0', grad_fn=<MseLossBackward>),\n",
       "  tensor(0.2439, device='cuda:0', grad_fn=<MseLossBackward>),\n",
       "  tensor(0.2920, device='cuda:0', grad_fn=<MseLossBackward>),\n",
       "  tensor(0.2414, device='cuda:0', grad_fn=<MseLossBackward>),\n",
       "  tensor(0.2458, device='cuda:0', grad_fn=<MseLossBackward>),\n",
       "  tensor(0.2248, device='cuda:0', grad_fn=<MseLossBackward>),\n",
       "  tensor(0.2586, device='cuda:0', grad_fn=<MseLossBackward>),\n",
       "  tensor(0.2069, device='cuda:0', grad_fn=<MseLossBackward>),\n",
       "  tensor(0.1754, device='cuda:0', grad_fn=<MseLossBackward>),\n",
       "  tensor(0.2344, device='cuda:0', grad_fn=<MseLossBackward>),\n",
       "  tensor(0.2659, device='cuda:0', grad_fn=<MseLossBackward>),\n",
       "  tensor(0.3284, device='cuda:0', grad_fn=<MseLossBackward>),\n",
       "  tensor(0.2553, device='cuda:0', grad_fn=<MseLossBackward>),\n",
       "  tensor(0.2406, device='cuda:0', grad_fn=<MseLossBackward>),\n",
       "  tensor(0.2286, device='cuda:0', grad_fn=<MseLossBackward>),\n",
       "  tensor(0.1939, device='cuda:0', grad_fn=<MseLossBackward>),\n",
       "  tensor(0.2973, device='cuda:0', grad_fn=<MseLossBackward>),\n",
       "  tensor(0.2192, device='cuda:0', grad_fn=<MseLossBackward>),\n",
       "  tensor(0.2255, device='cuda:0', grad_fn=<MseLossBackward>),\n",
       "  tensor(0.2538, device='cuda:0', grad_fn=<MseLossBackward>),\n",
       "  tensor(0.2935, device='cuda:0', grad_fn=<MseLossBackward>),\n",
       "  tensor(0.2211, device='cuda:0', grad_fn=<MseLossBackward>),\n",
       "  tensor(0.2206, device='cuda:0', grad_fn=<MseLossBackward>),\n",
       "  tensor(0.2333, device='cuda:0', grad_fn=<MseLossBackward>),\n",
       "  tensor(0.2870, device='cuda:0', grad_fn=<MseLossBackward>),\n",
       "  tensor(0.2896, device='cuda:0', grad_fn=<MseLossBackward>),\n",
       "  tensor(0.2491, device='cuda:0', grad_fn=<MseLossBackward>),\n",
       "  tensor(0.1542, device='cuda:0', grad_fn=<MseLossBackward>),\n",
       "  tensor(0.2278, device='cuda:0', grad_fn=<MseLossBackward>),\n",
       "  tensor(0.1857, device='cuda:0', grad_fn=<MseLossBackward>),\n",
       "  tensor(0.1498, device='cuda:0', grad_fn=<MseLossBackward>),\n",
       "  tensor(0.2334, device='cuda:0', grad_fn=<MseLossBackward>),\n",
       "  tensor(0.2265, device='cuda:0', grad_fn=<MseLossBackward>),\n",
       "  tensor(0.3198, device='cuda:0', grad_fn=<MseLossBackward>),\n",
       "  tensor(0.2450, device='cuda:0', grad_fn=<MseLossBackward>),\n",
       "  tensor(0.2879, device='cuda:0', grad_fn=<MseLossBackward>),\n",
       "  tensor(0.2509, device='cuda:0', grad_fn=<MseLossBackward>),\n",
       "  tensor(0.3891, device='cuda:0', grad_fn=<MseLossBackward>),\n",
       "  tensor(0.2817, device='cuda:0', grad_fn=<MseLossBackward>),\n",
       "  tensor(0.2401, device='cuda:0', grad_fn=<MseLossBackward>),\n",
       "  tensor(0.2292, device='cuda:0', grad_fn=<MseLossBackward>),\n",
       "  tensor(0.2825, device='cuda:0', grad_fn=<MseLossBackward>),\n",
       "  tensor(0.2476, device='cuda:0', grad_fn=<MseLossBackward>),\n",
       "  tensor(0.2683, device='cuda:0', grad_fn=<MseLossBackward>),\n",
       "  tensor(0.2577, device='cuda:0', grad_fn=<MseLossBackward>),\n",
       "  tensor(0.1895, device='cuda:0', grad_fn=<MseLossBackward>),\n",
       "  tensor(0.1941, device='cuda:0', grad_fn=<MseLossBackward>),\n",
       "  tensor(0.2838, device='cuda:0', grad_fn=<MseLossBackward>),\n",
       "  tensor(0.2144, device='cuda:0', grad_fn=<MseLossBackward>),\n",
       "  tensor(0.2201, device='cuda:0', grad_fn=<MseLossBackward>),\n",
       "  tensor(0.2784, device='cuda:0', grad_fn=<MseLossBackward>),\n",
       "  tensor(0.2114, device='cuda:0', grad_fn=<MseLossBackward>),\n",
       "  tensor(0.2500, device='cuda:0', grad_fn=<MseLossBackward>),\n",
       "  tensor(0.2621, device='cuda:0', grad_fn=<MseLossBackward>),\n",
       "  tensor(0.2225, device='cuda:0', grad_fn=<MseLossBackward>),\n",
       "  tensor(0.2186, device='cuda:0', grad_fn=<MseLossBackward>),\n",
       "  tensor(0.1762, device='cuda:0', grad_fn=<MseLossBackward>),\n",
       "  tensor(0.2379, device='cuda:0', grad_fn=<MseLossBackward>),\n",
       "  tensor(0.2237, device='cuda:0', grad_fn=<MseLossBackward>),\n",
       "  tensor(0.2354, device='cuda:0', grad_fn=<MseLossBackward>),\n",
       "  tensor(0.3270, device='cuda:0', grad_fn=<MseLossBackward>),\n",
       "  tensor(0.2581, device='cuda:0', grad_fn=<MseLossBackward>),\n",
       "  tensor(0.2846, device='cuda:0', grad_fn=<MseLossBackward>),\n",
       "  tensor(0.1493, device='cuda:0', grad_fn=<MseLossBackward>),\n",
       "  tensor(0.2548, device='cuda:0', grad_fn=<MseLossBackward>),\n",
       "  tensor(0.2512, device='cuda:0', grad_fn=<MseLossBackward>),\n",
       "  tensor(0.2283, device='cuda:0', grad_fn=<MseLossBackward>),\n",
       "  tensor(0.2746, device='cuda:0', grad_fn=<MseLossBackward>),\n",
       "  tensor(0.2629, device='cuda:0', grad_fn=<MseLossBackward>),\n",
       "  tensor(0.1782, device='cuda:0', grad_fn=<MseLossBackward>),\n",
       "  tensor(0.2386, device='cuda:0', grad_fn=<MseLossBackward>),\n",
       "  tensor(0.2875, device='cuda:0', grad_fn=<MseLossBackward>),\n",
       "  tensor(0.3035, device='cuda:0', grad_fn=<MseLossBackward>),\n",
       "  tensor(0.2125, device='cuda:0', grad_fn=<MseLossBackward>),\n",
       "  tensor(0.2544, device='cuda:0', grad_fn=<MseLossBackward>),\n",
       "  tensor(0.1850, device='cuda:0', grad_fn=<MseLossBackward>),\n",
       "  tensor(0.2626, device='cuda:0', grad_fn=<MseLossBackward>),\n",
       "  tensor(0.2300, device='cuda:0', grad_fn=<MseLossBackward>),\n",
       "  tensor(0.2118, device='cuda:0', grad_fn=<MseLossBackward>),\n",
       "  tensor(0.2264, device='cuda:0', grad_fn=<MseLossBackward>),\n",
       "  tensor(0.2653, device='cuda:0', grad_fn=<MseLossBackward>),\n",
       "  tensor(0.1940, device='cuda:0', grad_fn=<MseLossBackward>),\n",
       "  tensor(0.1648, device='cuda:0', grad_fn=<MseLossBackward>),\n",
       "  tensor(0.2454, device='cuda:0', grad_fn=<MseLossBackward>),\n",
       "  tensor(0.2592, device='cuda:0', grad_fn=<MseLossBackward>),\n",
       "  tensor(0.1829, device='cuda:0', grad_fn=<MseLossBackward>),\n",
       "  tensor(0.2228, device='cuda:0', grad_fn=<MseLossBackward>),\n",
       "  tensor(0.2614, device='cuda:0', grad_fn=<MseLossBackward>),\n",
       "  tensor(0.2919, device='cuda:0', grad_fn=<MseLossBackward>),\n",
       "  tensor(0.3308, device='cuda:0', grad_fn=<MseLossBackward>),\n",
       "  tensor(0.2507, device='cuda:0', grad_fn=<MseLossBackward>),\n",
       "  tensor(0.2473, device='cuda:0', grad_fn=<MseLossBackward>),\n",
       "  tensor(0.2566, device='cuda:0', grad_fn=<MseLossBackward>),\n",
       "  tensor(0.2494, device='cuda:0', grad_fn=<MseLossBackward>),\n",
       "  tensor(0.2781, device='cuda:0', grad_fn=<MseLossBackward>),\n",
       "  tensor(0.2090, device='cuda:0', grad_fn=<MseLossBackward>),\n",
       "  tensor(0.2207, device='cuda:0', grad_fn=<MseLossBackward>),\n",
       "  tensor(0.1794, device='cuda:0', grad_fn=<MseLossBackward>),\n",
       "  tensor(0.1637, device='cuda:0', grad_fn=<MseLossBackward>),\n",
       "  tensor(0.1325, device='cuda:0', grad_fn=<MseLossBackward>),\n",
       "  tensor(0.2313, device='cuda:0', grad_fn=<MseLossBackward>),\n",
       "  tensor(0.2862, device='cuda:0', grad_fn=<MseLossBackward>),\n",
       "  tensor(0.2870, device='cuda:0', grad_fn=<MseLossBackward>),\n",
       "  tensor(0.3158, device='cuda:0', grad_fn=<MseLossBackward>),\n",
       "  tensor(0.1858, device='cuda:0', grad_fn=<MseLossBackward>),\n",
       "  tensor(0.1797, device='cuda:0', grad_fn=<MseLossBackward>),\n",
       "  tensor(0.2089, device='cuda:0', grad_fn=<MseLossBackward>),\n",
       "  tensor(0.2773, device='cuda:0', grad_fn=<MseLossBackward>),\n",
       "  tensor(0.2787, device='cuda:0', grad_fn=<MseLossBackward>),\n",
       "  tensor(0.1963, device='cuda:0', grad_fn=<MseLossBackward>),\n",
       "  tensor(0.2959, device='cuda:0', grad_fn=<MseLossBackward>),\n",
       "  tensor(0.3475, device='cuda:0', grad_fn=<MseLossBackward>),\n",
       "  tensor(0.2024, device='cuda:0', grad_fn=<MseLossBackward>),\n",
       "  tensor(0.2013, device='cuda:0', grad_fn=<MseLossBackward>),\n",
       "  tensor(0.3267, device='cuda:0', grad_fn=<MseLossBackward>),\n",
       "  tensor(0.2581, device='cuda:0', grad_fn=<MseLossBackward>),\n",
       "  tensor(0.1666, device='cuda:0', grad_fn=<MseLossBackward>),\n",
       "  tensor(0.2154, device='cuda:0', grad_fn=<MseLossBackward>),\n",
       "  tensor(0.2673, device='cuda:0', grad_fn=<MseLossBackward>),\n",
       "  tensor(0.2438, device='cuda:0', grad_fn=<MseLossBackward>),\n",
       "  tensor(0.2153, device='cuda:0', grad_fn=<MseLossBackward>),\n",
       "  tensor(0.3099, device='cuda:0', grad_fn=<MseLossBackward>),\n",
       "  tensor(0.2096, device='cuda:0', grad_fn=<MseLossBackward>),\n",
       "  tensor(0.2581, device='cuda:0', grad_fn=<MseLossBackward>),\n",
       "  tensor(0.2051, device='cuda:0', grad_fn=<MseLossBackward>),\n",
       "  tensor(0.1945, device='cuda:0', grad_fn=<MseLossBackward>),\n",
       "  tensor(0.2573, device='cuda:0', grad_fn=<MseLossBackward>),\n",
       "  tensor(0.3036, device='cuda:0', grad_fn=<MseLossBackward>),\n",
       "  tensor(0.2316, device='cuda:0', grad_fn=<MseLossBackward>),\n",
       "  tensor(0.1863, device='cuda:0', grad_fn=<MseLossBackward>),\n",
       "  tensor(0.1812, device='cuda:0', grad_fn=<MseLossBackward>),\n",
       "  tensor(0.1815, device='cuda:0', grad_fn=<MseLossBackward>),\n",
       "  tensor(0.2375, device='cuda:0', grad_fn=<MseLossBackward>),\n",
       "  tensor(0.2573, device='cuda:0', grad_fn=<MseLossBackward>),\n",
       "  tensor(0.2741, device='cuda:0', grad_fn=<MseLossBackward>),\n",
       "  tensor(0.1824, device='cuda:0', grad_fn=<MseLossBackward>),\n",
       "  tensor(0.2013, device='cuda:0', grad_fn=<MseLossBackward>),\n",
       "  tensor(0.2100, device='cuda:0', grad_fn=<MseLossBackward>),\n",
       "  tensor(0.2200, device='cuda:0', grad_fn=<MseLossBackward>),\n",
       "  tensor(0.2103, device='cuda:0', grad_fn=<MseLossBackward>),\n",
       "  tensor(0.2340, device='cuda:0', grad_fn=<MseLossBackward>),\n",
       "  tensor(0.1888, device='cuda:0', grad_fn=<MseLossBackward>),\n",
       "  tensor(0.2248, device='cuda:0', grad_fn=<MseLossBackward>),\n",
       "  tensor(0.1979, device='cuda:0', grad_fn=<MseLossBackward>),\n",
       "  tensor(0.3150, device='cuda:0', grad_fn=<MseLossBackward>),\n",
       "  tensor(0.1951, device='cuda:0', grad_fn=<MseLossBackward>),\n",
       "  tensor(0.2137, device='cuda:0', grad_fn=<MseLossBackward>),\n",
       "  tensor(0.2077, device='cuda:0', grad_fn=<MseLossBackward>),\n",
       "  tensor(0.2120, device='cuda:0', grad_fn=<MseLossBackward>),\n",
       "  tensor(0.2192, device='cuda:0', grad_fn=<MseLossBackward>),\n",
       "  tensor(0.2425, device='cuda:0', grad_fn=<MseLossBackward>),\n",
       "  tensor(0.2868, device='cuda:0', grad_fn=<MseLossBackward>),\n",
       "  tensor(0.3029, device='cuda:0', grad_fn=<MseLossBackward>),\n",
       "  tensor(0.1715, device='cuda:0', grad_fn=<MseLossBackward>),\n",
       "  tensor(0.2623, device='cuda:0', grad_fn=<MseLossBackward>),\n",
       "  tensor(0.4150, device='cuda:0', grad_fn=<MseLossBackward>),\n",
       "  tensor(0.2366, device='cuda:0', grad_fn=<MseLossBackward>),\n",
       "  tensor(0.1891, device='cuda:0', grad_fn=<MseLossBackward>),\n",
       "  tensor(0.1570, device='cuda:0', grad_fn=<MseLossBackward>),\n",
       "  tensor(0.2283, device='cuda:0', grad_fn=<MseLossBackward>),\n",
       "  tensor(0.1581, device='cuda:0', grad_fn=<MseLossBackward>),\n",
       "  tensor(0.1955, device='cuda:0', grad_fn=<MseLossBackward>),\n",
       "  tensor(0.1690, device='cuda:0', grad_fn=<MseLossBackward>),\n",
       "  tensor(0.2573, device='cuda:0', grad_fn=<MseLossBackward>),\n",
       "  tensor(0.2031, device='cuda:0', grad_fn=<MseLossBackward>),\n",
       "  tensor(0.2536, device='cuda:0', grad_fn=<MseLossBackward>),\n",
       "  tensor(0.2044, device='cuda:0', grad_fn=<MseLossBackward>),\n",
       "  tensor(0.2406, device='cuda:0', grad_fn=<MseLossBackward>),\n",
       "  tensor(0.2360, device='cuda:0', grad_fn=<MseLossBackward>),\n",
       "  tensor(0.2329, device='cuda:0', grad_fn=<MseLossBackward>),\n",
       "  tensor(0.3333, device='cuda:0', grad_fn=<MseLossBackward>),\n",
       "  tensor(0.2062, device='cuda:0', grad_fn=<MseLossBackward>),\n",
       "  tensor(0.2419, device='cuda:0', grad_fn=<MseLossBackward>),\n",
       "  tensor(0.1925, device='cuda:0', grad_fn=<MseLossBackward>),\n",
       "  tensor(0.1949, device='cuda:0', grad_fn=<MseLossBackward>),\n",
       "  tensor(0.1600, device='cuda:0', grad_fn=<MseLossBackward>),\n",
       "  tensor(0.2018, device='cuda:0', grad_fn=<MseLossBackward>),\n",
       "  tensor(0.1598, device='cuda:0', grad_fn=<MseLossBackward>),\n",
       "  tensor(0.1576, device='cuda:0', grad_fn=<MseLossBackward>),\n",
       "  tensor(0.2159, device='cuda:0', grad_fn=<MseLossBackward>),\n",
       "  tensor(0.1622, device='cuda:0', grad_fn=<MseLossBackward>),\n",
       "  tensor(0.1813, device='cuda:0', grad_fn=<MseLossBackward>),\n",
       "  tensor(0.2292, device='cuda:0', grad_fn=<MseLossBackward>),\n",
       "  tensor(0.2226, device='cuda:0', grad_fn=<MseLossBackward>),\n",
       "  tensor(0.2131, device='cuda:0', grad_fn=<MseLossBackward>),\n",
       "  tensor(0.1653, device='cuda:0', grad_fn=<MseLossBackward>),\n",
       "  tensor(0.2418, device='cuda:0', grad_fn=<MseLossBackward>),\n",
       "  tensor(0.1559, device='cuda:0', grad_fn=<MseLossBackward>),\n",
       "  tensor(0.1845, device='cuda:0', grad_fn=<MseLossBackward>),\n",
       "  tensor(0.1803, device='cuda:0', grad_fn=<MseLossBackward>),\n",
       "  tensor(0.2618, device='cuda:0', grad_fn=<MseLossBackward>),\n",
       "  tensor(0.2214, device='cuda:0', grad_fn=<MseLossBackward>),\n",
       "  tensor(0.2138, device='cuda:0', grad_fn=<MseLossBackward>),\n",
       "  tensor(0.1845, device='cuda:0', grad_fn=<MseLossBackward>),\n",
       "  tensor(0.1486, device='cuda:0', grad_fn=<MseLossBackward>),\n",
       "  tensor(0.3314, device='cuda:0', grad_fn=<MseLossBackward>),\n",
       "  tensor(0.3128, device='cuda:0', grad_fn=<MseLossBackward>),\n",
       "  tensor(0.1814, device='cuda:0', grad_fn=<MseLossBackward>),\n",
       "  tensor(0.3398, device='cuda:0', grad_fn=<MseLossBackward>),\n",
       "  tensor(0.2256, device='cuda:0', grad_fn=<MseLossBackward>),\n",
       "  tensor(0.4012, device='cuda:0', grad_fn=<MseLossBackward>),\n",
       "  tensor(0.2748, device='cuda:0', grad_fn=<MseLossBackward>),\n",
       "  tensor(0.2758, device='cuda:0', grad_fn=<MseLossBackward>),\n",
       "  tensor(0.1697, device='cuda:0', grad_fn=<MseLossBackward>),\n",
       "  tensor(0.1423, device='cuda:0', grad_fn=<MseLossBackward>),\n",
       "  tensor(0.2344, device='cuda:0', grad_fn=<MseLossBackward>),\n",
       "  tensor(0.2485, device='cuda:0', grad_fn=<MseLossBackward>),\n",
       "  tensor(0.1530, device='cuda:0', grad_fn=<MseLossBackward>),\n",
       "  tensor(0.2448, device='cuda:0', grad_fn=<MseLossBackward>),\n",
       "  tensor(0.1414, device='cuda:0', grad_fn=<MseLossBackward>),\n",
       "  tensor(0.2418, device='cuda:0', grad_fn=<MseLossBackward>),\n",
       "  tensor(0.1877, device='cuda:0', grad_fn=<MseLossBackward>),\n",
       "  tensor(0.2190, device='cuda:0', grad_fn=<MseLossBackward>),\n",
       "  tensor(0.2287, device='cuda:0', grad_fn=<MseLossBackward>),\n",
       "  tensor(0.2034, device='cuda:0', grad_fn=<MseLossBackward>),\n",
       "  tensor(0.1103, device='cuda:0', grad_fn=<MseLossBackward>),\n",
       "  tensor(0.2315, device='cuda:0', grad_fn=<MseLossBackward>),\n",
       "  tensor(0.2655, device='cuda:0', grad_fn=<MseLossBackward>),\n",
       "  tensor(0.2384, device='cuda:0', grad_fn=<MseLossBackward>),\n",
       "  tensor(0.1806, device='cuda:0', grad_fn=<MseLossBackward>),\n",
       "  tensor(0.1624, device='cuda:0', grad_fn=<MseLossBackward>),\n",
       "  tensor(0.2284, device='cuda:0', grad_fn=<MseLossBackward>),\n",
       "  tensor(0.1947, device='cuda:0', grad_fn=<MseLossBackward>),\n",
       "  tensor(0.1981, device='cuda:0', grad_fn=<MseLossBackward>),\n",
       "  tensor(0.1671, device='cuda:0', grad_fn=<MseLossBackward>),\n",
       "  tensor(0.1845, device='cuda:0', grad_fn=<MseLossBackward>),\n",
       "  tensor(0.2860, device='cuda:0', grad_fn=<MseLossBackward>),\n",
       "  tensor(0.2227, device='cuda:0', grad_fn=<MseLossBackward>),\n",
       "  tensor(0.2546, device='cuda:0', grad_fn=<MseLossBackward>),\n",
       "  tensor(0.3444, device='cuda:0', grad_fn=<MseLossBackward>),\n",
       "  tensor(0.4282, device='cuda:0', grad_fn=<MseLossBackward>),\n",
       "  tensor(0.2004, device='cuda:0', grad_fn=<MseLossBackward>),\n",
       "  tensor(0.1874, device='cuda:0', grad_fn=<MseLossBackward>),\n",
       "  tensor(0.1980, device='cuda:0', grad_fn=<MseLossBackward>),\n",
       "  tensor(0.1597, device='cuda:0', grad_fn=<MseLossBackward>),\n",
       "  tensor(0.2001, device='cuda:0', grad_fn=<MseLossBackward>),\n",
       "  tensor(0.1612, device='cuda:0', grad_fn=<MseLossBackward>),\n",
       "  tensor(0.2065, device='cuda:0', grad_fn=<MseLossBackward>),\n",
       "  tensor(0.2793, device='cuda:0', grad_fn=<MseLossBackward>),\n",
       "  tensor(0.2926, device='cuda:0', grad_fn=<MseLossBackward>),\n",
       "  tensor(0.2410, device='cuda:0', grad_fn=<MseLossBackward>),\n",
       "  tensor(0.1280, device='cuda:0', grad_fn=<MseLossBackward>),\n",
       "  tensor(0.3155, device='cuda:0', grad_fn=<MseLossBackward>),\n",
       "  tensor(0.2244, device='cuda:0', grad_fn=<MseLossBackward>),\n",
       "  tensor(0.2077, device='cuda:0', grad_fn=<MseLossBackward>),\n",
       "  tensor(0.2030, device='cuda:0', grad_fn=<MseLossBackward>),\n",
       "  tensor(0.2345, device='cuda:0', grad_fn=<MseLossBackward>),\n",
       "  tensor(0.1575, device='cuda:0', grad_fn=<MseLossBackward>),\n",
       "  tensor(0.2309, device='cuda:0', grad_fn=<MseLossBackward>),\n",
       "  tensor(0.1830, device='cuda:0', grad_fn=<MseLossBackward>),\n",
       "  tensor(0.2773, device='cuda:0', grad_fn=<MseLossBackward>),\n",
       "  tensor(0.2009, device='cuda:0', grad_fn=<MseLossBackward>),\n",
       "  tensor(0.2826, device='cuda:0', grad_fn=<MseLossBackward>),\n",
       "  tensor(0.1889, device='cuda:0', grad_fn=<MseLossBackward>),\n",
       "  tensor(0.1396, device='cuda:0', grad_fn=<MseLossBackward>),\n",
       "  tensor(0.2534, device='cuda:0', grad_fn=<MseLossBackward>),\n",
       "  tensor(0.2472, device='cuda:0', grad_fn=<MseLossBackward>),\n",
       "  tensor(0.2864, device='cuda:0', grad_fn=<MseLossBackward>),\n",
       "  tensor(0.1986, device='cuda:0', grad_fn=<MseLossBackward>),\n",
       "  tensor(0.1481, device='cuda:0', grad_fn=<MseLossBackward>),\n",
       "  tensor(0.2503, device='cuda:0', grad_fn=<MseLossBackward>),\n",
       "  tensor(0.2517, device='cuda:0', grad_fn=<MseLossBackward>),\n",
       "  tensor(0.2282, device='cuda:0', grad_fn=<MseLossBackward>),\n",
       "  tensor(0.1806, device='cuda:0', grad_fn=<MseLossBackward>),\n",
       "  tensor(0.2665, device='cuda:0', grad_fn=<MseLossBackward>),\n",
       "  tensor(0.2512, device='cuda:0', grad_fn=<MseLossBackward>),\n",
       "  tensor(0.1454, device='cuda:0', grad_fn=<MseLossBackward>),\n",
       "  tensor(0.1928, device='cuda:0', grad_fn=<MseLossBackward>),\n",
       "  tensor(0.2392, device='cuda:0', grad_fn=<MseLossBackward>),\n",
       "  tensor(0.1927, device='cuda:0', grad_fn=<MseLossBackward>),\n",
       "  tensor(0.2546, device='cuda:0', grad_fn=<MseLossBackward>),\n",
       "  tensor(0.1546, device='cuda:0', grad_fn=<MseLossBackward>),\n",
       "  tensor(0.1431, device='cuda:0', grad_fn=<MseLossBackward>),\n",
       "  tensor(0.2810, device='cuda:0', grad_fn=<MseLossBackward>),\n",
       "  tensor(0.1912, device='cuda:0', grad_fn=<MseLossBackward>),\n",
       "  tensor(0.2048, device='cuda:0', grad_fn=<MseLossBackward>),\n",
       "  tensor(0.1131, device='cuda:0', grad_fn=<MseLossBackward>),\n",
       "  tensor(0.1820, device='cuda:0', grad_fn=<MseLossBackward>),\n",
       "  tensor(0.2444, device='cuda:0', grad_fn=<MseLossBackward>),\n",
       "  tensor(0.1793, device='cuda:0', grad_fn=<MseLossBackward>),\n",
       "  tensor(0.1668, device='cuda:0', grad_fn=<MseLossBackward>),\n",
       "  tensor(0.2212, device='cuda:0', grad_fn=<MseLossBackward>),\n",
       "  tensor(0.2227, device='cuda:0', grad_fn=<MseLossBackward>),\n",
       "  tensor(0.2432, device='cuda:0', grad_fn=<MseLossBackward>),\n",
       "  tensor(0.2008, device='cuda:0', grad_fn=<MseLossBackward>),\n",
       "  tensor(0.1764, device='cuda:0', grad_fn=<MseLossBackward>),\n",
       "  tensor(0.1414, device='cuda:0', grad_fn=<MseLossBackward>),\n",
       "  tensor(0.1560, device='cuda:0', grad_fn=<MseLossBackward>),\n",
       "  tensor(0.3118, device='cuda:0', grad_fn=<MseLossBackward>),\n",
       "  tensor(0.2889, device='cuda:0', grad_fn=<MseLossBackward>),\n",
       "  tensor(0.2448, device='cuda:0', grad_fn=<MseLossBackward>),\n",
       "  tensor(0.2010, device='cuda:0', grad_fn=<MseLossBackward>),\n",
       "  tensor(0.1754, device='cuda:0', grad_fn=<MseLossBackward>),\n",
       "  tensor(0.1614, device='cuda:0', grad_fn=<MseLossBackward>),\n",
       "  tensor(0.2128, device='cuda:0', grad_fn=<MseLossBackward>),\n",
       "  tensor(0.2478, device='cuda:0', grad_fn=<MseLossBackward>),\n",
       "  tensor(0.2024, device='cuda:0', grad_fn=<MseLossBackward>),\n",
       "  tensor(0.1394, device='cuda:0', grad_fn=<MseLossBackward>),\n",
       "  tensor(0.1589, device='cuda:0', grad_fn=<MseLossBackward>),\n",
       "  tensor(0.2270, device='cuda:0', grad_fn=<MseLossBackward>),\n",
       "  tensor(0.2248, device='cuda:0', grad_fn=<MseLossBackward>),\n",
       "  tensor(0.2004, device='cuda:0', grad_fn=<MseLossBackward>),\n",
       "  tensor(0.1892, device='cuda:0', grad_fn=<MseLossBackward>),\n",
       "  tensor(0.2550, device='cuda:0', grad_fn=<MseLossBackward>),\n",
       "  tensor(0.2634, device='cuda:0', grad_fn=<MseLossBackward>),\n",
       "  tensor(0.2206, device='cuda:0', grad_fn=<MseLossBackward>),\n",
       "  tensor(0.2406, device='cuda:0', grad_fn=<MseLossBackward>),\n",
       "  tensor(0.1588, device='cuda:0', grad_fn=<MseLossBackward>),\n",
       "  tensor(0.2641, device='cuda:0', grad_fn=<MseLossBackward>),\n",
       "  tensor(0.2343, device='cuda:0', grad_fn=<MseLossBackward>),\n",
       "  tensor(0.1508, device='cuda:0', grad_fn=<MseLossBackward>),\n",
       "  tensor(0.1728, device='cuda:0', grad_fn=<MseLossBackward>),\n",
       "  tensor(0.1498, device='cuda:0', grad_fn=<MseLossBackward>),\n",
       "  tensor(0.1074, device='cuda:0', grad_fn=<MseLossBackward>),\n",
       "  tensor(0.1517, device='cuda:0', grad_fn=<MseLossBackward>),\n",
       "  tensor(0.1554, device='cuda:0', grad_fn=<MseLossBackward>),\n",
       "  tensor(0.2396, device='cuda:0', grad_fn=<MseLossBackward>),\n",
       "  tensor(0.2837, device='cuda:0', grad_fn=<MseLossBackward>),\n",
       "  tensor(0.2300, device='cuda:0', grad_fn=<MseLossBackward>),\n",
       "  tensor(0.2217, device='cuda:0', grad_fn=<MseLossBackward>),\n",
       "  tensor(0.1567, device='cuda:0', grad_fn=<MseLossBackward>),\n",
       "  tensor(0.2412, device='cuda:0', grad_fn=<MseLossBackward>),\n",
       "  tensor(0.1248, device='cuda:0', grad_fn=<MseLossBackward>),\n",
       "  tensor(0.1755, device='cuda:0', grad_fn=<MseLossBackward>),\n",
       "  tensor(0.1686, device='cuda:0', grad_fn=<MseLossBackward>),\n",
       "  tensor(0.1883, device='cuda:0', grad_fn=<MseLossBackward>),\n",
       "  tensor(0.1697, device='cuda:0', grad_fn=<MseLossBackward>),\n",
       "  tensor(0.2252, device='cuda:0', grad_fn=<MseLossBackward>),\n",
       "  tensor(0.2457, device='cuda:0', grad_fn=<MseLossBackward>),\n",
       "  tensor(0.3261, device='cuda:0', grad_fn=<MseLossBackward>),\n",
       "  tensor(0.1744, device='cuda:0', grad_fn=<MseLossBackward>),\n",
       "  tensor(0.1429, device='cuda:0', grad_fn=<MseLossBackward>),\n",
       "  tensor(0.1598, device='cuda:0', grad_fn=<MseLossBackward>),\n",
       "  tensor(0.2063, device='cuda:0', grad_fn=<MseLossBackward>),\n",
       "  tensor(0.2147, device='cuda:0', grad_fn=<MseLossBackward>),\n",
       "  tensor(0.1747, device='cuda:0', grad_fn=<MseLossBackward>),\n",
       "  tensor(0.0867, device='cuda:0', grad_fn=<MseLossBackward>),\n",
       "  tensor(0.1289, device='cuda:0', grad_fn=<MseLossBackward>),\n",
       "  tensor(0.1643, device='cuda:0', grad_fn=<MseLossBackward>),\n",
       "  tensor(0.2280, device='cuda:0', grad_fn=<MseLossBackward>),\n",
       "  tensor(0.3127, device='cuda:0', grad_fn=<MseLossBackward>),\n",
       "  tensor(0.1395, device='cuda:0', grad_fn=<MseLossBackward>),\n",
       "  tensor(0.2476, device='cuda:0', grad_fn=<MseLossBackward>),\n",
       "  tensor(0.2128, device='cuda:0', grad_fn=<MseLossBackward>),\n",
       "  tensor(0.2056, device='cuda:0', grad_fn=<MseLossBackward>),\n",
       "  tensor(0.1792, device='cuda:0', grad_fn=<MseLossBackward>),\n",
       "  tensor(0.0973, device='cuda:0', grad_fn=<MseLossBackward>),\n",
       "  tensor(0.1380, device='cuda:0', grad_fn=<MseLossBackward>),\n",
       "  tensor(0.1545, device='cuda:0', grad_fn=<MseLossBackward>),\n",
       "  tensor(0.2006, device='cuda:0', grad_fn=<MseLossBackward>),\n",
       "  tensor(0.3204, device='cuda:0', grad_fn=<MseLossBackward>),\n",
       "  tensor(0.1917, device='cuda:0', grad_fn=<MseLossBackward>),\n",
       "  tensor(0.1949, device='cuda:0', grad_fn=<MseLossBackward>),\n",
       "  tensor(0.2533, device='cuda:0', grad_fn=<MseLossBackward>),\n",
       "  tensor(0.2187, device='cuda:0', grad_fn=<MseLossBackward>),\n",
       "  tensor(0.1390, device='cuda:0', grad_fn=<MseLossBackward>),\n",
       "  tensor(0.1949, device='cuda:0', grad_fn=<MseLossBackward>),\n",
       "  tensor(0.1243, device='cuda:0', grad_fn=<MseLossBackward>),\n",
       "  tensor(0.2064, device='cuda:0', grad_fn=<MseLossBackward>),\n",
       "  tensor(0.1631, device='cuda:0', grad_fn=<MseLossBackward>),\n",
       "  tensor(0.2171, device='cuda:0', grad_fn=<MseLossBackward>),\n",
       "  tensor(0.1852, device='cuda:0', grad_fn=<MseLossBackward>),\n",
       "  tensor(0.2846, device='cuda:0', grad_fn=<MseLossBackward>),\n",
       "  tensor(0.2171, device='cuda:0', grad_fn=<MseLossBackward>),\n",
       "  tensor(0.1266, device='cuda:0', grad_fn=<MseLossBackward>),\n",
       "  tensor(0.1930, device='cuda:0', grad_fn=<MseLossBackward>),\n",
       "  tensor(0.1825, device='cuda:0', grad_fn=<MseLossBackward>),\n",
       "  tensor(0.1659, device='cuda:0', grad_fn=<MseLossBackward>),\n",
       "  tensor(0.1670, device='cuda:0', grad_fn=<MseLossBackward>),\n",
       "  tensor(0.2150, device='cuda:0', grad_fn=<MseLossBackward>),\n",
       "  tensor(0.0695, device='cuda:0', grad_fn=<MseLossBackward>),\n",
       "  tensor(0.2462, device='cuda:0', grad_fn=<MseLossBackward>),\n",
       "  tensor(0.2746, device='cuda:0', grad_fn=<MseLossBackward>),\n",
       "  tensor(0.1760, device='cuda:0', grad_fn=<MseLossBackward>),\n",
       "  tensor(0.2166, device='cuda:0', grad_fn=<MseLossBackward>),\n",
       "  tensor(0.1274, device='cuda:0', grad_fn=<MseLossBackward>),\n",
       "  tensor(0.1153, device='cuda:0', grad_fn=<MseLossBackward>),\n",
       "  tensor(0.1287, device='cuda:0', grad_fn=<MseLossBackward>),\n",
       "  tensor(0.1722, device='cuda:0', grad_fn=<MseLossBackward>),\n",
       "  tensor(0.1740, device='cuda:0', grad_fn=<MseLossBackward>),\n",
       "  tensor(0.2293, device='cuda:0', grad_fn=<MseLossBackward>),\n",
       "  tensor(0.1647, device='cuda:0', grad_fn=<MseLossBackward>),\n",
       "  tensor(0.2133, device='cuda:0', grad_fn=<MseLossBackward>),\n",
       "  tensor(0.2985, device='cuda:0', grad_fn=<MseLossBackward>),\n",
       "  tensor(0.2028, device='cuda:0', grad_fn=<MseLossBackward>),\n",
       "  tensor(0.2231, device='cuda:0', grad_fn=<MseLossBackward>),\n",
       "  tensor(0.2857, device='cuda:0', grad_fn=<MseLossBackward>),\n",
       "  tensor(0.1202, device='cuda:0', grad_fn=<MseLossBackward>),\n",
       "  tensor(0.1007, device='cuda:0', grad_fn=<MseLossBackward>),\n",
       "  tensor(0.2014, device='cuda:0', grad_fn=<MseLossBackward>),\n",
       "  tensor(0.2571, device='cuda:0', grad_fn=<MseLossBackward>),\n",
       "  tensor(0.1912, device='cuda:0', grad_fn=<MseLossBackward>),\n",
       "  tensor(0.1728, device='cuda:0', grad_fn=<MseLossBackward>),\n",
       "  tensor(0.2154, device='cuda:0', grad_fn=<MseLossBackward>),\n",
       "  tensor(0.2307, device='cuda:0', grad_fn=<MseLossBackward>),\n",
       "  tensor(0.2508, device='cuda:0', grad_fn=<MseLossBackward>),\n",
       "  tensor(0.2367, device='cuda:0', grad_fn=<MseLossBackward>),\n",
       "  tensor(0.2340, device='cuda:0', grad_fn=<MseLossBackward>),\n",
       "  tensor(0.2123, device='cuda:0', grad_fn=<MseLossBackward>),\n",
       "  tensor(0.1502, device='cuda:0', grad_fn=<MseLossBackward>),\n",
       "  tensor(0.1650, device='cuda:0', grad_fn=<MseLossBackward>),\n",
       "  tensor(0.1944, device='cuda:0', grad_fn=<MseLossBackward>),\n",
       "  tensor(0.1852, device='cuda:0', grad_fn=<MseLossBackward>),\n",
       "  tensor(0.1477, device='cuda:0', grad_fn=<MseLossBackward>),\n",
       "  tensor(0.2458, device='cuda:0', grad_fn=<MseLossBackward>),\n",
       "  tensor(0.2403, device='cuda:0', grad_fn=<MseLossBackward>),\n",
       "  tensor(0.2041, device='cuda:0', grad_fn=<MseLossBackward>),\n",
       "  tensor(0.2371, device='cuda:0', grad_fn=<MseLossBackward>),\n",
       "  tensor(0.1758, device='cuda:0', grad_fn=<MseLossBackward>),\n",
       "  tensor(0.0827, device='cuda:0', grad_fn=<MseLossBackward>),\n",
       "  tensor(0.1778, device='cuda:0', grad_fn=<MseLossBackward>),\n",
       "  tensor(0.1670, device='cuda:0', grad_fn=<MseLossBackward>),\n",
       "  tensor(0.2674, device='cuda:0', grad_fn=<MseLossBackward>),\n",
       "  tensor(0.2079, device='cuda:0', grad_fn=<MseLossBackward>),\n",
       "  tensor(0.2165, device='cuda:0', grad_fn=<MseLossBackward>),\n",
       "  tensor(0.1691, device='cuda:0', grad_fn=<MseLossBackward>),\n",
       "  tensor(0.1875, device='cuda:0', grad_fn=<MseLossBackward>),\n",
       "  tensor(0.2280, device='cuda:0', grad_fn=<MseLossBackward>),\n",
       "  tensor(0.2153, device='cuda:0', grad_fn=<MseLossBackward>),\n",
       "  tensor(0.2155, device='cuda:0', grad_fn=<MseLossBackward>),\n",
       "  tensor(0.1881, device='cuda:0', grad_fn=<MseLossBackward>),\n",
       "  tensor(0.1046, device='cuda:0', grad_fn=<MseLossBackward>),\n",
       "  tensor(0.1593, device='cuda:0', grad_fn=<MseLossBackward>),\n",
       "  tensor(0.1893, device='cuda:0', grad_fn=<MseLossBackward>),\n",
       "  tensor(0.1819, device='cuda:0', grad_fn=<MseLossBackward>),\n",
       "  tensor(0.1931, device='cuda:0', grad_fn=<MseLossBackward>),\n",
       "  tensor(0.1806, device='cuda:0', grad_fn=<MseLossBackward>),\n",
       "  tensor(0.1756, device='cuda:0', grad_fn=<MseLossBackward>),\n",
       "  tensor(0.1495, device='cuda:0', grad_fn=<MseLossBackward>),\n",
       "  tensor(0.1478, device='cuda:0', grad_fn=<MseLossBackward>),\n",
       "  tensor(0.1786, device='cuda:0', grad_fn=<MseLossBackward>),\n",
       "  tensor(0.2117, device='cuda:0', grad_fn=<MseLossBackward>),\n",
       "  tensor(0.1262, device='cuda:0', grad_fn=<MseLossBackward>),\n",
       "  tensor(0.1247, device='cuda:0', grad_fn=<MseLossBackward>),\n",
       "  tensor(0.2327, device='cuda:0', grad_fn=<MseLossBackward>),\n",
       "  tensor(0.1102, device='cuda:0', grad_fn=<MseLossBackward>),\n",
       "  tensor(0.1888, device='cuda:0', grad_fn=<MseLossBackward>),\n",
       "  tensor(0.2004, device='cuda:0', grad_fn=<MseLossBackward>),\n",
       "  tensor(0.1897, device='cuda:0', grad_fn=<MseLossBackward>),\n",
       "  tensor(0.1501, device='cuda:0', grad_fn=<MseLossBackward>),\n",
       "  tensor(0.2864, device='cuda:0', grad_fn=<MseLossBackward>),\n",
       "  tensor(0.1410, device='cuda:0', grad_fn=<MseLossBackward>),\n",
       "  tensor(0.2003, device='cuda:0', grad_fn=<MseLossBackward>),\n",
       "  tensor(0.2666, device='cuda:0', grad_fn=<MseLossBackward>),\n",
       "  tensor(0.0892, device='cuda:0', grad_fn=<MseLossBackward>),\n",
       "  tensor(0.1308, device='cuda:0', grad_fn=<MseLossBackward>),\n",
       "  tensor(0.1943, device='cuda:0', grad_fn=<MseLossBackward>),\n",
       "  tensor(0.2485, device='cuda:0', grad_fn=<MseLossBackward>),\n",
       "  tensor(0.1032, device='cuda:0', grad_fn=<MseLossBackward>),\n",
       "  tensor(0.1587, device='cuda:0', grad_fn=<MseLossBackward>),\n",
       "  tensor(0.1673, device='cuda:0', grad_fn=<MseLossBackward>),\n",
       "  tensor(0.1544, device='cuda:0', grad_fn=<MseLossBackward>),\n",
       "  tensor(0.2007, device='cuda:0', grad_fn=<MseLossBackward>),\n",
       "  tensor(0.2384, device='cuda:0', grad_fn=<MseLossBackward>),\n",
       "  tensor(0.1031, device='cuda:0', grad_fn=<MseLossBackward>),\n",
       "  tensor(0.1451, device='cuda:0', grad_fn=<MseLossBackward>),\n",
       "  tensor(0.1608, device='cuda:0', grad_fn=<MseLossBackward>),\n",
       "  tensor(0.1609, device='cuda:0', grad_fn=<MseLossBackward>),\n",
       "  tensor(0.1042, device='cuda:0', grad_fn=<MseLossBackward>),\n",
       "  tensor(0.1265, device='cuda:0', grad_fn=<MseLossBackward>),\n",
       "  tensor(0.1925, device='cuda:0', grad_fn=<MseLossBackward>),\n",
       "  tensor(0.2533, device='cuda:0', grad_fn=<MseLossBackward>),\n",
       "  tensor(0.1705, device='cuda:0', grad_fn=<MseLossBackward>),\n",
       "  tensor(0.2449, device='cuda:0', grad_fn=<MseLossBackward>),\n",
       "  tensor(0.1465, device='cuda:0', grad_fn=<MseLossBackward>),\n",
       "  tensor(0.1652, device='cuda:0', grad_fn=<MseLossBackward>),\n",
       "  tensor(0.1423, device='cuda:0', grad_fn=<MseLossBackward>),\n",
       "  tensor(0.1052, device='cuda:0', grad_fn=<MseLossBackward>),\n",
       "  tensor(0.2522, device='cuda:0', grad_fn=<MseLossBackward>),\n",
       "  tensor(0.1490, device='cuda:0', grad_fn=<MseLossBackward>),\n",
       "  tensor(0.2594, device='cuda:0', grad_fn=<MseLossBackward>),\n",
       "  tensor(0.2296, device='cuda:0', grad_fn=<MseLossBackward>),\n",
       "  tensor(0.1775, device='cuda:0', grad_fn=<MseLossBackward>),\n",
       "  tensor(0.1883, device='cuda:0', grad_fn=<MseLossBackward>),\n",
       "  tensor(0.1391, device='cuda:0', grad_fn=<MseLossBackward>),\n",
       "  tensor(0.2166, device='cuda:0', grad_fn=<MseLossBackward>),\n",
       "  tensor(0.1204, device='cuda:0', grad_fn=<MseLossBackward>),\n",
       "  tensor(0.2544, device='cuda:0', grad_fn=<MseLossBackward>),\n",
       "  tensor(0.1845, device='cuda:0', grad_fn=<MseLossBackward>),\n",
       "  tensor(0.1899, device='cuda:0', grad_fn=<MseLossBackward>),\n",
       "  tensor(0.1797, device='cuda:0', grad_fn=<MseLossBackward>),\n",
       "  tensor(0.1884, device='cuda:0', grad_fn=<MseLossBackward>),\n",
       "  tensor(0.1327, device='cuda:0', grad_fn=<MseLossBackward>),\n",
       "  tensor(0.1705, device='cuda:0', grad_fn=<MseLossBackward>),\n",
       "  tensor(0.1238, device='cuda:0', grad_fn=<MseLossBackward>),\n",
       "  tensor(0.1584, device='cuda:0', grad_fn=<MseLossBackward>),\n",
       "  tensor(0.1836, device='cuda:0', grad_fn=<MseLossBackward>),\n",
       "  tensor(0.1601, device='cuda:0', grad_fn=<MseLossBackward>),\n",
       "  tensor(0.1832, device='cuda:0', grad_fn=<MseLossBackward>),\n",
       "  tensor(0.1800, device='cuda:0', grad_fn=<MseLossBackward>),\n",
       "  tensor(0.1179, device='cuda:0', grad_fn=<MseLossBackward>),\n",
       "  tensor(0.1759, device='cuda:0', grad_fn=<MseLossBackward>),\n",
       "  tensor(0.0951, device='cuda:0', grad_fn=<MseLossBackward>),\n",
       "  tensor(0.1720, device='cuda:0', grad_fn=<MseLossBackward>),\n",
       "  tensor(0.1885, device='cuda:0', grad_fn=<MseLossBackward>),\n",
       "  tensor(0.1596, device='cuda:0', grad_fn=<MseLossBackward>),\n",
       "  tensor(0.1611, device='cuda:0', grad_fn=<MseLossBackward>),\n",
       "  tensor(0.1887, device='cuda:0', grad_fn=<MseLossBackward>),\n",
       "  tensor(0.1555, device='cuda:0', grad_fn=<MseLossBackward>),\n",
       "  tensor(0.1718, device='cuda:0', grad_fn=<MseLossBackward>),\n",
       "  tensor(0.1287, device='cuda:0', grad_fn=<MseLossBackward>),\n",
       "  tensor(0.2236, device='cuda:0', grad_fn=<MseLossBackward>),\n",
       "  tensor(0.2151, device='cuda:0', grad_fn=<MseLossBackward>),\n",
       "  tensor(0.2496, device='cuda:0', grad_fn=<MseLossBackward>),\n",
       "  tensor(0.1043, device='cuda:0', grad_fn=<MseLossBackward>),\n",
       "  tensor(0.1743, device='cuda:0', grad_fn=<MseLossBackward>),\n",
       "  tensor(0.1334, device='cuda:0', grad_fn=<MseLossBackward>),\n",
       "  tensor(0.1266, device='cuda:0', grad_fn=<MseLossBackward>),\n",
       "  tensor(0.1500, device='cuda:0', grad_fn=<MseLossBackward>),\n",
       "  tensor(0.2238, device='cuda:0', grad_fn=<MseLossBackward>),\n",
       "  tensor(0.1053, device='cuda:0', grad_fn=<MseLossBackward>),\n",
       "  tensor(0.2121, device='cuda:0', grad_fn=<MseLossBackward>),\n",
       "  tensor(0.1253, device='cuda:0', grad_fn=<MseLossBackward>),\n",
       "  tensor(0.1563, device='cuda:0', grad_fn=<MseLossBackward>),\n",
       "  tensor(0.1658, device='cuda:0', grad_fn=<MseLossBackward>),\n",
       "  tensor(0.1860, device='cuda:0', grad_fn=<MseLossBackward>),\n",
       "  tensor(0.1504, device='cuda:0', grad_fn=<MseLossBackward>),\n",
       "  tensor(0.1845, device='cuda:0', grad_fn=<MseLossBackward>),\n",
       "  tensor(0.1578, device='cuda:0', grad_fn=<MseLossBackward>),\n",
       "  tensor(0.2179, device='cuda:0', grad_fn=<MseLossBackward>),\n",
       "  tensor(0.1702, device='cuda:0', grad_fn=<MseLossBackward>),\n",
       "  tensor(0.0956, device='cuda:0', grad_fn=<MseLossBackward>),\n",
       "  tensor(0.2115, device='cuda:0', grad_fn=<MseLossBackward>),\n",
       "  tensor(0.0843, device='cuda:0', grad_fn=<MseLossBackward>),\n",
       "  tensor(0.1313, device='cuda:0', grad_fn=<MseLossBackward>),\n",
       "  tensor(0.1462, device='cuda:0', grad_fn=<MseLossBackward>),\n",
       "  tensor(0.1486, device='cuda:0', grad_fn=<MseLossBackward>),\n",
       "  tensor(0.1132, device='cuda:0', grad_fn=<MseLossBackward>),\n",
       "  tensor(0.1450, device='cuda:0', grad_fn=<MseLossBackward>),\n",
       "  tensor(0.1665, device='cuda:0', grad_fn=<MseLossBackward>),\n",
       "  tensor(0.0923, device='cuda:0', grad_fn=<MseLossBackward>),\n",
       "  tensor(0.1935, device='cuda:0', grad_fn=<MseLossBackward>),\n",
       "  tensor(0.2582, device='cuda:0', grad_fn=<MseLossBackward>),\n",
       "  tensor(0.1382, device='cuda:0', grad_fn=<MseLossBackward>),\n",
       "  tensor(0.0890, device='cuda:0', grad_fn=<MseLossBackward>),\n",
       "  tensor(0.1670, device='cuda:0', grad_fn=<MseLossBackward>),\n",
       "  tensor(0.1897, device='cuda:0', grad_fn=<MseLossBackward>),\n",
       "  tensor(0.2361, device='cuda:0', grad_fn=<MseLossBackward>),\n",
       "  tensor(0.1105, device='cuda:0', grad_fn=<MseLossBackward>),\n",
       "  tensor(0.2266, device='cuda:0', grad_fn=<MseLossBackward>),\n",
       "  tensor(0.0836, device='cuda:0', grad_fn=<MseLossBackward>),\n",
       "  tensor(0.1994, device='cuda:0', grad_fn=<MseLossBackward>),\n",
       "  tensor(0.1014, device='cuda:0', grad_fn=<MseLossBackward>),\n",
       "  tensor(0.1899, device='cuda:0', grad_fn=<MseLossBackward>),\n",
       "  tensor(0.1880, device='cuda:0', grad_fn=<MseLossBackward>),\n",
       "  tensor(0.1841, device='cuda:0', grad_fn=<MseLossBackward>),\n",
       "  tensor(0.1060, device='cuda:0', grad_fn=<MseLossBackward>),\n",
       "  tensor(0.0921, device='cuda:0', grad_fn=<MseLossBackward>),\n",
       "  tensor(0.2314, device='cuda:0', grad_fn=<MseLossBackward>),\n",
       "  tensor(0.1056, device='cuda:0', grad_fn=<MseLossBackward>),\n",
       "  tensor(0.1051, device='cuda:0', grad_fn=<MseLossBackward>),\n",
       "  tensor(0.2427, device='cuda:0', grad_fn=<MseLossBackward>),\n",
       "  tensor(0.1313, device='cuda:0', grad_fn=<MseLossBackward>),\n",
       "  tensor(0.1178, device='cuda:0', grad_fn=<MseLossBackward>),\n",
       "  tensor(0.1972, device='cuda:0', grad_fn=<MseLossBackward>),\n",
       "  tensor(0.1784, device='cuda:0', grad_fn=<MseLossBackward>),\n",
       "  tensor(0.1697, device='cuda:0', grad_fn=<MseLossBackward>),\n",
       "  tensor(0.1493, device='cuda:0', grad_fn=<MseLossBackward>),\n",
       "  tensor(0.1316, device='cuda:0', grad_fn=<MseLossBackward>),\n",
       "  tensor(0.1566, device='cuda:0', grad_fn=<MseLossBackward>),\n",
       "  tensor(0.1636, device='cuda:0', grad_fn=<MseLossBackward>),\n",
       "  tensor(0.1509, device='cuda:0', grad_fn=<MseLossBackward>),\n",
       "  tensor(0.1688, device='cuda:0', grad_fn=<MseLossBackward>),\n",
       "  tensor(0.1520, device='cuda:0', grad_fn=<MseLossBackward>),\n",
       "  tensor(0.1879, device='cuda:0', grad_fn=<MseLossBackward>),\n",
       "  tensor(0.2601, device='cuda:0', grad_fn=<MseLossBackward>),\n",
       "  tensor(0.1103, device='cuda:0', grad_fn=<MseLossBackward>),\n",
       "  tensor(0.2081, device='cuda:0', grad_fn=<MseLossBackward>),\n",
       "  tensor(0.2322, device='cuda:0', grad_fn=<MseLossBackward>),\n",
       "  tensor(0.1381, device='cuda:0', grad_fn=<MseLossBackward>),\n",
       "  tensor(0.1868, device='cuda:0', grad_fn=<MseLossBackward>),\n",
       "  tensor(0.0940, device='cuda:0', grad_fn=<MseLossBackward>),\n",
       "  tensor(0.1018, device='cuda:0', grad_fn=<MseLossBackward>),\n",
       "  tensor(0.1785, device='cuda:0', grad_fn=<MseLossBackward>),\n",
       "  tensor(0.1802, device='cuda:0', grad_fn=<MseLossBackward>),\n",
       "  tensor(0.1194, device='cuda:0', grad_fn=<MseLossBackward>),\n",
       "  tensor(0.2090, device='cuda:0', grad_fn=<MseLossBackward>),\n",
       "  tensor(0.1555, device='cuda:0', grad_fn=<MseLossBackward>),\n",
       "  tensor(0.1179, device='cuda:0', grad_fn=<MseLossBackward>),\n",
       "  tensor(0.1788, device='cuda:0', grad_fn=<MseLossBackward>),\n",
       "  tensor(0.1698, device='cuda:0', grad_fn=<MseLossBackward>),\n",
       "  tensor(0.2459, device='cuda:0', grad_fn=<MseLossBackward>),\n",
       "  tensor(0.1234, device='cuda:0', grad_fn=<MseLossBackward>),\n",
       "  tensor(0.1144, device='cuda:0', grad_fn=<MseLossBackward>),\n",
       "  tensor(0.1675, device='cuda:0', grad_fn=<MseLossBackward>),\n",
       "  tensor(0.1466, device='cuda:0', grad_fn=<MseLossBackward>),\n",
       "  tensor(0.2284, device='cuda:0', grad_fn=<MseLossBackward>),\n",
       "  tensor(0.1887, device='cuda:0', grad_fn=<MseLossBackward>),\n",
       "  tensor(0.1263, device='cuda:0', grad_fn=<MseLossBackward>),\n",
       "  tensor(0.1795, device='cuda:0', grad_fn=<MseLossBackward>),\n",
       "  tensor(0.2108, device='cuda:0', grad_fn=<MseLossBackward>),\n",
       "  tensor(0.1975, device='cuda:0', grad_fn=<MseLossBackward>),\n",
       "  tensor(0.1606, device='cuda:0', grad_fn=<MseLossBackward>),\n",
       "  tensor(0.1640, device='cuda:0', grad_fn=<MseLossBackward>),\n",
       "  tensor(0.1357, device='cuda:0', grad_fn=<MseLossBackward>),\n",
       "  tensor(0.1183, device='cuda:0', grad_fn=<MseLossBackward>),\n",
       "  tensor(0.0951, device='cuda:0', grad_fn=<MseLossBackward>),\n",
       "  tensor(0.1280, device='cuda:0', grad_fn=<MseLossBackward>),\n",
       "  tensor(0.1672, device='cuda:0', grad_fn=<MseLossBackward>),\n",
       "  tensor(0.1204, device='cuda:0', grad_fn=<MseLossBackward>),\n",
       "  tensor(0.1477, device='cuda:0', grad_fn=<MseLossBackward>),\n",
       "  tensor(0.1052, device='cuda:0', grad_fn=<MseLossBackward>),\n",
       "  tensor(0.1396, device='cuda:0', grad_fn=<MseLossBackward>),\n",
       "  tensor(0.1006, device='cuda:0', grad_fn=<MseLossBackward>),\n",
       "  tensor(0.1354, device='cuda:0', grad_fn=<MseLossBackward>),\n",
       "  tensor(0.2148, device='cuda:0', grad_fn=<MseLossBackward>),\n",
       "  tensor(0.0921, device='cuda:0', grad_fn=<MseLossBackward>),\n",
       "  tensor(0.0858, device='cuda:0', grad_fn=<MseLossBackward>),\n",
       "  tensor(0.1448, device='cuda:0', grad_fn=<MseLossBackward>),\n",
       "  tensor(0.0842, device='cuda:0', grad_fn=<MseLossBackward>),\n",
       "  tensor(0.1332, device='cuda:0', grad_fn=<MseLossBackward>),\n",
       "  tensor(0.1291, device='cuda:0', grad_fn=<MseLossBackward>),\n",
       "  tensor(0.1643, device='cuda:0', grad_fn=<MseLossBackward>),\n",
       "  tensor(0.1130, device='cuda:0', grad_fn=<MseLossBackward>),\n",
       "  tensor(0.1605, device='cuda:0', grad_fn=<MseLossBackward>),\n",
       "  tensor(0.0832, device='cuda:0', grad_fn=<MseLossBackward>),\n",
       "  tensor(0.1142, device='cuda:0', grad_fn=<MseLossBackward>),\n",
       "  tensor(0.2161, device='cuda:0', grad_fn=<MseLossBackward>),\n",
       "  tensor(0.1812, device='cuda:0', grad_fn=<MseLossBackward>),\n",
       "  tensor(0.1766, device='cuda:0', grad_fn=<MseLossBackward>),\n",
       "  tensor(0.1273, device='cuda:0', grad_fn=<MseLossBackward>),\n",
       "  tensor(0.0702, device='cuda:0', grad_fn=<MseLossBackward>),\n",
       "  tensor(0.1740, device='cuda:0', grad_fn=<MseLossBackward>),\n",
       "  tensor(0.1457, device='cuda:0', grad_fn=<MseLossBackward>),\n",
       "  tensor(0.1479, device='cuda:0', grad_fn=<MseLossBackward>),\n",
       "  tensor(0.1430, device='cuda:0', grad_fn=<MseLossBackward>),\n",
       "  tensor(0.2035, device='cuda:0', grad_fn=<MseLossBackward>),\n",
       "  tensor(0.1547, device='cuda:0', grad_fn=<MseLossBackward>),\n",
       "  tensor(0.1672, device='cuda:0', grad_fn=<MseLossBackward>),\n",
       "  tensor(0.1736, device='cuda:0', grad_fn=<MseLossBackward>),\n",
       "  tensor(0.0829, device='cuda:0', grad_fn=<MseLossBackward>),\n",
       "  tensor(0.1009, device='cuda:0', grad_fn=<MseLossBackward>),\n",
       "  tensor(0.1890, device='cuda:0', grad_fn=<MseLossBackward>),\n",
       "  tensor(0.1647, device='cuda:0', grad_fn=<MseLossBackward>),\n",
       "  tensor(0.0837, device='cuda:0', grad_fn=<MseLossBackward>),\n",
       "  tensor(0.1589, device='cuda:0', grad_fn=<MseLossBackward>),\n",
       "  tensor(0.1892, device='cuda:0', grad_fn=<MseLossBackward>),\n",
       "  tensor(0.0913, device='cuda:0', grad_fn=<MseLossBackward>),\n",
       "  tensor(0.1696, device='cuda:0', grad_fn=<MseLossBackward>),\n",
       "  tensor(0.2543, device='cuda:0', grad_fn=<MseLossBackward>),\n",
       "  tensor(0.1078, device='cuda:0', grad_fn=<MseLossBackward>),\n",
       "  tensor(0.1015, device='cuda:0', grad_fn=<MseLossBackward>),\n",
       "  tensor(0.1501, device='cuda:0', grad_fn=<MseLossBackward>),\n",
       "  tensor(0.0973, device='cuda:0', grad_fn=<MseLossBackward>),\n",
       "  tensor(0.1304, device='cuda:0', grad_fn=<MseLossBackward>),\n",
       "  tensor(0.0732, device='cuda:0', grad_fn=<MseLossBackward>),\n",
       "  tensor(0.1191, device='cuda:0', grad_fn=<MseLossBackward>),\n",
       "  tensor(0.1391, device='cuda:0', grad_fn=<MseLossBackward>),\n",
       "  tensor(0.1191, device='cuda:0', grad_fn=<MseLossBackward>),\n",
       "  tensor(0.1093, device='cuda:0', grad_fn=<MseLossBackward>),\n",
       "  tensor(0.1551, device='cuda:0', grad_fn=<MseLossBackward>),\n",
       "  tensor(0.2127, device='cuda:0', grad_fn=<MseLossBackward>),\n",
       "  tensor(0.1298, device='cuda:0', grad_fn=<MseLossBackward>),\n",
       "  tensor(0.0952, device='cuda:0', grad_fn=<MseLossBackward>),\n",
       "  tensor(0.0645, device='cuda:0', grad_fn=<MseLossBackward>),\n",
       "  tensor(0.1775, device='cuda:0', grad_fn=<MseLossBackward>),\n",
       "  tensor(0.0852, device='cuda:0', grad_fn=<MseLossBackward>),\n",
       "  tensor(0.1297, device='cuda:0', grad_fn=<MseLossBackward>),\n",
       "  tensor(0.1044, device='cuda:0', grad_fn=<MseLossBackward>),\n",
       "  tensor(0.1329, device='cuda:0', grad_fn=<MseLossBackward>),\n",
       "  tensor(0.1321, device='cuda:0', grad_fn=<MseLossBackward>),\n",
       "  tensor(0.1904, device='cuda:0', grad_fn=<MseLossBackward>),\n",
       "  tensor(0.1702, device='cuda:0', grad_fn=<MseLossBackward>),\n",
       "  tensor(0.0966, device='cuda:0', grad_fn=<MseLossBackward>),\n",
       "  tensor(0.1963, device='cuda:0', grad_fn=<MseLossBackward>),\n",
       "  tensor(0.1110, device='cuda:0', grad_fn=<MseLossBackward>),\n",
       "  tensor(0.1303, device='cuda:0', grad_fn=<MseLossBackward>),\n",
       "  tensor(0.1472, device='cuda:0', grad_fn=<MseLossBackward>),\n",
       "  tensor(0.1844, device='cuda:0', grad_fn=<MseLossBackward>),\n",
       "  tensor(0.1630, device='cuda:0', grad_fn=<MseLossBackward>),\n",
       "  tensor(0.0890, device='cuda:0', grad_fn=<MseLossBackward>),\n",
       "  tensor(0.0366, device='cuda:0', grad_fn=<MseLossBackward>),\n",
       "  tensor(0.2596, device='cuda:0', grad_fn=<MseLossBackward>),\n",
       "  tensor(0.2078, device='cuda:0', grad_fn=<MseLossBackward>),\n",
       "  tensor(0.2237, device='cuda:0', grad_fn=<MseLossBackward>),\n",
       "  tensor(0.2308, device='cuda:0', grad_fn=<MseLossBackward>),\n",
       "  tensor(0.1782, device='cuda:0', grad_fn=<MseLossBackward>),\n",
       "  tensor(0.1355, device='cuda:0', grad_fn=<MseLossBackward>),\n",
       "  tensor(0.1361, device='cuda:0', grad_fn=<MseLossBackward>),\n",
       "  tensor(0.1270, device='cuda:0', grad_fn=<MseLossBackward>),\n",
       "  tensor(0.1658, device='cuda:0', grad_fn=<MseLossBackward>),\n",
       "  tensor(0.1387, device='cuda:0', grad_fn=<MseLossBackward>),\n",
       "  tensor(0.1910, device='cuda:0', grad_fn=<MseLossBackward>),\n",
       "  tensor(0.1830, device='cuda:0', grad_fn=<MseLossBackward>),\n",
       "  tensor(0.1175, device='cuda:0', grad_fn=<MseLossBackward>),\n",
       "  tensor(0.0832, device='cuda:0', grad_fn=<MseLossBackward>),\n",
       "  tensor(0.1851, device='cuda:0', grad_fn=<MseLossBackward>),\n",
       "  tensor(0.1002, device='cuda:0', grad_fn=<MseLossBackward>),\n",
       "  tensor(0.0789, device='cuda:0', grad_fn=<MseLossBackward>),\n",
       "  tensor(0.0902, device='cuda:0', grad_fn=<MseLossBackward>),\n",
       "  tensor(0.1665, device='cuda:0', grad_fn=<MseLossBackward>),\n",
       "  tensor(0.2106, device='cuda:0', grad_fn=<MseLossBackward>),\n",
       "  tensor(0.1350, device='cuda:0', grad_fn=<MseLossBackward>),\n",
       "  tensor(0.1265, device='cuda:0', grad_fn=<MseLossBackward>),\n",
       "  tensor(0.0815, device='cuda:0', grad_fn=<MseLossBackward>),\n",
       "  tensor(0.1295, device='cuda:0', grad_fn=<MseLossBackward>),\n",
       "  tensor(0.2157, device='cuda:0', grad_fn=<MseLossBackward>),\n",
       "  tensor(0.2115, device='cuda:0', grad_fn=<MseLossBackward>),\n",
       "  tensor(0.1461, device='cuda:0', grad_fn=<MseLossBackward>),\n",
       "  tensor(0.1420, device='cuda:0', grad_fn=<MseLossBackward>),\n",
       "  tensor(0.0809, device='cuda:0', grad_fn=<MseLossBackward>),\n",
       "  tensor(0.0945, device='cuda:0', grad_fn=<MseLossBackward>),\n",
       "  tensor(0.1794, device='cuda:0', grad_fn=<MseLossBackward>),\n",
       "  tensor(0.1033, device='cuda:0', grad_fn=<MseLossBackward>),\n",
       "  tensor(0.2083, device='cuda:0', grad_fn=<MseLossBackward>),\n",
       "  tensor(0.0996, device='cuda:0', grad_fn=<MseLossBackward>),\n",
       "  tensor(0.2074, device='cuda:0', grad_fn=<MseLossBackward>),\n",
       "  tensor(0.1342, device='cuda:0', grad_fn=<MseLossBackward>),\n",
       "  tensor(0.1873, device='cuda:0', grad_fn=<MseLossBackward>),\n",
       "  tensor(0.2198, device='cuda:0', grad_fn=<MseLossBackward>),\n",
       "  tensor(0.1243, device='cuda:0', grad_fn=<MseLossBackward>),\n",
       "  tensor(0.1507, device='cuda:0', grad_fn=<MseLossBackward>),\n",
       "  tensor(0.1089, device='cuda:0', grad_fn=<MseLossBackward>),\n",
       "  tensor(0.1888, device='cuda:0', grad_fn=<MseLossBackward>),\n",
       "  tensor(0.1064, device='cuda:0', grad_fn=<MseLossBackward>),\n",
       "  tensor(0.0939, device='cuda:0', grad_fn=<MseLossBackward>),\n",
       "  tensor(0.1643, device='cuda:0', grad_fn=<MseLossBackward>),\n",
       "  tensor(0.0874, device='cuda:0', grad_fn=<MseLossBackward>),\n",
       "  tensor(0.1071, device='cuda:0', grad_fn=<MseLossBackward>),\n",
       "  tensor(0.0857, device='cuda:0', grad_fn=<MseLossBackward>),\n",
       "  tensor(0.1135, device='cuda:0', grad_fn=<MseLossBackward>),\n",
       "  tensor(0.1583, device='cuda:0', grad_fn=<MseLossBackward>),\n",
       "  tensor(0.1181, device='cuda:0', grad_fn=<MseLossBackward>),\n",
       "  tensor(0.0396, device='cuda:0', grad_fn=<MseLossBackward>),\n",
       "  tensor(0.1382, device='cuda:0', grad_fn=<MseLossBackward>),\n",
       "  tensor(0.1162, device='cuda:0', grad_fn=<MseLossBackward>),\n",
       "  tensor(0.1301, device='cuda:0', grad_fn=<MseLossBackward>),\n",
       "  tensor(0.1673, device='cuda:0', grad_fn=<MseLossBackward>),\n",
       "  tensor(0.0909, device='cuda:0', grad_fn=<MseLossBackward>),\n",
       "  tensor(0.1139, device='cuda:0', grad_fn=<MseLossBackward>),\n",
       "  tensor(0.1458, device='cuda:0', grad_fn=<MseLossBackward>),\n",
       "  tensor(0.1131, device='cuda:0', grad_fn=<MseLossBackward>),\n",
       "  tensor(0.1168, device='cuda:0', grad_fn=<MseLossBackward>),\n",
       "  tensor(0.1245, device='cuda:0', grad_fn=<MseLossBackward>),\n",
       "  tensor(0.1589, device='cuda:0', grad_fn=<MseLossBackward>),\n",
       "  tensor(0.0567, device='cuda:0', grad_fn=<MseLossBackward>),\n",
       "  tensor(0.1569, device='cuda:0', grad_fn=<MseLossBackward>),\n",
       "  tensor(0.1876, device='cuda:0', grad_fn=<MseLossBackward>),\n",
       "  tensor(0.1869, device='cuda:0', grad_fn=<MseLossBackward>),\n",
       "  tensor(0.1046, device='cuda:0', grad_fn=<MseLossBackward>),\n",
       "  tensor(0.1242, device='cuda:0', grad_fn=<MseLossBackward>),\n",
       "  tensor(0.0742, device='cuda:0', grad_fn=<MseLossBackward>),\n",
       "  tensor(0.0828, device='cuda:0', grad_fn=<MseLossBackward>),\n",
       "  tensor(0.1792, device='cuda:0', grad_fn=<MseLossBackward>),\n",
       "  tensor(0.1213, device='cuda:0', grad_fn=<MseLossBackward>),\n",
       "  tensor(0.1402, device='cuda:0', grad_fn=<MseLossBackward>),\n",
       "  tensor(0.0734, device='cuda:0', grad_fn=<MseLossBackward>),\n",
       "  tensor(0.1522, device='cuda:0', grad_fn=<MseLossBackward>),\n",
       "  tensor(0.1334, device='cuda:0', grad_fn=<MseLossBackward>),\n",
       "  tensor(0.1749, device='cuda:0', grad_fn=<MseLossBackward>),\n",
       "  tensor(0.0876, device='cuda:0', grad_fn=<MseLossBackward>),\n",
       "  tensor(0.1540, device='cuda:0', grad_fn=<MseLossBackward>),\n",
       "  ...],\n",
       " 'eval_scores': []}"
      ]
     },
     "execution_count": 32,
     "metadata": {},
     "output_type": "execute_result"
    }
   ],
   "source": [
    "my_trainer = Model_Trainer(gpus=[0])\n",
    "my_trainer.train(model, train_dataloader)"
   ]
  },
  {
   "cell_type": "code",
   "execution_count": 31,
   "metadata": {},
   "outputs": [],
   "source": [
    "checkpoint_callback = ModelCheckpoint(\n",
    "    filepath='saved_models/BERT_reranker_q500k_h150_checkpoints/test_saves/',\n",
    "    save_top_k=3,\n",
    "    verbose=True,\n",
    "    monitor='ndcg',\n",
    "    mode='min',\n",
    "    prefix='BERT_reranker_500k_queries'\n",
    ")"
   ]
  },
  {
   "cell_type": "code",
   "execution_count": 32,
   "metadata": {},
   "outputs": [],
   "source": [
    "model.set_validation_q_rels(valid_q_rels)"
   ]
  },
  {
   "cell_type": "code",
   "execution_count": 38,
   "metadata": {},
   "outputs": [
    {
     "ename": "ImportError",
     "evalue": "You want to use `wandb` logger which is not installed yet, install it with `pip install wandb`.",
     "output_type": "error",
     "traceback": [
      "\u001b[0;31m---------------------------------------------------------------------------\u001b[0m",
      "\u001b[0;31mImportError\u001b[0m                               Traceback (most recent call last)",
      "\u001b[0;32m<ipython-input-38-2e264fc1bfc3>\u001b[0m in \u001b[0;36m<module>\u001b[0;34m\u001b[0m\n\u001b[0;32m----> 1\u001b[0;31m \u001b[0mwandb_logger\u001b[0m \u001b[0;34m=\u001b[0m \u001b[0mWandbLogger\u001b[0m\u001b[0;34m(\u001b[0m\u001b[0mname\u001b[0m\u001b[0;34m=\u001b[0m\u001b[0;34m'mega500k'\u001b[0m\u001b[0;34m,\u001b[0m\u001b[0mproject\u001b[0m\u001b[0;34m=\u001b[0m\u001b[0;34m'pytorchlightning'\u001b[0m\u001b[0;34m)\u001b[0m\u001b[0;34m\u001b[0m\u001b[0;34m\u001b[0m\u001b[0m\n\u001b[0m",
      "\u001b[0;32m/usr/local/lib/python3.6/dist-packages/pytorch_lightning/loggers/wandb.py\u001b[0m in \u001b[0;36m__init__\u001b[0;34m(self, name, save_dir, offline, id, anonymous, version, project, tags, log_model, experiment, entity, group)\u001b[0m\n\u001b[1;32m     71\u001b[0m                  group: Optional[str] = None):\n\u001b[1;32m     72\u001b[0m         \u001b[0;32mif\u001b[0m \u001b[0;32mnot\u001b[0m \u001b[0m_WANDB_AVAILABLE\u001b[0m\u001b[0;34m:\u001b[0m\u001b[0;34m\u001b[0m\u001b[0;34m\u001b[0m\u001b[0m\n\u001b[0;32m---> 73\u001b[0;31m             raise ImportError('You want to use `wandb` logger which is not installed yet,'  # pragma: no-cover\n\u001b[0m\u001b[1;32m     74\u001b[0m                               ' install it with `pip install wandb`.')\n\u001b[1;32m     75\u001b[0m         \u001b[0msuper\u001b[0m\u001b[0;34m(\u001b[0m\u001b[0;34m)\u001b[0m\u001b[0;34m.\u001b[0m\u001b[0m__init__\u001b[0m\u001b[0;34m(\u001b[0m\u001b[0;34m)\u001b[0m\u001b[0;34m\u001b[0m\u001b[0;34m\u001b[0m\u001b[0m\n",
      "\u001b[0;31mImportError\u001b[0m: You want to use `wandb` logger which is not installed yet, install it with `pip install wandb`."
     ]
    }
   ],
   "source": [
    "wandb_logger = WandbLogger(name='mega500k',project='pytorchlightning')"
   ]
  },
  {
   "cell_type": "code",
   "execution_count": 33,
   "metadata": {},
   "outputs": [
    {
     "name": "stderr",
     "output_type": "stream",
     "text": [
      "GPU available: True, used: True\n",
      "TPU available: False, using: 0 TPU cores\n",
      "CUDA_VISIBLE_DEVICES: [0]\n",
      "\n",
      "  | Name           | Type      | Params\n",
      "---------------------------------------------\n",
      "0 | BERT_for_class | BertModel | 109 M \n",
      "1 | dropout        | Dropout   | 0     \n",
      "2 | proj_layer     | Linear    | 769   \n"
     ]
    },
    {
     "data": {
      "application/vnd.jupyter.widget-view+json": {
       "model_id": "94a475c1abfb4cb28c144448ce1778d6",
       "version_major": 2,
       "version_minor": 0
      },
      "text/plain": [
       "HBox(children=(FloatProgress(value=1.0, bar_style='info', description='Training', layout=Layout(flex='2'), max…"
      ]
     },
     "metadata": {},
     "output_type": "display_data"
    },
    {
     "name": "stderr",
     "output_type": "stream",
     "text": [
      "\n",
      "\n",
      "Profiler Report\n",
      "\n",
      "Action              \t|  Mean duration (s)\t|  Total time (s) \n",
      "-----------------------------------------------------------------\n",
      "on_train_start      \t|  0.01525        \t|  0.01525        \n",
      "on_epoch_start      \t|  0.0017096      \t|  0.0017096      \n",
      "get_train_batch     \t|  0.78545        \t|  66.764         \n",
      "on_batch_start      \t|  1.1894e-05     \t|  0.001011       \n",
      "model_forward       \t|  0.059203       \t|  5.0323         \n",
      "model_backward      \t|  0.11257        \t|  9.5688         \n",
      "on_after_backward   \t|  2.2661e-06     \t|  0.00019036     \n",
      "optimizer_step      \t|  0.017945       \t|  1.5074         \n",
      "on_batch_end        \t|  0.0019552      \t|  0.16424        \n",
      "on_train_end        \t|  0.0027203      \t|  0.0027203      \n",
      "\n"
     ]
    },
    {
     "name": "stdout",
     "output_type": "stream",
     "text": [
      "\n"
     ]
    },
    {
     "data": {
      "text/plain": [
       "1"
      ]
     },
     "execution_count": 33,
     "metadata": {},
     "output_type": "execute_result"
    }
   ],
   "source": [
    "trainer = Trainer(gpus=1, profiler=True, \n",
    "                  print_nan_grads=True, \n",
    "                  num_sanity_val_steps=0,#len(val_dataloader), \n",
    "                  val_check_interval=0.005,\n",
    "#                   logger= wandb_logger,\n",
    "                  checkpoint_callback=checkpoint_callback)\n",
    "trainer.fit(model, train_dataloader, val_dataloader)"
   ]
  },
  {
   "cell_type": "code",
   "execution_count": 20,
   "metadata": {},
   "outputs": [],
   "source": [
    "trainer.save_checkpoint(\"example.ckpt\")"
   ]
  },
  {
   "cell_type": "code",
   "execution_count": null,
   "metadata": {},
   "outputs": [],
   "source": [
    "%debug"
   ]
  },
  {
   "cell_type": "code",
   "execution_count": 36,
   "metadata": {},
   "outputs": [],
   "source": [
    "outputs = model.validation_step(batch, 0)"
   ]
  },
  {
   "cell_type": "code",
   "execution_count": 37,
   "metadata": {},
   "outputs": [
    {
     "data": {
      "text/plain": [
       "[0.64140784740448,\n",
       " 0.650149941444397,\n",
       " 0.6211758255958557,\n",
       " 0.650149941444397,\n",
       " 0.6418268084526062,\n",
       " 0.650149941444397,\n",
       " 0.6800584197044373,\n",
       " 0.650149941444397,\n",
       " 0.6111412048339844,\n",
       " 0.650149941444397,\n",
       " 0.6355796456336975,\n",
       " 0.650149941444397,\n",
       " 0.6755321025848389,\n",
       " 0.650149941444397,\n",
       " 0.6149528622627258,\n",
       " 0.650149941444397]"
      ]
     },
     "execution_count": 37,
     "metadata": {},
     "output_type": "execute_result"
    }
   ],
   "source": [
    "outputs[\"valid_outputs\"]"
   ]
  },
  {
   "cell_type": "code",
   "execution_count": 148,
   "metadata": {},
   "outputs": [
    {
     "ename": "NameError",
     "evalue": "name 'train_raw_sampleget_topicsw_data_loader' is not defined",
     "output_type": "error",
     "traceback": [
      "\u001b[0;31m---------------------------------------------------------------------------\u001b[0m",
      "\u001b[0;31mNameError\u001b[0m                                 Traceback (most recent call last)",
      "\u001b[0;32m<ipython-input-148-d00a6732ef60>\u001b[0m in \u001b[0;36m<module>\u001b[0;34m\u001b[0m\n\u001b[0;32m----> 1\u001b[0;31m \u001b[0mtrain_raw_sampleget_topicsw_data_loader\u001b[0m\u001b[0;34m.\u001b[0m\u001b[0mget_topics\u001b[0m\u001b[0;34m(\u001b[0m\u001b[0;34m\"train\"\u001b[0m\u001b[0;34m)\u001b[0m\u001b[0;34m\u001b[0m\u001b[0;34m\u001b[0m\u001b[0m\n\u001b[0m\u001b[1;32m      2\u001b[0m \u001b[0mtrain_dataset\u001b[0m \u001b[0;34m=\u001b[0m \u001b[0mManual_Query_BM25_Reranking_Dataset\u001b[0m\u001b[0;34m(\u001b[0m\u001b[0mtrain_raw_samples\u001b[0m\u001b[0;34m,\u001b[0m \u001b[0mget_query_fn\u001b[0m\u001b[0;34m,\u001b[0m \u001b[0mget_doc_fn\u001b[0m\u001b[0;34m,\u001b[0m \u001b[0mhits\u001b[0m\u001b[0;34m=\u001b[0m\u001b[0;36m100\u001b[0m\u001b[0;34m)\u001b[0m\u001b[0;34m\u001b[0m\u001b[0;34m\u001b[0m\u001b[0m\n\u001b[1;32m      3\u001b[0m \u001b[0mtrain_dataloader\u001b[0m \u001b[0;34m=\u001b[0m \u001b[0mtrain_dataset\u001b[0m\u001b[0;34m.\u001b[0m\u001b[0mto_dataloader\u001b[0m\u001b[0;34m(\u001b[0m\u001b[0;36m2\u001b[0m\u001b[0;34m,\u001b[0m \u001b[0mnum_workers\u001b[0m\u001b[0;34m=\u001b[0m\u001b[0;36m32\u001b[0m\u001b[0;34m)\u001b[0m\u001b[0;34m\u001b[0m\u001b[0;34m\u001b[0m\u001b[0m\n",
      "\u001b[0;31mNameError\u001b[0m: name 'train_raw_sampleget_topicsw_data_loader' is not defined"
     ]
    }
   ],
   "source": [
    "train_raw_sampleget_topicsw_data_loader.get_topics(\"train\")\n",
    "train_dataset = Manual_Query_BM25_Reranking_Dataset(train_raw_samples, get_query_fn, get_doc_fn, hits=100)\n",
    "train_dataloader = train_dataset.to_dataloader(2, num_workers=32)"
   ]
  },
  {
   "cell_type": "code",
   "execution_count": 41,
   "metadata": {},
   "outputs": [
    {
     "data": {
      "application/vnd.jupyter.widget-view+json": {
       "model_id": "7bce016f5ef84cd7acb0e1c7a2c068a8",
       "version_major": 2,
       "version_minor": 0
      },
      "text/plain": [
       "HBox(children=(FloatProgress(value=0.0, description='Downloading', max=433.0, style=ProgressStyle(description_…"
      ]
     },
     "metadata": {},
     "output_type": "display_data"
    },
    {
     "name": "stdout",
     "output_type": "stream",
     "text": [
      "\n"
     ]
    },
    {
     "data": {
      "application/vnd.jupyter.widget-view+json": {
       "model_id": "5f9ecb85927f41b2a3fabc398c1925c3",
       "version_major": 2,
       "version_minor": 0
      },
      "text/plain": [
       "HBox(children=(FloatProgress(value=0.0, description='Downloading', max=440473133.0, style=ProgressStyle(descri…"
      ]
     },
     "metadata": {},
     "output_type": "display_data"
    },
    {
     "name": "stdout",
     "output_type": "stream",
     "text": [
      "\n"
     ]
    }
   ],
   "source": [
    "BERT_BM25_reranker = BERT_BM25_Reranker(raw_data_loader.get_doc, raw_data_loader.get_query)"
   ]
  },
  {
   "cell_type": "code",
   "execution_count": 43,
   "metadata": {},
   "outputs": [],
   "source": [
    "reranking_DataProcessor = Resolved_Query_Reranking_DataProcessor(raw_data_loader.get_doc, \n",
    "                                                  raw_data_loader.get_query, \n",
    "                                                  raw_data_loader.get_topics(\"train\"), \n",
    "                                                  BERT_BM25_reranker.first_pass_model.predict, \n",
    "                                                  numericalizer,\n",
    "                                                  max_length=512)"
   ]
  },
  {
   "cell_type": "code",
   "execution_count": 7,
   "metadata": {},
   "outputs": [],
   "source": [
    "dataloader = reranking_DataProcessor.to_dataloader(2, num_workers=0)"
   ]
  },
  {
   "cell_type": "code",
   "execution_count": 96,
   "metadata": {},
   "outputs": [
    {
     "data": {
      "text/plain": [
       "25352"
      ]
     },
     "execution_count": 96,
     "metadata": {},
     "output_type": "execute_result"
    }
   ],
   "source": [
    "len(train_dataset)"
   ]
  },
  {
   "cell_type": "code",
   "execution_count": 147,
   "metadata": {},
   "outputs": [
    {
     "data": {
      "application/vnd.jupyter.widget-view+json": {
       "model_id": "dce9bd326321495abdbede2b6c504e7c",
       "version_major": 2,
       "version_minor": 0
      },
      "text/plain": [
       "HBox(children=(FloatProgress(value=0.0, max=490.0), HTML(value='')))"
      ]
     },
     "metadata": {},
     "output_type": "display_data"
    },
    {
     "name": "stdout",
     "output_type": "stream",
     "text": [
      "\n"
     ]
    },
    {
     "ename": "KeyError",
     "evalue": "Caught KeyError in DataLoader worker process 0.\nOriginal Traceback (most recent call last):\n  File \"/usr/local/lib/python3.6/dist-packages/torch/utils/data/_utils/worker.py\", line 178, in _worker_loop\n    data = fetcher.fetch(index)\n  File \"/usr/local/lib/python3.6/dist-packages/torch/utils/data/_utils/fetch.py\", line 44, in fetch\n    data = [self.dataset[idx] for idx in possibly_batched_index]\n  File \"/usr/local/lib/python3.6/dist-packages/torch/utils/data/_utils/fetch.py\", line 44, in <listcomp>\n    data = [self.dataset[idx] for idx in possibly_batched_index]\n  File \"/nfs/phd_by_carlos/notebooks/src/DataProcessors.py\", line 493, in __getitem__\n    samples = transform(samples)\n  File \"/nfs/phd_by_carlos/notebooks/src/DataProcessors.py\", line 465, in __call__\n    samples = transform(samples)\n  File \"/nfs/phd_by_carlos/notebooks/src/DataProcessors.py\", line 421, in __call__\n    sample_obj[\"doc\"] = self.get_doc_fn(sample_obj[\"d_id\"])\n  File \"/nfs/phd_by_carlos/notebooks/src/dataset_loaders.py\", line 256, in get_doc\n    return self.collection[d_id]\nKeyError: 'CAR_cce9dc23154a5887bbe92bfff13a4437b8ab2256'\n",
     "output_type": "error",
     "traceback": [
      "\u001b[0;31m---------------------------------------------------------------------------\u001b[0m",
      "\u001b[0;31mKeyError\u001b[0m                                  Traceback (most recent call last)",
      "\u001b[0;32m<ipython-input-147-e9c8a58afcaa>\u001b[0m in \u001b[0;36m<module>\u001b[0;34m\u001b[0m\n\u001b[0;32m----> 1\u001b[0;31m \u001b[0;32mfor\u001b[0m \u001b[0mbatch\u001b[0m \u001b[0;32min\u001b[0m \u001b[0mtqdm\u001b[0m\u001b[0;34m.\u001b[0m\u001b[0mtqdm\u001b[0m\u001b[0;34m(\u001b[0m\u001b[0mtrain_dataloader\u001b[0m\u001b[0;34m)\u001b[0m\u001b[0;34m:\u001b[0m\u001b[0;34m\u001b[0m\u001b[0;34m\u001b[0m\u001b[0m\n\u001b[0m\u001b[1;32m      2\u001b[0m     \u001b[0mprint\u001b[0m\u001b[0;34m(\u001b[0m\u001b[0mbatch\u001b[0m\u001b[0;34m[\u001b[0m\u001b[0;34m\"input_ids\"\u001b[0m\u001b[0;34m]\u001b[0m\u001b[0;34m)\u001b[0m\u001b[0;34m\u001b[0m\u001b[0;34m\u001b[0m\u001b[0m\n\u001b[1;32m      3\u001b[0m     \u001b[0;32mbreak\u001b[0m\u001b[0;34m\u001b[0m\u001b[0;34m\u001b[0m\u001b[0m\n",
      "\u001b[0;32m/usr/local/lib/python3.6/dist-packages/tqdm/notebook.py\u001b[0m in \u001b[0;36m__iter__\u001b[0;34m(self, *args, **kwargs)\u001b[0m\n\u001b[1;32m    215\u001b[0m     \u001b[0;32mdef\u001b[0m \u001b[0m__iter__\u001b[0m\u001b[0;34m(\u001b[0m\u001b[0mself\u001b[0m\u001b[0;34m,\u001b[0m \u001b[0;34m*\u001b[0m\u001b[0margs\u001b[0m\u001b[0;34m,\u001b[0m \u001b[0;34m**\u001b[0m\u001b[0mkwargs\u001b[0m\u001b[0;34m)\u001b[0m\u001b[0;34m:\u001b[0m\u001b[0;34m\u001b[0m\u001b[0;34m\u001b[0m\u001b[0m\n\u001b[1;32m    216\u001b[0m         \u001b[0;32mtry\u001b[0m\u001b[0;34m:\u001b[0m\u001b[0;34m\u001b[0m\u001b[0;34m\u001b[0m\u001b[0m\n\u001b[0;32m--> 217\u001b[0;31m             \u001b[0;32mfor\u001b[0m \u001b[0mobj\u001b[0m \u001b[0;32min\u001b[0m \u001b[0msuper\u001b[0m\u001b[0;34m(\u001b[0m\u001b[0mtqdm_notebook\u001b[0m\u001b[0;34m,\u001b[0m \u001b[0mself\u001b[0m\u001b[0;34m)\u001b[0m\u001b[0;34m.\u001b[0m\u001b[0m__iter__\u001b[0m\u001b[0;34m(\u001b[0m\u001b[0;34m*\u001b[0m\u001b[0margs\u001b[0m\u001b[0;34m,\u001b[0m \u001b[0;34m**\u001b[0m\u001b[0mkwargs\u001b[0m\u001b[0;34m)\u001b[0m\u001b[0;34m:\u001b[0m\u001b[0;34m\u001b[0m\u001b[0;34m\u001b[0m\u001b[0m\n\u001b[0m\u001b[1;32m    218\u001b[0m                 \u001b[0;31m# return super(tqdm...) will not catch exception\u001b[0m\u001b[0;34m\u001b[0m\u001b[0;34m\u001b[0m\u001b[0;34m\u001b[0m\u001b[0m\n\u001b[1;32m    219\u001b[0m                 \u001b[0;32myield\u001b[0m \u001b[0mobj\u001b[0m\u001b[0;34m\u001b[0m\u001b[0;34m\u001b[0m\u001b[0m\n",
      "\u001b[0;32m/usr/local/lib/python3.6/dist-packages/tqdm/std.py\u001b[0m in \u001b[0;36m__iter__\u001b[0;34m(self)\u001b[0m\n\u001b[1;32m   1127\u001b[0m \u001b[0;34m\u001b[0m\u001b[0m\n\u001b[1;32m   1128\u001b[0m         \u001b[0;32mtry\u001b[0m\u001b[0;34m:\u001b[0m\u001b[0;34m\u001b[0m\u001b[0;34m\u001b[0m\u001b[0m\n\u001b[0;32m-> 1129\u001b[0;31m             \u001b[0;32mfor\u001b[0m \u001b[0mobj\u001b[0m \u001b[0;32min\u001b[0m \u001b[0miterable\u001b[0m\u001b[0;34m:\u001b[0m\u001b[0;34m\u001b[0m\u001b[0;34m\u001b[0m\u001b[0m\n\u001b[0m\u001b[1;32m   1130\u001b[0m                 \u001b[0;32myield\u001b[0m \u001b[0mobj\u001b[0m\u001b[0;34m\u001b[0m\u001b[0;34m\u001b[0m\u001b[0m\n\u001b[1;32m   1131\u001b[0m                 \u001b[0;31m# Update and possibly print the progressbar.\u001b[0m\u001b[0;34m\u001b[0m\u001b[0;34m\u001b[0m\u001b[0;34m\u001b[0m\u001b[0m\n",
      "\u001b[0;32m/usr/local/lib/python3.6/dist-packages/torch/utils/data/dataloader.py\u001b[0m in \u001b[0;36m__next__\u001b[0;34m(self)\u001b[0m\n\u001b[1;32m    817\u001b[0m             \u001b[0;32melse\u001b[0m\u001b[0;34m:\u001b[0m\u001b[0;34m\u001b[0m\u001b[0;34m\u001b[0m\u001b[0m\n\u001b[1;32m    818\u001b[0m                 \u001b[0;32mdel\u001b[0m \u001b[0mself\u001b[0m\u001b[0;34m.\u001b[0m\u001b[0m_task_info\u001b[0m\u001b[0;34m[\u001b[0m\u001b[0midx\u001b[0m\u001b[0;34m]\u001b[0m\u001b[0;34m\u001b[0m\u001b[0;34m\u001b[0m\u001b[0m\n\u001b[0;32m--> 819\u001b[0;31m                 \u001b[0;32mreturn\u001b[0m \u001b[0mself\u001b[0m\u001b[0;34m.\u001b[0m\u001b[0m_process_data\u001b[0m\u001b[0;34m(\u001b[0m\u001b[0mdata\u001b[0m\u001b[0;34m)\u001b[0m\u001b[0;34m\u001b[0m\u001b[0;34m\u001b[0m\u001b[0m\n\u001b[0m\u001b[1;32m    820\u001b[0m \u001b[0;34m\u001b[0m\u001b[0m\n\u001b[1;32m    821\u001b[0m     \u001b[0mnext\u001b[0m \u001b[0;34m=\u001b[0m \u001b[0m__next__\u001b[0m  \u001b[0;31m# Python 2 compatibility\u001b[0m\u001b[0;34m\u001b[0m\u001b[0;34m\u001b[0m\u001b[0m\n",
      "\u001b[0;32m/usr/local/lib/python3.6/dist-packages/torch/utils/data/dataloader.py\u001b[0m in \u001b[0;36m_process_data\u001b[0;34m(self, data)\u001b[0m\n\u001b[1;32m    844\u001b[0m         \u001b[0mself\u001b[0m\u001b[0;34m.\u001b[0m\u001b[0m_try_put_index\u001b[0m\u001b[0;34m(\u001b[0m\u001b[0;34m)\u001b[0m\u001b[0;34m\u001b[0m\u001b[0;34m\u001b[0m\u001b[0m\n\u001b[1;32m    845\u001b[0m         \u001b[0;32mif\u001b[0m \u001b[0misinstance\u001b[0m\u001b[0;34m(\u001b[0m\u001b[0mdata\u001b[0m\u001b[0;34m,\u001b[0m \u001b[0mExceptionWrapper\u001b[0m\u001b[0;34m)\u001b[0m\u001b[0;34m:\u001b[0m\u001b[0;34m\u001b[0m\u001b[0;34m\u001b[0m\u001b[0m\n\u001b[0;32m--> 846\u001b[0;31m             \u001b[0mdata\u001b[0m\u001b[0;34m.\u001b[0m\u001b[0mreraise\u001b[0m\u001b[0;34m(\u001b[0m\u001b[0;34m)\u001b[0m\u001b[0;34m\u001b[0m\u001b[0;34m\u001b[0m\u001b[0m\n\u001b[0m\u001b[1;32m    847\u001b[0m         \u001b[0;32mreturn\u001b[0m \u001b[0mdata\u001b[0m\u001b[0;34m\u001b[0m\u001b[0;34m\u001b[0m\u001b[0m\n\u001b[1;32m    848\u001b[0m \u001b[0;34m\u001b[0m\u001b[0m\n",
      "\u001b[0;32m/usr/local/lib/python3.6/dist-packages/torch/_utils.py\u001b[0m in \u001b[0;36mreraise\u001b[0;34m(self)\u001b[0m\n\u001b[1;32m    383\u001b[0m             \u001b[0;31m# (https://bugs.python.org/issue2651), so we work around it.\u001b[0m\u001b[0;34m\u001b[0m\u001b[0;34m\u001b[0m\u001b[0;34m\u001b[0m\u001b[0m\n\u001b[1;32m    384\u001b[0m             \u001b[0mmsg\u001b[0m \u001b[0;34m=\u001b[0m \u001b[0mKeyErrorMessage\u001b[0m\u001b[0;34m(\u001b[0m\u001b[0mmsg\u001b[0m\u001b[0;34m)\u001b[0m\u001b[0;34m\u001b[0m\u001b[0;34m\u001b[0m\u001b[0m\n\u001b[0;32m--> 385\u001b[0;31m         \u001b[0;32mraise\u001b[0m \u001b[0mself\u001b[0m\u001b[0;34m.\u001b[0m\u001b[0mexc_type\u001b[0m\u001b[0;34m(\u001b[0m\u001b[0mmsg\u001b[0m\u001b[0;34m)\u001b[0m\u001b[0;34m\u001b[0m\u001b[0;34m\u001b[0m\u001b[0m\n\u001b[0m",
      "\u001b[0;31mKeyError\u001b[0m: Caught KeyError in DataLoader worker process 0.\nOriginal Traceback (most recent call last):\n  File \"/usr/local/lib/python3.6/dist-packages/torch/utils/data/_utils/worker.py\", line 178, in _worker_loop\n    data = fetcher.fetch(index)\n  File \"/usr/local/lib/python3.6/dist-packages/torch/utils/data/_utils/fetch.py\", line 44, in fetch\n    data = [self.dataset[idx] for idx in possibly_batched_index]\n  File \"/usr/local/lib/python3.6/dist-packages/torch/utils/data/_utils/fetch.py\", line 44, in <listcomp>\n    data = [self.dataset[idx] for idx in possibly_batched_index]\n  File \"/nfs/phd_by_carlos/notebooks/src/DataProcessors.py\", line 493, in __getitem__\n    samples = transform(samples)\n  File \"/nfs/phd_by_carlos/notebooks/src/DataProcessors.py\", line 465, in __call__\n    samples = transform(samples)\n  File \"/nfs/phd_by_carlos/notebooks/src/DataProcessors.py\", line 421, in __call__\n    sample_obj[\"doc\"] = self.get_doc_fn(sample_obj[\"d_id\"])\n  File \"/nfs/phd_by_carlos/notebooks/src/dataset_loaders.py\", line 256, in get_doc\n    return self.collection[d_id]\nKeyError: 'CAR_cce9dc23154a5887bbe92bfff13a4437b8ab2256'\n"
     ]
    }
   ],
   "source": [
    "for batch in tqdm.tqdm(train_dataloader):\n",
    "    print(batch[\"input_ids\"])\n",
    "    break"
   ]
  },
  {
   "cell_type": "code",
   "execution_count": 41,
   "metadata": {},
   "outputs": [
    {
     "data": {
      "text/plain": [
       "'BM25_Ranker'"
      ]
     },
     "execution_count": 41,
     "metadata": {},
     "output_type": "execute_result"
    }
   ],
   "source": [
    "BM25_Ranker(get_query_fn).predict(\"32_4\")"
   ]
  },
  {
   "cell_type": "code",
   "execution_count": 9,
   "metadata": {},
   "outputs": [],
   "source": [
    "def eval_call(model):\n",
    "    print(\"called evaluation\")"
   ]
  },
  {
   "cell_type": "code",
   "execution_count": 10,
   "metadata": {},
   "outputs": [
    {
     "data": {
      "application/vnd.jupyter.widget-view+json": {
       "model_id": "092f26b5e6294db1ba40caadf5a8ba10",
       "version_major": 2,
       "version_minor": 0
      },
      "text/plain": [
       "HBox(children=(FloatProgress(value=0.0, description='Downloading', max=725.0, style=ProgressStyle(description_…"
      ]
     },
     "metadata": {},
     "output_type": "display_data"
    },
    {
     "name": "stdout",
     "output_type": "stream",
     "text": [
      "\n"
     ]
    },
    {
     "data": {
      "application/vnd.jupyter.widget-view+json": {
       "model_id": "7824dd5b58da4de6b83ae31972830d9b",
       "version_major": 2,
       "version_minor": 0
      },
      "text/plain": [
       "HBox(children=(FloatProgress(value=0.0, description='Downloading', max=597257159.0, style=ProgressStyle(descri…"
      ]
     },
     "metadata": {},
     "output_type": "display_data"
    },
    {
     "name": "stdout",
     "output_type": "stream",
     "text": [
      "\n"
     ]
    }
   ],
   "source": [
    "model = Longformer_Reranker()"
   ]
  },
  {
   "cell_type": "code",
   "execution_count": 11,
   "metadata": {},
   "outputs": [],
   "source": [
    "model.eval_callback = eval_call"
   ]
  },
  {
   "cell_type": "code",
   "execution_count": 45,
   "metadata": {},
   "outputs": [
    {
     "ename": "NameError",
     "evalue": "name 'dataloader' is not defined",
     "output_type": "error",
     "traceback": [
      "\u001b[0;31m---------------------------------------------------------------------------\u001b[0m",
      "\u001b[0;31mNameError\u001b[0m                                 Traceback (most recent call last)",
      "\u001b[0;32m<ipython-input-45-928ed1003334>\u001b[0m in \u001b[0;36m<module>\u001b[0;34m\u001b[0m\n\u001b[1;32m      1\u001b[0m \u001b[0mtrainer\u001b[0m \u001b[0;34m=\u001b[0m \u001b[0mTrainer\u001b[0m\u001b[0;34m(\u001b[0m\u001b[0mgpus\u001b[0m\u001b[0;34m=\u001b[0m\u001b[0;34m[\u001b[0m\u001b[0;36m0\u001b[0m\u001b[0;34m]\u001b[0m\u001b[0;34m,\u001b[0m \u001b[0mprofiler\u001b[0m\u001b[0;34m=\u001b[0m\u001b[0;32mTrue\u001b[0m\u001b[0;34m,\u001b[0m \u001b[0mgradient_clip_val\u001b[0m\u001b[0;34m=\u001b[0m\u001b[0;36m0.5\u001b[0m\u001b[0;34m,\u001b[0m \u001b[0mdistributed_backend\u001b[0m\u001b[0;34m=\u001b[0m\u001b[0;34m'dp'\u001b[0m\u001b[0;34m,\u001b[0m \u001b[0mcheck_val_every_n_epoch\u001b[0m\u001b[0;34m=\u001b[0m\u001b[0;36m1\u001b[0m\u001b[0;34m)\u001b[0m\u001b[0;34m\u001b[0m\u001b[0;34m\u001b[0m\u001b[0m\n\u001b[0;32m----> 2\u001b[0;31m \u001b[0mtrainer\u001b[0m\u001b[0;34m.\u001b[0m\u001b[0mfit\u001b[0m\u001b[0;34m(\u001b[0m\u001b[0mmodel\u001b[0m\u001b[0;34m,\u001b[0m \u001b[0mdataloader\u001b[0m\u001b[0;34m)\u001b[0m\u001b[0;34m\u001b[0m\u001b[0;34m\u001b[0m\u001b[0m\n\u001b[0m",
      "\u001b[0;31mNameError\u001b[0m: name 'dataloader' is not defined"
     ]
    }
   ],
   "source": [
    "trainer = Trainer(gpus=[0], profiler=True, gradient_clip_val=0.5, distributed_backend='dp', check_val_every_n_epoch=1)\n",
    "trainer.fit(model, dataloader)"
   ]
  },
  {
   "cell_type": "code",
   "execution_count": 10,
   "metadata": {},
   "outputs": [],
   "source": [
    "dataloader = torch.utils.data.DataLoader(torch.tensor([]), batch_size=1)"
   ]
  },
  {
   "cell_type": "markdown",
   "metadata": {},
   "source": [
    "# Running an experiment on Y2 data"
   ]
  },
  {
   "cell_type": "code",
   "execution_count": 30,
   "metadata": {},
   "outputs": [],
   "source": [
    "CAsT_raw_data_loader = CAsT_RawDataLoader()\n",
    "get_query_fn = CAsT_raw_data_loader.get_query\n",
    "get_doc_fn = CAsT_raw_data_loader.get_doc\n",
    "eval_raw_samples = CAsT_raw_data_loader.get_topics(\"train\")\n",
    "CAsT_q_rels = CAsT_raw_data_loader.q_rels"
   ]
  },
  {
   "cell_type": "code",
   "execution_count": 31,
   "metadata": {},
   "outputs": [
    {
     "data": {
      "application/vnd.jupyter.widget-view+json": {
       "model_id": "acd92f71ee604faca540ba6623329fde",
       "version_major": 2,
       "version_minor": 0
      },
      "text/plain": [
       "HBox(children=(FloatProgress(value=0.0, description='Searching queries', max=133.0, style=ProgressStyle(descri…"
      ]
     },
     "metadata": {},
     "output_type": "display_data"
    },
    {
     "name": "stdout",
     "output_type": "stream",
     "text": [
      "\n"
     ]
    }
   ],
   "source": [
    "eval_samples = Query_Resolver_Transform(get_query_fn, utterance_type=\"manual_rewritten_utterance\")(eval_raw_samples)\n",
    "eval_BM25_results = BM25_Search_Transform(index_dir='datasets/TREC_CAsT/CAsT_collection_with_meta.index', hits=500)(eval_samples)"
   ]
  },
  {
   "cell_type": "code",
   "execution_count": 32,
   "metadata": {},
   "outputs": [
    {
     "name": "stdout",
     "output_type": "stream",
     "text": [
      "BM25 results\n",
      "{'map': 0.19679730164325712, 'recip_rank': 0.4596050256759099, 'ndcg_cut_3': 0.306364841910461, 'set_recall': 0.7744165761018662}\n",
      "RUN File Model\n"
     ]
    },
    {
     "data": {
      "application/vnd.jupyter.widget-view+json": {
       "model_id": "e0df4b7be9bc476b99c618cc8ab31e8b",
       "version_major": 2,
       "version_minor": 0
      },
      "text/plain": [
       "HBox(children=(FloatProgress(value=0.0, description='Searching queries', max=133.0, style=ProgressStyle(descri…"
      ]
     },
     "metadata": {},
     "output_type": "display_data"
    },
    {
     "name": "stdout",
     "output_type": "stream",
     "text": [
      "\n",
      "{'map': 0.22648101607514953, 'recip_rank': 0.48689326704789326, 'ndcg_cut_3': 0.3621256024784965, 'set_recall': 0.5633517089242985}\n",
      "ORACLE results\n",
      "{'map': 0.5633517089242985, 'recip_rank': 0.8345864661654135, 'ndcg_cut_3': 0.7816506828787912, 'set_recall': 0.5633517089242985}\n",
      "BERT+BM25 results\n",
      "cpu\n",
      "<All keys matched successfully>\n",
      "BERT ReRanker initialised on cuda:2. Batch size 256\n"
     ]
    },
    {
     "data": {
      "application/vnd.jupyter.widget-view+json": {
       "model_id": "5d45331ac68b4accb9f01d0038df8d66",
       "version_major": 2,
       "version_minor": 0
      },
      "text/plain": [
       "HBox(children=(FloatProgress(value=0.0, description='Reranking queries', max=133.0, style=ProgressStyle(descri…"
      ]
     },
     "metadata": {},
     "output_type": "display_data"
    },
    {
     "name": "stdout",
     "output_type": "stream",
     "text": [
      "\n",
      "{'map': 0.10678501989112972, 'recip_rank': 0.25388222588499865, 'ndcg_cut_3': 0.14453453816167808, 'set_recall': 0.5633517089242985}\n"
     ]
    }
   ],
   "source": [
    "# experiment\n",
    "expr = Ranking_Experiment(CAsT_q_rels)\n",
    "print(\"BM25 results\")\n",
    "print(expr(eval_BM25_results))\n",
    "\n",
    "print(\"RUN File Model\")\n",
    "eval_run_rerank_results = RUN_File_Search_Transform('saved_models/CAsT_y1_pgbert.run', hits=500)(eval_samples)\n",
    "print(expr(eval_run_rerank_results))\n",
    "\n",
    "print(\"ORACLE results\")\n",
    "eval_oracle_rerank_results = Oracle_ReRanker_Transform(CAsT_q_rels)(eval_BM25_results)\n",
    "for sample in eval_oracle_rerank_results:\n",
    "    sample[\"search_results\"] = sample[\"reranked_results\"]\n",
    "print(expr(eval_oracle_rerank_results))\n",
    "\n",
    "print(\"BERT+BM25 results\")\n",
    "eval_BERT_rerank_results = BERT_ReRanker_Transform(\"saved_models/BERT_reranker_q100k_h100_checkpoints/BERT_ReRanker_MARCO_from_valid_0.38551378521302254.ckpt\", get_doc_fn, device=\"cuda:2\", batch_size=256)(eval_BM25_results)\n",
    "for sample in eval_BERT_rerank_results:\n",
    "    sample[\"search_results\"] = sample[\"reranked_results\"]\n",
    "print(expr(eval_BERT_rerank_results))"
   ]
  },
  {
   "cell_type": "code",
   "execution_count": 9,
   "metadata": {},
   "outputs": [
    {
     "data": {
      "text/plain": [
       "'â\\x80\\x8bâ\\x80\\x8bResidential garage doors from Overhead Door are among the most dependable in the industry, so you can feel good knowing that weâ\\x80\\x99ll be there â\\x80\\x94 day or night, winter or summer. For added peace of mind, our home garage doors have also been proven to be durable and long lasting. The reliability of your garage door will help you stay on schedule in the morning. Its beauty will greet you at the end of a busy workday, opening convenient, comfortable passage to your home. And through the night, the security of your garage door will help you rest assured that your family is safe.'"
      ]
     },
     "execution_count": 9,
     "metadata": {},
     "output_type": "execute_result"
    }
   ],
   "source": [
    "get_doc_fn('MARCO_5593358')"
   ]
  },
  {
   "cell_type": "code",
   "execution_count": 6,
   "metadata": {},
   "outputs": [
    {
     "data": {
      "text/plain": [
       "{'prev_turns': [],\n",
       " 'q_id': '81_1',\n",
       " 'q_rel': ['MARCO_5498474'],\n",
       " 'query': 'How do you know when your garage door opener is going bad?',\n",
       " 'search_results': [('MARCO_5593358', 0.8783813118934631),\n",
       "  ('MARCO_5498474', 0.8653429746627808),\n",
       "  ('MARCO_7308614', 0.8559824824333191),\n",
       "  ('MARCO_7517892', 0.8260317444801331),\n",
       "  ('MARCO_5844152', 0.792199432849884),\n",
       "  ('MARCO_6245022', 0.7700963616371155),\n",
       "  ('MARCO_6801809', 0.7367041707038879),\n",
       "  ('MARCO_7699205', 0.6752471923828125),\n",
       "  ('MARCO_5498468', 0.6368646025657654),\n",
       "  ('MARCO_7308619', 0.6284499168395996),\n",
       "  ('MARCO_7713531', 0.6059923768043518),\n",
       "  ('MARCO_7987331', 0.5933001637458801),\n",
       "  ('MARCO_6154877', 0.5182024240493774),\n",
       "  ('MARCO_6154876', 0.4936941862106323),\n",
       "  ('MARCO_4516819', 0.47940194606781006),\n",
       "  ('MARCO_1900270', 0.4233276844024658),\n",
       "  ('MARCO_6015699', 0.42029985785484314),\n",
       "  ('MARCO_700026', 0.38879796862602234),\n",
       "  ('MARCO_1945742', 0.3215405344963074),\n",
       "  ('MARCO_7517889', 0.30050134658813477),\n",
       "  ('MARCO_1381083', 0.26782530546188354),\n",
       "  ('MARCO_6024409', 0.24603605270385742),\n",
       "  ('MARCO_8447927', 0.24481096863746643),\n",
       "  ('MARCO_3517574', 0.23717260360717773),\n",
       "  ('MARCO_6154878', 0.2123872935771942),\n",
       "  ('MARCO_7095686', 0.2122763991355896),\n",
       "  ('MARCO_2481727', 0.19144132733345032),\n",
       "  ('MARCO_2950634', 0.1724836528301239),\n",
       "  ('MARCO_6154873', 0.17079585790634155),\n",
       "  ('MARCO_2023663', 0.1694803535938263),\n",
       "  ('MARCO_2950629', 0.16938135027885437),\n",
       "  ('MARCO_6154874', 0.16889545321464539),\n",
       "  ('MARCO_8319724', 0.166611909866333),\n",
       "  ('MARCO_7517883', 0.16096222400665283),\n",
       "  ('MARCO_6657353', 0.15995344519615173),\n",
       "  ('MARCO_5244463', 0.15685060620307922),\n",
       "  ('MARCO_888457', 0.15234330296516418),\n",
       "  ('MARCO_4532453', 0.14992624521255493),\n",
       "  ('MARCO_7517884', 0.14190402626991272),\n",
       "  ('MARCO_6549133', 0.13934947550296783),\n",
       "  ('MARCO_7699208', 0.13542474806308746),\n",
       "  ('MARCO_1900273', 0.13352280855178833),\n",
       "  ('MARCO_3212805', 0.12759019434452057),\n",
       "  ('MARCO_6568085', 0.11792062222957611),\n",
       "  ('MARCO_1767684', 0.1157623678445816),\n",
       "  ('MARCO_5498473', 0.11526593565940857),\n",
       "  ('MARCO_3588972', 0.11500401794910431),\n",
       "  ('MARCO_3024763', 0.11486590653657913),\n",
       "  ('MARCO_5432626', 0.10774467140436172),\n",
       "  ('MARCO_8270733', 0.10416926443576813),\n",
       "  ('MARCO_1381087', 0.10183960944414139),\n",
       "  ('MARCO_6024403', 0.10058990865945816),\n",
       "  ('MARCO_8275265', 0.0993683710694313),\n",
       "  ('MARCO_8270730', 0.08225329220294952),\n",
       "  ('MARCO_8270731', 0.08196450769901276),\n",
       "  ('MARCO_7517887', 0.0749162882566452),\n",
       "  ('MARCO_6115072', 0.07460812479257584),\n",
       "  ('MARCO_4532454', 0.07411003112792969),\n",
       "  ('MARCO_5446008', 0.07168202847242355),\n",
       "  ('MARCO_1815949', 0.06934428215026855),\n",
       "  ('MARCO_3942600', 0.068571075797081),\n",
       "  ('MARCO_7095687', 0.06852059066295624),\n",
       "  ('MARCO_5171382', 0.0638650506734848),\n",
       "  ('MARCO_8581568', 0.061678044497966766),\n",
       "  ('MARCO_3212800', 0.05902325361967087),\n",
       "  ('MARCO_6162563', 0.05420207977294922),\n",
       "  ('MARCO_6542464', 0.050694070756435394),\n",
       "  ('MARCO_6157928', 0.04813387617468834),\n",
       "  ('MARCO_5498475', 0.04568873345851898),\n",
       "  ('MARCO_6673503', 0.04376658797264099),\n",
       "  ('MARCO_4438563', 0.042486388236284256),\n",
       "  ('MARCO_3517569', 0.0418836884200573),\n",
       "  ('MARCO_5679018', 0.04155764728784561),\n",
       "  ('MARCO_5665857', 0.040623828768730164),\n",
       "  ('MARCO_888456', 0.03851453587412834),\n",
       "  ('MARCO_6087037', 0.03725350275635719),\n",
       "  ('MARCO_35626', 0.03636309131979942),\n",
       "  ('MARCO_6906782', 0.036060795187950134),\n",
       "  ('MARCO_478424', 0.033714428544044495),\n",
       "  ('MARCO_5034432', 0.028895583003759384),\n",
       "  ('MARCO_6087035', 0.02773737907409668),\n",
       "  ('MARCO_1945738', 0.027001336216926575),\n",
       "  ('MARCO_4723901', 0.024382103234529495),\n",
       "  ('MARCO_1945736', 0.023215800523757935),\n",
       "  ('MARCO_5241444', 0.02182701602578163),\n",
       "  ('MARCO_8136171', 0.014774605631828308),\n",
       "  ('MARCO_3096653', 0.014404397457838058),\n",
       "  ('MARCO_1619654', 0.012773923575878143),\n",
       "  ('MARCO_5692955', 0.012332014739513397),\n",
       "  ('MARCO_6577657', 0.008773146197199821),\n",
       "  ('MARCO_4363876', 0.008475817739963531),\n",
       "  ('MARCO_8328707', 0.008030669763684273),\n",
       "  ('MARCO_3992766', 0.005836294963955879),\n",
       "  ('MARCO_2750799', 0.0037239491939544678),\n",
       "  ('MARCO_3096658', 0.0015991516411304474),\n",
       "  ('MARCO_57993', 0.00040272995829582214),\n",
       "  ('MARCO_8454278', 5.2034854888916016e-05),\n",
       "  ('CAR_736849b1e725b1e41ae3da60d22376a9b7362171', -2.8599053621292114e-05),\n",
       "  ('MARCO_5053501', -0.0006556212902069092),\n",
       "  ('MARCO_4655000', -0.001967206597328186)],\n",
       " 'reranked_results': [('MARCO_5593358', 0.8783813118934631),\n",
       "  ('MARCO_5498474', 0.8653429746627808),\n",
       "  ('MARCO_7308614', 0.8559824824333191),\n",
       "  ('MARCO_7517892', 0.8260317444801331),\n",
       "  ('MARCO_5844152', 0.792199432849884),\n",
       "  ('MARCO_6245022', 0.7700963616371155),\n",
       "  ('MARCO_6801809', 0.7367041707038879),\n",
       "  ('MARCO_7699205', 0.6752471923828125),\n",
       "  ('MARCO_5498468', 0.6368646025657654),\n",
       "  ('MARCO_7308619', 0.6284499168395996),\n",
       "  ('MARCO_7713531', 0.6059923768043518),\n",
       "  ('MARCO_7987331', 0.5933001637458801),\n",
       "  ('MARCO_6154877', 0.5182024240493774),\n",
       "  ('MARCO_6154876', 0.4936941862106323),\n",
       "  ('MARCO_4516819', 0.47940194606781006),\n",
       "  ('MARCO_1900270', 0.4233276844024658),\n",
       "  ('MARCO_6015699', 0.42029985785484314),\n",
       "  ('MARCO_700026', 0.38879796862602234),\n",
       "  ('MARCO_1945742', 0.3215405344963074),\n",
       "  ('MARCO_7517889', 0.30050134658813477),\n",
       "  ('MARCO_1381083', 0.26782530546188354),\n",
       "  ('MARCO_6024409', 0.24603605270385742),\n",
       "  ('MARCO_8447927', 0.24481096863746643),\n",
       "  ('MARCO_3517574', 0.23717260360717773),\n",
       "  ('MARCO_6154878', 0.2123872935771942),\n",
       "  ('MARCO_7095686', 0.2122763991355896),\n",
       "  ('MARCO_2481727', 0.19144132733345032),\n",
       "  ('MARCO_2950634', 0.1724836528301239),\n",
       "  ('MARCO_6154873', 0.17079585790634155),\n",
       "  ('MARCO_2023663', 0.1694803535938263),\n",
       "  ('MARCO_2950629', 0.16938135027885437),\n",
       "  ('MARCO_6154874', 0.16889545321464539),\n",
       "  ('MARCO_8319724', 0.166611909866333),\n",
       "  ('MARCO_7517883', 0.16096222400665283),\n",
       "  ('MARCO_6657353', 0.15995344519615173),\n",
       "  ('MARCO_5244463', 0.15685060620307922),\n",
       "  ('MARCO_888457', 0.15234330296516418),\n",
       "  ('MARCO_4532453', 0.14992624521255493),\n",
       "  ('MARCO_7517884', 0.14190402626991272),\n",
       "  ('MARCO_6549133', 0.13934947550296783),\n",
       "  ('MARCO_7699208', 0.13542474806308746),\n",
       "  ('MARCO_1900273', 0.13352280855178833),\n",
       "  ('MARCO_3212805', 0.12759019434452057),\n",
       "  ('MARCO_6568085', 0.11792062222957611),\n",
       "  ('MARCO_1767684', 0.1157623678445816),\n",
       "  ('MARCO_5498473', 0.11526593565940857),\n",
       "  ('MARCO_3588972', 0.11500401794910431),\n",
       "  ('MARCO_3024763', 0.11486590653657913),\n",
       "  ('MARCO_5432626', 0.10774467140436172),\n",
       "  ('MARCO_8270733', 0.10416926443576813),\n",
       "  ('MARCO_1381087', 0.10183960944414139),\n",
       "  ('MARCO_6024403', 0.10058990865945816),\n",
       "  ('MARCO_8275265', 0.0993683710694313),\n",
       "  ('MARCO_8270730', 0.08225329220294952),\n",
       "  ('MARCO_8270731', 0.08196450769901276),\n",
       "  ('MARCO_7517887', 0.0749162882566452),\n",
       "  ('MARCO_6115072', 0.07460812479257584),\n",
       "  ('MARCO_4532454', 0.07411003112792969),\n",
       "  ('MARCO_5446008', 0.07168202847242355),\n",
       "  ('MARCO_1815949', 0.06934428215026855),\n",
       "  ('MARCO_3942600', 0.068571075797081),\n",
       "  ('MARCO_7095687', 0.06852059066295624),\n",
       "  ('MARCO_5171382', 0.0638650506734848),\n",
       "  ('MARCO_8581568', 0.061678044497966766),\n",
       "  ('MARCO_3212800', 0.05902325361967087),\n",
       "  ('MARCO_6162563', 0.05420207977294922),\n",
       "  ('MARCO_6542464', 0.050694070756435394),\n",
       "  ('MARCO_6157928', 0.04813387617468834),\n",
       "  ('MARCO_5498475', 0.04568873345851898),\n",
       "  ('MARCO_6673503', 0.04376658797264099),\n",
       "  ('MARCO_4438563', 0.042486388236284256),\n",
       "  ('MARCO_3517569', 0.0418836884200573),\n",
       "  ('MARCO_5679018', 0.04155764728784561),\n",
       "  ('MARCO_5665857', 0.040623828768730164),\n",
       "  ('MARCO_888456', 0.03851453587412834),\n",
       "  ('MARCO_6087037', 0.03725350275635719),\n",
       "  ('MARCO_35626', 0.03636309131979942),\n",
       "  ('MARCO_6906782', 0.036060795187950134),\n",
       "  ('MARCO_478424', 0.033714428544044495),\n",
       "  ('MARCO_5034432', 0.028895583003759384),\n",
       "  ('MARCO_6087035', 0.02773737907409668),\n",
       "  ('MARCO_1945738', 0.027001336216926575),\n",
       "  ('MARCO_4723901', 0.024382103234529495),\n",
       "  ('MARCO_1945736', 0.023215800523757935),\n",
       "  ('MARCO_5241444', 0.02182701602578163),\n",
       "  ('MARCO_8136171', 0.014774605631828308),\n",
       "  ('MARCO_3096653', 0.014404397457838058),\n",
       "  ('MARCO_1619654', 0.012773923575878143),\n",
       "  ('MARCO_5692955', 0.012332014739513397),\n",
       "  ('MARCO_6577657', 0.008773146197199821),\n",
       "  ('MARCO_4363876', 0.008475817739963531),\n",
       "  ('MARCO_8328707', 0.008030669763684273),\n",
       "  ('MARCO_3992766', 0.005836294963955879),\n",
       "  ('MARCO_2750799', 0.0037239491939544678),\n",
       "  ('MARCO_3096658', 0.0015991516411304474),\n",
       "  ('MARCO_57993', 0.00040272995829582214),\n",
       "  ('MARCO_8454278', 5.2034854888916016e-05),\n",
       "  ('CAR_736849b1e725b1e41ae3da60d22376a9b7362171', -2.8599053621292114e-05),\n",
       "  ('MARCO_5053501', -0.0006556212902069092),\n",
       "  ('MARCO_4655000', -0.001967206597328186)]}"
      ]
     },
     "execution_count": 6,
     "metadata": {},
     "output_type": "execute_result"
    }
   ],
   "source": [
    "eval_BERT_rerank_results[0]"
   ]
  },
  {
   "cell_type": "code",
   "execution_count": null,
   "metadata": {},
   "outputs": [],
   "source": []
  }
 ],
 "metadata": {
  "kernelspec": {
   "display_name": "Python 3",
   "language": "python",
   "name": "python3"
  },
  "language_info": {
   "codemirror_mode": {
    "name": "ipython",
    "version": 3
   },
   "file_extension": ".py",
   "mimetype": "text/x-python",
   "name": "python",
   "nbconvert_exporter": "python",
   "pygments_lexer": "ipython3",
   "version": "3.6.9"
  }
 },
 "nbformat": 4,
 "nbformat_minor": 4
}

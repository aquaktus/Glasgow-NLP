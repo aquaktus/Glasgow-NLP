{
 "cells": [
  {
   "cell_type": "code",
   "execution_count": 1,
   "metadata": {},
   "outputs": [],
   "source": [
    "from src.RawDataLoaders import MS_Marco_RawDataLoader, CAsT_RawDataLoader\n",
    "from src.pipe_datasets import Manual_Query_BM25_Reranking_Dataset, Reranking_Validation_Dataset, Manual_Query_RUN_File_Reranking_Dataset\n",
    "from src.models_and_transforms.run_file_models import Run_File_Searcher\n",
    "from src.models_and_transforms.BERT_models import BERT_Reranker\n",
    "from src.models_and_transforms.Longformer_models import Longformer_Reranker\n",
    "from src.models_and_transforms.BM25_models import BM25_Ranker\n",
    "from src.Experiments import CAsT_experiment, Ranking_Experiment, RUN_File_Transform_Exporter\n",
    "from src.trainers import Model_Trainer\n",
    "from src.models_and_transforms.complex_transforms import BERT_Score_Transform, BERT_ReRanker_Transform, BM25_Search_Transform, \\\n",
    "                                                         Oracle_ReRanker_Transform, RUN_File_Search_Transform, monoBERT_Scorer_Transform, \\\n",
    "                                                         MonoBERT_ReRanker_Transform\n",
    "from src.models_and_transforms.text_transforms import Query_Resolver_Transform, Document_Resolver_Transform, Reranking_Flattener_Transform, \\\n",
    "                                                      MonoBERT_Numericalise_Transform, BERT_Denumericalise_Transform\n",
    "\n",
    "from transformers import LongformerConfig, LongformerModel, LongformerTokenizer, BertTokenizer, BertModel, BertForSequenceClassification\n",
    "from pytorch_lightning import Trainer, Callback, seed_everything\n",
    "import pickle\n",
    "import random\n",
    "import numpy as np\n",
    "import os\n",
    "from pytorch_lightning.loggers import WandbLogger\n",
    "from pytorch_lightning.callbacks import ModelCheckpoint\n",
    "import torch\n",
    "seed_everything(42)\n",
    "\n",
    "from tqdm.auto import tqdm \n",
    "%load_ext autoreload\n",
    "%autoreload 2\n",
    "%load_ext line_profiler"
   ]
  },
  {
   "cell_type": "code",
   "execution_count": 3,
   "metadata": {},
   "outputs": [
    {
     "data": {
      "application/vnd.jupyter.widget-view+json": {
       "model_id": "",
       "version_major": 2,
       "version_minor": 0
      },
      "text/plain": [
       "HBox(children=(FloatProgress(value=1.0, bar_style='info', description='loading train queries', max=1.0, style=…"
      ]
     },
     "metadata": {},
     "output_type": "display_data"
    },
    {
     "data": {
      "application/vnd.jupyter.widget-view+json": {
       "model_id": "",
       "version_major": 2,
       "version_minor": 0
      },
      "text/plain": [
       "HBox(children=(FloatProgress(value=1.0, bar_style='info', description='loading dev queries', max=1.0, style=Pr…"
      ]
     },
     "metadata": {},
     "output_type": "display_data"
    },
    {
     "data": {
      "application/vnd.jupyter.widget-view+json": {
       "model_id": "",
       "version_major": 2,
       "version_minor": 0
      },
      "text/plain": [
       "HBox(children=(FloatProgress(value=1.0, bar_style='info', description='loading eval queries', max=1.0, style=P…"
      ]
     },
     "metadata": {},
     "output_type": "display_data"
    }
   ],
   "source": [
    "raw_data_loader = MS_Marco_RawDataLoader(from_pickle=True)\n",
    "get_query_fn = raw_data_loader.get_query\n",
    "get_doc_fn = raw_data_loader.get_doc"
   ]
  },
  {
   "cell_type": "code",
   "execution_count": 4,
   "metadata": {},
   "outputs": [
    {
     "data": {
      "application/vnd.jupyter.widget-view+json": {
       "model_id": "",
       "version_major": 2,
       "version_minor": 0
      },
      "text/plain": [
       "HBox(children=(FloatProgress(value=1.0, bar_style='info', description='loading train queries', max=1.0, style=…"
      ]
     },
     "metadata": {},
     "output_type": "display_data"
    },
    {
     "data": {
      "application/vnd.jupyter.widget-view+json": {
       "model_id": "",
       "version_major": 2,
       "version_minor": 0
      },
      "text/plain": [
       "HBox(children=(FloatProgress(value=1.0, bar_style='info', description='loading q_rels', max=1.0, style=Progres…"
      ]
     },
     "metadata": {},
     "output_type": "display_data"
    }
   ],
   "source": [
    "train_raw_samples = raw_data_loader.get_topics(\"train\")"
   ]
  },
  {
   "cell_type": "code",
   "execution_count": 5,
   "metadata": {
    "collapsed": true,
    "jupyter": {
     "outputs_hidden": true
    }
   },
   "outputs": [
    {
     "ename": "KeyboardInterrupt",
     "evalue": "",
     "output_type": "error",
     "traceback": [
      "\u001b[0;31m---------------------------------------------------------------------------\u001b[0m",
      "\u001b[0;31mKeyboardInterrupt\u001b[0m                         Traceback (most recent call last)",
      "\u001b[0;32m<ipython-input-5-8c3cacb0b2e4>\u001b[0m in \u001b[0;36m<module>\u001b[0;34m\u001b[0m\n\u001b[0;32m----> 1\u001b[0;31m \u001b[0msearcher\u001b[0m \u001b[0;34m=\u001b[0m \u001b[0mRun_File_Searcher\u001b[0m\u001b[0;34m(\u001b[0m\u001b[0;34m\"saved_models/MARCO_train_BM25_full.run\"\u001b[0m\u001b[0;34m)\u001b[0m\u001b[0;34m\u001b[0m\u001b[0;34m\u001b[0m\u001b[0m\n\u001b[0m",
      "\u001b[0;32m/nfs/phd_by_carlos/notebooks/src/models_and_transforms/run_file_models.py\u001b[0m in \u001b[0;36m__init__\u001b[0;34m(self, run_file, **kwargs)\u001b[0m\n\u001b[1;32m      7\u001b[0m         \u001b[0;32mwith\u001b[0m \u001b[0mopen\u001b[0m\u001b[0;34m(\u001b[0m\u001b[0mrun_file\u001b[0m\u001b[0;34m,\u001b[0m \u001b[0;34m\"r\"\u001b[0m\u001b[0;34m)\u001b[0m \u001b[0;32mas\u001b[0m \u001b[0mrun_f\u001b[0m\u001b[0;34m:\u001b[0m\u001b[0;34m\u001b[0m\u001b[0;34m\u001b[0m\u001b[0m\n\u001b[1;32m      8\u001b[0m             \u001b[0;32mfor\u001b[0m \u001b[0mline\u001b[0m \u001b[0;32min\u001b[0m \u001b[0mrun_f\u001b[0m\u001b[0;34m:\u001b[0m\u001b[0;34m\u001b[0m\u001b[0;34m\u001b[0m\u001b[0m\n\u001b[0;32m----> 9\u001b[0;31m                 \u001b[0mq_id\u001b[0m\u001b[0;34m,\u001b[0m \u001b[0m_\u001b[0m\u001b[0;34m,\u001b[0m \u001b[0mdoc_id\u001b[0m\u001b[0;34m,\u001b[0m \u001b[0mrank_str\u001b[0m\u001b[0;34m,\u001b[0m \u001b[0mscore_str\u001b[0m\u001b[0;34m,\u001b[0m \u001b[0mname\u001b[0m \u001b[0;34m=\u001b[0m \u001b[0mline\u001b[0m\u001b[0;34m.\u001b[0m\u001b[0msplit\u001b[0m\u001b[0;34m(\u001b[0m\u001b[0;34m\" \"\u001b[0m\u001b[0;34m)\u001b[0m\u001b[0;34m\u001b[0m\u001b[0;34m\u001b[0m\u001b[0m\n\u001b[0m\u001b[1;32m     10\u001b[0m                 \u001b[0mscore\u001b[0m \u001b[0;34m=\u001b[0m \u001b[0mfloat\u001b[0m\u001b[0;34m(\u001b[0m\u001b[0mscore_str\u001b[0m\u001b[0;34m)\u001b[0m\u001b[0;34m\u001b[0m\u001b[0;34m\u001b[0m\u001b[0m\n\u001b[1;32m     11\u001b[0m \u001b[0;34m\u001b[0m\u001b[0m\n",
      "\u001b[0;31mKeyboardInterrupt\u001b[0m: "
     ]
    }
   ],
   "source": [
    "searcher = Run_File_Searcher(\"saved_models/MARCO_train_BM25_full.run\")"
   ]
  },
  {
   "cell_type": "markdown",
   "metadata": {},
   "source": [
    "#### Removing probllematic samples"
   ]
  },
  {
   "cell_type": "code",
   "execution_count": 6,
   "metadata": {},
   "outputs": [],
   "source": [
    "bad_samples = [sample for sample in train_raw_samples if sample['q_id'] not in searcher.query_doc_mapping]"
   ]
  },
  {
   "cell_type": "code",
   "execution_count": 7,
   "metadata": {},
   "outputs": [
    {
     "name": "stdout",
     "output_type": "stream",
     "text": [
      "{'q_id': '140329', 'q_rel': ['MARCO_6542451']}\n",
      "{'q_id': '1078982', 'q_rel': ['MARCO_4115897']}\n",
      "{'q_id': '502557', 'q_rel': ['MARCO_1271975']}\n",
      "{'q_id': '48509', 'q_rel': ['MARCO_2063851']}\n",
      "{'q_id': '56573', 'q_rel': ['MARCO_3198289']}\n",
      "{'q_id': '129844', 'q_rel': ['MARCO_7817031']}\n",
      "{'q_id': '197820', 'q_rel': ['MARCO_5510763']}\n",
      "{'q_id': '522517', 'q_rel': ['MARCO_3075528']}\n",
      "{'q_id': '205266', 'q_rel': ['MARCO_5143713']}\n"
     ]
    }
   ],
   "source": [
    "for sample in bad_samples:\n",
    "    print(sample)\n",
    "    train_raw_samples.remove(sample)"
   ]
  },
  {
   "cell_type": "code",
   "execution_count": 10,
   "metadata": {},
   "outputs": [
    {
     "data": {
      "text/plain": [
       "0"
      ]
     },
     "execution_count": 10,
     "metadata": {},
     "output_type": "execute_result"
    }
   ],
   "source": [
    "len(bad_samples)"
   ]
  },
  {
   "cell_type": "code",
   "execution_count": 8,
   "metadata": {},
   "outputs": [
    {
     "data": {
      "application/vnd.jupyter.widget-view+json": {
       "model_id": "582914c09fed4f90ad6a25208740c0ce",
       "version_major": 2,
       "version_minor": 0
      },
      "text/plain": [
       "HBox(children=(FloatProgress(value=0.0, max=3.0), HTML(value='')))"
      ]
     },
     "metadata": {},
     "output_type": "display_data"
    },
    {
     "data": {
      "application/vnd.jupyter.widget-view+json": {
       "model_id": "9ab31037e9594b4da89dd60eccd0336e",
       "version_major": 2,
       "version_minor": 0
      },
      "text/plain": [
       "HBox(children=(FloatProgress(value=0.0, description='Searching queries', max=502930.0, style=ProgressStyle(des…"
      ]
     },
     "metadata": {},
     "output_type": "display_data"
    },
    {
     "name": "stdout",
     "output_type": "stream",
     "text": [
      "\n"
     ]
    },
    {
     "data": {
      "application/vnd.jupyter.widget-view+json": {
       "model_id": "c267b869d67d436dbeee06ab740cad38",
       "version_major": 2,
       "version_minor": 0
      },
      "text/plain": [
       "HBox(children=(FloatProgress(value=0.0, description='Sampling ± query-doc pairs', max=502930.0, style=Progress…"
      ]
     },
     "metadata": {},
     "output_type": "display_data"
    },
    {
     "name": "stdout",
     "output_type": "stream",
     "text": [
      "\n",
      "\n"
     ]
    }
   ],
   "source": [
    "train_dataset = Manual_Query_RUN_File_Reranking_Dataset(train_raw_samples, get_query_fn, get_doc_fn, \"saved_models/MARCO_train_BM25_full.run\", hits=100, num_neg_samples=50)"
   ]
  },
  {
   "cell_type": "code",
   "execution_count": 35,
   "metadata": {
    "collapsed": true,
    "jupyter": {
     "outputs_hidden": true
    }
   },
   "outputs": [
    {
     "data": {
      "text/plain": [
       "{'q_id': '502744',\n",
       " 'q_rel': ['MARCO_5338628'],\n",
       " 'query': 'starter remove on a polaris 400 sportsman',\n",
       " 'd_id': 'MARCO_5338630',\n",
       " 'label': 0,\n",
       " 'doc': \"polaris 400 starter. Follow polaris 400 starter to get e-mail alerts and updates on your eBay Feed. Unfollow polaris 400 starter to stop getting updates on your eBay Feed.Yay! You're now following polaris 400 starter in your eBay Feed.ollow polaris 400 starter to get e-mail alerts and updates on your eBay Feed. Unfollow polaris 400 starter to stop getting updates on your eBay Feed. Yay! You're now following polaris 400 starter in your eBay Feed.\",\n",
       " 'input_text': \"starter remove on a polaris 400 sportsman [SEP] polaris 400 starter. Follow polaris 400 starter to get e-mail alerts and updates on your eBay Feed. Unfollow polaris 400 starter to stop getting updates on your eBay Feed.Yay! You're now following polaris 400 starter in your eBay Feed.ollow polaris 400 starter to get e-mail alerts and updates on your eBay Feed. Unfollow polaris 400 starter to stop getting updates on your eBay Feed. Yay! You're now following polaris 400 starter in your eBay Feed.\",\n",
       " 'input_ids': [101,\n",
       "  11753,\n",
       "  6366,\n",
       "  2006,\n",
       "  1037,\n",
       "  11508,\n",
       "  2483,\n",
       "  4278,\n",
       "  27168,\n",
       "  102,\n",
       "  11508,\n",
       "  2483,\n",
       "  4278,\n",
       "  11753,\n",
       "  1012,\n",
       "  3582,\n",
       "  11508,\n",
       "  2483,\n",
       "  4278,\n",
       "  11753,\n",
       "  2000,\n",
       "  2131,\n",
       "  1041,\n",
       "  1011,\n",
       "  5653,\n",
       "  9499,\n",
       "  2015,\n",
       "  1998,\n",
       "  14409,\n",
       "  2006,\n",
       "  2115,\n",
       "  1041,\n",
       "  15907,\n",
       "  5438,\n",
       "  1012,\n",
       "  4895,\n",
       "  14876,\n",
       "  7174,\n",
       "  2860,\n",
       "  11508,\n",
       "  2483,\n",
       "  4278,\n",
       "  11753,\n",
       "  2000,\n",
       "  2644,\n",
       "  2893,\n",
       "  14409,\n",
       "  2006,\n",
       "  2115,\n",
       "  1041,\n",
       "  15907,\n",
       "  5438,\n",
       "  1012,\n",
       "  8038,\n",
       "  2100,\n",
       "  999,\n",
       "  2017,\n",
       "  1005,\n",
       "  2128,\n",
       "  2085,\n",
       "  2206,\n",
       "  11508,\n",
       "  2483,\n",
       "  4278,\n",
       "  11753,\n",
       "  1999,\n",
       "  2115,\n",
       "  1041,\n",
       "  15907,\n",
       "  5438,\n",
       "  1012,\n",
       "  19330,\n",
       "  8261,\n",
       "  11508,\n",
       "  2483,\n",
       "  4278,\n",
       "  11753,\n",
       "  2000,\n",
       "  2131,\n",
       "  1041,\n",
       "  1011,\n",
       "  5653,\n",
       "  9499,\n",
       "  2015,\n",
       "  1998,\n",
       "  14409,\n",
       "  2006,\n",
       "  2115,\n",
       "  1041,\n",
       "  15907,\n",
       "  5438,\n",
       "  1012,\n",
       "  4895,\n",
       "  14876,\n",
       "  7174,\n",
       "  2860,\n",
       "  11508,\n",
       "  2483,\n",
       "  4278,\n",
       "  11753,\n",
       "  2000,\n",
       "  2644,\n",
       "  2893,\n",
       "  14409,\n",
       "  2006,\n",
       "  2115,\n",
       "  1041,\n",
       "  15907,\n",
       "  5438,\n",
       "  1012,\n",
       "  8038,\n",
       "  2100,\n",
       "  999,\n",
       "  2017,\n",
       "  1005,\n",
       "  2128,\n",
       "  2085,\n",
       "  2206,\n",
       "  11508,\n",
       "  2483,\n",
       "  4278,\n",
       "  11753,\n",
       "  1999,\n",
       "  2115,\n",
       "  1041,\n",
       "  15907,\n",
       "  5438,\n",
       "  1012,\n",
       "  102],\n",
       " 'q_id_ascii': [53,\n",
       "  48,\n",
       "  50,\n",
       "  55,\n",
       "  52,\n",
       "  52,\n",
       "  -1,\n",
       "  -1,\n",
       "  -1,\n",
       "  -1,\n",
       "  -1,\n",
       "  -1,\n",
       "  -1,\n",
       "  -1,\n",
       "  -1,\n",
       "  -1,\n",
       "  -1,\n",
       "  -1,\n",
       "  -1,\n",
       "  -1,\n",
       "  -1,\n",
       "  -1,\n",
       "  -1,\n",
       "  -1,\n",
       "  -1,\n",
       "  -1,\n",
       "  -1,\n",
       "  -1,\n",
       "  -1,\n",
       "  -1,\n",
       "  -1,\n",
       "  -1,\n",
       "  -1,\n",
       "  -1,\n",
       "  -1,\n",
       "  -1,\n",
       "  -1,\n",
       "  -1,\n",
       "  -1,\n",
       "  -1,\n",
       "  -1,\n",
       "  -1,\n",
       "  -1,\n",
       "  -1,\n",
       "  -1,\n",
       "  -1,\n",
       "  -1,\n",
       "  -1,\n",
       "  -1,\n",
       "  -1,\n",
       "  -1,\n",
       "  -1,\n",
       "  -1,\n",
       "  -1,\n",
       "  -1,\n",
       "  -1,\n",
       "  -1,\n",
       "  -1,\n",
       "  -1,\n",
       "  -1,\n",
       "  -1,\n",
       "  -1,\n",
       "  -1,\n",
       "  -1],\n",
       " 'd_id_ascii': [77,\n",
       "  65,\n",
       "  82,\n",
       "  67,\n",
       "  79,\n",
       "  95,\n",
       "  53,\n",
       "  51,\n",
       "  51,\n",
       "  56,\n",
       "  54,\n",
       "  51,\n",
       "  48,\n",
       "  -1,\n",
       "  -1,\n",
       "  -1,\n",
       "  -1,\n",
       "  -1,\n",
       "  -1,\n",
       "  -1,\n",
       "  -1,\n",
       "  -1,\n",
       "  -1,\n",
       "  -1,\n",
       "  -1,\n",
       "  -1,\n",
       "  -1,\n",
       "  -1,\n",
       "  -1,\n",
       "  -1,\n",
       "  -1,\n",
       "  -1,\n",
       "  -1,\n",
       "  -1,\n",
       "  -1,\n",
       "  -1,\n",
       "  -1,\n",
       "  -1,\n",
       "  -1,\n",
       "  -1,\n",
       "  -1,\n",
       "  -1,\n",
       "  -1,\n",
       "  -1,\n",
       "  -1,\n",
       "  -1,\n",
       "  -1,\n",
       "  -1,\n",
       "  -1,\n",
       "  -1,\n",
       "  -1,\n",
       "  -1,\n",
       "  -1,\n",
       "  -1,\n",
       "  -1,\n",
       "  -1,\n",
       "  -1,\n",
       "  -1,\n",
       "  -1,\n",
       "  -1,\n",
       "  -1,\n",
       "  -1,\n",
       "  -1,\n",
       "  -1]}"
      ]
     },
     "execution_count": 35,
     "metadata": {},
     "output_type": "execute_result"
    }
   ],
   "source": [
    "train_dataset[50000]"
   ]
  },
  {
   "cell_type": "code",
   "execution_count": null,
   "metadata": {},
   "outputs": [
    {
     "data": {
      "application/vnd.jupyter.widget-view+json": {
       "model_id": "7a9386d3fcc8453b813e4ecbf8841928",
       "version_major": 2,
       "version_minor": 0
      },
      "text/plain": [
       "HBox(children=(FloatProgress(value=0.0, max=3.0), HTML(value='')))"
      ]
     },
     "metadata": {},
     "output_type": "display_data"
    },
    {
     "data": {
      "application/vnd.jupyter.widget-view+json": {
       "model_id": "874403bb538b45809e4ca8827a6a915b",
       "version_major": 2,
       "version_minor": 0
      },
      "text/plain": [
       "HBox(children=(FloatProgress(value=0.0, description='Searching queries', max=20000.0, style=ProgressStyle(desc…"
      ]
     },
     "metadata": {},
     "output_type": "display_data"
    },
    {
     "name": "stdout",
     "output_type": "stream",
     "text": [
      "\n"
     ]
    },
    {
     "data": {
      "application/vnd.jupyter.widget-view+json": {
       "model_id": "b4bfc2f110af4ea293b6824359139e8a",
       "version_major": 2,
       "version_minor": 0
      },
      "text/plain": [
       "HBox(children=(FloatProgress(value=0.0, description='Sampling ± query-doc pairs', max=20000.0, style=ProgressS…"
      ]
     },
     "metadata": {},
     "output_type": "display_data"
    }
   ],
   "source": [
    "train_dataset = Manual_Query_BM25_Reranking_Dataset(train_raw_samples[:20000], get_query_fn, get_doc_fn, hits=150, num_neg_samples=100, index_dir=\"datasets/MS_MARCO/MARCO_anserini\")"
   ]
  },
  {
   "cell_type": "code",
   "execution_count": null,
   "metadata": {},
   "outputs": [],
   "source": [
    "train_dataloader = train_dataset.to_dataloader(8, num_workers=32, shuffle=True)"
   ]
  },
  {
   "cell_type": "code",
   "execution_count": 7,
   "metadata": {},
   "outputs": [],
   "source": [
    "model = Longformer_Reranker()"
   ]
  },
  {
   "cell_type": "code",
   "execution_count": 17,
   "metadata": {},
   "outputs": [],
   "source": [
    "torch.save(model.state_dict(), \"saved_models/Longformer/Longformer_ReRanker_MARCO.ckpt\")"
   ]
  },
  {
   "cell_type": "code",
   "execution_count": 30,
   "metadata": {},
   "outputs": [
    {
     "data": {
      "text/plain": [
       "<All keys matched successfully>"
      ]
     },
     "execution_count": 30,
     "metadata": {},
     "output_type": "execute_result"
    }
   ],
   "source": [
    "model.load_state_dict(torch.load(\"saved_models/Longformer/Longformer_ReRanker_MARCO.ckpt\"))"
   ]
  },
  {
   "cell_type": "code",
   "execution_count": 53,
   "metadata": {},
   "outputs": [
    {
     "name": "stdout",
     "output_type": "stream",
     "text": [
      "<All keys matched successfully>\n",
      "BERT ReRanker initialised on cuda. Batch size 64\n"
     ]
    },
    {
     "data": {
      "text/plain": [
       "[{'input_ids': [55, 66, 33], 'score': 0.044405270367860794},\n",
       " {'input_ids': [45, 76, 33], 'score': 0.044405270367860794}]"
      ]
     },
     "execution_count": 53,
     "metadata": {},
     "output_type": "execute_result"
    }
   ],
   "source": [
    "samples = [{\"input_ids\":[55,66,33]},{\"input_ids\":[45,76,33]}]\n",
    "score_transform = BERT_Score_Transform(\"saved_models/BERT_ReRanker_MARCO.ckpt\")\n",
    "score_transform(samples)"
   ]
  },
  {
   "cell_type": "code",
   "execution_count": 132,
   "metadata": {},
   "outputs": [
    {
     "name": "stdout",
     "output_type": "stream",
     "text": [
      "<All keys matched successfully>\n",
      "BERT ReRanker initialised on cuda. Batch size 64\n"
     ]
    },
    {
     "data": {
      "application/vnd.jupyter.widget-view+json": {
       "model_id": "4aef655b04824edcb52c528b5889c4ff",
       "version_major": 2,
       "version_minor": 0
      },
      "text/plain": [
       "HBox(children=(FloatProgress(value=0.0, description='Reranking queries', max=1.0, style=ProgressStyle(descript…"
      ]
     },
     "metadata": {},
     "output_type": "display_data"
    },
    {
     "name": "stdout",
     "output_type": "stream",
     "text": [
      "\n"
     ]
    },
    {
     "data": {
      "text/plain": [
       "[{'q_id': '121352',\n",
       "  'query': 'define extreme',\n",
       "  'search_results': [('MARCO_6237152', 0.6), ('MARCO_2912794', 0.6)],\n",
       "  'reranked_results': [('MARCO_2912794', 0.992748498916626),\n",
       "   ('MARCO_6237152', -0.01869625225663185)]}]"
      ]
     },
     "execution_count": 132,
     "metadata": {},
     "output_type": "execute_result"
    }
   ],
   "source": [
    "samples = [{'q_id':\"121352\",\"query\":\"define extreme\", 'search_results':[('MARCO_6237152', 0.6), ('MARCO_2912794', 0.6)]}]\n",
    "rerank_transform = BERT_ReRanker_Transform(\"saved_models/Longformer/Longformer_ReRanker_MARCO.ckpt\", get_doc_fn)\n",
    "rerank_transform(samples)"
   ]
  },
  {
   "cell_type": "code",
   "execution_count": 8,
   "metadata": {},
   "outputs": [
    {
     "data": {
      "application/vnd.jupyter.widget-view+json": {
       "model_id": "",
       "version_major": 2,
       "version_minor": 0
      },
      "text/plain": [
       "HBox(children=(FloatProgress(value=1.0, bar_style='info', description='loading q_rels', max=1.0, style=Progres…"
      ]
     },
     "metadata": {},
     "output_type": "display_data"
    },
    {
     "data": {
      "application/vnd.jupyter.widget-view+json": {
       "model_id": "",
       "version_major": 2,
       "version_minor": 0
      },
      "text/plain": [
       "HBox(children=(FloatProgress(value=1.0, bar_style='info', description='loading dev queries', max=1.0, style=Pr…"
      ]
     },
     "metadata": {},
     "output_type": "display_data"
    },
    {
     "data": {
      "application/vnd.jupyter.widget-view+json": {
       "model_id": "",
       "version_major": 2,
       "version_minor": 0
      },
      "text/plain": [
       "HBox(children=(FloatProgress(value=1.0, bar_style='info', description='loading q_rels', max=1.0, style=Progres…"
      ]
     },
     "metadata": {},
     "output_type": "display_data"
    },
    {
     "data": {
      "application/vnd.jupyter.widget-view+json": {
       "model_id": "cdcb5b01708443c7893cfc2b0693c750",
       "version_major": 2,
       "version_minor": 0
      },
      "text/plain": [
       "HBox(children=(FloatProgress(value=0.0, description='Searching queries', max=400.0, style=ProgressStyle(descri…"
      ]
     },
     "metadata": {},
     "output_type": "display_data"
    },
    {
     "name": "stdout",
     "output_type": "stream",
     "text": [
      "\n"
     ]
    },
    {
     "data": {
      "application/vnd.jupyter.widget-view+json": {
       "model_id": "d65d3d2733164679889654dc09f882ee",
       "version_major": 2,
       "version_minor": 0
      },
      "text/plain": [
       "HBox(children=(FloatProgress(value=0.0, max=1.0), HTML(value='')))"
      ]
     },
     "metadata": {},
     "output_type": "display_data"
    },
    {
     "data": {
      "application/vnd.jupyter.widget-view+json": {
       "model_id": "1791eaa99e3149a583ee2d53eaad23a6",
       "version_major": 2,
       "version_minor": 0
      },
      "text/plain": [
       "HBox(children=(FloatProgress(value=0.0, description='Flattening search results', max=400.0, style=ProgressStyl…"
      ]
     },
     "metadata": {},
     "output_type": "display_data"
    },
    {
     "name": "stdout",
     "output_type": "stream",
     "text": [
      "\n",
      "\n"
     ]
    }
   ],
   "source": [
    "valid_q_rels = raw_data_loader.q_rels(\"dev\")\n",
    "valid_raw_samples = raw_data_loader.get_topics(\"dev\")[:400]\n",
    "valid_samples = Query_Resolver_Transform(get_query_fn)(valid_raw_samples)\n",
    "valid_BM25_results = RUN_File_Search_Transform('saved_models/MARCO_dev_BM25.run', hits=100)(valid_raw_samples)\n",
    "val_dataset = Reranking_Validation_Dataset(valid_BM25_results, get_query_fn, get_doc_fn)\n",
    "val_dataloader = val_dataset.to_dataloader(128, num_workers=32, shuffle=False)"
   ]
  },
  {
   "cell_type": "code",
   "execution_count": 12,
   "metadata": {},
   "outputs": [
    {
     "name": "stdout",
     "output_type": "stream",
     "text": [
      "BM25 results\n",
      "{'map': 0.18098515570583398, 'recip_rank': 0.18098515570583398, 'ndcg': 0.27305565934364895, 'set_recall': 0.645}\n",
      "ORACLE results\n",
      "{'map': 0.645, 'recip_rank': 0.645, 'ndcg': 0.645, 'set_recall': 0.645}\n",
      "BERT+BM25 results\n",
      "cpu\n",
      "<All keys matched successfully>\n",
      "BERT ReRanker initialised on cuda:2. Batch size 256\n"
     ]
    },
    {
     "data": {
      "application/vnd.jupyter.widget-view+json": {
       "model_id": "237d83b55cb84ac0aabd4a07cd431d8a",
       "version_major": 2,
       "version_minor": 0
      },
      "text/plain": [
       "HBox(children=(FloatProgress(value=0.0, description='Reranking queries', max=400.0, style=ProgressStyle(descri…"
      ]
     },
     "metadata": {},
     "output_type": "display_data"
    },
    {
     "name": "stdout",
     "output_type": "stream",
     "text": [
      "\n",
      "{'map': 0.3138712999797035, 'recip_rank': 0.3138712999797035, 'ndcg': 0.38551378521302254, 'set_recall': 0.645}\n"
     ]
    }
   ],
   "source": [
    "# experiment\n",
    "expr = Ranking_Experiment(valid_q_rels)\n",
    "print(\"BM25 results\")\n",
    "print(expr(valid_BM25_results))\n",
    "\n",
    "print(\"ORACLE results\")\n",
    "valid_oracle_rerank_results = Oracle_ReRanker_Transform(valid_q_rels)(valid_BM25_results)\n",
    "for sample in valid_oracle_rerank_results:\n",
    "    sample[\"search_results\"] = sample[\"reranked_results\"]\n",
    "print(expr(valid_oracle_rerank_results))\n",
    "\n",
    "print(\"BERT+BM25 results\")\n",
    "valid_BERT_rerank_results = BERT_ReRanker_Transform(\"saved_models/BERT_reranker_q100k_h100_checkpoints/BERT_ReRanker_MARCO_from_valid_0.38551378521302254.ckpt\", get_doc_fn, device=\"cuda:2\", batch_size=256)(valid_BM25_results)\n",
    "for sample in valid_BERT_rerank_results:\n",
    "    sample[\"search_results\"] = sample[\"reranked_results\"]\n",
    "print(expr(valid_BERT_rerank_results))"
   ]
  },
  {
   "cell_type": "code",
   "execution_count": 17,
   "metadata": {},
   "outputs": [
    {
     "ename": "TypeError",
     "evalue": "Unable to resolve all measures.",
     "output_type": "error",
     "traceback": [
      "\u001b[0;31m---------------------------------------------------------------------------\u001b[0m",
      "\u001b[0;31mTypeError\u001b[0m                                 Traceback (most recent call last)",
      "\u001b[0;32m<ipython-input-17-e4723f569656>\u001b[0m in \u001b[0;36m<module>\u001b[0;34m\u001b[0m\n\u001b[0;32m----> 1\u001b[0;31m \u001b[0mexpr\u001b[0m \u001b[0;34m=\u001b[0m \u001b[0mRanking_Experiment\u001b[0m\u001b[0;34m(\u001b[0m\u001b[0mvalid_q_rels\u001b[0m\u001b[0;34m)\u001b[0m\u001b[0;34m\u001b[0m\u001b[0;34m\u001b[0m\u001b[0m\n\u001b[0m\u001b[1;32m      2\u001b[0m \u001b[0mprint\u001b[0m\u001b[0;34m(\u001b[0m\u001b[0mexpr\u001b[0m\u001b[0;34m(\u001b[0m\u001b[0mvalid_BERT_rerank_results\u001b[0m\u001b[0;34m)\u001b[0m\u001b[0;34m)\u001b[0m\u001b[0;34m\u001b[0m\u001b[0;34m\u001b[0m\u001b[0m\n",
      "\u001b[0;32m/nfs/phd_by_carlos/notebooks/src/Experiments.py\u001b[0m in \u001b[0;36m__init__\u001b[0;34m(self, q_rels, save_dir, save_name)\u001b[0m\n\u001b[1;32m    139\u001b[0m         \u001b[0;32mfor\u001b[0m \u001b[0mq_id\u001b[0m\u001b[0;34m,\u001b[0m \u001b[0md_ids\u001b[0m \u001b[0;32min\u001b[0m \u001b[0mq_rels\u001b[0m\u001b[0;34m.\u001b[0m\u001b[0mitems\u001b[0m\u001b[0;34m(\u001b[0m\u001b[0;34m)\u001b[0m\u001b[0;34m:\u001b[0m\u001b[0;34m\u001b[0m\u001b[0;34m\u001b[0m\u001b[0m\n\u001b[1;32m    140\u001b[0m             \u001b[0mpytrec_q_rels\u001b[0m\u001b[0;34m[\u001b[0m\u001b[0mq_id\u001b[0m\u001b[0;34m]\u001b[0m \u001b[0;34m=\u001b[0m \u001b[0;34m{\u001b[0m\u001b[0md_id\u001b[0m\u001b[0;34m:\u001b[0m\u001b[0;36m1\u001b[0m \u001b[0;32mfor\u001b[0m \u001b[0md_id\u001b[0m \u001b[0;32min\u001b[0m \u001b[0md_ids\u001b[0m\u001b[0;34m}\u001b[0m\u001b[0;34m\u001b[0m\u001b[0;34m\u001b[0m\u001b[0m\n\u001b[0;32m--> 141\u001b[0;31m         \u001b[0mself\u001b[0m\u001b[0;34m.\u001b[0m\u001b[0mevaluator\u001b[0m \u001b[0;34m=\u001b[0m \u001b[0mpytrec_eval\u001b[0m\u001b[0;34m.\u001b[0m\u001b[0mRelevanceEvaluator\u001b[0m\u001b[0;34m(\u001b[0m\u001b[0mpytrec_q_rels\u001b[0m\u001b[0;34m,\u001b[0m \u001b[0;34m{\u001b[0m\u001b[0;34m'map'\u001b[0m\u001b[0;34m,\u001b[0m \u001b[0;34m'ndcg'\u001b[0m\u001b[0;34m,\u001b[0m \u001b[0;34m'set_recall'\u001b[0m\u001b[0;34m,\u001b[0m \u001b[0;34m'recip_rank'\u001b[0m\u001b[0;34m,\u001b[0m \u001b[0;34m'map@5'\u001b[0m\u001b[0;34m}\u001b[0m\u001b[0;34m)\u001b[0m\u001b[0;34m\u001b[0m\u001b[0;34m\u001b[0m\u001b[0m\n\u001b[0m\u001b[1;32m    142\u001b[0m \u001b[0;34m\u001b[0m\u001b[0m\n\u001b[1;32m    143\u001b[0m     \u001b[0;32mdef\u001b[0m \u001b[0mdict_mean\u001b[0m\u001b[0;34m(\u001b[0m\u001b[0mself\u001b[0m\u001b[0;34m,\u001b[0m \u001b[0mdict_list\u001b[0m\u001b[0;34m)\u001b[0m\u001b[0;34m:\u001b[0m\u001b[0;34m\u001b[0m\u001b[0;34m\u001b[0m\u001b[0m\n",
      "\u001b[0;31mTypeError\u001b[0m: Unable to resolve all measures."
     ]
    }
   ],
   "source": [
    "expr = Ranking_Experiment(valid_q_rels)\n",
    "print(expr(valid_BERT_rerank_results))"
   ]
  },
  {
   "cell_type": "code",
   "execution_count": 1,
   "metadata": {},
   "outputs": [
    {
     "name": "stderr",
     "output_type": "stream",
     "text": [
      "ERROR:root:No traceback has been produced, nothing to debug.\n"
     ]
    }
   ],
   "source": [
    "%debug"
   ]
  },
  {
   "cell_type": "code",
   "execution_count": 32,
   "metadata": {
    "collapsed": true,
    "jupyter": {
     "outputs_hidden": true
    }
   },
   "outputs": [
    {
     "name": "stdout",
     "output_type": "stream",
     "text": [
      "Detected 8 GPUS available, using [0].\n",
      "Main device is: cuda:0\n"
     ]
    },
    {
     "data": {
      "application/vnd.jupyter.widget-view+json": {
       "model_id": "718bb72ed0bb4e81897358dddb651f2d",
       "version_major": 2,
       "version_minor": 0
      },
      "text/plain": [
       "HBox(children=(FloatProgress(value=0.0, max=12417.0), HTML(value='')))"
      ]
     },
     "metadata": {},
     "output_type": "display_data"
    },
    {
     "name": "stdout",
     "output_type": "stream",
     "text": [
      "\n",
      "Keyboard Interrupt!\n"
     ]
    },
    {
     "data": {
      "text/plain": [
       "{'train_loss': [tensor(0.7658, device='cuda:0', grad_fn=<MseLossBackward>),\n",
       "  tensor(0.5080, device='cuda:0', grad_fn=<MseLossBackward>),\n",
       "  tensor(0.3244, device='cuda:0', grad_fn=<MseLossBackward>),\n",
       "  tensor(0.3060, device='cuda:0', grad_fn=<MseLossBackward>),\n",
       "  tensor(0.2623, device='cuda:0', grad_fn=<MseLossBackward>),\n",
       "  tensor(0.4784, device='cuda:0', grad_fn=<MseLossBackward>),\n",
       "  tensor(0.5412, device='cuda:0', grad_fn=<MseLossBackward>),\n",
       "  tensor(0.4063, device='cuda:0', grad_fn=<MseLossBackward>),\n",
       "  tensor(0.4163, device='cuda:0', grad_fn=<MseLossBackward>),\n",
       "  tensor(0.5151, device='cuda:0', grad_fn=<MseLossBackward>),\n",
       "  tensor(0.3588, device='cuda:0', grad_fn=<MseLossBackward>),\n",
       "  tensor(0.4145, device='cuda:0', grad_fn=<MseLossBackward>),\n",
       "  tensor(0.3521, device='cuda:0', grad_fn=<MseLossBackward>),\n",
       "  tensor(0.2835, device='cuda:0', grad_fn=<MseLossBackward>),\n",
       "  tensor(0.3656, device='cuda:0', grad_fn=<MseLossBackward>),\n",
       "  tensor(0.5360, device='cuda:0', grad_fn=<MseLossBackward>),\n",
       "  tensor(0.2494, device='cuda:0', grad_fn=<MseLossBackward>),\n",
       "  tensor(0.4271, device='cuda:0', grad_fn=<MseLossBackward>),\n",
       "  tensor(0.4802, device='cuda:0', grad_fn=<MseLossBackward>),\n",
       "  tensor(0.3109, device='cuda:0', grad_fn=<MseLossBackward>),\n",
       "  tensor(0.2279, device='cuda:0', grad_fn=<MseLossBackward>),\n",
       "  tensor(0.3391, device='cuda:0', grad_fn=<MseLossBackward>),\n",
       "  tensor(0.1601, device='cuda:0', grad_fn=<MseLossBackward>),\n",
       "  tensor(0.3683, device='cuda:0', grad_fn=<MseLossBackward>),\n",
       "  tensor(0.3277, device='cuda:0', grad_fn=<MseLossBackward>),\n",
       "  tensor(0.5099, device='cuda:0', grad_fn=<MseLossBackward>),\n",
       "  tensor(0.2978, device='cuda:0', grad_fn=<MseLossBackward>),\n",
       "  tensor(0.3543, device='cuda:0', grad_fn=<MseLossBackward>),\n",
       "  tensor(0.1950, device='cuda:0', grad_fn=<MseLossBackward>),\n",
       "  tensor(0.3583, device='cuda:0', grad_fn=<MseLossBackward>),\n",
       "  tensor(0.3799, device='cuda:0', grad_fn=<MseLossBackward>),\n",
       "  tensor(0.4830, device='cuda:0', grad_fn=<MseLossBackward>),\n",
       "  tensor(0.4738, device='cuda:0', grad_fn=<MseLossBackward>),\n",
       "  tensor(0.1928, device='cuda:0', grad_fn=<MseLossBackward>),\n",
       "  tensor(0.3293, device='cuda:0', grad_fn=<MseLossBackward>),\n",
       "  tensor(0.3836, device='cuda:0', grad_fn=<MseLossBackward>),\n",
       "  tensor(0.2438, device='cuda:0', grad_fn=<MseLossBackward>),\n",
       "  tensor(0.4738, device='cuda:0', grad_fn=<MseLossBackward>),\n",
       "  tensor(0.3896, device='cuda:0', grad_fn=<MseLossBackward>),\n",
       "  tensor(0.3432, device='cuda:0', grad_fn=<MseLossBackward>),\n",
       "  tensor(0.3711, device='cuda:0', grad_fn=<MseLossBackward>),\n",
       "  tensor(0.3397, device='cuda:0', grad_fn=<MseLossBackward>),\n",
       "  tensor(0.2808, device='cuda:0', grad_fn=<MseLossBackward>),\n",
       "  tensor(0.5506, device='cuda:0', grad_fn=<MseLossBackward>),\n",
       "  tensor(0.2479, device='cuda:0', grad_fn=<MseLossBackward>),\n",
       "  tensor(0.3068, device='cuda:0', grad_fn=<MseLossBackward>),\n",
       "  tensor(0.2484, device='cuda:0', grad_fn=<MseLossBackward>),\n",
       "  tensor(0.3382, device='cuda:0', grad_fn=<MseLossBackward>),\n",
       "  tensor(0.2625, device='cuda:0', grad_fn=<MseLossBackward>),\n",
       "  tensor(0.2396, device='cuda:0', grad_fn=<MseLossBackward>),\n",
       "  tensor(0.3105, device='cuda:0', grad_fn=<MseLossBackward>),\n",
       "  tensor(0.3180, device='cuda:0', grad_fn=<MseLossBackward>),\n",
       "  tensor(0.3752, device='cuda:0', grad_fn=<MseLossBackward>),\n",
       "  tensor(0.4213, device='cuda:0', grad_fn=<MseLossBackward>),\n",
       "  tensor(0.6027, device='cuda:0', grad_fn=<MseLossBackward>),\n",
       "  tensor(0.3905, device='cuda:0', grad_fn=<MseLossBackward>),\n",
       "  tensor(0.4183, device='cuda:0', grad_fn=<MseLossBackward>),\n",
       "  tensor(0.3678, device='cuda:0', grad_fn=<MseLossBackward>),\n",
       "  tensor(0.3097, device='cuda:0', grad_fn=<MseLossBackward>),\n",
       "  tensor(0.3932, device='cuda:0', grad_fn=<MseLossBackward>),\n",
       "  tensor(0.1772, device='cuda:0', grad_fn=<MseLossBackward>),\n",
       "  tensor(0.2136, device='cuda:0', grad_fn=<MseLossBackward>),\n",
       "  tensor(0.2638, device='cuda:0', grad_fn=<MseLossBackward>),\n",
       "  tensor(0.3671, device='cuda:0', grad_fn=<MseLossBackward>),\n",
       "  tensor(0.1999, device='cuda:0', grad_fn=<MseLossBackward>),\n",
       "  tensor(0.4269, device='cuda:0', grad_fn=<MseLossBackward>),\n",
       "  tensor(0.3285, device='cuda:0', grad_fn=<MseLossBackward>),\n",
       "  tensor(0.2336, device='cuda:0', grad_fn=<MseLossBackward>),\n",
       "  tensor(0.4135, device='cuda:0', grad_fn=<MseLossBackward>),\n",
       "  tensor(0.2706, device='cuda:0', grad_fn=<MseLossBackward>),\n",
       "  tensor(0.4337, device='cuda:0', grad_fn=<MseLossBackward>),\n",
       "  tensor(0.4084, device='cuda:0', grad_fn=<MseLossBackward>),\n",
       "  tensor(0.4217, device='cuda:0', grad_fn=<MseLossBackward>),\n",
       "  tensor(0.3005, device='cuda:0', grad_fn=<MseLossBackward>),\n",
       "  tensor(0.3748, device='cuda:0', grad_fn=<MseLossBackward>),\n",
       "  tensor(0.1969, device='cuda:0', grad_fn=<MseLossBackward>),\n",
       "  tensor(0.1951, device='cuda:0', grad_fn=<MseLossBackward>),\n",
       "  tensor(0.3550, device='cuda:0', grad_fn=<MseLossBackward>),\n",
       "  tensor(0.2108, device='cuda:0', grad_fn=<MseLossBackward>),\n",
       "  tensor(0.3006, device='cuda:0', grad_fn=<MseLossBackward>),\n",
       "  tensor(0.2845, device='cuda:0', grad_fn=<MseLossBackward>),\n",
       "  tensor(0.3861, device='cuda:0', grad_fn=<MseLossBackward>),\n",
       "  tensor(0.3684, device='cuda:0', grad_fn=<MseLossBackward>),\n",
       "  tensor(0.1606, device='cuda:0', grad_fn=<MseLossBackward>),\n",
       "  tensor(0.3839, device='cuda:0', grad_fn=<MseLossBackward>),\n",
       "  tensor(0.2355, device='cuda:0', grad_fn=<MseLossBackward>),\n",
       "  tensor(0.4261, device='cuda:0', grad_fn=<MseLossBackward>),\n",
       "  tensor(0.2911, device='cuda:0', grad_fn=<MseLossBackward>),\n",
       "  tensor(0.3309, device='cuda:0', grad_fn=<MseLossBackward>),\n",
       "  tensor(0.4149, device='cuda:0', grad_fn=<MseLossBackward>),\n",
       "  tensor(0.2853, device='cuda:0', grad_fn=<MseLossBackward>),\n",
       "  tensor(0.3215, device='cuda:0', grad_fn=<MseLossBackward>),\n",
       "  tensor(0.3885, device='cuda:0', grad_fn=<MseLossBackward>),\n",
       "  tensor(0.4405, device='cuda:0', grad_fn=<MseLossBackward>),\n",
       "  tensor(0.2206, device='cuda:0', grad_fn=<MseLossBackward>),\n",
       "  tensor(0.3192, device='cuda:0', grad_fn=<MseLossBackward>),\n",
       "  tensor(0.2625, device='cuda:0', grad_fn=<MseLossBackward>),\n",
       "  tensor(0.2099, device='cuda:0', grad_fn=<MseLossBackward>),\n",
       "  tensor(0.2676, device='cuda:0', grad_fn=<MseLossBackward>),\n",
       "  tensor(0.3018, device='cuda:0', grad_fn=<MseLossBackward>),\n",
       "  tensor(0.3630, device='cuda:0', grad_fn=<MseLossBackward>),\n",
       "  tensor(0.2186, device='cuda:0', grad_fn=<MseLossBackward>),\n",
       "  tensor(0.4459, device='cuda:0', grad_fn=<MseLossBackward>),\n",
       "  tensor(0.2196, device='cuda:0', grad_fn=<MseLossBackward>),\n",
       "  tensor(0.3754, device='cuda:0', grad_fn=<MseLossBackward>),\n",
       "  tensor(0.3112, device='cuda:0', grad_fn=<MseLossBackward>),\n",
       "  tensor(0.2775, device='cuda:0', grad_fn=<MseLossBackward>),\n",
       "  tensor(0.4219, device='cuda:0', grad_fn=<MseLossBackward>),\n",
       "  tensor(0.3242, device='cuda:0', grad_fn=<MseLossBackward>),\n",
       "  tensor(0.3344, device='cuda:0', grad_fn=<MseLossBackward>),\n",
       "  tensor(0.3524, device='cuda:0', grad_fn=<MseLossBackward>),\n",
       "  tensor(0.2933, device='cuda:0', grad_fn=<MseLossBackward>),\n",
       "  tensor(0.3107, device='cuda:0', grad_fn=<MseLossBackward>),\n",
       "  tensor(0.3483, device='cuda:0', grad_fn=<MseLossBackward>),\n",
       "  tensor(0.1969, device='cuda:0', grad_fn=<MseLossBackward>),\n",
       "  tensor(0.2551, device='cuda:0', grad_fn=<MseLossBackward>),\n",
       "  tensor(0.2591, device='cuda:0', grad_fn=<MseLossBackward>),\n",
       "  tensor(0.3121, device='cuda:0', grad_fn=<MseLossBackward>),\n",
       "  tensor(0.3809, device='cuda:0', grad_fn=<MseLossBackward>),\n",
       "  tensor(0.3569, device='cuda:0', grad_fn=<MseLossBackward>),\n",
       "  tensor(0.1917, device='cuda:0', grad_fn=<MseLossBackward>),\n",
       "  tensor(0.2572, device='cuda:0', grad_fn=<MseLossBackward>),\n",
       "  tensor(0.2487, device='cuda:0', grad_fn=<MseLossBackward>),\n",
       "  tensor(0.2477, device='cuda:0', grad_fn=<MseLossBackward>),\n",
       "  tensor(0.2399, device='cuda:0', grad_fn=<MseLossBackward>),\n",
       "  tensor(0.3560, device='cuda:0', grad_fn=<MseLossBackward>),\n",
       "  tensor(0.2019, device='cuda:0', grad_fn=<MseLossBackward>),\n",
       "  tensor(0.2635, device='cuda:0', grad_fn=<MseLossBackward>),\n",
       "  tensor(0.2318, device='cuda:0', grad_fn=<MseLossBackward>),\n",
       "  tensor(0.2856, device='cuda:0', grad_fn=<MseLossBackward>),\n",
       "  tensor(0.1371, device='cuda:0', grad_fn=<MseLossBackward>),\n",
       "  tensor(0.3036, device='cuda:0', grad_fn=<MseLossBackward>),\n",
       "  tensor(0.3278, device='cuda:0', grad_fn=<MseLossBackward>),\n",
       "  tensor(0.3458, device='cuda:0', grad_fn=<MseLossBackward>),\n",
       "  tensor(0.2402, device='cuda:0', grad_fn=<MseLossBackward>),\n",
       "  tensor(0.1621, device='cuda:0', grad_fn=<MseLossBackward>),\n",
       "  tensor(0.2304, device='cuda:0', grad_fn=<MseLossBackward>),\n",
       "  tensor(0.2975, device='cuda:0', grad_fn=<MseLossBackward>),\n",
       "  tensor(0.2967, device='cuda:0', grad_fn=<MseLossBackward>),\n",
       "  tensor(0.2360, device='cuda:0', grad_fn=<MseLossBackward>),\n",
       "  tensor(0.1747, device='cuda:0', grad_fn=<MseLossBackward>),\n",
       "  tensor(0.4213, device='cuda:0', grad_fn=<MseLossBackward>),\n",
       "  tensor(0.2490, device='cuda:0', grad_fn=<MseLossBackward>),\n",
       "  tensor(0.3707, device='cuda:0', grad_fn=<MseLossBackward>),\n",
       "  tensor(0.2917, device='cuda:0', grad_fn=<MseLossBackward>),\n",
       "  tensor(0.3143, device='cuda:0', grad_fn=<MseLossBackward>),\n",
       "  tensor(0.2834, device='cuda:0', grad_fn=<MseLossBackward>),\n",
       "  tensor(0.3015, device='cuda:0', grad_fn=<MseLossBackward>),\n",
       "  tensor(0.2074, device='cuda:0', grad_fn=<MseLossBackward>),\n",
       "  tensor(0.3201, device='cuda:0', grad_fn=<MseLossBackward>),\n",
       "  tensor(0.2528, device='cuda:0', grad_fn=<MseLossBackward>),\n",
       "  tensor(0.2398, device='cuda:0', grad_fn=<MseLossBackward>),\n",
       "  tensor(0.2085, device='cuda:0', grad_fn=<MseLossBackward>),\n",
       "  tensor(0.2477, device='cuda:0', grad_fn=<MseLossBackward>),\n",
       "  tensor(0.3101, device='cuda:0', grad_fn=<MseLossBackward>),\n",
       "  tensor(0.2464, device='cuda:0', grad_fn=<MseLossBackward>),\n",
       "  tensor(0.3237, device='cuda:0', grad_fn=<MseLossBackward>),\n",
       "  tensor(0.3700, device='cuda:0', grad_fn=<MseLossBackward>),\n",
       "  tensor(0.2300, device='cuda:0', grad_fn=<MseLossBackward>),\n",
       "  tensor(0.3307, device='cuda:0', grad_fn=<MseLossBackward>),\n",
       "  tensor(0.3241, device='cuda:0', grad_fn=<MseLossBackward>),\n",
       "  tensor(0.2660, device='cuda:0', grad_fn=<MseLossBackward>),\n",
       "  tensor(0.2074, device='cuda:0', grad_fn=<MseLossBackward>),\n",
       "  tensor(0.2789, device='cuda:0', grad_fn=<MseLossBackward>),\n",
       "  tensor(0.2245, device='cuda:0', grad_fn=<MseLossBackward>),\n",
       "  tensor(0.2423, device='cuda:0', grad_fn=<MseLossBackward>),\n",
       "  tensor(0.1819, device='cuda:0', grad_fn=<MseLossBackward>),\n",
       "  tensor(0.2291, device='cuda:0', grad_fn=<MseLossBackward>),\n",
       "  tensor(0.3347, device='cuda:0', grad_fn=<MseLossBackward>),\n",
       "  tensor(0.2903, device='cuda:0', grad_fn=<MseLossBackward>),\n",
       "  tensor(0.3216, device='cuda:0', grad_fn=<MseLossBackward>),\n",
       "  tensor(0.2212, device='cuda:0', grad_fn=<MseLossBackward>),\n",
       "  tensor(0.1940, device='cuda:0', grad_fn=<MseLossBackward>),\n",
       "  tensor(0.2545, device='cuda:0', grad_fn=<MseLossBackward>),\n",
       "  tensor(0.1857, device='cuda:0', grad_fn=<MseLossBackward>),\n",
       "  tensor(0.2261, device='cuda:0', grad_fn=<MseLossBackward>),\n",
       "  tensor(0.2389, device='cuda:0', grad_fn=<MseLossBackward>),\n",
       "  tensor(0.2307, device='cuda:0', grad_fn=<MseLossBackward>),\n",
       "  tensor(0.1908, device='cuda:0', grad_fn=<MseLossBackward>),\n",
       "  tensor(0.2320, device='cuda:0', grad_fn=<MseLossBackward>),\n",
       "  tensor(0.2609, device='cuda:0', grad_fn=<MseLossBackward>),\n",
       "  tensor(0.1990, device='cuda:0', grad_fn=<MseLossBackward>),\n",
       "  tensor(0.2497, device='cuda:0', grad_fn=<MseLossBackward>),\n",
       "  tensor(0.2277, device='cuda:0', grad_fn=<MseLossBackward>),\n",
       "  tensor(0.2110, device='cuda:0', grad_fn=<MseLossBackward>),\n",
       "  tensor(0.2598, device='cuda:0', grad_fn=<MseLossBackward>),\n",
       "  tensor(0.2699, device='cuda:0', grad_fn=<MseLossBackward>),\n",
       "  tensor(0.1746, device='cuda:0', grad_fn=<MseLossBackward>),\n",
       "  tensor(0.3150, device='cuda:0', grad_fn=<MseLossBackward>),\n",
       "  tensor(0.3433, device='cuda:0', grad_fn=<MseLossBackward>),\n",
       "  tensor(0.3400, device='cuda:0', grad_fn=<MseLossBackward>),\n",
       "  tensor(0.2153, device='cuda:0', grad_fn=<MseLossBackward>),\n",
       "  tensor(0.3354, device='cuda:0', grad_fn=<MseLossBackward>),\n",
       "  tensor(0.2770, device='cuda:0', grad_fn=<MseLossBackward>),\n",
       "  tensor(0.3343, device='cuda:0', grad_fn=<MseLossBackward>),\n",
       "  tensor(0.3049, device='cuda:0', grad_fn=<MseLossBackward>),\n",
       "  tensor(0.1849, device='cuda:0', grad_fn=<MseLossBackward>),\n",
       "  tensor(0.2907, device='cuda:0', grad_fn=<MseLossBackward>),\n",
       "  tensor(0.2776, device='cuda:0', grad_fn=<MseLossBackward>),\n",
       "  tensor(0.2843, device='cuda:0', grad_fn=<MseLossBackward>),\n",
       "  tensor(0.2661, device='cuda:0', grad_fn=<MseLossBackward>),\n",
       "  tensor(0.2137, device='cuda:0', grad_fn=<MseLossBackward>),\n",
       "  tensor(0.2825, device='cuda:0', grad_fn=<MseLossBackward>),\n",
       "  tensor(0.2899, device='cuda:0', grad_fn=<MseLossBackward>),\n",
       "  tensor(0.2132, device='cuda:0', grad_fn=<MseLossBackward>),\n",
       "  tensor(0.2307, device='cuda:0', grad_fn=<MseLossBackward>),\n",
       "  tensor(0.2622, device='cuda:0', grad_fn=<MseLossBackward>),\n",
       "  tensor(0.1932, device='cuda:0', grad_fn=<MseLossBackward>),\n",
       "  tensor(0.2090, device='cuda:0', grad_fn=<MseLossBackward>),\n",
       "  tensor(0.2497, device='cuda:0', grad_fn=<MseLossBackward>),\n",
       "  tensor(0.3014, device='cuda:0', grad_fn=<MseLossBackward>),\n",
       "  tensor(0.2447, device='cuda:0', grad_fn=<MseLossBackward>),\n",
       "  tensor(0.2782, device='cuda:0', grad_fn=<MseLossBackward>),\n",
       "  tensor(0.2562, device='cuda:0', grad_fn=<MseLossBackward>),\n",
       "  tensor(0.2142, device='cuda:0', grad_fn=<MseLossBackward>),\n",
       "  tensor(0.2617, device='cuda:0', grad_fn=<MseLossBackward>),\n",
       "  tensor(0.2043, device='cuda:0', grad_fn=<MseLossBackward>),\n",
       "  tensor(0.2425, device='cuda:0', grad_fn=<MseLossBackward>),\n",
       "  tensor(0.2287, device='cuda:0', grad_fn=<MseLossBackward>),\n",
       "  tensor(0.2669, device='cuda:0', grad_fn=<MseLossBackward>),\n",
       "  tensor(0.2275, device='cuda:0', grad_fn=<MseLossBackward>),\n",
       "  tensor(0.2598, device='cuda:0', grad_fn=<MseLossBackward>),\n",
       "  tensor(0.2844, device='cuda:0', grad_fn=<MseLossBackward>),\n",
       "  tensor(0.1747, device='cuda:0', grad_fn=<MseLossBackward>),\n",
       "  tensor(0.1906, device='cuda:0', grad_fn=<MseLossBackward>),\n",
       "  tensor(0.2025, device='cuda:0', grad_fn=<MseLossBackward>),\n",
       "  tensor(0.3412, device='cuda:0', grad_fn=<MseLossBackward>),\n",
       "  tensor(0.2961, device='cuda:0', grad_fn=<MseLossBackward>),\n",
       "  tensor(0.1897, device='cuda:0', grad_fn=<MseLossBackward>),\n",
       "  tensor(0.3337, device='cuda:0', grad_fn=<MseLossBackward>),\n",
       "  tensor(0.1770, device='cuda:0', grad_fn=<MseLossBackward>),\n",
       "  tensor(0.2511, device='cuda:0', grad_fn=<MseLossBackward>),\n",
       "  tensor(0.2750, device='cuda:0', grad_fn=<MseLossBackward>),\n",
       "  tensor(0.2164, device='cuda:0', grad_fn=<MseLossBackward>),\n",
       "  tensor(0.1743, device='cuda:0', grad_fn=<MseLossBackward>),\n",
       "  tensor(0.2569, device='cuda:0', grad_fn=<MseLossBackward>),\n",
       "  tensor(0.2790, device='cuda:0', grad_fn=<MseLossBackward>),\n",
       "  tensor(0.2076, device='cuda:0', grad_fn=<MseLossBackward>),\n",
       "  tensor(0.2581, device='cuda:0', grad_fn=<MseLossBackward>),\n",
       "  tensor(0.1903, device='cuda:0', grad_fn=<MseLossBackward>),\n",
       "  tensor(0.3397, device='cuda:0', grad_fn=<MseLossBackward>),\n",
       "  tensor(0.2338, device='cuda:0', grad_fn=<MseLossBackward>),\n",
       "  tensor(0.2793, device='cuda:0', grad_fn=<MseLossBackward>),\n",
       "  tensor(0.3206, device='cuda:0', grad_fn=<MseLossBackward>),\n",
       "  tensor(0.2503, device='cuda:0', grad_fn=<MseLossBackward>),\n",
       "  tensor(0.2480, device='cuda:0', grad_fn=<MseLossBackward>),\n",
       "  tensor(0.2675, device='cuda:0', grad_fn=<MseLossBackward>),\n",
       "  tensor(0.1852, device='cuda:0', grad_fn=<MseLossBackward>),\n",
       "  tensor(0.2331, device='cuda:0', grad_fn=<MseLossBackward>),\n",
       "  tensor(0.2439, device='cuda:0', grad_fn=<MseLossBackward>),\n",
       "  tensor(0.2920, device='cuda:0', grad_fn=<MseLossBackward>),\n",
       "  tensor(0.2414, device='cuda:0', grad_fn=<MseLossBackward>),\n",
       "  tensor(0.2458, device='cuda:0', grad_fn=<MseLossBackward>),\n",
       "  tensor(0.2248, device='cuda:0', grad_fn=<MseLossBackward>),\n",
       "  tensor(0.2586, device='cuda:0', grad_fn=<MseLossBackward>),\n",
       "  tensor(0.2069, device='cuda:0', grad_fn=<MseLossBackward>),\n",
       "  tensor(0.1754, device='cuda:0', grad_fn=<MseLossBackward>),\n",
       "  tensor(0.2344, device='cuda:0', grad_fn=<MseLossBackward>),\n",
       "  tensor(0.2659, device='cuda:0', grad_fn=<MseLossBackward>),\n",
       "  tensor(0.3284, device='cuda:0', grad_fn=<MseLossBackward>),\n",
       "  tensor(0.2553, device='cuda:0', grad_fn=<MseLossBackward>),\n",
       "  tensor(0.2406, device='cuda:0', grad_fn=<MseLossBackward>),\n",
       "  tensor(0.2286, device='cuda:0', grad_fn=<MseLossBackward>),\n",
       "  tensor(0.1939, device='cuda:0', grad_fn=<MseLossBackward>),\n",
       "  tensor(0.2973, device='cuda:0', grad_fn=<MseLossBackward>),\n",
       "  tensor(0.2192, device='cuda:0', grad_fn=<MseLossBackward>),\n",
       "  tensor(0.2255, device='cuda:0', grad_fn=<MseLossBackward>),\n",
       "  tensor(0.2538, device='cuda:0', grad_fn=<MseLossBackward>),\n",
       "  tensor(0.2935, device='cuda:0', grad_fn=<MseLossBackward>),\n",
       "  tensor(0.2211, device='cuda:0', grad_fn=<MseLossBackward>),\n",
       "  tensor(0.2206, device='cuda:0', grad_fn=<MseLossBackward>),\n",
       "  tensor(0.2333, device='cuda:0', grad_fn=<MseLossBackward>),\n",
       "  tensor(0.2870, device='cuda:0', grad_fn=<MseLossBackward>),\n",
       "  tensor(0.2896, device='cuda:0', grad_fn=<MseLossBackward>),\n",
       "  tensor(0.2491, device='cuda:0', grad_fn=<MseLossBackward>),\n",
       "  tensor(0.1542, device='cuda:0', grad_fn=<MseLossBackward>),\n",
       "  tensor(0.2278, device='cuda:0', grad_fn=<MseLossBackward>),\n",
       "  tensor(0.1857, device='cuda:0', grad_fn=<MseLossBackward>),\n",
       "  tensor(0.1498, device='cuda:0', grad_fn=<MseLossBackward>),\n",
       "  tensor(0.2334, device='cuda:0', grad_fn=<MseLossBackward>),\n",
       "  tensor(0.2265, device='cuda:0', grad_fn=<MseLossBackward>),\n",
       "  tensor(0.3198, device='cuda:0', grad_fn=<MseLossBackward>),\n",
       "  tensor(0.2450, device='cuda:0', grad_fn=<MseLossBackward>),\n",
       "  tensor(0.2879, device='cuda:0', grad_fn=<MseLossBackward>),\n",
       "  tensor(0.2509, device='cuda:0', grad_fn=<MseLossBackward>),\n",
       "  tensor(0.3891, device='cuda:0', grad_fn=<MseLossBackward>),\n",
       "  tensor(0.2817, device='cuda:0', grad_fn=<MseLossBackward>),\n",
       "  tensor(0.2401, device='cuda:0', grad_fn=<MseLossBackward>),\n",
       "  tensor(0.2292, device='cuda:0', grad_fn=<MseLossBackward>),\n",
       "  tensor(0.2825, device='cuda:0', grad_fn=<MseLossBackward>),\n",
       "  tensor(0.2476, device='cuda:0', grad_fn=<MseLossBackward>),\n",
       "  tensor(0.2683, device='cuda:0', grad_fn=<MseLossBackward>),\n",
       "  tensor(0.2577, device='cuda:0', grad_fn=<MseLossBackward>),\n",
       "  tensor(0.1895, device='cuda:0', grad_fn=<MseLossBackward>),\n",
       "  tensor(0.1941, device='cuda:0', grad_fn=<MseLossBackward>),\n",
       "  tensor(0.2838, device='cuda:0', grad_fn=<MseLossBackward>),\n",
       "  tensor(0.2144, device='cuda:0', grad_fn=<MseLossBackward>),\n",
       "  tensor(0.2201, device='cuda:0', grad_fn=<MseLossBackward>),\n",
       "  tensor(0.2784, device='cuda:0', grad_fn=<MseLossBackward>),\n",
       "  tensor(0.2114, device='cuda:0', grad_fn=<MseLossBackward>),\n",
       "  tensor(0.2500, device='cuda:0', grad_fn=<MseLossBackward>),\n",
       "  tensor(0.2621, device='cuda:0', grad_fn=<MseLossBackward>),\n",
       "  tensor(0.2225, device='cuda:0', grad_fn=<MseLossBackward>),\n",
       "  tensor(0.2186, device='cuda:0', grad_fn=<MseLossBackward>),\n",
       "  tensor(0.1762, device='cuda:0', grad_fn=<MseLossBackward>),\n",
       "  tensor(0.2379, device='cuda:0', grad_fn=<MseLossBackward>),\n",
       "  tensor(0.2237, device='cuda:0', grad_fn=<MseLossBackward>),\n",
       "  tensor(0.2354, device='cuda:0', grad_fn=<MseLossBackward>),\n",
       "  tensor(0.3270, device='cuda:0', grad_fn=<MseLossBackward>),\n",
       "  tensor(0.2581, device='cuda:0', grad_fn=<MseLossBackward>),\n",
       "  tensor(0.2846, device='cuda:0', grad_fn=<MseLossBackward>),\n",
       "  tensor(0.1493, device='cuda:0', grad_fn=<MseLossBackward>),\n",
       "  tensor(0.2548, device='cuda:0', grad_fn=<MseLossBackward>),\n",
       "  tensor(0.2512, device='cuda:0', grad_fn=<MseLossBackward>),\n",
       "  tensor(0.2283, device='cuda:0', grad_fn=<MseLossBackward>),\n",
       "  tensor(0.2746, device='cuda:0', grad_fn=<MseLossBackward>),\n",
       "  tensor(0.2629, device='cuda:0', grad_fn=<MseLossBackward>),\n",
       "  tensor(0.1782, device='cuda:0', grad_fn=<MseLossBackward>),\n",
       "  tensor(0.2386, device='cuda:0', grad_fn=<MseLossBackward>),\n",
       "  tensor(0.2875, device='cuda:0', grad_fn=<MseLossBackward>),\n",
       "  tensor(0.3035, device='cuda:0', grad_fn=<MseLossBackward>),\n",
       "  tensor(0.2125, device='cuda:0', grad_fn=<MseLossBackward>),\n",
       "  tensor(0.2544, device='cuda:0', grad_fn=<MseLossBackward>),\n",
       "  tensor(0.1850, device='cuda:0', grad_fn=<MseLossBackward>),\n",
       "  tensor(0.2626, device='cuda:0', grad_fn=<MseLossBackward>),\n",
       "  tensor(0.2300, device='cuda:0', grad_fn=<MseLossBackward>),\n",
       "  tensor(0.2118, device='cuda:0', grad_fn=<MseLossBackward>),\n",
       "  tensor(0.2264, device='cuda:0', grad_fn=<MseLossBackward>),\n",
       "  tensor(0.2653, device='cuda:0', grad_fn=<MseLossBackward>),\n",
       "  tensor(0.1940, device='cuda:0', grad_fn=<MseLossBackward>),\n",
       "  tensor(0.1648, device='cuda:0', grad_fn=<MseLossBackward>),\n",
       "  tensor(0.2454, device='cuda:0', grad_fn=<MseLossBackward>),\n",
       "  tensor(0.2592, device='cuda:0', grad_fn=<MseLossBackward>),\n",
       "  tensor(0.1829, device='cuda:0', grad_fn=<MseLossBackward>),\n",
       "  tensor(0.2228, device='cuda:0', grad_fn=<MseLossBackward>),\n",
       "  tensor(0.2614, device='cuda:0', grad_fn=<MseLossBackward>),\n",
       "  tensor(0.2919, device='cuda:0', grad_fn=<MseLossBackward>),\n",
       "  tensor(0.3308, device='cuda:0', grad_fn=<MseLossBackward>),\n",
       "  tensor(0.2507, device='cuda:0', grad_fn=<MseLossBackward>),\n",
       "  tensor(0.2473, device='cuda:0', grad_fn=<MseLossBackward>),\n",
       "  tensor(0.2566, device='cuda:0', grad_fn=<MseLossBackward>),\n",
       "  tensor(0.2494, device='cuda:0', grad_fn=<MseLossBackward>),\n",
       "  tensor(0.2781, device='cuda:0', grad_fn=<MseLossBackward>),\n",
       "  tensor(0.2090, device='cuda:0', grad_fn=<MseLossBackward>),\n",
       "  tensor(0.2207, device='cuda:0', grad_fn=<MseLossBackward>),\n",
       "  tensor(0.1794, device='cuda:0', grad_fn=<MseLossBackward>),\n",
       "  tensor(0.1637, device='cuda:0', grad_fn=<MseLossBackward>),\n",
       "  tensor(0.1325, device='cuda:0', grad_fn=<MseLossBackward>),\n",
       "  tensor(0.2313, device='cuda:0', grad_fn=<MseLossBackward>),\n",
       "  tensor(0.2862, device='cuda:0', grad_fn=<MseLossBackward>),\n",
       "  tensor(0.2870, device='cuda:0', grad_fn=<MseLossBackward>),\n",
       "  tensor(0.3158, device='cuda:0', grad_fn=<MseLossBackward>),\n",
       "  tensor(0.1858, device='cuda:0', grad_fn=<MseLossBackward>),\n",
       "  tensor(0.1797, device='cuda:0', grad_fn=<MseLossBackward>),\n",
       "  tensor(0.2089, device='cuda:0', grad_fn=<MseLossBackward>),\n",
       "  tensor(0.2773, device='cuda:0', grad_fn=<MseLossBackward>),\n",
       "  tensor(0.2787, device='cuda:0', grad_fn=<MseLossBackward>),\n",
       "  tensor(0.1963, device='cuda:0', grad_fn=<MseLossBackward>),\n",
       "  tensor(0.2959, device='cuda:0', grad_fn=<MseLossBackward>),\n",
       "  tensor(0.3475, device='cuda:0', grad_fn=<MseLossBackward>),\n",
       "  tensor(0.2024, device='cuda:0', grad_fn=<MseLossBackward>),\n",
       "  tensor(0.2013, device='cuda:0', grad_fn=<MseLossBackward>),\n",
       "  tensor(0.3267, device='cuda:0', grad_fn=<MseLossBackward>),\n",
       "  tensor(0.2581, device='cuda:0', grad_fn=<MseLossBackward>),\n",
       "  tensor(0.1666, device='cuda:0', grad_fn=<MseLossBackward>),\n",
       "  tensor(0.2154, device='cuda:0', grad_fn=<MseLossBackward>),\n",
       "  tensor(0.2673, device='cuda:0', grad_fn=<MseLossBackward>),\n",
       "  tensor(0.2438, device='cuda:0', grad_fn=<MseLossBackward>),\n",
       "  tensor(0.2153, device='cuda:0', grad_fn=<MseLossBackward>),\n",
       "  tensor(0.3099, device='cuda:0', grad_fn=<MseLossBackward>),\n",
       "  tensor(0.2096, device='cuda:0', grad_fn=<MseLossBackward>),\n",
       "  tensor(0.2581, device='cuda:0', grad_fn=<MseLossBackward>),\n",
       "  tensor(0.2051, device='cuda:0', grad_fn=<MseLossBackward>),\n",
       "  tensor(0.1945, device='cuda:0', grad_fn=<MseLossBackward>),\n",
       "  tensor(0.2573, device='cuda:0', grad_fn=<MseLossBackward>),\n",
       "  tensor(0.3036, device='cuda:0', grad_fn=<MseLossBackward>),\n",
       "  tensor(0.2316, device='cuda:0', grad_fn=<MseLossBackward>),\n",
       "  tensor(0.1863, device='cuda:0', grad_fn=<MseLossBackward>),\n",
       "  tensor(0.1812, device='cuda:0', grad_fn=<MseLossBackward>),\n",
       "  tensor(0.1815, device='cuda:0', grad_fn=<MseLossBackward>),\n",
       "  tensor(0.2375, device='cuda:0', grad_fn=<MseLossBackward>),\n",
       "  tensor(0.2573, device='cuda:0', grad_fn=<MseLossBackward>),\n",
       "  tensor(0.2741, device='cuda:0', grad_fn=<MseLossBackward>),\n",
       "  tensor(0.1824, device='cuda:0', grad_fn=<MseLossBackward>),\n",
       "  tensor(0.2013, device='cuda:0', grad_fn=<MseLossBackward>),\n",
       "  tensor(0.2100, device='cuda:0', grad_fn=<MseLossBackward>),\n",
       "  tensor(0.2200, device='cuda:0', grad_fn=<MseLossBackward>),\n",
       "  tensor(0.2103, device='cuda:0', grad_fn=<MseLossBackward>),\n",
       "  tensor(0.2340, device='cuda:0', grad_fn=<MseLossBackward>),\n",
       "  tensor(0.1888, device='cuda:0', grad_fn=<MseLossBackward>),\n",
       "  tensor(0.2248, device='cuda:0', grad_fn=<MseLossBackward>),\n",
       "  tensor(0.1979, device='cuda:0', grad_fn=<MseLossBackward>),\n",
       "  tensor(0.3150, device='cuda:0', grad_fn=<MseLossBackward>),\n",
       "  tensor(0.1951, device='cuda:0', grad_fn=<MseLossBackward>),\n",
       "  tensor(0.2137, device='cuda:0', grad_fn=<MseLossBackward>),\n",
       "  tensor(0.2077, device='cuda:0', grad_fn=<MseLossBackward>),\n",
       "  tensor(0.2120, device='cuda:0', grad_fn=<MseLossBackward>),\n",
       "  tensor(0.2192, device='cuda:0', grad_fn=<MseLossBackward>),\n",
       "  tensor(0.2425, device='cuda:0', grad_fn=<MseLossBackward>),\n",
       "  tensor(0.2868, device='cuda:0', grad_fn=<MseLossBackward>),\n",
       "  tensor(0.3029, device='cuda:0', grad_fn=<MseLossBackward>),\n",
       "  tensor(0.1715, device='cuda:0', grad_fn=<MseLossBackward>),\n",
       "  tensor(0.2623, device='cuda:0', grad_fn=<MseLossBackward>),\n",
       "  tensor(0.4150, device='cuda:0', grad_fn=<MseLossBackward>),\n",
       "  tensor(0.2366, device='cuda:0', grad_fn=<MseLossBackward>),\n",
       "  tensor(0.1891, device='cuda:0', grad_fn=<MseLossBackward>),\n",
       "  tensor(0.1570, device='cuda:0', grad_fn=<MseLossBackward>),\n",
       "  tensor(0.2283, device='cuda:0', grad_fn=<MseLossBackward>),\n",
       "  tensor(0.1581, device='cuda:0', grad_fn=<MseLossBackward>),\n",
       "  tensor(0.1955, device='cuda:0', grad_fn=<MseLossBackward>),\n",
       "  tensor(0.1690, device='cuda:0', grad_fn=<MseLossBackward>),\n",
       "  tensor(0.2573, device='cuda:0', grad_fn=<MseLossBackward>),\n",
       "  tensor(0.2031, device='cuda:0', grad_fn=<MseLossBackward>),\n",
       "  tensor(0.2536, device='cuda:0', grad_fn=<MseLossBackward>),\n",
       "  tensor(0.2044, device='cuda:0', grad_fn=<MseLossBackward>),\n",
       "  tensor(0.2406, device='cuda:0', grad_fn=<MseLossBackward>),\n",
       "  tensor(0.2360, device='cuda:0', grad_fn=<MseLossBackward>),\n",
       "  tensor(0.2329, device='cuda:0', grad_fn=<MseLossBackward>),\n",
       "  tensor(0.3333, device='cuda:0', grad_fn=<MseLossBackward>),\n",
       "  tensor(0.2062, device='cuda:0', grad_fn=<MseLossBackward>),\n",
       "  tensor(0.2419, device='cuda:0', grad_fn=<MseLossBackward>),\n",
       "  tensor(0.1925, device='cuda:0', grad_fn=<MseLossBackward>),\n",
       "  tensor(0.1949, device='cuda:0', grad_fn=<MseLossBackward>),\n",
       "  tensor(0.1600, device='cuda:0', grad_fn=<MseLossBackward>),\n",
       "  tensor(0.2018, device='cuda:0', grad_fn=<MseLossBackward>),\n",
       "  tensor(0.1598, device='cuda:0', grad_fn=<MseLossBackward>),\n",
       "  tensor(0.1576, device='cuda:0', grad_fn=<MseLossBackward>),\n",
       "  tensor(0.2159, device='cuda:0', grad_fn=<MseLossBackward>),\n",
       "  tensor(0.1622, device='cuda:0', grad_fn=<MseLossBackward>),\n",
       "  tensor(0.1813, device='cuda:0', grad_fn=<MseLossBackward>),\n",
       "  tensor(0.2292, device='cuda:0', grad_fn=<MseLossBackward>),\n",
       "  tensor(0.2226, device='cuda:0', grad_fn=<MseLossBackward>),\n",
       "  tensor(0.2131, device='cuda:0', grad_fn=<MseLossBackward>),\n",
       "  tensor(0.1653, device='cuda:0', grad_fn=<MseLossBackward>),\n",
       "  tensor(0.2418, device='cuda:0', grad_fn=<MseLossBackward>),\n",
       "  tensor(0.1559, device='cuda:0', grad_fn=<MseLossBackward>),\n",
       "  tensor(0.1845, device='cuda:0', grad_fn=<MseLossBackward>),\n",
       "  tensor(0.1803, device='cuda:0', grad_fn=<MseLossBackward>),\n",
       "  tensor(0.2618, device='cuda:0', grad_fn=<MseLossBackward>),\n",
       "  tensor(0.2214, device='cuda:0', grad_fn=<MseLossBackward>),\n",
       "  tensor(0.2138, device='cuda:0', grad_fn=<MseLossBackward>),\n",
       "  tensor(0.1845, device='cuda:0', grad_fn=<MseLossBackward>),\n",
       "  tensor(0.1486, device='cuda:0', grad_fn=<MseLossBackward>),\n",
       "  tensor(0.3314, device='cuda:0', grad_fn=<MseLossBackward>),\n",
       "  tensor(0.3128, device='cuda:0', grad_fn=<MseLossBackward>),\n",
       "  tensor(0.1814, device='cuda:0', grad_fn=<MseLossBackward>),\n",
       "  tensor(0.3398, device='cuda:0', grad_fn=<MseLossBackward>),\n",
       "  tensor(0.2256, device='cuda:0', grad_fn=<MseLossBackward>),\n",
       "  tensor(0.4012, device='cuda:0', grad_fn=<MseLossBackward>),\n",
       "  tensor(0.2748, device='cuda:0', grad_fn=<MseLossBackward>),\n",
       "  tensor(0.2758, device='cuda:0', grad_fn=<MseLossBackward>),\n",
       "  tensor(0.1697, device='cuda:0', grad_fn=<MseLossBackward>),\n",
       "  tensor(0.1423, device='cuda:0', grad_fn=<MseLossBackward>),\n",
       "  tensor(0.2344, device='cuda:0', grad_fn=<MseLossBackward>),\n",
       "  tensor(0.2485, device='cuda:0', grad_fn=<MseLossBackward>),\n",
       "  tensor(0.1530, device='cuda:0', grad_fn=<MseLossBackward>),\n",
       "  tensor(0.2448, device='cuda:0', grad_fn=<MseLossBackward>),\n",
       "  tensor(0.1414, device='cuda:0', grad_fn=<MseLossBackward>),\n",
       "  tensor(0.2418, device='cuda:0', grad_fn=<MseLossBackward>),\n",
       "  tensor(0.1877, device='cuda:0', grad_fn=<MseLossBackward>),\n",
       "  tensor(0.2190, device='cuda:0', grad_fn=<MseLossBackward>),\n",
       "  tensor(0.2287, device='cuda:0', grad_fn=<MseLossBackward>),\n",
       "  tensor(0.2034, device='cuda:0', grad_fn=<MseLossBackward>),\n",
       "  tensor(0.1103, device='cuda:0', grad_fn=<MseLossBackward>),\n",
       "  tensor(0.2315, device='cuda:0', grad_fn=<MseLossBackward>),\n",
       "  tensor(0.2655, device='cuda:0', grad_fn=<MseLossBackward>),\n",
       "  tensor(0.2384, device='cuda:0', grad_fn=<MseLossBackward>),\n",
       "  tensor(0.1806, device='cuda:0', grad_fn=<MseLossBackward>),\n",
       "  tensor(0.1624, device='cuda:0', grad_fn=<MseLossBackward>),\n",
       "  tensor(0.2284, device='cuda:0', grad_fn=<MseLossBackward>),\n",
       "  tensor(0.1947, device='cuda:0', grad_fn=<MseLossBackward>),\n",
       "  tensor(0.1981, device='cuda:0', grad_fn=<MseLossBackward>),\n",
       "  tensor(0.1671, device='cuda:0', grad_fn=<MseLossBackward>),\n",
       "  tensor(0.1845, device='cuda:0', grad_fn=<MseLossBackward>),\n",
       "  tensor(0.2860, device='cuda:0', grad_fn=<MseLossBackward>),\n",
       "  tensor(0.2227, device='cuda:0', grad_fn=<MseLossBackward>),\n",
       "  tensor(0.2546, device='cuda:0', grad_fn=<MseLossBackward>),\n",
       "  tensor(0.3444, device='cuda:0', grad_fn=<MseLossBackward>),\n",
       "  tensor(0.4282, device='cuda:0', grad_fn=<MseLossBackward>),\n",
       "  tensor(0.2004, device='cuda:0', grad_fn=<MseLossBackward>),\n",
       "  tensor(0.1874, device='cuda:0', grad_fn=<MseLossBackward>),\n",
       "  tensor(0.1980, device='cuda:0', grad_fn=<MseLossBackward>),\n",
       "  tensor(0.1597, device='cuda:0', grad_fn=<MseLossBackward>),\n",
       "  tensor(0.2001, device='cuda:0', grad_fn=<MseLossBackward>),\n",
       "  tensor(0.1612, device='cuda:0', grad_fn=<MseLossBackward>),\n",
       "  tensor(0.2065, device='cuda:0', grad_fn=<MseLossBackward>),\n",
       "  tensor(0.2793, device='cuda:0', grad_fn=<MseLossBackward>),\n",
       "  tensor(0.2926, device='cuda:0', grad_fn=<MseLossBackward>),\n",
       "  tensor(0.2410, device='cuda:0', grad_fn=<MseLossBackward>),\n",
       "  tensor(0.1280, device='cuda:0', grad_fn=<MseLossBackward>),\n",
       "  tensor(0.3155, device='cuda:0', grad_fn=<MseLossBackward>),\n",
       "  tensor(0.2244, device='cuda:0', grad_fn=<MseLossBackward>),\n",
       "  tensor(0.2077, device='cuda:0', grad_fn=<MseLossBackward>),\n",
       "  tensor(0.2030, device='cuda:0', grad_fn=<MseLossBackward>),\n",
       "  tensor(0.2345, device='cuda:0', grad_fn=<MseLossBackward>),\n",
       "  tensor(0.1575, device='cuda:0', grad_fn=<MseLossBackward>),\n",
       "  tensor(0.2309, device='cuda:0', grad_fn=<MseLossBackward>),\n",
       "  tensor(0.1830, device='cuda:0', grad_fn=<MseLossBackward>),\n",
       "  tensor(0.2773, device='cuda:0', grad_fn=<MseLossBackward>),\n",
       "  tensor(0.2009, device='cuda:0', grad_fn=<MseLossBackward>),\n",
       "  tensor(0.2826, device='cuda:0', grad_fn=<MseLossBackward>),\n",
       "  tensor(0.1889, device='cuda:0', grad_fn=<MseLossBackward>),\n",
       "  tensor(0.1396, device='cuda:0', grad_fn=<MseLossBackward>),\n",
       "  tensor(0.2534, device='cuda:0', grad_fn=<MseLossBackward>),\n",
       "  tensor(0.2472, device='cuda:0', grad_fn=<MseLossBackward>),\n",
       "  tensor(0.2864, device='cuda:0', grad_fn=<MseLossBackward>),\n",
       "  tensor(0.1986, device='cuda:0', grad_fn=<MseLossBackward>),\n",
       "  tensor(0.1481, device='cuda:0', grad_fn=<MseLossBackward>),\n",
       "  tensor(0.2503, device='cuda:0', grad_fn=<MseLossBackward>),\n",
       "  tensor(0.2517, device='cuda:0', grad_fn=<MseLossBackward>),\n",
       "  tensor(0.2282, device='cuda:0', grad_fn=<MseLossBackward>),\n",
       "  tensor(0.1806, device='cuda:0', grad_fn=<MseLossBackward>),\n",
       "  tensor(0.2665, device='cuda:0', grad_fn=<MseLossBackward>),\n",
       "  tensor(0.2512, device='cuda:0', grad_fn=<MseLossBackward>),\n",
       "  tensor(0.1454, device='cuda:0', grad_fn=<MseLossBackward>),\n",
       "  tensor(0.1928, device='cuda:0', grad_fn=<MseLossBackward>),\n",
       "  tensor(0.2392, device='cuda:0', grad_fn=<MseLossBackward>),\n",
       "  tensor(0.1927, device='cuda:0', grad_fn=<MseLossBackward>),\n",
       "  tensor(0.2546, device='cuda:0', grad_fn=<MseLossBackward>),\n",
       "  tensor(0.1546, device='cuda:0', grad_fn=<MseLossBackward>),\n",
       "  tensor(0.1431, device='cuda:0', grad_fn=<MseLossBackward>),\n",
       "  tensor(0.2810, device='cuda:0', grad_fn=<MseLossBackward>),\n",
       "  tensor(0.1912, device='cuda:0', grad_fn=<MseLossBackward>),\n",
       "  tensor(0.2048, device='cuda:0', grad_fn=<MseLossBackward>),\n",
       "  tensor(0.1131, device='cuda:0', grad_fn=<MseLossBackward>),\n",
       "  tensor(0.1820, device='cuda:0', grad_fn=<MseLossBackward>),\n",
       "  tensor(0.2444, device='cuda:0', grad_fn=<MseLossBackward>),\n",
       "  tensor(0.1793, device='cuda:0', grad_fn=<MseLossBackward>),\n",
       "  tensor(0.1668, device='cuda:0', grad_fn=<MseLossBackward>),\n",
       "  tensor(0.2212, device='cuda:0', grad_fn=<MseLossBackward>),\n",
       "  tensor(0.2227, device='cuda:0', grad_fn=<MseLossBackward>),\n",
       "  tensor(0.2432, device='cuda:0', grad_fn=<MseLossBackward>),\n",
       "  tensor(0.2008, device='cuda:0', grad_fn=<MseLossBackward>),\n",
       "  tensor(0.1764, device='cuda:0', grad_fn=<MseLossBackward>),\n",
       "  tensor(0.1414, device='cuda:0', grad_fn=<MseLossBackward>),\n",
       "  tensor(0.1560, device='cuda:0', grad_fn=<MseLossBackward>),\n",
       "  tensor(0.3118, device='cuda:0', grad_fn=<MseLossBackward>),\n",
       "  tensor(0.2889, device='cuda:0', grad_fn=<MseLossBackward>),\n",
       "  tensor(0.2448, device='cuda:0', grad_fn=<MseLossBackward>),\n",
       "  tensor(0.2010, device='cuda:0', grad_fn=<MseLossBackward>),\n",
       "  tensor(0.1754, device='cuda:0', grad_fn=<MseLossBackward>),\n",
       "  tensor(0.1614, device='cuda:0', grad_fn=<MseLossBackward>),\n",
       "  tensor(0.2128, device='cuda:0', grad_fn=<MseLossBackward>),\n",
       "  tensor(0.2478, device='cuda:0', grad_fn=<MseLossBackward>),\n",
       "  tensor(0.2024, device='cuda:0', grad_fn=<MseLossBackward>),\n",
       "  tensor(0.1394, device='cuda:0', grad_fn=<MseLossBackward>),\n",
       "  tensor(0.1589, device='cuda:0', grad_fn=<MseLossBackward>),\n",
       "  tensor(0.2270, device='cuda:0', grad_fn=<MseLossBackward>),\n",
       "  tensor(0.2248, device='cuda:0', grad_fn=<MseLossBackward>),\n",
       "  tensor(0.2004, device='cuda:0', grad_fn=<MseLossBackward>),\n",
       "  tensor(0.1892, device='cuda:0', grad_fn=<MseLossBackward>),\n",
       "  tensor(0.2550, device='cuda:0', grad_fn=<MseLossBackward>),\n",
       "  tensor(0.2634, device='cuda:0', grad_fn=<MseLossBackward>),\n",
       "  tensor(0.2206, device='cuda:0', grad_fn=<MseLossBackward>),\n",
       "  tensor(0.2406, device='cuda:0', grad_fn=<MseLossBackward>),\n",
       "  tensor(0.1588, device='cuda:0', grad_fn=<MseLossBackward>),\n",
       "  tensor(0.2641, device='cuda:0', grad_fn=<MseLossBackward>),\n",
       "  tensor(0.2343, device='cuda:0', grad_fn=<MseLossBackward>),\n",
       "  tensor(0.1508, device='cuda:0', grad_fn=<MseLossBackward>),\n",
       "  tensor(0.1728, device='cuda:0', grad_fn=<MseLossBackward>),\n",
       "  tensor(0.1498, device='cuda:0', grad_fn=<MseLossBackward>),\n",
       "  tensor(0.1074, device='cuda:0', grad_fn=<MseLossBackward>),\n",
       "  tensor(0.1517, device='cuda:0', grad_fn=<MseLossBackward>),\n",
       "  tensor(0.1554, device='cuda:0', grad_fn=<MseLossBackward>),\n",
       "  tensor(0.2396, device='cuda:0', grad_fn=<MseLossBackward>),\n",
       "  tensor(0.2837, device='cuda:0', grad_fn=<MseLossBackward>),\n",
       "  tensor(0.2300, device='cuda:0', grad_fn=<MseLossBackward>),\n",
       "  tensor(0.2217, device='cuda:0', grad_fn=<MseLossBackward>),\n",
       "  tensor(0.1567, device='cuda:0', grad_fn=<MseLossBackward>),\n",
       "  tensor(0.2412, device='cuda:0', grad_fn=<MseLossBackward>),\n",
       "  tensor(0.1248, device='cuda:0', grad_fn=<MseLossBackward>),\n",
       "  tensor(0.1755, device='cuda:0', grad_fn=<MseLossBackward>),\n",
       "  tensor(0.1686, device='cuda:0', grad_fn=<MseLossBackward>),\n",
       "  tensor(0.1883, device='cuda:0', grad_fn=<MseLossBackward>),\n",
       "  tensor(0.1697, device='cuda:0', grad_fn=<MseLossBackward>),\n",
       "  tensor(0.2252, device='cuda:0', grad_fn=<MseLossBackward>),\n",
       "  tensor(0.2457, device='cuda:0', grad_fn=<MseLossBackward>),\n",
       "  tensor(0.3261, device='cuda:0', grad_fn=<MseLossBackward>),\n",
       "  tensor(0.1744, device='cuda:0', grad_fn=<MseLossBackward>),\n",
       "  tensor(0.1429, device='cuda:0', grad_fn=<MseLossBackward>),\n",
       "  tensor(0.1598, device='cuda:0', grad_fn=<MseLossBackward>),\n",
       "  tensor(0.2063, device='cuda:0', grad_fn=<MseLossBackward>),\n",
       "  tensor(0.2147, device='cuda:0', grad_fn=<MseLossBackward>),\n",
       "  tensor(0.1747, device='cuda:0', grad_fn=<MseLossBackward>),\n",
       "  tensor(0.0867, device='cuda:0', grad_fn=<MseLossBackward>),\n",
       "  tensor(0.1289, device='cuda:0', grad_fn=<MseLossBackward>),\n",
       "  tensor(0.1643, device='cuda:0', grad_fn=<MseLossBackward>),\n",
       "  tensor(0.2280, device='cuda:0', grad_fn=<MseLossBackward>),\n",
       "  tensor(0.3127, device='cuda:0', grad_fn=<MseLossBackward>),\n",
       "  tensor(0.1395, device='cuda:0', grad_fn=<MseLossBackward>),\n",
       "  tensor(0.2476, device='cuda:0', grad_fn=<MseLossBackward>),\n",
       "  tensor(0.2128, device='cuda:0', grad_fn=<MseLossBackward>),\n",
       "  tensor(0.2056, device='cuda:0', grad_fn=<MseLossBackward>),\n",
       "  tensor(0.1792, device='cuda:0', grad_fn=<MseLossBackward>),\n",
       "  tensor(0.0973, device='cuda:0', grad_fn=<MseLossBackward>),\n",
       "  tensor(0.1380, device='cuda:0', grad_fn=<MseLossBackward>),\n",
       "  tensor(0.1545, device='cuda:0', grad_fn=<MseLossBackward>),\n",
       "  tensor(0.2006, device='cuda:0', grad_fn=<MseLossBackward>),\n",
       "  tensor(0.3204, device='cuda:0', grad_fn=<MseLossBackward>),\n",
       "  tensor(0.1917, device='cuda:0', grad_fn=<MseLossBackward>),\n",
       "  tensor(0.1949, device='cuda:0', grad_fn=<MseLossBackward>),\n",
       "  tensor(0.2533, device='cuda:0', grad_fn=<MseLossBackward>),\n",
       "  tensor(0.2187, device='cuda:0', grad_fn=<MseLossBackward>),\n",
       "  tensor(0.1390, device='cuda:0', grad_fn=<MseLossBackward>),\n",
       "  tensor(0.1949, device='cuda:0', grad_fn=<MseLossBackward>),\n",
       "  tensor(0.1243, device='cuda:0', grad_fn=<MseLossBackward>),\n",
       "  tensor(0.2064, device='cuda:0', grad_fn=<MseLossBackward>),\n",
       "  tensor(0.1631, device='cuda:0', grad_fn=<MseLossBackward>),\n",
       "  tensor(0.2171, device='cuda:0', grad_fn=<MseLossBackward>),\n",
       "  tensor(0.1852, device='cuda:0', grad_fn=<MseLossBackward>),\n",
       "  tensor(0.2846, device='cuda:0', grad_fn=<MseLossBackward>),\n",
       "  tensor(0.2171, device='cuda:0', grad_fn=<MseLossBackward>),\n",
       "  tensor(0.1266, device='cuda:0', grad_fn=<MseLossBackward>),\n",
       "  tensor(0.1930, device='cuda:0', grad_fn=<MseLossBackward>),\n",
       "  tensor(0.1825, device='cuda:0', grad_fn=<MseLossBackward>),\n",
       "  tensor(0.1659, device='cuda:0', grad_fn=<MseLossBackward>),\n",
       "  tensor(0.1670, device='cuda:0', grad_fn=<MseLossBackward>),\n",
       "  tensor(0.2150, device='cuda:0', grad_fn=<MseLossBackward>),\n",
       "  tensor(0.0695, device='cuda:0', grad_fn=<MseLossBackward>),\n",
       "  tensor(0.2462, device='cuda:0', grad_fn=<MseLossBackward>),\n",
       "  tensor(0.2746, device='cuda:0', grad_fn=<MseLossBackward>),\n",
       "  tensor(0.1760, device='cuda:0', grad_fn=<MseLossBackward>),\n",
       "  tensor(0.2166, device='cuda:0', grad_fn=<MseLossBackward>),\n",
       "  tensor(0.1274, device='cuda:0', grad_fn=<MseLossBackward>),\n",
       "  tensor(0.1153, device='cuda:0', grad_fn=<MseLossBackward>),\n",
       "  tensor(0.1287, device='cuda:0', grad_fn=<MseLossBackward>),\n",
       "  tensor(0.1722, device='cuda:0', grad_fn=<MseLossBackward>),\n",
       "  tensor(0.1740, device='cuda:0', grad_fn=<MseLossBackward>),\n",
       "  tensor(0.2293, device='cuda:0', grad_fn=<MseLossBackward>),\n",
       "  tensor(0.1647, device='cuda:0', grad_fn=<MseLossBackward>),\n",
       "  tensor(0.2133, device='cuda:0', grad_fn=<MseLossBackward>),\n",
       "  tensor(0.2985, device='cuda:0', grad_fn=<MseLossBackward>),\n",
       "  tensor(0.2028, device='cuda:0', grad_fn=<MseLossBackward>),\n",
       "  tensor(0.2231, device='cuda:0', grad_fn=<MseLossBackward>),\n",
       "  tensor(0.2857, device='cuda:0', grad_fn=<MseLossBackward>),\n",
       "  tensor(0.1202, device='cuda:0', grad_fn=<MseLossBackward>),\n",
       "  tensor(0.1007, device='cuda:0', grad_fn=<MseLossBackward>),\n",
       "  tensor(0.2014, device='cuda:0', grad_fn=<MseLossBackward>),\n",
       "  tensor(0.2571, device='cuda:0', grad_fn=<MseLossBackward>),\n",
       "  tensor(0.1912, device='cuda:0', grad_fn=<MseLossBackward>),\n",
       "  tensor(0.1728, device='cuda:0', grad_fn=<MseLossBackward>),\n",
       "  tensor(0.2154, device='cuda:0', grad_fn=<MseLossBackward>),\n",
       "  tensor(0.2307, device='cuda:0', grad_fn=<MseLossBackward>),\n",
       "  tensor(0.2508, device='cuda:0', grad_fn=<MseLossBackward>),\n",
       "  tensor(0.2367, device='cuda:0', grad_fn=<MseLossBackward>),\n",
       "  tensor(0.2340, device='cuda:0', grad_fn=<MseLossBackward>),\n",
       "  tensor(0.2123, device='cuda:0', grad_fn=<MseLossBackward>),\n",
       "  tensor(0.1502, device='cuda:0', grad_fn=<MseLossBackward>),\n",
       "  tensor(0.1650, device='cuda:0', grad_fn=<MseLossBackward>),\n",
       "  tensor(0.1944, device='cuda:0', grad_fn=<MseLossBackward>),\n",
       "  tensor(0.1852, device='cuda:0', grad_fn=<MseLossBackward>),\n",
       "  tensor(0.1477, device='cuda:0', grad_fn=<MseLossBackward>),\n",
       "  tensor(0.2458, device='cuda:0', grad_fn=<MseLossBackward>),\n",
       "  tensor(0.2403, device='cuda:0', grad_fn=<MseLossBackward>),\n",
       "  tensor(0.2041, device='cuda:0', grad_fn=<MseLossBackward>),\n",
       "  tensor(0.2371, device='cuda:0', grad_fn=<MseLossBackward>),\n",
       "  tensor(0.1758, device='cuda:0', grad_fn=<MseLossBackward>),\n",
       "  tensor(0.0827, device='cuda:0', grad_fn=<MseLossBackward>),\n",
       "  tensor(0.1778, device='cuda:0', grad_fn=<MseLossBackward>),\n",
       "  tensor(0.1670, device='cuda:0', grad_fn=<MseLossBackward>),\n",
       "  tensor(0.2674, device='cuda:0', grad_fn=<MseLossBackward>),\n",
       "  tensor(0.2079, device='cuda:0', grad_fn=<MseLossBackward>),\n",
       "  tensor(0.2165, device='cuda:0', grad_fn=<MseLossBackward>),\n",
       "  tensor(0.1691, device='cuda:0', grad_fn=<MseLossBackward>),\n",
       "  tensor(0.1875, device='cuda:0', grad_fn=<MseLossBackward>),\n",
       "  tensor(0.2280, device='cuda:0', grad_fn=<MseLossBackward>),\n",
       "  tensor(0.2153, device='cuda:0', grad_fn=<MseLossBackward>),\n",
       "  tensor(0.2155, device='cuda:0', grad_fn=<MseLossBackward>),\n",
       "  tensor(0.1881, device='cuda:0', grad_fn=<MseLossBackward>),\n",
       "  tensor(0.1046, device='cuda:0', grad_fn=<MseLossBackward>),\n",
       "  tensor(0.1593, device='cuda:0', grad_fn=<MseLossBackward>),\n",
       "  tensor(0.1893, device='cuda:0', grad_fn=<MseLossBackward>),\n",
       "  tensor(0.1819, device='cuda:0', grad_fn=<MseLossBackward>),\n",
       "  tensor(0.1931, device='cuda:0', grad_fn=<MseLossBackward>),\n",
       "  tensor(0.1806, device='cuda:0', grad_fn=<MseLossBackward>),\n",
       "  tensor(0.1756, device='cuda:0', grad_fn=<MseLossBackward>),\n",
       "  tensor(0.1495, device='cuda:0', grad_fn=<MseLossBackward>),\n",
       "  tensor(0.1478, device='cuda:0', grad_fn=<MseLossBackward>),\n",
       "  tensor(0.1786, device='cuda:0', grad_fn=<MseLossBackward>),\n",
       "  tensor(0.2117, device='cuda:0', grad_fn=<MseLossBackward>),\n",
       "  tensor(0.1262, device='cuda:0', grad_fn=<MseLossBackward>),\n",
       "  tensor(0.1247, device='cuda:0', grad_fn=<MseLossBackward>),\n",
       "  tensor(0.2327, device='cuda:0', grad_fn=<MseLossBackward>),\n",
       "  tensor(0.1102, device='cuda:0', grad_fn=<MseLossBackward>),\n",
       "  tensor(0.1888, device='cuda:0', grad_fn=<MseLossBackward>),\n",
       "  tensor(0.2004, device='cuda:0', grad_fn=<MseLossBackward>),\n",
       "  tensor(0.1897, device='cuda:0', grad_fn=<MseLossBackward>),\n",
       "  tensor(0.1501, device='cuda:0', grad_fn=<MseLossBackward>),\n",
       "  tensor(0.2864, device='cuda:0', grad_fn=<MseLossBackward>),\n",
       "  tensor(0.1410, device='cuda:0', grad_fn=<MseLossBackward>),\n",
       "  tensor(0.2003, device='cuda:0', grad_fn=<MseLossBackward>),\n",
       "  tensor(0.2666, device='cuda:0', grad_fn=<MseLossBackward>),\n",
       "  tensor(0.0892, device='cuda:0', grad_fn=<MseLossBackward>),\n",
       "  tensor(0.1308, device='cuda:0', grad_fn=<MseLossBackward>),\n",
       "  tensor(0.1943, device='cuda:0', grad_fn=<MseLossBackward>),\n",
       "  tensor(0.2485, device='cuda:0', grad_fn=<MseLossBackward>),\n",
       "  tensor(0.1032, device='cuda:0', grad_fn=<MseLossBackward>),\n",
       "  tensor(0.1587, device='cuda:0', grad_fn=<MseLossBackward>),\n",
       "  tensor(0.1673, device='cuda:0', grad_fn=<MseLossBackward>),\n",
       "  tensor(0.1544, device='cuda:0', grad_fn=<MseLossBackward>),\n",
       "  tensor(0.2007, device='cuda:0', grad_fn=<MseLossBackward>),\n",
       "  tensor(0.2384, device='cuda:0', grad_fn=<MseLossBackward>),\n",
       "  tensor(0.1031, device='cuda:0', grad_fn=<MseLossBackward>),\n",
       "  tensor(0.1451, device='cuda:0', grad_fn=<MseLossBackward>),\n",
       "  tensor(0.1608, device='cuda:0', grad_fn=<MseLossBackward>),\n",
       "  tensor(0.1609, device='cuda:0', grad_fn=<MseLossBackward>),\n",
       "  tensor(0.1042, device='cuda:0', grad_fn=<MseLossBackward>),\n",
       "  tensor(0.1265, device='cuda:0', grad_fn=<MseLossBackward>),\n",
       "  tensor(0.1925, device='cuda:0', grad_fn=<MseLossBackward>),\n",
       "  tensor(0.2533, device='cuda:0', grad_fn=<MseLossBackward>),\n",
       "  tensor(0.1705, device='cuda:0', grad_fn=<MseLossBackward>),\n",
       "  tensor(0.2449, device='cuda:0', grad_fn=<MseLossBackward>),\n",
       "  tensor(0.1465, device='cuda:0', grad_fn=<MseLossBackward>),\n",
       "  tensor(0.1652, device='cuda:0', grad_fn=<MseLossBackward>),\n",
       "  tensor(0.1423, device='cuda:0', grad_fn=<MseLossBackward>),\n",
       "  tensor(0.1052, device='cuda:0', grad_fn=<MseLossBackward>),\n",
       "  tensor(0.2522, device='cuda:0', grad_fn=<MseLossBackward>),\n",
       "  tensor(0.1490, device='cuda:0', grad_fn=<MseLossBackward>),\n",
       "  tensor(0.2594, device='cuda:0', grad_fn=<MseLossBackward>),\n",
       "  tensor(0.2296, device='cuda:0', grad_fn=<MseLossBackward>),\n",
       "  tensor(0.1775, device='cuda:0', grad_fn=<MseLossBackward>),\n",
       "  tensor(0.1883, device='cuda:0', grad_fn=<MseLossBackward>),\n",
       "  tensor(0.1391, device='cuda:0', grad_fn=<MseLossBackward>),\n",
       "  tensor(0.2166, device='cuda:0', grad_fn=<MseLossBackward>),\n",
       "  tensor(0.1204, device='cuda:0', grad_fn=<MseLossBackward>),\n",
       "  tensor(0.2544, device='cuda:0', grad_fn=<MseLossBackward>),\n",
       "  tensor(0.1845, device='cuda:0', grad_fn=<MseLossBackward>),\n",
       "  tensor(0.1899, device='cuda:0', grad_fn=<MseLossBackward>),\n",
       "  tensor(0.1797, device='cuda:0', grad_fn=<MseLossBackward>),\n",
       "  tensor(0.1884, device='cuda:0', grad_fn=<MseLossBackward>),\n",
       "  tensor(0.1327, device='cuda:0', grad_fn=<MseLossBackward>),\n",
       "  tensor(0.1705, device='cuda:0', grad_fn=<MseLossBackward>),\n",
       "  tensor(0.1238, device='cuda:0', grad_fn=<MseLossBackward>),\n",
       "  tensor(0.1584, device='cuda:0', grad_fn=<MseLossBackward>),\n",
       "  tensor(0.1836, device='cuda:0', grad_fn=<MseLossBackward>),\n",
       "  tensor(0.1601, device='cuda:0', grad_fn=<MseLossBackward>),\n",
       "  tensor(0.1832, device='cuda:0', grad_fn=<MseLossBackward>),\n",
       "  tensor(0.1800, device='cuda:0', grad_fn=<MseLossBackward>),\n",
       "  tensor(0.1179, device='cuda:0', grad_fn=<MseLossBackward>),\n",
       "  tensor(0.1759, device='cuda:0', grad_fn=<MseLossBackward>),\n",
       "  tensor(0.0951, device='cuda:0', grad_fn=<MseLossBackward>),\n",
       "  tensor(0.1720, device='cuda:0', grad_fn=<MseLossBackward>),\n",
       "  tensor(0.1885, device='cuda:0', grad_fn=<MseLossBackward>),\n",
       "  tensor(0.1596, device='cuda:0', grad_fn=<MseLossBackward>),\n",
       "  tensor(0.1611, device='cuda:0', grad_fn=<MseLossBackward>),\n",
       "  tensor(0.1887, device='cuda:0', grad_fn=<MseLossBackward>),\n",
       "  tensor(0.1555, device='cuda:0', grad_fn=<MseLossBackward>),\n",
       "  tensor(0.1718, device='cuda:0', grad_fn=<MseLossBackward>),\n",
       "  tensor(0.1287, device='cuda:0', grad_fn=<MseLossBackward>),\n",
       "  tensor(0.2236, device='cuda:0', grad_fn=<MseLossBackward>),\n",
       "  tensor(0.2151, device='cuda:0', grad_fn=<MseLossBackward>),\n",
       "  tensor(0.2496, device='cuda:0', grad_fn=<MseLossBackward>),\n",
       "  tensor(0.1043, device='cuda:0', grad_fn=<MseLossBackward>),\n",
       "  tensor(0.1743, device='cuda:0', grad_fn=<MseLossBackward>),\n",
       "  tensor(0.1334, device='cuda:0', grad_fn=<MseLossBackward>),\n",
       "  tensor(0.1266, device='cuda:0', grad_fn=<MseLossBackward>),\n",
       "  tensor(0.1500, device='cuda:0', grad_fn=<MseLossBackward>),\n",
       "  tensor(0.2238, device='cuda:0', grad_fn=<MseLossBackward>),\n",
       "  tensor(0.1053, device='cuda:0', grad_fn=<MseLossBackward>),\n",
       "  tensor(0.2121, device='cuda:0', grad_fn=<MseLossBackward>),\n",
       "  tensor(0.1253, device='cuda:0', grad_fn=<MseLossBackward>),\n",
       "  tensor(0.1563, device='cuda:0', grad_fn=<MseLossBackward>),\n",
       "  tensor(0.1658, device='cuda:0', grad_fn=<MseLossBackward>),\n",
       "  tensor(0.1860, device='cuda:0', grad_fn=<MseLossBackward>),\n",
       "  tensor(0.1504, device='cuda:0', grad_fn=<MseLossBackward>),\n",
       "  tensor(0.1845, device='cuda:0', grad_fn=<MseLossBackward>),\n",
       "  tensor(0.1578, device='cuda:0', grad_fn=<MseLossBackward>),\n",
       "  tensor(0.2179, device='cuda:0', grad_fn=<MseLossBackward>),\n",
       "  tensor(0.1702, device='cuda:0', grad_fn=<MseLossBackward>),\n",
       "  tensor(0.0956, device='cuda:0', grad_fn=<MseLossBackward>),\n",
       "  tensor(0.2115, device='cuda:0', grad_fn=<MseLossBackward>),\n",
       "  tensor(0.0843, device='cuda:0', grad_fn=<MseLossBackward>),\n",
       "  tensor(0.1313, device='cuda:0', grad_fn=<MseLossBackward>),\n",
       "  tensor(0.1462, device='cuda:0', grad_fn=<MseLossBackward>),\n",
       "  tensor(0.1486, device='cuda:0', grad_fn=<MseLossBackward>),\n",
       "  tensor(0.1132, device='cuda:0', grad_fn=<MseLossBackward>),\n",
       "  tensor(0.1450, device='cuda:0', grad_fn=<MseLossBackward>),\n",
       "  tensor(0.1665, device='cuda:0', grad_fn=<MseLossBackward>),\n",
       "  tensor(0.0923, device='cuda:0', grad_fn=<MseLossBackward>),\n",
       "  tensor(0.1935, device='cuda:0', grad_fn=<MseLossBackward>),\n",
       "  tensor(0.2582, device='cuda:0', grad_fn=<MseLossBackward>),\n",
       "  tensor(0.1382, device='cuda:0', grad_fn=<MseLossBackward>),\n",
       "  tensor(0.0890, device='cuda:0', grad_fn=<MseLossBackward>),\n",
       "  tensor(0.1670, device='cuda:0', grad_fn=<MseLossBackward>),\n",
       "  tensor(0.1897, device='cuda:0', grad_fn=<MseLossBackward>),\n",
       "  tensor(0.2361, device='cuda:0', grad_fn=<MseLossBackward>),\n",
       "  tensor(0.1105, device='cuda:0', grad_fn=<MseLossBackward>),\n",
       "  tensor(0.2266, device='cuda:0', grad_fn=<MseLossBackward>),\n",
       "  tensor(0.0836, device='cuda:0', grad_fn=<MseLossBackward>),\n",
       "  tensor(0.1994, device='cuda:0', grad_fn=<MseLossBackward>),\n",
       "  tensor(0.1014, device='cuda:0', grad_fn=<MseLossBackward>),\n",
       "  tensor(0.1899, device='cuda:0', grad_fn=<MseLossBackward>),\n",
       "  tensor(0.1880, device='cuda:0', grad_fn=<MseLossBackward>),\n",
       "  tensor(0.1841, device='cuda:0', grad_fn=<MseLossBackward>),\n",
       "  tensor(0.1060, device='cuda:0', grad_fn=<MseLossBackward>),\n",
       "  tensor(0.0921, device='cuda:0', grad_fn=<MseLossBackward>),\n",
       "  tensor(0.2314, device='cuda:0', grad_fn=<MseLossBackward>),\n",
       "  tensor(0.1056, device='cuda:0', grad_fn=<MseLossBackward>),\n",
       "  tensor(0.1051, device='cuda:0', grad_fn=<MseLossBackward>),\n",
       "  tensor(0.2427, device='cuda:0', grad_fn=<MseLossBackward>),\n",
       "  tensor(0.1313, device='cuda:0', grad_fn=<MseLossBackward>),\n",
       "  tensor(0.1178, device='cuda:0', grad_fn=<MseLossBackward>),\n",
       "  tensor(0.1972, device='cuda:0', grad_fn=<MseLossBackward>),\n",
       "  tensor(0.1784, device='cuda:0', grad_fn=<MseLossBackward>),\n",
       "  tensor(0.1697, device='cuda:0', grad_fn=<MseLossBackward>),\n",
       "  tensor(0.1493, device='cuda:0', grad_fn=<MseLossBackward>),\n",
       "  tensor(0.1316, device='cuda:0', grad_fn=<MseLossBackward>),\n",
       "  tensor(0.1566, device='cuda:0', grad_fn=<MseLossBackward>),\n",
       "  tensor(0.1636, device='cuda:0', grad_fn=<MseLossBackward>),\n",
       "  tensor(0.1509, device='cuda:0', grad_fn=<MseLossBackward>),\n",
       "  tensor(0.1688, device='cuda:0', grad_fn=<MseLossBackward>),\n",
       "  tensor(0.1520, device='cuda:0', grad_fn=<MseLossBackward>),\n",
       "  tensor(0.1879, device='cuda:0', grad_fn=<MseLossBackward>),\n",
       "  tensor(0.2601, device='cuda:0', grad_fn=<MseLossBackward>),\n",
       "  tensor(0.1103, device='cuda:0', grad_fn=<MseLossBackward>),\n",
       "  tensor(0.2081, device='cuda:0', grad_fn=<MseLossBackward>),\n",
       "  tensor(0.2322, device='cuda:0', grad_fn=<MseLossBackward>),\n",
       "  tensor(0.1381, device='cuda:0', grad_fn=<MseLossBackward>),\n",
       "  tensor(0.1868, device='cuda:0', grad_fn=<MseLossBackward>),\n",
       "  tensor(0.0940, device='cuda:0', grad_fn=<MseLossBackward>),\n",
       "  tensor(0.1018, device='cuda:0', grad_fn=<MseLossBackward>),\n",
       "  tensor(0.1785, device='cuda:0', grad_fn=<MseLossBackward>),\n",
       "  tensor(0.1802, device='cuda:0', grad_fn=<MseLossBackward>),\n",
       "  tensor(0.1194, device='cuda:0', grad_fn=<MseLossBackward>),\n",
       "  tensor(0.2090, device='cuda:0', grad_fn=<MseLossBackward>),\n",
       "  tensor(0.1555, device='cuda:0', grad_fn=<MseLossBackward>),\n",
       "  tensor(0.1179, device='cuda:0', grad_fn=<MseLossBackward>),\n",
       "  tensor(0.1788, device='cuda:0', grad_fn=<MseLossBackward>),\n",
       "  tensor(0.1698, device='cuda:0', grad_fn=<MseLossBackward>),\n",
       "  tensor(0.2459, device='cuda:0', grad_fn=<MseLossBackward>),\n",
       "  tensor(0.1234, device='cuda:0', grad_fn=<MseLossBackward>),\n",
       "  tensor(0.1144, device='cuda:0', grad_fn=<MseLossBackward>),\n",
       "  tensor(0.1675, device='cuda:0', grad_fn=<MseLossBackward>),\n",
       "  tensor(0.1466, device='cuda:0', grad_fn=<MseLossBackward>),\n",
       "  tensor(0.2284, device='cuda:0', grad_fn=<MseLossBackward>),\n",
       "  tensor(0.1887, device='cuda:0', grad_fn=<MseLossBackward>),\n",
       "  tensor(0.1263, device='cuda:0', grad_fn=<MseLossBackward>),\n",
       "  tensor(0.1795, device='cuda:0', grad_fn=<MseLossBackward>),\n",
       "  tensor(0.2108, device='cuda:0', grad_fn=<MseLossBackward>),\n",
       "  tensor(0.1975, device='cuda:0', grad_fn=<MseLossBackward>),\n",
       "  tensor(0.1606, device='cuda:0', grad_fn=<MseLossBackward>),\n",
       "  tensor(0.1640, device='cuda:0', grad_fn=<MseLossBackward>),\n",
       "  tensor(0.1357, device='cuda:0', grad_fn=<MseLossBackward>),\n",
       "  tensor(0.1183, device='cuda:0', grad_fn=<MseLossBackward>),\n",
       "  tensor(0.0951, device='cuda:0', grad_fn=<MseLossBackward>),\n",
       "  tensor(0.1280, device='cuda:0', grad_fn=<MseLossBackward>),\n",
       "  tensor(0.1672, device='cuda:0', grad_fn=<MseLossBackward>),\n",
       "  tensor(0.1204, device='cuda:0', grad_fn=<MseLossBackward>),\n",
       "  tensor(0.1477, device='cuda:0', grad_fn=<MseLossBackward>),\n",
       "  tensor(0.1052, device='cuda:0', grad_fn=<MseLossBackward>),\n",
       "  tensor(0.1396, device='cuda:0', grad_fn=<MseLossBackward>),\n",
       "  tensor(0.1006, device='cuda:0', grad_fn=<MseLossBackward>),\n",
       "  tensor(0.1354, device='cuda:0', grad_fn=<MseLossBackward>),\n",
       "  tensor(0.2148, device='cuda:0', grad_fn=<MseLossBackward>),\n",
       "  tensor(0.0921, device='cuda:0', grad_fn=<MseLossBackward>),\n",
       "  tensor(0.0858, device='cuda:0', grad_fn=<MseLossBackward>),\n",
       "  tensor(0.1448, device='cuda:0', grad_fn=<MseLossBackward>),\n",
       "  tensor(0.0842, device='cuda:0', grad_fn=<MseLossBackward>),\n",
       "  tensor(0.1332, device='cuda:0', grad_fn=<MseLossBackward>),\n",
       "  tensor(0.1291, device='cuda:0', grad_fn=<MseLossBackward>),\n",
       "  tensor(0.1643, device='cuda:0', grad_fn=<MseLossBackward>),\n",
       "  tensor(0.1130, device='cuda:0', grad_fn=<MseLossBackward>),\n",
       "  tensor(0.1605, device='cuda:0', grad_fn=<MseLossBackward>),\n",
       "  tensor(0.0832, device='cuda:0', grad_fn=<MseLossBackward>),\n",
       "  tensor(0.1142, device='cuda:0', grad_fn=<MseLossBackward>),\n",
       "  tensor(0.2161, device='cuda:0', grad_fn=<MseLossBackward>),\n",
       "  tensor(0.1812, device='cuda:0', grad_fn=<MseLossBackward>),\n",
       "  tensor(0.1766, device='cuda:0', grad_fn=<MseLossBackward>),\n",
       "  tensor(0.1273, device='cuda:0', grad_fn=<MseLossBackward>),\n",
       "  tensor(0.0702, device='cuda:0', grad_fn=<MseLossBackward>),\n",
       "  tensor(0.1740, device='cuda:0', grad_fn=<MseLossBackward>),\n",
       "  tensor(0.1457, device='cuda:0', grad_fn=<MseLossBackward>),\n",
       "  tensor(0.1479, device='cuda:0', grad_fn=<MseLossBackward>),\n",
       "  tensor(0.1430, device='cuda:0', grad_fn=<MseLossBackward>),\n",
       "  tensor(0.2035, device='cuda:0', grad_fn=<MseLossBackward>),\n",
       "  tensor(0.1547, device='cuda:0', grad_fn=<MseLossBackward>),\n",
       "  tensor(0.1672, device='cuda:0', grad_fn=<MseLossBackward>),\n",
       "  tensor(0.1736, device='cuda:0', grad_fn=<MseLossBackward>),\n",
       "  tensor(0.0829, device='cuda:0', grad_fn=<MseLossBackward>),\n",
       "  tensor(0.1009, device='cuda:0', grad_fn=<MseLossBackward>),\n",
       "  tensor(0.1890, device='cuda:0', grad_fn=<MseLossBackward>),\n",
       "  tensor(0.1647, device='cuda:0', grad_fn=<MseLossBackward>),\n",
       "  tensor(0.0837, device='cuda:0', grad_fn=<MseLossBackward>),\n",
       "  tensor(0.1589, device='cuda:0', grad_fn=<MseLossBackward>),\n",
       "  tensor(0.1892, device='cuda:0', grad_fn=<MseLossBackward>),\n",
       "  tensor(0.0913, device='cuda:0', grad_fn=<MseLossBackward>),\n",
       "  tensor(0.1696, device='cuda:0', grad_fn=<MseLossBackward>),\n",
       "  tensor(0.2543, device='cuda:0', grad_fn=<MseLossBackward>),\n",
       "  tensor(0.1078, device='cuda:0', grad_fn=<MseLossBackward>),\n",
       "  tensor(0.1015, device='cuda:0', grad_fn=<MseLossBackward>),\n",
       "  tensor(0.1501, device='cuda:0', grad_fn=<MseLossBackward>),\n",
       "  tensor(0.0973, device='cuda:0', grad_fn=<MseLossBackward>),\n",
       "  tensor(0.1304, device='cuda:0', grad_fn=<MseLossBackward>),\n",
       "  tensor(0.0732, device='cuda:0', grad_fn=<MseLossBackward>),\n",
       "  tensor(0.1191, device='cuda:0', grad_fn=<MseLossBackward>),\n",
       "  tensor(0.1391, device='cuda:0', grad_fn=<MseLossBackward>),\n",
       "  tensor(0.1191, device='cuda:0', grad_fn=<MseLossBackward>),\n",
       "  tensor(0.1093, device='cuda:0', grad_fn=<MseLossBackward>),\n",
       "  tensor(0.1551, device='cuda:0', grad_fn=<MseLossBackward>),\n",
       "  tensor(0.2127, device='cuda:0', grad_fn=<MseLossBackward>),\n",
       "  tensor(0.1298, device='cuda:0', grad_fn=<MseLossBackward>),\n",
       "  tensor(0.0952, device='cuda:0', grad_fn=<MseLossBackward>),\n",
       "  tensor(0.0645, device='cuda:0', grad_fn=<MseLossBackward>),\n",
       "  tensor(0.1775, device='cuda:0', grad_fn=<MseLossBackward>),\n",
       "  tensor(0.0852, device='cuda:0', grad_fn=<MseLossBackward>),\n",
       "  tensor(0.1297, device='cuda:0', grad_fn=<MseLossBackward>),\n",
       "  tensor(0.1044, device='cuda:0', grad_fn=<MseLossBackward>),\n",
       "  tensor(0.1329, device='cuda:0', grad_fn=<MseLossBackward>),\n",
       "  tensor(0.1321, device='cuda:0', grad_fn=<MseLossBackward>),\n",
       "  tensor(0.1904, device='cuda:0', grad_fn=<MseLossBackward>),\n",
       "  tensor(0.1702, device='cuda:0', grad_fn=<MseLossBackward>),\n",
       "  tensor(0.0966, device='cuda:0', grad_fn=<MseLossBackward>),\n",
       "  tensor(0.1963, device='cuda:0', grad_fn=<MseLossBackward>),\n",
       "  tensor(0.1110, device='cuda:0', grad_fn=<MseLossBackward>),\n",
       "  tensor(0.1303, device='cuda:0', grad_fn=<MseLossBackward>),\n",
       "  tensor(0.1472, device='cuda:0', grad_fn=<MseLossBackward>),\n",
       "  tensor(0.1844, device='cuda:0', grad_fn=<MseLossBackward>),\n",
       "  tensor(0.1630, device='cuda:0', grad_fn=<MseLossBackward>),\n",
       "  tensor(0.0890, device='cuda:0', grad_fn=<MseLossBackward>),\n",
       "  tensor(0.0366, device='cuda:0', grad_fn=<MseLossBackward>),\n",
       "  tensor(0.2596, device='cuda:0', grad_fn=<MseLossBackward>),\n",
       "  tensor(0.2078, device='cuda:0', grad_fn=<MseLossBackward>),\n",
       "  tensor(0.2237, device='cuda:0', grad_fn=<MseLossBackward>),\n",
       "  tensor(0.2308, device='cuda:0', grad_fn=<MseLossBackward>),\n",
       "  tensor(0.1782, device='cuda:0', grad_fn=<MseLossBackward>),\n",
       "  tensor(0.1355, device='cuda:0', grad_fn=<MseLossBackward>),\n",
       "  tensor(0.1361, device='cuda:0', grad_fn=<MseLossBackward>),\n",
       "  tensor(0.1270, device='cuda:0', grad_fn=<MseLossBackward>),\n",
       "  tensor(0.1658, device='cuda:0', grad_fn=<MseLossBackward>),\n",
       "  tensor(0.1387, device='cuda:0', grad_fn=<MseLossBackward>),\n",
       "  tensor(0.1910, device='cuda:0', grad_fn=<MseLossBackward>),\n",
       "  tensor(0.1830, device='cuda:0', grad_fn=<MseLossBackward>),\n",
       "  tensor(0.1175, device='cuda:0', grad_fn=<MseLossBackward>),\n",
       "  tensor(0.0832, device='cuda:0', grad_fn=<MseLossBackward>),\n",
       "  tensor(0.1851, device='cuda:0', grad_fn=<MseLossBackward>),\n",
       "  tensor(0.1002, device='cuda:0', grad_fn=<MseLossBackward>),\n",
       "  tensor(0.0789, device='cuda:0', grad_fn=<MseLossBackward>),\n",
       "  tensor(0.0902, device='cuda:0', grad_fn=<MseLossBackward>),\n",
       "  tensor(0.1665, device='cuda:0', grad_fn=<MseLossBackward>),\n",
       "  tensor(0.2106, device='cuda:0', grad_fn=<MseLossBackward>),\n",
       "  tensor(0.1350, device='cuda:0', grad_fn=<MseLossBackward>),\n",
       "  tensor(0.1265, device='cuda:0', grad_fn=<MseLossBackward>),\n",
       "  tensor(0.0815, device='cuda:0', grad_fn=<MseLossBackward>),\n",
       "  tensor(0.1295, device='cuda:0', grad_fn=<MseLossBackward>),\n",
       "  tensor(0.2157, device='cuda:0', grad_fn=<MseLossBackward>),\n",
       "  tensor(0.2115, device='cuda:0', grad_fn=<MseLossBackward>),\n",
       "  tensor(0.1461, device='cuda:0', grad_fn=<MseLossBackward>),\n",
       "  tensor(0.1420, device='cuda:0', grad_fn=<MseLossBackward>),\n",
       "  tensor(0.0809, device='cuda:0', grad_fn=<MseLossBackward>),\n",
       "  tensor(0.0945, device='cuda:0', grad_fn=<MseLossBackward>),\n",
       "  tensor(0.1794, device='cuda:0', grad_fn=<MseLossBackward>),\n",
       "  tensor(0.1033, device='cuda:0', grad_fn=<MseLossBackward>),\n",
       "  tensor(0.2083, device='cuda:0', grad_fn=<MseLossBackward>),\n",
       "  tensor(0.0996, device='cuda:0', grad_fn=<MseLossBackward>),\n",
       "  tensor(0.2074, device='cuda:0', grad_fn=<MseLossBackward>),\n",
       "  tensor(0.1342, device='cuda:0', grad_fn=<MseLossBackward>),\n",
       "  tensor(0.1873, device='cuda:0', grad_fn=<MseLossBackward>),\n",
       "  tensor(0.2198, device='cuda:0', grad_fn=<MseLossBackward>),\n",
       "  tensor(0.1243, device='cuda:0', grad_fn=<MseLossBackward>),\n",
       "  tensor(0.1507, device='cuda:0', grad_fn=<MseLossBackward>),\n",
       "  tensor(0.1089, device='cuda:0', grad_fn=<MseLossBackward>),\n",
       "  tensor(0.1888, device='cuda:0', grad_fn=<MseLossBackward>),\n",
       "  tensor(0.1064, device='cuda:0', grad_fn=<MseLossBackward>),\n",
       "  tensor(0.0939, device='cuda:0', grad_fn=<MseLossBackward>),\n",
       "  tensor(0.1643, device='cuda:0', grad_fn=<MseLossBackward>),\n",
       "  tensor(0.0874, device='cuda:0', grad_fn=<MseLossBackward>),\n",
       "  tensor(0.1071, device='cuda:0', grad_fn=<MseLossBackward>),\n",
       "  tensor(0.0857, device='cuda:0', grad_fn=<MseLossBackward>),\n",
       "  tensor(0.1135, device='cuda:0', grad_fn=<MseLossBackward>),\n",
       "  tensor(0.1583, device='cuda:0', grad_fn=<MseLossBackward>),\n",
       "  tensor(0.1181, device='cuda:0', grad_fn=<MseLossBackward>),\n",
       "  tensor(0.0396, device='cuda:0', grad_fn=<MseLossBackward>),\n",
       "  tensor(0.1382, device='cuda:0', grad_fn=<MseLossBackward>),\n",
       "  tensor(0.1162, device='cuda:0', grad_fn=<MseLossBackward>),\n",
       "  tensor(0.1301, device='cuda:0', grad_fn=<MseLossBackward>),\n",
       "  tensor(0.1673, device='cuda:0', grad_fn=<MseLossBackward>),\n",
       "  tensor(0.0909, device='cuda:0', grad_fn=<MseLossBackward>),\n",
       "  tensor(0.1139, device='cuda:0', grad_fn=<MseLossBackward>),\n",
       "  tensor(0.1458, device='cuda:0', grad_fn=<MseLossBackward>),\n",
       "  tensor(0.1131, device='cuda:0', grad_fn=<MseLossBackward>),\n",
       "  tensor(0.1168, device='cuda:0', grad_fn=<MseLossBackward>),\n",
       "  tensor(0.1245, device='cuda:0', grad_fn=<MseLossBackward>),\n",
       "  tensor(0.1589, device='cuda:0', grad_fn=<MseLossBackward>),\n",
       "  tensor(0.0567, device='cuda:0', grad_fn=<MseLossBackward>),\n",
       "  tensor(0.1569, device='cuda:0', grad_fn=<MseLossBackward>),\n",
       "  tensor(0.1876, device='cuda:0', grad_fn=<MseLossBackward>),\n",
       "  tensor(0.1869, device='cuda:0', grad_fn=<MseLossBackward>),\n",
       "  tensor(0.1046, device='cuda:0', grad_fn=<MseLossBackward>),\n",
       "  tensor(0.1242, device='cuda:0', grad_fn=<MseLossBackward>),\n",
       "  tensor(0.0742, device='cuda:0', grad_fn=<MseLossBackward>),\n",
       "  tensor(0.0828, device='cuda:0', grad_fn=<MseLossBackward>),\n",
       "  tensor(0.1792, device='cuda:0', grad_fn=<MseLossBackward>),\n",
       "  tensor(0.1213, device='cuda:0', grad_fn=<MseLossBackward>),\n",
       "  tensor(0.1402, device='cuda:0', grad_fn=<MseLossBackward>),\n",
       "  tensor(0.0734, device='cuda:0', grad_fn=<MseLossBackward>),\n",
       "  tensor(0.1522, device='cuda:0', grad_fn=<MseLossBackward>),\n",
       "  tensor(0.1334, device='cuda:0', grad_fn=<MseLossBackward>),\n",
       "  tensor(0.1749, device='cuda:0', grad_fn=<MseLossBackward>),\n",
       "  tensor(0.0876, device='cuda:0', grad_fn=<MseLossBackward>),\n",
       "  tensor(0.1540, device='cuda:0', grad_fn=<MseLossBackward>),\n",
       "  ...],\n",
       " 'eval_scores': []}"
      ]
     },
     "execution_count": 32,
     "metadata": {},
     "output_type": "execute_result"
    }
   ],
   "source": [
    "my_trainer = Model_Trainer(gpus=[0])\n",
    "my_trainer.train(model, train_dataloader)"
   ]
  },
  {
   "cell_type": "code",
   "execution_count": 9,
   "metadata": {},
   "outputs": [],
   "source": [
    "checkpoint_callback = ModelCheckpoint(\n",
    "    filepath='saved_models/BERT_reranker_q500k_h150_checkpoints/test_saves/',\n",
    "    save_top_k=3,\n",
    "    verbose=True,\n",
    "    monitor='ndcg',\n",
    "    mode='min',\n",
    "    prefix='BERT_reranker_500k_queries'\n",
    ")"
   ]
  },
  {
   "cell_type": "code",
   "execution_count": 10,
   "metadata": {},
   "outputs": [],
   "source": [
    "model.set_validation_q_rels(valid_q_rels)"
   ]
  },
  {
   "cell_type": "code",
   "execution_count": 11,
   "metadata": {},
   "outputs": [],
   "source": [
    "wandb_logger = WandbLogger(name='Longformer2k',project='pytorchlightning')"
   ]
  },
  {
   "cell_type": "code",
   "execution_count": 16,
   "metadata": {},
   "outputs": [
    {
     "name": "stderr",
     "output_type": "stream",
     "text": [
      "GPU available: True, used: True\n",
      "TPU available: False, using: 0 TPU cores\n",
      "CUDA_VISIBLE_DEVICES: [0]\n",
      "\n",
      "  | Name       | Type            | Params\n",
      "-----------------------------------------------\n",
      "0 | Longformer | LongformerModel | 148 M \n",
      "1 | dropout    | Dropout         | 0     \n",
      "2 | proj_layer | Linear          | 769   \n"
     ]
    },
    {
     "data": {
      "application/vnd.jupyter.widget-view+json": {
       "model_id": "b7cac825b3034aa784856454300f9cc6",
       "version_major": 2,
       "version_minor": 0
      },
      "text/plain": [
       "HBox(children=(FloatProgress(value=1.0, bar_style='info', description='Training', layout=Layout(flex='2'), max…"
      ]
     },
     "metadata": {},
     "output_type": "display_data"
    },
    {
     "name": "stderr",
     "output_type": "stream",
     "text": [
      "/usr/local/lib/python3.6/dist-packages/pytorch_lightning/utilities/distributed.py:25: UserWarning: Detected KeyboardInterrupt, attempting graceful shutdown...\n",
      "  warnings.warn(*args, **kwargs)\n",
      "\n",
      "\n",
      "Profiler Report\n",
      "\n",
      "Action              \t|  Mean duration (s)\t|  Total time (s) \n",
      "-----------------------------------------------------------------\n",
      "on_train_start      \t|  0.014943       \t|  0.014943       \n",
      "on_epoch_start      \t|  0.0012078      \t|  0.0012078      \n",
      "get_train_batch     \t|  0.0045961      \t|  13.908         \n",
      "on_batch_start      \t|  1.1327e-05     \t|  0.034276       \n",
      "model_forward       \t|  0.71043        \t|  2149.7         \n",
      "model_backward      \t|  0.45656        \t|  1381.1         \n",
      "on_after_backward   \t|  2.2378e-06     \t|  0.0067693      \n",
      "optimizer_step      \t|  0.017894       \t|  54.129         \n",
      "on_batch_end        \t|  0.0018957      \t|  5.7344         \n",
      "on_train_end        \t|  0.0012826      \t|  0.0012826      \n",
      "\n"
     ]
    },
    {
     "name": "stdout",
     "output_type": "stream",
     "text": [
      "\n"
     ]
    },
    {
     "data": {
      "text/plain": [
       "1"
      ]
     },
     "execution_count": 16,
     "metadata": {},
     "output_type": "execute_result"
    }
   ],
   "source": [
    "trainer = Trainer(gpus=1, profiler=True, \n",
    "                  print_nan_grads=True, \n",
    "                  num_sanity_val_steps=0,#len(val_dataloader), \n",
    "                  val_check_interval=0.02,\n",
    "                  accumulate_grad_batches=1,\n",
    "                  logger= wandb_logger,\n",
    "                  checkpoint_callback=checkpoint_callback)\n",
    "trainer.fit(model, train_dataloader, val_dataloader)"
   ]
  },
  {
   "cell_type": "code",
   "execution_count": 20,
   "metadata": {},
   "outputs": [],
   "source": [
    "trainer.save_checkpoint(\"example.ckpt\")"
   ]
  },
  {
   "cell_type": "code",
   "execution_count": null,
   "metadata": {},
   "outputs": [],
   "source": [
    "%debug"
   ]
  },
  {
   "cell_type": "code",
   "execution_count": 36,
   "metadata": {},
   "outputs": [],
   "source": [
    "outputs = model.validation_step(batch, 0)"
   ]
  },
  {
   "cell_type": "code",
   "execution_count": 37,
   "metadata": {},
   "outputs": [
    {
     "data": {
      "text/plain": [
       "[0.64140784740448,\n",
       " 0.650149941444397,\n",
       " 0.6211758255958557,\n",
       " 0.650149941444397,\n",
       " 0.6418268084526062,\n",
       " 0.650149941444397,\n",
       " 0.6800584197044373,\n",
       " 0.650149941444397,\n",
       " 0.6111412048339844,\n",
       " 0.650149941444397,\n",
       " 0.6355796456336975,\n",
       " 0.650149941444397,\n",
       " 0.6755321025848389,\n",
       " 0.650149941444397,\n",
       " 0.6149528622627258,\n",
       " 0.650149941444397]"
      ]
     },
     "execution_count": 37,
     "metadata": {},
     "output_type": "execute_result"
    }
   ],
   "source": [
    "outputs[\"valid_outputs\"]"
   ]
  },
  {
   "cell_type": "code",
   "execution_count": 148,
   "metadata": {},
   "outputs": [
    {
     "ename": "NameError",
     "evalue": "name 'train_raw_sampleget_topicsw_data_loader' is not defined",
     "output_type": "error",
     "traceback": [
      "\u001b[0;31m---------------------------------------------------------------------------\u001b[0m",
      "\u001b[0;31mNameError\u001b[0m                                 Traceback (most recent call last)",
      "\u001b[0;32m<ipython-input-148-d00a6732ef60>\u001b[0m in \u001b[0;36m<module>\u001b[0;34m\u001b[0m\n\u001b[0;32m----> 1\u001b[0;31m \u001b[0mtrain_raw_sampleget_topicsw_data_loader\u001b[0m\u001b[0;34m.\u001b[0m\u001b[0mget_topics\u001b[0m\u001b[0;34m(\u001b[0m\u001b[0;34m\"train\"\u001b[0m\u001b[0;34m)\u001b[0m\u001b[0;34m\u001b[0m\u001b[0;34m\u001b[0m\u001b[0m\n\u001b[0m\u001b[1;32m      2\u001b[0m \u001b[0mtrain_dataset\u001b[0m \u001b[0;34m=\u001b[0m \u001b[0mManual_Query_BM25_Reranking_Dataset\u001b[0m\u001b[0;34m(\u001b[0m\u001b[0mtrain_raw_samples\u001b[0m\u001b[0;34m,\u001b[0m \u001b[0mget_query_fn\u001b[0m\u001b[0;34m,\u001b[0m \u001b[0mget_doc_fn\u001b[0m\u001b[0;34m,\u001b[0m \u001b[0mhits\u001b[0m\u001b[0;34m=\u001b[0m\u001b[0;36m100\u001b[0m\u001b[0;34m)\u001b[0m\u001b[0;34m\u001b[0m\u001b[0;34m\u001b[0m\u001b[0m\n\u001b[1;32m      3\u001b[0m \u001b[0mtrain_dataloader\u001b[0m \u001b[0;34m=\u001b[0m \u001b[0mtrain_dataset\u001b[0m\u001b[0;34m.\u001b[0m\u001b[0mto_dataloader\u001b[0m\u001b[0;34m(\u001b[0m\u001b[0;36m2\u001b[0m\u001b[0;34m,\u001b[0m \u001b[0mnum_workers\u001b[0m\u001b[0;34m=\u001b[0m\u001b[0;36m32\u001b[0m\u001b[0;34m)\u001b[0m\u001b[0;34m\u001b[0m\u001b[0;34m\u001b[0m\u001b[0m\n",
      "\u001b[0;31mNameError\u001b[0m: name 'train_raw_sampleget_topicsw_data_loader' is not defined"
     ]
    }
   ],
   "source": [
    "train_raw_sampleget_topicsw_data_loader.get_topics(\"train\")\n",
    "train_dataset = Manual_Query_BM25_Reranking_Dataset(train_raw_samples, get_query_fn, get_doc_fn, hits=100)\n",
    "train_dataloader = train_dataset.to_dataloader(2, num_workers=32)"
   ]
  },
  {
   "cell_type": "code",
   "execution_count": 41,
   "metadata": {},
   "outputs": [
    {
     "data": {
      "application/vnd.jupyter.widget-view+json": {
       "model_id": "7bce016f5ef84cd7acb0e1c7a2c068a8",
       "version_major": 2,
       "version_minor": 0
      },
      "text/plain": [
       "HBox(children=(FloatProgress(value=0.0, description='Downloading', max=433.0, style=ProgressStyle(description_…"
      ]
     },
     "metadata": {},
     "output_type": "display_data"
    },
    {
     "name": "stdout",
     "output_type": "stream",
     "text": [
      "\n"
     ]
    },
    {
     "data": {
      "application/vnd.jupyter.widget-view+json": {
       "model_id": "5f9ecb85927f41b2a3fabc398c1925c3",
       "version_major": 2,
       "version_minor": 0
      },
      "text/plain": [
       "HBox(children=(FloatProgress(value=0.0, description='Downloading', max=440473133.0, style=ProgressStyle(descri…"
      ]
     },
     "metadata": {},
     "output_type": "display_data"
    },
    {
     "name": "stdout",
     "output_type": "stream",
     "text": [
      "\n"
     ]
    }
   ],
   "source": [
    "BERT_BM25_reranker = BERT_BM25_Reranker(raw_data_loader.get_doc, raw_data_loader.get_query)"
   ]
  },
  {
   "cell_type": "code",
   "execution_count": 43,
   "metadata": {},
   "outputs": [],
   "source": [
    "reranking_DataProcessor = Resolved_Query_Reranking_DataProcessor(raw_data_loader.get_doc, \n",
    "                                                  raw_data_loader.get_query, \n",
    "                                                  raw_data_loader.get_topics(\"train\"), \n",
    "                                                  BERT_BM25_reranker.first_pass_model.predict, \n",
    "                                                  numericalizer,\n",
    "                                                  max_length=512)"
   ]
  },
  {
   "cell_type": "code",
   "execution_count": 7,
   "metadata": {},
   "outputs": [],
   "source": [
    "dataloader = reranking_DataProcessor.to_dataloader(2, num_workers=0)"
   ]
  },
  {
   "cell_type": "code",
   "execution_count": 96,
   "metadata": {},
   "outputs": [
    {
     "data": {
      "text/plain": [
       "25352"
      ]
     },
     "execution_count": 96,
     "metadata": {},
     "output_type": "execute_result"
    }
   ],
   "source": [
    "len(train_dataset)"
   ]
  },
  {
   "cell_type": "code",
   "execution_count": 147,
   "metadata": {},
   "outputs": [
    {
     "data": {
      "application/vnd.jupyter.widget-view+json": {
       "model_id": "dce9bd326321495abdbede2b6c504e7c",
       "version_major": 2,
       "version_minor": 0
      },
      "text/plain": [
       "HBox(children=(FloatProgress(value=0.0, max=490.0), HTML(value='')))"
      ]
     },
     "metadata": {},
     "output_type": "display_data"
    },
    {
     "name": "stdout",
     "output_type": "stream",
     "text": [
      "\n"
     ]
    },
    {
     "ename": "KeyError",
     "evalue": "Caught KeyError in DataLoader worker process 0.\nOriginal Traceback (most recent call last):\n  File \"/usr/local/lib/python3.6/dist-packages/torch/utils/data/_utils/worker.py\", line 178, in _worker_loop\n    data = fetcher.fetch(index)\n  File \"/usr/local/lib/python3.6/dist-packages/torch/utils/data/_utils/fetch.py\", line 44, in fetch\n    data = [self.dataset[idx] for idx in possibly_batched_index]\n  File \"/usr/local/lib/python3.6/dist-packages/torch/utils/data/_utils/fetch.py\", line 44, in <listcomp>\n    data = [self.dataset[idx] for idx in possibly_batched_index]\n  File \"/nfs/phd_by_carlos/notebooks/src/DataProcessors.py\", line 493, in __getitem__\n    samples = transform(samples)\n  File \"/nfs/phd_by_carlos/notebooks/src/DataProcessors.py\", line 465, in __call__\n    samples = transform(samples)\n  File \"/nfs/phd_by_carlos/notebooks/src/DataProcessors.py\", line 421, in __call__\n    sample_obj[\"doc\"] = self.get_doc_fn(sample_obj[\"d_id\"])\n  File \"/nfs/phd_by_carlos/notebooks/src/dataset_loaders.py\", line 256, in get_doc\n    return self.collection[d_id]\nKeyError: 'CAR_cce9dc23154a5887bbe92bfff13a4437b8ab2256'\n",
     "output_type": "error",
     "traceback": [
      "\u001b[0;31m---------------------------------------------------------------------------\u001b[0m",
      "\u001b[0;31mKeyError\u001b[0m                                  Traceback (most recent call last)",
      "\u001b[0;32m<ipython-input-147-e9c8a58afcaa>\u001b[0m in \u001b[0;36m<module>\u001b[0;34m\u001b[0m\n\u001b[0;32m----> 1\u001b[0;31m \u001b[0;32mfor\u001b[0m \u001b[0mbatch\u001b[0m \u001b[0;32min\u001b[0m \u001b[0mtqdm\u001b[0m\u001b[0;34m.\u001b[0m\u001b[0mtqdm\u001b[0m\u001b[0;34m(\u001b[0m\u001b[0mtrain_dataloader\u001b[0m\u001b[0;34m)\u001b[0m\u001b[0;34m:\u001b[0m\u001b[0;34m\u001b[0m\u001b[0;34m\u001b[0m\u001b[0m\n\u001b[0m\u001b[1;32m      2\u001b[0m     \u001b[0mprint\u001b[0m\u001b[0;34m(\u001b[0m\u001b[0mbatch\u001b[0m\u001b[0;34m[\u001b[0m\u001b[0;34m\"input_ids\"\u001b[0m\u001b[0;34m]\u001b[0m\u001b[0;34m)\u001b[0m\u001b[0;34m\u001b[0m\u001b[0;34m\u001b[0m\u001b[0m\n\u001b[1;32m      3\u001b[0m     \u001b[0;32mbreak\u001b[0m\u001b[0;34m\u001b[0m\u001b[0;34m\u001b[0m\u001b[0m\n",
      "\u001b[0;32m/usr/local/lib/python3.6/dist-packages/tqdm/notebook.py\u001b[0m in \u001b[0;36m__iter__\u001b[0;34m(self, *args, **kwargs)\u001b[0m\n\u001b[1;32m    215\u001b[0m     \u001b[0;32mdef\u001b[0m \u001b[0m__iter__\u001b[0m\u001b[0;34m(\u001b[0m\u001b[0mself\u001b[0m\u001b[0;34m,\u001b[0m \u001b[0;34m*\u001b[0m\u001b[0margs\u001b[0m\u001b[0;34m,\u001b[0m \u001b[0;34m**\u001b[0m\u001b[0mkwargs\u001b[0m\u001b[0;34m)\u001b[0m\u001b[0;34m:\u001b[0m\u001b[0;34m\u001b[0m\u001b[0;34m\u001b[0m\u001b[0m\n\u001b[1;32m    216\u001b[0m         \u001b[0;32mtry\u001b[0m\u001b[0;34m:\u001b[0m\u001b[0;34m\u001b[0m\u001b[0;34m\u001b[0m\u001b[0m\n\u001b[0;32m--> 217\u001b[0;31m             \u001b[0;32mfor\u001b[0m \u001b[0mobj\u001b[0m \u001b[0;32min\u001b[0m \u001b[0msuper\u001b[0m\u001b[0;34m(\u001b[0m\u001b[0mtqdm_notebook\u001b[0m\u001b[0;34m,\u001b[0m \u001b[0mself\u001b[0m\u001b[0;34m)\u001b[0m\u001b[0;34m.\u001b[0m\u001b[0m__iter__\u001b[0m\u001b[0;34m(\u001b[0m\u001b[0;34m*\u001b[0m\u001b[0margs\u001b[0m\u001b[0;34m,\u001b[0m \u001b[0;34m**\u001b[0m\u001b[0mkwargs\u001b[0m\u001b[0;34m)\u001b[0m\u001b[0;34m:\u001b[0m\u001b[0;34m\u001b[0m\u001b[0;34m\u001b[0m\u001b[0m\n\u001b[0m\u001b[1;32m    218\u001b[0m                 \u001b[0;31m# return super(tqdm...) will not catch exception\u001b[0m\u001b[0;34m\u001b[0m\u001b[0;34m\u001b[0m\u001b[0;34m\u001b[0m\u001b[0m\n\u001b[1;32m    219\u001b[0m                 \u001b[0;32myield\u001b[0m \u001b[0mobj\u001b[0m\u001b[0;34m\u001b[0m\u001b[0;34m\u001b[0m\u001b[0m\n",
      "\u001b[0;32m/usr/local/lib/python3.6/dist-packages/tqdm/std.py\u001b[0m in \u001b[0;36m__iter__\u001b[0;34m(self)\u001b[0m\n\u001b[1;32m   1127\u001b[0m \u001b[0;34m\u001b[0m\u001b[0m\n\u001b[1;32m   1128\u001b[0m         \u001b[0;32mtry\u001b[0m\u001b[0;34m:\u001b[0m\u001b[0;34m\u001b[0m\u001b[0;34m\u001b[0m\u001b[0m\n\u001b[0;32m-> 1129\u001b[0;31m             \u001b[0;32mfor\u001b[0m \u001b[0mobj\u001b[0m \u001b[0;32min\u001b[0m \u001b[0miterable\u001b[0m\u001b[0;34m:\u001b[0m\u001b[0;34m\u001b[0m\u001b[0;34m\u001b[0m\u001b[0m\n\u001b[0m\u001b[1;32m   1130\u001b[0m                 \u001b[0;32myield\u001b[0m \u001b[0mobj\u001b[0m\u001b[0;34m\u001b[0m\u001b[0;34m\u001b[0m\u001b[0m\n\u001b[1;32m   1131\u001b[0m                 \u001b[0;31m# Update and possibly print the progressbar.\u001b[0m\u001b[0;34m\u001b[0m\u001b[0;34m\u001b[0m\u001b[0;34m\u001b[0m\u001b[0m\n",
      "\u001b[0;32m/usr/local/lib/python3.6/dist-packages/torch/utils/data/dataloader.py\u001b[0m in \u001b[0;36m__next__\u001b[0;34m(self)\u001b[0m\n\u001b[1;32m    817\u001b[0m             \u001b[0;32melse\u001b[0m\u001b[0;34m:\u001b[0m\u001b[0;34m\u001b[0m\u001b[0;34m\u001b[0m\u001b[0m\n\u001b[1;32m    818\u001b[0m                 \u001b[0;32mdel\u001b[0m \u001b[0mself\u001b[0m\u001b[0;34m.\u001b[0m\u001b[0m_task_info\u001b[0m\u001b[0;34m[\u001b[0m\u001b[0midx\u001b[0m\u001b[0;34m]\u001b[0m\u001b[0;34m\u001b[0m\u001b[0;34m\u001b[0m\u001b[0m\n\u001b[0;32m--> 819\u001b[0;31m                 \u001b[0;32mreturn\u001b[0m \u001b[0mself\u001b[0m\u001b[0;34m.\u001b[0m\u001b[0m_process_data\u001b[0m\u001b[0;34m(\u001b[0m\u001b[0mdata\u001b[0m\u001b[0;34m)\u001b[0m\u001b[0;34m\u001b[0m\u001b[0;34m\u001b[0m\u001b[0m\n\u001b[0m\u001b[1;32m    820\u001b[0m \u001b[0;34m\u001b[0m\u001b[0m\n\u001b[1;32m    821\u001b[0m     \u001b[0mnext\u001b[0m \u001b[0;34m=\u001b[0m \u001b[0m__next__\u001b[0m  \u001b[0;31m# Python 2 compatibility\u001b[0m\u001b[0;34m\u001b[0m\u001b[0;34m\u001b[0m\u001b[0m\n",
      "\u001b[0;32m/usr/local/lib/python3.6/dist-packages/torch/utils/data/dataloader.py\u001b[0m in \u001b[0;36m_process_data\u001b[0;34m(self, data)\u001b[0m\n\u001b[1;32m    844\u001b[0m         \u001b[0mself\u001b[0m\u001b[0;34m.\u001b[0m\u001b[0m_try_put_index\u001b[0m\u001b[0;34m(\u001b[0m\u001b[0;34m)\u001b[0m\u001b[0;34m\u001b[0m\u001b[0;34m\u001b[0m\u001b[0m\n\u001b[1;32m    845\u001b[0m         \u001b[0;32mif\u001b[0m \u001b[0misinstance\u001b[0m\u001b[0;34m(\u001b[0m\u001b[0mdata\u001b[0m\u001b[0;34m,\u001b[0m \u001b[0mExceptionWrapper\u001b[0m\u001b[0;34m)\u001b[0m\u001b[0;34m:\u001b[0m\u001b[0;34m\u001b[0m\u001b[0;34m\u001b[0m\u001b[0m\n\u001b[0;32m--> 846\u001b[0;31m             \u001b[0mdata\u001b[0m\u001b[0;34m.\u001b[0m\u001b[0mreraise\u001b[0m\u001b[0;34m(\u001b[0m\u001b[0;34m)\u001b[0m\u001b[0;34m\u001b[0m\u001b[0;34m\u001b[0m\u001b[0m\n\u001b[0m\u001b[1;32m    847\u001b[0m         \u001b[0;32mreturn\u001b[0m \u001b[0mdata\u001b[0m\u001b[0;34m\u001b[0m\u001b[0;34m\u001b[0m\u001b[0m\n\u001b[1;32m    848\u001b[0m \u001b[0;34m\u001b[0m\u001b[0m\n",
      "\u001b[0;32m/usr/local/lib/python3.6/dist-packages/torch/_utils.py\u001b[0m in \u001b[0;36mreraise\u001b[0;34m(self)\u001b[0m\n\u001b[1;32m    383\u001b[0m             \u001b[0;31m# (https://bugs.python.org/issue2651), so we work around it.\u001b[0m\u001b[0;34m\u001b[0m\u001b[0;34m\u001b[0m\u001b[0;34m\u001b[0m\u001b[0m\n\u001b[1;32m    384\u001b[0m             \u001b[0mmsg\u001b[0m \u001b[0;34m=\u001b[0m \u001b[0mKeyErrorMessage\u001b[0m\u001b[0;34m(\u001b[0m\u001b[0mmsg\u001b[0m\u001b[0;34m)\u001b[0m\u001b[0;34m\u001b[0m\u001b[0;34m\u001b[0m\u001b[0m\n\u001b[0;32m--> 385\u001b[0;31m         \u001b[0;32mraise\u001b[0m \u001b[0mself\u001b[0m\u001b[0;34m.\u001b[0m\u001b[0mexc_type\u001b[0m\u001b[0;34m(\u001b[0m\u001b[0mmsg\u001b[0m\u001b[0;34m)\u001b[0m\u001b[0;34m\u001b[0m\u001b[0;34m\u001b[0m\u001b[0m\n\u001b[0m",
      "\u001b[0;31mKeyError\u001b[0m: Caught KeyError in DataLoader worker process 0.\nOriginal Traceback (most recent call last):\n  File \"/usr/local/lib/python3.6/dist-packages/torch/utils/data/_utils/worker.py\", line 178, in _worker_loop\n    data = fetcher.fetch(index)\n  File \"/usr/local/lib/python3.6/dist-packages/torch/utils/data/_utils/fetch.py\", line 44, in fetch\n    data = [self.dataset[idx] for idx in possibly_batched_index]\n  File \"/usr/local/lib/python3.6/dist-packages/torch/utils/data/_utils/fetch.py\", line 44, in <listcomp>\n    data = [self.dataset[idx] for idx in possibly_batched_index]\n  File \"/nfs/phd_by_carlos/notebooks/src/DataProcessors.py\", line 493, in __getitem__\n    samples = transform(samples)\n  File \"/nfs/phd_by_carlos/notebooks/src/DataProcessors.py\", line 465, in __call__\n    samples = transform(samples)\n  File \"/nfs/phd_by_carlos/notebooks/src/DataProcessors.py\", line 421, in __call__\n    sample_obj[\"doc\"] = self.get_doc_fn(sample_obj[\"d_id\"])\n  File \"/nfs/phd_by_carlos/notebooks/src/dataset_loaders.py\", line 256, in get_doc\n    return self.collection[d_id]\nKeyError: 'CAR_cce9dc23154a5887bbe92bfff13a4437b8ab2256'\n"
     ]
    }
   ],
   "source": [
    "for batch in tqdm.tqdm(train_dataloader):\n",
    "    print(batch[\"input_ids\"])\n",
    "    break"
   ]
  },
  {
   "cell_type": "code",
   "execution_count": 41,
   "metadata": {},
   "outputs": [
    {
     "data": {
      "text/plain": [
       "'BM25_Ranker'"
      ]
     },
     "execution_count": 41,
     "metadata": {},
     "output_type": "execute_result"
    }
   ],
   "source": [
    "BM25_Ranker(get_query_fn).predict(\"32_4\")"
   ]
  },
  {
   "cell_type": "code",
   "execution_count": 9,
   "metadata": {},
   "outputs": [],
   "source": [
    "def eval_call(model):\n",
    "    print(\"called evaluation\")"
   ]
  },
  {
   "cell_type": "code",
   "execution_count": 10,
   "metadata": {},
   "outputs": [
    {
     "data": {
      "application/vnd.jupyter.widget-view+json": {
       "model_id": "092f26b5e6294db1ba40caadf5a8ba10",
       "version_major": 2,
       "version_minor": 0
      },
      "text/plain": [
       "HBox(children=(FloatProgress(value=0.0, description='Downloading', max=725.0, style=ProgressStyle(description_…"
      ]
     },
     "metadata": {},
     "output_type": "display_data"
    },
    {
     "name": "stdout",
     "output_type": "stream",
     "text": [
      "\n"
     ]
    },
    {
     "data": {
      "application/vnd.jupyter.widget-view+json": {
       "model_id": "7824dd5b58da4de6b83ae31972830d9b",
       "version_major": 2,
       "version_minor": 0
      },
      "text/plain": [
       "HBox(children=(FloatProgress(value=0.0, description='Downloading', max=597257159.0, style=ProgressStyle(descri…"
      ]
     },
     "metadata": {},
     "output_type": "display_data"
    },
    {
     "name": "stdout",
     "output_type": "stream",
     "text": [
      "\n"
     ]
    }
   ],
   "source": [
    "model = Longformer_Reranker()"
   ]
  },
  {
   "cell_type": "code",
   "execution_count": 11,
   "metadata": {},
   "outputs": [],
   "source": [
    "model.eval_callback = eval_call"
   ]
  },
  {
   "cell_type": "code",
   "execution_count": 45,
   "metadata": {},
   "outputs": [
    {
     "ename": "NameError",
     "evalue": "name 'dataloader' is not defined",
     "output_type": "error",
     "traceback": [
      "\u001b[0;31m---------------------------------------------------------------------------\u001b[0m",
      "\u001b[0;31mNameError\u001b[0m                                 Traceback (most recent call last)",
      "\u001b[0;32m<ipython-input-45-928ed1003334>\u001b[0m in \u001b[0;36m<module>\u001b[0;34m\u001b[0m\n\u001b[1;32m      1\u001b[0m \u001b[0mtrainer\u001b[0m \u001b[0;34m=\u001b[0m \u001b[0mTrainer\u001b[0m\u001b[0;34m(\u001b[0m\u001b[0mgpus\u001b[0m\u001b[0;34m=\u001b[0m\u001b[0;34m[\u001b[0m\u001b[0;36m0\u001b[0m\u001b[0;34m]\u001b[0m\u001b[0;34m,\u001b[0m \u001b[0mprofiler\u001b[0m\u001b[0;34m=\u001b[0m\u001b[0;32mTrue\u001b[0m\u001b[0;34m,\u001b[0m \u001b[0mgradient_clip_val\u001b[0m\u001b[0;34m=\u001b[0m\u001b[0;36m0.5\u001b[0m\u001b[0;34m,\u001b[0m \u001b[0mdistributed_backend\u001b[0m\u001b[0;34m=\u001b[0m\u001b[0;34m'dp'\u001b[0m\u001b[0;34m,\u001b[0m \u001b[0mcheck_val_every_n_epoch\u001b[0m\u001b[0;34m=\u001b[0m\u001b[0;36m1\u001b[0m\u001b[0;34m)\u001b[0m\u001b[0;34m\u001b[0m\u001b[0;34m\u001b[0m\u001b[0m\n\u001b[0;32m----> 2\u001b[0;31m \u001b[0mtrainer\u001b[0m\u001b[0;34m.\u001b[0m\u001b[0mfit\u001b[0m\u001b[0;34m(\u001b[0m\u001b[0mmodel\u001b[0m\u001b[0;34m,\u001b[0m \u001b[0mdataloader\u001b[0m\u001b[0;34m)\u001b[0m\u001b[0;34m\u001b[0m\u001b[0;34m\u001b[0m\u001b[0m\n\u001b[0m",
      "\u001b[0;31mNameError\u001b[0m: name 'dataloader' is not defined"
     ]
    }
   ],
   "source": [
    "trainer = Trainer(gpus=[0], profiler=True, gradient_clip_val=0.5, distributed_backend='dp', check_val_every_n_epoch=1)\n",
    "trainer.fit(model, dataloader)"
   ]
  },
  {
   "cell_type": "code",
   "execution_count": 10,
   "metadata": {},
   "outputs": [],
   "source": [
    "dataloader = torch.utils.data.DataLoader(torch.tensor([]), batch_size=1)"
   ]
  },
  {
   "cell_type": "markdown",
   "metadata": {},
   "source": [
    "# Running an experiment on Y2 data"
   ]
  },
  {
   "cell_type": "code",
   "execution_count": 3,
   "metadata": {},
   "outputs": [],
   "source": [
    "CAsT_raw_data_loader = CAsT_RawDataLoader()\n",
    "get_query_fn = CAsT_raw_data_loader.get_query\n",
    "get_doc_fn = CAsT_raw_data_loader.get_doc\n",
    "eval_raw_samples = CAsT_raw_data_loader.get_topics(\"train\")\n",
    "CAsT_q_rels = CAsT_raw_data_loader.q_rels"
   ]
  },
  {
   "cell_type": "code",
   "execution_count": 31,
   "metadata": {},
   "outputs": [
    {
     "data": {
      "application/vnd.jupyter.widget-view+json": {
       "model_id": "acd92f71ee604faca540ba6623329fde",
       "version_major": 2,
       "version_minor": 0
      },
      "text/plain": [
       "HBox(children=(FloatProgress(value=0.0, description='Searching queries', max=133.0, style=ProgressStyle(descri…"
      ]
     },
     "metadata": {},
     "output_type": "display_data"
    },
    {
     "name": "stdout",
     "output_type": "stream",
     "text": [
      "\n"
     ]
    }
   ],
   "source": [
    "eval_samples = Query_Resolver_Transform(get_query_fn, utterance_type=\"manual_rewritten_utterance\")(eval_raw_samples)\n",
    "eval_BM25_results = BM25_Search_Transform(index_dir='datasets/TREC_CAsT/CAsT_collection_with_meta.index', hits=500)(eval_samples)"
   ]
  },
  {
   "cell_type": "code",
   "execution_count": 32,
   "metadata": {},
   "outputs": [
    {
     "name": "stdout",
     "output_type": "stream",
     "text": [
      "BM25 results\n",
      "{'map': 0.19679730164325712, 'recip_rank': 0.4596050256759099, 'ndcg_cut_3': 0.306364841910461, 'set_recall': 0.7744165761018662}\n",
      "RUN File Model\n"
     ]
    },
    {
     "data": {
      "application/vnd.jupyter.widget-view+json": {
       "model_id": "e0df4b7be9bc476b99c618cc8ab31e8b",
       "version_major": 2,
       "version_minor": 0
      },
      "text/plain": [
       "HBox(children=(FloatProgress(value=0.0, description='Searching queries', max=133.0, style=ProgressStyle(descri…"
      ]
     },
     "metadata": {},
     "output_type": "display_data"
    },
    {
     "name": "stdout",
     "output_type": "stream",
     "text": [
      "\n",
      "{'map': 0.22648101607514953, 'recip_rank': 0.48689326704789326, 'ndcg_cut_3': 0.3621256024784965, 'set_recall': 0.5633517089242985}\n",
      "ORACLE results\n",
      "{'map': 0.5633517089242985, 'recip_rank': 0.8345864661654135, 'ndcg_cut_3': 0.7816506828787912, 'set_recall': 0.5633517089242985}\n",
      "BERT+BM25 results\n",
      "cpu\n",
      "<All keys matched successfully>\n",
      "BERT ReRanker initialised on cuda:2. Batch size 256\n"
     ]
    },
    {
     "data": {
      "application/vnd.jupyter.widget-view+json": {
       "model_id": "5d45331ac68b4accb9f01d0038df8d66",
       "version_major": 2,
       "version_minor": 0
      },
      "text/plain": [
       "HBox(children=(FloatProgress(value=0.0, description='Reranking queries', max=133.0, style=ProgressStyle(descri…"
      ]
     },
     "metadata": {},
     "output_type": "display_data"
    },
    {
     "name": "stdout",
     "output_type": "stream",
     "text": [
      "\n",
      "{'map': 0.10678501989112972, 'recip_rank': 0.25388222588499865, 'ndcg_cut_3': 0.14453453816167808, 'set_recall': 0.5633517089242985}\n"
     ]
    }
   ],
   "source": [
    "# experiment\n",
    "expr = Ranking_Experiment(CAsT_q_rels)\n",
    "print(\"BM25 results\")\n",
    "print(expr(eval_BM25_results))\n",
    "\n",
    "print(\"RUN File Model\")\n",
    "eval_run_rerank_results = RUN_File_Search_Transform('saved_models/CAsT_y1_pgbert.run', hits=500)(eval_samples)\n",
    "print(expr(eval_run_rerank_results))\n",
    "\n",
    "print(\"ORACLE results\")\n",
    "eval_oracle_rerank_results = Oracle_ReRanker_Transform(CAsT_q_rels)(eval_BM25_results)\n",
    "for sample in eval_oracle_rerank_results:\n",
    "    sample[\"search_results\"] = sample[\"reranked_results\"]\n",
    "print(expr(eval_oracle_rerank_results))\n",
    "\n",
    "print(\"BERT+BM25 results\")\n",
    "eval_BERT_rerank_results = BERT_ReRanker_Transform(\"saved_models/BERT_reranker_q100k_h100_checkpoints/BERT_ReRanker_MARCO_from_valid_0.38551378521302254.ckpt\", get_doc_fn, device=\"cuda:2\", batch_size=256)(eval_BM25_results)\n",
    "for sample in eval_BERT_rerank_results:\n",
    "    sample[\"search_results\"] = sample[\"reranked_results\"]\n",
    "print(expr(eval_BERT_rerank_results))"
   ]
  },
  {
   "cell_type": "code",
   "execution_count": 9,
   "metadata": {},
   "outputs": [
    {
     "data": {
      "text/plain": [
       "'â\\x80\\x8bâ\\x80\\x8bResidential garage doors from Overhead Door are among the most dependable in the industry, so you can feel good knowing that weâ\\x80\\x99ll be there â\\x80\\x94 day or night, winter or summer. For added peace of mind, our home garage doors have also been proven to be durable and long lasting. The reliability of your garage door will help you stay on schedule in the morning. Its beauty will greet you at the end of a busy workday, opening convenient, comfortable passage to your home. And through the night, the security of your garage door will help you rest assured that your family is safe.'"
      ]
     },
     "execution_count": 9,
     "metadata": {},
     "output_type": "execute_result"
    }
   ],
   "source": [
    "get_doc_fn('MARCO_5593358')"
   ]
  },
  {
   "cell_type": "code",
   "execution_count": 79,
   "metadata": {
    "collapsed": true,
    "jupyter": {
     "outputs_hidden": true
    }
   },
   "outputs": [
    {
     "data": {
      "text/plain": [
       "BertForPassageRanking(\n",
       "  (bert): BertModel(\n",
       "    (embeddings): BertEmbeddings(\n",
       "      (word_embeddings): Embedding(30522, 1024, padding_idx=0)\n",
       "      (position_embeddings): Embedding(512, 1024)\n",
       "      (token_type_embeddings): Embedding(2, 1024)\n",
       "      (LayerNorm): LayerNorm((1024,), eps=1e-12, elementwise_affine=True)\n",
       "      (dropout): Dropout(p=0.1, inplace=False)\n",
       "    )\n",
       "    (encoder): BertEncoder(\n",
       "      (layer): ModuleList(\n",
       "        (0): BertLayer(\n",
       "          (attention): BertAttention(\n",
       "            (self): BertSelfAttention(\n",
       "              (query): Linear(in_features=1024, out_features=1024, bias=True)\n",
       "              (key): Linear(in_features=1024, out_features=1024, bias=True)\n",
       "              (value): Linear(in_features=1024, out_features=1024, bias=True)\n",
       "              (dropout): Dropout(p=0.1, inplace=False)\n",
       "            )\n",
       "            (output): BertSelfOutput(\n",
       "              (dense): Linear(in_features=1024, out_features=1024, bias=True)\n",
       "              (LayerNorm): LayerNorm((1024,), eps=1e-12, elementwise_affine=True)\n",
       "              (dropout): Dropout(p=0.1, inplace=False)\n",
       "            )\n",
       "          )\n",
       "          (intermediate): BertIntermediate(\n",
       "            (dense): Linear(in_features=1024, out_features=4096, bias=True)\n",
       "          )\n",
       "          (output): BertOutput(\n",
       "            (dense): Linear(in_features=4096, out_features=1024, bias=True)\n",
       "            (LayerNorm): LayerNorm((1024,), eps=1e-12, elementwise_affine=True)\n",
       "            (dropout): Dropout(p=0.1, inplace=False)\n",
       "          )\n",
       "        )\n",
       "        (1): BertLayer(\n",
       "          (attention): BertAttention(\n",
       "            (self): BertSelfAttention(\n",
       "              (query): Linear(in_features=1024, out_features=1024, bias=True)\n",
       "              (key): Linear(in_features=1024, out_features=1024, bias=True)\n",
       "              (value): Linear(in_features=1024, out_features=1024, bias=True)\n",
       "              (dropout): Dropout(p=0.1, inplace=False)\n",
       "            )\n",
       "            (output): BertSelfOutput(\n",
       "              (dense): Linear(in_features=1024, out_features=1024, bias=True)\n",
       "              (LayerNorm): LayerNorm((1024,), eps=1e-12, elementwise_affine=True)\n",
       "              (dropout): Dropout(p=0.1, inplace=False)\n",
       "            )\n",
       "          )\n",
       "          (intermediate): BertIntermediate(\n",
       "            (dense): Linear(in_features=1024, out_features=4096, bias=True)\n",
       "          )\n",
       "          (output): BertOutput(\n",
       "            (dense): Linear(in_features=4096, out_features=1024, bias=True)\n",
       "            (LayerNorm): LayerNorm((1024,), eps=1e-12, elementwise_affine=True)\n",
       "            (dropout): Dropout(p=0.1, inplace=False)\n",
       "          )\n",
       "        )\n",
       "        (2): BertLayer(\n",
       "          (attention): BertAttention(\n",
       "            (self): BertSelfAttention(\n",
       "              (query): Linear(in_features=1024, out_features=1024, bias=True)\n",
       "              (key): Linear(in_features=1024, out_features=1024, bias=True)\n",
       "              (value): Linear(in_features=1024, out_features=1024, bias=True)\n",
       "              (dropout): Dropout(p=0.1, inplace=False)\n",
       "            )\n",
       "            (output): BertSelfOutput(\n",
       "              (dense): Linear(in_features=1024, out_features=1024, bias=True)\n",
       "              (LayerNorm): LayerNorm((1024,), eps=1e-12, elementwise_affine=True)\n",
       "              (dropout): Dropout(p=0.1, inplace=False)\n",
       "            )\n",
       "          )\n",
       "          (intermediate): BertIntermediate(\n",
       "            (dense): Linear(in_features=1024, out_features=4096, bias=True)\n",
       "          )\n",
       "          (output): BertOutput(\n",
       "            (dense): Linear(in_features=4096, out_features=1024, bias=True)\n",
       "            (LayerNorm): LayerNorm((1024,), eps=1e-12, elementwise_affine=True)\n",
       "            (dropout): Dropout(p=0.1, inplace=False)\n",
       "          )\n",
       "        )\n",
       "        (3): BertLayer(\n",
       "          (attention): BertAttention(\n",
       "            (self): BertSelfAttention(\n",
       "              (query): Linear(in_features=1024, out_features=1024, bias=True)\n",
       "              (key): Linear(in_features=1024, out_features=1024, bias=True)\n",
       "              (value): Linear(in_features=1024, out_features=1024, bias=True)\n",
       "              (dropout): Dropout(p=0.1, inplace=False)\n",
       "            )\n",
       "            (output): BertSelfOutput(\n",
       "              (dense): Linear(in_features=1024, out_features=1024, bias=True)\n",
       "              (LayerNorm): LayerNorm((1024,), eps=1e-12, elementwise_affine=True)\n",
       "              (dropout): Dropout(p=0.1, inplace=False)\n",
       "            )\n",
       "          )\n",
       "          (intermediate): BertIntermediate(\n",
       "            (dense): Linear(in_features=1024, out_features=4096, bias=True)\n",
       "          )\n",
       "          (output): BertOutput(\n",
       "            (dense): Linear(in_features=4096, out_features=1024, bias=True)\n",
       "            (LayerNorm): LayerNorm((1024,), eps=1e-12, elementwise_affine=True)\n",
       "            (dropout): Dropout(p=0.1, inplace=False)\n",
       "          )\n",
       "        )\n",
       "        (4): BertLayer(\n",
       "          (attention): BertAttention(\n",
       "            (self): BertSelfAttention(\n",
       "              (query): Linear(in_features=1024, out_features=1024, bias=True)\n",
       "              (key): Linear(in_features=1024, out_features=1024, bias=True)\n",
       "              (value): Linear(in_features=1024, out_features=1024, bias=True)\n",
       "              (dropout): Dropout(p=0.1, inplace=False)\n",
       "            )\n",
       "            (output): BertSelfOutput(\n",
       "              (dense): Linear(in_features=1024, out_features=1024, bias=True)\n",
       "              (LayerNorm): LayerNorm((1024,), eps=1e-12, elementwise_affine=True)\n",
       "              (dropout): Dropout(p=0.1, inplace=False)\n",
       "            )\n",
       "          )\n",
       "          (intermediate): BertIntermediate(\n",
       "            (dense): Linear(in_features=1024, out_features=4096, bias=True)\n",
       "          )\n",
       "          (output): BertOutput(\n",
       "            (dense): Linear(in_features=4096, out_features=1024, bias=True)\n",
       "            (LayerNorm): LayerNorm((1024,), eps=1e-12, elementwise_affine=True)\n",
       "            (dropout): Dropout(p=0.1, inplace=False)\n",
       "          )\n",
       "        )\n",
       "        (5): BertLayer(\n",
       "          (attention): BertAttention(\n",
       "            (self): BertSelfAttention(\n",
       "              (query): Linear(in_features=1024, out_features=1024, bias=True)\n",
       "              (key): Linear(in_features=1024, out_features=1024, bias=True)\n",
       "              (value): Linear(in_features=1024, out_features=1024, bias=True)\n",
       "              (dropout): Dropout(p=0.1, inplace=False)\n",
       "            )\n",
       "            (output): BertSelfOutput(\n",
       "              (dense): Linear(in_features=1024, out_features=1024, bias=True)\n",
       "              (LayerNorm): LayerNorm((1024,), eps=1e-12, elementwise_affine=True)\n",
       "              (dropout): Dropout(p=0.1, inplace=False)\n",
       "            )\n",
       "          )\n",
       "          (intermediate): BertIntermediate(\n",
       "            (dense): Linear(in_features=1024, out_features=4096, bias=True)\n",
       "          )\n",
       "          (output): BertOutput(\n",
       "            (dense): Linear(in_features=4096, out_features=1024, bias=True)\n",
       "            (LayerNorm): LayerNorm((1024,), eps=1e-12, elementwise_affine=True)\n",
       "            (dropout): Dropout(p=0.1, inplace=False)\n",
       "          )\n",
       "        )\n",
       "        (6): BertLayer(\n",
       "          (attention): BertAttention(\n",
       "            (self): BertSelfAttention(\n",
       "              (query): Linear(in_features=1024, out_features=1024, bias=True)\n",
       "              (key): Linear(in_features=1024, out_features=1024, bias=True)\n",
       "              (value): Linear(in_features=1024, out_features=1024, bias=True)\n",
       "              (dropout): Dropout(p=0.1, inplace=False)\n",
       "            )\n",
       "            (output): BertSelfOutput(\n",
       "              (dense): Linear(in_features=1024, out_features=1024, bias=True)\n",
       "              (LayerNorm): LayerNorm((1024,), eps=1e-12, elementwise_affine=True)\n",
       "              (dropout): Dropout(p=0.1, inplace=False)\n",
       "            )\n",
       "          )\n",
       "          (intermediate): BertIntermediate(\n",
       "            (dense): Linear(in_features=1024, out_features=4096, bias=True)\n",
       "          )\n",
       "          (output): BertOutput(\n",
       "            (dense): Linear(in_features=4096, out_features=1024, bias=True)\n",
       "            (LayerNorm): LayerNorm((1024,), eps=1e-12, elementwise_affine=True)\n",
       "            (dropout): Dropout(p=0.1, inplace=False)\n",
       "          )\n",
       "        )\n",
       "        (7): BertLayer(\n",
       "          (attention): BertAttention(\n",
       "            (self): BertSelfAttention(\n",
       "              (query): Linear(in_features=1024, out_features=1024, bias=True)\n",
       "              (key): Linear(in_features=1024, out_features=1024, bias=True)\n",
       "              (value): Linear(in_features=1024, out_features=1024, bias=True)\n",
       "              (dropout): Dropout(p=0.1, inplace=False)\n",
       "            )\n",
       "            (output): BertSelfOutput(\n",
       "              (dense): Linear(in_features=1024, out_features=1024, bias=True)\n",
       "              (LayerNorm): LayerNorm((1024,), eps=1e-12, elementwise_affine=True)\n",
       "              (dropout): Dropout(p=0.1, inplace=False)\n",
       "            )\n",
       "          )\n",
       "          (intermediate): BertIntermediate(\n",
       "            (dense): Linear(in_features=1024, out_features=4096, bias=True)\n",
       "          )\n",
       "          (output): BertOutput(\n",
       "            (dense): Linear(in_features=4096, out_features=1024, bias=True)\n",
       "            (LayerNorm): LayerNorm((1024,), eps=1e-12, elementwise_affine=True)\n",
       "            (dropout): Dropout(p=0.1, inplace=False)\n",
       "          )\n",
       "        )\n",
       "        (8): BertLayer(\n",
       "          (attention): BertAttention(\n",
       "            (self): BertSelfAttention(\n",
       "              (query): Linear(in_features=1024, out_features=1024, bias=True)\n",
       "              (key): Linear(in_features=1024, out_features=1024, bias=True)\n",
       "              (value): Linear(in_features=1024, out_features=1024, bias=True)\n",
       "              (dropout): Dropout(p=0.1, inplace=False)\n",
       "            )\n",
       "            (output): BertSelfOutput(\n",
       "              (dense): Linear(in_features=1024, out_features=1024, bias=True)\n",
       "              (LayerNorm): LayerNorm((1024,), eps=1e-12, elementwise_affine=True)\n",
       "              (dropout): Dropout(p=0.1, inplace=False)\n",
       "            )\n",
       "          )\n",
       "          (intermediate): BertIntermediate(\n",
       "            (dense): Linear(in_features=1024, out_features=4096, bias=True)\n",
       "          )\n",
       "          (output): BertOutput(\n",
       "            (dense): Linear(in_features=4096, out_features=1024, bias=True)\n",
       "            (LayerNorm): LayerNorm((1024,), eps=1e-12, elementwise_affine=True)\n",
       "            (dropout): Dropout(p=0.1, inplace=False)\n",
       "          )\n",
       "        )\n",
       "        (9): BertLayer(\n",
       "          (attention): BertAttention(\n",
       "            (self): BertSelfAttention(\n",
       "              (query): Linear(in_features=1024, out_features=1024, bias=True)\n",
       "              (key): Linear(in_features=1024, out_features=1024, bias=True)\n",
       "              (value): Linear(in_features=1024, out_features=1024, bias=True)\n",
       "              (dropout): Dropout(p=0.1, inplace=False)\n",
       "            )\n",
       "            (output): BertSelfOutput(\n",
       "              (dense): Linear(in_features=1024, out_features=1024, bias=True)\n",
       "              (LayerNorm): LayerNorm((1024,), eps=1e-12, elementwise_affine=True)\n",
       "              (dropout): Dropout(p=0.1, inplace=False)\n",
       "            )\n",
       "          )\n",
       "          (intermediate): BertIntermediate(\n",
       "            (dense): Linear(in_features=1024, out_features=4096, bias=True)\n",
       "          )\n",
       "          (output): BertOutput(\n",
       "            (dense): Linear(in_features=4096, out_features=1024, bias=True)\n",
       "            (LayerNorm): LayerNorm((1024,), eps=1e-12, elementwise_affine=True)\n",
       "            (dropout): Dropout(p=0.1, inplace=False)\n",
       "          )\n",
       "        )\n",
       "        (10): BertLayer(\n",
       "          (attention): BertAttention(\n",
       "            (self): BertSelfAttention(\n",
       "              (query): Linear(in_features=1024, out_features=1024, bias=True)\n",
       "              (key): Linear(in_features=1024, out_features=1024, bias=True)\n",
       "              (value): Linear(in_features=1024, out_features=1024, bias=True)\n",
       "              (dropout): Dropout(p=0.1, inplace=False)\n",
       "            )\n",
       "            (output): BertSelfOutput(\n",
       "              (dense): Linear(in_features=1024, out_features=1024, bias=True)\n",
       "              (LayerNorm): LayerNorm((1024,), eps=1e-12, elementwise_affine=True)\n",
       "              (dropout): Dropout(p=0.1, inplace=False)\n",
       "            )\n",
       "          )\n",
       "          (intermediate): BertIntermediate(\n",
       "            (dense): Linear(in_features=1024, out_features=4096, bias=True)\n",
       "          )\n",
       "          (output): BertOutput(\n",
       "            (dense): Linear(in_features=4096, out_features=1024, bias=True)\n",
       "            (LayerNorm): LayerNorm((1024,), eps=1e-12, elementwise_affine=True)\n",
       "            (dropout): Dropout(p=0.1, inplace=False)\n",
       "          )\n",
       "        )\n",
       "        (11): BertLayer(\n",
       "          (attention): BertAttention(\n",
       "            (self): BertSelfAttention(\n",
       "              (query): Linear(in_features=1024, out_features=1024, bias=True)\n",
       "              (key): Linear(in_features=1024, out_features=1024, bias=True)\n",
       "              (value): Linear(in_features=1024, out_features=1024, bias=True)\n",
       "              (dropout): Dropout(p=0.1, inplace=False)\n",
       "            )\n",
       "            (output): BertSelfOutput(\n",
       "              (dense): Linear(in_features=1024, out_features=1024, bias=True)\n",
       "              (LayerNorm): LayerNorm((1024,), eps=1e-12, elementwise_affine=True)\n",
       "              (dropout): Dropout(p=0.1, inplace=False)\n",
       "            )\n",
       "          )\n",
       "          (intermediate): BertIntermediate(\n",
       "            (dense): Linear(in_features=1024, out_features=4096, bias=True)\n",
       "          )\n",
       "          (output): BertOutput(\n",
       "            (dense): Linear(in_features=4096, out_features=1024, bias=True)\n",
       "            (LayerNorm): LayerNorm((1024,), eps=1e-12, elementwise_affine=True)\n",
       "            (dropout): Dropout(p=0.1, inplace=False)\n",
       "          )\n",
       "        )\n",
       "        (12): BertLayer(\n",
       "          (attention): BertAttention(\n",
       "            (self): BertSelfAttention(\n",
       "              (query): Linear(in_features=1024, out_features=1024, bias=True)\n",
       "              (key): Linear(in_features=1024, out_features=1024, bias=True)\n",
       "              (value): Linear(in_features=1024, out_features=1024, bias=True)\n",
       "              (dropout): Dropout(p=0.1, inplace=False)\n",
       "            )\n",
       "            (output): BertSelfOutput(\n",
       "              (dense): Linear(in_features=1024, out_features=1024, bias=True)\n",
       "              (LayerNorm): LayerNorm((1024,), eps=1e-12, elementwise_affine=True)\n",
       "              (dropout): Dropout(p=0.1, inplace=False)\n",
       "            )\n",
       "          )\n",
       "          (intermediate): BertIntermediate(\n",
       "            (dense): Linear(in_features=1024, out_features=4096, bias=True)\n",
       "          )\n",
       "          (output): BertOutput(\n",
       "            (dense): Linear(in_features=4096, out_features=1024, bias=True)\n",
       "            (LayerNorm): LayerNorm((1024,), eps=1e-12, elementwise_affine=True)\n",
       "            (dropout): Dropout(p=0.1, inplace=False)\n",
       "          )\n",
       "        )\n",
       "        (13): BertLayer(\n",
       "          (attention): BertAttention(\n",
       "            (self): BertSelfAttention(\n",
       "              (query): Linear(in_features=1024, out_features=1024, bias=True)\n",
       "              (key): Linear(in_features=1024, out_features=1024, bias=True)\n",
       "              (value): Linear(in_features=1024, out_features=1024, bias=True)\n",
       "              (dropout): Dropout(p=0.1, inplace=False)\n",
       "            )\n",
       "            (output): BertSelfOutput(\n",
       "              (dense): Linear(in_features=1024, out_features=1024, bias=True)\n",
       "              (LayerNorm): LayerNorm((1024,), eps=1e-12, elementwise_affine=True)\n",
       "              (dropout): Dropout(p=0.1, inplace=False)\n",
       "            )\n",
       "          )\n",
       "          (intermediate): BertIntermediate(\n",
       "            (dense): Linear(in_features=1024, out_features=4096, bias=True)\n",
       "          )\n",
       "          (output): BertOutput(\n",
       "            (dense): Linear(in_features=4096, out_features=1024, bias=True)\n",
       "            (LayerNorm): LayerNorm((1024,), eps=1e-12, elementwise_affine=True)\n",
       "            (dropout): Dropout(p=0.1, inplace=False)\n",
       "          )\n",
       "        )\n",
       "        (14): BertLayer(\n",
       "          (attention): BertAttention(\n",
       "            (self): BertSelfAttention(\n",
       "              (query): Linear(in_features=1024, out_features=1024, bias=True)\n",
       "              (key): Linear(in_features=1024, out_features=1024, bias=True)\n",
       "              (value): Linear(in_features=1024, out_features=1024, bias=True)\n",
       "              (dropout): Dropout(p=0.1, inplace=False)\n",
       "            )\n",
       "            (output): BertSelfOutput(\n",
       "              (dense): Linear(in_features=1024, out_features=1024, bias=True)\n",
       "              (LayerNorm): LayerNorm((1024,), eps=1e-12, elementwise_affine=True)\n",
       "              (dropout): Dropout(p=0.1, inplace=False)\n",
       "            )\n",
       "          )\n",
       "          (intermediate): BertIntermediate(\n",
       "            (dense): Linear(in_features=1024, out_features=4096, bias=True)\n",
       "          )\n",
       "          (output): BertOutput(\n",
       "            (dense): Linear(in_features=4096, out_features=1024, bias=True)\n",
       "            (LayerNorm): LayerNorm((1024,), eps=1e-12, elementwise_affine=True)\n",
       "            (dropout): Dropout(p=0.1, inplace=False)\n",
       "          )\n",
       "        )\n",
       "        (15): BertLayer(\n",
       "          (attention): BertAttention(\n",
       "            (self): BertSelfAttention(\n",
       "              (query): Linear(in_features=1024, out_features=1024, bias=True)\n",
       "              (key): Linear(in_features=1024, out_features=1024, bias=True)\n",
       "              (value): Linear(in_features=1024, out_features=1024, bias=True)\n",
       "              (dropout): Dropout(p=0.1, inplace=False)\n",
       "            )\n",
       "            (output): BertSelfOutput(\n",
       "              (dense): Linear(in_features=1024, out_features=1024, bias=True)\n",
       "              (LayerNorm): LayerNorm((1024,), eps=1e-12, elementwise_affine=True)\n",
       "              (dropout): Dropout(p=0.1, inplace=False)\n",
       "            )\n",
       "          )\n",
       "          (intermediate): BertIntermediate(\n",
       "            (dense): Linear(in_features=1024, out_features=4096, bias=True)\n",
       "          )\n",
       "          (output): BertOutput(\n",
       "            (dense): Linear(in_features=4096, out_features=1024, bias=True)\n",
       "            (LayerNorm): LayerNorm((1024,), eps=1e-12, elementwise_affine=True)\n",
       "            (dropout): Dropout(p=0.1, inplace=False)\n",
       "          )\n",
       "        )\n",
       "        (16): BertLayer(\n",
       "          (attention): BertAttention(\n",
       "            (self): BertSelfAttention(\n",
       "              (query): Linear(in_features=1024, out_features=1024, bias=True)\n",
       "              (key): Linear(in_features=1024, out_features=1024, bias=True)\n",
       "              (value): Linear(in_features=1024, out_features=1024, bias=True)\n",
       "              (dropout): Dropout(p=0.1, inplace=False)\n",
       "            )\n",
       "            (output): BertSelfOutput(\n",
       "              (dense): Linear(in_features=1024, out_features=1024, bias=True)\n",
       "              (LayerNorm): LayerNorm((1024,), eps=1e-12, elementwise_affine=True)\n",
       "              (dropout): Dropout(p=0.1, inplace=False)\n",
       "            )\n",
       "          )\n",
       "          (intermediate): BertIntermediate(\n",
       "            (dense): Linear(in_features=1024, out_features=4096, bias=True)\n",
       "          )\n",
       "          (output): BertOutput(\n",
       "            (dense): Linear(in_features=4096, out_features=1024, bias=True)\n",
       "            (LayerNorm): LayerNorm((1024,), eps=1e-12, elementwise_affine=True)\n",
       "            (dropout): Dropout(p=0.1, inplace=False)\n",
       "          )\n",
       "        )\n",
       "        (17): BertLayer(\n",
       "          (attention): BertAttention(\n",
       "            (self): BertSelfAttention(\n",
       "              (query): Linear(in_features=1024, out_features=1024, bias=True)\n",
       "              (key): Linear(in_features=1024, out_features=1024, bias=True)\n",
       "              (value): Linear(in_features=1024, out_features=1024, bias=True)\n",
       "              (dropout): Dropout(p=0.1, inplace=False)\n",
       "            )\n",
       "            (output): BertSelfOutput(\n",
       "              (dense): Linear(in_features=1024, out_features=1024, bias=True)\n",
       "              (LayerNorm): LayerNorm((1024,), eps=1e-12, elementwise_affine=True)\n",
       "              (dropout): Dropout(p=0.1, inplace=False)\n",
       "            )\n",
       "          )\n",
       "          (intermediate): BertIntermediate(\n",
       "            (dense): Linear(in_features=1024, out_features=4096, bias=True)\n",
       "          )\n",
       "          (output): BertOutput(\n",
       "            (dense): Linear(in_features=4096, out_features=1024, bias=True)\n",
       "            (LayerNorm): LayerNorm((1024,), eps=1e-12, elementwise_affine=True)\n",
       "            (dropout): Dropout(p=0.1, inplace=False)\n",
       "          )\n",
       "        )\n",
       "        (18): BertLayer(\n",
       "          (attention): BertAttention(\n",
       "            (self): BertSelfAttention(\n",
       "              (query): Linear(in_features=1024, out_features=1024, bias=True)\n",
       "              (key): Linear(in_features=1024, out_features=1024, bias=True)\n",
       "              (value): Linear(in_features=1024, out_features=1024, bias=True)\n",
       "              (dropout): Dropout(p=0.1, inplace=False)\n",
       "            )\n",
       "            (output): BertSelfOutput(\n",
       "              (dense): Linear(in_features=1024, out_features=1024, bias=True)\n",
       "              (LayerNorm): LayerNorm((1024,), eps=1e-12, elementwise_affine=True)\n",
       "              (dropout): Dropout(p=0.1, inplace=False)\n",
       "            )\n",
       "          )\n",
       "          (intermediate): BertIntermediate(\n",
       "            (dense): Linear(in_features=1024, out_features=4096, bias=True)\n",
       "          )\n",
       "          (output): BertOutput(\n",
       "            (dense): Linear(in_features=4096, out_features=1024, bias=True)\n",
       "            (LayerNorm): LayerNorm((1024,), eps=1e-12, elementwise_affine=True)\n",
       "            (dropout): Dropout(p=0.1, inplace=False)\n",
       "          )\n",
       "        )\n",
       "        (19): BertLayer(\n",
       "          (attention): BertAttention(\n",
       "            (self): BertSelfAttention(\n",
       "              (query): Linear(in_features=1024, out_features=1024, bias=True)\n",
       "              (key): Linear(in_features=1024, out_features=1024, bias=True)\n",
       "              (value): Linear(in_features=1024, out_features=1024, bias=True)\n",
       "              (dropout): Dropout(p=0.1, inplace=False)\n",
       "            )\n",
       "            (output): BertSelfOutput(\n",
       "              (dense): Linear(in_features=1024, out_features=1024, bias=True)\n",
       "              (LayerNorm): LayerNorm((1024,), eps=1e-12, elementwise_affine=True)\n",
       "              (dropout): Dropout(p=0.1, inplace=False)\n",
       "            )\n",
       "          )\n",
       "          (intermediate): BertIntermediate(\n",
       "            (dense): Linear(in_features=1024, out_features=4096, bias=True)\n",
       "          )\n",
       "          (output): BertOutput(\n",
       "            (dense): Linear(in_features=4096, out_features=1024, bias=True)\n",
       "            (LayerNorm): LayerNorm((1024,), eps=1e-12, elementwise_affine=True)\n",
       "            (dropout): Dropout(p=0.1, inplace=False)\n",
       "          )\n",
       "        )\n",
       "        (20): BertLayer(\n",
       "          (attention): BertAttention(\n",
       "            (self): BertSelfAttention(\n",
       "              (query): Linear(in_features=1024, out_features=1024, bias=True)\n",
       "              (key): Linear(in_features=1024, out_features=1024, bias=True)\n",
       "              (value): Linear(in_features=1024, out_features=1024, bias=True)\n",
       "              (dropout): Dropout(p=0.1, inplace=False)\n",
       "            )\n",
       "            (output): BertSelfOutput(\n",
       "              (dense): Linear(in_features=1024, out_features=1024, bias=True)\n",
       "              (LayerNorm): LayerNorm((1024,), eps=1e-12, elementwise_affine=True)\n",
       "              (dropout): Dropout(p=0.1, inplace=False)\n",
       "            )\n",
       "          )\n",
       "          (intermediate): BertIntermediate(\n",
       "            (dense): Linear(in_features=1024, out_features=4096, bias=True)\n",
       "          )\n",
       "          (output): BertOutput(\n",
       "            (dense): Linear(in_features=4096, out_features=1024, bias=True)\n",
       "            (LayerNorm): LayerNorm((1024,), eps=1e-12, elementwise_affine=True)\n",
       "            (dropout): Dropout(p=0.1, inplace=False)\n",
       "          )\n",
       "        )\n",
       "        (21): BertLayer(\n",
       "          (attention): BertAttention(\n",
       "            (self): BertSelfAttention(\n",
       "              (query): Linear(in_features=1024, out_features=1024, bias=True)\n",
       "              (key): Linear(in_features=1024, out_features=1024, bias=True)\n",
       "              (value): Linear(in_features=1024, out_features=1024, bias=True)\n",
       "              (dropout): Dropout(p=0.1, inplace=False)\n",
       "            )\n",
       "            (output): BertSelfOutput(\n",
       "              (dense): Linear(in_features=1024, out_features=1024, bias=True)\n",
       "              (LayerNorm): LayerNorm((1024,), eps=1e-12, elementwise_affine=True)\n",
       "              (dropout): Dropout(p=0.1, inplace=False)\n",
       "            )\n",
       "          )\n",
       "          (intermediate): BertIntermediate(\n",
       "            (dense): Linear(in_features=1024, out_features=4096, bias=True)\n",
       "          )\n",
       "          (output): BertOutput(\n",
       "            (dense): Linear(in_features=4096, out_features=1024, bias=True)\n",
       "            (LayerNorm): LayerNorm((1024,), eps=1e-12, elementwise_affine=True)\n",
       "            (dropout): Dropout(p=0.1, inplace=False)\n",
       "          )\n",
       "        )\n",
       "        (22): BertLayer(\n",
       "          (attention): BertAttention(\n",
       "            (self): BertSelfAttention(\n",
       "              (query): Linear(in_features=1024, out_features=1024, bias=True)\n",
       "              (key): Linear(in_features=1024, out_features=1024, bias=True)\n",
       "              (value): Linear(in_features=1024, out_features=1024, bias=True)\n",
       "              (dropout): Dropout(p=0.1, inplace=False)\n",
       "            )\n",
       "            (output): BertSelfOutput(\n",
       "              (dense): Linear(in_features=1024, out_features=1024, bias=True)\n",
       "              (LayerNorm): LayerNorm((1024,), eps=1e-12, elementwise_affine=True)\n",
       "              (dropout): Dropout(p=0.1, inplace=False)\n",
       "            )\n",
       "          )\n",
       "          (intermediate): BertIntermediate(\n",
       "            (dense): Linear(in_features=1024, out_features=4096, bias=True)\n",
       "          )\n",
       "          (output): BertOutput(\n",
       "            (dense): Linear(in_features=4096, out_features=1024, bias=True)\n",
       "            (LayerNorm): LayerNorm((1024,), eps=1e-12, elementwise_affine=True)\n",
       "            (dropout): Dropout(p=0.1, inplace=False)\n",
       "          )\n",
       "        )\n",
       "        (23): BertLayer(\n",
       "          (attention): BertAttention(\n",
       "            (self): BertSelfAttention(\n",
       "              (query): Linear(in_features=1024, out_features=1024, bias=True)\n",
       "              (key): Linear(in_features=1024, out_features=1024, bias=True)\n",
       "              (value): Linear(in_features=1024, out_features=1024, bias=True)\n",
       "              (dropout): Dropout(p=0.1, inplace=False)\n",
       "            )\n",
       "            (output): BertSelfOutput(\n",
       "              (dense): Linear(in_features=1024, out_features=1024, bias=True)\n",
       "              (LayerNorm): LayerNorm((1024,), eps=1e-12, elementwise_affine=True)\n",
       "              (dropout): Dropout(p=0.1, inplace=False)\n",
       "            )\n",
       "          )\n",
       "          (intermediate): BertIntermediate(\n",
       "            (dense): Linear(in_features=1024, out_features=4096, bias=True)\n",
       "          )\n",
       "          (output): BertOutput(\n",
       "            (dense): Linear(in_features=4096, out_features=1024, bias=True)\n",
       "            (LayerNorm): LayerNorm((1024,), eps=1e-12, elementwise_affine=True)\n",
       "            (dropout): Dropout(p=0.1, inplace=False)\n",
       "          )\n",
       "        )\n",
       "      )\n",
       "    )\n",
       "    (pooler): BertPooler(\n",
       "      (dense): Linear(in_features=1024, out_features=1024, bias=True)\n",
       "      (activation): Tanh()\n",
       "    )\n",
       "  )\n",
       "  (dropout): Dropout(p=0.1, inplace=False)\n",
       "  (classifier): Linear(in_features=1024, out_features=2, bias=True)\n",
       ")"
      ]
     },
     "execution_count": 79,
     "metadata": {},
     "output_type": "execute_result"
    }
   ],
   "source": [
    "class BertForPassageRanking(BertForSequenceClassification):\n",
    "    def __init__(self, config):\n",
    "        super().__init__(config)\n",
    "        self.weight = torch.autograd.Variable(torch.ones(2, config.hidden_size),\n",
    "                                              requires_grad=True)\n",
    "        self.bias = torch.autograd.Variable(torch.ones(2), requires_grad=True)\n",
    "\n",
    "bert_ranking = BertForPassageRanking.from_pretrained(\"saved_models/duoBERT/\",\n",
    "                                                     from_tf=True)\n",
    "type_embed_weight = bert_ranking.bert.embeddings.token_type_embeddings.weight.data\n",
    "bert_ranking.bert.embeddings.token_type_embeddings.weight.data = torch.cat((type_embed_weight, torch.zeros(1,1024)))\n",
    "bert_ranking.eval()\n",
    "bert_ranking.cuda()\n",
    "\"\""
   ]
  },
  {
   "cell_type": "code",
   "execution_count": 45,
   "metadata": {},
   "outputs": [],
   "source": [
    "tokenizer = BertTokenizer(\"saved_models/monoBERT/vocab.txt\")"
   ]
  },
  {
   "cell_type": "code",
   "execution_count": 61,
   "metadata": {},
   "outputs": [
    {
     "data": {
      "text/plain": [
       "{'input_ids': [101, 1037, 102, 1038, 102], 'token_type_ids': [0, 0, 0, 1, 1], 'attention_mask': [1, 1, 1, 1, 1]}"
      ]
     },
     "execution_count": 61,
     "metadata": {},
     "output_type": "execute_result"
    }
   ],
   "source": [
    "tokenizer(text=\"a\", text_pair='b', is_pretokenized=False,return_token_type_ids=True)"
   ]
  },
  {
   "cell_type": "code",
   "execution_count": 91,
   "metadata": {},
   "outputs": [
    {
     "name": "stdout",
     "output_type": "stream",
     "text": [
      "Input length=torch.Size([1, 272])\n"
     ]
    }
   ],
   "source": [
    "query = 'how can I unfollow polaris 400 emails'\n",
    "bad_passage = 'Best Answer: Plastics are used in wide range of things. So it is produced in a very huge amount and its convenience is undeniable. Recycling of plastic is very important because it is made from the oil which will cause the regular depletion of this limited resource.With the recycling of plastic we can save oil and can use it for longer time. Moreover recycling do not cause harm to the quality of plastics.est Answer: Plastics are used in wide range of things. So it is produced in a very huge amount and its convenience is undeniable. Recycling of plastic is very important because it is made from the oil which will cause the regular depletion of this limited resource.'\n",
    "good_passage= \"polaris 400 starter. Follow polaris 400 starter to get e-mail alerts and updates on your eBay Feed. Unfollow polaris 400 starter to stop getting updates on your eBay Feed.Yay! You're now following polaris 400 starter in your eBay Feed.ollow polaris 400 starter to get e-mail alerts and updates on your eBay Feed. Unfollow polaris 400 starter to stop getting updates on your eBay Feed. Yay! You're now following polaris 400 starter in your eBay Feed.\"\n",
    "\n",
    "def custom_numericalize(query, docA, docB):\n",
    "    query_ids = [tokenizer.cls_token_id] + tokenizer.encode(query, add_special_tokens=False) + [tokenizer.sep_token_id]\n",
    "    query_token_type_ids = [0]*len(query_ids)\n",
    "\n",
    "    docA_ids = tokenizer.encode(docA, add_special_tokens=False) + [tokenizer.sep_token_id]\n",
    "    docA_token_type_ids = [1]*len(docA_ids)\n",
    "\n",
    "    docB_ids = tokenizer.encode(docB, add_special_tokens=False) + [tokenizer.sep_token_id]\n",
    "    docB_token_type_ids = [2]*len(docB_ids)\n",
    "\n",
    "    input_ids = torch.tensor(query_ids+docA_ids+docB_ids).unsqueeze(0)\n",
    "    input_type_ids = torch.tensor(query_token_type_ids+docA_token_type_ids+docB_token_type_ids).unsqueeze(0)\n",
    "    return input_ids, input_type_ids\n",
    "\n",
    "print(f\"Input length={input_ids.shape}\")"
   ]
  },
  {
   "cell_type": "code",
   "execution_count": 71,
   "metadata": {},
   "outputs": [
    {
     "data": {
      "text/plain": [
       "(tensor([[-0.0861,  0.6057]], grad_fn=<AddmmBackward>),)"
      ]
     },
     "execution_count": 71,
     "metadata": {},
     "output_type": "execute_result"
    }
   ],
   "source": [
    "outputs = bert_ranking(input_ids, token_type_ids=input_type_ids)\n",
    "outputs"
   ]
  },
  {
   "cell_type": "code",
   "execution_count": 75,
   "metadata": {},
   "outputs": [
    {
     "data": {
      "text/plain": [
       "(tensor([[ 0.2233, -0.7396]], grad_fn=<AddmmBackward>),)"
      ]
     },
     "execution_count": 75,
     "metadata": {},
     "output_type": "execute_result"
    }
   ],
   "source": [
    "outputs = bert_ranking(input_ids, token_type_ids=input_type_ids)\n",
    "outputs"
   ]
  },
  {
   "cell_type": "code",
   "execution_count": 92,
   "metadata": {},
   "outputs": [
    {
     "data": {
      "text/plain": [
       "(tensor([[-0.2688,  0.3415]], device='cuda:0', grad_fn=<AddmmBackward>),)"
      ]
     },
     "execution_count": 92,
     "metadata": {},
     "output_type": "execute_result"
    }
   ],
   "source": [
    "input_ids, input_type_ids = custom_numericalize(query, good_passage, bad_passage)\n",
    "outputs = bert_ranking(input_ids.cuda(), token_type_ids=input_type_ids.cuda())\n",
    "outputs"
   ]
  },
  {
   "cell_type": "code",
   "execution_count": 93,
   "metadata": {},
   "outputs": [
    {
     "data": {
      "text/plain": [
       "(tensor([[ 0.5154, -0.5022]], device='cuda:0', grad_fn=<AddmmBackward>),)"
      ]
     },
     "execution_count": 93,
     "metadata": {},
     "output_type": "execute_result"
    }
   ],
   "source": [
    "input_ids, input_type_ids = custom_numericalize(query, bad_passage, good_passage)\n",
    "outputs = bert_ranking(input_ids.cuda(), token_type_ids=input_type_ids.cuda())\n",
    "outputs"
   ]
  },
  {
   "cell_type": "code",
   "execution_count": 47,
   "metadata": {},
   "outputs": [
    {
     "data": {
      "text/plain": [
       "tensor([[  101,  1037,  1031, 19802,  1033,  1038,   102]])"
      ]
     },
     "execution_count": 47,
     "metadata": {},
     "output_type": "execute_result"
    }
   ],
   "source": [
    "input_ids = torch.tensor(tokenizer.encode(\"a [SEP] b\")).unsqueeze(0)\n",
    "input_ids"
   ]
  },
  {
   "cell_type": "code",
   "execution_count": 65,
   "metadata": {},
   "outputs": [
    {
     "data": {
      "text/plain": [
       "'why is it important to recycle plastic bags'"
      ]
     },
     "execution_count": 65,
     "metadata": {},
     "output_type": "execute_result"
    }
   ],
   "source": [
    "tokenizer.decode(query_ids)"
   ]
  },
  {
   "cell_type": "code",
   "execution_count": 37,
   "metadata": {},
   "outputs": [
    {
     "name": "stdout",
     "output_type": "stream",
     "text": [
      "(tensor([[ 0.0415, -0.0227]]),)\n",
      "(tensor([[-0.9739,  0.0645]]),)\n"
     ]
    }
   ],
   "source": [
    "dummy_query = [\n",
    "    'why is it important to recycle plastic bags',\n",
    "    'why is it important to recycle plastic bags'\n",
    "]\n",
    "\n",
    "dummy_passage = [\n",
    "    'Best Answer: Plastics are used in wide range of things. So it is produced in a very huge amount and its convenience is undeniable. Recycling of plastic is very important because it is made from the oil which will cause the regular depletion of this limited resource.With the recycling of plastic we can save oil and can use it for longer time. Moreover recycling do not cause harm to the quality of plastics.est Answer: Plastics are used in wide range of things. So it is produced in a very huge amount and its convenience is undeniable. Recycling of plastic is very important because it is made from the oil which will cause the regular depletion of this limited resource.',\n",
    "    \"polaris 400 starter. Follow polaris 400 starter to get e-mail alerts and updates on your eBay Feed. Unfollow polaris 400 starter to stop getting updates on your eBay Feed.Yay! You're now following polaris 400 starter in your eBay Feed.ollow polaris 400 starter to get e-mail alerts and updates on your eBay Feed. Unfollow polaris 400 starter to stop getting updates on your eBay Feed. Yay! You're now following polaris 400 starter in your eBay Feed.\"\n",
    "]\n",
    "bert_ranking.eval()\n",
    "with torch.no_grad():\n",
    "    for idx in range(len(dummy_query)):\n",
    "        input_ids = torch.tensor(tokenizer.encode(text=dummy_query[idx], \\\n",
    "            text_pair=dummy_passage[idx], add_special_tokens=True)).unsqueeze(0)\n",
    "        outputs = bert_ranking(input_ids)\n",
    "        print(outputs)"
   ]
  },
  {
   "cell_type": "code",
   "execution_count": 10,
   "metadata": {},
   "outputs": [],
   "source": [
    "import tensorflow as tf"
   ]
  },
  {
   "cell_type": "code",
   "execution_count": 12,
   "metadata": {},
   "outputs": [
    {
     "data": {
      "text/plain": [
       "<tf.Tensor: id=10, shape=(4, 2), dtype=float32, numpy=\n",
       "array([[1., 0.],\n",
       "       [0., 1.],\n",
       "       [0., 0.],\n",
       "       [0., 0.]], dtype=float32)>"
      ]
     },
     "execution_count": 12,
     "metadata": {},
     "output_type": "execute_result"
    }
   ],
   "source": [
    "tf.compat.v1.one_hot([0,1,2,3], depth=2)"
   ]
  },
  {
   "cell_type": "code",
   "execution_count": 16,
   "metadata": {},
   "outputs": [
    {
     "data": {
      "text/plain": [
       "<tf.Tensor: id=21, shape=(1, 2), dtype=int32, numpy=array([[2, 3]], dtype=int32)>"
      ]
     },
     "execution_count": 16,
     "metadata": {},
     "output_type": "execute_result"
    }
   ],
   "source": [
    "tf.matmul([[1,0]], [[2,3],\n",
    "                    [4,5]])"
   ]
  },
  {
   "cell_type": "code",
   "execution_count": 2,
   "metadata": {},
   "outputs": [],
   "source": [
    "CAsT_raw_data_loader = CAsT_RawDataLoader()\n",
    "get_query_fn = CAsT_raw_data_loader.get_query\n",
    "get_doc_fn = CAsT_raw_data_loader.get_doc\n",
    "eval_raw_samples = CAsT_raw_data_loader.get_topics(\"eval\")\n",
    "CAsT_q_rels = CAsT_raw_data_loader.q_rels"
   ]
  },
  {
   "cell_type": "code",
   "execution_count": 24,
   "metadata": {},
   "outputs": [],
   "source": [
    "a_list = [s[\"q_id\"] for s in eval_raw_samples]"
   ]
  },
  {
   "cell_type": "code",
   "execution_count": 3,
   "metadata": {},
   "outputs": [],
   "source": [
    "b_list = [s[\"q_id\"] for s in eval_raw_samples]"
   ]
  },
  {
   "cell_type": "code",
   "execution_count": 4,
   "metadata": {},
   "outputs": [
    {
     "data": {
      "text/plain": [
       "216"
      ]
     },
     "execution_count": 4,
     "metadata": {},
     "output_type": "execute_result"
    }
   ],
   "source": [
    "len(b_list)"
   ]
  },
  {
   "cell_type": "code",
   "execution_count": 5,
   "metadata": {},
   "outputs": [
    {
     "data": {
      "application/vnd.jupyter.widget-view+json": {
       "model_id": "e1048c6d9bd3441d8e3e49eb8474e1d3",
       "version_major": 2,
       "version_minor": 0
      },
      "text/plain": [
       "HBox(children=(FloatProgress(value=0.0, description='Searching queries', max=216.0, style=ProgressStyle(descri…"
      ]
     },
     "metadata": {},
     "output_type": "display_data"
    },
    {
     "name": "stdout",
     "output_type": "stream",
     "text": [
      "\n",
      "BM25 results\n",
      "{'map': 0.16347287773623104, 'recip_rank': 0.16347287773623104, 'ndcg_cut_3': 0.1398244759093933, 'set_recall': 0.9027777777777778}\n"
     ]
    }
   ],
   "source": [
    "eval_samples = Query_Resolver_Transform(get_query_fn, utterance_type=\"manual_rewritten_utterance\")(eval_raw_samples)\n",
    "eval_BM25_results = BM25_Search_Transform(index_dir='datasets/TREC_CAsT/CAsT_collection_with_meta.index', hits=100)(eval_samples)\n",
    "expr = Ranking_Experiment(CAsT_q_rels)\n",
    "print(\"BM25 results\")\n",
    "print(expr(eval_BM25_results))"
   ]
  },
  {
   "cell_type": "code",
   "execution_count": 103,
   "metadata": {},
   "outputs": [
    {
     "data": {
      "application/vnd.jupyter.widget-view+json": {
       "model_id": "109400bec5d1478dbef0fe0de0f1229f",
       "version_major": 2,
       "version_minor": 0
      },
      "text/plain": [
       "HBox(children=(FloatProgress(value=0.0, description='Flattening search results', max=133.0, style=ProgressStyl…"
      ]
     },
     "metadata": {},
     "output_type": "display_data"
    },
    {
     "name": "stdout",
     "output_type": "stream",
     "text": [
      "\n"
     ]
    }
   ],
   "source": [
    "eval_BM25_results = Reranking_Flattener_Transform()(eval_BM25_results)"
   ]
  },
  {
   "cell_type": "code",
   "execution_count": 161,
   "metadata": {
    "collapsed": true,
    "jupyter": {
     "outputs_hidden": true
    }
   },
   "outputs": [
    {
     "ename": "KeyboardInterrupt",
     "evalue": "",
     "output_type": "error",
     "traceback": [
      "\u001b[0;31m---------------------------------------------------------------------------\u001b[0m",
      "\u001b[0;31mKeyboardInterrupt\u001b[0m                         Traceback (most recent call last)",
      "\u001b[0;32m<ipython-input-161-2a6c3769b8fd>\u001b[0m in \u001b[0;36m<module>\u001b[0;34m\u001b[0m\n\u001b[1;32m      1\u001b[0m \u001b[0meval_BM25_results\u001b[0m \u001b[0;34m=\u001b[0m \u001b[0mDocument_Resolver_Transform\u001b[0m\u001b[0;34m(\u001b[0m\u001b[0mget_doc_fn\u001b[0m\u001b[0;34m)\u001b[0m\u001b[0;34m(\u001b[0m\u001b[0meval_BM25_results\u001b[0m\u001b[0;34m)\u001b[0m\u001b[0;34m\u001b[0m\u001b[0;34m\u001b[0m\u001b[0m\n\u001b[0;32m----> 2\u001b[0;31m \u001b[0meval_BM25_results\u001b[0m \u001b[0;34m=\u001b[0m \u001b[0mMonoBERT_Numericalise_Transform\u001b[0m\u001b[0;34m(\u001b[0m\u001b[0;34m\"saved_models/monoBERT/vocab.txt\"\u001b[0m\u001b[0;34m)\u001b[0m\u001b[0;34m(\u001b[0m\u001b[0meval_BM25_results\u001b[0m\u001b[0;34m)\u001b[0m\u001b[0;34m\u001b[0m\u001b[0;34m\u001b[0m\u001b[0m\n\u001b[0m",
      "\u001b[0;32m/nfs/phd_by_carlos/notebooks/src/models_and_transforms/text_transforms.py\u001b[0m in \u001b[0;36m__call__\u001b[0;34m(self, samples)\u001b[0m\n\u001b[1;32m    165\u001b[0m \u001b[0;34m\u001b[0m\u001b[0m\n\u001b[1;32m    166\u001b[0m             \u001b[0mdoc_text\u001b[0m \u001b[0;34m=\u001b[0m \u001b[0msample_obj\u001b[0m\u001b[0;34m[\u001b[0m\u001b[0;34m'doc'\u001b[0m\u001b[0;34m]\u001b[0m\u001b[0;34m\u001b[0m\u001b[0;34m\u001b[0m\u001b[0m\n\u001b[0;32m--> 167\u001b[0;31m             \u001b[0mdoc_ids\u001b[0m \u001b[0;34m=\u001b[0m \u001b[0mself\u001b[0m\u001b[0;34m.\u001b[0m\u001b[0mnumericalizer\u001b[0m\u001b[0;34m.\u001b[0m\u001b[0mencode\u001b[0m\u001b[0;34m(\u001b[0m\u001b[0mdoc_text\u001b[0m\u001b[0;34m,\u001b[0m \u001b[0madd_special_tokens\u001b[0m\u001b[0;34m=\u001b[0m\u001b[0;32mFalse\u001b[0m\u001b[0;34m)\u001b[0m \u001b[0;34m+\u001b[0m \u001b[0;34m[\u001b[0m\u001b[0mself\u001b[0m\u001b[0;34m.\u001b[0m\u001b[0mnumericalizer\u001b[0m\u001b[0;34m.\u001b[0m\u001b[0msep_token_id\u001b[0m\u001b[0;34m]\u001b[0m\u001b[0;34m\u001b[0m\u001b[0;34m\u001b[0m\u001b[0m\n\u001b[0m\u001b[1;32m    168\u001b[0m             \u001b[0mdoc_token_type_ids\u001b[0m \u001b[0;34m=\u001b[0m \u001b[0;34m[\u001b[0m\u001b[0;36m1\u001b[0m\u001b[0;34m]\u001b[0m\u001b[0;34m*\u001b[0m\u001b[0mlen\u001b[0m\u001b[0;34m(\u001b[0m\u001b[0mdoc_ids\u001b[0m\u001b[0;34m)\u001b[0m\u001b[0;34m\u001b[0m\u001b[0;34m\u001b[0m\u001b[0m\n\u001b[1;32m    169\u001b[0m \u001b[0;34m\u001b[0m\u001b[0m\n",
      "\u001b[0;32m/usr/local/lib/python3.6/dist-packages/transformers/tokenization_utils_base.py\u001b[0m in \u001b[0;36mencode\u001b[0;34m(self, text, text_pair, add_special_tokens, padding, truncation, max_length, stride, return_tensors, **kwargs)\u001b[0m\n\u001b[1;32m   1423\u001b[0m             \u001b[0mstride\u001b[0m\u001b[0;34m=\u001b[0m\u001b[0mstride\u001b[0m\u001b[0;34m,\u001b[0m\u001b[0;34m\u001b[0m\u001b[0;34m\u001b[0m\u001b[0m\n\u001b[1;32m   1424\u001b[0m             \u001b[0mreturn_tensors\u001b[0m\u001b[0;34m=\u001b[0m\u001b[0mreturn_tensors\u001b[0m\u001b[0;34m,\u001b[0m\u001b[0;34m\u001b[0m\u001b[0;34m\u001b[0m\u001b[0m\n\u001b[0;32m-> 1425\u001b[0;31m             \u001b[0;34m**\u001b[0m\u001b[0mkwargs\u001b[0m\u001b[0;34m,\u001b[0m\u001b[0;34m\u001b[0m\u001b[0;34m\u001b[0m\u001b[0m\n\u001b[0m\u001b[1;32m   1426\u001b[0m         )\n\u001b[1;32m   1427\u001b[0m \u001b[0;34m\u001b[0m\u001b[0m\n",
      "\u001b[0;32m/usr/local/lib/python3.6/dist-packages/transformers/tokenization_utils_base.py\u001b[0m in \u001b[0;36mencode_plus\u001b[0;34m(self, text, text_pair, add_special_tokens, padding, truncation, max_length, stride, is_pretokenized, pad_to_multiple_of, return_tensors, return_token_type_ids, return_attention_mask, return_overflowing_tokens, return_special_tokens_mask, return_offsets_mapping, return_length, verbose, **kwargs)\u001b[0m\n\u001b[1;32m   1735\u001b[0m             \u001b[0mreturn_length\u001b[0m\u001b[0;34m=\u001b[0m\u001b[0mreturn_length\u001b[0m\u001b[0;34m,\u001b[0m\u001b[0;34m\u001b[0m\u001b[0;34m\u001b[0m\u001b[0m\n\u001b[1;32m   1736\u001b[0m             \u001b[0mverbose\u001b[0m\u001b[0;34m=\u001b[0m\u001b[0mverbose\u001b[0m\u001b[0;34m,\u001b[0m\u001b[0;34m\u001b[0m\u001b[0;34m\u001b[0m\u001b[0m\n\u001b[0;32m-> 1737\u001b[0;31m             \u001b[0;34m**\u001b[0m\u001b[0mkwargs\u001b[0m\u001b[0;34m,\u001b[0m\u001b[0;34m\u001b[0m\u001b[0;34m\u001b[0m\u001b[0m\n\u001b[0m\u001b[1;32m   1738\u001b[0m         )\n\u001b[1;32m   1739\u001b[0m \u001b[0;34m\u001b[0m\u001b[0m\n",
      "\u001b[0;32m/usr/local/lib/python3.6/dist-packages/transformers/tokenization_utils.py\u001b[0m in \u001b[0;36m_encode_plus\u001b[0;34m(self, text, text_pair, add_special_tokens, padding_strategy, truncation_strategy, max_length, stride, is_pretokenized, pad_to_multiple_of, return_tensors, return_token_type_ids, return_attention_mask, return_overflowing_tokens, return_special_tokens_mask, return_offsets_mapping, return_length, verbose, **kwargs)\u001b[0m\n\u001b[1;32m    452\u001b[0m             )\n\u001b[1;32m    453\u001b[0m \u001b[0;34m\u001b[0m\u001b[0m\n\u001b[0;32m--> 454\u001b[0;31m         \u001b[0mfirst_ids\u001b[0m \u001b[0;34m=\u001b[0m \u001b[0mget_input_ids\u001b[0m\u001b[0;34m(\u001b[0m\u001b[0mtext\u001b[0m\u001b[0;34m)\u001b[0m\u001b[0;34m\u001b[0m\u001b[0;34m\u001b[0m\u001b[0m\n\u001b[0m\u001b[1;32m    455\u001b[0m         \u001b[0msecond_ids\u001b[0m \u001b[0;34m=\u001b[0m \u001b[0mget_input_ids\u001b[0m\u001b[0;34m(\u001b[0m\u001b[0mtext_pair\u001b[0m\u001b[0;34m)\u001b[0m \u001b[0;32mif\u001b[0m \u001b[0mtext_pair\u001b[0m \u001b[0;32mis\u001b[0m \u001b[0;32mnot\u001b[0m \u001b[0;32mNone\u001b[0m \u001b[0;32melse\u001b[0m \u001b[0;32mNone\u001b[0m\u001b[0;34m\u001b[0m\u001b[0;34m\u001b[0m\u001b[0m\n\u001b[1;32m    456\u001b[0m \u001b[0;34m\u001b[0m\u001b[0m\n",
      "\u001b[0;32m/usr/local/lib/python3.6/dist-packages/transformers/tokenization_utils.py\u001b[0m in \u001b[0;36mget_input_ids\u001b[0;34m(text)\u001b[0m\n\u001b[1;32m    423\u001b[0m         \u001b[0;32mdef\u001b[0m \u001b[0mget_input_ids\u001b[0m\u001b[0;34m(\u001b[0m\u001b[0mtext\u001b[0m\u001b[0;34m)\u001b[0m\u001b[0;34m:\u001b[0m\u001b[0;34m\u001b[0m\u001b[0;34m\u001b[0m\u001b[0m\n\u001b[1;32m    424\u001b[0m             \u001b[0;32mif\u001b[0m \u001b[0misinstance\u001b[0m\u001b[0;34m(\u001b[0m\u001b[0mtext\u001b[0m\u001b[0;34m,\u001b[0m \u001b[0mstr\u001b[0m\u001b[0;34m)\u001b[0m\u001b[0;34m:\u001b[0m\u001b[0;34m\u001b[0m\u001b[0;34m\u001b[0m\u001b[0m\n\u001b[0;32m--> 425\u001b[0;31m                 \u001b[0mtokens\u001b[0m \u001b[0;34m=\u001b[0m \u001b[0mself\u001b[0m\u001b[0;34m.\u001b[0m\u001b[0mtokenize\u001b[0m\u001b[0;34m(\u001b[0m\u001b[0mtext\u001b[0m\u001b[0;34m,\u001b[0m \u001b[0;34m**\u001b[0m\u001b[0mkwargs\u001b[0m\u001b[0;34m)\u001b[0m\u001b[0;34m\u001b[0m\u001b[0;34m\u001b[0m\u001b[0m\n\u001b[0m\u001b[1;32m    426\u001b[0m                 \u001b[0;32mreturn\u001b[0m \u001b[0mself\u001b[0m\u001b[0;34m.\u001b[0m\u001b[0mconvert_tokens_to_ids\u001b[0m\u001b[0;34m(\u001b[0m\u001b[0mtokens\u001b[0m\u001b[0;34m)\u001b[0m\u001b[0;34m\u001b[0m\u001b[0;34m\u001b[0m\u001b[0m\n\u001b[1;32m    427\u001b[0m             \u001b[0;32melif\u001b[0m \u001b[0misinstance\u001b[0m\u001b[0;34m(\u001b[0m\u001b[0mtext\u001b[0m\u001b[0;34m,\u001b[0m \u001b[0;34m(\u001b[0m\u001b[0mlist\u001b[0m\u001b[0;34m,\u001b[0m \u001b[0mtuple\u001b[0m\u001b[0;34m)\u001b[0m\u001b[0;34m)\u001b[0m \u001b[0;32mand\u001b[0m \u001b[0mlen\u001b[0m\u001b[0;34m(\u001b[0m\u001b[0mtext\u001b[0m\u001b[0;34m)\u001b[0m \u001b[0;34m>\u001b[0m \u001b[0;36m0\u001b[0m \u001b[0;32mand\u001b[0m \u001b[0misinstance\u001b[0m\u001b[0;34m(\u001b[0m\u001b[0mtext\u001b[0m\u001b[0;34m[\u001b[0m\u001b[0;36m0\u001b[0m\u001b[0;34m]\u001b[0m\u001b[0;34m,\u001b[0m \u001b[0mstr\u001b[0m\u001b[0;34m)\u001b[0m\u001b[0;34m:\u001b[0m\u001b[0;34m\u001b[0m\u001b[0;34m\u001b[0m\u001b[0m\n",
      "\u001b[0;32m/usr/local/lib/python3.6/dist-packages/transformers/tokenization_utils.py\u001b[0m in \u001b[0;36mtokenize\u001b[0;34m(self, text, **kwargs)\u001b[0m\n\u001b[1;32m    362\u001b[0m \u001b[0;34m\u001b[0m\u001b[0m\n\u001b[1;32m    363\u001b[0m         \u001b[0mno_split_token\u001b[0m \u001b[0;34m=\u001b[0m \u001b[0mself\u001b[0m\u001b[0;34m.\u001b[0m\u001b[0munique_no_split_tokens\u001b[0m\u001b[0;34m\u001b[0m\u001b[0;34m\u001b[0m\u001b[0m\n\u001b[0;32m--> 364\u001b[0;31m         \u001b[0mtokenized_text\u001b[0m \u001b[0;34m=\u001b[0m \u001b[0msplit_on_tokens\u001b[0m\u001b[0;34m(\u001b[0m\u001b[0mno_split_token\u001b[0m\u001b[0;34m,\u001b[0m \u001b[0mtext\u001b[0m\u001b[0;34m)\u001b[0m\u001b[0;34m\u001b[0m\u001b[0;34m\u001b[0m\u001b[0m\n\u001b[0m\u001b[1;32m    365\u001b[0m         \u001b[0;32mreturn\u001b[0m \u001b[0mtokenized_text\u001b[0m\u001b[0;34m\u001b[0m\u001b[0;34m\u001b[0m\u001b[0m\n\u001b[1;32m    366\u001b[0m \u001b[0;34m\u001b[0m\u001b[0m\n",
      "\u001b[0;32m/usr/local/lib/python3.6/dist-packages/transformers/tokenization_utils.py\u001b[0m in \u001b[0;36msplit_on_tokens\u001b[0;34m(tok_list, text)\u001b[0m\n\u001b[1;32m    339\u001b[0m                 \u001b[0;32mreturn\u001b[0m \u001b[0;34m[\u001b[0m\u001b[0;34m]\u001b[0m\u001b[0;34m\u001b[0m\u001b[0;34m\u001b[0m\u001b[0m\n\u001b[1;32m    340\u001b[0m             \u001b[0;32mif\u001b[0m \u001b[0;32mnot\u001b[0m \u001b[0mtok_list\u001b[0m\u001b[0;34m:\u001b[0m\u001b[0;34m\u001b[0m\u001b[0;34m\u001b[0m\u001b[0m\n\u001b[0;32m--> 341\u001b[0;31m                 \u001b[0;32mreturn\u001b[0m \u001b[0mself\u001b[0m\u001b[0;34m.\u001b[0m\u001b[0m_tokenize\u001b[0m\u001b[0;34m(\u001b[0m\u001b[0mtext\u001b[0m\u001b[0;34m)\u001b[0m\u001b[0;34m\u001b[0m\u001b[0;34m\u001b[0m\u001b[0m\n\u001b[0m\u001b[1;32m    342\u001b[0m \u001b[0;34m\u001b[0m\u001b[0m\n\u001b[1;32m    343\u001b[0m             \u001b[0mtokenized_text\u001b[0m \u001b[0;34m=\u001b[0m \u001b[0;34m[\u001b[0m\u001b[0;34m]\u001b[0m\u001b[0;34m\u001b[0m\u001b[0;34m\u001b[0m\u001b[0m\n",
      "\u001b[0;32m/usr/local/lib/python3.6/dist-packages/transformers/tokenization_bert.py\u001b[0m in \u001b[0;36m_tokenize\u001b[0;34m(self, text)\u001b[0m\n\u001b[1;32m    209\u001b[0m         \u001b[0msplit_tokens\u001b[0m \u001b[0;34m=\u001b[0m \u001b[0;34m[\u001b[0m\u001b[0;34m]\u001b[0m\u001b[0;34m\u001b[0m\u001b[0;34m\u001b[0m\u001b[0m\n\u001b[1;32m    210\u001b[0m         \u001b[0;32mif\u001b[0m \u001b[0mself\u001b[0m\u001b[0;34m.\u001b[0m\u001b[0mdo_basic_tokenize\u001b[0m\u001b[0;34m:\u001b[0m\u001b[0;34m\u001b[0m\u001b[0;34m\u001b[0m\u001b[0m\n\u001b[0;32m--> 211\u001b[0;31m             \u001b[0;32mfor\u001b[0m \u001b[0mtoken\u001b[0m \u001b[0;32min\u001b[0m \u001b[0mself\u001b[0m\u001b[0;34m.\u001b[0m\u001b[0mbasic_tokenizer\u001b[0m\u001b[0;34m.\u001b[0m\u001b[0mtokenize\u001b[0m\u001b[0;34m(\u001b[0m\u001b[0mtext\u001b[0m\u001b[0;34m,\u001b[0m \u001b[0mnever_split\u001b[0m\u001b[0;34m=\u001b[0m\u001b[0mself\u001b[0m\u001b[0;34m.\u001b[0m\u001b[0mall_special_tokens\u001b[0m\u001b[0;34m)\u001b[0m\u001b[0;34m:\u001b[0m\u001b[0;34m\u001b[0m\u001b[0;34m\u001b[0m\u001b[0m\n\u001b[0m\u001b[1;32m    212\u001b[0m \u001b[0;34m\u001b[0m\u001b[0m\n\u001b[1;32m    213\u001b[0m                 \u001b[0;31m# If the token is part of the never_split set\u001b[0m\u001b[0;34m\u001b[0m\u001b[0;34m\u001b[0m\u001b[0;34m\u001b[0m\u001b[0m\n",
      "\u001b[0;32m/usr/local/lib/python3.6/dist-packages/transformers/tokenization_bert.py\u001b[0m in \u001b[0;36mtokenize\u001b[0;34m(self, text, never_split)\u001b[0m\n\u001b[1;32m    399\u001b[0m                 \u001b[0mtoken\u001b[0m \u001b[0;34m=\u001b[0m \u001b[0mtoken\u001b[0m\u001b[0;34m.\u001b[0m\u001b[0mlower\u001b[0m\u001b[0;34m(\u001b[0m\u001b[0;34m)\u001b[0m\u001b[0;34m\u001b[0m\u001b[0;34m\u001b[0m\u001b[0m\n\u001b[1;32m    400\u001b[0m                 \u001b[0mtoken\u001b[0m \u001b[0;34m=\u001b[0m \u001b[0mself\u001b[0m\u001b[0;34m.\u001b[0m\u001b[0m_run_strip_accents\u001b[0m\u001b[0;34m(\u001b[0m\u001b[0mtoken\u001b[0m\u001b[0;34m)\u001b[0m\u001b[0;34m\u001b[0m\u001b[0;34m\u001b[0m\u001b[0m\n\u001b[0;32m--> 401\u001b[0;31m             \u001b[0msplit_tokens\u001b[0m\u001b[0;34m.\u001b[0m\u001b[0mextend\u001b[0m\u001b[0;34m(\u001b[0m\u001b[0mself\u001b[0m\u001b[0;34m.\u001b[0m\u001b[0m_run_split_on_punc\u001b[0m\u001b[0;34m(\u001b[0m\u001b[0mtoken\u001b[0m\u001b[0;34m,\u001b[0m \u001b[0mnever_split\u001b[0m\u001b[0;34m)\u001b[0m\u001b[0;34m)\u001b[0m\u001b[0;34m\u001b[0m\u001b[0;34m\u001b[0m\u001b[0m\n\u001b[0m\u001b[1;32m    402\u001b[0m \u001b[0;34m\u001b[0m\u001b[0m\n\u001b[1;32m    403\u001b[0m         \u001b[0moutput_tokens\u001b[0m \u001b[0;34m=\u001b[0m \u001b[0mwhitespace_tokenize\u001b[0m\u001b[0;34m(\u001b[0m\u001b[0;34m\" \"\u001b[0m\u001b[0;34m.\u001b[0m\u001b[0mjoin\u001b[0m\u001b[0;34m(\u001b[0m\u001b[0msplit_tokens\u001b[0m\u001b[0;34m)\u001b[0m\u001b[0;34m)\u001b[0m\u001b[0;34m\u001b[0m\u001b[0;34m\u001b[0m\u001b[0m\n",
      "\u001b[0;31mKeyboardInterrupt\u001b[0m: "
     ]
    }
   ],
   "source": [
    "eval_BM25_results = Document_Resolver_Transform(get_doc_fn)(eval_BM25_results)\n",
    "eval_BM25_results = MonoBERT_Numericalise_Transform(\"saved_models/monoBERT/vocab.txt\")(eval_BM25_results)"
   ]
  },
  {
   "cell_type": "code",
   "execution_count": 172,
   "metadata": {},
   "outputs": [
    {
     "name": "stdout",
     "output_type": "stream",
     "text": [
      "Loading chekcpoint from ./saved_models/monoBERT/\n",
      "BERT ReRanker initialised on cuda. Batch size 32\n"
     ]
    }
   ],
   "source": [
    "monoBERT_transform = monoBERT_Scorer_Transform(device=\"cuda\")"
   ]
  },
  {
   "cell_type": "code",
   "execution_count": 164,
   "metadata": {},
   "outputs": [],
   "source": [
    "small_samples = eval_BM25_results[:20]"
   ]
  },
  {
   "cell_type": "code",
   "execution_count": 145,
   "metadata": {},
   "outputs": [],
   "source": [
    "test_samples = [\n",
    "    {'q_id':'31_1', 'd_id':'CAR_2174ad0aa50712ff24035c23f59a3c2b43267650'}, # relevant\n",
    "    {'q_id':'31_1', 'd_id':'MARCO_2182567'} # not relevant\n",
    "]\n",
    "test_samples = Query_Resolver_Transform(get_query_fn, utterance_type=\"manual_rewritten_utterance\")(test_samples)\n",
    "test_samples = Document_Resolver_Transform(get_doc_fn)(test_samples)\n",
    "test_samples = MonoBERT_Numericalise_Transform(\"saved_models/monoBERT/vocab.txt\")(test_samples)"
   ]
  },
  {
   "cell_type": "code",
   "execution_count": 149,
   "metadata": {},
   "outputs": [
    {
     "data": {
      "application/vnd.jupyter.widget-view+json": {
       "model_id": "b7f7a08c083e4cc49b20d32f6b5e660e",
       "version_major": 2,
       "version_minor": 0
      },
      "text/plain": [
       "HBox(children=(FloatProgress(value=1.0, bar_style='info', max=1.0), HTML(value='')))"
      ]
     },
     "metadata": {},
     "output_type": "display_data"
    },
    {
     "name": "stdout",
     "output_type": "stream",
     "text": [
      "tensor([0.2858, 0.1724], device='cuda:0') torch.Size([2])\n",
      "\n"
     ]
    }
   ],
   "source": [
    "monoBERT_results = monoBERT_transform(test_samples)"
   ]
  },
  {
   "cell_type": "code",
   "execution_count": 165,
   "metadata": {
    "collapsed": true,
    "jupyter": {
     "outputs_hidden": true
    }
   },
   "outputs": [
    {
     "data": {
      "text/plain": [
       "{'prev_turns': [],\n",
       " 'q_id': '31_1',\n",
       " 'q_rel': ['CAR_2174ad0aa50712ff24035c23f59a3c2b43267650',\n",
       "  'CAR_71fe664149cf06de1fcbb55dfb239f48687753c0',\n",
       "  'CAR_7b85fdb20fa85b01050fc49656cbc548d231defe',\n",
       "  'CAR_87d4034ad40c274e7b3a40ab7cfe5aadc2fd214c',\n",
       "  'CAR_d37891cd657001a45ae65a1864b6af96a9b4543c',\n",
       "  'MARCO_1092925',\n",
       "  'MARCO_1092929',\n",
       "  'MARCO_1373522',\n",
       "  'MARCO_1462317',\n",
       "  'MARCO_1905584',\n",
       "  'MARCO_1905587',\n",
       "  'MARCO_191050',\n",
       "  'MARCO_191056',\n",
       "  'MARCO_2715451',\n",
       "  'MARCO_291003',\n",
       "  'MARCO_291004',\n",
       "  'MARCO_2925879',\n",
       "  'MARCO_2954451',\n",
       "  'MARCO_3090847',\n",
       "  'MARCO_3705888',\n",
       "  'MARCO_3878345',\n",
       "  'MARCO_3878346',\n",
       "  'MARCO_3878347',\n",
       "  'MARCO_3878348',\n",
       "  'MARCO_3990603',\n",
       "  'MARCO_4239408',\n",
       "  'MARCO_4976187',\n",
       "  'MARCO_5990560',\n",
       "  'MARCO_6060239',\n",
       "  'MARCO_6430441',\n",
       "  'MARCO_6617627',\n",
       "  'MARCO_6624741',\n",
       "  'MARCO_6914824',\n",
       "  'MARCO_7035862',\n",
       "  'MARCO_7069063',\n",
       "  'MARCO_7113009',\n",
       "  'MARCO_745277',\n",
       "  'MARCO_789620',\n",
       "  'MARCO_7972824',\n",
       "  'MARCO_8046971',\n",
       "  'MARCO_8168665',\n",
       "  'MARCO_8610842'],\n",
       " 'query': 'What is throat cancer?',\n",
       " 'search_results': [('MARCO_789620', 12.621999740600586),\n",
       "  ('MARCO_3878347', 12.539899826049805),\n",
       "  ('MARCO_8149031', 12.179300308227539),\n",
       "  ('MARCO_291003', 12.084400177001953),\n",
       "  ('MARCO_7208611', 11.91469955444336),\n",
       "  ('MARCO_2925873', 11.864100456237793),\n",
       "  ('MARCO_7364331', 11.70740032196045),\n",
       "  ('MARCO_7632622', 11.457500457763672),\n",
       "  ('MARCO_3426729', 11.436800003051758),\n",
       "  ('MARCO_3705887', 11.427599906921387),\n",
       "  ('MARCO_1905581', 11.234000205993652),\n",
       "  ('MARCO_7364330', 11.14430046081543),\n",
       "  ('MARCO_191050', 10.951899528503418),\n",
       "  ('MARCO_8610842', 10.917200088500977),\n",
       "  ('MARCO_3878348', 10.88599967956543),\n",
       "  ('MARCO_5289694', 10.883700370788574),\n",
       "  ('MARCO_8719994', 10.851499557495117),\n",
       "  ('MARCO_291004', 10.848899841308594),\n",
       "  ('MARCO_191056', 10.785400390625),\n",
       "  ('MARCO_2925879', 10.767399787902832),\n",
       "  ('MARCO_5234420', 10.765800476074219),\n",
       "  ('MARCO_3553109', 10.76140022277832),\n",
       "  ('MARCO_1373522', 10.749600410461426),\n",
       "  ('MARCO_3090847', 10.727299690246582),\n",
       "  ('MARCO_3990599', 10.700499534606934),\n",
       "  ('MARCO_4339742', 10.664199829101562),\n",
       "  ('MARCO_8610846', 10.6628999710083),\n",
       "  ('MARCO_8069753', 10.640399932861328),\n",
       "  ('MARCO_3705888', 10.637700080871582),\n",
       "  ('MARCO_5990560', 10.605600357055664),\n",
       "  ('MARCO_7100885', 10.542499542236328),\n",
       "  ('MARCO_3878346', 10.535400390625),\n",
       "  ('MARCO_4976182', 10.47070026397705),\n",
       "  ('MARCO_5990561', 10.470600128173828),\n",
       "  ('MARCO_7972824', 10.440400123596191),\n",
       "  ('MARCO_3990603', 10.438300132751465),\n",
       "  ('MARCO_8046971', 10.431900024414062),\n",
       "  ('MARCO_1462317', 10.42590045928955),\n",
       "  ('MARCO_5488479', 10.349499702453613),\n",
       "  ('MARCO_5295408', 10.34689998626709),\n",
       "  ('MARCO_3581484', 10.306599617004395),\n",
       "  ('MARCO_3878345', 10.298199653625488),\n",
       "  ('CAR_2174ad0aa50712ff24035c23f59a3c2b43267650', 10.291999816894531),\n",
       "  ('CAR_41b7dce4f8a72ee34d78c2b5c363272a54997f27', 10.259900093078613),\n",
       "  ('MARCO_7639399', 10.248100280761719),\n",
       "  ('MARCO_2231507', 10.247200012207031),\n",
       "  ('MARCO_1467222', 10.241499900817871),\n",
       "  ('MARCO_1295084', 10.229399681091309),\n",
       "  ('MARCO_2925881', 10.199899673461914),\n",
       "  ('MARCO_1425161', 10.180299758911133),\n",
       "  ('MARCO_6914824', 10.166999816894531),\n",
       "  ('MARCO_1842740', 10.163700103759766),\n",
       "  ('MARCO_6430441', 10.152299880981445),\n",
       "  ('MARCO_4976187', 10.139599800109863),\n",
       "  ('MARCO_5488481', 10.139598846435547),\n",
       "  ('MARCO_6617627', 10.131099700927734),\n",
       "  ('MARCO_4976188', 10.119000434875488),\n",
       "  ('MARCO_7035859', 10.095999717712402),\n",
       "  ('MARCO_2231510', 10.065999984741211),\n",
       "  ('MARCO_4339737', 10.065299987792969),\n",
       "  ('MARCO_2715450', 10.052000045776367),\n",
       "  ('MARCO_2858146', 10.047599792480469),\n",
       "  ('MARCO_3971566', 9.984600067138672),\n",
       "  ('MARCO_7069063', 9.974100112915039),\n",
       "  ('MARCO_2314856', 9.97189998626709),\n",
       "  ('MARCO_7537010', 9.956000328063965),\n",
       "  ('MARCO_2954451', 9.953200340270996),\n",
       "  ('MARCO_1019257', 9.952099800109863),\n",
       "  ('MARCO_8168659', 9.93239974975586),\n",
       "  ('MARCO_1905587', 9.928999900817871),\n",
       "  ('MARCO_4662511', 9.9197998046875),\n",
       "  ('MARCO_191053', 9.916000366210938),\n",
       "  ('MARCO_7069065', 9.901900291442871),\n",
       "  ('MARCO_6250625', 9.896100044250488),\n",
       "  ('MARCO_7035861', 9.861700057983398),\n",
       "  ('MARCO_5488475', 9.8503999710083),\n",
       "  ('MARCO_704090', 9.842300415039062),\n",
       "  ('MARCO_5488482', 9.786700248718262),\n",
       "  ('MARCO_1425163', 9.777600288391113),\n",
       "  ('MARCO_4348985', 9.753999710083008),\n",
       "  ('MARCO_2715449', 9.751799583435059),\n",
       "  ('MARCO_7070843', 9.751798629760742),\n",
       "  ('MARCO_7035858', 9.726200103759766),\n",
       "  ('MARCO_2231504', 9.71660041809082),\n",
       "  ('MARCO_8436768', 9.716099739074707),\n",
       "  ('MARCO_8617383', 9.693699836730957),\n",
       "  ('MARCO_3600663', 9.69219970703125),\n",
       "  ('MARCO_7696883', 9.692198753356934),\n",
       "  ('MARCO_7672898', 9.659899711608887),\n",
       "  ('MARCO_102932', 9.646599769592285),\n",
       "  ('CAR_d37891cd657001a45ae65a1864b6af96a9b4543c', 9.645400047302246),\n",
       "  ('MARCO_852307', 9.644499778747559),\n",
       "  ('MARCO_7035862', 9.640199661254883),\n",
       "  ('MARCO_1526719', 9.63659954071045),\n",
       "  ('MARCO_4339738', 9.636598587036133),\n",
       "  ('MARCO_7069062', 9.636597633361816),\n",
       "  ('MARCO_7524397', 9.62969970703125),\n",
       "  ('MARCO_1171866', 9.62559986114502),\n",
       "  ('MARCO_595500', 9.59000015258789),\n",
       "  ('MARCO_1467228', 9.574299812316895)]}"
      ]
     },
     "execution_count": 165,
     "metadata": {},
     "output_type": "execute_result"
    }
   ],
   "source": [
    "small_samples[0]"
   ]
  },
  {
   "cell_type": "code",
   "execution_count": 4,
   "metadata": {},
   "outputs": [
    {
     "name": "stdout",
     "output_type": "stream",
     "text": [
      "Loading chekcpoint from saved_models/monoBERT/\n",
      "BERT ReRanker initialised on cuda. Batch size 32\n"
     ]
    },
    {
     "data": {
      "application/vnd.jupyter.widget-view+json": {
       "model_id": "380b80b4d56e4e299c17be6e6a075171",
       "version_major": 2,
       "version_minor": 0
      },
      "text/plain": [
       "HBox(children=(FloatProgress(value=0.0, description='Reranking queries', max=216.0, style=ProgressStyle(descri…"
      ]
     },
     "metadata": {},
     "output_type": "display_data"
    },
    {
     "name": "stdout",
     "output_type": "stream",
     "text": [
      "\n"
     ]
    }
   ],
   "source": [
    "eval_mono_reranked_samples = MonoBERT_ReRanker_Transform('saved_models/monoBERT/', get_doc_fn, batch_size=32)(eval_BM25_results)"
   ]
  },
  {
   "cell_type": "code",
   "execution_count": 7,
   "metadata": {},
   "outputs": [
    {
     "name": "stdout",
     "output_type": "stream",
     "text": [
      "BM25 results\n",
      "{'map': 0.2604702899552438, 'recip_rank': 0.2604702899552438, 'ndcg_cut_3': 0.23456496805555935, 'set_recall': 0.6990740740740741}\n"
     ]
    }
   ],
   "source": [
    "for sample in eval_mono_reranked_samples:\n",
    "    sample[\"search_results\"] = sample[\"reranked_results\"]\n",
    "expr = Ranking_Experiment(CAsT_q_rels)\n",
    "print(\"BM25 results\")\n",
    "print(expr(eval_mono_reranked_samples))"
   ]
  },
  {
   "cell_type": "code",
   "execution_count": 5,
   "metadata": {
    "collapsed": true,
    "jupyter": {
     "outputs_hidden": true
    }
   },
   "outputs": [
    {
     "data": {
      "text/plain": [
       "{'prev_turns': ['81_1', '81_2', '81_3'],\n",
       " 'q_id': '81_4',\n",
       " 'q_rel': ['MARCO_1381085'],\n",
       " 'query': 'How much does it cost to replace a garage door opener?',\n",
       " 'search_results': [('MARCO_1619654', 23.08970069885254),\n",
       "  ('MARCO_8558367', 22.480300903320312),\n",
       "  ('MARCO_1248457', 22.207599639892578),\n",
       "  ('MARCO_5692954', 21.291500091552734),\n",
       "  ('MARCO_2198465', 21.167800903320312),\n",
       "  ('MARCO_1815949', 21.034400939941406),\n",
       "  ('MARCO_1975364', 21.033300399780273),\n",
       "  ('MARCO_6440450', 21.01810073852539),\n",
       "  ('MARCO_5107806', 20.34600067138672),\n",
       "  ('MARCO_6440452', 20.30139923095703),\n",
       "  ('MARCO_6162563', 20.187000274658203),\n",
       "  ('MARCO_1767692', 19.966999053955078),\n",
       "  ('MARCO_3780356', 19.88719940185547),\n",
       "  ('MARCO_6440453', 19.60070037841797),\n",
       "  ('MARCO_5996947', 19.587299346923828),\n",
       "  ('MARCO_4505560', 19.259599685668945),\n",
       "  ('MARCO_1968099', 19.248699188232422),\n",
       "  ('MARCO_6474435', 19.213600158691406),\n",
       "  ('MARCO_1619656', 19.00979995727539),\n",
       "  ('MARCO_8128760', 19.007999420166016),\n",
       "  ('MARCO_3643412', 18.984800338745117),\n",
       "  ('MARCO_1381085', 18.94260025024414),\n",
       "  ('MARCO_5996950', 18.897199630737305),\n",
       "  ('MARCO_4438563', 18.87969970703125),\n",
       "  ('MARCO_1767684', 18.806800842285156),\n",
       "  ('MARCO_6474432', 18.758699417114258),\n",
       "  ('MARCO_1975367', 18.700700759887695),\n",
       "  ('MARCO_5096735', 18.67340087890625),\n",
       "  ('MARCO_3780352', 18.65850067138672),\n",
       "  ('MARCO_6372067', 18.633899688720703),\n",
       "  ('MARCO_6706237', 18.568300247192383),\n",
       "  ('MARCO_7541291', 18.548799514770508),\n",
       "  ('MARCO_5241444', 18.535400390625),\n",
       "  ('MARCO_134694', 18.44770050048828),\n",
       "  ('MARCO_1900273', 18.4375),\n",
       "  ('MARCO_3613794', 18.384000778198242),\n",
       "  ('MARCO_1945738', 18.36639976501465),\n",
       "  ('MARCO_297561', 18.364599227905273),\n",
       "  ('MARCO_7862812', 18.29680061340332),\n",
       "  ('MARCO_1945736', 18.28350067138672),\n",
       "  ('MARCO_6474436', 18.278099060058594),\n",
       "  ('MARCO_3451527', 18.275100708007812),\n",
       "  ('MARCO_8139150', 18.265399932861328),\n",
       "  ('MARCO_6087035', 18.252399444580078),\n",
       "  ('MARCO_8128754', 18.228599548339844),\n",
       "  ('MARCO_2426982', 18.086999893188477),\n",
       "  ('MARCO_2319366', 17.965099334716797),\n",
       "  ('MARCO_6368264', 17.952800750732422),\n",
       "  ('MARCO_4438566', 17.937599182128906),\n",
       "  ('MARCO_5937942', 17.937000274658203),\n",
       "  ('MARCO_2828297', 17.897300720214844),\n",
       "  ('MARCO_1104227', 17.88319969177246),\n",
       "  ('MARCO_1968098', 17.868600845336914),\n",
       "  ('MARCO_5692955', 17.840299606323242),\n",
       "  ('MARCO_6474430', 17.76300048828125),\n",
       "  ('MARCO_8052397', 17.752899169921875),\n",
       "  ('MARCO_2579206', 17.736900329589844),\n",
       "  ('MARCO_2198469', 17.735200881958008),\n",
       "  ('MARCO_3991940', 17.73240089416504),\n",
       "  ('MARCO_1767685', 17.6835994720459),\n",
       "  ('MARCO_1815946', 17.61829948425293),\n",
       "  ('MARCO_962833', 17.614200592041016),\n",
       "  ('MARCO_3052629', 17.58329963684082),\n",
       "  ('MARCO_5665857', 17.578500747680664),\n",
       "  ('MARCO_2426983', 17.559799194335938),\n",
       "  ('MARCO_7363551', 17.546499252319336),\n",
       "  ('MARCO_7592476', 17.538799285888672),\n",
       "  ('MARCO_7363552', 17.530399322509766),\n",
       "  ('MARCO_6971421', 17.525699615478516),\n",
       "  ('MARCO_6245028', 17.501699447631836),\n",
       "  ('MARCO_1293775', 17.48579978942871),\n",
       "  ('MARCO_6024403', 17.461200714111328),\n",
       "  ('MARCO_2426979', 17.454099655151367),\n",
       "  ('MARCO_962839', 17.441699981689453),\n",
       "  ('MARCO_7691624', 17.42169952392578),\n",
       "  ('MARCO_1958612', 17.401599884033203),\n",
       "  ('MARCO_6555541', 17.35849952697754),\n",
       "  ('MARCO_4069921', 17.34630012512207),\n",
       "  ('MARCO_2426980', 17.344600677490234),\n",
       "  ('MARCO_5241441', 17.30229949951172),\n",
       "  ('MARCO_7558580', 17.26110076904297),\n",
       "  ('CAR_3914550976e39eb40bf1c718ea24cbd434cc91f3', 17.17060089111328),\n",
       "  ('MARCO_3517569', 17.153400421142578),\n",
       "  ('MARCO_5692952', 17.12470054626465),\n",
       "  ('MARCO_6568085', 17.09709930419922),\n",
       "  ('MARCO_5844153', 17.07710075378418),\n",
       "  ('MARCO_96400', 17.068199157714844),\n",
       "  ('MARCO_8052399', 16.997499465942383),\n",
       "  ('MARCO_8275262', 16.97610092163086),\n",
       "  ('MARCO_4746369', 16.974599838256836),\n",
       "  ('MARCO_6154874', 16.965700149536133),\n",
       "  ('MARCO_2579211', 16.925100326538086),\n",
       "  ('MARCO_3195061', 16.909099578857422),\n",
       "  ('MARCO_96393', 16.902599334716797),\n",
       "  ('MARCO_356795', 16.890399932861328),\n",
       "  ('MARCO_1767687', 16.858999252319336),\n",
       "  ('MARCO_1248456', 16.849700927734375),\n",
       "  ('MARCO_705540', 16.845199584960938),\n",
       "  ('MARCO_3451529', 16.844900131225586),\n",
       "  ('MARCO_1293774', 16.816099166870117)],\n",
       " 'reranked_results': [('MARCO_4438566', 0.7510078549385071),\n",
       "  ('MARCO_4438563', 0.7438117861747742),\n",
       "  ('MARCO_3780352', 0.7409704923629761),\n",
       "  ('MARCO_1945736', 0.7273889183998108),\n",
       "  ('MARCO_1619654', 0.7269578576087952),\n",
       "  ('MARCO_1815949', 0.7224223613739014),\n",
       "  ('MARCO_1381085', 0.7203431129455566),\n",
       "  ('MARCO_5996947', 0.7149983644485474),\n",
       "  ('MARCO_8052397', 0.7085509300231934),\n",
       "  ('MARCO_1975364', 0.701767086982727),\n",
       "  ('MARCO_5241444', 0.6942747831344604),\n",
       "  ('MARCO_5692955', 0.67806476354599),\n",
       "  ('MARCO_3052629', 0.6724845170974731),\n",
       "  ('MARCO_4505560', 0.666950523853302),\n",
       "  ('MARCO_5996950', 0.654956579208374),\n",
       "  ('MARCO_2579206', 0.6533891558647156),\n",
       "  ('MARCO_5241441', 0.6508448123931885),\n",
       "  ('MARCO_2426982', 0.6405653953552246),\n",
       "  ('MARCO_962833', 0.6389557719230652),\n",
       "  ('MARCO_1815946', 0.6254096031188965),\n",
       "  ('MARCO_1619656', 0.6169843077659607),\n",
       "  ('MARCO_5937942', 0.5983017683029175),\n",
       "  ('MARCO_5692954', 0.5810438990592957),\n",
       "  ('MARCO_6245028', 0.5693883299827576),\n",
       "  ('MARCO_3780356', 0.5584627389907837),\n",
       "  ('MARCO_3195061', 0.5569343566894531),\n",
       "  ('MARCO_2579211', 0.5298939347267151),\n",
       "  ('MARCO_962839', 0.5269408822059631),\n",
       "  ('MARCO_1767685', 0.5249377489089966),\n",
       "  ('MARCO_2426979', 0.5163056254386902),\n",
       "  ('MARCO_2828297', 0.5093616247177124),\n",
       "  ('MARCO_6440453', 0.5074813961982727),\n",
       "  ('MARCO_2426980', 0.4493127465248108),\n",
       "  ('MARCO_6368264', 0.3951663374900818),\n",
       "  ('MARCO_8052399', 0.35910409688949585),\n",
       "  ('MARCO_5844153', 0.31492799520492554),\n",
       "  ('MARCO_1975367', 0.3120579719543457),\n",
       "  ('MARCO_1767687', 0.3043324947357178),\n",
       "  ('MARCO_7558580', 0.274959534406662),\n",
       "  ('MARCO_8558367', 0.2730492651462555),\n",
       "  ('MARCO_1767684', 0.2511517107486725),\n",
       "  ('MARCO_1248457', 0.23317809402942657),\n",
       "  ('MARCO_3451529', 0.2304551899433136),\n",
       "  ('MARCO_8275262', 0.23025204241275787),\n",
       "  ('MARCO_6706237', 0.19550441205501556),\n",
       "  ('MARCO_1968098', 0.120367132127285),\n",
       "  ('MARCO_7541291', -0.023025430738925934),\n",
       "  ('MARCO_297561', -0.05789834260940552),\n",
       "  ('MARCO_1968099', -0.05830780789256096),\n",
       "  ('MARCO_96400', -0.08404652774333954),\n",
       "  ('MARCO_5096735', -0.12359548360109329),\n",
       "  ('MARCO_3613794', -0.23035722970962524),\n",
       "  ('MARCO_3451527', -0.32552552223205566),\n",
       "  ('MARCO_1767692', -0.40273016691207886),\n",
       "  ('MARCO_7862812', -0.49608203768730164),\n",
       "  ('MARCO_6474436', -0.5423388481140137),\n",
       "  ('MARCO_2319366', -0.5760844349861145),\n",
       "  ('MARCO_3991940', -0.600350558757782),\n",
       "  ('MARCO_6440450', -0.618126392364502),\n",
       "  ('MARCO_6474435', -0.6618777513504028),\n",
       "  ('MARCO_1104227', -0.7230319380760193),\n",
       "  ('MARCO_5107806', -0.7323395013809204),\n",
       "  ('MARCO_4069921', -0.7568151950836182),\n",
       "  ('MARCO_1293775', -0.7712128758430481),\n",
       "  ('MARCO_2198465', -0.8024710416793823),\n",
       "  ('MARCO_1293774', -0.8055406212806702),\n",
       "  ('MARCO_6372067', -0.8130537271499634),\n",
       "  ('MARCO_2426983', -0.83865886926651),\n",
       "  ('MARCO_6474432', -0.8459208011627197),\n",
       "  ('MARCO_705540', -0.8508709669113159),\n",
       "  ('MARCO_6971421', -0.8772333264350891),\n",
       "  ('MARCO_1958612', -0.8824548721313477),\n",
       "  ('MARCO_6568085', -0.8832522630691528),\n",
       "  ('MARCO_7691624', -0.8836926817893982),\n",
       "  ('MARCO_6440452', -0.8843700289726257),\n",
       "  ('MARCO_1945738', -0.8870065212249756),\n",
       "  ('MARCO_7363552', -0.8927799463272095),\n",
       "  ('MARCO_2198469', -0.8931657671928406),\n",
       "  ('MARCO_3643412', -0.8946982622146606),\n",
       "  ('MARCO_6474430', -0.8948681950569153),\n",
       "  ('MARCO_96393', -0.8953891396522522),\n",
       "  ('MARCO_1248456', -0.9018301367759705),\n",
       "  ('MARCO_7363551', -0.9038648009300232),\n",
       "  ('MARCO_7592476', -0.912932276725769),\n",
       "  ('MARCO_356795', -0.9169860482215881),\n",
       "  ('MARCO_6154874', -0.9246713519096375),\n",
       "  ('CAR_3914550976e39eb40bf1c718ea24cbd434cc91f3', -0.9348900318145752),\n",
       "  ('MARCO_6024403', -0.9363856315612793),\n",
       "  ('MARCO_6555541', -0.9386061429977417),\n",
       "  ('MARCO_3517569', -0.9404659867286682),\n",
       "  ('MARCO_5665857', -0.941027045249939),\n",
       "  ('MARCO_8128760', -0.9429618716239929),\n",
       "  ('MARCO_4746369', -0.9439248442649841),\n",
       "  ('MARCO_8128754', -0.9477578997612),\n",
       "  ('MARCO_134694', -0.9518113136291504),\n",
       "  ('MARCO_8139150', -0.9590792655944824),\n",
       "  ('MARCO_5692952', -0.9591576457023621),\n",
       "  ('MARCO_6087035', -0.9595619440078735),\n",
       "  ('MARCO_1900273', -0.9644775986671448),\n",
       "  ('MARCO_6162563', -0.9746029376983643)]}"
      ]
     },
     "execution_count": 5,
     "metadata": {},
     "output_type": "execute_result"
    }
   ],
   "source": [
    "eval_BM25_results[3]"
   ]
  },
  {
   "cell_type": "code",
   "execution_count": null,
   "metadata": {},
   "outputs": [],
   "source": []
  }
 ],
 "metadata": {
  "kernelspec": {
   "display_name": "Python 3",
   "language": "python",
   "name": "python3"
  },
  "language_info": {
   "codemirror_mode": {
    "name": "ipython",
    "version": 3
   },
   "file_extension": ".py",
   "mimetype": "text/x-python",
   "name": "python",
   "nbconvert_exporter": "python",
   "pygments_lexer": "ipython3",
   "version": "3.6.9"
  }
 },
 "nbformat": 4,
 "nbformat_minor": 4
}

{
 "cells": [
  {
   "cell_type": "code",
   "execution_count": 1,
   "metadata": {},
   "outputs": [
    {
     "name": "stderr",
     "output_type": "stream",
     "text": [
      "/usr/lib/python3.6/importlib/_bootstrap.py:219: RuntimeWarning: numpy.ufunc size changed, may indicate binary incompatibility. Expected 216, got 192\n",
      "  return f(*args, **kwds)\n"
     ]
    }
   ],
   "source": [
    "from models_and_trainers.BERT_style_modules import BERTStyleEncoder, BertTokenizer\n",
    "from models_and_trainers.copy_gen_transformer import CopyGeneratorTransformer\n",
    "from nltk.translate.bleu_score import SmoothingFunction, sentence_bleu\n",
    "\n",
    "import numpy as np\n",
    "import tqdm.notebook as tqdm \n",
    "import time\n",
    "import math\n",
    "import torch\n",
    "import torch.nn as nn\n",
    "import torchtext\n",
    "from torchtext.data import Field, BucketIterator\n",
    "\n",
    "from utils.useful_utils import string_split_v3, string_split_v2, string_split_v1, nltk_bleu\n",
    "from utils.dataset_loaders import SRC_TGT_pairs\n",
    "import utils.beam_search as beam_search\n",
    "\n",
    "\n",
    "%load_ext autoreload\n",
    "%autoreload 2"
   ]
  },
  {
   "cell_type": "code",
   "execution_count": 3,
   "metadata": {},
   "outputs": [],
   "source": [
    "tokenizer = BertTokenizer.from_pretrained('bert-base-uncased')"
   ]
  },
  {
   "cell_type": "code",
   "execution_count": null,
   "metadata": {},
   "outputs": [],
   "source": []
  },
  {
   "cell_type": "code",
   "execution_count": 2,
   "metadata": {},
   "outputs": [
    {
     "name": "stdout",
     "output_type": "stream",
     "text": [
      "Using: cuda\n"
     ]
    }
   ],
   "source": [
    "device = torch.device(\"cuda\" if torch.cuda.is_available() else \"cpu\")\n",
    "if device == \"cuda\":\n",
    "    torch.cuda.set_device(0) # choose GPU from nvidia-smi \n",
    "print(\"Using:\", device)"
   ]
  },
  {
   "cell_type": "code",
   "execution_count": 3,
   "metadata": {},
   "outputs": [],
   "source": [
    "src_train_fp = \"datasets/django_folds/django.fold1-10.train.src\"\n",
    "tgt_train_fp = \"datasets/django_folds/django.fold1-10.train.tgt\"\n",
    "src_test_fp = \"datasets/django_folds/django.fold1-10.test.src\"\n",
    "tgt_test_fp = \"datasets/django_folds/django.fold1-10.test.tgt\""
   ]
  },
  {
   "cell_type": "code",
   "execution_count": 4,
   "metadata": {},
   "outputs": [],
   "source": [
    "train_data = SRC_TGT_pairs(src_train_fp, tgt_train_fp).samples\n",
    "test_data = SRC_TGT_pairs(src_test_fp, tgt_test_fp).samples"
   ]
  },
  {
   "cell_type": "code",
   "execution_count": 5,
   "metadata": {},
   "outputs": [
    {
     "name": "stdout",
     "output_type": "stream",
     "text": [
      "['raise', 'an', 'exception', 'of', 'class', 'value', '##er', '##ror', ',', 'with', 'string']\n",
      "['[unused0]']\n",
      "We have added 0 tokens\n",
      "[101, 5333, 2019, 6453, 1997, 2465, 3643, 2121, 29165, 1010, 2007, 5164, 102]\n",
      "['[SEP]', '[UNK]', '[unused0]', '[CLS]', '[MASK]', '[unused1]', '[PAD]']\n"
     ]
    }
   ],
   "source": [
    "tokenizer = BertTokenizer.from_pretrained('bert-base-uncased')\n",
    "inp = tokenizer.encode(\"raise an exception of class ValueError, with string\")[1:-1]\n",
    "\n",
    "print(tokenizer.convert_ids_to_tokens(inp))\n",
    "print(tokenizer.convert_ids_to_tokens([1]))\n",
    "special_tokens_dict = {'bos_token': '[unused0]','eos_token': '[unused1]'}\n",
    "num_added_toks = tokenizer.add_special_tokens(special_tokens_dict)\n",
    "print('We have added', num_added_toks, 'tokens')\n",
    "print(tokenizer.build_inputs_with_special_tokens(inp))\n",
    "print(tokenizer.all_special_tokens)"
   ]
  },
  {
   "cell_type": "code",
   "execution_count": 6,
   "metadata": {},
   "outputs": [
    {
     "data": {
      "application/vnd.jupyter.widget-view+json": {
       "model_id": "77367e7633b04de7963b24af3c60c158",
       "version_major": 2,
       "version_minor": 0
      },
      "text/plain": [
       "HBox(children=(IntProgress(value=0, max=16797), HTML(value='')))"
      ]
     },
     "metadata": {},
     "output_type": "display_data"
    },
    {
     "name": "stdout",
     "output_type": "stream",
     "text": [
      "\n"
     ]
    },
    {
     "data": {
      "application/vnd.jupyter.widget-view+json": {
       "model_id": "f1561b7f63f9458cb0ff79473f0a836a",
       "version_major": 2,
       "version_minor": 0
      },
      "text/plain": [
       "HBox(children=(IntProgress(value=0, max=1874), HTML(value='')))"
      ]
     },
     "metadata": {},
     "output_type": "display_data"
    },
    {
     "name": "stdout",
     "output_type": "stream",
     "text": [
      "\n"
     ]
    }
   ],
   "source": [
    "def data2dataset(data):\n",
    "    TEXT_FIELD = Field(sequential=True, use_vocab=False, unk_token=100, pad_token=0)\n",
    "    examples = []\n",
    "    \n",
    "    for (src, tgt) in tqdm.tqdm(data):\n",
    "        \n",
    "        src_ids = tokenizer.encode(src)[1:-1]\n",
    "        tgt_ids = tokenizer.encode(tgt)[1:-1]\n",
    "        \n",
    "        decoder_input = [tokenizer.bos_token_id] + tgt_ids\n",
    "        ground_truth_code = tgt_ids + [tokenizer.eos_token_id]\n",
    "\n",
    "\n",
    "\n",
    "        example = torchtext.data.Example.fromdict({\"encoder_input\":src_ids, \n",
    "                                                   \"ground_truth_code\":ground_truth_code, \n",
    "                                                   \"decoder_input\":decoder_input}, \n",
    "                                                fields={\"encoder_input\":(\"encoder_input\",TEXT_FIELD), \n",
    "                                                        \"ground_truth_code\":(\"ground_truth_code\",TEXT_FIELD),\n",
    "                                                        \"decoder_input\":(\"decoder_input\",TEXT_FIELD)})\n",
    "        examples.append(example)\n",
    "        \n",
    "    dataset = torchtext.data.Dataset(examples,fields={\"encoder_input\":TEXT_FIELD, \n",
    "                                              \"ground_truth_code\":TEXT_FIELD, \n",
    "                                              \"decoder_input\":TEXT_FIELD})\n",
    "    return dataset\n",
    "\n",
    "train_dataset = data2dataset(train_data)\n",
    "val_dataset = data2dataset(test_data)"
   ]
  },
  {
   "cell_type": "code",
   "execution_count": null,
   "metadata": {},
   "outputs": [],
   "source": []
  },
  {
   "cell_type": "code",
   "execution_count": 7,
   "metadata": {},
   "outputs": [],
   "source": [
    "batch_size = 16\n",
    "\n",
    "train_iterator = BucketIterator(\n",
    "    train_dataset,\n",
    "    batch_size = batch_size,\n",
    "    repeat=True,\n",
    "    shuffle=True,\n",
    "    sort=True,\n",
    "    sort_key = lambda x: len(x.encoder_input)+len(x.decoder_input),\n",
    "    device = device)"
   ]
  },
  {
   "cell_type": "code",
   "execution_count": 8,
   "metadata": {},
   "outputs": [
    {
     "name": "stdout",
     "output_type": "stream",
     "text": [
      "encoder_input    : ['try', ',', '[PAD]']\n",
      "decoder_input    : ['[unused0]', 'try', ':']\n",
      "ground_truth_code: ['try', ':', '[unused1]']\n",
      "\n"
     ]
    }
   ],
   "source": [
    "for i, batch in enumerate(train_iterator):\n",
    "    idx = 0\n",
    "#     print([SRC_TEXT.vocab.itos[id] for id in batch.src.cpu().numpy()[:,idx]])\n",
    "    encoder_input = batch.encoder_input.cpu()[:,idx].tolist()\n",
    "    decoder_input = batch.decoder_input.cpu()[:,idx].tolist()\n",
    "    ground_truth_code = batch.ground_truth_code.cpu()[:,idx].tolist()\n",
    "    \n",
    "    print(\"encoder_input    :\",tokenizer.convert_ids_to_tokens(encoder_input))\n",
    "    print(\"decoder_input    :\",tokenizer.convert_ids_to_tokens(decoder_input))\n",
    "    print(\"ground_truth_code:\",tokenizer.convert_ids_to_tokens(ground_truth_code))\n",
    "    print()\n",
    "    break"
   ]
  },
  {
   "cell_type": "code",
   "execution_count": 9,
   "metadata": {},
   "outputs": [
    {
     "name": "stdout",
     "output_type": "stream",
     "text": [
      "<All keys matched successfully>\n",
      "Integrity test returns mean -9.449563975749697e-08 and norm 0.0017513044876977801\n"
     ]
    }
   ],
   "source": [
    "model = CopyGeneratorTransformer().to(device)"
   ]
  },
  {
   "cell_type": "code",
   "execution_count": 10,
   "metadata": {},
   "outputs": [
    {
     "data": {
      "text/plain": [
       "torch.Size([5, 2, 30522])"
      ]
     },
     "execution_count": 10,
     "metadata": {},
     "output_type": "execute_result"
    }
   ],
   "source": [
    "vocab_size = tokenizer.vocab_size\n",
    "\n",
    "src = torch.randint(0, vocab_size, (3,2)).to(device)\n",
    "tgt = torch.randint(0, vocab_size, (5,2)).to(device)\n",
    "\n",
    "outputs = model(src, tgt)\n",
    "outputs.shape"
   ]
  },
  {
   "cell_type": "code",
   "execution_count": 11,
   "metadata": {},
   "outputs": [],
   "source": [
    "def rmid(arr, r_id):\n",
    "    return [x for x in arr if x != r_id]"
   ]
  },
  {
   "cell_type": "code",
   "execution_count": 12,
   "metadata": {},
   "outputs": [],
   "source": [
    "def nltk_bleu(refrence, prediction):\n",
    "    \"\"\"\n",
    "    Implementation from ReCode\n",
    "    and moses multi belu script sets BLEU to 0.0 if len(toks) < 4\n",
    "    \"\"\"\n",
    "    ngram_weights = [0.25] * min(4, len(refrence))\n",
    "    return sentence_bleu([refrence], prediction, weights=ngram_weights, \n",
    "                          smoothing_function=SmoothingFunction().method3)"
   ]
  },
  {
   "cell_type": "code",
   "execution_count": 13,
   "metadata": {},
   "outputs": [],
   "source": [
    "valid_iterator = BucketIterator(val_dataset,\n",
    "    batch_size = 16,\n",
    "    sort=True,\n",
    "    sort_key = lambda x: len(x.encoder_input)+len(x.decoder_input),\n",
    "    device = device)\n",
    "\n",
    "def batch_filter_ids(batch_list):\n",
    "    SOS_token=tokenizer.bos_token_id\n",
    "    EOS_token=tokenizer.eos_token_id\n",
    "    PAD_token=tokenizer.pad_token_id\n",
    "    return [[id for id in l if id not in [SOS_token,EOS_token,PAD_token]] for l in batch_list]\n",
    "\n",
    "def evaluate(beam_size=1, log=False):\n",
    "    model.eval() # Turn on the evaluation mode\n",
    "    with torch.no_grad(), open(\"BERT_code_generator.out\", \"w\", encoding=\"utf-8\") as out_fp:\n",
    "        BLEU_scores = []\n",
    "        for i, batch in enumerate(valid_iterator):\n",
    "            batch_size = batch.encoder_input.shape[1]\n",
    "            \n",
    "            encoder_inputs = batch.encoder_input\n",
    "            predictions = beam_search.beam_search_decode(model,\n",
    "                              batch_encoder_ids=encoder_inputs,\n",
    "                              SOS_token=tokenizer.bos_token_id,\n",
    "                              EOS_token=tokenizer.eos_token_id,\n",
    "                              PAD_token=tokenizer.pad_token_id,\n",
    "                              beam_size=beam_size,\n",
    "                              max_length=30,\n",
    "                              num_out=1)\n",
    "            \n",
    "            sources = encoder_inputs.transpose(0,1).cpu().tolist()\n",
    "            sources = batch_filter_ids(sources)\n",
    "            \n",
    "            predictions = [t[0].view(-1).cpu().tolist() for t in predictions]\n",
    "            predictions = batch_filter_ids(predictions)\n",
    "            \n",
    "            targets = batch.ground_truth_code.transpose(0,1).cpu().tolist()\n",
    "            targets = batch_filter_ids(targets)\n",
    "            \n",
    "            if i % int(len(valid_iterator)/3) == 0:\n",
    "                print(\"| EVALUATION | {:5d}/{:5d} batches |\".format(i, len(valid_iterator)))\n",
    "            \n",
    "            for j in range(batch_size):\n",
    "                BLEU = nltk_bleu(targets[j], predictions[j])\n",
    "                BLEU_scores.append(BLEU)\n",
    "                \n",
    "                out_fp.write(\"SRC  :\" + \" \".join(tokenizer.convert_ids_to_tokens(sources[j])) + \"\\n\")\n",
    "                out_fp.write(\"TGT  :\" + \" \".join(tokenizer.convert_ids_to_tokens(targets[j])) + \"\\n\")\n",
    "                out_fp.write(\"PRED :\" + \" \".join(tokenizer.convert_ids_to_tokens(predictions[j])) + \"\\n\")\n",
    "                out_fp.write(\"BLEU :\" + str(BLEU) + \"\\n\")\n",
    "                out_fp.write(\"\\n\")\n",
    "        final_BLEU = np.average(BLEU_scores)\n",
    "        \n",
    "        out_fp.write(\"\\n\\n| EVALUATION | BLEU: {:5.2f} |\\n\".format(final_BLEU))\n",
    "        print(\"| EVALUATION | BLEU: {:5.3f} |\".format(final_BLEU))\n",
    "    return (final_BLEU)"
   ]
  },
  {
   "cell_type": "code",
   "execution_count": 17,
   "metadata": {},
   "outputs": [
    {
     "name": "stdout",
     "output_type": "stream",
     "text": [
      "| EVALUATION |     0/  118 batches |\n",
      "| EVALUATION |    39/  118 batches |\n",
      "| EVALUATION |    78/  118 batches |\n",
      "| EVALUATION |   117/  118 batches |\n",
      "| EVALUATION | BLEU: 0.018 |\n"
     ]
    },
    {
     "data": {
      "text/plain": [
       "0.018410647766389728"
      ]
     },
     "execution_count": 17,
     "metadata": {},
     "output_type": "execute_result"
    }
   ],
   "source": [
    "evaluate(beam_size=1)"
   ]
  },
  {
   "cell_type": "code",
   "execution_count": 14,
   "metadata": {},
   "outputs": [],
   "source": [
    "def train_step(batch):\n",
    "    model.train() # Turn on the train mode\n",
    "    total_loss = 0.\n",
    "    start_time = time.time()\n",
    "    tgt_vocab_size = tokenizer.vocab_size\n",
    "    encoder_input = batch.encoder_input\n",
    "    decoder_input = batch.decoder_input\n",
    "    targets = batch.ground_truth_code\n",
    "\n",
    "    optimizer.zero_grad()\n",
    "    output = model(encoder_input, decoder_input)\n",
    "\n",
    "    loss = criterion(output.view(-1, tgt_vocab_size), targets.view(-1))\n",
    "    loss.backward()\n",
    "    torch.nn.utils.clip_grad_norm_(model.parameters(), 0.5)\n",
    "    optimizer.step()\n",
    "    elapsed = time.time() - start_time\n",
    "    return loss"
   ]
  },
  {
   "cell_type": "code",
   "execution_count": 15,
   "metadata": {},
   "outputs": [],
   "source": [
    "criterion = nn.CrossEntropyLoss(ignore_index=tokenizer.pad_token_id)\n",
    "lr = 0.005 # learning rate\n",
    "optimizer = torch.optim.SGD(model.parameters(), lr=lr)\n",
    "scheduler = torch.optim.lr_scheduler.StepLR(optimizer, 1.0, gamma=0.99)"
   ]
  },
  {
   "cell_type": "code",
   "execution_count": null,
   "metadata": {},
   "outputs": [
    {
     "data": {
      "application/vnd.jupyter.widget-view+json": {
       "model_id": "76afbec7c7c341e29247615d447fe8d4",
       "version_major": 2,
       "version_minor": 0
      },
      "text/plain": [
       "HBox(children=(IntProgress(value=0, max=500000), HTML(value='')))"
      ]
     },
     "metadata": {},
     "output_type": "display_data"
    }
   ],
   "source": [
    "def train(steps=10000, log_interval=200, learning_interval=4000, eval_interval=1000):\n",
    "    curves = []\n",
    "    \n",
    "    model.train() # Turn on the train mode\n",
    "    total_loss = 0.\n",
    "    start_time = time.time()\n",
    "    step = 1\n",
    "    pbar = tqdm.tqdm(train_iterator, total=steps)\n",
    "    try:\n",
    "        for batch in pbar:\n",
    "            loss = train_step(batch)\n",
    "            total_loss += loss.item()\n",
    "\n",
    "            if step % log_interval == 0:\n",
    "                cur_loss = total_loss / log_interval\n",
    "                elapsed = time.time() - start_time\n",
    "                pbar.set_description(f\"Loss:{cur_loss:5.2f}, Perplx:{math.exp(cur_loss):5.2f}\")\n",
    "    #             print('| {:5d}/{:5d} steps | '\n",
    "    #                   'lr {:02.4f} | ms/batch {:5.2f} | '\n",
    "    #                   'loss {:5.2f} | ppl {:8.2f}'.format(\n",
    "    #                     step, steps, scheduler.get_lr()[0],\n",
    "    #                     elapsed * 1000 / log_interval,\n",
    "    #                     cur_loss, math.exp(cur_loss)))\n",
    "                total_loss = 0\n",
    "                start_time = time.time()\n",
    "\n",
    "            if step % eval_interval == 0:\n",
    "                print(\"Evaluating model\")\n",
    "                outputs = evaluate()\n",
    "                curves.append(outputs)\n",
    "                model.train()\n",
    "\n",
    "            if step % learning_interval == 0:\n",
    "                scheduler.step()\n",
    "\n",
    "            step += 1\n",
    "            if step >= steps:\n",
    "                print(\"Finished training\")\n",
    "                break\n",
    "    except KeyboardInterrupt as e:\n",
    "        print(\"keyboardInterrupt, exitting!\")\n",
    "        \n",
    "    return curves\n",
    "    \n",
    "\n",
    "curves = train(steps=5000000, log_interval=50, eval_interval=10000)"
   ]
  },
  {
   "cell_type": "code",
   "execution_count": 19,
   "metadata": {},
   "outputs": [],
   "source": [
    "torch.save(model.state_dict(), \"saved_models/Code_generator_12layer_nonPretrain_encoderDecoder_django_62BLEU_stateDict_only.save\")"
   ]
  },
  {
   "cell_type": "code",
   "execution_count": 29,
   "metadata": {},
   "outputs": [
    {
     "data": {
      "image/png": "[encoded data removed]",
      "text/plain": [
       "<Figure size 432x288 with 1 Axes>"
      ]
     },
     "metadata": {
      "needs_background": "light"
     },
     "output_type": "display_data"
    }
   ],
   "source": [
    "import matplotlib.pyplot as plt\n",
    "plt.title(\"Code Generator with encoder and decoder BERT structure,\\n copy mechanism, test set BLEU on Django dataset\")\n",
    "plt.plot(curves, label='non initialised')\n",
    "from saved_models.BLEU_score_results import results\n",
    "plt.plot(results[\"Code Generator with encoder and decoder initialised to \\n BERT weights, copy mechanism, test set BLEU \\n on Django dataset, 500k steps\"], \n",
    "         label='BERT initialised enc & dec')\n",
    "plt.legend()\n",
    "plt.show()"
   ]
  },
  {
   "cell_type": "code",
   "execution_count": 22,
   "metadata": {},
   "outputs": [
    {
     "name": "stdout",
     "output_type": "stream",
     "text": [
      "[0.049592580189567956, 0.08484208140863933, 0.12406616784435351, 0.09353245249001116, 0.12113602824795039, 0.09749070193360733, 0.13282236048018664, 0.13290250028476974, 0.16195498401292585, 0.16601542969771926, 0.16775956643061346, 0.19191524223169348, 0.17991304129206342, 0.20473638497651325, 0.18532528767491996, 0.2230646563831725, 0.20543565993925175, 0.2488230338460703, 0.21790419877367578, 0.262546751667444, 0.22556788425744587, 0.2784065480808097, 0.2524491673441846, 0.3002864322030163, 0.2774204610753515, 0.32215673786365884, 0.2954061820273007, 0.3350557561510836, 0.3261210217483101, 0.3381238222462296, 0.3450634516819826, 0.3499366942695785, 0.361444706945584, 0.35337875526088797, 0.379447764628394, 0.3581711914515415, 0.3955763130472593, 0.362912411690212, 0.4050884525519769, 0.36499273081713973, 0.41133966019447565, 0.36605094894798496, 0.4272968882051794, 0.3751586392566293, 0.4375140930407554, 0.401382751152182, 0.43880929144997166, 0.40046890815767644, 0.43970614011152237, 0.4252187570602928, 0.44620697916975877, 0.43623184016023686, 0.44557969107026274, 0.4505862227831744, 0.44854850025146037, 0.4623654940082738, 0.44752426903622583, 0.46970024985172726, 0.45042371399892467, 0.47189725109954767, 0.44828341778036346, 0.47829903140478675, 0.45163578051107306, 0.48938074755525496, 0.4573276376317374, 0.489447599954719, 0.4718994602896193, 0.4920023562675507, 0.4803237865504327, 0.4945041603313197, 0.49063439360612526, 0.5002746069027131, 0.49227479298453714, 0.5035081482863685, 0.49802201682386804, 0.4996523844400757, 0.5066074192999196, 0.5041673752130571, 0.5154623488132313, 0.5050292027200451, 0.5175112136569395, 0.5070713241579975, 0.5236735137942324, 0.5081456100536258, 0.5303769954613315, 0.5092565933532265, 0.532779011264152, 0.5177399921768695, 0.5365853647758997, 0.5251025628150151, 0.5392031088647293, 0.5322815899391206, 0.5393268987870578, 0.5381524496201535, 0.5357652313268562, 0.536837477051258, 0.5408795353004562, 0.5437284664960969, 0.542286939403192, 0.5478388109469512, 0.5385069862560179, 0.5499569679098131, 0.5370900567965742, 0.5521472227672672, 0.5378642773487201, 0.5513370841039196, 0.5421423002671375, 0.558655920993682, 0.5446609792238083, 0.5599960686558266, 0.5469891347070582, 0.5607422912906798, 0.556169514686796, 0.5586485970960973, 0.561660031090667, 0.5629481786181599, 0.5663933882389675, 0.5658599905408257, 0.5725659255595189, 0.5661566882109439, 0.5698565138013559, 0.5662718119689604, 0.5729032225440495, 0.5633590651152788, 0.5718783471627817, 0.5638828353777526, 0.5716894344998558, 0.5656848518626952, 0.5794763322395953, 0.5692992184612479, 0.5829690520305378, 0.5754696898344064, 0.5839896845964911, 0.579758038112485, 0.5803007690639076, 0.5827291009518116, 0.5824594499868805, 0.5815770830250461, 0.58451609867654, 0.5868463678742846, 0.585277149492897, 0.5864073684245948, 0.5822113918420616, 0.5886866447049001, 0.5825828886090648, 0.5914225759618291, 0.5881912152285554, 0.5931115429170267, 0.5895613370356099, 0.5909181319974934, 0.5877002838954715, 0.5911141719040527, 0.5903547324946331, 0.5930207420069379, 0.5906490789382849, 0.5965726680885012, 0.5953094433077825, 0.594514627956215, 0.5946875720338463, 0.5964933136384971, 0.5985609169243221, 0.5976491271762376, 0.5987502844344013, 0.6007737303719377, 0.5988603706329565, 0.5983287986295002, 0.5983481854119485, 0.5966745967760918, 0.5997657638216745, 0.5984703371214859, 0.6030003553792167, 0.6022635066450979, 0.601882491525998, 0.6018270972072299, 0.6060590124143082, 0.6039537944649769, 0.604012296349651, 0.6021570386153938, 0.6053949248830054, 0.6049785268480394, 0.606218637131268, 0.6063676841903962, 0.6063369875001865, 0.6060588904001446, 0.6044499519505532, 0.6068806906482178, 0.6074068431829989, 0.6093255938745923, 0.6053284605647618, 0.608459275780236, 0.6060606234273201, 0.6057910173223636, 0.6048945213547382, 0.6070419281273439, 0.6054632627635126, 0.6075468917990803, 0.6077728477514417, 0.609244857496516, 0.6047021993244557, 0.6084665855350001, 0.6087261497281817, 0.6093588890030134, 0.6088752883753247, 0.6089874379245633, 0.6092845882802891, 0.6114234732435508, 0.6089796400892311, 0.6098956868773464, 0.6100915026054451, 0.6089178731133649, 0.6099023352436764, 0.6108910048742918, 0.6111068948702617, 0.6099836094644362, 0.6122719073662652, 0.6110637228364522, 0.6125716129262063, 0.6130698801850959, 0.6115772083027488, 0.6118570459943447, 0.6135244328601931, 0.6110368740789474, 0.6132837961100098, 0.6116943856747885, 0.6093206219781417, 0.6118987641224157, 0.6101016462772979, 0.6135876060446764, 0.6103614991546379, 0.6118650834574964, 0.6121301962459135, 0.6136200352003985, 0.6133605679393092, 0.6151977807424447, 0.613031739897845, 0.6157761042512097, 0.6153179564723421, 0.6176069367702339, 0.6136383648226899, 0.6184417621710682, 0.6174295955134262, 0.617510648297734, 0.61515584298427, 0.6167980775994623, 0.6165467027782396, 0.6155599052547396, 0.6146692500356308, 0.6155118653677389, 0.6154947738598467, 0.6150140369214742, 0.616533024404632, 0.618336839920792, 0.61809865413146, 0.6161265310497344, 0.6166279856293521, 0.6161172916497779, 0.6182910175765503, 0.6170274625399704, 0.6177881379672586, 0.6173031713392793, 0.6178810709021331, 0.6180082558978075, 0.6200221888634272, 0.6188182814740442, 0.6179938126606768, 0.6177588754555055, 0.6171697454913224, 0.6174425735287726, 0.6170349894632401, 0.6169168776066489, 0.6158663648540325, 0.6170040837823523, 0.6160439725904485, 0.6167611177396013, 0.616724302492601]\n"
     ]
    }
   ],
   "source": [
    "print(curves)"
   ]
  },
  {
   "cell_type": "code",
   "execution_count": null,
   "metadata": {},
   "outputs": [],
   "source": []
  }
 ],
 "metadata": {
  "kernelspec": {
   "display_name": "Python 3",
   "language": "python",
   "name": "python3"
  },
  "language_info": {
   "codemirror_mode": {
    "name": "ipython",
    "version": 3
   },
   "file_extension": ".py",
   "mimetype": "text/x-python",
   "name": "python",
   "nbconvert_exporter": "python",
   "pygments_lexer": "ipython3",
   "version": "3.6.9"
  }
 },
 "nbformat": 4,
 "nbformat_minor": 4
}

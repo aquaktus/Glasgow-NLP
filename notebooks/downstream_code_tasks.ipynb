{
 "cells": [
  {
   "cell_type": "markdown",
   "metadata": {},
   "source": [
    "# Code downstream tasks"
   ]
  },
  {
   "cell_type": "code",
   "execution_count": 1,
   "metadata": {},
   "outputs": [],
   "source": [
    "import os\n",
    "import gzip\n",
    "import json\n",
    "import jsonlines\n",
    "import tqdm.notebook as tqdm \n",
    "import random\n",
    "import numpy as np\n",
    "from src.useful_utils import chunks, read_in_chunks\n",
    "\n",
    "%load_ext autoreload\n",
    "%autoreload 2"
   ]
  },
  {
   "cell_type": "markdown",
   "metadata": {},
   "source": [
    "### MRR on code search net valid and test"
   ]
  },
  {
   "cell_type": "code",
   "execution_count": 4,
   "metadata": {},
   "outputs": [
    {
     "data": {
      "application/vnd.jupyter.widget-view+json": {
       "model_id": "e90b2b92a058484084c580c87296c509",
       "version_major": 2,
       "version_minor": 0
      },
      "text/plain": [
       "HBox(children=(FloatProgress(value=0.0, max=14.0), HTML(value='')))"
      ]
     },
     "metadata": {},
     "output_type": "display_data"
    },
    {
     "name": "stdout",
     "output_type": "stream",
     "text": [
      "\n"
     ]
    },
    {
     "data": {
      "application/vnd.jupyter.widget-view+json": {
       "model_id": "fad111840c784e1594055be4067ef4bd",
       "version_major": 2,
       "version_minor": 0
      },
      "text/plain": [
       "HBox(children=(FloatProgress(value=0.0, max=1.0), HTML(value='')))"
      ]
     },
     "metadata": {},
     "output_type": "display_data"
    },
    {
     "name": "stdout",
     "output_type": "stream",
     "text": [
      "\n"
     ]
    },
    {
     "data": {
      "application/vnd.jupyter.widget-view+json": {
       "model_id": "008199e188f74070b44a158e439e0d8b",
       "version_major": 2,
       "version_minor": 0
      },
      "text/plain": [
       "HBox(children=(FloatProgress(value=0.0, max=1.0), HTML(value='')))"
      ]
     },
     "metadata": {},
     "output_type": "display_data"
    },
    {
     "name": "stdout",
     "output_type": "stream",
     "text": [
      "\n"
     ]
    }
   ],
   "source": [
    "def load_CSN_data(datapath):\n",
    "    \"\"\"\n",
    "    This function loads all the CodeSearchNet data in memory for train, valid, and test\n",
    "    datapath: String: the path leading to the train, valid, test folders. Ex: \"python/final/jsonl\" -> /test /train /valid\n",
    "    \"\"\"\n",
    "    def jsonl_dir_to_data(path):\n",
    "        data_samples = []\n",
    "        files_list = os.listdir(path)\n",
    "        files_list.sort()\n",
    "        for file_name in  tqdm.tqdm(files_list):\n",
    "            file_path = os.path.join(path, file_name)\n",
    "            with gzip.GzipFile(file_path, 'r') as fin:\n",
    "                data = jsonlines.Reader(fin)\n",
    "                for line in data.iter():\n",
    "                    data_samples.append(line)\n",
    "        return data_samples\n",
    "             \n",
    "    train_data = jsonl_dir_to_data(os.path.join(datapath, \"train\"))\n",
    "    valid_data = jsonl_dir_to_data(os.path.join(datapath, \"valid\"))\n",
    "    test_data = jsonl_dir_to_data(os.path.join(datapath, \"test\"))\n",
    "    \n",
    "    return train_data, valid_data, test_data\n",
    "    \n",
    "train_data, valid_data, test_data = load_CSN_data(\"/nfs/code_search_net_archive/python/final/jsonl/\")"
   ]
  },
  {
   "cell_type": "code",
   "execution_count": 5,
   "metadata": {},
   "outputs": [],
   "source": [
    "full_sample_lookup = {}\n",
    "for split in [train_data, valid_data, test_data]:\n",
    "    for sample in split:\n",
    "        full_sample_lookup[sample[\"url\"].replace(\" \",\"%20\")] = sample"
   ]
  },
  {
   "cell_type": "code",
   "execution_count": null,
   "metadata": {},
   "outputs": [],
   "source": [
    "with open('/nfs/code_search_net_archive/python/final/jsonl/full_CSN_dictionary.json', 'r') as f:\n",
    "    full_sample_lookup = json.load(f)"
   ]
  },
  {
   "cell_type": "code",
   "execution_count": 8,
   "metadata": {},
   "outputs": [],
   "source": [
    "with open('/nfs/code_search_net_archive/python/final/jsonl/full_CSN_dictionary.json', 'w') as f:\n",
    "    json.dump(full_sample_lookup, f)"
   ]
  },
  {
   "cell_type": "markdown",
   "metadata": {},
   "source": [
    "**TrecRun format**\n",
    "\n",
    "qid Q0 docno rank score tag\n",
    "\n",
    "where:  \n",
    "- **qid**\tis the query number\n",
    "- **Q0**\tis the literal Q0\n",
    "- **docno**\tis the id of a document returned for qid\n",
    "- **rank**\t(1-999) is the rank of this response for this qid\n",
    "- **score**\tis a system-dependent indication of the quality of the response\n",
    "- **tag**\tis the identifier for the system\n",
    "\n",
    "Example:  \n",
    "1 Q0 nhslo3844_12_012186 1 1.73315273652 mySystem  \n",
    "1 Q0 nhslo1393_12_003292 2 1.72581054377 mySystem  \n",
    "1 Q0 nhslo3844_12_002212 3 1.72522727817 mySystem  \n",
    "1 Q0 nhslo3844_12_012182 4 1.72522727817 mySystem  \n",
    "1 Q0 nhslo1393_12_003296 5 1.71374426875 mySystem  \n",
    "\n",
    "**TrecQrel format**\n",
    "\n",
    "qid 0 docno relevance  \n",
    "\n",
    "where:  \n",
    "- **qid**\tis the query number\n",
    "- **0**\tis the literal 0\n",
    "- **docno**\tis the id of a document in your collection\n",
    "- **relevance**\tis how relevant is docno for qid\n",
    "\n",
    "Example:  \n",
    "1\t0\taldf.1864_12_000027\t1  \n",
    "1\t0\taller1867_12_000032\t2  \n",
    "1\t0\taller1868_12_000012\t0  \n",
    "1\t0\taller1871_12_000640\t1  \n",
    "1\t0\tarthr0949_12_000945\t0  \n",
    "1\t0\tarthr0949_12_000974\t1  \n",
    "\n",
    "**TrecRes format**\n",
    "\n",
    "label qid value\n",
    "\n",
    "where:  \n",
    "- **label**\tis any string, usually representing a metric\n",
    "- **qid**\tis the query number or 'all' to represent a aggregate value\n",
    "- **value**\tis numeral result of a metric"
   ]
  },
  {
   "cell_type": "code",
   "execution_count": 51,
   "metadata": {},
   "outputs": [],
   "source": [
    "def create_qrel_file(data, target_file_path):\n",
    "    '''\n",
    "    data: [{k:v,...}], contains \n",
    "    '''\n",
    "    with open(target_file_path, \"w\") as qrel_f:\n",
    "        for sample in data:\n",
    "            qrel_f.write(f\"{sample['url'].replace(' ','%20')} 0 {sample['url'].replace(' ','%20')} 1\\n\")\n",
    "\n",
    "create_qrel_file(valid_data, \"/nfs/code_search_net_archive/python/final/jsonl/valid.qrel\")"
   ]
  },
  {
   "cell_type": "code",
   "execution_count": 52,
   "metadata": {},
   "outputs": [
    {
     "name": "stdout",
     "output_type": "stream",
     "text": [
      "Creating runs\n"
     ]
    },
    {
     "data": {
      "application/vnd.jupyter.widget-view+json": {
       "model_id": "590044844c3a4d618002aabfe96ce963",
       "version_major": 2,
       "version_minor": 0
      },
      "text/plain": [
       "HBox(children=(FloatProgress(value=0.0, max=23107.0), HTML(value='')))"
      ]
     },
     "metadata": {},
     "output_type": "display_data"
    },
    {
     "name": "stdout",
     "output_type": "stream",
     "text": [
      "\n"
     ]
    },
    {
     "data": {
      "application/vnd.jupyter.widget-view+json": {
       "model_id": "b59aeeaa8d634378a2ec9dcf243be9a8",
       "version_major": 2,
       "version_minor": 0
      },
      "text/plain": [
       "HBox(children=(FloatProgress(value=0.0, max=23107.0), HTML(value='')))"
      ]
     },
     "metadata": {},
     "output_type": "display_data"
    },
    {
     "name": "stdout",
     "output_type": "stream",
     "text": [
      "\n"
     ]
    }
   ],
   "source": [
    "def create_run_file(data, target_file_path, hit_length=1000):\n",
    "    '''\n",
    "    data: [{k:v,...}], contains \n",
    "    '''\n",
    "    assert len(data) >= hit_length\n",
    "    \n",
    "    run_array = []\n",
    "    print(\"Creating runs\")\n",
    "    for i in tqdm.tqdm(range(len(data))):\n",
    "        arr = list(range(len(data)))\n",
    "        arr.pop(i)\n",
    "        distractor_doc_indexes = random.sample(arr, hit_length-1)\n",
    "        run_array.append([i]+distractor_doc_indexes)\n",
    "    \n",
    "    with open(target_file_path, \"w\") as run_f:\n",
    "        for i in tqdm.tqdm(range(len(run_array))):\n",
    "            url_list = [data[j]['url'].replace(\" \",\"%20\") for j in run_array[i]]\n",
    "            full_str=\"\"\n",
    "            for k, url in enumerate(url_list):\n",
    "                full_str += f\"{data[i]['url'].replace(' ','%20')} Q0 {url} {k} 0.99 first_sample\\n\"\n",
    "            run_f.write(full_str)\n",
    "                \n",
    "create_run_file(valid_data, \"/nfs/code_search_net_archive/python/final/jsonl/valid.run\")"
   ]
  },
  {
   "cell_type": "code",
   "execution_count": 53,
   "metadata": {},
   "outputs": [],
   "source": [
    "def dummy_scorer(q_doc_pairs):\n",
    "    '''\n",
    "    q_doc_pairs: [(query, doc)]\n",
    "    '''\n",
    "#     print(q_doc_pairs[0])\n",
    "    return list(np.random.uniform(low=0.0, high=1.0, size=(len(q_doc_pairs),)))"
   ]
  },
  {
   "cell_type": "code",
   "execution_count": 5,
   "metadata": {},
   "outputs": [],
   "source": [
    "def identity_scorer(q_doc_pairs):\n",
    "    return list(range(len(q_doc_pairs)))"
   ]
  },
  {
   "cell_type": "code",
   "execution_count": 3,
   "metadata": {},
   "outputs": [],
   "source": [
    "def calculate_MRR(qrel_file, run_file, lookup, ranking_fn, chunk_size=1000):\n",
    "    '''\n",
    "    data: [(query, true_doc)]\n",
    "    ranking_fn: a function that can take in a list of [(query, doc)] and return a [score] in that same order.\n",
    "    \n",
    "    The index of the data in the array is going to be the id used. The first element in each subsequent \n",
    "    array corresponding to a query will be the corresponding ground truth with the rest till the hit_length be \n",
    "    randomly sampled ids from the data.\n",
    "    It is assumed the data is ordered and continuous following TREC format.\n",
    "    \n",
    "    >>> qrel_file = \"/nfs/code_search_net_archive/python/final/jsonl/valid.qrel\"\n",
    "    >>> run_file = \"/nfs/code_search_net_archive/python/final/jsonl/valid.run\"\n",
    "    >>> calculate_MRR(qrel_file, run_file, full_sample_lookup, dummy_scorer)\n",
    "    '''    \n",
    "    # {(qid: docid)}\n",
    "    qrel_lookup = {}\n",
    "    num_lines = sum(1 for line in open(qrel_file))\n",
    "    with open(qrel_file, \"r\") as q_rel_f:\n",
    "        print(\"getting qrels\")\n",
    "        pbar = tqdm.tqdm(q_rel_f, total=num_lines)\n",
    "        for line in pbar:\n",
    "            split_line = line.strip().split()\n",
    "            qrel_lookup[split_line[0]] = split_line[2]\n",
    "    \n",
    "    MRR_scores = []\n",
    "    num_lines = sum(1 for line in open(run_file))\n",
    "    with open(run_file, \"r\") as run_f:\n",
    "        print(\"getting runs\")\n",
    "        query_chunk = []\n",
    "        pbar = tqdm.tqdm(run_f, total=num_lines)\n",
    "        for line in pbar:\n",
    "            split_line = line.strip().split()\n",
    "            query_chunk.append((split_line[0],split_line[2]))\n",
    "            if len(query_chunk) >= chunk_size:\n",
    "                #pocess\n",
    "                idx_relevant_doc = query_chunk.index((query_chunk[0][0], qrel_lookup[query_chunk[0][0]]))\n",
    "#                 query_doc_pairs = [(lookup[q_id]['docstring_tokens'], \n",
    "#                                     lookup[d_id]['code'].replace(lookup[query_chunk[0][1]]['docstring'],\"\")) for q_id, d_id in query_chunk]\n",
    "                query_doc_pairs = query_chunk\n",
    "                scores = ranking_fn(query_doc_pairs)\n",
    "                relevant_doc_score = scores.pop(idx_relevant_doc)\n",
    "                rank = sum([1 for s in scores if s>relevant_doc_score])\n",
    "                MRR_scores.append(1.0/(rank+1))\n",
    "                query_chunk = []\n",
    "        \n",
    "    return np.average(MRR_scores), MRR_scores"
   ]
  },
  {
   "cell_type": "code",
   "execution_count": 67,
   "metadata": {},
   "outputs": [
    {
     "name": "stdout",
     "output_type": "stream",
     "text": [
      "getting qrels\n"
     ]
    },
    {
     "data": {
      "application/vnd.jupyter.widget-view+json": {
       "model_id": "cbc53b4868194404811b34752abeeddb",
       "version_major": 2,
       "version_minor": 0
      },
      "text/plain": [
       "HBox(children=(FloatProgress(value=0.0, max=23107.0), HTML(value='')))"
      ]
     },
     "metadata": {},
     "output_type": "display_data"
    },
    {
     "name": "stdout",
     "output_type": "stream",
     "text": [
      "\n",
      "getting runs\n"
     ]
    },
    {
     "data": {
      "application/vnd.jupyter.widget-view+json": {
       "model_id": "fd3643b2594f4869887067cc2eb698f3",
       "version_major": 2,
       "version_minor": 0
      },
      "text/plain": [
       "HBox(children=(FloatProgress(value=0.0, max=23107000.0), HTML(value='')))"
      ]
     },
     "metadata": {},
     "output_type": "display_data"
    },
    {
     "name": "stdout",
     "output_type": "stream",
     "text": [
      "\n"
     ]
    },
    {
     "data": {
      "text/plain": [
       "0.007508186952385621"
      ]
     },
     "execution_count": 67,
     "metadata": {},
     "output_type": "execute_result"
    }
   ],
   "source": [
    "qrel_file = \"/nfs/code_search_net_archive/python/final/jsonl/valid.qrel\"\n",
    "run_file = \"/nfs/code_search_net_archive/python/final/jsonl/valid.run\"\n",
    "score, _ = calculate_MRR(qrel_file, run_file, full_sample_lookup, dummy_scorer)\n",
    "score"
   ]
  },
  {
   "cell_type": "code",
   "execution_count": 6,
   "metadata": {},
   "outputs": [
    {
     "name": "stdout",
     "output_type": "stream",
     "text": [
      "getting qrels\n"
     ]
    },
    {
     "data": {
      "application/vnd.jupyter.widget-view+json": {
       "model_id": "e3ed290509924344991ac1ad7dcc8467",
       "version_major": 2,
       "version_minor": 0
      },
      "text/plain": [
       "HBox(children=(FloatProgress(value=0.0, max=6192.0), HTML(value='')))"
      ]
     },
     "metadata": {},
     "output_type": "display_data"
    },
    {
     "name": "stdout",
     "output_type": "stream",
     "text": [
      "\n",
      "getting runs\n"
     ]
    },
    {
     "data": {
      "application/vnd.jupyter.widget-view+json": {
       "model_id": "e1705b64f2974d29840745093b42c5ee",
       "version_major": 2,
       "version_minor": 0
      },
      "text/plain": [
       "HBox(children=(FloatProgress(value=0.0, max=225156.0), HTML(value='')))"
      ]
     },
     "metadata": {},
     "output_type": "display_data"
    },
    {
     "ename": "ValueError",
     "evalue": "('enwiki:Antibiotics', 'a1039843710fd87981e2a2f4175422b792ce7d82') is not in list",
     "output_type": "error",
     "traceback": [
      "\u001b[0;31m---------------------------------------------------------------------------\u001b[0m",
      "\u001b[0;31mValueError\u001b[0m                                Traceback (most recent call last)",
      "\u001b[0;32m<ipython-input-6-e2ed1f7ef358>\u001b[0m in \u001b[0;36m<module>\u001b[0;34m\u001b[0m\n\u001b[1;32m      1\u001b[0m \u001b[0mqrel_file\u001b[0m \u001b[0;34m=\u001b[0m \u001b[0;34m\"/nfs/phd_by_carlos/notebooks/datasets/test_100.qrels\"\u001b[0m\u001b[0;34m\u001b[0m\u001b[0;34m\u001b[0m\u001b[0m\n\u001b[1;32m      2\u001b[0m \u001b[0mrun_file\u001b[0m \u001b[0;34m=\u001b[0m \u001b[0;34m\"/nfs/phd_by_carlos/notebooks/datasets/test_100.run\"\u001b[0m\u001b[0;34m\u001b[0m\u001b[0;34m\u001b[0m\u001b[0m\n\u001b[0;32m----> 3\u001b[0;31m \u001b[0mscore\u001b[0m\u001b[0;34m,\u001b[0m \u001b[0m_\u001b[0m \u001b[0;34m=\u001b[0m \u001b[0mcalculate_MRR\u001b[0m\u001b[0;34m(\u001b[0m\u001b[0mqrel_file\u001b[0m\u001b[0;34m,\u001b[0m \u001b[0mrun_file\u001b[0m\u001b[0;34m,\u001b[0m \u001b[0;34m{\u001b[0m\u001b[0;34m}\u001b[0m\u001b[0;34m,\u001b[0m \u001b[0midentity_scorer\u001b[0m\u001b[0;34m)\u001b[0m\u001b[0;34m\u001b[0m\u001b[0;34m\u001b[0m\u001b[0m\n\u001b[0m\u001b[1;32m      4\u001b[0m \u001b[0mscore\u001b[0m\u001b[0;34m\u001b[0m\u001b[0;34m\u001b[0m\u001b[0m\n",
      "\u001b[0;32m<ipython-input-3-80d23062df23>\u001b[0m in \u001b[0;36mcalculate_MRR\u001b[0;34m(qrel_file, run_file, lookup, ranking_fn, chunk_size)\u001b[0m\n\u001b[1;32m     34\u001b[0m             \u001b[0;32mif\u001b[0m \u001b[0mlen\u001b[0m\u001b[0;34m(\u001b[0m\u001b[0mquery_chunk\u001b[0m\u001b[0;34m)\u001b[0m \u001b[0;34m>=\u001b[0m \u001b[0mchunk_size\u001b[0m\u001b[0;34m:\u001b[0m\u001b[0;34m\u001b[0m\u001b[0;34m\u001b[0m\u001b[0m\n\u001b[1;32m     35\u001b[0m                 \u001b[0;31m#pocess\u001b[0m\u001b[0;34m\u001b[0m\u001b[0;34m\u001b[0m\u001b[0;34m\u001b[0m\u001b[0m\n\u001b[0;32m---> 36\u001b[0;31m                 \u001b[0midx_relevant_doc\u001b[0m \u001b[0;34m=\u001b[0m \u001b[0mquery_chunk\u001b[0m\u001b[0;34m.\u001b[0m\u001b[0mindex\u001b[0m\u001b[0;34m(\u001b[0m\u001b[0;34m(\u001b[0m\u001b[0mquery_chunk\u001b[0m\u001b[0;34m[\u001b[0m\u001b[0;36m0\u001b[0m\u001b[0;34m]\u001b[0m\u001b[0;34m[\u001b[0m\u001b[0;36m0\u001b[0m\u001b[0;34m]\u001b[0m\u001b[0;34m,\u001b[0m \u001b[0mqrel_lookup\u001b[0m\u001b[0;34m[\u001b[0m\u001b[0mquery_chunk\u001b[0m\u001b[0;34m[\u001b[0m\u001b[0;36m0\u001b[0m\u001b[0;34m]\u001b[0m\u001b[0;34m[\u001b[0m\u001b[0;36m0\u001b[0m\u001b[0;34m]\u001b[0m\u001b[0;34m]\u001b[0m\u001b[0;34m)\u001b[0m\u001b[0;34m)\u001b[0m\u001b[0;34m\u001b[0m\u001b[0;34m\u001b[0m\u001b[0m\n\u001b[0m\u001b[1;32m     37\u001b[0m \u001b[0;31m#                 query_doc_pairs = [(lookup[q_id]['docstring_tokens'],\u001b[0m\u001b[0;34m\u001b[0m\u001b[0;34m\u001b[0m\u001b[0;34m\u001b[0m\u001b[0m\n\u001b[1;32m     38\u001b[0m \u001b[0;31m#                                     lookup[d_id]['code'].replace(lookup[query_chunk[0][1]]['docstring'],\"\")) for q_id, d_id in query_chunk]\u001b[0m\u001b[0;34m\u001b[0m\u001b[0;34m\u001b[0m\u001b[0;34m\u001b[0m\u001b[0m\n",
      "\u001b[0;31mValueError\u001b[0m: ('enwiki:Antibiotics', 'a1039843710fd87981e2a2f4175422b792ce7d82') is not in list"
     ]
    }
   ],
   "source": [
    "qrel_file = \"/nfs/phd_by_carlos/notebooks/datasets/test_100.qrels\"\n",
    "run_file = \"/nfs/phd_by_carlos/notebooks/datasets/test_100.run\"\n",
    "score, _ = calculate_MRR(qrel_file, run_file, {}, identity_scorer)\n",
    "score"
   ]
  },
  {
   "cell_type": "code",
   "execution_count": null,
   "metadata": {},
   "outputs": [
    {
     "name": "stdout",
     "output_type": "stream",
     "text": [
      "> \u001b[0;32m<ipython-input-3-80d23062df23>\u001b[0m(36)\u001b[0;36mcalculate_MRR\u001b[0;34m()\u001b[0m\n",
      "\u001b[0;32m     34 \u001b[0;31m            \u001b[0;32mif\u001b[0m \u001b[0mlen\u001b[0m\u001b[0;34m(\u001b[0m\u001b[0mquery_chunk\u001b[0m\u001b[0;34m)\u001b[0m \u001b[0;34m>=\u001b[0m \u001b[0mchunk_size\u001b[0m\u001b[0;34m:\u001b[0m\u001b[0;34m\u001b[0m\u001b[0;34m\u001b[0m\u001b[0m\n",
      "\u001b[0m\u001b[0;32m     35 \u001b[0;31m                \u001b[0;31m#pocess\u001b[0m\u001b[0;34m\u001b[0m\u001b[0;34m\u001b[0m\u001b[0;34m\u001b[0m\u001b[0m\n",
      "\u001b[0m\u001b[0;32m---> 36 \u001b[0;31m                \u001b[0midx_relevant_doc\u001b[0m \u001b[0;34m=\u001b[0m \u001b[0mquery_chunk\u001b[0m\u001b[0;34m.\u001b[0m\u001b[0mindex\u001b[0m\u001b[0;34m(\u001b[0m\u001b[0;34m(\u001b[0m\u001b[0mquery_chunk\u001b[0m\u001b[0;34m[\u001b[0m\u001b[0;36m0\u001b[0m\u001b[0;34m]\u001b[0m\u001b[0;34m[\u001b[0m\u001b[0;36m0\u001b[0m\u001b[0;34m]\u001b[0m\u001b[0;34m,\u001b[0m \u001b[0mqrel_lookup\u001b[0m\u001b[0;34m[\u001b[0m\u001b[0mquery_chunk\u001b[0m\u001b[0;34m[\u001b[0m\u001b[0;36m0\u001b[0m\u001b[0;34m]\u001b[0m\u001b[0;34m[\u001b[0m\u001b[0;36m0\u001b[0m\u001b[0;34m]\u001b[0m\u001b[0;34m]\u001b[0m\u001b[0;34m)\u001b[0m\u001b[0;34m)\u001b[0m\u001b[0;34m\u001b[0m\u001b[0;34m\u001b[0m\u001b[0m\n",
      "\u001b[0m\u001b[0;32m     37 \u001b[0;31m\u001b[0;31m#                 query_doc_pairs = [(lookup[q_id]['docstring_tokens'],\u001b[0m\u001b[0;34m\u001b[0m\u001b[0;34m\u001b[0m\u001b[0;34m\u001b[0m\u001b[0m\n",
      "\u001b[0m\u001b[0;32m     38 \u001b[0;31m\u001b[0;31m#                                     lookup[d_id]['code'].replace(lookup[query_chunk[0][1]]['docstring'],\"\")) for q_id, d_id in query_chunk]\u001b[0m\u001b[0;34m\u001b[0m\u001b[0;34m\u001b[0m\u001b[0;34m\u001b[0m\u001b[0m\n",
      "\u001b[0m\n"
     ]
    },
    {
     "name": "stdin",
     "output_type": "stream",
     "text": [
      "ipdb>  query_chunk\n"
     ]
    },
    {
     "name": "stdout",
     "output_type": "stream",
     "text": [
      "[('enwiki:Antibiotics', '232f55315d6a5c26ffc91083240e1a449d808a46'), ('enwiki:Antibiotics', 'edc624f6c22ed13953b4ad63e14ed16df5b63eff'), ('enwiki:Antibiotics', '3d1072c8efcbaeffcd9a4cb10e0a3a76a25d889a'), ('enwiki:Antibiotics', '8f4e75922aec3ff3b30b29f1c4e1ca8ca5a667c8'), ('enwiki:Antibiotics', '2cd19a548932bdce56570d8f9ebf3db9a4580d58'), ('enwiki:Antibiotics', '73e7e72ae422f96f34d7bb5d8ec38cf15cccaeb3'), ('enwiki:Antibiotics', 'baa2bab77bdeb466ce9a1966fc638fdbe25824e3'), ('enwiki:Antibiotics', '9887fef5148ac26de93db1930f744dcff0246ffa'), ('enwiki:Antibiotics', '7ec65b5bd31eb12ec646ae85d650bf5e868f5429'), ('enwiki:Antibiotics', '375b32354b02293152c322216cdb5f658bfc1d10'), ('enwiki:Antibiotics', '6477218b58c23ae322fdb6190ebf5c33eccc96f8'), ('enwiki:Antibiotics', '9ef99ba093759948a49b44a186ddd60ca98931ad'), ('enwiki:Antibiotics', '45166f5fb8ebf8bf02de2a1193615a4d93af83ba'), ('enwiki:Antibiotics', '76dbb24b39fac12a7be9486164f45f9a12fc8993'), ('enwiki:Antibiotics', '2cfcbe2c507ca31605cb19f54c4ec39fda26c3ad'), ('enwiki:Antibiotics', '69b201e81a20311a060cbdb54acdfbdf79924269'), ('enwiki:Antibiotics', '32f795a3101d5015dd024648f8fc5f079784fdb8'), ('enwiki:Antibiotics', '709c5c147f845c5cfad89262bc5659512acafd3d'), ('enwiki:Antibiotics', '7a9c43eadc55ea0349313776beff6b0bc7824712'), ('enwiki:Antibiotics', 'dc7a917b4c72d2d1a5c7202de2a9c0f91ab88754'), ('enwiki:Antibiotics', '4d2e3dcd4804221bbfc61a4ce9e790d99b53da2f'), ('enwiki:Antibiotics', 'b3f372e26af9c341cb4d743942a5ecfd87af3f9d'), ('enwiki:Antibiotics', '67d56b7b99f46249d198507023b1a2e907dbd91b'), ('enwiki:Antibiotics', '7a4937f3a6c25a3df3167e0e59a13111d230d7a0'), ('enwiki:Antibiotics', '56a7f6a138b8527f221fb498132ca1df1dcbb82f'), ('enwiki:Antibiotics', 'a5b3b38459b2b3e8a39c48fc3c36e918ef07f15a'), ('enwiki:Antibiotics', '096ffd3218e3fff9a727136a015052db5df62da5'), ('enwiki:Antibiotics', '320344b89324663a9baff06ebf25b0d9279b6a26'), ('enwiki:Antibiotics', '65037eafa6c27b575094f4f2d05ae2dd092ffdb9'), ('enwiki:Antibiotics', 'f51dc4f34fa5490220416a2ead3c25e92375f78b'), ('enwiki:Antibiotics', 'e1bfb00397f9ddb8c042ff79a977635b63e4ee0f'), ('enwiki:Antibiotics', '7cff7b13d892034d38d65b5c9e86e35e0c0d9ee0'), ('enwiki:Antibiotics', '28011d07adf4198fba531389cb8e60422ecf1873'), ('enwiki:Antibiotics', 'c7dcf6a59892d16c819505b40f319b6172445a70'), ('enwiki:Antibiotics', '0c5c57373aef9c046b2862bc2c4aa05c3d5d9cae'), ('enwiki:Antibiotics', '8e76c29f2cc971131f3317dd05f1c03ff07092dc'), ('enwiki:Antibiotics', 'a408f3512534439bb1baef90b7b3c3168f17f337'), ('enwiki:Antibiotics', 'df13468caabebb7fdb7299d9a92a4b0e4fae3a03'), ('enwiki:Antibiotics', '1229b8a5005d69bfa280d9498e3869048d73b4a6'), ('enwiki:Antibiotics', 'f974e825161e6bd16deab67237719d92738c7e93'), ('enwiki:Antibiotics', '03844df95cea72c68727c67c34af84177705b1d0'), ('enwiki:Antibiotics', '61b6803be804da89048b050cd1bb3b56777776a3'), ('enwiki:Antibiotics', '7754de655d6cd83b33910b1d445f7077fcddea6a'), ('enwiki:Antibiotics', 'c48e2acb4be22ec4e782600955e0ee32d242c1d9'), ('enwiki:Antibiotics', 'ba3d964f152e97af4d5ed72f5cc3ec650bb4d87c'), ('enwiki:Antibiotics', '6be8b6cbed0c3c28f28e12e717389eb3c4e04e76'), ('enwiki:Antibiotics', '1eb91f3f84d22e452ce4d8777a81acf37b013d91'), ('enwiki:Antibiotics', '81e056a8500278494210e1fd6a2af1bcb1e03dec'), ('enwiki:Antibiotics', 'b7284d2fe4a4117fdd752d8643a8fc0a0b61dcac'), ('enwiki:Antibiotics', '3b578ec0312351200b9dac90f0fc93ab1d1e613a'), ('enwiki:Antibiotics', '9d55c872db8eca64a0aebd8c5429b15b7ba955e9'), ('enwiki:Antibiotics', '0dda17c4c07ba0cccef69ef3e6d87516fa23117c'), ('enwiki:Antibiotics', '6e593bec327c995cf37719d72dd47f7cae5b1c8c'), ('enwiki:Antibiotics', '8750a440eaecc88e2faeff44ea4eb202d72174d9'), ('enwiki:Antibiotics', '404fce7f53b2d595267e85d91990ec2207bd1abc'), ('enwiki:Antibiotics', '3efd95ffd842a42facec1ba1389073186e205dc7'), ('enwiki:Antibiotics', 'a30019d8913929eca288d9893542989c0e8b20b2'), ('enwiki:Antibiotics', 'c10ab4c7cbc0ed590a9f6f13748dc56a5897cfbd'), ('enwiki:Antibiotics', 'c50daeaea7a33a3abfa0bf9b498c03b82bd4ad5b'), ('enwiki:Antibiotics', 'f2f191976825fe2394bc9bf0d8866a74cd6782a6'), ('enwiki:Antibiotics', 'f4260404fe3b1116a3cb84163bacf141b0c6ec1d'), ('enwiki:Antibiotics', '50e54cbc32d54b7fa5aa8209537a732e98c30f7a'), ('enwiki:Antibiotics', 'b4c890d8c9336ebf6296aeeb75deefdfcb07c7bd'), ('enwiki:Antibiotics', 'aea245709ca9b4b39a360da899d6b0a20d65d6d9'), ('enwiki:Antibiotics', 'fd59aa520c43e69ea7abf7060abbe61a4bbf1ba9'), ('enwiki:Antibiotics', '11edd9f3aaf0bf6835da5df3373c3c1a37dbf046'), ('enwiki:Antibiotics', '243ca0142f6af74cee7990021d6adb6cb04b5ba4'), ('enwiki:Antibiotics', 'b1a77fdaa642a06df625ce1714f8906f65650082'), ('enwiki:Antibiotics', 'ca9649ab7fb53e461ba3623e7a8bd7785205ca83'), ('enwiki:Antibiotics', 'd9729c3eac2b889d0e4ee87084ef20e041cb9822'), ('enwiki:Antibiotics', 'd54b3ac5c39235cf1fb5dcec5176fba3036bc46c'), ('enwiki:Antibiotics', '399895e82a72eb8748918531da400304c906fa89'), ('enwiki:Antibiotics', 'b62ba20c521b867bc2abafb79d6a9d8b9fb460bf'), ('enwiki:Antibiotics', 'f67a0c5d671d8aafe4c4d73a30bd134bb52ba123'), ('enwiki:Antibiotics', '72a078ab0b434f06a6f1888952c0a782ca29ca9b'), ('enwiki:Antibiotics', 'd438bf9cf4ca246bb5e6002658560c105bdce0c1'), ('enwiki:Antibiotics', 'e115225dce9e89ce01bdf77bac6d763d3cad53eb'), ('enwiki:Antibiotics', '90aa5f0be33d391a210aa13280f82e0cfb6e0c86'), ('enwiki:Antibiotics', 'e91f031bf7fc9a2494695c3150b4f2015c1644cc'), ('enwiki:Antibiotics', '18a81621ff752da9c3d7f5c308120c331d4e18af'), ('enwiki:Antibiotics', 'd64175badf84558f8e878b46652d3dfdfea6e058'), ('enwiki:Antibiotics', 'f532dca5ec66b6c72a6026f74387d494a509f8bd'), ('enwiki:Antibiotics', 'f8dd88d908c9ef36939b7ff9d175458803ba26b1'), ('enwiki:Antibiotics', '6475dae55cf972d35c8bce4bac76ff5e6da96f86'), ('enwiki:Antibiotics', '763aad0301b151d593f12ab529ababac499bb535'), ('enwiki:Antibiotics', 'e1b401435923743695256d4e0414eb5281330140'), ('enwiki:Antibiotics', 'e80745f85c133c3775107cd7662d99e32a823afd'), ('enwiki:Antibiotics', '49b447118bf7c13d46d445f0ea0e6b994c8dca37'), ('enwiki:Antibiotics', 'd0c8dcb73a6c2ecfe7d8e87724ac1a5d87abe0b9'), ('enwiki:Antibiotics', 'fbd08f53fdeab4b165d500502a77d9a66a305bec'), ('enwiki:Antibiotics', '44657d098878480cfd7cb604e2b23b0d7ad2e842'), ('enwiki:Antibiotics', '85a438383be793e701b1abe459fd9823e3064b88'), ('enwiki:Antibiotics', '33b5703542ed9ca722105ed6e4c3fde065c5f598'), ('enwiki:Antibiotics', '819aefef70b09ea1201ec30ed2d86ba81f30d4dd'), ('enwiki:Antibiotics', '9547a190205b4a8a247f545ac0afb8cf9eafc63e'), ('enwiki:Antibiotics', '009cbe0cf0b724a2048c920d448d44b4a7df7a6a'), ('enwiki:Antibiotics', '3b75d1bca9defd08b6969e1e6476c9f92c70e3cb'), ('enwiki:Antibiotics', '433d8d90aa4f6266ea56fef56bf21a1e41c018f1'), ('enwiki:Antibiotics', '9f06b71a6008bcf1b2cc1d8351af8e0e524666bc'), ('enwiki:Antibiotics', 'ae6896ebddeed41ba9d04f2592d15781058b5107'), ('enwiki:Antibiotics/Classes', '7a9c43eadc55ea0349313776beff6b0bc7824712'), ('enwiki:Antibiotics/Classes', '32f795a3101d5015dd024648f8fc5f079784fdb8'), ('enwiki:Antibiotics/Classes', '5c14fd292d3833034afc624eaa5f77dc10d8e06d'), ('enwiki:Antibiotics/Classes', '1efbca6bef63e84abb3de0fe69691f104744c64d'), ('enwiki:Antibiotics/Classes', '27b246b538c9dea986796beaeb014e5f524d5bf0'), ('enwiki:Antibiotics/Classes', 'a79a11571fb69dd7f98dee375603c7ac4d0597a5'), ('enwiki:Antibiotics/Classes', '96b74871bfcb072269e9d4d9e2d0a93f5ff1f966'), ('enwiki:Antibiotics/Classes', '49b447118bf7c13d46d445f0ea0e6b994c8dca37'), ('enwiki:Antibiotics/Classes', '67d56b7b99f46249d198507023b1a2e907dbd91b'), ('enwiki:Antibiotics/Classes', 'd208eb2dee2675214c4598a9895096e2a3d166b0'), ('enwiki:Antibiotics/Classes', 'd5bb749264be8dfcf0bf6a0a5458d495217f63e4'), ('enwiki:Antibiotics/Classes', 'b1a64b1e4f6124bb1a5f460c24a9023682169bf1'), ('enwiki:Antibiotics/Classes', 'a5b3b38459b2b3e8a39c48fc3c36e918ef07f15a'), ('enwiki:Antibiotics/Classes', '657061d07274efc989fda5019f5ee8616cbfd6c7'), ('enwiki:Antibiotics/Classes', '2cfcbe2c507ca31605cb19f54c4ec39fda26c3ad'), ('enwiki:Antibiotics/Classes', '1229b8a5005d69bfa280d9498e3869048d73b4a6'), ('enwiki:Antibiotics/Classes', '2b37f904808481a71a75f48187673ab346182980'), ('enwiki:Antibiotics/Classes', 'e112cc0085fc0c35dd8d94578737b13c45ac12f1'), ('enwiki:Antibiotics/Classes', 'bea01fabd67929edd73c64915d33149fce028756'), ('enwiki:Antibiotics/Classes', '0570125b2ae3cdb5a2fbe46dee8b300d50443864'), ('enwiki:Antibiotics/Classes', '9a2a20dda3526b17aeabb4745a5d362a38314e8b'), ('enwiki:Antibiotics/Classes', 'bb8280f7ee666735322cae626f6939110ff4a2fd'), ('enwiki:Antibiotics/Classes', 'aa396b847c5fac2d3c6e529e59b1ffbfc6a22264'), ('enwiki:Antibiotics/Classes', 'c99ef18fe855f6ff6406e994b1fb8f204c3a8799'), ('enwiki:Antibiotics/Classes', 'df08fe1068a8d28e31a7f70367c248a3949d5c49'), ('enwiki:Antibiotics/Classes', '2bf7cdf6b2a24a1375121a8ad1a454ce7fb9e3e4'), ('enwiki:Antibiotics/Classes', 'fd57a38e1da8292832e551d313a3f0a6adcb64b6'), ('enwiki:Antibiotics/Classes', '67071eaeaa4db10a7251ccf26a3487712de2b3d8'), ('enwiki:Antibiotics/Classes', '95076163e95fca5c0026041cf0f20689793eead0'), ('enwiki:Antibiotics/Classes', 'bf5e938eb3a0f1f8ae2b895afa9d4e7518dfe32b'), ('enwiki:Antibiotics/Classes', '96bffdc07f161cadc0617a529c2d0fd20267be49'), ('enwiki:Antibiotics/Classes', 'edca3712554e62e283ff38d1b4f9c0af34176ce5'), ('enwiki:Antibiotics/Classes', '6836c560807096f1be9afc230efd49a6d30f56f8'), ('enwiki:Antibiotics/Classes', '2733bbe91edb8bac8e74f33aaca46232e4480035'), ('enwiki:Antibiotics/Classes', 'cfcbde73bcb587e94e1afe5176df3051a30d92ba'), ('enwiki:Antibiotics/Classes', '336cb87f0f77eb268df3fcb1c54d3e317fe2d63f'), ('enwiki:Antibiotics/Classes', 'ba3d964f152e97af4d5ed72f5cc3ec650bb4d87c'), ('enwiki:Antibiotics/Classes', 'aedcece42d1425e96b3d7f700b8bd43a9399ea5b'), ('enwiki:Antibiotics/Classes', '1fbc96c87474c1f9328aafc44259289b1c434bec'), ('enwiki:Antibiotics/Classes', '9f8f4e5c7c7891478813eba592b3a96f962a73c7'), ('enwiki:Antibiotics/Classes', 'f6efa754da7f6efa0d09ef249249f88953721834'), ('enwiki:Antibiotics/Classes', '15046d70393b343fdb76fdc06185344f864d1326'), ('enwiki:Antibiotics/Classes', 'fafe75f176819bae92ea290aab3e857f24c08d30'), ('enwiki:Antibiotics/Classes', 'ade47517985d8862d262a63476af13e5cd6ba500'), ('enwiki:Antibiotics/Classes', 'e518bed52c1e9237d4af361fff2c43492c00ab86'), ('enwiki:Antibiotics/Classes', 'c1221f96f034aedfb7516667046383711360dfbf'), ('enwiki:Antibiotics/Classes', '177c8fe68d9a643f7a1537738590aa6421feae4a'), ('enwiki:Antibiotics/Classes', '227cca268852e2061fa962daefd684d0016ca743'), ('enwiki:Antibiotics/Classes', '7019e9cc6e235f0a46feb8c73bbb5a4fc95ca7aa'), ('enwiki:Antibiotics/Classes', 'af3833d66648a973fc88cd459bd640d52c576d4e'), ('enwiki:Antibiotics/Classes', 'e35caca07873daad1ccba17146286461c48f381c'), ('enwiki:Antibiotics/Classes', '3975c21d34c85c494c151439d6ba5a2c63881e2d'), ('enwiki:Antibiotics/Classes', '938e565096f9470cbdde53a1ae9da39ceaf2f134'), ('enwiki:Antibiotics/Classes', 'b7716ee3d7cce38012097a9cbc9c52abd00595ea'), ('enwiki:Antibiotics/Classes', '1416565cb677ed9ad1ecbbde494e00ac0802150d'), ('enwiki:Antibiotics/Classes', 'adcaf543df9f918010895a5e97a4e9e5e4c93588'), ('enwiki:Antibiotics/Classes', '6c77e0c2de4714c7e9aaef4ec5f8f02a8bfc68a5'), ('enwiki:Antibiotics/Classes', 'e4b61bc1b45f62d02c6019573e1d38d9e2787a4d'), ('enwiki:Antibiotics/Classes', '142b041ad2fbd5991b4ef7e33daee7e80d24e014'), ('enwiki:Antibiotics/Classes', 'f5e539df6f4df32bbdb48ae57194756bbd673dbf'), ('enwiki:Antibiotics/Classes', '7f43cfe54b79af79c0d9dba54629cf6916fd8dd9'), ('enwiki:Antibiotics/Classes', '9687d6da2e3b1046b49263a0eea946b2b716c512'), ('enwiki:Antibiotics/Classes', 'b9ab677f39bc297b3c9e14c690607fc74aa9888e'), ('enwiki:Antibiotics/Classes', '0847a0cead10f8d1111df12486932fc0eaa301ba'), ('enwiki:Antibiotics/Classes', '26503a9fd45d6e5daaff8bf60732f870af0cf182'), ('enwiki:Antibiotics/Classes', '1e3b3525d8a45304aa160dace6028478d3be5730'), ('enwiki:Antibiotics/Classes', '3faba98a036d4e4e03b2ac9bd4ade354a04adad7'), ('enwiki:Antibiotics/Classes', '124fbb45d18d2c11d9d6710a446d87b29db9c7db'), ('enwiki:Antibiotics/Classes', '247a4e957564bddf2472671f897c28f4c1162c53'), ('enwiki:Antibiotics/Classes', 'ffbc8cc4d8bddfc06933ffd61d2c395d49bb2110'), ('enwiki:Antibiotics/Classes', '09c74da9b8ce239ed4bee02e6ed94519fa2ba181'), ('enwiki:Antibiotics/Classes', '2ba3df56ab3f43364f38c21b62e592a82ea3ef9c'), ('enwiki:Antibiotics/Classes', '6b0a42dce041c44ab4fc714029c43414b84b288e'), ('enwiki:Antibiotics/Classes', '3f44785e371785246135b2425e70c903e46d47fa'), ('enwiki:Antibiotics/Classes', 'c685dc9516be059c3fe85b4c883404d7e4cc8a5f'), ('enwiki:Antibiotics/Classes', '35172c652f77642391f21efd7d39cd3476e10aad'), ('enwiki:Antibiotics/Classes', '407df58ef9a24ca75877905563a3e858debf0870'), ('enwiki:Antibiotics/Classes', '8a129f2c1eac8f1b9832394068a0c500ee5f5aa8'), ('enwiki:Antibiotics/Classes', '9627c067e9d0aac0f020d85af3eaba9db8cadedc'), ('enwiki:Antibiotics/Classes', '11c51cc578370cbc840c3aac7d0386710b2cc45d'), ('enwiki:Antibiotics/Classes', 'f2344cdf9b4e3e36bc7eb307a0bd8f67993f7c87'), ('enwiki:Antibiotics/Classes', '6432b535249e3b1857f7ef16e9865c95df39cc4b'), ('enwiki:Antibiotics/Classes', '500eb3d26b1d3367d79830fa58c5189765af5d2e'), ('enwiki:Antibiotics/Classes', 'a60e44974a749f87e8753d65894c15130c05512c'), ('enwiki:Antibiotics/Classes', '2e63ceabc24d25e83dfa0c7dda2649da55b1f69c'), ('enwiki:Antibiotics/Classes', '511bdf5828c7899d5063032c2358ff4759e20463'), ('enwiki:Antibiotics/Classes', 'f9603fca3838df5e6cad2b32ea1ad551812e481f'), ('enwiki:Antibiotics/Classes', '492126fdd0f6588bc160d35c9697a4b18eb85424'), ('enwiki:Antibiotics/Classes', '32b3d5a47f5c417aedb718359041de5c07d91bbd'), ('enwiki:Antibiotics/Classes', 'c0398b71eb5a0f845a08f35627853d7c37a1a011'), ('enwiki:Antibiotics/Classes', 'dc6b53f3358aa4b9e339bd0ffaef64c8178c1131'), ('enwiki:Antibiotics/Classes', '0159f806c4247a8eeb71a59c83d8296d21e6bc96'), ('enwiki:Antibiotics/Classes', '5f527585d3d9ea073affc463e0f30323c65069db'), ('enwiki:Antibiotics/Classes', 'cb44370482ea4f83ce38f57ef5015922a61cf227'), ('enwiki:Antibiotics/Classes', '35ac549892cbdbaa373b6377f33827992e3b766c'), ('enwiki:Antibiotics/Classes', '5474ce5e492d00cf04a66619e616abdb27a70c86'), ('enwiki:Antibiotics/Classes', 'e902869017da42730d6b075a70ab36535e86ec84'), ('enwiki:Antibiotics/Classes', '232f55315d6a5c26ffc91083240e1a449d808a46'), ('enwiki:Antibiotics/Classes', '42e7214632b5b58f57956f0fc1dded7fec757bc9'), ('enwiki:Antibiotics/Classes', 'eae23c43babc238c77ec4bd654bbe64d5e0d52c9'), ('enwiki:Antibiotics/History', '709c5c147f845c5cfad89262bc5659512acafd3d'), ('enwiki:Antibiotics/History', '7cff7b13d892034d38d65b5c9e86e35e0c0d9ee0'), ('enwiki:Antibiotics/History', '52ace1421c2d25864920393a6d6e46c5a21b8452'), ('enwiki:Antibiotics/History', '78f4e9a3d460640a978ee122e72a570ac2dd5980'), ('enwiki:Antibiotics/History', '0a86c800302ff373bce9b9b88b028277984b335a'), ('enwiki:Antibiotics/History', '6fcdc0b1641e524d0191e82760177b54a0d0fdd9'), ('enwiki:Antibiotics/History', '7c336c1b95b418da180e1104c5d669f5c776795a'), ('enwiki:Antibiotics/History', 'bd1d7d07d730173c4839b1d668816b4f326f22da'), ('enwiki:Antibiotics/History', '62b0c0f3c67076ba2f29d8c2a289388cb3a2b998'), ('enwiki:Antibiotics/History', 'e34ddac8dc8f76c70870716eabe15c6734c2b2f3'), ('enwiki:Antibiotics/History', 'f6bb2aa03cc98d99dc3028cbac3d31554ef0d4ad'), ('enwiki:Antibiotics/History', '444730c9c0840de94ebecf36cf0425af246ddd14'), ('enwiki:Antibiotics/History', '26503a9fd45d6e5daaff8bf60732f870af0cf182'), ('enwiki:Antibiotics/History', '753d1a6a537b8934b460598d54e73729e25f29a5'), ('enwiki:Antibiotics/History', '11b6db8e63c5c83dd3d1e29997deaa95842c11f3'), ('enwiki:Antibiotics/History', '853e5e27ab6f90cdbefcabd4f4fc40deb34ce0af'), ('enwiki:Antibiotics/History', '9627c067e9d0aac0f020d85af3eaba9db8cadedc'), ('enwiki:Antibiotics/History', '885b09ca0f012a2255e373c3df86fc3f269d27df'), ('enwiki:Antibiotics/History', '232f55315d6a5c26ffc91083240e1a449d808a46'), ('enwiki:Antibiotics/History', 'ffe63884937e457d65751e594862a48ebc1d3fe6'), ('enwiki:Antibiotics/History', 'edc624f6c22ed13953b4ad63e14ed16df5b63eff'), ('enwiki:Antibiotics/History', '3d1072c8efcbaeffcd9a4cb10e0a3a76a25d889a'), ('enwiki:Antibiotics/History', '8f4e75922aec3ff3b30b29f1c4e1ca8ca5a667c8'), ('enwiki:Antibiotics/History', '8df82291b6dfb7601353a11726cac117e9e3b6f2'), ('enwiki:Antibiotics/History', '2cd19a548932bdce56570d8f9ebf3db9a4580d58'), ('enwiki:Antibiotics/History', '73e7e72ae422f96f34d7bb5d8ec38cf15cccaeb3'), ('enwiki:Antibiotics/History', 'baa2bab77bdeb466ce9a1966fc638fdbe25824e3'), ('enwiki:Antibiotics/History', '3db962a4ac1a549589ecb9db4cb99bf910c9fb3b'), ('enwiki:Antibiotics/History', '6dc11b6c13674504a7bbf786f5384d6b4a3a429a'), ('enwiki:Antibiotics/History', '9887fef5148ac26de93db1930f744dcff0246ffa'), ('enwiki:Antibiotics/History', '7ec65b5bd31eb12ec646ae85d650bf5e868f5429'), ('enwiki:Antibiotics/History', '375b32354b02293152c322216cdb5f658bfc1d10'), ('enwiki:Antibiotics/History', '6477218b58c23ae322fdb6190ebf5c33eccc96f8'), ('enwiki:Antibiotics/History', '9ef99ba093759948a49b44a186ddd60ca98931ad'), ('enwiki:Antibiotics/History', '45166f5fb8ebf8bf02de2a1193615a4d93af83ba'), ('enwiki:Antibiotics/History', '76dbb24b39fac12a7be9486164f45f9a12fc8993'), ('enwiki:Antibiotics/History', '2cfcbe2c507ca31605cb19f54c4ec39fda26c3ad'), ('enwiki:Antibiotics/History', '69b201e81a20311a060cbdb54acdfbdf79924269'), ('enwiki:Antibiotics/History', '32f795a3101d5015dd024648f8fc5f079784fdb8'), ('enwiki:Antibiotics/History', '7a9c43eadc55ea0349313776beff6b0bc7824712'), ('enwiki:Antibiotics/History', 'dc7a917b4c72d2d1a5c7202de2a9c0f91ab88754'), ('enwiki:Antibiotics/History', '9bfa885064a38311c0350109ecdfc0a69944163c'), ('enwiki:Antibiotics/History', '4d2e3dcd4804221bbfc61a4ce9e790d99b53da2f'), ('enwiki:Antibiotics/History', 'b3f372e26af9c341cb4d743942a5ecfd87af3f9d'), ('enwiki:Antibiotics/History', '67d56b7b99f46249d198507023b1a2e907dbd91b'), ('enwiki:Antibiotics/History', '7a4937f3a6c25a3df3167e0e59a13111d230d7a0'), ('enwiki:Antibiotics/History', '56a7f6a138b8527f221fb498132ca1df1dcbb82f'), ('enwiki:Antibiotics/History', 'a5b3b38459b2b3e8a39c48fc3c36e918ef07f15a'), ('enwiki:Antibiotics/History', '096ffd3218e3fff9a727136a015052db5df62da5'), ('enwiki:Antibiotics/History', '320344b89324663a9baff06ebf25b0d9279b6a26'), ('enwiki:Antibiotics/History', '65037eafa6c27b575094f4f2d05ae2dd092ffdb9'), ('enwiki:Antibiotics/History', '202083548ab455329cd43883a3d9f52357871092'), ('enwiki:Antibiotics/History', 'f51dc4f34fa5490220416a2ead3c25e92375f78b'), ('enwiki:Antibiotics/History', 'e1bfb00397f9ddb8c042ff79a977635b63e4ee0f'), ('enwiki:Antibiotics/History', '28011d07adf4198fba531389cb8e60422ecf1873'), ('enwiki:Antibiotics/History', 'c7dcf6a59892d16c819505b40f319b6172445a70'), ('enwiki:Antibiotics/History', '0c5c57373aef9c046b2862bc2c4aa05c3d5d9cae'), ('enwiki:Antibiotics/History', '8e76c29f2cc971131f3317dd05f1c03ff07092dc'), ('enwiki:Antibiotics/History', 'a408f3512534439bb1baef90b7b3c3168f17f337'), ('enwiki:Antibiotics/History', '1e1b1cbcdf9797dd461247cc2ccbb6fa18c934c6'), ('enwiki:Antibiotics/History', 'eb4b9456cbca7528c9e877b0c767a8507b3f4e7f'), ('enwiki:Antibiotics/History', 'df13468caabebb7fdb7299d9a92a4b0e4fae3a03'), ('enwiki:Antibiotics/History', '1229b8a5005d69bfa280d9498e3869048d73b4a6'), ('enwiki:Antibiotics/History', 'f974e825161e6bd16deab67237719d92738c7e93'), ('enwiki:Antibiotics/History', '03844df95cea72c68727c67c34af84177705b1d0'), ('enwiki:Antibiotics/History', '61b6803be804da89048b050cd1bb3b56777776a3'), ('enwiki:Antibiotics/History', '7754de655d6cd83b33910b1d445f7077fcddea6a'), ('enwiki:Antibiotics/History', 'c48e2acb4be22ec4e782600955e0ee32d242c1d9'), ('enwiki:Antibiotics/History', 'ba3d964f152e97af4d5ed72f5cc3ec650bb4d87c'), ('enwiki:Antibiotics/History', '6be8b6cbed0c3c28f28e12e717389eb3c4e04e76'), ('enwiki:Antibiotics/History', '1eb91f3f84d22e452ce4d8777a81acf37b013d91'), ('enwiki:Antibiotics/History', '81e056a8500278494210e1fd6a2af1bcb1e03dec'), ('enwiki:Antibiotics/History', 'b7284d2fe4a4117fdd752d8643a8fc0a0b61dcac'), ('enwiki:Antibiotics/History', '3b578ec0312351200b9dac90f0fc93ab1d1e613a'), ('enwiki:Antibiotics/History', '9d55c872db8eca64a0aebd8c5429b15b7ba955e9'), ('enwiki:Antibiotics/History', '0dda17c4c07ba0cccef69ef3e6d87516fa23117c'), ('enwiki:Antibiotics/History', '6e593bec327c995cf37719d72dd47f7cae5b1c8c'), ('enwiki:Antibiotics/History', '8eddfb7b5ec11147f208d16c2c7bb15c73ec24ef'), ('enwiki:Antibiotics/History', '8750a440eaecc88e2faeff44ea4eb202d72174d9'), ('enwiki:Antibiotics/History', '404fce7f53b2d595267e85d91990ec2207bd1abc'), ('enwiki:Antibiotics/History', '3efd95ffd842a42facec1ba1389073186e205dc7'), ('enwiki:Antibiotics/History', 'a30019d8913929eca288d9893542989c0e8b20b2'), ('enwiki:Antibiotics/History', 'c10ab4c7cbc0ed590a9f6f13748dc56a5897cfbd'), ('enwiki:Antibiotics/History', '246df09245e77a1be221e4893cae09b698a8d3f5'), ('enwiki:Antibiotics/History', 'c50daeaea7a33a3abfa0bf9b498c03b82bd4ad5b'), ('enwiki:Antibiotics/History', 'f2f191976825fe2394bc9bf0d8866a74cd6782a6'), ('enwiki:Antibiotics/History', 'f4260404fe3b1116a3cb84163bacf141b0c6ec1d'), ('enwiki:Antibiotics/History', 'a82f92b3649ef01a2f409851d844d0e3c5ff154f'), ('enwiki:Antibiotics/History', '50e54cbc32d54b7fa5aa8209537a732e98c30f7a'), ('enwiki:Antibiotics/History', 'b4c890d8c9336ebf6296aeeb75deefdfcb07c7bd'), ('enwiki:Antibiotics/History', 'aea245709ca9b4b39a360da899d6b0a20d65d6d9'), ('enwiki:Antibiotics/History', 'fd59aa520c43e69ea7abf7060abbe61a4bbf1ba9'), ('enwiki:Antibiotics/History', '11edd9f3aaf0bf6835da5df3373c3c1a37dbf046'), ('enwiki:Antibiotics/History', '243ca0142f6af74cee7990021d6adb6cb04b5ba4'), ('enwiki:Antibiotics/History', 'b1a77fdaa642a06df625ce1714f8906f65650082'), ('enwiki:Antibiotics/History', 'ca9649ab7fb53e461ba3623e7a8bd7785205ca83'), ('enwiki:Antibiotics/History', 'd9729c3eac2b889d0e4ee87084ef20e041cb9822'), ('enwiki:Antibiotics/History', 'd54b3ac5c39235cf1fb5dcec5176fba3036bc46c'), ('enwiki:Antibiotics/History', '399895e82a72eb8748918531da400304c906fa89'), ('enwiki:Antibiotics/History', 'b62ba20c521b867bc2abafb79d6a9d8b9fb460bf'), ('enwiki:Antibiotics/History/Etymology', '344630c20ac6d57d2333b12158d37b6135e0c88b'), ('enwiki:Antibiotics/History/Etymology', 'c08dc82860bf0d9e9356ee1ea9c3f193a2d5a0b7'), ('enwiki:Antibiotics/History/Etymology', '709c5c147f845c5cfad89262bc5659512acafd3d'), ('enwiki:Antibiotics/History/Etymology', '7cff7b13d892034d38d65b5c9e86e35e0c0d9ee0'), ('enwiki:Antibiotics/History/Etymology', '52ace1421c2d25864920393a6d6e46c5a21b8452'), ('enwiki:Antibiotics/History/Etymology', '78f4e9a3d460640a978ee122e72a570ac2dd5980'), ('enwiki:Antibiotics/History/Etymology', 'c3329450ae41465e373fa962873db04dbaccf1e5'), ('enwiki:Antibiotics/History/Etymology', '0a86c800302ff373bce9b9b88b028277984b335a'), ('enwiki:Antibiotics/History/Etymology', '6fcdc0b1641e524d0191e82760177b54a0d0fdd9'), ('enwiki:Antibiotics/History/Etymology', 'a33aae27ec8f8bbafe0558daf00e1fe6349712b1'), ('enwiki:Antibiotics/History/Etymology', '7c336c1b95b418da180e1104c5d669f5c776795a'), ('enwiki:Antibiotics/History/Etymology', 'bd1d7d07d730173c4839b1d668816b4f326f22da'), ('enwiki:Antibiotics/History/Etymology', '405224c225f54d0cf1650b8d5c89676930cf5a78'), ('enwiki:Antibiotics/History/Etymology', '62b0c0f3c67076ba2f29d8c2a289388cb3a2b998'), ('enwiki:Antibiotics/History/Etymology', 'cebb1b3ae3fb11a0fc55f849542471fb6996adfd'), ('enwiki:Antibiotics/History/Etymology', '96a42119589ac46ede1876f16c632e6018219ee7'), ('enwiki:Antibiotics/History/Etymology', 'd48bad097d76019fcc313836d51a360757d68098'), ('enwiki:Antibiotics/History/Etymology', 'e34ddac8dc8f76c70870716eabe15c6734c2b2f3'), ('enwiki:Antibiotics/History/Etymology', 'f6bb2aa03cc98d99dc3028cbac3d31554ef0d4ad'), ('enwiki:Antibiotics/History/Etymology', 'e2a6b45319b6b4c667cbc514f2436fb2997a2119'), ('enwiki:Antibiotics/History/Etymology', '444730c9c0840de94ebecf36cf0425af246ddd14'), ('enwiki:Antibiotics/History/Etymology', 'cb8c1e1d937fa8187ea3d45da6676192df5ba595'), ('enwiki:Antibiotics/History/Etymology', '26503a9fd45d6e5daaff8bf60732f870af0cf182'), ('enwiki:Antibiotics/History/Etymology', '753d1a6a537b8934b460598d54e73729e25f29a5'), ('enwiki:Antibiotics/History/Etymology', '11b6db8e63c5c83dd3d1e29997deaa95842c11f3'), ('enwiki:Antibiotics/History/Etymology', '1dcff5433b3e4145e231b6cac49da616ff1af889'), ('enwiki:Antibiotics/History/Etymology', '4868bb571e72f716693f8e7de136530def757728'), ('enwiki:Antibiotics/History/Etymology', '853e5e27ab6f90cdbefcabd4f4fc40deb34ce0af'), ('enwiki:Antibiotics/History/Etymology', '9627c067e9d0aac0f020d85af3eaba9db8cadedc'), ('enwiki:Antibiotics/History/Etymology', 'e5010fa93f9c0771c14945b1305f819f1424c0a9'), ('enwiki:Antibiotics/History/Etymology', '02ebc8331af0f901c338bc066ad1d36298497a4b'), ('enwiki:Antibiotics/History/Etymology', '4b0fbbe0c9ff5bd946b5d8a06388abc44608b74f'), ('enwiki:Antibiotics/History/Etymology', '885b09ca0f012a2255e373c3df86fc3f269d27df'), ('enwiki:Antibiotics/History/Etymology', '89db8d8b13fc67aa0e4136bb639cf4a508bc8171'), ('enwiki:Antibiotics/History/Etymology', '232f55315d6a5c26ffc91083240e1a449d808a46'), ('enwiki:Antibiotics/History/Etymology', '82463c238df9447c96ed91ebd7c3991840f55e4f'), ('enwiki:Antibiotics/History/Etymology', 'bdfa7c8debb0fb8e913c0697e78f8b5afb361b2a'), ('enwiki:Antibiotics/History/Etymology', '24d9fabad48b44eef99f2a0dd68f3449e2e17d94'), ('enwiki:Antibiotics/History/Etymology', '487a1a71718216a72a7b1de1e22763f9ed909f69'), ('enwiki:Antibiotics/History/Etymology', 'ba862fd4a85b57258a8394591ea5d9d2d58a6e52'), ('enwiki:Antibiotics/History/Etymology', 'd5acffd1b17d33fa18c91f169a6356be472fd853'), ('enwiki:Antibiotics/History/Etymology', 'ffe63884937e457d65751e594862a48ebc1d3fe6'), ('enwiki:Antibiotics/History/Etymology', 'edc624f6c22ed13953b4ad63e14ed16df5b63eff'), ('enwiki:Antibiotics/History/Etymology', '3d1072c8efcbaeffcd9a4cb10e0a3a76a25d889a'), ('enwiki:Antibiotics/History/Etymology', '274563aeb98b322f4da0948e473e05e613cc7f0b'), ('enwiki:Antibiotics/History/Etymology', 'f102078883652a728ae0775db3c318ce337ac6c5'), ('enwiki:Antibiotics/History/Etymology', '8f4e75922aec3ff3b30b29f1c4e1ca8ca5a667c8'), ('enwiki:Antibiotics/History/Etymology', '11e7543a0903457ab4749ad1c4e76b70cac6d8c4'), ('enwiki:Antibiotics/History/Etymology', 'b10a7f99b351a32a3b187a10dea44e1ca8686d23'), ('enwiki:Antibiotics/History/Etymology', '8df82291b6dfb7601353a11726cac117e9e3b6f2'), ('enwiki:Antibiotics/History/Etymology', '2cd19a548932bdce56570d8f9ebf3db9a4580d58'), ('enwiki:Antibiotics/History/Etymology', '246cadd0ed6362b4f8b9daee330cb9344f88563c'), ('enwiki:Antibiotics/History/Etymology', 'cfa1c935240fed89dea121a8449b0e6932ae4e50'), ('enwiki:Antibiotics/History/Etymology', '73e7e72ae422f96f34d7bb5d8ec38cf15cccaeb3'), ('enwiki:Antibiotics/History/Etymology', 'baa2bab77bdeb466ce9a1966fc638fdbe25824e3'), ('enwiki:Antibiotics/History/Etymology', '3db962a4ac1a549589ecb9db4cb99bf910c9fb3b'), ('enwiki:Antibiotics/History/Etymology', 'ff002265c8fb504e824cea6c19eca3f1690b9632'), ('enwiki:Antibiotics/History/Etymology', '6dc11b6c13674504a7bbf786f5384d6b4a3a429a'), ('enwiki:Antibiotics/History/Etymology', '9887fef5148ac26de93db1930f744dcff0246ffa'), ('enwiki:Antibiotics/History/Etymology', '7ec65b5bd31eb12ec646ae85d650bf5e868f5429'), ('enwiki:Antibiotics/History/Etymology', '375b32354b02293152c322216cdb5f658bfc1d10'), ('enwiki:Antibiotics/History/Etymology', '6477218b58c23ae322fdb6190ebf5c33eccc96f8'), ('enwiki:Antibiotics/History/Etymology', '9ef99ba093759948a49b44a186ddd60ca98931ad'), ('enwiki:Antibiotics/History/Etymology', 'a4e40eb5940fd97952d397eb21a1435dab1cbc0a'), ('enwiki:Antibiotics/History/Etymology', 'bfb891a5cbdffe9e88fa97cfa638d526938b31db'), ('enwiki:Antibiotics/History/Etymology', '6d7ae15368b7eb799af99e445167b06c7c697d44'), ('enwiki:Antibiotics/History/Etymology', '45166f5fb8ebf8bf02de2a1193615a4d93af83ba'), ('enwiki:Antibiotics/History/Etymology', '76dbb24b39fac12a7be9486164f45f9a12fc8993'), ('enwiki:Antibiotics/History/Etymology', '2cfcbe2c507ca31605cb19f54c4ec39fda26c3ad'), ('enwiki:Antibiotics/History/Etymology', '69b201e81a20311a060cbdb54acdfbdf79924269'), ('enwiki:Antibiotics/History/Etymology', '32f795a3101d5015dd024648f8fc5f079784fdb8'), ('enwiki:Antibiotics/History/Etymology', '7a9c43eadc55ea0349313776beff6b0bc7824712'), ('enwiki:Antibiotics/History/Etymology', 'dc7a917b4c72d2d1a5c7202de2a9c0f91ab88754'), ('enwiki:Antibiotics/History/Etymology', '9bfa885064a38311c0350109ecdfc0a69944163c'), ('enwiki:Antibiotics/History/Etymology', '4d2e3dcd4804221bbfc61a4ce9e790d99b53da2f'), ('enwiki:Antibiotics/History/Etymology', 'b3f372e26af9c341cb4d743942a5ecfd87af3f9d'), ('enwiki:Antibiotics/History/Etymology', '67d56b7b99f46249d198507023b1a2e907dbd91b'), ('enwiki:Antibiotics/History/Etymology', '0caed8fb520c24f42d77c977445d334f2e605404'), ('enwiki:Antibiotics/History/Etymology', '7a4937f3a6c25a3df3167e0e59a13111d230d7a0'), ('enwiki:Antibiotics/History/Etymology', '1458899d570b409c79a27fe635091fe2abb3b4fd'), ('enwiki:Antibiotics/History/Etymology', '56a7f6a138b8527f221fb498132ca1df1dcbb82f'), ('enwiki:Antibiotics/History/Etymology', 'a5b3b38459b2b3e8a39c48fc3c36e918ef07f15a'), ('enwiki:Antibiotics/History/Etymology', '1196891bdecf691e238827db43942cb9d897e44f'), ('enwiki:Antibiotics/History/Etymology', 'a8c7b351bc4093b79e33442cb5100b686c4a03d6'), ('enwiki:Antibiotics/History/Etymology', '096ffd3218e3fff9a727136a015052db5df62da5'), ('enwiki:Antibiotics/History/Etymology', '320344b89324663a9baff06ebf25b0d9279b6a26'), ('enwiki:Antibiotics/History/Etymology', '65037eafa6c27b575094f4f2d05ae2dd092ffdb9'), ('enwiki:Antibiotics/History/Etymology', '58c79658a1d818a7b3a34ba541515dd0f3aeff41'), ('enwiki:Antibiotics/History/Etymology', '651b44c704a5b2f3d7f68d8f743755ff3ae0d475'), ('enwiki:Antibiotics/History/Etymology', '1e9559becaf5697dff043e633236da42662c5b74'), ('enwiki:Antibiotics/History/Etymology', '202083548ab455329cd43883a3d9f52357871092'), ('enwiki:Antibiotics/History/Etymology', 'f51dc4f34fa5490220416a2ead3c25e92375f78b'), ('enwiki:Antibiotics/History/Etymology', 'a01771bead9356d868b607836cdf712565ab4195'), ('enwiki:Antibiotics/History/Etymology', 'e1bfb00397f9ddb8c042ff79a977635b63e4ee0f'), ('enwiki:Antibiotics/History/Etymology', '341ddbade696726de105184ec307e7eadce23837'), ('enwiki:Antibiotics/History/Etymology', 'c8d57cea1c5d4d1b2a67f4fa0c450aab963e68ca'), ('enwiki:Antibiotics/History/Etymology', '28011d07adf4198fba531389cb8e60422ecf1873'), ('enwiki:Antibiotics/History/Etymology', 'c7dcf6a59892d16c819505b40f319b6172445a70'), ('enwiki:Antibiotics/History/Etymology', '520f04632fb588b39d3b3ae7bb8370534fa58c0e'), ('enwiki:Antibiotics/History/Etymology', '0c5c57373aef9c046b2862bc2c4aa05c3d5d9cae'), ('enwiki:Antibiotics/Interactions/Alcohol', 'c48e2acb4be22ec4e782600955e0ee32d242c1d9'), ('enwiki:Antibiotics/Interactions/Alcohol', '7687d4e974adff12bfad3b8c31103e6d85258b91'), ('enwiki:Antibiotics/Interactions/Alcohol', 'bf9b9673b56ef81e8615cf8ae08740bdbf20b154'), ('enwiki:Antibiotics/Interactions/Alcohol', 'c6bcb11998ab8265cef42d655715db335e07b6b9'), ('enwiki:Antibiotics/Interactions/Alcohol', 'aa511ef51cb2a38e8e02a070451326cafdcf2cb7'), ('enwiki:Antibiotics/Interactions/Alcohol', 'e4098a12c2d2a816e9a7a0766cf73b0c4a2dccae'), ('enwiki:Antibiotics/Interactions/Alcohol', '8f9e2d25a57fc5a42578f2c836dfe0ea6999c49a'), ('enwiki:Antibiotics/Interactions/Alcohol', 'f43ed9b70a1d3b5f21ce7b97328f6dc44900662a'), ('enwiki:Antibiotics/Interactions/Alcohol', '2425c26cc9dff3220cabe84ec68f27aa108f1e2d'), ('enwiki:Antibiotics/Interactions/Alcohol', '7315f2b237d5ba6e04821832f464f5e86b92e7ff'), ('enwiki:Antibiotics/Interactions/Alcohol', '9fc9d649aaa7233e9fbe9c2a445cf10d69a28fdc'), ('enwiki:Antibiotics/Interactions/Alcohol', 'bc81fd06e666c329056ad22fddfc3875117a8844'), ('enwiki:Antibiotics/Interactions/Alcohol', 'ae3ac0eb5b99f44e2b1417a04e55bd01b963efc7'), ('enwiki:Antibiotics/Interactions/Alcohol', '041f1da95845a81737fb1933e264a2a6c1184a06'), ('enwiki:Antibiotics/Interactions/Alcohol', '320632d8a09525ec1441367bb199dcac3c78c5b5'), ('enwiki:Antibiotics/Interactions/Alcohol', 'a6efb4c8d27a3981f53fcad2250f2de6c83a385d'), ('enwiki:Antibiotics/Interactions/Alcohol', 'a831f0dc237c1dbb5ba91e714221625846276f53'), ('enwiki:Antibiotics/Interactions/Alcohol', 'a67a73020ff8536c6ebe1ed40489e1146d3e4dc3'), ('enwiki:Antibiotics/Interactions/Alcohol', '2ba19c0502a923c5ca29efbd73e3d6661463a1c0'), ('enwiki:Antibiotics/Interactions/Alcohol', '538c51682241678523e73e197f9ab28e99b7cdd2'), ('enwiki:Antibiotics/Interactions/Alcohol', 'c415a2ea08cd2025eb7857dfdee4b59477451208'), ('enwiki:Antibiotics/Interactions/Alcohol', '9401a8114a5c5d08c36ed95ae0c0aea8e0c25e5e'), ('enwiki:Antibiotics/Interactions/Alcohol', 'f28b1b3740cedb87cf4e9fbd3a440706b85252cf'), ('enwiki:Antibiotics/Interactions/Alcohol', 'f895fbb81306653fe35f297459d9dcbcdb1e7fd8'), ('enwiki:Antibiotics/Interactions/Alcohol', '69eccea03330162e984c2fb090a280ab7ccee78e'), ('enwiki:Antibiotics/Interactions/Alcohol', 'cb5affbf0e6c38bf80d37af099ba4e2d1a113711'), ('enwiki:Antibiotics/Interactions/Alcohol', '124fbb45d18d2c11d9d6710a446d87b29db9c7db'), ('enwiki:Antibiotics/Interactions/Alcohol', 'adaecbeacb2e37232183a3b4f088897823295968'), ('enwiki:Antibiotics/Interactions/Alcohol', '615271f050d8d755b110bde38f4664d4ba5f408f'), ('enwiki:Antibiotics/Interactions/Alcohol', 'f324356232a0fdd0056485816e814fd0a96b9959'), ('enwiki:Antibiotics/Interactions/Alcohol', '4a112f8f57dde46c9381f6d13acea7f3b590cf4e'), ('enwiki:Antibiotics/Interactions/Alcohol', '5f527585d3d9ea073affc463e0f30323c65069db'), ('enwiki:Antibiotics/Interactions/Alcohol', 'a7724f49abb3b186a52cd1ac9b36024cb93a7b37'), ('enwiki:Antibiotics/Interactions/Alcohol', 'c15931e50592eac2e8b4cff395232b767cb6e938'), ('enwiki:Antibiotics/Interactions/Alcohol', '291671c07604c80a30264fa143f889d196561144'), ('enwiki:Antibiotics/Interactions/Alcohol', '7ab3915d4d764f62bb200a43e204634d8818f1a4'), ('enwiki:Antibiotics/Interactions/Alcohol', '9a5a61ca14cf91b4fcc51597281c7a74b8c147a2'), ('enwiki:Antibiotics/Interactions/Alcohol', '6c6ecbbf3c2e0e86a0c2df579dcbda15efd25e3f'), ('enwiki:Antibiotics/Interactions/Alcohol', 'ab94e726b371bd4499d15e6472fd9e7d51b6215e'), ('enwiki:Antibiotics/Interactions/Alcohol', '799ec9e884f857068c9e9fb718f44763e87cb06b'), ('enwiki:Antibiotics/Interactions/Alcohol', 'e28b4b4eea2414fb92dc1bb4363138ad0433c438'), ('enwiki:Antibiotics/Interactions/Alcohol', 'fda1c03a7f8cc6cf431c4de405f2e1d97680ece7'), ('enwiki:Antibiotics/Interactions/Alcohol', 'd2a1790fe518a254ff24725bf4c88f74a8f9d0e7'), ('enwiki:Antibiotics/Interactions/Alcohol', '5db06ea270c40259d050bd10318088709b01a72f'), ('enwiki:Antibiotics/Interactions/Alcohol', 'ff6e2863a1ea5b876632684c9369e794ff818a79'), ('enwiki:Antibiotics/Interactions/Alcohol', 'ebd9766f7e4dadb2d98657e2d01059a7cf018738'), ('enwiki:Antibiotics/Interactions/Alcohol', '7329caa491436926ea8d0fd88f2990bb46e0fe3b'), ('enwiki:Antibiotics/Interactions/Alcohol', '4f364b7ffee560b9cc32129ca82d68c2ab23c347'), ('enwiki:Antibiotics/Interactions/Alcohol', '82934bd443fd17f61250bd4e0b69fd5125185675'), ('enwiki:Antibiotics/Interactions/Alcohol', '02230f69872c6d6159880c490c4cd5cea83cd0a0'), ('enwiki:Antibiotics/Interactions/Alcohol', '23b37087d340afae8bbe54096966c1435c1164d7'), ('enwiki:Antibiotics/Interactions/Alcohol', '45dea2b2952c6a0a1a894aac42f1a9ba1abe4796'), ('enwiki:Antibiotics/Interactions/Alcohol', '8c89417538de9e1cdcd4cb99b8cfb82f478f6bd1'), ('enwiki:Antibiotics/Interactions/Alcohol', 'c2a516c07cb3745c995b7a4862d56291ea3809b6'), ('enwiki:Antibiotics/Interactions/Alcohol', 'a446616796d8dae3d57b1e1dda5269a7761f159b'), ('enwiki:Antibiotics/Interactions/Alcohol', 'e4f7b081d894915d42a6a2c673099342b5d8dc34'), ('enwiki:Antibiotics/Interactions/Alcohol', '2fa4130ae81c4385ae95144b9f6b20abaa7defe6'), ('enwiki:Antibiotics/Interactions/Alcohol', 'f29afd0875e2c860c49f0efb5e93224639c1b4a7'), ('enwiki:Antibiotics/Interactions/Alcohol', '3f57cb664b10d4bf6cf3a716fa757228a25c5433'), ('enwiki:Antibiotics/Interactions/Alcohol', '9684cae757872dcad4f0744881b895a27b16523e'), ('enwiki:Antibiotics/Interactions/Alcohol', '6512ef2bf27b1f94379ac97eeebacf4648f693a7'), ('enwiki:Antibiotics/Interactions/Alcohol', 'd944d56fffda50e412892176d3f294571d6ad465'), ('enwiki:Antibiotics/Interactions/Alcohol', 'a3cf98ea97f8236fe8c1c9a94ddccc00743dbf00'), ('enwiki:Antibiotics/Interactions/Alcohol', '1ef48eb39a6dd3b9fc923454f6288287ce62072c'), ('enwiki:Antibiotics/Interactions/Alcohol', '1ec6806d421dbfda5916fb1c6212069be4ae808c'), ('enwiki:Antibiotics/Interactions/Alcohol', '18930e5613a5bd5e59baf853c70611d9ffd48cbe'), ('enwiki:Antibiotics/Interactions/Alcohol', '229f782350b66be8dea1bafc3bcf2f40ab83f075'), ('enwiki:Antibiotics/Interactions/Alcohol', 'c33830254764dded6c9b6052a537e3467369e916'), ('enwiki:Antibiotics/Interactions/Alcohol', '38e947fc5ce815c798b70058de36b5a3df5ac810'), ('enwiki:Antibiotics/Interactions/Alcohol', '52303d290330f50d8928c43550a24b40ea929f81'), ('enwiki:Antibiotics/Interactions/Alcohol', 'f4171d712beebe9873c058d759519b57272c99b2'), ('enwiki:Antibiotics/Interactions/Alcohol', 'd9a07a51efa5e46dbf293d8ce4a5ec186ed05b85'), ('enwiki:Antibiotics/Interactions/Alcohol', 'c7378cc9c581c73854a81a6d90db8eb54385dcf3'), ('enwiki:Antibiotics/Interactions/Alcohol', '793637f09d9209d4018caa589a256baf0971ea29'), ('enwiki:Antibiotics/Interactions/Alcohol', '6f4cdb1724c0486f9580f36b3794a8f98d580f8d'), ('enwiki:Antibiotics/Interactions/Alcohol', '22f64bed7fa599534e01be0f57ccb1552ce62c51'), ('enwiki:Antibiotics/Interactions/Alcohol', '038f31b08d03acf2a0fb371a5a3d83dedff21ed5'), ('enwiki:Antibiotics/Interactions/Alcohol', '7af57094f671ae10c2dbe8c4d3da1eebe1697a1f'), ('enwiki:Antibiotics/Interactions/Alcohol', '62d6fc43aefa5ad810e7974b5bb25cdb347bfddf'), ('enwiki:Antibiotics/Interactions/Alcohol', '4c67fa238103b06d5f116357810a275d295a006d'), ('enwiki:Antibiotics/Interactions/Alcohol', '2b8b14e6258ced1b6334b3fb6de90900e3360021'), ('enwiki:Antibiotics/Interactions/Alcohol', '709cf56105608d3e5a672a7a3e3d9c3db675a628'), ('enwiki:Antibiotics/Interactions/Alcohol', '7dab03c0c594e8efd1fb93725cc1e5f7f82baef5'), ('enwiki:Antibiotics/Interactions/Alcohol', '95aba253fbf14c75f4f57c81d4203dfdd610dc75'), ('enwiki:Antibiotics/Interactions/Alcohol', '090f4cdf2e67c342c41d8df92352a4dacaf9a600'), ('enwiki:Antibiotics/Interactions/Alcohol', '85da4708d5629aa9c2723bfd33f5cc7740398a99'), ('enwiki:Antibiotics/Interactions/Alcohol', 'a070e22c0e9ac84fcc401c3009e9d67eb063ded0'), ('enwiki:Antibiotics/Interactions/Alcohol', '0bbf985bf27d1efcc438d8afd0f5ea961a7e20a4'), ('enwiki:Antibiotics/Interactions/Alcohol', '9347cfac6f7dafa7668ba59fb90554292d022e1b'), ('enwiki:Antibiotics/Interactions/Alcohol', '0d16fcfd32fdc6d1a9287b665b1136cd3556178a'), ('enwiki:Antibiotics/Interactions/Alcohol', '35dc61bc153bd442d8cd9d75cfd8312671139fca'), ('enwiki:Antibiotics/Interactions/Alcohol', '232f55315d6a5c26ffc91083240e1a449d808a46'), ('enwiki:Antibiotics/Interactions/Alcohol', '1e94a0201ffad355bc8e84dc704e87cf84fa5926'), ('enwiki:Antibiotics/Interactions/Alcohol', 'a575a4312f3eef081ea4c79fc5f3fc7171652b63'), ('enwiki:Antibiotics/Interactions/Alcohol', 'f46d679a2556d209754472a0d10729986d82bafe'), ('enwiki:Antibiotics/Interactions/Alcohol', '745ee42a8afac1ace77d7c57e98601430d37ff44'), ('enwiki:Antibiotics/Interactions/Alcohol', 'f1af3ce5b3b10ba1972c95edd68632bf80c8fb88'), ('enwiki:Antibiotics/Interactions/Alcohol', '33f2dd3d4f9c4ae7c74b9b1ea646614ad462a8a3'), ('enwiki:Antibiotics/Interactions/Alcohol', '55b0e09c0cd2d11fb6a2b854bb42077b5ece7c7f'), ('enwiki:Antibiotics/Interactions/Alcohol', '7b5d14a47675d63bc55a5aa2a86f9630540ae658'), ('enwiki:Antibiotics/Interactions/Birth%20control%20pills', '8f9e2d25a57fc5a42578f2c836dfe0ea6999c49a'), ('enwiki:Antibiotics/Interactions/Birth%20control%20pills', '9a2c3c9849390fdf0a73f2587a964eee7b4a6348'), ('enwiki:Antibiotics/Interactions/Birth%20control%20pills', 'def09a5ae6a9e82383b7a8da559fa56bc6b30666'), ('enwiki:Antibiotics/Interactions/Birth%20control%20pills', 'ccda63fdf5514a432823e584e1ef27c5531cfec9'), ('enwiki:Antibiotics/Interactions/Birth%20control%20pills', 'df32f4c0d7af4add7555d89257944c5df39e6ba6'), ('enwiki:Antibiotics/Interactions/Birth%20control%20pills', '4c27cb59c9247d3475e39b21ca279f5fe4a0efcc'), ('enwiki:Antibiotics/Interactions/Birth%20control%20pills', '1f2fb40d224d2344730a195b06e6f43d17d66c22'), ('enwiki:Antibiotics/Interactions/Birth%20control%20pills', 'ecce34719cf2c99a00a32f56fcab7d82c279f649'), ('enwiki:Antibiotics/Interactions/Birth%20control%20pills', '3b040d9689cf3ab02209eefc56253e61381ff537'), ('enwiki:Antibiotics/Interactions/Birth%20control%20pills', '1618ac451cd0bc918eb85698bdeb63f4614a4ce3'), ('enwiki:Antibiotics/Interactions/Birth%20control%20pills', 'ceab2809420a65207575e0a2b2b44e8b86aeb7ca'), ('enwiki:Antibiotics/Interactions/Birth%20control%20pills', '2f9c8d59168eeaf01aade883639d9a43395eaa42'), ('enwiki:Antibiotics/Interactions/Birth%20control%20pills', '86c56e74850d2be1ec27e5f2e96d2e2cd606996f'), ('enwiki:Antibiotics/Interactions/Birth%20control%20pills', '14ad1c0efd9b8901f29ff7304bd8357d5220f867'), ('enwiki:Antibiotics/Interactions/Birth%20control%20pills', '9527ac9c723c1f812b8a29eaefd888bb9a5730f8'), ('enwiki:Antibiotics/Interactions/Birth%20control%20pills', 'bf543832a592457a49f10a9d534bf4c9e5b2a7ea'), ('enwiki:Antibiotics/Interactions/Birth%20control%20pills', 'fcbb84757f87066e4d63bb4c4b3aec3aa7859540'), ('enwiki:Antibiotics/Interactions/Birth%20control%20pills', '5986d54ae5a8b2cf4084935ab2b3f73f09e5dbc1'), ('enwiki:Antibiotics/Interactions/Birth%20control%20pills', '810c002ffec6957e627b3ac030ddc80b52097ff8'), ('enwiki:Antibiotics/Interactions/Birth%20control%20pills', 'cdcba1eb64f029c5a95e9246ec3686c76fefb5b8'), ('enwiki:Antibiotics/Interactions/Birth%20control%20pills', '05148c5a657f5370f1df6ede8adc170ede449b2b'), ('enwiki:Antibiotics/Interactions/Birth%20control%20pills', 'fd208f34927cfb4ebe387ac8edfa908863cd391c'), ('enwiki:Antibiotics/Interactions/Birth%20control%20pills', '81d37ea30794f249c042da76bef5575e1994ef19'), ('enwiki:Antibiotics/Interactions/Birth%20control%20pills', '36c96578e5d97d00c241096c9b54bc671b347f14'), ('enwiki:Antibiotics/Interactions/Birth%20control%20pills', '409e9713c217b516a83ba4d0be0b2146527c644b'), ('enwiki:Antibiotics/Interactions/Birth%20control%20pills', '2b6f092a53d92579e2a58fa871a763ef8ff6b1fb'), ('enwiki:Antibiotics/Interactions/Birth%20control%20pills', '133b6585052e43c6d9ad85515ef50ddb1bec3549'), ('enwiki:Antibiotics/Interactions/Birth%20control%20pills', 'c4db1f56516da1a777904693e7647882c2287d56'), ('enwiki:Antibiotics/Interactions/Birth%20control%20pills', 'cbda9226c8e9455a8fecd33b9e11fbcb7cf1570e'), ('enwiki:Antibiotics/Interactions/Birth%20control%20pills', 'f7639e3787d65826633ee96b51cb4d7aaa5f4b72'), ('enwiki:Antibiotics/Interactions/Birth%20control%20pills', 'ca5d3fd5feac1d77779d1a9e2cc04a706be2feb0'), ('enwiki:Antibiotics/Interactions/Birth%20control%20pills', '0c27d46758d640059ac20653c270150d567a1dd4'), ('enwiki:Antibiotics/Interactions/Birth%20control%20pills', 'd56761c66b6ee6dbf10469a43be95dd9581e36e0'), ('enwiki:Antibiotics/Interactions/Birth%20control%20pills', '67b287eb29c131d57946a738824e607d649ebaca'), ('enwiki:Antibiotics/Interactions/Birth%20control%20pills', 'db5006a7d829eaaf97d477bcae18e5ec043e9163'), ('enwiki:Antibiotics/Interactions/Birth%20control%20pills', 'aba6fcedb47e10f5f805cfd30fca978242da941c'), ('enwiki:Antibiotics/Interactions/Birth%20control%20pills', '3ed3e1b812d4a654a61a28e097cbf1e0004244a4'), ('enwiki:Antibiotics/Interactions/Birth%20control%20pills', '9a2b5a7717203ffdc5af3cfb1d846bd669a1442c'), ('enwiki:Antibiotics/Interactions/Birth%20control%20pills', 'e8e68a5d9f0a58e1c00024559b0e851840232fbd'), ('enwiki:Antibiotics/Interactions/Birth%20control%20pills', 'c6103a078aa851e17a128f050dcbf12b61d0c7b5'), ('enwiki:Antibiotics/Interactions/Birth%20control%20pills', '4600945f4521d77e70837c1984517759c0e43583'), ('enwiki:Antibiotics/Interactions/Birth%20control%20pills', '6837e72deb0535364bc93b055c0b95a581dd179f'), ('enwiki:Antibiotics/Interactions/Birth%20control%20pills', 'c4e64cbd8e2e376e9c4e7779f440900d1838820c'), ('enwiki:Antibiotics/Interactions/Birth%20control%20pills', '266a7b4c152208dc6d37e4a2bf32ce4c341aabe1'), ('enwiki:Antibiotics/Interactions/Birth%20control%20pills', '9af8d52ac5f1d5cc5682845e05f23913c1b0b2b1'), ('enwiki:Antibiotics/Interactions/Birth%20control%20pills', '7b9e8967293c7ad8b99961a1a39336e9518b9628'), ('enwiki:Antibiotics/Interactions/Birth%20control%20pills', 'd1522248af08724f5fee8406cf5178a129d42601'), ('enwiki:Antibiotics/Interactions/Birth%20control%20pills', '1dab11a1a54dd11a38d83ce323c34e96d23610db'), ('enwiki:Antibiotics/Interactions/Birth%20control%20pills', '1d938041802f2fd21c168204b05320d88bcdd293'), ('enwiki:Antibiotics/Interactions/Birth%20control%20pills', '5481e6c9958dde2df951196a3be94c4a1c4ca55a'), ('enwiki:Antibiotics/Interactions/Birth%20control%20pills', '62333f704213d75c0e7eca67e7ca280f1c89a232'), ('enwiki:Antibiotics/Interactions/Birth%20control%20pills', 'e40dbea4df994dff64910743107898eab03cc375'), ('enwiki:Antibiotics/Interactions/Birth%20control%20pills', '484accb4492112e1cd8b345f0fb1d2a1e98d09f5'), ('enwiki:Antibiotics/Interactions/Birth%20control%20pills', '04599ba5cf67b64c3d6d5b6d5ac23f558dc94618'), ('enwiki:Antibiotics/Interactions/Birth%20control%20pills', '8bbf0534905079efe40dd8d3eeab8c4ae5b70cf4'), ('enwiki:Antibiotics/Interactions/Birth%20control%20pills', '6e7a59b17519caa1715aae68b5d7f9e0a4547aff'), ('enwiki:Antibiotics/Interactions/Birth%20control%20pills', '161817b0cd8ffff71836d16026fd324f286dd210'), ('enwiki:Antibiotics/Interactions/Birth%20control%20pills', 'e379af3d0f5f3fc35bc75068b5d56fc8ed0fbb13'), ('enwiki:Antibiotics/Interactions/Birth%20control%20pills', '8436df439539b7ab3658fa679ce997e119e2da01'), ('enwiki:Antibiotics/Interactions/Birth%20control%20pills', '240140dc40ebbf569c4ca284beff93e567ac5f48'), ('enwiki:Antibiotics/Interactions/Birth%20control%20pills', 'dd05493ebd523a84deed449f32feb49a41d811d8'), ('enwiki:Antibiotics/Interactions/Birth%20control%20pills', '1aac582c7a0c9a88dc95624836554eccb7703318'), ('enwiki:Antibiotics/Interactions/Birth%20control%20pills', '6d3a524805b41c7bbb9bef832c22aa77c635be73'), ('enwiki:Antibiotics/Interactions/Birth%20control%20pills', '1d9e05eba83c67ababdb837e715743e1388d4052'), ('enwiki:Antibiotics/Interactions/Birth%20control%20pills', 'b180b9f7ad5975a6e02f73515b941dfa4c5dee18'), ('enwiki:Antibiotics/Interactions/Birth%20control%20pills', 'd5a6be53e20cf41411be992399adced0d11f26ef'), ('enwiki:Antibiotics/Interactions/Birth%20control%20pills', 'f4fb5a03067917d4e592e97d4ae4377d04b671c9'), ('enwiki:Antibiotics/Interactions/Birth%20control%20pills', '8b62cbfcb1eb747fdca60afc45606cf037dab498'), ('enwiki:Antibiotics/Interactions/Birth%20control%20pills', '4b334237f62652566df1f407b5245b9a3398e714'), ('enwiki:Antibiotics/Interactions/Birth%20control%20pills', 'da13dfeb77e33267574c2ac011a632e3db180d00'), ('enwiki:Antibiotics/Interactions/Birth%20control%20pills', '98bcc5579a83a087cd8d31eed8f4e6ae7359541f'), ('enwiki:Antibiotics/Interactions/Birth%20control%20pills', '163556e5c8cf77141bc1de6a52c8afeb11dd89d8'), ('enwiki:Antibiotics/Interactions/Birth%20control%20pills', '70222b585613f882be908aacfeaf196580826f21'), ('enwiki:Antibiotics/Interactions/Birth%20control%20pills', 'df5f1cf58cc2669db757354790e448795cef025e'), ('enwiki:Antibiotics/Interactions/Birth%20control%20pills', 'f8b7933d7b621cb8e7f2ae411dbeeb7e501ea283'), ('enwiki:Antibiotics/Interactions/Birth%20control%20pills', '2cf51252f6707575d466c5910596d18dfa625c06'), ('enwiki:Antibiotics/Interactions/Birth%20control%20pills', 'dbebb7e61725268cdb143b4c707aef38d8c5c15e'), ('enwiki:Antibiotics/Interactions/Birth%20control%20pills', 'e8292249b67226c0e397f3a3fae6bac7619ce45a'), ('enwiki:Antibiotics/Interactions/Birth%20control%20pills', '440f74dd89370f174622f00a645f6854ca8f1d04'), ('enwiki:Antibiotics/Interactions/Birth%20control%20pills', '3f0cfdd1b793883b44cb58f772598760c70c9034'), ('enwiki:Antibiotics/Interactions/Birth%20control%20pills', 'b78f0613f10bdc57fe76c6d92d58fe96bc203fda'), ('enwiki:Antibiotics/Interactions/Birth%20control%20pills', 'd28e4bef07a2b5e9668d9f4e106a9eb55781cda8'), ('enwiki:Antibiotics/Interactions/Birth%20control%20pills', '9c902c51c41ef3b2e3f0451add83f738dada73b4'), ('enwiki:Antibiotics/Interactions/Birth%20control%20pills', 'adaecbeacb2e37232183a3b4f088897823295968'), ('enwiki:Antibiotics/Interactions/Birth%20control%20pills', '28829a8e218fec7acdfd571379638beace51f9c5'), ('enwiki:Antibiotics/Interactions/Birth%20control%20pills', 'feb66b3ede2e86e4ece9d99653eabad723efd7d8'), ('enwiki:Antibiotics/Interactions/Birth%20control%20pills', '1a167295274ef44ed2e4cef8d644ad158bc77566'), ('enwiki:Antibiotics/Interactions/Birth%20control%20pills', '8fc1f3f75cd3f2803a7415473ba7ab9dec60e33d'), ('enwiki:Antibiotics/Interactions/Birth%20control%20pills', 'd144a506c56667bd5092645e8a252d452ce2f828'), ('enwiki:Antibiotics/Interactions/Birth%20control%20pills', 'd31c5329ab2255123443492b52d87f812cf87a83'), ('enwiki:Antibiotics/Interactions/Birth%20control%20pills', '049495e661dd26888503ffe726571c4fe319bd89'), ('enwiki:Antibiotics/Interactions/Birth%20control%20pills', '659b7c4600b8ac353fa39699c8690282e1f2c23b'), ('enwiki:Antibiotics/Interactions/Birth%20control%20pills', 'd89db158f1cef15dd4cc8ef75a82a6798b315691'), ('enwiki:Antibiotics/Interactions/Birth%20control%20pills', '25b57b369906800da5402d493d4ebed108b4a36a'), ('enwiki:Antibiotics/Interactions/Birth%20control%20pills', '5c629bdcee36977f2933eed2b93425e10478147a'), ('enwiki:Antibiotics/Interactions/Birth%20control%20pills', '5f52ce0edb37afb711caaed3671a81abb684a93e'), ('enwiki:Antibiotics/Interactions/Birth%20control%20pills', '39e57505f5b891f27a533d02f0fd3603974433b5'), ('enwiki:Antibiotics/Interactions/Birth%20control%20pills', '9a21e66e27012702d66de53000f7adbe52ebbce1'), ('enwiki:Antibiotics/Interactions/Birth%20control%20pills', 'f87510d32040a202e0431054401f29956b3ac017'), ('enwiki:Antibiotics/Interactions/Birth%20control%20pills', 'd6cae440aed52a9f2c96d26c55301bacb60d1886'), ('enwiki:Antibiotics/Medical%20uses', 'ce6290ed1d6214a3ccf75d99313ff3a16e025314'), ('enwiki:Antibiotics/Medical%20uses', '9f06b71a6008bcf1b2cc1d8351af8e0e524666bc'), ('enwiki:Antibiotics/Medical%20uses', 'bbf0f4e7fdb8fdf5415440d2ccd5417606be4ba8'), ('enwiki:Antibiotics/Medical%20uses', '67d56b7b99f46249d198507023b1a2e907dbd91b'), ('enwiki:Antibiotics/Medical%20uses', '16ea1f996af72f22a130f7ee29481735b1b4def9'), ('enwiki:Antibiotics/Medical%20uses', '6c5f5ef3d64e5c36423db860ff46b05952edb0e6'), ('enwiki:Antibiotics/Medical%20uses', '5dc15dfa02bb3e4233ff6765a4f5e64d3b7e1b1c'), ('enwiki:Antibiotics/Medical%20uses', '518ea8579c78848e09852f3f19d2c82d682547c7'), ('enwiki:Antibiotics/Medical%20uses', 'f974e825161e6bd16deab67237719d92738c7e93'), ('enwiki:Antibiotics/Medical%20uses', '7ed2cddbd78d5df3b7c1ae9ab248950f182938ba'), ('enwiki:Antibiotics/Medical%20uses', '0570125b2ae3cdb5a2fbe46dee8b300d50443864'), ('enwiki:Antibiotics/Medical%20uses', '9547a190205b4a8a247f545ac0afb8cf9eafc63e'), ('enwiki:Antibiotics/Medical%20uses', 'ae034062b9c27faaa88e477b9538cdd7aea67986'), ('enwiki:Antibiotics/Medical%20uses', '7cff7b13d892034d38d65b5c9e86e35e0c0d9ee0'), ('enwiki:Antibiotics/Medical%20uses', '6fa8fb19f246bb0b46eaa204c3d3db7a4fccdbfb'), ('enwiki:Antibiotics/Medical%20uses', '40b2ff4772bfe6d1cf805bfbb0e15d70f9744f7b'), ('enwiki:Antibiotics/Medical%20uses', '18a81621ff752da9c3d7f5c308120c331d4e18af'), ('enwiki:Antibiotics/Medical%20uses', '77371e870295f83d40bf0441498382646b73c79f'), ('enwiki:Antibiotics/Medical%20uses', '57f123ed5173dedf35886fad6a1d3bc40ec329a8'), ('enwiki:Antibiotics/Medical%20uses', 'bd1d7d07d730173c4839b1d668816b4f326f22da'), ('enwiki:Antibiotics/Medical%20uses', 'd54b3ac5c39235cf1fb5dcec5176fba3036bc46c'), ('enwiki:Antibiotics/Medical%20uses', '7615380bba03f54d6e92b627b8a90bd174b09ef9'), ('enwiki:Antibiotics/Medical%20uses', 'b5d362e025e6d193ca5fc9d2f1aaf6923ab99cf7'), ('enwiki:Antibiotics/Medical%20uses', '5814ac332aad28a8d7ad989705a73e6ace8192ba'), ('enwiki:Antibiotics/Medical%20uses', '5c14fd292d3833034afc624eaa5f77dc10d8e06d'), ('enwiki:Antibiotics/Medical%20uses', '8adcd772458270a35367c5fee5b4f8598855dcac'), ('enwiki:Antibiotics/Medical%20uses', 'aedcece42d1425e96b3d7f700b8bd43a9399ea5b'), ('enwiki:Antibiotics/Medical%20uses', '438e2bab36d8ba60cb91fd6b81d0f6c4a8cb02a7'), ('enwiki:Antibiotics/Medical%20uses', '9148ed509df6ebcc2f165e86f2cb92eedc5555d9'), ('enwiki:Antibiotics/Medical%20uses', '536755349f00c2c76a09101e7153d20096dda488'), ('enwiki:Antibiotics/Medical%20uses', '1d5aec02606cde2c7d0769289552e1d67e874b7a'), ('enwiki:Antibiotics/Medical%20uses', '643052873774437ca0980328ef592a983188ec64'), ('enwiki:Antibiotics/Medical%20uses', '99315f79c43ada1fbe9036b4c4d2d15ed76b477a'), ('enwiki:Antibiotics/Medical%20uses', '22cfd7db0b83d6f84ab14067a3094017bf120a3f'), ('enwiki:Antibiotics/Medical%20uses', 'ca29734e39f4202744cc0e2d7c1dedf13a673eff'), ('enwiki:Antibiotics/Medical%20uses', 'd6647bc1d0589aa3ce5613a2c31dbac5c16304d3'), ('enwiki:Antibiotics/Medical%20uses', '99c53df89f4745ed00254ff7e0880154918eef44'), ('enwiki:Antibiotics/Medical%20uses', '987363016ee2d41ac46f46cb7f22f85f244338af'), ('enwiki:Antibiotics/Medical%20uses', '57443b483edfcda94966bd15fcaf9720512edc47'), ('enwiki:Antibiotics/Medical%20uses', '3dda3e731c8564f9ea6202b7e2a124ed9529ba94'), ('enwiki:Antibiotics/Medical%20uses', 'e28c5610449f564e823b7b2ff39a2cef1bbe3750'), ('enwiki:Antibiotics/Medical%20uses', '4050ee26085a98cbedd4cdb31513c5d724f9dbd4'), ('enwiki:Antibiotics/Medical%20uses', 'a170b5d75ccd47131e778c31b6c7c86dda49ff82'), ('enwiki:Antibiotics/Medical%20uses', 'a9a61d62f5b46e04737c3b411dcf3f0c6780db59'), ('enwiki:Antibiotics/Medical%20uses', '0a969af4350106a0266c78cbdf24e5b40983fdbd'), ('enwiki:Antibiotics/Medical%20uses', 'd9b2416819871e3dc32fe9ad030936f907b476cd'), ('enwiki:Antibiotics/Medical%20uses', 'daffced4b302322ff0d47104dc4ee7da65d8f766'), ('enwiki:Antibiotics/Medical%20uses', '4d798e829fbaf03ec7fac10fdde84198e05ce101'), ('enwiki:Antibiotics/Medical%20uses', '87a12ce9bd9ba3aba44360ce6cec05e6a82f5620'), ('enwiki:Antibiotics/Medical%20uses', '76b5a674a04009a109540546260aa353bb474d66'), ('enwiki:Antibiotics/Medical%20uses', '0169cb4ba497cdf3c7f744c33b60d0d0a32801bf'), ('enwiki:Antibiotics/Medical%20uses', '179e0c12ad7764381ea963283bc926c303ca07de'), ('enwiki:Antibiotics/Medical%20uses', '2ee0178e4d8c7704cf91499e9f523ca2f6a3f8d9'), ('enwiki:Antibiotics/Medical%20uses', '1b9b42c4fd3813847f8ffc8ea25f5c097d43a0fd'), ('enwiki:Antibiotics/Medical%20uses', 'cbde2e1af41b7bcad8d56c04a4ce885c630ace5d'), ('enwiki:Antibiotics/Medical%20uses', 'c5d4f51dc17dbd03ac7b3454f4fbe484e03ff412'), ('enwiki:Antibiotics/Medical%20uses', '6432b535249e3b1857f7ef16e9865c95df39cc4b'), ('enwiki:Antibiotics/Medical%20uses', 'cc77d833db6966eb5262f9e4bfa211b81df6f804'), ('enwiki:Antibiotics/Medical%20uses', 'ed20e92a8dd75ae63b3c65a4292c35511cd5801c'), ('enwiki:Antibiotics/Medical%20uses', '5946bf49617971433f8b540e2ff0000e59877765'), ('enwiki:Antibiotics/Medical%20uses', '6274e763caec36852cff3cc9da88968fc68c24e6'), ('enwiki:Antibiotics/Medical%20uses', '247a4e957564bddf2472671f897c28f4c1162c53'), ('enwiki:Antibiotics/Medical%20uses', 'ab8f8e8b974a3d2cebbb5f7fa98898e5964db6bf'), ('enwiki:Antibiotics/Medical%20uses', '5ed8e49cf78ceaac93bc28f0ad65a88b911d54bd'), ('enwiki:Antibiotics/Medical%20uses', 'e7e1f07fc33b3a782571a4196f92312363d8e2da'), ('enwiki:Antibiotics/Medical%20uses', 'd1c9a0a1956b8a845a960d713e597fb07d020198'), ('enwiki:Antibiotics/Medical%20uses', 'c8441bff400979178c03ef982c5e6e9f2bd01422'), ('enwiki:Antibiotics/Medical%20uses', '1eb91f3f84d22e452ce4d8777a81acf37b013d91'), ('enwiki:Antibiotics/Medical%20uses', '78e44e04a1cf49a05243bfb1f64ea17838914d2f'), ('enwiki:Antibiotics/Medical%20uses', '1de8c0b41c313b1fdae9e13d5fe08a0c90a48216'), ('enwiki:Antibiotics/Medical%20uses', '85a438383be793e701b1abe459fd9823e3064b88'), ('enwiki:Antibiotics/Medical%20uses', 'c2936199997365235b0b3115646132b1dbefe2b2'), ('enwiki:Antibiotics/Medical%20uses', '020fc086282ac11b29182a294f42fbea4096ce0d'), ('enwiki:Antibiotics/Medical%20uses', 'ec1ef7da26ef6a2408749028b59525d6c5289432'), ('enwiki:Antibiotics/Medical%20uses', 'a7724f49abb3b186a52cd1ac9b36024cb93a7b37'), ('enwiki:Antibiotics/Medical%20uses', '4ae4897b7916737702e90f750d12f9e9ac81f1f5'), ('enwiki:Antibiotics/Medical%20uses', '0a9351e52f56bbaa6039c4530da6a49ece907b82'), ('enwiki:Antibiotics/Medical%20uses', '3acf88fac12d24d4e2165383d95f30a2cafe2bb7'), ('enwiki:Antibiotics/Medical%20uses', '5a29b83ca9902729597f9c44818b784f7f05a5e4'), ('enwiki:Antibiotics/Medical%20uses', '15c0172b091e6c3aea3c2183a0cf316455fc720a'), ('enwiki:Antibiotics/Medical%20uses', '34702bc61e7fec0358de49844c7717a0d3ea069d'), ('enwiki:Antibiotics/Medical%20uses', '0543faad2ef47070c4a4f9a22d1e45465ec792c1'), ('enwiki:Antibiotics/Medical%20uses', '8e75eac09d8ba3eea6d6da585ed92a555f7c059b'), ('enwiki:Antibiotics/Medical%20uses', '79473adb8e6107d1ca89b1bdef47d3b480d6c26e'), ('enwiki:Antibiotics/Medical%20uses', 'edc624f6c22ed13953b4ad63e14ed16df5b63eff'), ('enwiki:Antibiotics/Medical%20uses', 'd97701c7865d00a1e14914432a1b9c49c0c633a0'), ('enwiki:Antibiotics/Medical%20uses', '74e5d2cd76d85a6a7f34f0cb18e185ee6168f84e'), ('enwiki:Antibiotics/Medical%20uses', '4d54a226945031da8124a35a98cfaddaddef79e1'), ('enwiki:Antibiotics/Medical%20uses', 'b1ad294851103c0647eb6fa6f5928eeec947b402'), ('enwiki:Antibiotics/Medical%20uses', '18a4c4a90b00a02764121a72e67a21273ef025d1'), ('enwiki:Antibiotics/Medical%20uses', '607e1ed94b472a014e69be2f46a351987ff3e57d'), ('enwiki:Antibiotics/Medical%20uses', '0c695d195e03a8e8af8cdd6cb1dbaafc16b04fc4'), ('enwiki:Antibiotics/Medical%20uses', '9f43330196909be7ba60b2e44def99ab4a599a2a'), ('enwiki:Antibiotics/Medical%20uses', '9684ec828cafa0e3480f9331db5f6d23e07f7c41'), ('enwiki:Antibiotics/Medical%20uses', '096fcf1d302e6ce11fb127b74e3a0c87cbec0bb1'), ('enwiki:Antibiotics/Medical%20uses', '848ba74bcf11bee8b451f3a624ab8088910c1aab'), ('enwiki:Antibiotics/Medical%20uses', '2fcd50046eeea5fe3d04cd10ca656fc12ba3fb9a'), ('enwiki:Antibiotics/Medical%20uses', '0b9bbf10ec79463c707a525cb6b7c14e42ad64c6'), ('enwiki:Antibiotics/Medical%20uses', '864dbb4843c1223d74f6a2309b7f699b54c9da06'), ('enwiki:Antibiotics/Medical%20uses', '6477218b58c23ae322fdb6190ebf5c33eccc96f8'), ('enwiki:Antibiotics/Medical%20uses/Administration', 'bbf0f4e7fdb8fdf5415440d2ccd5417606be4ba8'), ('enwiki:Antibiotics/Medical%20uses/Administration', '6c5f5ef3d64e5c36423db860ff46b05952edb0e6'), ('enwiki:Antibiotics/Medical%20uses/Administration', '7ed2cddbd78d5df3b7c1ae9ab248950f182938ba'), ('enwiki:Antibiotics/Medical%20uses/Administration', '7cff7b13d892034d38d65b5c9e86e35e0c0d9ee0'), ('enwiki:Antibiotics/Medical%20uses/Administration', '0c695d195e03a8e8af8cdd6cb1dbaafc16b04fc4'), ('enwiki:Antibiotics/Medical%20uses/Administration', 'ab8f8e8b974a3d2cebbb5f7fa98898e5964db6bf'), ('enwiki:Antibiotics/Medical%20uses/Administration', 'ce6290ed1d6214a3ccf75d99313ff3a16e025314'), ('enwiki:Antibiotics/Medical%20uses/Administration', '5ed8e49cf78ceaac93bc28f0ad65a88b911d54bd'), ('enwiki:Antibiotics/Medical%20uses/Administration', '9f06b71a6008bcf1b2cc1d8351af8e0e524666bc'), ('enwiki:Antibiotics/Medical%20uses/Administration', 'f8dd88d908c9ef36939b7ff9d175458803ba26b1'), ('enwiki:Antibiotics/Medical%20uses/Administration', 'edc624f6c22ed13953b4ad63e14ed16df5b63eff'), ('enwiki:Antibiotics/Medical%20uses/Administration', '67d56b7b99f46249d198507023b1a2e907dbd91b'), ('enwiki:Antibiotics/Medical%20uses/Administration', '16ea1f996af72f22a130f7ee29481735b1b4def9'), ('enwiki:Antibiotics/Medical%20uses/Administration', '5dc15dfa02bb3e4233ff6765a4f5e64d3b7e1b1c'), ('enwiki:Antibiotics/Medical%20uses/Administration', '520004b5c218e0c3f08b726f4729b2b26eff8d33'), ('enwiki:Antibiotics/Medical%20uses/Administration', '518ea8579c78848e09852f3f19d2c82d682547c7'), ('enwiki:Antibiotics/Medical%20uses/Administration', 'f974e825161e6bd16deab67237719d92738c7e93'), ('enwiki:Antibiotics/Medical%20uses/Administration', 'dc6a2f909d565221a9cc02ad3ce437ea71f1fa22'), ('enwiki:Antibiotics/Medical%20uses/Administration', '0570125b2ae3cdb5a2fbe46dee8b300d50443864'), ('enwiki:Antibiotics/Medical%20uses/Administration', '9547a190205b4a8a247f545ac0afb8cf9eafc63e'), ('enwiki:Antibiotics/Medical%20uses/Administration', 'ae034062b9c27faaa88e477b9538cdd7aea67986'), ('enwiki:Antibiotics/Medical%20uses/Administration', '902ab02c0fe3a097619b050a1a4b4f79d3c80443'), ('enwiki:Antibiotics/Medical%20uses/Administration', '6fa8fb19f246bb0b46eaa204c3d3db7a4fccdbfb'), ('enwiki:Antibiotics/Medical%20uses/Administration', '40b2ff4772bfe6d1cf805bfbb0e15d70f9744f7b'), ('enwiki:Antibiotics/Medical%20uses/Administration', '745c692d23afb728309e49faca2203adc7eccb28'), ('enwiki:Antibiotics/Medical%20uses/Administration', '18a81621ff752da9c3d7f5c308120c331d4e18af'), ('enwiki:Antibiotics/Medical%20uses/Administration', '0d2cd198f776819c9e099b57aa534b28508df836'), ('enwiki:Antibiotics/Medical%20uses/Administration', '77371e870295f83d40bf0441498382646b73c79f'), ('enwiki:Antibiotics/Medical%20uses/Administration', '57f123ed5173dedf35886fad6a1d3bc40ec329a8'), ('enwiki:Antibiotics/Medical%20uses/Administration', '8375291acd1e5dfc3d626704ad14f6fd95b312fc'), ('enwiki:Antibiotics/Medical%20uses/Administration', 'bd1d7d07d730173c4839b1d668816b4f326f22da'), ('enwiki:Antibiotics/Medical%20uses/Administration', 'e115225dce9e89ce01bdf77bac6d763d3cad53eb'), ('enwiki:Antibiotics/Medical%20uses/Administration', 'd54b3ac5c39235cf1fb5dcec5176fba3036bc46c'), ('enwiki:Antibiotics/Medical%20uses/Administration', 'ec43523ddcd1ec34a331945b361eae8a1ad8f3d9'), ('enwiki:Antibiotics/Medical%20uses/Administration', '45166f5fb8ebf8bf02de2a1193615a4d93af83ba'), ('enwiki:Antibiotics/Medical%20uses/Administration', '9e8fc0716481d165a431b6762ec1d62ca4d8de4f'), ('enwiki:Antibiotics/Medical%20uses/Administration', '9a344132f956276d2e04f1581d94fba7108c9b4c'), ('enwiki:Antibiotics/Medical%20uses/Administration', '11867dbdf81965c94aba66db1830339ddc12a4a5'), ('enwiki:Antibiotics/Medical%20uses/Administration', '7615380bba03f54d6e92b627b8a90bd174b09ef9'), ('enwiki:Antibiotics/Medical%20uses/Administration', 'b5d362e025e6d193ca5fc9d2f1aaf6923ab99cf7'), ('enwiki:Antibiotics/Medical%20uses/Administration', '5814ac332aad28a8d7ad989705a73e6ace8192ba'), ('enwiki:Antibiotics/Medical%20uses/Administration', '5c14fd292d3833034afc624eaa5f77dc10d8e06d'), ('enwiki:Antibiotics/Medical%20uses/Administration', '4a675d8015bb364784e1c87a14f18836f5fc0524'), ('enwiki:Antibiotics/Medical%20uses/Administration', '8adcd772458270a35367c5fee5b4f8598855dcac'), ('enwiki:Antibiotics/Medical%20uses/Administration', 'aedcece42d1425e96b3d7f700b8bd43a9399ea5b'), ('enwiki:Antibiotics/Medical%20uses/Administration', 'a5e049c2ba995a6de296e905b1a330c73be8a499'), ('enwiki:Antibiotics/Medical%20uses/Administration', 'd073528bc7e76355f5c244f58d9cb1fd97181bdd'), ('enwiki:Antibiotics/Medical%20uses/Administration', '438e2bab36d8ba60cb91fd6b81d0f6c4a8cb02a7'), ('enwiki:Antibiotics/Medical%20uses/Administration', 'ddc5d14812bb448fd2a11b6f96dfa9c78001d7e7'), ('enwiki:Antibiotics/Medical%20uses/Administration', '9148ed509df6ebcc2f165e86f2cb92eedc5555d9'), ('enwiki:Antibiotics/Medical%20uses/Administration', '536755349f00c2c76a09101e7153d20096dda488'), ('enwiki:Antibiotics/Medical%20uses/Administration', '1d5aec02606cde2c7d0769289552e1d67e874b7a'), ('enwiki:Antibiotics/Medical%20uses/Administration', '643052873774437ca0980328ef592a983188ec64'), ('enwiki:Antibiotics/Medical%20uses/Administration', '99315f79c43ada1fbe9036b4c4d2d15ed76b477a'), ('enwiki:Antibiotics/Medical%20uses/Administration', 'aea245709ca9b4b39a360da899d6b0a20d65d6d9'), ('enwiki:Antibiotics/Medical%20uses/Administration', '22cfd7db0b83d6f84ab14067a3094017bf120a3f'), ('enwiki:Antibiotics/Medical%20uses/Administration', '41a5e3a01084983fef5daea20f3ee249516ef516'), ('enwiki:Antibiotics/Medical%20uses/Administration', 'ca29734e39f4202744cc0e2d7c1dedf13a673eff'), ('enwiki:Antibiotics/Medical%20uses/Administration', 'd6647bc1d0589aa3ce5613a2c31dbac5c16304d3'), ('enwiki:Antibiotics/Medical%20uses/Administration', '99c53df89f4745ed00254ff7e0880154918eef44'), ('enwiki:Antibiotics/Medical%20uses/Administration', '242b63f10470b885d9d20f7426cd645a7c4bd24b'), ('enwiki:Antibiotics/Medical%20uses/Administration', '987363016ee2d41ac46f46cb7f22f85f244338af'), ('enwiki:Antibiotics/Medical%20uses/Administration', '57443b483edfcda94966bd15fcaf9720512edc47'), ('enwiki:Antibiotics/Medical%20uses/Administration', '3dda3e731c8564f9ea6202b7e2a124ed9529ba94'), ('enwiki:Antibiotics/Medical%20uses/Administration', 'e28c5610449f564e823b7b2ff39a2cef1bbe3750'), ('enwiki:Antibiotics/Medical%20uses/Administration', '4050ee26085a98cbedd4cdb31513c5d724f9dbd4'), ('enwiki:Antibiotics/Medical%20uses/Administration', '872595d741c727a5e881bc35364c6d5c4c5dcbf5'), ('enwiki:Antibiotics/Medical%20uses/Administration', 'a170b5d75ccd47131e778c31b6c7c86dda49ff82'), ('enwiki:Antibiotics/Medical%20uses/Administration', 'b5b82499ad8a83c2af2e0d8a547b0dd6c0ba3951'), ('enwiki:Antibiotics/Medical%20uses/Administration', 'ab340cd3639647fb15235923219e334718c6d1e2'), ('enwiki:Antibiotics/Medical%20uses/Administration', '1229b8a5005d69bfa280d9498e3869048d73b4a6'), ('enwiki:Antibiotics/Medical%20uses/Administration', 'a9a61d62f5b46e04737c3b411dcf3f0c6780db59'), ('enwiki:Antibiotics/Medical%20uses/Administration', '0a969af4350106a0266c78cbdf24e5b40983fdbd'), ('enwiki:Antibiotics/Medical%20uses/Administration', '1401f3c1867197c8c82b734fae4af1ba3859d0a6'), ('enwiki:Antibiotics/Medical%20uses/Administration', 'd9b2416819871e3dc32fe9ad030936f907b476cd'), ('enwiki:Antibiotics/Medical%20uses/Administration', 'daffced4b302322ff0d47104dc4ee7da65d8f766'), ('enwiki:Antibiotics/Medical%20uses/Administration', '4d798e829fbaf03ec7fac10fdde84198e05ce101'), ('enwiki:Antibiotics/Medical%20uses/Administration', '186503839a6b98ac55b8498b070b1c3406de182d'), ('enwiki:Antibiotics/Medical%20uses/Administration', '87a12ce9bd9ba3aba44360ce6cec05e6a82f5620'), ('enwiki:Antibiotics/Medical%20uses/Administration', '42ebc2e202f895fbaeacd5a465283303f0de2cb7'), ('enwiki:Antibiotics/Medical%20uses/Administration', '76b5a674a04009a109540546260aa353bb474d66'), ('enwiki:Antibiotics/Medical%20uses/Administration', '0169cb4ba497cdf3c7f744c33b60d0d0a32801bf'), ('enwiki:Antibiotics/Medical%20uses/Administration', '179e0c12ad7764381ea963283bc926c303ca07de'), ('enwiki:Antibiotics/Medical%20uses/Administration', '2ee0178e4d8c7704cf91499e9f523ca2f6a3f8d9'), ('enwiki:Antibiotics/Medical%20uses/Administration', 'b2f88a7f0261778d3d2f643aebbacc265e06fc4b'), ('enwiki:Antibiotics/Medical%20uses/Administration', '1b9b42c4fd3813847f8ffc8ea25f5c097d43a0fd'), ('enwiki:Antibiotics/Medical%20uses/Administration', '27b246b538c9dea986796beaeb014e5f524d5bf0'), ('enwiki:Antibiotics/Medical%20uses/Administration', '29bbb29e5d5bcf7967d3639f7e77591db400478f'), ('enwiki:Antibiotics/Medical%20uses/Administration', 'cbde2e1af41b7bcad8d56c04a4ce885c630ace5d'), ('enwiki:Antibiotics/Medical%20uses/Administration', 'c5d4f51dc17dbd03ac7b3454f4fbe484e03ff412'), ('enwiki:Antibiotics/Medical%20uses/Administration', '6432b535249e3b1857f7ef16e9865c95df39cc4b'), ('enwiki:Antibiotics/Medical%20uses/Administration', '43a170d6a7b2394d9809045d6e65b84aa71c0029'), ('enwiki:Antibiotics/Medical%20uses/Administration', '993e9dc85731937b5747d4396ca03d5a0975f8cc'), ('enwiki:Antibiotics/Medical%20uses/Administration', 'cc77d833db6966eb5262f9e4bfa211b81df6f804'), ('enwiki:Antibiotics/Medical%20uses/Administration', 'ed20e92a8dd75ae63b3c65a4292c35511cd5801c'), ('enwiki:Antibiotics/Medical%20uses/Administration', '5946bf49617971433f8b540e2ff0000e59877765'), ('enwiki:Antibiotics/Medical%20uses/Administration', '6274e763caec36852cff3cc9da88968fc68c24e6'), ('enwiki:Antibiotics/Medical%20uses/Administration', '43ee362fc57c8725af2b3d2c3fa4ab46a27773e2'), ('enwiki:Antibiotics/Medical%20uses/Administration', '247a4e957564bddf2472671f897c28f4c1162c53'), ('enwiki:Antibiotics/Medical%20uses/Administration', 'e7e1f07fc33b3a782571a4196f92312363d8e2da'), ('enwiki:Antibiotics/Pharmacodynamics', 'b1c36e5758d567410ee4c2a909115ab83706045c'), ('enwiki:Antibiotics/Pharmacodynamics', '88e6b006f216cd0c37818232c455a4f18bd287c8'), ('enwiki:Antibiotics/Pharmacodynamics', '7ea57fa8bf7f93f62cbba1cdb28432704bfa3207'), ('enwiki:Antibiotics/Pharmacodynamics', '07bdf4dacfed362dae5ecc60cc1beea51a1c7280'), ('enwiki:Antibiotics/Pharmacodynamics', '18da9ce446f577f1b6496b4f9a0fa9bf89e64c75'), ('enwiki:Antibiotics/Pharmacodynamics', '0f7034bac92a228b0d40e2ad50fa140a469d476b'), ('enwiki:Antibiotics/Pharmacodynamics', '3713d2ad3ffcee170fdb193b357b4c2673ee9ad7'), ('enwiki:Antibiotics/Pharmacodynamics', '5d3df0b5acfabbb22cc1c6692674eaace91b7548'), ('enwiki:Antibiotics/Pharmacodynamics', '9fab3f077449810deccc0b87062b8302346e8942'), ('enwiki:Antibiotics/Pharmacodynamics', 'afa15532e0608675ddee80b4721a6c3d7da2cb94'), ('enwiki:Antibiotics/Pharmacodynamics', 'b43c6af692525848e057893fa3656685df21ba25'), ('enwiki:Antibiotics/Pharmacodynamics', 'f0c03ffce108778f2e9e2033a3b0759d0ce7bdc4'), ('enwiki:Antibiotics/Pharmacodynamics', '232f55315d6a5c26ffc91083240e1a449d808a46'), ('enwiki:Antibiotics/Pharmacodynamics', '8eb46e3fe6e9260b2c88eb3076fb99122708508f'), ('enwiki:Antibiotics/Pharmacodynamics', '855e762bc03c885969441946935923fbd9237821'), ('enwiki:Antibiotics/Pharmacodynamics', 'edc624f6c22ed13953b4ad63e14ed16df5b63eff'), ('enwiki:Antibiotics/Pharmacodynamics', '3d1072c8efcbaeffcd9a4cb10e0a3a76a25d889a'), ('enwiki:Antibiotics/Pharmacodynamics', '8f4e75922aec3ff3b30b29f1c4e1ca8ca5a667c8'), ('enwiki:Antibiotics/Pharmacodynamics', '2cd19a548932bdce56570d8f9ebf3db9a4580d58'), ('enwiki:Antibiotics/Pharmacodynamics', 'e2ecc6096127c17fb31fc90b56a1bbdb65ed51ed'), ('enwiki:Antibiotics/Pharmacodynamics', 'e3ae21307b1ba0aab7848183c60af892f405e2ee'), ('enwiki:Antibiotics/Pharmacodynamics', '73e7e72ae422f96f34d7bb5d8ec38cf15cccaeb3'), ('enwiki:Antibiotics/Pharmacodynamics', 'baa2bab77bdeb466ce9a1966fc638fdbe25824e3'), ('enwiki:Antibiotics/Pharmacodynamics', '8d764a1f3c99ba79e819594cf7bbc068b82de524'), ('enwiki:Antibiotics/Pharmacodynamics', '9887fef5148ac26de93db1930f744dcff0246ffa'), ('enwiki:Antibiotics/Pharmacodynamics', '7ec65b5bd31eb12ec646ae85d650bf5e868f5429'), ('enwiki:Antibiotics/Pharmacodynamics', '375b32354b02293152c322216cdb5f658bfc1d10'), ('enwiki:Antibiotics/Pharmacodynamics', '6477218b58c23ae322fdb6190ebf5c33eccc96f8'), ('enwiki:Antibiotics/Pharmacodynamics', '4c99fd9b00e3b4f54c1a97226bd1e1e1e33a159a'), ('enwiki:Antibiotics/Pharmacodynamics', '9ef99ba093759948a49b44a186ddd60ca98931ad'), ('enwiki:Antibiotics/Pharmacodynamics', '45166f5fb8ebf8bf02de2a1193615a4d93af83ba'), ('enwiki:Antibiotics/Pharmacodynamics', '76dbb24b39fac12a7be9486164f45f9a12fc8993'), ('enwiki:Antibiotics/Pharmacodynamics', '2cfcbe2c507ca31605cb19f54c4ec39fda26c3ad'), ('enwiki:Antibiotics/Pharmacodynamics', '69b201e81a20311a060cbdb54acdfbdf79924269'), ('enwiki:Antibiotics/Pharmacodynamics', '32f795a3101d5015dd024648f8fc5f079784fdb8'), ('enwiki:Antibiotics/Pharmacodynamics', '709c5c147f845c5cfad89262bc5659512acafd3d'), ('enwiki:Antibiotics/Pharmacodynamics', '7a9c43eadc55ea0349313776beff6b0bc7824712'), ('enwiki:Antibiotics/Pharmacodynamics', 'dc7a917b4c72d2d1a5c7202de2a9c0f91ab88754'), ('enwiki:Antibiotics/Pharmacodynamics', '635a13060b1c03be8d5a6787b6fbe609aa5ed2af'), ('enwiki:Antibiotics/Pharmacodynamics', '4d2e3dcd4804221bbfc61a4ce9e790d99b53da2f'), ('enwiki:Antibiotics/Pharmacodynamics', 'b3f372e26af9c341cb4d743942a5ecfd87af3f9d'), ('enwiki:Antibiotics/Pharmacodynamics', '67d56b7b99f46249d198507023b1a2e907dbd91b'), ('enwiki:Antibiotics/Pharmacodynamics', 'c51ebab48b2489ad3ce1b14a6293817e3d993ec6'), ('enwiki:Antibiotics/Pharmacodynamics', '37b02c0396a6cde4e8823c1f634c612c7e9344ca'), ('enwiki:Antibiotics/Pharmacodynamics', '6eb50d7ed607064ea54642bc25c8ee0f2a93beac'), ('enwiki:Antibiotics/Pharmacodynamics', '7a4937f3a6c25a3df3167e0e59a13111d230d7a0'), ('enwiki:Antibiotics/Pharmacodynamics', '56a7f6a138b8527f221fb498132ca1df1dcbb82f'), ('enwiki:Antibiotics/Pharmacodynamics', 'a5b3b38459b2b3e8a39c48fc3c36e918ef07f15a'), ('enwiki:Antibiotics/Pharmacodynamics', 'b3bd0eeaa287aa08c4714b458ffeb67b8be4e0a9'), ('enwiki:Antibiotics/Pharmacodynamics', '096ffd3218e3fff9a727136a015052db5df62da5'), ('enwiki:Antibiotics/Pharmacodynamics', '320344b89324663a9baff06ebf25b0d9279b6a26'), ('enwiki:Antibiotics/Pharmacodynamics', '65037eafa6c27b575094f4f2d05ae2dd092ffdb9'), ('enwiki:Antibiotics/Pharmacodynamics', 'f51dc4f34fa5490220416a2ead3c25e92375f78b'), ('enwiki:Antibiotics/Pharmacodynamics', 'e1bfb00397f9ddb8c042ff79a977635b63e4ee0f'), ('enwiki:Antibiotics/Pharmacodynamics', '7cff7b13d892034d38d65b5c9e86e35e0c0d9ee0'), ('enwiki:Antibiotics/Pharmacodynamics', '28011d07adf4198fba531389cb8e60422ecf1873'), ('enwiki:Antibiotics/Pharmacodynamics', 'c7dcf6a59892d16c819505b40f319b6172445a70'), ('enwiki:Antibiotics/Pharmacodynamics', '0c5c57373aef9c046b2862bc2c4aa05c3d5d9cae'), ('enwiki:Antibiotics/Pharmacodynamics', '8e76c29f2cc971131f3317dd05f1c03ff07092dc'), ('enwiki:Antibiotics/Pharmacodynamics', 'a408f3512534439bb1baef90b7b3c3168f17f337'), ('enwiki:Antibiotics/Pharmacodynamics', 'df13468caabebb7fdb7299d9a92a4b0e4fae3a03'), ('enwiki:Antibiotics/Pharmacodynamics', '1229b8a5005d69bfa280d9498e3869048d73b4a6'), ('enwiki:Antibiotics/Pharmacodynamics', 'f974e825161e6bd16deab67237719d92738c7e93'), ('enwiki:Antibiotics/Pharmacodynamics', '03844df95cea72c68727c67c34af84177705b1d0'), ('enwiki:Antibiotics/Pharmacodynamics', '61b6803be804da89048b050cd1bb3b56777776a3'), ('enwiki:Antibiotics/Pharmacodynamics', '7754de655d6cd83b33910b1d445f7077fcddea6a'), ('enwiki:Antibiotics/Pharmacodynamics', 'c48e2acb4be22ec4e782600955e0ee32d242c1d9'), ('enwiki:Antibiotics/Pharmacodynamics', 'ba3d964f152e97af4d5ed72f5cc3ec650bb4d87c'), ('enwiki:Antibiotics/Pharmacodynamics', '6be8b6cbed0c3c28f28e12e717389eb3c4e04e76'), ('enwiki:Antibiotics/Pharmacodynamics', '1eb91f3f84d22e452ce4d8777a81acf37b013d91'), ('enwiki:Antibiotics/Pharmacodynamics', '81e056a8500278494210e1fd6a2af1bcb1e03dec'), ('enwiki:Antibiotics/Pharmacodynamics', 'b7284d2fe4a4117fdd752d8643a8fc0a0b61dcac'), ('enwiki:Antibiotics/Pharmacodynamics', '2b01aa2bdc0882d3e067c05a552fbd94a767c261'), ('enwiki:Antibiotics/Pharmacodynamics', '2b3f71b7eaa3f9400e273e7db32ae737d7937dc7'), ('enwiki:Antibiotics/Pharmacodynamics', '70bbdd6f4871c1100aa3b085e8f1939e51429f14'), ('enwiki:Antibiotics/Pharmacodynamics', '8469ac7d9b51be755c8615f97ccbcc7a8115ea7e'), ('enwiki:Antibiotics/Pharmacodynamics', 'b201aa55cbbc57f7db4ada0e8ffe5b77639151ad'), ('enwiki:Antibiotics/Pharmacodynamics', 'b7e7b3ab0a1625d59dff5c1d2c64c6ef2b200d50'), ('enwiki:Antibiotics/Pharmacodynamics', '3b578ec0312351200b9dac90f0fc93ab1d1e613a'), ('enwiki:Antibiotics/Pharmacodynamics', '9d55c872db8eca64a0aebd8c5429b15b7ba955e9'), ('enwiki:Antibiotics/Pharmacodynamics', '0dda17c4c07ba0cccef69ef3e6d87516fa23117c'), ('enwiki:Antibiotics/Pharmacodynamics', '6e593bec327c995cf37719d72dd47f7cae5b1c8c'), ('enwiki:Antibiotics/Pharmacodynamics', '8750a440eaecc88e2faeff44ea4eb202d72174d9'), ('enwiki:Antibiotics/Pharmacodynamics', '84a0a6c772c785b29b0b042b7838de9af52cb797'), ('enwiki:Antibiotics/Pharmacodynamics', '404fce7f53b2d595267e85d91990ec2207bd1abc'), ('enwiki:Antibiotics/Pharmacodynamics', '3efd95ffd842a42facec1ba1389073186e205dc7'), ('enwiki:Antibiotics/Pharmacodynamics', 'a30019d8913929eca288d9893542989c0e8b20b2'), ('enwiki:Antibiotics/Pharmacodynamics', 'c10ab4c7cbc0ed590a9f6f13748dc56a5897cfbd'), ('enwiki:Antibiotics/Pharmacodynamics', '447ad26709b53e18787d696503e78af4ea076dc9'), ('enwiki:Antibiotics/Pharmacodynamics', 'fc29a53d80750e9bda5514b14255de1488315502'), ('enwiki:Antibiotics/Pharmacodynamics', 'c50daeaea7a33a3abfa0bf9b498c03b82bd4ad5b'), ('enwiki:Antibiotics/Pharmacodynamics', 'f2f191976825fe2394bc9bf0d8866a74cd6782a6'), ('enwiki:Antibiotics/Pharmacodynamics', 'f4260404fe3b1116a3cb84163bacf141b0c6ec1d'), ('enwiki:Antibiotics/Pharmacodynamics', '50e54cbc32d54b7fa5aa8209537a732e98c30f7a'), ('enwiki:Antibiotics/Pharmacodynamics', 'b4c890d8c9336ebf6296aeeb75deefdfcb07c7bd'), ('enwiki:Antibiotics/Pharmacodynamics', 'b4eaba1349b9cb2573d9975b4865a72693b4e3ed'), ('enwiki:Antibiotics/Pharmacodynamics', 'aea245709ca9b4b39a360da899d6b0a20d65d6d9'), ('enwiki:Antibiotics/Pharmacodynamics', 'fd59aa520c43e69ea7abf7060abbe61a4bbf1ba9'), ('enwiki:Antibiotics/Pharmacodynamics', '11edd9f3aaf0bf6835da5df3373c3c1a37dbf046'), ('enwiki:Antibiotics/Pharmacodynamics', '243ca0142f6af74cee7990021d6adb6cb04b5ba4'), ('enwiki:Antibiotics/Pharmacodynamics/Combination%20therapy', '56a7f6a138b8527f221fb498132ca1df1dcbb82f'), ('enwiki:Antibiotics/Pharmacodynamics/Combination%20therapy', '67d56b7b99f46249d198507023b1a2e907dbd91b'), ('enwiki:Antibiotics/Pharmacodynamics/Combination%20therapy', 'b1c36e5758d567410ee4c2a909115ab83706045c'), ('enwiki:Antibiotics/Pharmacodynamics/Combination%20therapy', 'c593512f0d69118295fafd1fdbae90c340632852'), ('enwiki:Antibiotics/Pharmacodynamics/Combination%20therapy', 'f023c9fd533c448e662adf41a1d09ad5e50ec497'), ('enwiki:Antibiotics/Pharmacodynamics/Combination%20therapy', 'df6835c777e0e7bc5f095b52ea186d0a1fd4b63b'), ('enwiki:Antibiotics/Pharmacodynamics/Combination%20therapy', '4c3be855722361dc9abbd61315fc28dcb03ec6a5'), ('enwiki:Antibiotics/Pharmacodynamics/Combination%20therapy', 'aa511ef51cb2a38e8e02a070451326cafdcf2cb7'), ('enwiki:Antibiotics/Pharmacodynamics/Combination%20therapy', 'a4ea4127e2c0ef272163c5dea6341a5b48d631ad'), ('enwiki:Antibiotics/Pharmacodynamics/Combination%20therapy', 'dda3be6d3c4c0a625b87a89846ef532f3c10f39d'), ('enwiki:Antibiotics/Pharmacodynamics/Combination%20therapy', '5c9b14a47360bc5df45afbbe97d474c9751c1e9c'), ('enwiki:Antibiotics/Pharmacodynamics/Combination%20therapy', 'd3912549958bc953d87e80221afc05da5fac27de'), ('enwiki:Antibiotics/Pharmacodynamics/Combination%20therapy', '875ff1c4f5779325bf308c22e2b7477893bc9fab'), ('enwiki:Antibiotics/Pharmacodynamics/Combination%20therapy', '9fab3f077449810deccc0b87062b8302346e8942'), ('enwiki:Antibiotics/Pharmacodynamics/Combination%20therapy', '833fe70d730448c008ad832f0c8be12242c65c11'), ('enwiki:Antibiotics/Pharmacodynamics/Combination%20therapy', '0661f17c87262d9704a66d8f6ee9b0d6cc31503e'), ('enwiki:Antibiotics/Pharmacodynamics/Combination%20therapy', '4d5b93a8177f4c3f3549f791f8fd0f9fae2d2b4c'), ('enwiki:Antibiotics/Pharmacodynamics/Combination%20therapy', 'ea5b70ce2276f7c01732609fd7b81ce067b2c8af'), ('enwiki:Antibiotics/Pharmacodynamics/Combination%20therapy', '1127a964419454b4eeb76b852d3e24e088a4e49e'), ('enwiki:Antibiotics/Pharmacodynamics/Combination%20therapy', '828d25711bb60442c3153efce805f43ea573082f'), ('enwiki:Antibiotics/Pharmacodynamics/Combination%20therapy', '0729139810fe97662f0c88689154aefc1c1caae3'), ('enwiki:Antibiotics/Pharmacodynamics/Combination%20therapy', '57c364acdfe4d9ab75a76000bb16031493a074f5'), ('enwiki:Antibiotics/Pharmacodynamics/Combination%20therapy', '0f7034bac92a228b0d40e2ad50fa140a469d476b'), ('enwiki:Antibiotics/Pharmacodynamics/Combination%20therapy', '4091326ee89cce517df74efbbaab38f388ccee45'), ('enwiki:Antibiotics/Pharmacodynamics/Combination%20therapy', 'e6bfacf0b4783b714ac95cd27defe73464ec8ab8'), ('enwiki:Antibiotics/Pharmacodynamics/Combination%20therapy', '09bc5f3538033df74b93e809a742f9dd55ad551f'), ('enwiki:Antibiotics/Pharmacodynamics/Combination%20therapy', '9547a190205b4a8a247f545ac0afb8cf9eafc63e'), ('enwiki:Antibiotics/Pharmacodynamics/Combination%20therapy', 'b4c890d8c9336ebf6296aeeb75deefdfcb07c7bd'), ('enwiki:Antibiotics/Pharmacodynamics/Combination%20therapy', '3237ba3a065dd61115cdd937531fdc6287648b33'), ('enwiki:Antibiotics/Pharmacodynamics/Combination%20therapy', '3c306e8bab89f66b2cc065d2ad8a7cd74de30dd1'), ('enwiki:Antibiotics/Pharmacodynamics/Combination%20therapy', '88e6b006f216cd0c37818232c455a4f18bd287c8'), ('enwiki:Antibiotics/Pharmacodynamics/Combination%20therapy', '5e30d7d90dbf7c849ae36c51e17fa508529523be'), ('enwiki:Antibiotics/Pharmacodynamics/Combination%20therapy', '2fcd50046eeea5fe3d04cd10ca656fc12ba3fb9a'), ('enwiki:Antibiotics/Pharmacodynamics/Combination%20therapy', '52e8910ea0eafa43a58c3d9680cbde0d9d003674'), ('enwiki:Antibiotics/Pharmacodynamics/Combination%20therapy', '413832aabf112a1e5be0d526785076cafe424197'), ('enwiki:Antibiotics/Pharmacodynamics/Combination%20therapy', 'ad698e020cb4599522bf42e912ce3ac35acf333f'), ('enwiki:Antibiotics/Pharmacodynamics/Combination%20therapy', '110c1dc5bf4ff5582100ba2ffb0f8b86b2a35396'), ('enwiki:Antibiotics/Pharmacodynamics/Combination%20therapy', '4b767e94257af52f34081126994e2eee025ca2ae'), ('enwiki:Antibiotics/Pharmacodynamics/Combination%20therapy', '4d46a351993a55e7dffc00d9ec80b423a9db187b'), ('enwiki:Antibiotics/Pharmacodynamics/Combination%20therapy', '28c3645c68681c09dcafb9b4342dcce9d5669e77'), ('enwiki:Antibiotics/Pharmacodynamics/Combination%20therapy', '2b3f71b7eaa3f9400e273e7db32ae737d7937dc7'), ('enwiki:Antibiotics/Pharmacodynamics/Combination%20therapy', '7ec65b5bd31eb12ec646ae85d650bf5e868f5429'), ('enwiki:Antibiotics/Pharmacodynamics/Combination%20therapy', 'fa8cdf854e5ddbedcfe2ecbf11ea99450120c5ad'), ('enwiki:Antibiotics/Pharmacodynamics/Combination%20therapy', 'b29c06deb2e7a9e283ddb032e49084b1cbf19ddb'), ('enwiki:Antibiotics/Pharmacodynamics/Combination%20therapy', 'b49b63b13e8df05929647759ed1fd313fdfbe18f'), ('enwiki:Antibiotics/Pharmacodynamics/Combination%20therapy', 'c4e9524151762b50c5643848c915a92766b5e592'), ('enwiki:Antibiotics/Pharmacodynamics/Combination%20therapy', 'b2ccd2b2746d46c2957530702b9d858719a8bea2'), ('enwiki:Antibiotics/Pharmacodynamics/Combination%20therapy', 'fcffc32473b9a3b6e3b8622057d36937eb3eb089'), ('enwiki:Antibiotics/Pharmacodynamics/Combination%20therapy', '44e41e21159cdbdef62b23024e3b5f47382777e8'), ('enwiki:Antibiotics/Pharmacodynamics/Combination%20therapy', 'd33d1a07ab6570175c49e31839e2fd58de51bde1'), ('enwiki:Antibiotics/Pharmacodynamics/Combination%20therapy', '6de8f0c5810a372700d6363b1a1c8bb3645cdf8b'), ('enwiki:Antibiotics/Pharmacodynamics/Combination%20therapy', '5ae99be9b4e5019afc2b91850b0f8f180199b15e'), ('enwiki:Antibiotics/Pharmacodynamics/Combination%20therapy', '67eabbf7dfe65cfcc679bde4715d9ee61a177332'), ('enwiki:Antibiotics/Pharmacodynamics/Combination%20therapy', 'e3b81a3701659a70c05c568767f13d9943b8c252'), ('enwiki:Antibiotics/Pharmacodynamics/Combination%20therapy', '6a5db02e7208131b798a687e3d5835b2473003b8'), ('enwiki:Antibiotics/Pharmacodynamics/Combination%20therapy', '7f3d6b03abc2aedfbbbe393f0b4551433dd49e66'), ('enwiki:Antibiotics/Pharmacodynamics/Combination%20therapy', 'cd8959f3d106a0b392a2cd8613e7b11ace38fdeb'), ('enwiki:Antibiotics/Pharmacodynamics/Combination%20therapy', '2fabafea5291da0b58573a05c7bfc124c2795112'), ('enwiki:Antibiotics/Pharmacodynamics/Combination%20therapy', '8e76c29f2cc971131f3317dd05f1c03ff07092dc'), ('enwiki:Antibiotics/Pharmacodynamics/Combination%20therapy', '03b4062ddfddcf62ff0f7c4565f870ba68f38696'), ('enwiki:Antibiotics/Pharmacodynamics/Combination%20therapy', '78c2b664d7f4e63db98deffdff03a419ee97e7e1'), ('enwiki:Antibiotics/Pharmacodynamics/Combination%20therapy', '0c9db94d038352f9496885750f9b72f3c4e38184'), ('enwiki:Antibiotics/Pharmacodynamics/Combination%20therapy', '3f830aad1f941d16ff8a877ffb57e67d077b76ee'), ('enwiki:Antibiotics/Pharmacodynamics/Combination%20therapy', 'c48e2acb4be22ec4e782600955e0ee32d242c1d9'), ('enwiki:Antibiotics/Pharmacodynamics/Combination%20therapy', 'fbd08f53fdeab4b165d500502a77d9a66a305bec'), ('enwiki:Antibiotics/Pharmacodynamics/Combination%20therapy', 'b7284d2fe4a4117fdd752d8643a8fc0a0b61dcac'), ('enwiki:Antibiotics/Pharmacodynamics/Combination%20therapy', 'df13468caabebb7fdb7299d9a92a4b0e4fae3a03'), ('enwiki:Antibiotics/Pharmacodynamics/Combination%20therapy', 'a72845b8ff3541a3a9092d9b55905149a444eb8f'), ('enwiki:Antibiotics/Pharmacodynamics/Combination%20therapy', '86d2d02ccb70c0f8da8a83014aa32a69bd21a63b'), ('enwiki:Antibiotics/Pharmacodynamics/Combination%20therapy', '66e4e9929d7f0ef54d2ac31476d220ed34ebd9e9'), ('enwiki:Antibiotics/Pharmacodynamics/Combination%20therapy', 'ef2f042853c94e9e26eca7a2ff7417538c9cd533'), ('enwiki:Antibiotics/Pharmacodynamics/Combination%20therapy', '620001d6a8bcf51928bbe73b0ad8c9bfdf9f69e6'), ('enwiki:Antibiotics/Pharmacodynamics/Combination%20therapy', '40b2ff4772bfe6d1cf805bfbb0e15d70f9744f7b'), ('enwiki:Antibiotics/Pharmacodynamics/Combination%20therapy', '83baa41dc12725427cfc4ca4177abf7ecdb9d7a2'), ('enwiki:Antibiotics/Pharmacodynamics/Combination%20therapy', '8fec05866efa0e0777a453199ae95f2d84b328ae'), ('enwiki:Antibiotics/Pharmacodynamics/Combination%20therapy', '56a551ae4bb6b0b5be7f524189a08f2bdf7fe612'), ('enwiki:Antibiotics/Pharmacodynamics/Combination%20therapy', 'e7fb46367ea9db9dbc13dfb92128eca911fb908c'), ('enwiki:Antibiotics/Pharmacodynamics/Combination%20therapy', 'e629f5e30f3d7d1b01459e4b4e64c05ecd4e3d80'), ('enwiki:Antibiotics/Pharmacodynamics/Combination%20therapy', 'f46adaf61da82234ba8d9d3aeb88abf06afb4d09'), ('enwiki:Antibiotics/Pharmacodynamics/Combination%20therapy', '2de1657b3f5807de3dd4c49742661c2a4e966b6e'), ('enwiki:Antibiotics/Pharmacodynamics/Combination%20therapy', '096ffd3218e3fff9a727136a015052db5df62da5'), ('enwiki:Antibiotics/Pharmacodynamics/Combination%20therapy', '349592eca81d2027e4b2c037c3a7747220f17dcd'), ('enwiki:Antibiotics/Pharmacodynamics/Combination%20therapy', 'fedadbf887ad7a18f3d592fe756ed281f9492549'), ('enwiki:Antibiotics/Pharmacodynamics/Combination%20therapy', '6a4da32a459b0b2113def7e728f69bfeed841d34'), ('enwiki:Antibiotics/Pharmacodynamics/Combination%20therapy', 'aeb9c7b76c89da7c94f012aca57f1785326c6b3f'), ('enwiki:Antibiotics/Pharmacodynamics/Combination%20therapy', '76b20a6489cae0b0095a4bf7430ad165b0b48910'), ('enwiki:Antibiotics/Pharmacodynamics/Combination%20therapy', '0af42997a41f93d6279b151ec0e10152bdd1e05f'), ('enwiki:Antibiotics/Pharmacodynamics/Combination%20therapy', 'c7bd426727e5042cb5504c49edcd4bc78b5e54b5'), ('enwiki:Antibiotics/Pharmacodynamics/Combination%20therapy', 'dacd697158433be645b6a61ff8205b28a2585a18'), ('enwiki:Antibiotics/Pharmacodynamics/Combination%20therapy', 'ab1c6442501e73330d538280f27906027fbe7d3e'), ('enwiki:Antibiotics/Pharmacodynamics/Combination%20therapy', '4793cc4fd7265f2aa214215f939739ec9e3e0faf'), ('enwiki:Antibiotics/Pharmacodynamics/Combination%20therapy', '6a96747989f53810a5951a6c20c1681f99852d6a'), ('enwiki:Antibiotics/Pharmacodynamics/Combination%20therapy', '4b12c938ff822aa3c846d723cf9f4fc6fc3631b2'), ('enwiki:Antibiotics/Pharmacodynamics/Combination%20therapy', '4d798e829fbaf03ec7fac10fdde84198e05ce101'), ('enwiki:Antibiotics/Pharmacodynamics/Combination%20therapy', '97ffbd898a11807f814775e557451ea5a68fcca9'), ('enwiki:Antibiotics/Pharmacodynamics/Combination%20therapy', '0ff75f8323ad7aea6be6655e71d076809fc55d85'), ('enwiki:Antibiotics/Pharmacodynamics/Combination%20therapy', '518ea8579c78848e09852f3f19d2c82d682547c7'), ('enwiki:Antibiotics/Pharmacodynamics/Combination%20therapy', '4cd60bd94b6cfc7212f6d66f7cecfadddca8703e'), ('enwiki:Antibiotics/Pharmacodynamics/Combination%20therapy', '393fc303ef0daa23257df0a3b7fefac660240c78'), ('enwiki:Antibiotics/Pharmacodynamics/Combination%20therapy', '28097741cc92bf8d5219c5d66bb05913b3619dbf')]\n"
     ]
    }
   ],
   "source": [
    "%debug"
   ]
  },
  {
   "cell_type": "code",
   "execution_count": null,
   "metadata": {},
   "outputs": [],
   "source": []
  }
 ],
 "metadata": {
  "kernelspec": {
   "display_name": "Python 3",
   "language": "python",
   "name": "python3"
  },
  "language_info": {
   "codemirror_mode": {
    "name": "ipython",
    "version": 3
   },
   "file_extension": ".py",
   "mimetype": "text/x-python",
   "name": "python",
   "nbconvert_exporter": "python",
   "pygments_lexer": "ipython3",
   "version": "3.6.9"
  }
 },
 "nbformat": 4,
 "nbformat_minor": 4
}

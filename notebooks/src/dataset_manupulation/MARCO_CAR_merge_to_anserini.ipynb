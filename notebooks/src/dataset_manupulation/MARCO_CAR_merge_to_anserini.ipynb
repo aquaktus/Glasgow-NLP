{
 "cells": [
  {
   "cell_type": "markdown",
   "metadata": {},
   "source": [
    "# Creating a common index for MS MARCO and TREC CAR\n",
    "This index will be a common way to access documents for these two collections though search and direct ID lookup.\n",
    "\n",
    "## Creating a joint representation\n",
    "In order to merge both of these, we will use the trecweb format for anserini with this command:\n",
    "```bash\n",
    "sh path/to/anserini/target/appassembler/bin/IndexCollection -collection TrecwebCollection -input dir/to/trecweb/files \\\n",
    " -index name/of/index -generator DefaultLuceneDocumentGenerator -threads 9 \\\n",
    " -storePositions -storeDocvectors -storeRaw\n",
    "```\n",
    "\n",
    "## Casting CAR to trecweb\n",
    "CAR is originally in a `.cbor` file format, we will use trec_cast_tools by Jeff to read these and create the associated tsv with 25M+ lines."
   ]
  },
  {
   "cell_type": "code",
   "execution_count": 25,
   "metadata": {},
   "outputs": [
    {
     "name": "stdout",
     "output_type": "stream",
     "text": [
      "The autoreload extension is already loaded. To reload it, use:\n",
      "  %reload_ext autoreload\n",
      "The line_profiler extension is already loaded. To reload it, use:\n",
      "  %reload_ext line_profiler\n"
     ]
    }
   ],
   "source": [
    "!python3 ../../src/external_repos/trec-cast-tools/src/main/python/car_trecweb.py \\\n",
    "         ../TREC_CAR/paragraphCorpus/dedup.articles-paragraphs.cbor \\\n",
    "         ./ \\\n",
    "         --metadata_file TREC_CAR_meta_v5.tsv "
   ]
  },
  {
   "cell_type": "code",
   "execution_count": null,
   "metadata": {},
   "outputs": [],
   "source": []
  }
 ],
 "metadata": {
  "kernelspec": {
   "display_name": "Python 3",
   "language": "python",
   "name": "python3"
  },
  "language_info": {
   "codemirror_mode": {
    "name": "ipython",
    "version": 3
   },
   "file_extension": ".py",
   "mimetype": "text/x-python",
   "name": "python",
   "nbconvert_exporter": "python",
   "pygments_lexer": "ipython3",
   "version": "3.6.9"
  }
 },
 "nbformat": 4,
 "nbformat_minor": 4
}

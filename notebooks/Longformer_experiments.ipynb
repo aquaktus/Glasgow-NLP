{
 "cells": [
  {
   "cell_type": "code",
   "execution_count": 53,
   "metadata": {},
   "outputs": [
    {
     "name": "stdout",
     "output_type": "stream",
     "text": [
      "The autoreload extension is already loaded. To reload it, use:\n",
      "  %reload_ext autoreload\n",
      "The line_profiler extension is already loaded. To reload it, use:\n",
      "  %reload_ext line_profiler\n"
     ]
    }
   ],
   "source": [
    "import torch\n",
    "from src.dataset_loaders import MS_Marco_RawDataLoader\n",
    "from src.DataProcessors import Reranking_DataProcessor, Longformer_Reranking_DataProcessor\n",
    "%load_ext autoreload\n",
    "%autoreload 2\n",
    "%load_ext line_profiler"
   ]
  },
  {
   "cell_type": "code",
   "execution_count": 3,
   "metadata": {},
   "outputs": [
    {
     "data": {
      "application/vnd.jupyter.widget-view+json": {
       "model_id": "f97f1697c18540f4875f69b593060454",
       "version_major": 2,
       "version_minor": 0
      },
      "text/plain": [
       "HBox(children=(FloatProgress(value=1.0, bar_style='info', max=1.0), HTML(value='')))"
      ]
     },
     "metadata": {},
     "output_type": "display_data"
    },
    {
     "name": "stdout",
     "output_type": "stream",
     "text": [
      "\n"
     ]
    },
    {
     "data": {
      "application/vnd.jupyter.widget-view+json": {
       "model_id": "0a8e66824f1d4504ab7aaa4e89e8a978",
       "version_major": 2,
       "version_minor": 0
      },
      "text/plain": [
       "HBox(children=(FloatProgress(value=1.0, bar_style='info', max=1.0), HTML(value='')))"
      ]
     },
     "metadata": {},
     "output_type": "display_data"
    },
    {
     "name": "stdout",
     "output_type": "stream",
     "text": [
      "\n"
     ]
    },
    {
     "data": {
      "application/vnd.jupyter.widget-view+json": {
       "model_id": "8c3bc76b964f4870ad958ab75e4f30c8",
       "version_major": 2,
       "version_minor": 0
      },
      "text/plain": [
       "HBox(children=(FloatProgress(value=1.0, bar_style='info', max=1.0), HTML(value='')))"
      ]
     },
     "metadata": {},
     "output_type": "display_data"
    },
    {
     "name": "stdout",
     "output_type": "stream",
     "text": [
      "\n"
     ]
    },
    {
     "data": {
      "application/vnd.jupyter.widget-view+json": {
       "model_id": "f8e23922c0a540d6a832cc4443c9ee2f",
       "version_major": 2,
       "version_minor": 0
      },
      "text/plain": [
       "HBox(children=(FloatProgress(value=1.0, bar_style='info', max=1.0), HTML(value='')))"
      ]
     },
     "metadata": {},
     "output_type": "display_data"
    },
    {
     "name": "stdout",
     "output_type": "stream",
     "text": [
      "\n"
     ]
    }
   ],
   "source": [
    "raw_data_loader = MS_Marco_RawDataLoader()"
   ]
  },
  {
   "cell_type": "code",
   "execution_count": null,
   "metadata": {},
   "outputs": [],
   "source": [
    "raw_data_loader.collection[0]"
   ]
  },
  {
   "cell_type": "code",
   "execution_count": 61,
   "metadata": {},
   "outputs": [],
   "source": [
    "from transformers import LongformerConfig, LongformerModel, LongformerForSequenceClassification\n",
    "from transformers import LongformerTokenizer"
   ]
  },
  {
   "cell_type": "code",
   "execution_count": 62,
   "metadata": {},
   "outputs": [],
   "source": [
    "tokenizer = LongformerTokenizer.from_pretrained(\"allenai/longformer-base-4096\")"
   ]
  },
  {
   "cell_type": "code",
   "execution_count": 63,
   "metadata": {},
   "outputs": [
    {
     "name": "stderr",
     "output_type": "stream",
     "text": [
      "Some weights of the model checkpoint at allenai/longformer-base-4096 were not used when initializing LongformerForSequenceClassification: ['lm_head.bias', 'lm_head.dense.weight', 'lm_head.dense.bias', 'lm_head.layer_norm.weight', 'lm_head.layer_norm.bias', 'lm_head.decoder.weight']\n",
      "- This IS expected if you are initializing LongformerForSequenceClassification from the checkpoint of a model trained on another task or with another architecture (e.g. initializing a BertForSequenceClassification model from a BertForPretraining model).\n",
      "- This IS NOT expected if you are initializing LongformerForSequenceClassification from the checkpoint of a model that you expect to be exactly identical (initializing a BertForSequenceClassification model from a BertForSequenceClassification model).\n",
      "Some weights of LongformerForSequenceClassification were not initialized from the model checkpoint at allenai/longformer-base-4096 and are newly initialized: ['classifier.dense.weight', 'classifier.dense.bias', 'classifier.out_proj.weight', 'classifier.out_proj.bias']\n",
      "You should probably TRAIN this model on a down-stream task to be able to use it for predictions and inference.\n"
     ]
    }
   ],
   "source": [
    "model = LongformerForSequenceClassification.from_pretrained('allenai/longformer-base-4096').to(\"cuda\")"
   ]
  },
  {
   "cell_type": "code",
   "execution_count": 64,
   "metadata": {},
   "outputs": [
    {
     "data": {
      "text/plain": [
       "50265"
      ]
     },
     "execution_count": 64,
     "metadata": {},
     "output_type": "execute_result"
    }
   ],
   "source": [
    "tokenizer.vocab_size"
   ]
  },
  {
   "cell_type": "code",
   "execution_count": 72,
   "metadata": {},
   "outputs": [
    {
     "data": {
      "text/plain": [
       "tensor([[   0,  118, 4157,  127, 4758,    2]], device='cuda:0')"
      ]
     },
     "execution_count": 72,
     "metadata": {},
     "output_type": "execute_result"
    }
   ],
   "source": [
    "input_ids = tokenizer.encode('i my cat', return_tensors='pt').to(\"cuda\")\n",
    "input_ids"
   ]
  },
  {
   "cell_type": "code",
   "execution_count": 73,
   "metadata": {},
   "outputs": [],
   "source": [
    "outputs = model(input_ids)"
   ]
  },
  {
   "cell_type": "code",
   "execution_count": 74,
   "metadata": {},
   "outputs": [
    {
     "data": {
      "text/plain": [
       "(tensor([[ 0.0533, -0.1108]], device='cuda:0', grad_fn=<AddmmBackward>),)"
      ]
     },
     "execution_count": 74,
     "metadata": {},
     "output_type": "execute_result"
    }
   ],
   "source": [
    "outputs"
   ]
  },
  {
   "cell_type": "code",
   "execution_count": 1,
   "metadata": {},
   "outputs": [],
   "source": [
    "from trec_car import read_data\n",
    "import tqdm"
   ]
  },
  {
   "cell_type": "code",
   "execution_count": null,
   "metadata": {},
   "outputs": [
    {
     "name": "stderr",
     "output_type": "stream",
     "text": [
      "25207848it [17:05, 23937.69it/s]"
     ]
    }
   ],
   "source": [
    "collection = {}\n",
    "for page in tqdm.tqdm(read_data.iter_paragraphs(open('datasets/TREC_CAR/paragraphCorpus/dedup.articles-paragraphs.cbor', 'rb'))):\n",
    "#     print(page.get_text())\n",
    "#     print()\n",
    "#     print(page.para_id)\n",
    "    collection[page.para_id] = page.get_text()\n",
    "#     break"
   ]
  },
  {
   "cell_type": "code",
   "execution_count": 47,
   "metadata": {},
   "outputs": [],
   "source": [
    "d_col = {1:\"foo\", 2:\"bar\", 3:\"baz\"}\n",
    "q_col = {\"q1\":\"qux\", \"q2\":\"ren\"}\n",
    "q_rels = {\"q1\":[1,3], \"q2\":[2]}\n",
    "\n",
    "data_processor = Longformer_Reranking_DataProcessor(d_col, q_col, q_rels)"
   ]
  },
  {
   "cell_type": "code",
   "execution_count": 48,
   "metadata": {},
   "outputs": [],
   "source": [
    "dataloader = data_processor.to_dataloader(2)"
   ]
  },
  {
   "cell_type": "code",
   "execution_count": 51,
   "metadata": {},
   "outputs": [
    {
     "name": "stdout",
     "output_type": "stream",
     "text": [
      "[{'input': [0, 2253, 1178, 646, 3388, 510, 742, 741, 1222, 2], 'label': [1]}, {'input': [0, 2558, 646, 3388, 510, 742, 48769, 2], 'label': [0]}]\n",
      "{'input': tensor([[    0,     0],\n",
      "        [ 2253,  2558],\n",
      "        [ 1178,   646],\n",
      "        [  646,  3388],\n",
      "        [ 3388,   510],\n",
      "        [  510,   742],\n",
      "        [  742, 48769],\n",
      "        [  741,     2],\n",
      "        [ 1222,     1],\n",
      "        [    2,     1]]), 'label': tensor([1, 0])}\n",
      "['<s>qux [SEP] baz</s>', '<s>ren [SEP] foo</s><pad><pad>']\n"
     ]
    }
   ],
   "source": [
    "for batch in dataloader:\n",
    "    print(batch)\n",
    "    print(data_processor.decode_tensor(batch[\"input\"]))"
   ]
  },
  {
   "cell_type": "code",
   "execution_count": 8,
   "metadata": {},
   "outputs": [],
   "source": [
    "from pyserini.search import SimpleSearcher\n",
    "\n",
    "searcher = SimpleSearcher('datasets/TREC_CAsT/CAsT_collection.index/')\n",
    "searcher.set_bm25(0.9, 0.4)\n",
    "searcher.set_rm3(10, 10, 0.5)"
   ]
  },
  {
   "cell_type": "code",
   "execution_count": 10,
   "metadata": {},
   "outputs": [
    {
     "name": "stdout",
     "output_type": "stream",
     "text": [
      " 1 MARCO_5161598   5.32090\n",
      " 2 CAR_c9e8fce9db12bb3731161692c967eacaea9182d7 5.29080\n",
      " 3 CAR_86967771c50dbc68811c4cf4ae2e5585dd73273d 5.25520\n",
      " 4 MARCO_1245535   5.21250\n",
      " 5 MARCO_2850821   5.20190\n",
      " 6 MARCO_7459250   5.18180\n",
      " 7 MARCO_5161594   5.12080\n",
      " 8 MARCO_6293823   4.98080\n",
      " 9 MARCO_5161592   4.97270\n",
      "10 MARCO_5161596   4.96330\n"
     ]
    }
   ],
   "source": [
    "hits = searcher.search('hubble space telescope')\n",
    "\n",
    "# Print the first 10 hits:\n",
    "for i in range(0, 10):\n",
    "    print(f'{i+1:2} {hits[i].docid:15} {hits[i].score:.5f}')"
   ]
  },
  {
   "cell_type": "code",
   "execution_count": 11,
   "metadata": {},
   "outputs": [
    {
     "name": "stdout",
     "output_type": "stream",
     "text": [
      "<HTML>\n",
      "<BODY>\n",
      "The Hubble Space Telescope (HST) is a space telescope that was launched into low Earth orbit in 1990, and remains in operation.With a 2.4-meter (7.9 ft) mirror, Hubble's four main instruments observe in the near ultraviolet, visible, and near infrared spectra.he Hubble Space Telescope (HST) is a space telescope that was launched into low Earth orbit in 1990, and remains in operation.\n",
      "</BODY>\n",
      "</HTML>\n"
     ]
    }
   ],
   "source": [
    "print(searcher.doc('MARCO_5161598').raw())"
   ]
  },
  {
   "cell_type": "code",
   "execution_count": null,
   "metadata": {},
   "outputs": [],
   "source": []
  }
 ],
 "metadata": {
  "kernelspec": {
   "display_name": "Python 3",
   "language": "python",
   "name": "python3"
  },
  "language_info": {
   "codemirror_mode": {
    "name": "ipython",
    "version": 3
   },
   "file_extension": ".py",
   "mimetype": "text/x-python",
   "name": "python",
   "nbconvert_exporter": "python",
   "pygments_lexer": "ipython3",
   "version": "3.6.9"
  }
 },
 "nbformat": 4,
 "nbformat_minor": 4
}
